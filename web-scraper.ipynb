{
 "cells": [
  {
   "cell_type": "markdown",
   "metadata": {},
   "source": [
    "# Web-scraping for Video Game Prices"
   ]
  },
  {
   "cell_type": "code",
   "execution_count": 181,
   "metadata": {},
   "outputs": [],
   "source": [
    "# Dependancies\n",
    "import pandas as pd\n",
    "import lxml.html as lh\n",
    "from bs4 import BeautifulSoup as bs\n",
    "import requests"
   ]
  },
  {
   "cell_type": "code",
   "execution_count": 182,
   "metadata": {
    "scrolled": false
   },
   "outputs": [],
   "source": [
    "# URLs to scrape\n",
    "# prices_url = \"https://gamevaluenow.com/atari-2600\"\n",
    "# prices_url = \"https://gamevaluenow.com/nintendo-nes\"\n",
    "# prices_url = \"https://gamevaluenow.com/sega-genesis\"\n",
    "# prices_url = \"https://gamevaluenow.com/super-nintendo\"\n",
    "# prices_url = \"https://gamevaluenow.com/nintendo-64\"\n",
    "# prices_url = \"https://gamevaluenow.com/sega-cd\"\n",
    "# prices_url = \"https://gamevaluenow.com/sega-saturn\"\n",
    "prices_url = \"https://gamevaluenow.com/playstation-1-ps1\""
   ]
  },
  {
   "cell_type": "code",
   "execution_count": 183,
   "metadata": {},
   "outputs": [
    {
     "data": {
      "text/plain": [
       "bs4.BeautifulSoup"
      ]
     },
     "execution_count": 183,
     "metadata": {},
     "output_type": "execute_result"
    }
   ],
   "source": [
    "# Retrieve page with the requests module\n",
    "response = requests.get(prices_url)\n",
    "\n",
    "# Create a Beautiful Soup object\n",
    "soup = bs(response.text, 'html.parser')\n",
    "type(soup)"
   ]
  },
  {
   "cell_type": "code",
   "execution_count": 184,
   "metadata": {
    "scrolled": true
   },
   "outputs": [],
   "source": [
    "#Thanks to https://www.pluralsight.com/guides/extracting-data-html-beautifulsoup for some table extraction tips\n",
    "prices_table = soup.find(\"table\")\n",
    "prices_data = prices_table.find_all(\"tr\")\n",
    "\n",
    "all_prices = []\n",
    "\n",
    "#Put the all the NES prices data in a list\n",
    "for item in range(len(prices_data)):\n",
    "    for td in prices_data[item].find_all(\"td\"):\n",
    "        #Remove all the markup from the text\n",
    "        all_prices.append(td.text.strip())"
   ]
  },
  {
   "cell_type": "code",
   "execution_count": 185,
   "metadata": {},
   "outputs": [],
   "source": [
    "#Split the list with help from stackoverflow.com\n",
    "#Make a list of the item names from every fourth index eg 0,4,8 etc\n",
    "game_title = all_prices[::4] \n",
    "\n",
    "#Make a list of the prices in the other indicies eg 1,2,3; 5,6,7 etc\n",
    "price_loose = all_prices[1::4]\n",
    "price_complete = all_prices[2::4]\n",
    "price_new = all_prices[3::4]"
   ]
  },
  {
   "cell_type": "code",
   "execution_count": 186,
   "metadata": {
    "scrolled": true
   },
   "outputs": [],
   "source": [
    "# game_prices = {'Atari 2600 Game Title': game_title,'Atari 2600 Game Price':price_complete}\n",
    "# game_prices = {'Nintendo NES Game Title': game_title,'Nintendo NES Game Price':price_complete}\n",
    "# game_prices = {'Sega Genesis Game Title': game_title,'Sega Genesis Game Price':price_complete}\n",
    "# game_prices = {'Super Nintendo Game Title': game_title,'Super Nintendo Game Price':price_complete}\n",
    "# game_prices = {'Nintendo 64 Game Title': game_title,'Nintendo 64 Game Price':price_complete}\n",
    "# game_prices = {'Sega CD Game Title': game_title,'Sega CD Game Price':price_complete}\n",
    "# game_prices = {'Sega Saturn Game Title': game_title,'Sega Saturn Price':price_complete}\n",
    "game_prices = {'PS1 Game Title': game_title,'PS1 Game Price':price_complete}"
   ]
  },
  {
   "cell_type": "code",
   "execution_count": 187,
   "metadata": {
    "scrolled": false
   },
   "outputs": [],
   "source": [
    "game_prices_df = pd.DataFrame(game_prices)"
   ]
  },
  {
   "cell_type": "code",
   "execution_count": 188,
   "metadata": {},
   "outputs": [],
   "source": [
    "# game_prices_df = game_prices_df.set_index(\"Atari 2600 Game Title\")\n",
    "# game_prices_df = game_prices_df.set_index(\"Nintendo NES Game Title\")\n",
    "# game_prices_df = game_prices_df.set_index(\"Sega Genesis Game Title\")\n",
    "# game_prices_df = game_prices_df.set_index(\"Super Nintendo Game Title\")\n",
    "# game_prices_df = game_prices_df.set_index(\"Nintendo 64 Game Title\")\n",
    "# game_prices_df = game_prices_df.set_index(\"Sega CD Game Title\")\n",
    "# game_prices_df = game_prices_df.set_index(\"Sega Saturn Game Title\")\n",
    "game_prices_df = game_prices_df.set_index(\"PS1 Game Title\")"
   ]
  },
  {
   "cell_type": "code",
   "execution_count": 189,
   "metadata": {
    "scrolled": true
   },
   "outputs": [
    {
     "data": {
      "text/html": [
       "<div>\n",
       "<style scoped>\n",
       "    .dataframe tbody tr th:only-of-type {\n",
       "        vertical-align: middle;\n",
       "    }\n",
       "\n",
       "    .dataframe tbody tr th {\n",
       "        vertical-align: top;\n",
       "    }\n",
       "\n",
       "    .dataframe thead th {\n",
       "        text-align: right;\n",
       "    }\n",
       "</style>\n",
       "<table border=\"1\" class=\"dataframe\">\n",
       "  <thead>\n",
       "    <tr style=\"text-align: right;\">\n",
       "      <th></th>\n",
       "      <th>PS1 Game Price</th>\n",
       "    </tr>\n",
       "    <tr>\n",
       "      <th>PS1 Game Title</th>\n",
       "      <th></th>\n",
       "    </tr>\n",
       "  </thead>\n",
       "  <tbody>\n",
       "    <tr>\n",
       "      <th>007 Racing</th>\n",
       "      <td>7.15</td>\n",
       "    </tr>\n",
       "    <tr>\n",
       "      <th>007 Racing [Collector's Edition]</th>\n",
       "      <td>2.86</td>\n",
       "    </tr>\n",
       "    <tr>\n",
       "      <th>007: The World Is Not Enough</th>\n",
       "      <td>11.09</td>\n",
       "    </tr>\n",
       "    <tr>\n",
       "      <th>007: The World Is Not Enough [Greatest Hits]</th>\n",
       "      <td>6.68</td>\n",
       "    </tr>\n",
       "    <tr>\n",
       "      <th>007: Tomorrow Never Dies</th>\n",
       "      <td>10.29</td>\n",
       "    </tr>\n",
       "    <tr>\n",
       "      <th>...</th>\n",
       "      <td>...</td>\n",
       "    </tr>\n",
       "    <tr>\n",
       "      <th>You Don't Know Jack: Mock 2</th>\n",
       "      <td>5.24</td>\n",
       "    </tr>\n",
       "    <tr>\n",
       "      <th>Yu-Gi-Oh! Forbidden Memories</th>\n",
       "      <td>16.58</td>\n",
       "    </tr>\n",
       "    <tr>\n",
       "      <th>Zero Divide</th>\n",
       "      <td>24.64</td>\n",
       "    </tr>\n",
       "    <tr>\n",
       "      <th>Zoboomafoo</th>\n",
       "      <td>3.71</td>\n",
       "    </tr>\n",
       "    <tr>\n",
       "      <th>Zoop</th>\n",
       "      <td>18.80</td>\n",
       "    </tr>\n",
       "  </tbody>\n",
       "</table>\n",
       "<p>1557 rows × 1 columns</p>\n",
       "</div>"
      ],
      "text/plain": [
       "                                             PS1 Game Price\n",
       "PS1 Game Title                                             \n",
       "007 Racing                                             7.15\n",
       "007 Racing [Collector's Edition]                       2.86\n",
       "007: The World Is Not Enough                          11.09\n",
       "007: The World Is Not Enough [Greatest Hits]           6.68\n",
       "007: Tomorrow Never Dies                              10.29\n",
       "...                                                     ...\n",
       "You Don't Know Jack: Mock 2                            5.24\n",
       "Yu-Gi-Oh! Forbidden Memories                          16.58\n",
       "Zero Divide                                           24.64\n",
       "Zoboomafoo                                             3.71\n",
       "Zoop                                                  18.80\n",
       "\n",
       "[1557 rows x 1 columns]"
      ]
     },
     "execution_count": 189,
     "metadata": {},
     "output_type": "execute_result"
    }
   ],
   "source": [
    "game_prices_df"
   ]
  },
  {
   "cell_type": "code",
   "execution_count": 190,
   "metadata": {},
   "outputs": [],
   "source": [
    "# game_prices_df.to_csv(\"data/atari-2600.csv\")\n",
    "# game_prices_df.to_csv(\"data/nintendo-nes.csv\")\n",
    "# game_prices_df.to_csv(\"data/sega-genesis.csv\")\n",
    "# game_prices_df.to_csv(\"data/super-nintendo.csv\")\n",
    "# game_prices_df.to_csv(\"data/nintendo-64.csv\")\n",
    "# game_prices_df.to_csv(\"data/sega-cd.csv\")\n",
    "# game_prices_df.to_csv(\"data/sega-saturn.csv\")\n",
    "game_prices_df.to_csv(\"data/playstation-1-ps1.csv\")"
   ]
  },
  {
   "cell_type": "code",
   "execution_count": null,
   "metadata": {},
   "outputs": [],
   "source": []
  }
 ],
 "metadata": {
  "kernelspec": {
   "display_name": "Python 3",
   "language": "python",
   "name": "python3"
  },
  "language_info": {
   "codemirror_mode": {
    "name": "ipython",
    "version": 3
   },
   "file_extension": ".py",
   "mimetype": "text/x-python",
   "name": "python",
   "nbconvert_exporter": "python",
   "pygments_lexer": "ipython3",
   "version": "3.7.6"
  }
 },
 "nbformat": 4,
 "nbformat_minor": 4
}
