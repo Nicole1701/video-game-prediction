{
 "cells": [
  {
   "cell_type": "markdown",
   "metadata": {},
   "source": [
    "# Web-scraping for Video Game Prices"
   ]
  },
  {
   "cell_type": "code",
   "execution_count": null,
   "metadata": {},
   "outputs": [],
   "source": [
    "# Dependancies\n",
    "import pandas as pd\n",
    "import lxml.html as lh\n",
    "from bs4 import BeautifulSoup as bs\n",
    "import requests"
   ]
  },
  {
   "cell_type": "code",
   "execution_count": null,
   "metadata": {
    "scrolled": false
   },
   "outputs": [],
   "source": [
    "# URLs to scrape\n",
    "base_url = \"https://gamevaluenow.com/\"\n",
    "console = [\"atari-2600\",\n",
    "            \"nintendo-nes\",\n",
    "            \"sega-genesis\",\n",
    "            \"super-nintendo\",\n",
    "            \"nintendo-64\",\n",
    "            \"sega-cd\",\n",
    "            \"sega-saturn\",\n",
    "            \"playstation-1-ps1\"]\n",
    "console_col = [\"2600\",\n",
    "                \"NES\",\n",
    "                \"GEN\",\n",
    "                \"SNES\",\n",
    "                \"N64\",\n",
    "                \"SCD\",\n",
    "                \"SAT\",\n",
    "                \"PS\"]"
   ]
  },
  {
   "cell_type": "code",
   "execution_count": 168,
   "metadata": {
    "scrolled": true
   },
   "outputs": [],
   "source": [
    "# Put the all the console complete prices data in a list\n",
    "complete_list = []\n",
    "\n",
    "for name in range(len(console)):\n",
    "    all_prices = []\n",
    "    \n",
    "    # Retrieve page with the requests module\n",
    "    response = requests.get(base_url + console[name])\n",
    "    # Create a Beautiful Soup object\n",
    "    soup = bs(response.text, 'html.parser')\n",
    "    \n",
    "    prices_table = soup.find(\"table\")\n",
    "    prices_data = prices_table.find_all(\"tr\")\n",
    "    \n",
    "    # Get all the price data\n",
    "    for item in range(len(prices_data)):\n",
    "        for td in prices_data[item].find_all(\"td\"):\n",
    "            # Remove all the markup from the text\n",
    "            all_prices.append(td.text.strip())\n",
    "        \n",
    "        all_prices.append(console_col[name])\n",
    "        # Make a list of the item names from every fifth index eg 1,6,10 et\n",
    "        game_title = all_prices[1::5]             \n",
    "        # Make a list of the complete price from starting at the fourth index\n",
    "        price_complete = all_prices[3::5]\n",
    "        # Make a list of the console types from every fifth index eg 0,5,9 etc\n",
    "        console_name = all_prices[5::5] \n",
    "        # Make the lists in to a datframe\n",
    "        game_prices_df = pd.DataFrame({'Game Title' : game_title, 'Console' : console_name, 'Price' : price_complete})\n",
    "    \n",
    "    # Create a list of data frames\n",
    "    complete_list.append(game_prices_df)"
   ]
  },
  {
   "cell_type": "code",
   "execution_count": 172,
   "metadata": {
    "scrolled": false
   },
   "outputs": [
    {
     "data": {
      "text/html": [
       "<div>\n",
       "<style scoped>\n",
       "    .dataframe tbody tr th:only-of-type {\n",
       "        vertical-align: middle;\n",
       "    }\n",
       "\n",
       "    .dataframe tbody tr th {\n",
       "        vertical-align: top;\n",
       "    }\n",
       "\n",
       "    .dataframe thead th {\n",
       "        text-align: right;\n",
       "    }\n",
       "</style>\n",
       "<table border=\"1\" class=\"dataframe\">\n",
       "  <thead>\n",
       "    <tr style=\"text-align: right;\">\n",
       "      <th></th>\n",
       "      <th>Game Title</th>\n",
       "      <th>Console</th>\n",
       "      <th>Price</th>\n",
       "    </tr>\n",
       "  </thead>\n",
       "  <tbody>\n",
       "    <tr>\n",
       "      <th>0</th>\n",
       "      <td>3-D Tic-Tac-Toe [Atari]</td>\n",
       "      <td>2600</td>\n",
       "      <td>23.31</td>\n",
       "    </tr>\n",
       "    <tr>\n",
       "      <th>1</th>\n",
       "      <td>3-D Tic-Tac-Toe [Sears]</td>\n",
       "      <td>2600</td>\n",
       "      <td>83.88</td>\n",
       "    </tr>\n",
       "    <tr>\n",
       "      <th>2</th>\n",
       "      <td>The Activision Decathlon</td>\n",
       "      <td>2600</td>\n",
       "      <td>23.94</td>\n",
       "    </tr>\n",
       "    <tr>\n",
       "      <th>3</th>\n",
       "      <td>Adventure [Atari]</td>\n",
       "      <td>2600</td>\n",
       "      <td>79.72</td>\n",
       "    </tr>\n",
       "    <tr>\n",
       "      <th>4</th>\n",
       "      <td>Adventure [Sears]</td>\n",
       "      <td>2600</td>\n",
       "      <td>111.35</td>\n",
       "    </tr>\n",
       "    <tr>\n",
       "      <th>...</th>\n",
       "      <td>...</td>\n",
       "      <td>...</td>\n",
       "      <td>...</td>\n",
       "    </tr>\n",
       "    <tr>\n",
       "      <th>5406</th>\n",
       "      <td>You Don't Know Jack: Mock 2</td>\n",
       "      <td>PS</td>\n",
       "      <td>5.24</td>\n",
       "    </tr>\n",
       "    <tr>\n",
       "      <th>5407</th>\n",
       "      <td>Yu-Gi-Oh! Forbidden Memories</td>\n",
       "      <td>PS</td>\n",
       "      <td>16.52</td>\n",
       "    </tr>\n",
       "    <tr>\n",
       "      <th>5408</th>\n",
       "      <td>Zero Divide</td>\n",
       "      <td>PS</td>\n",
       "      <td>24.64</td>\n",
       "    </tr>\n",
       "    <tr>\n",
       "      <th>5409</th>\n",
       "      <td>Zoboomafoo</td>\n",
       "      <td>PS</td>\n",
       "      <td>3.71</td>\n",
       "    </tr>\n",
       "    <tr>\n",
       "      <th>5410</th>\n",
       "      <td>Zoop</td>\n",
       "      <td>PS</td>\n",
       "      <td>18.80</td>\n",
       "    </tr>\n",
       "  </tbody>\n",
       "</table>\n",
       "<p>5411 rows × 3 columns</p>\n",
       "</div>"
      ],
      "text/plain": [
       "                        Game Title Console   Price\n",
       "0          3-D Tic-Tac-Toe [Atari]    2600   23.31\n",
       "1          3-D Tic-Tac-Toe [Sears]    2600   83.88\n",
       "2         The Activision Decathlon    2600   23.94\n",
       "3                Adventure [Atari]    2600   79.72\n",
       "4                Adventure [Sears]    2600  111.35\n",
       "...                            ...     ...     ...\n",
       "5406   You Don't Know Jack: Mock 2      PS    5.24\n",
       "5407  Yu-Gi-Oh! Forbidden Memories      PS   16.52\n",
       "5408                   Zero Divide      PS   24.64\n",
       "5409                    Zoboomafoo      PS    3.71\n",
       "5410                          Zoop      PS   18.80\n",
       "\n",
       "[5411 rows x 3 columns]"
      ]
     },
     "execution_count": 172,
     "metadata": {},
     "output_type": "execute_result"
    }
   ],
   "source": [
    "# Concatinate the list of data frames in to one\n",
    "game_price_list = pd.concat(complete_list)\n",
    "game_price_list.reset_index(drop=True)"
   ]
  },
  {
   "cell_type": "code",
   "execution_count": 173,
   "metadata": {},
   "outputs": [],
   "source": [
    "game_price_list.to_csv(\"data/all_console_prices.csv\")"
   ]
  },
  {
   "cell_type": "markdown",
   "metadata": {},
   "source": [
    "### Use Excel to remove the comma for price values over 1k and bring back in CSV"
   ]
  },
  {
   "cell_type": "code",
   "execution_count": 164,
   "metadata": {},
   "outputs": [],
   "source": [
    "rem_price_commas = pd.read_csv(\"data/all_console_prices.csv\")"
   ]
  },
  {
   "cell_type": "code",
   "execution_count": 165,
   "metadata": {},
   "outputs": [],
   "source": [
    "rem_price_commas[\"Price\"] = rem_price_commas[\"Price\"].astype(float)"
   ]
  },
  {
   "cell_type": "code",
   "execution_count": 166,
   "metadata": {
    "scrolled": false
   },
   "outputs": [
    {
     "data": {
      "text/plain": [
       "Unnamed: 0        int64\n",
       "Unnamed: 0.1      int64\n",
       "Console          object\n",
       "Game Title       object\n",
       "Price           float64\n",
       "dtype: object"
      ]
     },
     "execution_count": 166,
     "metadata": {},
     "output_type": "execute_result"
    }
   ],
   "source": [
    "rem_price_commas.dtypes"
   ]
  },
  {
   "cell_type": "code",
   "execution_count": 167,
   "metadata": {},
   "outputs": [],
   "source": [
    "rem_price_commas.to_csv(\"data/all_console_prices.csv\")"
   ]
  },
  {
   "cell_type": "code",
   "execution_count": null,
   "metadata": {},
   "outputs": [],
   "source": []
  }
 ],
 "metadata": {
  "kernelspec": {
   "display_name": "Python 3",
   "language": "python",
   "name": "python3"
  },
  "language_info": {
   "codemirror_mode": {
    "name": "ipython",
    "version": 3
   },
   "file_extension": ".py",
   "mimetype": "text/x-python",
   "name": "python",
   "nbconvert_exporter": "python",
   "pygments_lexer": "ipython3",
   "version": "3.7.6"
  }
 },
 "nbformat": 4,
 "nbformat_minor": 4
}
