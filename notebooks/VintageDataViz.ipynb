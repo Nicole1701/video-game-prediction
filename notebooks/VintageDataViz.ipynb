{
 "cells": [
  {
   "cell_type": "code",
   "execution_count": 1,
   "metadata": {},
   "outputs": [],
   "source": [
    "# import dependancies\n",
    "import pandas as pd\n",
    "import matplotlib.pyplot as plt\n",
    "import numpy as np\n",
    "%matplotlib inline\n",
    "import plotly.express as px\n",
    "import plotly.graph_objects as go"
   ]
  },
  {
   "cell_type": "code",
   "execution_count": 2,
   "metadata": {},
   "outputs": [
    {
     "data": {
      "text/html": [
       "<div>\n",
       "<style scoped>\n",
       "    .dataframe tbody tr th:only-of-type {\n",
       "        vertical-align: middle;\n",
       "    }\n",
       "\n",
       "    .dataframe tbody tr th {\n",
       "        vertical-align: top;\n",
       "    }\n",
       "\n",
       "    .dataframe thead th {\n",
       "        text-align: right;\n",
       "    }\n",
       "</style>\n",
       "<table border=\"1\" class=\"dataframe\">\n",
       "  <thead>\n",
       "    <tr style=\"text-align: right;\">\n",
       "      <th></th>\n",
       "      <th>Name</th>\n",
       "      <th>Platform</th>\n",
       "      <th>Year</th>\n",
       "      <th>Genre</th>\n",
       "      <th>Publisher</th>\n",
       "      <th>NA_Sales</th>\n",
       "      <th>EU_Sales</th>\n",
       "      <th>JP_Sales</th>\n",
       "      <th>Other_Sales</th>\n",
       "      <th>Global_Sales</th>\n",
       "      <th>Console</th>\n",
       "      <th>Game Title</th>\n",
       "      <th>Price</th>\n",
       "      <th>Mean</th>\n",
       "      <th>Median</th>\n",
       "    </tr>\n",
       "  </thead>\n",
       "  <tbody>\n",
       "    <tr>\n",
       "      <th>0</th>\n",
       "      <td>ADVENTURES OF TRON</td>\n",
       "      <td>2600</td>\n",
       "      <td>1981</td>\n",
       "      <td>Action</td>\n",
       "      <td>Mattel Interactive</td>\n",
       "      <td>630000.0</td>\n",
       "      <td>30000.0</td>\n",
       "      <td>NaN</td>\n",
       "      <td>10000.0</td>\n",
       "      <td>670000</td>\n",
       "      <td>2600</td>\n",
       "      <td>ADVENTURES OF TRON</td>\n",
       "      <td>16.10</td>\n",
       "      <td>False</td>\n",
       "      <td>False</td>\n",
       "    </tr>\n",
       "    <tr>\n",
       "      <th>1</th>\n",
       "      <td>AIRLOCK</td>\n",
       "      <td>2600</td>\n",
       "      <td>1981</td>\n",
       "      <td>Action</td>\n",
       "      <td>Data Age</td>\n",
       "      <td>360000.0</td>\n",
       "      <td>20000.0</td>\n",
       "      <td>NaN</td>\n",
       "      <td>NaN</td>\n",
       "      <td>390000</td>\n",
       "      <td>2600</td>\n",
       "      <td>AIRLOCK</td>\n",
       "      <td>17.00</td>\n",
       "      <td>False</td>\n",
       "      <td>False</td>\n",
       "    </tr>\n",
       "    <tr>\n",
       "      <th>2</th>\n",
       "      <td>ALIEN</td>\n",
       "      <td>2600</td>\n",
       "      <td>1981</td>\n",
       "      <td>Action</td>\n",
       "      <td>20th Century Fox Video Games</td>\n",
       "      <td>740000.0</td>\n",
       "      <td>40000.0</td>\n",
       "      <td>NaN</td>\n",
       "      <td>10000.0</td>\n",
       "      <td>790000</td>\n",
       "      <td>2600</td>\n",
       "      <td>ALIEN</td>\n",
       "      <td>61.24</td>\n",
       "      <td>True</td>\n",
       "      <td>True</td>\n",
       "    </tr>\n",
       "    <tr>\n",
       "      <th>3</th>\n",
       "      <td>ARMOR AMBUSH</td>\n",
       "      <td>2600</td>\n",
       "      <td>1981</td>\n",
       "      <td>Action</td>\n",
       "      <td>Mattel Interactive</td>\n",
       "      <td>150000.0</td>\n",
       "      <td>10000.0</td>\n",
       "      <td>NaN</td>\n",
       "      <td>NaN</td>\n",
       "      <td>170000</td>\n",
       "      <td>2600</td>\n",
       "      <td>ARMOR AMBUSH</td>\n",
       "      <td>9.92</td>\n",
       "      <td>False</td>\n",
       "      <td>False</td>\n",
       "    </tr>\n",
       "    <tr>\n",
       "      <th>4</th>\n",
       "      <td>ASTEROIDS</td>\n",
       "      <td>2600</td>\n",
       "      <td>1980</td>\n",
       "      <td>Shooter</td>\n",
       "      <td>Atari</td>\n",
       "      <td>4000000.0</td>\n",
       "      <td>260000.0</td>\n",
       "      <td>NaN</td>\n",
       "      <td>50000.0</td>\n",
       "      <td>4310000</td>\n",
       "      <td>2600</td>\n",
       "      <td>ASTEROIDS</td>\n",
       "      <td>14.06</td>\n",
       "      <td>False</td>\n",
       "      <td>False</td>\n",
       "    </tr>\n",
       "  </tbody>\n",
       "</table>\n",
       "</div>"
      ],
      "text/plain": [
       "                 Name Platform  Year    Genre                     Publisher  \\\n",
       "0  ADVENTURES OF TRON     2600  1981   Action            Mattel Interactive   \n",
       "1             AIRLOCK     2600  1981   Action                      Data Age   \n",
       "2               ALIEN     2600  1981   Action  20th Century Fox Video Games   \n",
       "3        ARMOR AMBUSH     2600  1981   Action            Mattel Interactive   \n",
       "4           ASTEROIDS     2600  1980  Shooter                         Atari   \n",
       "\n",
       "    NA_Sales  EU_Sales  JP_Sales  Other_Sales  Global_Sales Console  \\\n",
       "0   630000.0   30000.0       NaN      10000.0        670000    2600   \n",
       "1   360000.0   20000.0       NaN          NaN        390000    2600   \n",
       "2   740000.0   40000.0       NaN      10000.0        790000    2600   \n",
       "3   150000.0   10000.0       NaN          NaN        170000    2600   \n",
       "4  4000000.0  260000.0       NaN      50000.0       4310000    2600   \n",
       "\n",
       "           Game Title  Price   Mean  Median  \n",
       "0  ADVENTURES OF TRON  16.10  False   False  \n",
       "1             AIRLOCK  17.00  False   False  \n",
       "2               ALIEN  61.24   True    True  \n",
       "3        ARMOR AMBUSH   9.92  False   False  \n",
       "4           ASTEROIDS  14.06  False   False  "
      ]
     },
     "execution_count": 2,
     "metadata": {},
     "output_type": "execute_result"
    }
   ],
   "source": [
    "# read in CSV\n",
    "sales_data = pd.read_csv(\"../data/merged_games_df.csv\")\n",
    "sales_data.head()"
   ]
  },
  {
   "cell_type": "code",
   "execution_count": 3,
   "metadata": {},
   "outputs": [
    {
     "name": "stdout",
     "output_type": "stream",
     "text": [
      "<class 'pandas.core.frame.DataFrame'>\n",
      "RangeIndex: 1283 entries, 0 to 1282\n",
      "Data columns (total 15 columns):\n",
      " #   Column        Non-Null Count  Dtype  \n",
      "---  ------        --------------  -----  \n",
      " 0   Name          1283 non-null   object \n",
      " 1   Platform      1283 non-null   object \n",
      " 2   Year          1283 non-null   int64  \n",
      " 3   Genre         1283 non-null   object \n",
      " 4   Publisher     1283 non-null   object \n",
      " 5   NA_Sales      1283 non-null   float64\n",
      " 6   EU_Sales      1283 non-null   float64\n",
      " 7   JP_Sales      1283 non-null   float64\n",
      " 8   Other_Sales   1283 non-null   float64\n",
      " 9   Global_Sales  1283 non-null   int64  \n",
      " 10  Console       1283 non-null   object \n",
      " 11  Game Title    1283 non-null   object \n",
      " 12  Price         1283 non-null   float64\n",
      " 13  Mean          1283 non-null   bool   \n",
      " 14  Median        1283 non-null   bool   \n",
      "dtypes: bool(2), float64(5), int64(2), object(6)\n",
      "memory usage: 132.9+ KB\n"
     ]
    }
   ],
   "source": [
    "# replace NS with 0 and view data info\n",
    "sales_df = sales_data.fillna(0)\n",
    "sales_df.info()\n"
   ]
  },
  {
   "cell_type": "code",
   "execution_count": 4,
   "metadata": {},
   "outputs": [
    {
     "data": {
      "text/html": [
       "<div>\n",
       "<style scoped>\n",
       "    .dataframe tbody tr th:only-of-type {\n",
       "        vertical-align: middle;\n",
       "    }\n",
       "\n",
       "    .dataframe tbody tr th {\n",
       "        vertical-align: top;\n",
       "    }\n",
       "\n",
       "    .dataframe thead th {\n",
       "        text-align: right;\n",
       "    }\n",
       "</style>\n",
       "<table border=\"1\" class=\"dataframe\">\n",
       "  <thead>\n",
       "    <tr style=\"text-align: right;\">\n",
       "      <th></th>\n",
       "      <th>Year</th>\n",
       "      <th>NA_Sales</th>\n",
       "      <th>EU_Sales</th>\n",
       "      <th>JP_Sales</th>\n",
       "      <th>Other_Sales</th>\n",
       "      <th>Global_Sales</th>\n",
       "      <th>Price</th>\n",
       "    </tr>\n",
       "  </thead>\n",
       "  <tbody>\n",
       "    <tr>\n",
       "      <th>count</th>\n",
       "      <td>1283.000000</td>\n",
       "      <td>1.283000e+03</td>\n",
       "      <td>1.283000e+03</td>\n",
       "      <td>1.283000e+03</td>\n",
       "      <td>1.283000e+03</td>\n",
       "      <td>1.283000e+03</td>\n",
       "      <td>1283.000000</td>\n",
       "    </tr>\n",
       "    <tr>\n",
       "      <th>mean</th>\n",
       "      <td>1996.144973</td>\n",
       "      <td>4.949883e+05</td>\n",
       "      <td>1.972486e+05</td>\n",
       "      <td>1.450195e+05</td>\n",
       "      <td>3.302416e+04</td>\n",
       "      <td>8.705144e+05</td>\n",
       "      <td>31.979018</td>\n",
       "    </tr>\n",
       "    <tr>\n",
       "      <th>std</th>\n",
       "      <td>4.840275</td>\n",
       "      <td>1.333183e+06</td>\n",
       "      <td>3.937541e+05</td>\n",
       "      <td>4.419527e+05</td>\n",
       "      <td>7.684834e+04</td>\n",
       "      <td>1.930835e+06</td>\n",
       "      <td>29.505511</td>\n",
       "    </tr>\n",
       "    <tr>\n",
       "      <th>min</th>\n",
       "      <td>1980.000000</td>\n",
       "      <td>0.000000e+00</td>\n",
       "      <td>0.000000e+00</td>\n",
       "      <td>0.000000e+00</td>\n",
       "      <td>0.000000e+00</td>\n",
       "      <td>1.000000e+04</td>\n",
       "      <td>1.410000</td>\n",
       "    </tr>\n",
       "    <tr>\n",
       "      <th>25%</th>\n",
       "      <td>1996.000000</td>\n",
       "      <td>6.000000e+04</td>\n",
       "      <td>2.000000e+04</td>\n",
       "      <td>0.000000e+00</td>\n",
       "      <td>0.000000e+00</td>\n",
       "      <td>1.300000e+05</td>\n",
       "      <td>10.020000</td>\n",
       "    </tr>\n",
       "    <tr>\n",
       "      <th>50%</th>\n",
       "      <td>1998.000000</td>\n",
       "      <td>1.800000e+05</td>\n",
       "      <td>7.000000e+04</td>\n",
       "      <td>0.000000e+00</td>\n",
       "      <td>1.000000e+04</td>\n",
       "      <td>3.400000e+05</td>\n",
       "      <td>20.610000</td>\n",
       "    </tr>\n",
       "    <tr>\n",
       "      <th>75%</th>\n",
       "      <td>1999.000000</td>\n",
       "      <td>4.800000e+05</td>\n",
       "      <td>1.900000e+05</td>\n",
       "      <td>5.500000e+04</td>\n",
       "      <td>4.000000e+04</td>\n",
       "      <td>9.200000e+05</td>\n",
       "      <td>45.220000</td>\n",
       "    </tr>\n",
       "    <tr>\n",
       "      <th>max</th>\n",
       "      <td>2003.000000</td>\n",
       "      <td>2.908000e+07</td>\n",
       "      <td>3.870000e+06</td>\n",
       "      <td>6.810000e+06</td>\n",
       "      <td>1.510000e+06</td>\n",
       "      <td>4.024000e+07</td>\n",
       "      <td>139.500000</td>\n",
       "    </tr>\n",
       "  </tbody>\n",
       "</table>\n",
       "</div>"
      ],
      "text/plain": [
       "              Year      NA_Sales      EU_Sales      JP_Sales   Other_Sales  \\\n",
       "count  1283.000000  1.283000e+03  1.283000e+03  1.283000e+03  1.283000e+03   \n",
       "mean   1996.144973  4.949883e+05  1.972486e+05  1.450195e+05  3.302416e+04   \n",
       "std       4.840275  1.333183e+06  3.937541e+05  4.419527e+05  7.684834e+04   \n",
       "min    1980.000000  0.000000e+00  0.000000e+00  0.000000e+00  0.000000e+00   \n",
       "25%    1996.000000  6.000000e+04  2.000000e+04  0.000000e+00  0.000000e+00   \n",
       "50%    1998.000000  1.800000e+05  7.000000e+04  0.000000e+00  1.000000e+04   \n",
       "75%    1999.000000  4.800000e+05  1.900000e+05  5.500000e+04  4.000000e+04   \n",
       "max    2003.000000  2.908000e+07  3.870000e+06  6.810000e+06  1.510000e+06   \n",
       "\n",
       "       Global_Sales        Price  \n",
       "count  1.283000e+03  1283.000000  \n",
       "mean   8.705144e+05    31.979018  \n",
       "std    1.930835e+06    29.505511  \n",
       "min    1.000000e+04     1.410000  \n",
       "25%    1.300000e+05    10.020000  \n",
       "50%    3.400000e+05    20.610000  \n",
       "75%    9.200000e+05    45.220000  \n",
       "max    4.024000e+07   139.500000  "
      ]
     },
     "execution_count": 4,
     "metadata": {},
     "output_type": "execute_result"
    }
   ],
   "source": [
    "# Use .describe for statistical data\n",
    "sales_df.describe()"
   ]
  },
  {
   "cell_type": "code",
   "execution_count": 5,
   "metadata": {},
   "outputs": [
    {
     "data": {
      "text/html": [
       "<div>\n",
       "<style scoped>\n",
       "    .dataframe tbody tr th:only-of-type {\n",
       "        vertical-align: middle;\n",
       "    }\n",
       "\n",
       "    .dataframe tbody tr th {\n",
       "        vertical-align: top;\n",
       "    }\n",
       "\n",
       "    .dataframe thead th {\n",
       "        text-align: right;\n",
       "    }\n",
       "</style>\n",
       "<table border=\"1\" class=\"dataframe\">\n",
       "  <thead>\n",
       "    <tr style=\"text-align: right;\">\n",
       "      <th></th>\n",
       "      <th>Genre</th>\n",
       "      <th>Game Count</th>\n",
       "    </tr>\n",
       "  </thead>\n",
       "  <tbody>\n",
       "    <tr>\n",
       "      <th>10</th>\n",
       "      <td>Sports</td>\n",
       "      <td>246</td>\n",
       "    </tr>\n",
       "    <tr>\n",
       "      <th>0</th>\n",
       "      <td>Action</td>\n",
       "      <td>200</td>\n",
       "    </tr>\n",
       "    <tr>\n",
       "      <th>6</th>\n",
       "      <td>Racing</td>\n",
       "      <td>183</td>\n",
       "    </tr>\n",
       "    <tr>\n",
       "      <th>8</th>\n",
       "      <td>Shooter</td>\n",
       "      <td>132</td>\n",
       "    </tr>\n",
       "    <tr>\n",
       "      <th>2</th>\n",
       "      <td>Fighting</td>\n",
       "      <td>124</td>\n",
       "    </tr>\n",
       "    <tr>\n",
       "      <th>4</th>\n",
       "      <td>Platform</td>\n",
       "      <td>107</td>\n",
       "    </tr>\n",
       "    <tr>\n",
       "      <th>7</th>\n",
       "      <td>Role-Playing</td>\n",
       "      <td>62</td>\n",
       "    </tr>\n",
       "    <tr>\n",
       "      <th>5</th>\n",
       "      <td>Puzzle</td>\n",
       "      <td>51</td>\n",
       "    </tr>\n",
       "    <tr>\n",
       "      <th>3</th>\n",
       "      <td>Misc</td>\n",
       "      <td>49</td>\n",
       "    </tr>\n",
       "    <tr>\n",
       "      <th>9</th>\n",
       "      <td>Simulation</td>\n",
       "      <td>49</td>\n",
       "    </tr>\n",
       "    <tr>\n",
       "      <th>11</th>\n",
       "      <td>Strategy</td>\n",
       "      <td>42</td>\n",
       "    </tr>\n",
       "    <tr>\n",
       "      <th>1</th>\n",
       "      <td>Adventure</td>\n",
       "      <td>38</td>\n",
       "    </tr>\n",
       "  </tbody>\n",
       "</table>\n",
       "</div>"
      ],
      "text/plain": [
       "           Genre  Game Count\n",
       "10        Sports         246\n",
       "0         Action         200\n",
       "6         Racing         183\n",
       "8        Shooter         132\n",
       "2       Fighting         124\n",
       "4       Platform         107\n",
       "7   Role-Playing          62\n",
       "5         Puzzle          51\n",
       "3           Misc          49\n",
       "9     Simulation          49\n",
       "11      Strategy          42\n",
       "1      Adventure          38"
      ]
     },
     "execution_count": 5,
     "metadata": {},
     "output_type": "execute_result"
    }
   ],
   "source": [
    "# create genre table to genre visuals\n",
    "genres =sales_df.groupby(\"Genre\", as_index=False).count()\n",
    "genre_count = genres[[\"Genre\", \"Name\"]].rename(columns={\"Name\": \"Game Count\"})\n",
    "sorted_genre_count = genre_count.sort_values(by=[\"Game Count\"], ascending=False)\n",
    "sorted_genre_count"
   ]
  },
  {
   "cell_type": "code",
   "execution_count": 6,
   "metadata": {},
   "outputs": [],
   "source": [
    "palette = ['#636EFA', '#EF553B', '#00CC96', '#AB63FA', '#ff8001', '#00fcfe', '#FE00FA', '#16FF32', '#FF97FF', \n",
    "           '#FFFF00','#2dc997','#B10DA1']"
   ]
  },
  {
   "cell_type": "code",
   "execution_count": 21,
   "metadata": {},
   "outputs": [
    {
     "data": {
      "application/vnd.plotly.v1+json": {
       "config": {
        "plotlyServerURL": "https://plot.ly"
       },
       "data": [
        {
         "alignmentgroup": "True",
         "hovertemplate": "Genre=%{x}<br>Game Count=%{y}<extra></extra>",
         "legendgroup": "",
         "marker": {
          "color": "#636efa"
         },
         "name": "",
         "offsetgroup": "",
         "orientation": "v",
         "showlegend": false,
         "textposition": "auto",
         "type": "bar",
         "x": [
          "Sports",
          "Action",
          "Racing",
          "Shooter",
          "Fighting",
          "Platform",
          "Role-Playing",
          "Puzzle",
          "Misc",
          "Simulation",
          "Strategy",
          "Adventure"
         ],
         "xaxis": "x",
         "y": [
          246,
          200,
          183,
          132,
          124,
          107,
          62,
          51,
          49,
          49,
          42,
          38
         ],
         "yaxis": "y"
        }
       ],
       "layout": {
        "barmode": "relative",
        "legend": {
         "tracegroupgap": 0
        },
        "template": {
         "data": {
          "bar": [
           {
            "error_x": {
             "color": "#2a3f5f"
            },
            "error_y": {
             "color": "#2a3f5f"
            },
            "marker": {
             "line": {
              "color": "#E5ECF6",
              "width": 0.5
             }
            },
            "type": "bar"
           }
          ],
          "barpolar": [
           {
            "marker": {
             "line": {
              "color": "#E5ECF6",
              "width": 0.5
             }
            },
            "type": "barpolar"
           }
          ],
          "carpet": [
           {
            "aaxis": {
             "endlinecolor": "#2a3f5f",
             "gridcolor": "white",
             "linecolor": "white",
             "minorgridcolor": "white",
             "startlinecolor": "#2a3f5f"
            },
            "baxis": {
             "endlinecolor": "#2a3f5f",
             "gridcolor": "white",
             "linecolor": "white",
             "minorgridcolor": "white",
             "startlinecolor": "#2a3f5f"
            },
            "type": "carpet"
           }
          ],
          "choropleth": [
           {
            "colorbar": {
             "outlinewidth": 0,
             "ticks": ""
            },
            "type": "choropleth"
           }
          ],
          "contour": [
           {
            "colorbar": {
             "outlinewidth": 0,
             "ticks": ""
            },
            "colorscale": [
             [
              0,
              "#0d0887"
             ],
             [
              0.1111111111111111,
              "#46039f"
             ],
             [
              0.2222222222222222,
              "#7201a8"
             ],
             [
              0.3333333333333333,
              "#9c179e"
             ],
             [
              0.4444444444444444,
              "#bd3786"
             ],
             [
              0.5555555555555556,
              "#d8576b"
             ],
             [
              0.6666666666666666,
              "#ed7953"
             ],
             [
              0.7777777777777778,
              "#fb9f3a"
             ],
             [
              0.8888888888888888,
              "#fdca26"
             ],
             [
              1,
              "#f0f921"
             ]
            ],
            "type": "contour"
           }
          ],
          "contourcarpet": [
           {
            "colorbar": {
             "outlinewidth": 0,
             "ticks": ""
            },
            "type": "contourcarpet"
           }
          ],
          "heatmap": [
           {
            "colorbar": {
             "outlinewidth": 0,
             "ticks": ""
            },
            "colorscale": [
             [
              0,
              "#0d0887"
             ],
             [
              0.1111111111111111,
              "#46039f"
             ],
             [
              0.2222222222222222,
              "#7201a8"
             ],
             [
              0.3333333333333333,
              "#9c179e"
             ],
             [
              0.4444444444444444,
              "#bd3786"
             ],
             [
              0.5555555555555556,
              "#d8576b"
             ],
             [
              0.6666666666666666,
              "#ed7953"
             ],
             [
              0.7777777777777778,
              "#fb9f3a"
             ],
             [
              0.8888888888888888,
              "#fdca26"
             ],
             [
              1,
              "#f0f921"
             ]
            ],
            "type": "heatmap"
           }
          ],
          "heatmapgl": [
           {
            "colorbar": {
             "outlinewidth": 0,
             "ticks": ""
            },
            "colorscale": [
             [
              0,
              "#0d0887"
             ],
             [
              0.1111111111111111,
              "#46039f"
             ],
             [
              0.2222222222222222,
              "#7201a8"
             ],
             [
              0.3333333333333333,
              "#9c179e"
             ],
             [
              0.4444444444444444,
              "#bd3786"
             ],
             [
              0.5555555555555556,
              "#d8576b"
             ],
             [
              0.6666666666666666,
              "#ed7953"
             ],
             [
              0.7777777777777778,
              "#fb9f3a"
             ],
             [
              0.8888888888888888,
              "#fdca26"
             ],
             [
              1,
              "#f0f921"
             ]
            ],
            "type": "heatmapgl"
           }
          ],
          "histogram": [
           {
            "marker": {
             "colorbar": {
              "outlinewidth": 0,
              "ticks": ""
             }
            },
            "type": "histogram"
           }
          ],
          "histogram2d": [
           {
            "colorbar": {
             "outlinewidth": 0,
             "ticks": ""
            },
            "colorscale": [
             [
              0,
              "#0d0887"
             ],
             [
              0.1111111111111111,
              "#46039f"
             ],
             [
              0.2222222222222222,
              "#7201a8"
             ],
             [
              0.3333333333333333,
              "#9c179e"
             ],
             [
              0.4444444444444444,
              "#bd3786"
             ],
             [
              0.5555555555555556,
              "#d8576b"
             ],
             [
              0.6666666666666666,
              "#ed7953"
             ],
             [
              0.7777777777777778,
              "#fb9f3a"
             ],
             [
              0.8888888888888888,
              "#fdca26"
             ],
             [
              1,
              "#f0f921"
             ]
            ],
            "type": "histogram2d"
           }
          ],
          "histogram2dcontour": [
           {
            "colorbar": {
             "outlinewidth": 0,
             "ticks": ""
            },
            "colorscale": [
             [
              0,
              "#0d0887"
             ],
             [
              0.1111111111111111,
              "#46039f"
             ],
             [
              0.2222222222222222,
              "#7201a8"
             ],
             [
              0.3333333333333333,
              "#9c179e"
             ],
             [
              0.4444444444444444,
              "#bd3786"
             ],
             [
              0.5555555555555556,
              "#d8576b"
             ],
             [
              0.6666666666666666,
              "#ed7953"
             ],
             [
              0.7777777777777778,
              "#fb9f3a"
             ],
             [
              0.8888888888888888,
              "#fdca26"
             ],
             [
              1,
              "#f0f921"
             ]
            ],
            "type": "histogram2dcontour"
           }
          ],
          "mesh3d": [
           {
            "colorbar": {
             "outlinewidth": 0,
             "ticks": ""
            },
            "type": "mesh3d"
           }
          ],
          "parcoords": [
           {
            "line": {
             "colorbar": {
              "outlinewidth": 0,
              "ticks": ""
             }
            },
            "type": "parcoords"
           }
          ],
          "pie": [
           {
            "automargin": true,
            "type": "pie"
           }
          ],
          "scatter": [
           {
            "marker": {
             "colorbar": {
              "outlinewidth": 0,
              "ticks": ""
             }
            },
            "type": "scatter"
           }
          ],
          "scatter3d": [
           {
            "line": {
             "colorbar": {
              "outlinewidth": 0,
              "ticks": ""
             }
            },
            "marker": {
             "colorbar": {
              "outlinewidth": 0,
              "ticks": ""
             }
            },
            "type": "scatter3d"
           }
          ],
          "scattercarpet": [
           {
            "marker": {
             "colorbar": {
              "outlinewidth": 0,
              "ticks": ""
             }
            },
            "type": "scattercarpet"
           }
          ],
          "scattergeo": [
           {
            "marker": {
             "colorbar": {
              "outlinewidth": 0,
              "ticks": ""
             }
            },
            "type": "scattergeo"
           }
          ],
          "scattergl": [
           {
            "marker": {
             "colorbar": {
              "outlinewidth": 0,
              "ticks": ""
             }
            },
            "type": "scattergl"
           }
          ],
          "scattermapbox": [
           {
            "marker": {
             "colorbar": {
              "outlinewidth": 0,
              "ticks": ""
             }
            },
            "type": "scattermapbox"
           }
          ],
          "scatterpolar": [
           {
            "marker": {
             "colorbar": {
              "outlinewidth": 0,
              "ticks": ""
             }
            },
            "type": "scatterpolar"
           }
          ],
          "scatterpolargl": [
           {
            "marker": {
             "colorbar": {
              "outlinewidth": 0,
              "ticks": ""
             }
            },
            "type": "scatterpolargl"
           }
          ],
          "scatterternary": [
           {
            "marker": {
             "colorbar": {
              "outlinewidth": 0,
              "ticks": ""
             }
            },
            "type": "scatterternary"
           }
          ],
          "surface": [
           {
            "colorbar": {
             "outlinewidth": 0,
             "ticks": ""
            },
            "colorscale": [
             [
              0,
              "#0d0887"
             ],
             [
              0.1111111111111111,
              "#46039f"
             ],
             [
              0.2222222222222222,
              "#7201a8"
             ],
             [
              0.3333333333333333,
              "#9c179e"
             ],
             [
              0.4444444444444444,
              "#bd3786"
             ],
             [
              0.5555555555555556,
              "#d8576b"
             ],
             [
              0.6666666666666666,
              "#ed7953"
             ],
             [
              0.7777777777777778,
              "#fb9f3a"
             ],
             [
              0.8888888888888888,
              "#fdca26"
             ],
             [
              1,
              "#f0f921"
             ]
            ],
            "type": "surface"
           }
          ],
          "table": [
           {
            "cells": {
             "fill": {
              "color": "#EBF0F8"
             },
             "line": {
              "color": "white"
             }
            },
            "header": {
             "fill": {
              "color": "#C8D4E3"
             },
             "line": {
              "color": "white"
             }
            },
            "type": "table"
           }
          ]
         },
         "layout": {
          "annotationdefaults": {
           "arrowcolor": "#2a3f5f",
           "arrowhead": 0,
           "arrowwidth": 1
          },
          "coloraxis": {
           "colorbar": {
            "outlinewidth": 0,
            "ticks": ""
           }
          },
          "colorscale": {
           "diverging": [
            [
             0,
             "#8e0152"
            ],
            [
             0.1,
             "#c51b7d"
            ],
            [
             0.2,
             "#de77ae"
            ],
            [
             0.3,
             "#f1b6da"
            ],
            [
             0.4,
             "#fde0ef"
            ],
            [
             0.5,
             "#f7f7f7"
            ],
            [
             0.6,
             "#e6f5d0"
            ],
            [
             0.7,
             "#b8e186"
            ],
            [
             0.8,
             "#7fbc41"
            ],
            [
             0.9,
             "#4d9221"
            ],
            [
             1,
             "#276419"
            ]
           ],
           "sequential": [
            [
             0,
             "#0d0887"
            ],
            [
             0.1111111111111111,
             "#46039f"
            ],
            [
             0.2222222222222222,
             "#7201a8"
            ],
            [
             0.3333333333333333,
             "#9c179e"
            ],
            [
             0.4444444444444444,
             "#bd3786"
            ],
            [
             0.5555555555555556,
             "#d8576b"
            ],
            [
             0.6666666666666666,
             "#ed7953"
            ],
            [
             0.7777777777777778,
             "#fb9f3a"
            ],
            [
             0.8888888888888888,
             "#fdca26"
            ],
            [
             1,
             "#f0f921"
            ]
           ],
           "sequentialminus": [
            [
             0,
             "#0d0887"
            ],
            [
             0.1111111111111111,
             "#46039f"
            ],
            [
             0.2222222222222222,
             "#7201a8"
            ],
            [
             0.3333333333333333,
             "#9c179e"
            ],
            [
             0.4444444444444444,
             "#bd3786"
            ],
            [
             0.5555555555555556,
             "#d8576b"
            ],
            [
             0.6666666666666666,
             "#ed7953"
            ],
            [
             0.7777777777777778,
             "#fb9f3a"
            ],
            [
             0.8888888888888888,
             "#fdca26"
            ],
            [
             1,
             "#f0f921"
            ]
           ]
          },
          "colorway": [
           "#636efa",
           "#EF553B",
           "#00cc96",
           "#ab63fa",
           "#FFA15A",
           "#19d3f3",
           "#FF6692",
           "#B6E880",
           "#FF97FF",
           "#FECB52"
          ],
          "font": {
           "color": "#2a3f5f"
          },
          "geo": {
           "bgcolor": "white",
           "lakecolor": "white",
           "landcolor": "#E5ECF6",
           "showlakes": true,
           "showland": true,
           "subunitcolor": "white"
          },
          "hoverlabel": {
           "align": "left"
          },
          "hovermode": "closest",
          "mapbox": {
           "style": "light"
          },
          "paper_bgcolor": "white",
          "plot_bgcolor": "#E5ECF6",
          "polar": {
           "angularaxis": {
            "gridcolor": "white",
            "linecolor": "white",
            "ticks": ""
           },
           "bgcolor": "#E5ECF6",
           "radialaxis": {
            "gridcolor": "white",
            "linecolor": "white",
            "ticks": ""
           }
          },
          "scene": {
           "xaxis": {
            "backgroundcolor": "#E5ECF6",
            "gridcolor": "white",
            "gridwidth": 2,
            "linecolor": "white",
            "showbackground": true,
            "ticks": "",
            "zerolinecolor": "white"
           },
           "yaxis": {
            "backgroundcolor": "#E5ECF6",
            "gridcolor": "white",
            "gridwidth": 2,
            "linecolor": "white",
            "showbackground": true,
            "ticks": "",
            "zerolinecolor": "white"
           },
           "zaxis": {
            "backgroundcolor": "#E5ECF6",
            "gridcolor": "white",
            "gridwidth": 2,
            "linecolor": "white",
            "showbackground": true,
            "ticks": "",
            "zerolinecolor": "white"
           }
          },
          "shapedefaults": {
           "line": {
            "color": "#2a3f5f"
           }
          },
          "ternary": {
           "aaxis": {
            "gridcolor": "white",
            "linecolor": "white",
            "ticks": ""
           },
           "baxis": {
            "gridcolor": "white",
            "linecolor": "white",
            "ticks": ""
           },
           "bgcolor": "#E5ECF6",
           "caxis": {
            "gridcolor": "white",
            "linecolor": "white",
            "ticks": ""
           }
          },
          "title": {
           "x": 0.05
          },
          "xaxis": {
           "automargin": true,
           "gridcolor": "white",
           "linecolor": "white",
           "ticks": "",
           "title": {
            "standoff": 15
           },
           "zerolinecolor": "white",
           "zerolinewidth": 2
          },
          "yaxis": {
           "automargin": true,
           "gridcolor": "white",
           "linecolor": "white",
           "ticks": "",
           "title": {
            "standoff": 15
           },
           "zerolinecolor": "white",
           "zerolinewidth": 2
          }
         }
        },
        "title": {
         "text": "Top Game Genres - vintage games"
        },
        "xaxis": {
         "anchor": "y",
         "domain": [
          0,
          1
         ],
         "title": {
          "text": "Genre"
         }
        },
        "yaxis": {
         "anchor": "x",
         "domain": [
          0,
          1
         ],
         "title": {
          "text": "Game Count"
         }
        }
       }
      },
      "text/html": [
       "<div>                            <div id=\"46cc6703-1657-41b8-8a03-b4ec0597dc2c\" class=\"plotly-graph-div\" style=\"height:525px; width:100%;\"></div>            <script type=\"text/javascript\">                require([\"plotly\"], function(Plotly) {                    window.PLOTLYENV=window.PLOTLYENV || {};                                    if (document.getElementById(\"46cc6703-1657-41b8-8a03-b4ec0597dc2c\")) {                    Plotly.newPlot(                        \"46cc6703-1657-41b8-8a03-b4ec0597dc2c\",                        [{\"alignmentgroup\": \"True\", \"hovertemplate\": \"Genre=%{x}<br>Game Count=%{y}<extra></extra>\", \"legendgroup\": \"\", \"marker\": {\"color\": \"#636efa\"}, \"name\": \"\", \"offsetgroup\": \"\", \"orientation\": \"v\", \"showlegend\": false, \"textposition\": \"auto\", \"type\": \"bar\", \"x\": [\"Sports\", \"Action\", \"Racing\", \"Shooter\", \"Fighting\", \"Platform\", \"Role-Playing\", \"Puzzle\", \"Misc\", \"Simulation\", \"Strategy\", \"Adventure\"], \"xaxis\": \"x\", \"y\": [246, 200, 183, 132, 124, 107, 62, 51, 49, 49, 42, 38], \"yaxis\": \"y\"}],                        {\"barmode\": \"relative\", \"legend\": {\"tracegroupgap\": 0}, \"template\": {\"data\": {\"bar\": [{\"error_x\": {\"color\": \"#2a3f5f\"}, \"error_y\": {\"color\": \"#2a3f5f\"}, \"marker\": {\"line\": {\"color\": \"#E5ECF6\", \"width\": 0.5}}, \"type\": \"bar\"}], \"barpolar\": [{\"marker\": {\"line\": {\"color\": \"#E5ECF6\", \"width\": 0.5}}, \"type\": \"barpolar\"}], \"carpet\": [{\"aaxis\": {\"endlinecolor\": \"#2a3f5f\", \"gridcolor\": \"white\", \"linecolor\": \"white\", \"minorgridcolor\": \"white\", \"startlinecolor\": \"#2a3f5f\"}, \"baxis\": {\"endlinecolor\": \"#2a3f5f\", \"gridcolor\": \"white\", \"linecolor\": \"white\", \"minorgridcolor\": \"white\", \"startlinecolor\": \"#2a3f5f\"}, \"type\": \"carpet\"}], \"choropleth\": [{\"colorbar\": {\"outlinewidth\": 0, \"ticks\": \"\"}, \"type\": \"choropleth\"}], \"contour\": [{\"colorbar\": {\"outlinewidth\": 0, \"ticks\": \"\"}, \"colorscale\": [[0.0, \"#0d0887\"], [0.1111111111111111, \"#46039f\"], [0.2222222222222222, \"#7201a8\"], [0.3333333333333333, \"#9c179e\"], [0.4444444444444444, \"#bd3786\"], [0.5555555555555556, \"#d8576b\"], [0.6666666666666666, \"#ed7953\"], [0.7777777777777778, \"#fb9f3a\"], [0.8888888888888888, \"#fdca26\"], [1.0, \"#f0f921\"]], \"type\": \"contour\"}], \"contourcarpet\": [{\"colorbar\": {\"outlinewidth\": 0, \"ticks\": \"\"}, \"type\": \"contourcarpet\"}], \"heatmap\": [{\"colorbar\": {\"outlinewidth\": 0, \"ticks\": \"\"}, \"colorscale\": [[0.0, \"#0d0887\"], [0.1111111111111111, \"#46039f\"], [0.2222222222222222, \"#7201a8\"], [0.3333333333333333, \"#9c179e\"], [0.4444444444444444, \"#bd3786\"], [0.5555555555555556, \"#d8576b\"], [0.6666666666666666, \"#ed7953\"], [0.7777777777777778, \"#fb9f3a\"], [0.8888888888888888, \"#fdca26\"], [1.0, \"#f0f921\"]], \"type\": \"heatmap\"}], \"heatmapgl\": [{\"colorbar\": {\"outlinewidth\": 0, \"ticks\": \"\"}, \"colorscale\": [[0.0, \"#0d0887\"], [0.1111111111111111, \"#46039f\"], [0.2222222222222222, \"#7201a8\"], [0.3333333333333333, \"#9c179e\"], [0.4444444444444444, \"#bd3786\"], [0.5555555555555556, \"#d8576b\"], [0.6666666666666666, \"#ed7953\"], [0.7777777777777778, \"#fb9f3a\"], [0.8888888888888888, \"#fdca26\"], [1.0, \"#f0f921\"]], \"type\": \"heatmapgl\"}], \"histogram\": [{\"marker\": {\"colorbar\": {\"outlinewidth\": 0, \"ticks\": \"\"}}, \"type\": \"histogram\"}], \"histogram2d\": [{\"colorbar\": {\"outlinewidth\": 0, \"ticks\": \"\"}, \"colorscale\": [[0.0, \"#0d0887\"], [0.1111111111111111, \"#46039f\"], [0.2222222222222222, \"#7201a8\"], [0.3333333333333333, \"#9c179e\"], [0.4444444444444444, \"#bd3786\"], [0.5555555555555556, \"#d8576b\"], [0.6666666666666666, \"#ed7953\"], [0.7777777777777778, \"#fb9f3a\"], [0.8888888888888888, \"#fdca26\"], [1.0, \"#f0f921\"]], \"type\": \"histogram2d\"}], \"histogram2dcontour\": [{\"colorbar\": {\"outlinewidth\": 0, \"ticks\": \"\"}, \"colorscale\": [[0.0, \"#0d0887\"], [0.1111111111111111, \"#46039f\"], [0.2222222222222222, \"#7201a8\"], [0.3333333333333333, \"#9c179e\"], [0.4444444444444444, \"#bd3786\"], [0.5555555555555556, \"#d8576b\"], [0.6666666666666666, \"#ed7953\"], [0.7777777777777778, \"#fb9f3a\"], [0.8888888888888888, \"#fdca26\"], [1.0, \"#f0f921\"]], \"type\": \"histogram2dcontour\"}], \"mesh3d\": [{\"colorbar\": {\"outlinewidth\": 0, \"ticks\": \"\"}, \"type\": \"mesh3d\"}], \"parcoords\": [{\"line\": {\"colorbar\": {\"outlinewidth\": 0, \"ticks\": \"\"}}, \"type\": \"parcoords\"}], \"pie\": [{\"automargin\": true, \"type\": \"pie\"}], \"scatter\": [{\"marker\": {\"colorbar\": {\"outlinewidth\": 0, \"ticks\": \"\"}}, \"type\": \"scatter\"}], \"scatter3d\": [{\"line\": {\"colorbar\": {\"outlinewidth\": 0, \"ticks\": \"\"}}, \"marker\": {\"colorbar\": {\"outlinewidth\": 0, \"ticks\": \"\"}}, \"type\": \"scatter3d\"}], \"scattercarpet\": [{\"marker\": {\"colorbar\": {\"outlinewidth\": 0, \"ticks\": \"\"}}, \"type\": \"scattercarpet\"}], \"scattergeo\": [{\"marker\": {\"colorbar\": {\"outlinewidth\": 0, \"ticks\": \"\"}}, \"type\": \"scattergeo\"}], \"scattergl\": [{\"marker\": {\"colorbar\": {\"outlinewidth\": 0, \"ticks\": \"\"}}, \"type\": \"scattergl\"}], \"scattermapbox\": [{\"marker\": {\"colorbar\": {\"outlinewidth\": 0, \"ticks\": \"\"}}, \"type\": \"scattermapbox\"}], \"scatterpolar\": [{\"marker\": {\"colorbar\": {\"outlinewidth\": 0, \"ticks\": \"\"}}, \"type\": \"scatterpolar\"}], \"scatterpolargl\": [{\"marker\": {\"colorbar\": {\"outlinewidth\": 0, \"ticks\": \"\"}}, \"type\": \"scatterpolargl\"}], \"scatterternary\": [{\"marker\": {\"colorbar\": {\"outlinewidth\": 0, \"ticks\": \"\"}}, \"type\": \"scatterternary\"}], \"surface\": [{\"colorbar\": {\"outlinewidth\": 0, \"ticks\": \"\"}, \"colorscale\": [[0.0, \"#0d0887\"], [0.1111111111111111, \"#46039f\"], [0.2222222222222222, \"#7201a8\"], [0.3333333333333333, \"#9c179e\"], [0.4444444444444444, \"#bd3786\"], [0.5555555555555556, \"#d8576b\"], [0.6666666666666666, \"#ed7953\"], [0.7777777777777778, \"#fb9f3a\"], [0.8888888888888888, \"#fdca26\"], [1.0, \"#f0f921\"]], \"type\": \"surface\"}], \"table\": [{\"cells\": {\"fill\": {\"color\": \"#EBF0F8\"}, \"line\": {\"color\": \"white\"}}, \"header\": {\"fill\": {\"color\": \"#C8D4E3\"}, \"line\": {\"color\": \"white\"}}, \"type\": \"table\"}]}, \"layout\": {\"annotationdefaults\": {\"arrowcolor\": \"#2a3f5f\", \"arrowhead\": 0, \"arrowwidth\": 1}, \"coloraxis\": {\"colorbar\": {\"outlinewidth\": 0, \"ticks\": \"\"}}, \"colorscale\": {\"diverging\": [[0, \"#8e0152\"], [0.1, \"#c51b7d\"], [0.2, \"#de77ae\"], [0.3, \"#f1b6da\"], [0.4, \"#fde0ef\"], [0.5, \"#f7f7f7\"], [0.6, \"#e6f5d0\"], [0.7, \"#b8e186\"], [0.8, \"#7fbc41\"], [0.9, \"#4d9221\"], [1, \"#276419\"]], \"sequential\": [[0.0, \"#0d0887\"], [0.1111111111111111, \"#46039f\"], [0.2222222222222222, \"#7201a8\"], [0.3333333333333333, \"#9c179e\"], [0.4444444444444444, \"#bd3786\"], [0.5555555555555556, \"#d8576b\"], [0.6666666666666666, \"#ed7953\"], [0.7777777777777778, \"#fb9f3a\"], [0.8888888888888888, \"#fdca26\"], [1.0, \"#f0f921\"]], \"sequentialminus\": [[0.0, \"#0d0887\"], [0.1111111111111111, \"#46039f\"], [0.2222222222222222, \"#7201a8\"], [0.3333333333333333, \"#9c179e\"], [0.4444444444444444, \"#bd3786\"], [0.5555555555555556, \"#d8576b\"], [0.6666666666666666, \"#ed7953\"], [0.7777777777777778, \"#fb9f3a\"], [0.8888888888888888, \"#fdca26\"], [1.0, \"#f0f921\"]]}, \"colorway\": [\"#636efa\", \"#EF553B\", \"#00cc96\", \"#ab63fa\", \"#FFA15A\", \"#19d3f3\", \"#FF6692\", \"#B6E880\", \"#FF97FF\", \"#FECB52\"], \"font\": {\"color\": \"#2a3f5f\"}, \"geo\": {\"bgcolor\": \"white\", \"lakecolor\": \"white\", \"landcolor\": \"#E5ECF6\", \"showlakes\": true, \"showland\": true, \"subunitcolor\": \"white\"}, \"hoverlabel\": {\"align\": \"left\"}, \"hovermode\": \"closest\", \"mapbox\": {\"style\": \"light\"}, \"paper_bgcolor\": \"white\", \"plot_bgcolor\": \"#E5ECF6\", \"polar\": {\"angularaxis\": {\"gridcolor\": \"white\", \"linecolor\": \"white\", \"ticks\": \"\"}, \"bgcolor\": \"#E5ECF6\", \"radialaxis\": {\"gridcolor\": \"white\", \"linecolor\": \"white\", \"ticks\": \"\"}}, \"scene\": {\"xaxis\": {\"backgroundcolor\": \"#E5ECF6\", \"gridcolor\": \"white\", \"gridwidth\": 2, \"linecolor\": \"white\", \"showbackground\": true, \"ticks\": \"\", \"zerolinecolor\": \"white\"}, \"yaxis\": {\"backgroundcolor\": \"#E5ECF6\", \"gridcolor\": \"white\", \"gridwidth\": 2, \"linecolor\": \"white\", \"showbackground\": true, \"ticks\": \"\", \"zerolinecolor\": \"white\"}, \"zaxis\": {\"backgroundcolor\": \"#E5ECF6\", \"gridcolor\": \"white\", \"gridwidth\": 2, \"linecolor\": \"white\", \"showbackground\": true, \"ticks\": \"\", \"zerolinecolor\": \"white\"}}, \"shapedefaults\": {\"line\": {\"color\": \"#2a3f5f\"}}, \"ternary\": {\"aaxis\": {\"gridcolor\": \"white\", \"linecolor\": \"white\", \"ticks\": \"\"}, \"baxis\": {\"gridcolor\": \"white\", \"linecolor\": \"white\", \"ticks\": \"\"}, \"bgcolor\": \"#E5ECF6\", \"caxis\": {\"gridcolor\": \"white\", \"linecolor\": \"white\", \"ticks\": \"\"}}, \"title\": {\"x\": 0.05}, \"xaxis\": {\"automargin\": true, \"gridcolor\": \"white\", \"linecolor\": \"white\", \"ticks\": \"\", \"title\": {\"standoff\": 15}, \"zerolinecolor\": \"white\", \"zerolinewidth\": 2}, \"yaxis\": {\"automargin\": true, \"gridcolor\": \"white\", \"linecolor\": \"white\", \"ticks\": \"\", \"title\": {\"standoff\": 15}, \"zerolinecolor\": \"white\", \"zerolinewidth\": 2}}}, \"title\": {\"text\": \"Top Game Genres - vintage games\"}, \"xaxis\": {\"anchor\": \"y\", \"domain\": [0.0, 1.0], \"title\": {\"text\": \"Genre\"}}, \"yaxis\": {\"anchor\": \"x\", \"domain\": [0.0, 1.0], \"title\": {\"text\": \"Game Count\"}}},                        {\"responsive\": true}                    ).then(function(){\n",
       "                            \n",
       "var gd = document.getElementById('46cc6703-1657-41b8-8a03-b4ec0597dc2c');\n",
       "var x = new MutationObserver(function (mutations, observer) {{\n",
       "        var display = window.getComputedStyle(gd).display;\n",
       "        if (!display || display === 'none') {{\n",
       "            console.log([gd, 'removed!']);\n",
       "            Plotly.purge(gd);\n",
       "            observer.disconnect();\n",
       "        }}\n",
       "}});\n",
       "\n",
       "// Listen for the removal of the full notebook cells\n",
       "var notebookContainer = gd.closest('#notebook-container');\n",
       "if (notebookContainer) {{\n",
       "    x.observe(notebookContainer, {childList: true});\n",
       "}}\n",
       "\n",
       "// Listen for the clearing of the current output cell\n",
       "var outputEl = gd.closest('.output');\n",
       "if (outputEl) {{\n",
       "    x.observe(outputEl, {childList: true});\n",
       "}}\n",
       "\n",
       "                        })                };                });            </script>        </div>"
      ]
     },
     "metadata": {},
     "output_type": "display_data"
    }
   ],
   "source": [
    "# Bar Graph of top Genres\n",
    "fig = px.bar(sorted_genre_count, title=\"Top Game Genres - vintage games\", x=\"Genre\", y=\"Game Count\")\n",
    "fig.show()\n",
    "fig.write_html(\"../static/img/vintagegenres.html\")"
   ]
  },
  {
   "cell_type": "code",
   "execution_count": 8,
   "metadata": {},
   "outputs": [
    {
     "data": {
      "text/html": [
       "<div>\n",
       "<style scoped>\n",
       "    .dataframe tbody tr th:only-of-type {\n",
       "        vertical-align: middle;\n",
       "    }\n",
       "\n",
       "    .dataframe tbody tr th {\n",
       "        vertical-align: top;\n",
       "    }\n",
       "\n",
       "    .dataframe thead th {\n",
       "        text-align: right;\n",
       "    }\n",
       "</style>\n",
       "<table border=\"1\" class=\"dataframe\">\n",
       "  <thead>\n",
       "    <tr style=\"text-align: right;\">\n",
       "      <th></th>\n",
       "      <th>Genre</th>\n",
       "      <th>Year</th>\n",
       "      <th>Games per Genre</th>\n",
       "    </tr>\n",
       "  </thead>\n",
       "  <tbody>\n",
       "    <tr>\n",
       "      <th>0</th>\n",
       "      <td>Action</td>\n",
       "      <td>1981</td>\n",
       "      <td>20</td>\n",
       "    </tr>\n",
       "    <tr>\n",
       "      <th>1</th>\n",
       "      <td>Action</td>\n",
       "      <td>1982</td>\n",
       "      <td>10</td>\n",
       "    </tr>\n",
       "    <tr>\n",
       "      <th>2</th>\n",
       "      <td>Action</td>\n",
       "      <td>1983</td>\n",
       "      <td>5</td>\n",
       "    </tr>\n",
       "    <tr>\n",
       "      <th>3</th>\n",
       "      <td>Action</td>\n",
       "      <td>1984</td>\n",
       "      <td>1</td>\n",
       "    </tr>\n",
       "    <tr>\n",
       "      <th>4</th>\n",
       "      <td>Action</td>\n",
       "      <td>1985</td>\n",
       "      <td>1</td>\n",
       "    </tr>\n",
       "    <tr>\n",
       "      <th>...</th>\n",
       "      <td>...</td>\n",
       "      <td>...</td>\n",
       "      <td>...</td>\n",
       "    </tr>\n",
       "    <tr>\n",
       "      <th>178</th>\n",
       "      <td>Strategy</td>\n",
       "      <td>1997</td>\n",
       "      <td>5</td>\n",
       "    </tr>\n",
       "    <tr>\n",
       "      <th>179</th>\n",
       "      <td>Strategy</td>\n",
       "      <td>1998</td>\n",
       "      <td>10</td>\n",
       "    </tr>\n",
       "    <tr>\n",
       "      <th>180</th>\n",
       "      <td>Strategy</td>\n",
       "      <td>1999</td>\n",
       "      <td>13</td>\n",
       "    </tr>\n",
       "    <tr>\n",
       "      <th>181</th>\n",
       "      <td>Strategy</td>\n",
       "      <td>2000</td>\n",
       "      <td>1</td>\n",
       "    </tr>\n",
       "    <tr>\n",
       "      <th>182</th>\n",
       "      <td>Strategy</td>\n",
       "      <td>2001</td>\n",
       "      <td>1</td>\n",
       "    </tr>\n",
       "  </tbody>\n",
       "</table>\n",
       "<p>183 rows × 3 columns</p>\n",
       "</div>"
      ],
      "text/plain": [
       "        Genre  Year  Games per Genre\n",
       "0      Action  1981               20\n",
       "1      Action  1982               10\n",
       "2      Action  1983                5\n",
       "3      Action  1984                1\n",
       "4      Action  1985                1\n",
       "..        ...   ...              ...\n",
       "178  Strategy  1997                5\n",
       "179  Strategy  1998               10\n",
       "180  Strategy  1999               13\n",
       "181  Strategy  2000                1\n",
       "182  Strategy  2001                1\n",
       "\n",
       "[183 rows x 3 columns]"
      ]
     },
     "execution_count": 8,
     "metadata": {},
     "output_type": "execute_result"
    }
   ],
   "source": [
    "# create genre by year table for viz\n",
    "genre_year = sales_df.groupby([\"Genre\", \"Year\"], as_index=False).count()\n",
    "genre_by_year = genre_year[[\"Genre\", \"Year\", \"Platform\"]].rename(columns={\"Platform\": \"Games per Genre\"})\n",
    "genre_by_year"
   ]
  },
  {
   "cell_type": "code",
   "execution_count": 9,
   "metadata": {},
   "outputs": [
    {
     "data": {
      "application/vnd.plotly.v1+json": {
       "config": {
        "plotlyServerURL": "https://plot.ly"
       },
       "data": [
        {
         "alignmentgroup": "True",
         "hovertemplate": "Genre=Action<br>Year=%{x}<br>Games per Genre=%{y}<extra></extra>",
         "legendgroup": "Action",
         "marker": {
          "color": "#636EFA"
         },
         "name": "Action",
         "offsetgroup": "Action",
         "orientation": "v",
         "showlegend": true,
         "textposition": "auto",
         "type": "bar",
         "x": [
          1981,
          1982,
          1983,
          1984,
          1985,
          1986,
          1987,
          1988,
          1989,
          1990,
          1993,
          1995,
          1996,
          1997,
          1998,
          1999,
          2000,
          2001,
          2002
         ],
         "xaxis": "x",
         "y": [
          20,
          10,
          5,
          1,
          1,
          3,
          2,
          1,
          2,
          3,
          1,
          5,
          16,
          21,
          34,
          30,
          27,
          16,
          2
         ],
         "yaxis": "y"
        },
        {
         "alignmentgroup": "True",
         "hovertemplate": "Genre=Adventure<br>Year=%{x}<br>Games per Genre=%{y}<extra></extra>",
         "legendgroup": "Adventure",
         "marker": {
          "color": "#EF553B"
         },
         "name": "Adventure",
         "offsetgroup": "Adventure",
         "orientation": "v",
         "showlegend": true,
         "textposition": "auto",
         "type": "bar",
         "x": [
          1987,
          1992,
          1993,
          1994,
          1995,
          1996,
          1997,
          1998,
          1999,
          2000,
          2001
         ],
         "xaxis": "x",
         "y": [
          1,
          1,
          1,
          2,
          2,
          6,
          5,
          3,
          6,
          6,
          5
         ],
         "yaxis": "y"
        },
        {
         "alignmentgroup": "True",
         "hovertemplate": "Genre=Fighting<br>Year=%{x}<br>Games per Genre=%{y}<extra></extra>",
         "legendgroup": "Fighting",
         "marker": {
          "color": "#00CC96"
         },
         "name": "Fighting",
         "offsetgroup": "Fighting",
         "orientation": "v",
         "showlegend": true,
         "textposition": "auto",
         "type": "bar",
         "x": [
          1980,
          1987,
          1992,
          1993,
          1994,
          1995,
          1996,
          1997,
          1998,
          1999,
          2000,
          2001,
          2002
         ],
         "xaxis": "x",
         "y": [
          1,
          2,
          5,
          3,
          12,
          14,
          15,
          17,
          28,
          11,
          13,
          2,
          1
         ],
         "yaxis": "y"
        },
        {
         "alignmentgroup": "True",
         "hovertemplate": "Genre=Misc<br>Year=%{x}<br>Games per Genre=%{y}<extra></extra>",
         "legendgroup": "Misc",
         "marker": {
          "color": "#AB63FA"
         },
         "name": "Misc",
         "offsetgroup": "Misc",
         "orientation": "v",
         "showlegend": true,
         "textposition": "auto",
         "type": "bar",
         "x": [
          1980,
          1982,
          1992,
          1995,
          1996,
          1997,
          1998,
          1999,
          2000,
          2001
         ],
         "xaxis": "x",
         "y": [
          2,
          1,
          1,
          2,
          7,
          5,
          13,
          10,
          7,
          1
         ],
         "yaxis": "y"
        },
        {
         "alignmentgroup": "True",
         "hovertemplate": "Genre=Platform<br>Year=%{x}<br>Games per Genre=%{y}<extra></extra>",
         "legendgroup": "Platform",
         "marker": {
          "color": "#ff8001"
         },
         "name": "Platform",
         "offsetgroup": "Platform",
         "orientation": "v",
         "showlegend": true,
         "textposition": "auto",
         "type": "bar",
         "x": [
          1981,
          1982,
          1983,
          1985,
          1986,
          1987,
          1988,
          1990,
          1991,
          1992,
          1993,
          1994,
          1995,
          1996,
          1997,
          1998,
          1999,
          2000,
          2001
         ],
         "xaxis": "x",
         "y": [
          1,
          5,
          2,
          4,
          2,
          1,
          3,
          1,
          4,
          2,
          5,
          4,
          6,
          8,
          12,
          19,
          13,
          12,
          3
         ],
         "yaxis": "y"
        },
        {
         "alignmentgroup": "True",
         "hovertemplate": "Genre=Puzzle<br>Year=%{x}<br>Games per Genre=%{y}<extra></extra>",
         "legendgroup": "Puzzle",
         "marker": {
          "color": "#00fcfe"
         },
         "name": "Puzzle",
         "offsetgroup": "Puzzle",
         "orientation": "v",
         "showlegend": true,
         "textposition": "auto",
         "type": "bar",
         "x": [
          1981,
          1982,
          1983,
          1984,
          1985,
          1988,
          1989,
          1990,
          1991,
          1992,
          1993,
          1994,
          1995,
          1996,
          1997,
          1998,
          1999,
          2000,
          2001
         ],
         "xaxis": "x",
         "y": [
          2,
          2,
          1,
          1,
          3,
          1,
          1,
          1,
          1,
          1,
          1,
          1,
          4,
          2,
          8,
          9,
          5,
          4,
          3
         ],
         "yaxis": "y"
        },
        {
         "alignmentgroup": "True",
         "hovertemplate": "Genre=Racing<br>Year=%{x}<br>Games per Genre=%{y}<extra></extra>",
         "legendgroup": "Racing",
         "marker": {
          "color": "#FE00FA"
         },
         "name": "Racing",
         "offsetgroup": "Racing",
         "orientation": "v",
         "showlegend": true,
         "textposition": "auto",
         "type": "bar",
         "x": [
          1981,
          1982,
          1984,
          1986,
          1988,
          1990,
          1992,
          1993,
          1994,
          1995,
          1996,
          1997,
          1998,
          1999,
          2000,
          2001,
          2002
         ],
         "xaxis": "x",
         "y": [
          1,
          2,
          2,
          1,
          1,
          1,
          1,
          2,
          4,
          9,
          19,
          28,
          35,
          40,
          28,
          8,
          1
         ],
         "yaxis": "y"
        },
        {
         "alignmentgroup": "True",
         "hovertemplate": "Genre=Role-Playing<br>Year=%{x}<br>Games per Genre=%{y}<extra></extra>",
         "legendgroup": "Role-Playing",
         "marker": {
          "color": "#16FF32"
         },
         "name": "Role-Playing",
         "offsetgroup": "Role-Playing",
         "orientation": "v",
         "showlegend": true,
         "textposition": "auto",
         "type": "bar",
         "x": [
          1986,
          1987,
          1991,
          1993,
          1995,
          1996,
          1997,
          1998,
          1999,
          2000,
          2001
         ],
         "xaxis": "x",
         "y": [
          1,
          2,
          1,
          2,
          6,
          5,
          8,
          12,
          17,
          5,
          3
         ],
         "yaxis": "y"
        },
        {
         "alignmentgroup": "True",
         "hovertemplate": "Genre=Shooter<br>Year=%{x}<br>Games per Genre=%{y}<extra></extra>",
         "legendgroup": "Shooter",
         "marker": {
          "color": "#FF97FF"
         },
         "name": "Shooter",
         "offsetgroup": "Shooter",
         "orientation": "v",
         "showlegend": true,
         "textposition": "auto",
         "type": "bar",
         "x": [
          1980,
          1981,
          1982,
          1983,
          1984,
          1985,
          1986,
          1987,
          1988,
          1991,
          1992,
          1993,
          1994,
          1995,
          1996,
          1997,
          1998,
          1999,
          2000,
          2001,
          2002
         ],
         "xaxis": "x",
         "y": [
          1,
          8,
          4,
          1,
          2,
          1,
          3,
          2,
          1,
          3,
          1,
          2,
          6,
          15,
          15,
          18,
          16,
          14,
          11,
          7,
          1
         ],
         "yaxis": "y"
        },
        {
         "alignmentgroup": "True",
         "hovertemplate": "Genre=Simulation<br>Year=%{x}<br>Games per Genre=%{y}<extra></extra>",
         "legendgroup": "Simulation",
         "marker": {
          "color": "#FFFF00"
         },
         "name": "Simulation",
         "offsetgroup": "Simulation",
         "orientation": "v",
         "showlegend": true,
         "textposition": "auto",
         "type": "bar",
         "x": [
          1981,
          1990,
          1991,
          1994,
          1995,
          1996,
          1997,
          1998,
          1999,
          2000
         ],
         "xaxis": "x",
         "y": [
          1,
          1,
          2,
          4,
          8,
          7,
          11,
          5,
          6,
          4
         ],
         "yaxis": "y"
        },
        {
         "alignmentgroup": "True",
         "hovertemplate": "Genre=Sports<br>Year=%{x}<br>Games per Genre=%{y}<extra></extra>",
         "legendgroup": "Sports",
         "marker": {
          "color": "#2dc997"
         },
         "name": "Sports",
         "offsetgroup": "Sports",
         "orientation": "v",
         "showlegend": true,
         "textposition": "auto",
         "type": "bar",
         "x": [
          1980,
          1981,
          1982,
          1983,
          1984,
          1985,
          1986,
          1987,
          1988,
          1990,
          1991,
          1992,
          1994,
          1995,
          1996,
          1997,
          1998,
          1999,
          2000,
          2001,
          2002,
          2003
         ],
         "xaxis": "x",
         "y": [
          1,
          3,
          2,
          1,
          2,
          1,
          2,
          2,
          1,
          1,
          5,
          2,
          9,
          9,
          33,
          30,
          47,
          39,
          36,
          18,
          1,
          1
         ],
         "yaxis": "y"
        },
        {
         "alignmentgroup": "True",
         "hovertemplate": "Genre=Strategy<br>Year=%{x}<br>Games per Genre=%{y}<extra></extra>",
         "legendgroup": "Strategy",
         "marker": {
          "color": "#B10DA1"
         },
         "name": "Strategy",
         "offsetgroup": "Strategy",
         "orientation": "v",
         "showlegend": true,
         "textposition": "auto",
         "type": "bar",
         "x": [
          1991,
          1992,
          1993,
          1994,
          1995,
          1996,
          1997,
          1998,
          1999,
          2000,
          2001
         ],
         "xaxis": "x",
         "y": [
          1,
          1,
          1,
          1,
          4,
          4,
          5,
          10,
          13,
          1,
          1
         ],
         "yaxis": "y"
        }
       ],
       "layout": {
        "barmode": "relative",
        "legend": {
         "title": {
          "text": "Genre"
         },
         "tracegroupgap": 0
        },
        "template": {
         "data": {
          "bar": [
           {
            "error_x": {
             "color": "#2a3f5f"
            },
            "error_y": {
             "color": "#2a3f5f"
            },
            "marker": {
             "line": {
              "color": "#E5ECF6",
              "width": 0.5
             }
            },
            "type": "bar"
           }
          ],
          "barpolar": [
           {
            "marker": {
             "line": {
              "color": "#E5ECF6",
              "width": 0.5
             }
            },
            "type": "barpolar"
           }
          ],
          "carpet": [
           {
            "aaxis": {
             "endlinecolor": "#2a3f5f",
             "gridcolor": "white",
             "linecolor": "white",
             "minorgridcolor": "white",
             "startlinecolor": "#2a3f5f"
            },
            "baxis": {
             "endlinecolor": "#2a3f5f",
             "gridcolor": "white",
             "linecolor": "white",
             "minorgridcolor": "white",
             "startlinecolor": "#2a3f5f"
            },
            "type": "carpet"
           }
          ],
          "choropleth": [
           {
            "colorbar": {
             "outlinewidth": 0,
             "ticks": ""
            },
            "type": "choropleth"
           }
          ],
          "contour": [
           {
            "colorbar": {
             "outlinewidth": 0,
             "ticks": ""
            },
            "colorscale": [
             [
              0,
              "#0d0887"
             ],
             [
              0.1111111111111111,
              "#46039f"
             ],
             [
              0.2222222222222222,
              "#7201a8"
             ],
             [
              0.3333333333333333,
              "#9c179e"
             ],
             [
              0.4444444444444444,
              "#bd3786"
             ],
             [
              0.5555555555555556,
              "#d8576b"
             ],
             [
              0.6666666666666666,
              "#ed7953"
             ],
             [
              0.7777777777777778,
              "#fb9f3a"
             ],
             [
              0.8888888888888888,
              "#fdca26"
             ],
             [
              1,
              "#f0f921"
             ]
            ],
            "type": "contour"
           }
          ],
          "contourcarpet": [
           {
            "colorbar": {
             "outlinewidth": 0,
             "ticks": ""
            },
            "type": "contourcarpet"
           }
          ],
          "heatmap": [
           {
            "colorbar": {
             "outlinewidth": 0,
             "ticks": ""
            },
            "colorscale": [
             [
              0,
              "#0d0887"
             ],
             [
              0.1111111111111111,
              "#46039f"
             ],
             [
              0.2222222222222222,
              "#7201a8"
             ],
             [
              0.3333333333333333,
              "#9c179e"
             ],
             [
              0.4444444444444444,
              "#bd3786"
             ],
             [
              0.5555555555555556,
              "#d8576b"
             ],
             [
              0.6666666666666666,
              "#ed7953"
             ],
             [
              0.7777777777777778,
              "#fb9f3a"
             ],
             [
              0.8888888888888888,
              "#fdca26"
             ],
             [
              1,
              "#f0f921"
             ]
            ],
            "type": "heatmap"
           }
          ],
          "heatmapgl": [
           {
            "colorbar": {
             "outlinewidth": 0,
             "ticks": ""
            },
            "colorscale": [
             [
              0,
              "#0d0887"
             ],
             [
              0.1111111111111111,
              "#46039f"
             ],
             [
              0.2222222222222222,
              "#7201a8"
             ],
             [
              0.3333333333333333,
              "#9c179e"
             ],
             [
              0.4444444444444444,
              "#bd3786"
             ],
             [
              0.5555555555555556,
              "#d8576b"
             ],
             [
              0.6666666666666666,
              "#ed7953"
             ],
             [
              0.7777777777777778,
              "#fb9f3a"
             ],
             [
              0.8888888888888888,
              "#fdca26"
             ],
             [
              1,
              "#f0f921"
             ]
            ],
            "type": "heatmapgl"
           }
          ],
          "histogram": [
           {
            "marker": {
             "colorbar": {
              "outlinewidth": 0,
              "ticks": ""
             }
            },
            "type": "histogram"
           }
          ],
          "histogram2d": [
           {
            "colorbar": {
             "outlinewidth": 0,
             "ticks": ""
            },
            "colorscale": [
             [
              0,
              "#0d0887"
             ],
             [
              0.1111111111111111,
              "#46039f"
             ],
             [
              0.2222222222222222,
              "#7201a8"
             ],
             [
              0.3333333333333333,
              "#9c179e"
             ],
             [
              0.4444444444444444,
              "#bd3786"
             ],
             [
              0.5555555555555556,
              "#d8576b"
             ],
             [
              0.6666666666666666,
              "#ed7953"
             ],
             [
              0.7777777777777778,
              "#fb9f3a"
             ],
             [
              0.8888888888888888,
              "#fdca26"
             ],
             [
              1,
              "#f0f921"
             ]
            ],
            "type": "histogram2d"
           }
          ],
          "histogram2dcontour": [
           {
            "colorbar": {
             "outlinewidth": 0,
             "ticks": ""
            },
            "colorscale": [
             [
              0,
              "#0d0887"
             ],
             [
              0.1111111111111111,
              "#46039f"
             ],
             [
              0.2222222222222222,
              "#7201a8"
             ],
             [
              0.3333333333333333,
              "#9c179e"
             ],
             [
              0.4444444444444444,
              "#bd3786"
             ],
             [
              0.5555555555555556,
              "#d8576b"
             ],
             [
              0.6666666666666666,
              "#ed7953"
             ],
             [
              0.7777777777777778,
              "#fb9f3a"
             ],
             [
              0.8888888888888888,
              "#fdca26"
             ],
             [
              1,
              "#f0f921"
             ]
            ],
            "type": "histogram2dcontour"
           }
          ],
          "mesh3d": [
           {
            "colorbar": {
             "outlinewidth": 0,
             "ticks": ""
            },
            "type": "mesh3d"
           }
          ],
          "parcoords": [
           {
            "line": {
             "colorbar": {
              "outlinewidth": 0,
              "ticks": ""
             }
            },
            "type": "parcoords"
           }
          ],
          "pie": [
           {
            "automargin": true,
            "type": "pie"
           }
          ],
          "scatter": [
           {
            "marker": {
             "colorbar": {
              "outlinewidth": 0,
              "ticks": ""
             }
            },
            "type": "scatter"
           }
          ],
          "scatter3d": [
           {
            "line": {
             "colorbar": {
              "outlinewidth": 0,
              "ticks": ""
             }
            },
            "marker": {
             "colorbar": {
              "outlinewidth": 0,
              "ticks": ""
             }
            },
            "type": "scatter3d"
           }
          ],
          "scattercarpet": [
           {
            "marker": {
             "colorbar": {
              "outlinewidth": 0,
              "ticks": ""
             }
            },
            "type": "scattercarpet"
           }
          ],
          "scattergeo": [
           {
            "marker": {
             "colorbar": {
              "outlinewidth": 0,
              "ticks": ""
             }
            },
            "type": "scattergeo"
           }
          ],
          "scattergl": [
           {
            "marker": {
             "colorbar": {
              "outlinewidth": 0,
              "ticks": ""
             }
            },
            "type": "scattergl"
           }
          ],
          "scattermapbox": [
           {
            "marker": {
             "colorbar": {
              "outlinewidth": 0,
              "ticks": ""
             }
            },
            "type": "scattermapbox"
           }
          ],
          "scatterpolar": [
           {
            "marker": {
             "colorbar": {
              "outlinewidth": 0,
              "ticks": ""
             }
            },
            "type": "scatterpolar"
           }
          ],
          "scatterpolargl": [
           {
            "marker": {
             "colorbar": {
              "outlinewidth": 0,
              "ticks": ""
             }
            },
            "type": "scatterpolargl"
           }
          ],
          "scatterternary": [
           {
            "marker": {
             "colorbar": {
              "outlinewidth": 0,
              "ticks": ""
             }
            },
            "type": "scatterternary"
           }
          ],
          "surface": [
           {
            "colorbar": {
             "outlinewidth": 0,
             "ticks": ""
            },
            "colorscale": [
             [
              0,
              "#0d0887"
             ],
             [
              0.1111111111111111,
              "#46039f"
             ],
             [
              0.2222222222222222,
              "#7201a8"
             ],
             [
              0.3333333333333333,
              "#9c179e"
             ],
             [
              0.4444444444444444,
              "#bd3786"
             ],
             [
              0.5555555555555556,
              "#d8576b"
             ],
             [
              0.6666666666666666,
              "#ed7953"
             ],
             [
              0.7777777777777778,
              "#fb9f3a"
             ],
             [
              0.8888888888888888,
              "#fdca26"
             ],
             [
              1,
              "#f0f921"
             ]
            ],
            "type": "surface"
           }
          ],
          "table": [
           {
            "cells": {
             "fill": {
              "color": "#EBF0F8"
             },
             "line": {
              "color": "white"
             }
            },
            "header": {
             "fill": {
              "color": "#C8D4E3"
             },
             "line": {
              "color": "white"
             }
            },
            "type": "table"
           }
          ]
         },
         "layout": {
          "annotationdefaults": {
           "arrowcolor": "#2a3f5f",
           "arrowhead": 0,
           "arrowwidth": 1
          },
          "coloraxis": {
           "colorbar": {
            "outlinewidth": 0,
            "ticks": ""
           }
          },
          "colorscale": {
           "diverging": [
            [
             0,
             "#8e0152"
            ],
            [
             0.1,
             "#c51b7d"
            ],
            [
             0.2,
             "#de77ae"
            ],
            [
             0.3,
             "#f1b6da"
            ],
            [
             0.4,
             "#fde0ef"
            ],
            [
             0.5,
             "#f7f7f7"
            ],
            [
             0.6,
             "#e6f5d0"
            ],
            [
             0.7,
             "#b8e186"
            ],
            [
             0.8,
             "#7fbc41"
            ],
            [
             0.9,
             "#4d9221"
            ],
            [
             1,
             "#276419"
            ]
           ],
           "sequential": [
            [
             0,
             "#0d0887"
            ],
            [
             0.1111111111111111,
             "#46039f"
            ],
            [
             0.2222222222222222,
             "#7201a8"
            ],
            [
             0.3333333333333333,
             "#9c179e"
            ],
            [
             0.4444444444444444,
             "#bd3786"
            ],
            [
             0.5555555555555556,
             "#d8576b"
            ],
            [
             0.6666666666666666,
             "#ed7953"
            ],
            [
             0.7777777777777778,
             "#fb9f3a"
            ],
            [
             0.8888888888888888,
             "#fdca26"
            ],
            [
             1,
             "#f0f921"
            ]
           ],
           "sequentialminus": [
            [
             0,
             "#0d0887"
            ],
            [
             0.1111111111111111,
             "#46039f"
            ],
            [
             0.2222222222222222,
             "#7201a8"
            ],
            [
             0.3333333333333333,
             "#9c179e"
            ],
            [
             0.4444444444444444,
             "#bd3786"
            ],
            [
             0.5555555555555556,
             "#d8576b"
            ],
            [
             0.6666666666666666,
             "#ed7953"
            ],
            [
             0.7777777777777778,
             "#fb9f3a"
            ],
            [
             0.8888888888888888,
             "#fdca26"
            ],
            [
             1,
             "#f0f921"
            ]
           ]
          },
          "colorway": [
           "#636efa",
           "#EF553B",
           "#00cc96",
           "#ab63fa",
           "#FFA15A",
           "#19d3f3",
           "#FF6692",
           "#B6E880",
           "#FF97FF",
           "#FECB52"
          ],
          "font": {
           "color": "#2a3f5f"
          },
          "geo": {
           "bgcolor": "white",
           "lakecolor": "white",
           "landcolor": "#E5ECF6",
           "showlakes": true,
           "showland": true,
           "subunitcolor": "white"
          },
          "hoverlabel": {
           "align": "left"
          },
          "hovermode": "closest",
          "mapbox": {
           "style": "light"
          },
          "paper_bgcolor": "white",
          "plot_bgcolor": "#E5ECF6",
          "polar": {
           "angularaxis": {
            "gridcolor": "white",
            "linecolor": "white",
            "ticks": ""
           },
           "bgcolor": "#E5ECF6",
           "radialaxis": {
            "gridcolor": "white",
            "linecolor": "white",
            "ticks": ""
           }
          },
          "scene": {
           "xaxis": {
            "backgroundcolor": "#E5ECF6",
            "gridcolor": "white",
            "gridwidth": 2,
            "linecolor": "white",
            "showbackground": true,
            "ticks": "",
            "zerolinecolor": "white"
           },
           "yaxis": {
            "backgroundcolor": "#E5ECF6",
            "gridcolor": "white",
            "gridwidth": 2,
            "linecolor": "white",
            "showbackground": true,
            "ticks": "",
            "zerolinecolor": "white"
           },
           "zaxis": {
            "backgroundcolor": "#E5ECF6",
            "gridcolor": "white",
            "gridwidth": 2,
            "linecolor": "white",
            "showbackground": true,
            "ticks": "",
            "zerolinecolor": "white"
           }
          },
          "shapedefaults": {
           "line": {
            "color": "#2a3f5f"
           }
          },
          "ternary": {
           "aaxis": {
            "gridcolor": "white",
            "linecolor": "white",
            "ticks": ""
           },
           "baxis": {
            "gridcolor": "white",
            "linecolor": "white",
            "ticks": ""
           },
           "bgcolor": "#E5ECF6",
           "caxis": {
            "gridcolor": "white",
            "linecolor": "white",
            "ticks": ""
           }
          },
          "title": {
           "x": 0.05
          },
          "xaxis": {
           "automargin": true,
           "gridcolor": "white",
           "linecolor": "white",
           "ticks": "",
           "title": {
            "standoff": 15
           },
           "zerolinecolor": "white",
           "zerolinewidth": 2
          },
          "yaxis": {
           "automargin": true,
           "gridcolor": "white",
           "linecolor": "white",
           "ticks": "",
           "title": {
            "standoff": 15
           },
           "zerolinecolor": "white",
           "zerolinewidth": 2
          }
         }
        },
        "title": {
         "text": "Top Genres by Year"
        },
        "xaxis": {
         "anchor": "y",
         "domain": [
          0,
          1
         ],
         "title": {
          "text": "Year"
         }
        },
        "yaxis": {
         "anchor": "x",
         "domain": [
          0,
          1
         ],
         "range": [
          0,
          250
         ],
         "title": {
          "text": "Games per Genre"
         }
        }
       }
      },
      "text/html": [
       "<div>                            <div id=\"cd210ba2-7db1-4d8f-ad66-892382793b82\" class=\"plotly-graph-div\" style=\"height:525px; width:100%;\"></div>            <script type=\"text/javascript\">                require([\"plotly\"], function(Plotly) {                    window.PLOTLYENV=window.PLOTLYENV || {};                                    if (document.getElementById(\"cd210ba2-7db1-4d8f-ad66-892382793b82\")) {                    Plotly.newPlot(                        \"cd210ba2-7db1-4d8f-ad66-892382793b82\",                        [{\"alignmentgroup\": \"True\", \"hovertemplate\": \"Genre=Action<br>Year=%{x}<br>Games per Genre=%{y}<extra></extra>\", \"legendgroup\": \"Action\", \"marker\": {\"color\": \"#636EFA\"}, \"name\": \"Action\", \"offsetgroup\": \"Action\", \"orientation\": \"v\", \"showlegend\": true, \"textposition\": \"auto\", \"type\": \"bar\", \"x\": [1981, 1982, 1983, 1984, 1985, 1986, 1987, 1988, 1989, 1990, 1993, 1995, 1996, 1997, 1998, 1999, 2000, 2001, 2002], \"xaxis\": \"x\", \"y\": [20, 10, 5, 1, 1, 3, 2, 1, 2, 3, 1, 5, 16, 21, 34, 30, 27, 16, 2], \"yaxis\": \"y\"}, {\"alignmentgroup\": \"True\", \"hovertemplate\": \"Genre=Adventure<br>Year=%{x}<br>Games per Genre=%{y}<extra></extra>\", \"legendgroup\": \"Adventure\", \"marker\": {\"color\": \"#EF553B\"}, \"name\": \"Adventure\", \"offsetgroup\": \"Adventure\", \"orientation\": \"v\", \"showlegend\": true, \"textposition\": \"auto\", \"type\": \"bar\", \"x\": [1987, 1992, 1993, 1994, 1995, 1996, 1997, 1998, 1999, 2000, 2001], \"xaxis\": \"x\", \"y\": [1, 1, 1, 2, 2, 6, 5, 3, 6, 6, 5], \"yaxis\": \"y\"}, {\"alignmentgroup\": \"True\", \"hovertemplate\": \"Genre=Fighting<br>Year=%{x}<br>Games per Genre=%{y}<extra></extra>\", \"legendgroup\": \"Fighting\", \"marker\": {\"color\": \"#00CC96\"}, \"name\": \"Fighting\", \"offsetgroup\": \"Fighting\", \"orientation\": \"v\", \"showlegend\": true, \"textposition\": \"auto\", \"type\": \"bar\", \"x\": [1980, 1987, 1992, 1993, 1994, 1995, 1996, 1997, 1998, 1999, 2000, 2001, 2002], \"xaxis\": \"x\", \"y\": [1, 2, 5, 3, 12, 14, 15, 17, 28, 11, 13, 2, 1], \"yaxis\": \"y\"}, {\"alignmentgroup\": \"True\", \"hovertemplate\": \"Genre=Misc<br>Year=%{x}<br>Games per Genre=%{y}<extra></extra>\", \"legendgroup\": \"Misc\", \"marker\": {\"color\": \"#AB63FA\"}, \"name\": \"Misc\", \"offsetgroup\": \"Misc\", \"orientation\": \"v\", \"showlegend\": true, \"textposition\": \"auto\", \"type\": \"bar\", \"x\": [1980, 1982, 1992, 1995, 1996, 1997, 1998, 1999, 2000, 2001], \"xaxis\": \"x\", \"y\": [2, 1, 1, 2, 7, 5, 13, 10, 7, 1], \"yaxis\": \"y\"}, {\"alignmentgroup\": \"True\", \"hovertemplate\": \"Genre=Platform<br>Year=%{x}<br>Games per Genre=%{y}<extra></extra>\", \"legendgroup\": \"Platform\", \"marker\": {\"color\": \"#ff8001\"}, \"name\": \"Platform\", \"offsetgroup\": \"Platform\", \"orientation\": \"v\", \"showlegend\": true, \"textposition\": \"auto\", \"type\": \"bar\", \"x\": [1981, 1982, 1983, 1985, 1986, 1987, 1988, 1990, 1991, 1992, 1993, 1994, 1995, 1996, 1997, 1998, 1999, 2000, 2001], \"xaxis\": \"x\", \"y\": [1, 5, 2, 4, 2, 1, 3, 1, 4, 2, 5, 4, 6, 8, 12, 19, 13, 12, 3], \"yaxis\": \"y\"}, {\"alignmentgroup\": \"True\", \"hovertemplate\": \"Genre=Puzzle<br>Year=%{x}<br>Games per Genre=%{y}<extra></extra>\", \"legendgroup\": \"Puzzle\", \"marker\": {\"color\": \"#00fcfe\"}, \"name\": \"Puzzle\", \"offsetgroup\": \"Puzzle\", \"orientation\": \"v\", \"showlegend\": true, \"textposition\": \"auto\", \"type\": \"bar\", \"x\": [1981, 1982, 1983, 1984, 1985, 1988, 1989, 1990, 1991, 1992, 1993, 1994, 1995, 1996, 1997, 1998, 1999, 2000, 2001], \"xaxis\": \"x\", \"y\": [2, 2, 1, 1, 3, 1, 1, 1, 1, 1, 1, 1, 4, 2, 8, 9, 5, 4, 3], \"yaxis\": \"y\"}, {\"alignmentgroup\": \"True\", \"hovertemplate\": \"Genre=Racing<br>Year=%{x}<br>Games per Genre=%{y}<extra></extra>\", \"legendgroup\": \"Racing\", \"marker\": {\"color\": \"#FE00FA\"}, \"name\": \"Racing\", \"offsetgroup\": \"Racing\", \"orientation\": \"v\", \"showlegend\": true, \"textposition\": \"auto\", \"type\": \"bar\", \"x\": [1981, 1982, 1984, 1986, 1988, 1990, 1992, 1993, 1994, 1995, 1996, 1997, 1998, 1999, 2000, 2001, 2002], \"xaxis\": \"x\", \"y\": [1, 2, 2, 1, 1, 1, 1, 2, 4, 9, 19, 28, 35, 40, 28, 8, 1], \"yaxis\": \"y\"}, {\"alignmentgroup\": \"True\", \"hovertemplate\": \"Genre=Role-Playing<br>Year=%{x}<br>Games per Genre=%{y}<extra></extra>\", \"legendgroup\": \"Role-Playing\", \"marker\": {\"color\": \"#16FF32\"}, \"name\": \"Role-Playing\", \"offsetgroup\": \"Role-Playing\", \"orientation\": \"v\", \"showlegend\": true, \"textposition\": \"auto\", \"type\": \"bar\", \"x\": [1986, 1987, 1991, 1993, 1995, 1996, 1997, 1998, 1999, 2000, 2001], \"xaxis\": \"x\", \"y\": [1, 2, 1, 2, 6, 5, 8, 12, 17, 5, 3], \"yaxis\": \"y\"}, {\"alignmentgroup\": \"True\", \"hovertemplate\": \"Genre=Shooter<br>Year=%{x}<br>Games per Genre=%{y}<extra></extra>\", \"legendgroup\": \"Shooter\", \"marker\": {\"color\": \"#FF97FF\"}, \"name\": \"Shooter\", \"offsetgroup\": \"Shooter\", \"orientation\": \"v\", \"showlegend\": true, \"textposition\": \"auto\", \"type\": \"bar\", \"x\": [1980, 1981, 1982, 1983, 1984, 1985, 1986, 1987, 1988, 1991, 1992, 1993, 1994, 1995, 1996, 1997, 1998, 1999, 2000, 2001, 2002], \"xaxis\": \"x\", \"y\": [1, 8, 4, 1, 2, 1, 3, 2, 1, 3, 1, 2, 6, 15, 15, 18, 16, 14, 11, 7, 1], \"yaxis\": \"y\"}, {\"alignmentgroup\": \"True\", \"hovertemplate\": \"Genre=Simulation<br>Year=%{x}<br>Games per Genre=%{y}<extra></extra>\", \"legendgroup\": \"Simulation\", \"marker\": {\"color\": \"#FFFF00\"}, \"name\": \"Simulation\", \"offsetgroup\": \"Simulation\", \"orientation\": \"v\", \"showlegend\": true, \"textposition\": \"auto\", \"type\": \"bar\", \"x\": [1981, 1990, 1991, 1994, 1995, 1996, 1997, 1998, 1999, 2000], \"xaxis\": \"x\", \"y\": [1, 1, 2, 4, 8, 7, 11, 5, 6, 4], \"yaxis\": \"y\"}, {\"alignmentgroup\": \"True\", \"hovertemplate\": \"Genre=Sports<br>Year=%{x}<br>Games per Genre=%{y}<extra></extra>\", \"legendgroup\": \"Sports\", \"marker\": {\"color\": \"#2dc997\"}, \"name\": \"Sports\", \"offsetgroup\": \"Sports\", \"orientation\": \"v\", \"showlegend\": true, \"textposition\": \"auto\", \"type\": \"bar\", \"x\": [1980, 1981, 1982, 1983, 1984, 1985, 1986, 1987, 1988, 1990, 1991, 1992, 1994, 1995, 1996, 1997, 1998, 1999, 2000, 2001, 2002, 2003], \"xaxis\": \"x\", \"y\": [1, 3, 2, 1, 2, 1, 2, 2, 1, 1, 5, 2, 9, 9, 33, 30, 47, 39, 36, 18, 1, 1], \"yaxis\": \"y\"}, {\"alignmentgroup\": \"True\", \"hovertemplate\": \"Genre=Strategy<br>Year=%{x}<br>Games per Genre=%{y}<extra></extra>\", \"legendgroup\": \"Strategy\", \"marker\": {\"color\": \"#B10DA1\"}, \"name\": \"Strategy\", \"offsetgroup\": \"Strategy\", \"orientation\": \"v\", \"showlegend\": true, \"textposition\": \"auto\", \"type\": \"bar\", \"x\": [1991, 1992, 1993, 1994, 1995, 1996, 1997, 1998, 1999, 2000, 2001], \"xaxis\": \"x\", \"y\": [1, 1, 1, 1, 4, 4, 5, 10, 13, 1, 1], \"yaxis\": \"y\"}],                        {\"barmode\": \"relative\", \"legend\": {\"title\": {\"text\": \"Genre\"}, \"tracegroupgap\": 0}, \"template\": {\"data\": {\"bar\": [{\"error_x\": {\"color\": \"#2a3f5f\"}, \"error_y\": {\"color\": \"#2a3f5f\"}, \"marker\": {\"line\": {\"color\": \"#E5ECF6\", \"width\": 0.5}}, \"type\": \"bar\"}], \"barpolar\": [{\"marker\": {\"line\": {\"color\": \"#E5ECF6\", \"width\": 0.5}}, \"type\": \"barpolar\"}], \"carpet\": [{\"aaxis\": {\"endlinecolor\": \"#2a3f5f\", \"gridcolor\": \"white\", \"linecolor\": \"white\", \"minorgridcolor\": \"white\", \"startlinecolor\": \"#2a3f5f\"}, \"baxis\": {\"endlinecolor\": \"#2a3f5f\", \"gridcolor\": \"white\", \"linecolor\": \"white\", \"minorgridcolor\": \"white\", \"startlinecolor\": \"#2a3f5f\"}, \"type\": \"carpet\"}], \"choropleth\": [{\"colorbar\": {\"outlinewidth\": 0, \"ticks\": \"\"}, \"type\": \"choropleth\"}], \"contour\": [{\"colorbar\": {\"outlinewidth\": 0, \"ticks\": \"\"}, \"colorscale\": [[0.0, \"#0d0887\"], [0.1111111111111111, \"#46039f\"], [0.2222222222222222, \"#7201a8\"], [0.3333333333333333, \"#9c179e\"], [0.4444444444444444, \"#bd3786\"], [0.5555555555555556, \"#d8576b\"], [0.6666666666666666, \"#ed7953\"], [0.7777777777777778, \"#fb9f3a\"], [0.8888888888888888, \"#fdca26\"], [1.0, \"#f0f921\"]], \"type\": \"contour\"}], \"contourcarpet\": [{\"colorbar\": {\"outlinewidth\": 0, \"ticks\": \"\"}, \"type\": \"contourcarpet\"}], \"heatmap\": [{\"colorbar\": {\"outlinewidth\": 0, \"ticks\": \"\"}, \"colorscale\": [[0.0, \"#0d0887\"], [0.1111111111111111, \"#46039f\"], [0.2222222222222222, \"#7201a8\"], [0.3333333333333333, \"#9c179e\"], [0.4444444444444444, \"#bd3786\"], [0.5555555555555556, \"#d8576b\"], [0.6666666666666666, \"#ed7953\"], [0.7777777777777778, \"#fb9f3a\"], [0.8888888888888888, \"#fdca26\"], [1.0, \"#f0f921\"]], \"type\": \"heatmap\"}], \"heatmapgl\": [{\"colorbar\": {\"outlinewidth\": 0, \"ticks\": \"\"}, \"colorscale\": [[0.0, \"#0d0887\"], [0.1111111111111111, \"#46039f\"], [0.2222222222222222, \"#7201a8\"], [0.3333333333333333, \"#9c179e\"], [0.4444444444444444, \"#bd3786\"], [0.5555555555555556, \"#d8576b\"], [0.6666666666666666, \"#ed7953\"], [0.7777777777777778, \"#fb9f3a\"], [0.8888888888888888, \"#fdca26\"], [1.0, \"#f0f921\"]], \"type\": \"heatmapgl\"}], \"histogram\": [{\"marker\": {\"colorbar\": {\"outlinewidth\": 0, \"ticks\": \"\"}}, \"type\": \"histogram\"}], \"histogram2d\": [{\"colorbar\": {\"outlinewidth\": 0, \"ticks\": \"\"}, \"colorscale\": [[0.0, \"#0d0887\"], [0.1111111111111111, \"#46039f\"], [0.2222222222222222, \"#7201a8\"], [0.3333333333333333, \"#9c179e\"], [0.4444444444444444, \"#bd3786\"], [0.5555555555555556, \"#d8576b\"], [0.6666666666666666, \"#ed7953\"], [0.7777777777777778, \"#fb9f3a\"], [0.8888888888888888, \"#fdca26\"], [1.0, \"#f0f921\"]], \"type\": \"histogram2d\"}], \"histogram2dcontour\": [{\"colorbar\": {\"outlinewidth\": 0, \"ticks\": \"\"}, \"colorscale\": [[0.0, \"#0d0887\"], [0.1111111111111111, \"#46039f\"], [0.2222222222222222, \"#7201a8\"], [0.3333333333333333, \"#9c179e\"], [0.4444444444444444, \"#bd3786\"], [0.5555555555555556, \"#d8576b\"], [0.6666666666666666, \"#ed7953\"], [0.7777777777777778, \"#fb9f3a\"], [0.8888888888888888, \"#fdca26\"], [1.0, \"#f0f921\"]], \"type\": \"histogram2dcontour\"}], \"mesh3d\": [{\"colorbar\": {\"outlinewidth\": 0, \"ticks\": \"\"}, \"type\": \"mesh3d\"}], \"parcoords\": [{\"line\": {\"colorbar\": {\"outlinewidth\": 0, \"ticks\": \"\"}}, \"type\": \"parcoords\"}], \"pie\": [{\"automargin\": true, \"type\": \"pie\"}], \"scatter\": [{\"marker\": {\"colorbar\": {\"outlinewidth\": 0, \"ticks\": \"\"}}, \"type\": \"scatter\"}], \"scatter3d\": [{\"line\": {\"colorbar\": {\"outlinewidth\": 0, \"ticks\": \"\"}}, \"marker\": {\"colorbar\": {\"outlinewidth\": 0, \"ticks\": \"\"}}, \"type\": \"scatter3d\"}], \"scattercarpet\": [{\"marker\": {\"colorbar\": {\"outlinewidth\": 0, \"ticks\": \"\"}}, \"type\": \"scattercarpet\"}], \"scattergeo\": [{\"marker\": {\"colorbar\": {\"outlinewidth\": 0, \"ticks\": \"\"}}, \"type\": \"scattergeo\"}], \"scattergl\": [{\"marker\": {\"colorbar\": {\"outlinewidth\": 0, \"ticks\": \"\"}}, \"type\": \"scattergl\"}], \"scattermapbox\": [{\"marker\": {\"colorbar\": {\"outlinewidth\": 0, \"ticks\": \"\"}}, \"type\": \"scattermapbox\"}], \"scatterpolar\": [{\"marker\": {\"colorbar\": {\"outlinewidth\": 0, \"ticks\": \"\"}}, \"type\": \"scatterpolar\"}], \"scatterpolargl\": [{\"marker\": {\"colorbar\": {\"outlinewidth\": 0, \"ticks\": \"\"}}, \"type\": \"scatterpolargl\"}], \"scatterternary\": [{\"marker\": {\"colorbar\": {\"outlinewidth\": 0, \"ticks\": \"\"}}, \"type\": \"scatterternary\"}], \"surface\": [{\"colorbar\": {\"outlinewidth\": 0, \"ticks\": \"\"}, \"colorscale\": [[0.0, \"#0d0887\"], [0.1111111111111111, \"#46039f\"], [0.2222222222222222, \"#7201a8\"], [0.3333333333333333, \"#9c179e\"], [0.4444444444444444, \"#bd3786\"], [0.5555555555555556, \"#d8576b\"], [0.6666666666666666, \"#ed7953\"], [0.7777777777777778, \"#fb9f3a\"], [0.8888888888888888, \"#fdca26\"], [1.0, \"#f0f921\"]], \"type\": \"surface\"}], \"table\": [{\"cells\": {\"fill\": {\"color\": \"#EBF0F8\"}, \"line\": {\"color\": \"white\"}}, \"header\": {\"fill\": {\"color\": \"#C8D4E3\"}, \"line\": {\"color\": \"white\"}}, \"type\": \"table\"}]}, \"layout\": {\"annotationdefaults\": {\"arrowcolor\": \"#2a3f5f\", \"arrowhead\": 0, \"arrowwidth\": 1}, \"coloraxis\": {\"colorbar\": {\"outlinewidth\": 0, \"ticks\": \"\"}}, \"colorscale\": {\"diverging\": [[0, \"#8e0152\"], [0.1, \"#c51b7d\"], [0.2, \"#de77ae\"], [0.3, \"#f1b6da\"], [0.4, \"#fde0ef\"], [0.5, \"#f7f7f7\"], [0.6, \"#e6f5d0\"], [0.7, \"#b8e186\"], [0.8, \"#7fbc41\"], [0.9, \"#4d9221\"], [1, \"#276419\"]], \"sequential\": [[0.0, \"#0d0887\"], [0.1111111111111111, \"#46039f\"], [0.2222222222222222, \"#7201a8\"], [0.3333333333333333, \"#9c179e\"], [0.4444444444444444, \"#bd3786\"], [0.5555555555555556, \"#d8576b\"], [0.6666666666666666, \"#ed7953\"], [0.7777777777777778, \"#fb9f3a\"], [0.8888888888888888, \"#fdca26\"], [1.0, \"#f0f921\"]], \"sequentialminus\": [[0.0, \"#0d0887\"], [0.1111111111111111, \"#46039f\"], [0.2222222222222222, \"#7201a8\"], [0.3333333333333333, \"#9c179e\"], [0.4444444444444444, \"#bd3786\"], [0.5555555555555556, \"#d8576b\"], [0.6666666666666666, \"#ed7953\"], [0.7777777777777778, \"#fb9f3a\"], [0.8888888888888888, \"#fdca26\"], [1.0, \"#f0f921\"]]}, \"colorway\": [\"#636efa\", \"#EF553B\", \"#00cc96\", \"#ab63fa\", \"#FFA15A\", \"#19d3f3\", \"#FF6692\", \"#B6E880\", \"#FF97FF\", \"#FECB52\"], \"font\": {\"color\": \"#2a3f5f\"}, \"geo\": {\"bgcolor\": \"white\", \"lakecolor\": \"white\", \"landcolor\": \"#E5ECF6\", \"showlakes\": true, \"showland\": true, \"subunitcolor\": \"white\"}, \"hoverlabel\": {\"align\": \"left\"}, \"hovermode\": \"closest\", \"mapbox\": {\"style\": \"light\"}, \"paper_bgcolor\": \"white\", \"plot_bgcolor\": \"#E5ECF6\", \"polar\": {\"angularaxis\": {\"gridcolor\": \"white\", \"linecolor\": \"white\", \"ticks\": \"\"}, \"bgcolor\": \"#E5ECF6\", \"radialaxis\": {\"gridcolor\": \"white\", \"linecolor\": \"white\", \"ticks\": \"\"}}, \"scene\": {\"xaxis\": {\"backgroundcolor\": \"#E5ECF6\", \"gridcolor\": \"white\", \"gridwidth\": 2, \"linecolor\": \"white\", \"showbackground\": true, \"ticks\": \"\", \"zerolinecolor\": \"white\"}, \"yaxis\": {\"backgroundcolor\": \"#E5ECF6\", \"gridcolor\": \"white\", \"gridwidth\": 2, \"linecolor\": \"white\", \"showbackground\": true, \"ticks\": \"\", \"zerolinecolor\": \"white\"}, \"zaxis\": {\"backgroundcolor\": \"#E5ECF6\", \"gridcolor\": \"white\", \"gridwidth\": 2, \"linecolor\": \"white\", \"showbackground\": true, \"ticks\": \"\", \"zerolinecolor\": \"white\"}}, \"shapedefaults\": {\"line\": {\"color\": \"#2a3f5f\"}}, \"ternary\": {\"aaxis\": {\"gridcolor\": \"white\", \"linecolor\": \"white\", \"ticks\": \"\"}, \"baxis\": {\"gridcolor\": \"white\", \"linecolor\": \"white\", \"ticks\": \"\"}, \"bgcolor\": \"#E5ECF6\", \"caxis\": {\"gridcolor\": \"white\", \"linecolor\": \"white\", \"ticks\": \"\"}}, \"title\": {\"x\": 0.05}, \"xaxis\": {\"automargin\": true, \"gridcolor\": \"white\", \"linecolor\": \"white\", \"ticks\": \"\", \"title\": {\"standoff\": 15}, \"zerolinecolor\": \"white\", \"zerolinewidth\": 2}, \"yaxis\": {\"automargin\": true, \"gridcolor\": \"white\", \"linecolor\": \"white\", \"ticks\": \"\", \"title\": {\"standoff\": 15}, \"zerolinecolor\": \"white\", \"zerolinewidth\": 2}}}, \"title\": {\"text\": \"Top Genres by Year\"}, \"xaxis\": {\"anchor\": \"y\", \"domain\": [0.0, 1.0], \"title\": {\"text\": \"Year\"}}, \"yaxis\": {\"anchor\": \"x\", \"domain\": [0.0, 1.0], \"range\": [0, 250], \"title\": {\"text\": \"Games per Genre\"}}},                        {\"responsive\": true}                    ).then(function(){\n",
       "                            \n",
       "var gd = document.getElementById('cd210ba2-7db1-4d8f-ad66-892382793b82');\n",
       "var x = new MutationObserver(function (mutations, observer) {{\n",
       "        var display = window.getComputedStyle(gd).display;\n",
       "        if (!display || display === 'none') {{\n",
       "            console.log([gd, 'removed!']);\n",
       "            Plotly.purge(gd);\n",
       "            observer.disconnect();\n",
       "        }}\n",
       "}});\n",
       "\n",
       "// Listen for the removal of the full notebook cells\n",
       "var notebookContainer = gd.closest('#notebook-container');\n",
       "if (notebookContainer) {{\n",
       "    x.observe(notebookContainer, {childList: true});\n",
       "}}\n",
       "\n",
       "// Listen for the clearing of the current output cell\n",
       "var outputEl = gd.closest('.output');\n",
       "if (outputEl) {{\n",
       "    x.observe(outputEl, {childList: true});\n",
       "}}\n",
       "\n",
       "                        })                };                });            </script>        </div>"
      ]
     },
     "metadata": {},
     "output_type": "display_data"
    }
   ],
   "source": [
    "# stacked bar graph of genre by year\n",
    "fig = px.bar(genre_by_year, title=\"Top Genres by Year\", x=\"Year\", y=\"Games per Genre\", \n",
    "             color=\"Genre\", range_y=[0,250], color_discrete_sequence=palette)\n",
    "fig.show()"
   ]
  },
  {
   "cell_type": "code",
   "execution_count": 10,
   "metadata": {},
   "outputs": [
    {
     "data": {
      "text/html": [
       "<div>\n",
       "<style scoped>\n",
       "    .dataframe tbody tr th:only-of-type {\n",
       "        vertical-align: middle;\n",
       "    }\n",
       "\n",
       "    .dataframe tbody tr th {\n",
       "        vertical-align: top;\n",
       "    }\n",
       "\n",
       "    .dataframe thead th {\n",
       "        text-align: right;\n",
       "    }\n",
       "</style>\n",
       "<table border=\"1\" class=\"dataframe\">\n",
       "  <thead>\n",
       "    <tr style=\"text-align: right;\">\n",
       "      <th></th>\n",
       "      <th>Year</th>\n",
       "      <th>Genre</th>\n",
       "      <th>Games per Genre</th>\n",
       "      <th>Cumulative_Games per Genre</th>\n",
       "    </tr>\n",
       "  </thead>\n",
       "  <tbody>\n",
       "    <tr>\n",
       "      <th>0</th>\n",
       "      <td>1980</td>\n",
       "      <td>Action</td>\n",
       "      <td>0.0</td>\n",
       "      <td>0.0</td>\n",
       "    </tr>\n",
       "    <tr>\n",
       "      <th>24</th>\n",
       "      <td>1980</td>\n",
       "      <td>Adventure</td>\n",
       "      <td>0.0</td>\n",
       "      <td>0.0</td>\n",
       "    </tr>\n",
       "    <tr>\n",
       "      <th>48</th>\n",
       "      <td>1980</td>\n",
       "      <td>Fighting</td>\n",
       "      <td>1.0</td>\n",
       "      <td>1.0</td>\n",
       "    </tr>\n",
       "    <tr>\n",
       "      <th>72</th>\n",
       "      <td>1980</td>\n",
       "      <td>Misc</td>\n",
       "      <td>2.0</td>\n",
       "      <td>2.0</td>\n",
       "    </tr>\n",
       "    <tr>\n",
       "      <th>96</th>\n",
       "      <td>1980</td>\n",
       "      <td>Platform</td>\n",
       "      <td>0.0</td>\n",
       "      <td>0.0</td>\n",
       "    </tr>\n",
       "    <tr>\n",
       "      <th>...</th>\n",
       "      <td>...</td>\n",
       "      <td>...</td>\n",
       "      <td>...</td>\n",
       "      <td>...</td>\n",
       "    </tr>\n",
       "    <tr>\n",
       "      <th>191</th>\n",
       "      <td>2003</td>\n",
       "      <td>Role-Playing</td>\n",
       "      <td>0.0</td>\n",
       "      <td>62.0</td>\n",
       "    </tr>\n",
       "    <tr>\n",
       "      <th>215</th>\n",
       "      <td>2003</td>\n",
       "      <td>Shooter</td>\n",
       "      <td>0.0</td>\n",
       "      <td>132.0</td>\n",
       "    </tr>\n",
       "    <tr>\n",
       "      <th>239</th>\n",
       "      <td>2003</td>\n",
       "      <td>Simulation</td>\n",
       "      <td>0.0</td>\n",
       "      <td>49.0</td>\n",
       "    </tr>\n",
       "    <tr>\n",
       "      <th>263</th>\n",
       "      <td>2003</td>\n",
       "      <td>Sports</td>\n",
       "      <td>1.0</td>\n",
       "      <td>246.0</td>\n",
       "    </tr>\n",
       "    <tr>\n",
       "      <th>287</th>\n",
       "      <td>2003</td>\n",
       "      <td>Strategy</td>\n",
       "      <td>0.0</td>\n",
       "      <td>42.0</td>\n",
       "    </tr>\n",
       "  </tbody>\n",
       "</table>\n",
       "<p>288 rows × 4 columns</p>\n",
       "</div>"
      ],
      "text/plain": [
       "     Year         Genre  Games per Genre  Cumulative_Games per Genre\n",
       "0    1980        Action              0.0                         0.0\n",
       "24   1980     Adventure              0.0                         0.0\n",
       "48   1980      Fighting              1.0                         1.0\n",
       "72   1980          Misc              2.0                         2.0\n",
       "96   1980      Platform              0.0                         0.0\n",
       "..    ...           ...              ...                         ...\n",
       "191  2003  Role-Playing              0.0                        62.0\n",
       "215  2003       Shooter              0.0                       132.0\n",
       "239  2003    Simulation              0.0                        49.0\n",
       "263  2003        Sports              1.0                       246.0\n",
       "287  2003      Strategy              0.0                        42.0\n",
       "\n",
       "[288 rows x 4 columns]"
      ]
     },
     "execution_count": 10,
     "metadata": {},
     "output_type": "execute_result"
    }
   ],
   "source": [
    "genre_year =sales_df.groupby([\"Genre\",\"Year\"]).agg({\"Platform\":\"count\"}).reset_index()\n",
    "# genre_year\n",
    "genre_by_year = genre_year[[\"Genre\", \"Year\", \"Platform\"]].rename(columns={\"Platform\": \"Games per Genre\"})\n",
    "# genre_by_year\n",
    "# data_gp.rename(columns={\"Country\":\"Total_Launch\"},inplace=True)#2\n",
    "idx = pd.MultiIndex.from_product([genre_by_year.Year.unique(), \n",
    "                                  genre_by_year.Genre.unique()], names=['Year', 'Genre'])\n",
    "genre_by_year2 = genre_by_year.set_index(['Year', 'Genre']).reindex(idx).fillna(0).sort_values(ascending=True,by=[\"Genre\",\"Year\"])\n",
    "cumulative_genre_by_year = pd.concat([genre_by_year2, genre_by_year2.groupby(level=1).cumsum().add_prefix('Cumulative_')], 1).sort_index(level=1).reset_index()\n",
    "cumulative_genre_by_year.sort_values(by=[\"Year\",\"Genre\"],inplace=True)\n",
    "# dat2.rename(columns={\"Launch_Year\":\"Year\",\"Cum_Total_Launch\":\"Cumulative_Launches\",\"Sat_country\":\"Country\",\"Cum_Success\":\"Cumulative_Successes\"},inplace=True) #7\n",
    "cumulative_genre_by_year"
   ]
  },
  {
   "cell_type": "code",
   "execution_count": 11,
   "metadata": {},
   "outputs": [
    {
     "data": {
      "application/vnd.plotly.v1+json": {
       "config": {
        "plotlyServerURL": "https://plot.ly"
       },
       "data": [
        {
         "alignmentgroup": "True",
         "hovertemplate": "Genre=%{x}<br>Year=1980<br>Cumulative_Games per Genre=%{y}<extra></extra>",
         "ids": [
          "Action"
         ],
         "legendgroup": "Action",
         "marker": {
          "color": "#636EFA"
         },
         "name": "Action",
         "offsetgroup": "Action",
         "orientation": "v",
         "showlegend": true,
         "textposition": "auto",
         "type": "bar",
         "x": [
          "Action"
         ],
         "xaxis": "x",
         "y": [
          0
         ],
         "yaxis": "y"
        },
        {
         "alignmentgroup": "True",
         "hovertemplate": "Genre=%{x}<br>Year=1980<br>Cumulative_Games per Genre=%{y}<extra></extra>",
         "ids": [
          "Adventure"
         ],
         "legendgroup": "Adventure",
         "marker": {
          "color": "#EF553B"
         },
         "name": "Adventure",
         "offsetgroup": "Adventure",
         "orientation": "v",
         "showlegend": true,
         "textposition": "auto",
         "type": "bar",
         "x": [
          "Adventure"
         ],
         "xaxis": "x",
         "y": [
          0
         ],
         "yaxis": "y"
        },
        {
         "alignmentgroup": "True",
         "hovertemplate": "Genre=%{x}<br>Year=1980<br>Cumulative_Games per Genre=%{y}<extra></extra>",
         "ids": [
          "Fighting"
         ],
         "legendgroup": "Fighting",
         "marker": {
          "color": "#00CC96"
         },
         "name": "Fighting",
         "offsetgroup": "Fighting",
         "orientation": "v",
         "showlegend": true,
         "textposition": "auto",
         "type": "bar",
         "x": [
          "Fighting"
         ],
         "xaxis": "x",
         "y": [
          1
         ],
         "yaxis": "y"
        },
        {
         "alignmentgroup": "True",
         "hovertemplate": "Genre=%{x}<br>Year=1980<br>Cumulative_Games per Genre=%{y}<extra></extra>",
         "ids": [
          "Misc"
         ],
         "legendgroup": "Misc",
         "marker": {
          "color": "#AB63FA"
         },
         "name": "Misc",
         "offsetgroup": "Misc",
         "orientation": "v",
         "showlegend": true,
         "textposition": "auto",
         "type": "bar",
         "x": [
          "Misc"
         ],
         "xaxis": "x",
         "y": [
          2
         ],
         "yaxis": "y"
        },
        {
         "alignmentgroup": "True",
         "hovertemplate": "Genre=%{x}<br>Year=1980<br>Cumulative_Games per Genre=%{y}<extra></extra>",
         "ids": [
          "Platform"
         ],
         "legendgroup": "Platform",
         "marker": {
          "color": "#ff8001"
         },
         "name": "Platform",
         "offsetgroup": "Platform",
         "orientation": "v",
         "showlegend": true,
         "textposition": "auto",
         "type": "bar",
         "x": [
          "Platform"
         ],
         "xaxis": "x",
         "y": [
          0
         ],
         "yaxis": "y"
        },
        {
         "alignmentgroup": "True",
         "hovertemplate": "Genre=%{x}<br>Year=1980<br>Cumulative_Games per Genre=%{y}<extra></extra>",
         "ids": [
          "Puzzle"
         ],
         "legendgroup": "Puzzle",
         "marker": {
          "color": "#00fcfe"
         },
         "name": "Puzzle",
         "offsetgroup": "Puzzle",
         "orientation": "v",
         "showlegend": true,
         "textposition": "auto",
         "type": "bar",
         "x": [
          "Puzzle"
         ],
         "xaxis": "x",
         "y": [
          0
         ],
         "yaxis": "y"
        },
        {
         "alignmentgroup": "True",
         "hovertemplate": "Genre=%{x}<br>Year=1980<br>Cumulative_Games per Genre=%{y}<extra></extra>",
         "ids": [
          "Racing"
         ],
         "legendgroup": "Racing",
         "marker": {
          "color": "#FE00FA"
         },
         "name": "Racing",
         "offsetgroup": "Racing",
         "orientation": "v",
         "showlegend": true,
         "textposition": "auto",
         "type": "bar",
         "x": [
          "Racing"
         ],
         "xaxis": "x",
         "y": [
          0
         ],
         "yaxis": "y"
        },
        {
         "alignmentgroup": "True",
         "hovertemplate": "Genre=%{x}<br>Year=1980<br>Cumulative_Games per Genre=%{y}<extra></extra>",
         "ids": [
          "Role-Playing"
         ],
         "legendgroup": "Role-Playing",
         "marker": {
          "color": "#16FF32"
         },
         "name": "Role-Playing",
         "offsetgroup": "Role-Playing",
         "orientation": "v",
         "showlegend": true,
         "textposition": "auto",
         "type": "bar",
         "x": [
          "Role-Playing"
         ],
         "xaxis": "x",
         "y": [
          0
         ],
         "yaxis": "y"
        },
        {
         "alignmentgroup": "True",
         "hovertemplate": "Genre=%{x}<br>Year=1980<br>Cumulative_Games per Genre=%{y}<extra></extra>",
         "ids": [
          "Shooter"
         ],
         "legendgroup": "Shooter",
         "marker": {
          "color": "#FF97FF"
         },
         "name": "Shooter",
         "offsetgroup": "Shooter",
         "orientation": "v",
         "showlegend": true,
         "textposition": "auto",
         "type": "bar",
         "x": [
          "Shooter"
         ],
         "xaxis": "x",
         "y": [
          1
         ],
         "yaxis": "y"
        },
        {
         "alignmentgroup": "True",
         "hovertemplate": "Genre=%{x}<br>Year=1980<br>Cumulative_Games per Genre=%{y}<extra></extra>",
         "ids": [
          "Simulation"
         ],
         "legendgroup": "Simulation",
         "marker": {
          "color": "#FFFF00"
         },
         "name": "Simulation",
         "offsetgroup": "Simulation",
         "orientation": "v",
         "showlegend": true,
         "textposition": "auto",
         "type": "bar",
         "x": [
          "Simulation"
         ],
         "xaxis": "x",
         "y": [
          0
         ],
         "yaxis": "y"
        },
        {
         "alignmentgroup": "True",
         "hovertemplate": "Genre=%{x}<br>Year=1980<br>Cumulative_Games per Genre=%{y}<extra></extra>",
         "ids": [
          "Sports"
         ],
         "legendgroup": "Sports",
         "marker": {
          "color": "#2dc997"
         },
         "name": "Sports",
         "offsetgroup": "Sports",
         "orientation": "v",
         "showlegend": true,
         "textposition": "auto",
         "type": "bar",
         "x": [
          "Sports"
         ],
         "xaxis": "x",
         "y": [
          1
         ],
         "yaxis": "y"
        },
        {
         "alignmentgroup": "True",
         "hovertemplate": "Genre=%{x}<br>Year=1980<br>Cumulative_Games per Genre=%{y}<extra></extra>",
         "ids": [
          "Strategy"
         ],
         "legendgroup": "Strategy",
         "marker": {
          "color": "#B10DA1"
         },
         "name": "Strategy",
         "offsetgroup": "Strategy",
         "orientation": "v",
         "showlegend": true,
         "textposition": "auto",
         "type": "bar",
         "x": [
          "Strategy"
         ],
         "xaxis": "x",
         "y": [
          0
         ],
         "yaxis": "y"
        }
       ],
       "frames": [
        {
         "data": [
          {
           "alignmentgroup": "True",
           "hovertemplate": "Genre=%{x}<br>Year=1980<br>Cumulative_Games per Genre=%{y}<extra></extra>",
           "ids": [
            "Action"
           ],
           "legendgroup": "Action",
           "marker": {
            "color": "#636EFA"
           },
           "name": "Action",
           "offsetgroup": "Action",
           "orientation": "v",
           "showlegend": true,
           "textposition": "auto",
           "type": "bar",
           "x": [
            "Action"
           ],
           "xaxis": "x",
           "y": [
            0
           ],
           "yaxis": "y"
          },
          {
           "alignmentgroup": "True",
           "hovertemplate": "Genre=%{x}<br>Year=1980<br>Cumulative_Games per Genre=%{y}<extra></extra>",
           "ids": [
            "Adventure"
           ],
           "legendgroup": "Adventure",
           "marker": {
            "color": "#EF553B"
           },
           "name": "Adventure",
           "offsetgroup": "Adventure",
           "orientation": "v",
           "showlegend": true,
           "textposition": "auto",
           "type": "bar",
           "x": [
            "Adventure"
           ],
           "xaxis": "x",
           "y": [
            0
           ],
           "yaxis": "y"
          },
          {
           "alignmentgroup": "True",
           "hovertemplate": "Genre=%{x}<br>Year=1980<br>Cumulative_Games per Genre=%{y}<extra></extra>",
           "ids": [
            "Fighting"
           ],
           "legendgroup": "Fighting",
           "marker": {
            "color": "#00CC96"
           },
           "name": "Fighting",
           "offsetgroup": "Fighting",
           "orientation": "v",
           "showlegend": true,
           "textposition": "auto",
           "type": "bar",
           "x": [
            "Fighting"
           ],
           "xaxis": "x",
           "y": [
            1
           ],
           "yaxis": "y"
          },
          {
           "alignmentgroup": "True",
           "hovertemplate": "Genre=%{x}<br>Year=1980<br>Cumulative_Games per Genre=%{y}<extra></extra>",
           "ids": [
            "Misc"
           ],
           "legendgroup": "Misc",
           "marker": {
            "color": "#AB63FA"
           },
           "name": "Misc",
           "offsetgroup": "Misc",
           "orientation": "v",
           "showlegend": true,
           "textposition": "auto",
           "type": "bar",
           "x": [
            "Misc"
           ],
           "xaxis": "x",
           "y": [
            2
           ],
           "yaxis": "y"
          },
          {
           "alignmentgroup": "True",
           "hovertemplate": "Genre=%{x}<br>Year=1980<br>Cumulative_Games per Genre=%{y}<extra></extra>",
           "ids": [
            "Platform"
           ],
           "legendgroup": "Platform",
           "marker": {
            "color": "#ff8001"
           },
           "name": "Platform",
           "offsetgroup": "Platform",
           "orientation": "v",
           "showlegend": true,
           "textposition": "auto",
           "type": "bar",
           "x": [
            "Platform"
           ],
           "xaxis": "x",
           "y": [
            0
           ],
           "yaxis": "y"
          },
          {
           "alignmentgroup": "True",
           "hovertemplate": "Genre=%{x}<br>Year=1980<br>Cumulative_Games per Genre=%{y}<extra></extra>",
           "ids": [
            "Puzzle"
           ],
           "legendgroup": "Puzzle",
           "marker": {
            "color": "#00fcfe"
           },
           "name": "Puzzle",
           "offsetgroup": "Puzzle",
           "orientation": "v",
           "showlegend": true,
           "textposition": "auto",
           "type": "bar",
           "x": [
            "Puzzle"
           ],
           "xaxis": "x",
           "y": [
            0
           ],
           "yaxis": "y"
          },
          {
           "alignmentgroup": "True",
           "hovertemplate": "Genre=%{x}<br>Year=1980<br>Cumulative_Games per Genre=%{y}<extra></extra>",
           "ids": [
            "Racing"
           ],
           "legendgroup": "Racing",
           "marker": {
            "color": "#FE00FA"
           },
           "name": "Racing",
           "offsetgroup": "Racing",
           "orientation": "v",
           "showlegend": true,
           "textposition": "auto",
           "type": "bar",
           "x": [
            "Racing"
           ],
           "xaxis": "x",
           "y": [
            0
           ],
           "yaxis": "y"
          },
          {
           "alignmentgroup": "True",
           "hovertemplate": "Genre=%{x}<br>Year=1980<br>Cumulative_Games per Genre=%{y}<extra></extra>",
           "ids": [
            "Role-Playing"
           ],
           "legendgroup": "Role-Playing",
           "marker": {
            "color": "#16FF32"
           },
           "name": "Role-Playing",
           "offsetgroup": "Role-Playing",
           "orientation": "v",
           "showlegend": true,
           "textposition": "auto",
           "type": "bar",
           "x": [
            "Role-Playing"
           ],
           "xaxis": "x",
           "y": [
            0
           ],
           "yaxis": "y"
          },
          {
           "alignmentgroup": "True",
           "hovertemplate": "Genre=%{x}<br>Year=1980<br>Cumulative_Games per Genre=%{y}<extra></extra>",
           "ids": [
            "Shooter"
           ],
           "legendgroup": "Shooter",
           "marker": {
            "color": "#FF97FF"
           },
           "name": "Shooter",
           "offsetgroup": "Shooter",
           "orientation": "v",
           "showlegend": true,
           "textposition": "auto",
           "type": "bar",
           "x": [
            "Shooter"
           ],
           "xaxis": "x",
           "y": [
            1
           ],
           "yaxis": "y"
          },
          {
           "alignmentgroup": "True",
           "hovertemplate": "Genre=%{x}<br>Year=1980<br>Cumulative_Games per Genre=%{y}<extra></extra>",
           "ids": [
            "Simulation"
           ],
           "legendgroup": "Simulation",
           "marker": {
            "color": "#FFFF00"
           },
           "name": "Simulation",
           "offsetgroup": "Simulation",
           "orientation": "v",
           "showlegend": true,
           "textposition": "auto",
           "type": "bar",
           "x": [
            "Simulation"
           ],
           "xaxis": "x",
           "y": [
            0
           ],
           "yaxis": "y"
          },
          {
           "alignmentgroup": "True",
           "hovertemplate": "Genre=%{x}<br>Year=1980<br>Cumulative_Games per Genre=%{y}<extra></extra>",
           "ids": [
            "Sports"
           ],
           "legendgroup": "Sports",
           "marker": {
            "color": "#2dc997"
           },
           "name": "Sports",
           "offsetgroup": "Sports",
           "orientation": "v",
           "showlegend": true,
           "textposition": "auto",
           "type": "bar",
           "x": [
            "Sports"
           ],
           "xaxis": "x",
           "y": [
            1
           ],
           "yaxis": "y"
          },
          {
           "alignmentgroup": "True",
           "hovertemplate": "Genre=%{x}<br>Year=1980<br>Cumulative_Games per Genre=%{y}<extra></extra>",
           "ids": [
            "Strategy"
           ],
           "legendgroup": "Strategy",
           "marker": {
            "color": "#B10DA1"
           },
           "name": "Strategy",
           "offsetgroup": "Strategy",
           "orientation": "v",
           "showlegend": true,
           "textposition": "auto",
           "type": "bar",
           "x": [
            "Strategy"
           ],
           "xaxis": "x",
           "y": [
            0
           ],
           "yaxis": "y"
          }
         ],
         "name": "1980"
        },
        {
         "data": [
          {
           "alignmentgroup": "True",
           "hovertemplate": "Genre=%{x}<br>Year=1981<br>Cumulative_Games per Genre=%{y}<extra></extra>",
           "ids": [
            "Action"
           ],
           "legendgroup": "Action",
           "marker": {
            "color": "#636EFA"
           },
           "name": "Action",
           "offsetgroup": "Action",
           "orientation": "v",
           "showlegend": true,
           "textposition": "auto",
           "type": "bar",
           "x": [
            "Action"
           ],
           "xaxis": "x",
           "y": [
            20
           ],
           "yaxis": "y"
          },
          {
           "alignmentgroup": "True",
           "hovertemplate": "Genre=%{x}<br>Year=1981<br>Cumulative_Games per Genre=%{y}<extra></extra>",
           "ids": [
            "Adventure"
           ],
           "legendgroup": "Adventure",
           "marker": {
            "color": "#EF553B"
           },
           "name": "Adventure",
           "offsetgroup": "Adventure",
           "orientation": "v",
           "showlegend": true,
           "textposition": "auto",
           "type": "bar",
           "x": [
            "Adventure"
           ],
           "xaxis": "x",
           "y": [
            0
           ],
           "yaxis": "y"
          },
          {
           "alignmentgroup": "True",
           "hovertemplate": "Genre=%{x}<br>Year=1981<br>Cumulative_Games per Genre=%{y}<extra></extra>",
           "ids": [
            "Fighting"
           ],
           "legendgroup": "Fighting",
           "marker": {
            "color": "#00CC96"
           },
           "name": "Fighting",
           "offsetgroup": "Fighting",
           "orientation": "v",
           "showlegend": true,
           "textposition": "auto",
           "type": "bar",
           "x": [
            "Fighting"
           ],
           "xaxis": "x",
           "y": [
            1
           ],
           "yaxis": "y"
          },
          {
           "alignmentgroup": "True",
           "hovertemplate": "Genre=%{x}<br>Year=1981<br>Cumulative_Games per Genre=%{y}<extra></extra>",
           "ids": [
            "Misc"
           ],
           "legendgroup": "Misc",
           "marker": {
            "color": "#AB63FA"
           },
           "name": "Misc",
           "offsetgroup": "Misc",
           "orientation": "v",
           "showlegend": true,
           "textposition": "auto",
           "type": "bar",
           "x": [
            "Misc"
           ],
           "xaxis": "x",
           "y": [
            2
           ],
           "yaxis": "y"
          },
          {
           "alignmentgroup": "True",
           "hovertemplate": "Genre=%{x}<br>Year=1981<br>Cumulative_Games per Genre=%{y}<extra></extra>",
           "ids": [
            "Platform"
           ],
           "legendgroup": "Platform",
           "marker": {
            "color": "#ff8001"
           },
           "name": "Platform",
           "offsetgroup": "Platform",
           "orientation": "v",
           "showlegend": true,
           "textposition": "auto",
           "type": "bar",
           "x": [
            "Platform"
           ],
           "xaxis": "x",
           "y": [
            1
           ],
           "yaxis": "y"
          },
          {
           "alignmentgroup": "True",
           "hovertemplate": "Genre=%{x}<br>Year=1981<br>Cumulative_Games per Genre=%{y}<extra></extra>",
           "ids": [
            "Puzzle"
           ],
           "legendgroup": "Puzzle",
           "marker": {
            "color": "#00fcfe"
           },
           "name": "Puzzle",
           "offsetgroup": "Puzzle",
           "orientation": "v",
           "showlegend": true,
           "textposition": "auto",
           "type": "bar",
           "x": [
            "Puzzle"
           ],
           "xaxis": "x",
           "y": [
            2
           ],
           "yaxis": "y"
          },
          {
           "alignmentgroup": "True",
           "hovertemplate": "Genre=%{x}<br>Year=1981<br>Cumulative_Games per Genre=%{y}<extra></extra>",
           "ids": [
            "Racing"
           ],
           "legendgroup": "Racing",
           "marker": {
            "color": "#FE00FA"
           },
           "name": "Racing",
           "offsetgroup": "Racing",
           "orientation": "v",
           "showlegend": true,
           "textposition": "auto",
           "type": "bar",
           "x": [
            "Racing"
           ],
           "xaxis": "x",
           "y": [
            1
           ],
           "yaxis": "y"
          },
          {
           "alignmentgroup": "True",
           "hovertemplate": "Genre=%{x}<br>Year=1981<br>Cumulative_Games per Genre=%{y}<extra></extra>",
           "ids": [
            "Role-Playing"
           ],
           "legendgroup": "Role-Playing",
           "marker": {
            "color": "#16FF32"
           },
           "name": "Role-Playing",
           "offsetgroup": "Role-Playing",
           "orientation": "v",
           "showlegend": true,
           "textposition": "auto",
           "type": "bar",
           "x": [
            "Role-Playing"
           ],
           "xaxis": "x",
           "y": [
            0
           ],
           "yaxis": "y"
          },
          {
           "alignmentgroup": "True",
           "hovertemplate": "Genre=%{x}<br>Year=1981<br>Cumulative_Games per Genre=%{y}<extra></extra>",
           "ids": [
            "Shooter"
           ],
           "legendgroup": "Shooter",
           "marker": {
            "color": "#FF97FF"
           },
           "name": "Shooter",
           "offsetgroup": "Shooter",
           "orientation": "v",
           "showlegend": true,
           "textposition": "auto",
           "type": "bar",
           "x": [
            "Shooter"
           ],
           "xaxis": "x",
           "y": [
            9
           ],
           "yaxis": "y"
          },
          {
           "alignmentgroup": "True",
           "hovertemplate": "Genre=%{x}<br>Year=1981<br>Cumulative_Games per Genre=%{y}<extra></extra>",
           "ids": [
            "Simulation"
           ],
           "legendgroup": "Simulation",
           "marker": {
            "color": "#FFFF00"
           },
           "name": "Simulation",
           "offsetgroup": "Simulation",
           "orientation": "v",
           "showlegend": true,
           "textposition": "auto",
           "type": "bar",
           "x": [
            "Simulation"
           ],
           "xaxis": "x",
           "y": [
            1
           ],
           "yaxis": "y"
          },
          {
           "alignmentgroup": "True",
           "hovertemplate": "Genre=%{x}<br>Year=1981<br>Cumulative_Games per Genre=%{y}<extra></extra>",
           "ids": [
            "Sports"
           ],
           "legendgroup": "Sports",
           "marker": {
            "color": "#2dc997"
           },
           "name": "Sports",
           "offsetgroup": "Sports",
           "orientation": "v",
           "showlegend": true,
           "textposition": "auto",
           "type": "bar",
           "x": [
            "Sports"
           ],
           "xaxis": "x",
           "y": [
            4
           ],
           "yaxis": "y"
          },
          {
           "alignmentgroup": "True",
           "hovertemplate": "Genre=%{x}<br>Year=1981<br>Cumulative_Games per Genre=%{y}<extra></extra>",
           "ids": [
            "Strategy"
           ],
           "legendgroup": "Strategy",
           "marker": {
            "color": "#B10DA1"
           },
           "name": "Strategy",
           "offsetgroup": "Strategy",
           "orientation": "v",
           "showlegend": true,
           "textposition": "auto",
           "type": "bar",
           "x": [
            "Strategy"
           ],
           "xaxis": "x",
           "y": [
            0
           ],
           "yaxis": "y"
          }
         ],
         "name": "1981"
        },
        {
         "data": [
          {
           "alignmentgroup": "True",
           "hovertemplate": "Genre=%{x}<br>Year=1982<br>Cumulative_Games per Genre=%{y}<extra></extra>",
           "ids": [
            "Action"
           ],
           "legendgroup": "Action",
           "marker": {
            "color": "#636EFA"
           },
           "name": "Action",
           "offsetgroup": "Action",
           "orientation": "v",
           "showlegend": true,
           "textposition": "auto",
           "type": "bar",
           "x": [
            "Action"
           ],
           "xaxis": "x",
           "y": [
            30
           ],
           "yaxis": "y"
          },
          {
           "alignmentgroup": "True",
           "hovertemplate": "Genre=%{x}<br>Year=1982<br>Cumulative_Games per Genre=%{y}<extra></extra>",
           "ids": [
            "Adventure"
           ],
           "legendgroup": "Adventure",
           "marker": {
            "color": "#EF553B"
           },
           "name": "Adventure",
           "offsetgroup": "Adventure",
           "orientation": "v",
           "showlegend": true,
           "textposition": "auto",
           "type": "bar",
           "x": [
            "Adventure"
           ],
           "xaxis": "x",
           "y": [
            0
           ],
           "yaxis": "y"
          },
          {
           "alignmentgroup": "True",
           "hovertemplate": "Genre=%{x}<br>Year=1982<br>Cumulative_Games per Genre=%{y}<extra></extra>",
           "ids": [
            "Fighting"
           ],
           "legendgroup": "Fighting",
           "marker": {
            "color": "#00CC96"
           },
           "name": "Fighting",
           "offsetgroup": "Fighting",
           "orientation": "v",
           "showlegend": true,
           "textposition": "auto",
           "type": "bar",
           "x": [
            "Fighting"
           ],
           "xaxis": "x",
           "y": [
            1
           ],
           "yaxis": "y"
          },
          {
           "alignmentgroup": "True",
           "hovertemplate": "Genre=%{x}<br>Year=1982<br>Cumulative_Games per Genre=%{y}<extra></extra>",
           "ids": [
            "Misc"
           ],
           "legendgroup": "Misc",
           "marker": {
            "color": "#AB63FA"
           },
           "name": "Misc",
           "offsetgroup": "Misc",
           "orientation": "v",
           "showlegend": true,
           "textposition": "auto",
           "type": "bar",
           "x": [
            "Misc"
           ],
           "xaxis": "x",
           "y": [
            3
           ],
           "yaxis": "y"
          },
          {
           "alignmentgroup": "True",
           "hovertemplate": "Genre=%{x}<br>Year=1982<br>Cumulative_Games per Genre=%{y}<extra></extra>",
           "ids": [
            "Platform"
           ],
           "legendgroup": "Platform",
           "marker": {
            "color": "#ff8001"
           },
           "name": "Platform",
           "offsetgroup": "Platform",
           "orientation": "v",
           "showlegend": true,
           "textposition": "auto",
           "type": "bar",
           "x": [
            "Platform"
           ],
           "xaxis": "x",
           "y": [
            6
           ],
           "yaxis": "y"
          },
          {
           "alignmentgroup": "True",
           "hovertemplate": "Genre=%{x}<br>Year=1982<br>Cumulative_Games per Genre=%{y}<extra></extra>",
           "ids": [
            "Puzzle"
           ],
           "legendgroup": "Puzzle",
           "marker": {
            "color": "#00fcfe"
           },
           "name": "Puzzle",
           "offsetgroup": "Puzzle",
           "orientation": "v",
           "showlegend": true,
           "textposition": "auto",
           "type": "bar",
           "x": [
            "Puzzle"
           ],
           "xaxis": "x",
           "y": [
            4
           ],
           "yaxis": "y"
          },
          {
           "alignmentgroup": "True",
           "hovertemplate": "Genre=%{x}<br>Year=1982<br>Cumulative_Games per Genre=%{y}<extra></extra>",
           "ids": [
            "Racing"
           ],
           "legendgroup": "Racing",
           "marker": {
            "color": "#FE00FA"
           },
           "name": "Racing",
           "offsetgroup": "Racing",
           "orientation": "v",
           "showlegend": true,
           "textposition": "auto",
           "type": "bar",
           "x": [
            "Racing"
           ],
           "xaxis": "x",
           "y": [
            3
           ],
           "yaxis": "y"
          },
          {
           "alignmentgroup": "True",
           "hovertemplate": "Genre=%{x}<br>Year=1982<br>Cumulative_Games per Genre=%{y}<extra></extra>",
           "ids": [
            "Role-Playing"
           ],
           "legendgroup": "Role-Playing",
           "marker": {
            "color": "#16FF32"
           },
           "name": "Role-Playing",
           "offsetgroup": "Role-Playing",
           "orientation": "v",
           "showlegend": true,
           "textposition": "auto",
           "type": "bar",
           "x": [
            "Role-Playing"
           ],
           "xaxis": "x",
           "y": [
            0
           ],
           "yaxis": "y"
          },
          {
           "alignmentgroup": "True",
           "hovertemplate": "Genre=%{x}<br>Year=1982<br>Cumulative_Games per Genre=%{y}<extra></extra>",
           "ids": [
            "Shooter"
           ],
           "legendgroup": "Shooter",
           "marker": {
            "color": "#FF97FF"
           },
           "name": "Shooter",
           "offsetgroup": "Shooter",
           "orientation": "v",
           "showlegend": true,
           "textposition": "auto",
           "type": "bar",
           "x": [
            "Shooter"
           ],
           "xaxis": "x",
           "y": [
            13
           ],
           "yaxis": "y"
          },
          {
           "alignmentgroup": "True",
           "hovertemplate": "Genre=%{x}<br>Year=1982<br>Cumulative_Games per Genre=%{y}<extra></extra>",
           "ids": [
            "Simulation"
           ],
           "legendgroup": "Simulation",
           "marker": {
            "color": "#FFFF00"
           },
           "name": "Simulation",
           "offsetgroup": "Simulation",
           "orientation": "v",
           "showlegend": true,
           "textposition": "auto",
           "type": "bar",
           "x": [
            "Simulation"
           ],
           "xaxis": "x",
           "y": [
            1
           ],
           "yaxis": "y"
          },
          {
           "alignmentgroup": "True",
           "hovertemplate": "Genre=%{x}<br>Year=1982<br>Cumulative_Games per Genre=%{y}<extra></extra>",
           "ids": [
            "Sports"
           ],
           "legendgroup": "Sports",
           "marker": {
            "color": "#2dc997"
           },
           "name": "Sports",
           "offsetgroup": "Sports",
           "orientation": "v",
           "showlegend": true,
           "textposition": "auto",
           "type": "bar",
           "x": [
            "Sports"
           ],
           "xaxis": "x",
           "y": [
            6
           ],
           "yaxis": "y"
          },
          {
           "alignmentgroup": "True",
           "hovertemplate": "Genre=%{x}<br>Year=1982<br>Cumulative_Games per Genre=%{y}<extra></extra>",
           "ids": [
            "Strategy"
           ],
           "legendgroup": "Strategy",
           "marker": {
            "color": "#B10DA1"
           },
           "name": "Strategy",
           "offsetgroup": "Strategy",
           "orientation": "v",
           "showlegend": true,
           "textposition": "auto",
           "type": "bar",
           "x": [
            "Strategy"
           ],
           "xaxis": "x",
           "y": [
            0
           ],
           "yaxis": "y"
          }
         ],
         "name": "1982"
        },
        {
         "data": [
          {
           "alignmentgroup": "True",
           "hovertemplate": "Genre=%{x}<br>Year=1983<br>Cumulative_Games per Genre=%{y}<extra></extra>",
           "ids": [
            "Action"
           ],
           "legendgroup": "Action",
           "marker": {
            "color": "#636EFA"
           },
           "name": "Action",
           "offsetgroup": "Action",
           "orientation": "v",
           "showlegend": true,
           "textposition": "auto",
           "type": "bar",
           "x": [
            "Action"
           ],
           "xaxis": "x",
           "y": [
            35
           ],
           "yaxis": "y"
          },
          {
           "alignmentgroup": "True",
           "hovertemplate": "Genre=%{x}<br>Year=1983<br>Cumulative_Games per Genre=%{y}<extra></extra>",
           "ids": [
            "Adventure"
           ],
           "legendgroup": "Adventure",
           "marker": {
            "color": "#EF553B"
           },
           "name": "Adventure",
           "offsetgroup": "Adventure",
           "orientation": "v",
           "showlegend": true,
           "textposition": "auto",
           "type": "bar",
           "x": [
            "Adventure"
           ],
           "xaxis": "x",
           "y": [
            0
           ],
           "yaxis": "y"
          },
          {
           "alignmentgroup": "True",
           "hovertemplate": "Genre=%{x}<br>Year=1983<br>Cumulative_Games per Genre=%{y}<extra></extra>",
           "ids": [
            "Fighting"
           ],
           "legendgroup": "Fighting",
           "marker": {
            "color": "#00CC96"
           },
           "name": "Fighting",
           "offsetgroup": "Fighting",
           "orientation": "v",
           "showlegend": true,
           "textposition": "auto",
           "type": "bar",
           "x": [
            "Fighting"
           ],
           "xaxis": "x",
           "y": [
            1
           ],
           "yaxis": "y"
          },
          {
           "alignmentgroup": "True",
           "hovertemplate": "Genre=%{x}<br>Year=1983<br>Cumulative_Games per Genre=%{y}<extra></extra>",
           "ids": [
            "Misc"
           ],
           "legendgroup": "Misc",
           "marker": {
            "color": "#AB63FA"
           },
           "name": "Misc",
           "offsetgroup": "Misc",
           "orientation": "v",
           "showlegend": true,
           "textposition": "auto",
           "type": "bar",
           "x": [
            "Misc"
           ],
           "xaxis": "x",
           "y": [
            3
           ],
           "yaxis": "y"
          },
          {
           "alignmentgroup": "True",
           "hovertemplate": "Genre=%{x}<br>Year=1983<br>Cumulative_Games per Genre=%{y}<extra></extra>",
           "ids": [
            "Platform"
           ],
           "legendgroup": "Platform",
           "marker": {
            "color": "#ff8001"
           },
           "name": "Platform",
           "offsetgroup": "Platform",
           "orientation": "v",
           "showlegend": true,
           "textposition": "auto",
           "type": "bar",
           "x": [
            "Platform"
           ],
           "xaxis": "x",
           "y": [
            8
           ],
           "yaxis": "y"
          },
          {
           "alignmentgroup": "True",
           "hovertemplate": "Genre=%{x}<br>Year=1983<br>Cumulative_Games per Genre=%{y}<extra></extra>",
           "ids": [
            "Puzzle"
           ],
           "legendgroup": "Puzzle",
           "marker": {
            "color": "#00fcfe"
           },
           "name": "Puzzle",
           "offsetgroup": "Puzzle",
           "orientation": "v",
           "showlegend": true,
           "textposition": "auto",
           "type": "bar",
           "x": [
            "Puzzle"
           ],
           "xaxis": "x",
           "y": [
            5
           ],
           "yaxis": "y"
          },
          {
           "alignmentgroup": "True",
           "hovertemplate": "Genre=%{x}<br>Year=1983<br>Cumulative_Games per Genre=%{y}<extra></extra>",
           "ids": [
            "Racing"
           ],
           "legendgroup": "Racing",
           "marker": {
            "color": "#FE00FA"
           },
           "name": "Racing",
           "offsetgroup": "Racing",
           "orientation": "v",
           "showlegend": true,
           "textposition": "auto",
           "type": "bar",
           "x": [
            "Racing"
           ],
           "xaxis": "x",
           "y": [
            3
           ],
           "yaxis": "y"
          },
          {
           "alignmentgroup": "True",
           "hovertemplate": "Genre=%{x}<br>Year=1983<br>Cumulative_Games per Genre=%{y}<extra></extra>",
           "ids": [
            "Role-Playing"
           ],
           "legendgroup": "Role-Playing",
           "marker": {
            "color": "#16FF32"
           },
           "name": "Role-Playing",
           "offsetgroup": "Role-Playing",
           "orientation": "v",
           "showlegend": true,
           "textposition": "auto",
           "type": "bar",
           "x": [
            "Role-Playing"
           ],
           "xaxis": "x",
           "y": [
            0
           ],
           "yaxis": "y"
          },
          {
           "alignmentgroup": "True",
           "hovertemplate": "Genre=%{x}<br>Year=1983<br>Cumulative_Games per Genre=%{y}<extra></extra>",
           "ids": [
            "Shooter"
           ],
           "legendgroup": "Shooter",
           "marker": {
            "color": "#FF97FF"
           },
           "name": "Shooter",
           "offsetgroup": "Shooter",
           "orientation": "v",
           "showlegend": true,
           "textposition": "auto",
           "type": "bar",
           "x": [
            "Shooter"
           ],
           "xaxis": "x",
           "y": [
            14
           ],
           "yaxis": "y"
          },
          {
           "alignmentgroup": "True",
           "hovertemplate": "Genre=%{x}<br>Year=1983<br>Cumulative_Games per Genre=%{y}<extra></extra>",
           "ids": [
            "Simulation"
           ],
           "legendgroup": "Simulation",
           "marker": {
            "color": "#FFFF00"
           },
           "name": "Simulation",
           "offsetgroup": "Simulation",
           "orientation": "v",
           "showlegend": true,
           "textposition": "auto",
           "type": "bar",
           "x": [
            "Simulation"
           ],
           "xaxis": "x",
           "y": [
            1
           ],
           "yaxis": "y"
          },
          {
           "alignmentgroup": "True",
           "hovertemplate": "Genre=%{x}<br>Year=1983<br>Cumulative_Games per Genre=%{y}<extra></extra>",
           "ids": [
            "Sports"
           ],
           "legendgroup": "Sports",
           "marker": {
            "color": "#2dc997"
           },
           "name": "Sports",
           "offsetgroup": "Sports",
           "orientation": "v",
           "showlegend": true,
           "textposition": "auto",
           "type": "bar",
           "x": [
            "Sports"
           ],
           "xaxis": "x",
           "y": [
            7
           ],
           "yaxis": "y"
          },
          {
           "alignmentgroup": "True",
           "hovertemplate": "Genre=%{x}<br>Year=1983<br>Cumulative_Games per Genre=%{y}<extra></extra>",
           "ids": [
            "Strategy"
           ],
           "legendgroup": "Strategy",
           "marker": {
            "color": "#B10DA1"
           },
           "name": "Strategy",
           "offsetgroup": "Strategy",
           "orientation": "v",
           "showlegend": true,
           "textposition": "auto",
           "type": "bar",
           "x": [
            "Strategy"
           ],
           "xaxis": "x",
           "y": [
            0
           ],
           "yaxis": "y"
          }
         ],
         "name": "1983"
        },
        {
         "data": [
          {
           "alignmentgroup": "True",
           "hovertemplate": "Genre=%{x}<br>Year=1984<br>Cumulative_Games per Genre=%{y}<extra></extra>",
           "ids": [
            "Action"
           ],
           "legendgroup": "Action",
           "marker": {
            "color": "#636EFA"
           },
           "name": "Action",
           "offsetgroup": "Action",
           "orientation": "v",
           "showlegend": true,
           "textposition": "auto",
           "type": "bar",
           "x": [
            "Action"
           ],
           "xaxis": "x",
           "y": [
            36
           ],
           "yaxis": "y"
          },
          {
           "alignmentgroup": "True",
           "hovertemplate": "Genre=%{x}<br>Year=1984<br>Cumulative_Games per Genre=%{y}<extra></extra>",
           "ids": [
            "Adventure"
           ],
           "legendgroup": "Adventure",
           "marker": {
            "color": "#EF553B"
           },
           "name": "Adventure",
           "offsetgroup": "Adventure",
           "orientation": "v",
           "showlegend": true,
           "textposition": "auto",
           "type": "bar",
           "x": [
            "Adventure"
           ],
           "xaxis": "x",
           "y": [
            0
           ],
           "yaxis": "y"
          },
          {
           "alignmentgroup": "True",
           "hovertemplate": "Genre=%{x}<br>Year=1984<br>Cumulative_Games per Genre=%{y}<extra></extra>",
           "ids": [
            "Fighting"
           ],
           "legendgroup": "Fighting",
           "marker": {
            "color": "#00CC96"
           },
           "name": "Fighting",
           "offsetgroup": "Fighting",
           "orientation": "v",
           "showlegend": true,
           "textposition": "auto",
           "type": "bar",
           "x": [
            "Fighting"
           ],
           "xaxis": "x",
           "y": [
            1
           ],
           "yaxis": "y"
          },
          {
           "alignmentgroup": "True",
           "hovertemplate": "Genre=%{x}<br>Year=1984<br>Cumulative_Games per Genre=%{y}<extra></extra>",
           "ids": [
            "Misc"
           ],
           "legendgroup": "Misc",
           "marker": {
            "color": "#AB63FA"
           },
           "name": "Misc",
           "offsetgroup": "Misc",
           "orientation": "v",
           "showlegend": true,
           "textposition": "auto",
           "type": "bar",
           "x": [
            "Misc"
           ],
           "xaxis": "x",
           "y": [
            3
           ],
           "yaxis": "y"
          },
          {
           "alignmentgroup": "True",
           "hovertemplate": "Genre=%{x}<br>Year=1984<br>Cumulative_Games per Genre=%{y}<extra></extra>",
           "ids": [
            "Platform"
           ],
           "legendgroup": "Platform",
           "marker": {
            "color": "#ff8001"
           },
           "name": "Platform",
           "offsetgroup": "Platform",
           "orientation": "v",
           "showlegend": true,
           "textposition": "auto",
           "type": "bar",
           "x": [
            "Platform"
           ],
           "xaxis": "x",
           "y": [
            8
           ],
           "yaxis": "y"
          },
          {
           "alignmentgroup": "True",
           "hovertemplate": "Genre=%{x}<br>Year=1984<br>Cumulative_Games per Genre=%{y}<extra></extra>",
           "ids": [
            "Puzzle"
           ],
           "legendgroup": "Puzzle",
           "marker": {
            "color": "#00fcfe"
           },
           "name": "Puzzle",
           "offsetgroup": "Puzzle",
           "orientation": "v",
           "showlegend": true,
           "textposition": "auto",
           "type": "bar",
           "x": [
            "Puzzle"
           ],
           "xaxis": "x",
           "y": [
            6
           ],
           "yaxis": "y"
          },
          {
           "alignmentgroup": "True",
           "hovertemplate": "Genre=%{x}<br>Year=1984<br>Cumulative_Games per Genre=%{y}<extra></extra>",
           "ids": [
            "Racing"
           ],
           "legendgroup": "Racing",
           "marker": {
            "color": "#FE00FA"
           },
           "name": "Racing",
           "offsetgroup": "Racing",
           "orientation": "v",
           "showlegend": true,
           "textposition": "auto",
           "type": "bar",
           "x": [
            "Racing"
           ],
           "xaxis": "x",
           "y": [
            5
           ],
           "yaxis": "y"
          },
          {
           "alignmentgroup": "True",
           "hovertemplate": "Genre=%{x}<br>Year=1984<br>Cumulative_Games per Genre=%{y}<extra></extra>",
           "ids": [
            "Role-Playing"
           ],
           "legendgroup": "Role-Playing",
           "marker": {
            "color": "#16FF32"
           },
           "name": "Role-Playing",
           "offsetgroup": "Role-Playing",
           "orientation": "v",
           "showlegend": true,
           "textposition": "auto",
           "type": "bar",
           "x": [
            "Role-Playing"
           ],
           "xaxis": "x",
           "y": [
            0
           ],
           "yaxis": "y"
          },
          {
           "alignmentgroup": "True",
           "hovertemplate": "Genre=%{x}<br>Year=1984<br>Cumulative_Games per Genre=%{y}<extra></extra>",
           "ids": [
            "Shooter"
           ],
           "legendgroup": "Shooter",
           "marker": {
            "color": "#FF97FF"
           },
           "name": "Shooter",
           "offsetgroup": "Shooter",
           "orientation": "v",
           "showlegend": true,
           "textposition": "auto",
           "type": "bar",
           "x": [
            "Shooter"
           ],
           "xaxis": "x",
           "y": [
            16
           ],
           "yaxis": "y"
          },
          {
           "alignmentgroup": "True",
           "hovertemplate": "Genre=%{x}<br>Year=1984<br>Cumulative_Games per Genre=%{y}<extra></extra>",
           "ids": [
            "Simulation"
           ],
           "legendgroup": "Simulation",
           "marker": {
            "color": "#FFFF00"
           },
           "name": "Simulation",
           "offsetgroup": "Simulation",
           "orientation": "v",
           "showlegend": true,
           "textposition": "auto",
           "type": "bar",
           "x": [
            "Simulation"
           ],
           "xaxis": "x",
           "y": [
            1
           ],
           "yaxis": "y"
          },
          {
           "alignmentgroup": "True",
           "hovertemplate": "Genre=%{x}<br>Year=1984<br>Cumulative_Games per Genre=%{y}<extra></extra>",
           "ids": [
            "Sports"
           ],
           "legendgroup": "Sports",
           "marker": {
            "color": "#2dc997"
           },
           "name": "Sports",
           "offsetgroup": "Sports",
           "orientation": "v",
           "showlegend": true,
           "textposition": "auto",
           "type": "bar",
           "x": [
            "Sports"
           ],
           "xaxis": "x",
           "y": [
            9
           ],
           "yaxis": "y"
          },
          {
           "alignmentgroup": "True",
           "hovertemplate": "Genre=%{x}<br>Year=1984<br>Cumulative_Games per Genre=%{y}<extra></extra>",
           "ids": [
            "Strategy"
           ],
           "legendgroup": "Strategy",
           "marker": {
            "color": "#B10DA1"
           },
           "name": "Strategy",
           "offsetgroup": "Strategy",
           "orientation": "v",
           "showlegend": true,
           "textposition": "auto",
           "type": "bar",
           "x": [
            "Strategy"
           ],
           "xaxis": "x",
           "y": [
            0
           ],
           "yaxis": "y"
          }
         ],
         "name": "1984"
        },
        {
         "data": [
          {
           "alignmentgroup": "True",
           "hovertemplate": "Genre=%{x}<br>Year=1985<br>Cumulative_Games per Genre=%{y}<extra></extra>",
           "ids": [
            "Action"
           ],
           "legendgroup": "Action",
           "marker": {
            "color": "#636EFA"
           },
           "name": "Action",
           "offsetgroup": "Action",
           "orientation": "v",
           "showlegend": true,
           "textposition": "auto",
           "type": "bar",
           "x": [
            "Action"
           ],
           "xaxis": "x",
           "y": [
            37
           ],
           "yaxis": "y"
          },
          {
           "alignmentgroup": "True",
           "hovertemplate": "Genre=%{x}<br>Year=1985<br>Cumulative_Games per Genre=%{y}<extra></extra>",
           "ids": [
            "Adventure"
           ],
           "legendgroup": "Adventure",
           "marker": {
            "color": "#EF553B"
           },
           "name": "Adventure",
           "offsetgroup": "Adventure",
           "orientation": "v",
           "showlegend": true,
           "textposition": "auto",
           "type": "bar",
           "x": [
            "Adventure"
           ],
           "xaxis": "x",
           "y": [
            0
           ],
           "yaxis": "y"
          },
          {
           "alignmentgroup": "True",
           "hovertemplate": "Genre=%{x}<br>Year=1985<br>Cumulative_Games per Genre=%{y}<extra></extra>",
           "ids": [
            "Fighting"
           ],
           "legendgroup": "Fighting",
           "marker": {
            "color": "#00CC96"
           },
           "name": "Fighting",
           "offsetgroup": "Fighting",
           "orientation": "v",
           "showlegend": true,
           "textposition": "auto",
           "type": "bar",
           "x": [
            "Fighting"
           ],
           "xaxis": "x",
           "y": [
            1
           ],
           "yaxis": "y"
          },
          {
           "alignmentgroup": "True",
           "hovertemplate": "Genre=%{x}<br>Year=1985<br>Cumulative_Games per Genre=%{y}<extra></extra>",
           "ids": [
            "Misc"
           ],
           "legendgroup": "Misc",
           "marker": {
            "color": "#AB63FA"
           },
           "name": "Misc",
           "offsetgroup": "Misc",
           "orientation": "v",
           "showlegend": true,
           "textposition": "auto",
           "type": "bar",
           "x": [
            "Misc"
           ],
           "xaxis": "x",
           "y": [
            3
           ],
           "yaxis": "y"
          },
          {
           "alignmentgroup": "True",
           "hovertemplate": "Genre=%{x}<br>Year=1985<br>Cumulative_Games per Genre=%{y}<extra></extra>",
           "ids": [
            "Platform"
           ],
           "legendgroup": "Platform",
           "marker": {
            "color": "#ff8001"
           },
           "name": "Platform",
           "offsetgroup": "Platform",
           "orientation": "v",
           "showlegend": true,
           "textposition": "auto",
           "type": "bar",
           "x": [
            "Platform"
           ],
           "xaxis": "x",
           "y": [
            12
           ],
           "yaxis": "y"
          },
          {
           "alignmentgroup": "True",
           "hovertemplate": "Genre=%{x}<br>Year=1985<br>Cumulative_Games per Genre=%{y}<extra></extra>",
           "ids": [
            "Puzzle"
           ],
           "legendgroup": "Puzzle",
           "marker": {
            "color": "#00fcfe"
           },
           "name": "Puzzle",
           "offsetgroup": "Puzzle",
           "orientation": "v",
           "showlegend": true,
           "textposition": "auto",
           "type": "bar",
           "x": [
            "Puzzle"
           ],
           "xaxis": "x",
           "y": [
            9
           ],
           "yaxis": "y"
          },
          {
           "alignmentgroup": "True",
           "hovertemplate": "Genre=%{x}<br>Year=1985<br>Cumulative_Games per Genre=%{y}<extra></extra>",
           "ids": [
            "Racing"
           ],
           "legendgroup": "Racing",
           "marker": {
            "color": "#FE00FA"
           },
           "name": "Racing",
           "offsetgroup": "Racing",
           "orientation": "v",
           "showlegend": true,
           "textposition": "auto",
           "type": "bar",
           "x": [
            "Racing"
           ],
           "xaxis": "x",
           "y": [
            5
           ],
           "yaxis": "y"
          },
          {
           "alignmentgroup": "True",
           "hovertemplate": "Genre=%{x}<br>Year=1985<br>Cumulative_Games per Genre=%{y}<extra></extra>",
           "ids": [
            "Role-Playing"
           ],
           "legendgroup": "Role-Playing",
           "marker": {
            "color": "#16FF32"
           },
           "name": "Role-Playing",
           "offsetgroup": "Role-Playing",
           "orientation": "v",
           "showlegend": true,
           "textposition": "auto",
           "type": "bar",
           "x": [
            "Role-Playing"
           ],
           "xaxis": "x",
           "y": [
            0
           ],
           "yaxis": "y"
          },
          {
           "alignmentgroup": "True",
           "hovertemplate": "Genre=%{x}<br>Year=1985<br>Cumulative_Games per Genre=%{y}<extra></extra>",
           "ids": [
            "Shooter"
           ],
           "legendgroup": "Shooter",
           "marker": {
            "color": "#FF97FF"
           },
           "name": "Shooter",
           "offsetgroup": "Shooter",
           "orientation": "v",
           "showlegend": true,
           "textposition": "auto",
           "type": "bar",
           "x": [
            "Shooter"
           ],
           "xaxis": "x",
           "y": [
            17
           ],
           "yaxis": "y"
          },
          {
           "alignmentgroup": "True",
           "hovertemplate": "Genre=%{x}<br>Year=1985<br>Cumulative_Games per Genre=%{y}<extra></extra>",
           "ids": [
            "Simulation"
           ],
           "legendgroup": "Simulation",
           "marker": {
            "color": "#FFFF00"
           },
           "name": "Simulation",
           "offsetgroup": "Simulation",
           "orientation": "v",
           "showlegend": true,
           "textposition": "auto",
           "type": "bar",
           "x": [
            "Simulation"
           ],
           "xaxis": "x",
           "y": [
            1
           ],
           "yaxis": "y"
          },
          {
           "alignmentgroup": "True",
           "hovertemplate": "Genre=%{x}<br>Year=1985<br>Cumulative_Games per Genre=%{y}<extra></extra>",
           "ids": [
            "Sports"
           ],
           "legendgroup": "Sports",
           "marker": {
            "color": "#2dc997"
           },
           "name": "Sports",
           "offsetgroup": "Sports",
           "orientation": "v",
           "showlegend": true,
           "textposition": "auto",
           "type": "bar",
           "x": [
            "Sports"
           ],
           "xaxis": "x",
           "y": [
            10
           ],
           "yaxis": "y"
          },
          {
           "alignmentgroup": "True",
           "hovertemplate": "Genre=%{x}<br>Year=1985<br>Cumulative_Games per Genre=%{y}<extra></extra>",
           "ids": [
            "Strategy"
           ],
           "legendgroup": "Strategy",
           "marker": {
            "color": "#B10DA1"
           },
           "name": "Strategy",
           "offsetgroup": "Strategy",
           "orientation": "v",
           "showlegend": true,
           "textposition": "auto",
           "type": "bar",
           "x": [
            "Strategy"
           ],
           "xaxis": "x",
           "y": [
            0
           ],
           "yaxis": "y"
          }
         ],
         "name": "1985"
        },
        {
         "data": [
          {
           "alignmentgroup": "True",
           "hovertemplate": "Genre=%{x}<br>Year=1986<br>Cumulative_Games per Genre=%{y}<extra></extra>",
           "ids": [
            "Action"
           ],
           "legendgroup": "Action",
           "marker": {
            "color": "#636EFA"
           },
           "name": "Action",
           "offsetgroup": "Action",
           "orientation": "v",
           "showlegend": true,
           "textposition": "auto",
           "type": "bar",
           "x": [
            "Action"
           ],
           "xaxis": "x",
           "y": [
            40
           ],
           "yaxis": "y"
          },
          {
           "alignmentgroup": "True",
           "hovertemplate": "Genre=%{x}<br>Year=1986<br>Cumulative_Games per Genre=%{y}<extra></extra>",
           "ids": [
            "Adventure"
           ],
           "legendgroup": "Adventure",
           "marker": {
            "color": "#EF553B"
           },
           "name": "Adventure",
           "offsetgroup": "Adventure",
           "orientation": "v",
           "showlegend": true,
           "textposition": "auto",
           "type": "bar",
           "x": [
            "Adventure"
           ],
           "xaxis": "x",
           "y": [
            0
           ],
           "yaxis": "y"
          },
          {
           "alignmentgroup": "True",
           "hovertemplate": "Genre=%{x}<br>Year=1986<br>Cumulative_Games per Genre=%{y}<extra></extra>",
           "ids": [
            "Fighting"
           ],
           "legendgroup": "Fighting",
           "marker": {
            "color": "#00CC96"
           },
           "name": "Fighting",
           "offsetgroup": "Fighting",
           "orientation": "v",
           "showlegend": true,
           "textposition": "auto",
           "type": "bar",
           "x": [
            "Fighting"
           ],
           "xaxis": "x",
           "y": [
            1
           ],
           "yaxis": "y"
          },
          {
           "alignmentgroup": "True",
           "hovertemplate": "Genre=%{x}<br>Year=1986<br>Cumulative_Games per Genre=%{y}<extra></extra>",
           "ids": [
            "Misc"
           ],
           "legendgroup": "Misc",
           "marker": {
            "color": "#AB63FA"
           },
           "name": "Misc",
           "offsetgroup": "Misc",
           "orientation": "v",
           "showlegend": true,
           "textposition": "auto",
           "type": "bar",
           "x": [
            "Misc"
           ],
           "xaxis": "x",
           "y": [
            3
           ],
           "yaxis": "y"
          },
          {
           "alignmentgroup": "True",
           "hovertemplate": "Genre=%{x}<br>Year=1986<br>Cumulative_Games per Genre=%{y}<extra></extra>",
           "ids": [
            "Platform"
           ],
           "legendgroup": "Platform",
           "marker": {
            "color": "#ff8001"
           },
           "name": "Platform",
           "offsetgroup": "Platform",
           "orientation": "v",
           "showlegend": true,
           "textposition": "auto",
           "type": "bar",
           "x": [
            "Platform"
           ],
           "xaxis": "x",
           "y": [
            14
           ],
           "yaxis": "y"
          },
          {
           "alignmentgroup": "True",
           "hovertemplate": "Genre=%{x}<br>Year=1986<br>Cumulative_Games per Genre=%{y}<extra></extra>",
           "ids": [
            "Puzzle"
           ],
           "legendgroup": "Puzzle",
           "marker": {
            "color": "#00fcfe"
           },
           "name": "Puzzle",
           "offsetgroup": "Puzzle",
           "orientation": "v",
           "showlegend": true,
           "textposition": "auto",
           "type": "bar",
           "x": [
            "Puzzle"
           ],
           "xaxis": "x",
           "y": [
            9
           ],
           "yaxis": "y"
          },
          {
           "alignmentgroup": "True",
           "hovertemplate": "Genre=%{x}<br>Year=1986<br>Cumulative_Games per Genre=%{y}<extra></extra>",
           "ids": [
            "Racing"
           ],
           "legendgroup": "Racing",
           "marker": {
            "color": "#FE00FA"
           },
           "name": "Racing",
           "offsetgroup": "Racing",
           "orientation": "v",
           "showlegend": true,
           "textposition": "auto",
           "type": "bar",
           "x": [
            "Racing"
           ],
           "xaxis": "x",
           "y": [
            6
           ],
           "yaxis": "y"
          },
          {
           "alignmentgroup": "True",
           "hovertemplate": "Genre=%{x}<br>Year=1986<br>Cumulative_Games per Genre=%{y}<extra></extra>",
           "ids": [
            "Role-Playing"
           ],
           "legendgroup": "Role-Playing",
           "marker": {
            "color": "#16FF32"
           },
           "name": "Role-Playing",
           "offsetgroup": "Role-Playing",
           "orientation": "v",
           "showlegend": true,
           "textposition": "auto",
           "type": "bar",
           "x": [
            "Role-Playing"
           ],
           "xaxis": "x",
           "y": [
            1
           ],
           "yaxis": "y"
          },
          {
           "alignmentgroup": "True",
           "hovertemplate": "Genre=%{x}<br>Year=1986<br>Cumulative_Games per Genre=%{y}<extra></extra>",
           "ids": [
            "Shooter"
           ],
           "legendgroup": "Shooter",
           "marker": {
            "color": "#FF97FF"
           },
           "name": "Shooter",
           "offsetgroup": "Shooter",
           "orientation": "v",
           "showlegend": true,
           "textposition": "auto",
           "type": "bar",
           "x": [
            "Shooter"
           ],
           "xaxis": "x",
           "y": [
            20
           ],
           "yaxis": "y"
          },
          {
           "alignmentgroup": "True",
           "hovertemplate": "Genre=%{x}<br>Year=1986<br>Cumulative_Games per Genre=%{y}<extra></extra>",
           "ids": [
            "Simulation"
           ],
           "legendgroup": "Simulation",
           "marker": {
            "color": "#FFFF00"
           },
           "name": "Simulation",
           "offsetgroup": "Simulation",
           "orientation": "v",
           "showlegend": true,
           "textposition": "auto",
           "type": "bar",
           "x": [
            "Simulation"
           ],
           "xaxis": "x",
           "y": [
            1
           ],
           "yaxis": "y"
          },
          {
           "alignmentgroup": "True",
           "hovertemplate": "Genre=%{x}<br>Year=1986<br>Cumulative_Games per Genre=%{y}<extra></extra>",
           "ids": [
            "Sports"
           ],
           "legendgroup": "Sports",
           "marker": {
            "color": "#2dc997"
           },
           "name": "Sports",
           "offsetgroup": "Sports",
           "orientation": "v",
           "showlegend": true,
           "textposition": "auto",
           "type": "bar",
           "x": [
            "Sports"
           ],
           "xaxis": "x",
           "y": [
            12
           ],
           "yaxis": "y"
          },
          {
           "alignmentgroup": "True",
           "hovertemplate": "Genre=%{x}<br>Year=1986<br>Cumulative_Games per Genre=%{y}<extra></extra>",
           "ids": [
            "Strategy"
           ],
           "legendgroup": "Strategy",
           "marker": {
            "color": "#B10DA1"
           },
           "name": "Strategy",
           "offsetgroup": "Strategy",
           "orientation": "v",
           "showlegend": true,
           "textposition": "auto",
           "type": "bar",
           "x": [
            "Strategy"
           ],
           "xaxis": "x",
           "y": [
            0
           ],
           "yaxis": "y"
          }
         ],
         "name": "1986"
        },
        {
         "data": [
          {
           "alignmentgroup": "True",
           "hovertemplate": "Genre=%{x}<br>Year=1987<br>Cumulative_Games per Genre=%{y}<extra></extra>",
           "ids": [
            "Action"
           ],
           "legendgroup": "Action",
           "marker": {
            "color": "#636EFA"
           },
           "name": "Action",
           "offsetgroup": "Action",
           "orientation": "v",
           "showlegend": true,
           "textposition": "auto",
           "type": "bar",
           "x": [
            "Action"
           ],
           "xaxis": "x",
           "y": [
            42
           ],
           "yaxis": "y"
          },
          {
           "alignmentgroup": "True",
           "hovertemplate": "Genre=%{x}<br>Year=1987<br>Cumulative_Games per Genre=%{y}<extra></extra>",
           "ids": [
            "Adventure"
           ],
           "legendgroup": "Adventure",
           "marker": {
            "color": "#EF553B"
           },
           "name": "Adventure",
           "offsetgroup": "Adventure",
           "orientation": "v",
           "showlegend": true,
           "textposition": "auto",
           "type": "bar",
           "x": [
            "Adventure"
           ],
           "xaxis": "x",
           "y": [
            1
           ],
           "yaxis": "y"
          },
          {
           "alignmentgroup": "True",
           "hovertemplate": "Genre=%{x}<br>Year=1987<br>Cumulative_Games per Genre=%{y}<extra></extra>",
           "ids": [
            "Fighting"
           ],
           "legendgroup": "Fighting",
           "marker": {
            "color": "#00CC96"
           },
           "name": "Fighting",
           "offsetgroup": "Fighting",
           "orientation": "v",
           "showlegend": true,
           "textposition": "auto",
           "type": "bar",
           "x": [
            "Fighting"
           ],
           "xaxis": "x",
           "y": [
            3
           ],
           "yaxis": "y"
          },
          {
           "alignmentgroup": "True",
           "hovertemplate": "Genre=%{x}<br>Year=1987<br>Cumulative_Games per Genre=%{y}<extra></extra>",
           "ids": [
            "Misc"
           ],
           "legendgroup": "Misc",
           "marker": {
            "color": "#AB63FA"
           },
           "name": "Misc",
           "offsetgroup": "Misc",
           "orientation": "v",
           "showlegend": true,
           "textposition": "auto",
           "type": "bar",
           "x": [
            "Misc"
           ],
           "xaxis": "x",
           "y": [
            3
           ],
           "yaxis": "y"
          },
          {
           "alignmentgroup": "True",
           "hovertemplate": "Genre=%{x}<br>Year=1987<br>Cumulative_Games per Genre=%{y}<extra></extra>",
           "ids": [
            "Platform"
           ],
           "legendgroup": "Platform",
           "marker": {
            "color": "#ff8001"
           },
           "name": "Platform",
           "offsetgroup": "Platform",
           "orientation": "v",
           "showlegend": true,
           "textposition": "auto",
           "type": "bar",
           "x": [
            "Platform"
           ],
           "xaxis": "x",
           "y": [
            15
           ],
           "yaxis": "y"
          },
          {
           "alignmentgroup": "True",
           "hovertemplate": "Genre=%{x}<br>Year=1987<br>Cumulative_Games per Genre=%{y}<extra></extra>",
           "ids": [
            "Puzzle"
           ],
           "legendgroup": "Puzzle",
           "marker": {
            "color": "#00fcfe"
           },
           "name": "Puzzle",
           "offsetgroup": "Puzzle",
           "orientation": "v",
           "showlegend": true,
           "textposition": "auto",
           "type": "bar",
           "x": [
            "Puzzle"
           ],
           "xaxis": "x",
           "y": [
            9
           ],
           "yaxis": "y"
          },
          {
           "alignmentgroup": "True",
           "hovertemplate": "Genre=%{x}<br>Year=1987<br>Cumulative_Games per Genre=%{y}<extra></extra>",
           "ids": [
            "Racing"
           ],
           "legendgroup": "Racing",
           "marker": {
            "color": "#FE00FA"
           },
           "name": "Racing",
           "offsetgroup": "Racing",
           "orientation": "v",
           "showlegend": true,
           "textposition": "auto",
           "type": "bar",
           "x": [
            "Racing"
           ],
           "xaxis": "x",
           "y": [
            6
           ],
           "yaxis": "y"
          },
          {
           "alignmentgroup": "True",
           "hovertemplate": "Genre=%{x}<br>Year=1987<br>Cumulative_Games per Genre=%{y}<extra></extra>",
           "ids": [
            "Role-Playing"
           ],
           "legendgroup": "Role-Playing",
           "marker": {
            "color": "#16FF32"
           },
           "name": "Role-Playing",
           "offsetgroup": "Role-Playing",
           "orientation": "v",
           "showlegend": true,
           "textposition": "auto",
           "type": "bar",
           "x": [
            "Role-Playing"
           ],
           "xaxis": "x",
           "y": [
            3
           ],
           "yaxis": "y"
          },
          {
           "alignmentgroup": "True",
           "hovertemplate": "Genre=%{x}<br>Year=1987<br>Cumulative_Games per Genre=%{y}<extra></extra>",
           "ids": [
            "Shooter"
           ],
           "legendgroup": "Shooter",
           "marker": {
            "color": "#FF97FF"
           },
           "name": "Shooter",
           "offsetgroup": "Shooter",
           "orientation": "v",
           "showlegend": true,
           "textposition": "auto",
           "type": "bar",
           "x": [
            "Shooter"
           ],
           "xaxis": "x",
           "y": [
            22
           ],
           "yaxis": "y"
          },
          {
           "alignmentgroup": "True",
           "hovertemplate": "Genre=%{x}<br>Year=1987<br>Cumulative_Games per Genre=%{y}<extra></extra>",
           "ids": [
            "Simulation"
           ],
           "legendgroup": "Simulation",
           "marker": {
            "color": "#FFFF00"
           },
           "name": "Simulation",
           "offsetgroup": "Simulation",
           "orientation": "v",
           "showlegend": true,
           "textposition": "auto",
           "type": "bar",
           "x": [
            "Simulation"
           ],
           "xaxis": "x",
           "y": [
            1
           ],
           "yaxis": "y"
          },
          {
           "alignmentgroup": "True",
           "hovertemplate": "Genre=%{x}<br>Year=1987<br>Cumulative_Games per Genre=%{y}<extra></extra>",
           "ids": [
            "Sports"
           ],
           "legendgroup": "Sports",
           "marker": {
            "color": "#2dc997"
           },
           "name": "Sports",
           "offsetgroup": "Sports",
           "orientation": "v",
           "showlegend": true,
           "textposition": "auto",
           "type": "bar",
           "x": [
            "Sports"
           ],
           "xaxis": "x",
           "y": [
            14
           ],
           "yaxis": "y"
          },
          {
           "alignmentgroup": "True",
           "hovertemplate": "Genre=%{x}<br>Year=1987<br>Cumulative_Games per Genre=%{y}<extra></extra>",
           "ids": [
            "Strategy"
           ],
           "legendgroup": "Strategy",
           "marker": {
            "color": "#B10DA1"
           },
           "name": "Strategy",
           "offsetgroup": "Strategy",
           "orientation": "v",
           "showlegend": true,
           "textposition": "auto",
           "type": "bar",
           "x": [
            "Strategy"
           ],
           "xaxis": "x",
           "y": [
            0
           ],
           "yaxis": "y"
          }
         ],
         "name": "1987"
        },
        {
         "data": [
          {
           "alignmentgroup": "True",
           "hovertemplate": "Genre=%{x}<br>Year=1988<br>Cumulative_Games per Genre=%{y}<extra></extra>",
           "ids": [
            "Action"
           ],
           "legendgroup": "Action",
           "marker": {
            "color": "#636EFA"
           },
           "name": "Action",
           "offsetgroup": "Action",
           "orientation": "v",
           "showlegend": true,
           "textposition": "auto",
           "type": "bar",
           "x": [
            "Action"
           ],
           "xaxis": "x",
           "y": [
            43
           ],
           "yaxis": "y"
          },
          {
           "alignmentgroup": "True",
           "hovertemplate": "Genre=%{x}<br>Year=1988<br>Cumulative_Games per Genre=%{y}<extra></extra>",
           "ids": [
            "Adventure"
           ],
           "legendgroup": "Adventure",
           "marker": {
            "color": "#EF553B"
           },
           "name": "Adventure",
           "offsetgroup": "Adventure",
           "orientation": "v",
           "showlegend": true,
           "textposition": "auto",
           "type": "bar",
           "x": [
            "Adventure"
           ],
           "xaxis": "x",
           "y": [
            1
           ],
           "yaxis": "y"
          },
          {
           "alignmentgroup": "True",
           "hovertemplate": "Genre=%{x}<br>Year=1988<br>Cumulative_Games per Genre=%{y}<extra></extra>",
           "ids": [
            "Fighting"
           ],
           "legendgroup": "Fighting",
           "marker": {
            "color": "#00CC96"
           },
           "name": "Fighting",
           "offsetgroup": "Fighting",
           "orientation": "v",
           "showlegend": true,
           "textposition": "auto",
           "type": "bar",
           "x": [
            "Fighting"
           ],
           "xaxis": "x",
           "y": [
            3
           ],
           "yaxis": "y"
          },
          {
           "alignmentgroup": "True",
           "hovertemplate": "Genre=%{x}<br>Year=1988<br>Cumulative_Games per Genre=%{y}<extra></extra>",
           "ids": [
            "Misc"
           ],
           "legendgroup": "Misc",
           "marker": {
            "color": "#AB63FA"
           },
           "name": "Misc",
           "offsetgroup": "Misc",
           "orientation": "v",
           "showlegend": true,
           "textposition": "auto",
           "type": "bar",
           "x": [
            "Misc"
           ],
           "xaxis": "x",
           "y": [
            3
           ],
           "yaxis": "y"
          },
          {
           "alignmentgroup": "True",
           "hovertemplate": "Genre=%{x}<br>Year=1988<br>Cumulative_Games per Genre=%{y}<extra></extra>",
           "ids": [
            "Platform"
           ],
           "legendgroup": "Platform",
           "marker": {
            "color": "#ff8001"
           },
           "name": "Platform",
           "offsetgroup": "Platform",
           "orientation": "v",
           "showlegend": true,
           "textposition": "auto",
           "type": "bar",
           "x": [
            "Platform"
           ],
           "xaxis": "x",
           "y": [
            18
           ],
           "yaxis": "y"
          },
          {
           "alignmentgroup": "True",
           "hovertemplate": "Genre=%{x}<br>Year=1988<br>Cumulative_Games per Genre=%{y}<extra></extra>",
           "ids": [
            "Puzzle"
           ],
           "legendgroup": "Puzzle",
           "marker": {
            "color": "#00fcfe"
           },
           "name": "Puzzle",
           "offsetgroup": "Puzzle",
           "orientation": "v",
           "showlegend": true,
           "textposition": "auto",
           "type": "bar",
           "x": [
            "Puzzle"
           ],
           "xaxis": "x",
           "y": [
            10
           ],
           "yaxis": "y"
          },
          {
           "alignmentgroup": "True",
           "hovertemplate": "Genre=%{x}<br>Year=1988<br>Cumulative_Games per Genre=%{y}<extra></extra>",
           "ids": [
            "Racing"
           ],
           "legendgroup": "Racing",
           "marker": {
            "color": "#FE00FA"
           },
           "name": "Racing",
           "offsetgroup": "Racing",
           "orientation": "v",
           "showlegend": true,
           "textposition": "auto",
           "type": "bar",
           "x": [
            "Racing"
           ],
           "xaxis": "x",
           "y": [
            7
           ],
           "yaxis": "y"
          },
          {
           "alignmentgroup": "True",
           "hovertemplate": "Genre=%{x}<br>Year=1988<br>Cumulative_Games per Genre=%{y}<extra></extra>",
           "ids": [
            "Role-Playing"
           ],
           "legendgroup": "Role-Playing",
           "marker": {
            "color": "#16FF32"
           },
           "name": "Role-Playing",
           "offsetgroup": "Role-Playing",
           "orientation": "v",
           "showlegend": true,
           "textposition": "auto",
           "type": "bar",
           "x": [
            "Role-Playing"
           ],
           "xaxis": "x",
           "y": [
            3
           ],
           "yaxis": "y"
          },
          {
           "alignmentgroup": "True",
           "hovertemplate": "Genre=%{x}<br>Year=1988<br>Cumulative_Games per Genre=%{y}<extra></extra>",
           "ids": [
            "Shooter"
           ],
           "legendgroup": "Shooter",
           "marker": {
            "color": "#FF97FF"
           },
           "name": "Shooter",
           "offsetgroup": "Shooter",
           "orientation": "v",
           "showlegend": true,
           "textposition": "auto",
           "type": "bar",
           "x": [
            "Shooter"
           ],
           "xaxis": "x",
           "y": [
            23
           ],
           "yaxis": "y"
          },
          {
           "alignmentgroup": "True",
           "hovertemplate": "Genre=%{x}<br>Year=1988<br>Cumulative_Games per Genre=%{y}<extra></extra>",
           "ids": [
            "Simulation"
           ],
           "legendgroup": "Simulation",
           "marker": {
            "color": "#FFFF00"
           },
           "name": "Simulation",
           "offsetgroup": "Simulation",
           "orientation": "v",
           "showlegend": true,
           "textposition": "auto",
           "type": "bar",
           "x": [
            "Simulation"
           ],
           "xaxis": "x",
           "y": [
            1
           ],
           "yaxis": "y"
          },
          {
           "alignmentgroup": "True",
           "hovertemplate": "Genre=%{x}<br>Year=1988<br>Cumulative_Games per Genre=%{y}<extra></extra>",
           "ids": [
            "Sports"
           ],
           "legendgroup": "Sports",
           "marker": {
            "color": "#2dc997"
           },
           "name": "Sports",
           "offsetgroup": "Sports",
           "orientation": "v",
           "showlegend": true,
           "textposition": "auto",
           "type": "bar",
           "x": [
            "Sports"
           ],
           "xaxis": "x",
           "y": [
            15
           ],
           "yaxis": "y"
          },
          {
           "alignmentgroup": "True",
           "hovertemplate": "Genre=%{x}<br>Year=1988<br>Cumulative_Games per Genre=%{y}<extra></extra>",
           "ids": [
            "Strategy"
           ],
           "legendgroup": "Strategy",
           "marker": {
            "color": "#B10DA1"
           },
           "name": "Strategy",
           "offsetgroup": "Strategy",
           "orientation": "v",
           "showlegend": true,
           "textposition": "auto",
           "type": "bar",
           "x": [
            "Strategy"
           ],
           "xaxis": "x",
           "y": [
            0
           ],
           "yaxis": "y"
          }
         ],
         "name": "1988"
        },
        {
         "data": [
          {
           "alignmentgroup": "True",
           "hovertemplate": "Genre=%{x}<br>Year=1989<br>Cumulative_Games per Genre=%{y}<extra></extra>",
           "ids": [
            "Action"
           ],
           "legendgroup": "Action",
           "marker": {
            "color": "#636EFA"
           },
           "name": "Action",
           "offsetgroup": "Action",
           "orientation": "v",
           "showlegend": true,
           "textposition": "auto",
           "type": "bar",
           "x": [
            "Action"
           ],
           "xaxis": "x",
           "y": [
            45
           ],
           "yaxis": "y"
          },
          {
           "alignmentgroup": "True",
           "hovertemplate": "Genre=%{x}<br>Year=1989<br>Cumulative_Games per Genre=%{y}<extra></extra>",
           "ids": [
            "Adventure"
           ],
           "legendgroup": "Adventure",
           "marker": {
            "color": "#EF553B"
           },
           "name": "Adventure",
           "offsetgroup": "Adventure",
           "orientation": "v",
           "showlegend": true,
           "textposition": "auto",
           "type": "bar",
           "x": [
            "Adventure"
           ],
           "xaxis": "x",
           "y": [
            1
           ],
           "yaxis": "y"
          },
          {
           "alignmentgroup": "True",
           "hovertemplate": "Genre=%{x}<br>Year=1989<br>Cumulative_Games per Genre=%{y}<extra></extra>",
           "ids": [
            "Fighting"
           ],
           "legendgroup": "Fighting",
           "marker": {
            "color": "#00CC96"
           },
           "name": "Fighting",
           "offsetgroup": "Fighting",
           "orientation": "v",
           "showlegend": true,
           "textposition": "auto",
           "type": "bar",
           "x": [
            "Fighting"
           ],
           "xaxis": "x",
           "y": [
            3
           ],
           "yaxis": "y"
          },
          {
           "alignmentgroup": "True",
           "hovertemplate": "Genre=%{x}<br>Year=1989<br>Cumulative_Games per Genre=%{y}<extra></extra>",
           "ids": [
            "Misc"
           ],
           "legendgroup": "Misc",
           "marker": {
            "color": "#AB63FA"
           },
           "name": "Misc",
           "offsetgroup": "Misc",
           "orientation": "v",
           "showlegend": true,
           "textposition": "auto",
           "type": "bar",
           "x": [
            "Misc"
           ],
           "xaxis": "x",
           "y": [
            3
           ],
           "yaxis": "y"
          },
          {
           "alignmentgroup": "True",
           "hovertemplate": "Genre=%{x}<br>Year=1989<br>Cumulative_Games per Genre=%{y}<extra></extra>",
           "ids": [
            "Platform"
           ],
           "legendgroup": "Platform",
           "marker": {
            "color": "#ff8001"
           },
           "name": "Platform",
           "offsetgroup": "Platform",
           "orientation": "v",
           "showlegend": true,
           "textposition": "auto",
           "type": "bar",
           "x": [
            "Platform"
           ],
           "xaxis": "x",
           "y": [
            18
           ],
           "yaxis": "y"
          },
          {
           "alignmentgroup": "True",
           "hovertemplate": "Genre=%{x}<br>Year=1989<br>Cumulative_Games per Genre=%{y}<extra></extra>",
           "ids": [
            "Puzzle"
           ],
           "legendgroup": "Puzzle",
           "marker": {
            "color": "#00fcfe"
           },
           "name": "Puzzle",
           "offsetgroup": "Puzzle",
           "orientation": "v",
           "showlegend": true,
           "textposition": "auto",
           "type": "bar",
           "x": [
            "Puzzle"
           ],
           "xaxis": "x",
           "y": [
            11
           ],
           "yaxis": "y"
          },
          {
           "alignmentgroup": "True",
           "hovertemplate": "Genre=%{x}<br>Year=1989<br>Cumulative_Games per Genre=%{y}<extra></extra>",
           "ids": [
            "Racing"
           ],
           "legendgroup": "Racing",
           "marker": {
            "color": "#FE00FA"
           },
           "name": "Racing",
           "offsetgroup": "Racing",
           "orientation": "v",
           "showlegend": true,
           "textposition": "auto",
           "type": "bar",
           "x": [
            "Racing"
           ],
           "xaxis": "x",
           "y": [
            7
           ],
           "yaxis": "y"
          },
          {
           "alignmentgroup": "True",
           "hovertemplate": "Genre=%{x}<br>Year=1989<br>Cumulative_Games per Genre=%{y}<extra></extra>",
           "ids": [
            "Role-Playing"
           ],
           "legendgroup": "Role-Playing",
           "marker": {
            "color": "#16FF32"
           },
           "name": "Role-Playing",
           "offsetgroup": "Role-Playing",
           "orientation": "v",
           "showlegend": true,
           "textposition": "auto",
           "type": "bar",
           "x": [
            "Role-Playing"
           ],
           "xaxis": "x",
           "y": [
            3
           ],
           "yaxis": "y"
          },
          {
           "alignmentgroup": "True",
           "hovertemplate": "Genre=%{x}<br>Year=1989<br>Cumulative_Games per Genre=%{y}<extra></extra>",
           "ids": [
            "Shooter"
           ],
           "legendgroup": "Shooter",
           "marker": {
            "color": "#FF97FF"
           },
           "name": "Shooter",
           "offsetgroup": "Shooter",
           "orientation": "v",
           "showlegend": true,
           "textposition": "auto",
           "type": "bar",
           "x": [
            "Shooter"
           ],
           "xaxis": "x",
           "y": [
            23
           ],
           "yaxis": "y"
          },
          {
           "alignmentgroup": "True",
           "hovertemplate": "Genre=%{x}<br>Year=1989<br>Cumulative_Games per Genre=%{y}<extra></extra>",
           "ids": [
            "Simulation"
           ],
           "legendgroup": "Simulation",
           "marker": {
            "color": "#FFFF00"
           },
           "name": "Simulation",
           "offsetgroup": "Simulation",
           "orientation": "v",
           "showlegend": true,
           "textposition": "auto",
           "type": "bar",
           "x": [
            "Simulation"
           ],
           "xaxis": "x",
           "y": [
            1
           ],
           "yaxis": "y"
          },
          {
           "alignmentgroup": "True",
           "hovertemplate": "Genre=%{x}<br>Year=1989<br>Cumulative_Games per Genre=%{y}<extra></extra>",
           "ids": [
            "Sports"
           ],
           "legendgroup": "Sports",
           "marker": {
            "color": "#2dc997"
           },
           "name": "Sports",
           "offsetgroup": "Sports",
           "orientation": "v",
           "showlegend": true,
           "textposition": "auto",
           "type": "bar",
           "x": [
            "Sports"
           ],
           "xaxis": "x",
           "y": [
            15
           ],
           "yaxis": "y"
          },
          {
           "alignmentgroup": "True",
           "hovertemplate": "Genre=%{x}<br>Year=1989<br>Cumulative_Games per Genre=%{y}<extra></extra>",
           "ids": [
            "Strategy"
           ],
           "legendgroup": "Strategy",
           "marker": {
            "color": "#B10DA1"
           },
           "name": "Strategy",
           "offsetgroup": "Strategy",
           "orientation": "v",
           "showlegend": true,
           "textposition": "auto",
           "type": "bar",
           "x": [
            "Strategy"
           ],
           "xaxis": "x",
           "y": [
            0
           ],
           "yaxis": "y"
          }
         ],
         "name": "1989"
        },
        {
         "data": [
          {
           "alignmentgroup": "True",
           "hovertemplate": "Genre=%{x}<br>Year=1990<br>Cumulative_Games per Genre=%{y}<extra></extra>",
           "ids": [
            "Action"
           ],
           "legendgroup": "Action",
           "marker": {
            "color": "#636EFA"
           },
           "name": "Action",
           "offsetgroup": "Action",
           "orientation": "v",
           "showlegend": true,
           "textposition": "auto",
           "type": "bar",
           "x": [
            "Action"
           ],
           "xaxis": "x",
           "y": [
            48
           ],
           "yaxis": "y"
          },
          {
           "alignmentgroup": "True",
           "hovertemplate": "Genre=%{x}<br>Year=1990<br>Cumulative_Games per Genre=%{y}<extra></extra>",
           "ids": [
            "Adventure"
           ],
           "legendgroup": "Adventure",
           "marker": {
            "color": "#EF553B"
           },
           "name": "Adventure",
           "offsetgroup": "Adventure",
           "orientation": "v",
           "showlegend": true,
           "textposition": "auto",
           "type": "bar",
           "x": [
            "Adventure"
           ],
           "xaxis": "x",
           "y": [
            1
           ],
           "yaxis": "y"
          },
          {
           "alignmentgroup": "True",
           "hovertemplate": "Genre=%{x}<br>Year=1990<br>Cumulative_Games per Genre=%{y}<extra></extra>",
           "ids": [
            "Fighting"
           ],
           "legendgroup": "Fighting",
           "marker": {
            "color": "#00CC96"
           },
           "name": "Fighting",
           "offsetgroup": "Fighting",
           "orientation": "v",
           "showlegend": true,
           "textposition": "auto",
           "type": "bar",
           "x": [
            "Fighting"
           ],
           "xaxis": "x",
           "y": [
            3
           ],
           "yaxis": "y"
          },
          {
           "alignmentgroup": "True",
           "hovertemplate": "Genre=%{x}<br>Year=1990<br>Cumulative_Games per Genre=%{y}<extra></extra>",
           "ids": [
            "Misc"
           ],
           "legendgroup": "Misc",
           "marker": {
            "color": "#AB63FA"
           },
           "name": "Misc",
           "offsetgroup": "Misc",
           "orientation": "v",
           "showlegend": true,
           "textposition": "auto",
           "type": "bar",
           "x": [
            "Misc"
           ],
           "xaxis": "x",
           "y": [
            3
           ],
           "yaxis": "y"
          },
          {
           "alignmentgroup": "True",
           "hovertemplate": "Genre=%{x}<br>Year=1990<br>Cumulative_Games per Genre=%{y}<extra></extra>",
           "ids": [
            "Platform"
           ],
           "legendgroup": "Platform",
           "marker": {
            "color": "#ff8001"
           },
           "name": "Platform",
           "offsetgroup": "Platform",
           "orientation": "v",
           "showlegend": true,
           "textposition": "auto",
           "type": "bar",
           "x": [
            "Platform"
           ],
           "xaxis": "x",
           "y": [
            19
           ],
           "yaxis": "y"
          },
          {
           "alignmentgroup": "True",
           "hovertemplate": "Genre=%{x}<br>Year=1990<br>Cumulative_Games per Genre=%{y}<extra></extra>",
           "ids": [
            "Puzzle"
           ],
           "legendgroup": "Puzzle",
           "marker": {
            "color": "#00fcfe"
           },
           "name": "Puzzle",
           "offsetgroup": "Puzzle",
           "orientation": "v",
           "showlegend": true,
           "textposition": "auto",
           "type": "bar",
           "x": [
            "Puzzle"
           ],
           "xaxis": "x",
           "y": [
            12
           ],
           "yaxis": "y"
          },
          {
           "alignmentgroup": "True",
           "hovertemplate": "Genre=%{x}<br>Year=1990<br>Cumulative_Games per Genre=%{y}<extra></extra>",
           "ids": [
            "Racing"
           ],
           "legendgroup": "Racing",
           "marker": {
            "color": "#FE00FA"
           },
           "name": "Racing",
           "offsetgroup": "Racing",
           "orientation": "v",
           "showlegend": true,
           "textposition": "auto",
           "type": "bar",
           "x": [
            "Racing"
           ],
           "xaxis": "x",
           "y": [
            8
           ],
           "yaxis": "y"
          },
          {
           "alignmentgroup": "True",
           "hovertemplate": "Genre=%{x}<br>Year=1990<br>Cumulative_Games per Genre=%{y}<extra></extra>",
           "ids": [
            "Role-Playing"
           ],
           "legendgroup": "Role-Playing",
           "marker": {
            "color": "#16FF32"
           },
           "name": "Role-Playing",
           "offsetgroup": "Role-Playing",
           "orientation": "v",
           "showlegend": true,
           "textposition": "auto",
           "type": "bar",
           "x": [
            "Role-Playing"
           ],
           "xaxis": "x",
           "y": [
            3
           ],
           "yaxis": "y"
          },
          {
           "alignmentgroup": "True",
           "hovertemplate": "Genre=%{x}<br>Year=1990<br>Cumulative_Games per Genre=%{y}<extra></extra>",
           "ids": [
            "Shooter"
           ],
           "legendgroup": "Shooter",
           "marker": {
            "color": "#FF97FF"
           },
           "name": "Shooter",
           "offsetgroup": "Shooter",
           "orientation": "v",
           "showlegend": true,
           "textposition": "auto",
           "type": "bar",
           "x": [
            "Shooter"
           ],
           "xaxis": "x",
           "y": [
            23
           ],
           "yaxis": "y"
          },
          {
           "alignmentgroup": "True",
           "hovertemplate": "Genre=%{x}<br>Year=1990<br>Cumulative_Games per Genre=%{y}<extra></extra>",
           "ids": [
            "Simulation"
           ],
           "legendgroup": "Simulation",
           "marker": {
            "color": "#FFFF00"
           },
           "name": "Simulation",
           "offsetgroup": "Simulation",
           "orientation": "v",
           "showlegend": true,
           "textposition": "auto",
           "type": "bar",
           "x": [
            "Simulation"
           ],
           "xaxis": "x",
           "y": [
            2
           ],
           "yaxis": "y"
          },
          {
           "alignmentgroup": "True",
           "hovertemplate": "Genre=%{x}<br>Year=1990<br>Cumulative_Games per Genre=%{y}<extra></extra>",
           "ids": [
            "Sports"
           ],
           "legendgroup": "Sports",
           "marker": {
            "color": "#2dc997"
           },
           "name": "Sports",
           "offsetgroup": "Sports",
           "orientation": "v",
           "showlegend": true,
           "textposition": "auto",
           "type": "bar",
           "x": [
            "Sports"
           ],
           "xaxis": "x",
           "y": [
            16
           ],
           "yaxis": "y"
          },
          {
           "alignmentgroup": "True",
           "hovertemplate": "Genre=%{x}<br>Year=1990<br>Cumulative_Games per Genre=%{y}<extra></extra>",
           "ids": [
            "Strategy"
           ],
           "legendgroup": "Strategy",
           "marker": {
            "color": "#B10DA1"
           },
           "name": "Strategy",
           "offsetgroup": "Strategy",
           "orientation": "v",
           "showlegend": true,
           "textposition": "auto",
           "type": "bar",
           "x": [
            "Strategy"
           ],
           "xaxis": "x",
           "y": [
            0
           ],
           "yaxis": "y"
          }
         ],
         "name": "1990"
        },
        {
         "data": [
          {
           "alignmentgroup": "True",
           "hovertemplate": "Genre=%{x}<br>Year=1991<br>Cumulative_Games per Genre=%{y}<extra></extra>",
           "ids": [
            "Action"
           ],
           "legendgroup": "Action",
           "marker": {
            "color": "#636EFA"
           },
           "name": "Action",
           "offsetgroup": "Action",
           "orientation": "v",
           "showlegend": true,
           "textposition": "auto",
           "type": "bar",
           "x": [
            "Action"
           ],
           "xaxis": "x",
           "y": [
            48
           ],
           "yaxis": "y"
          },
          {
           "alignmentgroup": "True",
           "hovertemplate": "Genre=%{x}<br>Year=1991<br>Cumulative_Games per Genre=%{y}<extra></extra>",
           "ids": [
            "Adventure"
           ],
           "legendgroup": "Adventure",
           "marker": {
            "color": "#EF553B"
           },
           "name": "Adventure",
           "offsetgroup": "Adventure",
           "orientation": "v",
           "showlegend": true,
           "textposition": "auto",
           "type": "bar",
           "x": [
            "Adventure"
           ],
           "xaxis": "x",
           "y": [
            1
           ],
           "yaxis": "y"
          },
          {
           "alignmentgroup": "True",
           "hovertemplate": "Genre=%{x}<br>Year=1991<br>Cumulative_Games per Genre=%{y}<extra></extra>",
           "ids": [
            "Fighting"
           ],
           "legendgroup": "Fighting",
           "marker": {
            "color": "#00CC96"
           },
           "name": "Fighting",
           "offsetgroup": "Fighting",
           "orientation": "v",
           "showlegend": true,
           "textposition": "auto",
           "type": "bar",
           "x": [
            "Fighting"
           ],
           "xaxis": "x",
           "y": [
            3
           ],
           "yaxis": "y"
          },
          {
           "alignmentgroup": "True",
           "hovertemplate": "Genre=%{x}<br>Year=1991<br>Cumulative_Games per Genre=%{y}<extra></extra>",
           "ids": [
            "Misc"
           ],
           "legendgroup": "Misc",
           "marker": {
            "color": "#AB63FA"
           },
           "name": "Misc",
           "offsetgroup": "Misc",
           "orientation": "v",
           "showlegend": true,
           "textposition": "auto",
           "type": "bar",
           "x": [
            "Misc"
           ],
           "xaxis": "x",
           "y": [
            3
           ],
           "yaxis": "y"
          },
          {
           "alignmentgroup": "True",
           "hovertemplate": "Genre=%{x}<br>Year=1991<br>Cumulative_Games per Genre=%{y}<extra></extra>",
           "ids": [
            "Platform"
           ],
           "legendgroup": "Platform",
           "marker": {
            "color": "#ff8001"
           },
           "name": "Platform",
           "offsetgroup": "Platform",
           "orientation": "v",
           "showlegend": true,
           "textposition": "auto",
           "type": "bar",
           "x": [
            "Platform"
           ],
           "xaxis": "x",
           "y": [
            23
           ],
           "yaxis": "y"
          },
          {
           "alignmentgroup": "True",
           "hovertemplate": "Genre=%{x}<br>Year=1991<br>Cumulative_Games per Genre=%{y}<extra></extra>",
           "ids": [
            "Puzzle"
           ],
           "legendgroup": "Puzzle",
           "marker": {
            "color": "#00fcfe"
           },
           "name": "Puzzle",
           "offsetgroup": "Puzzle",
           "orientation": "v",
           "showlegend": true,
           "textposition": "auto",
           "type": "bar",
           "x": [
            "Puzzle"
           ],
           "xaxis": "x",
           "y": [
            13
           ],
           "yaxis": "y"
          },
          {
           "alignmentgroup": "True",
           "hovertemplate": "Genre=%{x}<br>Year=1991<br>Cumulative_Games per Genre=%{y}<extra></extra>",
           "ids": [
            "Racing"
           ],
           "legendgroup": "Racing",
           "marker": {
            "color": "#FE00FA"
           },
           "name": "Racing",
           "offsetgroup": "Racing",
           "orientation": "v",
           "showlegend": true,
           "textposition": "auto",
           "type": "bar",
           "x": [
            "Racing"
           ],
           "xaxis": "x",
           "y": [
            8
           ],
           "yaxis": "y"
          },
          {
           "alignmentgroup": "True",
           "hovertemplate": "Genre=%{x}<br>Year=1991<br>Cumulative_Games per Genre=%{y}<extra></extra>",
           "ids": [
            "Role-Playing"
           ],
           "legendgroup": "Role-Playing",
           "marker": {
            "color": "#16FF32"
           },
           "name": "Role-Playing",
           "offsetgroup": "Role-Playing",
           "orientation": "v",
           "showlegend": true,
           "textposition": "auto",
           "type": "bar",
           "x": [
            "Role-Playing"
           ],
           "xaxis": "x",
           "y": [
            4
           ],
           "yaxis": "y"
          },
          {
           "alignmentgroup": "True",
           "hovertemplate": "Genre=%{x}<br>Year=1991<br>Cumulative_Games per Genre=%{y}<extra></extra>",
           "ids": [
            "Shooter"
           ],
           "legendgroup": "Shooter",
           "marker": {
            "color": "#FF97FF"
           },
           "name": "Shooter",
           "offsetgroup": "Shooter",
           "orientation": "v",
           "showlegend": true,
           "textposition": "auto",
           "type": "bar",
           "x": [
            "Shooter"
           ],
           "xaxis": "x",
           "y": [
            26
           ],
           "yaxis": "y"
          },
          {
           "alignmentgroup": "True",
           "hovertemplate": "Genre=%{x}<br>Year=1991<br>Cumulative_Games per Genre=%{y}<extra></extra>",
           "ids": [
            "Simulation"
           ],
           "legendgroup": "Simulation",
           "marker": {
            "color": "#FFFF00"
           },
           "name": "Simulation",
           "offsetgroup": "Simulation",
           "orientation": "v",
           "showlegend": true,
           "textposition": "auto",
           "type": "bar",
           "x": [
            "Simulation"
           ],
           "xaxis": "x",
           "y": [
            4
           ],
           "yaxis": "y"
          },
          {
           "alignmentgroup": "True",
           "hovertemplate": "Genre=%{x}<br>Year=1991<br>Cumulative_Games per Genre=%{y}<extra></extra>",
           "ids": [
            "Sports"
           ],
           "legendgroup": "Sports",
           "marker": {
            "color": "#2dc997"
           },
           "name": "Sports",
           "offsetgroup": "Sports",
           "orientation": "v",
           "showlegend": true,
           "textposition": "auto",
           "type": "bar",
           "x": [
            "Sports"
           ],
           "xaxis": "x",
           "y": [
            21
           ],
           "yaxis": "y"
          },
          {
           "alignmentgroup": "True",
           "hovertemplate": "Genre=%{x}<br>Year=1991<br>Cumulative_Games per Genre=%{y}<extra></extra>",
           "ids": [
            "Strategy"
           ],
           "legendgroup": "Strategy",
           "marker": {
            "color": "#B10DA1"
           },
           "name": "Strategy",
           "offsetgroup": "Strategy",
           "orientation": "v",
           "showlegend": true,
           "textposition": "auto",
           "type": "bar",
           "x": [
            "Strategy"
           ],
           "xaxis": "x",
           "y": [
            1
           ],
           "yaxis": "y"
          }
         ],
         "name": "1991"
        },
        {
         "data": [
          {
           "alignmentgroup": "True",
           "hovertemplate": "Genre=%{x}<br>Year=1992<br>Cumulative_Games per Genre=%{y}<extra></extra>",
           "ids": [
            "Action"
           ],
           "legendgroup": "Action",
           "marker": {
            "color": "#636EFA"
           },
           "name": "Action",
           "offsetgroup": "Action",
           "orientation": "v",
           "showlegend": true,
           "textposition": "auto",
           "type": "bar",
           "x": [
            "Action"
           ],
           "xaxis": "x",
           "y": [
            48
           ],
           "yaxis": "y"
          },
          {
           "alignmentgroup": "True",
           "hovertemplate": "Genre=%{x}<br>Year=1992<br>Cumulative_Games per Genre=%{y}<extra></extra>",
           "ids": [
            "Adventure"
           ],
           "legendgroup": "Adventure",
           "marker": {
            "color": "#EF553B"
           },
           "name": "Adventure",
           "offsetgroup": "Adventure",
           "orientation": "v",
           "showlegend": true,
           "textposition": "auto",
           "type": "bar",
           "x": [
            "Adventure"
           ],
           "xaxis": "x",
           "y": [
            2
           ],
           "yaxis": "y"
          },
          {
           "alignmentgroup": "True",
           "hovertemplate": "Genre=%{x}<br>Year=1992<br>Cumulative_Games per Genre=%{y}<extra></extra>",
           "ids": [
            "Fighting"
           ],
           "legendgroup": "Fighting",
           "marker": {
            "color": "#00CC96"
           },
           "name": "Fighting",
           "offsetgroup": "Fighting",
           "orientation": "v",
           "showlegend": true,
           "textposition": "auto",
           "type": "bar",
           "x": [
            "Fighting"
           ],
           "xaxis": "x",
           "y": [
            8
           ],
           "yaxis": "y"
          },
          {
           "alignmentgroup": "True",
           "hovertemplate": "Genre=%{x}<br>Year=1992<br>Cumulative_Games per Genre=%{y}<extra></extra>",
           "ids": [
            "Misc"
           ],
           "legendgroup": "Misc",
           "marker": {
            "color": "#AB63FA"
           },
           "name": "Misc",
           "offsetgroup": "Misc",
           "orientation": "v",
           "showlegend": true,
           "textposition": "auto",
           "type": "bar",
           "x": [
            "Misc"
           ],
           "xaxis": "x",
           "y": [
            4
           ],
           "yaxis": "y"
          },
          {
           "alignmentgroup": "True",
           "hovertemplate": "Genre=%{x}<br>Year=1992<br>Cumulative_Games per Genre=%{y}<extra></extra>",
           "ids": [
            "Platform"
           ],
           "legendgroup": "Platform",
           "marker": {
            "color": "#ff8001"
           },
           "name": "Platform",
           "offsetgroup": "Platform",
           "orientation": "v",
           "showlegend": true,
           "textposition": "auto",
           "type": "bar",
           "x": [
            "Platform"
           ],
           "xaxis": "x",
           "y": [
            25
           ],
           "yaxis": "y"
          },
          {
           "alignmentgroup": "True",
           "hovertemplate": "Genre=%{x}<br>Year=1992<br>Cumulative_Games per Genre=%{y}<extra></extra>",
           "ids": [
            "Puzzle"
           ],
           "legendgroup": "Puzzle",
           "marker": {
            "color": "#00fcfe"
           },
           "name": "Puzzle",
           "offsetgroup": "Puzzle",
           "orientation": "v",
           "showlegend": true,
           "textposition": "auto",
           "type": "bar",
           "x": [
            "Puzzle"
           ],
           "xaxis": "x",
           "y": [
            14
           ],
           "yaxis": "y"
          },
          {
           "alignmentgroup": "True",
           "hovertemplate": "Genre=%{x}<br>Year=1992<br>Cumulative_Games per Genre=%{y}<extra></extra>",
           "ids": [
            "Racing"
           ],
           "legendgroup": "Racing",
           "marker": {
            "color": "#FE00FA"
           },
           "name": "Racing",
           "offsetgroup": "Racing",
           "orientation": "v",
           "showlegend": true,
           "textposition": "auto",
           "type": "bar",
           "x": [
            "Racing"
           ],
           "xaxis": "x",
           "y": [
            9
           ],
           "yaxis": "y"
          },
          {
           "alignmentgroup": "True",
           "hovertemplate": "Genre=%{x}<br>Year=1992<br>Cumulative_Games per Genre=%{y}<extra></extra>",
           "ids": [
            "Role-Playing"
           ],
           "legendgroup": "Role-Playing",
           "marker": {
            "color": "#16FF32"
           },
           "name": "Role-Playing",
           "offsetgroup": "Role-Playing",
           "orientation": "v",
           "showlegend": true,
           "textposition": "auto",
           "type": "bar",
           "x": [
            "Role-Playing"
           ],
           "xaxis": "x",
           "y": [
            4
           ],
           "yaxis": "y"
          },
          {
           "alignmentgroup": "True",
           "hovertemplate": "Genre=%{x}<br>Year=1992<br>Cumulative_Games per Genre=%{y}<extra></extra>",
           "ids": [
            "Shooter"
           ],
           "legendgroup": "Shooter",
           "marker": {
            "color": "#FF97FF"
           },
           "name": "Shooter",
           "offsetgroup": "Shooter",
           "orientation": "v",
           "showlegend": true,
           "textposition": "auto",
           "type": "bar",
           "x": [
            "Shooter"
           ],
           "xaxis": "x",
           "y": [
            27
           ],
           "yaxis": "y"
          },
          {
           "alignmentgroup": "True",
           "hovertemplate": "Genre=%{x}<br>Year=1992<br>Cumulative_Games per Genre=%{y}<extra></extra>",
           "ids": [
            "Simulation"
           ],
           "legendgroup": "Simulation",
           "marker": {
            "color": "#FFFF00"
           },
           "name": "Simulation",
           "offsetgroup": "Simulation",
           "orientation": "v",
           "showlegend": true,
           "textposition": "auto",
           "type": "bar",
           "x": [
            "Simulation"
           ],
           "xaxis": "x",
           "y": [
            4
           ],
           "yaxis": "y"
          },
          {
           "alignmentgroup": "True",
           "hovertemplate": "Genre=%{x}<br>Year=1992<br>Cumulative_Games per Genre=%{y}<extra></extra>",
           "ids": [
            "Sports"
           ],
           "legendgroup": "Sports",
           "marker": {
            "color": "#2dc997"
           },
           "name": "Sports",
           "offsetgroup": "Sports",
           "orientation": "v",
           "showlegend": true,
           "textposition": "auto",
           "type": "bar",
           "x": [
            "Sports"
           ],
           "xaxis": "x",
           "y": [
            23
           ],
           "yaxis": "y"
          },
          {
           "alignmentgroup": "True",
           "hovertemplate": "Genre=%{x}<br>Year=1992<br>Cumulative_Games per Genre=%{y}<extra></extra>",
           "ids": [
            "Strategy"
           ],
           "legendgroup": "Strategy",
           "marker": {
            "color": "#B10DA1"
           },
           "name": "Strategy",
           "offsetgroup": "Strategy",
           "orientation": "v",
           "showlegend": true,
           "textposition": "auto",
           "type": "bar",
           "x": [
            "Strategy"
           ],
           "xaxis": "x",
           "y": [
            2
           ],
           "yaxis": "y"
          }
         ],
         "name": "1992"
        },
        {
         "data": [
          {
           "alignmentgroup": "True",
           "hovertemplate": "Genre=%{x}<br>Year=1993<br>Cumulative_Games per Genre=%{y}<extra></extra>",
           "ids": [
            "Action"
           ],
           "legendgroup": "Action",
           "marker": {
            "color": "#636EFA"
           },
           "name": "Action",
           "offsetgroup": "Action",
           "orientation": "v",
           "showlegend": true,
           "textposition": "auto",
           "type": "bar",
           "x": [
            "Action"
           ],
           "xaxis": "x",
           "y": [
            49
           ],
           "yaxis": "y"
          },
          {
           "alignmentgroup": "True",
           "hovertemplate": "Genre=%{x}<br>Year=1993<br>Cumulative_Games per Genre=%{y}<extra></extra>",
           "ids": [
            "Adventure"
           ],
           "legendgroup": "Adventure",
           "marker": {
            "color": "#EF553B"
           },
           "name": "Adventure",
           "offsetgroup": "Adventure",
           "orientation": "v",
           "showlegend": true,
           "textposition": "auto",
           "type": "bar",
           "x": [
            "Adventure"
           ],
           "xaxis": "x",
           "y": [
            3
           ],
           "yaxis": "y"
          },
          {
           "alignmentgroup": "True",
           "hovertemplate": "Genre=%{x}<br>Year=1993<br>Cumulative_Games per Genre=%{y}<extra></extra>",
           "ids": [
            "Fighting"
           ],
           "legendgroup": "Fighting",
           "marker": {
            "color": "#00CC96"
           },
           "name": "Fighting",
           "offsetgroup": "Fighting",
           "orientation": "v",
           "showlegend": true,
           "textposition": "auto",
           "type": "bar",
           "x": [
            "Fighting"
           ],
           "xaxis": "x",
           "y": [
            11
           ],
           "yaxis": "y"
          },
          {
           "alignmentgroup": "True",
           "hovertemplate": "Genre=%{x}<br>Year=1993<br>Cumulative_Games per Genre=%{y}<extra></extra>",
           "ids": [
            "Misc"
           ],
           "legendgroup": "Misc",
           "marker": {
            "color": "#AB63FA"
           },
           "name": "Misc",
           "offsetgroup": "Misc",
           "orientation": "v",
           "showlegend": true,
           "textposition": "auto",
           "type": "bar",
           "x": [
            "Misc"
           ],
           "xaxis": "x",
           "y": [
            4
           ],
           "yaxis": "y"
          },
          {
           "alignmentgroup": "True",
           "hovertemplate": "Genre=%{x}<br>Year=1993<br>Cumulative_Games per Genre=%{y}<extra></extra>",
           "ids": [
            "Platform"
           ],
           "legendgroup": "Platform",
           "marker": {
            "color": "#ff8001"
           },
           "name": "Platform",
           "offsetgroup": "Platform",
           "orientation": "v",
           "showlegend": true,
           "textposition": "auto",
           "type": "bar",
           "x": [
            "Platform"
           ],
           "xaxis": "x",
           "y": [
            30
           ],
           "yaxis": "y"
          },
          {
           "alignmentgroup": "True",
           "hovertemplate": "Genre=%{x}<br>Year=1993<br>Cumulative_Games per Genre=%{y}<extra></extra>",
           "ids": [
            "Puzzle"
           ],
           "legendgroup": "Puzzle",
           "marker": {
            "color": "#00fcfe"
           },
           "name": "Puzzle",
           "offsetgroup": "Puzzle",
           "orientation": "v",
           "showlegend": true,
           "textposition": "auto",
           "type": "bar",
           "x": [
            "Puzzle"
           ],
           "xaxis": "x",
           "y": [
            15
           ],
           "yaxis": "y"
          },
          {
           "alignmentgroup": "True",
           "hovertemplate": "Genre=%{x}<br>Year=1993<br>Cumulative_Games per Genre=%{y}<extra></extra>",
           "ids": [
            "Racing"
           ],
           "legendgroup": "Racing",
           "marker": {
            "color": "#FE00FA"
           },
           "name": "Racing",
           "offsetgroup": "Racing",
           "orientation": "v",
           "showlegend": true,
           "textposition": "auto",
           "type": "bar",
           "x": [
            "Racing"
           ],
           "xaxis": "x",
           "y": [
            11
           ],
           "yaxis": "y"
          },
          {
           "alignmentgroup": "True",
           "hovertemplate": "Genre=%{x}<br>Year=1993<br>Cumulative_Games per Genre=%{y}<extra></extra>",
           "ids": [
            "Role-Playing"
           ],
           "legendgroup": "Role-Playing",
           "marker": {
            "color": "#16FF32"
           },
           "name": "Role-Playing",
           "offsetgroup": "Role-Playing",
           "orientation": "v",
           "showlegend": true,
           "textposition": "auto",
           "type": "bar",
           "x": [
            "Role-Playing"
           ],
           "xaxis": "x",
           "y": [
            6
           ],
           "yaxis": "y"
          },
          {
           "alignmentgroup": "True",
           "hovertemplate": "Genre=%{x}<br>Year=1993<br>Cumulative_Games per Genre=%{y}<extra></extra>",
           "ids": [
            "Shooter"
           ],
           "legendgroup": "Shooter",
           "marker": {
            "color": "#FF97FF"
           },
           "name": "Shooter",
           "offsetgroup": "Shooter",
           "orientation": "v",
           "showlegend": true,
           "textposition": "auto",
           "type": "bar",
           "x": [
            "Shooter"
           ],
           "xaxis": "x",
           "y": [
            29
           ],
           "yaxis": "y"
          },
          {
           "alignmentgroup": "True",
           "hovertemplate": "Genre=%{x}<br>Year=1993<br>Cumulative_Games per Genre=%{y}<extra></extra>",
           "ids": [
            "Simulation"
           ],
           "legendgroup": "Simulation",
           "marker": {
            "color": "#FFFF00"
           },
           "name": "Simulation",
           "offsetgroup": "Simulation",
           "orientation": "v",
           "showlegend": true,
           "textposition": "auto",
           "type": "bar",
           "x": [
            "Simulation"
           ],
           "xaxis": "x",
           "y": [
            4
           ],
           "yaxis": "y"
          },
          {
           "alignmentgroup": "True",
           "hovertemplate": "Genre=%{x}<br>Year=1993<br>Cumulative_Games per Genre=%{y}<extra></extra>",
           "ids": [
            "Sports"
           ],
           "legendgroup": "Sports",
           "marker": {
            "color": "#2dc997"
           },
           "name": "Sports",
           "offsetgroup": "Sports",
           "orientation": "v",
           "showlegend": true,
           "textposition": "auto",
           "type": "bar",
           "x": [
            "Sports"
           ],
           "xaxis": "x",
           "y": [
            23
           ],
           "yaxis": "y"
          },
          {
           "alignmentgroup": "True",
           "hovertemplate": "Genre=%{x}<br>Year=1993<br>Cumulative_Games per Genre=%{y}<extra></extra>",
           "ids": [
            "Strategy"
           ],
           "legendgroup": "Strategy",
           "marker": {
            "color": "#B10DA1"
           },
           "name": "Strategy",
           "offsetgroup": "Strategy",
           "orientation": "v",
           "showlegend": true,
           "textposition": "auto",
           "type": "bar",
           "x": [
            "Strategy"
           ],
           "xaxis": "x",
           "y": [
            3
           ],
           "yaxis": "y"
          }
         ],
         "name": "1993"
        },
        {
         "data": [
          {
           "alignmentgroup": "True",
           "hovertemplate": "Genre=%{x}<br>Year=1994<br>Cumulative_Games per Genre=%{y}<extra></extra>",
           "ids": [
            "Action"
           ],
           "legendgroup": "Action",
           "marker": {
            "color": "#636EFA"
           },
           "name": "Action",
           "offsetgroup": "Action",
           "orientation": "v",
           "showlegend": true,
           "textposition": "auto",
           "type": "bar",
           "x": [
            "Action"
           ],
           "xaxis": "x",
           "y": [
            49
           ],
           "yaxis": "y"
          },
          {
           "alignmentgroup": "True",
           "hovertemplate": "Genre=%{x}<br>Year=1994<br>Cumulative_Games per Genre=%{y}<extra></extra>",
           "ids": [
            "Adventure"
           ],
           "legendgroup": "Adventure",
           "marker": {
            "color": "#EF553B"
           },
           "name": "Adventure",
           "offsetgroup": "Adventure",
           "orientation": "v",
           "showlegend": true,
           "textposition": "auto",
           "type": "bar",
           "x": [
            "Adventure"
           ],
           "xaxis": "x",
           "y": [
            5
           ],
           "yaxis": "y"
          },
          {
           "alignmentgroup": "True",
           "hovertemplate": "Genre=%{x}<br>Year=1994<br>Cumulative_Games per Genre=%{y}<extra></extra>",
           "ids": [
            "Fighting"
           ],
           "legendgroup": "Fighting",
           "marker": {
            "color": "#00CC96"
           },
           "name": "Fighting",
           "offsetgroup": "Fighting",
           "orientation": "v",
           "showlegend": true,
           "textposition": "auto",
           "type": "bar",
           "x": [
            "Fighting"
           ],
           "xaxis": "x",
           "y": [
            23
           ],
           "yaxis": "y"
          },
          {
           "alignmentgroup": "True",
           "hovertemplate": "Genre=%{x}<br>Year=1994<br>Cumulative_Games per Genre=%{y}<extra></extra>",
           "ids": [
            "Misc"
           ],
           "legendgroup": "Misc",
           "marker": {
            "color": "#AB63FA"
           },
           "name": "Misc",
           "offsetgroup": "Misc",
           "orientation": "v",
           "showlegend": true,
           "textposition": "auto",
           "type": "bar",
           "x": [
            "Misc"
           ],
           "xaxis": "x",
           "y": [
            4
           ],
           "yaxis": "y"
          },
          {
           "alignmentgroup": "True",
           "hovertemplate": "Genre=%{x}<br>Year=1994<br>Cumulative_Games per Genre=%{y}<extra></extra>",
           "ids": [
            "Platform"
           ],
           "legendgroup": "Platform",
           "marker": {
            "color": "#ff8001"
           },
           "name": "Platform",
           "offsetgroup": "Platform",
           "orientation": "v",
           "showlegend": true,
           "textposition": "auto",
           "type": "bar",
           "x": [
            "Platform"
           ],
           "xaxis": "x",
           "y": [
            34
           ],
           "yaxis": "y"
          },
          {
           "alignmentgroup": "True",
           "hovertemplate": "Genre=%{x}<br>Year=1994<br>Cumulative_Games per Genre=%{y}<extra></extra>",
           "ids": [
            "Puzzle"
           ],
           "legendgroup": "Puzzle",
           "marker": {
            "color": "#00fcfe"
           },
           "name": "Puzzle",
           "offsetgroup": "Puzzle",
           "orientation": "v",
           "showlegend": true,
           "textposition": "auto",
           "type": "bar",
           "x": [
            "Puzzle"
           ],
           "xaxis": "x",
           "y": [
            16
           ],
           "yaxis": "y"
          },
          {
           "alignmentgroup": "True",
           "hovertemplate": "Genre=%{x}<br>Year=1994<br>Cumulative_Games per Genre=%{y}<extra></extra>",
           "ids": [
            "Racing"
           ],
           "legendgroup": "Racing",
           "marker": {
            "color": "#FE00FA"
           },
           "name": "Racing",
           "offsetgroup": "Racing",
           "orientation": "v",
           "showlegend": true,
           "textposition": "auto",
           "type": "bar",
           "x": [
            "Racing"
           ],
           "xaxis": "x",
           "y": [
            15
           ],
           "yaxis": "y"
          },
          {
           "alignmentgroup": "True",
           "hovertemplate": "Genre=%{x}<br>Year=1994<br>Cumulative_Games per Genre=%{y}<extra></extra>",
           "ids": [
            "Role-Playing"
           ],
           "legendgroup": "Role-Playing",
           "marker": {
            "color": "#16FF32"
           },
           "name": "Role-Playing",
           "offsetgroup": "Role-Playing",
           "orientation": "v",
           "showlegend": true,
           "textposition": "auto",
           "type": "bar",
           "x": [
            "Role-Playing"
           ],
           "xaxis": "x",
           "y": [
            6
           ],
           "yaxis": "y"
          },
          {
           "alignmentgroup": "True",
           "hovertemplate": "Genre=%{x}<br>Year=1994<br>Cumulative_Games per Genre=%{y}<extra></extra>",
           "ids": [
            "Shooter"
           ],
           "legendgroup": "Shooter",
           "marker": {
            "color": "#FF97FF"
           },
           "name": "Shooter",
           "offsetgroup": "Shooter",
           "orientation": "v",
           "showlegend": true,
           "textposition": "auto",
           "type": "bar",
           "x": [
            "Shooter"
           ],
           "xaxis": "x",
           "y": [
            35
           ],
           "yaxis": "y"
          },
          {
           "alignmentgroup": "True",
           "hovertemplate": "Genre=%{x}<br>Year=1994<br>Cumulative_Games per Genre=%{y}<extra></extra>",
           "ids": [
            "Simulation"
           ],
           "legendgroup": "Simulation",
           "marker": {
            "color": "#FFFF00"
           },
           "name": "Simulation",
           "offsetgroup": "Simulation",
           "orientation": "v",
           "showlegend": true,
           "textposition": "auto",
           "type": "bar",
           "x": [
            "Simulation"
           ],
           "xaxis": "x",
           "y": [
            8
           ],
           "yaxis": "y"
          },
          {
           "alignmentgroup": "True",
           "hovertemplate": "Genre=%{x}<br>Year=1994<br>Cumulative_Games per Genre=%{y}<extra></extra>",
           "ids": [
            "Sports"
           ],
           "legendgroup": "Sports",
           "marker": {
            "color": "#2dc997"
           },
           "name": "Sports",
           "offsetgroup": "Sports",
           "orientation": "v",
           "showlegend": true,
           "textposition": "auto",
           "type": "bar",
           "x": [
            "Sports"
           ],
           "xaxis": "x",
           "y": [
            32
           ],
           "yaxis": "y"
          },
          {
           "alignmentgroup": "True",
           "hovertemplate": "Genre=%{x}<br>Year=1994<br>Cumulative_Games per Genre=%{y}<extra></extra>",
           "ids": [
            "Strategy"
           ],
           "legendgroup": "Strategy",
           "marker": {
            "color": "#B10DA1"
           },
           "name": "Strategy",
           "offsetgroup": "Strategy",
           "orientation": "v",
           "showlegend": true,
           "textposition": "auto",
           "type": "bar",
           "x": [
            "Strategy"
           ],
           "xaxis": "x",
           "y": [
            4
           ],
           "yaxis": "y"
          }
         ],
         "name": "1994"
        },
        {
         "data": [
          {
           "alignmentgroup": "True",
           "hovertemplate": "Genre=%{x}<br>Year=1995<br>Cumulative_Games per Genre=%{y}<extra></extra>",
           "ids": [
            "Action"
           ],
           "legendgroup": "Action",
           "marker": {
            "color": "#636EFA"
           },
           "name": "Action",
           "offsetgroup": "Action",
           "orientation": "v",
           "showlegend": true,
           "textposition": "auto",
           "type": "bar",
           "x": [
            "Action"
           ],
           "xaxis": "x",
           "y": [
            54
           ],
           "yaxis": "y"
          },
          {
           "alignmentgroup": "True",
           "hovertemplate": "Genre=%{x}<br>Year=1995<br>Cumulative_Games per Genre=%{y}<extra></extra>",
           "ids": [
            "Adventure"
           ],
           "legendgroup": "Adventure",
           "marker": {
            "color": "#EF553B"
           },
           "name": "Adventure",
           "offsetgroup": "Adventure",
           "orientation": "v",
           "showlegend": true,
           "textposition": "auto",
           "type": "bar",
           "x": [
            "Adventure"
           ],
           "xaxis": "x",
           "y": [
            7
           ],
           "yaxis": "y"
          },
          {
           "alignmentgroup": "True",
           "hovertemplate": "Genre=%{x}<br>Year=1995<br>Cumulative_Games per Genre=%{y}<extra></extra>",
           "ids": [
            "Fighting"
           ],
           "legendgroup": "Fighting",
           "marker": {
            "color": "#00CC96"
           },
           "name": "Fighting",
           "offsetgroup": "Fighting",
           "orientation": "v",
           "showlegend": true,
           "textposition": "auto",
           "type": "bar",
           "x": [
            "Fighting"
           ],
           "xaxis": "x",
           "y": [
            37
           ],
           "yaxis": "y"
          },
          {
           "alignmentgroup": "True",
           "hovertemplate": "Genre=%{x}<br>Year=1995<br>Cumulative_Games per Genre=%{y}<extra></extra>",
           "ids": [
            "Misc"
           ],
           "legendgroup": "Misc",
           "marker": {
            "color": "#AB63FA"
           },
           "name": "Misc",
           "offsetgroup": "Misc",
           "orientation": "v",
           "showlegend": true,
           "textposition": "auto",
           "type": "bar",
           "x": [
            "Misc"
           ],
           "xaxis": "x",
           "y": [
            6
           ],
           "yaxis": "y"
          },
          {
           "alignmentgroup": "True",
           "hovertemplate": "Genre=%{x}<br>Year=1995<br>Cumulative_Games per Genre=%{y}<extra></extra>",
           "ids": [
            "Platform"
           ],
           "legendgroup": "Platform",
           "marker": {
            "color": "#ff8001"
           },
           "name": "Platform",
           "offsetgroup": "Platform",
           "orientation": "v",
           "showlegend": true,
           "textposition": "auto",
           "type": "bar",
           "x": [
            "Platform"
           ],
           "xaxis": "x",
           "y": [
            40
           ],
           "yaxis": "y"
          },
          {
           "alignmentgroup": "True",
           "hovertemplate": "Genre=%{x}<br>Year=1995<br>Cumulative_Games per Genre=%{y}<extra></extra>",
           "ids": [
            "Puzzle"
           ],
           "legendgroup": "Puzzle",
           "marker": {
            "color": "#00fcfe"
           },
           "name": "Puzzle",
           "offsetgroup": "Puzzle",
           "orientation": "v",
           "showlegend": true,
           "textposition": "auto",
           "type": "bar",
           "x": [
            "Puzzle"
           ],
           "xaxis": "x",
           "y": [
            20
           ],
           "yaxis": "y"
          },
          {
           "alignmentgroup": "True",
           "hovertemplate": "Genre=%{x}<br>Year=1995<br>Cumulative_Games per Genre=%{y}<extra></extra>",
           "ids": [
            "Racing"
           ],
           "legendgroup": "Racing",
           "marker": {
            "color": "#FE00FA"
           },
           "name": "Racing",
           "offsetgroup": "Racing",
           "orientation": "v",
           "showlegend": true,
           "textposition": "auto",
           "type": "bar",
           "x": [
            "Racing"
           ],
           "xaxis": "x",
           "y": [
            24
           ],
           "yaxis": "y"
          },
          {
           "alignmentgroup": "True",
           "hovertemplate": "Genre=%{x}<br>Year=1995<br>Cumulative_Games per Genre=%{y}<extra></extra>",
           "ids": [
            "Role-Playing"
           ],
           "legendgroup": "Role-Playing",
           "marker": {
            "color": "#16FF32"
           },
           "name": "Role-Playing",
           "offsetgroup": "Role-Playing",
           "orientation": "v",
           "showlegend": true,
           "textposition": "auto",
           "type": "bar",
           "x": [
            "Role-Playing"
           ],
           "xaxis": "x",
           "y": [
            12
           ],
           "yaxis": "y"
          },
          {
           "alignmentgroup": "True",
           "hovertemplate": "Genre=%{x}<br>Year=1995<br>Cumulative_Games per Genre=%{y}<extra></extra>",
           "ids": [
            "Shooter"
           ],
           "legendgroup": "Shooter",
           "marker": {
            "color": "#FF97FF"
           },
           "name": "Shooter",
           "offsetgroup": "Shooter",
           "orientation": "v",
           "showlegend": true,
           "textposition": "auto",
           "type": "bar",
           "x": [
            "Shooter"
           ],
           "xaxis": "x",
           "y": [
            50
           ],
           "yaxis": "y"
          },
          {
           "alignmentgroup": "True",
           "hovertemplate": "Genre=%{x}<br>Year=1995<br>Cumulative_Games per Genre=%{y}<extra></extra>",
           "ids": [
            "Simulation"
           ],
           "legendgroup": "Simulation",
           "marker": {
            "color": "#FFFF00"
           },
           "name": "Simulation",
           "offsetgroup": "Simulation",
           "orientation": "v",
           "showlegend": true,
           "textposition": "auto",
           "type": "bar",
           "x": [
            "Simulation"
           ],
           "xaxis": "x",
           "y": [
            16
           ],
           "yaxis": "y"
          },
          {
           "alignmentgroup": "True",
           "hovertemplate": "Genre=%{x}<br>Year=1995<br>Cumulative_Games per Genre=%{y}<extra></extra>",
           "ids": [
            "Sports"
           ],
           "legendgroup": "Sports",
           "marker": {
            "color": "#2dc997"
           },
           "name": "Sports",
           "offsetgroup": "Sports",
           "orientation": "v",
           "showlegend": true,
           "textposition": "auto",
           "type": "bar",
           "x": [
            "Sports"
           ],
           "xaxis": "x",
           "y": [
            41
           ],
           "yaxis": "y"
          },
          {
           "alignmentgroup": "True",
           "hovertemplate": "Genre=%{x}<br>Year=1995<br>Cumulative_Games per Genre=%{y}<extra></extra>",
           "ids": [
            "Strategy"
           ],
           "legendgroup": "Strategy",
           "marker": {
            "color": "#B10DA1"
           },
           "name": "Strategy",
           "offsetgroup": "Strategy",
           "orientation": "v",
           "showlegend": true,
           "textposition": "auto",
           "type": "bar",
           "x": [
            "Strategy"
           ],
           "xaxis": "x",
           "y": [
            8
           ],
           "yaxis": "y"
          }
         ],
         "name": "1995"
        },
        {
         "data": [
          {
           "alignmentgroup": "True",
           "hovertemplate": "Genre=%{x}<br>Year=1996<br>Cumulative_Games per Genre=%{y}<extra></extra>",
           "ids": [
            "Action"
           ],
           "legendgroup": "Action",
           "marker": {
            "color": "#636EFA"
           },
           "name": "Action",
           "offsetgroup": "Action",
           "orientation": "v",
           "showlegend": true,
           "textposition": "auto",
           "type": "bar",
           "x": [
            "Action"
           ],
           "xaxis": "x",
           "y": [
            70
           ],
           "yaxis": "y"
          },
          {
           "alignmentgroup": "True",
           "hovertemplate": "Genre=%{x}<br>Year=1996<br>Cumulative_Games per Genre=%{y}<extra></extra>",
           "ids": [
            "Adventure"
           ],
           "legendgroup": "Adventure",
           "marker": {
            "color": "#EF553B"
           },
           "name": "Adventure",
           "offsetgroup": "Adventure",
           "orientation": "v",
           "showlegend": true,
           "textposition": "auto",
           "type": "bar",
           "x": [
            "Adventure"
           ],
           "xaxis": "x",
           "y": [
            13
           ],
           "yaxis": "y"
          },
          {
           "alignmentgroup": "True",
           "hovertemplate": "Genre=%{x}<br>Year=1996<br>Cumulative_Games per Genre=%{y}<extra></extra>",
           "ids": [
            "Fighting"
           ],
           "legendgroup": "Fighting",
           "marker": {
            "color": "#00CC96"
           },
           "name": "Fighting",
           "offsetgroup": "Fighting",
           "orientation": "v",
           "showlegend": true,
           "textposition": "auto",
           "type": "bar",
           "x": [
            "Fighting"
           ],
           "xaxis": "x",
           "y": [
            52
           ],
           "yaxis": "y"
          },
          {
           "alignmentgroup": "True",
           "hovertemplate": "Genre=%{x}<br>Year=1996<br>Cumulative_Games per Genre=%{y}<extra></extra>",
           "ids": [
            "Misc"
           ],
           "legendgroup": "Misc",
           "marker": {
            "color": "#AB63FA"
           },
           "name": "Misc",
           "offsetgroup": "Misc",
           "orientation": "v",
           "showlegend": true,
           "textposition": "auto",
           "type": "bar",
           "x": [
            "Misc"
           ],
           "xaxis": "x",
           "y": [
            13
           ],
           "yaxis": "y"
          },
          {
           "alignmentgroup": "True",
           "hovertemplate": "Genre=%{x}<br>Year=1996<br>Cumulative_Games per Genre=%{y}<extra></extra>",
           "ids": [
            "Platform"
           ],
           "legendgroup": "Platform",
           "marker": {
            "color": "#ff8001"
           },
           "name": "Platform",
           "offsetgroup": "Platform",
           "orientation": "v",
           "showlegend": true,
           "textposition": "auto",
           "type": "bar",
           "x": [
            "Platform"
           ],
           "xaxis": "x",
           "y": [
            48
           ],
           "yaxis": "y"
          },
          {
           "alignmentgroup": "True",
           "hovertemplate": "Genre=%{x}<br>Year=1996<br>Cumulative_Games per Genre=%{y}<extra></extra>",
           "ids": [
            "Puzzle"
           ],
           "legendgroup": "Puzzle",
           "marker": {
            "color": "#00fcfe"
           },
           "name": "Puzzle",
           "offsetgroup": "Puzzle",
           "orientation": "v",
           "showlegend": true,
           "textposition": "auto",
           "type": "bar",
           "x": [
            "Puzzle"
           ],
           "xaxis": "x",
           "y": [
            22
           ],
           "yaxis": "y"
          },
          {
           "alignmentgroup": "True",
           "hovertemplate": "Genre=%{x}<br>Year=1996<br>Cumulative_Games per Genre=%{y}<extra></extra>",
           "ids": [
            "Racing"
           ],
           "legendgroup": "Racing",
           "marker": {
            "color": "#FE00FA"
           },
           "name": "Racing",
           "offsetgroup": "Racing",
           "orientation": "v",
           "showlegend": true,
           "textposition": "auto",
           "type": "bar",
           "x": [
            "Racing"
           ],
           "xaxis": "x",
           "y": [
            43
           ],
           "yaxis": "y"
          },
          {
           "alignmentgroup": "True",
           "hovertemplate": "Genre=%{x}<br>Year=1996<br>Cumulative_Games per Genre=%{y}<extra></extra>",
           "ids": [
            "Role-Playing"
           ],
           "legendgroup": "Role-Playing",
           "marker": {
            "color": "#16FF32"
           },
           "name": "Role-Playing",
           "offsetgroup": "Role-Playing",
           "orientation": "v",
           "showlegend": true,
           "textposition": "auto",
           "type": "bar",
           "x": [
            "Role-Playing"
           ],
           "xaxis": "x",
           "y": [
            17
           ],
           "yaxis": "y"
          },
          {
           "alignmentgroup": "True",
           "hovertemplate": "Genre=%{x}<br>Year=1996<br>Cumulative_Games per Genre=%{y}<extra></extra>",
           "ids": [
            "Shooter"
           ],
           "legendgroup": "Shooter",
           "marker": {
            "color": "#FF97FF"
           },
           "name": "Shooter",
           "offsetgroup": "Shooter",
           "orientation": "v",
           "showlegend": true,
           "textposition": "auto",
           "type": "bar",
           "x": [
            "Shooter"
           ],
           "xaxis": "x",
           "y": [
            65
           ],
           "yaxis": "y"
          },
          {
           "alignmentgroup": "True",
           "hovertemplate": "Genre=%{x}<br>Year=1996<br>Cumulative_Games per Genre=%{y}<extra></extra>",
           "ids": [
            "Simulation"
           ],
           "legendgroup": "Simulation",
           "marker": {
            "color": "#FFFF00"
           },
           "name": "Simulation",
           "offsetgroup": "Simulation",
           "orientation": "v",
           "showlegend": true,
           "textposition": "auto",
           "type": "bar",
           "x": [
            "Simulation"
           ],
           "xaxis": "x",
           "y": [
            23
           ],
           "yaxis": "y"
          },
          {
           "alignmentgroup": "True",
           "hovertemplate": "Genre=%{x}<br>Year=1996<br>Cumulative_Games per Genre=%{y}<extra></extra>",
           "ids": [
            "Sports"
           ],
           "legendgroup": "Sports",
           "marker": {
            "color": "#2dc997"
           },
           "name": "Sports",
           "offsetgroup": "Sports",
           "orientation": "v",
           "showlegend": true,
           "textposition": "auto",
           "type": "bar",
           "x": [
            "Sports"
           ],
           "xaxis": "x",
           "y": [
            74
           ],
           "yaxis": "y"
          },
          {
           "alignmentgroup": "True",
           "hovertemplate": "Genre=%{x}<br>Year=1996<br>Cumulative_Games per Genre=%{y}<extra></extra>",
           "ids": [
            "Strategy"
           ],
           "legendgroup": "Strategy",
           "marker": {
            "color": "#B10DA1"
           },
           "name": "Strategy",
           "offsetgroup": "Strategy",
           "orientation": "v",
           "showlegend": true,
           "textposition": "auto",
           "type": "bar",
           "x": [
            "Strategy"
           ],
           "xaxis": "x",
           "y": [
            12
           ],
           "yaxis": "y"
          }
         ],
         "name": "1996"
        },
        {
         "data": [
          {
           "alignmentgroup": "True",
           "hovertemplate": "Genre=%{x}<br>Year=1997<br>Cumulative_Games per Genre=%{y}<extra></extra>",
           "ids": [
            "Action"
           ],
           "legendgroup": "Action",
           "marker": {
            "color": "#636EFA"
           },
           "name": "Action",
           "offsetgroup": "Action",
           "orientation": "v",
           "showlegend": true,
           "textposition": "auto",
           "type": "bar",
           "x": [
            "Action"
           ],
           "xaxis": "x",
           "y": [
            91
           ],
           "yaxis": "y"
          },
          {
           "alignmentgroup": "True",
           "hovertemplate": "Genre=%{x}<br>Year=1997<br>Cumulative_Games per Genre=%{y}<extra></extra>",
           "ids": [
            "Adventure"
           ],
           "legendgroup": "Adventure",
           "marker": {
            "color": "#EF553B"
           },
           "name": "Adventure",
           "offsetgroup": "Adventure",
           "orientation": "v",
           "showlegend": true,
           "textposition": "auto",
           "type": "bar",
           "x": [
            "Adventure"
           ],
           "xaxis": "x",
           "y": [
            18
           ],
           "yaxis": "y"
          },
          {
           "alignmentgroup": "True",
           "hovertemplate": "Genre=%{x}<br>Year=1997<br>Cumulative_Games per Genre=%{y}<extra></extra>",
           "ids": [
            "Fighting"
           ],
           "legendgroup": "Fighting",
           "marker": {
            "color": "#00CC96"
           },
           "name": "Fighting",
           "offsetgroup": "Fighting",
           "orientation": "v",
           "showlegend": true,
           "textposition": "auto",
           "type": "bar",
           "x": [
            "Fighting"
           ],
           "xaxis": "x",
           "y": [
            69
           ],
           "yaxis": "y"
          },
          {
           "alignmentgroup": "True",
           "hovertemplate": "Genre=%{x}<br>Year=1997<br>Cumulative_Games per Genre=%{y}<extra></extra>",
           "ids": [
            "Misc"
           ],
           "legendgroup": "Misc",
           "marker": {
            "color": "#AB63FA"
           },
           "name": "Misc",
           "offsetgroup": "Misc",
           "orientation": "v",
           "showlegend": true,
           "textposition": "auto",
           "type": "bar",
           "x": [
            "Misc"
           ],
           "xaxis": "x",
           "y": [
            18
           ],
           "yaxis": "y"
          },
          {
           "alignmentgroup": "True",
           "hovertemplate": "Genre=%{x}<br>Year=1997<br>Cumulative_Games per Genre=%{y}<extra></extra>",
           "ids": [
            "Platform"
           ],
           "legendgroup": "Platform",
           "marker": {
            "color": "#ff8001"
           },
           "name": "Platform",
           "offsetgroup": "Platform",
           "orientation": "v",
           "showlegend": true,
           "textposition": "auto",
           "type": "bar",
           "x": [
            "Platform"
           ],
           "xaxis": "x",
           "y": [
            60
           ],
           "yaxis": "y"
          },
          {
           "alignmentgroup": "True",
           "hovertemplate": "Genre=%{x}<br>Year=1997<br>Cumulative_Games per Genre=%{y}<extra></extra>",
           "ids": [
            "Puzzle"
           ],
           "legendgroup": "Puzzle",
           "marker": {
            "color": "#00fcfe"
           },
           "name": "Puzzle",
           "offsetgroup": "Puzzle",
           "orientation": "v",
           "showlegend": true,
           "textposition": "auto",
           "type": "bar",
           "x": [
            "Puzzle"
           ],
           "xaxis": "x",
           "y": [
            30
           ],
           "yaxis": "y"
          },
          {
           "alignmentgroup": "True",
           "hovertemplate": "Genre=%{x}<br>Year=1997<br>Cumulative_Games per Genre=%{y}<extra></extra>",
           "ids": [
            "Racing"
           ],
           "legendgroup": "Racing",
           "marker": {
            "color": "#FE00FA"
           },
           "name": "Racing",
           "offsetgroup": "Racing",
           "orientation": "v",
           "showlegend": true,
           "textposition": "auto",
           "type": "bar",
           "x": [
            "Racing"
           ],
           "xaxis": "x",
           "y": [
            71
           ],
           "yaxis": "y"
          },
          {
           "alignmentgroup": "True",
           "hovertemplate": "Genre=%{x}<br>Year=1997<br>Cumulative_Games per Genre=%{y}<extra></extra>",
           "ids": [
            "Role-Playing"
           ],
           "legendgroup": "Role-Playing",
           "marker": {
            "color": "#16FF32"
           },
           "name": "Role-Playing",
           "offsetgroup": "Role-Playing",
           "orientation": "v",
           "showlegend": true,
           "textposition": "auto",
           "type": "bar",
           "x": [
            "Role-Playing"
           ],
           "xaxis": "x",
           "y": [
            25
           ],
           "yaxis": "y"
          },
          {
           "alignmentgroup": "True",
           "hovertemplate": "Genre=%{x}<br>Year=1997<br>Cumulative_Games per Genre=%{y}<extra></extra>",
           "ids": [
            "Shooter"
           ],
           "legendgroup": "Shooter",
           "marker": {
            "color": "#FF97FF"
           },
           "name": "Shooter",
           "offsetgroup": "Shooter",
           "orientation": "v",
           "showlegend": true,
           "textposition": "auto",
           "type": "bar",
           "x": [
            "Shooter"
           ],
           "xaxis": "x",
           "y": [
            83
           ],
           "yaxis": "y"
          },
          {
           "alignmentgroup": "True",
           "hovertemplate": "Genre=%{x}<br>Year=1997<br>Cumulative_Games per Genre=%{y}<extra></extra>",
           "ids": [
            "Simulation"
           ],
           "legendgroup": "Simulation",
           "marker": {
            "color": "#FFFF00"
           },
           "name": "Simulation",
           "offsetgroup": "Simulation",
           "orientation": "v",
           "showlegend": true,
           "textposition": "auto",
           "type": "bar",
           "x": [
            "Simulation"
           ],
           "xaxis": "x",
           "y": [
            34
           ],
           "yaxis": "y"
          },
          {
           "alignmentgroup": "True",
           "hovertemplate": "Genre=%{x}<br>Year=1997<br>Cumulative_Games per Genre=%{y}<extra></extra>",
           "ids": [
            "Sports"
           ],
           "legendgroup": "Sports",
           "marker": {
            "color": "#2dc997"
           },
           "name": "Sports",
           "offsetgroup": "Sports",
           "orientation": "v",
           "showlegend": true,
           "textposition": "auto",
           "type": "bar",
           "x": [
            "Sports"
           ],
           "xaxis": "x",
           "y": [
            104
           ],
           "yaxis": "y"
          },
          {
           "alignmentgroup": "True",
           "hovertemplate": "Genre=%{x}<br>Year=1997<br>Cumulative_Games per Genre=%{y}<extra></extra>",
           "ids": [
            "Strategy"
           ],
           "legendgroup": "Strategy",
           "marker": {
            "color": "#B10DA1"
           },
           "name": "Strategy",
           "offsetgroup": "Strategy",
           "orientation": "v",
           "showlegend": true,
           "textposition": "auto",
           "type": "bar",
           "x": [
            "Strategy"
           ],
           "xaxis": "x",
           "y": [
            17
           ],
           "yaxis": "y"
          }
         ],
         "name": "1997"
        },
        {
         "data": [
          {
           "alignmentgroup": "True",
           "hovertemplate": "Genre=%{x}<br>Year=1998<br>Cumulative_Games per Genre=%{y}<extra></extra>",
           "ids": [
            "Action"
           ],
           "legendgroup": "Action",
           "marker": {
            "color": "#636EFA"
           },
           "name": "Action",
           "offsetgroup": "Action",
           "orientation": "v",
           "showlegend": true,
           "textposition": "auto",
           "type": "bar",
           "x": [
            "Action"
           ],
           "xaxis": "x",
           "y": [
            125
           ],
           "yaxis": "y"
          },
          {
           "alignmentgroup": "True",
           "hovertemplate": "Genre=%{x}<br>Year=1998<br>Cumulative_Games per Genre=%{y}<extra></extra>",
           "ids": [
            "Adventure"
           ],
           "legendgroup": "Adventure",
           "marker": {
            "color": "#EF553B"
           },
           "name": "Adventure",
           "offsetgroup": "Adventure",
           "orientation": "v",
           "showlegend": true,
           "textposition": "auto",
           "type": "bar",
           "x": [
            "Adventure"
           ],
           "xaxis": "x",
           "y": [
            21
           ],
           "yaxis": "y"
          },
          {
           "alignmentgroup": "True",
           "hovertemplate": "Genre=%{x}<br>Year=1998<br>Cumulative_Games per Genre=%{y}<extra></extra>",
           "ids": [
            "Fighting"
           ],
           "legendgroup": "Fighting",
           "marker": {
            "color": "#00CC96"
           },
           "name": "Fighting",
           "offsetgroup": "Fighting",
           "orientation": "v",
           "showlegend": true,
           "textposition": "auto",
           "type": "bar",
           "x": [
            "Fighting"
           ],
           "xaxis": "x",
           "y": [
            97
           ],
           "yaxis": "y"
          },
          {
           "alignmentgroup": "True",
           "hovertemplate": "Genre=%{x}<br>Year=1998<br>Cumulative_Games per Genre=%{y}<extra></extra>",
           "ids": [
            "Misc"
           ],
           "legendgroup": "Misc",
           "marker": {
            "color": "#AB63FA"
           },
           "name": "Misc",
           "offsetgroup": "Misc",
           "orientation": "v",
           "showlegend": true,
           "textposition": "auto",
           "type": "bar",
           "x": [
            "Misc"
           ],
           "xaxis": "x",
           "y": [
            31
           ],
           "yaxis": "y"
          },
          {
           "alignmentgroup": "True",
           "hovertemplate": "Genre=%{x}<br>Year=1998<br>Cumulative_Games per Genre=%{y}<extra></extra>",
           "ids": [
            "Platform"
           ],
           "legendgroup": "Platform",
           "marker": {
            "color": "#ff8001"
           },
           "name": "Platform",
           "offsetgroup": "Platform",
           "orientation": "v",
           "showlegend": true,
           "textposition": "auto",
           "type": "bar",
           "x": [
            "Platform"
           ],
           "xaxis": "x",
           "y": [
            79
           ],
           "yaxis": "y"
          },
          {
           "alignmentgroup": "True",
           "hovertemplate": "Genre=%{x}<br>Year=1998<br>Cumulative_Games per Genre=%{y}<extra></extra>",
           "ids": [
            "Puzzle"
           ],
           "legendgroup": "Puzzle",
           "marker": {
            "color": "#00fcfe"
           },
           "name": "Puzzle",
           "offsetgroup": "Puzzle",
           "orientation": "v",
           "showlegend": true,
           "textposition": "auto",
           "type": "bar",
           "x": [
            "Puzzle"
           ],
           "xaxis": "x",
           "y": [
            39
           ],
           "yaxis": "y"
          },
          {
           "alignmentgroup": "True",
           "hovertemplate": "Genre=%{x}<br>Year=1998<br>Cumulative_Games per Genre=%{y}<extra></extra>",
           "ids": [
            "Racing"
           ],
           "legendgroup": "Racing",
           "marker": {
            "color": "#FE00FA"
           },
           "name": "Racing",
           "offsetgroup": "Racing",
           "orientation": "v",
           "showlegend": true,
           "textposition": "auto",
           "type": "bar",
           "x": [
            "Racing"
           ],
           "xaxis": "x",
           "y": [
            106
           ],
           "yaxis": "y"
          },
          {
           "alignmentgroup": "True",
           "hovertemplate": "Genre=%{x}<br>Year=1998<br>Cumulative_Games per Genre=%{y}<extra></extra>",
           "ids": [
            "Role-Playing"
           ],
           "legendgroup": "Role-Playing",
           "marker": {
            "color": "#16FF32"
           },
           "name": "Role-Playing",
           "offsetgroup": "Role-Playing",
           "orientation": "v",
           "showlegend": true,
           "textposition": "auto",
           "type": "bar",
           "x": [
            "Role-Playing"
           ],
           "xaxis": "x",
           "y": [
            37
           ],
           "yaxis": "y"
          },
          {
           "alignmentgroup": "True",
           "hovertemplate": "Genre=%{x}<br>Year=1998<br>Cumulative_Games per Genre=%{y}<extra></extra>",
           "ids": [
            "Shooter"
           ],
           "legendgroup": "Shooter",
           "marker": {
            "color": "#FF97FF"
           },
           "name": "Shooter",
           "offsetgroup": "Shooter",
           "orientation": "v",
           "showlegend": true,
           "textposition": "auto",
           "type": "bar",
           "x": [
            "Shooter"
           ],
           "xaxis": "x",
           "y": [
            99
           ],
           "yaxis": "y"
          },
          {
           "alignmentgroup": "True",
           "hovertemplate": "Genre=%{x}<br>Year=1998<br>Cumulative_Games per Genre=%{y}<extra></extra>",
           "ids": [
            "Simulation"
           ],
           "legendgroup": "Simulation",
           "marker": {
            "color": "#FFFF00"
           },
           "name": "Simulation",
           "offsetgroup": "Simulation",
           "orientation": "v",
           "showlegend": true,
           "textposition": "auto",
           "type": "bar",
           "x": [
            "Simulation"
           ],
           "xaxis": "x",
           "y": [
            39
           ],
           "yaxis": "y"
          },
          {
           "alignmentgroup": "True",
           "hovertemplate": "Genre=%{x}<br>Year=1998<br>Cumulative_Games per Genre=%{y}<extra></extra>",
           "ids": [
            "Sports"
           ],
           "legendgroup": "Sports",
           "marker": {
            "color": "#2dc997"
           },
           "name": "Sports",
           "offsetgroup": "Sports",
           "orientation": "v",
           "showlegend": true,
           "textposition": "auto",
           "type": "bar",
           "x": [
            "Sports"
           ],
           "xaxis": "x",
           "y": [
            151
           ],
           "yaxis": "y"
          },
          {
           "alignmentgroup": "True",
           "hovertemplate": "Genre=%{x}<br>Year=1998<br>Cumulative_Games per Genre=%{y}<extra></extra>",
           "ids": [
            "Strategy"
           ],
           "legendgroup": "Strategy",
           "marker": {
            "color": "#B10DA1"
           },
           "name": "Strategy",
           "offsetgroup": "Strategy",
           "orientation": "v",
           "showlegend": true,
           "textposition": "auto",
           "type": "bar",
           "x": [
            "Strategy"
           ],
           "xaxis": "x",
           "y": [
            27
           ],
           "yaxis": "y"
          }
         ],
         "name": "1998"
        },
        {
         "data": [
          {
           "alignmentgroup": "True",
           "hovertemplate": "Genre=%{x}<br>Year=1999<br>Cumulative_Games per Genre=%{y}<extra></extra>",
           "ids": [
            "Action"
           ],
           "legendgroup": "Action",
           "marker": {
            "color": "#636EFA"
           },
           "name": "Action",
           "offsetgroup": "Action",
           "orientation": "v",
           "showlegend": true,
           "textposition": "auto",
           "type": "bar",
           "x": [
            "Action"
           ],
           "xaxis": "x",
           "y": [
            155
           ],
           "yaxis": "y"
          },
          {
           "alignmentgroup": "True",
           "hovertemplate": "Genre=%{x}<br>Year=1999<br>Cumulative_Games per Genre=%{y}<extra></extra>",
           "ids": [
            "Adventure"
           ],
           "legendgroup": "Adventure",
           "marker": {
            "color": "#EF553B"
           },
           "name": "Adventure",
           "offsetgroup": "Adventure",
           "orientation": "v",
           "showlegend": true,
           "textposition": "auto",
           "type": "bar",
           "x": [
            "Adventure"
           ],
           "xaxis": "x",
           "y": [
            27
           ],
           "yaxis": "y"
          },
          {
           "alignmentgroup": "True",
           "hovertemplate": "Genre=%{x}<br>Year=1999<br>Cumulative_Games per Genre=%{y}<extra></extra>",
           "ids": [
            "Fighting"
           ],
           "legendgroup": "Fighting",
           "marker": {
            "color": "#00CC96"
           },
           "name": "Fighting",
           "offsetgroup": "Fighting",
           "orientation": "v",
           "showlegend": true,
           "textposition": "auto",
           "type": "bar",
           "x": [
            "Fighting"
           ],
           "xaxis": "x",
           "y": [
            108
           ],
           "yaxis": "y"
          },
          {
           "alignmentgroup": "True",
           "hovertemplate": "Genre=%{x}<br>Year=1999<br>Cumulative_Games per Genre=%{y}<extra></extra>",
           "ids": [
            "Misc"
           ],
           "legendgroup": "Misc",
           "marker": {
            "color": "#AB63FA"
           },
           "name": "Misc",
           "offsetgroup": "Misc",
           "orientation": "v",
           "showlegend": true,
           "textposition": "auto",
           "type": "bar",
           "x": [
            "Misc"
           ],
           "xaxis": "x",
           "y": [
            41
           ],
           "yaxis": "y"
          },
          {
           "alignmentgroup": "True",
           "hovertemplate": "Genre=%{x}<br>Year=1999<br>Cumulative_Games per Genre=%{y}<extra></extra>",
           "ids": [
            "Platform"
           ],
           "legendgroup": "Platform",
           "marker": {
            "color": "#ff8001"
           },
           "name": "Platform",
           "offsetgroup": "Platform",
           "orientation": "v",
           "showlegend": true,
           "textposition": "auto",
           "type": "bar",
           "x": [
            "Platform"
           ],
           "xaxis": "x",
           "y": [
            92
           ],
           "yaxis": "y"
          },
          {
           "alignmentgroup": "True",
           "hovertemplate": "Genre=%{x}<br>Year=1999<br>Cumulative_Games per Genre=%{y}<extra></extra>",
           "ids": [
            "Puzzle"
           ],
           "legendgroup": "Puzzle",
           "marker": {
            "color": "#00fcfe"
           },
           "name": "Puzzle",
           "offsetgroup": "Puzzle",
           "orientation": "v",
           "showlegend": true,
           "textposition": "auto",
           "type": "bar",
           "x": [
            "Puzzle"
           ],
           "xaxis": "x",
           "y": [
            44
           ],
           "yaxis": "y"
          },
          {
           "alignmentgroup": "True",
           "hovertemplate": "Genre=%{x}<br>Year=1999<br>Cumulative_Games per Genre=%{y}<extra></extra>",
           "ids": [
            "Racing"
           ],
           "legendgroup": "Racing",
           "marker": {
            "color": "#FE00FA"
           },
           "name": "Racing",
           "offsetgroup": "Racing",
           "orientation": "v",
           "showlegend": true,
           "textposition": "auto",
           "type": "bar",
           "x": [
            "Racing"
           ],
           "xaxis": "x",
           "y": [
            146
           ],
           "yaxis": "y"
          },
          {
           "alignmentgroup": "True",
           "hovertemplate": "Genre=%{x}<br>Year=1999<br>Cumulative_Games per Genre=%{y}<extra></extra>",
           "ids": [
            "Role-Playing"
           ],
           "legendgroup": "Role-Playing",
           "marker": {
            "color": "#16FF32"
           },
           "name": "Role-Playing",
           "offsetgroup": "Role-Playing",
           "orientation": "v",
           "showlegend": true,
           "textposition": "auto",
           "type": "bar",
           "x": [
            "Role-Playing"
           ],
           "xaxis": "x",
           "y": [
            54
           ],
           "yaxis": "y"
          },
          {
           "alignmentgroup": "True",
           "hovertemplate": "Genre=%{x}<br>Year=1999<br>Cumulative_Games per Genre=%{y}<extra></extra>",
           "ids": [
            "Shooter"
           ],
           "legendgroup": "Shooter",
           "marker": {
            "color": "#FF97FF"
           },
           "name": "Shooter",
           "offsetgroup": "Shooter",
           "orientation": "v",
           "showlegend": true,
           "textposition": "auto",
           "type": "bar",
           "x": [
            "Shooter"
           ],
           "xaxis": "x",
           "y": [
            113
           ],
           "yaxis": "y"
          },
          {
           "alignmentgroup": "True",
           "hovertemplate": "Genre=%{x}<br>Year=1999<br>Cumulative_Games per Genre=%{y}<extra></extra>",
           "ids": [
            "Simulation"
           ],
           "legendgroup": "Simulation",
           "marker": {
            "color": "#FFFF00"
           },
           "name": "Simulation",
           "offsetgroup": "Simulation",
           "orientation": "v",
           "showlegend": true,
           "textposition": "auto",
           "type": "bar",
           "x": [
            "Simulation"
           ],
           "xaxis": "x",
           "y": [
            45
           ],
           "yaxis": "y"
          },
          {
           "alignmentgroup": "True",
           "hovertemplate": "Genre=%{x}<br>Year=1999<br>Cumulative_Games per Genre=%{y}<extra></extra>",
           "ids": [
            "Sports"
           ],
           "legendgroup": "Sports",
           "marker": {
            "color": "#2dc997"
           },
           "name": "Sports",
           "offsetgroup": "Sports",
           "orientation": "v",
           "showlegend": true,
           "textposition": "auto",
           "type": "bar",
           "x": [
            "Sports"
           ],
           "xaxis": "x",
           "y": [
            190
           ],
           "yaxis": "y"
          },
          {
           "alignmentgroup": "True",
           "hovertemplate": "Genre=%{x}<br>Year=1999<br>Cumulative_Games per Genre=%{y}<extra></extra>",
           "ids": [
            "Strategy"
           ],
           "legendgroup": "Strategy",
           "marker": {
            "color": "#B10DA1"
           },
           "name": "Strategy",
           "offsetgroup": "Strategy",
           "orientation": "v",
           "showlegend": true,
           "textposition": "auto",
           "type": "bar",
           "x": [
            "Strategy"
           ],
           "xaxis": "x",
           "y": [
            40
           ],
           "yaxis": "y"
          }
         ],
         "name": "1999"
        },
        {
         "data": [
          {
           "alignmentgroup": "True",
           "hovertemplate": "Genre=%{x}<br>Year=2000<br>Cumulative_Games per Genre=%{y}<extra></extra>",
           "ids": [
            "Action"
           ],
           "legendgroup": "Action",
           "marker": {
            "color": "#636EFA"
           },
           "name": "Action",
           "offsetgroup": "Action",
           "orientation": "v",
           "showlegend": true,
           "textposition": "auto",
           "type": "bar",
           "x": [
            "Action"
           ],
           "xaxis": "x",
           "y": [
            182
           ],
           "yaxis": "y"
          },
          {
           "alignmentgroup": "True",
           "hovertemplate": "Genre=%{x}<br>Year=2000<br>Cumulative_Games per Genre=%{y}<extra></extra>",
           "ids": [
            "Adventure"
           ],
           "legendgroup": "Adventure",
           "marker": {
            "color": "#EF553B"
           },
           "name": "Adventure",
           "offsetgroup": "Adventure",
           "orientation": "v",
           "showlegend": true,
           "textposition": "auto",
           "type": "bar",
           "x": [
            "Adventure"
           ],
           "xaxis": "x",
           "y": [
            33
           ],
           "yaxis": "y"
          },
          {
           "alignmentgroup": "True",
           "hovertemplate": "Genre=%{x}<br>Year=2000<br>Cumulative_Games per Genre=%{y}<extra></extra>",
           "ids": [
            "Fighting"
           ],
           "legendgroup": "Fighting",
           "marker": {
            "color": "#00CC96"
           },
           "name": "Fighting",
           "offsetgroup": "Fighting",
           "orientation": "v",
           "showlegend": true,
           "textposition": "auto",
           "type": "bar",
           "x": [
            "Fighting"
           ],
           "xaxis": "x",
           "y": [
            121
           ],
           "yaxis": "y"
          },
          {
           "alignmentgroup": "True",
           "hovertemplate": "Genre=%{x}<br>Year=2000<br>Cumulative_Games per Genre=%{y}<extra></extra>",
           "ids": [
            "Misc"
           ],
           "legendgroup": "Misc",
           "marker": {
            "color": "#AB63FA"
           },
           "name": "Misc",
           "offsetgroup": "Misc",
           "orientation": "v",
           "showlegend": true,
           "textposition": "auto",
           "type": "bar",
           "x": [
            "Misc"
           ],
           "xaxis": "x",
           "y": [
            48
           ],
           "yaxis": "y"
          },
          {
           "alignmentgroup": "True",
           "hovertemplate": "Genre=%{x}<br>Year=2000<br>Cumulative_Games per Genre=%{y}<extra></extra>",
           "ids": [
            "Platform"
           ],
           "legendgroup": "Platform",
           "marker": {
            "color": "#ff8001"
           },
           "name": "Platform",
           "offsetgroup": "Platform",
           "orientation": "v",
           "showlegend": true,
           "textposition": "auto",
           "type": "bar",
           "x": [
            "Platform"
           ],
           "xaxis": "x",
           "y": [
            104
           ],
           "yaxis": "y"
          },
          {
           "alignmentgroup": "True",
           "hovertemplate": "Genre=%{x}<br>Year=2000<br>Cumulative_Games per Genre=%{y}<extra></extra>",
           "ids": [
            "Puzzle"
           ],
           "legendgroup": "Puzzle",
           "marker": {
            "color": "#00fcfe"
           },
           "name": "Puzzle",
           "offsetgroup": "Puzzle",
           "orientation": "v",
           "showlegend": true,
           "textposition": "auto",
           "type": "bar",
           "x": [
            "Puzzle"
           ],
           "xaxis": "x",
           "y": [
            48
           ],
           "yaxis": "y"
          },
          {
           "alignmentgroup": "True",
           "hovertemplate": "Genre=%{x}<br>Year=2000<br>Cumulative_Games per Genre=%{y}<extra></extra>",
           "ids": [
            "Racing"
           ],
           "legendgroup": "Racing",
           "marker": {
            "color": "#FE00FA"
           },
           "name": "Racing",
           "offsetgroup": "Racing",
           "orientation": "v",
           "showlegend": true,
           "textposition": "auto",
           "type": "bar",
           "x": [
            "Racing"
           ],
           "xaxis": "x",
           "y": [
            174
           ],
           "yaxis": "y"
          },
          {
           "alignmentgroup": "True",
           "hovertemplate": "Genre=%{x}<br>Year=2000<br>Cumulative_Games per Genre=%{y}<extra></extra>",
           "ids": [
            "Role-Playing"
           ],
           "legendgroup": "Role-Playing",
           "marker": {
            "color": "#16FF32"
           },
           "name": "Role-Playing",
           "offsetgroup": "Role-Playing",
           "orientation": "v",
           "showlegend": true,
           "textposition": "auto",
           "type": "bar",
           "x": [
            "Role-Playing"
           ],
           "xaxis": "x",
           "y": [
            59
           ],
           "yaxis": "y"
          },
          {
           "alignmentgroup": "True",
           "hovertemplate": "Genre=%{x}<br>Year=2000<br>Cumulative_Games per Genre=%{y}<extra></extra>",
           "ids": [
            "Shooter"
           ],
           "legendgroup": "Shooter",
           "marker": {
            "color": "#FF97FF"
           },
           "name": "Shooter",
           "offsetgroup": "Shooter",
           "orientation": "v",
           "showlegend": true,
           "textposition": "auto",
           "type": "bar",
           "x": [
            "Shooter"
           ],
           "xaxis": "x",
           "y": [
            124
           ],
           "yaxis": "y"
          },
          {
           "alignmentgroup": "True",
           "hovertemplate": "Genre=%{x}<br>Year=2000<br>Cumulative_Games per Genre=%{y}<extra></extra>",
           "ids": [
            "Simulation"
           ],
           "legendgroup": "Simulation",
           "marker": {
            "color": "#FFFF00"
           },
           "name": "Simulation",
           "offsetgroup": "Simulation",
           "orientation": "v",
           "showlegend": true,
           "textposition": "auto",
           "type": "bar",
           "x": [
            "Simulation"
           ],
           "xaxis": "x",
           "y": [
            49
           ],
           "yaxis": "y"
          },
          {
           "alignmentgroup": "True",
           "hovertemplate": "Genre=%{x}<br>Year=2000<br>Cumulative_Games per Genre=%{y}<extra></extra>",
           "ids": [
            "Sports"
           ],
           "legendgroup": "Sports",
           "marker": {
            "color": "#2dc997"
           },
           "name": "Sports",
           "offsetgroup": "Sports",
           "orientation": "v",
           "showlegend": true,
           "textposition": "auto",
           "type": "bar",
           "x": [
            "Sports"
           ],
           "xaxis": "x",
           "y": [
            226
           ],
           "yaxis": "y"
          },
          {
           "alignmentgroup": "True",
           "hovertemplate": "Genre=%{x}<br>Year=2000<br>Cumulative_Games per Genre=%{y}<extra></extra>",
           "ids": [
            "Strategy"
           ],
           "legendgroup": "Strategy",
           "marker": {
            "color": "#B10DA1"
           },
           "name": "Strategy",
           "offsetgroup": "Strategy",
           "orientation": "v",
           "showlegend": true,
           "textposition": "auto",
           "type": "bar",
           "x": [
            "Strategy"
           ],
           "xaxis": "x",
           "y": [
            41
           ],
           "yaxis": "y"
          }
         ],
         "name": "2000"
        },
        {
         "data": [
          {
           "alignmentgroup": "True",
           "hovertemplate": "Genre=%{x}<br>Year=2001<br>Cumulative_Games per Genre=%{y}<extra></extra>",
           "ids": [
            "Action"
           ],
           "legendgroup": "Action",
           "marker": {
            "color": "#636EFA"
           },
           "name": "Action",
           "offsetgroup": "Action",
           "orientation": "v",
           "showlegend": true,
           "textposition": "auto",
           "type": "bar",
           "x": [
            "Action"
           ],
           "xaxis": "x",
           "y": [
            198
           ],
           "yaxis": "y"
          },
          {
           "alignmentgroup": "True",
           "hovertemplate": "Genre=%{x}<br>Year=2001<br>Cumulative_Games per Genre=%{y}<extra></extra>",
           "ids": [
            "Adventure"
           ],
           "legendgroup": "Adventure",
           "marker": {
            "color": "#EF553B"
           },
           "name": "Adventure",
           "offsetgroup": "Adventure",
           "orientation": "v",
           "showlegend": true,
           "textposition": "auto",
           "type": "bar",
           "x": [
            "Adventure"
           ],
           "xaxis": "x",
           "y": [
            38
           ],
           "yaxis": "y"
          },
          {
           "alignmentgroup": "True",
           "hovertemplate": "Genre=%{x}<br>Year=2001<br>Cumulative_Games per Genre=%{y}<extra></extra>",
           "ids": [
            "Fighting"
           ],
           "legendgroup": "Fighting",
           "marker": {
            "color": "#00CC96"
           },
           "name": "Fighting",
           "offsetgroup": "Fighting",
           "orientation": "v",
           "showlegend": true,
           "textposition": "auto",
           "type": "bar",
           "x": [
            "Fighting"
           ],
           "xaxis": "x",
           "y": [
            123
           ],
           "yaxis": "y"
          },
          {
           "alignmentgroup": "True",
           "hovertemplate": "Genre=%{x}<br>Year=2001<br>Cumulative_Games per Genre=%{y}<extra></extra>",
           "ids": [
            "Misc"
           ],
           "legendgroup": "Misc",
           "marker": {
            "color": "#AB63FA"
           },
           "name": "Misc",
           "offsetgroup": "Misc",
           "orientation": "v",
           "showlegend": true,
           "textposition": "auto",
           "type": "bar",
           "x": [
            "Misc"
           ],
           "xaxis": "x",
           "y": [
            49
           ],
           "yaxis": "y"
          },
          {
           "alignmentgroup": "True",
           "hovertemplate": "Genre=%{x}<br>Year=2001<br>Cumulative_Games per Genre=%{y}<extra></extra>",
           "ids": [
            "Platform"
           ],
           "legendgroup": "Platform",
           "marker": {
            "color": "#ff8001"
           },
           "name": "Platform",
           "offsetgroup": "Platform",
           "orientation": "v",
           "showlegend": true,
           "textposition": "auto",
           "type": "bar",
           "x": [
            "Platform"
           ],
           "xaxis": "x",
           "y": [
            107
           ],
           "yaxis": "y"
          },
          {
           "alignmentgroup": "True",
           "hovertemplate": "Genre=%{x}<br>Year=2001<br>Cumulative_Games per Genre=%{y}<extra></extra>",
           "ids": [
            "Puzzle"
           ],
           "legendgroup": "Puzzle",
           "marker": {
            "color": "#00fcfe"
           },
           "name": "Puzzle",
           "offsetgroup": "Puzzle",
           "orientation": "v",
           "showlegend": true,
           "textposition": "auto",
           "type": "bar",
           "x": [
            "Puzzle"
           ],
           "xaxis": "x",
           "y": [
            51
           ],
           "yaxis": "y"
          },
          {
           "alignmentgroup": "True",
           "hovertemplate": "Genre=%{x}<br>Year=2001<br>Cumulative_Games per Genre=%{y}<extra></extra>",
           "ids": [
            "Racing"
           ],
           "legendgroup": "Racing",
           "marker": {
            "color": "#FE00FA"
           },
           "name": "Racing",
           "offsetgroup": "Racing",
           "orientation": "v",
           "showlegend": true,
           "textposition": "auto",
           "type": "bar",
           "x": [
            "Racing"
           ],
           "xaxis": "x",
           "y": [
            182
           ],
           "yaxis": "y"
          },
          {
           "alignmentgroup": "True",
           "hovertemplate": "Genre=%{x}<br>Year=2001<br>Cumulative_Games per Genre=%{y}<extra></extra>",
           "ids": [
            "Role-Playing"
           ],
           "legendgroup": "Role-Playing",
           "marker": {
            "color": "#16FF32"
           },
           "name": "Role-Playing",
           "offsetgroup": "Role-Playing",
           "orientation": "v",
           "showlegend": true,
           "textposition": "auto",
           "type": "bar",
           "x": [
            "Role-Playing"
           ],
           "xaxis": "x",
           "y": [
            62
           ],
           "yaxis": "y"
          },
          {
           "alignmentgroup": "True",
           "hovertemplate": "Genre=%{x}<br>Year=2001<br>Cumulative_Games per Genre=%{y}<extra></extra>",
           "ids": [
            "Shooter"
           ],
           "legendgroup": "Shooter",
           "marker": {
            "color": "#FF97FF"
           },
           "name": "Shooter",
           "offsetgroup": "Shooter",
           "orientation": "v",
           "showlegend": true,
           "textposition": "auto",
           "type": "bar",
           "x": [
            "Shooter"
           ],
           "xaxis": "x",
           "y": [
            131
           ],
           "yaxis": "y"
          },
          {
           "alignmentgroup": "True",
           "hovertemplate": "Genre=%{x}<br>Year=2001<br>Cumulative_Games per Genre=%{y}<extra></extra>",
           "ids": [
            "Simulation"
           ],
           "legendgroup": "Simulation",
           "marker": {
            "color": "#FFFF00"
           },
           "name": "Simulation",
           "offsetgroup": "Simulation",
           "orientation": "v",
           "showlegend": true,
           "textposition": "auto",
           "type": "bar",
           "x": [
            "Simulation"
           ],
           "xaxis": "x",
           "y": [
            49
           ],
           "yaxis": "y"
          },
          {
           "alignmentgroup": "True",
           "hovertemplate": "Genre=%{x}<br>Year=2001<br>Cumulative_Games per Genre=%{y}<extra></extra>",
           "ids": [
            "Sports"
           ],
           "legendgroup": "Sports",
           "marker": {
            "color": "#2dc997"
           },
           "name": "Sports",
           "offsetgroup": "Sports",
           "orientation": "v",
           "showlegend": true,
           "textposition": "auto",
           "type": "bar",
           "x": [
            "Sports"
           ],
           "xaxis": "x",
           "y": [
            244
           ],
           "yaxis": "y"
          },
          {
           "alignmentgroup": "True",
           "hovertemplate": "Genre=%{x}<br>Year=2001<br>Cumulative_Games per Genre=%{y}<extra></extra>",
           "ids": [
            "Strategy"
           ],
           "legendgroup": "Strategy",
           "marker": {
            "color": "#B10DA1"
           },
           "name": "Strategy",
           "offsetgroup": "Strategy",
           "orientation": "v",
           "showlegend": true,
           "textposition": "auto",
           "type": "bar",
           "x": [
            "Strategy"
           ],
           "xaxis": "x",
           "y": [
            42
           ],
           "yaxis": "y"
          }
         ],
         "name": "2001"
        },
        {
         "data": [
          {
           "alignmentgroup": "True",
           "hovertemplate": "Genre=%{x}<br>Year=2002<br>Cumulative_Games per Genre=%{y}<extra></extra>",
           "ids": [
            "Action"
           ],
           "legendgroup": "Action",
           "marker": {
            "color": "#636EFA"
           },
           "name": "Action",
           "offsetgroup": "Action",
           "orientation": "v",
           "showlegend": true,
           "textposition": "auto",
           "type": "bar",
           "x": [
            "Action"
           ],
           "xaxis": "x",
           "y": [
            200
           ],
           "yaxis": "y"
          },
          {
           "alignmentgroup": "True",
           "hovertemplate": "Genre=%{x}<br>Year=2002<br>Cumulative_Games per Genre=%{y}<extra></extra>",
           "ids": [
            "Adventure"
           ],
           "legendgroup": "Adventure",
           "marker": {
            "color": "#EF553B"
           },
           "name": "Adventure",
           "offsetgroup": "Adventure",
           "orientation": "v",
           "showlegend": true,
           "textposition": "auto",
           "type": "bar",
           "x": [
            "Adventure"
           ],
           "xaxis": "x",
           "y": [
            38
           ],
           "yaxis": "y"
          },
          {
           "alignmentgroup": "True",
           "hovertemplate": "Genre=%{x}<br>Year=2002<br>Cumulative_Games per Genre=%{y}<extra></extra>",
           "ids": [
            "Fighting"
           ],
           "legendgroup": "Fighting",
           "marker": {
            "color": "#00CC96"
           },
           "name": "Fighting",
           "offsetgroup": "Fighting",
           "orientation": "v",
           "showlegend": true,
           "textposition": "auto",
           "type": "bar",
           "x": [
            "Fighting"
           ],
           "xaxis": "x",
           "y": [
            124
           ],
           "yaxis": "y"
          },
          {
           "alignmentgroup": "True",
           "hovertemplate": "Genre=%{x}<br>Year=2002<br>Cumulative_Games per Genre=%{y}<extra></extra>",
           "ids": [
            "Misc"
           ],
           "legendgroup": "Misc",
           "marker": {
            "color": "#AB63FA"
           },
           "name": "Misc",
           "offsetgroup": "Misc",
           "orientation": "v",
           "showlegend": true,
           "textposition": "auto",
           "type": "bar",
           "x": [
            "Misc"
           ],
           "xaxis": "x",
           "y": [
            49
           ],
           "yaxis": "y"
          },
          {
           "alignmentgroup": "True",
           "hovertemplate": "Genre=%{x}<br>Year=2002<br>Cumulative_Games per Genre=%{y}<extra></extra>",
           "ids": [
            "Platform"
           ],
           "legendgroup": "Platform",
           "marker": {
            "color": "#ff8001"
           },
           "name": "Platform",
           "offsetgroup": "Platform",
           "orientation": "v",
           "showlegend": true,
           "textposition": "auto",
           "type": "bar",
           "x": [
            "Platform"
           ],
           "xaxis": "x",
           "y": [
            107
           ],
           "yaxis": "y"
          },
          {
           "alignmentgroup": "True",
           "hovertemplate": "Genre=%{x}<br>Year=2002<br>Cumulative_Games per Genre=%{y}<extra></extra>",
           "ids": [
            "Puzzle"
           ],
           "legendgroup": "Puzzle",
           "marker": {
            "color": "#00fcfe"
           },
           "name": "Puzzle",
           "offsetgroup": "Puzzle",
           "orientation": "v",
           "showlegend": true,
           "textposition": "auto",
           "type": "bar",
           "x": [
            "Puzzle"
           ],
           "xaxis": "x",
           "y": [
            51
           ],
           "yaxis": "y"
          },
          {
           "alignmentgroup": "True",
           "hovertemplate": "Genre=%{x}<br>Year=2002<br>Cumulative_Games per Genre=%{y}<extra></extra>",
           "ids": [
            "Racing"
           ],
           "legendgroup": "Racing",
           "marker": {
            "color": "#FE00FA"
           },
           "name": "Racing",
           "offsetgroup": "Racing",
           "orientation": "v",
           "showlegend": true,
           "textposition": "auto",
           "type": "bar",
           "x": [
            "Racing"
           ],
           "xaxis": "x",
           "y": [
            183
           ],
           "yaxis": "y"
          },
          {
           "alignmentgroup": "True",
           "hovertemplate": "Genre=%{x}<br>Year=2002<br>Cumulative_Games per Genre=%{y}<extra></extra>",
           "ids": [
            "Role-Playing"
           ],
           "legendgroup": "Role-Playing",
           "marker": {
            "color": "#16FF32"
           },
           "name": "Role-Playing",
           "offsetgroup": "Role-Playing",
           "orientation": "v",
           "showlegend": true,
           "textposition": "auto",
           "type": "bar",
           "x": [
            "Role-Playing"
           ],
           "xaxis": "x",
           "y": [
            62
           ],
           "yaxis": "y"
          },
          {
           "alignmentgroup": "True",
           "hovertemplate": "Genre=%{x}<br>Year=2002<br>Cumulative_Games per Genre=%{y}<extra></extra>",
           "ids": [
            "Shooter"
           ],
           "legendgroup": "Shooter",
           "marker": {
            "color": "#FF97FF"
           },
           "name": "Shooter",
           "offsetgroup": "Shooter",
           "orientation": "v",
           "showlegend": true,
           "textposition": "auto",
           "type": "bar",
           "x": [
            "Shooter"
           ],
           "xaxis": "x",
           "y": [
            132
           ],
           "yaxis": "y"
          },
          {
           "alignmentgroup": "True",
           "hovertemplate": "Genre=%{x}<br>Year=2002<br>Cumulative_Games per Genre=%{y}<extra></extra>",
           "ids": [
            "Simulation"
           ],
           "legendgroup": "Simulation",
           "marker": {
            "color": "#FFFF00"
           },
           "name": "Simulation",
           "offsetgroup": "Simulation",
           "orientation": "v",
           "showlegend": true,
           "textposition": "auto",
           "type": "bar",
           "x": [
            "Simulation"
           ],
           "xaxis": "x",
           "y": [
            49
           ],
           "yaxis": "y"
          },
          {
           "alignmentgroup": "True",
           "hovertemplate": "Genre=%{x}<br>Year=2002<br>Cumulative_Games per Genre=%{y}<extra></extra>",
           "ids": [
            "Sports"
           ],
           "legendgroup": "Sports",
           "marker": {
            "color": "#2dc997"
           },
           "name": "Sports",
           "offsetgroup": "Sports",
           "orientation": "v",
           "showlegend": true,
           "textposition": "auto",
           "type": "bar",
           "x": [
            "Sports"
           ],
           "xaxis": "x",
           "y": [
            245
           ],
           "yaxis": "y"
          },
          {
           "alignmentgroup": "True",
           "hovertemplate": "Genre=%{x}<br>Year=2002<br>Cumulative_Games per Genre=%{y}<extra></extra>",
           "ids": [
            "Strategy"
           ],
           "legendgroup": "Strategy",
           "marker": {
            "color": "#B10DA1"
           },
           "name": "Strategy",
           "offsetgroup": "Strategy",
           "orientation": "v",
           "showlegend": true,
           "textposition": "auto",
           "type": "bar",
           "x": [
            "Strategy"
           ],
           "xaxis": "x",
           "y": [
            42
           ],
           "yaxis": "y"
          }
         ],
         "name": "2002"
        },
        {
         "data": [
          {
           "alignmentgroup": "True",
           "hovertemplate": "Genre=%{x}<br>Year=2003<br>Cumulative_Games per Genre=%{y}<extra></extra>",
           "ids": [
            "Action"
           ],
           "legendgroup": "Action",
           "marker": {
            "color": "#636EFA"
           },
           "name": "Action",
           "offsetgroup": "Action",
           "orientation": "v",
           "showlegend": true,
           "textposition": "auto",
           "type": "bar",
           "x": [
            "Action"
           ],
           "xaxis": "x",
           "y": [
            200
           ],
           "yaxis": "y"
          },
          {
           "alignmentgroup": "True",
           "hovertemplate": "Genre=%{x}<br>Year=2003<br>Cumulative_Games per Genre=%{y}<extra></extra>",
           "ids": [
            "Adventure"
           ],
           "legendgroup": "Adventure",
           "marker": {
            "color": "#EF553B"
           },
           "name": "Adventure",
           "offsetgroup": "Adventure",
           "orientation": "v",
           "showlegend": true,
           "textposition": "auto",
           "type": "bar",
           "x": [
            "Adventure"
           ],
           "xaxis": "x",
           "y": [
            38
           ],
           "yaxis": "y"
          },
          {
           "alignmentgroup": "True",
           "hovertemplate": "Genre=%{x}<br>Year=2003<br>Cumulative_Games per Genre=%{y}<extra></extra>",
           "ids": [
            "Fighting"
           ],
           "legendgroup": "Fighting",
           "marker": {
            "color": "#00CC96"
           },
           "name": "Fighting",
           "offsetgroup": "Fighting",
           "orientation": "v",
           "showlegend": true,
           "textposition": "auto",
           "type": "bar",
           "x": [
            "Fighting"
           ],
           "xaxis": "x",
           "y": [
            124
           ],
           "yaxis": "y"
          },
          {
           "alignmentgroup": "True",
           "hovertemplate": "Genre=%{x}<br>Year=2003<br>Cumulative_Games per Genre=%{y}<extra></extra>",
           "ids": [
            "Misc"
           ],
           "legendgroup": "Misc",
           "marker": {
            "color": "#AB63FA"
           },
           "name": "Misc",
           "offsetgroup": "Misc",
           "orientation": "v",
           "showlegend": true,
           "textposition": "auto",
           "type": "bar",
           "x": [
            "Misc"
           ],
           "xaxis": "x",
           "y": [
            49
           ],
           "yaxis": "y"
          },
          {
           "alignmentgroup": "True",
           "hovertemplate": "Genre=%{x}<br>Year=2003<br>Cumulative_Games per Genre=%{y}<extra></extra>",
           "ids": [
            "Platform"
           ],
           "legendgroup": "Platform",
           "marker": {
            "color": "#ff8001"
           },
           "name": "Platform",
           "offsetgroup": "Platform",
           "orientation": "v",
           "showlegend": true,
           "textposition": "auto",
           "type": "bar",
           "x": [
            "Platform"
           ],
           "xaxis": "x",
           "y": [
            107
           ],
           "yaxis": "y"
          },
          {
           "alignmentgroup": "True",
           "hovertemplate": "Genre=%{x}<br>Year=2003<br>Cumulative_Games per Genre=%{y}<extra></extra>",
           "ids": [
            "Puzzle"
           ],
           "legendgroup": "Puzzle",
           "marker": {
            "color": "#00fcfe"
           },
           "name": "Puzzle",
           "offsetgroup": "Puzzle",
           "orientation": "v",
           "showlegend": true,
           "textposition": "auto",
           "type": "bar",
           "x": [
            "Puzzle"
           ],
           "xaxis": "x",
           "y": [
            51
           ],
           "yaxis": "y"
          },
          {
           "alignmentgroup": "True",
           "hovertemplate": "Genre=%{x}<br>Year=2003<br>Cumulative_Games per Genre=%{y}<extra></extra>",
           "ids": [
            "Racing"
           ],
           "legendgroup": "Racing",
           "marker": {
            "color": "#FE00FA"
           },
           "name": "Racing",
           "offsetgroup": "Racing",
           "orientation": "v",
           "showlegend": true,
           "textposition": "auto",
           "type": "bar",
           "x": [
            "Racing"
           ],
           "xaxis": "x",
           "y": [
            183
           ],
           "yaxis": "y"
          },
          {
           "alignmentgroup": "True",
           "hovertemplate": "Genre=%{x}<br>Year=2003<br>Cumulative_Games per Genre=%{y}<extra></extra>",
           "ids": [
            "Role-Playing"
           ],
           "legendgroup": "Role-Playing",
           "marker": {
            "color": "#16FF32"
           },
           "name": "Role-Playing",
           "offsetgroup": "Role-Playing",
           "orientation": "v",
           "showlegend": true,
           "textposition": "auto",
           "type": "bar",
           "x": [
            "Role-Playing"
           ],
           "xaxis": "x",
           "y": [
            62
           ],
           "yaxis": "y"
          },
          {
           "alignmentgroup": "True",
           "hovertemplate": "Genre=%{x}<br>Year=2003<br>Cumulative_Games per Genre=%{y}<extra></extra>",
           "ids": [
            "Shooter"
           ],
           "legendgroup": "Shooter",
           "marker": {
            "color": "#FF97FF"
           },
           "name": "Shooter",
           "offsetgroup": "Shooter",
           "orientation": "v",
           "showlegend": true,
           "textposition": "auto",
           "type": "bar",
           "x": [
            "Shooter"
           ],
           "xaxis": "x",
           "y": [
            132
           ],
           "yaxis": "y"
          },
          {
           "alignmentgroup": "True",
           "hovertemplate": "Genre=%{x}<br>Year=2003<br>Cumulative_Games per Genre=%{y}<extra></extra>",
           "ids": [
            "Simulation"
           ],
           "legendgroup": "Simulation",
           "marker": {
            "color": "#FFFF00"
           },
           "name": "Simulation",
           "offsetgroup": "Simulation",
           "orientation": "v",
           "showlegend": true,
           "textposition": "auto",
           "type": "bar",
           "x": [
            "Simulation"
           ],
           "xaxis": "x",
           "y": [
            49
           ],
           "yaxis": "y"
          },
          {
           "alignmentgroup": "True",
           "hovertemplate": "Genre=%{x}<br>Year=2003<br>Cumulative_Games per Genre=%{y}<extra></extra>",
           "ids": [
            "Sports"
           ],
           "legendgroup": "Sports",
           "marker": {
            "color": "#2dc997"
           },
           "name": "Sports",
           "offsetgroup": "Sports",
           "orientation": "v",
           "showlegend": true,
           "textposition": "auto",
           "type": "bar",
           "x": [
            "Sports"
           ],
           "xaxis": "x",
           "y": [
            246
           ],
           "yaxis": "y"
          },
          {
           "alignmentgroup": "True",
           "hovertemplate": "Genre=%{x}<br>Year=2003<br>Cumulative_Games per Genre=%{y}<extra></extra>",
           "ids": [
            "Strategy"
           ],
           "legendgroup": "Strategy",
           "marker": {
            "color": "#B10DA1"
           },
           "name": "Strategy",
           "offsetgroup": "Strategy",
           "orientation": "v",
           "showlegend": true,
           "textposition": "auto",
           "type": "bar",
           "x": [
            "Strategy"
           ],
           "xaxis": "x",
           "y": [
            42
           ],
           "yaxis": "y"
          }
         ],
         "name": "2003"
        }
       ],
       "layout": {
        "barmode": "relative",
        "legend": {
         "title": {
          "text": "Genre"
         },
         "tracegroupgap": 0
        },
        "sliders": [
         {
          "active": 0,
          "currentvalue": {
           "prefix": "Year="
          },
          "len": 0.9,
          "pad": {
           "b": 10,
           "t": 60
          },
          "steps": [
           {
            "args": [
             [
              "1980"
             ],
             {
              "frame": {
               "duration": 0,
               "redraw": true
              },
              "fromcurrent": true,
              "mode": "immediate",
              "transition": {
               "duration": 0,
               "easing": "linear"
              }
             }
            ],
            "label": "1980",
            "method": "animate"
           },
           {
            "args": [
             [
              "1981"
             ],
             {
              "frame": {
               "duration": 0,
               "redraw": true
              },
              "fromcurrent": true,
              "mode": "immediate",
              "transition": {
               "duration": 0,
               "easing": "linear"
              }
             }
            ],
            "label": "1981",
            "method": "animate"
           },
           {
            "args": [
             [
              "1982"
             ],
             {
              "frame": {
               "duration": 0,
               "redraw": true
              },
              "fromcurrent": true,
              "mode": "immediate",
              "transition": {
               "duration": 0,
               "easing": "linear"
              }
             }
            ],
            "label": "1982",
            "method": "animate"
           },
           {
            "args": [
             [
              "1983"
             ],
             {
              "frame": {
               "duration": 0,
               "redraw": true
              },
              "fromcurrent": true,
              "mode": "immediate",
              "transition": {
               "duration": 0,
               "easing": "linear"
              }
             }
            ],
            "label": "1983",
            "method": "animate"
           },
           {
            "args": [
             [
              "1984"
             ],
             {
              "frame": {
               "duration": 0,
               "redraw": true
              },
              "fromcurrent": true,
              "mode": "immediate",
              "transition": {
               "duration": 0,
               "easing": "linear"
              }
             }
            ],
            "label": "1984",
            "method": "animate"
           },
           {
            "args": [
             [
              "1985"
             ],
             {
              "frame": {
               "duration": 0,
               "redraw": true
              },
              "fromcurrent": true,
              "mode": "immediate",
              "transition": {
               "duration": 0,
               "easing": "linear"
              }
             }
            ],
            "label": "1985",
            "method": "animate"
           },
           {
            "args": [
             [
              "1986"
             ],
             {
              "frame": {
               "duration": 0,
               "redraw": true
              },
              "fromcurrent": true,
              "mode": "immediate",
              "transition": {
               "duration": 0,
               "easing": "linear"
              }
             }
            ],
            "label": "1986",
            "method": "animate"
           },
           {
            "args": [
             [
              "1987"
             ],
             {
              "frame": {
               "duration": 0,
               "redraw": true
              },
              "fromcurrent": true,
              "mode": "immediate",
              "transition": {
               "duration": 0,
               "easing": "linear"
              }
             }
            ],
            "label": "1987",
            "method": "animate"
           },
           {
            "args": [
             [
              "1988"
             ],
             {
              "frame": {
               "duration": 0,
               "redraw": true
              },
              "fromcurrent": true,
              "mode": "immediate",
              "transition": {
               "duration": 0,
               "easing": "linear"
              }
             }
            ],
            "label": "1988",
            "method": "animate"
           },
           {
            "args": [
             [
              "1989"
             ],
             {
              "frame": {
               "duration": 0,
               "redraw": true
              },
              "fromcurrent": true,
              "mode": "immediate",
              "transition": {
               "duration": 0,
               "easing": "linear"
              }
             }
            ],
            "label": "1989",
            "method": "animate"
           },
           {
            "args": [
             [
              "1990"
             ],
             {
              "frame": {
               "duration": 0,
               "redraw": true
              },
              "fromcurrent": true,
              "mode": "immediate",
              "transition": {
               "duration": 0,
               "easing": "linear"
              }
             }
            ],
            "label": "1990",
            "method": "animate"
           },
           {
            "args": [
             [
              "1991"
             ],
             {
              "frame": {
               "duration": 0,
               "redraw": true
              },
              "fromcurrent": true,
              "mode": "immediate",
              "transition": {
               "duration": 0,
               "easing": "linear"
              }
             }
            ],
            "label": "1991",
            "method": "animate"
           },
           {
            "args": [
             [
              "1992"
             ],
             {
              "frame": {
               "duration": 0,
               "redraw": true
              },
              "fromcurrent": true,
              "mode": "immediate",
              "transition": {
               "duration": 0,
               "easing": "linear"
              }
             }
            ],
            "label": "1992",
            "method": "animate"
           },
           {
            "args": [
             [
              "1993"
             ],
             {
              "frame": {
               "duration": 0,
               "redraw": true
              },
              "fromcurrent": true,
              "mode": "immediate",
              "transition": {
               "duration": 0,
               "easing": "linear"
              }
             }
            ],
            "label": "1993",
            "method": "animate"
           },
           {
            "args": [
             [
              "1994"
             ],
             {
              "frame": {
               "duration": 0,
               "redraw": true
              },
              "fromcurrent": true,
              "mode": "immediate",
              "transition": {
               "duration": 0,
               "easing": "linear"
              }
             }
            ],
            "label": "1994",
            "method": "animate"
           },
           {
            "args": [
             [
              "1995"
             ],
             {
              "frame": {
               "duration": 0,
               "redraw": true
              },
              "fromcurrent": true,
              "mode": "immediate",
              "transition": {
               "duration": 0,
               "easing": "linear"
              }
             }
            ],
            "label": "1995",
            "method": "animate"
           },
           {
            "args": [
             [
              "1996"
             ],
             {
              "frame": {
               "duration": 0,
               "redraw": true
              },
              "fromcurrent": true,
              "mode": "immediate",
              "transition": {
               "duration": 0,
               "easing": "linear"
              }
             }
            ],
            "label": "1996",
            "method": "animate"
           },
           {
            "args": [
             [
              "1997"
             ],
             {
              "frame": {
               "duration": 0,
               "redraw": true
              },
              "fromcurrent": true,
              "mode": "immediate",
              "transition": {
               "duration": 0,
               "easing": "linear"
              }
             }
            ],
            "label": "1997",
            "method": "animate"
           },
           {
            "args": [
             [
              "1998"
             ],
             {
              "frame": {
               "duration": 0,
               "redraw": true
              },
              "fromcurrent": true,
              "mode": "immediate",
              "transition": {
               "duration": 0,
               "easing": "linear"
              }
             }
            ],
            "label": "1998",
            "method": "animate"
           },
           {
            "args": [
             [
              "1999"
             ],
             {
              "frame": {
               "duration": 0,
               "redraw": true
              },
              "fromcurrent": true,
              "mode": "immediate",
              "transition": {
               "duration": 0,
               "easing": "linear"
              }
             }
            ],
            "label": "1999",
            "method": "animate"
           },
           {
            "args": [
             [
              "2000"
             ],
             {
              "frame": {
               "duration": 0,
               "redraw": true
              },
              "fromcurrent": true,
              "mode": "immediate",
              "transition": {
               "duration": 0,
               "easing": "linear"
              }
             }
            ],
            "label": "2000",
            "method": "animate"
           },
           {
            "args": [
             [
              "2001"
             ],
             {
              "frame": {
               "duration": 0,
               "redraw": true
              },
              "fromcurrent": true,
              "mode": "immediate",
              "transition": {
               "duration": 0,
               "easing": "linear"
              }
             }
            ],
            "label": "2001",
            "method": "animate"
           },
           {
            "args": [
             [
              "2002"
             ],
             {
              "frame": {
               "duration": 0,
               "redraw": true
              },
              "fromcurrent": true,
              "mode": "immediate",
              "transition": {
               "duration": 0,
               "easing": "linear"
              }
             }
            ],
            "label": "2002",
            "method": "animate"
           },
           {
            "args": [
             [
              "2003"
             ],
             {
              "frame": {
               "duration": 0,
               "redraw": true
              },
              "fromcurrent": true,
              "mode": "immediate",
              "transition": {
               "duration": 0,
               "easing": "linear"
              }
             }
            ],
            "label": "2003",
            "method": "animate"
           }
          ],
          "x": 0.1,
          "xanchor": "left",
          "y": 0,
          "yanchor": "top"
         }
        ],
        "template": {
         "data": {
          "bar": [
           {
            "error_x": {
             "color": "#2a3f5f"
            },
            "error_y": {
             "color": "#2a3f5f"
            },
            "marker": {
             "line": {
              "color": "#E5ECF6",
              "width": 0.5
             }
            },
            "type": "bar"
           }
          ],
          "barpolar": [
           {
            "marker": {
             "line": {
              "color": "#E5ECF6",
              "width": 0.5
             }
            },
            "type": "barpolar"
           }
          ],
          "carpet": [
           {
            "aaxis": {
             "endlinecolor": "#2a3f5f",
             "gridcolor": "white",
             "linecolor": "white",
             "minorgridcolor": "white",
             "startlinecolor": "#2a3f5f"
            },
            "baxis": {
             "endlinecolor": "#2a3f5f",
             "gridcolor": "white",
             "linecolor": "white",
             "minorgridcolor": "white",
             "startlinecolor": "#2a3f5f"
            },
            "type": "carpet"
           }
          ],
          "choropleth": [
           {
            "colorbar": {
             "outlinewidth": 0,
             "ticks": ""
            },
            "type": "choropleth"
           }
          ],
          "contour": [
           {
            "colorbar": {
             "outlinewidth": 0,
             "ticks": ""
            },
            "colorscale": [
             [
              0,
              "#0d0887"
             ],
             [
              0.1111111111111111,
              "#46039f"
             ],
             [
              0.2222222222222222,
              "#7201a8"
             ],
             [
              0.3333333333333333,
              "#9c179e"
             ],
             [
              0.4444444444444444,
              "#bd3786"
             ],
             [
              0.5555555555555556,
              "#d8576b"
             ],
             [
              0.6666666666666666,
              "#ed7953"
             ],
             [
              0.7777777777777778,
              "#fb9f3a"
             ],
             [
              0.8888888888888888,
              "#fdca26"
             ],
             [
              1,
              "#f0f921"
             ]
            ],
            "type": "contour"
           }
          ],
          "contourcarpet": [
           {
            "colorbar": {
             "outlinewidth": 0,
             "ticks": ""
            },
            "type": "contourcarpet"
           }
          ],
          "heatmap": [
           {
            "colorbar": {
             "outlinewidth": 0,
             "ticks": ""
            },
            "colorscale": [
             [
              0,
              "#0d0887"
             ],
             [
              0.1111111111111111,
              "#46039f"
             ],
             [
              0.2222222222222222,
              "#7201a8"
             ],
             [
              0.3333333333333333,
              "#9c179e"
             ],
             [
              0.4444444444444444,
              "#bd3786"
             ],
             [
              0.5555555555555556,
              "#d8576b"
             ],
             [
              0.6666666666666666,
              "#ed7953"
             ],
             [
              0.7777777777777778,
              "#fb9f3a"
             ],
             [
              0.8888888888888888,
              "#fdca26"
             ],
             [
              1,
              "#f0f921"
             ]
            ],
            "type": "heatmap"
           }
          ],
          "heatmapgl": [
           {
            "colorbar": {
             "outlinewidth": 0,
             "ticks": ""
            },
            "colorscale": [
             [
              0,
              "#0d0887"
             ],
             [
              0.1111111111111111,
              "#46039f"
             ],
             [
              0.2222222222222222,
              "#7201a8"
             ],
             [
              0.3333333333333333,
              "#9c179e"
             ],
             [
              0.4444444444444444,
              "#bd3786"
             ],
             [
              0.5555555555555556,
              "#d8576b"
             ],
             [
              0.6666666666666666,
              "#ed7953"
             ],
             [
              0.7777777777777778,
              "#fb9f3a"
             ],
             [
              0.8888888888888888,
              "#fdca26"
             ],
             [
              1,
              "#f0f921"
             ]
            ],
            "type": "heatmapgl"
           }
          ],
          "histogram": [
           {
            "marker": {
             "colorbar": {
              "outlinewidth": 0,
              "ticks": ""
             }
            },
            "type": "histogram"
           }
          ],
          "histogram2d": [
           {
            "colorbar": {
             "outlinewidth": 0,
             "ticks": ""
            },
            "colorscale": [
             [
              0,
              "#0d0887"
             ],
             [
              0.1111111111111111,
              "#46039f"
             ],
             [
              0.2222222222222222,
              "#7201a8"
             ],
             [
              0.3333333333333333,
              "#9c179e"
             ],
             [
              0.4444444444444444,
              "#bd3786"
             ],
             [
              0.5555555555555556,
              "#d8576b"
             ],
             [
              0.6666666666666666,
              "#ed7953"
             ],
             [
              0.7777777777777778,
              "#fb9f3a"
             ],
             [
              0.8888888888888888,
              "#fdca26"
             ],
             [
              1,
              "#f0f921"
             ]
            ],
            "type": "histogram2d"
           }
          ],
          "histogram2dcontour": [
           {
            "colorbar": {
             "outlinewidth": 0,
             "ticks": ""
            },
            "colorscale": [
             [
              0,
              "#0d0887"
             ],
             [
              0.1111111111111111,
              "#46039f"
             ],
             [
              0.2222222222222222,
              "#7201a8"
             ],
             [
              0.3333333333333333,
              "#9c179e"
             ],
             [
              0.4444444444444444,
              "#bd3786"
             ],
             [
              0.5555555555555556,
              "#d8576b"
             ],
             [
              0.6666666666666666,
              "#ed7953"
             ],
             [
              0.7777777777777778,
              "#fb9f3a"
             ],
             [
              0.8888888888888888,
              "#fdca26"
             ],
             [
              1,
              "#f0f921"
             ]
            ],
            "type": "histogram2dcontour"
           }
          ],
          "mesh3d": [
           {
            "colorbar": {
             "outlinewidth": 0,
             "ticks": ""
            },
            "type": "mesh3d"
           }
          ],
          "parcoords": [
           {
            "line": {
             "colorbar": {
              "outlinewidth": 0,
              "ticks": ""
             }
            },
            "type": "parcoords"
           }
          ],
          "pie": [
           {
            "automargin": true,
            "type": "pie"
           }
          ],
          "scatter": [
           {
            "marker": {
             "colorbar": {
              "outlinewidth": 0,
              "ticks": ""
             }
            },
            "type": "scatter"
           }
          ],
          "scatter3d": [
           {
            "line": {
             "colorbar": {
              "outlinewidth": 0,
              "ticks": ""
             }
            },
            "marker": {
             "colorbar": {
              "outlinewidth": 0,
              "ticks": ""
             }
            },
            "type": "scatter3d"
           }
          ],
          "scattercarpet": [
           {
            "marker": {
             "colorbar": {
              "outlinewidth": 0,
              "ticks": ""
             }
            },
            "type": "scattercarpet"
           }
          ],
          "scattergeo": [
           {
            "marker": {
             "colorbar": {
              "outlinewidth": 0,
              "ticks": ""
             }
            },
            "type": "scattergeo"
           }
          ],
          "scattergl": [
           {
            "marker": {
             "colorbar": {
              "outlinewidth": 0,
              "ticks": ""
             }
            },
            "type": "scattergl"
           }
          ],
          "scattermapbox": [
           {
            "marker": {
             "colorbar": {
              "outlinewidth": 0,
              "ticks": ""
             }
            },
            "type": "scattermapbox"
           }
          ],
          "scatterpolar": [
           {
            "marker": {
             "colorbar": {
              "outlinewidth": 0,
              "ticks": ""
             }
            },
            "type": "scatterpolar"
           }
          ],
          "scatterpolargl": [
           {
            "marker": {
             "colorbar": {
              "outlinewidth": 0,
              "ticks": ""
             }
            },
            "type": "scatterpolargl"
           }
          ],
          "scatterternary": [
           {
            "marker": {
             "colorbar": {
              "outlinewidth": 0,
              "ticks": ""
             }
            },
            "type": "scatterternary"
           }
          ],
          "surface": [
           {
            "colorbar": {
             "outlinewidth": 0,
             "ticks": ""
            },
            "colorscale": [
             [
              0,
              "#0d0887"
             ],
             [
              0.1111111111111111,
              "#46039f"
             ],
             [
              0.2222222222222222,
              "#7201a8"
             ],
             [
              0.3333333333333333,
              "#9c179e"
             ],
             [
              0.4444444444444444,
              "#bd3786"
             ],
             [
              0.5555555555555556,
              "#d8576b"
             ],
             [
              0.6666666666666666,
              "#ed7953"
             ],
             [
              0.7777777777777778,
              "#fb9f3a"
             ],
             [
              0.8888888888888888,
              "#fdca26"
             ],
             [
              1,
              "#f0f921"
             ]
            ],
            "type": "surface"
           }
          ],
          "table": [
           {
            "cells": {
             "fill": {
              "color": "#EBF0F8"
             },
             "line": {
              "color": "white"
             }
            },
            "header": {
             "fill": {
              "color": "#C8D4E3"
             },
             "line": {
              "color": "white"
             }
            },
            "type": "table"
           }
          ]
         },
         "layout": {
          "annotationdefaults": {
           "arrowcolor": "#2a3f5f",
           "arrowhead": 0,
           "arrowwidth": 1
          },
          "coloraxis": {
           "colorbar": {
            "outlinewidth": 0,
            "ticks": ""
           }
          },
          "colorscale": {
           "diverging": [
            [
             0,
             "#8e0152"
            ],
            [
             0.1,
             "#c51b7d"
            ],
            [
             0.2,
             "#de77ae"
            ],
            [
             0.3,
             "#f1b6da"
            ],
            [
             0.4,
             "#fde0ef"
            ],
            [
             0.5,
             "#f7f7f7"
            ],
            [
             0.6,
             "#e6f5d0"
            ],
            [
             0.7,
             "#b8e186"
            ],
            [
             0.8,
             "#7fbc41"
            ],
            [
             0.9,
             "#4d9221"
            ],
            [
             1,
             "#276419"
            ]
           ],
           "sequential": [
            [
             0,
             "#0d0887"
            ],
            [
             0.1111111111111111,
             "#46039f"
            ],
            [
             0.2222222222222222,
             "#7201a8"
            ],
            [
             0.3333333333333333,
             "#9c179e"
            ],
            [
             0.4444444444444444,
             "#bd3786"
            ],
            [
             0.5555555555555556,
             "#d8576b"
            ],
            [
             0.6666666666666666,
             "#ed7953"
            ],
            [
             0.7777777777777778,
             "#fb9f3a"
            ],
            [
             0.8888888888888888,
             "#fdca26"
            ],
            [
             1,
             "#f0f921"
            ]
           ],
           "sequentialminus": [
            [
             0,
             "#0d0887"
            ],
            [
             0.1111111111111111,
             "#46039f"
            ],
            [
             0.2222222222222222,
             "#7201a8"
            ],
            [
             0.3333333333333333,
             "#9c179e"
            ],
            [
             0.4444444444444444,
             "#bd3786"
            ],
            [
             0.5555555555555556,
             "#d8576b"
            ],
            [
             0.6666666666666666,
             "#ed7953"
            ],
            [
             0.7777777777777778,
             "#fb9f3a"
            ],
            [
             0.8888888888888888,
             "#fdca26"
            ],
            [
             1,
             "#f0f921"
            ]
           ]
          },
          "colorway": [
           "#636efa",
           "#EF553B",
           "#00cc96",
           "#ab63fa",
           "#FFA15A",
           "#19d3f3",
           "#FF6692",
           "#B6E880",
           "#FF97FF",
           "#FECB52"
          ],
          "font": {
           "color": "#2a3f5f"
          },
          "geo": {
           "bgcolor": "white",
           "lakecolor": "white",
           "landcolor": "#E5ECF6",
           "showlakes": true,
           "showland": true,
           "subunitcolor": "white"
          },
          "hoverlabel": {
           "align": "left"
          },
          "hovermode": "closest",
          "mapbox": {
           "style": "light"
          },
          "paper_bgcolor": "white",
          "plot_bgcolor": "#E5ECF6",
          "polar": {
           "angularaxis": {
            "gridcolor": "white",
            "linecolor": "white",
            "ticks": ""
           },
           "bgcolor": "#E5ECF6",
           "radialaxis": {
            "gridcolor": "white",
            "linecolor": "white",
            "ticks": ""
           }
          },
          "scene": {
           "xaxis": {
            "backgroundcolor": "#E5ECF6",
            "gridcolor": "white",
            "gridwidth": 2,
            "linecolor": "white",
            "showbackground": true,
            "ticks": "",
            "zerolinecolor": "white"
           },
           "yaxis": {
            "backgroundcolor": "#E5ECF6",
            "gridcolor": "white",
            "gridwidth": 2,
            "linecolor": "white",
            "showbackground": true,
            "ticks": "",
            "zerolinecolor": "white"
           },
           "zaxis": {
            "backgroundcolor": "#E5ECF6",
            "gridcolor": "white",
            "gridwidth": 2,
            "linecolor": "white",
            "showbackground": true,
            "ticks": "",
            "zerolinecolor": "white"
           }
          },
          "shapedefaults": {
           "line": {
            "color": "#2a3f5f"
           }
          },
          "ternary": {
           "aaxis": {
            "gridcolor": "white",
            "linecolor": "white",
            "ticks": ""
           },
           "baxis": {
            "gridcolor": "white",
            "linecolor": "white",
            "ticks": ""
           },
           "bgcolor": "#E5ECF6",
           "caxis": {
            "gridcolor": "white",
            "linecolor": "white",
            "ticks": ""
           }
          },
          "title": {
           "x": 0.05
          },
          "xaxis": {
           "automargin": true,
           "gridcolor": "white",
           "linecolor": "white",
           "ticks": "",
           "title": {
            "standoff": 15
           },
           "zerolinecolor": "white",
           "zerolinewidth": 2
          },
          "yaxis": {
           "automargin": true,
           "gridcolor": "white",
           "linecolor": "white",
           "ticks": "",
           "title": {
            "standoff": 15
           },
           "zerolinecolor": "white",
           "zerolinewidth": 2
          }
         }
        },
        "title": {
         "text": "Top Genres over Time-vintage"
        },
        "updatemenus": [
         {
          "buttons": [
           {
            "args": [
             null,
             {
              "frame": {
               "duration": 300,
               "redraw": true
              },
              "fromcurrent": true,
              "mode": "immediate",
              "transition": {
               "duration": 500,
               "easing": "linear"
              }
             }
            ],
            "label": "&#9654;",
            "method": "animate"
           },
           {
            "args": [
             [
              null
             ],
             {
              "frame": {
               "duration": 0,
               "redraw": true
              },
              "fromcurrent": true,
              "mode": "immediate",
              "transition": {
               "duration": 0,
               "easing": "linear"
              }
             }
            ],
            "label": "&#9724;",
            "method": "animate"
           }
          ],
          "direction": "left",
          "pad": {
           "r": 10,
           "t": 70
          },
          "showactive": false,
          "type": "buttons",
          "x": 0.1,
          "xanchor": "right",
          "y": 0,
          "yanchor": "top"
         }
        ],
        "xaxis": {
         "anchor": "y",
         "categoryarray": [
          "Action",
          "Adventure",
          "Fighting",
          "Misc",
          "Platform",
          "Puzzle",
          "Racing",
          "Role-Playing",
          "Shooter",
          "Simulation",
          "Sports",
          "Strategy"
         ],
         "categoryorder": "array",
         "domain": [
          0,
          1
         ],
         "title": {
          "text": "Genre"
         }
        },
        "yaxis": {
         "anchor": "x",
         "domain": [
          0,
          1
         ],
         "range": [
          0,
          260
         ],
         "title": {
          "text": "Cumulative_Games per Genre"
         }
        }
       }
      },
      "text/html": [
       "<div>                            <div id=\"84a45f2a-0e4a-467e-b202-5e2c71e0d9ec\" class=\"plotly-graph-div\" style=\"height:525px; width:100%;\"></div>            <script type=\"text/javascript\">                require([\"plotly\"], function(Plotly) {                    window.PLOTLYENV=window.PLOTLYENV || {};                                    if (document.getElementById(\"84a45f2a-0e4a-467e-b202-5e2c71e0d9ec\")) {                    Plotly.newPlot(                        \"84a45f2a-0e4a-467e-b202-5e2c71e0d9ec\",                        [{\"alignmentgroup\": \"True\", \"hovertemplate\": \"Genre=%{x}<br>Year=1980<br>Cumulative_Games per Genre=%{y}<extra></extra>\", \"ids\": [\"Action\"], \"legendgroup\": \"Action\", \"marker\": {\"color\": \"#636EFA\"}, \"name\": \"Action\", \"offsetgroup\": \"Action\", \"orientation\": \"v\", \"showlegend\": true, \"textposition\": \"auto\", \"type\": \"bar\", \"x\": [\"Action\"], \"xaxis\": \"x\", \"y\": [0.0], \"yaxis\": \"y\"}, {\"alignmentgroup\": \"True\", \"hovertemplate\": \"Genre=%{x}<br>Year=1980<br>Cumulative_Games per Genre=%{y}<extra></extra>\", \"ids\": [\"Adventure\"], \"legendgroup\": \"Adventure\", \"marker\": {\"color\": \"#EF553B\"}, \"name\": \"Adventure\", \"offsetgroup\": \"Adventure\", \"orientation\": \"v\", \"showlegend\": true, \"textposition\": \"auto\", \"type\": \"bar\", \"x\": [\"Adventure\"], \"xaxis\": \"x\", \"y\": [0.0], \"yaxis\": \"y\"}, {\"alignmentgroup\": \"True\", \"hovertemplate\": \"Genre=%{x}<br>Year=1980<br>Cumulative_Games per Genre=%{y}<extra></extra>\", \"ids\": [\"Fighting\"], \"legendgroup\": \"Fighting\", \"marker\": {\"color\": \"#00CC96\"}, \"name\": \"Fighting\", \"offsetgroup\": \"Fighting\", \"orientation\": \"v\", \"showlegend\": true, \"textposition\": \"auto\", \"type\": \"bar\", \"x\": [\"Fighting\"], \"xaxis\": \"x\", \"y\": [1.0], \"yaxis\": \"y\"}, {\"alignmentgroup\": \"True\", \"hovertemplate\": \"Genre=%{x}<br>Year=1980<br>Cumulative_Games per Genre=%{y}<extra></extra>\", \"ids\": [\"Misc\"], \"legendgroup\": \"Misc\", \"marker\": {\"color\": \"#AB63FA\"}, \"name\": \"Misc\", \"offsetgroup\": \"Misc\", \"orientation\": \"v\", \"showlegend\": true, \"textposition\": \"auto\", \"type\": \"bar\", \"x\": [\"Misc\"], \"xaxis\": \"x\", \"y\": [2.0], \"yaxis\": \"y\"}, {\"alignmentgroup\": \"True\", \"hovertemplate\": \"Genre=%{x}<br>Year=1980<br>Cumulative_Games per Genre=%{y}<extra></extra>\", \"ids\": [\"Platform\"], \"legendgroup\": \"Platform\", \"marker\": {\"color\": \"#ff8001\"}, \"name\": \"Platform\", \"offsetgroup\": \"Platform\", \"orientation\": \"v\", \"showlegend\": true, \"textposition\": \"auto\", \"type\": \"bar\", \"x\": [\"Platform\"], \"xaxis\": \"x\", \"y\": [0.0], \"yaxis\": \"y\"}, {\"alignmentgroup\": \"True\", \"hovertemplate\": \"Genre=%{x}<br>Year=1980<br>Cumulative_Games per Genre=%{y}<extra></extra>\", \"ids\": [\"Puzzle\"], \"legendgroup\": \"Puzzle\", \"marker\": {\"color\": \"#00fcfe\"}, \"name\": \"Puzzle\", \"offsetgroup\": \"Puzzle\", \"orientation\": \"v\", \"showlegend\": true, \"textposition\": \"auto\", \"type\": \"bar\", \"x\": [\"Puzzle\"], \"xaxis\": \"x\", \"y\": [0.0], \"yaxis\": \"y\"}, {\"alignmentgroup\": \"True\", \"hovertemplate\": \"Genre=%{x}<br>Year=1980<br>Cumulative_Games per Genre=%{y}<extra></extra>\", \"ids\": [\"Racing\"], \"legendgroup\": \"Racing\", \"marker\": {\"color\": \"#FE00FA\"}, \"name\": \"Racing\", \"offsetgroup\": \"Racing\", \"orientation\": \"v\", \"showlegend\": true, \"textposition\": \"auto\", \"type\": \"bar\", \"x\": [\"Racing\"], \"xaxis\": \"x\", \"y\": [0.0], \"yaxis\": \"y\"}, {\"alignmentgroup\": \"True\", \"hovertemplate\": \"Genre=%{x}<br>Year=1980<br>Cumulative_Games per Genre=%{y}<extra></extra>\", \"ids\": [\"Role-Playing\"], \"legendgroup\": \"Role-Playing\", \"marker\": {\"color\": \"#16FF32\"}, \"name\": \"Role-Playing\", \"offsetgroup\": \"Role-Playing\", \"orientation\": \"v\", \"showlegend\": true, \"textposition\": \"auto\", \"type\": \"bar\", \"x\": [\"Role-Playing\"], \"xaxis\": \"x\", \"y\": [0.0], \"yaxis\": \"y\"}, {\"alignmentgroup\": \"True\", \"hovertemplate\": \"Genre=%{x}<br>Year=1980<br>Cumulative_Games per Genre=%{y}<extra></extra>\", \"ids\": [\"Shooter\"], \"legendgroup\": \"Shooter\", \"marker\": {\"color\": \"#FF97FF\"}, \"name\": \"Shooter\", \"offsetgroup\": \"Shooter\", \"orientation\": \"v\", \"showlegend\": true, \"textposition\": \"auto\", \"type\": \"bar\", \"x\": [\"Shooter\"], \"xaxis\": \"x\", \"y\": [1.0], \"yaxis\": \"y\"}, {\"alignmentgroup\": \"True\", \"hovertemplate\": \"Genre=%{x}<br>Year=1980<br>Cumulative_Games per Genre=%{y}<extra></extra>\", \"ids\": [\"Simulation\"], \"legendgroup\": \"Simulation\", \"marker\": {\"color\": \"#FFFF00\"}, \"name\": \"Simulation\", \"offsetgroup\": \"Simulation\", \"orientation\": \"v\", \"showlegend\": true, \"textposition\": \"auto\", \"type\": \"bar\", \"x\": [\"Simulation\"], \"xaxis\": \"x\", \"y\": [0.0], \"yaxis\": \"y\"}, {\"alignmentgroup\": \"True\", \"hovertemplate\": \"Genre=%{x}<br>Year=1980<br>Cumulative_Games per Genre=%{y}<extra></extra>\", \"ids\": [\"Sports\"], \"legendgroup\": \"Sports\", \"marker\": {\"color\": \"#2dc997\"}, \"name\": \"Sports\", \"offsetgroup\": \"Sports\", \"orientation\": \"v\", \"showlegend\": true, \"textposition\": \"auto\", \"type\": \"bar\", \"x\": [\"Sports\"], \"xaxis\": \"x\", \"y\": [1.0], \"yaxis\": \"y\"}, {\"alignmentgroup\": \"True\", \"hovertemplate\": \"Genre=%{x}<br>Year=1980<br>Cumulative_Games per Genre=%{y}<extra></extra>\", \"ids\": [\"Strategy\"], \"legendgroup\": \"Strategy\", \"marker\": {\"color\": \"#B10DA1\"}, \"name\": \"Strategy\", \"offsetgroup\": \"Strategy\", \"orientation\": \"v\", \"showlegend\": true, \"textposition\": \"auto\", \"type\": \"bar\", \"x\": [\"Strategy\"], \"xaxis\": \"x\", \"y\": [0.0], \"yaxis\": \"y\"}],                        {\"barmode\": \"relative\", \"legend\": {\"title\": {\"text\": \"Genre\"}, \"tracegroupgap\": 0}, \"sliders\": [{\"active\": 0, \"currentvalue\": {\"prefix\": \"Year=\"}, \"len\": 0.9, \"pad\": {\"b\": 10, \"t\": 60}, \"steps\": [{\"args\": [[\"1980\"], {\"frame\": {\"duration\": 0, \"redraw\": true}, \"fromcurrent\": true, \"mode\": \"immediate\", \"transition\": {\"duration\": 0, \"easing\": \"linear\"}}], \"label\": \"1980\", \"method\": \"animate\"}, {\"args\": [[\"1981\"], {\"frame\": {\"duration\": 0, \"redraw\": true}, \"fromcurrent\": true, \"mode\": \"immediate\", \"transition\": {\"duration\": 0, \"easing\": \"linear\"}}], \"label\": \"1981\", \"method\": \"animate\"}, {\"args\": [[\"1982\"], {\"frame\": {\"duration\": 0, \"redraw\": true}, \"fromcurrent\": true, \"mode\": \"immediate\", \"transition\": {\"duration\": 0, \"easing\": \"linear\"}}], \"label\": \"1982\", \"method\": \"animate\"}, {\"args\": [[\"1983\"], {\"frame\": {\"duration\": 0, \"redraw\": true}, \"fromcurrent\": true, \"mode\": \"immediate\", \"transition\": {\"duration\": 0, \"easing\": \"linear\"}}], \"label\": \"1983\", \"method\": \"animate\"}, {\"args\": [[\"1984\"], {\"frame\": {\"duration\": 0, \"redraw\": true}, \"fromcurrent\": true, \"mode\": \"immediate\", \"transition\": {\"duration\": 0, \"easing\": \"linear\"}}], \"label\": \"1984\", \"method\": \"animate\"}, {\"args\": [[\"1985\"], {\"frame\": {\"duration\": 0, \"redraw\": true}, \"fromcurrent\": true, \"mode\": \"immediate\", \"transition\": {\"duration\": 0, \"easing\": \"linear\"}}], \"label\": \"1985\", \"method\": \"animate\"}, {\"args\": [[\"1986\"], {\"frame\": {\"duration\": 0, \"redraw\": true}, \"fromcurrent\": true, \"mode\": \"immediate\", \"transition\": {\"duration\": 0, \"easing\": \"linear\"}}], \"label\": \"1986\", \"method\": \"animate\"}, {\"args\": [[\"1987\"], {\"frame\": {\"duration\": 0, \"redraw\": true}, \"fromcurrent\": true, \"mode\": \"immediate\", \"transition\": {\"duration\": 0, \"easing\": \"linear\"}}], \"label\": \"1987\", \"method\": \"animate\"}, {\"args\": [[\"1988\"], {\"frame\": {\"duration\": 0, \"redraw\": true}, \"fromcurrent\": true, \"mode\": \"immediate\", \"transition\": {\"duration\": 0, \"easing\": \"linear\"}}], \"label\": \"1988\", \"method\": \"animate\"}, {\"args\": [[\"1989\"], {\"frame\": {\"duration\": 0, \"redraw\": true}, \"fromcurrent\": true, \"mode\": \"immediate\", \"transition\": {\"duration\": 0, \"easing\": \"linear\"}}], \"label\": \"1989\", \"method\": \"animate\"}, {\"args\": [[\"1990\"], {\"frame\": {\"duration\": 0, \"redraw\": true}, \"fromcurrent\": true, \"mode\": \"immediate\", \"transition\": {\"duration\": 0, \"easing\": \"linear\"}}], \"label\": \"1990\", \"method\": \"animate\"}, {\"args\": [[\"1991\"], {\"frame\": {\"duration\": 0, \"redraw\": true}, \"fromcurrent\": true, \"mode\": \"immediate\", \"transition\": {\"duration\": 0, \"easing\": \"linear\"}}], \"label\": \"1991\", \"method\": \"animate\"}, {\"args\": [[\"1992\"], {\"frame\": {\"duration\": 0, \"redraw\": true}, \"fromcurrent\": true, \"mode\": \"immediate\", \"transition\": {\"duration\": 0, \"easing\": \"linear\"}}], \"label\": \"1992\", \"method\": \"animate\"}, {\"args\": [[\"1993\"], {\"frame\": {\"duration\": 0, \"redraw\": true}, \"fromcurrent\": true, \"mode\": \"immediate\", \"transition\": {\"duration\": 0, \"easing\": \"linear\"}}], \"label\": \"1993\", \"method\": \"animate\"}, {\"args\": [[\"1994\"], {\"frame\": {\"duration\": 0, \"redraw\": true}, \"fromcurrent\": true, \"mode\": \"immediate\", \"transition\": {\"duration\": 0, \"easing\": \"linear\"}}], \"label\": \"1994\", \"method\": \"animate\"}, {\"args\": [[\"1995\"], {\"frame\": {\"duration\": 0, \"redraw\": true}, \"fromcurrent\": true, \"mode\": \"immediate\", \"transition\": {\"duration\": 0, \"easing\": \"linear\"}}], \"label\": \"1995\", \"method\": \"animate\"}, {\"args\": [[\"1996\"], {\"frame\": {\"duration\": 0, \"redraw\": true}, \"fromcurrent\": true, \"mode\": \"immediate\", \"transition\": {\"duration\": 0, \"easing\": \"linear\"}}], \"label\": \"1996\", \"method\": \"animate\"}, {\"args\": [[\"1997\"], {\"frame\": {\"duration\": 0, \"redraw\": true}, \"fromcurrent\": true, \"mode\": \"immediate\", \"transition\": {\"duration\": 0, \"easing\": \"linear\"}}], \"label\": \"1997\", \"method\": \"animate\"}, {\"args\": [[\"1998\"], {\"frame\": {\"duration\": 0, \"redraw\": true}, \"fromcurrent\": true, \"mode\": \"immediate\", \"transition\": {\"duration\": 0, \"easing\": \"linear\"}}], \"label\": \"1998\", \"method\": \"animate\"}, {\"args\": [[\"1999\"], {\"frame\": {\"duration\": 0, \"redraw\": true}, \"fromcurrent\": true, \"mode\": \"immediate\", \"transition\": {\"duration\": 0, \"easing\": \"linear\"}}], \"label\": \"1999\", \"method\": \"animate\"}, {\"args\": [[\"2000\"], {\"frame\": {\"duration\": 0, \"redraw\": true}, \"fromcurrent\": true, \"mode\": \"immediate\", \"transition\": {\"duration\": 0, \"easing\": \"linear\"}}], \"label\": \"2000\", \"method\": \"animate\"}, {\"args\": [[\"2001\"], {\"frame\": {\"duration\": 0, \"redraw\": true}, \"fromcurrent\": true, \"mode\": \"immediate\", \"transition\": {\"duration\": 0, \"easing\": \"linear\"}}], \"label\": \"2001\", \"method\": \"animate\"}, {\"args\": [[\"2002\"], {\"frame\": {\"duration\": 0, \"redraw\": true}, \"fromcurrent\": true, \"mode\": \"immediate\", \"transition\": {\"duration\": 0, \"easing\": \"linear\"}}], \"label\": \"2002\", \"method\": \"animate\"}, {\"args\": [[\"2003\"], {\"frame\": {\"duration\": 0, \"redraw\": true}, \"fromcurrent\": true, \"mode\": \"immediate\", \"transition\": {\"duration\": 0, \"easing\": \"linear\"}}], \"label\": \"2003\", \"method\": \"animate\"}], \"x\": 0.1, \"xanchor\": \"left\", \"y\": 0, \"yanchor\": \"top\"}], \"template\": {\"data\": {\"bar\": [{\"error_x\": {\"color\": \"#2a3f5f\"}, \"error_y\": {\"color\": \"#2a3f5f\"}, \"marker\": {\"line\": {\"color\": \"#E5ECF6\", \"width\": 0.5}}, \"type\": \"bar\"}], \"barpolar\": [{\"marker\": {\"line\": {\"color\": \"#E5ECF6\", \"width\": 0.5}}, \"type\": \"barpolar\"}], \"carpet\": [{\"aaxis\": {\"endlinecolor\": \"#2a3f5f\", \"gridcolor\": \"white\", \"linecolor\": \"white\", \"minorgridcolor\": \"white\", \"startlinecolor\": \"#2a3f5f\"}, \"baxis\": {\"endlinecolor\": \"#2a3f5f\", \"gridcolor\": \"white\", \"linecolor\": \"white\", \"minorgridcolor\": \"white\", \"startlinecolor\": \"#2a3f5f\"}, \"type\": \"carpet\"}], \"choropleth\": [{\"colorbar\": {\"outlinewidth\": 0, \"ticks\": \"\"}, \"type\": \"choropleth\"}], \"contour\": [{\"colorbar\": {\"outlinewidth\": 0, \"ticks\": \"\"}, \"colorscale\": [[0.0, \"#0d0887\"], [0.1111111111111111, \"#46039f\"], [0.2222222222222222, \"#7201a8\"], [0.3333333333333333, \"#9c179e\"], [0.4444444444444444, \"#bd3786\"], [0.5555555555555556, \"#d8576b\"], [0.6666666666666666, \"#ed7953\"], [0.7777777777777778, \"#fb9f3a\"], [0.8888888888888888, \"#fdca26\"], [1.0, \"#f0f921\"]], \"type\": \"contour\"}], \"contourcarpet\": [{\"colorbar\": {\"outlinewidth\": 0, \"ticks\": \"\"}, \"type\": \"contourcarpet\"}], \"heatmap\": [{\"colorbar\": {\"outlinewidth\": 0, \"ticks\": \"\"}, \"colorscale\": [[0.0, \"#0d0887\"], [0.1111111111111111, \"#46039f\"], [0.2222222222222222, \"#7201a8\"], [0.3333333333333333, \"#9c179e\"], [0.4444444444444444, \"#bd3786\"], [0.5555555555555556, \"#d8576b\"], [0.6666666666666666, \"#ed7953\"], [0.7777777777777778, \"#fb9f3a\"], [0.8888888888888888, \"#fdca26\"], [1.0, \"#f0f921\"]], \"type\": \"heatmap\"}], \"heatmapgl\": [{\"colorbar\": {\"outlinewidth\": 0, \"ticks\": \"\"}, \"colorscale\": [[0.0, \"#0d0887\"], [0.1111111111111111, \"#46039f\"], [0.2222222222222222, \"#7201a8\"], [0.3333333333333333, \"#9c179e\"], [0.4444444444444444, \"#bd3786\"], [0.5555555555555556, \"#d8576b\"], [0.6666666666666666, \"#ed7953\"], [0.7777777777777778, \"#fb9f3a\"], [0.8888888888888888, \"#fdca26\"], [1.0, \"#f0f921\"]], \"type\": \"heatmapgl\"}], \"histogram\": [{\"marker\": {\"colorbar\": {\"outlinewidth\": 0, \"ticks\": \"\"}}, \"type\": \"histogram\"}], \"histogram2d\": [{\"colorbar\": {\"outlinewidth\": 0, \"ticks\": \"\"}, \"colorscale\": [[0.0, \"#0d0887\"], [0.1111111111111111, \"#46039f\"], [0.2222222222222222, \"#7201a8\"], [0.3333333333333333, \"#9c179e\"], [0.4444444444444444, \"#bd3786\"], [0.5555555555555556, \"#d8576b\"], [0.6666666666666666, \"#ed7953\"], [0.7777777777777778, \"#fb9f3a\"], [0.8888888888888888, \"#fdca26\"], [1.0, \"#f0f921\"]], \"type\": \"histogram2d\"}], \"histogram2dcontour\": [{\"colorbar\": {\"outlinewidth\": 0, \"ticks\": \"\"}, \"colorscale\": [[0.0, \"#0d0887\"], [0.1111111111111111, \"#46039f\"], [0.2222222222222222, \"#7201a8\"], [0.3333333333333333, \"#9c179e\"], [0.4444444444444444, \"#bd3786\"], [0.5555555555555556, \"#d8576b\"], [0.6666666666666666, \"#ed7953\"], [0.7777777777777778, \"#fb9f3a\"], [0.8888888888888888, \"#fdca26\"], [1.0, \"#f0f921\"]], \"type\": \"histogram2dcontour\"}], \"mesh3d\": [{\"colorbar\": {\"outlinewidth\": 0, \"ticks\": \"\"}, \"type\": \"mesh3d\"}], \"parcoords\": [{\"line\": {\"colorbar\": {\"outlinewidth\": 0, \"ticks\": \"\"}}, \"type\": \"parcoords\"}], \"pie\": [{\"automargin\": true, \"type\": \"pie\"}], \"scatter\": [{\"marker\": {\"colorbar\": {\"outlinewidth\": 0, \"ticks\": \"\"}}, \"type\": \"scatter\"}], \"scatter3d\": [{\"line\": {\"colorbar\": {\"outlinewidth\": 0, \"ticks\": \"\"}}, \"marker\": {\"colorbar\": {\"outlinewidth\": 0, \"ticks\": \"\"}}, \"type\": \"scatter3d\"}], \"scattercarpet\": [{\"marker\": {\"colorbar\": {\"outlinewidth\": 0, \"ticks\": \"\"}}, \"type\": \"scattercarpet\"}], \"scattergeo\": [{\"marker\": {\"colorbar\": {\"outlinewidth\": 0, \"ticks\": \"\"}}, \"type\": \"scattergeo\"}], \"scattergl\": [{\"marker\": {\"colorbar\": {\"outlinewidth\": 0, \"ticks\": \"\"}}, \"type\": \"scattergl\"}], \"scattermapbox\": [{\"marker\": {\"colorbar\": {\"outlinewidth\": 0, \"ticks\": \"\"}}, \"type\": \"scattermapbox\"}], \"scatterpolar\": [{\"marker\": {\"colorbar\": {\"outlinewidth\": 0, \"ticks\": \"\"}}, \"type\": \"scatterpolar\"}], \"scatterpolargl\": [{\"marker\": {\"colorbar\": {\"outlinewidth\": 0, \"ticks\": \"\"}}, \"type\": \"scatterpolargl\"}], \"scatterternary\": [{\"marker\": {\"colorbar\": {\"outlinewidth\": 0, \"ticks\": \"\"}}, \"type\": \"scatterternary\"}], \"surface\": [{\"colorbar\": {\"outlinewidth\": 0, \"ticks\": \"\"}, \"colorscale\": [[0.0, \"#0d0887\"], [0.1111111111111111, \"#46039f\"], [0.2222222222222222, \"#7201a8\"], [0.3333333333333333, \"#9c179e\"], [0.4444444444444444, \"#bd3786\"], [0.5555555555555556, \"#d8576b\"], [0.6666666666666666, \"#ed7953\"], [0.7777777777777778, \"#fb9f3a\"], [0.8888888888888888, \"#fdca26\"], [1.0, \"#f0f921\"]], \"type\": \"surface\"}], \"table\": [{\"cells\": {\"fill\": {\"color\": \"#EBF0F8\"}, \"line\": {\"color\": \"white\"}}, \"header\": {\"fill\": {\"color\": \"#C8D4E3\"}, \"line\": {\"color\": \"white\"}}, \"type\": \"table\"}]}, \"layout\": {\"annotationdefaults\": {\"arrowcolor\": \"#2a3f5f\", \"arrowhead\": 0, \"arrowwidth\": 1}, \"coloraxis\": {\"colorbar\": {\"outlinewidth\": 0, \"ticks\": \"\"}}, \"colorscale\": {\"diverging\": [[0, \"#8e0152\"], [0.1, \"#c51b7d\"], [0.2, \"#de77ae\"], [0.3, \"#f1b6da\"], [0.4, \"#fde0ef\"], [0.5, \"#f7f7f7\"], [0.6, \"#e6f5d0\"], [0.7, \"#b8e186\"], [0.8, \"#7fbc41\"], [0.9, \"#4d9221\"], [1, \"#276419\"]], \"sequential\": [[0.0, \"#0d0887\"], [0.1111111111111111, \"#46039f\"], [0.2222222222222222, \"#7201a8\"], [0.3333333333333333, \"#9c179e\"], [0.4444444444444444, \"#bd3786\"], [0.5555555555555556, \"#d8576b\"], [0.6666666666666666, \"#ed7953\"], [0.7777777777777778, \"#fb9f3a\"], [0.8888888888888888, \"#fdca26\"], [1.0, \"#f0f921\"]], \"sequentialminus\": [[0.0, \"#0d0887\"], [0.1111111111111111, \"#46039f\"], [0.2222222222222222, \"#7201a8\"], [0.3333333333333333, \"#9c179e\"], [0.4444444444444444, \"#bd3786\"], [0.5555555555555556, \"#d8576b\"], [0.6666666666666666, \"#ed7953\"], [0.7777777777777778, \"#fb9f3a\"], [0.8888888888888888, \"#fdca26\"], [1.0, \"#f0f921\"]]}, \"colorway\": [\"#636efa\", \"#EF553B\", \"#00cc96\", \"#ab63fa\", \"#FFA15A\", \"#19d3f3\", \"#FF6692\", \"#B6E880\", \"#FF97FF\", \"#FECB52\"], \"font\": {\"color\": \"#2a3f5f\"}, \"geo\": {\"bgcolor\": \"white\", \"lakecolor\": \"white\", \"landcolor\": \"#E5ECF6\", \"showlakes\": true, \"showland\": true, \"subunitcolor\": \"white\"}, \"hoverlabel\": {\"align\": \"left\"}, \"hovermode\": \"closest\", \"mapbox\": {\"style\": \"light\"}, \"paper_bgcolor\": \"white\", \"plot_bgcolor\": \"#E5ECF6\", \"polar\": {\"angularaxis\": {\"gridcolor\": \"white\", \"linecolor\": \"white\", \"ticks\": \"\"}, \"bgcolor\": \"#E5ECF6\", \"radialaxis\": {\"gridcolor\": \"white\", \"linecolor\": \"white\", \"ticks\": \"\"}}, \"scene\": {\"xaxis\": {\"backgroundcolor\": \"#E5ECF6\", \"gridcolor\": \"white\", \"gridwidth\": 2, \"linecolor\": \"white\", \"showbackground\": true, \"ticks\": \"\", \"zerolinecolor\": \"white\"}, \"yaxis\": {\"backgroundcolor\": \"#E5ECF6\", \"gridcolor\": \"white\", \"gridwidth\": 2, \"linecolor\": \"white\", \"showbackground\": true, \"ticks\": \"\", \"zerolinecolor\": \"white\"}, \"zaxis\": {\"backgroundcolor\": \"#E5ECF6\", \"gridcolor\": \"white\", \"gridwidth\": 2, \"linecolor\": \"white\", \"showbackground\": true, \"ticks\": \"\", \"zerolinecolor\": \"white\"}}, \"shapedefaults\": {\"line\": {\"color\": \"#2a3f5f\"}}, \"ternary\": {\"aaxis\": {\"gridcolor\": \"white\", \"linecolor\": \"white\", \"ticks\": \"\"}, \"baxis\": {\"gridcolor\": \"white\", \"linecolor\": \"white\", \"ticks\": \"\"}, \"bgcolor\": \"#E5ECF6\", \"caxis\": {\"gridcolor\": \"white\", \"linecolor\": \"white\", \"ticks\": \"\"}}, \"title\": {\"x\": 0.05}, \"xaxis\": {\"automargin\": true, \"gridcolor\": \"white\", \"linecolor\": \"white\", \"ticks\": \"\", \"title\": {\"standoff\": 15}, \"zerolinecolor\": \"white\", \"zerolinewidth\": 2}, \"yaxis\": {\"automargin\": true, \"gridcolor\": \"white\", \"linecolor\": \"white\", \"ticks\": \"\", \"title\": {\"standoff\": 15}, \"zerolinecolor\": \"white\", \"zerolinewidth\": 2}}}, \"title\": {\"text\": \"Top Genres over Time-vintage\"}, \"updatemenus\": [{\"buttons\": [{\"args\": [null, {\"frame\": {\"duration\": 300, \"redraw\": true}, \"fromcurrent\": true, \"mode\": \"immediate\", \"transition\": {\"duration\": 500, \"easing\": \"linear\"}}], \"label\": \"&#9654;\", \"method\": \"animate\"}, {\"args\": [[null], {\"frame\": {\"duration\": 0, \"redraw\": true}, \"fromcurrent\": true, \"mode\": \"immediate\", \"transition\": {\"duration\": 0, \"easing\": \"linear\"}}], \"label\": \"&#9724;\", \"method\": \"animate\"}], \"direction\": \"left\", \"pad\": {\"r\": 10, \"t\": 70}, \"showactive\": false, \"type\": \"buttons\", \"x\": 0.1, \"xanchor\": \"right\", \"y\": 0, \"yanchor\": \"top\"}], \"xaxis\": {\"anchor\": \"y\", \"categoryarray\": [\"Action\", \"Adventure\", \"Fighting\", \"Misc\", \"Platform\", \"Puzzle\", \"Racing\", \"Role-Playing\", \"Shooter\", \"Simulation\", \"Sports\", \"Strategy\"], \"categoryorder\": \"array\", \"domain\": [0.0, 1.0], \"title\": {\"text\": \"Genre\"}}, \"yaxis\": {\"anchor\": \"x\", \"domain\": [0.0, 1.0], \"range\": [0, 260], \"title\": {\"text\": \"Cumulative_Games per Genre\"}}},                        {\"responsive\": true}                    ).then(function(){\n",
       "                            Plotly.addFrames('84a45f2a-0e4a-467e-b202-5e2c71e0d9ec', [{\"data\": [{\"alignmentgroup\": \"True\", \"hovertemplate\": \"Genre=%{x}<br>Year=1980<br>Cumulative_Games per Genre=%{y}<extra></extra>\", \"ids\": [\"Action\"], \"legendgroup\": \"Action\", \"marker\": {\"color\": \"#636EFA\"}, \"name\": \"Action\", \"offsetgroup\": \"Action\", \"orientation\": \"v\", \"showlegend\": true, \"textposition\": \"auto\", \"x\": [\"Action\"], \"xaxis\": \"x\", \"y\": [0.0], \"yaxis\": \"y\", \"type\": \"bar\"}, {\"alignmentgroup\": \"True\", \"hovertemplate\": \"Genre=%{x}<br>Year=1980<br>Cumulative_Games per Genre=%{y}<extra></extra>\", \"ids\": [\"Adventure\"], \"legendgroup\": \"Adventure\", \"marker\": {\"color\": \"#EF553B\"}, \"name\": \"Adventure\", \"offsetgroup\": \"Adventure\", \"orientation\": \"v\", \"showlegend\": true, \"textposition\": \"auto\", \"x\": [\"Adventure\"], \"xaxis\": \"x\", \"y\": [0.0], \"yaxis\": \"y\", \"type\": \"bar\"}, {\"alignmentgroup\": \"True\", \"hovertemplate\": \"Genre=%{x}<br>Year=1980<br>Cumulative_Games per Genre=%{y}<extra></extra>\", \"ids\": [\"Fighting\"], \"legendgroup\": \"Fighting\", \"marker\": {\"color\": \"#00CC96\"}, \"name\": \"Fighting\", \"offsetgroup\": \"Fighting\", \"orientation\": \"v\", \"showlegend\": true, \"textposition\": \"auto\", \"x\": [\"Fighting\"], \"xaxis\": \"x\", \"y\": [1.0], \"yaxis\": \"y\", \"type\": \"bar\"}, {\"alignmentgroup\": \"True\", \"hovertemplate\": \"Genre=%{x}<br>Year=1980<br>Cumulative_Games per Genre=%{y}<extra></extra>\", \"ids\": [\"Misc\"], \"legendgroup\": \"Misc\", \"marker\": {\"color\": \"#AB63FA\"}, \"name\": \"Misc\", \"offsetgroup\": \"Misc\", \"orientation\": \"v\", \"showlegend\": true, \"textposition\": \"auto\", \"x\": [\"Misc\"], \"xaxis\": \"x\", \"y\": [2.0], \"yaxis\": \"y\", \"type\": \"bar\"}, {\"alignmentgroup\": \"True\", \"hovertemplate\": \"Genre=%{x}<br>Year=1980<br>Cumulative_Games per Genre=%{y}<extra></extra>\", \"ids\": [\"Platform\"], \"legendgroup\": \"Platform\", \"marker\": {\"color\": \"#ff8001\"}, \"name\": \"Platform\", \"offsetgroup\": \"Platform\", \"orientation\": \"v\", \"showlegend\": true, \"textposition\": \"auto\", \"x\": [\"Platform\"], \"xaxis\": \"x\", \"y\": [0.0], \"yaxis\": \"y\", \"type\": \"bar\"}, {\"alignmentgroup\": \"True\", \"hovertemplate\": \"Genre=%{x}<br>Year=1980<br>Cumulative_Games per Genre=%{y}<extra></extra>\", \"ids\": [\"Puzzle\"], \"legendgroup\": \"Puzzle\", \"marker\": {\"color\": \"#00fcfe\"}, \"name\": \"Puzzle\", \"offsetgroup\": \"Puzzle\", \"orientation\": \"v\", \"showlegend\": true, \"textposition\": \"auto\", \"x\": [\"Puzzle\"], \"xaxis\": \"x\", \"y\": [0.0], \"yaxis\": \"y\", \"type\": \"bar\"}, {\"alignmentgroup\": \"True\", \"hovertemplate\": \"Genre=%{x}<br>Year=1980<br>Cumulative_Games per Genre=%{y}<extra></extra>\", \"ids\": [\"Racing\"], \"legendgroup\": \"Racing\", \"marker\": {\"color\": \"#FE00FA\"}, \"name\": \"Racing\", \"offsetgroup\": \"Racing\", \"orientation\": \"v\", \"showlegend\": true, \"textposition\": \"auto\", \"x\": [\"Racing\"], \"xaxis\": \"x\", \"y\": [0.0], \"yaxis\": \"y\", \"type\": \"bar\"}, {\"alignmentgroup\": \"True\", \"hovertemplate\": \"Genre=%{x}<br>Year=1980<br>Cumulative_Games per Genre=%{y}<extra></extra>\", \"ids\": [\"Role-Playing\"], \"legendgroup\": \"Role-Playing\", \"marker\": {\"color\": \"#16FF32\"}, \"name\": \"Role-Playing\", \"offsetgroup\": \"Role-Playing\", \"orientation\": \"v\", \"showlegend\": true, \"textposition\": \"auto\", \"x\": [\"Role-Playing\"], \"xaxis\": \"x\", \"y\": [0.0], \"yaxis\": \"y\", \"type\": \"bar\"}, {\"alignmentgroup\": \"True\", \"hovertemplate\": \"Genre=%{x}<br>Year=1980<br>Cumulative_Games per Genre=%{y}<extra></extra>\", \"ids\": [\"Shooter\"], \"legendgroup\": \"Shooter\", \"marker\": {\"color\": \"#FF97FF\"}, \"name\": \"Shooter\", \"offsetgroup\": \"Shooter\", \"orientation\": \"v\", \"showlegend\": true, \"textposition\": \"auto\", \"x\": [\"Shooter\"], \"xaxis\": \"x\", \"y\": [1.0], \"yaxis\": \"y\", \"type\": \"bar\"}, {\"alignmentgroup\": \"True\", \"hovertemplate\": \"Genre=%{x}<br>Year=1980<br>Cumulative_Games per Genre=%{y}<extra></extra>\", \"ids\": [\"Simulation\"], \"legendgroup\": \"Simulation\", \"marker\": {\"color\": \"#FFFF00\"}, \"name\": \"Simulation\", \"offsetgroup\": \"Simulation\", \"orientation\": \"v\", \"showlegend\": true, \"textposition\": \"auto\", \"x\": [\"Simulation\"], \"xaxis\": \"x\", \"y\": [0.0], \"yaxis\": \"y\", \"type\": \"bar\"}, {\"alignmentgroup\": \"True\", \"hovertemplate\": \"Genre=%{x}<br>Year=1980<br>Cumulative_Games per Genre=%{y}<extra></extra>\", \"ids\": [\"Sports\"], \"legendgroup\": \"Sports\", \"marker\": {\"color\": \"#2dc997\"}, \"name\": \"Sports\", \"offsetgroup\": \"Sports\", \"orientation\": \"v\", \"showlegend\": true, \"textposition\": \"auto\", \"x\": [\"Sports\"], \"xaxis\": \"x\", \"y\": [1.0], \"yaxis\": \"y\", \"type\": \"bar\"}, {\"alignmentgroup\": \"True\", \"hovertemplate\": \"Genre=%{x}<br>Year=1980<br>Cumulative_Games per Genre=%{y}<extra></extra>\", \"ids\": [\"Strategy\"], \"legendgroup\": \"Strategy\", \"marker\": {\"color\": \"#B10DA1\"}, \"name\": \"Strategy\", \"offsetgroup\": \"Strategy\", \"orientation\": \"v\", \"showlegend\": true, \"textposition\": \"auto\", \"x\": [\"Strategy\"], \"xaxis\": \"x\", \"y\": [0.0], \"yaxis\": \"y\", \"type\": \"bar\"}], \"name\": \"1980\"}, {\"data\": [{\"alignmentgroup\": \"True\", \"hovertemplate\": \"Genre=%{x}<br>Year=1981<br>Cumulative_Games per Genre=%{y}<extra></extra>\", \"ids\": [\"Action\"], \"legendgroup\": \"Action\", \"marker\": {\"color\": \"#636EFA\"}, \"name\": \"Action\", \"offsetgroup\": \"Action\", \"orientation\": \"v\", \"showlegend\": true, \"textposition\": \"auto\", \"x\": [\"Action\"], \"xaxis\": \"x\", \"y\": [20.0], \"yaxis\": \"y\", \"type\": \"bar\"}, {\"alignmentgroup\": \"True\", \"hovertemplate\": \"Genre=%{x}<br>Year=1981<br>Cumulative_Games per Genre=%{y}<extra></extra>\", \"ids\": [\"Adventure\"], \"legendgroup\": \"Adventure\", \"marker\": {\"color\": \"#EF553B\"}, \"name\": \"Adventure\", \"offsetgroup\": \"Adventure\", \"orientation\": \"v\", \"showlegend\": true, \"textposition\": \"auto\", \"x\": [\"Adventure\"], \"xaxis\": \"x\", \"y\": [0.0], \"yaxis\": \"y\", \"type\": \"bar\"}, {\"alignmentgroup\": \"True\", \"hovertemplate\": \"Genre=%{x}<br>Year=1981<br>Cumulative_Games per Genre=%{y}<extra></extra>\", \"ids\": [\"Fighting\"], \"legendgroup\": \"Fighting\", \"marker\": {\"color\": \"#00CC96\"}, \"name\": \"Fighting\", \"offsetgroup\": \"Fighting\", \"orientation\": \"v\", \"showlegend\": true, \"textposition\": \"auto\", \"x\": [\"Fighting\"], \"xaxis\": \"x\", \"y\": [1.0], \"yaxis\": \"y\", \"type\": \"bar\"}, {\"alignmentgroup\": \"True\", \"hovertemplate\": \"Genre=%{x}<br>Year=1981<br>Cumulative_Games per Genre=%{y}<extra></extra>\", \"ids\": [\"Misc\"], \"legendgroup\": \"Misc\", \"marker\": {\"color\": \"#AB63FA\"}, \"name\": \"Misc\", \"offsetgroup\": \"Misc\", \"orientation\": \"v\", \"showlegend\": true, \"textposition\": \"auto\", \"x\": [\"Misc\"], \"xaxis\": \"x\", \"y\": [2.0], \"yaxis\": \"y\", \"type\": \"bar\"}, {\"alignmentgroup\": \"True\", \"hovertemplate\": \"Genre=%{x}<br>Year=1981<br>Cumulative_Games per Genre=%{y}<extra></extra>\", \"ids\": [\"Platform\"], \"legendgroup\": \"Platform\", \"marker\": {\"color\": \"#ff8001\"}, \"name\": \"Platform\", \"offsetgroup\": \"Platform\", \"orientation\": \"v\", \"showlegend\": true, \"textposition\": \"auto\", \"x\": [\"Platform\"], \"xaxis\": \"x\", \"y\": [1.0], \"yaxis\": \"y\", \"type\": \"bar\"}, {\"alignmentgroup\": \"True\", \"hovertemplate\": \"Genre=%{x}<br>Year=1981<br>Cumulative_Games per Genre=%{y}<extra></extra>\", \"ids\": [\"Puzzle\"], \"legendgroup\": \"Puzzle\", \"marker\": {\"color\": \"#00fcfe\"}, \"name\": \"Puzzle\", \"offsetgroup\": \"Puzzle\", \"orientation\": \"v\", \"showlegend\": true, \"textposition\": \"auto\", \"x\": [\"Puzzle\"], \"xaxis\": \"x\", \"y\": [2.0], \"yaxis\": \"y\", \"type\": \"bar\"}, {\"alignmentgroup\": \"True\", \"hovertemplate\": \"Genre=%{x}<br>Year=1981<br>Cumulative_Games per Genre=%{y}<extra></extra>\", \"ids\": [\"Racing\"], \"legendgroup\": \"Racing\", \"marker\": {\"color\": \"#FE00FA\"}, \"name\": \"Racing\", \"offsetgroup\": \"Racing\", \"orientation\": \"v\", \"showlegend\": true, \"textposition\": \"auto\", \"x\": [\"Racing\"], \"xaxis\": \"x\", \"y\": [1.0], \"yaxis\": \"y\", \"type\": \"bar\"}, {\"alignmentgroup\": \"True\", \"hovertemplate\": \"Genre=%{x}<br>Year=1981<br>Cumulative_Games per Genre=%{y}<extra></extra>\", \"ids\": [\"Role-Playing\"], \"legendgroup\": \"Role-Playing\", \"marker\": {\"color\": \"#16FF32\"}, \"name\": \"Role-Playing\", \"offsetgroup\": \"Role-Playing\", \"orientation\": \"v\", \"showlegend\": true, \"textposition\": \"auto\", \"x\": [\"Role-Playing\"], \"xaxis\": \"x\", \"y\": [0.0], \"yaxis\": \"y\", \"type\": \"bar\"}, {\"alignmentgroup\": \"True\", \"hovertemplate\": \"Genre=%{x}<br>Year=1981<br>Cumulative_Games per Genre=%{y}<extra></extra>\", \"ids\": [\"Shooter\"], \"legendgroup\": \"Shooter\", \"marker\": {\"color\": \"#FF97FF\"}, \"name\": \"Shooter\", \"offsetgroup\": \"Shooter\", \"orientation\": \"v\", \"showlegend\": true, \"textposition\": \"auto\", \"x\": [\"Shooter\"], \"xaxis\": \"x\", \"y\": [9.0], \"yaxis\": \"y\", \"type\": \"bar\"}, {\"alignmentgroup\": \"True\", \"hovertemplate\": \"Genre=%{x}<br>Year=1981<br>Cumulative_Games per Genre=%{y}<extra></extra>\", \"ids\": [\"Simulation\"], \"legendgroup\": \"Simulation\", \"marker\": {\"color\": \"#FFFF00\"}, \"name\": \"Simulation\", \"offsetgroup\": \"Simulation\", \"orientation\": \"v\", \"showlegend\": true, \"textposition\": \"auto\", \"x\": [\"Simulation\"], \"xaxis\": \"x\", \"y\": [1.0], \"yaxis\": \"y\", \"type\": \"bar\"}, {\"alignmentgroup\": \"True\", \"hovertemplate\": \"Genre=%{x}<br>Year=1981<br>Cumulative_Games per Genre=%{y}<extra></extra>\", \"ids\": [\"Sports\"], \"legendgroup\": \"Sports\", \"marker\": {\"color\": \"#2dc997\"}, \"name\": \"Sports\", \"offsetgroup\": \"Sports\", \"orientation\": \"v\", \"showlegend\": true, \"textposition\": \"auto\", \"x\": [\"Sports\"], \"xaxis\": \"x\", \"y\": [4.0], \"yaxis\": \"y\", \"type\": \"bar\"}, {\"alignmentgroup\": \"True\", \"hovertemplate\": \"Genre=%{x}<br>Year=1981<br>Cumulative_Games per Genre=%{y}<extra></extra>\", \"ids\": [\"Strategy\"], \"legendgroup\": \"Strategy\", \"marker\": {\"color\": \"#B10DA1\"}, \"name\": \"Strategy\", \"offsetgroup\": \"Strategy\", \"orientation\": \"v\", \"showlegend\": true, \"textposition\": \"auto\", \"x\": [\"Strategy\"], \"xaxis\": \"x\", \"y\": [0.0], \"yaxis\": \"y\", \"type\": \"bar\"}], \"name\": \"1981\"}, {\"data\": [{\"alignmentgroup\": \"True\", \"hovertemplate\": \"Genre=%{x}<br>Year=1982<br>Cumulative_Games per Genre=%{y}<extra></extra>\", \"ids\": [\"Action\"], \"legendgroup\": \"Action\", \"marker\": {\"color\": \"#636EFA\"}, \"name\": \"Action\", \"offsetgroup\": \"Action\", \"orientation\": \"v\", \"showlegend\": true, \"textposition\": \"auto\", \"x\": [\"Action\"], \"xaxis\": \"x\", \"y\": [30.0], \"yaxis\": \"y\", \"type\": \"bar\"}, {\"alignmentgroup\": \"True\", \"hovertemplate\": \"Genre=%{x}<br>Year=1982<br>Cumulative_Games per Genre=%{y}<extra></extra>\", \"ids\": [\"Adventure\"], \"legendgroup\": \"Adventure\", \"marker\": {\"color\": \"#EF553B\"}, \"name\": \"Adventure\", \"offsetgroup\": \"Adventure\", \"orientation\": \"v\", \"showlegend\": true, \"textposition\": \"auto\", \"x\": [\"Adventure\"], \"xaxis\": \"x\", \"y\": [0.0], \"yaxis\": \"y\", \"type\": \"bar\"}, {\"alignmentgroup\": \"True\", \"hovertemplate\": \"Genre=%{x}<br>Year=1982<br>Cumulative_Games per Genre=%{y}<extra></extra>\", \"ids\": [\"Fighting\"], \"legendgroup\": \"Fighting\", \"marker\": {\"color\": \"#00CC96\"}, \"name\": \"Fighting\", \"offsetgroup\": \"Fighting\", \"orientation\": \"v\", \"showlegend\": true, \"textposition\": \"auto\", \"x\": [\"Fighting\"], \"xaxis\": \"x\", \"y\": [1.0], \"yaxis\": \"y\", \"type\": \"bar\"}, {\"alignmentgroup\": \"True\", \"hovertemplate\": \"Genre=%{x}<br>Year=1982<br>Cumulative_Games per Genre=%{y}<extra></extra>\", \"ids\": [\"Misc\"], \"legendgroup\": \"Misc\", \"marker\": {\"color\": \"#AB63FA\"}, \"name\": \"Misc\", \"offsetgroup\": \"Misc\", \"orientation\": \"v\", \"showlegend\": true, \"textposition\": \"auto\", \"x\": [\"Misc\"], \"xaxis\": \"x\", \"y\": [3.0], \"yaxis\": \"y\", \"type\": \"bar\"}, {\"alignmentgroup\": \"True\", \"hovertemplate\": \"Genre=%{x}<br>Year=1982<br>Cumulative_Games per Genre=%{y}<extra></extra>\", \"ids\": [\"Platform\"], \"legendgroup\": \"Platform\", \"marker\": {\"color\": \"#ff8001\"}, \"name\": \"Platform\", \"offsetgroup\": \"Platform\", \"orientation\": \"v\", \"showlegend\": true, \"textposition\": \"auto\", \"x\": [\"Platform\"], \"xaxis\": \"x\", \"y\": [6.0], \"yaxis\": \"y\", \"type\": \"bar\"}, {\"alignmentgroup\": \"True\", \"hovertemplate\": \"Genre=%{x}<br>Year=1982<br>Cumulative_Games per Genre=%{y}<extra></extra>\", \"ids\": [\"Puzzle\"], \"legendgroup\": \"Puzzle\", \"marker\": {\"color\": \"#00fcfe\"}, \"name\": \"Puzzle\", \"offsetgroup\": \"Puzzle\", \"orientation\": \"v\", \"showlegend\": true, \"textposition\": \"auto\", \"x\": [\"Puzzle\"], \"xaxis\": \"x\", \"y\": [4.0], \"yaxis\": \"y\", \"type\": \"bar\"}, {\"alignmentgroup\": \"True\", \"hovertemplate\": \"Genre=%{x}<br>Year=1982<br>Cumulative_Games per Genre=%{y}<extra></extra>\", \"ids\": [\"Racing\"], \"legendgroup\": \"Racing\", \"marker\": {\"color\": \"#FE00FA\"}, \"name\": \"Racing\", \"offsetgroup\": \"Racing\", \"orientation\": \"v\", \"showlegend\": true, \"textposition\": \"auto\", \"x\": [\"Racing\"], \"xaxis\": \"x\", \"y\": [3.0], \"yaxis\": \"y\", \"type\": \"bar\"}, {\"alignmentgroup\": \"True\", \"hovertemplate\": \"Genre=%{x}<br>Year=1982<br>Cumulative_Games per Genre=%{y}<extra></extra>\", \"ids\": [\"Role-Playing\"], \"legendgroup\": \"Role-Playing\", \"marker\": {\"color\": \"#16FF32\"}, \"name\": \"Role-Playing\", \"offsetgroup\": \"Role-Playing\", \"orientation\": \"v\", \"showlegend\": true, \"textposition\": \"auto\", \"x\": [\"Role-Playing\"], \"xaxis\": \"x\", \"y\": [0.0], \"yaxis\": \"y\", \"type\": \"bar\"}, {\"alignmentgroup\": \"True\", \"hovertemplate\": \"Genre=%{x}<br>Year=1982<br>Cumulative_Games per Genre=%{y}<extra></extra>\", \"ids\": [\"Shooter\"], \"legendgroup\": \"Shooter\", \"marker\": {\"color\": \"#FF97FF\"}, \"name\": \"Shooter\", \"offsetgroup\": \"Shooter\", \"orientation\": \"v\", \"showlegend\": true, \"textposition\": \"auto\", \"x\": [\"Shooter\"], \"xaxis\": \"x\", \"y\": [13.0], \"yaxis\": \"y\", \"type\": \"bar\"}, {\"alignmentgroup\": \"True\", \"hovertemplate\": \"Genre=%{x}<br>Year=1982<br>Cumulative_Games per Genre=%{y}<extra></extra>\", \"ids\": [\"Simulation\"], \"legendgroup\": \"Simulation\", \"marker\": {\"color\": \"#FFFF00\"}, \"name\": \"Simulation\", \"offsetgroup\": \"Simulation\", \"orientation\": \"v\", \"showlegend\": true, \"textposition\": \"auto\", \"x\": [\"Simulation\"], \"xaxis\": \"x\", \"y\": [1.0], \"yaxis\": \"y\", \"type\": \"bar\"}, {\"alignmentgroup\": \"True\", \"hovertemplate\": \"Genre=%{x}<br>Year=1982<br>Cumulative_Games per Genre=%{y}<extra></extra>\", \"ids\": [\"Sports\"], \"legendgroup\": \"Sports\", \"marker\": {\"color\": \"#2dc997\"}, \"name\": \"Sports\", \"offsetgroup\": \"Sports\", \"orientation\": \"v\", \"showlegend\": true, \"textposition\": \"auto\", \"x\": [\"Sports\"], \"xaxis\": \"x\", \"y\": [6.0], \"yaxis\": \"y\", \"type\": \"bar\"}, {\"alignmentgroup\": \"True\", \"hovertemplate\": \"Genre=%{x}<br>Year=1982<br>Cumulative_Games per Genre=%{y}<extra></extra>\", \"ids\": [\"Strategy\"], \"legendgroup\": \"Strategy\", \"marker\": {\"color\": \"#B10DA1\"}, \"name\": \"Strategy\", \"offsetgroup\": \"Strategy\", \"orientation\": \"v\", \"showlegend\": true, \"textposition\": \"auto\", \"x\": [\"Strategy\"], \"xaxis\": \"x\", \"y\": [0.0], \"yaxis\": \"y\", \"type\": \"bar\"}], \"name\": \"1982\"}, {\"data\": [{\"alignmentgroup\": \"True\", \"hovertemplate\": \"Genre=%{x}<br>Year=1983<br>Cumulative_Games per Genre=%{y}<extra></extra>\", \"ids\": [\"Action\"], \"legendgroup\": \"Action\", \"marker\": {\"color\": \"#636EFA\"}, \"name\": \"Action\", \"offsetgroup\": \"Action\", \"orientation\": \"v\", \"showlegend\": true, \"textposition\": \"auto\", \"x\": [\"Action\"], \"xaxis\": \"x\", \"y\": [35.0], \"yaxis\": \"y\", \"type\": \"bar\"}, {\"alignmentgroup\": \"True\", \"hovertemplate\": \"Genre=%{x}<br>Year=1983<br>Cumulative_Games per Genre=%{y}<extra></extra>\", \"ids\": [\"Adventure\"], \"legendgroup\": \"Adventure\", \"marker\": {\"color\": \"#EF553B\"}, \"name\": \"Adventure\", \"offsetgroup\": \"Adventure\", \"orientation\": \"v\", \"showlegend\": true, \"textposition\": \"auto\", \"x\": [\"Adventure\"], \"xaxis\": \"x\", \"y\": [0.0], \"yaxis\": \"y\", \"type\": \"bar\"}, {\"alignmentgroup\": \"True\", \"hovertemplate\": \"Genre=%{x}<br>Year=1983<br>Cumulative_Games per Genre=%{y}<extra></extra>\", \"ids\": [\"Fighting\"], \"legendgroup\": \"Fighting\", \"marker\": {\"color\": \"#00CC96\"}, \"name\": \"Fighting\", \"offsetgroup\": \"Fighting\", \"orientation\": \"v\", \"showlegend\": true, \"textposition\": \"auto\", \"x\": [\"Fighting\"], \"xaxis\": \"x\", \"y\": [1.0], \"yaxis\": \"y\", \"type\": \"bar\"}, {\"alignmentgroup\": \"True\", \"hovertemplate\": \"Genre=%{x}<br>Year=1983<br>Cumulative_Games per Genre=%{y}<extra></extra>\", \"ids\": [\"Misc\"], \"legendgroup\": \"Misc\", \"marker\": {\"color\": \"#AB63FA\"}, \"name\": \"Misc\", \"offsetgroup\": \"Misc\", \"orientation\": \"v\", \"showlegend\": true, \"textposition\": \"auto\", \"x\": [\"Misc\"], \"xaxis\": \"x\", \"y\": [3.0], \"yaxis\": \"y\", \"type\": \"bar\"}, {\"alignmentgroup\": \"True\", \"hovertemplate\": \"Genre=%{x}<br>Year=1983<br>Cumulative_Games per Genre=%{y}<extra></extra>\", \"ids\": [\"Platform\"], \"legendgroup\": \"Platform\", \"marker\": {\"color\": \"#ff8001\"}, \"name\": \"Platform\", \"offsetgroup\": \"Platform\", \"orientation\": \"v\", \"showlegend\": true, \"textposition\": \"auto\", \"x\": [\"Platform\"], \"xaxis\": \"x\", \"y\": [8.0], \"yaxis\": \"y\", \"type\": \"bar\"}, {\"alignmentgroup\": \"True\", \"hovertemplate\": \"Genre=%{x}<br>Year=1983<br>Cumulative_Games per Genre=%{y}<extra></extra>\", \"ids\": [\"Puzzle\"], \"legendgroup\": \"Puzzle\", \"marker\": {\"color\": \"#00fcfe\"}, \"name\": \"Puzzle\", \"offsetgroup\": \"Puzzle\", \"orientation\": \"v\", \"showlegend\": true, \"textposition\": \"auto\", \"x\": [\"Puzzle\"], \"xaxis\": \"x\", \"y\": [5.0], \"yaxis\": \"y\", \"type\": \"bar\"}, {\"alignmentgroup\": \"True\", \"hovertemplate\": \"Genre=%{x}<br>Year=1983<br>Cumulative_Games per Genre=%{y}<extra></extra>\", \"ids\": [\"Racing\"], \"legendgroup\": \"Racing\", \"marker\": {\"color\": \"#FE00FA\"}, \"name\": \"Racing\", \"offsetgroup\": \"Racing\", \"orientation\": \"v\", \"showlegend\": true, \"textposition\": \"auto\", \"x\": [\"Racing\"], \"xaxis\": \"x\", \"y\": [3.0], \"yaxis\": \"y\", \"type\": \"bar\"}, {\"alignmentgroup\": \"True\", \"hovertemplate\": \"Genre=%{x}<br>Year=1983<br>Cumulative_Games per Genre=%{y}<extra></extra>\", \"ids\": [\"Role-Playing\"], \"legendgroup\": \"Role-Playing\", \"marker\": {\"color\": \"#16FF32\"}, \"name\": \"Role-Playing\", \"offsetgroup\": \"Role-Playing\", \"orientation\": \"v\", \"showlegend\": true, \"textposition\": \"auto\", \"x\": [\"Role-Playing\"], \"xaxis\": \"x\", \"y\": [0.0], \"yaxis\": \"y\", \"type\": \"bar\"}, {\"alignmentgroup\": \"True\", \"hovertemplate\": \"Genre=%{x}<br>Year=1983<br>Cumulative_Games per Genre=%{y}<extra></extra>\", \"ids\": [\"Shooter\"], \"legendgroup\": \"Shooter\", \"marker\": {\"color\": \"#FF97FF\"}, \"name\": \"Shooter\", \"offsetgroup\": \"Shooter\", \"orientation\": \"v\", \"showlegend\": true, \"textposition\": \"auto\", \"x\": [\"Shooter\"], \"xaxis\": \"x\", \"y\": [14.0], \"yaxis\": \"y\", \"type\": \"bar\"}, {\"alignmentgroup\": \"True\", \"hovertemplate\": \"Genre=%{x}<br>Year=1983<br>Cumulative_Games per Genre=%{y}<extra></extra>\", \"ids\": [\"Simulation\"], \"legendgroup\": \"Simulation\", \"marker\": {\"color\": \"#FFFF00\"}, \"name\": \"Simulation\", \"offsetgroup\": \"Simulation\", \"orientation\": \"v\", \"showlegend\": true, \"textposition\": \"auto\", \"x\": [\"Simulation\"], \"xaxis\": \"x\", \"y\": [1.0], \"yaxis\": \"y\", \"type\": \"bar\"}, {\"alignmentgroup\": \"True\", \"hovertemplate\": \"Genre=%{x}<br>Year=1983<br>Cumulative_Games per Genre=%{y}<extra></extra>\", \"ids\": [\"Sports\"], \"legendgroup\": \"Sports\", \"marker\": {\"color\": \"#2dc997\"}, \"name\": \"Sports\", \"offsetgroup\": \"Sports\", \"orientation\": \"v\", \"showlegend\": true, \"textposition\": \"auto\", \"x\": [\"Sports\"], \"xaxis\": \"x\", \"y\": [7.0], \"yaxis\": \"y\", \"type\": \"bar\"}, {\"alignmentgroup\": \"True\", \"hovertemplate\": \"Genre=%{x}<br>Year=1983<br>Cumulative_Games per Genre=%{y}<extra></extra>\", \"ids\": [\"Strategy\"], \"legendgroup\": \"Strategy\", \"marker\": {\"color\": \"#B10DA1\"}, \"name\": \"Strategy\", \"offsetgroup\": \"Strategy\", \"orientation\": \"v\", \"showlegend\": true, \"textposition\": \"auto\", \"x\": [\"Strategy\"], \"xaxis\": \"x\", \"y\": [0.0], \"yaxis\": \"y\", \"type\": \"bar\"}], \"name\": \"1983\"}, {\"data\": [{\"alignmentgroup\": \"True\", \"hovertemplate\": \"Genre=%{x}<br>Year=1984<br>Cumulative_Games per Genre=%{y}<extra></extra>\", \"ids\": [\"Action\"], \"legendgroup\": \"Action\", \"marker\": {\"color\": \"#636EFA\"}, \"name\": \"Action\", \"offsetgroup\": \"Action\", \"orientation\": \"v\", \"showlegend\": true, \"textposition\": \"auto\", \"x\": [\"Action\"], \"xaxis\": \"x\", \"y\": [36.0], \"yaxis\": \"y\", \"type\": \"bar\"}, {\"alignmentgroup\": \"True\", \"hovertemplate\": \"Genre=%{x}<br>Year=1984<br>Cumulative_Games per Genre=%{y}<extra></extra>\", \"ids\": [\"Adventure\"], \"legendgroup\": \"Adventure\", \"marker\": {\"color\": \"#EF553B\"}, \"name\": \"Adventure\", \"offsetgroup\": \"Adventure\", \"orientation\": \"v\", \"showlegend\": true, \"textposition\": \"auto\", \"x\": [\"Adventure\"], \"xaxis\": \"x\", \"y\": [0.0], \"yaxis\": \"y\", \"type\": \"bar\"}, {\"alignmentgroup\": \"True\", \"hovertemplate\": \"Genre=%{x}<br>Year=1984<br>Cumulative_Games per Genre=%{y}<extra></extra>\", \"ids\": [\"Fighting\"], \"legendgroup\": \"Fighting\", \"marker\": {\"color\": \"#00CC96\"}, \"name\": \"Fighting\", \"offsetgroup\": \"Fighting\", \"orientation\": \"v\", \"showlegend\": true, \"textposition\": \"auto\", \"x\": [\"Fighting\"], \"xaxis\": \"x\", \"y\": [1.0], \"yaxis\": \"y\", \"type\": \"bar\"}, {\"alignmentgroup\": \"True\", \"hovertemplate\": \"Genre=%{x}<br>Year=1984<br>Cumulative_Games per Genre=%{y}<extra></extra>\", \"ids\": [\"Misc\"], \"legendgroup\": \"Misc\", \"marker\": {\"color\": \"#AB63FA\"}, \"name\": \"Misc\", \"offsetgroup\": \"Misc\", \"orientation\": \"v\", \"showlegend\": true, \"textposition\": \"auto\", \"x\": [\"Misc\"], \"xaxis\": \"x\", \"y\": [3.0], \"yaxis\": \"y\", \"type\": \"bar\"}, {\"alignmentgroup\": \"True\", \"hovertemplate\": \"Genre=%{x}<br>Year=1984<br>Cumulative_Games per Genre=%{y}<extra></extra>\", \"ids\": [\"Platform\"], \"legendgroup\": \"Platform\", \"marker\": {\"color\": \"#ff8001\"}, \"name\": \"Platform\", \"offsetgroup\": \"Platform\", \"orientation\": \"v\", \"showlegend\": true, \"textposition\": \"auto\", \"x\": [\"Platform\"], \"xaxis\": \"x\", \"y\": [8.0], \"yaxis\": \"y\", \"type\": \"bar\"}, {\"alignmentgroup\": \"True\", \"hovertemplate\": \"Genre=%{x}<br>Year=1984<br>Cumulative_Games per Genre=%{y}<extra></extra>\", \"ids\": [\"Puzzle\"], \"legendgroup\": \"Puzzle\", \"marker\": {\"color\": \"#00fcfe\"}, \"name\": \"Puzzle\", \"offsetgroup\": \"Puzzle\", \"orientation\": \"v\", \"showlegend\": true, \"textposition\": \"auto\", \"x\": [\"Puzzle\"], \"xaxis\": \"x\", \"y\": [6.0], \"yaxis\": \"y\", \"type\": \"bar\"}, {\"alignmentgroup\": \"True\", \"hovertemplate\": \"Genre=%{x}<br>Year=1984<br>Cumulative_Games per Genre=%{y}<extra></extra>\", \"ids\": [\"Racing\"], \"legendgroup\": \"Racing\", \"marker\": {\"color\": \"#FE00FA\"}, \"name\": \"Racing\", \"offsetgroup\": \"Racing\", \"orientation\": \"v\", \"showlegend\": true, \"textposition\": \"auto\", \"x\": [\"Racing\"], \"xaxis\": \"x\", \"y\": [5.0], \"yaxis\": \"y\", \"type\": \"bar\"}, {\"alignmentgroup\": \"True\", \"hovertemplate\": \"Genre=%{x}<br>Year=1984<br>Cumulative_Games per Genre=%{y}<extra></extra>\", \"ids\": [\"Role-Playing\"], \"legendgroup\": \"Role-Playing\", \"marker\": {\"color\": \"#16FF32\"}, \"name\": \"Role-Playing\", \"offsetgroup\": \"Role-Playing\", \"orientation\": \"v\", \"showlegend\": true, \"textposition\": \"auto\", \"x\": [\"Role-Playing\"], \"xaxis\": \"x\", \"y\": [0.0], \"yaxis\": \"y\", \"type\": \"bar\"}, {\"alignmentgroup\": \"True\", \"hovertemplate\": \"Genre=%{x}<br>Year=1984<br>Cumulative_Games per Genre=%{y}<extra></extra>\", \"ids\": [\"Shooter\"], \"legendgroup\": \"Shooter\", \"marker\": {\"color\": \"#FF97FF\"}, \"name\": \"Shooter\", \"offsetgroup\": \"Shooter\", \"orientation\": \"v\", \"showlegend\": true, \"textposition\": \"auto\", \"x\": [\"Shooter\"], \"xaxis\": \"x\", \"y\": [16.0], \"yaxis\": \"y\", \"type\": \"bar\"}, {\"alignmentgroup\": \"True\", \"hovertemplate\": \"Genre=%{x}<br>Year=1984<br>Cumulative_Games per Genre=%{y}<extra></extra>\", \"ids\": [\"Simulation\"], \"legendgroup\": \"Simulation\", \"marker\": {\"color\": \"#FFFF00\"}, \"name\": \"Simulation\", \"offsetgroup\": \"Simulation\", \"orientation\": \"v\", \"showlegend\": true, \"textposition\": \"auto\", \"x\": [\"Simulation\"], \"xaxis\": \"x\", \"y\": [1.0], \"yaxis\": \"y\", \"type\": \"bar\"}, {\"alignmentgroup\": \"True\", \"hovertemplate\": \"Genre=%{x}<br>Year=1984<br>Cumulative_Games per Genre=%{y}<extra></extra>\", \"ids\": [\"Sports\"], \"legendgroup\": \"Sports\", \"marker\": {\"color\": \"#2dc997\"}, \"name\": \"Sports\", \"offsetgroup\": \"Sports\", \"orientation\": \"v\", \"showlegend\": true, \"textposition\": \"auto\", \"x\": [\"Sports\"], \"xaxis\": \"x\", \"y\": [9.0], \"yaxis\": \"y\", \"type\": \"bar\"}, {\"alignmentgroup\": \"True\", \"hovertemplate\": \"Genre=%{x}<br>Year=1984<br>Cumulative_Games per Genre=%{y}<extra></extra>\", \"ids\": [\"Strategy\"], \"legendgroup\": \"Strategy\", \"marker\": {\"color\": \"#B10DA1\"}, \"name\": \"Strategy\", \"offsetgroup\": \"Strategy\", \"orientation\": \"v\", \"showlegend\": true, \"textposition\": \"auto\", \"x\": [\"Strategy\"], \"xaxis\": \"x\", \"y\": [0.0], \"yaxis\": \"y\", \"type\": \"bar\"}], \"name\": \"1984\"}, {\"data\": [{\"alignmentgroup\": \"True\", \"hovertemplate\": \"Genre=%{x}<br>Year=1985<br>Cumulative_Games per Genre=%{y}<extra></extra>\", \"ids\": [\"Action\"], \"legendgroup\": \"Action\", \"marker\": {\"color\": \"#636EFA\"}, \"name\": \"Action\", \"offsetgroup\": \"Action\", \"orientation\": \"v\", \"showlegend\": true, \"textposition\": \"auto\", \"x\": [\"Action\"], \"xaxis\": \"x\", \"y\": [37.0], \"yaxis\": \"y\", \"type\": \"bar\"}, {\"alignmentgroup\": \"True\", \"hovertemplate\": \"Genre=%{x}<br>Year=1985<br>Cumulative_Games per Genre=%{y}<extra></extra>\", \"ids\": [\"Adventure\"], \"legendgroup\": \"Adventure\", \"marker\": {\"color\": \"#EF553B\"}, \"name\": \"Adventure\", \"offsetgroup\": \"Adventure\", \"orientation\": \"v\", \"showlegend\": true, \"textposition\": \"auto\", \"x\": [\"Adventure\"], \"xaxis\": \"x\", \"y\": [0.0], \"yaxis\": \"y\", \"type\": \"bar\"}, {\"alignmentgroup\": \"True\", \"hovertemplate\": \"Genre=%{x}<br>Year=1985<br>Cumulative_Games per Genre=%{y}<extra></extra>\", \"ids\": [\"Fighting\"], \"legendgroup\": \"Fighting\", \"marker\": {\"color\": \"#00CC96\"}, \"name\": \"Fighting\", \"offsetgroup\": \"Fighting\", \"orientation\": \"v\", \"showlegend\": true, \"textposition\": \"auto\", \"x\": [\"Fighting\"], \"xaxis\": \"x\", \"y\": [1.0], \"yaxis\": \"y\", \"type\": \"bar\"}, {\"alignmentgroup\": \"True\", \"hovertemplate\": \"Genre=%{x}<br>Year=1985<br>Cumulative_Games per Genre=%{y}<extra></extra>\", \"ids\": [\"Misc\"], \"legendgroup\": \"Misc\", \"marker\": {\"color\": \"#AB63FA\"}, \"name\": \"Misc\", \"offsetgroup\": \"Misc\", \"orientation\": \"v\", \"showlegend\": true, \"textposition\": \"auto\", \"x\": [\"Misc\"], \"xaxis\": \"x\", \"y\": [3.0], \"yaxis\": \"y\", \"type\": \"bar\"}, {\"alignmentgroup\": \"True\", \"hovertemplate\": \"Genre=%{x}<br>Year=1985<br>Cumulative_Games per Genre=%{y}<extra></extra>\", \"ids\": [\"Platform\"], \"legendgroup\": \"Platform\", \"marker\": {\"color\": \"#ff8001\"}, \"name\": \"Platform\", \"offsetgroup\": \"Platform\", \"orientation\": \"v\", \"showlegend\": true, \"textposition\": \"auto\", \"x\": [\"Platform\"], \"xaxis\": \"x\", \"y\": [12.0], \"yaxis\": \"y\", \"type\": \"bar\"}, {\"alignmentgroup\": \"True\", \"hovertemplate\": \"Genre=%{x}<br>Year=1985<br>Cumulative_Games per Genre=%{y}<extra></extra>\", \"ids\": [\"Puzzle\"], \"legendgroup\": \"Puzzle\", \"marker\": {\"color\": \"#00fcfe\"}, \"name\": \"Puzzle\", \"offsetgroup\": \"Puzzle\", \"orientation\": \"v\", \"showlegend\": true, \"textposition\": \"auto\", \"x\": [\"Puzzle\"], \"xaxis\": \"x\", \"y\": [9.0], \"yaxis\": \"y\", \"type\": \"bar\"}, {\"alignmentgroup\": \"True\", \"hovertemplate\": \"Genre=%{x}<br>Year=1985<br>Cumulative_Games per Genre=%{y}<extra></extra>\", \"ids\": [\"Racing\"], \"legendgroup\": \"Racing\", \"marker\": {\"color\": \"#FE00FA\"}, \"name\": \"Racing\", \"offsetgroup\": \"Racing\", \"orientation\": \"v\", \"showlegend\": true, \"textposition\": \"auto\", \"x\": [\"Racing\"], \"xaxis\": \"x\", \"y\": [5.0], \"yaxis\": \"y\", \"type\": \"bar\"}, {\"alignmentgroup\": \"True\", \"hovertemplate\": \"Genre=%{x}<br>Year=1985<br>Cumulative_Games per Genre=%{y}<extra></extra>\", \"ids\": [\"Role-Playing\"], \"legendgroup\": \"Role-Playing\", \"marker\": {\"color\": \"#16FF32\"}, \"name\": \"Role-Playing\", \"offsetgroup\": \"Role-Playing\", \"orientation\": \"v\", \"showlegend\": true, \"textposition\": \"auto\", \"x\": [\"Role-Playing\"], \"xaxis\": \"x\", \"y\": [0.0], \"yaxis\": \"y\", \"type\": \"bar\"}, {\"alignmentgroup\": \"True\", \"hovertemplate\": \"Genre=%{x}<br>Year=1985<br>Cumulative_Games per Genre=%{y}<extra></extra>\", \"ids\": [\"Shooter\"], \"legendgroup\": \"Shooter\", \"marker\": {\"color\": \"#FF97FF\"}, \"name\": \"Shooter\", \"offsetgroup\": \"Shooter\", \"orientation\": \"v\", \"showlegend\": true, \"textposition\": \"auto\", \"x\": [\"Shooter\"], \"xaxis\": \"x\", \"y\": [17.0], \"yaxis\": \"y\", \"type\": \"bar\"}, {\"alignmentgroup\": \"True\", \"hovertemplate\": \"Genre=%{x}<br>Year=1985<br>Cumulative_Games per Genre=%{y}<extra></extra>\", \"ids\": [\"Simulation\"], \"legendgroup\": \"Simulation\", \"marker\": {\"color\": \"#FFFF00\"}, \"name\": \"Simulation\", \"offsetgroup\": \"Simulation\", \"orientation\": \"v\", \"showlegend\": true, \"textposition\": \"auto\", \"x\": [\"Simulation\"], \"xaxis\": \"x\", \"y\": [1.0], \"yaxis\": \"y\", \"type\": \"bar\"}, {\"alignmentgroup\": \"True\", \"hovertemplate\": \"Genre=%{x}<br>Year=1985<br>Cumulative_Games per Genre=%{y}<extra></extra>\", \"ids\": [\"Sports\"], \"legendgroup\": \"Sports\", \"marker\": {\"color\": \"#2dc997\"}, \"name\": \"Sports\", \"offsetgroup\": \"Sports\", \"orientation\": \"v\", \"showlegend\": true, \"textposition\": \"auto\", \"x\": [\"Sports\"], \"xaxis\": \"x\", \"y\": [10.0], \"yaxis\": \"y\", \"type\": \"bar\"}, {\"alignmentgroup\": \"True\", \"hovertemplate\": \"Genre=%{x}<br>Year=1985<br>Cumulative_Games per Genre=%{y}<extra></extra>\", \"ids\": [\"Strategy\"], \"legendgroup\": \"Strategy\", \"marker\": {\"color\": \"#B10DA1\"}, \"name\": \"Strategy\", \"offsetgroup\": \"Strategy\", \"orientation\": \"v\", \"showlegend\": true, \"textposition\": \"auto\", \"x\": [\"Strategy\"], \"xaxis\": \"x\", \"y\": [0.0], \"yaxis\": \"y\", \"type\": \"bar\"}], \"name\": \"1985\"}, {\"data\": [{\"alignmentgroup\": \"True\", \"hovertemplate\": \"Genre=%{x}<br>Year=1986<br>Cumulative_Games per Genre=%{y}<extra></extra>\", \"ids\": [\"Action\"], \"legendgroup\": \"Action\", \"marker\": {\"color\": \"#636EFA\"}, \"name\": \"Action\", \"offsetgroup\": \"Action\", \"orientation\": \"v\", \"showlegend\": true, \"textposition\": \"auto\", \"x\": [\"Action\"], \"xaxis\": \"x\", \"y\": [40.0], \"yaxis\": \"y\", \"type\": \"bar\"}, {\"alignmentgroup\": \"True\", \"hovertemplate\": \"Genre=%{x}<br>Year=1986<br>Cumulative_Games per Genre=%{y}<extra></extra>\", \"ids\": [\"Adventure\"], \"legendgroup\": \"Adventure\", \"marker\": {\"color\": \"#EF553B\"}, \"name\": \"Adventure\", \"offsetgroup\": \"Adventure\", \"orientation\": \"v\", \"showlegend\": true, \"textposition\": \"auto\", \"x\": [\"Adventure\"], \"xaxis\": \"x\", \"y\": [0.0], \"yaxis\": \"y\", \"type\": \"bar\"}, {\"alignmentgroup\": \"True\", \"hovertemplate\": \"Genre=%{x}<br>Year=1986<br>Cumulative_Games per Genre=%{y}<extra></extra>\", \"ids\": [\"Fighting\"], \"legendgroup\": \"Fighting\", \"marker\": {\"color\": \"#00CC96\"}, \"name\": \"Fighting\", \"offsetgroup\": \"Fighting\", \"orientation\": \"v\", \"showlegend\": true, \"textposition\": \"auto\", \"x\": [\"Fighting\"], \"xaxis\": \"x\", \"y\": [1.0], \"yaxis\": \"y\", \"type\": \"bar\"}, {\"alignmentgroup\": \"True\", \"hovertemplate\": \"Genre=%{x}<br>Year=1986<br>Cumulative_Games per Genre=%{y}<extra></extra>\", \"ids\": [\"Misc\"], \"legendgroup\": \"Misc\", \"marker\": {\"color\": \"#AB63FA\"}, \"name\": \"Misc\", \"offsetgroup\": \"Misc\", \"orientation\": \"v\", \"showlegend\": true, \"textposition\": \"auto\", \"x\": [\"Misc\"], \"xaxis\": \"x\", \"y\": [3.0], \"yaxis\": \"y\", \"type\": \"bar\"}, {\"alignmentgroup\": \"True\", \"hovertemplate\": \"Genre=%{x}<br>Year=1986<br>Cumulative_Games per Genre=%{y}<extra></extra>\", \"ids\": [\"Platform\"], \"legendgroup\": \"Platform\", \"marker\": {\"color\": \"#ff8001\"}, \"name\": \"Platform\", \"offsetgroup\": \"Platform\", \"orientation\": \"v\", \"showlegend\": true, \"textposition\": \"auto\", \"x\": [\"Platform\"], \"xaxis\": \"x\", \"y\": [14.0], \"yaxis\": \"y\", \"type\": \"bar\"}, {\"alignmentgroup\": \"True\", \"hovertemplate\": \"Genre=%{x}<br>Year=1986<br>Cumulative_Games per Genre=%{y}<extra></extra>\", \"ids\": [\"Puzzle\"], \"legendgroup\": \"Puzzle\", \"marker\": {\"color\": \"#00fcfe\"}, \"name\": \"Puzzle\", \"offsetgroup\": \"Puzzle\", \"orientation\": \"v\", \"showlegend\": true, \"textposition\": \"auto\", \"x\": [\"Puzzle\"], \"xaxis\": \"x\", \"y\": [9.0], \"yaxis\": \"y\", \"type\": \"bar\"}, {\"alignmentgroup\": \"True\", \"hovertemplate\": \"Genre=%{x}<br>Year=1986<br>Cumulative_Games per Genre=%{y}<extra></extra>\", \"ids\": [\"Racing\"], \"legendgroup\": \"Racing\", \"marker\": {\"color\": \"#FE00FA\"}, \"name\": \"Racing\", \"offsetgroup\": \"Racing\", \"orientation\": \"v\", \"showlegend\": true, \"textposition\": \"auto\", \"x\": [\"Racing\"], \"xaxis\": \"x\", \"y\": [6.0], \"yaxis\": \"y\", \"type\": \"bar\"}, {\"alignmentgroup\": \"True\", \"hovertemplate\": \"Genre=%{x}<br>Year=1986<br>Cumulative_Games per Genre=%{y}<extra></extra>\", \"ids\": [\"Role-Playing\"], \"legendgroup\": \"Role-Playing\", \"marker\": {\"color\": \"#16FF32\"}, \"name\": \"Role-Playing\", \"offsetgroup\": \"Role-Playing\", \"orientation\": \"v\", \"showlegend\": true, \"textposition\": \"auto\", \"x\": [\"Role-Playing\"], \"xaxis\": \"x\", \"y\": [1.0], \"yaxis\": \"y\", \"type\": \"bar\"}, {\"alignmentgroup\": \"True\", \"hovertemplate\": \"Genre=%{x}<br>Year=1986<br>Cumulative_Games per Genre=%{y}<extra></extra>\", \"ids\": [\"Shooter\"], \"legendgroup\": \"Shooter\", \"marker\": {\"color\": \"#FF97FF\"}, \"name\": \"Shooter\", \"offsetgroup\": \"Shooter\", \"orientation\": \"v\", \"showlegend\": true, \"textposition\": \"auto\", \"x\": [\"Shooter\"], \"xaxis\": \"x\", \"y\": [20.0], \"yaxis\": \"y\", \"type\": \"bar\"}, {\"alignmentgroup\": \"True\", \"hovertemplate\": \"Genre=%{x}<br>Year=1986<br>Cumulative_Games per Genre=%{y}<extra></extra>\", \"ids\": [\"Simulation\"], \"legendgroup\": \"Simulation\", \"marker\": {\"color\": \"#FFFF00\"}, \"name\": \"Simulation\", \"offsetgroup\": \"Simulation\", \"orientation\": \"v\", \"showlegend\": true, \"textposition\": \"auto\", \"x\": [\"Simulation\"], \"xaxis\": \"x\", \"y\": [1.0], \"yaxis\": \"y\", \"type\": \"bar\"}, {\"alignmentgroup\": \"True\", \"hovertemplate\": \"Genre=%{x}<br>Year=1986<br>Cumulative_Games per Genre=%{y}<extra></extra>\", \"ids\": [\"Sports\"], \"legendgroup\": \"Sports\", \"marker\": {\"color\": \"#2dc997\"}, \"name\": \"Sports\", \"offsetgroup\": \"Sports\", \"orientation\": \"v\", \"showlegend\": true, \"textposition\": \"auto\", \"x\": [\"Sports\"], \"xaxis\": \"x\", \"y\": [12.0], \"yaxis\": \"y\", \"type\": \"bar\"}, {\"alignmentgroup\": \"True\", \"hovertemplate\": \"Genre=%{x}<br>Year=1986<br>Cumulative_Games per Genre=%{y}<extra></extra>\", \"ids\": [\"Strategy\"], \"legendgroup\": \"Strategy\", \"marker\": {\"color\": \"#B10DA1\"}, \"name\": \"Strategy\", \"offsetgroup\": \"Strategy\", \"orientation\": \"v\", \"showlegend\": true, \"textposition\": \"auto\", \"x\": [\"Strategy\"], \"xaxis\": \"x\", \"y\": [0.0], \"yaxis\": \"y\", \"type\": \"bar\"}], \"name\": \"1986\"}, {\"data\": [{\"alignmentgroup\": \"True\", \"hovertemplate\": \"Genre=%{x}<br>Year=1987<br>Cumulative_Games per Genre=%{y}<extra></extra>\", \"ids\": [\"Action\"], \"legendgroup\": \"Action\", \"marker\": {\"color\": \"#636EFA\"}, \"name\": \"Action\", \"offsetgroup\": \"Action\", \"orientation\": \"v\", \"showlegend\": true, \"textposition\": \"auto\", \"x\": [\"Action\"], \"xaxis\": \"x\", \"y\": [42.0], \"yaxis\": \"y\", \"type\": \"bar\"}, {\"alignmentgroup\": \"True\", \"hovertemplate\": \"Genre=%{x}<br>Year=1987<br>Cumulative_Games per Genre=%{y}<extra></extra>\", \"ids\": [\"Adventure\"], \"legendgroup\": \"Adventure\", \"marker\": {\"color\": \"#EF553B\"}, \"name\": \"Adventure\", \"offsetgroup\": \"Adventure\", \"orientation\": \"v\", \"showlegend\": true, \"textposition\": \"auto\", \"x\": [\"Adventure\"], \"xaxis\": \"x\", \"y\": [1.0], \"yaxis\": \"y\", \"type\": \"bar\"}, {\"alignmentgroup\": \"True\", \"hovertemplate\": \"Genre=%{x}<br>Year=1987<br>Cumulative_Games per Genre=%{y}<extra></extra>\", \"ids\": [\"Fighting\"], \"legendgroup\": \"Fighting\", \"marker\": {\"color\": \"#00CC96\"}, \"name\": \"Fighting\", \"offsetgroup\": \"Fighting\", \"orientation\": \"v\", \"showlegend\": true, \"textposition\": \"auto\", \"x\": [\"Fighting\"], \"xaxis\": \"x\", \"y\": [3.0], \"yaxis\": \"y\", \"type\": \"bar\"}, {\"alignmentgroup\": \"True\", \"hovertemplate\": \"Genre=%{x}<br>Year=1987<br>Cumulative_Games per Genre=%{y}<extra></extra>\", \"ids\": [\"Misc\"], \"legendgroup\": \"Misc\", \"marker\": {\"color\": \"#AB63FA\"}, \"name\": \"Misc\", \"offsetgroup\": \"Misc\", \"orientation\": \"v\", \"showlegend\": true, \"textposition\": \"auto\", \"x\": [\"Misc\"], \"xaxis\": \"x\", \"y\": [3.0], \"yaxis\": \"y\", \"type\": \"bar\"}, {\"alignmentgroup\": \"True\", \"hovertemplate\": \"Genre=%{x}<br>Year=1987<br>Cumulative_Games per Genre=%{y}<extra></extra>\", \"ids\": [\"Platform\"], \"legendgroup\": \"Platform\", \"marker\": {\"color\": \"#ff8001\"}, \"name\": \"Platform\", \"offsetgroup\": \"Platform\", \"orientation\": \"v\", \"showlegend\": true, \"textposition\": \"auto\", \"x\": [\"Platform\"], \"xaxis\": \"x\", \"y\": [15.0], \"yaxis\": \"y\", \"type\": \"bar\"}, {\"alignmentgroup\": \"True\", \"hovertemplate\": \"Genre=%{x}<br>Year=1987<br>Cumulative_Games per Genre=%{y}<extra></extra>\", \"ids\": [\"Puzzle\"], \"legendgroup\": \"Puzzle\", \"marker\": {\"color\": \"#00fcfe\"}, \"name\": \"Puzzle\", \"offsetgroup\": \"Puzzle\", \"orientation\": \"v\", \"showlegend\": true, \"textposition\": \"auto\", \"x\": [\"Puzzle\"], \"xaxis\": \"x\", \"y\": [9.0], \"yaxis\": \"y\", \"type\": \"bar\"}, {\"alignmentgroup\": \"True\", \"hovertemplate\": \"Genre=%{x}<br>Year=1987<br>Cumulative_Games per Genre=%{y}<extra></extra>\", \"ids\": [\"Racing\"], \"legendgroup\": \"Racing\", \"marker\": {\"color\": \"#FE00FA\"}, \"name\": \"Racing\", \"offsetgroup\": \"Racing\", \"orientation\": \"v\", \"showlegend\": true, \"textposition\": \"auto\", \"x\": [\"Racing\"], \"xaxis\": \"x\", \"y\": [6.0], \"yaxis\": \"y\", \"type\": \"bar\"}, {\"alignmentgroup\": \"True\", \"hovertemplate\": \"Genre=%{x}<br>Year=1987<br>Cumulative_Games per Genre=%{y}<extra></extra>\", \"ids\": [\"Role-Playing\"], \"legendgroup\": \"Role-Playing\", \"marker\": {\"color\": \"#16FF32\"}, \"name\": \"Role-Playing\", \"offsetgroup\": \"Role-Playing\", \"orientation\": \"v\", \"showlegend\": true, \"textposition\": \"auto\", \"x\": [\"Role-Playing\"], \"xaxis\": \"x\", \"y\": [3.0], \"yaxis\": \"y\", \"type\": \"bar\"}, {\"alignmentgroup\": \"True\", \"hovertemplate\": \"Genre=%{x}<br>Year=1987<br>Cumulative_Games per Genre=%{y}<extra></extra>\", \"ids\": [\"Shooter\"], \"legendgroup\": \"Shooter\", \"marker\": {\"color\": \"#FF97FF\"}, \"name\": \"Shooter\", \"offsetgroup\": \"Shooter\", \"orientation\": \"v\", \"showlegend\": true, \"textposition\": \"auto\", \"x\": [\"Shooter\"], \"xaxis\": \"x\", \"y\": [22.0], \"yaxis\": \"y\", \"type\": \"bar\"}, {\"alignmentgroup\": \"True\", \"hovertemplate\": \"Genre=%{x}<br>Year=1987<br>Cumulative_Games per Genre=%{y}<extra></extra>\", \"ids\": [\"Simulation\"], \"legendgroup\": \"Simulation\", \"marker\": {\"color\": \"#FFFF00\"}, \"name\": \"Simulation\", \"offsetgroup\": \"Simulation\", \"orientation\": \"v\", \"showlegend\": true, \"textposition\": \"auto\", \"x\": [\"Simulation\"], \"xaxis\": \"x\", \"y\": [1.0], \"yaxis\": \"y\", \"type\": \"bar\"}, {\"alignmentgroup\": \"True\", \"hovertemplate\": \"Genre=%{x}<br>Year=1987<br>Cumulative_Games per Genre=%{y}<extra></extra>\", \"ids\": [\"Sports\"], \"legendgroup\": \"Sports\", \"marker\": {\"color\": \"#2dc997\"}, \"name\": \"Sports\", \"offsetgroup\": \"Sports\", \"orientation\": \"v\", \"showlegend\": true, \"textposition\": \"auto\", \"x\": [\"Sports\"], \"xaxis\": \"x\", \"y\": [14.0], \"yaxis\": \"y\", \"type\": \"bar\"}, {\"alignmentgroup\": \"True\", \"hovertemplate\": \"Genre=%{x}<br>Year=1987<br>Cumulative_Games per Genre=%{y}<extra></extra>\", \"ids\": [\"Strategy\"], \"legendgroup\": \"Strategy\", \"marker\": {\"color\": \"#B10DA1\"}, \"name\": \"Strategy\", \"offsetgroup\": \"Strategy\", \"orientation\": \"v\", \"showlegend\": true, \"textposition\": \"auto\", \"x\": [\"Strategy\"], \"xaxis\": \"x\", \"y\": [0.0], \"yaxis\": \"y\", \"type\": \"bar\"}], \"name\": \"1987\"}, {\"data\": [{\"alignmentgroup\": \"True\", \"hovertemplate\": \"Genre=%{x}<br>Year=1988<br>Cumulative_Games per Genre=%{y}<extra></extra>\", \"ids\": [\"Action\"], \"legendgroup\": \"Action\", \"marker\": {\"color\": \"#636EFA\"}, \"name\": \"Action\", \"offsetgroup\": \"Action\", \"orientation\": \"v\", \"showlegend\": true, \"textposition\": \"auto\", \"x\": [\"Action\"], \"xaxis\": \"x\", \"y\": [43.0], \"yaxis\": \"y\", \"type\": \"bar\"}, {\"alignmentgroup\": \"True\", \"hovertemplate\": \"Genre=%{x}<br>Year=1988<br>Cumulative_Games per Genre=%{y}<extra></extra>\", \"ids\": [\"Adventure\"], \"legendgroup\": \"Adventure\", \"marker\": {\"color\": \"#EF553B\"}, \"name\": \"Adventure\", \"offsetgroup\": \"Adventure\", \"orientation\": \"v\", \"showlegend\": true, \"textposition\": \"auto\", \"x\": [\"Adventure\"], \"xaxis\": \"x\", \"y\": [1.0], \"yaxis\": \"y\", \"type\": \"bar\"}, {\"alignmentgroup\": \"True\", \"hovertemplate\": \"Genre=%{x}<br>Year=1988<br>Cumulative_Games per Genre=%{y}<extra></extra>\", \"ids\": [\"Fighting\"], \"legendgroup\": \"Fighting\", \"marker\": {\"color\": \"#00CC96\"}, \"name\": \"Fighting\", \"offsetgroup\": \"Fighting\", \"orientation\": \"v\", \"showlegend\": true, \"textposition\": \"auto\", \"x\": [\"Fighting\"], \"xaxis\": \"x\", \"y\": [3.0], \"yaxis\": \"y\", \"type\": \"bar\"}, {\"alignmentgroup\": \"True\", \"hovertemplate\": \"Genre=%{x}<br>Year=1988<br>Cumulative_Games per Genre=%{y}<extra></extra>\", \"ids\": [\"Misc\"], \"legendgroup\": \"Misc\", \"marker\": {\"color\": \"#AB63FA\"}, \"name\": \"Misc\", \"offsetgroup\": \"Misc\", \"orientation\": \"v\", \"showlegend\": true, \"textposition\": \"auto\", \"x\": [\"Misc\"], \"xaxis\": \"x\", \"y\": [3.0], \"yaxis\": \"y\", \"type\": \"bar\"}, {\"alignmentgroup\": \"True\", \"hovertemplate\": \"Genre=%{x}<br>Year=1988<br>Cumulative_Games per Genre=%{y}<extra></extra>\", \"ids\": [\"Platform\"], \"legendgroup\": \"Platform\", \"marker\": {\"color\": \"#ff8001\"}, \"name\": \"Platform\", \"offsetgroup\": \"Platform\", \"orientation\": \"v\", \"showlegend\": true, \"textposition\": \"auto\", \"x\": [\"Platform\"], \"xaxis\": \"x\", \"y\": [18.0], \"yaxis\": \"y\", \"type\": \"bar\"}, {\"alignmentgroup\": \"True\", \"hovertemplate\": \"Genre=%{x}<br>Year=1988<br>Cumulative_Games per Genre=%{y}<extra></extra>\", \"ids\": [\"Puzzle\"], \"legendgroup\": \"Puzzle\", \"marker\": {\"color\": \"#00fcfe\"}, \"name\": \"Puzzle\", \"offsetgroup\": \"Puzzle\", \"orientation\": \"v\", \"showlegend\": true, \"textposition\": \"auto\", \"x\": [\"Puzzle\"], \"xaxis\": \"x\", \"y\": [10.0], \"yaxis\": \"y\", \"type\": \"bar\"}, {\"alignmentgroup\": \"True\", \"hovertemplate\": \"Genre=%{x}<br>Year=1988<br>Cumulative_Games per Genre=%{y}<extra></extra>\", \"ids\": [\"Racing\"], \"legendgroup\": \"Racing\", \"marker\": {\"color\": \"#FE00FA\"}, \"name\": \"Racing\", \"offsetgroup\": \"Racing\", \"orientation\": \"v\", \"showlegend\": true, \"textposition\": \"auto\", \"x\": [\"Racing\"], \"xaxis\": \"x\", \"y\": [7.0], \"yaxis\": \"y\", \"type\": \"bar\"}, {\"alignmentgroup\": \"True\", \"hovertemplate\": \"Genre=%{x}<br>Year=1988<br>Cumulative_Games per Genre=%{y}<extra></extra>\", \"ids\": [\"Role-Playing\"], \"legendgroup\": \"Role-Playing\", \"marker\": {\"color\": \"#16FF32\"}, \"name\": \"Role-Playing\", \"offsetgroup\": \"Role-Playing\", \"orientation\": \"v\", \"showlegend\": true, \"textposition\": \"auto\", \"x\": [\"Role-Playing\"], \"xaxis\": \"x\", \"y\": [3.0], \"yaxis\": \"y\", \"type\": \"bar\"}, {\"alignmentgroup\": \"True\", \"hovertemplate\": \"Genre=%{x}<br>Year=1988<br>Cumulative_Games per Genre=%{y}<extra></extra>\", \"ids\": [\"Shooter\"], \"legendgroup\": \"Shooter\", \"marker\": {\"color\": \"#FF97FF\"}, \"name\": \"Shooter\", \"offsetgroup\": \"Shooter\", \"orientation\": \"v\", \"showlegend\": true, \"textposition\": \"auto\", \"x\": [\"Shooter\"], \"xaxis\": \"x\", \"y\": [23.0], \"yaxis\": \"y\", \"type\": \"bar\"}, {\"alignmentgroup\": \"True\", \"hovertemplate\": \"Genre=%{x}<br>Year=1988<br>Cumulative_Games per Genre=%{y}<extra></extra>\", \"ids\": [\"Simulation\"], \"legendgroup\": \"Simulation\", \"marker\": {\"color\": \"#FFFF00\"}, \"name\": \"Simulation\", \"offsetgroup\": \"Simulation\", \"orientation\": \"v\", \"showlegend\": true, \"textposition\": \"auto\", \"x\": [\"Simulation\"], \"xaxis\": \"x\", \"y\": [1.0], \"yaxis\": \"y\", \"type\": \"bar\"}, {\"alignmentgroup\": \"True\", \"hovertemplate\": \"Genre=%{x}<br>Year=1988<br>Cumulative_Games per Genre=%{y}<extra></extra>\", \"ids\": [\"Sports\"], \"legendgroup\": \"Sports\", \"marker\": {\"color\": \"#2dc997\"}, \"name\": \"Sports\", \"offsetgroup\": \"Sports\", \"orientation\": \"v\", \"showlegend\": true, \"textposition\": \"auto\", \"x\": [\"Sports\"], \"xaxis\": \"x\", \"y\": [15.0], \"yaxis\": \"y\", \"type\": \"bar\"}, {\"alignmentgroup\": \"True\", \"hovertemplate\": \"Genre=%{x}<br>Year=1988<br>Cumulative_Games per Genre=%{y}<extra></extra>\", \"ids\": [\"Strategy\"], \"legendgroup\": \"Strategy\", \"marker\": {\"color\": \"#B10DA1\"}, \"name\": \"Strategy\", \"offsetgroup\": \"Strategy\", \"orientation\": \"v\", \"showlegend\": true, \"textposition\": \"auto\", \"x\": [\"Strategy\"], \"xaxis\": \"x\", \"y\": [0.0], \"yaxis\": \"y\", \"type\": \"bar\"}], \"name\": \"1988\"}, {\"data\": [{\"alignmentgroup\": \"True\", \"hovertemplate\": \"Genre=%{x}<br>Year=1989<br>Cumulative_Games per Genre=%{y}<extra></extra>\", \"ids\": [\"Action\"], \"legendgroup\": \"Action\", \"marker\": {\"color\": \"#636EFA\"}, \"name\": \"Action\", \"offsetgroup\": \"Action\", \"orientation\": \"v\", \"showlegend\": true, \"textposition\": \"auto\", \"x\": [\"Action\"], \"xaxis\": \"x\", \"y\": [45.0], \"yaxis\": \"y\", \"type\": \"bar\"}, {\"alignmentgroup\": \"True\", \"hovertemplate\": \"Genre=%{x}<br>Year=1989<br>Cumulative_Games per Genre=%{y}<extra></extra>\", \"ids\": [\"Adventure\"], \"legendgroup\": \"Adventure\", \"marker\": {\"color\": \"#EF553B\"}, \"name\": \"Adventure\", \"offsetgroup\": \"Adventure\", \"orientation\": \"v\", \"showlegend\": true, \"textposition\": \"auto\", \"x\": [\"Adventure\"], \"xaxis\": \"x\", \"y\": [1.0], \"yaxis\": \"y\", \"type\": \"bar\"}, {\"alignmentgroup\": \"True\", \"hovertemplate\": \"Genre=%{x}<br>Year=1989<br>Cumulative_Games per Genre=%{y}<extra></extra>\", \"ids\": [\"Fighting\"], \"legendgroup\": \"Fighting\", \"marker\": {\"color\": \"#00CC96\"}, \"name\": \"Fighting\", \"offsetgroup\": \"Fighting\", \"orientation\": \"v\", \"showlegend\": true, \"textposition\": \"auto\", \"x\": [\"Fighting\"], \"xaxis\": \"x\", \"y\": [3.0], \"yaxis\": \"y\", \"type\": \"bar\"}, {\"alignmentgroup\": \"True\", \"hovertemplate\": \"Genre=%{x}<br>Year=1989<br>Cumulative_Games per Genre=%{y}<extra></extra>\", \"ids\": [\"Misc\"], \"legendgroup\": \"Misc\", \"marker\": {\"color\": \"#AB63FA\"}, \"name\": \"Misc\", \"offsetgroup\": \"Misc\", \"orientation\": \"v\", \"showlegend\": true, \"textposition\": \"auto\", \"x\": [\"Misc\"], \"xaxis\": \"x\", \"y\": [3.0], \"yaxis\": \"y\", \"type\": \"bar\"}, {\"alignmentgroup\": \"True\", \"hovertemplate\": \"Genre=%{x}<br>Year=1989<br>Cumulative_Games per Genre=%{y}<extra></extra>\", \"ids\": [\"Platform\"], \"legendgroup\": \"Platform\", \"marker\": {\"color\": \"#ff8001\"}, \"name\": \"Platform\", \"offsetgroup\": \"Platform\", \"orientation\": \"v\", \"showlegend\": true, \"textposition\": \"auto\", \"x\": [\"Platform\"], \"xaxis\": \"x\", \"y\": [18.0], \"yaxis\": \"y\", \"type\": \"bar\"}, {\"alignmentgroup\": \"True\", \"hovertemplate\": \"Genre=%{x}<br>Year=1989<br>Cumulative_Games per Genre=%{y}<extra></extra>\", \"ids\": [\"Puzzle\"], \"legendgroup\": \"Puzzle\", \"marker\": {\"color\": \"#00fcfe\"}, \"name\": \"Puzzle\", \"offsetgroup\": \"Puzzle\", \"orientation\": \"v\", \"showlegend\": true, \"textposition\": \"auto\", \"x\": [\"Puzzle\"], \"xaxis\": \"x\", \"y\": [11.0], \"yaxis\": \"y\", \"type\": \"bar\"}, {\"alignmentgroup\": \"True\", \"hovertemplate\": \"Genre=%{x}<br>Year=1989<br>Cumulative_Games per Genre=%{y}<extra></extra>\", \"ids\": [\"Racing\"], \"legendgroup\": \"Racing\", \"marker\": {\"color\": \"#FE00FA\"}, \"name\": \"Racing\", \"offsetgroup\": \"Racing\", \"orientation\": \"v\", \"showlegend\": true, \"textposition\": \"auto\", \"x\": [\"Racing\"], \"xaxis\": \"x\", \"y\": [7.0], \"yaxis\": \"y\", \"type\": \"bar\"}, {\"alignmentgroup\": \"True\", \"hovertemplate\": \"Genre=%{x}<br>Year=1989<br>Cumulative_Games per Genre=%{y}<extra></extra>\", \"ids\": [\"Role-Playing\"], \"legendgroup\": \"Role-Playing\", \"marker\": {\"color\": \"#16FF32\"}, \"name\": \"Role-Playing\", \"offsetgroup\": \"Role-Playing\", \"orientation\": \"v\", \"showlegend\": true, \"textposition\": \"auto\", \"x\": [\"Role-Playing\"], \"xaxis\": \"x\", \"y\": [3.0], \"yaxis\": \"y\", \"type\": \"bar\"}, {\"alignmentgroup\": \"True\", \"hovertemplate\": \"Genre=%{x}<br>Year=1989<br>Cumulative_Games per Genre=%{y}<extra></extra>\", \"ids\": [\"Shooter\"], \"legendgroup\": \"Shooter\", \"marker\": {\"color\": \"#FF97FF\"}, \"name\": \"Shooter\", \"offsetgroup\": \"Shooter\", \"orientation\": \"v\", \"showlegend\": true, \"textposition\": \"auto\", \"x\": [\"Shooter\"], \"xaxis\": \"x\", \"y\": [23.0], \"yaxis\": \"y\", \"type\": \"bar\"}, {\"alignmentgroup\": \"True\", \"hovertemplate\": \"Genre=%{x}<br>Year=1989<br>Cumulative_Games per Genre=%{y}<extra></extra>\", \"ids\": [\"Simulation\"], \"legendgroup\": \"Simulation\", \"marker\": {\"color\": \"#FFFF00\"}, \"name\": \"Simulation\", \"offsetgroup\": \"Simulation\", \"orientation\": \"v\", \"showlegend\": true, \"textposition\": \"auto\", \"x\": [\"Simulation\"], \"xaxis\": \"x\", \"y\": [1.0], \"yaxis\": \"y\", \"type\": \"bar\"}, {\"alignmentgroup\": \"True\", \"hovertemplate\": \"Genre=%{x}<br>Year=1989<br>Cumulative_Games per Genre=%{y}<extra></extra>\", \"ids\": [\"Sports\"], \"legendgroup\": \"Sports\", \"marker\": {\"color\": \"#2dc997\"}, \"name\": \"Sports\", \"offsetgroup\": \"Sports\", \"orientation\": \"v\", \"showlegend\": true, \"textposition\": \"auto\", \"x\": [\"Sports\"], \"xaxis\": \"x\", \"y\": [15.0], \"yaxis\": \"y\", \"type\": \"bar\"}, {\"alignmentgroup\": \"True\", \"hovertemplate\": \"Genre=%{x}<br>Year=1989<br>Cumulative_Games per Genre=%{y}<extra></extra>\", \"ids\": [\"Strategy\"], \"legendgroup\": \"Strategy\", \"marker\": {\"color\": \"#B10DA1\"}, \"name\": \"Strategy\", \"offsetgroup\": \"Strategy\", \"orientation\": \"v\", \"showlegend\": true, \"textposition\": \"auto\", \"x\": [\"Strategy\"], \"xaxis\": \"x\", \"y\": [0.0], \"yaxis\": \"y\", \"type\": \"bar\"}], \"name\": \"1989\"}, {\"data\": [{\"alignmentgroup\": \"True\", \"hovertemplate\": \"Genre=%{x}<br>Year=1990<br>Cumulative_Games per Genre=%{y}<extra></extra>\", \"ids\": [\"Action\"], \"legendgroup\": \"Action\", \"marker\": {\"color\": \"#636EFA\"}, \"name\": \"Action\", \"offsetgroup\": \"Action\", \"orientation\": \"v\", \"showlegend\": true, \"textposition\": \"auto\", \"x\": [\"Action\"], \"xaxis\": \"x\", \"y\": [48.0], \"yaxis\": \"y\", \"type\": \"bar\"}, {\"alignmentgroup\": \"True\", \"hovertemplate\": \"Genre=%{x}<br>Year=1990<br>Cumulative_Games per Genre=%{y}<extra></extra>\", \"ids\": [\"Adventure\"], \"legendgroup\": \"Adventure\", \"marker\": {\"color\": \"#EF553B\"}, \"name\": \"Adventure\", \"offsetgroup\": \"Adventure\", \"orientation\": \"v\", \"showlegend\": true, \"textposition\": \"auto\", \"x\": [\"Adventure\"], \"xaxis\": \"x\", \"y\": [1.0], \"yaxis\": \"y\", \"type\": \"bar\"}, {\"alignmentgroup\": \"True\", \"hovertemplate\": \"Genre=%{x}<br>Year=1990<br>Cumulative_Games per Genre=%{y}<extra></extra>\", \"ids\": [\"Fighting\"], \"legendgroup\": \"Fighting\", \"marker\": {\"color\": \"#00CC96\"}, \"name\": \"Fighting\", \"offsetgroup\": \"Fighting\", \"orientation\": \"v\", \"showlegend\": true, \"textposition\": \"auto\", \"x\": [\"Fighting\"], \"xaxis\": \"x\", \"y\": [3.0], \"yaxis\": \"y\", \"type\": \"bar\"}, {\"alignmentgroup\": \"True\", \"hovertemplate\": \"Genre=%{x}<br>Year=1990<br>Cumulative_Games per Genre=%{y}<extra></extra>\", \"ids\": [\"Misc\"], \"legendgroup\": \"Misc\", \"marker\": {\"color\": \"#AB63FA\"}, \"name\": \"Misc\", \"offsetgroup\": \"Misc\", \"orientation\": \"v\", \"showlegend\": true, \"textposition\": \"auto\", \"x\": [\"Misc\"], \"xaxis\": \"x\", \"y\": [3.0], \"yaxis\": \"y\", \"type\": \"bar\"}, {\"alignmentgroup\": \"True\", \"hovertemplate\": \"Genre=%{x}<br>Year=1990<br>Cumulative_Games per Genre=%{y}<extra></extra>\", \"ids\": [\"Platform\"], \"legendgroup\": \"Platform\", \"marker\": {\"color\": \"#ff8001\"}, \"name\": \"Platform\", \"offsetgroup\": \"Platform\", \"orientation\": \"v\", \"showlegend\": true, \"textposition\": \"auto\", \"x\": [\"Platform\"], \"xaxis\": \"x\", \"y\": [19.0], \"yaxis\": \"y\", \"type\": \"bar\"}, {\"alignmentgroup\": \"True\", \"hovertemplate\": \"Genre=%{x}<br>Year=1990<br>Cumulative_Games per Genre=%{y}<extra></extra>\", \"ids\": [\"Puzzle\"], \"legendgroup\": \"Puzzle\", \"marker\": {\"color\": \"#00fcfe\"}, \"name\": \"Puzzle\", \"offsetgroup\": \"Puzzle\", \"orientation\": \"v\", \"showlegend\": true, \"textposition\": \"auto\", \"x\": [\"Puzzle\"], \"xaxis\": \"x\", \"y\": [12.0], \"yaxis\": \"y\", \"type\": \"bar\"}, {\"alignmentgroup\": \"True\", \"hovertemplate\": \"Genre=%{x}<br>Year=1990<br>Cumulative_Games per Genre=%{y}<extra></extra>\", \"ids\": [\"Racing\"], \"legendgroup\": \"Racing\", \"marker\": {\"color\": \"#FE00FA\"}, \"name\": \"Racing\", \"offsetgroup\": \"Racing\", \"orientation\": \"v\", \"showlegend\": true, \"textposition\": \"auto\", \"x\": [\"Racing\"], \"xaxis\": \"x\", \"y\": [8.0], \"yaxis\": \"y\", \"type\": \"bar\"}, {\"alignmentgroup\": \"True\", \"hovertemplate\": \"Genre=%{x}<br>Year=1990<br>Cumulative_Games per Genre=%{y}<extra></extra>\", \"ids\": [\"Role-Playing\"], \"legendgroup\": \"Role-Playing\", \"marker\": {\"color\": \"#16FF32\"}, \"name\": \"Role-Playing\", \"offsetgroup\": \"Role-Playing\", \"orientation\": \"v\", \"showlegend\": true, \"textposition\": \"auto\", \"x\": [\"Role-Playing\"], \"xaxis\": \"x\", \"y\": [3.0], \"yaxis\": \"y\", \"type\": \"bar\"}, {\"alignmentgroup\": \"True\", \"hovertemplate\": \"Genre=%{x}<br>Year=1990<br>Cumulative_Games per Genre=%{y}<extra></extra>\", \"ids\": [\"Shooter\"], \"legendgroup\": \"Shooter\", \"marker\": {\"color\": \"#FF97FF\"}, \"name\": \"Shooter\", \"offsetgroup\": \"Shooter\", \"orientation\": \"v\", \"showlegend\": true, \"textposition\": \"auto\", \"x\": [\"Shooter\"], \"xaxis\": \"x\", \"y\": [23.0], \"yaxis\": \"y\", \"type\": \"bar\"}, {\"alignmentgroup\": \"True\", \"hovertemplate\": \"Genre=%{x}<br>Year=1990<br>Cumulative_Games per Genre=%{y}<extra></extra>\", \"ids\": [\"Simulation\"], \"legendgroup\": \"Simulation\", \"marker\": {\"color\": \"#FFFF00\"}, \"name\": \"Simulation\", \"offsetgroup\": \"Simulation\", \"orientation\": \"v\", \"showlegend\": true, \"textposition\": \"auto\", \"x\": [\"Simulation\"], \"xaxis\": \"x\", \"y\": [2.0], \"yaxis\": \"y\", \"type\": \"bar\"}, {\"alignmentgroup\": \"True\", \"hovertemplate\": \"Genre=%{x}<br>Year=1990<br>Cumulative_Games per Genre=%{y}<extra></extra>\", \"ids\": [\"Sports\"], \"legendgroup\": \"Sports\", \"marker\": {\"color\": \"#2dc997\"}, \"name\": \"Sports\", \"offsetgroup\": \"Sports\", \"orientation\": \"v\", \"showlegend\": true, \"textposition\": \"auto\", \"x\": [\"Sports\"], \"xaxis\": \"x\", \"y\": [16.0], \"yaxis\": \"y\", \"type\": \"bar\"}, {\"alignmentgroup\": \"True\", \"hovertemplate\": \"Genre=%{x}<br>Year=1990<br>Cumulative_Games per Genre=%{y}<extra></extra>\", \"ids\": [\"Strategy\"], \"legendgroup\": \"Strategy\", \"marker\": {\"color\": \"#B10DA1\"}, \"name\": \"Strategy\", \"offsetgroup\": \"Strategy\", \"orientation\": \"v\", \"showlegend\": true, \"textposition\": \"auto\", \"x\": [\"Strategy\"], \"xaxis\": \"x\", \"y\": [0.0], \"yaxis\": \"y\", \"type\": \"bar\"}], \"name\": \"1990\"}, {\"data\": [{\"alignmentgroup\": \"True\", \"hovertemplate\": \"Genre=%{x}<br>Year=1991<br>Cumulative_Games per Genre=%{y}<extra></extra>\", \"ids\": [\"Action\"], \"legendgroup\": \"Action\", \"marker\": {\"color\": \"#636EFA\"}, \"name\": \"Action\", \"offsetgroup\": \"Action\", \"orientation\": \"v\", \"showlegend\": true, \"textposition\": \"auto\", \"x\": [\"Action\"], \"xaxis\": \"x\", \"y\": [48.0], \"yaxis\": \"y\", \"type\": \"bar\"}, {\"alignmentgroup\": \"True\", \"hovertemplate\": \"Genre=%{x}<br>Year=1991<br>Cumulative_Games per Genre=%{y}<extra></extra>\", \"ids\": [\"Adventure\"], \"legendgroup\": \"Adventure\", \"marker\": {\"color\": \"#EF553B\"}, \"name\": \"Adventure\", \"offsetgroup\": \"Adventure\", \"orientation\": \"v\", \"showlegend\": true, \"textposition\": \"auto\", \"x\": [\"Adventure\"], \"xaxis\": \"x\", \"y\": [1.0], \"yaxis\": \"y\", \"type\": \"bar\"}, {\"alignmentgroup\": \"True\", \"hovertemplate\": \"Genre=%{x}<br>Year=1991<br>Cumulative_Games per Genre=%{y}<extra></extra>\", \"ids\": [\"Fighting\"], \"legendgroup\": \"Fighting\", \"marker\": {\"color\": \"#00CC96\"}, \"name\": \"Fighting\", \"offsetgroup\": \"Fighting\", \"orientation\": \"v\", \"showlegend\": true, \"textposition\": \"auto\", \"x\": [\"Fighting\"], \"xaxis\": \"x\", \"y\": [3.0], \"yaxis\": \"y\", \"type\": \"bar\"}, {\"alignmentgroup\": \"True\", \"hovertemplate\": \"Genre=%{x}<br>Year=1991<br>Cumulative_Games per Genre=%{y}<extra></extra>\", \"ids\": [\"Misc\"], \"legendgroup\": \"Misc\", \"marker\": {\"color\": \"#AB63FA\"}, \"name\": \"Misc\", \"offsetgroup\": \"Misc\", \"orientation\": \"v\", \"showlegend\": true, \"textposition\": \"auto\", \"x\": [\"Misc\"], \"xaxis\": \"x\", \"y\": [3.0], \"yaxis\": \"y\", \"type\": \"bar\"}, {\"alignmentgroup\": \"True\", \"hovertemplate\": \"Genre=%{x}<br>Year=1991<br>Cumulative_Games per Genre=%{y}<extra></extra>\", \"ids\": [\"Platform\"], \"legendgroup\": \"Platform\", \"marker\": {\"color\": \"#ff8001\"}, \"name\": \"Platform\", \"offsetgroup\": \"Platform\", \"orientation\": \"v\", \"showlegend\": true, \"textposition\": \"auto\", \"x\": [\"Platform\"], \"xaxis\": \"x\", \"y\": [23.0], \"yaxis\": \"y\", \"type\": \"bar\"}, {\"alignmentgroup\": \"True\", \"hovertemplate\": \"Genre=%{x}<br>Year=1991<br>Cumulative_Games per Genre=%{y}<extra></extra>\", \"ids\": [\"Puzzle\"], \"legendgroup\": \"Puzzle\", \"marker\": {\"color\": \"#00fcfe\"}, \"name\": \"Puzzle\", \"offsetgroup\": \"Puzzle\", \"orientation\": \"v\", \"showlegend\": true, \"textposition\": \"auto\", \"x\": [\"Puzzle\"], \"xaxis\": \"x\", \"y\": [13.0], \"yaxis\": \"y\", \"type\": \"bar\"}, {\"alignmentgroup\": \"True\", \"hovertemplate\": \"Genre=%{x}<br>Year=1991<br>Cumulative_Games per Genre=%{y}<extra></extra>\", \"ids\": [\"Racing\"], \"legendgroup\": \"Racing\", \"marker\": {\"color\": \"#FE00FA\"}, \"name\": \"Racing\", \"offsetgroup\": \"Racing\", \"orientation\": \"v\", \"showlegend\": true, \"textposition\": \"auto\", \"x\": [\"Racing\"], \"xaxis\": \"x\", \"y\": [8.0], \"yaxis\": \"y\", \"type\": \"bar\"}, {\"alignmentgroup\": \"True\", \"hovertemplate\": \"Genre=%{x}<br>Year=1991<br>Cumulative_Games per Genre=%{y}<extra></extra>\", \"ids\": [\"Role-Playing\"], \"legendgroup\": \"Role-Playing\", \"marker\": {\"color\": \"#16FF32\"}, \"name\": \"Role-Playing\", \"offsetgroup\": \"Role-Playing\", \"orientation\": \"v\", \"showlegend\": true, \"textposition\": \"auto\", \"x\": [\"Role-Playing\"], \"xaxis\": \"x\", \"y\": [4.0], \"yaxis\": \"y\", \"type\": \"bar\"}, {\"alignmentgroup\": \"True\", \"hovertemplate\": \"Genre=%{x}<br>Year=1991<br>Cumulative_Games per Genre=%{y}<extra></extra>\", \"ids\": [\"Shooter\"], \"legendgroup\": \"Shooter\", \"marker\": {\"color\": \"#FF97FF\"}, \"name\": \"Shooter\", \"offsetgroup\": \"Shooter\", \"orientation\": \"v\", \"showlegend\": true, \"textposition\": \"auto\", \"x\": [\"Shooter\"], \"xaxis\": \"x\", \"y\": [26.0], \"yaxis\": \"y\", \"type\": \"bar\"}, {\"alignmentgroup\": \"True\", \"hovertemplate\": \"Genre=%{x}<br>Year=1991<br>Cumulative_Games per Genre=%{y}<extra></extra>\", \"ids\": [\"Simulation\"], \"legendgroup\": \"Simulation\", \"marker\": {\"color\": \"#FFFF00\"}, \"name\": \"Simulation\", \"offsetgroup\": \"Simulation\", \"orientation\": \"v\", \"showlegend\": true, \"textposition\": \"auto\", \"x\": [\"Simulation\"], \"xaxis\": \"x\", \"y\": [4.0], \"yaxis\": \"y\", \"type\": \"bar\"}, {\"alignmentgroup\": \"True\", \"hovertemplate\": \"Genre=%{x}<br>Year=1991<br>Cumulative_Games per Genre=%{y}<extra></extra>\", \"ids\": [\"Sports\"], \"legendgroup\": \"Sports\", \"marker\": {\"color\": \"#2dc997\"}, \"name\": \"Sports\", \"offsetgroup\": \"Sports\", \"orientation\": \"v\", \"showlegend\": true, \"textposition\": \"auto\", \"x\": [\"Sports\"], \"xaxis\": \"x\", \"y\": [21.0], \"yaxis\": \"y\", \"type\": \"bar\"}, {\"alignmentgroup\": \"True\", \"hovertemplate\": \"Genre=%{x}<br>Year=1991<br>Cumulative_Games per Genre=%{y}<extra></extra>\", \"ids\": [\"Strategy\"], \"legendgroup\": \"Strategy\", \"marker\": {\"color\": \"#B10DA1\"}, \"name\": \"Strategy\", \"offsetgroup\": \"Strategy\", \"orientation\": \"v\", \"showlegend\": true, \"textposition\": \"auto\", \"x\": [\"Strategy\"], \"xaxis\": \"x\", \"y\": [1.0], \"yaxis\": \"y\", \"type\": \"bar\"}], \"name\": \"1991\"}, {\"data\": [{\"alignmentgroup\": \"True\", \"hovertemplate\": \"Genre=%{x}<br>Year=1992<br>Cumulative_Games per Genre=%{y}<extra></extra>\", \"ids\": [\"Action\"], \"legendgroup\": \"Action\", \"marker\": {\"color\": \"#636EFA\"}, \"name\": \"Action\", \"offsetgroup\": \"Action\", \"orientation\": \"v\", \"showlegend\": true, \"textposition\": \"auto\", \"x\": [\"Action\"], \"xaxis\": \"x\", \"y\": [48.0], \"yaxis\": \"y\", \"type\": \"bar\"}, {\"alignmentgroup\": \"True\", \"hovertemplate\": \"Genre=%{x}<br>Year=1992<br>Cumulative_Games per Genre=%{y}<extra></extra>\", \"ids\": [\"Adventure\"], \"legendgroup\": \"Adventure\", \"marker\": {\"color\": \"#EF553B\"}, \"name\": \"Adventure\", \"offsetgroup\": \"Adventure\", \"orientation\": \"v\", \"showlegend\": true, \"textposition\": \"auto\", \"x\": [\"Adventure\"], \"xaxis\": \"x\", \"y\": [2.0], \"yaxis\": \"y\", \"type\": \"bar\"}, {\"alignmentgroup\": \"True\", \"hovertemplate\": \"Genre=%{x}<br>Year=1992<br>Cumulative_Games per Genre=%{y}<extra></extra>\", \"ids\": [\"Fighting\"], \"legendgroup\": \"Fighting\", \"marker\": {\"color\": \"#00CC96\"}, \"name\": \"Fighting\", \"offsetgroup\": \"Fighting\", \"orientation\": \"v\", \"showlegend\": true, \"textposition\": \"auto\", \"x\": [\"Fighting\"], \"xaxis\": \"x\", \"y\": [8.0], \"yaxis\": \"y\", \"type\": \"bar\"}, {\"alignmentgroup\": \"True\", \"hovertemplate\": \"Genre=%{x}<br>Year=1992<br>Cumulative_Games per Genre=%{y}<extra></extra>\", \"ids\": [\"Misc\"], \"legendgroup\": \"Misc\", \"marker\": {\"color\": \"#AB63FA\"}, \"name\": \"Misc\", \"offsetgroup\": \"Misc\", \"orientation\": \"v\", \"showlegend\": true, \"textposition\": \"auto\", \"x\": [\"Misc\"], \"xaxis\": \"x\", \"y\": [4.0], \"yaxis\": \"y\", \"type\": \"bar\"}, {\"alignmentgroup\": \"True\", \"hovertemplate\": \"Genre=%{x}<br>Year=1992<br>Cumulative_Games per Genre=%{y}<extra></extra>\", \"ids\": [\"Platform\"], \"legendgroup\": \"Platform\", \"marker\": {\"color\": \"#ff8001\"}, \"name\": \"Platform\", \"offsetgroup\": \"Platform\", \"orientation\": \"v\", \"showlegend\": true, \"textposition\": \"auto\", \"x\": [\"Platform\"], \"xaxis\": \"x\", \"y\": [25.0], \"yaxis\": \"y\", \"type\": \"bar\"}, {\"alignmentgroup\": \"True\", \"hovertemplate\": \"Genre=%{x}<br>Year=1992<br>Cumulative_Games per Genre=%{y}<extra></extra>\", \"ids\": [\"Puzzle\"], \"legendgroup\": \"Puzzle\", \"marker\": {\"color\": \"#00fcfe\"}, \"name\": \"Puzzle\", \"offsetgroup\": \"Puzzle\", \"orientation\": \"v\", \"showlegend\": true, \"textposition\": \"auto\", \"x\": [\"Puzzle\"], \"xaxis\": \"x\", \"y\": [14.0], \"yaxis\": \"y\", \"type\": \"bar\"}, {\"alignmentgroup\": \"True\", \"hovertemplate\": \"Genre=%{x}<br>Year=1992<br>Cumulative_Games per Genre=%{y}<extra></extra>\", \"ids\": [\"Racing\"], \"legendgroup\": \"Racing\", \"marker\": {\"color\": \"#FE00FA\"}, \"name\": \"Racing\", \"offsetgroup\": \"Racing\", \"orientation\": \"v\", \"showlegend\": true, \"textposition\": \"auto\", \"x\": [\"Racing\"], \"xaxis\": \"x\", \"y\": [9.0], \"yaxis\": \"y\", \"type\": \"bar\"}, {\"alignmentgroup\": \"True\", \"hovertemplate\": \"Genre=%{x}<br>Year=1992<br>Cumulative_Games per Genre=%{y}<extra></extra>\", \"ids\": [\"Role-Playing\"], \"legendgroup\": \"Role-Playing\", \"marker\": {\"color\": \"#16FF32\"}, \"name\": \"Role-Playing\", \"offsetgroup\": \"Role-Playing\", \"orientation\": \"v\", \"showlegend\": true, \"textposition\": \"auto\", \"x\": [\"Role-Playing\"], \"xaxis\": \"x\", \"y\": [4.0], \"yaxis\": \"y\", \"type\": \"bar\"}, {\"alignmentgroup\": \"True\", \"hovertemplate\": \"Genre=%{x}<br>Year=1992<br>Cumulative_Games per Genre=%{y}<extra></extra>\", \"ids\": [\"Shooter\"], \"legendgroup\": \"Shooter\", \"marker\": {\"color\": \"#FF97FF\"}, \"name\": \"Shooter\", \"offsetgroup\": \"Shooter\", \"orientation\": \"v\", \"showlegend\": true, \"textposition\": \"auto\", \"x\": [\"Shooter\"], \"xaxis\": \"x\", \"y\": [27.0], \"yaxis\": \"y\", \"type\": \"bar\"}, {\"alignmentgroup\": \"True\", \"hovertemplate\": \"Genre=%{x}<br>Year=1992<br>Cumulative_Games per Genre=%{y}<extra></extra>\", \"ids\": [\"Simulation\"], \"legendgroup\": \"Simulation\", \"marker\": {\"color\": \"#FFFF00\"}, \"name\": \"Simulation\", \"offsetgroup\": \"Simulation\", \"orientation\": \"v\", \"showlegend\": true, \"textposition\": \"auto\", \"x\": [\"Simulation\"], \"xaxis\": \"x\", \"y\": [4.0], \"yaxis\": \"y\", \"type\": \"bar\"}, {\"alignmentgroup\": \"True\", \"hovertemplate\": \"Genre=%{x}<br>Year=1992<br>Cumulative_Games per Genre=%{y}<extra></extra>\", \"ids\": [\"Sports\"], \"legendgroup\": \"Sports\", \"marker\": {\"color\": \"#2dc997\"}, \"name\": \"Sports\", \"offsetgroup\": \"Sports\", \"orientation\": \"v\", \"showlegend\": true, \"textposition\": \"auto\", \"x\": [\"Sports\"], \"xaxis\": \"x\", \"y\": [23.0], \"yaxis\": \"y\", \"type\": \"bar\"}, {\"alignmentgroup\": \"True\", \"hovertemplate\": \"Genre=%{x}<br>Year=1992<br>Cumulative_Games per Genre=%{y}<extra></extra>\", \"ids\": [\"Strategy\"], \"legendgroup\": \"Strategy\", \"marker\": {\"color\": \"#B10DA1\"}, \"name\": \"Strategy\", \"offsetgroup\": \"Strategy\", \"orientation\": \"v\", \"showlegend\": true, \"textposition\": \"auto\", \"x\": [\"Strategy\"], \"xaxis\": \"x\", \"y\": [2.0], \"yaxis\": \"y\", \"type\": \"bar\"}], \"name\": \"1992\"}, {\"data\": [{\"alignmentgroup\": \"True\", \"hovertemplate\": \"Genre=%{x}<br>Year=1993<br>Cumulative_Games per Genre=%{y}<extra></extra>\", \"ids\": [\"Action\"], \"legendgroup\": \"Action\", \"marker\": {\"color\": \"#636EFA\"}, \"name\": \"Action\", \"offsetgroup\": \"Action\", \"orientation\": \"v\", \"showlegend\": true, \"textposition\": \"auto\", \"x\": [\"Action\"], \"xaxis\": \"x\", \"y\": [49.0], \"yaxis\": \"y\", \"type\": \"bar\"}, {\"alignmentgroup\": \"True\", \"hovertemplate\": \"Genre=%{x}<br>Year=1993<br>Cumulative_Games per Genre=%{y}<extra></extra>\", \"ids\": [\"Adventure\"], \"legendgroup\": \"Adventure\", \"marker\": {\"color\": \"#EF553B\"}, \"name\": \"Adventure\", \"offsetgroup\": \"Adventure\", \"orientation\": \"v\", \"showlegend\": true, \"textposition\": \"auto\", \"x\": [\"Adventure\"], \"xaxis\": \"x\", \"y\": [3.0], \"yaxis\": \"y\", \"type\": \"bar\"}, {\"alignmentgroup\": \"True\", \"hovertemplate\": \"Genre=%{x}<br>Year=1993<br>Cumulative_Games per Genre=%{y}<extra></extra>\", \"ids\": [\"Fighting\"], \"legendgroup\": \"Fighting\", \"marker\": {\"color\": \"#00CC96\"}, \"name\": \"Fighting\", \"offsetgroup\": \"Fighting\", \"orientation\": \"v\", \"showlegend\": true, \"textposition\": \"auto\", \"x\": [\"Fighting\"], \"xaxis\": \"x\", \"y\": [11.0], \"yaxis\": \"y\", \"type\": \"bar\"}, {\"alignmentgroup\": \"True\", \"hovertemplate\": \"Genre=%{x}<br>Year=1993<br>Cumulative_Games per Genre=%{y}<extra></extra>\", \"ids\": [\"Misc\"], \"legendgroup\": \"Misc\", \"marker\": {\"color\": \"#AB63FA\"}, \"name\": \"Misc\", \"offsetgroup\": \"Misc\", \"orientation\": \"v\", \"showlegend\": true, \"textposition\": \"auto\", \"x\": [\"Misc\"], \"xaxis\": \"x\", \"y\": [4.0], \"yaxis\": \"y\", \"type\": \"bar\"}, {\"alignmentgroup\": \"True\", \"hovertemplate\": \"Genre=%{x}<br>Year=1993<br>Cumulative_Games per Genre=%{y}<extra></extra>\", \"ids\": [\"Platform\"], \"legendgroup\": \"Platform\", \"marker\": {\"color\": \"#ff8001\"}, \"name\": \"Platform\", \"offsetgroup\": \"Platform\", \"orientation\": \"v\", \"showlegend\": true, \"textposition\": \"auto\", \"x\": [\"Platform\"], \"xaxis\": \"x\", \"y\": [30.0], \"yaxis\": \"y\", \"type\": \"bar\"}, {\"alignmentgroup\": \"True\", \"hovertemplate\": \"Genre=%{x}<br>Year=1993<br>Cumulative_Games per Genre=%{y}<extra></extra>\", \"ids\": [\"Puzzle\"], \"legendgroup\": \"Puzzle\", \"marker\": {\"color\": \"#00fcfe\"}, \"name\": \"Puzzle\", \"offsetgroup\": \"Puzzle\", \"orientation\": \"v\", \"showlegend\": true, \"textposition\": \"auto\", \"x\": [\"Puzzle\"], \"xaxis\": \"x\", \"y\": [15.0], \"yaxis\": \"y\", \"type\": \"bar\"}, {\"alignmentgroup\": \"True\", \"hovertemplate\": \"Genre=%{x}<br>Year=1993<br>Cumulative_Games per Genre=%{y}<extra></extra>\", \"ids\": [\"Racing\"], \"legendgroup\": \"Racing\", \"marker\": {\"color\": \"#FE00FA\"}, \"name\": \"Racing\", \"offsetgroup\": \"Racing\", \"orientation\": \"v\", \"showlegend\": true, \"textposition\": \"auto\", \"x\": [\"Racing\"], \"xaxis\": \"x\", \"y\": [11.0], \"yaxis\": \"y\", \"type\": \"bar\"}, {\"alignmentgroup\": \"True\", \"hovertemplate\": \"Genre=%{x}<br>Year=1993<br>Cumulative_Games per Genre=%{y}<extra></extra>\", \"ids\": [\"Role-Playing\"], \"legendgroup\": \"Role-Playing\", \"marker\": {\"color\": \"#16FF32\"}, \"name\": \"Role-Playing\", \"offsetgroup\": \"Role-Playing\", \"orientation\": \"v\", \"showlegend\": true, \"textposition\": \"auto\", \"x\": [\"Role-Playing\"], \"xaxis\": \"x\", \"y\": [6.0], \"yaxis\": \"y\", \"type\": \"bar\"}, {\"alignmentgroup\": \"True\", \"hovertemplate\": \"Genre=%{x}<br>Year=1993<br>Cumulative_Games per Genre=%{y}<extra></extra>\", \"ids\": [\"Shooter\"], \"legendgroup\": \"Shooter\", \"marker\": {\"color\": \"#FF97FF\"}, \"name\": \"Shooter\", \"offsetgroup\": \"Shooter\", \"orientation\": \"v\", \"showlegend\": true, \"textposition\": \"auto\", \"x\": [\"Shooter\"], \"xaxis\": \"x\", \"y\": [29.0], \"yaxis\": \"y\", \"type\": \"bar\"}, {\"alignmentgroup\": \"True\", \"hovertemplate\": \"Genre=%{x}<br>Year=1993<br>Cumulative_Games per Genre=%{y}<extra></extra>\", \"ids\": [\"Simulation\"], \"legendgroup\": \"Simulation\", \"marker\": {\"color\": \"#FFFF00\"}, \"name\": \"Simulation\", \"offsetgroup\": \"Simulation\", \"orientation\": \"v\", \"showlegend\": true, \"textposition\": \"auto\", \"x\": [\"Simulation\"], \"xaxis\": \"x\", \"y\": [4.0], \"yaxis\": \"y\", \"type\": \"bar\"}, {\"alignmentgroup\": \"True\", \"hovertemplate\": \"Genre=%{x}<br>Year=1993<br>Cumulative_Games per Genre=%{y}<extra></extra>\", \"ids\": [\"Sports\"], \"legendgroup\": \"Sports\", \"marker\": {\"color\": \"#2dc997\"}, \"name\": \"Sports\", \"offsetgroup\": \"Sports\", \"orientation\": \"v\", \"showlegend\": true, \"textposition\": \"auto\", \"x\": [\"Sports\"], \"xaxis\": \"x\", \"y\": [23.0], \"yaxis\": \"y\", \"type\": \"bar\"}, {\"alignmentgroup\": \"True\", \"hovertemplate\": \"Genre=%{x}<br>Year=1993<br>Cumulative_Games per Genre=%{y}<extra></extra>\", \"ids\": [\"Strategy\"], \"legendgroup\": \"Strategy\", \"marker\": {\"color\": \"#B10DA1\"}, \"name\": \"Strategy\", \"offsetgroup\": \"Strategy\", \"orientation\": \"v\", \"showlegend\": true, \"textposition\": \"auto\", \"x\": [\"Strategy\"], \"xaxis\": \"x\", \"y\": [3.0], \"yaxis\": \"y\", \"type\": \"bar\"}], \"name\": \"1993\"}, {\"data\": [{\"alignmentgroup\": \"True\", \"hovertemplate\": \"Genre=%{x}<br>Year=1994<br>Cumulative_Games per Genre=%{y}<extra></extra>\", \"ids\": [\"Action\"], \"legendgroup\": \"Action\", \"marker\": {\"color\": \"#636EFA\"}, \"name\": \"Action\", \"offsetgroup\": \"Action\", \"orientation\": \"v\", \"showlegend\": true, \"textposition\": \"auto\", \"x\": [\"Action\"], \"xaxis\": \"x\", \"y\": [49.0], \"yaxis\": \"y\", \"type\": \"bar\"}, {\"alignmentgroup\": \"True\", \"hovertemplate\": \"Genre=%{x}<br>Year=1994<br>Cumulative_Games per Genre=%{y}<extra></extra>\", \"ids\": [\"Adventure\"], \"legendgroup\": \"Adventure\", \"marker\": {\"color\": \"#EF553B\"}, \"name\": \"Adventure\", \"offsetgroup\": \"Adventure\", \"orientation\": \"v\", \"showlegend\": true, \"textposition\": \"auto\", \"x\": [\"Adventure\"], \"xaxis\": \"x\", \"y\": [5.0], \"yaxis\": \"y\", \"type\": \"bar\"}, {\"alignmentgroup\": \"True\", \"hovertemplate\": \"Genre=%{x}<br>Year=1994<br>Cumulative_Games per Genre=%{y}<extra></extra>\", \"ids\": [\"Fighting\"], \"legendgroup\": \"Fighting\", \"marker\": {\"color\": \"#00CC96\"}, \"name\": \"Fighting\", \"offsetgroup\": \"Fighting\", \"orientation\": \"v\", \"showlegend\": true, \"textposition\": \"auto\", \"x\": [\"Fighting\"], \"xaxis\": \"x\", \"y\": [23.0], \"yaxis\": \"y\", \"type\": \"bar\"}, {\"alignmentgroup\": \"True\", \"hovertemplate\": \"Genre=%{x}<br>Year=1994<br>Cumulative_Games per Genre=%{y}<extra></extra>\", \"ids\": [\"Misc\"], \"legendgroup\": \"Misc\", \"marker\": {\"color\": \"#AB63FA\"}, \"name\": \"Misc\", \"offsetgroup\": \"Misc\", \"orientation\": \"v\", \"showlegend\": true, \"textposition\": \"auto\", \"x\": [\"Misc\"], \"xaxis\": \"x\", \"y\": [4.0], \"yaxis\": \"y\", \"type\": \"bar\"}, {\"alignmentgroup\": \"True\", \"hovertemplate\": \"Genre=%{x}<br>Year=1994<br>Cumulative_Games per Genre=%{y}<extra></extra>\", \"ids\": [\"Platform\"], \"legendgroup\": \"Platform\", \"marker\": {\"color\": \"#ff8001\"}, \"name\": \"Platform\", \"offsetgroup\": \"Platform\", \"orientation\": \"v\", \"showlegend\": true, \"textposition\": \"auto\", \"x\": [\"Platform\"], \"xaxis\": \"x\", \"y\": [34.0], \"yaxis\": \"y\", \"type\": \"bar\"}, {\"alignmentgroup\": \"True\", \"hovertemplate\": \"Genre=%{x}<br>Year=1994<br>Cumulative_Games per Genre=%{y}<extra></extra>\", \"ids\": [\"Puzzle\"], \"legendgroup\": \"Puzzle\", \"marker\": {\"color\": \"#00fcfe\"}, \"name\": \"Puzzle\", \"offsetgroup\": \"Puzzle\", \"orientation\": \"v\", \"showlegend\": true, \"textposition\": \"auto\", \"x\": [\"Puzzle\"], \"xaxis\": \"x\", \"y\": [16.0], \"yaxis\": \"y\", \"type\": \"bar\"}, {\"alignmentgroup\": \"True\", \"hovertemplate\": \"Genre=%{x}<br>Year=1994<br>Cumulative_Games per Genre=%{y}<extra></extra>\", \"ids\": [\"Racing\"], \"legendgroup\": \"Racing\", \"marker\": {\"color\": \"#FE00FA\"}, \"name\": \"Racing\", \"offsetgroup\": \"Racing\", \"orientation\": \"v\", \"showlegend\": true, \"textposition\": \"auto\", \"x\": [\"Racing\"], \"xaxis\": \"x\", \"y\": [15.0], \"yaxis\": \"y\", \"type\": \"bar\"}, {\"alignmentgroup\": \"True\", \"hovertemplate\": \"Genre=%{x}<br>Year=1994<br>Cumulative_Games per Genre=%{y}<extra></extra>\", \"ids\": [\"Role-Playing\"], \"legendgroup\": \"Role-Playing\", \"marker\": {\"color\": \"#16FF32\"}, \"name\": \"Role-Playing\", \"offsetgroup\": \"Role-Playing\", \"orientation\": \"v\", \"showlegend\": true, \"textposition\": \"auto\", \"x\": [\"Role-Playing\"], \"xaxis\": \"x\", \"y\": [6.0], \"yaxis\": \"y\", \"type\": \"bar\"}, {\"alignmentgroup\": \"True\", \"hovertemplate\": \"Genre=%{x}<br>Year=1994<br>Cumulative_Games per Genre=%{y}<extra></extra>\", \"ids\": [\"Shooter\"], \"legendgroup\": \"Shooter\", \"marker\": {\"color\": \"#FF97FF\"}, \"name\": \"Shooter\", \"offsetgroup\": \"Shooter\", \"orientation\": \"v\", \"showlegend\": true, \"textposition\": \"auto\", \"x\": [\"Shooter\"], \"xaxis\": \"x\", \"y\": [35.0], \"yaxis\": \"y\", \"type\": \"bar\"}, {\"alignmentgroup\": \"True\", \"hovertemplate\": \"Genre=%{x}<br>Year=1994<br>Cumulative_Games per Genre=%{y}<extra></extra>\", \"ids\": [\"Simulation\"], \"legendgroup\": \"Simulation\", \"marker\": {\"color\": \"#FFFF00\"}, \"name\": \"Simulation\", \"offsetgroup\": \"Simulation\", \"orientation\": \"v\", \"showlegend\": true, \"textposition\": \"auto\", \"x\": [\"Simulation\"], \"xaxis\": \"x\", \"y\": [8.0], \"yaxis\": \"y\", \"type\": \"bar\"}, {\"alignmentgroup\": \"True\", \"hovertemplate\": \"Genre=%{x}<br>Year=1994<br>Cumulative_Games per Genre=%{y}<extra></extra>\", \"ids\": [\"Sports\"], \"legendgroup\": \"Sports\", \"marker\": {\"color\": \"#2dc997\"}, \"name\": \"Sports\", \"offsetgroup\": \"Sports\", \"orientation\": \"v\", \"showlegend\": true, \"textposition\": \"auto\", \"x\": [\"Sports\"], \"xaxis\": \"x\", \"y\": [32.0], \"yaxis\": \"y\", \"type\": \"bar\"}, {\"alignmentgroup\": \"True\", \"hovertemplate\": \"Genre=%{x}<br>Year=1994<br>Cumulative_Games per Genre=%{y}<extra></extra>\", \"ids\": [\"Strategy\"], \"legendgroup\": \"Strategy\", \"marker\": {\"color\": \"#B10DA1\"}, \"name\": \"Strategy\", \"offsetgroup\": \"Strategy\", \"orientation\": \"v\", \"showlegend\": true, \"textposition\": \"auto\", \"x\": [\"Strategy\"], \"xaxis\": \"x\", \"y\": [4.0], \"yaxis\": \"y\", \"type\": \"bar\"}], \"name\": \"1994\"}, {\"data\": [{\"alignmentgroup\": \"True\", \"hovertemplate\": \"Genre=%{x}<br>Year=1995<br>Cumulative_Games per Genre=%{y}<extra></extra>\", \"ids\": [\"Action\"], \"legendgroup\": \"Action\", \"marker\": {\"color\": \"#636EFA\"}, \"name\": \"Action\", \"offsetgroup\": \"Action\", \"orientation\": \"v\", \"showlegend\": true, \"textposition\": \"auto\", \"x\": [\"Action\"], \"xaxis\": \"x\", \"y\": [54.0], \"yaxis\": \"y\", \"type\": \"bar\"}, {\"alignmentgroup\": \"True\", \"hovertemplate\": \"Genre=%{x}<br>Year=1995<br>Cumulative_Games per Genre=%{y}<extra></extra>\", \"ids\": [\"Adventure\"], \"legendgroup\": \"Adventure\", \"marker\": {\"color\": \"#EF553B\"}, \"name\": \"Adventure\", \"offsetgroup\": \"Adventure\", \"orientation\": \"v\", \"showlegend\": true, \"textposition\": \"auto\", \"x\": [\"Adventure\"], \"xaxis\": \"x\", \"y\": [7.0], \"yaxis\": \"y\", \"type\": \"bar\"}, {\"alignmentgroup\": \"True\", \"hovertemplate\": \"Genre=%{x}<br>Year=1995<br>Cumulative_Games per Genre=%{y}<extra></extra>\", \"ids\": [\"Fighting\"], \"legendgroup\": \"Fighting\", \"marker\": {\"color\": \"#00CC96\"}, \"name\": \"Fighting\", \"offsetgroup\": \"Fighting\", \"orientation\": \"v\", \"showlegend\": true, \"textposition\": \"auto\", \"x\": [\"Fighting\"], \"xaxis\": \"x\", \"y\": [37.0], \"yaxis\": \"y\", \"type\": \"bar\"}, {\"alignmentgroup\": \"True\", \"hovertemplate\": \"Genre=%{x}<br>Year=1995<br>Cumulative_Games per Genre=%{y}<extra></extra>\", \"ids\": [\"Misc\"], \"legendgroup\": \"Misc\", \"marker\": {\"color\": \"#AB63FA\"}, \"name\": \"Misc\", \"offsetgroup\": \"Misc\", \"orientation\": \"v\", \"showlegend\": true, \"textposition\": \"auto\", \"x\": [\"Misc\"], \"xaxis\": \"x\", \"y\": [6.0], \"yaxis\": \"y\", \"type\": \"bar\"}, {\"alignmentgroup\": \"True\", \"hovertemplate\": \"Genre=%{x}<br>Year=1995<br>Cumulative_Games per Genre=%{y}<extra></extra>\", \"ids\": [\"Platform\"], \"legendgroup\": \"Platform\", \"marker\": {\"color\": \"#ff8001\"}, \"name\": \"Platform\", \"offsetgroup\": \"Platform\", \"orientation\": \"v\", \"showlegend\": true, \"textposition\": \"auto\", \"x\": [\"Platform\"], \"xaxis\": \"x\", \"y\": [40.0], \"yaxis\": \"y\", \"type\": \"bar\"}, {\"alignmentgroup\": \"True\", \"hovertemplate\": \"Genre=%{x}<br>Year=1995<br>Cumulative_Games per Genre=%{y}<extra></extra>\", \"ids\": [\"Puzzle\"], \"legendgroup\": \"Puzzle\", \"marker\": {\"color\": \"#00fcfe\"}, \"name\": \"Puzzle\", \"offsetgroup\": \"Puzzle\", \"orientation\": \"v\", \"showlegend\": true, \"textposition\": \"auto\", \"x\": [\"Puzzle\"], \"xaxis\": \"x\", \"y\": [20.0], \"yaxis\": \"y\", \"type\": \"bar\"}, {\"alignmentgroup\": \"True\", \"hovertemplate\": \"Genre=%{x}<br>Year=1995<br>Cumulative_Games per Genre=%{y}<extra></extra>\", \"ids\": [\"Racing\"], \"legendgroup\": \"Racing\", \"marker\": {\"color\": \"#FE00FA\"}, \"name\": \"Racing\", \"offsetgroup\": \"Racing\", \"orientation\": \"v\", \"showlegend\": true, \"textposition\": \"auto\", \"x\": [\"Racing\"], \"xaxis\": \"x\", \"y\": [24.0], \"yaxis\": \"y\", \"type\": \"bar\"}, {\"alignmentgroup\": \"True\", \"hovertemplate\": \"Genre=%{x}<br>Year=1995<br>Cumulative_Games per Genre=%{y}<extra></extra>\", \"ids\": [\"Role-Playing\"], \"legendgroup\": \"Role-Playing\", \"marker\": {\"color\": \"#16FF32\"}, \"name\": \"Role-Playing\", \"offsetgroup\": \"Role-Playing\", \"orientation\": \"v\", \"showlegend\": true, \"textposition\": \"auto\", \"x\": [\"Role-Playing\"], \"xaxis\": \"x\", \"y\": [12.0], \"yaxis\": \"y\", \"type\": \"bar\"}, {\"alignmentgroup\": \"True\", \"hovertemplate\": \"Genre=%{x}<br>Year=1995<br>Cumulative_Games per Genre=%{y}<extra></extra>\", \"ids\": [\"Shooter\"], \"legendgroup\": \"Shooter\", \"marker\": {\"color\": \"#FF97FF\"}, \"name\": \"Shooter\", \"offsetgroup\": \"Shooter\", \"orientation\": \"v\", \"showlegend\": true, \"textposition\": \"auto\", \"x\": [\"Shooter\"], \"xaxis\": \"x\", \"y\": [50.0], \"yaxis\": \"y\", \"type\": \"bar\"}, {\"alignmentgroup\": \"True\", \"hovertemplate\": \"Genre=%{x}<br>Year=1995<br>Cumulative_Games per Genre=%{y}<extra></extra>\", \"ids\": [\"Simulation\"], \"legendgroup\": \"Simulation\", \"marker\": {\"color\": \"#FFFF00\"}, \"name\": \"Simulation\", \"offsetgroup\": \"Simulation\", \"orientation\": \"v\", \"showlegend\": true, \"textposition\": \"auto\", \"x\": [\"Simulation\"], \"xaxis\": \"x\", \"y\": [16.0], \"yaxis\": \"y\", \"type\": \"bar\"}, {\"alignmentgroup\": \"True\", \"hovertemplate\": \"Genre=%{x}<br>Year=1995<br>Cumulative_Games per Genre=%{y}<extra></extra>\", \"ids\": [\"Sports\"], \"legendgroup\": \"Sports\", \"marker\": {\"color\": \"#2dc997\"}, \"name\": \"Sports\", \"offsetgroup\": \"Sports\", \"orientation\": \"v\", \"showlegend\": true, \"textposition\": \"auto\", \"x\": [\"Sports\"], \"xaxis\": \"x\", \"y\": [41.0], \"yaxis\": \"y\", \"type\": \"bar\"}, {\"alignmentgroup\": \"True\", \"hovertemplate\": \"Genre=%{x}<br>Year=1995<br>Cumulative_Games per Genre=%{y}<extra></extra>\", \"ids\": [\"Strategy\"], \"legendgroup\": \"Strategy\", \"marker\": {\"color\": \"#B10DA1\"}, \"name\": \"Strategy\", \"offsetgroup\": \"Strategy\", \"orientation\": \"v\", \"showlegend\": true, \"textposition\": \"auto\", \"x\": [\"Strategy\"], \"xaxis\": \"x\", \"y\": [8.0], \"yaxis\": \"y\", \"type\": \"bar\"}], \"name\": \"1995\"}, {\"data\": [{\"alignmentgroup\": \"True\", \"hovertemplate\": \"Genre=%{x}<br>Year=1996<br>Cumulative_Games per Genre=%{y}<extra></extra>\", \"ids\": [\"Action\"], \"legendgroup\": \"Action\", \"marker\": {\"color\": \"#636EFA\"}, \"name\": \"Action\", \"offsetgroup\": \"Action\", \"orientation\": \"v\", \"showlegend\": true, \"textposition\": \"auto\", \"x\": [\"Action\"], \"xaxis\": \"x\", \"y\": [70.0], \"yaxis\": \"y\", \"type\": \"bar\"}, {\"alignmentgroup\": \"True\", \"hovertemplate\": \"Genre=%{x}<br>Year=1996<br>Cumulative_Games per Genre=%{y}<extra></extra>\", \"ids\": [\"Adventure\"], \"legendgroup\": \"Adventure\", \"marker\": {\"color\": \"#EF553B\"}, \"name\": \"Adventure\", \"offsetgroup\": \"Adventure\", \"orientation\": \"v\", \"showlegend\": true, \"textposition\": \"auto\", \"x\": [\"Adventure\"], \"xaxis\": \"x\", \"y\": [13.0], \"yaxis\": \"y\", \"type\": \"bar\"}, {\"alignmentgroup\": \"True\", \"hovertemplate\": \"Genre=%{x}<br>Year=1996<br>Cumulative_Games per Genre=%{y}<extra></extra>\", \"ids\": [\"Fighting\"], \"legendgroup\": \"Fighting\", \"marker\": {\"color\": \"#00CC96\"}, \"name\": \"Fighting\", \"offsetgroup\": \"Fighting\", \"orientation\": \"v\", \"showlegend\": true, \"textposition\": \"auto\", \"x\": [\"Fighting\"], \"xaxis\": \"x\", \"y\": [52.0], \"yaxis\": \"y\", \"type\": \"bar\"}, {\"alignmentgroup\": \"True\", \"hovertemplate\": \"Genre=%{x}<br>Year=1996<br>Cumulative_Games per Genre=%{y}<extra></extra>\", \"ids\": [\"Misc\"], \"legendgroup\": \"Misc\", \"marker\": {\"color\": \"#AB63FA\"}, \"name\": \"Misc\", \"offsetgroup\": \"Misc\", \"orientation\": \"v\", \"showlegend\": true, \"textposition\": \"auto\", \"x\": [\"Misc\"], \"xaxis\": \"x\", \"y\": [13.0], \"yaxis\": \"y\", \"type\": \"bar\"}, {\"alignmentgroup\": \"True\", \"hovertemplate\": \"Genre=%{x}<br>Year=1996<br>Cumulative_Games per Genre=%{y}<extra></extra>\", \"ids\": [\"Platform\"], \"legendgroup\": \"Platform\", \"marker\": {\"color\": \"#ff8001\"}, \"name\": \"Platform\", \"offsetgroup\": \"Platform\", \"orientation\": \"v\", \"showlegend\": true, \"textposition\": \"auto\", \"x\": [\"Platform\"], \"xaxis\": \"x\", \"y\": [48.0], \"yaxis\": \"y\", \"type\": \"bar\"}, {\"alignmentgroup\": \"True\", \"hovertemplate\": \"Genre=%{x}<br>Year=1996<br>Cumulative_Games per Genre=%{y}<extra></extra>\", \"ids\": [\"Puzzle\"], \"legendgroup\": \"Puzzle\", \"marker\": {\"color\": \"#00fcfe\"}, \"name\": \"Puzzle\", \"offsetgroup\": \"Puzzle\", \"orientation\": \"v\", \"showlegend\": true, \"textposition\": \"auto\", \"x\": [\"Puzzle\"], \"xaxis\": \"x\", \"y\": [22.0], \"yaxis\": \"y\", \"type\": \"bar\"}, {\"alignmentgroup\": \"True\", \"hovertemplate\": \"Genre=%{x}<br>Year=1996<br>Cumulative_Games per Genre=%{y}<extra></extra>\", \"ids\": [\"Racing\"], \"legendgroup\": \"Racing\", \"marker\": {\"color\": \"#FE00FA\"}, \"name\": \"Racing\", \"offsetgroup\": \"Racing\", \"orientation\": \"v\", \"showlegend\": true, \"textposition\": \"auto\", \"x\": [\"Racing\"], \"xaxis\": \"x\", \"y\": [43.0], \"yaxis\": \"y\", \"type\": \"bar\"}, {\"alignmentgroup\": \"True\", \"hovertemplate\": \"Genre=%{x}<br>Year=1996<br>Cumulative_Games per Genre=%{y}<extra></extra>\", \"ids\": [\"Role-Playing\"], \"legendgroup\": \"Role-Playing\", \"marker\": {\"color\": \"#16FF32\"}, \"name\": \"Role-Playing\", \"offsetgroup\": \"Role-Playing\", \"orientation\": \"v\", \"showlegend\": true, \"textposition\": \"auto\", \"x\": [\"Role-Playing\"], \"xaxis\": \"x\", \"y\": [17.0], \"yaxis\": \"y\", \"type\": \"bar\"}, {\"alignmentgroup\": \"True\", \"hovertemplate\": \"Genre=%{x}<br>Year=1996<br>Cumulative_Games per Genre=%{y}<extra></extra>\", \"ids\": [\"Shooter\"], \"legendgroup\": \"Shooter\", \"marker\": {\"color\": \"#FF97FF\"}, \"name\": \"Shooter\", \"offsetgroup\": \"Shooter\", \"orientation\": \"v\", \"showlegend\": true, \"textposition\": \"auto\", \"x\": [\"Shooter\"], \"xaxis\": \"x\", \"y\": [65.0], \"yaxis\": \"y\", \"type\": \"bar\"}, {\"alignmentgroup\": \"True\", \"hovertemplate\": \"Genre=%{x}<br>Year=1996<br>Cumulative_Games per Genre=%{y}<extra></extra>\", \"ids\": [\"Simulation\"], \"legendgroup\": \"Simulation\", \"marker\": {\"color\": \"#FFFF00\"}, \"name\": \"Simulation\", \"offsetgroup\": \"Simulation\", \"orientation\": \"v\", \"showlegend\": true, \"textposition\": \"auto\", \"x\": [\"Simulation\"], \"xaxis\": \"x\", \"y\": [23.0], \"yaxis\": \"y\", \"type\": \"bar\"}, {\"alignmentgroup\": \"True\", \"hovertemplate\": \"Genre=%{x}<br>Year=1996<br>Cumulative_Games per Genre=%{y}<extra></extra>\", \"ids\": [\"Sports\"], \"legendgroup\": \"Sports\", \"marker\": {\"color\": \"#2dc997\"}, \"name\": \"Sports\", \"offsetgroup\": \"Sports\", \"orientation\": \"v\", \"showlegend\": true, \"textposition\": \"auto\", \"x\": [\"Sports\"], \"xaxis\": \"x\", \"y\": [74.0], \"yaxis\": \"y\", \"type\": \"bar\"}, {\"alignmentgroup\": \"True\", \"hovertemplate\": \"Genre=%{x}<br>Year=1996<br>Cumulative_Games per Genre=%{y}<extra></extra>\", \"ids\": [\"Strategy\"], \"legendgroup\": \"Strategy\", \"marker\": {\"color\": \"#B10DA1\"}, \"name\": \"Strategy\", \"offsetgroup\": \"Strategy\", \"orientation\": \"v\", \"showlegend\": true, \"textposition\": \"auto\", \"x\": [\"Strategy\"], \"xaxis\": \"x\", \"y\": [12.0], \"yaxis\": \"y\", \"type\": \"bar\"}], \"name\": \"1996\"}, {\"data\": [{\"alignmentgroup\": \"True\", \"hovertemplate\": \"Genre=%{x}<br>Year=1997<br>Cumulative_Games per Genre=%{y}<extra></extra>\", \"ids\": [\"Action\"], \"legendgroup\": \"Action\", \"marker\": {\"color\": \"#636EFA\"}, \"name\": \"Action\", \"offsetgroup\": \"Action\", \"orientation\": \"v\", \"showlegend\": true, \"textposition\": \"auto\", \"x\": [\"Action\"], \"xaxis\": \"x\", \"y\": [91.0], \"yaxis\": \"y\", \"type\": \"bar\"}, {\"alignmentgroup\": \"True\", \"hovertemplate\": \"Genre=%{x}<br>Year=1997<br>Cumulative_Games per Genre=%{y}<extra></extra>\", \"ids\": [\"Adventure\"], \"legendgroup\": \"Adventure\", \"marker\": {\"color\": \"#EF553B\"}, \"name\": \"Adventure\", \"offsetgroup\": \"Adventure\", \"orientation\": \"v\", \"showlegend\": true, \"textposition\": \"auto\", \"x\": [\"Adventure\"], \"xaxis\": \"x\", \"y\": [18.0], \"yaxis\": \"y\", \"type\": \"bar\"}, {\"alignmentgroup\": \"True\", \"hovertemplate\": \"Genre=%{x}<br>Year=1997<br>Cumulative_Games per Genre=%{y}<extra></extra>\", \"ids\": [\"Fighting\"], \"legendgroup\": \"Fighting\", \"marker\": {\"color\": \"#00CC96\"}, \"name\": \"Fighting\", \"offsetgroup\": \"Fighting\", \"orientation\": \"v\", \"showlegend\": true, \"textposition\": \"auto\", \"x\": [\"Fighting\"], \"xaxis\": \"x\", \"y\": [69.0], \"yaxis\": \"y\", \"type\": \"bar\"}, {\"alignmentgroup\": \"True\", \"hovertemplate\": \"Genre=%{x}<br>Year=1997<br>Cumulative_Games per Genre=%{y}<extra></extra>\", \"ids\": [\"Misc\"], \"legendgroup\": \"Misc\", \"marker\": {\"color\": \"#AB63FA\"}, \"name\": \"Misc\", \"offsetgroup\": \"Misc\", \"orientation\": \"v\", \"showlegend\": true, \"textposition\": \"auto\", \"x\": [\"Misc\"], \"xaxis\": \"x\", \"y\": [18.0], \"yaxis\": \"y\", \"type\": \"bar\"}, {\"alignmentgroup\": \"True\", \"hovertemplate\": \"Genre=%{x}<br>Year=1997<br>Cumulative_Games per Genre=%{y}<extra></extra>\", \"ids\": [\"Platform\"], \"legendgroup\": \"Platform\", \"marker\": {\"color\": \"#ff8001\"}, \"name\": \"Platform\", \"offsetgroup\": \"Platform\", \"orientation\": \"v\", \"showlegend\": true, \"textposition\": \"auto\", \"x\": [\"Platform\"], \"xaxis\": \"x\", \"y\": [60.0], \"yaxis\": \"y\", \"type\": \"bar\"}, {\"alignmentgroup\": \"True\", \"hovertemplate\": \"Genre=%{x}<br>Year=1997<br>Cumulative_Games per Genre=%{y}<extra></extra>\", \"ids\": [\"Puzzle\"], \"legendgroup\": \"Puzzle\", \"marker\": {\"color\": \"#00fcfe\"}, \"name\": \"Puzzle\", \"offsetgroup\": \"Puzzle\", \"orientation\": \"v\", \"showlegend\": true, \"textposition\": \"auto\", \"x\": [\"Puzzle\"], \"xaxis\": \"x\", \"y\": [30.0], \"yaxis\": \"y\", \"type\": \"bar\"}, {\"alignmentgroup\": \"True\", \"hovertemplate\": \"Genre=%{x}<br>Year=1997<br>Cumulative_Games per Genre=%{y}<extra></extra>\", \"ids\": [\"Racing\"], \"legendgroup\": \"Racing\", \"marker\": {\"color\": \"#FE00FA\"}, \"name\": \"Racing\", \"offsetgroup\": \"Racing\", \"orientation\": \"v\", \"showlegend\": true, \"textposition\": \"auto\", \"x\": [\"Racing\"], \"xaxis\": \"x\", \"y\": [71.0], \"yaxis\": \"y\", \"type\": \"bar\"}, {\"alignmentgroup\": \"True\", \"hovertemplate\": \"Genre=%{x}<br>Year=1997<br>Cumulative_Games per Genre=%{y}<extra></extra>\", \"ids\": [\"Role-Playing\"], \"legendgroup\": \"Role-Playing\", \"marker\": {\"color\": \"#16FF32\"}, \"name\": \"Role-Playing\", \"offsetgroup\": \"Role-Playing\", \"orientation\": \"v\", \"showlegend\": true, \"textposition\": \"auto\", \"x\": [\"Role-Playing\"], \"xaxis\": \"x\", \"y\": [25.0], \"yaxis\": \"y\", \"type\": \"bar\"}, {\"alignmentgroup\": \"True\", \"hovertemplate\": \"Genre=%{x}<br>Year=1997<br>Cumulative_Games per Genre=%{y}<extra></extra>\", \"ids\": [\"Shooter\"], \"legendgroup\": \"Shooter\", \"marker\": {\"color\": \"#FF97FF\"}, \"name\": \"Shooter\", \"offsetgroup\": \"Shooter\", \"orientation\": \"v\", \"showlegend\": true, \"textposition\": \"auto\", \"x\": [\"Shooter\"], \"xaxis\": \"x\", \"y\": [83.0], \"yaxis\": \"y\", \"type\": \"bar\"}, {\"alignmentgroup\": \"True\", \"hovertemplate\": \"Genre=%{x}<br>Year=1997<br>Cumulative_Games per Genre=%{y}<extra></extra>\", \"ids\": [\"Simulation\"], \"legendgroup\": \"Simulation\", \"marker\": {\"color\": \"#FFFF00\"}, \"name\": \"Simulation\", \"offsetgroup\": \"Simulation\", \"orientation\": \"v\", \"showlegend\": true, \"textposition\": \"auto\", \"x\": [\"Simulation\"], \"xaxis\": \"x\", \"y\": [34.0], \"yaxis\": \"y\", \"type\": \"bar\"}, {\"alignmentgroup\": \"True\", \"hovertemplate\": \"Genre=%{x}<br>Year=1997<br>Cumulative_Games per Genre=%{y}<extra></extra>\", \"ids\": [\"Sports\"], \"legendgroup\": \"Sports\", \"marker\": {\"color\": \"#2dc997\"}, \"name\": \"Sports\", \"offsetgroup\": \"Sports\", \"orientation\": \"v\", \"showlegend\": true, \"textposition\": \"auto\", \"x\": [\"Sports\"], \"xaxis\": \"x\", \"y\": [104.0], \"yaxis\": \"y\", \"type\": \"bar\"}, {\"alignmentgroup\": \"True\", \"hovertemplate\": \"Genre=%{x}<br>Year=1997<br>Cumulative_Games per Genre=%{y}<extra></extra>\", \"ids\": [\"Strategy\"], \"legendgroup\": \"Strategy\", \"marker\": {\"color\": \"#B10DA1\"}, \"name\": \"Strategy\", \"offsetgroup\": \"Strategy\", \"orientation\": \"v\", \"showlegend\": true, \"textposition\": \"auto\", \"x\": [\"Strategy\"], \"xaxis\": \"x\", \"y\": [17.0], \"yaxis\": \"y\", \"type\": \"bar\"}], \"name\": \"1997\"}, {\"data\": [{\"alignmentgroup\": \"True\", \"hovertemplate\": \"Genre=%{x}<br>Year=1998<br>Cumulative_Games per Genre=%{y}<extra></extra>\", \"ids\": [\"Action\"], \"legendgroup\": \"Action\", \"marker\": {\"color\": \"#636EFA\"}, \"name\": \"Action\", \"offsetgroup\": \"Action\", \"orientation\": \"v\", \"showlegend\": true, \"textposition\": \"auto\", \"x\": [\"Action\"], \"xaxis\": \"x\", \"y\": [125.0], \"yaxis\": \"y\", \"type\": \"bar\"}, {\"alignmentgroup\": \"True\", \"hovertemplate\": \"Genre=%{x}<br>Year=1998<br>Cumulative_Games per Genre=%{y}<extra></extra>\", \"ids\": [\"Adventure\"], \"legendgroup\": \"Adventure\", \"marker\": {\"color\": \"#EF553B\"}, \"name\": \"Adventure\", \"offsetgroup\": \"Adventure\", \"orientation\": \"v\", \"showlegend\": true, \"textposition\": \"auto\", \"x\": [\"Adventure\"], \"xaxis\": \"x\", \"y\": [21.0], \"yaxis\": \"y\", \"type\": \"bar\"}, {\"alignmentgroup\": \"True\", \"hovertemplate\": \"Genre=%{x}<br>Year=1998<br>Cumulative_Games per Genre=%{y}<extra></extra>\", \"ids\": [\"Fighting\"], \"legendgroup\": \"Fighting\", \"marker\": {\"color\": \"#00CC96\"}, \"name\": \"Fighting\", \"offsetgroup\": \"Fighting\", \"orientation\": \"v\", \"showlegend\": true, \"textposition\": \"auto\", \"x\": [\"Fighting\"], \"xaxis\": \"x\", \"y\": [97.0], \"yaxis\": \"y\", \"type\": \"bar\"}, {\"alignmentgroup\": \"True\", \"hovertemplate\": \"Genre=%{x}<br>Year=1998<br>Cumulative_Games per Genre=%{y}<extra></extra>\", \"ids\": [\"Misc\"], \"legendgroup\": \"Misc\", \"marker\": {\"color\": \"#AB63FA\"}, \"name\": \"Misc\", \"offsetgroup\": \"Misc\", \"orientation\": \"v\", \"showlegend\": true, \"textposition\": \"auto\", \"x\": [\"Misc\"], \"xaxis\": \"x\", \"y\": [31.0], \"yaxis\": \"y\", \"type\": \"bar\"}, {\"alignmentgroup\": \"True\", \"hovertemplate\": \"Genre=%{x}<br>Year=1998<br>Cumulative_Games per Genre=%{y}<extra></extra>\", \"ids\": [\"Platform\"], \"legendgroup\": \"Platform\", \"marker\": {\"color\": \"#ff8001\"}, \"name\": \"Platform\", \"offsetgroup\": \"Platform\", \"orientation\": \"v\", \"showlegend\": true, \"textposition\": \"auto\", \"x\": [\"Platform\"], \"xaxis\": \"x\", \"y\": [79.0], \"yaxis\": \"y\", \"type\": \"bar\"}, {\"alignmentgroup\": \"True\", \"hovertemplate\": \"Genre=%{x}<br>Year=1998<br>Cumulative_Games per Genre=%{y}<extra></extra>\", \"ids\": [\"Puzzle\"], \"legendgroup\": \"Puzzle\", \"marker\": {\"color\": \"#00fcfe\"}, \"name\": \"Puzzle\", \"offsetgroup\": \"Puzzle\", \"orientation\": \"v\", \"showlegend\": true, \"textposition\": \"auto\", \"x\": [\"Puzzle\"], \"xaxis\": \"x\", \"y\": [39.0], \"yaxis\": \"y\", \"type\": \"bar\"}, {\"alignmentgroup\": \"True\", \"hovertemplate\": \"Genre=%{x}<br>Year=1998<br>Cumulative_Games per Genre=%{y}<extra></extra>\", \"ids\": [\"Racing\"], \"legendgroup\": \"Racing\", \"marker\": {\"color\": \"#FE00FA\"}, \"name\": \"Racing\", \"offsetgroup\": \"Racing\", \"orientation\": \"v\", \"showlegend\": true, \"textposition\": \"auto\", \"x\": [\"Racing\"], \"xaxis\": \"x\", \"y\": [106.0], \"yaxis\": \"y\", \"type\": \"bar\"}, {\"alignmentgroup\": \"True\", \"hovertemplate\": \"Genre=%{x}<br>Year=1998<br>Cumulative_Games per Genre=%{y}<extra></extra>\", \"ids\": [\"Role-Playing\"], \"legendgroup\": \"Role-Playing\", \"marker\": {\"color\": \"#16FF32\"}, \"name\": \"Role-Playing\", \"offsetgroup\": \"Role-Playing\", \"orientation\": \"v\", \"showlegend\": true, \"textposition\": \"auto\", \"x\": [\"Role-Playing\"], \"xaxis\": \"x\", \"y\": [37.0], \"yaxis\": \"y\", \"type\": \"bar\"}, {\"alignmentgroup\": \"True\", \"hovertemplate\": \"Genre=%{x}<br>Year=1998<br>Cumulative_Games per Genre=%{y}<extra></extra>\", \"ids\": [\"Shooter\"], \"legendgroup\": \"Shooter\", \"marker\": {\"color\": \"#FF97FF\"}, \"name\": \"Shooter\", \"offsetgroup\": \"Shooter\", \"orientation\": \"v\", \"showlegend\": true, \"textposition\": \"auto\", \"x\": [\"Shooter\"], \"xaxis\": \"x\", \"y\": [99.0], \"yaxis\": \"y\", \"type\": \"bar\"}, {\"alignmentgroup\": \"True\", \"hovertemplate\": \"Genre=%{x}<br>Year=1998<br>Cumulative_Games per Genre=%{y}<extra></extra>\", \"ids\": [\"Simulation\"], \"legendgroup\": \"Simulation\", \"marker\": {\"color\": \"#FFFF00\"}, \"name\": \"Simulation\", \"offsetgroup\": \"Simulation\", \"orientation\": \"v\", \"showlegend\": true, \"textposition\": \"auto\", \"x\": [\"Simulation\"], \"xaxis\": \"x\", \"y\": [39.0], \"yaxis\": \"y\", \"type\": \"bar\"}, {\"alignmentgroup\": \"True\", \"hovertemplate\": \"Genre=%{x}<br>Year=1998<br>Cumulative_Games per Genre=%{y}<extra></extra>\", \"ids\": [\"Sports\"], \"legendgroup\": \"Sports\", \"marker\": {\"color\": \"#2dc997\"}, \"name\": \"Sports\", \"offsetgroup\": \"Sports\", \"orientation\": \"v\", \"showlegend\": true, \"textposition\": \"auto\", \"x\": [\"Sports\"], \"xaxis\": \"x\", \"y\": [151.0], \"yaxis\": \"y\", \"type\": \"bar\"}, {\"alignmentgroup\": \"True\", \"hovertemplate\": \"Genre=%{x}<br>Year=1998<br>Cumulative_Games per Genre=%{y}<extra></extra>\", \"ids\": [\"Strategy\"], \"legendgroup\": \"Strategy\", \"marker\": {\"color\": \"#B10DA1\"}, \"name\": \"Strategy\", \"offsetgroup\": \"Strategy\", \"orientation\": \"v\", \"showlegend\": true, \"textposition\": \"auto\", \"x\": [\"Strategy\"], \"xaxis\": \"x\", \"y\": [27.0], \"yaxis\": \"y\", \"type\": \"bar\"}], \"name\": \"1998\"}, {\"data\": [{\"alignmentgroup\": \"True\", \"hovertemplate\": \"Genre=%{x}<br>Year=1999<br>Cumulative_Games per Genre=%{y}<extra></extra>\", \"ids\": [\"Action\"], \"legendgroup\": \"Action\", \"marker\": {\"color\": \"#636EFA\"}, \"name\": \"Action\", \"offsetgroup\": \"Action\", \"orientation\": \"v\", \"showlegend\": true, \"textposition\": \"auto\", \"x\": [\"Action\"], \"xaxis\": \"x\", \"y\": [155.0], \"yaxis\": \"y\", \"type\": \"bar\"}, {\"alignmentgroup\": \"True\", \"hovertemplate\": \"Genre=%{x}<br>Year=1999<br>Cumulative_Games per Genre=%{y}<extra></extra>\", \"ids\": [\"Adventure\"], \"legendgroup\": \"Adventure\", \"marker\": {\"color\": \"#EF553B\"}, \"name\": \"Adventure\", \"offsetgroup\": \"Adventure\", \"orientation\": \"v\", \"showlegend\": true, \"textposition\": \"auto\", \"x\": [\"Adventure\"], \"xaxis\": \"x\", \"y\": [27.0], \"yaxis\": \"y\", \"type\": \"bar\"}, {\"alignmentgroup\": \"True\", \"hovertemplate\": \"Genre=%{x}<br>Year=1999<br>Cumulative_Games per Genre=%{y}<extra></extra>\", \"ids\": [\"Fighting\"], \"legendgroup\": \"Fighting\", \"marker\": {\"color\": \"#00CC96\"}, \"name\": \"Fighting\", \"offsetgroup\": \"Fighting\", \"orientation\": \"v\", \"showlegend\": true, \"textposition\": \"auto\", \"x\": [\"Fighting\"], \"xaxis\": \"x\", \"y\": [108.0], \"yaxis\": \"y\", \"type\": \"bar\"}, {\"alignmentgroup\": \"True\", \"hovertemplate\": \"Genre=%{x}<br>Year=1999<br>Cumulative_Games per Genre=%{y}<extra></extra>\", \"ids\": [\"Misc\"], \"legendgroup\": \"Misc\", \"marker\": {\"color\": \"#AB63FA\"}, \"name\": \"Misc\", \"offsetgroup\": \"Misc\", \"orientation\": \"v\", \"showlegend\": true, \"textposition\": \"auto\", \"x\": [\"Misc\"], \"xaxis\": \"x\", \"y\": [41.0], \"yaxis\": \"y\", \"type\": \"bar\"}, {\"alignmentgroup\": \"True\", \"hovertemplate\": \"Genre=%{x}<br>Year=1999<br>Cumulative_Games per Genre=%{y}<extra></extra>\", \"ids\": [\"Platform\"], \"legendgroup\": \"Platform\", \"marker\": {\"color\": \"#ff8001\"}, \"name\": \"Platform\", \"offsetgroup\": \"Platform\", \"orientation\": \"v\", \"showlegend\": true, \"textposition\": \"auto\", \"x\": [\"Platform\"], \"xaxis\": \"x\", \"y\": [92.0], \"yaxis\": \"y\", \"type\": \"bar\"}, {\"alignmentgroup\": \"True\", \"hovertemplate\": \"Genre=%{x}<br>Year=1999<br>Cumulative_Games per Genre=%{y}<extra></extra>\", \"ids\": [\"Puzzle\"], \"legendgroup\": \"Puzzle\", \"marker\": {\"color\": \"#00fcfe\"}, \"name\": \"Puzzle\", \"offsetgroup\": \"Puzzle\", \"orientation\": \"v\", \"showlegend\": true, \"textposition\": \"auto\", \"x\": [\"Puzzle\"], \"xaxis\": \"x\", \"y\": [44.0], \"yaxis\": \"y\", \"type\": \"bar\"}, {\"alignmentgroup\": \"True\", \"hovertemplate\": \"Genre=%{x}<br>Year=1999<br>Cumulative_Games per Genre=%{y}<extra></extra>\", \"ids\": [\"Racing\"], \"legendgroup\": \"Racing\", \"marker\": {\"color\": \"#FE00FA\"}, \"name\": \"Racing\", \"offsetgroup\": \"Racing\", \"orientation\": \"v\", \"showlegend\": true, \"textposition\": \"auto\", \"x\": [\"Racing\"], \"xaxis\": \"x\", \"y\": [146.0], \"yaxis\": \"y\", \"type\": \"bar\"}, {\"alignmentgroup\": \"True\", \"hovertemplate\": \"Genre=%{x}<br>Year=1999<br>Cumulative_Games per Genre=%{y}<extra></extra>\", \"ids\": [\"Role-Playing\"], \"legendgroup\": \"Role-Playing\", \"marker\": {\"color\": \"#16FF32\"}, \"name\": \"Role-Playing\", \"offsetgroup\": \"Role-Playing\", \"orientation\": \"v\", \"showlegend\": true, \"textposition\": \"auto\", \"x\": [\"Role-Playing\"], \"xaxis\": \"x\", \"y\": [54.0], \"yaxis\": \"y\", \"type\": \"bar\"}, {\"alignmentgroup\": \"True\", \"hovertemplate\": \"Genre=%{x}<br>Year=1999<br>Cumulative_Games per Genre=%{y}<extra></extra>\", \"ids\": [\"Shooter\"], \"legendgroup\": \"Shooter\", \"marker\": {\"color\": \"#FF97FF\"}, \"name\": \"Shooter\", \"offsetgroup\": \"Shooter\", \"orientation\": \"v\", \"showlegend\": true, \"textposition\": \"auto\", \"x\": [\"Shooter\"], \"xaxis\": \"x\", \"y\": [113.0], \"yaxis\": \"y\", \"type\": \"bar\"}, {\"alignmentgroup\": \"True\", \"hovertemplate\": \"Genre=%{x}<br>Year=1999<br>Cumulative_Games per Genre=%{y}<extra></extra>\", \"ids\": [\"Simulation\"], \"legendgroup\": \"Simulation\", \"marker\": {\"color\": \"#FFFF00\"}, \"name\": \"Simulation\", \"offsetgroup\": \"Simulation\", \"orientation\": \"v\", \"showlegend\": true, \"textposition\": \"auto\", \"x\": [\"Simulation\"], \"xaxis\": \"x\", \"y\": [45.0], \"yaxis\": \"y\", \"type\": \"bar\"}, {\"alignmentgroup\": \"True\", \"hovertemplate\": \"Genre=%{x}<br>Year=1999<br>Cumulative_Games per Genre=%{y}<extra></extra>\", \"ids\": [\"Sports\"], \"legendgroup\": \"Sports\", \"marker\": {\"color\": \"#2dc997\"}, \"name\": \"Sports\", \"offsetgroup\": \"Sports\", \"orientation\": \"v\", \"showlegend\": true, \"textposition\": \"auto\", \"x\": [\"Sports\"], \"xaxis\": \"x\", \"y\": [190.0], \"yaxis\": \"y\", \"type\": \"bar\"}, {\"alignmentgroup\": \"True\", \"hovertemplate\": \"Genre=%{x}<br>Year=1999<br>Cumulative_Games per Genre=%{y}<extra></extra>\", \"ids\": [\"Strategy\"], \"legendgroup\": \"Strategy\", \"marker\": {\"color\": \"#B10DA1\"}, \"name\": \"Strategy\", \"offsetgroup\": \"Strategy\", \"orientation\": \"v\", \"showlegend\": true, \"textposition\": \"auto\", \"x\": [\"Strategy\"], \"xaxis\": \"x\", \"y\": [40.0], \"yaxis\": \"y\", \"type\": \"bar\"}], \"name\": \"1999\"}, {\"data\": [{\"alignmentgroup\": \"True\", \"hovertemplate\": \"Genre=%{x}<br>Year=2000<br>Cumulative_Games per Genre=%{y}<extra></extra>\", \"ids\": [\"Action\"], \"legendgroup\": \"Action\", \"marker\": {\"color\": \"#636EFA\"}, \"name\": \"Action\", \"offsetgroup\": \"Action\", \"orientation\": \"v\", \"showlegend\": true, \"textposition\": \"auto\", \"x\": [\"Action\"], \"xaxis\": \"x\", \"y\": [182.0], \"yaxis\": \"y\", \"type\": \"bar\"}, {\"alignmentgroup\": \"True\", \"hovertemplate\": \"Genre=%{x}<br>Year=2000<br>Cumulative_Games per Genre=%{y}<extra></extra>\", \"ids\": [\"Adventure\"], \"legendgroup\": \"Adventure\", \"marker\": {\"color\": \"#EF553B\"}, \"name\": \"Adventure\", \"offsetgroup\": \"Adventure\", \"orientation\": \"v\", \"showlegend\": true, \"textposition\": \"auto\", \"x\": [\"Adventure\"], \"xaxis\": \"x\", \"y\": [33.0], \"yaxis\": \"y\", \"type\": \"bar\"}, {\"alignmentgroup\": \"True\", \"hovertemplate\": \"Genre=%{x}<br>Year=2000<br>Cumulative_Games per Genre=%{y}<extra></extra>\", \"ids\": [\"Fighting\"], \"legendgroup\": \"Fighting\", \"marker\": {\"color\": \"#00CC96\"}, \"name\": \"Fighting\", \"offsetgroup\": \"Fighting\", \"orientation\": \"v\", \"showlegend\": true, \"textposition\": \"auto\", \"x\": [\"Fighting\"], \"xaxis\": \"x\", \"y\": [121.0], \"yaxis\": \"y\", \"type\": \"bar\"}, {\"alignmentgroup\": \"True\", \"hovertemplate\": \"Genre=%{x}<br>Year=2000<br>Cumulative_Games per Genre=%{y}<extra></extra>\", \"ids\": [\"Misc\"], \"legendgroup\": \"Misc\", \"marker\": {\"color\": \"#AB63FA\"}, \"name\": \"Misc\", \"offsetgroup\": \"Misc\", \"orientation\": \"v\", \"showlegend\": true, \"textposition\": \"auto\", \"x\": [\"Misc\"], \"xaxis\": \"x\", \"y\": [48.0], \"yaxis\": \"y\", \"type\": \"bar\"}, {\"alignmentgroup\": \"True\", \"hovertemplate\": \"Genre=%{x}<br>Year=2000<br>Cumulative_Games per Genre=%{y}<extra></extra>\", \"ids\": [\"Platform\"], \"legendgroup\": \"Platform\", \"marker\": {\"color\": \"#ff8001\"}, \"name\": \"Platform\", \"offsetgroup\": \"Platform\", \"orientation\": \"v\", \"showlegend\": true, \"textposition\": \"auto\", \"x\": [\"Platform\"], \"xaxis\": \"x\", \"y\": [104.0], \"yaxis\": \"y\", \"type\": \"bar\"}, {\"alignmentgroup\": \"True\", \"hovertemplate\": \"Genre=%{x}<br>Year=2000<br>Cumulative_Games per Genre=%{y}<extra></extra>\", \"ids\": [\"Puzzle\"], \"legendgroup\": \"Puzzle\", \"marker\": {\"color\": \"#00fcfe\"}, \"name\": \"Puzzle\", \"offsetgroup\": \"Puzzle\", \"orientation\": \"v\", \"showlegend\": true, \"textposition\": \"auto\", \"x\": [\"Puzzle\"], \"xaxis\": \"x\", \"y\": [48.0], \"yaxis\": \"y\", \"type\": \"bar\"}, {\"alignmentgroup\": \"True\", \"hovertemplate\": \"Genre=%{x}<br>Year=2000<br>Cumulative_Games per Genre=%{y}<extra></extra>\", \"ids\": [\"Racing\"], \"legendgroup\": \"Racing\", \"marker\": {\"color\": \"#FE00FA\"}, \"name\": \"Racing\", \"offsetgroup\": \"Racing\", \"orientation\": \"v\", \"showlegend\": true, \"textposition\": \"auto\", \"x\": [\"Racing\"], \"xaxis\": \"x\", \"y\": [174.0], \"yaxis\": \"y\", \"type\": \"bar\"}, {\"alignmentgroup\": \"True\", \"hovertemplate\": \"Genre=%{x}<br>Year=2000<br>Cumulative_Games per Genre=%{y}<extra></extra>\", \"ids\": [\"Role-Playing\"], \"legendgroup\": \"Role-Playing\", \"marker\": {\"color\": \"#16FF32\"}, \"name\": \"Role-Playing\", \"offsetgroup\": \"Role-Playing\", \"orientation\": \"v\", \"showlegend\": true, \"textposition\": \"auto\", \"x\": [\"Role-Playing\"], \"xaxis\": \"x\", \"y\": [59.0], \"yaxis\": \"y\", \"type\": \"bar\"}, {\"alignmentgroup\": \"True\", \"hovertemplate\": \"Genre=%{x}<br>Year=2000<br>Cumulative_Games per Genre=%{y}<extra></extra>\", \"ids\": [\"Shooter\"], \"legendgroup\": \"Shooter\", \"marker\": {\"color\": \"#FF97FF\"}, \"name\": \"Shooter\", \"offsetgroup\": \"Shooter\", \"orientation\": \"v\", \"showlegend\": true, \"textposition\": \"auto\", \"x\": [\"Shooter\"], \"xaxis\": \"x\", \"y\": [124.0], \"yaxis\": \"y\", \"type\": \"bar\"}, {\"alignmentgroup\": \"True\", \"hovertemplate\": \"Genre=%{x}<br>Year=2000<br>Cumulative_Games per Genre=%{y}<extra></extra>\", \"ids\": [\"Simulation\"], \"legendgroup\": \"Simulation\", \"marker\": {\"color\": \"#FFFF00\"}, \"name\": \"Simulation\", \"offsetgroup\": \"Simulation\", \"orientation\": \"v\", \"showlegend\": true, \"textposition\": \"auto\", \"x\": [\"Simulation\"], \"xaxis\": \"x\", \"y\": [49.0], \"yaxis\": \"y\", \"type\": \"bar\"}, {\"alignmentgroup\": \"True\", \"hovertemplate\": \"Genre=%{x}<br>Year=2000<br>Cumulative_Games per Genre=%{y}<extra></extra>\", \"ids\": [\"Sports\"], \"legendgroup\": \"Sports\", \"marker\": {\"color\": \"#2dc997\"}, \"name\": \"Sports\", \"offsetgroup\": \"Sports\", \"orientation\": \"v\", \"showlegend\": true, \"textposition\": \"auto\", \"x\": [\"Sports\"], \"xaxis\": \"x\", \"y\": [226.0], \"yaxis\": \"y\", \"type\": \"bar\"}, {\"alignmentgroup\": \"True\", \"hovertemplate\": \"Genre=%{x}<br>Year=2000<br>Cumulative_Games per Genre=%{y}<extra></extra>\", \"ids\": [\"Strategy\"], \"legendgroup\": \"Strategy\", \"marker\": {\"color\": \"#B10DA1\"}, \"name\": \"Strategy\", \"offsetgroup\": \"Strategy\", \"orientation\": \"v\", \"showlegend\": true, \"textposition\": \"auto\", \"x\": [\"Strategy\"], \"xaxis\": \"x\", \"y\": [41.0], \"yaxis\": \"y\", \"type\": \"bar\"}], \"name\": \"2000\"}, {\"data\": [{\"alignmentgroup\": \"True\", \"hovertemplate\": \"Genre=%{x}<br>Year=2001<br>Cumulative_Games per Genre=%{y}<extra></extra>\", \"ids\": [\"Action\"], \"legendgroup\": \"Action\", \"marker\": {\"color\": \"#636EFA\"}, \"name\": \"Action\", \"offsetgroup\": \"Action\", \"orientation\": \"v\", \"showlegend\": true, \"textposition\": \"auto\", \"x\": [\"Action\"], \"xaxis\": \"x\", \"y\": [198.0], \"yaxis\": \"y\", \"type\": \"bar\"}, {\"alignmentgroup\": \"True\", \"hovertemplate\": \"Genre=%{x}<br>Year=2001<br>Cumulative_Games per Genre=%{y}<extra></extra>\", \"ids\": [\"Adventure\"], \"legendgroup\": \"Adventure\", \"marker\": {\"color\": \"#EF553B\"}, \"name\": \"Adventure\", \"offsetgroup\": \"Adventure\", \"orientation\": \"v\", \"showlegend\": true, \"textposition\": \"auto\", \"x\": [\"Adventure\"], \"xaxis\": \"x\", \"y\": [38.0], \"yaxis\": \"y\", \"type\": \"bar\"}, {\"alignmentgroup\": \"True\", \"hovertemplate\": \"Genre=%{x}<br>Year=2001<br>Cumulative_Games per Genre=%{y}<extra></extra>\", \"ids\": [\"Fighting\"], \"legendgroup\": \"Fighting\", \"marker\": {\"color\": \"#00CC96\"}, \"name\": \"Fighting\", \"offsetgroup\": \"Fighting\", \"orientation\": \"v\", \"showlegend\": true, \"textposition\": \"auto\", \"x\": [\"Fighting\"], \"xaxis\": \"x\", \"y\": [123.0], \"yaxis\": \"y\", \"type\": \"bar\"}, {\"alignmentgroup\": \"True\", \"hovertemplate\": \"Genre=%{x}<br>Year=2001<br>Cumulative_Games per Genre=%{y}<extra></extra>\", \"ids\": [\"Misc\"], \"legendgroup\": \"Misc\", \"marker\": {\"color\": \"#AB63FA\"}, \"name\": \"Misc\", \"offsetgroup\": \"Misc\", \"orientation\": \"v\", \"showlegend\": true, \"textposition\": \"auto\", \"x\": [\"Misc\"], \"xaxis\": \"x\", \"y\": [49.0], \"yaxis\": \"y\", \"type\": \"bar\"}, {\"alignmentgroup\": \"True\", \"hovertemplate\": \"Genre=%{x}<br>Year=2001<br>Cumulative_Games per Genre=%{y}<extra></extra>\", \"ids\": [\"Platform\"], \"legendgroup\": \"Platform\", \"marker\": {\"color\": \"#ff8001\"}, \"name\": \"Platform\", \"offsetgroup\": \"Platform\", \"orientation\": \"v\", \"showlegend\": true, \"textposition\": \"auto\", \"x\": [\"Platform\"], \"xaxis\": \"x\", \"y\": [107.0], \"yaxis\": \"y\", \"type\": \"bar\"}, {\"alignmentgroup\": \"True\", \"hovertemplate\": \"Genre=%{x}<br>Year=2001<br>Cumulative_Games per Genre=%{y}<extra></extra>\", \"ids\": [\"Puzzle\"], \"legendgroup\": \"Puzzle\", \"marker\": {\"color\": \"#00fcfe\"}, \"name\": \"Puzzle\", \"offsetgroup\": \"Puzzle\", \"orientation\": \"v\", \"showlegend\": true, \"textposition\": \"auto\", \"x\": [\"Puzzle\"], \"xaxis\": \"x\", \"y\": [51.0], \"yaxis\": \"y\", \"type\": \"bar\"}, {\"alignmentgroup\": \"True\", \"hovertemplate\": \"Genre=%{x}<br>Year=2001<br>Cumulative_Games per Genre=%{y}<extra></extra>\", \"ids\": [\"Racing\"], \"legendgroup\": \"Racing\", \"marker\": {\"color\": \"#FE00FA\"}, \"name\": \"Racing\", \"offsetgroup\": \"Racing\", \"orientation\": \"v\", \"showlegend\": true, \"textposition\": \"auto\", \"x\": [\"Racing\"], \"xaxis\": \"x\", \"y\": [182.0], \"yaxis\": \"y\", \"type\": \"bar\"}, {\"alignmentgroup\": \"True\", \"hovertemplate\": \"Genre=%{x}<br>Year=2001<br>Cumulative_Games per Genre=%{y}<extra></extra>\", \"ids\": [\"Role-Playing\"], \"legendgroup\": \"Role-Playing\", \"marker\": {\"color\": \"#16FF32\"}, \"name\": \"Role-Playing\", \"offsetgroup\": \"Role-Playing\", \"orientation\": \"v\", \"showlegend\": true, \"textposition\": \"auto\", \"x\": [\"Role-Playing\"], \"xaxis\": \"x\", \"y\": [62.0], \"yaxis\": \"y\", \"type\": \"bar\"}, {\"alignmentgroup\": \"True\", \"hovertemplate\": \"Genre=%{x}<br>Year=2001<br>Cumulative_Games per Genre=%{y}<extra></extra>\", \"ids\": [\"Shooter\"], \"legendgroup\": \"Shooter\", \"marker\": {\"color\": \"#FF97FF\"}, \"name\": \"Shooter\", \"offsetgroup\": \"Shooter\", \"orientation\": \"v\", \"showlegend\": true, \"textposition\": \"auto\", \"x\": [\"Shooter\"], \"xaxis\": \"x\", \"y\": [131.0], \"yaxis\": \"y\", \"type\": \"bar\"}, {\"alignmentgroup\": \"True\", \"hovertemplate\": \"Genre=%{x}<br>Year=2001<br>Cumulative_Games per Genre=%{y}<extra></extra>\", \"ids\": [\"Simulation\"], \"legendgroup\": \"Simulation\", \"marker\": {\"color\": \"#FFFF00\"}, \"name\": \"Simulation\", \"offsetgroup\": \"Simulation\", \"orientation\": \"v\", \"showlegend\": true, \"textposition\": \"auto\", \"x\": [\"Simulation\"], \"xaxis\": \"x\", \"y\": [49.0], \"yaxis\": \"y\", \"type\": \"bar\"}, {\"alignmentgroup\": \"True\", \"hovertemplate\": \"Genre=%{x}<br>Year=2001<br>Cumulative_Games per Genre=%{y}<extra></extra>\", \"ids\": [\"Sports\"], \"legendgroup\": \"Sports\", \"marker\": {\"color\": \"#2dc997\"}, \"name\": \"Sports\", \"offsetgroup\": \"Sports\", \"orientation\": \"v\", \"showlegend\": true, \"textposition\": \"auto\", \"x\": [\"Sports\"], \"xaxis\": \"x\", \"y\": [244.0], \"yaxis\": \"y\", \"type\": \"bar\"}, {\"alignmentgroup\": \"True\", \"hovertemplate\": \"Genre=%{x}<br>Year=2001<br>Cumulative_Games per Genre=%{y}<extra></extra>\", \"ids\": [\"Strategy\"], \"legendgroup\": \"Strategy\", \"marker\": {\"color\": \"#B10DA1\"}, \"name\": \"Strategy\", \"offsetgroup\": \"Strategy\", \"orientation\": \"v\", \"showlegend\": true, \"textposition\": \"auto\", \"x\": [\"Strategy\"], \"xaxis\": \"x\", \"y\": [42.0], \"yaxis\": \"y\", \"type\": \"bar\"}], \"name\": \"2001\"}, {\"data\": [{\"alignmentgroup\": \"True\", \"hovertemplate\": \"Genre=%{x}<br>Year=2002<br>Cumulative_Games per Genre=%{y}<extra></extra>\", \"ids\": [\"Action\"], \"legendgroup\": \"Action\", \"marker\": {\"color\": \"#636EFA\"}, \"name\": \"Action\", \"offsetgroup\": \"Action\", \"orientation\": \"v\", \"showlegend\": true, \"textposition\": \"auto\", \"x\": [\"Action\"], \"xaxis\": \"x\", \"y\": [200.0], \"yaxis\": \"y\", \"type\": \"bar\"}, {\"alignmentgroup\": \"True\", \"hovertemplate\": \"Genre=%{x}<br>Year=2002<br>Cumulative_Games per Genre=%{y}<extra></extra>\", \"ids\": [\"Adventure\"], \"legendgroup\": \"Adventure\", \"marker\": {\"color\": \"#EF553B\"}, \"name\": \"Adventure\", \"offsetgroup\": \"Adventure\", \"orientation\": \"v\", \"showlegend\": true, \"textposition\": \"auto\", \"x\": [\"Adventure\"], \"xaxis\": \"x\", \"y\": [38.0], \"yaxis\": \"y\", \"type\": \"bar\"}, {\"alignmentgroup\": \"True\", \"hovertemplate\": \"Genre=%{x}<br>Year=2002<br>Cumulative_Games per Genre=%{y}<extra></extra>\", \"ids\": [\"Fighting\"], \"legendgroup\": \"Fighting\", \"marker\": {\"color\": \"#00CC96\"}, \"name\": \"Fighting\", \"offsetgroup\": \"Fighting\", \"orientation\": \"v\", \"showlegend\": true, \"textposition\": \"auto\", \"x\": [\"Fighting\"], \"xaxis\": \"x\", \"y\": [124.0], \"yaxis\": \"y\", \"type\": \"bar\"}, {\"alignmentgroup\": \"True\", \"hovertemplate\": \"Genre=%{x}<br>Year=2002<br>Cumulative_Games per Genre=%{y}<extra></extra>\", \"ids\": [\"Misc\"], \"legendgroup\": \"Misc\", \"marker\": {\"color\": \"#AB63FA\"}, \"name\": \"Misc\", \"offsetgroup\": \"Misc\", \"orientation\": \"v\", \"showlegend\": true, \"textposition\": \"auto\", \"x\": [\"Misc\"], \"xaxis\": \"x\", \"y\": [49.0], \"yaxis\": \"y\", \"type\": \"bar\"}, {\"alignmentgroup\": \"True\", \"hovertemplate\": \"Genre=%{x}<br>Year=2002<br>Cumulative_Games per Genre=%{y}<extra></extra>\", \"ids\": [\"Platform\"], \"legendgroup\": \"Platform\", \"marker\": {\"color\": \"#ff8001\"}, \"name\": \"Platform\", \"offsetgroup\": \"Platform\", \"orientation\": \"v\", \"showlegend\": true, \"textposition\": \"auto\", \"x\": [\"Platform\"], \"xaxis\": \"x\", \"y\": [107.0], \"yaxis\": \"y\", \"type\": \"bar\"}, {\"alignmentgroup\": \"True\", \"hovertemplate\": \"Genre=%{x}<br>Year=2002<br>Cumulative_Games per Genre=%{y}<extra></extra>\", \"ids\": [\"Puzzle\"], \"legendgroup\": \"Puzzle\", \"marker\": {\"color\": \"#00fcfe\"}, \"name\": \"Puzzle\", \"offsetgroup\": \"Puzzle\", \"orientation\": \"v\", \"showlegend\": true, \"textposition\": \"auto\", \"x\": [\"Puzzle\"], \"xaxis\": \"x\", \"y\": [51.0], \"yaxis\": \"y\", \"type\": \"bar\"}, {\"alignmentgroup\": \"True\", \"hovertemplate\": \"Genre=%{x}<br>Year=2002<br>Cumulative_Games per Genre=%{y}<extra></extra>\", \"ids\": [\"Racing\"], \"legendgroup\": \"Racing\", \"marker\": {\"color\": \"#FE00FA\"}, \"name\": \"Racing\", \"offsetgroup\": \"Racing\", \"orientation\": \"v\", \"showlegend\": true, \"textposition\": \"auto\", \"x\": [\"Racing\"], \"xaxis\": \"x\", \"y\": [183.0], \"yaxis\": \"y\", \"type\": \"bar\"}, {\"alignmentgroup\": \"True\", \"hovertemplate\": \"Genre=%{x}<br>Year=2002<br>Cumulative_Games per Genre=%{y}<extra></extra>\", \"ids\": [\"Role-Playing\"], \"legendgroup\": \"Role-Playing\", \"marker\": {\"color\": \"#16FF32\"}, \"name\": \"Role-Playing\", \"offsetgroup\": \"Role-Playing\", \"orientation\": \"v\", \"showlegend\": true, \"textposition\": \"auto\", \"x\": [\"Role-Playing\"], \"xaxis\": \"x\", \"y\": [62.0], \"yaxis\": \"y\", \"type\": \"bar\"}, {\"alignmentgroup\": \"True\", \"hovertemplate\": \"Genre=%{x}<br>Year=2002<br>Cumulative_Games per Genre=%{y}<extra></extra>\", \"ids\": [\"Shooter\"], \"legendgroup\": \"Shooter\", \"marker\": {\"color\": \"#FF97FF\"}, \"name\": \"Shooter\", \"offsetgroup\": \"Shooter\", \"orientation\": \"v\", \"showlegend\": true, \"textposition\": \"auto\", \"x\": [\"Shooter\"], \"xaxis\": \"x\", \"y\": [132.0], \"yaxis\": \"y\", \"type\": \"bar\"}, {\"alignmentgroup\": \"True\", \"hovertemplate\": \"Genre=%{x}<br>Year=2002<br>Cumulative_Games per Genre=%{y}<extra></extra>\", \"ids\": [\"Simulation\"], \"legendgroup\": \"Simulation\", \"marker\": {\"color\": \"#FFFF00\"}, \"name\": \"Simulation\", \"offsetgroup\": \"Simulation\", \"orientation\": \"v\", \"showlegend\": true, \"textposition\": \"auto\", \"x\": [\"Simulation\"], \"xaxis\": \"x\", \"y\": [49.0], \"yaxis\": \"y\", \"type\": \"bar\"}, {\"alignmentgroup\": \"True\", \"hovertemplate\": \"Genre=%{x}<br>Year=2002<br>Cumulative_Games per Genre=%{y}<extra></extra>\", \"ids\": [\"Sports\"], \"legendgroup\": \"Sports\", \"marker\": {\"color\": \"#2dc997\"}, \"name\": \"Sports\", \"offsetgroup\": \"Sports\", \"orientation\": \"v\", \"showlegend\": true, \"textposition\": \"auto\", \"x\": [\"Sports\"], \"xaxis\": \"x\", \"y\": [245.0], \"yaxis\": \"y\", \"type\": \"bar\"}, {\"alignmentgroup\": \"True\", \"hovertemplate\": \"Genre=%{x}<br>Year=2002<br>Cumulative_Games per Genre=%{y}<extra></extra>\", \"ids\": [\"Strategy\"], \"legendgroup\": \"Strategy\", \"marker\": {\"color\": \"#B10DA1\"}, \"name\": \"Strategy\", \"offsetgroup\": \"Strategy\", \"orientation\": \"v\", \"showlegend\": true, \"textposition\": \"auto\", \"x\": [\"Strategy\"], \"xaxis\": \"x\", \"y\": [42.0], \"yaxis\": \"y\", \"type\": \"bar\"}], \"name\": \"2002\"}, {\"data\": [{\"alignmentgroup\": \"True\", \"hovertemplate\": \"Genre=%{x}<br>Year=2003<br>Cumulative_Games per Genre=%{y}<extra></extra>\", \"ids\": [\"Action\"], \"legendgroup\": \"Action\", \"marker\": {\"color\": \"#636EFA\"}, \"name\": \"Action\", \"offsetgroup\": \"Action\", \"orientation\": \"v\", \"showlegend\": true, \"textposition\": \"auto\", \"x\": [\"Action\"], \"xaxis\": \"x\", \"y\": [200.0], \"yaxis\": \"y\", \"type\": \"bar\"}, {\"alignmentgroup\": \"True\", \"hovertemplate\": \"Genre=%{x}<br>Year=2003<br>Cumulative_Games per Genre=%{y}<extra></extra>\", \"ids\": [\"Adventure\"], \"legendgroup\": \"Adventure\", \"marker\": {\"color\": \"#EF553B\"}, \"name\": \"Adventure\", \"offsetgroup\": \"Adventure\", \"orientation\": \"v\", \"showlegend\": true, \"textposition\": \"auto\", \"x\": [\"Adventure\"], \"xaxis\": \"x\", \"y\": [38.0], \"yaxis\": \"y\", \"type\": \"bar\"}, {\"alignmentgroup\": \"True\", \"hovertemplate\": \"Genre=%{x}<br>Year=2003<br>Cumulative_Games per Genre=%{y}<extra></extra>\", \"ids\": [\"Fighting\"], \"legendgroup\": \"Fighting\", \"marker\": {\"color\": \"#00CC96\"}, \"name\": \"Fighting\", \"offsetgroup\": \"Fighting\", \"orientation\": \"v\", \"showlegend\": true, \"textposition\": \"auto\", \"x\": [\"Fighting\"], \"xaxis\": \"x\", \"y\": [124.0], \"yaxis\": \"y\", \"type\": \"bar\"}, {\"alignmentgroup\": \"True\", \"hovertemplate\": \"Genre=%{x}<br>Year=2003<br>Cumulative_Games per Genre=%{y}<extra></extra>\", \"ids\": [\"Misc\"], \"legendgroup\": \"Misc\", \"marker\": {\"color\": \"#AB63FA\"}, \"name\": \"Misc\", \"offsetgroup\": \"Misc\", \"orientation\": \"v\", \"showlegend\": true, \"textposition\": \"auto\", \"x\": [\"Misc\"], \"xaxis\": \"x\", \"y\": [49.0], \"yaxis\": \"y\", \"type\": \"bar\"}, {\"alignmentgroup\": \"True\", \"hovertemplate\": \"Genre=%{x}<br>Year=2003<br>Cumulative_Games per Genre=%{y}<extra></extra>\", \"ids\": [\"Platform\"], \"legendgroup\": \"Platform\", \"marker\": {\"color\": \"#ff8001\"}, \"name\": \"Platform\", \"offsetgroup\": \"Platform\", \"orientation\": \"v\", \"showlegend\": true, \"textposition\": \"auto\", \"x\": [\"Platform\"], \"xaxis\": \"x\", \"y\": [107.0], \"yaxis\": \"y\", \"type\": \"bar\"}, {\"alignmentgroup\": \"True\", \"hovertemplate\": \"Genre=%{x}<br>Year=2003<br>Cumulative_Games per Genre=%{y}<extra></extra>\", \"ids\": [\"Puzzle\"], \"legendgroup\": \"Puzzle\", \"marker\": {\"color\": \"#00fcfe\"}, \"name\": \"Puzzle\", \"offsetgroup\": \"Puzzle\", \"orientation\": \"v\", \"showlegend\": true, \"textposition\": \"auto\", \"x\": [\"Puzzle\"], \"xaxis\": \"x\", \"y\": [51.0], \"yaxis\": \"y\", \"type\": \"bar\"}, {\"alignmentgroup\": \"True\", \"hovertemplate\": \"Genre=%{x}<br>Year=2003<br>Cumulative_Games per Genre=%{y}<extra></extra>\", \"ids\": [\"Racing\"], \"legendgroup\": \"Racing\", \"marker\": {\"color\": \"#FE00FA\"}, \"name\": \"Racing\", \"offsetgroup\": \"Racing\", \"orientation\": \"v\", \"showlegend\": true, \"textposition\": \"auto\", \"x\": [\"Racing\"], \"xaxis\": \"x\", \"y\": [183.0], \"yaxis\": \"y\", \"type\": \"bar\"}, {\"alignmentgroup\": \"True\", \"hovertemplate\": \"Genre=%{x}<br>Year=2003<br>Cumulative_Games per Genre=%{y}<extra></extra>\", \"ids\": [\"Role-Playing\"], \"legendgroup\": \"Role-Playing\", \"marker\": {\"color\": \"#16FF32\"}, \"name\": \"Role-Playing\", \"offsetgroup\": \"Role-Playing\", \"orientation\": \"v\", \"showlegend\": true, \"textposition\": \"auto\", \"x\": [\"Role-Playing\"], \"xaxis\": \"x\", \"y\": [62.0], \"yaxis\": \"y\", \"type\": \"bar\"}, {\"alignmentgroup\": \"True\", \"hovertemplate\": \"Genre=%{x}<br>Year=2003<br>Cumulative_Games per Genre=%{y}<extra></extra>\", \"ids\": [\"Shooter\"], \"legendgroup\": \"Shooter\", \"marker\": {\"color\": \"#FF97FF\"}, \"name\": \"Shooter\", \"offsetgroup\": \"Shooter\", \"orientation\": \"v\", \"showlegend\": true, \"textposition\": \"auto\", \"x\": [\"Shooter\"], \"xaxis\": \"x\", \"y\": [132.0], \"yaxis\": \"y\", \"type\": \"bar\"}, {\"alignmentgroup\": \"True\", \"hovertemplate\": \"Genre=%{x}<br>Year=2003<br>Cumulative_Games per Genre=%{y}<extra></extra>\", \"ids\": [\"Simulation\"], \"legendgroup\": \"Simulation\", \"marker\": {\"color\": \"#FFFF00\"}, \"name\": \"Simulation\", \"offsetgroup\": \"Simulation\", \"orientation\": \"v\", \"showlegend\": true, \"textposition\": \"auto\", \"x\": [\"Simulation\"], \"xaxis\": \"x\", \"y\": [49.0], \"yaxis\": \"y\", \"type\": \"bar\"}, {\"alignmentgroup\": \"True\", \"hovertemplate\": \"Genre=%{x}<br>Year=2003<br>Cumulative_Games per Genre=%{y}<extra></extra>\", \"ids\": [\"Sports\"], \"legendgroup\": \"Sports\", \"marker\": {\"color\": \"#2dc997\"}, \"name\": \"Sports\", \"offsetgroup\": \"Sports\", \"orientation\": \"v\", \"showlegend\": true, \"textposition\": \"auto\", \"x\": [\"Sports\"], \"xaxis\": \"x\", \"y\": [246.0], \"yaxis\": \"y\", \"type\": \"bar\"}, {\"alignmentgroup\": \"True\", \"hovertemplate\": \"Genre=%{x}<br>Year=2003<br>Cumulative_Games per Genre=%{y}<extra></extra>\", \"ids\": [\"Strategy\"], \"legendgroup\": \"Strategy\", \"marker\": {\"color\": \"#B10DA1\"}, \"name\": \"Strategy\", \"offsetgroup\": \"Strategy\", \"orientation\": \"v\", \"showlegend\": true, \"textposition\": \"auto\", \"x\": [\"Strategy\"], \"xaxis\": \"x\", \"y\": [42.0], \"yaxis\": \"y\", \"type\": \"bar\"}], \"name\": \"2003\"}]);\n",
       "                        }).then(function(){\n",
       "                            \n",
       "var gd = document.getElementById('84a45f2a-0e4a-467e-b202-5e2c71e0d9ec');\n",
       "var x = new MutationObserver(function (mutations, observer) {{\n",
       "        var display = window.getComputedStyle(gd).display;\n",
       "        if (!display || display === 'none') {{\n",
       "            console.log([gd, 'removed!']);\n",
       "            Plotly.purge(gd);\n",
       "            observer.disconnect();\n",
       "        }}\n",
       "}});\n",
       "\n",
       "// Listen for the removal of the full notebook cells\n",
       "var notebookContainer = gd.closest('#notebook-container');\n",
       "if (notebookContainer) {{\n",
       "    x.observe(notebookContainer, {childList: true});\n",
       "}}\n",
       "\n",
       "// Listen for the clearing of the current output cell\n",
       "var outputEl = gd.closest('.output');\n",
       "if (outputEl) {{\n",
       "    x.observe(outputEl, {childList: true});\n",
       "}}\n",
       "\n",
       "                        })                };                });            </script>        </div>"
      ]
     },
     "metadata": {},
     "output_type": "display_data"
    }
   ],
   "source": [
    "# top genre over time bar chart race\n",
    "fig = px.bar(cumulative_genre_by_year, title=\"Top Genres over Time-vintage\", x=\"Genre\", y=\"Cumulative_Games per Genre\", \n",
    "             color=\"Genre\", animation_frame=\"Year\", animation_group=\"Genre\", range_y=[0,260],\n",
    "             color_discrete_sequence=palette)\n",
    "fig.layout.updatemenus[0].buttons[0].args[1][\"frame\"][\"duration\"] = 300\n",
    "\n",
    "fig.show()"
   ]
  },
  {
   "cell_type": "code",
   "execution_count": 12,
   "metadata": {},
   "outputs": [
    {
     "data": {
      "text/html": [
       "<div>\n",
       "<style scoped>\n",
       "    .dataframe tbody tr th:only-of-type {\n",
       "        vertical-align: middle;\n",
       "    }\n",
       "\n",
       "    .dataframe tbody tr th {\n",
       "        vertical-align: top;\n",
       "    }\n",
       "\n",
       "    .dataframe thead th {\n",
       "        text-align: right;\n",
       "    }\n",
       "</style>\n",
       "<table border=\"1\" class=\"dataframe\">\n",
       "  <thead>\n",
       "    <tr style=\"text-align: right;\">\n",
       "      <th></th>\n",
       "      <th>Year</th>\n",
       "      <th>NA_Sales</th>\n",
       "      <th>EU_Sales</th>\n",
       "      <th>JP_Sales</th>\n",
       "      <th>Other_Sales</th>\n",
       "      <th>Global_Sales</th>\n",
       "    </tr>\n",
       "  </thead>\n",
       "  <tbody>\n",
       "    <tr>\n",
       "      <th>0</th>\n",
       "      <td>1980</td>\n",
       "      <td>6500000.0</td>\n",
       "      <td>420000.0</td>\n",
       "      <td>0.0</td>\n",
       "      <td>80000.0</td>\n",
       "      <td>6990000</td>\n",
       "    </tr>\n",
       "    <tr>\n",
       "      <th>1</th>\n",
       "      <td>1981</td>\n",
       "      <td>25190000.0</td>\n",
       "      <td>1470000.0</td>\n",
       "      <td>0.0</td>\n",
       "      <td>230000.0</td>\n",
       "      <td>26970000</td>\n",
       "    </tr>\n",
       "    <tr>\n",
       "      <th>2</th>\n",
       "      <td>1982</td>\n",
       "      <td>15650000.0</td>\n",
       "      <td>960000.0</td>\n",
       "      <td>0.0</td>\n",
       "      <td>180000.0</td>\n",
       "      <td>16760000</td>\n",
       "    </tr>\n",
       "    <tr>\n",
       "      <th>3</th>\n",
       "      <td>1983</td>\n",
       "      <td>5840000.0</td>\n",
       "      <td>510000.0</td>\n",
       "      <td>2800000.0</td>\n",
       "      <td>100000.0</td>\n",
       "      <td>9230000</td>\n",
       "    </tr>\n",
       "    <tr>\n",
       "      <th>4</th>\n",
       "      <td>1984</td>\n",
       "      <td>32410000.0</td>\n",
       "      <td>1860000.0</td>\n",
       "      <td>8210000.0</td>\n",
       "      <td>650000.0</td>\n",
       "      <td>43140000</td>\n",
       "    </tr>\n",
       "    <tr>\n",
       "      <th>5</th>\n",
       "      <td>1985</td>\n",
       "      <td>33730000.0</td>\n",
       "      <td>4710000.0</td>\n",
       "      <td>13080000.0</td>\n",
       "      <td>910000.0</td>\n",
       "      <td>52430000</td>\n",
       "    </tr>\n",
       "    <tr>\n",
       "      <th>6</th>\n",
       "      <td>1986</td>\n",
       "      <td>8070000.0</td>\n",
       "      <td>1850000.0</td>\n",
       "      <td>7180000.0</td>\n",
       "      <td>1780000.0</td>\n",
       "      <td>18860000</td>\n",
       "    </tr>\n",
       "    <tr>\n",
       "      <th>7</th>\n",
       "      <td>1987</td>\n",
       "      <td>7749999.0</td>\n",
       "      <td>1300000.0</td>\n",
       "      <td>6830000.0</td>\n",
       "      <td>190000.0</td>\n",
       "      <td>16110000</td>\n",
       "    </tr>\n",
       "    <tr>\n",
       "      <th>8</th>\n",
       "      <td>1988</td>\n",
       "      <td>21920000.0</td>\n",
       "      <td>6190000.0</td>\n",
       "      <td>8130000.0</td>\n",
       "      <td>940000.0</td>\n",
       "      <td>37190000</td>\n",
       "    </tr>\n",
       "    <tr>\n",
       "      <th>9</th>\n",
       "      <td>1989</td>\n",
       "      <td>3890000.0</td>\n",
       "      <td>460000.0</td>\n",
       "      <td>310000.0</td>\n",
       "      <td>50000.0</td>\n",
       "      <td>4700000</td>\n",
       "    </tr>\n",
       "    <tr>\n",
       "      <th>10</th>\n",
       "      <td>1990</td>\n",
       "      <td>9680000.0</td>\n",
       "      <td>2850000.0</td>\n",
       "      <td>4940000.0</td>\n",
       "      <td>380000.0</td>\n",
       "      <td>17880000</td>\n",
       "    </tr>\n",
       "    <tr>\n",
       "      <th>11</th>\n",
       "      <td>1991</td>\n",
       "      <td>7460000.0</td>\n",
       "      <td>2070000.0</td>\n",
       "      <td>5240000.0</td>\n",
       "      <td>290000.0</td>\n",
       "      <td>15070000</td>\n",
       "    </tr>\n",
       "    <tr>\n",
       "      <th>12</th>\n",
       "      <td>1992</td>\n",
       "      <td>15970000.0</td>\n",
       "      <td>4730000.0</td>\n",
       "      <td>9390000.0</td>\n",
       "      <td>710000.0</td>\n",
       "      <td>30809998</td>\n",
       "    </tr>\n",
       "    <tr>\n",
       "      <th>13</th>\n",
       "      <td>1993</td>\n",
       "      <td>12830000.0</td>\n",
       "      <td>4020000.0</td>\n",
       "      <td>7200000.0</td>\n",
       "      <td>560000.0</td>\n",
       "      <td>24610000</td>\n",
       "    </tr>\n",
       "    <tr>\n",
       "      <th>14</th>\n",
       "      <td>1994</td>\n",
       "      <td>12480000.0</td>\n",
       "      <td>4490000.0</td>\n",
       "      <td>11380000.0</td>\n",
       "      <td>820000.0</td>\n",
       "      <td>29170000</td>\n",
       "    </tr>\n",
       "    <tr>\n",
       "      <th>15</th>\n",
       "      <td>1995</td>\n",
       "      <td>20610000.0</td>\n",
       "      <td>11500000.0</td>\n",
       "      <td>14890000.0</td>\n",
       "      <td>1860000.0</td>\n",
       "      <td>48830000</td>\n",
       "    </tr>\n",
       "    <tr>\n",
       "      <th>16</th>\n",
       "      <td>1996</td>\n",
       "      <td>63199999.0</td>\n",
       "      <td>30210000.0</td>\n",
       "      <td>19740000.0</td>\n",
       "      <td>5110000.0</td>\n",
       "      <td>118310000</td>\n",
       "    </tr>\n",
       "    <tr>\n",
       "      <th>17</th>\n",
       "      <td>1997</td>\n",
       "      <td>77859999.0</td>\n",
       "      <td>39849999.0</td>\n",
       "      <td>22500000.0</td>\n",
       "      <td>6970000.0</td>\n",
       "      <td>147120000</td>\n",
       "    </tr>\n",
       "    <tr>\n",
       "      <th>18</th>\n",
       "      <td>1998</td>\n",
       "      <td>100570000.0</td>\n",
       "      <td>49419999.0</td>\n",
       "      <td>19490000.0</td>\n",
       "      <td>7930000.0</td>\n",
       "      <td>177470000</td>\n",
       "    </tr>\n",
       "    <tr>\n",
       "      <th>19</th>\n",
       "      <td>1999</td>\n",
       "      <td>80649999.0</td>\n",
       "      <td>40630000.0</td>\n",
       "      <td>16530000.0</td>\n",
       "      <td>6090000.0</td>\n",
       "      <td>144130000</td>\n",
       "    </tr>\n",
       "    <tr>\n",
       "      <th>20</th>\n",
       "      <td>2000</td>\n",
       "      <td>55409999.0</td>\n",
       "      <td>31350000.0</td>\n",
       "      <td>7740000.0</td>\n",
       "      <td>4730000.0</td>\n",
       "      <td>99180000</td>\n",
       "    </tr>\n",
       "    <tr>\n",
       "      <th>21</th>\n",
       "      <td>2001</td>\n",
       "      <td>14690000.0</td>\n",
       "      <td>10400000.0</td>\n",
       "      <td>340000.0</td>\n",
       "      <td>1550000.0</td>\n",
       "      <td>26990000</td>\n",
       "    </tr>\n",
       "    <tr>\n",
       "      <th>22</th>\n",
       "      <td>2002</td>\n",
       "      <td>2480000.0</td>\n",
       "      <td>1660000.0</td>\n",
       "      <td>140000.0</td>\n",
       "      <td>230000.0</td>\n",
       "      <td>4499999</td>\n",
       "    </tr>\n",
       "    <tr>\n",
       "      <th>23</th>\n",
       "      <td>2003</td>\n",
       "      <td>230000.0</td>\n",
       "      <td>160000.0</td>\n",
       "      <td>0.0</td>\n",
       "      <td>30000.0</td>\n",
       "      <td>420000</td>\n",
       "    </tr>\n",
       "  </tbody>\n",
       "</table>\n",
       "</div>"
      ],
      "text/plain": [
       "    Year     NA_Sales    EU_Sales    JP_Sales  Other_Sales  Global_Sales\n",
       "0   1980    6500000.0    420000.0         0.0      80000.0       6990000\n",
       "1   1981   25190000.0   1470000.0         0.0     230000.0      26970000\n",
       "2   1982   15650000.0    960000.0         0.0     180000.0      16760000\n",
       "3   1983    5840000.0    510000.0   2800000.0     100000.0       9230000\n",
       "4   1984   32410000.0   1860000.0   8210000.0     650000.0      43140000\n",
       "5   1985   33730000.0   4710000.0  13080000.0     910000.0      52430000\n",
       "6   1986    8070000.0   1850000.0   7180000.0    1780000.0      18860000\n",
       "7   1987    7749999.0   1300000.0   6830000.0     190000.0      16110000\n",
       "8   1988   21920000.0   6190000.0   8130000.0     940000.0      37190000\n",
       "9   1989    3890000.0    460000.0    310000.0      50000.0       4700000\n",
       "10  1990    9680000.0   2850000.0   4940000.0     380000.0      17880000\n",
       "11  1991    7460000.0   2070000.0   5240000.0     290000.0      15070000\n",
       "12  1992   15970000.0   4730000.0   9390000.0     710000.0      30809998\n",
       "13  1993   12830000.0   4020000.0   7200000.0     560000.0      24610000\n",
       "14  1994   12480000.0   4490000.0  11380000.0     820000.0      29170000\n",
       "15  1995   20610000.0  11500000.0  14890000.0    1860000.0      48830000\n",
       "16  1996   63199999.0  30210000.0  19740000.0    5110000.0     118310000\n",
       "17  1997   77859999.0  39849999.0  22500000.0    6970000.0     147120000\n",
       "18  1998  100570000.0  49419999.0  19490000.0    7930000.0     177470000\n",
       "19  1999   80649999.0  40630000.0  16530000.0    6090000.0     144130000\n",
       "20  2000   55409999.0  31350000.0   7740000.0    4730000.0      99180000\n",
       "21  2001   14690000.0  10400000.0    340000.0    1550000.0      26990000\n",
       "22  2002    2480000.0   1660000.0    140000.0     230000.0       4499999\n",
       "23  2003     230000.0    160000.0         0.0      30000.0        420000"
      ]
     },
     "execution_count": 12,
     "metadata": {},
     "output_type": "execute_result"
    }
   ],
   "source": [
    "# Create Sales info table for viz\n",
    "sales_year = sales_df.groupby([\"Year\"], as_index=False).sum()\n",
    "sales_by_year = sales_year[[\"Year\",\"NA_Sales\",\"EU_Sales\", \"JP_Sales\", \"Other_Sales\",\"Global_Sales\"]]\n",
    "sales_by_year"
   ]
  },
  {
   "cell_type": "code",
   "execution_count": 14,
   "metadata": {},
   "outputs": [
    {
     "data": {
      "application/vnd.plotly.v1+json": {
       "config": {
        "plotlyServerURL": "https://plot.ly"
       },
       "data": [
        {
         "hovertemplate": "Year=%{x}<br>Global_Sales=%{y}<extra></extra>",
         "legendgroup": "",
         "line": {
          "color": "#636efa",
          "dash": "solid"
         },
         "mode": "lines",
         "name": "",
         "orientation": "v",
         "showlegend": false,
         "type": "scatter",
         "x": [
          1980,
          1981,
          1982,
          1983,
          1984,
          1985,
          1986,
          1987,
          1988,
          1989,
          1990,
          1991,
          1992,
          1993,
          1994,
          1995,
          1996,
          1997,
          1998,
          1999,
          2000,
          2001,
          2002,
          2003
         ],
         "xaxis": "x",
         "y": [
          6990000,
          26970000,
          16760000,
          9230000,
          43140000,
          52430000,
          18860000,
          16110000,
          37190000,
          4700000,
          17880000,
          15070000,
          30809998,
          24610000,
          29170000,
          48830000,
          118310000,
          147120000,
          177470000,
          144130000,
          99180000,
          26990000,
          4499999,
          420000
         ],
         "yaxis": "y"
        }
       ],
       "layout": {
        "legend": {
         "tracegroupgap": 0
        },
        "template": {
         "data": {
          "bar": [
           {
            "error_x": {
             "color": "#2a3f5f"
            },
            "error_y": {
             "color": "#2a3f5f"
            },
            "marker": {
             "line": {
              "color": "#E5ECF6",
              "width": 0.5
             }
            },
            "type": "bar"
           }
          ],
          "barpolar": [
           {
            "marker": {
             "line": {
              "color": "#E5ECF6",
              "width": 0.5
             }
            },
            "type": "barpolar"
           }
          ],
          "carpet": [
           {
            "aaxis": {
             "endlinecolor": "#2a3f5f",
             "gridcolor": "white",
             "linecolor": "white",
             "minorgridcolor": "white",
             "startlinecolor": "#2a3f5f"
            },
            "baxis": {
             "endlinecolor": "#2a3f5f",
             "gridcolor": "white",
             "linecolor": "white",
             "minorgridcolor": "white",
             "startlinecolor": "#2a3f5f"
            },
            "type": "carpet"
           }
          ],
          "choropleth": [
           {
            "colorbar": {
             "outlinewidth": 0,
             "ticks": ""
            },
            "type": "choropleth"
           }
          ],
          "contour": [
           {
            "colorbar": {
             "outlinewidth": 0,
             "ticks": ""
            },
            "colorscale": [
             [
              0,
              "#0d0887"
             ],
             [
              0.1111111111111111,
              "#46039f"
             ],
             [
              0.2222222222222222,
              "#7201a8"
             ],
             [
              0.3333333333333333,
              "#9c179e"
             ],
             [
              0.4444444444444444,
              "#bd3786"
             ],
             [
              0.5555555555555556,
              "#d8576b"
             ],
             [
              0.6666666666666666,
              "#ed7953"
             ],
             [
              0.7777777777777778,
              "#fb9f3a"
             ],
             [
              0.8888888888888888,
              "#fdca26"
             ],
             [
              1,
              "#f0f921"
             ]
            ],
            "type": "contour"
           }
          ],
          "contourcarpet": [
           {
            "colorbar": {
             "outlinewidth": 0,
             "ticks": ""
            },
            "type": "contourcarpet"
           }
          ],
          "heatmap": [
           {
            "colorbar": {
             "outlinewidth": 0,
             "ticks": ""
            },
            "colorscale": [
             [
              0,
              "#0d0887"
             ],
             [
              0.1111111111111111,
              "#46039f"
             ],
             [
              0.2222222222222222,
              "#7201a8"
             ],
             [
              0.3333333333333333,
              "#9c179e"
             ],
             [
              0.4444444444444444,
              "#bd3786"
             ],
             [
              0.5555555555555556,
              "#d8576b"
             ],
             [
              0.6666666666666666,
              "#ed7953"
             ],
             [
              0.7777777777777778,
              "#fb9f3a"
             ],
             [
              0.8888888888888888,
              "#fdca26"
             ],
             [
              1,
              "#f0f921"
             ]
            ],
            "type": "heatmap"
           }
          ],
          "heatmapgl": [
           {
            "colorbar": {
             "outlinewidth": 0,
             "ticks": ""
            },
            "colorscale": [
             [
              0,
              "#0d0887"
             ],
             [
              0.1111111111111111,
              "#46039f"
             ],
             [
              0.2222222222222222,
              "#7201a8"
             ],
             [
              0.3333333333333333,
              "#9c179e"
             ],
             [
              0.4444444444444444,
              "#bd3786"
             ],
             [
              0.5555555555555556,
              "#d8576b"
             ],
             [
              0.6666666666666666,
              "#ed7953"
             ],
             [
              0.7777777777777778,
              "#fb9f3a"
             ],
             [
              0.8888888888888888,
              "#fdca26"
             ],
             [
              1,
              "#f0f921"
             ]
            ],
            "type": "heatmapgl"
           }
          ],
          "histogram": [
           {
            "marker": {
             "colorbar": {
              "outlinewidth": 0,
              "ticks": ""
             }
            },
            "type": "histogram"
           }
          ],
          "histogram2d": [
           {
            "colorbar": {
             "outlinewidth": 0,
             "ticks": ""
            },
            "colorscale": [
             [
              0,
              "#0d0887"
             ],
             [
              0.1111111111111111,
              "#46039f"
             ],
             [
              0.2222222222222222,
              "#7201a8"
             ],
             [
              0.3333333333333333,
              "#9c179e"
             ],
             [
              0.4444444444444444,
              "#bd3786"
             ],
             [
              0.5555555555555556,
              "#d8576b"
             ],
             [
              0.6666666666666666,
              "#ed7953"
             ],
             [
              0.7777777777777778,
              "#fb9f3a"
             ],
             [
              0.8888888888888888,
              "#fdca26"
             ],
             [
              1,
              "#f0f921"
             ]
            ],
            "type": "histogram2d"
           }
          ],
          "histogram2dcontour": [
           {
            "colorbar": {
             "outlinewidth": 0,
             "ticks": ""
            },
            "colorscale": [
             [
              0,
              "#0d0887"
             ],
             [
              0.1111111111111111,
              "#46039f"
             ],
             [
              0.2222222222222222,
              "#7201a8"
             ],
             [
              0.3333333333333333,
              "#9c179e"
             ],
             [
              0.4444444444444444,
              "#bd3786"
             ],
             [
              0.5555555555555556,
              "#d8576b"
             ],
             [
              0.6666666666666666,
              "#ed7953"
             ],
             [
              0.7777777777777778,
              "#fb9f3a"
             ],
             [
              0.8888888888888888,
              "#fdca26"
             ],
             [
              1,
              "#f0f921"
             ]
            ],
            "type": "histogram2dcontour"
           }
          ],
          "mesh3d": [
           {
            "colorbar": {
             "outlinewidth": 0,
             "ticks": ""
            },
            "type": "mesh3d"
           }
          ],
          "parcoords": [
           {
            "line": {
             "colorbar": {
              "outlinewidth": 0,
              "ticks": ""
             }
            },
            "type": "parcoords"
           }
          ],
          "pie": [
           {
            "automargin": true,
            "type": "pie"
           }
          ],
          "scatter": [
           {
            "marker": {
             "colorbar": {
              "outlinewidth": 0,
              "ticks": ""
             }
            },
            "type": "scatter"
           }
          ],
          "scatter3d": [
           {
            "line": {
             "colorbar": {
              "outlinewidth": 0,
              "ticks": ""
             }
            },
            "marker": {
             "colorbar": {
              "outlinewidth": 0,
              "ticks": ""
             }
            },
            "type": "scatter3d"
           }
          ],
          "scattercarpet": [
           {
            "marker": {
             "colorbar": {
              "outlinewidth": 0,
              "ticks": ""
             }
            },
            "type": "scattercarpet"
           }
          ],
          "scattergeo": [
           {
            "marker": {
             "colorbar": {
              "outlinewidth": 0,
              "ticks": ""
             }
            },
            "type": "scattergeo"
           }
          ],
          "scattergl": [
           {
            "marker": {
             "colorbar": {
              "outlinewidth": 0,
              "ticks": ""
             }
            },
            "type": "scattergl"
           }
          ],
          "scattermapbox": [
           {
            "marker": {
             "colorbar": {
              "outlinewidth": 0,
              "ticks": ""
             }
            },
            "type": "scattermapbox"
           }
          ],
          "scatterpolar": [
           {
            "marker": {
             "colorbar": {
              "outlinewidth": 0,
              "ticks": ""
             }
            },
            "type": "scatterpolar"
           }
          ],
          "scatterpolargl": [
           {
            "marker": {
             "colorbar": {
              "outlinewidth": 0,
              "ticks": ""
             }
            },
            "type": "scatterpolargl"
           }
          ],
          "scatterternary": [
           {
            "marker": {
             "colorbar": {
              "outlinewidth": 0,
              "ticks": ""
             }
            },
            "type": "scatterternary"
           }
          ],
          "surface": [
           {
            "colorbar": {
             "outlinewidth": 0,
             "ticks": ""
            },
            "colorscale": [
             [
              0,
              "#0d0887"
             ],
             [
              0.1111111111111111,
              "#46039f"
             ],
             [
              0.2222222222222222,
              "#7201a8"
             ],
             [
              0.3333333333333333,
              "#9c179e"
             ],
             [
              0.4444444444444444,
              "#bd3786"
             ],
             [
              0.5555555555555556,
              "#d8576b"
             ],
             [
              0.6666666666666666,
              "#ed7953"
             ],
             [
              0.7777777777777778,
              "#fb9f3a"
             ],
             [
              0.8888888888888888,
              "#fdca26"
             ],
             [
              1,
              "#f0f921"
             ]
            ],
            "type": "surface"
           }
          ],
          "table": [
           {
            "cells": {
             "fill": {
              "color": "#EBF0F8"
             },
             "line": {
              "color": "white"
             }
            },
            "header": {
             "fill": {
              "color": "#C8D4E3"
             },
             "line": {
              "color": "white"
             }
            },
            "type": "table"
           }
          ]
         },
         "layout": {
          "annotationdefaults": {
           "arrowcolor": "#2a3f5f",
           "arrowhead": 0,
           "arrowwidth": 1
          },
          "coloraxis": {
           "colorbar": {
            "outlinewidth": 0,
            "ticks": ""
           }
          },
          "colorscale": {
           "diverging": [
            [
             0,
             "#8e0152"
            ],
            [
             0.1,
             "#c51b7d"
            ],
            [
             0.2,
             "#de77ae"
            ],
            [
             0.3,
             "#f1b6da"
            ],
            [
             0.4,
             "#fde0ef"
            ],
            [
             0.5,
             "#f7f7f7"
            ],
            [
             0.6,
             "#e6f5d0"
            ],
            [
             0.7,
             "#b8e186"
            ],
            [
             0.8,
             "#7fbc41"
            ],
            [
             0.9,
             "#4d9221"
            ],
            [
             1,
             "#276419"
            ]
           ],
           "sequential": [
            [
             0,
             "#0d0887"
            ],
            [
             0.1111111111111111,
             "#46039f"
            ],
            [
             0.2222222222222222,
             "#7201a8"
            ],
            [
             0.3333333333333333,
             "#9c179e"
            ],
            [
             0.4444444444444444,
             "#bd3786"
            ],
            [
             0.5555555555555556,
             "#d8576b"
            ],
            [
             0.6666666666666666,
             "#ed7953"
            ],
            [
             0.7777777777777778,
             "#fb9f3a"
            ],
            [
             0.8888888888888888,
             "#fdca26"
            ],
            [
             1,
             "#f0f921"
            ]
           ],
           "sequentialminus": [
            [
             0,
             "#0d0887"
            ],
            [
             0.1111111111111111,
             "#46039f"
            ],
            [
             0.2222222222222222,
             "#7201a8"
            ],
            [
             0.3333333333333333,
             "#9c179e"
            ],
            [
             0.4444444444444444,
             "#bd3786"
            ],
            [
             0.5555555555555556,
             "#d8576b"
            ],
            [
             0.6666666666666666,
             "#ed7953"
            ],
            [
             0.7777777777777778,
             "#fb9f3a"
            ],
            [
             0.8888888888888888,
             "#fdca26"
            ],
            [
             1,
             "#f0f921"
            ]
           ]
          },
          "colorway": [
           "#636efa",
           "#EF553B",
           "#00cc96",
           "#ab63fa",
           "#FFA15A",
           "#19d3f3",
           "#FF6692",
           "#B6E880",
           "#FF97FF",
           "#FECB52"
          ],
          "font": {
           "color": "#2a3f5f"
          },
          "geo": {
           "bgcolor": "white",
           "lakecolor": "white",
           "landcolor": "#E5ECF6",
           "showlakes": true,
           "showland": true,
           "subunitcolor": "white"
          },
          "hoverlabel": {
           "align": "left"
          },
          "hovermode": "closest",
          "mapbox": {
           "style": "light"
          },
          "paper_bgcolor": "white",
          "plot_bgcolor": "#E5ECF6",
          "polar": {
           "angularaxis": {
            "gridcolor": "white",
            "linecolor": "white",
            "ticks": ""
           },
           "bgcolor": "#E5ECF6",
           "radialaxis": {
            "gridcolor": "white",
            "linecolor": "white",
            "ticks": ""
           }
          },
          "scene": {
           "xaxis": {
            "backgroundcolor": "#E5ECF6",
            "gridcolor": "white",
            "gridwidth": 2,
            "linecolor": "white",
            "showbackground": true,
            "ticks": "",
            "zerolinecolor": "white"
           },
           "yaxis": {
            "backgroundcolor": "#E5ECF6",
            "gridcolor": "white",
            "gridwidth": 2,
            "linecolor": "white",
            "showbackground": true,
            "ticks": "",
            "zerolinecolor": "white"
           },
           "zaxis": {
            "backgroundcolor": "#E5ECF6",
            "gridcolor": "white",
            "gridwidth": 2,
            "linecolor": "white",
            "showbackground": true,
            "ticks": "",
            "zerolinecolor": "white"
           }
          },
          "shapedefaults": {
           "line": {
            "color": "#2a3f5f"
           }
          },
          "ternary": {
           "aaxis": {
            "gridcolor": "white",
            "linecolor": "white",
            "ticks": ""
           },
           "baxis": {
            "gridcolor": "white",
            "linecolor": "white",
            "ticks": ""
           },
           "bgcolor": "#E5ECF6",
           "caxis": {
            "gridcolor": "white",
            "linecolor": "white",
            "ticks": ""
           }
          },
          "title": {
           "x": 0.05
          },
          "xaxis": {
           "automargin": true,
           "gridcolor": "white",
           "linecolor": "white",
           "ticks": "",
           "title": {
            "standoff": 15
           },
           "zerolinecolor": "white",
           "zerolinewidth": 2
          },
          "yaxis": {
           "automargin": true,
           "gridcolor": "white",
           "linecolor": "white",
           "ticks": "",
           "title": {
            "standoff": 15
           },
           "zerolinecolor": "white",
           "zerolinewidth": 2
          }
         }
        },
        "title": {
         "text": "Global Sales - 1980-2003"
        },
        "xaxis": {
         "anchor": "y",
         "domain": [
          0,
          1
         ],
         "title": {
          "text": "Year"
         }
        },
        "yaxis": {
         "anchor": "x",
         "domain": [
          0,
          1
         ],
         "title": {
          "text": "Global_Sales"
         }
        }
       }
      },
      "text/html": [
       "<div>                            <div id=\"be1e690b-e67a-4204-a0c4-ed04f2ece087\" class=\"plotly-graph-div\" style=\"height:525px; width:100%;\"></div>            <script type=\"text/javascript\">                require([\"plotly\"], function(Plotly) {                    window.PLOTLYENV=window.PLOTLYENV || {};                                    if (document.getElementById(\"be1e690b-e67a-4204-a0c4-ed04f2ece087\")) {                    Plotly.newPlot(                        \"be1e690b-e67a-4204-a0c4-ed04f2ece087\",                        [{\"hovertemplate\": \"Year=%{x}<br>Global_Sales=%{y}<extra></extra>\", \"legendgroup\": \"\", \"line\": {\"color\": \"#636efa\", \"dash\": \"solid\"}, \"mode\": \"lines\", \"name\": \"\", \"orientation\": \"v\", \"showlegend\": false, \"type\": \"scatter\", \"x\": [1980, 1981, 1982, 1983, 1984, 1985, 1986, 1987, 1988, 1989, 1990, 1991, 1992, 1993, 1994, 1995, 1996, 1997, 1998, 1999, 2000, 2001, 2002, 2003], \"xaxis\": \"x\", \"y\": [6990000, 26970000, 16760000, 9230000, 43140000, 52430000, 18860000, 16110000, 37190000, 4700000, 17880000, 15070000, 30809998, 24610000, 29170000, 48830000, 118310000, 147120000, 177470000, 144130000, 99180000, 26990000, 4499999, 420000], \"yaxis\": \"y\"}],                        {\"legend\": {\"tracegroupgap\": 0}, \"template\": {\"data\": {\"bar\": [{\"error_x\": {\"color\": \"#2a3f5f\"}, \"error_y\": {\"color\": \"#2a3f5f\"}, \"marker\": {\"line\": {\"color\": \"#E5ECF6\", \"width\": 0.5}}, \"type\": \"bar\"}], \"barpolar\": [{\"marker\": {\"line\": {\"color\": \"#E5ECF6\", \"width\": 0.5}}, \"type\": \"barpolar\"}], \"carpet\": [{\"aaxis\": {\"endlinecolor\": \"#2a3f5f\", \"gridcolor\": \"white\", \"linecolor\": \"white\", \"minorgridcolor\": \"white\", \"startlinecolor\": \"#2a3f5f\"}, \"baxis\": {\"endlinecolor\": \"#2a3f5f\", \"gridcolor\": \"white\", \"linecolor\": \"white\", \"minorgridcolor\": \"white\", \"startlinecolor\": \"#2a3f5f\"}, \"type\": \"carpet\"}], \"choropleth\": [{\"colorbar\": {\"outlinewidth\": 0, \"ticks\": \"\"}, \"type\": \"choropleth\"}], \"contour\": [{\"colorbar\": {\"outlinewidth\": 0, \"ticks\": \"\"}, \"colorscale\": [[0.0, \"#0d0887\"], [0.1111111111111111, \"#46039f\"], [0.2222222222222222, \"#7201a8\"], [0.3333333333333333, \"#9c179e\"], [0.4444444444444444, \"#bd3786\"], [0.5555555555555556, \"#d8576b\"], [0.6666666666666666, \"#ed7953\"], [0.7777777777777778, \"#fb9f3a\"], [0.8888888888888888, \"#fdca26\"], [1.0, \"#f0f921\"]], \"type\": \"contour\"}], \"contourcarpet\": [{\"colorbar\": {\"outlinewidth\": 0, \"ticks\": \"\"}, \"type\": \"contourcarpet\"}], \"heatmap\": [{\"colorbar\": {\"outlinewidth\": 0, \"ticks\": \"\"}, \"colorscale\": [[0.0, \"#0d0887\"], [0.1111111111111111, \"#46039f\"], [0.2222222222222222, \"#7201a8\"], [0.3333333333333333, \"#9c179e\"], [0.4444444444444444, \"#bd3786\"], [0.5555555555555556, \"#d8576b\"], [0.6666666666666666, \"#ed7953\"], [0.7777777777777778, \"#fb9f3a\"], [0.8888888888888888, \"#fdca26\"], [1.0, \"#f0f921\"]], \"type\": \"heatmap\"}], \"heatmapgl\": [{\"colorbar\": {\"outlinewidth\": 0, \"ticks\": \"\"}, \"colorscale\": [[0.0, \"#0d0887\"], [0.1111111111111111, \"#46039f\"], [0.2222222222222222, \"#7201a8\"], [0.3333333333333333, \"#9c179e\"], [0.4444444444444444, \"#bd3786\"], [0.5555555555555556, \"#d8576b\"], [0.6666666666666666, \"#ed7953\"], [0.7777777777777778, \"#fb9f3a\"], [0.8888888888888888, \"#fdca26\"], [1.0, \"#f0f921\"]], \"type\": \"heatmapgl\"}], \"histogram\": [{\"marker\": {\"colorbar\": {\"outlinewidth\": 0, \"ticks\": \"\"}}, \"type\": \"histogram\"}], \"histogram2d\": [{\"colorbar\": {\"outlinewidth\": 0, \"ticks\": \"\"}, \"colorscale\": [[0.0, \"#0d0887\"], [0.1111111111111111, \"#46039f\"], [0.2222222222222222, \"#7201a8\"], [0.3333333333333333, \"#9c179e\"], [0.4444444444444444, \"#bd3786\"], [0.5555555555555556, \"#d8576b\"], [0.6666666666666666, \"#ed7953\"], [0.7777777777777778, \"#fb9f3a\"], [0.8888888888888888, \"#fdca26\"], [1.0, \"#f0f921\"]], \"type\": \"histogram2d\"}], \"histogram2dcontour\": [{\"colorbar\": {\"outlinewidth\": 0, \"ticks\": \"\"}, \"colorscale\": [[0.0, \"#0d0887\"], [0.1111111111111111, \"#46039f\"], [0.2222222222222222, \"#7201a8\"], [0.3333333333333333, \"#9c179e\"], [0.4444444444444444, \"#bd3786\"], [0.5555555555555556, \"#d8576b\"], [0.6666666666666666, \"#ed7953\"], [0.7777777777777778, \"#fb9f3a\"], [0.8888888888888888, \"#fdca26\"], [1.0, \"#f0f921\"]], \"type\": \"histogram2dcontour\"}], \"mesh3d\": [{\"colorbar\": {\"outlinewidth\": 0, \"ticks\": \"\"}, \"type\": \"mesh3d\"}], \"parcoords\": [{\"line\": {\"colorbar\": {\"outlinewidth\": 0, \"ticks\": \"\"}}, \"type\": \"parcoords\"}], \"pie\": [{\"automargin\": true, \"type\": \"pie\"}], \"scatter\": [{\"marker\": {\"colorbar\": {\"outlinewidth\": 0, \"ticks\": \"\"}}, \"type\": \"scatter\"}], \"scatter3d\": [{\"line\": {\"colorbar\": {\"outlinewidth\": 0, \"ticks\": \"\"}}, \"marker\": {\"colorbar\": {\"outlinewidth\": 0, \"ticks\": \"\"}}, \"type\": \"scatter3d\"}], \"scattercarpet\": [{\"marker\": {\"colorbar\": {\"outlinewidth\": 0, \"ticks\": \"\"}}, \"type\": \"scattercarpet\"}], \"scattergeo\": [{\"marker\": {\"colorbar\": {\"outlinewidth\": 0, \"ticks\": \"\"}}, \"type\": \"scattergeo\"}], \"scattergl\": [{\"marker\": {\"colorbar\": {\"outlinewidth\": 0, \"ticks\": \"\"}}, \"type\": \"scattergl\"}], \"scattermapbox\": [{\"marker\": {\"colorbar\": {\"outlinewidth\": 0, \"ticks\": \"\"}}, \"type\": \"scattermapbox\"}], \"scatterpolar\": [{\"marker\": {\"colorbar\": {\"outlinewidth\": 0, \"ticks\": \"\"}}, \"type\": \"scatterpolar\"}], \"scatterpolargl\": [{\"marker\": {\"colorbar\": {\"outlinewidth\": 0, \"ticks\": \"\"}}, \"type\": \"scatterpolargl\"}], \"scatterternary\": [{\"marker\": {\"colorbar\": {\"outlinewidth\": 0, \"ticks\": \"\"}}, \"type\": \"scatterternary\"}], \"surface\": [{\"colorbar\": {\"outlinewidth\": 0, \"ticks\": \"\"}, \"colorscale\": [[0.0, \"#0d0887\"], [0.1111111111111111, \"#46039f\"], [0.2222222222222222, \"#7201a8\"], [0.3333333333333333, \"#9c179e\"], [0.4444444444444444, \"#bd3786\"], [0.5555555555555556, \"#d8576b\"], [0.6666666666666666, \"#ed7953\"], [0.7777777777777778, \"#fb9f3a\"], [0.8888888888888888, \"#fdca26\"], [1.0, \"#f0f921\"]], \"type\": \"surface\"}], \"table\": [{\"cells\": {\"fill\": {\"color\": \"#EBF0F8\"}, \"line\": {\"color\": \"white\"}}, \"header\": {\"fill\": {\"color\": \"#C8D4E3\"}, \"line\": {\"color\": \"white\"}}, \"type\": \"table\"}]}, \"layout\": {\"annotationdefaults\": {\"arrowcolor\": \"#2a3f5f\", \"arrowhead\": 0, \"arrowwidth\": 1}, \"coloraxis\": {\"colorbar\": {\"outlinewidth\": 0, \"ticks\": \"\"}}, \"colorscale\": {\"diverging\": [[0, \"#8e0152\"], [0.1, \"#c51b7d\"], [0.2, \"#de77ae\"], [0.3, \"#f1b6da\"], [0.4, \"#fde0ef\"], [0.5, \"#f7f7f7\"], [0.6, \"#e6f5d0\"], [0.7, \"#b8e186\"], [0.8, \"#7fbc41\"], [0.9, \"#4d9221\"], [1, \"#276419\"]], \"sequential\": [[0.0, \"#0d0887\"], [0.1111111111111111, \"#46039f\"], [0.2222222222222222, \"#7201a8\"], [0.3333333333333333, \"#9c179e\"], [0.4444444444444444, \"#bd3786\"], [0.5555555555555556, \"#d8576b\"], [0.6666666666666666, \"#ed7953\"], [0.7777777777777778, \"#fb9f3a\"], [0.8888888888888888, \"#fdca26\"], [1.0, \"#f0f921\"]], \"sequentialminus\": [[0.0, \"#0d0887\"], [0.1111111111111111, \"#46039f\"], [0.2222222222222222, \"#7201a8\"], [0.3333333333333333, \"#9c179e\"], [0.4444444444444444, \"#bd3786\"], [0.5555555555555556, \"#d8576b\"], [0.6666666666666666, \"#ed7953\"], [0.7777777777777778, \"#fb9f3a\"], [0.8888888888888888, \"#fdca26\"], [1.0, \"#f0f921\"]]}, \"colorway\": [\"#636efa\", \"#EF553B\", \"#00cc96\", \"#ab63fa\", \"#FFA15A\", \"#19d3f3\", \"#FF6692\", \"#B6E880\", \"#FF97FF\", \"#FECB52\"], \"font\": {\"color\": \"#2a3f5f\"}, \"geo\": {\"bgcolor\": \"white\", \"lakecolor\": \"white\", \"landcolor\": \"#E5ECF6\", \"showlakes\": true, \"showland\": true, \"subunitcolor\": \"white\"}, \"hoverlabel\": {\"align\": \"left\"}, \"hovermode\": \"closest\", \"mapbox\": {\"style\": \"light\"}, \"paper_bgcolor\": \"white\", \"plot_bgcolor\": \"#E5ECF6\", \"polar\": {\"angularaxis\": {\"gridcolor\": \"white\", \"linecolor\": \"white\", \"ticks\": \"\"}, \"bgcolor\": \"#E5ECF6\", \"radialaxis\": {\"gridcolor\": \"white\", \"linecolor\": \"white\", \"ticks\": \"\"}}, \"scene\": {\"xaxis\": {\"backgroundcolor\": \"#E5ECF6\", \"gridcolor\": \"white\", \"gridwidth\": 2, \"linecolor\": \"white\", \"showbackground\": true, \"ticks\": \"\", \"zerolinecolor\": \"white\"}, \"yaxis\": {\"backgroundcolor\": \"#E5ECF6\", \"gridcolor\": \"white\", \"gridwidth\": 2, \"linecolor\": \"white\", \"showbackground\": true, \"ticks\": \"\", \"zerolinecolor\": \"white\"}, \"zaxis\": {\"backgroundcolor\": \"#E5ECF6\", \"gridcolor\": \"white\", \"gridwidth\": 2, \"linecolor\": \"white\", \"showbackground\": true, \"ticks\": \"\", \"zerolinecolor\": \"white\"}}, \"shapedefaults\": {\"line\": {\"color\": \"#2a3f5f\"}}, \"ternary\": {\"aaxis\": {\"gridcolor\": \"white\", \"linecolor\": \"white\", \"ticks\": \"\"}, \"baxis\": {\"gridcolor\": \"white\", \"linecolor\": \"white\", \"ticks\": \"\"}, \"bgcolor\": \"#E5ECF6\", \"caxis\": {\"gridcolor\": \"white\", \"linecolor\": \"white\", \"ticks\": \"\"}}, \"title\": {\"x\": 0.05}, \"xaxis\": {\"automargin\": true, \"gridcolor\": \"white\", \"linecolor\": \"white\", \"ticks\": \"\", \"title\": {\"standoff\": 15}, \"zerolinecolor\": \"white\", \"zerolinewidth\": 2}, \"yaxis\": {\"automargin\": true, \"gridcolor\": \"white\", \"linecolor\": \"white\", \"ticks\": \"\", \"title\": {\"standoff\": 15}, \"zerolinecolor\": \"white\", \"zerolinewidth\": 2}}}, \"title\": {\"text\": \"Global Sales - 1980-2003\"}, \"xaxis\": {\"anchor\": \"y\", \"domain\": [0.0, 1.0], \"title\": {\"text\": \"Year\"}}, \"yaxis\": {\"anchor\": \"x\", \"domain\": [0.0, 1.0], \"title\": {\"text\": \"Global_Sales\"}}},                        {\"responsive\": true}                    ).then(function(){\n",
       "                            \n",
       "var gd = document.getElementById('be1e690b-e67a-4204-a0c4-ed04f2ece087');\n",
       "var x = new MutationObserver(function (mutations, observer) {{\n",
       "        var display = window.getComputedStyle(gd).display;\n",
       "        if (!display || display === 'none') {{\n",
       "            console.log([gd, 'removed!']);\n",
       "            Plotly.purge(gd);\n",
       "            observer.disconnect();\n",
       "        }}\n",
       "}});\n",
       "\n",
       "// Listen for the removal of the full notebook cells\n",
       "var notebookContainer = gd.closest('#notebook-container');\n",
       "if (notebookContainer) {{\n",
       "    x.observe(notebookContainer, {childList: true});\n",
       "}}\n",
       "\n",
       "// Listen for the clearing of the current output cell\n",
       "var outputEl = gd.closest('.output');\n",
       "if (outputEl) {{\n",
       "    x.observe(outputEl, {childList: true});\n",
       "}}\n",
       "\n",
       "                        })                };                });            </script>        </div>"
      ]
     },
     "metadata": {},
     "output_type": "display_data"
    }
   ],
   "source": [
    "# global sales by year - export to HTML\n",
    "fig = px.line(sales_by_year, title=\"Global Sales - 1980-2003\", x=\"Year\", y=\"Global_Sales\")\n",
    "fig.show()\n",
    "fig.write_html(\"../static/img/vintageglobalsales.html\")"
   ]
  },
  {
   "cell_type": "code",
   "execution_count": 15,
   "metadata": {},
   "outputs": [
    {
     "data": {
      "text/plain": [
       "<AxesSubplot:xlabel='Year'>"
      ]
     },
     "execution_count": 15,
     "metadata": {},
     "output_type": "execute_result"
    },
    {
     "data": {
      "image/png": "[encoded data removed]",
      "text/plain": [
       "<Figure size 432x288 with 1 Axes>"
      ]
     },
     "metadata": {
      "needs_background": "light"
     },
     "output_type": "display_data"
    }
   ],
   "source": [
    "# comparison of sales by country by year\n",
    "sales_by_year.plot(x=\"Year\", y=[\"NA_Sales\", \"EU_Sales\", \"JP_Sales\", \"Other_Sales\"], kind=\"line\")"
   ]
  },
  {
   "cell_type": "code",
   "execution_count": 16,
   "metadata": {},
   "outputs": [
    {
     "data": {
      "text/html": [
       "<div>\n",
       "<style scoped>\n",
       "    .dataframe tbody tr th:only-of-type {\n",
       "        vertical-align: middle;\n",
       "    }\n",
       "\n",
       "    .dataframe tbody tr th {\n",
       "        vertical-align: top;\n",
       "    }\n",
       "\n",
       "    .dataframe thead th {\n",
       "        text-align: right;\n",
       "    }\n",
       "</style>\n",
       "<table border=\"1\" class=\"dataframe\">\n",
       "  <thead>\n",
       "    <tr style=\"text-align: right;\">\n",
       "      <th></th>\n",
       "      <th>Platform</th>\n",
       "      <th>Year</th>\n",
       "      <th>Games per Platform</th>\n",
       "    </tr>\n",
       "  </thead>\n",
       "  <tbody>\n",
       "    <tr>\n",
       "      <th>50</th>\n",
       "      <td>SNES</td>\n",
       "      <td>1992</td>\n",
       "      <td>8</td>\n",
       "    </tr>\n",
       "    <tr>\n",
       "      <th>51</th>\n",
       "      <td>SNES</td>\n",
       "      <td>1993</td>\n",
       "      <td>10</td>\n",
       "    </tr>\n",
       "    <tr>\n",
       "      <th>52</th>\n",
       "      <td>SNES</td>\n",
       "      <td>1994</td>\n",
       "      <td>10</td>\n",
       "    </tr>\n",
       "    <tr>\n",
       "      <th>53</th>\n",
       "      <td>SNES</td>\n",
       "      <td>1995</td>\n",
       "      <td>6</td>\n",
       "    </tr>\n",
       "    <tr>\n",
       "      <th>54</th>\n",
       "      <td>SNES</td>\n",
       "      <td>1996</td>\n",
       "      <td>1</td>\n",
       "    </tr>\n",
       "  </tbody>\n",
       "</table>\n",
       "</div>"
      ],
      "text/plain": [
       "   Platform  Year  Games per Platform\n",
       "50     SNES  1992                   8\n",
       "51     SNES  1993                  10\n",
       "52     SNES  1994                  10\n",
       "53     SNES  1995                   6\n",
       "54     SNES  1996                   1"
      ]
     },
     "execution_count": 16,
     "metadata": {},
     "output_type": "execute_result"
    }
   ],
   "source": [
    "platform_and_year = sales_df.groupby([\"Platform\",\"Year\"], as_index=False).count()\n",
    "games_by_year = platform_and_year[[\"Platform\", \"Year\", \"Name\"]].rename(columns={\"Name\": \"Games per Platform\"})\n",
    "games_by_year.tail()"
   ]
  },
  {
   "cell_type": "code",
   "execution_count": 17,
   "metadata": {},
   "outputs": [
    {
     "data": {
      "application/vnd.plotly.v1+json": {
       "config": {
        "plotlyServerURL": "https://plot.ly"
       },
       "data": [
        {
         "alignmentgroup": "True",
         "hovertemplate": "Platform=2600<br>Year=%{x}<br>Games per Platform=%{y}<extra></extra>",
         "legendgroup": "2600",
         "marker": {
          "color": "#636EFA"
         },
         "name": "2600",
         "offsetgroup": "2600",
         "orientation": "v",
         "showlegend": true,
         "textposition": "auto",
         "type": "bar",
         "x": [
          1980,
          1981,
          1982,
          1983,
          1984,
          1985,
          1986,
          1987,
          1988,
          1989
         ],
         "xaxis": "x",
         "y": [
          5,
          36,
          26,
          8,
          1,
          1,
          2,
          6,
          2,
          1
         ],
         "yaxis": "y"
        },
        {
         "alignmentgroup": "True",
         "hovertemplate": "Platform=GEN<br>Year=%{x}<br>Games per Platform=%{y}<extra></extra>",
         "legendgroup": "GEN",
         "marker": {
          "color": "#EF553B"
         },
         "name": "GEN",
         "offsetgroup": "GEN",
         "orientation": "v",
         "showlegend": true,
         "textposition": "auto",
         "type": "bar",
         "x": [
          1990,
          1991,
          1992,
          1993,
          1994
         ],
         "xaxis": "x",
         "y": [
          1,
          1,
          6,
          4,
          5
         ],
         "yaxis": "y"
        },
        {
         "alignmentgroup": "True",
         "hovertemplate": "Platform=N64<br>Year=%{x}<br>Games per Platform=%{y}<extra></extra>",
         "legendgroup": "N64",
         "marker": {
          "color": "#00CC96"
         },
         "name": "N64",
         "offsetgroup": "N64",
         "orientation": "v",
         "showlegend": true,
         "textposition": "auto",
         "type": "bar",
         "x": [
          1996,
          1997,
          1998,
          1999,
          2000,
          2001,
          2002
         ],
         "xaxis": "x",
         "y": [
          11,
          34,
          63,
          68,
          37,
          4,
          1
         ],
         "yaxis": "y"
        },
        {
         "alignmentgroup": "True",
         "hovertemplate": "Platform=NES<br>Year=%{x}<br>Games per Platform=%{y}<extra></extra>",
         "legendgroup": "NES",
         "marker": {
          "color": "#AB63FA"
         },
         "name": "NES",
         "offsetgroup": "NES",
         "orientation": "v",
         "showlegend": true,
         "textposition": "auto",
         "type": "bar",
         "x": [
          1983,
          1984,
          1985,
          1986,
          1987,
          1988,
          1989,
          1990,
          1991,
          1992,
          1993
         ],
         "xaxis": "x",
         "y": [
          2,
          7,
          9,
          10,
          6,
          6,
          2,
          4,
          3,
          1,
          3
         ],
         "yaxis": "y"
        },
        {
         "alignmentgroup": "True",
         "hovertemplate": "Platform=PS<br>Year=%{x}<br>Games per Platform=%{y}<extra></extra>",
         "legendgroup": "PS",
         "marker": {
          "color": "#ff8001"
         },
         "name": "PS",
         "offsetgroup": "PS",
         "orientation": "v",
         "showlegend": true,
         "textposition": "auto",
         "type": "bar",
         "x": [
          1994,
          1995,
          1996,
          1997,
          1998,
          1999,
          2000,
          2001,
          2002,
          2003
         ],
         "xaxis": "x",
         "y": [
          9,
          59,
          118,
          134,
          168,
          136,
          117,
          63,
          5,
          1
         ],
         "yaxis": "y"
        },
        {
         "alignmentgroup": "True",
         "hovertemplate": "Platform=SAT<br>Year=%{x}<br>Games per Platform=%{y}<extra></extra>",
         "legendgroup": "SAT",
         "marker": {
          "color": "#00fcfe"
         },
         "name": "SAT",
         "offsetgroup": "SAT",
         "orientation": "v",
         "showlegend": true,
         "textposition": "auto",
         "type": "bar",
         "x": [
          1994,
          1995,
          1996
         ],
         "xaxis": "x",
         "y": [
          18,
          19,
          7
         ],
         "yaxis": "y"
        },
        {
         "alignmentgroup": "True",
         "hovertemplate": "Platform=SCD<br>Year=%{x}<br>Games per Platform=%{y}<extra></extra>",
         "legendgroup": "SCD",
         "marker": {
          "color": "#FE00FA"
         },
         "name": "SCD",
         "offsetgroup": "SCD",
         "orientation": "v",
         "showlegend": true,
         "textposition": "auto",
         "type": "bar",
         "x": [
          1993,
          1994
         ],
         "xaxis": "x",
         "y": [
          1,
          1
         ],
         "yaxis": "y"
        },
        {
         "alignmentgroup": "True",
         "hovertemplate": "Platform=SNES<br>Year=%{x}<br>Games per Platform=%{y}<extra></extra>",
         "legendgroup": "SNES",
         "marker": {
          "color": "#16FF32"
         },
         "name": "SNES",
         "offsetgroup": "SNES",
         "orientation": "v",
         "showlegend": true,
         "textposition": "auto",
         "type": "bar",
         "x": [
          1990,
          1991,
          1992,
          1993,
          1994,
          1995,
          1996
         ],
         "xaxis": "x",
         "y": [
          3,
          13,
          8,
          10,
          10,
          6,
          1
         ],
         "yaxis": "y"
        }
       ],
       "layout": {
        "barmode": "relative",
        "legend": {
         "title": {
          "text": "Platform"
         },
         "tracegroupgap": 0
        },
        "template": {
         "data": {
          "bar": [
           {
            "error_x": {
             "color": "#2a3f5f"
            },
            "error_y": {
             "color": "#2a3f5f"
            },
            "marker": {
             "line": {
              "color": "#E5ECF6",
              "width": 0.5
             }
            },
            "type": "bar"
           }
          ],
          "barpolar": [
           {
            "marker": {
             "line": {
              "color": "#E5ECF6",
              "width": 0.5
             }
            },
            "type": "barpolar"
           }
          ],
          "carpet": [
           {
            "aaxis": {
             "endlinecolor": "#2a3f5f",
             "gridcolor": "white",
             "linecolor": "white",
             "minorgridcolor": "white",
             "startlinecolor": "#2a3f5f"
            },
            "baxis": {
             "endlinecolor": "#2a3f5f",
             "gridcolor": "white",
             "linecolor": "white",
             "minorgridcolor": "white",
             "startlinecolor": "#2a3f5f"
            },
            "type": "carpet"
           }
          ],
          "choropleth": [
           {
            "colorbar": {
             "outlinewidth": 0,
             "ticks": ""
            },
            "type": "choropleth"
           }
          ],
          "contour": [
           {
            "colorbar": {
             "outlinewidth": 0,
             "ticks": ""
            },
            "colorscale": [
             [
              0,
              "#0d0887"
             ],
             [
              0.1111111111111111,
              "#46039f"
             ],
             [
              0.2222222222222222,
              "#7201a8"
             ],
             [
              0.3333333333333333,
              "#9c179e"
             ],
             [
              0.4444444444444444,
              "#bd3786"
             ],
             [
              0.5555555555555556,
              "#d8576b"
             ],
             [
              0.6666666666666666,
              "#ed7953"
             ],
             [
              0.7777777777777778,
              "#fb9f3a"
             ],
             [
              0.8888888888888888,
              "#fdca26"
             ],
             [
              1,
              "#f0f921"
             ]
            ],
            "type": "contour"
           }
          ],
          "contourcarpet": [
           {
            "colorbar": {
             "outlinewidth": 0,
             "ticks": ""
            },
            "type": "contourcarpet"
           }
          ],
          "heatmap": [
           {
            "colorbar": {
             "outlinewidth": 0,
             "ticks": ""
            },
            "colorscale": [
             [
              0,
              "#0d0887"
             ],
             [
              0.1111111111111111,
              "#46039f"
             ],
             [
              0.2222222222222222,
              "#7201a8"
             ],
             [
              0.3333333333333333,
              "#9c179e"
             ],
             [
              0.4444444444444444,
              "#bd3786"
             ],
             [
              0.5555555555555556,
              "#d8576b"
             ],
             [
              0.6666666666666666,
              "#ed7953"
             ],
             [
              0.7777777777777778,
              "#fb9f3a"
             ],
             [
              0.8888888888888888,
              "#fdca26"
             ],
             [
              1,
              "#f0f921"
             ]
            ],
            "type": "heatmap"
           }
          ],
          "heatmapgl": [
           {
            "colorbar": {
             "outlinewidth": 0,
             "ticks": ""
            },
            "colorscale": [
             [
              0,
              "#0d0887"
             ],
             [
              0.1111111111111111,
              "#46039f"
             ],
             [
              0.2222222222222222,
              "#7201a8"
             ],
             [
              0.3333333333333333,
              "#9c179e"
             ],
             [
              0.4444444444444444,
              "#bd3786"
             ],
             [
              0.5555555555555556,
              "#d8576b"
             ],
             [
              0.6666666666666666,
              "#ed7953"
             ],
             [
              0.7777777777777778,
              "#fb9f3a"
             ],
             [
              0.8888888888888888,
              "#fdca26"
             ],
             [
              1,
              "#f0f921"
             ]
            ],
            "type": "heatmapgl"
           }
          ],
          "histogram": [
           {
            "marker": {
             "colorbar": {
              "outlinewidth": 0,
              "ticks": ""
             }
            },
            "type": "histogram"
           }
          ],
          "histogram2d": [
           {
            "colorbar": {
             "outlinewidth": 0,
             "ticks": ""
            },
            "colorscale": [
             [
              0,
              "#0d0887"
             ],
             [
              0.1111111111111111,
              "#46039f"
             ],
             [
              0.2222222222222222,
              "#7201a8"
             ],
             [
              0.3333333333333333,
              "#9c179e"
             ],
             [
              0.4444444444444444,
              "#bd3786"
             ],
             [
              0.5555555555555556,
              "#d8576b"
             ],
             [
              0.6666666666666666,
              "#ed7953"
             ],
             [
              0.7777777777777778,
              "#fb9f3a"
             ],
             [
              0.8888888888888888,
              "#fdca26"
             ],
             [
              1,
              "#f0f921"
             ]
            ],
            "type": "histogram2d"
           }
          ],
          "histogram2dcontour": [
           {
            "colorbar": {
             "outlinewidth": 0,
             "ticks": ""
            },
            "colorscale": [
             [
              0,
              "#0d0887"
             ],
             [
              0.1111111111111111,
              "#46039f"
             ],
             [
              0.2222222222222222,
              "#7201a8"
             ],
             [
              0.3333333333333333,
              "#9c179e"
             ],
             [
              0.4444444444444444,
              "#bd3786"
             ],
             [
              0.5555555555555556,
              "#d8576b"
             ],
             [
              0.6666666666666666,
              "#ed7953"
             ],
             [
              0.7777777777777778,
              "#fb9f3a"
             ],
             [
              0.8888888888888888,
              "#fdca26"
             ],
             [
              1,
              "#f0f921"
             ]
            ],
            "type": "histogram2dcontour"
           }
          ],
          "mesh3d": [
           {
            "colorbar": {
             "outlinewidth": 0,
             "ticks": ""
            },
            "type": "mesh3d"
           }
          ],
          "parcoords": [
           {
            "line": {
             "colorbar": {
              "outlinewidth": 0,
              "ticks": ""
             }
            },
            "type": "parcoords"
           }
          ],
          "pie": [
           {
            "automargin": true,
            "type": "pie"
           }
          ],
          "scatter": [
           {
            "marker": {
             "colorbar": {
              "outlinewidth": 0,
              "ticks": ""
             }
            },
            "type": "scatter"
           }
          ],
          "scatter3d": [
           {
            "line": {
             "colorbar": {
              "outlinewidth": 0,
              "ticks": ""
             }
            },
            "marker": {
             "colorbar": {
              "outlinewidth": 0,
              "ticks": ""
             }
            },
            "type": "scatter3d"
           }
          ],
          "scattercarpet": [
           {
            "marker": {
             "colorbar": {
              "outlinewidth": 0,
              "ticks": ""
             }
            },
            "type": "scattercarpet"
           }
          ],
          "scattergeo": [
           {
            "marker": {
             "colorbar": {
              "outlinewidth": 0,
              "ticks": ""
             }
            },
            "type": "scattergeo"
           }
          ],
          "scattergl": [
           {
            "marker": {
             "colorbar": {
              "outlinewidth": 0,
              "ticks": ""
             }
            },
            "type": "scattergl"
           }
          ],
          "scattermapbox": [
           {
            "marker": {
             "colorbar": {
              "outlinewidth": 0,
              "ticks": ""
             }
            },
            "type": "scattermapbox"
           }
          ],
          "scatterpolar": [
           {
            "marker": {
             "colorbar": {
              "outlinewidth": 0,
              "ticks": ""
             }
            },
            "type": "scatterpolar"
           }
          ],
          "scatterpolargl": [
           {
            "marker": {
             "colorbar": {
              "outlinewidth": 0,
              "ticks": ""
             }
            },
            "type": "scatterpolargl"
           }
          ],
          "scatterternary": [
           {
            "marker": {
             "colorbar": {
              "outlinewidth": 0,
              "ticks": ""
             }
            },
            "type": "scatterternary"
           }
          ],
          "surface": [
           {
            "colorbar": {
             "outlinewidth": 0,
             "ticks": ""
            },
            "colorscale": [
             [
              0,
              "#0d0887"
             ],
             [
              0.1111111111111111,
              "#46039f"
             ],
             [
              0.2222222222222222,
              "#7201a8"
             ],
             [
              0.3333333333333333,
              "#9c179e"
             ],
             [
              0.4444444444444444,
              "#bd3786"
             ],
             [
              0.5555555555555556,
              "#d8576b"
             ],
             [
              0.6666666666666666,
              "#ed7953"
             ],
             [
              0.7777777777777778,
              "#fb9f3a"
             ],
             [
              0.8888888888888888,
              "#fdca26"
             ],
             [
              1,
              "#f0f921"
             ]
            ],
            "type": "surface"
           }
          ],
          "table": [
           {
            "cells": {
             "fill": {
              "color": "#EBF0F8"
             },
             "line": {
              "color": "white"
             }
            },
            "header": {
             "fill": {
              "color": "#C8D4E3"
             },
             "line": {
              "color": "white"
             }
            },
            "type": "table"
           }
          ]
         },
         "layout": {
          "annotationdefaults": {
           "arrowcolor": "#2a3f5f",
           "arrowhead": 0,
           "arrowwidth": 1
          },
          "coloraxis": {
           "colorbar": {
            "outlinewidth": 0,
            "ticks": ""
           }
          },
          "colorscale": {
           "diverging": [
            [
             0,
             "#8e0152"
            ],
            [
             0.1,
             "#c51b7d"
            ],
            [
             0.2,
             "#de77ae"
            ],
            [
             0.3,
             "#f1b6da"
            ],
            [
             0.4,
             "#fde0ef"
            ],
            [
             0.5,
             "#f7f7f7"
            ],
            [
             0.6,
             "#e6f5d0"
            ],
            [
             0.7,
             "#b8e186"
            ],
            [
             0.8,
             "#7fbc41"
            ],
            [
             0.9,
             "#4d9221"
            ],
            [
             1,
             "#276419"
            ]
           ],
           "sequential": [
            [
             0,
             "#0d0887"
            ],
            [
             0.1111111111111111,
             "#46039f"
            ],
            [
             0.2222222222222222,
             "#7201a8"
            ],
            [
             0.3333333333333333,
             "#9c179e"
            ],
            [
             0.4444444444444444,
             "#bd3786"
            ],
            [
             0.5555555555555556,
             "#d8576b"
            ],
            [
             0.6666666666666666,
             "#ed7953"
            ],
            [
             0.7777777777777778,
             "#fb9f3a"
            ],
            [
             0.8888888888888888,
             "#fdca26"
            ],
            [
             1,
             "#f0f921"
            ]
           ],
           "sequentialminus": [
            [
             0,
             "#0d0887"
            ],
            [
             0.1111111111111111,
             "#46039f"
            ],
            [
             0.2222222222222222,
             "#7201a8"
            ],
            [
             0.3333333333333333,
             "#9c179e"
            ],
            [
             0.4444444444444444,
             "#bd3786"
            ],
            [
             0.5555555555555556,
             "#d8576b"
            ],
            [
             0.6666666666666666,
             "#ed7953"
            ],
            [
             0.7777777777777778,
             "#fb9f3a"
            ],
            [
             0.8888888888888888,
             "#fdca26"
            ],
            [
             1,
             "#f0f921"
            ]
           ]
          },
          "colorway": [
           "#636efa",
           "#EF553B",
           "#00cc96",
           "#ab63fa",
           "#FFA15A",
           "#19d3f3",
           "#FF6692",
           "#B6E880",
           "#FF97FF",
           "#FECB52"
          ],
          "font": {
           "color": "#2a3f5f"
          },
          "geo": {
           "bgcolor": "white",
           "lakecolor": "white",
           "landcolor": "#E5ECF6",
           "showlakes": true,
           "showland": true,
           "subunitcolor": "white"
          },
          "hoverlabel": {
           "align": "left"
          },
          "hovermode": "closest",
          "mapbox": {
           "style": "light"
          },
          "paper_bgcolor": "white",
          "plot_bgcolor": "#E5ECF6",
          "polar": {
           "angularaxis": {
            "gridcolor": "white",
            "linecolor": "white",
            "ticks": ""
           },
           "bgcolor": "#E5ECF6",
           "radialaxis": {
            "gridcolor": "white",
            "linecolor": "white",
            "ticks": ""
           }
          },
          "scene": {
           "xaxis": {
            "backgroundcolor": "#E5ECF6",
            "gridcolor": "white",
            "gridwidth": 2,
            "linecolor": "white",
            "showbackground": true,
            "ticks": "",
            "zerolinecolor": "white"
           },
           "yaxis": {
            "backgroundcolor": "#E5ECF6",
            "gridcolor": "white",
            "gridwidth": 2,
            "linecolor": "white",
            "showbackground": true,
            "ticks": "",
            "zerolinecolor": "white"
           },
           "zaxis": {
            "backgroundcolor": "#E5ECF6",
            "gridcolor": "white",
            "gridwidth": 2,
            "linecolor": "white",
            "showbackground": true,
            "ticks": "",
            "zerolinecolor": "white"
           }
          },
          "shapedefaults": {
           "line": {
            "color": "#2a3f5f"
           }
          },
          "ternary": {
           "aaxis": {
            "gridcolor": "white",
            "linecolor": "white",
            "ticks": ""
           },
           "baxis": {
            "gridcolor": "white",
            "linecolor": "white",
            "ticks": ""
           },
           "bgcolor": "#E5ECF6",
           "caxis": {
            "gridcolor": "white",
            "linecolor": "white",
            "ticks": ""
           }
          },
          "title": {
           "x": 0.05
          },
          "xaxis": {
           "automargin": true,
           "gridcolor": "white",
           "linecolor": "white",
           "ticks": "",
           "title": {
            "standoff": 15
           },
           "zerolinecolor": "white",
           "zerolinewidth": 2
          },
          "yaxis": {
           "automargin": true,
           "gridcolor": "white",
           "linecolor": "white",
           "ticks": "",
           "title": {
            "standoff": 15
           },
           "zerolinecolor": "white",
           "zerolinewidth": 2
          }
         }
        },
        "title": {
         "text": "Top Platforms by Year"
        },
        "xaxis": {
         "anchor": "y",
         "domain": [
          0,
          1
         ],
         "title": {
          "text": "Year"
         }
        },
        "yaxis": {
         "anchor": "x",
         "domain": [
          0,
          1
         ],
         "range": [
          0,
          250
         ],
         "title": {
          "text": "Games per Platform"
         }
        }
       }
      },
      "text/html": [
       "<div>                            <div id=\"3ba366a6-919d-4bc2-b730-debc6f4fd034\" class=\"plotly-graph-div\" style=\"height:525px; width:100%;\"></div>            <script type=\"text/javascript\">                require([\"plotly\"], function(Plotly) {                    window.PLOTLYENV=window.PLOTLYENV || {};                                    if (document.getElementById(\"3ba366a6-919d-4bc2-b730-debc6f4fd034\")) {                    Plotly.newPlot(                        \"3ba366a6-919d-4bc2-b730-debc6f4fd034\",                        [{\"alignmentgroup\": \"True\", \"hovertemplate\": \"Platform=2600<br>Year=%{x}<br>Games per Platform=%{y}<extra></extra>\", \"legendgroup\": \"2600\", \"marker\": {\"color\": \"#636EFA\"}, \"name\": \"2600\", \"offsetgroup\": \"2600\", \"orientation\": \"v\", \"showlegend\": true, \"textposition\": \"auto\", \"type\": \"bar\", \"x\": [1980, 1981, 1982, 1983, 1984, 1985, 1986, 1987, 1988, 1989], \"xaxis\": \"x\", \"y\": [5, 36, 26, 8, 1, 1, 2, 6, 2, 1], \"yaxis\": \"y\"}, {\"alignmentgroup\": \"True\", \"hovertemplate\": \"Platform=GEN<br>Year=%{x}<br>Games per Platform=%{y}<extra></extra>\", \"legendgroup\": \"GEN\", \"marker\": {\"color\": \"#EF553B\"}, \"name\": \"GEN\", \"offsetgroup\": \"GEN\", \"orientation\": \"v\", \"showlegend\": true, \"textposition\": \"auto\", \"type\": \"bar\", \"x\": [1990, 1991, 1992, 1993, 1994], \"xaxis\": \"x\", \"y\": [1, 1, 6, 4, 5], \"yaxis\": \"y\"}, {\"alignmentgroup\": \"True\", \"hovertemplate\": \"Platform=N64<br>Year=%{x}<br>Games per Platform=%{y}<extra></extra>\", \"legendgroup\": \"N64\", \"marker\": {\"color\": \"#00CC96\"}, \"name\": \"N64\", \"offsetgroup\": \"N64\", \"orientation\": \"v\", \"showlegend\": true, \"textposition\": \"auto\", \"type\": \"bar\", \"x\": [1996, 1997, 1998, 1999, 2000, 2001, 2002], \"xaxis\": \"x\", \"y\": [11, 34, 63, 68, 37, 4, 1], \"yaxis\": \"y\"}, {\"alignmentgroup\": \"True\", \"hovertemplate\": \"Platform=NES<br>Year=%{x}<br>Games per Platform=%{y}<extra></extra>\", \"legendgroup\": \"NES\", \"marker\": {\"color\": \"#AB63FA\"}, \"name\": \"NES\", \"offsetgroup\": \"NES\", \"orientation\": \"v\", \"showlegend\": true, \"textposition\": \"auto\", \"type\": \"bar\", \"x\": [1983, 1984, 1985, 1986, 1987, 1988, 1989, 1990, 1991, 1992, 1993], \"xaxis\": \"x\", \"y\": [2, 7, 9, 10, 6, 6, 2, 4, 3, 1, 3], \"yaxis\": \"y\"}, {\"alignmentgroup\": \"True\", \"hovertemplate\": \"Platform=PS<br>Year=%{x}<br>Games per Platform=%{y}<extra></extra>\", \"legendgroup\": \"PS\", \"marker\": {\"color\": \"#ff8001\"}, \"name\": \"PS\", \"offsetgroup\": \"PS\", \"orientation\": \"v\", \"showlegend\": true, \"textposition\": \"auto\", \"type\": \"bar\", \"x\": [1994, 1995, 1996, 1997, 1998, 1999, 2000, 2001, 2002, 2003], \"xaxis\": \"x\", \"y\": [9, 59, 118, 134, 168, 136, 117, 63, 5, 1], \"yaxis\": \"y\"}, {\"alignmentgroup\": \"True\", \"hovertemplate\": \"Platform=SAT<br>Year=%{x}<br>Games per Platform=%{y}<extra></extra>\", \"legendgroup\": \"SAT\", \"marker\": {\"color\": \"#00fcfe\"}, \"name\": \"SAT\", \"offsetgroup\": \"SAT\", \"orientation\": \"v\", \"showlegend\": true, \"textposition\": \"auto\", \"type\": \"bar\", \"x\": [1994, 1995, 1996], \"xaxis\": \"x\", \"y\": [18, 19, 7], \"yaxis\": \"y\"}, {\"alignmentgroup\": \"True\", \"hovertemplate\": \"Platform=SCD<br>Year=%{x}<br>Games per Platform=%{y}<extra></extra>\", \"legendgroup\": \"SCD\", \"marker\": {\"color\": \"#FE00FA\"}, \"name\": \"SCD\", \"offsetgroup\": \"SCD\", \"orientation\": \"v\", \"showlegend\": true, \"textposition\": \"auto\", \"type\": \"bar\", \"x\": [1993, 1994], \"xaxis\": \"x\", \"y\": [1, 1], \"yaxis\": \"y\"}, {\"alignmentgroup\": \"True\", \"hovertemplate\": \"Platform=SNES<br>Year=%{x}<br>Games per Platform=%{y}<extra></extra>\", \"legendgroup\": \"SNES\", \"marker\": {\"color\": \"#16FF32\"}, \"name\": \"SNES\", \"offsetgroup\": \"SNES\", \"orientation\": \"v\", \"showlegend\": true, \"textposition\": \"auto\", \"type\": \"bar\", \"x\": [1990, 1991, 1992, 1993, 1994, 1995, 1996], \"xaxis\": \"x\", \"y\": [3, 13, 8, 10, 10, 6, 1], \"yaxis\": \"y\"}],                        {\"barmode\": \"relative\", \"legend\": {\"title\": {\"text\": \"Platform\"}, \"tracegroupgap\": 0}, \"template\": {\"data\": {\"bar\": [{\"error_x\": {\"color\": \"#2a3f5f\"}, \"error_y\": {\"color\": \"#2a3f5f\"}, \"marker\": {\"line\": {\"color\": \"#E5ECF6\", \"width\": 0.5}}, \"type\": \"bar\"}], \"barpolar\": [{\"marker\": {\"line\": {\"color\": \"#E5ECF6\", \"width\": 0.5}}, \"type\": \"barpolar\"}], \"carpet\": [{\"aaxis\": {\"endlinecolor\": \"#2a3f5f\", \"gridcolor\": \"white\", \"linecolor\": \"white\", \"minorgridcolor\": \"white\", \"startlinecolor\": \"#2a3f5f\"}, \"baxis\": {\"endlinecolor\": \"#2a3f5f\", \"gridcolor\": \"white\", \"linecolor\": \"white\", \"minorgridcolor\": \"white\", \"startlinecolor\": \"#2a3f5f\"}, \"type\": \"carpet\"}], \"choropleth\": [{\"colorbar\": {\"outlinewidth\": 0, \"ticks\": \"\"}, \"type\": \"choropleth\"}], \"contour\": [{\"colorbar\": {\"outlinewidth\": 0, \"ticks\": \"\"}, \"colorscale\": [[0.0, \"#0d0887\"], [0.1111111111111111, \"#46039f\"], [0.2222222222222222, \"#7201a8\"], [0.3333333333333333, \"#9c179e\"], [0.4444444444444444, \"#bd3786\"], [0.5555555555555556, \"#d8576b\"], [0.6666666666666666, \"#ed7953\"], [0.7777777777777778, \"#fb9f3a\"], [0.8888888888888888, \"#fdca26\"], [1.0, \"#f0f921\"]], \"type\": \"contour\"}], \"contourcarpet\": [{\"colorbar\": {\"outlinewidth\": 0, \"ticks\": \"\"}, \"type\": \"contourcarpet\"}], \"heatmap\": [{\"colorbar\": {\"outlinewidth\": 0, \"ticks\": \"\"}, \"colorscale\": [[0.0, \"#0d0887\"], [0.1111111111111111, \"#46039f\"], [0.2222222222222222, \"#7201a8\"], [0.3333333333333333, \"#9c179e\"], [0.4444444444444444, \"#bd3786\"], [0.5555555555555556, \"#d8576b\"], [0.6666666666666666, \"#ed7953\"], [0.7777777777777778, \"#fb9f3a\"], [0.8888888888888888, \"#fdca26\"], [1.0, \"#f0f921\"]], \"type\": \"heatmap\"}], \"heatmapgl\": [{\"colorbar\": {\"outlinewidth\": 0, \"ticks\": \"\"}, \"colorscale\": [[0.0, \"#0d0887\"], [0.1111111111111111, \"#46039f\"], [0.2222222222222222, \"#7201a8\"], [0.3333333333333333, \"#9c179e\"], [0.4444444444444444, \"#bd3786\"], [0.5555555555555556, \"#d8576b\"], [0.6666666666666666, \"#ed7953\"], [0.7777777777777778, \"#fb9f3a\"], [0.8888888888888888, \"#fdca26\"], [1.0, \"#f0f921\"]], \"type\": \"heatmapgl\"}], \"histogram\": [{\"marker\": {\"colorbar\": {\"outlinewidth\": 0, \"ticks\": \"\"}}, \"type\": \"histogram\"}], \"histogram2d\": [{\"colorbar\": {\"outlinewidth\": 0, \"ticks\": \"\"}, \"colorscale\": [[0.0, \"#0d0887\"], [0.1111111111111111, \"#46039f\"], [0.2222222222222222, \"#7201a8\"], [0.3333333333333333, \"#9c179e\"], [0.4444444444444444, \"#bd3786\"], [0.5555555555555556, \"#d8576b\"], [0.6666666666666666, \"#ed7953\"], [0.7777777777777778, \"#fb9f3a\"], [0.8888888888888888, \"#fdca26\"], [1.0, \"#f0f921\"]], \"type\": \"histogram2d\"}], \"histogram2dcontour\": [{\"colorbar\": {\"outlinewidth\": 0, \"ticks\": \"\"}, \"colorscale\": [[0.0, \"#0d0887\"], [0.1111111111111111, \"#46039f\"], [0.2222222222222222, \"#7201a8\"], [0.3333333333333333, \"#9c179e\"], [0.4444444444444444, \"#bd3786\"], [0.5555555555555556, \"#d8576b\"], [0.6666666666666666, \"#ed7953\"], [0.7777777777777778, \"#fb9f3a\"], [0.8888888888888888, \"#fdca26\"], [1.0, \"#f0f921\"]], \"type\": \"histogram2dcontour\"}], \"mesh3d\": [{\"colorbar\": {\"outlinewidth\": 0, \"ticks\": \"\"}, \"type\": \"mesh3d\"}], \"parcoords\": [{\"line\": {\"colorbar\": {\"outlinewidth\": 0, \"ticks\": \"\"}}, \"type\": \"parcoords\"}], \"pie\": [{\"automargin\": true, \"type\": \"pie\"}], \"scatter\": [{\"marker\": {\"colorbar\": {\"outlinewidth\": 0, \"ticks\": \"\"}}, \"type\": \"scatter\"}], \"scatter3d\": [{\"line\": {\"colorbar\": {\"outlinewidth\": 0, \"ticks\": \"\"}}, \"marker\": {\"colorbar\": {\"outlinewidth\": 0, \"ticks\": \"\"}}, \"type\": \"scatter3d\"}], \"scattercarpet\": [{\"marker\": {\"colorbar\": {\"outlinewidth\": 0, \"ticks\": \"\"}}, \"type\": \"scattercarpet\"}], \"scattergeo\": [{\"marker\": {\"colorbar\": {\"outlinewidth\": 0, \"ticks\": \"\"}}, \"type\": \"scattergeo\"}], \"scattergl\": [{\"marker\": {\"colorbar\": {\"outlinewidth\": 0, \"ticks\": \"\"}}, \"type\": \"scattergl\"}], \"scattermapbox\": [{\"marker\": {\"colorbar\": {\"outlinewidth\": 0, \"ticks\": \"\"}}, \"type\": \"scattermapbox\"}], \"scatterpolar\": [{\"marker\": {\"colorbar\": {\"outlinewidth\": 0, \"ticks\": \"\"}}, \"type\": \"scatterpolar\"}], \"scatterpolargl\": [{\"marker\": {\"colorbar\": {\"outlinewidth\": 0, \"ticks\": \"\"}}, \"type\": \"scatterpolargl\"}], \"scatterternary\": [{\"marker\": {\"colorbar\": {\"outlinewidth\": 0, \"ticks\": \"\"}}, \"type\": \"scatterternary\"}], \"surface\": [{\"colorbar\": {\"outlinewidth\": 0, \"ticks\": \"\"}, \"colorscale\": [[0.0, \"#0d0887\"], [0.1111111111111111, \"#46039f\"], [0.2222222222222222, \"#7201a8\"], [0.3333333333333333, \"#9c179e\"], [0.4444444444444444, \"#bd3786\"], [0.5555555555555556, \"#d8576b\"], [0.6666666666666666, \"#ed7953\"], [0.7777777777777778, \"#fb9f3a\"], [0.8888888888888888, \"#fdca26\"], [1.0, \"#f0f921\"]], \"type\": \"surface\"}], \"table\": [{\"cells\": {\"fill\": {\"color\": \"#EBF0F8\"}, \"line\": {\"color\": \"white\"}}, \"header\": {\"fill\": {\"color\": \"#C8D4E3\"}, \"line\": {\"color\": \"white\"}}, \"type\": \"table\"}]}, \"layout\": {\"annotationdefaults\": {\"arrowcolor\": \"#2a3f5f\", \"arrowhead\": 0, \"arrowwidth\": 1}, \"coloraxis\": {\"colorbar\": {\"outlinewidth\": 0, \"ticks\": \"\"}}, \"colorscale\": {\"diverging\": [[0, \"#8e0152\"], [0.1, \"#c51b7d\"], [0.2, \"#de77ae\"], [0.3, \"#f1b6da\"], [0.4, \"#fde0ef\"], [0.5, \"#f7f7f7\"], [0.6, \"#e6f5d0\"], [0.7, \"#b8e186\"], [0.8, \"#7fbc41\"], [0.9, \"#4d9221\"], [1, \"#276419\"]], \"sequential\": [[0.0, \"#0d0887\"], [0.1111111111111111, \"#46039f\"], [0.2222222222222222, \"#7201a8\"], [0.3333333333333333, \"#9c179e\"], [0.4444444444444444, \"#bd3786\"], [0.5555555555555556, \"#d8576b\"], [0.6666666666666666, \"#ed7953\"], [0.7777777777777778, \"#fb9f3a\"], [0.8888888888888888, \"#fdca26\"], [1.0, \"#f0f921\"]], \"sequentialminus\": [[0.0, \"#0d0887\"], [0.1111111111111111, \"#46039f\"], [0.2222222222222222, \"#7201a8\"], [0.3333333333333333, \"#9c179e\"], [0.4444444444444444, \"#bd3786\"], [0.5555555555555556, \"#d8576b\"], [0.6666666666666666, \"#ed7953\"], [0.7777777777777778, \"#fb9f3a\"], [0.8888888888888888, \"#fdca26\"], [1.0, \"#f0f921\"]]}, \"colorway\": [\"#636efa\", \"#EF553B\", \"#00cc96\", \"#ab63fa\", \"#FFA15A\", \"#19d3f3\", \"#FF6692\", \"#B6E880\", \"#FF97FF\", \"#FECB52\"], \"font\": {\"color\": \"#2a3f5f\"}, \"geo\": {\"bgcolor\": \"white\", \"lakecolor\": \"white\", \"landcolor\": \"#E5ECF6\", \"showlakes\": true, \"showland\": true, \"subunitcolor\": \"white\"}, \"hoverlabel\": {\"align\": \"left\"}, \"hovermode\": \"closest\", \"mapbox\": {\"style\": \"light\"}, \"paper_bgcolor\": \"white\", \"plot_bgcolor\": \"#E5ECF6\", \"polar\": {\"angularaxis\": {\"gridcolor\": \"white\", \"linecolor\": \"white\", \"ticks\": \"\"}, \"bgcolor\": \"#E5ECF6\", \"radialaxis\": {\"gridcolor\": \"white\", \"linecolor\": \"white\", \"ticks\": \"\"}}, \"scene\": {\"xaxis\": {\"backgroundcolor\": \"#E5ECF6\", \"gridcolor\": \"white\", \"gridwidth\": 2, \"linecolor\": \"white\", \"showbackground\": true, \"ticks\": \"\", \"zerolinecolor\": \"white\"}, \"yaxis\": {\"backgroundcolor\": \"#E5ECF6\", \"gridcolor\": \"white\", \"gridwidth\": 2, \"linecolor\": \"white\", \"showbackground\": true, \"ticks\": \"\", \"zerolinecolor\": \"white\"}, \"zaxis\": {\"backgroundcolor\": \"#E5ECF6\", \"gridcolor\": \"white\", \"gridwidth\": 2, \"linecolor\": \"white\", \"showbackground\": true, \"ticks\": \"\", \"zerolinecolor\": \"white\"}}, \"shapedefaults\": {\"line\": {\"color\": \"#2a3f5f\"}}, \"ternary\": {\"aaxis\": {\"gridcolor\": \"white\", \"linecolor\": \"white\", \"ticks\": \"\"}, \"baxis\": {\"gridcolor\": \"white\", \"linecolor\": \"white\", \"ticks\": \"\"}, \"bgcolor\": \"#E5ECF6\", \"caxis\": {\"gridcolor\": \"white\", \"linecolor\": \"white\", \"ticks\": \"\"}}, \"title\": {\"x\": 0.05}, \"xaxis\": {\"automargin\": true, \"gridcolor\": \"white\", \"linecolor\": \"white\", \"ticks\": \"\", \"title\": {\"standoff\": 15}, \"zerolinecolor\": \"white\", \"zerolinewidth\": 2}, \"yaxis\": {\"automargin\": true, \"gridcolor\": \"white\", \"linecolor\": \"white\", \"ticks\": \"\", \"title\": {\"standoff\": 15}, \"zerolinecolor\": \"white\", \"zerolinewidth\": 2}}}, \"title\": {\"text\": \"Top Platforms by Year\"}, \"xaxis\": {\"anchor\": \"y\", \"domain\": [0.0, 1.0], \"title\": {\"text\": \"Year\"}}, \"yaxis\": {\"anchor\": \"x\", \"domain\": [0.0, 1.0], \"range\": [0, 250], \"title\": {\"text\": \"Games per Platform\"}}},                        {\"responsive\": true}                    ).then(function(){\n",
       "                            \n",
       "var gd = document.getElementById('3ba366a6-919d-4bc2-b730-debc6f4fd034');\n",
       "var x = new MutationObserver(function (mutations, observer) {{\n",
       "        var display = window.getComputedStyle(gd).display;\n",
       "        if (!display || display === 'none') {{\n",
       "            console.log([gd, 'removed!']);\n",
       "            Plotly.purge(gd);\n",
       "            observer.disconnect();\n",
       "        }}\n",
       "}});\n",
       "\n",
       "// Listen for the removal of the full notebook cells\n",
       "var notebookContainer = gd.closest('#notebook-container');\n",
       "if (notebookContainer) {{\n",
       "    x.observe(notebookContainer, {childList: true});\n",
       "}}\n",
       "\n",
       "// Listen for the clearing of the current output cell\n",
       "var outputEl = gd.closest('.output');\n",
       "if (outputEl) {{\n",
       "    x.observe(outputEl, {childList: true});\n",
       "}}\n",
       "\n",
       "                        })                };                });            </script>        </div>"
      ]
     },
     "metadata": {},
     "output_type": "display_data"
    }
   ],
   "source": [
    "# games by platform by year - export to HTML\n",
    "fig = px.bar(games_by_year, title=\"Top Platforms by Year\", x=\"Year\", y=\"Games per Platform\", \n",
    "             color=\"Platform\", range_y=[0,250], color_discrete_sequence=palette)\n",
    "fig.show()\n",
    "fig.write_html(\"../static/img/vintageplatforms.html\")"
   ]
  },
  {
   "cell_type": "code",
   "execution_count": 18,
   "metadata": {},
   "outputs": [
    {
     "data": {
      "application/vnd.plotly.v1+json": {
       "config": {
        "plotlyServerURL": "https://plot.ly"
       },
       "data": [
        {
         "hovertemplate": "Platform=2600<br>Year=%{marker.color}<br>Games per Platform=%{marker.size}<extra></extra>",
         "legendgroup": "",
         "marker": {
          "color": [
           1980,
           1981,
           1982,
           1983,
           1984,
           1985,
           1986,
           1987,
           1988,
           1989
          ],
          "coloraxis": "coloraxis",
          "size": [
           5,
           36,
           26,
           8,
           1,
           1,
           2,
           6,
           2,
           1
          ],
          "sizemode": "area",
          "sizeref": 0.42,
          "symbol": "circle"
         },
         "mode": "markers",
         "name": "",
         "orientation": "v",
         "showlegend": false,
         "type": "scatter",
         "x": [
          1980,
          1981,
          1982,
          1983,
          1984,
          1985,
          1986,
          1987,
          1988,
          1989
         ],
         "xaxis": "x",
         "y": [
          5,
          36,
          26,
          8,
          1,
          1,
          2,
          6,
          2,
          1
         ],
         "yaxis": "y"
        },
        {
         "hovertemplate": "Platform=GEN<br>Year=%{marker.color}<br>Games per Platform=%{marker.size}<extra></extra>",
         "legendgroup": "",
         "marker": {
          "color": [
           1990,
           1991,
           1992,
           1993,
           1994
          ],
          "coloraxis": "coloraxis",
          "size": [
           1,
           1,
           6,
           4,
           5
          ],
          "sizemode": "area",
          "sizeref": 0.42,
          "symbol": "circle"
         },
         "mode": "markers",
         "name": "",
         "orientation": "v",
         "showlegend": false,
         "type": "scatter",
         "x": [
          1990,
          1991,
          1992,
          1993,
          1994
         ],
         "xaxis": "x2",
         "y": [
          1,
          1,
          6,
          4,
          5
         ],
         "yaxis": "y2"
        },
        {
         "hovertemplate": "Platform=N64<br>Year=%{marker.color}<br>Games per Platform=%{marker.size}<extra></extra>",
         "legendgroup": "",
         "marker": {
          "color": [
           1996,
           1997,
           1998,
           1999,
           2000,
           2001,
           2002
          ],
          "coloraxis": "coloraxis",
          "size": [
           11,
           34,
           63,
           68,
           37,
           4,
           1
          ],
          "sizemode": "area",
          "sizeref": 0.42,
          "symbol": "circle"
         },
         "mode": "markers",
         "name": "",
         "orientation": "v",
         "showlegend": false,
         "type": "scatter",
         "x": [
          1996,
          1997,
          1998,
          1999,
          2000,
          2001,
          2002
         ],
         "xaxis": "x3",
         "y": [
          11,
          34,
          63,
          68,
          37,
          4,
          1
         ],
         "yaxis": "y3"
        },
        {
         "hovertemplate": "Platform=NES<br>Year=%{marker.color}<br>Games per Platform=%{marker.size}<extra></extra>",
         "legendgroup": "",
         "marker": {
          "color": [
           1983,
           1984,
           1985,
           1986,
           1987,
           1988,
           1989,
           1990,
           1991,
           1992,
           1993
          ],
          "coloraxis": "coloraxis",
          "size": [
           2,
           7,
           9,
           10,
           6,
           6,
           2,
           4,
           3,
           1,
           3
          ],
          "sizemode": "area",
          "sizeref": 0.42,
          "symbol": "circle"
         },
         "mode": "markers",
         "name": "",
         "orientation": "v",
         "showlegend": false,
         "type": "scatter",
         "x": [
          1983,
          1984,
          1985,
          1986,
          1987,
          1988,
          1989,
          1990,
          1991,
          1992,
          1993
         ],
         "xaxis": "x4",
         "y": [
          2,
          7,
          9,
          10,
          6,
          6,
          2,
          4,
          3,
          1,
          3
         ],
         "yaxis": "y4"
        },
        {
         "hovertemplate": "Platform=PS<br>Year=%{marker.color}<br>Games per Platform=%{marker.size}<extra></extra>",
         "legendgroup": "",
         "marker": {
          "color": [
           1994,
           1995,
           1996,
           1997,
           1998,
           1999,
           2000,
           2001,
           2002,
           2003
          ],
          "coloraxis": "coloraxis",
          "size": [
           9,
           59,
           118,
           134,
           168,
           136,
           117,
           63,
           5,
           1
          ],
          "sizemode": "area",
          "sizeref": 0.42,
          "symbol": "circle"
         },
         "mode": "markers",
         "name": "",
         "orientation": "v",
         "showlegend": false,
         "type": "scatter",
         "x": [
          1994,
          1995,
          1996,
          1997,
          1998,
          1999,
          2000,
          2001,
          2002,
          2003
         ],
         "xaxis": "x5",
         "y": [
          9,
          59,
          118,
          134,
          168,
          136,
          117,
          63,
          5,
          1
         ],
         "yaxis": "y5"
        },
        {
         "hovertemplate": "Platform=SAT<br>Year=%{marker.color}<br>Games per Platform=%{marker.size}<extra></extra>",
         "legendgroup": "",
         "marker": {
          "color": [
           1994,
           1995,
           1996
          ],
          "coloraxis": "coloraxis",
          "size": [
           18,
           19,
           7
          ],
          "sizemode": "area",
          "sizeref": 0.42,
          "symbol": "circle"
         },
         "mode": "markers",
         "name": "",
         "orientation": "v",
         "showlegend": false,
         "type": "scatter",
         "x": [
          1994,
          1995,
          1996
         ],
         "xaxis": "x6",
         "y": [
          18,
          19,
          7
         ],
         "yaxis": "y6"
        },
        {
         "hovertemplate": "Platform=SCD<br>Year=%{marker.color}<br>Games per Platform=%{marker.size}<extra></extra>",
         "legendgroup": "",
         "marker": {
          "color": [
           1993,
           1994
          ],
          "coloraxis": "coloraxis",
          "size": [
           1,
           1
          ],
          "sizemode": "area",
          "sizeref": 0.42,
          "symbol": "circle"
         },
         "mode": "markers",
         "name": "",
         "orientation": "v",
         "showlegend": false,
         "type": "scatter",
         "x": [
          1993,
          1994
         ],
         "xaxis": "x7",
         "y": [
          1,
          1
         ],
         "yaxis": "y7"
        },
        {
         "hovertemplate": "Platform=SNES<br>Year=%{marker.color}<br>Games per Platform=%{marker.size}<extra></extra>",
         "legendgroup": "",
         "marker": {
          "color": [
           1990,
           1991,
           1992,
           1993,
           1994,
           1995,
           1996
          ],
          "coloraxis": "coloraxis",
          "size": [
           3,
           13,
           8,
           10,
           10,
           6,
           1
          ],
          "sizemode": "area",
          "sizeref": 0.42,
          "symbol": "circle"
         },
         "mode": "markers",
         "name": "",
         "orientation": "v",
         "showlegend": false,
         "type": "scatter",
         "x": [
          1990,
          1991,
          1992,
          1993,
          1994,
          1995,
          1996
         ],
         "xaxis": "x8",
         "y": [
          3,
          13,
          8,
          10,
          10,
          6,
          1
         ],
         "yaxis": "y8"
        }
       ],
       "layout": {
        "annotations": [
         {
          "font": {},
          "showarrow": false,
          "text": "Platform=2600",
          "x": 0.05375,
          "xanchor": "center",
          "xref": "paper",
          "y": 1,
          "yanchor": "bottom",
          "yref": "paper"
         },
         {
          "font": {},
          "showarrow": false,
          "text": "Platform=GEN",
          "x": 0.18125,
          "xanchor": "center",
          "xref": "paper",
          "y": 1,
          "yanchor": "bottom",
          "yref": "paper"
         },
         {
          "font": {},
          "showarrow": false,
          "text": "Platform=N64",
          "x": 0.30874999999999997,
          "xanchor": "center",
          "xref": "paper",
          "y": 1,
          "yanchor": "bottom",
          "yref": "paper"
         },
         {
          "font": {},
          "showarrow": false,
          "text": "Platform=NES",
          "x": 0.43625,
          "xanchor": "center",
          "xref": "paper",
          "y": 1,
          "yanchor": "bottom",
          "yref": "paper"
         },
         {
          "font": {},
          "showarrow": false,
          "text": "Platform=PS",
          "x": 0.56375,
          "xanchor": "center",
          "xref": "paper",
          "y": 1,
          "yanchor": "bottom",
          "yref": "paper"
         },
         {
          "font": {},
          "showarrow": false,
          "text": "Platform=SAT",
          "x": 0.6912499999999999,
          "xanchor": "center",
          "xref": "paper",
          "y": 1,
          "yanchor": "bottom",
          "yref": "paper"
         },
         {
          "font": {},
          "showarrow": false,
          "text": "Platform=SCD",
          "x": 0.8187500000000001,
          "xanchor": "center",
          "xref": "paper",
          "y": 1,
          "yanchor": "bottom",
          "yref": "paper"
         },
         {
          "font": {},
          "showarrow": false,
          "text": "Platform=SNES",
          "x": 0.94625,
          "xanchor": "center",
          "xref": "paper",
          "y": 1,
          "yanchor": "bottom",
          "yref": "paper"
         }
        ],
        "coloraxis": {
         "colorbar": {
          "title": {
           "text": "Year"
          }
         },
         "colorscale": [
          [
           0,
           "#0d0887"
          ],
          [
           0.1111111111111111,
           "#46039f"
          ],
          [
           0.2222222222222222,
           "#7201a8"
          ],
          [
           0.3333333333333333,
           "#9c179e"
          ],
          [
           0.4444444444444444,
           "#bd3786"
          ],
          [
           0.5555555555555556,
           "#d8576b"
          ],
          [
           0.6666666666666666,
           "#ed7953"
          ],
          [
           0.7777777777777778,
           "#fb9f3a"
          ],
          [
           0.8888888888888888,
           "#fdca26"
          ],
          [
           1,
           "#f0f921"
          ]
         ]
        },
        "legend": {
         "itemsizing": "constant",
         "tracegroupgap": 0
        },
        "margin": {
         "t": 60
        },
        "template": {
         "data": {
          "bar": [
           {
            "error_x": {
             "color": "#2a3f5f"
            },
            "error_y": {
             "color": "#2a3f5f"
            },
            "marker": {
             "line": {
              "color": "#E5ECF6",
              "width": 0.5
             }
            },
            "type": "bar"
           }
          ],
          "barpolar": [
           {
            "marker": {
             "line": {
              "color": "#E5ECF6",
              "width": 0.5
             }
            },
            "type": "barpolar"
           }
          ],
          "carpet": [
           {
            "aaxis": {
             "endlinecolor": "#2a3f5f",
             "gridcolor": "white",
             "linecolor": "white",
             "minorgridcolor": "white",
             "startlinecolor": "#2a3f5f"
            },
            "baxis": {
             "endlinecolor": "#2a3f5f",
             "gridcolor": "white",
             "linecolor": "white",
             "minorgridcolor": "white",
             "startlinecolor": "#2a3f5f"
            },
            "type": "carpet"
           }
          ],
          "choropleth": [
           {
            "colorbar": {
             "outlinewidth": 0,
             "ticks": ""
            },
            "type": "choropleth"
           }
          ],
          "contour": [
           {
            "colorbar": {
             "outlinewidth": 0,
             "ticks": ""
            },
            "colorscale": [
             [
              0,
              "#0d0887"
             ],
             [
              0.1111111111111111,
              "#46039f"
             ],
             [
              0.2222222222222222,
              "#7201a8"
             ],
             [
              0.3333333333333333,
              "#9c179e"
             ],
             [
              0.4444444444444444,
              "#bd3786"
             ],
             [
              0.5555555555555556,
              "#d8576b"
             ],
             [
              0.6666666666666666,
              "#ed7953"
             ],
             [
              0.7777777777777778,
              "#fb9f3a"
             ],
             [
              0.8888888888888888,
              "#fdca26"
             ],
             [
              1,
              "#f0f921"
             ]
            ],
            "type": "contour"
           }
          ],
          "contourcarpet": [
           {
            "colorbar": {
             "outlinewidth": 0,
             "ticks": ""
            },
            "type": "contourcarpet"
           }
          ],
          "heatmap": [
           {
            "colorbar": {
             "outlinewidth": 0,
             "ticks": ""
            },
            "colorscale": [
             [
              0,
              "#0d0887"
             ],
             [
              0.1111111111111111,
              "#46039f"
             ],
             [
              0.2222222222222222,
              "#7201a8"
             ],
             [
              0.3333333333333333,
              "#9c179e"
             ],
             [
              0.4444444444444444,
              "#bd3786"
             ],
             [
              0.5555555555555556,
              "#d8576b"
             ],
             [
              0.6666666666666666,
              "#ed7953"
             ],
             [
              0.7777777777777778,
              "#fb9f3a"
             ],
             [
              0.8888888888888888,
              "#fdca26"
             ],
             [
              1,
              "#f0f921"
             ]
            ],
            "type": "heatmap"
           }
          ],
          "heatmapgl": [
           {
            "colorbar": {
             "outlinewidth": 0,
             "ticks": ""
            },
            "colorscale": [
             [
              0,
              "#0d0887"
             ],
             [
              0.1111111111111111,
              "#46039f"
             ],
             [
              0.2222222222222222,
              "#7201a8"
             ],
             [
              0.3333333333333333,
              "#9c179e"
             ],
             [
              0.4444444444444444,
              "#bd3786"
             ],
             [
              0.5555555555555556,
              "#d8576b"
             ],
             [
              0.6666666666666666,
              "#ed7953"
             ],
             [
              0.7777777777777778,
              "#fb9f3a"
             ],
             [
              0.8888888888888888,
              "#fdca26"
             ],
             [
              1,
              "#f0f921"
             ]
            ],
            "type": "heatmapgl"
           }
          ],
          "histogram": [
           {
            "marker": {
             "colorbar": {
              "outlinewidth": 0,
              "ticks": ""
             }
            },
            "type": "histogram"
           }
          ],
          "histogram2d": [
           {
            "colorbar": {
             "outlinewidth": 0,
             "ticks": ""
            },
            "colorscale": [
             [
              0,
              "#0d0887"
             ],
             [
              0.1111111111111111,
              "#46039f"
             ],
             [
              0.2222222222222222,
              "#7201a8"
             ],
             [
              0.3333333333333333,
              "#9c179e"
             ],
             [
              0.4444444444444444,
              "#bd3786"
             ],
             [
              0.5555555555555556,
              "#d8576b"
             ],
             [
              0.6666666666666666,
              "#ed7953"
             ],
             [
              0.7777777777777778,
              "#fb9f3a"
             ],
             [
              0.8888888888888888,
              "#fdca26"
             ],
             [
              1,
              "#f0f921"
             ]
            ],
            "type": "histogram2d"
           }
          ],
          "histogram2dcontour": [
           {
            "colorbar": {
             "outlinewidth": 0,
             "ticks": ""
            },
            "colorscale": [
             [
              0,
              "#0d0887"
             ],
             [
              0.1111111111111111,
              "#46039f"
             ],
             [
              0.2222222222222222,
              "#7201a8"
             ],
             [
              0.3333333333333333,
              "#9c179e"
             ],
             [
              0.4444444444444444,
              "#bd3786"
             ],
             [
              0.5555555555555556,
              "#d8576b"
             ],
             [
              0.6666666666666666,
              "#ed7953"
             ],
             [
              0.7777777777777778,
              "#fb9f3a"
             ],
             [
              0.8888888888888888,
              "#fdca26"
             ],
             [
              1,
              "#f0f921"
             ]
            ],
            "type": "histogram2dcontour"
           }
          ],
          "mesh3d": [
           {
            "colorbar": {
             "outlinewidth": 0,
             "ticks": ""
            },
            "type": "mesh3d"
           }
          ],
          "parcoords": [
           {
            "line": {
             "colorbar": {
              "outlinewidth": 0,
              "ticks": ""
             }
            },
            "type": "parcoords"
           }
          ],
          "pie": [
           {
            "automargin": true,
            "type": "pie"
           }
          ],
          "scatter": [
           {
            "marker": {
             "colorbar": {
              "outlinewidth": 0,
              "ticks": ""
             }
            },
            "type": "scatter"
           }
          ],
          "scatter3d": [
           {
            "line": {
             "colorbar": {
              "outlinewidth": 0,
              "ticks": ""
             }
            },
            "marker": {
             "colorbar": {
              "outlinewidth": 0,
              "ticks": ""
             }
            },
            "type": "scatter3d"
           }
          ],
          "scattercarpet": [
           {
            "marker": {
             "colorbar": {
              "outlinewidth": 0,
              "ticks": ""
             }
            },
            "type": "scattercarpet"
           }
          ],
          "scattergeo": [
           {
            "marker": {
             "colorbar": {
              "outlinewidth": 0,
              "ticks": ""
             }
            },
            "type": "scattergeo"
           }
          ],
          "scattergl": [
           {
            "marker": {
             "colorbar": {
              "outlinewidth": 0,
              "ticks": ""
             }
            },
            "type": "scattergl"
           }
          ],
          "scattermapbox": [
           {
            "marker": {
             "colorbar": {
              "outlinewidth": 0,
              "ticks": ""
             }
            },
            "type": "scattermapbox"
           }
          ],
          "scatterpolar": [
           {
            "marker": {
             "colorbar": {
              "outlinewidth": 0,
              "ticks": ""
             }
            },
            "type": "scatterpolar"
           }
          ],
          "scatterpolargl": [
           {
            "marker": {
             "colorbar": {
              "outlinewidth": 0,
              "ticks": ""
             }
            },
            "type": "scatterpolargl"
           }
          ],
          "scatterternary": [
           {
            "marker": {
             "colorbar": {
              "outlinewidth": 0,
              "ticks": ""
             }
            },
            "type": "scatterternary"
           }
          ],
          "surface": [
           {
            "colorbar": {
             "outlinewidth": 0,
             "ticks": ""
            },
            "colorscale": [
             [
              0,
              "#0d0887"
             ],
             [
              0.1111111111111111,
              "#46039f"
             ],
             [
              0.2222222222222222,
              "#7201a8"
             ],
             [
              0.3333333333333333,
              "#9c179e"
             ],
             [
              0.4444444444444444,
              "#bd3786"
             ],
             [
              0.5555555555555556,
              "#d8576b"
             ],
             [
              0.6666666666666666,
              "#ed7953"
             ],
             [
              0.7777777777777778,
              "#fb9f3a"
             ],
             [
              0.8888888888888888,
              "#fdca26"
             ],
             [
              1,
              "#f0f921"
             ]
            ],
            "type": "surface"
           }
          ],
          "table": [
           {
            "cells": {
             "fill": {
              "color": "#EBF0F8"
             },
             "line": {
              "color": "white"
             }
            },
            "header": {
             "fill": {
              "color": "#C8D4E3"
             },
             "line": {
              "color": "white"
             }
            },
            "type": "table"
           }
          ]
         },
         "layout": {
          "annotationdefaults": {
           "arrowcolor": "#2a3f5f",
           "arrowhead": 0,
           "arrowwidth": 1
          },
          "coloraxis": {
           "colorbar": {
            "outlinewidth": 0,
            "ticks": ""
           }
          },
          "colorscale": {
           "diverging": [
            [
             0,
             "#8e0152"
            ],
            [
             0.1,
             "#c51b7d"
            ],
            [
             0.2,
             "#de77ae"
            ],
            [
             0.3,
             "#f1b6da"
            ],
            [
             0.4,
             "#fde0ef"
            ],
            [
             0.5,
             "#f7f7f7"
            ],
            [
             0.6,
             "#e6f5d0"
            ],
            [
             0.7,
             "#b8e186"
            ],
            [
             0.8,
             "#7fbc41"
            ],
            [
             0.9,
             "#4d9221"
            ],
            [
             1,
             "#276419"
            ]
           ],
           "sequential": [
            [
             0,
             "#0d0887"
            ],
            [
             0.1111111111111111,
             "#46039f"
            ],
            [
             0.2222222222222222,
             "#7201a8"
            ],
            [
             0.3333333333333333,
             "#9c179e"
            ],
            [
             0.4444444444444444,
             "#bd3786"
            ],
            [
             0.5555555555555556,
             "#d8576b"
            ],
            [
             0.6666666666666666,
             "#ed7953"
            ],
            [
             0.7777777777777778,
             "#fb9f3a"
            ],
            [
             0.8888888888888888,
             "#fdca26"
            ],
            [
             1,
             "#f0f921"
            ]
           ],
           "sequentialminus": [
            [
             0,
             "#0d0887"
            ],
            [
             0.1111111111111111,
             "#46039f"
            ],
            [
             0.2222222222222222,
             "#7201a8"
            ],
            [
             0.3333333333333333,
             "#9c179e"
            ],
            [
             0.4444444444444444,
             "#bd3786"
            ],
            [
             0.5555555555555556,
             "#d8576b"
            ],
            [
             0.6666666666666666,
             "#ed7953"
            ],
            [
             0.7777777777777778,
             "#fb9f3a"
            ],
            [
             0.8888888888888888,
             "#fdca26"
            ],
            [
             1,
             "#f0f921"
            ]
           ]
          },
          "colorway": [
           "#636efa",
           "#EF553B",
           "#00cc96",
           "#ab63fa",
           "#FFA15A",
           "#19d3f3",
           "#FF6692",
           "#B6E880",
           "#FF97FF",
           "#FECB52"
          ],
          "font": {
           "color": "#2a3f5f"
          },
          "geo": {
           "bgcolor": "white",
           "lakecolor": "white",
           "landcolor": "#E5ECF6",
           "showlakes": true,
           "showland": true,
           "subunitcolor": "white"
          },
          "hoverlabel": {
           "align": "left"
          },
          "hovermode": "closest",
          "mapbox": {
           "style": "light"
          },
          "paper_bgcolor": "white",
          "plot_bgcolor": "#E5ECF6",
          "polar": {
           "angularaxis": {
            "gridcolor": "white",
            "linecolor": "white",
            "ticks": ""
           },
           "bgcolor": "#E5ECF6",
           "radialaxis": {
            "gridcolor": "white",
            "linecolor": "white",
            "ticks": ""
           }
          },
          "scene": {
           "xaxis": {
            "backgroundcolor": "#E5ECF6",
            "gridcolor": "white",
            "gridwidth": 2,
            "linecolor": "white",
            "showbackground": true,
            "ticks": "",
            "zerolinecolor": "white"
           },
           "yaxis": {
            "backgroundcolor": "#E5ECF6",
            "gridcolor": "white",
            "gridwidth": 2,
            "linecolor": "white",
            "showbackground": true,
            "ticks": "",
            "zerolinecolor": "white"
           },
           "zaxis": {
            "backgroundcolor": "#E5ECF6",
            "gridcolor": "white",
            "gridwidth": 2,
            "linecolor": "white",
            "showbackground": true,
            "ticks": "",
            "zerolinecolor": "white"
           }
          },
          "shapedefaults": {
           "line": {
            "color": "#2a3f5f"
           }
          },
          "ternary": {
           "aaxis": {
            "gridcolor": "white",
            "linecolor": "white",
            "ticks": ""
           },
           "baxis": {
            "gridcolor": "white",
            "linecolor": "white",
            "ticks": ""
           },
           "bgcolor": "#E5ECF6",
           "caxis": {
            "gridcolor": "white",
            "linecolor": "white",
            "ticks": ""
           }
          },
          "title": {
           "x": 0.05
          },
          "xaxis": {
           "automargin": true,
           "gridcolor": "white",
           "linecolor": "white",
           "ticks": "",
           "title": {
            "standoff": 15
           },
           "zerolinecolor": "white",
           "zerolinewidth": 2
          },
          "yaxis": {
           "automargin": true,
           "gridcolor": "white",
           "linecolor": "white",
           "ticks": "",
           "title": {
            "standoff": 15
           },
           "zerolinecolor": "white",
           "zerolinewidth": 2
          }
         }
        },
        "xaxis": {
         "anchor": "y",
         "domain": [
          0,
          0.1075
         ],
         "title": {
          "text": "Year"
         }
        },
        "xaxis2": {
         "anchor": "y2",
         "domain": [
          0.1275,
          0.235
         ],
         "matches": "x",
         "title": {
          "text": "Year"
         }
        },
        "xaxis3": {
         "anchor": "y3",
         "domain": [
          0.255,
          0.3625
         ],
         "matches": "x",
         "title": {
          "text": "Year"
         }
        },
        "xaxis4": {
         "anchor": "y4",
         "domain": [
          0.3825,
          0.49
         ],
         "matches": "x",
         "title": {
          "text": "Year"
         }
        },
        "xaxis5": {
         "anchor": "y5",
         "domain": [
          0.51,
          0.6175
         ],
         "matches": "x",
         "title": {
          "text": "Year"
         }
        },
        "xaxis6": {
         "anchor": "y6",
         "domain": [
          0.6375,
          0.745
         ],
         "matches": "x",
         "title": {
          "text": "Year"
         }
        },
        "xaxis7": {
         "anchor": "y7",
         "domain": [
          0.765,
          0.8725
         ],
         "matches": "x",
         "title": {
          "text": "Year"
         }
        },
        "xaxis8": {
         "anchor": "y8",
         "domain": [
          0.8925000000000001,
          1
         ],
         "matches": "x",
         "title": {
          "text": "Year"
         }
        },
        "yaxis": {
         "anchor": "x",
         "domain": [
          0,
          1
         ],
         "title": {
          "text": "Games per Platform"
         }
        },
        "yaxis2": {
         "anchor": "x2",
         "domain": [
          0,
          1
         ],
         "matches": "y",
         "showticklabels": false
        },
        "yaxis3": {
         "anchor": "x3",
         "domain": [
          0,
          1
         ],
         "matches": "y",
         "showticklabels": false
        },
        "yaxis4": {
         "anchor": "x4",
         "domain": [
          0,
          1
         ],
         "matches": "y",
         "showticklabels": false
        },
        "yaxis5": {
         "anchor": "x5",
         "domain": [
          0,
          1
         ],
         "matches": "y",
         "showticklabels": false
        },
        "yaxis6": {
         "anchor": "x6",
         "domain": [
          0,
          1
         ],
         "matches": "y",
         "showticklabels": false
        },
        "yaxis7": {
         "anchor": "x7",
         "domain": [
          0,
          1
         ],
         "matches": "y",
         "showticklabels": false
        },
        "yaxis8": {
         "anchor": "x8",
         "domain": [
          0,
          1
         ],
         "matches": "y",
         "showticklabels": false
        }
       }
      },
      "text/html": [
       "<div>                            <div id=\"452f838e-4fea-46f2-8481-efaa807bdc5e\" class=\"plotly-graph-div\" style=\"height:525px; width:100%;\"></div>            <script type=\"text/javascript\">                require([\"plotly\"], function(Plotly) {                    window.PLOTLYENV=window.PLOTLYENV || {};                                    if (document.getElementById(\"452f838e-4fea-46f2-8481-efaa807bdc5e\")) {                    Plotly.newPlot(                        \"452f838e-4fea-46f2-8481-efaa807bdc5e\",                        [{\"hovertemplate\": \"Platform=2600<br>Year=%{marker.color}<br>Games per Platform=%{marker.size}<extra></extra>\", \"legendgroup\": \"\", \"marker\": {\"color\": [1980, 1981, 1982, 1983, 1984, 1985, 1986, 1987, 1988, 1989], \"coloraxis\": \"coloraxis\", \"size\": [5, 36, 26, 8, 1, 1, 2, 6, 2, 1], \"sizemode\": \"area\", \"sizeref\": 0.42, \"symbol\": \"circle\"}, \"mode\": \"markers\", \"name\": \"\", \"orientation\": \"v\", \"showlegend\": false, \"type\": \"scatter\", \"x\": [1980, 1981, 1982, 1983, 1984, 1985, 1986, 1987, 1988, 1989], \"xaxis\": \"x\", \"y\": [5, 36, 26, 8, 1, 1, 2, 6, 2, 1], \"yaxis\": \"y\"}, {\"hovertemplate\": \"Platform=GEN<br>Year=%{marker.color}<br>Games per Platform=%{marker.size}<extra></extra>\", \"legendgroup\": \"\", \"marker\": {\"color\": [1990, 1991, 1992, 1993, 1994], \"coloraxis\": \"coloraxis\", \"size\": [1, 1, 6, 4, 5], \"sizemode\": \"area\", \"sizeref\": 0.42, \"symbol\": \"circle\"}, \"mode\": \"markers\", \"name\": \"\", \"orientation\": \"v\", \"showlegend\": false, \"type\": \"scatter\", \"x\": [1990, 1991, 1992, 1993, 1994], \"xaxis\": \"x2\", \"y\": [1, 1, 6, 4, 5], \"yaxis\": \"y2\"}, {\"hovertemplate\": \"Platform=N64<br>Year=%{marker.color}<br>Games per Platform=%{marker.size}<extra></extra>\", \"legendgroup\": \"\", \"marker\": {\"color\": [1996, 1997, 1998, 1999, 2000, 2001, 2002], \"coloraxis\": \"coloraxis\", \"size\": [11, 34, 63, 68, 37, 4, 1], \"sizemode\": \"area\", \"sizeref\": 0.42, \"symbol\": \"circle\"}, \"mode\": \"markers\", \"name\": \"\", \"orientation\": \"v\", \"showlegend\": false, \"type\": \"scatter\", \"x\": [1996, 1997, 1998, 1999, 2000, 2001, 2002], \"xaxis\": \"x3\", \"y\": [11, 34, 63, 68, 37, 4, 1], \"yaxis\": \"y3\"}, {\"hovertemplate\": \"Platform=NES<br>Year=%{marker.color}<br>Games per Platform=%{marker.size}<extra></extra>\", \"legendgroup\": \"\", \"marker\": {\"color\": [1983, 1984, 1985, 1986, 1987, 1988, 1989, 1990, 1991, 1992, 1993], \"coloraxis\": \"coloraxis\", \"size\": [2, 7, 9, 10, 6, 6, 2, 4, 3, 1, 3], \"sizemode\": \"area\", \"sizeref\": 0.42, \"symbol\": \"circle\"}, \"mode\": \"markers\", \"name\": \"\", \"orientation\": \"v\", \"showlegend\": false, \"type\": \"scatter\", \"x\": [1983, 1984, 1985, 1986, 1987, 1988, 1989, 1990, 1991, 1992, 1993], \"xaxis\": \"x4\", \"y\": [2, 7, 9, 10, 6, 6, 2, 4, 3, 1, 3], \"yaxis\": \"y4\"}, {\"hovertemplate\": \"Platform=PS<br>Year=%{marker.color}<br>Games per Platform=%{marker.size}<extra></extra>\", \"legendgroup\": \"\", \"marker\": {\"color\": [1994, 1995, 1996, 1997, 1998, 1999, 2000, 2001, 2002, 2003], \"coloraxis\": \"coloraxis\", \"size\": [9, 59, 118, 134, 168, 136, 117, 63, 5, 1], \"sizemode\": \"area\", \"sizeref\": 0.42, \"symbol\": \"circle\"}, \"mode\": \"markers\", \"name\": \"\", \"orientation\": \"v\", \"showlegend\": false, \"type\": \"scatter\", \"x\": [1994, 1995, 1996, 1997, 1998, 1999, 2000, 2001, 2002, 2003], \"xaxis\": \"x5\", \"y\": [9, 59, 118, 134, 168, 136, 117, 63, 5, 1], \"yaxis\": \"y5\"}, {\"hovertemplate\": \"Platform=SAT<br>Year=%{marker.color}<br>Games per Platform=%{marker.size}<extra></extra>\", \"legendgroup\": \"\", \"marker\": {\"color\": [1994, 1995, 1996], \"coloraxis\": \"coloraxis\", \"size\": [18, 19, 7], \"sizemode\": \"area\", \"sizeref\": 0.42, \"symbol\": \"circle\"}, \"mode\": \"markers\", \"name\": \"\", \"orientation\": \"v\", \"showlegend\": false, \"type\": \"scatter\", \"x\": [1994, 1995, 1996], \"xaxis\": \"x6\", \"y\": [18, 19, 7], \"yaxis\": \"y6\"}, {\"hovertemplate\": \"Platform=SCD<br>Year=%{marker.color}<br>Games per Platform=%{marker.size}<extra></extra>\", \"legendgroup\": \"\", \"marker\": {\"color\": [1993, 1994], \"coloraxis\": \"coloraxis\", \"size\": [1, 1], \"sizemode\": \"area\", \"sizeref\": 0.42, \"symbol\": \"circle\"}, \"mode\": \"markers\", \"name\": \"\", \"orientation\": \"v\", \"showlegend\": false, \"type\": \"scatter\", \"x\": [1993, 1994], \"xaxis\": \"x7\", \"y\": [1, 1], \"yaxis\": \"y7\"}, {\"hovertemplate\": \"Platform=SNES<br>Year=%{marker.color}<br>Games per Platform=%{marker.size}<extra></extra>\", \"legendgroup\": \"\", \"marker\": {\"color\": [1990, 1991, 1992, 1993, 1994, 1995, 1996], \"coloraxis\": \"coloraxis\", \"size\": [3, 13, 8, 10, 10, 6, 1], \"sizemode\": \"area\", \"sizeref\": 0.42, \"symbol\": \"circle\"}, \"mode\": \"markers\", \"name\": \"\", \"orientation\": \"v\", \"showlegend\": false, \"type\": \"scatter\", \"x\": [1990, 1991, 1992, 1993, 1994, 1995, 1996], \"xaxis\": \"x8\", \"y\": [3, 13, 8, 10, 10, 6, 1], \"yaxis\": \"y8\"}],                        {\"annotations\": [{\"font\": {}, \"showarrow\": false, \"text\": \"Platform=2600\", \"x\": 0.05375, \"xanchor\": \"center\", \"xref\": \"paper\", \"y\": 1.0, \"yanchor\": \"bottom\", \"yref\": \"paper\"}, {\"font\": {}, \"showarrow\": false, \"text\": \"Platform=GEN\", \"x\": 0.18125, \"xanchor\": \"center\", \"xref\": \"paper\", \"y\": 1.0, \"yanchor\": \"bottom\", \"yref\": \"paper\"}, {\"font\": {}, \"showarrow\": false, \"text\": \"Platform=N64\", \"x\": 0.30874999999999997, \"xanchor\": \"center\", \"xref\": \"paper\", \"y\": 1.0, \"yanchor\": \"bottom\", \"yref\": \"paper\"}, {\"font\": {}, \"showarrow\": false, \"text\": \"Platform=NES\", \"x\": 0.43625, \"xanchor\": \"center\", \"xref\": \"paper\", \"y\": 1.0, \"yanchor\": \"bottom\", \"yref\": \"paper\"}, {\"font\": {}, \"showarrow\": false, \"text\": \"Platform=PS\", \"x\": 0.56375, \"xanchor\": \"center\", \"xref\": \"paper\", \"y\": 1.0, \"yanchor\": \"bottom\", \"yref\": \"paper\"}, {\"font\": {}, \"showarrow\": false, \"text\": \"Platform=SAT\", \"x\": 0.6912499999999999, \"xanchor\": \"center\", \"xref\": \"paper\", \"y\": 1.0, \"yanchor\": \"bottom\", \"yref\": \"paper\"}, {\"font\": {}, \"showarrow\": false, \"text\": \"Platform=SCD\", \"x\": 0.8187500000000001, \"xanchor\": \"center\", \"xref\": \"paper\", \"y\": 1.0, \"yanchor\": \"bottom\", \"yref\": \"paper\"}, {\"font\": {}, \"showarrow\": false, \"text\": \"Platform=SNES\", \"x\": 0.94625, \"xanchor\": \"center\", \"xref\": \"paper\", \"y\": 1.0, \"yanchor\": \"bottom\", \"yref\": \"paper\"}], \"coloraxis\": {\"colorbar\": {\"title\": {\"text\": \"Year\"}}, \"colorscale\": [[0.0, \"#0d0887\"], [0.1111111111111111, \"#46039f\"], [0.2222222222222222, \"#7201a8\"], [0.3333333333333333, \"#9c179e\"], [0.4444444444444444, \"#bd3786\"], [0.5555555555555556, \"#d8576b\"], [0.6666666666666666, \"#ed7953\"], [0.7777777777777778, \"#fb9f3a\"], [0.8888888888888888, \"#fdca26\"], [1.0, \"#f0f921\"]]}, \"legend\": {\"itemsizing\": \"constant\", \"tracegroupgap\": 0}, \"margin\": {\"t\": 60}, \"template\": {\"data\": {\"bar\": [{\"error_x\": {\"color\": \"#2a3f5f\"}, \"error_y\": {\"color\": \"#2a3f5f\"}, \"marker\": {\"line\": {\"color\": \"#E5ECF6\", \"width\": 0.5}}, \"type\": \"bar\"}], \"barpolar\": [{\"marker\": {\"line\": {\"color\": \"#E5ECF6\", \"width\": 0.5}}, \"type\": \"barpolar\"}], \"carpet\": [{\"aaxis\": {\"endlinecolor\": \"#2a3f5f\", \"gridcolor\": \"white\", \"linecolor\": \"white\", \"minorgridcolor\": \"white\", \"startlinecolor\": \"#2a3f5f\"}, \"baxis\": {\"endlinecolor\": \"#2a3f5f\", \"gridcolor\": \"white\", \"linecolor\": \"white\", \"minorgridcolor\": \"white\", \"startlinecolor\": \"#2a3f5f\"}, \"type\": \"carpet\"}], \"choropleth\": [{\"colorbar\": {\"outlinewidth\": 0, \"ticks\": \"\"}, \"type\": \"choropleth\"}], \"contour\": [{\"colorbar\": {\"outlinewidth\": 0, \"ticks\": \"\"}, \"colorscale\": [[0.0, \"#0d0887\"], [0.1111111111111111, \"#46039f\"], [0.2222222222222222, \"#7201a8\"], [0.3333333333333333, \"#9c179e\"], [0.4444444444444444, \"#bd3786\"], [0.5555555555555556, \"#d8576b\"], [0.6666666666666666, \"#ed7953\"], [0.7777777777777778, \"#fb9f3a\"], [0.8888888888888888, \"#fdca26\"], [1.0, \"#f0f921\"]], \"type\": \"contour\"}], \"contourcarpet\": [{\"colorbar\": {\"outlinewidth\": 0, \"ticks\": \"\"}, \"type\": \"contourcarpet\"}], \"heatmap\": [{\"colorbar\": {\"outlinewidth\": 0, \"ticks\": \"\"}, \"colorscale\": [[0.0, \"#0d0887\"], [0.1111111111111111, \"#46039f\"], [0.2222222222222222, \"#7201a8\"], [0.3333333333333333, \"#9c179e\"], [0.4444444444444444, \"#bd3786\"], [0.5555555555555556, \"#d8576b\"], [0.6666666666666666, \"#ed7953\"], [0.7777777777777778, \"#fb9f3a\"], [0.8888888888888888, \"#fdca26\"], [1.0, \"#f0f921\"]], \"type\": \"heatmap\"}], \"heatmapgl\": [{\"colorbar\": {\"outlinewidth\": 0, \"ticks\": \"\"}, \"colorscale\": [[0.0, \"#0d0887\"], [0.1111111111111111, \"#46039f\"], [0.2222222222222222, \"#7201a8\"], [0.3333333333333333, \"#9c179e\"], [0.4444444444444444, \"#bd3786\"], [0.5555555555555556, \"#d8576b\"], [0.6666666666666666, \"#ed7953\"], [0.7777777777777778, \"#fb9f3a\"], [0.8888888888888888, \"#fdca26\"], [1.0, \"#f0f921\"]], \"type\": \"heatmapgl\"}], \"histogram\": [{\"marker\": {\"colorbar\": {\"outlinewidth\": 0, \"ticks\": \"\"}}, \"type\": \"histogram\"}], \"histogram2d\": [{\"colorbar\": {\"outlinewidth\": 0, \"ticks\": \"\"}, \"colorscale\": [[0.0, \"#0d0887\"], [0.1111111111111111, \"#46039f\"], [0.2222222222222222, \"#7201a8\"], [0.3333333333333333, \"#9c179e\"], [0.4444444444444444, \"#bd3786\"], [0.5555555555555556, \"#d8576b\"], [0.6666666666666666, \"#ed7953\"], [0.7777777777777778, \"#fb9f3a\"], [0.8888888888888888, \"#fdca26\"], [1.0, \"#f0f921\"]], \"type\": \"histogram2d\"}], \"histogram2dcontour\": [{\"colorbar\": {\"outlinewidth\": 0, \"ticks\": \"\"}, \"colorscale\": [[0.0, \"#0d0887\"], [0.1111111111111111, \"#46039f\"], [0.2222222222222222, \"#7201a8\"], [0.3333333333333333, \"#9c179e\"], [0.4444444444444444, \"#bd3786\"], [0.5555555555555556, \"#d8576b\"], [0.6666666666666666, \"#ed7953\"], [0.7777777777777778, \"#fb9f3a\"], [0.8888888888888888, \"#fdca26\"], [1.0, \"#f0f921\"]], \"type\": \"histogram2dcontour\"}], \"mesh3d\": [{\"colorbar\": {\"outlinewidth\": 0, \"ticks\": \"\"}, \"type\": \"mesh3d\"}], \"parcoords\": [{\"line\": {\"colorbar\": {\"outlinewidth\": 0, \"ticks\": \"\"}}, \"type\": \"parcoords\"}], \"pie\": [{\"automargin\": true, \"type\": \"pie\"}], \"scatter\": [{\"marker\": {\"colorbar\": {\"outlinewidth\": 0, \"ticks\": \"\"}}, \"type\": \"scatter\"}], \"scatter3d\": [{\"line\": {\"colorbar\": {\"outlinewidth\": 0, \"ticks\": \"\"}}, \"marker\": {\"colorbar\": {\"outlinewidth\": 0, \"ticks\": \"\"}}, \"type\": \"scatter3d\"}], \"scattercarpet\": [{\"marker\": {\"colorbar\": {\"outlinewidth\": 0, \"ticks\": \"\"}}, \"type\": \"scattercarpet\"}], \"scattergeo\": [{\"marker\": {\"colorbar\": {\"outlinewidth\": 0, \"ticks\": \"\"}}, \"type\": \"scattergeo\"}], \"scattergl\": [{\"marker\": {\"colorbar\": {\"outlinewidth\": 0, \"ticks\": \"\"}}, \"type\": \"scattergl\"}], \"scattermapbox\": [{\"marker\": {\"colorbar\": {\"outlinewidth\": 0, \"ticks\": \"\"}}, \"type\": \"scattermapbox\"}], \"scatterpolar\": [{\"marker\": {\"colorbar\": {\"outlinewidth\": 0, \"ticks\": \"\"}}, \"type\": \"scatterpolar\"}], \"scatterpolargl\": [{\"marker\": {\"colorbar\": {\"outlinewidth\": 0, \"ticks\": \"\"}}, \"type\": \"scatterpolargl\"}], \"scatterternary\": [{\"marker\": {\"colorbar\": {\"outlinewidth\": 0, \"ticks\": \"\"}}, \"type\": \"scatterternary\"}], \"surface\": [{\"colorbar\": {\"outlinewidth\": 0, \"ticks\": \"\"}, \"colorscale\": [[0.0, \"#0d0887\"], [0.1111111111111111, \"#46039f\"], [0.2222222222222222, \"#7201a8\"], [0.3333333333333333, \"#9c179e\"], [0.4444444444444444, \"#bd3786\"], [0.5555555555555556, \"#d8576b\"], [0.6666666666666666, \"#ed7953\"], [0.7777777777777778, \"#fb9f3a\"], [0.8888888888888888, \"#fdca26\"], [1.0, \"#f0f921\"]], \"type\": \"surface\"}], \"table\": [{\"cells\": {\"fill\": {\"color\": \"#EBF0F8\"}, \"line\": {\"color\": \"white\"}}, \"header\": {\"fill\": {\"color\": \"#C8D4E3\"}, \"line\": {\"color\": \"white\"}}, \"type\": \"table\"}]}, \"layout\": {\"annotationdefaults\": {\"arrowcolor\": \"#2a3f5f\", \"arrowhead\": 0, \"arrowwidth\": 1}, \"coloraxis\": {\"colorbar\": {\"outlinewidth\": 0, \"ticks\": \"\"}}, \"colorscale\": {\"diverging\": [[0, \"#8e0152\"], [0.1, \"#c51b7d\"], [0.2, \"#de77ae\"], [0.3, \"#f1b6da\"], [0.4, \"#fde0ef\"], [0.5, \"#f7f7f7\"], [0.6, \"#e6f5d0\"], [0.7, \"#b8e186\"], [0.8, \"#7fbc41\"], [0.9, \"#4d9221\"], [1, \"#276419\"]], \"sequential\": [[0.0, \"#0d0887\"], [0.1111111111111111, \"#46039f\"], [0.2222222222222222, \"#7201a8\"], [0.3333333333333333, \"#9c179e\"], [0.4444444444444444, \"#bd3786\"], [0.5555555555555556, \"#d8576b\"], [0.6666666666666666, \"#ed7953\"], [0.7777777777777778, \"#fb9f3a\"], [0.8888888888888888, \"#fdca26\"], [1.0, \"#f0f921\"]], \"sequentialminus\": [[0.0, \"#0d0887\"], [0.1111111111111111, \"#46039f\"], [0.2222222222222222, \"#7201a8\"], [0.3333333333333333, \"#9c179e\"], [0.4444444444444444, \"#bd3786\"], [0.5555555555555556, \"#d8576b\"], [0.6666666666666666, \"#ed7953\"], [0.7777777777777778, \"#fb9f3a\"], [0.8888888888888888, \"#fdca26\"], [1.0, \"#f0f921\"]]}, \"colorway\": [\"#636efa\", \"#EF553B\", \"#00cc96\", \"#ab63fa\", \"#FFA15A\", \"#19d3f3\", \"#FF6692\", \"#B6E880\", \"#FF97FF\", \"#FECB52\"], \"font\": {\"color\": \"#2a3f5f\"}, \"geo\": {\"bgcolor\": \"white\", \"lakecolor\": \"white\", \"landcolor\": \"#E5ECF6\", \"showlakes\": true, \"showland\": true, \"subunitcolor\": \"white\"}, \"hoverlabel\": {\"align\": \"left\"}, \"hovermode\": \"closest\", \"mapbox\": {\"style\": \"light\"}, \"paper_bgcolor\": \"white\", \"plot_bgcolor\": \"#E5ECF6\", \"polar\": {\"angularaxis\": {\"gridcolor\": \"white\", \"linecolor\": \"white\", \"ticks\": \"\"}, \"bgcolor\": \"#E5ECF6\", \"radialaxis\": {\"gridcolor\": \"white\", \"linecolor\": \"white\", \"ticks\": \"\"}}, \"scene\": {\"xaxis\": {\"backgroundcolor\": \"#E5ECF6\", \"gridcolor\": \"white\", \"gridwidth\": 2, \"linecolor\": \"white\", \"showbackground\": true, \"ticks\": \"\", \"zerolinecolor\": \"white\"}, \"yaxis\": {\"backgroundcolor\": \"#E5ECF6\", \"gridcolor\": \"white\", \"gridwidth\": 2, \"linecolor\": \"white\", \"showbackground\": true, \"ticks\": \"\", \"zerolinecolor\": \"white\"}, \"zaxis\": {\"backgroundcolor\": \"#E5ECF6\", \"gridcolor\": \"white\", \"gridwidth\": 2, \"linecolor\": \"white\", \"showbackground\": true, \"ticks\": \"\", \"zerolinecolor\": \"white\"}}, \"shapedefaults\": {\"line\": {\"color\": \"#2a3f5f\"}}, \"ternary\": {\"aaxis\": {\"gridcolor\": \"white\", \"linecolor\": \"white\", \"ticks\": \"\"}, \"baxis\": {\"gridcolor\": \"white\", \"linecolor\": \"white\", \"ticks\": \"\"}, \"bgcolor\": \"#E5ECF6\", \"caxis\": {\"gridcolor\": \"white\", \"linecolor\": \"white\", \"ticks\": \"\"}}, \"title\": {\"x\": 0.05}, \"xaxis\": {\"automargin\": true, \"gridcolor\": \"white\", \"linecolor\": \"white\", \"ticks\": \"\", \"title\": {\"standoff\": 15}, \"zerolinecolor\": \"white\", \"zerolinewidth\": 2}, \"yaxis\": {\"automargin\": true, \"gridcolor\": \"white\", \"linecolor\": \"white\", \"ticks\": \"\", \"title\": {\"standoff\": 15}, \"zerolinecolor\": \"white\", \"zerolinewidth\": 2}}}, \"xaxis\": {\"anchor\": \"y\", \"domain\": [0.0, 0.1075], \"title\": {\"text\": \"Year\"}}, \"xaxis2\": {\"anchor\": \"y2\", \"domain\": [0.1275, 0.235], \"matches\": \"x\", \"title\": {\"text\": \"Year\"}}, \"xaxis3\": {\"anchor\": \"y3\", \"domain\": [0.255, 0.3625], \"matches\": \"x\", \"title\": {\"text\": \"Year\"}}, \"xaxis4\": {\"anchor\": \"y4\", \"domain\": [0.3825, 0.49], \"matches\": \"x\", \"title\": {\"text\": \"Year\"}}, \"xaxis5\": {\"anchor\": \"y5\", \"domain\": [0.51, 0.6175], \"matches\": \"x\", \"title\": {\"text\": \"Year\"}}, \"xaxis6\": {\"anchor\": \"y6\", \"domain\": [0.6375, 0.745], \"matches\": \"x\", \"title\": {\"text\": \"Year\"}}, \"xaxis7\": {\"anchor\": \"y7\", \"domain\": [0.765, 0.8725], \"matches\": \"x\", \"title\": {\"text\": \"Year\"}}, \"xaxis8\": {\"anchor\": \"y8\", \"domain\": [0.8925000000000001, 1.0], \"matches\": \"x\", \"title\": {\"text\": \"Year\"}}, \"yaxis\": {\"anchor\": \"x\", \"domain\": [0.0, 1.0], \"title\": {\"text\": \"Games per Platform\"}}, \"yaxis2\": {\"anchor\": \"x2\", \"domain\": [0.0, 1.0], \"matches\": \"y\", \"showticklabels\": false}, \"yaxis3\": {\"anchor\": \"x3\", \"domain\": [0.0, 1.0], \"matches\": \"y\", \"showticklabels\": false}, \"yaxis4\": {\"anchor\": \"x4\", \"domain\": [0.0, 1.0], \"matches\": \"y\", \"showticklabels\": false}, \"yaxis5\": {\"anchor\": \"x5\", \"domain\": [0.0, 1.0], \"matches\": \"y\", \"showticklabels\": false}, \"yaxis6\": {\"anchor\": \"x6\", \"domain\": [0.0, 1.0], \"matches\": \"y\", \"showticklabels\": false}, \"yaxis7\": {\"anchor\": \"x7\", \"domain\": [0.0, 1.0], \"matches\": \"y\", \"showticklabels\": false}, \"yaxis8\": {\"anchor\": \"x8\", \"domain\": [0.0, 1.0], \"matches\": \"y\", \"showticklabels\": false}},                        {\"responsive\": true}                    ).then(function(){\n",
       "                            \n",
       "var gd = document.getElementById('452f838e-4fea-46f2-8481-efaa807bdc5e');\n",
       "var x = new MutationObserver(function (mutations, observer) {{\n",
       "        var display = window.getComputedStyle(gd).display;\n",
       "        if (!display || display === 'none') {{\n",
       "            console.log([gd, 'removed!']);\n",
       "            Plotly.purge(gd);\n",
       "            observer.disconnect();\n",
       "        }}\n",
       "}});\n",
       "\n",
       "// Listen for the removal of the full notebook cells\n",
       "var notebookContainer = gd.closest('#notebook-container');\n",
       "if (notebookContainer) {{\n",
       "    x.observe(notebookContainer, {childList: true});\n",
       "}}\n",
       "\n",
       "// Listen for the clearing of the current output cell\n",
       "var outputEl = gd.closest('.output');\n",
       "if (outputEl) {{\n",
       "    x.observe(outputEl, {childList: true});\n",
       "}}\n",
       "\n",
       "                        })                };                });            </script>        </div>"
      ]
     },
     "metadata": {},
     "output_type": "display_data"
    }
   ],
   "source": [
    "fig = px.scatter(games_by_year, x=\"Year\", y=\"Games per Platform\",\n",
    "                size=\"Games per Platform\", color=\"Year\", facet_col=\"Platform\")\n",
    "fig.show()"
   ]
  },
  {
   "cell_type": "code",
   "execution_count": 19,
   "metadata": {},
   "outputs": [
    {
     "data": {
      "application/vnd.plotly.v1+json": {
       "config": {
        "plotlyServerURL": "https://plot.ly"
       },
       "data": [
        {
         "hovertemplate": "Genre=%{x}<br>Games per Genre=%{marker.size}<br>Year=%{marker.color}<extra></extra>",
         "legendgroup": "",
         "marker": {
          "color": [
           1981,
           1982,
           1983,
           1984,
           1985,
           1986,
           1987,
           1988,
           1989,
           1990,
           1993,
           1995,
           1996,
           1997,
           1998,
           1999,
           2000,
           2001,
           2002,
           1987,
           1992,
           1993,
           1994,
           1995,
           1996,
           1997,
           1998,
           1999,
           2000,
           2001,
           1980,
           1987,
           1992,
           1993,
           1994,
           1995,
           1996,
           1997,
           1998,
           1999,
           2000,
           2001,
           2002,
           1980,
           1982,
           1992,
           1995,
           1996,
           1997,
           1998,
           1999,
           2000,
           2001,
           1981,
           1982,
           1983,
           1985,
           1986,
           1987,
           1988,
           1990,
           1991,
           1992,
           1993,
           1994,
           1995,
           1996,
           1997,
           1998,
           1999,
           2000,
           2001,
           1981,
           1982,
           1983,
           1984,
           1985,
           1988,
           1989,
           1990,
           1991,
           1992,
           1993,
           1994,
           1995,
           1996,
           1997,
           1998,
           1999,
           2000,
           2001,
           1981,
           1982,
           1984,
           1986,
           1988,
           1990,
           1992,
           1993,
           1994,
           1995,
           1996,
           1997,
           1998,
           1999,
           2000,
           2001,
           2002,
           1986,
           1987,
           1991,
           1993,
           1995,
           1996,
           1997,
           1998,
           1999,
           2000,
           2001,
           1980,
           1981,
           1982,
           1983,
           1984,
           1985,
           1986,
           1987,
           1988,
           1991,
           1992,
           1993,
           1994,
           1995,
           1996,
           1997,
           1998,
           1999,
           2000,
           2001,
           2002,
           1981,
           1990,
           1991,
           1994,
           1995,
           1996,
           1997,
           1998,
           1999,
           2000,
           1980,
           1981,
           1982,
           1983,
           1984,
           1985,
           1986,
           1987,
           1988,
           1990,
           1991,
           1992,
           1994,
           1995,
           1996,
           1997,
           1998,
           1999,
           2000,
           2001,
           2002,
           2003,
           1991,
           1992,
           1993,
           1994,
           1995,
           1996,
           1997,
           1998,
           1999,
           2000,
           2001
          ],
          "coloraxis": "coloraxis",
          "size": [
           20,
           10,
           5,
           1,
           1,
           3,
           2,
           1,
           2,
           3,
           1,
           5,
           16,
           21,
           34,
           30,
           27,
           16,
           2,
           1,
           1,
           1,
           2,
           2,
           6,
           5,
           3,
           6,
           6,
           5,
           1,
           2,
           5,
           3,
           12,
           14,
           15,
           17,
           28,
           11,
           13,
           2,
           1,
           2,
           1,
           1,
           2,
           7,
           5,
           13,
           10,
           7,
           1,
           1,
           5,
           2,
           4,
           2,
           1,
           3,
           1,
           4,
           2,
           5,
           4,
           6,
           8,
           12,
           19,
           13,
           12,
           3,
           2,
           2,
           1,
           1,
           3,
           1,
           1,
           1,
           1,
           1,
           1,
           1,
           4,
           2,
           8,
           9,
           5,
           4,
           3,
           1,
           2,
           2,
           1,
           1,
           1,
           1,
           2,
           4,
           9,
           19,
           28,
           35,
           40,
           28,
           8,
           1,
           1,
           2,
           1,
           2,
           6,
           5,
           8,
           12,
           17,
           5,
           3,
           1,
           8,
           4,
           1,
           2,
           1,
           3,
           2,
           1,
           3,
           1,
           2,
           6,
           15,
           15,
           18,
           16,
           14,
           11,
           7,
           1,
           1,
           1,
           2,
           4,
           8,
           7,
           11,
           5,
           6,
           4,
           1,
           3,
           2,
           1,
           2,
           1,
           2,
           2,
           1,
           1,
           5,
           2,
           9,
           9,
           33,
           30,
           47,
           39,
           36,
           18,
           1,
           1,
           1,
           1,
           1,
           1,
           4,
           4,
           5,
           10,
           13,
           1,
           1
          ],
          "sizemode": "area",
          "sizeref": 0.1175,
          "symbol": "circle"
         },
         "mode": "markers",
         "name": "",
         "orientation": "v",
         "showlegend": false,
         "type": "scatter",
         "x": [
          "Action",
          "Action",
          "Action",
          "Action",
          "Action",
          "Action",
          "Action",
          "Action",
          "Action",
          "Action",
          "Action",
          "Action",
          "Action",
          "Action",
          "Action",
          "Action",
          "Action",
          "Action",
          "Action",
          "Adventure",
          "Adventure",
          "Adventure",
          "Adventure",
          "Adventure",
          "Adventure",
          "Adventure",
          "Adventure",
          "Adventure",
          "Adventure",
          "Adventure",
          "Fighting",
          "Fighting",
          "Fighting",
          "Fighting",
          "Fighting",
          "Fighting",
          "Fighting",
          "Fighting",
          "Fighting",
          "Fighting",
          "Fighting",
          "Fighting",
          "Fighting",
          "Misc",
          "Misc",
          "Misc",
          "Misc",
          "Misc",
          "Misc",
          "Misc",
          "Misc",
          "Misc",
          "Misc",
          "Platform",
          "Platform",
          "Platform",
          "Platform",
          "Platform",
          "Platform",
          "Platform",
          "Platform",
          "Platform",
          "Platform",
          "Platform",
          "Platform",
          "Platform",
          "Platform",
          "Platform",
          "Platform",
          "Platform",
          "Platform",
          "Platform",
          "Puzzle",
          "Puzzle",
          "Puzzle",
          "Puzzle",
          "Puzzle",
          "Puzzle",
          "Puzzle",
          "Puzzle",
          "Puzzle",
          "Puzzle",
          "Puzzle",
          "Puzzle",
          "Puzzle",
          "Puzzle",
          "Puzzle",
          "Puzzle",
          "Puzzle",
          "Puzzle",
          "Puzzle",
          "Racing",
          "Racing",
          "Racing",
          "Racing",
          "Racing",
          "Racing",
          "Racing",
          "Racing",
          "Racing",
          "Racing",
          "Racing",
          "Racing",
          "Racing",
          "Racing",
          "Racing",
          "Racing",
          "Racing",
          "Role-Playing",
          "Role-Playing",
          "Role-Playing",
          "Role-Playing",
          "Role-Playing",
          "Role-Playing",
          "Role-Playing",
          "Role-Playing",
          "Role-Playing",
          "Role-Playing",
          "Role-Playing",
          "Shooter",
          "Shooter",
          "Shooter",
          "Shooter",
          "Shooter",
          "Shooter",
          "Shooter",
          "Shooter",
          "Shooter",
          "Shooter",
          "Shooter",
          "Shooter",
          "Shooter",
          "Shooter",
          "Shooter",
          "Shooter",
          "Shooter",
          "Shooter",
          "Shooter",
          "Shooter",
          "Shooter",
          "Simulation",
          "Simulation",
          "Simulation",
          "Simulation",
          "Simulation",
          "Simulation",
          "Simulation",
          "Simulation",
          "Simulation",
          "Simulation",
          "Sports",
          "Sports",
          "Sports",
          "Sports",
          "Sports",
          "Sports",
          "Sports",
          "Sports",
          "Sports",
          "Sports",
          "Sports",
          "Sports",
          "Sports",
          "Sports",
          "Sports",
          "Sports",
          "Sports",
          "Sports",
          "Sports",
          "Sports",
          "Sports",
          "Sports",
          "Strategy",
          "Strategy",
          "Strategy",
          "Strategy",
          "Strategy",
          "Strategy",
          "Strategy",
          "Strategy",
          "Strategy",
          "Strategy",
          "Strategy"
         ],
         "xaxis": "x",
         "y": [
          20,
          10,
          5,
          1,
          1,
          3,
          2,
          1,
          2,
          3,
          1,
          5,
          16,
          21,
          34,
          30,
          27,
          16,
          2,
          1,
          1,
          1,
          2,
          2,
          6,
          5,
          3,
          6,
          6,
          5,
          1,
          2,
          5,
          3,
          12,
          14,
          15,
          17,
          28,
          11,
          13,
          2,
          1,
          2,
          1,
          1,
          2,
          7,
          5,
          13,
          10,
          7,
          1,
          1,
          5,
          2,
          4,
          2,
          1,
          3,
          1,
          4,
          2,
          5,
          4,
          6,
          8,
          12,
          19,
          13,
          12,
          3,
          2,
          2,
          1,
          1,
          3,
          1,
          1,
          1,
          1,
          1,
          1,
          1,
          4,
          2,
          8,
          9,
          5,
          4,
          3,
          1,
          2,
          2,
          1,
          1,
          1,
          1,
          2,
          4,
          9,
          19,
          28,
          35,
          40,
          28,
          8,
          1,
          1,
          2,
          1,
          2,
          6,
          5,
          8,
          12,
          17,
          5,
          3,
          1,
          8,
          4,
          1,
          2,
          1,
          3,
          2,
          1,
          3,
          1,
          2,
          6,
          15,
          15,
          18,
          16,
          14,
          11,
          7,
          1,
          1,
          1,
          2,
          4,
          8,
          7,
          11,
          5,
          6,
          4,
          1,
          3,
          2,
          1,
          2,
          1,
          2,
          2,
          1,
          1,
          5,
          2,
          9,
          9,
          33,
          30,
          47,
          39,
          36,
          18,
          1,
          1,
          1,
          1,
          1,
          1,
          4,
          4,
          5,
          10,
          13,
          1,
          1
         ],
         "yaxis": "y"
        }
       ],
       "layout": {
        "coloraxis": {
         "colorbar": {
          "title": {
           "text": "Year"
          }
         },
         "colorscale": [
          [
           0,
           "#0d0887"
          ],
          [
           0.1111111111111111,
           "#46039f"
          ],
          [
           0.2222222222222222,
           "#7201a8"
          ],
          [
           0.3333333333333333,
           "#9c179e"
          ],
          [
           0.4444444444444444,
           "#bd3786"
          ],
          [
           0.5555555555555556,
           "#d8576b"
          ],
          [
           0.6666666666666666,
           "#ed7953"
          ],
          [
           0.7777777777777778,
           "#fb9f3a"
          ],
          [
           0.8888888888888888,
           "#fdca26"
          ],
          [
           1,
           "#f0f921"
          ]
         ]
        },
        "legend": {
         "itemsizing": "constant",
         "tracegroupgap": 0
        },
        "margin": {
         "t": 60
        },
        "template": {
         "data": {
          "bar": [
           {
            "error_x": {
             "color": "#2a3f5f"
            },
            "error_y": {
             "color": "#2a3f5f"
            },
            "marker": {
             "line": {
              "color": "#E5ECF6",
              "width": 0.5
             }
            },
            "type": "bar"
           }
          ],
          "barpolar": [
           {
            "marker": {
             "line": {
              "color": "#E5ECF6",
              "width": 0.5
             }
            },
            "type": "barpolar"
           }
          ],
          "carpet": [
           {
            "aaxis": {
             "endlinecolor": "#2a3f5f",
             "gridcolor": "white",
             "linecolor": "white",
             "minorgridcolor": "white",
             "startlinecolor": "#2a3f5f"
            },
            "baxis": {
             "endlinecolor": "#2a3f5f",
             "gridcolor": "white",
             "linecolor": "white",
             "minorgridcolor": "white",
             "startlinecolor": "#2a3f5f"
            },
            "type": "carpet"
           }
          ],
          "choropleth": [
           {
            "colorbar": {
             "outlinewidth": 0,
             "ticks": ""
            },
            "type": "choropleth"
           }
          ],
          "contour": [
           {
            "colorbar": {
             "outlinewidth": 0,
             "ticks": ""
            },
            "colorscale": [
             [
              0,
              "#0d0887"
             ],
             [
              0.1111111111111111,
              "#46039f"
             ],
             [
              0.2222222222222222,
              "#7201a8"
             ],
             [
              0.3333333333333333,
              "#9c179e"
             ],
             [
              0.4444444444444444,
              "#bd3786"
             ],
             [
              0.5555555555555556,
              "#d8576b"
             ],
             [
              0.6666666666666666,
              "#ed7953"
             ],
             [
              0.7777777777777778,
              "#fb9f3a"
             ],
             [
              0.8888888888888888,
              "#fdca26"
             ],
             [
              1,
              "#f0f921"
             ]
            ],
            "type": "contour"
           }
          ],
          "contourcarpet": [
           {
            "colorbar": {
             "outlinewidth": 0,
             "ticks": ""
            },
            "type": "contourcarpet"
           }
          ],
          "heatmap": [
           {
            "colorbar": {
             "outlinewidth": 0,
             "ticks": ""
            },
            "colorscale": [
             [
              0,
              "#0d0887"
             ],
             [
              0.1111111111111111,
              "#46039f"
             ],
             [
              0.2222222222222222,
              "#7201a8"
             ],
             [
              0.3333333333333333,
              "#9c179e"
             ],
             [
              0.4444444444444444,
              "#bd3786"
             ],
             [
              0.5555555555555556,
              "#d8576b"
             ],
             [
              0.6666666666666666,
              "#ed7953"
             ],
             [
              0.7777777777777778,
              "#fb9f3a"
             ],
             [
              0.8888888888888888,
              "#fdca26"
             ],
             [
              1,
              "#f0f921"
             ]
            ],
            "type": "heatmap"
           }
          ],
          "heatmapgl": [
           {
            "colorbar": {
             "outlinewidth": 0,
             "ticks": ""
            },
            "colorscale": [
             [
              0,
              "#0d0887"
             ],
             [
              0.1111111111111111,
              "#46039f"
             ],
             [
              0.2222222222222222,
              "#7201a8"
             ],
             [
              0.3333333333333333,
              "#9c179e"
             ],
             [
              0.4444444444444444,
              "#bd3786"
             ],
             [
              0.5555555555555556,
              "#d8576b"
             ],
             [
              0.6666666666666666,
              "#ed7953"
             ],
             [
              0.7777777777777778,
              "#fb9f3a"
             ],
             [
              0.8888888888888888,
              "#fdca26"
             ],
             [
              1,
              "#f0f921"
             ]
            ],
            "type": "heatmapgl"
           }
          ],
          "histogram": [
           {
            "marker": {
             "colorbar": {
              "outlinewidth": 0,
              "ticks": ""
             }
            },
            "type": "histogram"
           }
          ],
          "histogram2d": [
           {
            "colorbar": {
             "outlinewidth": 0,
             "ticks": ""
            },
            "colorscale": [
             [
              0,
              "#0d0887"
             ],
             [
              0.1111111111111111,
              "#46039f"
             ],
             [
              0.2222222222222222,
              "#7201a8"
             ],
             [
              0.3333333333333333,
              "#9c179e"
             ],
             [
              0.4444444444444444,
              "#bd3786"
             ],
             [
              0.5555555555555556,
              "#d8576b"
             ],
             [
              0.6666666666666666,
              "#ed7953"
             ],
             [
              0.7777777777777778,
              "#fb9f3a"
             ],
             [
              0.8888888888888888,
              "#fdca26"
             ],
             [
              1,
              "#f0f921"
             ]
            ],
            "type": "histogram2d"
           }
          ],
          "histogram2dcontour": [
           {
            "colorbar": {
             "outlinewidth": 0,
             "ticks": ""
            },
            "colorscale": [
             [
              0,
              "#0d0887"
             ],
             [
              0.1111111111111111,
              "#46039f"
             ],
             [
              0.2222222222222222,
              "#7201a8"
             ],
             [
              0.3333333333333333,
              "#9c179e"
             ],
             [
              0.4444444444444444,
              "#bd3786"
             ],
             [
              0.5555555555555556,
              "#d8576b"
             ],
             [
              0.6666666666666666,
              "#ed7953"
             ],
             [
              0.7777777777777778,
              "#fb9f3a"
             ],
             [
              0.8888888888888888,
              "#fdca26"
             ],
             [
              1,
              "#f0f921"
             ]
            ],
            "type": "histogram2dcontour"
           }
          ],
          "mesh3d": [
           {
            "colorbar": {
             "outlinewidth": 0,
             "ticks": ""
            },
            "type": "mesh3d"
           }
          ],
          "parcoords": [
           {
            "line": {
             "colorbar": {
              "outlinewidth": 0,
              "ticks": ""
             }
            },
            "type": "parcoords"
           }
          ],
          "pie": [
           {
            "automargin": true,
            "type": "pie"
           }
          ],
          "scatter": [
           {
            "marker": {
             "colorbar": {
              "outlinewidth": 0,
              "ticks": ""
             }
            },
            "type": "scatter"
           }
          ],
          "scatter3d": [
           {
            "line": {
             "colorbar": {
              "outlinewidth": 0,
              "ticks": ""
             }
            },
            "marker": {
             "colorbar": {
              "outlinewidth": 0,
              "ticks": ""
             }
            },
            "type": "scatter3d"
           }
          ],
          "scattercarpet": [
           {
            "marker": {
             "colorbar": {
              "outlinewidth": 0,
              "ticks": ""
             }
            },
            "type": "scattercarpet"
           }
          ],
          "scattergeo": [
           {
            "marker": {
             "colorbar": {
              "outlinewidth": 0,
              "ticks": ""
             }
            },
            "type": "scattergeo"
           }
          ],
          "scattergl": [
           {
            "marker": {
             "colorbar": {
              "outlinewidth": 0,
              "ticks": ""
             }
            },
            "type": "scattergl"
           }
          ],
          "scattermapbox": [
           {
            "marker": {
             "colorbar": {
              "outlinewidth": 0,
              "ticks": ""
             }
            },
            "type": "scattermapbox"
           }
          ],
          "scatterpolar": [
           {
            "marker": {
             "colorbar": {
              "outlinewidth": 0,
              "ticks": ""
             }
            },
            "type": "scatterpolar"
           }
          ],
          "scatterpolargl": [
           {
            "marker": {
             "colorbar": {
              "outlinewidth": 0,
              "ticks": ""
             }
            },
            "type": "scatterpolargl"
           }
          ],
          "scatterternary": [
           {
            "marker": {
             "colorbar": {
              "outlinewidth": 0,
              "ticks": ""
             }
            },
            "type": "scatterternary"
           }
          ],
          "surface": [
           {
            "colorbar": {
             "outlinewidth": 0,
             "ticks": ""
            },
            "colorscale": [
             [
              0,
              "#0d0887"
             ],
             [
              0.1111111111111111,
              "#46039f"
             ],
             [
              0.2222222222222222,
              "#7201a8"
             ],
             [
              0.3333333333333333,
              "#9c179e"
             ],
             [
              0.4444444444444444,
              "#bd3786"
             ],
             [
              0.5555555555555556,
              "#d8576b"
             ],
             [
              0.6666666666666666,
              "#ed7953"
             ],
             [
              0.7777777777777778,
              "#fb9f3a"
             ],
             [
              0.8888888888888888,
              "#fdca26"
             ],
             [
              1,
              "#f0f921"
             ]
            ],
            "type": "surface"
           }
          ],
          "table": [
           {
            "cells": {
             "fill": {
              "color": "#EBF0F8"
             },
             "line": {
              "color": "white"
             }
            },
            "header": {
             "fill": {
              "color": "#C8D4E3"
             },
             "line": {
              "color": "white"
             }
            },
            "type": "table"
           }
          ]
         },
         "layout": {
          "annotationdefaults": {
           "arrowcolor": "#2a3f5f",
           "arrowhead": 0,
           "arrowwidth": 1
          },
          "coloraxis": {
           "colorbar": {
            "outlinewidth": 0,
            "ticks": ""
           }
          },
          "colorscale": {
           "diverging": [
            [
             0,
             "#8e0152"
            ],
            [
             0.1,
             "#c51b7d"
            ],
            [
             0.2,
             "#de77ae"
            ],
            [
             0.3,
             "#f1b6da"
            ],
            [
             0.4,
             "#fde0ef"
            ],
            [
             0.5,
             "#f7f7f7"
            ],
            [
             0.6,
             "#e6f5d0"
            ],
            [
             0.7,
             "#b8e186"
            ],
            [
             0.8,
             "#7fbc41"
            ],
            [
             0.9,
             "#4d9221"
            ],
            [
             1,
             "#276419"
            ]
           ],
           "sequential": [
            [
             0,
             "#0d0887"
            ],
            [
             0.1111111111111111,
             "#46039f"
            ],
            [
             0.2222222222222222,
             "#7201a8"
            ],
            [
             0.3333333333333333,
             "#9c179e"
            ],
            [
             0.4444444444444444,
             "#bd3786"
            ],
            [
             0.5555555555555556,
             "#d8576b"
            ],
            [
             0.6666666666666666,
             "#ed7953"
            ],
            [
             0.7777777777777778,
             "#fb9f3a"
            ],
            [
             0.8888888888888888,
             "#fdca26"
            ],
            [
             1,
             "#f0f921"
            ]
           ],
           "sequentialminus": [
            [
             0,
             "#0d0887"
            ],
            [
             0.1111111111111111,
             "#46039f"
            ],
            [
             0.2222222222222222,
             "#7201a8"
            ],
            [
             0.3333333333333333,
             "#9c179e"
            ],
            [
             0.4444444444444444,
             "#bd3786"
            ],
            [
             0.5555555555555556,
             "#d8576b"
            ],
            [
             0.6666666666666666,
             "#ed7953"
            ],
            [
             0.7777777777777778,
             "#fb9f3a"
            ],
            [
             0.8888888888888888,
             "#fdca26"
            ],
            [
             1,
             "#f0f921"
            ]
           ]
          },
          "colorway": [
           "#636efa",
           "#EF553B",
           "#00cc96",
           "#ab63fa",
           "#FFA15A",
           "#19d3f3",
           "#FF6692",
           "#B6E880",
           "#FF97FF",
           "#FECB52"
          ],
          "font": {
           "color": "#2a3f5f"
          },
          "geo": {
           "bgcolor": "white",
           "lakecolor": "white",
           "landcolor": "#E5ECF6",
           "showlakes": true,
           "showland": true,
           "subunitcolor": "white"
          },
          "hoverlabel": {
           "align": "left"
          },
          "hovermode": "closest",
          "mapbox": {
           "style": "light"
          },
          "paper_bgcolor": "white",
          "plot_bgcolor": "#E5ECF6",
          "polar": {
           "angularaxis": {
            "gridcolor": "white",
            "linecolor": "white",
            "ticks": ""
           },
           "bgcolor": "#E5ECF6",
           "radialaxis": {
            "gridcolor": "white",
            "linecolor": "white",
            "ticks": ""
           }
          },
          "scene": {
           "xaxis": {
            "backgroundcolor": "#E5ECF6",
            "gridcolor": "white",
            "gridwidth": 2,
            "linecolor": "white",
            "showbackground": true,
            "ticks": "",
            "zerolinecolor": "white"
           },
           "yaxis": {
            "backgroundcolor": "#E5ECF6",
            "gridcolor": "white",
            "gridwidth": 2,
            "linecolor": "white",
            "showbackground": true,
            "ticks": "",
            "zerolinecolor": "white"
           },
           "zaxis": {
            "backgroundcolor": "#E5ECF6",
            "gridcolor": "white",
            "gridwidth": 2,
            "linecolor": "white",
            "showbackground": true,
            "ticks": "",
            "zerolinecolor": "white"
           }
          },
          "shapedefaults": {
           "line": {
            "color": "#2a3f5f"
           }
          },
          "ternary": {
           "aaxis": {
            "gridcolor": "white",
            "linecolor": "white",
            "ticks": ""
           },
           "baxis": {
            "gridcolor": "white",
            "linecolor": "white",
            "ticks": ""
           },
           "bgcolor": "#E5ECF6",
           "caxis": {
            "gridcolor": "white",
            "linecolor": "white",
            "ticks": ""
           }
          },
          "title": {
           "x": 0.05
          },
          "xaxis": {
           "automargin": true,
           "gridcolor": "white",
           "linecolor": "white",
           "ticks": "",
           "title": {
            "standoff": 15
           },
           "zerolinecolor": "white",
           "zerolinewidth": 2
          },
          "yaxis": {
           "automargin": true,
           "gridcolor": "white",
           "linecolor": "white",
           "ticks": "",
           "title": {
            "standoff": 15
           },
           "zerolinecolor": "white",
           "zerolinewidth": 2
          }
         }
        },
        "xaxis": {
         "anchor": "y",
         "domain": [
          0,
          1
         ],
         "title": {
          "text": "Genre"
         }
        },
        "yaxis": {
         "anchor": "x",
         "domain": [
          0,
          1
         ],
         "title": {
          "text": "Games per Genre"
         }
        }
       }
      },
      "text/html": [
       "<div>                            <div id=\"55dffea7-7844-4f0a-ad85-8df80a0e93eb\" class=\"plotly-graph-div\" style=\"height:525px; width:100%;\"></div>            <script type=\"text/javascript\">                require([\"plotly\"], function(Plotly) {                    window.PLOTLYENV=window.PLOTLYENV || {};                                    if (document.getElementById(\"55dffea7-7844-4f0a-ad85-8df80a0e93eb\")) {                    Plotly.newPlot(                        \"55dffea7-7844-4f0a-ad85-8df80a0e93eb\",                        [{\"hovertemplate\": \"Genre=%{x}<br>Games per Genre=%{marker.size}<br>Year=%{marker.color}<extra></extra>\", \"legendgroup\": \"\", \"marker\": {\"color\": [1981, 1982, 1983, 1984, 1985, 1986, 1987, 1988, 1989, 1990, 1993, 1995, 1996, 1997, 1998, 1999, 2000, 2001, 2002, 1987, 1992, 1993, 1994, 1995, 1996, 1997, 1998, 1999, 2000, 2001, 1980, 1987, 1992, 1993, 1994, 1995, 1996, 1997, 1998, 1999, 2000, 2001, 2002, 1980, 1982, 1992, 1995, 1996, 1997, 1998, 1999, 2000, 2001, 1981, 1982, 1983, 1985, 1986, 1987, 1988, 1990, 1991, 1992, 1993, 1994, 1995, 1996, 1997, 1998, 1999, 2000, 2001, 1981, 1982, 1983, 1984, 1985, 1988, 1989, 1990, 1991, 1992, 1993, 1994, 1995, 1996, 1997, 1998, 1999, 2000, 2001, 1981, 1982, 1984, 1986, 1988, 1990, 1992, 1993, 1994, 1995, 1996, 1997, 1998, 1999, 2000, 2001, 2002, 1986, 1987, 1991, 1993, 1995, 1996, 1997, 1998, 1999, 2000, 2001, 1980, 1981, 1982, 1983, 1984, 1985, 1986, 1987, 1988, 1991, 1992, 1993, 1994, 1995, 1996, 1997, 1998, 1999, 2000, 2001, 2002, 1981, 1990, 1991, 1994, 1995, 1996, 1997, 1998, 1999, 2000, 1980, 1981, 1982, 1983, 1984, 1985, 1986, 1987, 1988, 1990, 1991, 1992, 1994, 1995, 1996, 1997, 1998, 1999, 2000, 2001, 2002, 2003, 1991, 1992, 1993, 1994, 1995, 1996, 1997, 1998, 1999, 2000, 2001], \"coloraxis\": \"coloraxis\", \"size\": [20, 10, 5, 1, 1, 3, 2, 1, 2, 3, 1, 5, 16, 21, 34, 30, 27, 16, 2, 1, 1, 1, 2, 2, 6, 5, 3, 6, 6, 5, 1, 2, 5, 3, 12, 14, 15, 17, 28, 11, 13, 2, 1, 2, 1, 1, 2, 7, 5, 13, 10, 7, 1, 1, 5, 2, 4, 2, 1, 3, 1, 4, 2, 5, 4, 6, 8, 12, 19, 13, 12, 3, 2, 2, 1, 1, 3, 1, 1, 1, 1, 1, 1, 1, 4, 2, 8, 9, 5, 4, 3, 1, 2, 2, 1, 1, 1, 1, 2, 4, 9, 19, 28, 35, 40, 28, 8, 1, 1, 2, 1, 2, 6, 5, 8, 12, 17, 5, 3, 1, 8, 4, 1, 2, 1, 3, 2, 1, 3, 1, 2, 6, 15, 15, 18, 16, 14, 11, 7, 1, 1, 1, 2, 4, 8, 7, 11, 5, 6, 4, 1, 3, 2, 1, 2, 1, 2, 2, 1, 1, 5, 2, 9, 9, 33, 30, 47, 39, 36, 18, 1, 1, 1, 1, 1, 1, 4, 4, 5, 10, 13, 1, 1], \"sizemode\": \"area\", \"sizeref\": 0.1175, \"symbol\": \"circle\"}, \"mode\": \"markers\", \"name\": \"\", \"orientation\": \"v\", \"showlegend\": false, \"type\": \"scatter\", \"x\": [\"Action\", \"Action\", \"Action\", \"Action\", \"Action\", \"Action\", \"Action\", \"Action\", \"Action\", \"Action\", \"Action\", \"Action\", \"Action\", \"Action\", \"Action\", \"Action\", \"Action\", \"Action\", \"Action\", \"Adventure\", \"Adventure\", \"Adventure\", \"Adventure\", \"Adventure\", \"Adventure\", \"Adventure\", \"Adventure\", \"Adventure\", \"Adventure\", \"Adventure\", \"Fighting\", \"Fighting\", \"Fighting\", \"Fighting\", \"Fighting\", \"Fighting\", \"Fighting\", \"Fighting\", \"Fighting\", \"Fighting\", \"Fighting\", \"Fighting\", \"Fighting\", \"Misc\", \"Misc\", \"Misc\", \"Misc\", \"Misc\", \"Misc\", \"Misc\", \"Misc\", \"Misc\", \"Misc\", \"Platform\", \"Platform\", \"Platform\", \"Platform\", \"Platform\", \"Platform\", \"Platform\", \"Platform\", \"Platform\", \"Platform\", \"Platform\", \"Platform\", \"Platform\", \"Platform\", \"Platform\", \"Platform\", \"Platform\", \"Platform\", \"Platform\", \"Puzzle\", \"Puzzle\", \"Puzzle\", \"Puzzle\", \"Puzzle\", \"Puzzle\", \"Puzzle\", \"Puzzle\", \"Puzzle\", \"Puzzle\", \"Puzzle\", \"Puzzle\", \"Puzzle\", \"Puzzle\", \"Puzzle\", \"Puzzle\", \"Puzzle\", \"Puzzle\", \"Puzzle\", \"Racing\", \"Racing\", \"Racing\", \"Racing\", \"Racing\", \"Racing\", \"Racing\", \"Racing\", \"Racing\", \"Racing\", \"Racing\", \"Racing\", \"Racing\", \"Racing\", \"Racing\", \"Racing\", \"Racing\", \"Role-Playing\", \"Role-Playing\", \"Role-Playing\", \"Role-Playing\", \"Role-Playing\", \"Role-Playing\", \"Role-Playing\", \"Role-Playing\", \"Role-Playing\", \"Role-Playing\", \"Role-Playing\", \"Shooter\", \"Shooter\", \"Shooter\", \"Shooter\", \"Shooter\", \"Shooter\", \"Shooter\", \"Shooter\", \"Shooter\", \"Shooter\", \"Shooter\", \"Shooter\", \"Shooter\", \"Shooter\", \"Shooter\", \"Shooter\", \"Shooter\", \"Shooter\", \"Shooter\", \"Shooter\", \"Shooter\", \"Simulation\", \"Simulation\", \"Simulation\", \"Simulation\", \"Simulation\", \"Simulation\", \"Simulation\", \"Simulation\", \"Simulation\", \"Simulation\", \"Sports\", \"Sports\", \"Sports\", \"Sports\", \"Sports\", \"Sports\", \"Sports\", \"Sports\", \"Sports\", \"Sports\", \"Sports\", \"Sports\", \"Sports\", \"Sports\", \"Sports\", \"Sports\", \"Sports\", \"Sports\", \"Sports\", \"Sports\", \"Sports\", \"Sports\", \"Strategy\", \"Strategy\", \"Strategy\", \"Strategy\", \"Strategy\", \"Strategy\", \"Strategy\", \"Strategy\", \"Strategy\", \"Strategy\", \"Strategy\"], \"xaxis\": \"x\", \"y\": [20, 10, 5, 1, 1, 3, 2, 1, 2, 3, 1, 5, 16, 21, 34, 30, 27, 16, 2, 1, 1, 1, 2, 2, 6, 5, 3, 6, 6, 5, 1, 2, 5, 3, 12, 14, 15, 17, 28, 11, 13, 2, 1, 2, 1, 1, 2, 7, 5, 13, 10, 7, 1, 1, 5, 2, 4, 2, 1, 3, 1, 4, 2, 5, 4, 6, 8, 12, 19, 13, 12, 3, 2, 2, 1, 1, 3, 1, 1, 1, 1, 1, 1, 1, 4, 2, 8, 9, 5, 4, 3, 1, 2, 2, 1, 1, 1, 1, 2, 4, 9, 19, 28, 35, 40, 28, 8, 1, 1, 2, 1, 2, 6, 5, 8, 12, 17, 5, 3, 1, 8, 4, 1, 2, 1, 3, 2, 1, 3, 1, 2, 6, 15, 15, 18, 16, 14, 11, 7, 1, 1, 1, 2, 4, 8, 7, 11, 5, 6, 4, 1, 3, 2, 1, 2, 1, 2, 2, 1, 1, 5, 2, 9, 9, 33, 30, 47, 39, 36, 18, 1, 1, 1, 1, 1, 1, 4, 4, 5, 10, 13, 1, 1], \"yaxis\": \"y\"}],                        {\"coloraxis\": {\"colorbar\": {\"title\": {\"text\": \"Year\"}}, \"colorscale\": [[0.0, \"#0d0887\"], [0.1111111111111111, \"#46039f\"], [0.2222222222222222, \"#7201a8\"], [0.3333333333333333, \"#9c179e\"], [0.4444444444444444, \"#bd3786\"], [0.5555555555555556, \"#d8576b\"], [0.6666666666666666, \"#ed7953\"], [0.7777777777777778, \"#fb9f3a\"], [0.8888888888888888, \"#fdca26\"], [1.0, \"#f0f921\"]]}, \"legend\": {\"itemsizing\": \"constant\", \"tracegroupgap\": 0}, \"margin\": {\"t\": 60}, \"template\": {\"data\": {\"bar\": [{\"error_x\": {\"color\": \"#2a3f5f\"}, \"error_y\": {\"color\": \"#2a3f5f\"}, \"marker\": {\"line\": {\"color\": \"#E5ECF6\", \"width\": 0.5}}, \"type\": \"bar\"}], \"barpolar\": [{\"marker\": {\"line\": {\"color\": \"#E5ECF6\", \"width\": 0.5}}, \"type\": \"barpolar\"}], \"carpet\": [{\"aaxis\": {\"endlinecolor\": \"#2a3f5f\", \"gridcolor\": \"white\", \"linecolor\": \"white\", \"minorgridcolor\": \"white\", \"startlinecolor\": \"#2a3f5f\"}, \"baxis\": {\"endlinecolor\": \"#2a3f5f\", \"gridcolor\": \"white\", \"linecolor\": \"white\", \"minorgridcolor\": \"white\", \"startlinecolor\": \"#2a3f5f\"}, \"type\": \"carpet\"}], \"choropleth\": [{\"colorbar\": {\"outlinewidth\": 0, \"ticks\": \"\"}, \"type\": \"choropleth\"}], \"contour\": [{\"colorbar\": {\"outlinewidth\": 0, \"ticks\": \"\"}, \"colorscale\": [[0.0, \"#0d0887\"], [0.1111111111111111, \"#46039f\"], [0.2222222222222222, \"#7201a8\"], [0.3333333333333333, \"#9c179e\"], [0.4444444444444444, \"#bd3786\"], [0.5555555555555556, \"#d8576b\"], [0.6666666666666666, \"#ed7953\"], [0.7777777777777778, \"#fb9f3a\"], [0.8888888888888888, \"#fdca26\"], [1.0, \"#f0f921\"]], \"type\": \"contour\"}], \"contourcarpet\": [{\"colorbar\": {\"outlinewidth\": 0, \"ticks\": \"\"}, \"type\": \"contourcarpet\"}], \"heatmap\": [{\"colorbar\": {\"outlinewidth\": 0, \"ticks\": \"\"}, \"colorscale\": [[0.0, \"#0d0887\"], [0.1111111111111111, \"#46039f\"], [0.2222222222222222, \"#7201a8\"], [0.3333333333333333, \"#9c179e\"], [0.4444444444444444, \"#bd3786\"], [0.5555555555555556, \"#d8576b\"], [0.6666666666666666, \"#ed7953\"], [0.7777777777777778, \"#fb9f3a\"], [0.8888888888888888, \"#fdca26\"], [1.0, \"#f0f921\"]], \"type\": \"heatmap\"}], \"heatmapgl\": [{\"colorbar\": {\"outlinewidth\": 0, \"ticks\": \"\"}, \"colorscale\": [[0.0, \"#0d0887\"], [0.1111111111111111, \"#46039f\"], [0.2222222222222222, \"#7201a8\"], [0.3333333333333333, \"#9c179e\"], [0.4444444444444444, \"#bd3786\"], [0.5555555555555556, \"#d8576b\"], [0.6666666666666666, \"#ed7953\"], [0.7777777777777778, \"#fb9f3a\"], [0.8888888888888888, \"#fdca26\"], [1.0, \"#f0f921\"]], \"type\": \"heatmapgl\"}], \"histogram\": [{\"marker\": {\"colorbar\": {\"outlinewidth\": 0, \"ticks\": \"\"}}, \"type\": \"histogram\"}], \"histogram2d\": [{\"colorbar\": {\"outlinewidth\": 0, \"ticks\": \"\"}, \"colorscale\": [[0.0, \"#0d0887\"], [0.1111111111111111, \"#46039f\"], [0.2222222222222222, \"#7201a8\"], [0.3333333333333333, \"#9c179e\"], [0.4444444444444444, \"#bd3786\"], [0.5555555555555556, \"#d8576b\"], [0.6666666666666666, \"#ed7953\"], [0.7777777777777778, \"#fb9f3a\"], [0.8888888888888888, \"#fdca26\"], [1.0, \"#f0f921\"]], \"type\": \"histogram2d\"}], \"histogram2dcontour\": [{\"colorbar\": {\"outlinewidth\": 0, \"ticks\": \"\"}, \"colorscale\": [[0.0, \"#0d0887\"], [0.1111111111111111, \"#46039f\"], [0.2222222222222222, \"#7201a8\"], [0.3333333333333333, \"#9c179e\"], [0.4444444444444444, \"#bd3786\"], [0.5555555555555556, \"#d8576b\"], [0.6666666666666666, \"#ed7953\"], [0.7777777777777778, \"#fb9f3a\"], [0.8888888888888888, \"#fdca26\"], [1.0, \"#f0f921\"]], \"type\": \"histogram2dcontour\"}], \"mesh3d\": [{\"colorbar\": {\"outlinewidth\": 0, \"ticks\": \"\"}, \"type\": \"mesh3d\"}], \"parcoords\": [{\"line\": {\"colorbar\": {\"outlinewidth\": 0, \"ticks\": \"\"}}, \"type\": \"parcoords\"}], \"pie\": [{\"automargin\": true, \"type\": \"pie\"}], \"scatter\": [{\"marker\": {\"colorbar\": {\"outlinewidth\": 0, \"ticks\": \"\"}}, \"type\": \"scatter\"}], \"scatter3d\": [{\"line\": {\"colorbar\": {\"outlinewidth\": 0, \"ticks\": \"\"}}, \"marker\": {\"colorbar\": {\"outlinewidth\": 0, \"ticks\": \"\"}}, \"type\": \"scatter3d\"}], \"scattercarpet\": [{\"marker\": {\"colorbar\": {\"outlinewidth\": 0, \"ticks\": \"\"}}, \"type\": \"scattercarpet\"}], \"scattergeo\": [{\"marker\": {\"colorbar\": {\"outlinewidth\": 0, \"ticks\": \"\"}}, \"type\": \"scattergeo\"}], \"scattergl\": [{\"marker\": {\"colorbar\": {\"outlinewidth\": 0, \"ticks\": \"\"}}, \"type\": \"scattergl\"}], \"scattermapbox\": [{\"marker\": {\"colorbar\": {\"outlinewidth\": 0, \"ticks\": \"\"}}, \"type\": \"scattermapbox\"}], \"scatterpolar\": [{\"marker\": {\"colorbar\": {\"outlinewidth\": 0, \"ticks\": \"\"}}, \"type\": \"scatterpolar\"}], \"scatterpolargl\": [{\"marker\": {\"colorbar\": {\"outlinewidth\": 0, \"ticks\": \"\"}}, \"type\": \"scatterpolargl\"}], \"scatterternary\": [{\"marker\": {\"colorbar\": {\"outlinewidth\": 0, \"ticks\": \"\"}}, \"type\": \"scatterternary\"}], \"surface\": [{\"colorbar\": {\"outlinewidth\": 0, \"ticks\": \"\"}, \"colorscale\": [[0.0, \"#0d0887\"], [0.1111111111111111, \"#46039f\"], [0.2222222222222222, \"#7201a8\"], [0.3333333333333333, \"#9c179e\"], [0.4444444444444444, \"#bd3786\"], [0.5555555555555556, \"#d8576b\"], [0.6666666666666666, \"#ed7953\"], [0.7777777777777778, \"#fb9f3a\"], [0.8888888888888888, \"#fdca26\"], [1.0, \"#f0f921\"]], \"type\": \"surface\"}], \"table\": [{\"cells\": {\"fill\": {\"color\": \"#EBF0F8\"}, \"line\": {\"color\": \"white\"}}, \"header\": {\"fill\": {\"color\": \"#C8D4E3\"}, \"line\": {\"color\": \"white\"}}, \"type\": \"table\"}]}, \"layout\": {\"annotationdefaults\": {\"arrowcolor\": \"#2a3f5f\", \"arrowhead\": 0, \"arrowwidth\": 1}, \"coloraxis\": {\"colorbar\": {\"outlinewidth\": 0, \"ticks\": \"\"}}, \"colorscale\": {\"diverging\": [[0, \"#8e0152\"], [0.1, \"#c51b7d\"], [0.2, \"#de77ae\"], [0.3, \"#f1b6da\"], [0.4, \"#fde0ef\"], [0.5, \"#f7f7f7\"], [0.6, \"#e6f5d0\"], [0.7, \"#b8e186\"], [0.8, \"#7fbc41\"], [0.9, \"#4d9221\"], [1, \"#276419\"]], \"sequential\": [[0.0, \"#0d0887\"], [0.1111111111111111, \"#46039f\"], [0.2222222222222222, \"#7201a8\"], [0.3333333333333333, \"#9c179e\"], [0.4444444444444444, \"#bd3786\"], [0.5555555555555556, \"#d8576b\"], [0.6666666666666666, \"#ed7953\"], [0.7777777777777778, \"#fb9f3a\"], [0.8888888888888888, \"#fdca26\"], [1.0, \"#f0f921\"]], \"sequentialminus\": [[0.0, \"#0d0887\"], [0.1111111111111111, \"#46039f\"], [0.2222222222222222, \"#7201a8\"], [0.3333333333333333, \"#9c179e\"], [0.4444444444444444, \"#bd3786\"], [0.5555555555555556, \"#d8576b\"], [0.6666666666666666, \"#ed7953\"], [0.7777777777777778, \"#fb9f3a\"], [0.8888888888888888, \"#fdca26\"], [1.0, \"#f0f921\"]]}, \"colorway\": [\"#636efa\", \"#EF553B\", \"#00cc96\", \"#ab63fa\", \"#FFA15A\", \"#19d3f3\", \"#FF6692\", \"#B6E880\", \"#FF97FF\", \"#FECB52\"], \"font\": {\"color\": \"#2a3f5f\"}, \"geo\": {\"bgcolor\": \"white\", \"lakecolor\": \"white\", \"landcolor\": \"#E5ECF6\", \"showlakes\": true, \"showland\": true, \"subunitcolor\": \"white\"}, \"hoverlabel\": {\"align\": \"left\"}, \"hovermode\": \"closest\", \"mapbox\": {\"style\": \"light\"}, \"paper_bgcolor\": \"white\", \"plot_bgcolor\": \"#E5ECF6\", \"polar\": {\"angularaxis\": {\"gridcolor\": \"white\", \"linecolor\": \"white\", \"ticks\": \"\"}, \"bgcolor\": \"#E5ECF6\", \"radialaxis\": {\"gridcolor\": \"white\", \"linecolor\": \"white\", \"ticks\": \"\"}}, \"scene\": {\"xaxis\": {\"backgroundcolor\": \"#E5ECF6\", \"gridcolor\": \"white\", \"gridwidth\": 2, \"linecolor\": \"white\", \"showbackground\": true, \"ticks\": \"\", \"zerolinecolor\": \"white\"}, \"yaxis\": {\"backgroundcolor\": \"#E5ECF6\", \"gridcolor\": \"white\", \"gridwidth\": 2, \"linecolor\": \"white\", \"showbackground\": true, \"ticks\": \"\", \"zerolinecolor\": \"white\"}, \"zaxis\": {\"backgroundcolor\": \"#E5ECF6\", \"gridcolor\": \"white\", \"gridwidth\": 2, \"linecolor\": \"white\", \"showbackground\": true, \"ticks\": \"\", \"zerolinecolor\": \"white\"}}, \"shapedefaults\": {\"line\": {\"color\": \"#2a3f5f\"}}, \"ternary\": {\"aaxis\": {\"gridcolor\": \"white\", \"linecolor\": \"white\", \"ticks\": \"\"}, \"baxis\": {\"gridcolor\": \"white\", \"linecolor\": \"white\", \"ticks\": \"\"}, \"bgcolor\": \"#E5ECF6\", \"caxis\": {\"gridcolor\": \"white\", \"linecolor\": \"white\", \"ticks\": \"\"}}, \"title\": {\"x\": 0.05}, \"xaxis\": {\"automargin\": true, \"gridcolor\": \"white\", \"linecolor\": \"white\", \"ticks\": \"\", \"title\": {\"standoff\": 15}, \"zerolinecolor\": \"white\", \"zerolinewidth\": 2}, \"yaxis\": {\"automargin\": true, \"gridcolor\": \"white\", \"linecolor\": \"white\", \"ticks\": \"\", \"title\": {\"standoff\": 15}, \"zerolinecolor\": \"white\", \"zerolinewidth\": 2}}}, \"xaxis\": {\"anchor\": \"y\", \"domain\": [0.0, 1.0], \"title\": {\"text\": \"Genre\"}}, \"yaxis\": {\"anchor\": \"x\", \"domain\": [0.0, 1.0], \"title\": {\"text\": \"Games per Genre\"}}},                        {\"responsive\": true}                    ).then(function(){\n",
       "                            \n",
       "var gd = document.getElementById('55dffea7-7844-4f0a-ad85-8df80a0e93eb');\n",
       "var x = new MutationObserver(function (mutations, observer) {{\n",
       "        var display = window.getComputedStyle(gd).display;\n",
       "        if (!display || display === 'none') {{\n",
       "            console.log([gd, 'removed!']);\n",
       "            Plotly.purge(gd);\n",
       "            observer.disconnect();\n",
       "        }}\n",
       "}});\n",
       "\n",
       "// Listen for the removal of the full notebook cells\n",
       "var notebookContainer = gd.closest('#notebook-container');\n",
       "if (notebookContainer) {{\n",
       "    x.observe(notebookContainer, {childList: true});\n",
       "}}\n",
       "\n",
       "// Listen for the clearing of the current output cell\n",
       "var outputEl = gd.closest('.output');\n",
       "if (outputEl) {{\n",
       "    x.observe(outputEl, {childList: true});\n",
       "}}\n",
       "\n",
       "                        })                };                });            </script>        </div>"
      ]
     },
     "metadata": {},
     "output_type": "display_data"
    }
   ],
   "source": [
    "fig = px.scatter(genre_by_year, x=\"Genre\", y=\"Games per Genre\",\n",
    "                size=\"Games per Genre\", color=\"Year\")\n",
    "fig.show()"
   ]
  },
  {
   "cell_type": "code",
   "execution_count": null,
   "metadata": {},
   "outputs": [],
   "source": []
  }
 ],
 "metadata": {
  "kernelspec": {
   "display_name": "Python [conda env:PythonAdv] *",
   "language": "python",
   "name": "conda-env-PythonAdv-py"
  },
  "language_info": {
   "codemirror_mode": {
    "name": "ipython",
    "version": 3
   },
   "file_extension": ".py",
   "mimetype": "text/x-python",
   "name": "python",
   "nbconvert_exporter": "python",
   "pygments_lexer": "ipython3",
   "version": "3.6.12"
  }
 },
 "nbformat": 4,
 "nbformat_minor": 4
}
