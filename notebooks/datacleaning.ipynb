{
 "cells": [
  {
   "cell_type": "markdown",
   "metadata": {},
   "source": [
    "## Setup and Dependencies"
   ]
  },
  {
   "cell_type": "code",
   "execution_count": 1,
   "metadata": {},
   "outputs": [],
   "source": [
    "# Dependencies and Setup\n",
    "import pandas as pd\n",
    "import numpy as np\n",
    "import scipy.stats as st"
   ]
  },
  {
   "cell_type": "code",
   "execution_count": 2,
   "metadata": {},
   "outputs": [
    {
     "data": {
      "text/html": [
       "<div>\n",
       "<style scoped>\n",
       "    .dataframe tbody tr th:only-of-type {\n",
       "        vertical-align: middle;\n",
       "    }\n",
       "\n",
       "    .dataframe tbody tr th {\n",
       "        vertical-align: top;\n",
       "    }\n",
       "\n",
       "    .dataframe thead th {\n",
       "        text-align: right;\n",
       "    }\n",
       "</style>\n",
       "<table border=\"1\" class=\"dataframe\">\n",
       "  <thead>\n",
       "    <tr style=\"text-align: right;\">\n",
       "      <th></th>\n",
       "      <th>Rank</th>\n",
       "      <th>Name</th>\n",
       "      <th>Platform</th>\n",
       "      <th>Year</th>\n",
       "      <th>Genre</th>\n",
       "      <th>Publisher</th>\n",
       "      <th>NA_Sales</th>\n",
       "      <th>EU_Sales</th>\n",
       "      <th>JP_Sales</th>\n",
       "      <th>Other_Sales</th>\n",
       "      <th>Global_Sales</th>\n",
       "    </tr>\n",
       "  </thead>\n",
       "  <tbody>\n",
       "    <tr>\n",
       "      <th>0</th>\n",
       "      <td>1</td>\n",
       "      <td>Wii Sports</td>\n",
       "      <td>Wii</td>\n",
       "      <td>2006.0</td>\n",
       "      <td>Sports</td>\n",
       "      <td>Nintendo</td>\n",
       "      <td>41.49</td>\n",
       "      <td>29.02</td>\n",
       "      <td>3.77</td>\n",
       "      <td>8.46</td>\n",
       "      <td>82.74</td>\n",
       "    </tr>\n",
       "    <tr>\n",
       "      <th>1</th>\n",
       "      <td>2</td>\n",
       "      <td>Super Mario Bros.</td>\n",
       "      <td>NES</td>\n",
       "      <td>1985.0</td>\n",
       "      <td>Platform</td>\n",
       "      <td>Nintendo</td>\n",
       "      <td>29.08</td>\n",
       "      <td>3.58</td>\n",
       "      <td>6.81</td>\n",
       "      <td>0.77</td>\n",
       "      <td>40.24</td>\n",
       "    </tr>\n",
       "    <tr>\n",
       "      <th>2</th>\n",
       "      <td>3</td>\n",
       "      <td>Mario Kart Wii</td>\n",
       "      <td>Wii</td>\n",
       "      <td>2008.0</td>\n",
       "      <td>Racing</td>\n",
       "      <td>Nintendo</td>\n",
       "      <td>15.85</td>\n",
       "      <td>12.88</td>\n",
       "      <td>3.79</td>\n",
       "      <td>3.31</td>\n",
       "      <td>35.82</td>\n",
       "    </tr>\n",
       "    <tr>\n",
       "      <th>3</th>\n",
       "      <td>4</td>\n",
       "      <td>Wii Sports Resort</td>\n",
       "      <td>Wii</td>\n",
       "      <td>2009.0</td>\n",
       "      <td>Sports</td>\n",
       "      <td>Nintendo</td>\n",
       "      <td>15.75</td>\n",
       "      <td>11.01</td>\n",
       "      <td>3.28</td>\n",
       "      <td>2.96</td>\n",
       "      <td>33.00</td>\n",
       "    </tr>\n",
       "    <tr>\n",
       "      <th>4</th>\n",
       "      <td>5</td>\n",
       "      <td>Pokemon Red/Pokemon Blue</td>\n",
       "      <td>GB</td>\n",
       "      <td>1996.0</td>\n",
       "      <td>Role-Playing</td>\n",
       "      <td>Nintendo</td>\n",
       "      <td>11.27</td>\n",
       "      <td>8.89</td>\n",
       "      <td>10.22</td>\n",
       "      <td>1.00</td>\n",
       "      <td>31.37</td>\n",
       "    </tr>\n",
       "  </tbody>\n",
       "</table>\n",
       "</div>"
      ],
      "text/plain": [
       "   Rank                      Name Platform    Year         Genre Publisher  \\\n",
       "0     1                Wii Sports      Wii  2006.0        Sports  Nintendo   \n",
       "1     2         Super Mario Bros.      NES  1985.0      Platform  Nintendo   \n",
       "2     3            Mario Kart Wii      Wii  2008.0        Racing  Nintendo   \n",
       "3     4         Wii Sports Resort      Wii  2009.0        Sports  Nintendo   \n",
       "4     5  Pokemon Red/Pokemon Blue       GB  1996.0  Role-Playing  Nintendo   \n",
       "\n",
       "   NA_Sales  EU_Sales  JP_Sales  Other_Sales  Global_Sales  \n",
       "0     41.49     29.02      3.77         8.46         82.74  \n",
       "1     29.08      3.58      6.81         0.77         40.24  \n",
       "2     15.85     12.88      3.79         3.31         35.82  \n",
       "3     15.75     11.01      3.28         2.96         33.00  \n",
       "4     11.27      8.89     10.22         1.00         31.37  "
      ]
     },
     "execution_count": 2,
     "metadata": {},
     "output_type": "execute_result"
    }
   ],
   "source": [
    "# Load data file into pandas\n",
    "price_data = pd.read_csv(\"../data/all_console_prices.csv\", encoding='utf-8')\n",
    "games_data = pd.read_csv(\"../data/vgsales.csv\", encoding='utf-8')\n",
    "games_data.head()"
   ]
  },
  {
   "cell_type": "markdown",
   "metadata": {},
   "source": [
    "# Clean All Data\n",
    "<hr>"
   ]
  },
  {
   "cell_type": "markdown",
   "metadata": {},
   "source": [
    "### Copy DataFrame"
   ]
  },
  {
   "cell_type": "code",
   "execution_count": 3,
   "metadata": {},
   "outputs": [
    {
     "data": {
      "text/plain": [
       "Rank            16598\n",
       "Name            16598\n",
       "Platform        16598\n",
       "Year            16327\n",
       "Genre           16598\n",
       "Publisher       16540\n",
       "NA_Sales        16598\n",
       "EU_Sales        16598\n",
       "JP_Sales        16598\n",
       "Other_Sales     16598\n",
       "Global_Sales    16598\n",
       "dtype: int64"
      ]
     },
     "execution_count": 3,
     "metadata": {},
     "output_type": "execute_result"
    }
   ],
   "source": [
    "games_all_df = games_data.copy()\n",
    "games_all_df.count()"
   ]
  },
  {
   "cell_type": "markdown",
   "metadata": {},
   "source": [
    "### Remove Rank Column & Drop Blank Year"
   ]
  },
  {
   "cell_type": "code",
   "execution_count": 4,
   "metadata": {},
   "outputs": [
    {
     "data": {
      "text/plain": [
       "Name            16291\n",
       "Platform        16291\n",
       "Year            16291\n",
       "Genre           16291\n",
       "Publisher       16291\n",
       "NA_Sales        16291\n",
       "EU_Sales        16291\n",
       "JP_Sales        16291\n",
       "Other_Sales     16291\n",
       "Global_Sales    16291\n",
       "dtype: int64"
      ]
     },
     "execution_count": 4,
     "metadata": {},
     "output_type": "execute_result"
    }
   ],
   "source": [
    "games_all_df = games_all_df[['Name', 'Platform', 'Year', 'Genre', 'Publisher', 'NA_Sales', 'EU_Sales', 'JP_Sales', 'Other_Sales', 'Global_Sales']].sort_values(by=['Platform', 'Name']).reset_index(drop=True)\n",
    "\n",
    "games_all_df['Year'].replace('', np.nan)\n",
    "games_all_df = games_all_df.dropna()\n",
    "games_all_df['Year'] = games_all_df['Year'].astype(int)\n",
    "\n",
    "\n",
    "games_all_df.count()"
   ]
  },
  {
   "cell_type": "markdown",
   "metadata": {},
   "source": [
    "### Convert Sales to Units"
   ]
  },
  {
   "cell_type": "code",
   "execution_count": null,
   "metadata": {},
   "outputs": [],
   "source": [
    "games_all_df['NA_Sales']  = games_all_df['NA_Sales'] .multiply(1000000).astype(int).replace(0, np.NaN)\n",
    "games_all_df['EU_Sales']  = games_all_df['EU_Sales'] .multiply(1000000).astype(int).replace(0, np.NaN)\n",
    "games_all_df['JP_Sales']  = games_all_df['JP_Sales'] .multiply(1000000).astype(int).replace(0, np.NaN)\n",
    "games_all_df['Other_Sales']  = games_all_df['Other_Sales'] .multiply(1000000).astype(int).replace(0, np.NaN)\n",
    "games_all_df['Global_Sales']  = games_all_df['Global_Sales'] .multiply(1000000).astype(int).replace(0, np.NaN)\n",
    "\n",
    "games_all_df.head()"
   ]
  },
  {
   "cell_type": "code",
   "execution_count": 6,
   "metadata": {},
   "outputs": [
    {
     "data": {
      "text/plain": [
       "Name            16291\n",
       "Platform        16291\n",
       "Year            16291\n",
       "Genre           16291\n",
       "Publisher       16291\n",
       "NA_Sales        11861\n",
       "EU_Sales        10667\n",
       "JP_Sales         6084\n",
       "Other_Sales      9955\n",
       "Global_Sales    16291\n",
       "dtype: int64"
      ]
     },
     "execution_count": 6,
     "metadata": {},
     "output_type": "execute_result"
    }
   ],
   "source": [
    "games_all_df.count()"
   ]
  },
  {
   "cell_type": "markdown",
   "metadata": {},
   "source": [
    "### Make Game Names Upper Case & Remove Puncutation"
   ]
  },
  {
   "cell_type": "code",
   "execution_count": 7,
   "metadata": {},
   "outputs": [
    {
     "data": {
      "text/html": [
       "<div>\n",
       "<style scoped>\n",
       "    .dataframe tbody tr th:only-of-type {\n",
       "        vertical-align: middle;\n",
       "    }\n",
       "\n",
       "    .dataframe tbody tr th {\n",
       "        vertical-align: top;\n",
       "    }\n",
       "\n",
       "    .dataframe thead th {\n",
       "        text-align: right;\n",
       "    }\n",
       "</style>\n",
       "<table border=\"1\" class=\"dataframe\">\n",
       "  <thead>\n",
       "    <tr style=\"text-align: right;\">\n",
       "      <th></th>\n",
       "      <th>Name</th>\n",
       "      <th>Platform</th>\n",
       "      <th>Year</th>\n",
       "      <th>Genre</th>\n",
       "      <th>Publisher</th>\n",
       "      <th>NA_Sales</th>\n",
       "      <th>EU_Sales</th>\n",
       "      <th>JP_Sales</th>\n",
       "      <th>Other_Sales</th>\n",
       "      <th>Global_Sales</th>\n",
       "    </tr>\n",
       "  </thead>\n",
       "  <tbody>\n",
       "    <tr>\n",
       "      <th>0</th>\n",
       "      <td>ACTION FORCE</td>\n",
       "      <td>2600</td>\n",
       "      <td>1982</td>\n",
       "      <td>Action</td>\n",
       "      <td>CPG Products</td>\n",
       "      <td>500000.0</td>\n",
       "      <td>30000.0</td>\n",
       "      <td>NaN</td>\n",
       "      <td>10000.0</td>\n",
       "      <td>540000</td>\n",
       "    </tr>\n",
       "    <tr>\n",
       "      <th>2</th>\n",
       "      <td>ADVENTURES OF TRON</td>\n",
       "      <td>2600</td>\n",
       "      <td>1981</td>\n",
       "      <td>Action</td>\n",
       "      <td>Mattel Interactive</td>\n",
       "      <td>630000.0</td>\n",
       "      <td>30000.0</td>\n",
       "      <td>NaN</td>\n",
       "      <td>10000.0</td>\n",
       "      <td>670000</td>\n",
       "    </tr>\n",
       "    <tr>\n",
       "      <th>3</th>\n",
       "      <td>AIR RAID</td>\n",
       "      <td>2600</td>\n",
       "      <td>1981</td>\n",
       "      <td>Action</td>\n",
       "      <td>Men-A-Vision</td>\n",
       "      <td>720000.0</td>\n",
       "      <td>40000.0</td>\n",
       "      <td>NaN</td>\n",
       "      <td>10000.0</td>\n",
       "      <td>770000</td>\n",
       "    </tr>\n",
       "    <tr>\n",
       "      <th>5</th>\n",
       "      <td>AIRLOCK</td>\n",
       "      <td>2600</td>\n",
       "      <td>1981</td>\n",
       "      <td>Action</td>\n",
       "      <td>Data Age</td>\n",
       "      <td>360000.0</td>\n",
       "      <td>20000.0</td>\n",
       "      <td>NaN</td>\n",
       "      <td>NaN</td>\n",
       "      <td>390000</td>\n",
       "    </tr>\n",
       "    <tr>\n",
       "      <th>6</th>\n",
       "      <td>ALIEN</td>\n",
       "      <td>2600</td>\n",
       "      <td>1981</td>\n",
       "      <td>Action</td>\n",
       "      <td>20th Century Fox Video Games</td>\n",
       "      <td>740000.0</td>\n",
       "      <td>40000.0</td>\n",
       "      <td>NaN</td>\n",
       "      <td>10000.0</td>\n",
       "      <td>790000</td>\n",
       "    </tr>\n",
       "  </tbody>\n",
       "</table>\n",
       "</div>"
      ],
      "text/plain": [
       "                 Name Platform  Year   Genre                     Publisher  \\\n",
       "0        ACTION FORCE     2600  1982  Action                  CPG Products   \n",
       "2  ADVENTURES OF TRON     2600  1981  Action            Mattel Interactive   \n",
       "3            AIR RAID     2600  1981  Action                  Men-A-Vision   \n",
       "5             AIRLOCK     2600  1981  Action                      Data Age   \n",
       "6               ALIEN     2600  1981  Action  20th Century Fox Video Games   \n",
       "\n",
       "   NA_Sales  EU_Sales  JP_Sales  Other_Sales  Global_Sales  \n",
       "0  500000.0   30000.0       NaN      10000.0        540000  \n",
       "2  630000.0   30000.0       NaN      10000.0        670000  \n",
       "3  720000.0   40000.0       NaN      10000.0        770000  \n",
       "5  360000.0   20000.0       NaN          NaN        390000  \n",
       "6  740000.0   40000.0       NaN      10000.0        790000  "
      ]
     },
     "execution_count": 7,
     "metadata": {},
     "output_type": "execute_result"
    }
   ],
   "source": [
    "games_all_df['Name'] = games_all_df['Name'].str.upper() \n",
    "games_all_df['Name'] = games_all_df['Name'].str.replace(r'[^\\w\\s]+', '')\n",
    "\n",
    "games_all_df.head()"
   ]
  },
  {
   "cell_type": "code",
   "execution_count": 8,
   "metadata": {},
   "outputs": [],
   "source": [
    "# Export file as csv\n",
    "games_all_df.to_csv(r'..\\data\\games_all_df.csv', encoding='utf-8', index=False)"
   ]
  },
  {
   "cell_type": "markdown",
   "metadata": {},
   "source": [
    "# Games Sales Data\n",
    "<hr>"
   ]
  },
  {
   "cell_type": "markdown",
   "metadata": {},
   "source": [
    "### Remove Extra Platforms"
   ]
  },
  {
   "cell_type": "code",
   "execution_count": 9,
   "metadata": {},
   "outputs": [
    {
     "data": {
      "text/plain": [
       "Rank            2191\n",
       "Name            2191\n",
       "Platform        2191\n",
       "Year            2164\n",
       "Genre           2191\n",
       "Publisher       2188\n",
       "NA_Sales        2191\n",
       "EU_Sales        2191\n",
       "JP_Sales        2191\n",
       "Other_Sales     2191\n",
       "Global_Sales    2191\n",
       "dtype: int64"
      ]
     },
     "execution_count": 9,
     "metadata": {},
     "output_type": "execute_result"
    }
   ],
   "source": [
    "games_clean = (games_data[(games_data['Platform'] == '2600') | (games_data['Platform'] == 'NES')\n",
    "                                     | (games_data['Platform'] == 'GEN') | (games_data['Platform'] == 'SNES')\n",
    "                                     | (games_data['Platform'] == 'N64') | (games_data['Platform'] == 'SCD')\n",
    "                                     | (games_data['Platform'] == 'SAT') | (games_data['Platform'] == 'PS')]).reset_index(drop=True)\n",
    "\n",
    "games_clean.count()"
   ]
  },
  {
   "cell_type": "markdown",
   "metadata": {},
   "source": [
    "### Remove Rank Column & Drop Blank Year"
   ]
  },
  {
   "cell_type": "code",
   "execution_count": 10,
   "metadata": {},
   "outputs": [
    {
     "data": {
      "text/plain": [
       "Name            2164\n",
       "Platform        2164\n",
       "Year            2164\n",
       "Genre           2164\n",
       "Publisher       2164\n",
       "NA_Sales        2164\n",
       "EU_Sales        2164\n",
       "JP_Sales        2164\n",
       "Other_Sales     2164\n",
       "Global_Sales    2164\n",
       "dtype: int64"
      ]
     },
     "execution_count": 10,
     "metadata": {},
     "output_type": "execute_result"
    }
   ],
   "source": [
    "games_clean_df = games_clean[['Name', 'Platform', 'Year', 'Genre', 'Publisher', 'NA_Sales', 'EU_Sales', 'JP_Sales', 'Other_Sales', 'Global_Sales']].sort_values(by=['Platform', 'Name']).reset_index(drop=True)\n",
    "\n",
    "games_clean_df['Year'].replace('', np.nan)\n",
    "games_clean_df = games_clean_df.dropna()\n",
    "games_clean_df['Year'] = games_clean_df['Year'].astype(int)\n",
    "\n",
    "\n",
    "games_clean_df.count()"
   ]
  },
  {
   "cell_type": "code",
   "execution_count": 11,
   "metadata": {},
   "outputs": [
    {
     "data": {
      "text/html": [
       "<div>\n",
       "<style scoped>\n",
       "    .dataframe tbody tr th:only-of-type {\n",
       "        vertical-align: middle;\n",
       "    }\n",
       "\n",
       "    .dataframe tbody tr th {\n",
       "        vertical-align: top;\n",
       "    }\n",
       "\n",
       "    .dataframe thead th {\n",
       "        text-align: right;\n",
       "    }\n",
       "</style>\n",
       "<table border=\"1\" class=\"dataframe\">\n",
       "  <thead>\n",
       "    <tr style=\"text-align: right;\">\n",
       "      <th></th>\n",
       "      <th>Name</th>\n",
       "      <th>Platform</th>\n",
       "      <th>Year</th>\n",
       "      <th>Genre</th>\n",
       "      <th>Publisher</th>\n",
       "      <th>NA_Sales</th>\n",
       "      <th>EU_Sales</th>\n",
       "      <th>JP_Sales</th>\n",
       "      <th>Other_Sales</th>\n",
       "      <th>Global_Sales</th>\n",
       "    </tr>\n",
       "  </thead>\n",
       "  <tbody>\n",
       "    <tr>\n",
       "      <th>0</th>\n",
       "      <td>Action Force</td>\n",
       "      <td>2600</td>\n",
       "      <td>1982</td>\n",
       "      <td>Action</td>\n",
       "      <td>CPG Products</td>\n",
       "      <td>0.50</td>\n",
       "      <td>0.03</td>\n",
       "      <td>0.0</td>\n",
       "      <td>0.01</td>\n",
       "      <td>0.54</td>\n",
       "    </tr>\n",
       "    <tr>\n",
       "      <th>2</th>\n",
       "      <td>Adventures of Tron</td>\n",
       "      <td>2600</td>\n",
       "      <td>1981</td>\n",
       "      <td>Action</td>\n",
       "      <td>Mattel Interactive</td>\n",
       "      <td>0.63</td>\n",
       "      <td>0.03</td>\n",
       "      <td>0.0</td>\n",
       "      <td>0.01</td>\n",
       "      <td>0.67</td>\n",
       "    </tr>\n",
       "    <tr>\n",
       "      <th>3</th>\n",
       "      <td>Air Raid</td>\n",
       "      <td>2600</td>\n",
       "      <td>1981</td>\n",
       "      <td>Action</td>\n",
       "      <td>Men-A-Vision</td>\n",
       "      <td>0.72</td>\n",
       "      <td>0.04</td>\n",
       "      <td>0.0</td>\n",
       "      <td>0.01</td>\n",
       "      <td>0.77</td>\n",
       "    </tr>\n",
       "    <tr>\n",
       "      <th>5</th>\n",
       "      <td>Airlock</td>\n",
       "      <td>2600</td>\n",
       "      <td>1981</td>\n",
       "      <td>Action</td>\n",
       "      <td>Data Age</td>\n",
       "      <td>0.36</td>\n",
       "      <td>0.02</td>\n",
       "      <td>0.0</td>\n",
       "      <td>0.00</td>\n",
       "      <td>0.39</td>\n",
       "    </tr>\n",
       "    <tr>\n",
       "      <th>6</th>\n",
       "      <td>Alien</td>\n",
       "      <td>2600</td>\n",
       "      <td>1981</td>\n",
       "      <td>Action</td>\n",
       "      <td>20th Century Fox Video Games</td>\n",
       "      <td>0.74</td>\n",
       "      <td>0.04</td>\n",
       "      <td>0.0</td>\n",
       "      <td>0.01</td>\n",
       "      <td>0.79</td>\n",
       "    </tr>\n",
       "  </tbody>\n",
       "</table>\n",
       "</div>"
      ],
      "text/plain": [
       "                 Name Platform  Year   Genre                     Publisher  \\\n",
       "0        Action Force     2600  1982  Action                  CPG Products   \n",
       "2  Adventures of Tron     2600  1981  Action            Mattel Interactive   \n",
       "3            Air Raid     2600  1981  Action                  Men-A-Vision   \n",
       "5             Airlock     2600  1981  Action                      Data Age   \n",
       "6               Alien     2600  1981  Action  20th Century Fox Video Games   \n",
       "\n",
       "   NA_Sales  EU_Sales  JP_Sales  Other_Sales  Global_Sales  \n",
       "0      0.50      0.03       0.0         0.01          0.54  \n",
       "2      0.63      0.03       0.0         0.01          0.67  \n",
       "3      0.72      0.04       0.0         0.01          0.77  \n",
       "5      0.36      0.02       0.0         0.00          0.39  \n",
       "6      0.74      0.04       0.0         0.01          0.79  "
      ]
     },
     "execution_count": 11,
     "metadata": {},
     "output_type": "execute_result"
    }
   ],
   "source": [
    "games_clean_df.head()"
   ]
  },
  {
   "cell_type": "markdown",
   "metadata": {},
   "source": [
    "### Convert Sales to Units"
   ]
  },
  {
   "cell_type": "code",
   "execution_count": 12,
   "metadata": {},
   "outputs": [
    {
     "data": {
      "text/html": [
       "<div>\n",
       "<style scoped>\n",
       "    .dataframe tbody tr th:only-of-type {\n",
       "        vertical-align: middle;\n",
       "    }\n",
       "\n",
       "    .dataframe tbody tr th {\n",
       "        vertical-align: top;\n",
       "    }\n",
       "\n",
       "    .dataframe thead th {\n",
       "        text-align: right;\n",
       "    }\n",
       "</style>\n",
       "<table border=\"1\" class=\"dataframe\">\n",
       "  <thead>\n",
       "    <tr style=\"text-align: right;\">\n",
       "      <th></th>\n",
       "      <th>Name</th>\n",
       "      <th>Platform</th>\n",
       "      <th>Year</th>\n",
       "      <th>Genre</th>\n",
       "      <th>Publisher</th>\n",
       "      <th>NA_Sales</th>\n",
       "      <th>EU_Sales</th>\n",
       "      <th>JP_Sales</th>\n",
       "      <th>Other_Sales</th>\n",
       "      <th>Global_Sales</th>\n",
       "    </tr>\n",
       "  </thead>\n",
       "  <tbody>\n",
       "    <tr>\n",
       "      <th>0</th>\n",
       "      <td>Action Force</td>\n",
       "      <td>2600</td>\n",
       "      <td>1982</td>\n",
       "      <td>Action</td>\n",
       "      <td>CPG Products</td>\n",
       "      <td>500000.0</td>\n",
       "      <td>30000.0</td>\n",
       "      <td>NaN</td>\n",
       "      <td>10000.0</td>\n",
       "      <td>540000</td>\n",
       "    </tr>\n",
       "    <tr>\n",
       "      <th>2</th>\n",
       "      <td>Adventures of Tron</td>\n",
       "      <td>2600</td>\n",
       "      <td>1981</td>\n",
       "      <td>Action</td>\n",
       "      <td>Mattel Interactive</td>\n",
       "      <td>630000.0</td>\n",
       "      <td>30000.0</td>\n",
       "      <td>NaN</td>\n",
       "      <td>10000.0</td>\n",
       "      <td>670000</td>\n",
       "    </tr>\n",
       "    <tr>\n",
       "      <th>3</th>\n",
       "      <td>Air Raid</td>\n",
       "      <td>2600</td>\n",
       "      <td>1981</td>\n",
       "      <td>Action</td>\n",
       "      <td>Men-A-Vision</td>\n",
       "      <td>720000.0</td>\n",
       "      <td>40000.0</td>\n",
       "      <td>NaN</td>\n",
       "      <td>10000.0</td>\n",
       "      <td>770000</td>\n",
       "    </tr>\n",
       "    <tr>\n",
       "      <th>5</th>\n",
       "      <td>Airlock</td>\n",
       "      <td>2600</td>\n",
       "      <td>1981</td>\n",
       "      <td>Action</td>\n",
       "      <td>Data Age</td>\n",
       "      <td>360000.0</td>\n",
       "      <td>20000.0</td>\n",
       "      <td>NaN</td>\n",
       "      <td>NaN</td>\n",
       "      <td>390000</td>\n",
       "    </tr>\n",
       "    <tr>\n",
       "      <th>6</th>\n",
       "      <td>Alien</td>\n",
       "      <td>2600</td>\n",
       "      <td>1981</td>\n",
       "      <td>Action</td>\n",
       "      <td>20th Century Fox Video Games</td>\n",
       "      <td>740000.0</td>\n",
       "      <td>40000.0</td>\n",
       "      <td>NaN</td>\n",
       "      <td>10000.0</td>\n",
       "      <td>790000</td>\n",
       "    </tr>\n",
       "  </tbody>\n",
       "</table>\n",
       "</div>"
      ],
      "text/plain": [
       "                 Name Platform  Year   Genre                     Publisher  \\\n",
       "0        Action Force     2600  1982  Action                  CPG Products   \n",
       "2  Adventures of Tron     2600  1981  Action            Mattel Interactive   \n",
       "3            Air Raid     2600  1981  Action                  Men-A-Vision   \n",
       "5             Airlock     2600  1981  Action                      Data Age   \n",
       "6               Alien     2600  1981  Action  20th Century Fox Video Games   \n",
       "\n",
       "   NA_Sales  EU_Sales  JP_Sales  Other_Sales  Global_Sales  \n",
       "0  500000.0   30000.0       NaN      10000.0        540000  \n",
       "2  630000.0   30000.0       NaN      10000.0        670000  \n",
       "3  720000.0   40000.0       NaN      10000.0        770000  \n",
       "5  360000.0   20000.0       NaN          NaN        390000  \n",
       "6  740000.0   40000.0       NaN      10000.0        790000  "
      ]
     },
     "execution_count": 12,
     "metadata": {},
     "output_type": "execute_result"
    }
   ],
   "source": [
    "games_clean_df['NA_Sales']  = games_clean_df['NA_Sales'] .multiply(1000000).astype(int).replace(0, np.NaN)\n",
    "games_clean_df['EU_Sales']  = games_clean_df['EU_Sales'] .multiply(1000000).astype(int).replace(0, np.NaN)\n",
    "games_clean_df['JP_Sales']  = games_clean_df['JP_Sales'] .multiply(1000000).astype(int).replace(0, np.NaN)\n",
    "games_clean_df['Other_Sales']  = games_clean_df['Other_Sales'] .multiply(1000000).astype(int).replace(0, np.NaN)\n",
    "games_clean_df['Global_Sales']  = games_clean_df['Global_Sales'] .multiply(1000000).astype(int).replace(0, np.NaN)\n",
    "\n",
    "games_clean_df.head()"
   ]
  },
  {
   "cell_type": "markdown",
   "metadata": {},
   "source": [
    "### Make Game Names Upper Case & Remove Puncutation"
   ]
  },
  {
   "cell_type": "code",
   "execution_count": 13,
   "metadata": {},
   "outputs": [
    {
     "data": {
      "text/html": [
       "<div>\n",
       "<style scoped>\n",
       "    .dataframe tbody tr th:only-of-type {\n",
       "        vertical-align: middle;\n",
       "    }\n",
       "\n",
       "    .dataframe tbody tr th {\n",
       "        vertical-align: top;\n",
       "    }\n",
       "\n",
       "    .dataframe thead th {\n",
       "        text-align: right;\n",
       "    }\n",
       "</style>\n",
       "<table border=\"1\" class=\"dataframe\">\n",
       "  <thead>\n",
       "    <tr style=\"text-align: right;\">\n",
       "      <th></th>\n",
       "      <th>Name</th>\n",
       "      <th>Platform</th>\n",
       "      <th>Year</th>\n",
       "      <th>Genre</th>\n",
       "      <th>Publisher</th>\n",
       "      <th>NA_Sales</th>\n",
       "      <th>EU_Sales</th>\n",
       "      <th>JP_Sales</th>\n",
       "      <th>Other_Sales</th>\n",
       "      <th>Global_Sales</th>\n",
       "    </tr>\n",
       "  </thead>\n",
       "  <tbody>\n",
       "    <tr>\n",
       "      <th>0</th>\n",
       "      <td>ACTION FORCE</td>\n",
       "      <td>2600</td>\n",
       "      <td>1982</td>\n",
       "      <td>Action</td>\n",
       "      <td>CPG Products</td>\n",
       "      <td>500000.0</td>\n",
       "      <td>30000.0</td>\n",
       "      <td>NaN</td>\n",
       "      <td>10000.0</td>\n",
       "      <td>540000</td>\n",
       "    </tr>\n",
       "    <tr>\n",
       "      <th>2</th>\n",
       "      <td>ADVENTURES OF TRON</td>\n",
       "      <td>2600</td>\n",
       "      <td>1981</td>\n",
       "      <td>Action</td>\n",
       "      <td>Mattel Interactive</td>\n",
       "      <td>630000.0</td>\n",
       "      <td>30000.0</td>\n",
       "      <td>NaN</td>\n",
       "      <td>10000.0</td>\n",
       "      <td>670000</td>\n",
       "    </tr>\n",
       "    <tr>\n",
       "      <th>3</th>\n",
       "      <td>AIR RAID</td>\n",
       "      <td>2600</td>\n",
       "      <td>1981</td>\n",
       "      <td>Action</td>\n",
       "      <td>Men-A-Vision</td>\n",
       "      <td>720000.0</td>\n",
       "      <td>40000.0</td>\n",
       "      <td>NaN</td>\n",
       "      <td>10000.0</td>\n",
       "      <td>770000</td>\n",
       "    </tr>\n",
       "    <tr>\n",
       "      <th>5</th>\n",
       "      <td>AIRLOCK</td>\n",
       "      <td>2600</td>\n",
       "      <td>1981</td>\n",
       "      <td>Action</td>\n",
       "      <td>Data Age</td>\n",
       "      <td>360000.0</td>\n",
       "      <td>20000.0</td>\n",
       "      <td>NaN</td>\n",
       "      <td>NaN</td>\n",
       "      <td>390000</td>\n",
       "    </tr>\n",
       "    <tr>\n",
       "      <th>6</th>\n",
       "      <td>ALIEN</td>\n",
       "      <td>2600</td>\n",
       "      <td>1981</td>\n",
       "      <td>Action</td>\n",
       "      <td>20th Century Fox Video Games</td>\n",
       "      <td>740000.0</td>\n",
       "      <td>40000.0</td>\n",
       "      <td>NaN</td>\n",
       "      <td>10000.0</td>\n",
       "      <td>790000</td>\n",
       "    </tr>\n",
       "  </tbody>\n",
       "</table>\n",
       "</div>"
      ],
      "text/plain": [
       "                 Name Platform  Year   Genre                     Publisher  \\\n",
       "0        ACTION FORCE     2600  1982  Action                  CPG Products   \n",
       "2  ADVENTURES OF TRON     2600  1981  Action            Mattel Interactive   \n",
       "3            AIR RAID     2600  1981  Action                  Men-A-Vision   \n",
       "5             AIRLOCK     2600  1981  Action                      Data Age   \n",
       "6               ALIEN     2600  1981  Action  20th Century Fox Video Games   \n",
       "\n",
       "   NA_Sales  EU_Sales  JP_Sales  Other_Sales  Global_Sales  \n",
       "0  500000.0   30000.0       NaN      10000.0        540000  \n",
       "2  630000.0   30000.0       NaN      10000.0        670000  \n",
       "3  720000.0   40000.0       NaN      10000.0        770000  \n",
       "5  360000.0   20000.0       NaN          NaN        390000  \n",
       "6  740000.0   40000.0       NaN      10000.0        790000  "
      ]
     },
     "execution_count": 13,
     "metadata": {},
     "output_type": "execute_result"
    }
   ],
   "source": [
    "games_clean_df['Name'] = games_clean_df['Name'].str.upper() \n",
    "games_clean_df['Name'] = games_clean_df['Name'].str.replace(r'[^\\w\\s]+', '')\n",
    "\n",
    "games_clean_df.head()"
   ]
  },
  {
   "cell_type": "code",
   "execution_count": 14,
   "metadata": {},
   "outputs": [],
   "source": [
    "# Export file as csv\n",
    "games_clean_df.to_csv(r'..\\data\\games_clean_df.csv', encoding='utf-8', index=False)"
   ]
  },
  {
   "cell_type": "markdown",
   "metadata": {},
   "source": [
    "# Price Data\n",
    "<hr>"
   ]
  },
  {
   "cell_type": "markdown",
   "metadata": {},
   "source": [
    "### Display Data Frame"
   ]
  },
  {
   "cell_type": "code",
   "execution_count": 15,
   "metadata": {},
   "outputs": [
    {
     "data": {
      "text/html": [
       "<div>\n",
       "<style scoped>\n",
       "    .dataframe tbody tr th:only-of-type {\n",
       "        vertical-align: middle;\n",
       "    }\n",
       "\n",
       "    .dataframe tbody tr th {\n",
       "        vertical-align: top;\n",
       "    }\n",
       "\n",
       "    .dataframe thead th {\n",
       "        text-align: right;\n",
       "    }\n",
       "</style>\n",
       "<table border=\"1\" class=\"dataframe\">\n",
       "  <thead>\n",
       "    <tr style=\"text-align: right;\">\n",
       "      <th></th>\n",
       "      <th>Console</th>\n",
       "      <th>Game Title</th>\n",
       "      <th>Price</th>\n",
       "    </tr>\n",
       "  </thead>\n",
       "  <tbody>\n",
       "    <tr>\n",
       "      <th>0</th>\n",
       "      <td>2600</td>\n",
       "      <td>3-D Tic-Tac-Toe [Atari]</td>\n",
       "      <td>23.31</td>\n",
       "    </tr>\n",
       "    <tr>\n",
       "      <th>1</th>\n",
       "      <td>2600</td>\n",
       "      <td>3-D Tic-Tac-Toe [Sears]</td>\n",
       "      <td>83.88</td>\n",
       "    </tr>\n",
       "    <tr>\n",
       "      <th>2</th>\n",
       "      <td>2600</td>\n",
       "      <td>A Game of Concentration</td>\n",
       "      <td>28.36</td>\n",
       "    </tr>\n",
       "    <tr>\n",
       "      <th>3</th>\n",
       "      <td>2600</td>\n",
       "      <td>Adventure [Atari]</td>\n",
       "      <td>79.72</td>\n",
       "    </tr>\n",
       "    <tr>\n",
       "      <th>4</th>\n",
       "      <td>2600</td>\n",
       "      <td>Adventure [Sears]</td>\n",
       "      <td>111.35</td>\n",
       "    </tr>\n",
       "  </tbody>\n",
       "</table>\n",
       "</div>"
      ],
      "text/plain": [
       "  Console               Game Title   Price\n",
       "0    2600  3-D Tic-Tac-Toe [Atari]   23.31\n",
       "1    2600  3-D Tic-Tac-Toe [Sears]   83.88\n",
       "2    2600  A Game of Concentration   28.36\n",
       "3    2600        Adventure [Atari]   79.72\n",
       "4    2600        Adventure [Sears]  111.35"
      ]
     },
     "execution_count": 15,
     "metadata": {},
     "output_type": "execute_result"
    }
   ],
   "source": [
    "price_data_df = price_data[['Console', 'Game Title', 'Price']].sort_values(by=['Console', 'Game Title']).reset_index(drop=True)\n",
    "\n",
    "\n",
    "price_data_df.head()"
   ]
  },
  {
   "cell_type": "markdown",
   "metadata": {},
   "source": [
    "### Make Game Title Upper Case & Remove Punctuation"
   ]
  },
  {
   "cell_type": "code",
   "execution_count": 16,
   "metadata": {},
   "outputs": [
    {
     "data": {
      "text/plain": [
       "Console       5411\n",
       "Game Title    5411\n",
       "Price         5411\n",
       "dtype: int64"
      ]
     },
     "execution_count": 16,
     "metadata": {},
     "output_type": "execute_result"
    }
   ],
   "source": [
    "price_data_df['Game Title'] = price_data_df['Game Title'].str.upper() \n",
    "price_data_df['Game Title'] = price_data_df['Game Title'].str.replace(r'[^\\w\\s]+', '')\n",
    "\n",
    "price_data_df.count()\n",
    "# price_data_df.head()"
   ]
  },
  {
   "cell_type": "markdown",
   "metadata": {},
   "source": [
    "### Remove Outliers"
   ]
  },
  {
   "cell_type": "code",
   "execution_count": 17,
   "metadata": {},
   "outputs": [
    {
     "data": {
      "text/plain": [
       "Console       5231\n",
       "Game Title    5231\n",
       "Price         5231\n",
       "dtype: int64"
      ]
     },
     "execution_count": 17,
     "metadata": {},
     "output_type": "execute_result"
    }
   ],
   "source": [
    "price_data_df.drop(price_data_df[price_data_df['Price'] == 0].index, inplace = True) \n",
    "price_data_df.count()\n",
    "# price_data_df.head(20)"
   ]
  },
  {
   "cell_type": "code",
   "execution_count": 18,
   "metadata": {},
   "outputs": [
    {
     "name": "stdout",
     "output_type": "stream",
     "text": [
      "Price Outliers\n",
      "-----------------------------\n",
      "Lower quartile: 16.095\n",
      "Upper quartile: 65.48\n",
      "Interquartle range: 49.385000000000005\n",
      "Values below -57.982500000000016 could be outliers.\n",
      "Values above 139.5575 could be outliers.\n",
      "\n"
     ]
    }
   ],
   "source": [
    "quartiles = price_data_df['Price'].quantile([.25,.5,.75])\n",
    "lowerq = quartiles[0.25]\n",
    "upperq = quartiles[0.75]\n",
    "iqr = upperq-lowerq\n",
    "lower_bound = lowerq - (1.5*iqr)\n",
    "upper_bound = upperq + (1.5*iqr)\n",
    "\n",
    "print(f\"Price Outliers\")\n",
    "print(f\"-----------------------------\")\n",
    "print(f\"Lower quartile: {lowerq}\")\n",
    "print(f\"Upper quartile: {upperq}\")\n",
    "print(f\"Interquartle range: {iqr}\")\n",
    "print(f\"Values below {lower_bound} could be outliers.\")\n",
    "print(f\"Values above {upper_bound} could be outliers.\")\n",
    "print()"
   ]
  },
  {
   "cell_type": "code",
   "execution_count": 19,
   "metadata": {},
   "outputs": [
    {
     "data": {
      "text/plain": [
       "Console       4695\n",
       "Game Title    4695\n",
       "Price         4695\n",
       "dtype: int64"
      ]
     },
     "execution_count": 19,
     "metadata": {},
     "output_type": "execute_result"
    }
   ],
   "source": [
    "price_data_df.drop(price_data_df[price_data_df['Price'] < lower_bound].index, inplace = True) \n",
    "price_data_df.drop(price_data_df[price_data_df['Price'] > upper_bound].index, inplace = True) \n",
    "\n",
    "price_data_df.count()\n",
    "# price_data_df.head(20)"
   ]
  },
  {
   "cell_type": "markdown",
   "metadata": {},
   "source": [
    "### Find Average Price and Add Column"
   ]
  },
  {
   "cell_type": "code",
   "execution_count": 20,
   "metadata": {},
   "outputs": [
    {
     "name": "stdout",
     "output_type": "stream",
     "text": [
      "Price    37.153806\n",
      "dtype: float64\n",
      "Price    27.5\n",
      "dtype: float64\n"
     ]
    }
   ],
   "source": [
    "mean = price_data_df[[\"Price\"]].mean()\n",
    "median = price_data_df[[\"Price\"]].median()\n",
    "\n",
    "print(mean)\n",
    "print(median)\n"
   ]
  },
  {
   "cell_type": "code",
   "execution_count": 21,
   "metadata": {},
   "outputs": [
    {
     "data": {
      "text/html": [
       "<div>\n",
       "<style scoped>\n",
       "    .dataframe tbody tr th:only-of-type {\n",
       "        vertical-align: middle;\n",
       "    }\n",
       "\n",
       "    .dataframe tbody tr th {\n",
       "        vertical-align: top;\n",
       "    }\n",
       "\n",
       "    .dataframe thead th {\n",
       "        text-align: right;\n",
       "    }\n",
       "</style>\n",
       "<table border=\"1\" class=\"dataframe\">\n",
       "  <thead>\n",
       "    <tr style=\"text-align: right;\">\n",
       "      <th></th>\n",
       "      <th>Console</th>\n",
       "      <th>Game Title</th>\n",
       "      <th>Price</th>\n",
       "      <th>Mean</th>\n",
       "      <th>Median</th>\n",
       "    </tr>\n",
       "  </thead>\n",
       "  <tbody>\n",
       "    <tr>\n",
       "      <th>0</th>\n",
       "      <td>2600</td>\n",
       "      <td>3D TICTACTOE ATARI</td>\n",
       "      <td>23.31</td>\n",
       "      <td>False</td>\n",
       "      <td>False</td>\n",
       "    </tr>\n",
       "    <tr>\n",
       "      <th>1</th>\n",
       "      <td>2600</td>\n",
       "      <td>3D TICTACTOE SEARS</td>\n",
       "      <td>83.88</td>\n",
       "      <td>True</td>\n",
       "      <td>True</td>\n",
       "    </tr>\n",
       "    <tr>\n",
       "      <th>2</th>\n",
       "      <td>2600</td>\n",
       "      <td>A GAME OF CONCENTRATION</td>\n",
       "      <td>28.36</td>\n",
       "      <td>False</td>\n",
       "      <td>True</td>\n",
       "    </tr>\n",
       "    <tr>\n",
       "      <th>3</th>\n",
       "      <td>2600</td>\n",
       "      <td>ADVENTURE ATARI</td>\n",
       "      <td>79.72</td>\n",
       "      <td>True</td>\n",
       "      <td>True</td>\n",
       "    </tr>\n",
       "    <tr>\n",
       "      <th>4</th>\n",
       "      <td>2600</td>\n",
       "      <td>ADVENTURE SEARS</td>\n",
       "      <td>111.35</td>\n",
       "      <td>True</td>\n",
       "      <td>True</td>\n",
       "    </tr>\n",
       "  </tbody>\n",
       "</table>\n",
       "</div>"
      ],
      "text/plain": [
       "  Console               Game Title   Price   Mean  Median\n",
       "0    2600       3D TICTACTOE ATARI   23.31  False   False\n",
       "1    2600       3D TICTACTOE SEARS   83.88   True    True\n",
       "2    2600  A GAME OF CONCENTRATION   28.36  False    True\n",
       "3    2600          ADVENTURE ATARI   79.72   True    True\n",
       "4    2600          ADVENTURE SEARS  111.35   True    True"
      ]
     },
     "execution_count": 21,
     "metadata": {},
     "output_type": "execute_result"
    }
   ],
   "source": [
    "price_data_df['Mean'] = np.where(price_data_df[['Price']] > mean, True, False)\n",
    "price_data_df['Median'] = np.where(price_data_df[['Price']] > median, True, False)\n",
    "\n",
    "price_data_df.head()"
   ]
  },
  {
   "cell_type": "markdown",
   "metadata": {},
   "source": [
    "## Merge Data\n",
    "<hr>"
   ]
  },
  {
   "cell_type": "code",
   "execution_count": 22,
   "metadata": {},
   "outputs": [
    {
     "data": {
      "text/html": [
       "<div>\n",
       "<style scoped>\n",
       "    .dataframe tbody tr th:only-of-type {\n",
       "        vertical-align: middle;\n",
       "    }\n",
       "\n",
       "    .dataframe tbody tr th {\n",
       "        vertical-align: top;\n",
       "    }\n",
       "\n",
       "    .dataframe thead th {\n",
       "        text-align: right;\n",
       "    }\n",
       "</style>\n",
       "<table border=\"1\" class=\"dataframe\">\n",
       "  <thead>\n",
       "    <tr style=\"text-align: right;\">\n",
       "      <th></th>\n",
       "      <th>Name</th>\n",
       "      <th>Platform</th>\n",
       "      <th>Year</th>\n",
       "      <th>Genre</th>\n",
       "      <th>Publisher</th>\n",
       "      <th>NA_Sales</th>\n",
       "      <th>EU_Sales</th>\n",
       "      <th>JP_Sales</th>\n",
       "      <th>Other_Sales</th>\n",
       "      <th>Global_Sales</th>\n",
       "      <th>Console</th>\n",
       "      <th>Game Title</th>\n",
       "      <th>Price</th>\n",
       "      <th>Mean</th>\n",
       "      <th>Median</th>\n",
       "    </tr>\n",
       "  </thead>\n",
       "  <tbody>\n",
       "    <tr>\n",
       "      <th>0</th>\n",
       "      <td>ADVENTURES OF TRON</td>\n",
       "      <td>2600</td>\n",
       "      <td>1981</td>\n",
       "      <td>Action</td>\n",
       "      <td>Mattel Interactive</td>\n",
       "      <td>630000.0</td>\n",
       "      <td>30000.0</td>\n",
       "      <td>NaN</td>\n",
       "      <td>10000.0</td>\n",
       "      <td>670000</td>\n",
       "      <td>2600</td>\n",
       "      <td>ADVENTURES OF TRON</td>\n",
       "      <td>16.10</td>\n",
       "      <td>False</td>\n",
       "      <td>False</td>\n",
       "    </tr>\n",
       "    <tr>\n",
       "      <th>1</th>\n",
       "      <td>AIRLOCK</td>\n",
       "      <td>2600</td>\n",
       "      <td>1981</td>\n",
       "      <td>Action</td>\n",
       "      <td>Data Age</td>\n",
       "      <td>360000.0</td>\n",
       "      <td>20000.0</td>\n",
       "      <td>NaN</td>\n",
       "      <td>NaN</td>\n",
       "      <td>390000</td>\n",
       "      <td>2600</td>\n",
       "      <td>AIRLOCK</td>\n",
       "      <td>17.00</td>\n",
       "      <td>False</td>\n",
       "      <td>False</td>\n",
       "    </tr>\n",
       "    <tr>\n",
       "      <th>2</th>\n",
       "      <td>ALIEN</td>\n",
       "      <td>2600</td>\n",
       "      <td>1981</td>\n",
       "      <td>Action</td>\n",
       "      <td>20th Century Fox Video Games</td>\n",
       "      <td>740000.0</td>\n",
       "      <td>40000.0</td>\n",
       "      <td>NaN</td>\n",
       "      <td>10000.0</td>\n",
       "      <td>790000</td>\n",
       "      <td>2600</td>\n",
       "      <td>ALIEN</td>\n",
       "      <td>61.24</td>\n",
       "      <td>True</td>\n",
       "      <td>True</td>\n",
       "    </tr>\n",
       "    <tr>\n",
       "      <th>3</th>\n",
       "      <td>ARMOR AMBUSH</td>\n",
       "      <td>2600</td>\n",
       "      <td>1981</td>\n",
       "      <td>Action</td>\n",
       "      <td>Mattel Interactive</td>\n",
       "      <td>150000.0</td>\n",
       "      <td>10000.0</td>\n",
       "      <td>NaN</td>\n",
       "      <td>NaN</td>\n",
       "      <td>170000</td>\n",
       "      <td>2600</td>\n",
       "      <td>ARMOR AMBUSH</td>\n",
       "      <td>9.92</td>\n",
       "      <td>False</td>\n",
       "      <td>False</td>\n",
       "    </tr>\n",
       "    <tr>\n",
       "      <th>4</th>\n",
       "      <td>ASTEROIDS</td>\n",
       "      <td>2600</td>\n",
       "      <td>1980</td>\n",
       "      <td>Shooter</td>\n",
       "      <td>Atari</td>\n",
       "      <td>4000000.0</td>\n",
       "      <td>260000.0</td>\n",
       "      <td>NaN</td>\n",
       "      <td>50000.0</td>\n",
       "      <td>4310000</td>\n",
       "      <td>2600</td>\n",
       "      <td>ASTEROIDS</td>\n",
       "      <td>14.06</td>\n",
       "      <td>False</td>\n",
       "      <td>False</td>\n",
       "    </tr>\n",
       "  </tbody>\n",
       "</table>\n",
       "</div>"
      ],
      "text/plain": [
       "                 Name Platform  Year    Genre                     Publisher  \\\n",
       "0  ADVENTURES OF TRON     2600  1981   Action            Mattel Interactive   \n",
       "1             AIRLOCK     2600  1981   Action                      Data Age   \n",
       "2               ALIEN     2600  1981   Action  20th Century Fox Video Games   \n",
       "3        ARMOR AMBUSH     2600  1981   Action            Mattel Interactive   \n",
       "4           ASTEROIDS     2600  1980  Shooter                         Atari   \n",
       "\n",
       "    NA_Sales  EU_Sales  JP_Sales  Other_Sales  Global_Sales Console  \\\n",
       "0   630000.0   30000.0       NaN      10000.0        670000    2600   \n",
       "1   360000.0   20000.0       NaN          NaN        390000    2600   \n",
       "2   740000.0   40000.0       NaN      10000.0        790000    2600   \n",
       "3   150000.0   10000.0       NaN          NaN        170000    2600   \n",
       "4  4000000.0  260000.0       NaN      50000.0       4310000    2600   \n",
       "\n",
       "           Game Title  Price   Mean  Median  \n",
       "0  ADVENTURES OF TRON  16.10  False   False  \n",
       "1             AIRLOCK  17.00  False   False  \n",
       "2               ALIEN  61.24   True    True  \n",
       "3        ARMOR AMBUSH   9.92  False   False  \n",
       "4           ASTEROIDS  14.06  False   False  "
      ]
     },
     "execution_count": 22,
     "metadata": {},
     "output_type": "execute_result"
    }
   ],
   "source": [
    "merged_df = pd.merge(games_clean_df, price_data_df,  how='inner', left_on=['Name','Platform'], right_on = ['Game Title','Console'])\n",
    "\n",
    "merged_df.head()"
   ]
  },
  {
   "cell_type": "code",
   "execution_count": 23,
   "metadata": {},
   "outputs": [
    {
     "data": {
      "text/plain": [
       "Name            1283\n",
       "Platform        1283\n",
       "Year            1283\n",
       "Genre           1283\n",
       "Publisher       1283\n",
       "NA_Sales        1194\n",
       "EU_Sales        1181\n",
       "JP_Sales         370\n",
       "Other_Sales      876\n",
       "Global_Sales    1283\n",
       "Console         1283\n",
       "Game Title      1283\n",
       "Price           1283\n",
       "Mean            1283\n",
       "Median          1283\n",
       "dtype: int64"
      ]
     },
     "execution_count": 23,
     "metadata": {},
     "output_type": "execute_result"
    }
   ],
   "source": [
    "merged_df.count()"
   ]
  },
  {
   "cell_type": "code",
   "execution_count": 24,
   "metadata": {},
   "outputs": [],
   "source": [
    "# Export file as csv\n",
    "merged_df.to_csv(r'..\\data\\merged_games_df.csv', encoding='utf-8', index=False)"
   ]
  },
  {
   "cell_type": "code",
   "execution_count": null,
   "metadata": {},
   "outputs": [],
   "source": []
  },
  {
   "cell_type": "code",
   "execution_count": null,
   "metadata": {},
   "outputs": [],
   "source": []
  }
 ],
 "metadata": {
  "kernelspec": {
   "display_name": "Python 3",
   "language": "python",
   "name": "python3"
  },
  "language_info": {
   "codemirror_mode": {
    "name": "ipython",
    "version": 3
   },
   "file_extension": ".py",
   "mimetype": "text/x-python",
   "name": "python",
   "nbconvert_exporter": "python",
   "pygments_lexer": "ipython3",
   "version": "3.6.10"
  }
 },
 "nbformat": 4,
 "nbformat_minor": 4
}
