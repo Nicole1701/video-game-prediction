{
 "cells": [
  {
   "cell_type": "markdown",
   "metadata": {},
   "source": [
    "# Comparison Plots"
   ]
  },
  {
   "cell_type": "code",
   "execution_count": 12,
   "metadata": {},
   "outputs": [],
   "source": [
    "import pandas as pd\n",
    "import seaborn as sns\n",
    "import matplotlib.pyplot as plt\n",
    "import numpy as np\n",
    "%matplotlib inline\n",
    "import plotly.express as px"
   ]
  },
  {
   "cell_type": "code",
   "execution_count": 13,
   "metadata": {
    "scrolled": true
   },
   "outputs": [],
   "source": [
    "game_data = pd.read_csv(\"../data/merged_games_df.csv\")"
   ]
  },
  {
   "cell_type": "code",
   "execution_count": 14,
   "metadata": {
    "scrolled": false
   },
   "outputs": [
    {
     "data": {
      "text/html": [
       "<div>\n",
       "<style scoped>\n",
       "    .dataframe tbody tr th:only-of-type {\n",
       "        vertical-align: middle;\n",
       "    }\n",
       "\n",
       "    .dataframe tbody tr th {\n",
       "        vertical-align: top;\n",
       "    }\n",
       "\n",
       "    .dataframe thead th {\n",
       "        text-align: right;\n",
       "    }\n",
       "</style>\n",
       "<table border=\"1\" class=\"dataframe\">\n",
       "  <thead>\n",
       "    <tr style=\"text-align: right;\">\n",
       "      <th></th>\n",
       "      <th>Name</th>\n",
       "      <th>Platform</th>\n",
       "      <th>Year</th>\n",
       "      <th>Genre</th>\n",
       "      <th>Publisher</th>\n",
       "      <th>NA_Sales</th>\n",
       "      <th>EU_Sales</th>\n",
       "      <th>JP_Sales</th>\n",
       "      <th>Other_Sales</th>\n",
       "      <th>Global_Sales</th>\n",
       "      <th>Console</th>\n",
       "      <th>Game Title</th>\n",
       "      <th>Price</th>\n",
       "      <th>Mean</th>\n",
       "      <th>Median</th>\n",
       "    </tr>\n",
       "  </thead>\n",
       "  <tbody>\n",
       "    <tr>\n",
       "      <th>0</th>\n",
       "      <td>ADVENTURES OF TRON</td>\n",
       "      <td>2600</td>\n",
       "      <td>1981</td>\n",
       "      <td>Action</td>\n",
       "      <td>Mattel Interactive</td>\n",
       "      <td>630000.0</td>\n",
       "      <td>30000.0</td>\n",
       "      <td>NaN</td>\n",
       "      <td>10000.0</td>\n",
       "      <td>670000</td>\n",
       "      <td>2600</td>\n",
       "      <td>ADVENTURES OF TRON</td>\n",
       "      <td>16.10</td>\n",
       "      <td>False</td>\n",
       "      <td>False</td>\n",
       "    </tr>\n",
       "    <tr>\n",
       "      <th>1</th>\n",
       "      <td>AIRLOCK</td>\n",
       "      <td>2600</td>\n",
       "      <td>1981</td>\n",
       "      <td>Action</td>\n",
       "      <td>Data Age</td>\n",
       "      <td>360000.0</td>\n",
       "      <td>20000.0</td>\n",
       "      <td>NaN</td>\n",
       "      <td>NaN</td>\n",
       "      <td>390000</td>\n",
       "      <td>2600</td>\n",
       "      <td>AIRLOCK</td>\n",
       "      <td>17.00</td>\n",
       "      <td>False</td>\n",
       "      <td>False</td>\n",
       "    </tr>\n",
       "    <tr>\n",
       "      <th>2</th>\n",
       "      <td>ALIEN</td>\n",
       "      <td>2600</td>\n",
       "      <td>1981</td>\n",
       "      <td>Action</td>\n",
       "      <td>20th Century Fox Video Games</td>\n",
       "      <td>740000.0</td>\n",
       "      <td>40000.0</td>\n",
       "      <td>NaN</td>\n",
       "      <td>10000.0</td>\n",
       "      <td>790000</td>\n",
       "      <td>2600</td>\n",
       "      <td>ALIEN</td>\n",
       "      <td>61.24</td>\n",
       "      <td>True</td>\n",
       "      <td>True</td>\n",
       "    </tr>\n",
       "    <tr>\n",
       "      <th>3</th>\n",
       "      <td>ARMOR AMBUSH</td>\n",
       "      <td>2600</td>\n",
       "      <td>1981</td>\n",
       "      <td>Action</td>\n",
       "      <td>Mattel Interactive</td>\n",
       "      <td>150000.0</td>\n",
       "      <td>10000.0</td>\n",
       "      <td>NaN</td>\n",
       "      <td>NaN</td>\n",
       "      <td>170000</td>\n",
       "      <td>2600</td>\n",
       "      <td>ARMOR AMBUSH</td>\n",
       "      <td>9.92</td>\n",
       "      <td>False</td>\n",
       "      <td>False</td>\n",
       "    </tr>\n",
       "    <tr>\n",
       "      <th>4</th>\n",
       "      <td>ASTEROIDS</td>\n",
       "      <td>2600</td>\n",
       "      <td>1980</td>\n",
       "      <td>Shooter</td>\n",
       "      <td>Atari</td>\n",
       "      <td>4000000.0</td>\n",
       "      <td>260000.0</td>\n",
       "      <td>NaN</td>\n",
       "      <td>50000.0</td>\n",
       "      <td>4310000</td>\n",
       "      <td>2600</td>\n",
       "      <td>ASTEROIDS</td>\n",
       "      <td>14.06</td>\n",
       "      <td>False</td>\n",
       "      <td>False</td>\n",
       "    </tr>\n",
       "  </tbody>\n",
       "</table>\n",
       "</div>"
      ],
      "text/plain": [
       "                 Name Platform  Year    Genre                     Publisher  \\\n",
       "0  ADVENTURES OF TRON     2600  1981   Action            Mattel Interactive   \n",
       "1             AIRLOCK     2600  1981   Action                      Data Age   \n",
       "2               ALIEN     2600  1981   Action  20th Century Fox Video Games   \n",
       "3        ARMOR AMBUSH     2600  1981   Action            Mattel Interactive   \n",
       "4           ASTEROIDS     2600  1980  Shooter                         Atari   \n",
       "\n",
       "    NA_Sales  EU_Sales  JP_Sales  Other_Sales  Global_Sales Console  \\\n",
       "0   630000.0   30000.0       NaN      10000.0        670000    2600   \n",
       "1   360000.0   20000.0       NaN          NaN        390000    2600   \n",
       "2   740000.0   40000.0       NaN      10000.0        790000    2600   \n",
       "3   150000.0   10000.0       NaN          NaN        170000    2600   \n",
       "4  4000000.0  260000.0       NaN      50000.0       4310000    2600   \n",
       "\n",
       "           Game Title  Price   Mean  Median  \n",
       "0  ADVENTURES OF TRON  16.10  False   False  \n",
       "1             AIRLOCK  17.00  False   False  \n",
       "2               ALIEN  61.24   True    True  \n",
       "3        ARMOR AMBUSH   9.92  False   False  \n",
       "4           ASTEROIDS  14.06  False   False  "
      ]
     },
     "execution_count": 14,
     "metadata": {},
     "output_type": "execute_result"
    }
   ],
   "source": [
    "game_data.head()"
   ]
  },
  {
   "cell_type": "markdown",
   "metadata": {},
   "source": [
    "## Games per Year by Platform "
   ]
  },
  {
   "cell_type": "code",
   "execution_count": 15,
   "metadata": {
    "scrolled": false
   },
   "outputs": [
    {
     "data": {
      "text/html": [
       "<div>\n",
       "<style scoped>\n",
       "    .dataframe tbody tr th:only-of-type {\n",
       "        vertical-align: middle;\n",
       "    }\n",
       "\n",
       "    .dataframe tbody tr th {\n",
       "        vertical-align: top;\n",
       "    }\n",
       "\n",
       "    .dataframe thead th {\n",
       "        text-align: right;\n",
       "    }\n",
       "</style>\n",
       "<table border=\"1\" class=\"dataframe\">\n",
       "  <thead>\n",
       "    <tr style=\"text-align: right;\">\n",
       "      <th></th>\n",
       "      <th>Platform</th>\n",
       "      <th>Year</th>\n",
       "      <th>Games per Platform</th>\n",
       "    </tr>\n",
       "  </thead>\n",
       "  <tbody>\n",
       "    <tr>\n",
       "      <th>0</th>\n",
       "      <td>2600</td>\n",
       "      <td>1980</td>\n",
       "      <td>5</td>\n",
       "    </tr>\n",
       "    <tr>\n",
       "      <th>1</th>\n",
       "      <td>2600</td>\n",
       "      <td>1981</td>\n",
       "      <td>36</td>\n",
       "    </tr>\n",
       "    <tr>\n",
       "      <th>2</th>\n",
       "      <td>2600</td>\n",
       "      <td>1982</td>\n",
       "      <td>26</td>\n",
       "    </tr>\n",
       "    <tr>\n",
       "      <th>3</th>\n",
       "      <td>2600</td>\n",
       "      <td>1983</td>\n",
       "      <td>8</td>\n",
       "    </tr>\n",
       "    <tr>\n",
       "      <th>4</th>\n",
       "      <td>2600</td>\n",
       "      <td>1984</td>\n",
       "      <td>1</td>\n",
       "    </tr>\n",
       "    <tr>\n",
       "      <th>5</th>\n",
       "      <td>2600</td>\n",
       "      <td>1985</td>\n",
       "      <td>1</td>\n",
       "    </tr>\n",
       "    <tr>\n",
       "      <th>6</th>\n",
       "      <td>2600</td>\n",
       "      <td>1986</td>\n",
       "      <td>2</td>\n",
       "    </tr>\n",
       "    <tr>\n",
       "      <th>7</th>\n",
       "      <td>2600</td>\n",
       "      <td>1987</td>\n",
       "      <td>6</td>\n",
       "    </tr>\n",
       "    <tr>\n",
       "      <th>8</th>\n",
       "      <td>2600</td>\n",
       "      <td>1988</td>\n",
       "      <td>2</td>\n",
       "    </tr>\n",
       "    <tr>\n",
       "      <th>9</th>\n",
       "      <td>2600</td>\n",
       "      <td>1989</td>\n",
       "      <td>1</td>\n",
       "    </tr>\n",
       "    <tr>\n",
       "      <th>10</th>\n",
       "      <td>GEN</td>\n",
       "      <td>1990</td>\n",
       "      <td>1</td>\n",
       "    </tr>\n",
       "    <tr>\n",
       "      <th>11</th>\n",
       "      <td>GEN</td>\n",
       "      <td>1991</td>\n",
       "      <td>1</td>\n",
       "    </tr>\n",
       "    <tr>\n",
       "      <th>12</th>\n",
       "      <td>GEN</td>\n",
       "      <td>1992</td>\n",
       "      <td>6</td>\n",
       "    </tr>\n",
       "    <tr>\n",
       "      <th>13</th>\n",
       "      <td>GEN</td>\n",
       "      <td>1993</td>\n",
       "      <td>4</td>\n",
       "    </tr>\n",
       "    <tr>\n",
       "      <th>14</th>\n",
       "      <td>GEN</td>\n",
       "      <td>1994</td>\n",
       "      <td>5</td>\n",
       "    </tr>\n",
       "    <tr>\n",
       "      <th>15</th>\n",
       "      <td>N64</td>\n",
       "      <td>1996</td>\n",
       "      <td>11</td>\n",
       "    </tr>\n",
       "    <tr>\n",
       "      <th>16</th>\n",
       "      <td>N64</td>\n",
       "      <td>1997</td>\n",
       "      <td>34</td>\n",
       "    </tr>\n",
       "    <tr>\n",
       "      <th>17</th>\n",
       "      <td>N64</td>\n",
       "      <td>1998</td>\n",
       "      <td>63</td>\n",
       "    </tr>\n",
       "    <tr>\n",
       "      <th>18</th>\n",
       "      <td>N64</td>\n",
       "      <td>1999</td>\n",
       "      <td>68</td>\n",
       "    </tr>\n",
       "    <tr>\n",
       "      <th>19</th>\n",
       "      <td>N64</td>\n",
       "      <td>2000</td>\n",
       "      <td>37</td>\n",
       "    </tr>\n",
       "    <tr>\n",
       "      <th>20</th>\n",
       "      <td>N64</td>\n",
       "      <td>2001</td>\n",
       "      <td>4</td>\n",
       "    </tr>\n",
       "    <tr>\n",
       "      <th>21</th>\n",
       "      <td>N64</td>\n",
       "      <td>2002</td>\n",
       "      <td>1</td>\n",
       "    </tr>\n",
       "    <tr>\n",
       "      <th>22</th>\n",
       "      <td>NES</td>\n",
       "      <td>1983</td>\n",
       "      <td>2</td>\n",
       "    </tr>\n",
       "    <tr>\n",
       "      <th>23</th>\n",
       "      <td>NES</td>\n",
       "      <td>1984</td>\n",
       "      <td>7</td>\n",
       "    </tr>\n",
       "    <tr>\n",
       "      <th>24</th>\n",
       "      <td>NES</td>\n",
       "      <td>1985</td>\n",
       "      <td>9</td>\n",
       "    </tr>\n",
       "    <tr>\n",
       "      <th>25</th>\n",
       "      <td>NES</td>\n",
       "      <td>1986</td>\n",
       "      <td>10</td>\n",
       "    </tr>\n",
       "    <tr>\n",
       "      <th>26</th>\n",
       "      <td>NES</td>\n",
       "      <td>1987</td>\n",
       "      <td>6</td>\n",
       "    </tr>\n",
       "    <tr>\n",
       "      <th>27</th>\n",
       "      <td>NES</td>\n",
       "      <td>1988</td>\n",
       "      <td>6</td>\n",
       "    </tr>\n",
       "    <tr>\n",
       "      <th>28</th>\n",
       "      <td>NES</td>\n",
       "      <td>1989</td>\n",
       "      <td>2</td>\n",
       "    </tr>\n",
       "    <tr>\n",
       "      <th>29</th>\n",
       "      <td>NES</td>\n",
       "      <td>1990</td>\n",
       "      <td>4</td>\n",
       "    </tr>\n",
       "    <tr>\n",
       "      <th>30</th>\n",
       "      <td>NES</td>\n",
       "      <td>1991</td>\n",
       "      <td>3</td>\n",
       "    </tr>\n",
       "    <tr>\n",
       "      <th>31</th>\n",
       "      <td>NES</td>\n",
       "      <td>1992</td>\n",
       "      <td>1</td>\n",
       "    </tr>\n",
       "    <tr>\n",
       "      <th>32</th>\n",
       "      <td>NES</td>\n",
       "      <td>1993</td>\n",
       "      <td>3</td>\n",
       "    </tr>\n",
       "    <tr>\n",
       "      <th>33</th>\n",
       "      <td>PS</td>\n",
       "      <td>1994</td>\n",
       "      <td>9</td>\n",
       "    </tr>\n",
       "    <tr>\n",
       "      <th>34</th>\n",
       "      <td>PS</td>\n",
       "      <td>1995</td>\n",
       "      <td>59</td>\n",
       "    </tr>\n",
       "    <tr>\n",
       "      <th>35</th>\n",
       "      <td>PS</td>\n",
       "      <td>1996</td>\n",
       "      <td>118</td>\n",
       "    </tr>\n",
       "    <tr>\n",
       "      <th>36</th>\n",
       "      <td>PS</td>\n",
       "      <td>1997</td>\n",
       "      <td>134</td>\n",
       "    </tr>\n",
       "    <tr>\n",
       "      <th>37</th>\n",
       "      <td>PS</td>\n",
       "      <td>1998</td>\n",
       "      <td>168</td>\n",
       "    </tr>\n",
       "    <tr>\n",
       "      <th>38</th>\n",
       "      <td>PS</td>\n",
       "      <td>1999</td>\n",
       "      <td>136</td>\n",
       "    </tr>\n",
       "    <tr>\n",
       "      <th>39</th>\n",
       "      <td>PS</td>\n",
       "      <td>2000</td>\n",
       "      <td>117</td>\n",
       "    </tr>\n",
       "    <tr>\n",
       "      <th>40</th>\n",
       "      <td>PS</td>\n",
       "      <td>2001</td>\n",
       "      <td>63</td>\n",
       "    </tr>\n",
       "    <tr>\n",
       "      <th>41</th>\n",
       "      <td>PS</td>\n",
       "      <td>2002</td>\n",
       "      <td>5</td>\n",
       "    </tr>\n",
       "    <tr>\n",
       "      <th>42</th>\n",
       "      <td>PS</td>\n",
       "      <td>2003</td>\n",
       "      <td>1</td>\n",
       "    </tr>\n",
       "    <tr>\n",
       "      <th>43</th>\n",
       "      <td>SAT</td>\n",
       "      <td>1994</td>\n",
       "      <td>18</td>\n",
       "    </tr>\n",
       "    <tr>\n",
       "      <th>44</th>\n",
       "      <td>SAT</td>\n",
       "      <td>1995</td>\n",
       "      <td>19</td>\n",
       "    </tr>\n",
       "    <tr>\n",
       "      <th>45</th>\n",
       "      <td>SAT</td>\n",
       "      <td>1996</td>\n",
       "      <td>7</td>\n",
       "    </tr>\n",
       "    <tr>\n",
       "      <th>46</th>\n",
       "      <td>SCD</td>\n",
       "      <td>1993</td>\n",
       "      <td>1</td>\n",
       "    </tr>\n",
       "    <tr>\n",
       "      <th>47</th>\n",
       "      <td>SCD</td>\n",
       "      <td>1994</td>\n",
       "      <td>1</td>\n",
       "    </tr>\n",
       "    <tr>\n",
       "      <th>48</th>\n",
       "      <td>SNES</td>\n",
       "      <td>1990</td>\n",
       "      <td>3</td>\n",
       "    </tr>\n",
       "    <tr>\n",
       "      <th>49</th>\n",
       "      <td>SNES</td>\n",
       "      <td>1991</td>\n",
       "      <td>13</td>\n",
       "    </tr>\n",
       "    <tr>\n",
       "      <th>50</th>\n",
       "      <td>SNES</td>\n",
       "      <td>1992</td>\n",
       "      <td>8</td>\n",
       "    </tr>\n",
       "    <tr>\n",
       "      <th>51</th>\n",
       "      <td>SNES</td>\n",
       "      <td>1993</td>\n",
       "      <td>10</td>\n",
       "    </tr>\n",
       "    <tr>\n",
       "      <th>52</th>\n",
       "      <td>SNES</td>\n",
       "      <td>1994</td>\n",
       "      <td>10</td>\n",
       "    </tr>\n",
       "    <tr>\n",
       "      <th>53</th>\n",
       "      <td>SNES</td>\n",
       "      <td>1995</td>\n",
       "      <td>6</td>\n",
       "    </tr>\n",
       "    <tr>\n",
       "      <th>54</th>\n",
       "      <td>SNES</td>\n",
       "      <td>1996</td>\n",
       "      <td>1</td>\n",
       "    </tr>\n",
       "  </tbody>\n",
       "</table>\n",
       "</div>"
      ],
      "text/plain": [
       "   Platform  Year  Games per Platform\n",
       "0      2600  1980                   5\n",
       "1      2600  1981                  36\n",
       "2      2600  1982                  26\n",
       "3      2600  1983                   8\n",
       "4      2600  1984                   1\n",
       "5      2600  1985                   1\n",
       "6      2600  1986                   2\n",
       "7      2600  1987                   6\n",
       "8      2600  1988                   2\n",
       "9      2600  1989                   1\n",
       "10      GEN  1990                   1\n",
       "11      GEN  1991                   1\n",
       "12      GEN  1992                   6\n",
       "13      GEN  1993                   4\n",
       "14      GEN  1994                   5\n",
       "15      N64  1996                  11\n",
       "16      N64  1997                  34\n",
       "17      N64  1998                  63\n",
       "18      N64  1999                  68\n",
       "19      N64  2000                  37\n",
       "20      N64  2001                   4\n",
       "21      N64  2002                   1\n",
       "22      NES  1983                   2\n",
       "23      NES  1984                   7\n",
       "24      NES  1985                   9\n",
       "25      NES  1986                  10\n",
       "26      NES  1987                   6\n",
       "27      NES  1988                   6\n",
       "28      NES  1989                   2\n",
       "29      NES  1990                   4\n",
       "30      NES  1991                   3\n",
       "31      NES  1992                   1\n",
       "32      NES  1993                   3\n",
       "33       PS  1994                   9\n",
       "34       PS  1995                  59\n",
       "35       PS  1996                 118\n",
       "36       PS  1997                 134\n",
       "37       PS  1998                 168\n",
       "38       PS  1999                 136\n",
       "39       PS  2000                 117\n",
       "40       PS  2001                  63\n",
       "41       PS  2002                   5\n",
       "42       PS  2003                   1\n",
       "43      SAT  1994                  18\n",
       "44      SAT  1995                  19\n",
       "45      SAT  1996                   7\n",
       "46      SCD  1993                   1\n",
       "47      SCD  1994                   1\n",
       "48     SNES  1990                   3\n",
       "49     SNES  1991                  13\n",
       "50     SNES  1992                   8\n",
       "51     SNES  1993                  10\n",
       "52     SNES  1994                  10\n",
       "53     SNES  1995                   6\n",
       "54     SNES  1996                   1"
      ]
     },
     "execution_count": 15,
     "metadata": {},
     "output_type": "execute_result"
    }
   ],
   "source": [
    "platform_and_year = game_data.groupby([\"Platform\",\"Year\"], as_index=False).count()\n",
    "games_by_year = platform_and_year[[\"Platform\", \"Year\", \"Name\"]].rename(columns={\"Name\": \"Games per Platform\"})\n",
    "games_by_year"
   ]
  },
  {
   "cell_type": "code",
   "execution_count": 31,
   "metadata": {
    "scrolled": true
   },
   "outputs": [
    {
     "data": {
      "image/png": "[encoded data removed]",
      "text/plain": [
       "<Figure size 432x1080 with 1 Axes>"
      ]
     },
     "metadata": {},
     "output_type": "display_data"
    }
   ],
   "source": [
    "sns.set_theme(style=\"whitegrid\")\n",
    "\n",
    "# Initialize the matplotlib figure\n",
    "f, ax = plt.subplots(figsize=(6, 15))\n",
    "\n",
    "# Plot the games per year\n",
    "sns.set_color_codes(\"pastel\")\n",
    "sns.barplot(x=\"Year\", y=\"Games per Platform\", data=games_by_year,\n",
    "            label=\"Games per Platform\", color=\"blue\")\n",
    "\n",
    "# Add a legend and informative axis label\n",
    "ax.legend(ncol=2, loc=\"lower right\", frameon=True)\n",
    "ax.set(xlim=(0, 24), ylabel=\"Games per Platform\",\n",
    "       xlabel=\"Year\", xticks=[0,5,10,15,20,25])\n",
    "sns.despine(left=True, bottom=True)"
   ]
  },
  {
   "cell_type": "code",
   "execution_count": 17,
   "metadata": {
    "scrolled": true
   },
   "outputs": [
    {
     "data": {
      "text/plain": [
       "<AxesSubplot:xlabel='Year', ylabel='Platform'>"
      ]
     },
     "execution_count": 17,
     "metadata": {},
     "output_type": "execute_result"
    },
    {
     "data": {
      "image/png": "[encoded data removed]",
      "text/plain": [
       "<Figure size 432x288 with 1 Axes>"
      ]
     },
     "metadata": {},
     "output_type": "display_data"
    }
   ],
   "source": [
    "sns.stripplot(data=games_by_year, x=\"Year\", y=\"Platform\")"
   ]
  },
  {
   "cell_type": "code",
   "execution_count": 28,
   "metadata": {
    "scrolled": true
   },
   "outputs": [
    {
     "data": {
      "text/plain": [
       "<seaborn.axisgrid.FacetGrid at 0x7fa17c601210>"
      ]
     },
     "execution_count": 28,
     "metadata": {},
     "output_type": "execute_result"
    },
    {
     "data": {
      "image/png": "[encoded data removed]",
      "text/plain": [
       "<Figure size 476.175x360 with 1 Axes>"
      ]
     },
     "metadata": {},
     "output_type": "display_data"
    }
   ],
   "source": [
    "sns.relplot(\n",
    "    data=games_by_year, x=\"Year\", y=\"Platform\",size=\"Games per Platform\",\n",
    "    palette=[\"b\", \"r\"], sizes=(10, 200)\n",
    ")"
   ]
  },
  {
   "cell_type": "markdown",
   "metadata": {},
   "source": [
    "## Game Count By Genre"
   ]
  },
  {
   "cell_type": "code",
   "execution_count": 19,
   "metadata": {
    "scrolled": false
   },
   "outputs": [
    {
     "data": {
      "text/html": [
       "<div>\n",
       "<style scoped>\n",
       "    .dataframe tbody tr th:only-of-type {\n",
       "        vertical-align: middle;\n",
       "    }\n",
       "\n",
       "    .dataframe tbody tr th {\n",
       "        vertical-align: top;\n",
       "    }\n",
       "\n",
       "    .dataframe thead th {\n",
       "        text-align: right;\n",
       "    }\n",
       "</style>\n",
       "<table border=\"1\" class=\"dataframe\">\n",
       "  <thead>\n",
       "    <tr style=\"text-align: right;\">\n",
       "      <th></th>\n",
       "      <th>Genre</th>\n",
       "      <th>Game Count</th>\n",
       "    </tr>\n",
       "  </thead>\n",
       "  <tbody>\n",
       "    <tr>\n",
       "      <th>0</th>\n",
       "      <td>Action</td>\n",
       "      <td>200</td>\n",
       "    </tr>\n",
       "    <tr>\n",
       "      <th>1</th>\n",
       "      <td>Adventure</td>\n",
       "      <td>38</td>\n",
       "    </tr>\n",
       "    <tr>\n",
       "      <th>2</th>\n",
       "      <td>Fighting</td>\n",
       "      <td>124</td>\n",
       "    </tr>\n",
       "    <tr>\n",
       "      <th>3</th>\n",
       "      <td>Misc</td>\n",
       "      <td>49</td>\n",
       "    </tr>\n",
       "    <tr>\n",
       "      <th>4</th>\n",
       "      <td>Platform</td>\n",
       "      <td>107</td>\n",
       "    </tr>\n",
       "    <tr>\n",
       "      <th>5</th>\n",
       "      <td>Puzzle</td>\n",
       "      <td>51</td>\n",
       "    </tr>\n",
       "    <tr>\n",
       "      <th>6</th>\n",
       "      <td>Racing</td>\n",
       "      <td>183</td>\n",
       "    </tr>\n",
       "    <tr>\n",
       "      <th>7</th>\n",
       "      <td>Role-Playing</td>\n",
       "      <td>62</td>\n",
       "    </tr>\n",
       "    <tr>\n",
       "      <th>8</th>\n",
       "      <td>Shooter</td>\n",
       "      <td>132</td>\n",
       "    </tr>\n",
       "    <tr>\n",
       "      <th>9</th>\n",
       "      <td>Simulation</td>\n",
       "      <td>49</td>\n",
       "    </tr>\n",
       "    <tr>\n",
       "      <th>10</th>\n",
       "      <td>Sports</td>\n",
       "      <td>246</td>\n",
       "    </tr>\n",
       "    <tr>\n",
       "      <th>11</th>\n",
       "      <td>Strategy</td>\n",
       "      <td>42</td>\n",
       "    </tr>\n",
       "  </tbody>\n",
       "</table>\n",
       "</div>"
      ],
      "text/plain": [
       "           Genre  Game Count\n",
       "0         Action         200\n",
       "1      Adventure          38\n",
       "2       Fighting         124\n",
       "3           Misc          49\n",
       "4       Platform         107\n",
       "5         Puzzle          51\n",
       "6         Racing         183\n",
       "7   Role-Playing          62\n",
       "8        Shooter         132\n",
       "9     Simulation          49\n",
       "10        Sports         246\n",
       "11      Strategy          42"
      ]
     },
     "execution_count": 19,
     "metadata": {},
     "output_type": "execute_result"
    }
   ],
   "source": [
    "genres = game_data.groupby(\"Genre\", as_index=False).count()\n",
    "genre_count = genres[[\"Genre\", \"Name\"]].rename(columns={\"Name\": \"Game Count\"})\n",
    "genre_count"
   ]
  },
  {
   "cell_type": "code",
   "execution_count": 20,
   "metadata": {},
   "outputs": [
    {
     "data": {
      "image/png": "[encoded data removed]",
      "text/plain": [
       "<Figure size 432x1080 with 1 Axes>"
      ]
     },
     "metadata": {},
     "output_type": "display_data"
    }
   ],
   "source": [
    "sns.set_theme(style=\"darkgrid\")\n",
    "\n",
    "# Initialize the matplotlib figure\n",
    "f, ax = plt.subplots(figsize=(6, 15))\n",
    "\n",
    "# Plot the games per year\n",
    "sns.barplot(x=\"Genre\", y=\"Game Count\", data=genre_count,\n",
    "            label=\"Game Count\", color=\"g\")\n",
    "\n",
    "# Add a legend and informative axis label\n",
    "ax.legend(ncol=2, loc=\"lower right\", frameon=True)\n",
    "ax.set(ylabel=\"Game Count\", xlabel=\"Genre\")\n",
    "plt.xticks(rotation=45, ha='right')\n",
    "sns.despine(left=True, bottom=True)"
   ]
  },
  {
   "cell_type": "code",
   "execution_count": 34,
   "metadata": {},
   "outputs": [
    {
     "data": {
      "text/html": [
       "<div>\n",
       "<style scoped>\n",
       "    .dataframe tbody tr th:only-of-type {\n",
       "        vertical-align: middle;\n",
       "    }\n",
       "\n",
       "    .dataframe tbody tr th {\n",
       "        vertical-align: top;\n",
       "    }\n",
       "\n",
       "    .dataframe thead th {\n",
       "        text-align: right;\n",
       "    }\n",
       "</style>\n",
       "<table border=\"1\" class=\"dataframe\">\n",
       "  <thead>\n",
       "    <tr style=\"text-align: right;\">\n",
       "      <th></th>\n",
       "      <th>Genre</th>\n",
       "      <th>Year</th>\n",
       "      <th>Games per Genre</th>\n",
       "    </tr>\n",
       "  </thead>\n",
       "  <tbody>\n",
       "    <tr>\n",
       "      <th>0</th>\n",
       "      <td>Action</td>\n",
       "      <td>1981</td>\n",
       "      <td>20</td>\n",
       "    </tr>\n",
       "    <tr>\n",
       "      <th>1</th>\n",
       "      <td>Action</td>\n",
       "      <td>1982</td>\n",
       "      <td>10</td>\n",
       "    </tr>\n",
       "    <tr>\n",
       "      <th>2</th>\n",
       "      <td>Action</td>\n",
       "      <td>1983</td>\n",
       "      <td>5</td>\n",
       "    </tr>\n",
       "    <tr>\n",
       "      <th>3</th>\n",
       "      <td>Action</td>\n",
       "      <td>1984</td>\n",
       "      <td>1</td>\n",
       "    </tr>\n",
       "    <tr>\n",
       "      <th>4</th>\n",
       "      <td>Action</td>\n",
       "      <td>1985</td>\n",
       "      <td>1</td>\n",
       "    </tr>\n",
       "    <tr>\n",
       "      <th>...</th>\n",
       "      <td>...</td>\n",
       "      <td>...</td>\n",
       "      <td>...</td>\n",
       "    </tr>\n",
       "    <tr>\n",
       "      <th>178</th>\n",
       "      <td>Strategy</td>\n",
       "      <td>1997</td>\n",
       "      <td>5</td>\n",
       "    </tr>\n",
       "    <tr>\n",
       "      <th>179</th>\n",
       "      <td>Strategy</td>\n",
       "      <td>1998</td>\n",
       "      <td>10</td>\n",
       "    </tr>\n",
       "    <tr>\n",
       "      <th>180</th>\n",
       "      <td>Strategy</td>\n",
       "      <td>1999</td>\n",
       "      <td>13</td>\n",
       "    </tr>\n",
       "    <tr>\n",
       "      <th>181</th>\n",
       "      <td>Strategy</td>\n",
       "      <td>2000</td>\n",
       "      <td>1</td>\n",
       "    </tr>\n",
       "    <tr>\n",
       "      <th>182</th>\n",
       "      <td>Strategy</td>\n",
       "      <td>2001</td>\n",
       "      <td>1</td>\n",
       "    </tr>\n",
       "  </tbody>\n",
       "</table>\n",
       "<p>183 rows × 3 columns</p>\n",
       "</div>"
      ],
      "text/plain": [
       "        Genre  Year  Games per Genre\n",
       "0      Action  1981               20\n",
       "1      Action  1982               10\n",
       "2      Action  1983                5\n",
       "3      Action  1984                1\n",
       "4      Action  1985                1\n",
       "..        ...   ...              ...\n",
       "178  Strategy  1997                5\n",
       "179  Strategy  1998               10\n",
       "180  Strategy  1999               13\n",
       "181  Strategy  2000                1\n",
       "182  Strategy  2001                1\n",
       "\n",
       "[183 rows x 3 columns]"
      ]
     },
     "execution_count": 34,
     "metadata": {},
     "output_type": "execute_result"
    }
   ],
   "source": [
    "genre_year = game_data.groupby([\"Genre\", \"Year\"], as_index=False).count()\n",
    "genre_by_year = genre_year[[\"Genre\", \"Year\", \"Platform\"]].rename(columns={\"Platform\": \"Games per Genre\"})\n",
    "genre_by_year"
   ]
  },
  {
   "cell_type": "code",
   "execution_count": 35,
   "metadata": {},
   "outputs": [
    {
     "data": {
      "text/plain": [
       "<AxesSubplot:xlabel='Year', ylabel='Genre'>"
      ]
     },
     "execution_count": 35,
     "metadata": {},
     "output_type": "execute_result"
    },
    {
     "data": {
      "image/png": "[encoded data removed]",
      "text/plain": [
       "<Figure size 432x288 with 1 Axes>"
      ]
     },
     "metadata": {},
     "output_type": "display_data"
    }
   ],
   "source": [
    "sns.stripplot(data=genre_by_year, x=\"Year\", y=\"Genre\")"
   ]
  },
  {
   "cell_type": "code",
   "execution_count": 36,
   "metadata": {
    "scrolled": true
   },
   "outputs": [
    {
     "data": {
      "text/plain": [
       "<seaborn.axisgrid.FacetGrid at 0x7fa17f2b2f10>"
      ]
     },
     "execution_count": 36,
     "metadata": {},
     "output_type": "execute_result"
    },
    {
     "data": {
      "image/png": "[encoded data removed]",
      "text/plain": [
       "<Figure size 465.175x360 with 1 Axes>"
      ]
     },
     "metadata": {},
     "output_type": "display_data"
    }
   ],
   "source": [
    "sns.relplot(\n",
    "    data=genre_by_year, x=\"Year\", y=\"Genre\",size=\"Games per Genre\",\n",
    "    palette=[\"b\", \"r\"], sizes=(10, 50)\n",
    ")"
   ]
  },
  {
   "cell_type": "markdown",
   "metadata": {},
   "source": [
    "## Animated Bubble Chart"
   ]
  },
  {
   "cell_type": "code",
   "execution_count": 39,
   "metadata": {
    "scrolled": false
   },
   "outputs": [
    {
     "data": {
      "text/html": [
       "<div>\n",
       "<style scoped>\n",
       "    .dataframe tbody tr th:only-of-type {\n",
       "        vertical-align: middle;\n",
       "    }\n",
       "\n",
       "    .dataframe tbody tr th {\n",
       "        vertical-align: top;\n",
       "    }\n",
       "\n",
       "    .dataframe thead th {\n",
       "        text-align: right;\n",
       "    }\n",
       "</style>\n",
       "<table border=\"1\" class=\"dataframe\">\n",
       "  <thead>\n",
       "    <tr style=\"text-align: right;\">\n",
       "      <th></th>\n",
       "      <th>Platform</th>\n",
       "      <th>Year</th>\n",
       "      <th>Games per Platform</th>\n",
       "      <th>Genre</th>\n",
       "      <th>Games per Genre</th>\n",
       "    </tr>\n",
       "  </thead>\n",
       "  <tbody>\n",
       "    <tr>\n",
       "      <th>0</th>\n",
       "      <td>2600</td>\n",
       "      <td>1980</td>\n",
       "      <td>5</td>\n",
       "      <td>Fighting</td>\n",
       "      <td>1</td>\n",
       "    </tr>\n",
       "    <tr>\n",
       "      <th>1</th>\n",
       "      <td>2600</td>\n",
       "      <td>1980</td>\n",
       "      <td>5</td>\n",
       "      <td>Misc</td>\n",
       "      <td>2</td>\n",
       "    </tr>\n",
       "    <tr>\n",
       "      <th>2</th>\n",
       "      <td>2600</td>\n",
       "      <td>1980</td>\n",
       "      <td>5</td>\n",
       "      <td>Shooter</td>\n",
       "      <td>1</td>\n",
       "    </tr>\n",
       "    <tr>\n",
       "      <th>3</th>\n",
       "      <td>2600</td>\n",
       "      <td>1980</td>\n",
       "      <td>5</td>\n",
       "      <td>Sports</td>\n",
       "      <td>1</td>\n",
       "    </tr>\n",
       "    <tr>\n",
       "      <th>4</th>\n",
       "      <td>2600</td>\n",
       "      <td>1981</td>\n",
       "      <td>36</td>\n",
       "      <td>Action</td>\n",
       "      <td>20</td>\n",
       "    </tr>\n",
       "    <tr>\n",
       "      <th>...</th>\n",
       "      <td>...</td>\n",
       "      <td>...</td>\n",
       "      <td>...</td>\n",
       "      <td>...</td>\n",
       "      <td>...</td>\n",
       "    </tr>\n",
       "    <tr>\n",
       "      <th>445</th>\n",
       "      <td>SNES</td>\n",
       "      <td>1995</td>\n",
       "      <td>6</td>\n",
       "      <td>Shooter</td>\n",
       "      <td>15</td>\n",
       "    </tr>\n",
       "    <tr>\n",
       "      <th>446</th>\n",
       "      <td>SNES</td>\n",
       "      <td>1995</td>\n",
       "      <td>6</td>\n",
       "      <td>Simulation</td>\n",
       "      <td>8</td>\n",
       "    </tr>\n",
       "    <tr>\n",
       "      <th>447</th>\n",
       "      <td>SNES</td>\n",
       "      <td>1995</td>\n",
       "      <td>6</td>\n",
       "      <td>Sports</td>\n",
       "      <td>9</td>\n",
       "    </tr>\n",
       "    <tr>\n",
       "      <th>448</th>\n",
       "      <td>SNES</td>\n",
       "      <td>1995</td>\n",
       "      <td>6</td>\n",
       "      <td>Strategy</td>\n",
       "      <td>4</td>\n",
       "    </tr>\n",
       "    <tr>\n",
       "      <th>449</th>\n",
       "      <td>PS</td>\n",
       "      <td>2003</td>\n",
       "      <td>1</td>\n",
       "      <td>Sports</td>\n",
       "      <td>1</td>\n",
       "    </tr>\n",
       "  </tbody>\n",
       "</table>\n",
       "<p>450 rows × 5 columns</p>\n",
       "</div>"
      ],
      "text/plain": [
       "    Platform  Year  Games per Platform       Genre  Games per Genre\n",
       "0       2600  1980                   5    Fighting                1\n",
       "1       2600  1980                   5        Misc                2\n",
       "2       2600  1980                   5     Shooter                1\n",
       "3       2600  1980                   5      Sports                1\n",
       "4       2600  1981                  36      Action               20\n",
       "..       ...   ...                 ...         ...              ...\n",
       "445     SNES  1995                   6     Shooter               15\n",
       "446     SNES  1995                   6  Simulation                8\n",
       "447     SNES  1995                   6      Sports                9\n",
       "448     SNES  1995                   6    Strategy                4\n",
       "449       PS  2003                   1      Sports                1\n",
       "\n",
       "[450 rows x 5 columns]"
      ]
     },
     "execution_count": 39,
     "metadata": {},
     "output_type": "execute_result"
    }
   ],
   "source": [
    "genre_platform = games_by_year.merge(genre_by_year, how='inner', on=\"Year\")\n",
    "genre_platform"
   ]
  },
  {
   "cell_type": "code",
   "execution_count": 40,
   "metadata": {
    "scrolled": true
   },
   "outputs": [],
   "source": [
    "from bubbly.bubbly import bubbleplot"
   ]
  },
  {
   "cell_type": "raw",
   "metadata": {},
   "source": [
    "fig = px.scatter(genre,x=”GDPperCap”, y=”LifeExp”,animation_frame=”Year”, \n",
    " animation_group=”Country”,size=”Population”, \n",
    " color=”Continent_Name”,\n",
    " hover_name=”Country”, log_x=True, \n",
    " size_max=45,range_x=[200,150000], range_y=[10,100]\n",
    " )\n",
    "fig.layout.updatemenus[0].buttons[0].args[1][“frame”][“duration”] = 700\n",
    "fig.show()"
   ]
  },
  {
   "cell_type": "code",
   "execution_count": 41,
   "metadata": {
    "scrolled": true
   },
   "outputs": [
    {
     "data": {
      "application/vnd.plotly.v1+json": {
       "config": {
        "plotlyServerURL": "https://plot.ly"
       },
       "data": [
        {
         "hovertemplate": "<b>%{hovertext}</b><br><br>Platform=2600<br>Year=1980<br>Games per Genre=%{x}<br>Games per Platform=%{marker.size}<extra></extra>",
         "hovertext": [
          "Fighting",
          "Misc",
          "Shooter",
          "Sports"
         ],
         "ids": [
          "Fighting",
          "Misc",
          "Shooter",
          "Sports"
         ],
         "legendgroup": "2600",
         "marker": {
          "color": "#636efa",
          "size": [
           5,
           5,
           5,
           5
          ],
          "sizemode": "area",
          "sizeref": 0.42,
          "symbol": "circle"
         },
         "mode": "markers",
         "name": "2600",
         "orientation": "v",
         "showlegend": true,
         "type": "scatter",
         "x": [
          1,
          2,
          1,
          1
         ],
         "xaxis": "x",
         "y": [
          5,
          5,
          5,
          5
         ],
         "yaxis": "y"
        }
       ],
       "frames": [
        {
         "data": [
          {
           "hovertemplate": "<b>%{hovertext}</b><br><br>Platform=2600<br>Year=1980<br>Games per Genre=%{x}<br>Games per Platform=%{marker.size}<extra></extra>",
           "hovertext": [
            "Fighting",
            "Misc",
            "Shooter",
            "Sports"
           ],
           "ids": [
            "Fighting",
            "Misc",
            "Shooter",
            "Sports"
           ],
           "legendgroup": "2600",
           "marker": {
            "color": "#636efa",
            "size": [
             5,
             5,
             5,
             5
            ],
            "sizemode": "area",
            "sizeref": 0.42,
            "symbol": "circle"
           },
           "mode": "markers",
           "name": "2600",
           "orientation": "v",
           "showlegend": true,
           "type": "scatter",
           "x": [
            1,
            2,
            1,
            1
           ],
           "xaxis": "x",
           "y": [
            5,
            5,
            5,
            5
           ],
           "yaxis": "y"
          }
         ],
         "name": "1980"
        },
        {
         "data": [
          {
           "hovertemplate": "<b>%{hovertext}</b><br><br>Platform=2600<br>Year=1981<br>Games per Genre=%{x}<br>Games per Platform=%{marker.size}<extra></extra>",
           "hovertext": [
            "Action",
            "Platform",
            "Puzzle",
            "Racing",
            "Shooter",
            "Simulation",
            "Sports"
           ],
           "ids": [
            "Action",
            "Platform",
            "Puzzle",
            "Racing",
            "Shooter",
            "Simulation",
            "Sports"
           ],
           "legendgroup": "2600",
           "marker": {
            "color": "#636efa",
            "size": [
             36,
             36,
             36,
             36,
             36,
             36,
             36
            ],
            "sizemode": "area",
            "sizeref": 0.42,
            "symbol": "circle"
           },
           "mode": "markers",
           "name": "2600",
           "orientation": "v",
           "showlegend": true,
           "type": "scatter",
           "x": [
            20,
            1,
            2,
            1,
            8,
            1,
            3
           ],
           "xaxis": "x",
           "y": [
            36,
            36,
            36,
            36,
            36,
            36,
            36
           ],
           "yaxis": "y"
          }
         ],
         "name": "1981"
        },
        {
         "data": [
          {
           "hovertemplate": "<b>%{hovertext}</b><br><br>Platform=2600<br>Year=1982<br>Games per Genre=%{x}<br>Games per Platform=%{marker.size}<extra></extra>",
           "hovertext": [
            "Action",
            "Misc",
            "Platform",
            "Puzzle",
            "Racing",
            "Shooter",
            "Sports"
           ],
           "ids": [
            "Action",
            "Misc",
            "Platform",
            "Puzzle",
            "Racing",
            "Shooter",
            "Sports"
           ],
           "legendgroup": "2600",
           "marker": {
            "color": "#636efa",
            "size": [
             26,
             26,
             26,
             26,
             26,
             26,
             26
            ],
            "sizemode": "area",
            "sizeref": 0.42,
            "symbol": "circle"
           },
           "mode": "markers",
           "name": "2600",
           "orientation": "v",
           "showlegend": true,
           "type": "scatter",
           "x": [
            10,
            1,
            5,
            2,
            2,
            4,
            2
           ],
           "xaxis": "x",
           "y": [
            26,
            26,
            26,
            26,
            26,
            26,
            26
           ],
           "yaxis": "y"
          }
         ],
         "name": "1982"
        },
        {
         "data": [
          {
           "hovertemplate": "<b>%{hovertext}</b><br><br>Platform=2600<br>Year=1983<br>Games per Genre=%{x}<br>Games per Platform=%{marker.size}<extra></extra>",
           "hovertext": [
            "Action",
            "Platform",
            "Puzzle",
            "Shooter",
            "Sports"
           ],
           "ids": [
            "Action",
            "Platform",
            "Puzzle",
            "Shooter",
            "Sports"
           ],
           "legendgroup": "2600",
           "marker": {
            "color": "#636efa",
            "size": [
             8,
             8,
             8,
             8,
             8
            ],
            "sizemode": "area",
            "sizeref": 0.42,
            "symbol": "circle"
           },
           "mode": "markers",
           "name": "2600",
           "orientation": "v",
           "showlegend": true,
           "type": "scatter",
           "x": [
            5,
            2,
            1,
            1,
            1
           ],
           "xaxis": "x",
           "y": [
            8,
            8,
            8,
            8,
            8
           ],
           "yaxis": "y"
          },
          {
           "hovertemplate": "<b>%{hovertext}</b><br><br>Platform=NES<br>Year=1983<br>Games per Genre=%{x}<br>Games per Platform=%{marker.size}<extra></extra>",
           "hovertext": [
            "Action",
            "Platform",
            "Puzzle",
            "Shooter",
            "Sports"
           ],
           "ids": [
            "Action",
            "Platform",
            "Puzzle",
            "Shooter",
            "Sports"
           ],
           "legendgroup": "NES",
           "marker": {
            "color": "#EF553B",
            "size": [
             2,
             2,
             2,
             2,
             2
            ],
            "sizemode": "area",
            "sizeref": 0.42,
            "symbol": "circle"
           },
           "mode": "markers",
           "name": "NES",
           "orientation": "v",
           "showlegend": true,
           "type": "scatter",
           "x": [
            5,
            2,
            1,
            1,
            1
           ],
           "xaxis": "x",
           "y": [
            2,
            2,
            2,
            2,
            2
           ],
           "yaxis": "y"
          }
         ],
         "name": "1983"
        },
        {
         "data": [
          {
           "hovertemplate": "<b>%{hovertext}</b><br><br>Platform=2600<br>Year=1984<br>Games per Genre=%{x}<br>Games per Platform=%{marker.size}<extra></extra>",
           "hovertext": [
            "Action",
            "Puzzle",
            "Racing",
            "Shooter",
            "Sports"
           ],
           "ids": [
            "Action",
            "Puzzle",
            "Racing",
            "Shooter",
            "Sports"
           ],
           "legendgroup": "2600",
           "marker": {
            "color": "#636efa",
            "size": [
             1,
             1,
             1,
             1,
             1
            ],
            "sizemode": "area",
            "sizeref": 0.42,
            "symbol": "circle"
           },
           "mode": "markers",
           "name": "2600",
           "orientation": "v",
           "showlegend": true,
           "type": "scatter",
           "x": [
            1,
            1,
            2,
            2,
            2
           ],
           "xaxis": "x",
           "y": [
            1,
            1,
            1,
            1,
            1
           ],
           "yaxis": "y"
          },
          {
           "hovertemplate": "<b>%{hovertext}</b><br><br>Platform=NES<br>Year=1984<br>Games per Genre=%{x}<br>Games per Platform=%{marker.size}<extra></extra>",
           "hovertext": [
            "Action",
            "Puzzle",
            "Racing",
            "Shooter",
            "Sports"
           ],
           "ids": [
            "Action",
            "Puzzle",
            "Racing",
            "Shooter",
            "Sports"
           ],
           "legendgroup": "NES",
           "marker": {
            "color": "#EF553B",
            "size": [
             7,
             7,
             7,
             7,
             7
            ],
            "sizemode": "area",
            "sizeref": 0.42,
            "symbol": "circle"
           },
           "mode": "markers",
           "name": "NES",
           "orientation": "v",
           "showlegend": true,
           "type": "scatter",
           "x": [
            1,
            1,
            2,
            2,
            2
           ],
           "xaxis": "x",
           "y": [
            7,
            7,
            7,
            7,
            7
           ],
           "yaxis": "y"
          }
         ],
         "name": "1984"
        },
        {
         "data": [
          {
           "hovertemplate": "<b>%{hovertext}</b><br><br>Platform=2600<br>Year=1985<br>Games per Genre=%{x}<br>Games per Platform=%{marker.size}<extra></extra>",
           "hovertext": [
            "Action",
            "Platform",
            "Puzzle",
            "Shooter",
            "Sports"
           ],
           "ids": [
            "Action",
            "Platform",
            "Puzzle",
            "Shooter",
            "Sports"
           ],
           "legendgroup": "2600",
           "marker": {
            "color": "#636efa",
            "size": [
             1,
             1,
             1,
             1,
             1
            ],
            "sizemode": "area",
            "sizeref": 0.42,
            "symbol": "circle"
           },
           "mode": "markers",
           "name": "2600",
           "orientation": "v",
           "showlegend": true,
           "type": "scatter",
           "x": [
            1,
            4,
            3,
            1,
            1
           ],
           "xaxis": "x",
           "y": [
            1,
            1,
            1,
            1,
            1
           ],
           "yaxis": "y"
          },
          {
           "hovertemplate": "<b>%{hovertext}</b><br><br>Platform=NES<br>Year=1985<br>Games per Genre=%{x}<br>Games per Platform=%{marker.size}<extra></extra>",
           "hovertext": [
            "Action",
            "Platform",
            "Puzzle",
            "Shooter",
            "Sports"
           ],
           "ids": [
            "Action",
            "Platform",
            "Puzzle",
            "Shooter",
            "Sports"
           ],
           "legendgroup": "NES",
           "marker": {
            "color": "#EF553B",
            "size": [
             9,
             9,
             9,
             9,
             9
            ],
            "sizemode": "area",
            "sizeref": 0.42,
            "symbol": "circle"
           },
           "mode": "markers",
           "name": "NES",
           "orientation": "v",
           "showlegend": true,
           "type": "scatter",
           "x": [
            1,
            4,
            3,
            1,
            1
           ],
           "xaxis": "x",
           "y": [
            9,
            9,
            9,
            9,
            9
           ],
           "yaxis": "y"
          }
         ],
         "name": "1985"
        },
        {
         "data": [
          {
           "hovertemplate": "<b>%{hovertext}</b><br><br>Platform=2600<br>Year=1986<br>Games per Genre=%{x}<br>Games per Platform=%{marker.size}<extra></extra>",
           "hovertext": [
            "Action",
            "Platform",
            "Racing",
            "Role-Playing",
            "Shooter",
            "Sports"
           ],
           "ids": [
            "Action",
            "Platform",
            "Racing",
            "Role-Playing",
            "Shooter",
            "Sports"
           ],
           "legendgroup": "2600",
           "marker": {
            "color": "#636efa",
            "size": [
             2,
             2,
             2,
             2,
             2,
             2
            ],
            "sizemode": "area",
            "sizeref": 0.42,
            "symbol": "circle"
           },
           "mode": "markers",
           "name": "2600",
           "orientation": "v",
           "showlegend": true,
           "type": "scatter",
           "x": [
            3,
            2,
            1,
            1,
            3,
            2
           ],
           "xaxis": "x",
           "y": [
            2,
            2,
            2,
            2,
            2,
            2
           ],
           "yaxis": "y"
          },
          {
           "hovertemplate": "<b>%{hovertext}</b><br><br>Platform=NES<br>Year=1986<br>Games per Genre=%{x}<br>Games per Platform=%{marker.size}<extra></extra>",
           "hovertext": [
            "Action",
            "Platform",
            "Racing",
            "Role-Playing",
            "Shooter",
            "Sports"
           ],
           "ids": [
            "Action",
            "Platform",
            "Racing",
            "Role-Playing",
            "Shooter",
            "Sports"
           ],
           "legendgroup": "NES",
           "marker": {
            "color": "#EF553B",
            "size": [
             10,
             10,
             10,
             10,
             10,
             10
            ],
            "sizemode": "area",
            "sizeref": 0.42,
            "symbol": "circle"
           },
           "mode": "markers",
           "name": "NES",
           "orientation": "v",
           "showlegend": true,
           "type": "scatter",
           "x": [
            3,
            2,
            1,
            1,
            3,
            2
           ],
           "xaxis": "x",
           "y": [
            10,
            10,
            10,
            10,
            10,
            10
           ],
           "yaxis": "y"
          }
         ],
         "name": "1986"
        },
        {
         "data": [
          {
           "hovertemplate": "<b>%{hovertext}</b><br><br>Platform=2600<br>Year=1987<br>Games per Genre=%{x}<br>Games per Platform=%{marker.size}<extra></extra>",
           "hovertext": [
            "Action",
            "Adventure",
            "Fighting",
            "Platform",
            "Role-Playing",
            "Shooter",
            "Sports"
           ],
           "ids": [
            "Action",
            "Adventure",
            "Fighting",
            "Platform",
            "Role-Playing",
            "Shooter",
            "Sports"
           ],
           "legendgroup": "2600",
           "marker": {
            "color": "#636efa",
            "size": [
             6,
             6,
             6,
             6,
             6,
             6,
             6
            ],
            "sizemode": "area",
            "sizeref": 0.42,
            "symbol": "circle"
           },
           "mode": "markers",
           "name": "2600",
           "orientation": "v",
           "showlegend": true,
           "type": "scatter",
           "x": [
            2,
            1,
            2,
            1,
            2,
            2,
            2
           ],
           "xaxis": "x",
           "y": [
            6,
            6,
            6,
            6,
            6,
            6,
            6
           ],
           "yaxis": "y"
          },
          {
           "hovertemplate": "<b>%{hovertext}</b><br><br>Platform=NES<br>Year=1987<br>Games per Genre=%{x}<br>Games per Platform=%{marker.size}<extra></extra>",
           "hovertext": [
            "Action",
            "Adventure",
            "Fighting",
            "Platform",
            "Role-Playing",
            "Shooter",
            "Sports"
           ],
           "ids": [
            "Action",
            "Adventure",
            "Fighting",
            "Platform",
            "Role-Playing",
            "Shooter",
            "Sports"
           ],
           "legendgroup": "NES",
           "marker": {
            "color": "#EF553B",
            "size": [
             6,
             6,
             6,
             6,
             6,
             6,
             6
            ],
            "sizemode": "area",
            "sizeref": 0.42,
            "symbol": "circle"
           },
           "mode": "markers",
           "name": "NES",
           "orientation": "v",
           "showlegend": true,
           "type": "scatter",
           "x": [
            2,
            1,
            2,
            1,
            2,
            2,
            2
           ],
           "xaxis": "x",
           "y": [
            6,
            6,
            6,
            6,
            6,
            6,
            6
           ],
           "yaxis": "y"
          }
         ],
         "name": "1987"
        },
        {
         "data": [
          {
           "hovertemplate": "<b>%{hovertext}</b><br><br>Platform=2600<br>Year=1988<br>Games per Genre=%{x}<br>Games per Platform=%{marker.size}<extra></extra>",
           "hovertext": [
            "Action",
            "Platform",
            "Puzzle",
            "Racing",
            "Shooter",
            "Sports"
           ],
           "ids": [
            "Action",
            "Platform",
            "Puzzle",
            "Racing",
            "Shooter",
            "Sports"
           ],
           "legendgroup": "2600",
           "marker": {
            "color": "#636efa",
            "size": [
             2,
             2,
             2,
             2,
             2,
             2
            ],
            "sizemode": "area",
            "sizeref": 0.42,
            "symbol": "circle"
           },
           "mode": "markers",
           "name": "2600",
           "orientation": "v",
           "showlegend": true,
           "type": "scatter",
           "x": [
            1,
            3,
            1,
            1,
            1,
            1
           ],
           "xaxis": "x",
           "y": [
            2,
            2,
            2,
            2,
            2,
            2
           ],
           "yaxis": "y"
          },
          {
           "hovertemplate": "<b>%{hovertext}</b><br><br>Platform=NES<br>Year=1988<br>Games per Genre=%{x}<br>Games per Platform=%{marker.size}<extra></extra>",
           "hovertext": [
            "Action",
            "Platform",
            "Puzzle",
            "Racing",
            "Shooter",
            "Sports"
           ],
           "ids": [
            "Action",
            "Platform",
            "Puzzle",
            "Racing",
            "Shooter",
            "Sports"
           ],
           "legendgroup": "NES",
           "marker": {
            "color": "#EF553B",
            "size": [
             6,
             6,
             6,
             6,
             6,
             6
            ],
            "sizemode": "area",
            "sizeref": 0.42,
            "symbol": "circle"
           },
           "mode": "markers",
           "name": "NES",
           "orientation": "v",
           "showlegend": true,
           "type": "scatter",
           "x": [
            1,
            3,
            1,
            1,
            1,
            1
           ],
           "xaxis": "x",
           "y": [
            6,
            6,
            6,
            6,
            6,
            6
           ],
           "yaxis": "y"
          }
         ],
         "name": "1988"
        },
        {
         "data": [
          {
           "hovertemplate": "<b>%{hovertext}</b><br><br>Platform=2600<br>Year=1989<br>Games per Genre=%{x}<br>Games per Platform=%{marker.size}<extra></extra>",
           "hovertext": [
            "Action",
            "Puzzle"
           ],
           "ids": [
            "Action",
            "Puzzle"
           ],
           "legendgroup": "2600",
           "marker": {
            "color": "#636efa",
            "size": [
             1,
             1
            ],
            "sizemode": "area",
            "sizeref": 0.42,
            "symbol": "circle"
           },
           "mode": "markers",
           "name": "2600",
           "orientation": "v",
           "showlegend": true,
           "type": "scatter",
           "x": [
            2,
            1
           ],
           "xaxis": "x",
           "y": [
            1,
            1
           ],
           "yaxis": "y"
          },
          {
           "hovertemplate": "<b>%{hovertext}</b><br><br>Platform=NES<br>Year=1989<br>Games per Genre=%{x}<br>Games per Platform=%{marker.size}<extra></extra>",
           "hovertext": [
            "Action",
            "Puzzle"
           ],
           "ids": [
            "Action",
            "Puzzle"
           ],
           "legendgroup": "NES",
           "marker": {
            "color": "#EF553B",
            "size": [
             2,
             2
            ],
            "sizemode": "area",
            "sizeref": 0.42,
            "symbol": "circle"
           },
           "mode": "markers",
           "name": "NES",
           "orientation": "v",
           "showlegend": true,
           "type": "scatter",
           "x": [
            2,
            1
           ],
           "xaxis": "x",
           "y": [
            2,
            2
           ],
           "yaxis": "y"
          }
         ],
         "name": "1989"
        },
        {
         "data": [
          {
           "hovertemplate": "<b>%{hovertext}</b><br><br>Platform=NES<br>Year=1990<br>Games per Genre=%{x}<br>Games per Platform=%{marker.size}<extra></extra>",
           "hovertext": [
            "Action",
            "Platform",
            "Puzzle",
            "Racing",
            "Simulation",
            "Sports"
           ],
           "ids": [
            "Action",
            "Platform",
            "Puzzle",
            "Racing",
            "Simulation",
            "Sports"
           ],
           "legendgroup": "NES",
           "marker": {
            "color": "#EF553B",
            "size": [
             4,
             4,
             4,
             4,
             4,
             4
            ],
            "sizemode": "area",
            "sizeref": 0.42,
            "symbol": "circle"
           },
           "mode": "markers",
           "name": "NES",
           "orientation": "v",
           "showlegend": true,
           "type": "scatter",
           "x": [
            3,
            1,
            1,
            1,
            1,
            1
           ],
           "xaxis": "x",
           "y": [
            4,
            4,
            4,
            4,
            4,
            4
           ],
           "yaxis": "y"
          },
          {
           "hovertemplate": "<b>%{hovertext}</b><br><br>Platform=GEN<br>Year=1990<br>Games per Genre=%{x}<br>Games per Platform=%{marker.size}<extra></extra>",
           "hovertext": [
            "Action",
            "Platform",
            "Puzzle",
            "Racing",
            "Simulation",
            "Sports"
           ],
           "ids": [
            "Action",
            "Platform",
            "Puzzle",
            "Racing",
            "Simulation",
            "Sports"
           ],
           "legendgroup": "GEN",
           "marker": {
            "color": "#00cc96",
            "size": [
             1,
             1,
             1,
             1,
             1,
             1
            ],
            "sizemode": "area",
            "sizeref": 0.42,
            "symbol": "circle"
           },
           "mode": "markers",
           "name": "GEN",
           "orientation": "v",
           "showlegend": true,
           "type": "scatter",
           "x": [
            3,
            1,
            1,
            1,
            1,
            1
           ],
           "xaxis": "x",
           "y": [
            1,
            1,
            1,
            1,
            1,
            1
           ],
           "yaxis": "y"
          },
          {
           "hovertemplate": "<b>%{hovertext}</b><br><br>Platform=SNES<br>Year=1990<br>Games per Genre=%{x}<br>Games per Platform=%{marker.size}<extra></extra>",
           "hovertext": [
            "Action",
            "Platform",
            "Puzzle",
            "Racing",
            "Simulation",
            "Sports"
           ],
           "ids": [
            "Action",
            "Platform",
            "Puzzle",
            "Racing",
            "Simulation",
            "Sports"
           ],
           "legendgroup": "SNES",
           "marker": {
            "color": "#ab63fa",
            "size": [
             3,
             3,
             3,
             3,
             3,
             3
            ],
            "sizemode": "area",
            "sizeref": 0.42,
            "symbol": "circle"
           },
           "mode": "markers",
           "name": "SNES",
           "orientation": "v",
           "showlegend": true,
           "type": "scatter",
           "x": [
            3,
            1,
            1,
            1,
            1,
            1
           ],
           "xaxis": "x",
           "y": [
            3,
            3,
            3,
            3,
            3,
            3
           ],
           "yaxis": "y"
          }
         ],
         "name": "1990"
        },
        {
         "data": [
          {
           "hovertemplate": "<b>%{hovertext}</b><br><br>Platform=NES<br>Year=1991<br>Games per Genre=%{x}<br>Games per Platform=%{marker.size}<extra></extra>",
           "hovertext": [
            "Platform",
            "Puzzle",
            "Role-Playing",
            "Shooter",
            "Simulation",
            "Sports",
            "Strategy"
           ],
           "ids": [
            "Platform",
            "Puzzle",
            "Role-Playing",
            "Shooter",
            "Simulation",
            "Sports",
            "Strategy"
           ],
           "legendgroup": "NES",
           "marker": {
            "color": "#EF553B",
            "size": [
             3,
             3,
             3,
             3,
             3,
             3,
             3
            ],
            "sizemode": "area",
            "sizeref": 0.42,
            "symbol": "circle"
           },
           "mode": "markers",
           "name": "NES",
           "orientation": "v",
           "showlegend": true,
           "type": "scatter",
           "x": [
            4,
            1,
            1,
            3,
            2,
            5,
            1
           ],
           "xaxis": "x",
           "y": [
            3,
            3,
            3,
            3,
            3,
            3,
            3
           ],
           "yaxis": "y"
          },
          {
           "hovertemplate": "<b>%{hovertext}</b><br><br>Platform=GEN<br>Year=1991<br>Games per Genre=%{x}<br>Games per Platform=%{marker.size}<extra></extra>",
           "hovertext": [
            "Platform",
            "Puzzle",
            "Role-Playing",
            "Shooter",
            "Simulation",
            "Sports",
            "Strategy"
           ],
           "ids": [
            "Platform",
            "Puzzle",
            "Role-Playing",
            "Shooter",
            "Simulation",
            "Sports",
            "Strategy"
           ],
           "legendgroup": "GEN",
           "marker": {
            "color": "#00cc96",
            "size": [
             1,
             1,
             1,
             1,
             1,
             1,
             1
            ],
            "sizemode": "area",
            "sizeref": 0.42,
            "symbol": "circle"
           },
           "mode": "markers",
           "name": "GEN",
           "orientation": "v",
           "showlegend": true,
           "type": "scatter",
           "x": [
            4,
            1,
            1,
            3,
            2,
            5,
            1
           ],
           "xaxis": "x",
           "y": [
            1,
            1,
            1,
            1,
            1,
            1,
            1
           ],
           "yaxis": "y"
          },
          {
           "hovertemplate": "<b>%{hovertext}</b><br><br>Platform=SNES<br>Year=1991<br>Games per Genre=%{x}<br>Games per Platform=%{marker.size}<extra></extra>",
           "hovertext": [
            "Platform",
            "Puzzle",
            "Role-Playing",
            "Shooter",
            "Simulation",
            "Sports",
            "Strategy"
           ],
           "ids": [
            "Platform",
            "Puzzle",
            "Role-Playing",
            "Shooter",
            "Simulation",
            "Sports",
            "Strategy"
           ],
           "legendgroup": "SNES",
           "marker": {
            "color": "#ab63fa",
            "size": [
             13,
             13,
             13,
             13,
             13,
             13,
             13
            ],
            "sizemode": "area",
            "sizeref": 0.42,
            "symbol": "circle"
           },
           "mode": "markers",
           "name": "SNES",
           "orientation": "v",
           "showlegend": true,
           "type": "scatter",
           "x": [
            4,
            1,
            1,
            3,
            2,
            5,
            1
           ],
           "xaxis": "x",
           "y": [
            13,
            13,
            13,
            13,
            13,
            13,
            13
           ],
           "yaxis": "y"
          }
         ],
         "name": "1991"
        },
        {
         "data": [
          {
           "hovertemplate": "<b>%{hovertext}</b><br><br>Platform=NES<br>Year=1992<br>Games per Genre=%{x}<br>Games per Platform=%{marker.size}<extra></extra>",
           "hovertext": [
            "Adventure",
            "Fighting",
            "Misc",
            "Platform",
            "Puzzle",
            "Racing",
            "Shooter",
            "Sports",
            "Strategy"
           ],
           "ids": [
            "Adventure",
            "Fighting",
            "Misc",
            "Platform",
            "Puzzle",
            "Racing",
            "Shooter",
            "Sports",
            "Strategy"
           ],
           "legendgroup": "NES",
           "marker": {
            "color": "#EF553B",
            "size": [
             1,
             1,
             1,
             1,
             1,
             1,
             1,
             1,
             1
            ],
            "sizemode": "area",
            "sizeref": 0.42,
            "symbol": "circle"
           },
           "mode": "markers",
           "name": "NES",
           "orientation": "v",
           "showlegend": true,
           "type": "scatter",
           "x": [
            1,
            5,
            1,
            2,
            1,
            1,
            1,
            2,
            1
           ],
           "xaxis": "x",
           "y": [
            1,
            1,
            1,
            1,
            1,
            1,
            1,
            1,
            1
           ],
           "yaxis": "y"
          },
          {
           "hovertemplate": "<b>%{hovertext}</b><br><br>Platform=GEN<br>Year=1992<br>Games per Genre=%{x}<br>Games per Platform=%{marker.size}<extra></extra>",
           "hovertext": [
            "Adventure",
            "Fighting",
            "Misc",
            "Platform",
            "Puzzle",
            "Racing",
            "Shooter",
            "Sports",
            "Strategy"
           ],
           "ids": [
            "Adventure",
            "Fighting",
            "Misc",
            "Platform",
            "Puzzle",
            "Racing",
            "Shooter",
            "Sports",
            "Strategy"
           ],
           "legendgroup": "GEN",
           "marker": {
            "color": "#00cc96",
            "size": [
             6,
             6,
             6,
             6,
             6,
             6,
             6,
             6,
             6
            ],
            "sizemode": "area",
            "sizeref": 0.42,
            "symbol": "circle"
           },
           "mode": "markers",
           "name": "GEN",
           "orientation": "v",
           "showlegend": true,
           "type": "scatter",
           "x": [
            1,
            5,
            1,
            2,
            1,
            1,
            1,
            2,
            1
           ],
           "xaxis": "x",
           "y": [
            6,
            6,
            6,
            6,
            6,
            6,
            6,
            6,
            6
           ],
           "yaxis": "y"
          },
          {
           "hovertemplate": "<b>%{hovertext}</b><br><br>Platform=SNES<br>Year=1992<br>Games per Genre=%{x}<br>Games per Platform=%{marker.size}<extra></extra>",
           "hovertext": [
            "Adventure",
            "Fighting",
            "Misc",
            "Platform",
            "Puzzle",
            "Racing",
            "Shooter",
            "Sports",
            "Strategy"
           ],
           "ids": [
            "Adventure",
            "Fighting",
            "Misc",
            "Platform",
            "Puzzle",
            "Racing",
            "Shooter",
            "Sports",
            "Strategy"
           ],
           "legendgroup": "SNES",
           "marker": {
            "color": "#ab63fa",
            "size": [
             8,
             8,
             8,
             8,
             8,
             8,
             8,
             8,
             8
            ],
            "sizemode": "area",
            "sizeref": 0.42,
            "symbol": "circle"
           },
           "mode": "markers",
           "name": "SNES",
           "orientation": "v",
           "showlegend": true,
           "type": "scatter",
           "x": [
            1,
            5,
            1,
            2,
            1,
            1,
            1,
            2,
            1
           ],
           "xaxis": "x",
           "y": [
            8,
            8,
            8,
            8,
            8,
            8,
            8,
            8,
            8
           ],
           "yaxis": "y"
          }
         ],
         "name": "1992"
        },
        {
         "data": [
          {
           "hovertemplate": "<b>%{hovertext}</b><br><br>Platform=NES<br>Year=1993<br>Games per Genre=%{x}<br>Games per Platform=%{marker.size}<extra></extra>",
           "hovertext": [
            "Action",
            "Adventure",
            "Fighting",
            "Platform",
            "Puzzle",
            "Racing",
            "Role-Playing",
            "Shooter",
            "Strategy"
           ],
           "ids": [
            "Action",
            "Adventure",
            "Fighting",
            "Platform",
            "Puzzle",
            "Racing",
            "Role-Playing",
            "Shooter",
            "Strategy"
           ],
           "legendgroup": "NES",
           "marker": {
            "color": "#EF553B",
            "size": [
             3,
             3,
             3,
             3,
             3,
             3,
             3,
             3,
             3
            ],
            "sizemode": "area",
            "sizeref": 0.42,
            "symbol": "circle"
           },
           "mode": "markers",
           "name": "NES",
           "orientation": "v",
           "showlegend": true,
           "type": "scatter",
           "x": [
            1,
            1,
            3,
            5,
            1,
            2,
            2,
            2,
            1
           ],
           "xaxis": "x",
           "y": [
            3,
            3,
            3,
            3,
            3,
            3,
            3,
            3,
            3
           ],
           "yaxis": "y"
          },
          {
           "hovertemplate": "<b>%{hovertext}</b><br><br>Platform=GEN<br>Year=1993<br>Games per Genre=%{x}<br>Games per Platform=%{marker.size}<extra></extra>",
           "hovertext": [
            "Action",
            "Adventure",
            "Fighting",
            "Platform",
            "Puzzle",
            "Racing",
            "Role-Playing",
            "Shooter",
            "Strategy"
           ],
           "ids": [
            "Action",
            "Adventure",
            "Fighting",
            "Platform",
            "Puzzle",
            "Racing",
            "Role-Playing",
            "Shooter",
            "Strategy"
           ],
           "legendgroup": "GEN",
           "marker": {
            "color": "#00cc96",
            "size": [
             4,
             4,
             4,
             4,
             4,
             4,
             4,
             4,
             4
            ],
            "sizemode": "area",
            "sizeref": 0.42,
            "symbol": "circle"
           },
           "mode": "markers",
           "name": "GEN",
           "orientation": "v",
           "showlegend": true,
           "type": "scatter",
           "x": [
            1,
            1,
            3,
            5,
            1,
            2,
            2,
            2,
            1
           ],
           "xaxis": "x",
           "y": [
            4,
            4,
            4,
            4,
            4,
            4,
            4,
            4,
            4
           ],
           "yaxis": "y"
          },
          {
           "hovertemplate": "<b>%{hovertext}</b><br><br>Platform=SNES<br>Year=1993<br>Games per Genre=%{x}<br>Games per Platform=%{marker.size}<extra></extra>",
           "hovertext": [
            "Action",
            "Adventure",
            "Fighting",
            "Platform",
            "Puzzle",
            "Racing",
            "Role-Playing",
            "Shooter",
            "Strategy"
           ],
           "ids": [
            "Action",
            "Adventure",
            "Fighting",
            "Platform",
            "Puzzle",
            "Racing",
            "Role-Playing",
            "Shooter",
            "Strategy"
           ],
           "legendgroup": "SNES",
           "marker": {
            "color": "#ab63fa",
            "size": [
             10,
             10,
             10,
             10,
             10,
             10,
             10,
             10,
             10
            ],
            "sizemode": "area",
            "sizeref": 0.42,
            "symbol": "circle"
           },
           "mode": "markers",
           "name": "SNES",
           "orientation": "v",
           "showlegend": true,
           "type": "scatter",
           "x": [
            1,
            1,
            3,
            5,
            1,
            2,
            2,
            2,
            1
           ],
           "xaxis": "x",
           "y": [
            10,
            10,
            10,
            10,
            10,
            10,
            10,
            10,
            10
           ],
           "yaxis": "y"
          },
          {
           "hovertemplate": "<b>%{hovertext}</b><br><br>Platform=SCD<br>Year=1993<br>Games per Genre=%{x}<br>Games per Platform=%{marker.size}<extra></extra>",
           "hovertext": [
            "Action",
            "Adventure",
            "Fighting",
            "Platform",
            "Puzzle",
            "Racing",
            "Role-Playing",
            "Shooter",
            "Strategy"
           ],
           "ids": [
            "Action",
            "Adventure",
            "Fighting",
            "Platform",
            "Puzzle",
            "Racing",
            "Role-Playing",
            "Shooter",
            "Strategy"
           ],
           "legendgroup": "SCD",
           "marker": {
            "color": "#FFA15A",
            "size": [
             1,
             1,
             1,
             1,
             1,
             1,
             1,
             1,
             1
            ],
            "sizemode": "area",
            "sizeref": 0.42,
            "symbol": "circle"
           },
           "mode": "markers",
           "name": "SCD",
           "orientation": "v",
           "showlegend": true,
           "type": "scatter",
           "x": [
            1,
            1,
            3,
            5,
            1,
            2,
            2,
            2,
            1
           ],
           "xaxis": "x",
           "y": [
            1,
            1,
            1,
            1,
            1,
            1,
            1,
            1,
            1
           ],
           "yaxis": "y"
          }
         ],
         "name": "1993"
        },
        {
         "data": [
          {
           "hovertemplate": "<b>%{hovertext}</b><br><br>Platform=GEN<br>Year=1994<br>Games per Genre=%{x}<br>Games per Platform=%{marker.size}<extra></extra>",
           "hovertext": [
            "Adventure",
            "Fighting",
            "Platform",
            "Puzzle",
            "Racing",
            "Shooter",
            "Simulation",
            "Sports",
            "Strategy"
           ],
           "ids": [
            "Adventure",
            "Fighting",
            "Platform",
            "Puzzle",
            "Racing",
            "Shooter",
            "Simulation",
            "Sports",
            "Strategy"
           ],
           "legendgroup": "GEN",
           "marker": {
            "color": "#00cc96",
            "size": [
             5,
             5,
             5,
             5,
             5,
             5,
             5,
             5,
             5
            ],
            "sizemode": "area",
            "sizeref": 0.42,
            "symbol": "circle"
           },
           "mode": "markers",
           "name": "GEN",
           "orientation": "v",
           "showlegend": true,
           "type": "scatter",
           "x": [
            2,
            12,
            4,
            1,
            4,
            6,
            4,
            9,
            1
           ],
           "xaxis": "x",
           "y": [
            5,
            5,
            5,
            5,
            5,
            5,
            5,
            5,
            5
           ],
           "yaxis": "y"
          },
          {
           "hovertemplate": "<b>%{hovertext}</b><br><br>Platform=SNES<br>Year=1994<br>Games per Genre=%{x}<br>Games per Platform=%{marker.size}<extra></extra>",
           "hovertext": [
            "Adventure",
            "Fighting",
            "Platform",
            "Puzzle",
            "Racing",
            "Shooter",
            "Simulation",
            "Sports",
            "Strategy"
           ],
           "ids": [
            "Adventure",
            "Fighting",
            "Platform",
            "Puzzle",
            "Racing",
            "Shooter",
            "Simulation",
            "Sports",
            "Strategy"
           ],
           "legendgroup": "SNES",
           "marker": {
            "color": "#ab63fa",
            "size": [
             10,
             10,
             10,
             10,
             10,
             10,
             10,
             10,
             10
            ],
            "sizemode": "area",
            "sizeref": 0.42,
            "symbol": "circle"
           },
           "mode": "markers",
           "name": "SNES",
           "orientation": "v",
           "showlegend": true,
           "type": "scatter",
           "x": [
            2,
            12,
            4,
            1,
            4,
            6,
            4,
            9,
            1
           ],
           "xaxis": "x",
           "y": [
            10,
            10,
            10,
            10,
            10,
            10,
            10,
            10,
            10
           ],
           "yaxis": "y"
          },
          {
           "hovertemplate": "<b>%{hovertext}</b><br><br>Platform=SCD<br>Year=1994<br>Games per Genre=%{x}<br>Games per Platform=%{marker.size}<extra></extra>",
           "hovertext": [
            "Adventure",
            "Fighting",
            "Platform",
            "Puzzle",
            "Racing",
            "Shooter",
            "Simulation",
            "Sports",
            "Strategy"
           ],
           "ids": [
            "Adventure",
            "Fighting",
            "Platform",
            "Puzzle",
            "Racing",
            "Shooter",
            "Simulation",
            "Sports",
            "Strategy"
           ],
           "legendgroup": "SCD",
           "marker": {
            "color": "#FFA15A",
            "size": [
             1,
             1,
             1,
             1,
             1,
             1,
             1,
             1,
             1
            ],
            "sizemode": "area",
            "sizeref": 0.42,
            "symbol": "circle"
           },
           "mode": "markers",
           "name": "SCD",
           "orientation": "v",
           "showlegend": true,
           "type": "scatter",
           "x": [
            2,
            12,
            4,
            1,
            4,
            6,
            4,
            9,
            1
           ],
           "xaxis": "x",
           "y": [
            1,
            1,
            1,
            1,
            1,
            1,
            1,
            1,
            1
           ],
           "yaxis": "y"
          },
          {
           "hovertemplate": "<b>%{hovertext}</b><br><br>Platform=PS<br>Year=1994<br>Games per Genre=%{x}<br>Games per Platform=%{marker.size}<extra></extra>",
           "hovertext": [
            "Adventure",
            "Fighting",
            "Platform",
            "Puzzle",
            "Racing",
            "Shooter",
            "Simulation",
            "Sports",
            "Strategy"
           ],
           "ids": [
            "Adventure",
            "Fighting",
            "Platform",
            "Puzzle",
            "Racing",
            "Shooter",
            "Simulation",
            "Sports",
            "Strategy"
           ],
           "legendgroup": "PS",
           "marker": {
            "color": "#19d3f3",
            "size": [
             9,
             9,
             9,
             9,
             9,
             9,
             9,
             9,
             9
            ],
            "sizemode": "area",
            "sizeref": 0.42,
            "symbol": "circle"
           },
           "mode": "markers",
           "name": "PS",
           "orientation": "v",
           "showlegend": true,
           "type": "scatter",
           "x": [
            2,
            12,
            4,
            1,
            4,
            6,
            4,
            9,
            1
           ],
           "xaxis": "x",
           "y": [
            9,
            9,
            9,
            9,
            9,
            9,
            9,
            9,
            9
           ],
           "yaxis": "y"
          },
          {
           "hovertemplate": "<b>%{hovertext}</b><br><br>Platform=SAT<br>Year=1994<br>Games per Genre=%{x}<br>Games per Platform=%{marker.size}<extra></extra>",
           "hovertext": [
            "Adventure",
            "Fighting",
            "Platform",
            "Puzzle",
            "Racing",
            "Shooter",
            "Simulation",
            "Sports",
            "Strategy"
           ],
           "ids": [
            "Adventure",
            "Fighting",
            "Platform",
            "Puzzle",
            "Racing",
            "Shooter",
            "Simulation",
            "Sports",
            "Strategy"
           ],
           "legendgroup": "SAT",
           "marker": {
            "color": "#FF6692",
            "size": [
             18,
             18,
             18,
             18,
             18,
             18,
             18,
             18,
             18
            ],
            "sizemode": "area",
            "sizeref": 0.42,
            "symbol": "circle"
           },
           "mode": "markers",
           "name": "SAT",
           "orientation": "v",
           "showlegend": true,
           "type": "scatter",
           "x": [
            2,
            12,
            4,
            1,
            4,
            6,
            4,
            9,
            1
           ],
           "xaxis": "x",
           "y": [
            18,
            18,
            18,
            18,
            18,
            18,
            18,
            18,
            18
           ],
           "yaxis": "y"
          }
         ],
         "name": "1994"
        },
        {
         "data": [
          {
           "hovertemplate": "<b>%{hovertext}</b><br><br>Platform=SNES<br>Year=1996<br>Games per Genre=%{x}<br>Games per Platform=%{marker.size}<extra></extra>",
           "hovertext": [
            "Action",
            "Adventure",
            "Fighting",
            "Misc",
            "Platform",
            "Puzzle",
            "Racing",
            "Role-Playing",
            "Shooter",
            "Simulation",
            "Sports",
            "Strategy"
           ],
           "ids": [
            "Action",
            "Adventure",
            "Fighting",
            "Misc",
            "Platform",
            "Puzzle",
            "Racing",
            "Role-Playing",
            "Shooter",
            "Simulation",
            "Sports",
            "Strategy"
           ],
           "legendgroup": "SNES",
           "marker": {
            "color": "#ab63fa",
            "size": [
             1,
             1,
             1,
             1,
             1,
             1,
             1,
             1,
             1,
             1,
             1,
             1
            ],
            "sizemode": "area",
            "sizeref": 0.42,
            "symbol": "circle"
           },
           "mode": "markers",
           "name": "SNES",
           "orientation": "v",
           "showlegend": true,
           "type": "scatter",
           "x": [
            16,
            6,
            15,
            7,
            8,
            2,
            19,
            5,
            15,
            7,
            33,
            4
           ],
           "xaxis": "x",
           "y": [
            1,
            1,
            1,
            1,
            1,
            1,
            1,
            1,
            1,
            1,
            1,
            1
           ],
           "yaxis": "y"
          },
          {
           "hovertemplate": "<b>%{hovertext}</b><br><br>Platform=PS<br>Year=1996<br>Games per Genre=%{x}<br>Games per Platform=%{marker.size}<extra></extra>",
           "hovertext": [
            "Action",
            "Adventure",
            "Fighting",
            "Misc",
            "Platform",
            "Puzzle",
            "Racing",
            "Role-Playing",
            "Shooter",
            "Simulation",
            "Sports",
            "Strategy"
           ],
           "ids": [
            "Action",
            "Adventure",
            "Fighting",
            "Misc",
            "Platform",
            "Puzzle",
            "Racing",
            "Role-Playing",
            "Shooter",
            "Simulation",
            "Sports",
            "Strategy"
           ],
           "legendgroup": "PS",
           "marker": {
            "color": "#19d3f3",
            "size": [
             118,
             118,
             118,
             118,
             118,
             118,
             118,
             118,
             118,
             118,
             118,
             118
            ],
            "sizemode": "area",
            "sizeref": 0.42,
            "symbol": "circle"
           },
           "mode": "markers",
           "name": "PS",
           "orientation": "v",
           "showlegend": true,
           "type": "scatter",
           "x": [
            16,
            6,
            15,
            7,
            8,
            2,
            19,
            5,
            15,
            7,
            33,
            4
           ],
           "xaxis": "x",
           "y": [
            118,
            118,
            118,
            118,
            118,
            118,
            118,
            118,
            118,
            118,
            118,
            118
           ],
           "yaxis": "y"
          },
          {
           "hovertemplate": "<b>%{hovertext}</b><br><br>Platform=SAT<br>Year=1996<br>Games per Genre=%{x}<br>Games per Platform=%{marker.size}<extra></extra>",
           "hovertext": [
            "Action",
            "Adventure",
            "Fighting",
            "Misc",
            "Platform",
            "Puzzle",
            "Racing",
            "Role-Playing",
            "Shooter",
            "Simulation",
            "Sports",
            "Strategy"
           ],
           "ids": [
            "Action",
            "Adventure",
            "Fighting",
            "Misc",
            "Platform",
            "Puzzle",
            "Racing",
            "Role-Playing",
            "Shooter",
            "Simulation",
            "Sports",
            "Strategy"
           ],
           "legendgroup": "SAT",
           "marker": {
            "color": "#FF6692",
            "size": [
             7,
             7,
             7,
             7,
             7,
             7,
             7,
             7,
             7,
             7,
             7,
             7
            ],
            "sizemode": "area",
            "sizeref": 0.42,
            "symbol": "circle"
           },
           "mode": "markers",
           "name": "SAT",
           "orientation": "v",
           "showlegend": true,
           "type": "scatter",
           "x": [
            16,
            6,
            15,
            7,
            8,
            2,
            19,
            5,
            15,
            7,
            33,
            4
           ],
           "xaxis": "x",
           "y": [
            7,
            7,
            7,
            7,
            7,
            7,
            7,
            7,
            7,
            7,
            7,
            7
           ],
           "yaxis": "y"
          },
          {
           "hovertemplate": "<b>%{hovertext}</b><br><br>Platform=N64<br>Year=1996<br>Games per Genre=%{x}<br>Games per Platform=%{marker.size}<extra></extra>",
           "hovertext": [
            "Action",
            "Adventure",
            "Fighting",
            "Misc",
            "Platform",
            "Puzzle",
            "Racing",
            "Role-Playing",
            "Shooter",
            "Simulation",
            "Sports",
            "Strategy"
           ],
           "ids": [
            "Action",
            "Adventure",
            "Fighting",
            "Misc",
            "Platform",
            "Puzzle",
            "Racing",
            "Role-Playing",
            "Shooter",
            "Simulation",
            "Sports",
            "Strategy"
           ],
           "legendgroup": "N64",
           "marker": {
            "color": "#B6E880",
            "size": [
             11,
             11,
             11,
             11,
             11,
             11,
             11,
             11,
             11,
             11,
             11,
             11
            ],
            "sizemode": "area",
            "sizeref": 0.42,
            "symbol": "circle"
           },
           "mode": "markers",
           "name": "N64",
           "orientation": "v",
           "showlegend": true,
           "type": "scatter",
           "x": [
            16,
            6,
            15,
            7,
            8,
            2,
            19,
            5,
            15,
            7,
            33,
            4
           ],
           "xaxis": "x",
           "y": [
            11,
            11,
            11,
            11,
            11,
            11,
            11,
            11,
            11,
            11,
            11,
            11
           ],
           "yaxis": "y"
          }
         ],
         "name": "1996"
        },
        {
         "data": [
          {
           "hovertemplate": "<b>%{hovertext}</b><br><br>Platform=PS<br>Year=1997<br>Games per Genre=%{x}<br>Games per Platform=%{marker.size}<extra></extra>",
           "hovertext": [
            "Action",
            "Adventure",
            "Fighting",
            "Misc",
            "Platform",
            "Puzzle",
            "Racing",
            "Role-Playing",
            "Shooter",
            "Simulation",
            "Sports",
            "Strategy"
           ],
           "ids": [
            "Action",
            "Adventure",
            "Fighting",
            "Misc",
            "Platform",
            "Puzzle",
            "Racing",
            "Role-Playing",
            "Shooter",
            "Simulation",
            "Sports",
            "Strategy"
           ],
           "legendgroup": "PS",
           "marker": {
            "color": "#19d3f3",
            "size": [
             134,
             134,
             134,
             134,
             134,
             134,
             134,
             134,
             134,
             134,
             134,
             134
            ],
            "sizemode": "area",
            "sizeref": 0.42,
            "symbol": "circle"
           },
           "mode": "markers",
           "name": "PS",
           "orientation": "v",
           "showlegend": true,
           "type": "scatter",
           "x": [
            21,
            5,
            17,
            5,
            12,
            8,
            28,
            8,
            18,
            11,
            30,
            5
           ],
           "xaxis": "x",
           "y": [
            134,
            134,
            134,
            134,
            134,
            134,
            134,
            134,
            134,
            134,
            134,
            134
           ],
           "yaxis": "y"
          },
          {
           "hovertemplate": "<b>%{hovertext}</b><br><br>Platform=N64<br>Year=1997<br>Games per Genre=%{x}<br>Games per Platform=%{marker.size}<extra></extra>",
           "hovertext": [
            "Action",
            "Adventure",
            "Fighting",
            "Misc",
            "Platform",
            "Puzzle",
            "Racing",
            "Role-Playing",
            "Shooter",
            "Simulation",
            "Sports",
            "Strategy"
           ],
           "ids": [
            "Action",
            "Adventure",
            "Fighting",
            "Misc",
            "Platform",
            "Puzzle",
            "Racing",
            "Role-Playing",
            "Shooter",
            "Simulation",
            "Sports",
            "Strategy"
           ],
           "legendgroup": "N64",
           "marker": {
            "color": "#B6E880",
            "size": [
             34,
             34,
             34,
             34,
             34,
             34,
             34,
             34,
             34,
             34,
             34,
             34
            ],
            "sizemode": "area",
            "sizeref": 0.42,
            "symbol": "circle"
           },
           "mode": "markers",
           "name": "N64",
           "orientation": "v",
           "showlegend": true,
           "type": "scatter",
           "x": [
            21,
            5,
            17,
            5,
            12,
            8,
            28,
            8,
            18,
            11,
            30,
            5
           ],
           "xaxis": "x",
           "y": [
            34,
            34,
            34,
            34,
            34,
            34,
            34,
            34,
            34,
            34,
            34,
            34
           ],
           "yaxis": "y"
          }
         ],
         "name": "1997"
        },
        {
         "data": [
          {
           "hovertemplate": "<b>%{hovertext}</b><br><br>Platform=PS<br>Year=1998<br>Games per Genre=%{x}<br>Games per Platform=%{marker.size}<extra></extra>",
           "hovertext": [
            "Action",
            "Adventure",
            "Fighting",
            "Misc",
            "Platform",
            "Puzzle",
            "Racing",
            "Role-Playing",
            "Shooter",
            "Simulation",
            "Sports",
            "Strategy"
           ],
           "ids": [
            "Action",
            "Adventure",
            "Fighting",
            "Misc",
            "Platform",
            "Puzzle",
            "Racing",
            "Role-Playing",
            "Shooter",
            "Simulation",
            "Sports",
            "Strategy"
           ],
           "legendgroup": "PS",
           "marker": {
            "color": "#19d3f3",
            "size": [
             168,
             168,
             168,
             168,
             168,
             168,
             168,
             168,
             168,
             168,
             168,
             168
            ],
            "sizemode": "area",
            "sizeref": 0.42,
            "symbol": "circle"
           },
           "mode": "markers",
           "name": "PS",
           "orientation": "v",
           "showlegend": true,
           "type": "scatter",
           "x": [
            34,
            3,
            28,
            13,
            19,
            9,
            35,
            12,
            16,
            5,
            47,
            10
           ],
           "xaxis": "x",
           "y": [
            168,
            168,
            168,
            168,
            168,
            168,
            168,
            168,
            168,
            168,
            168,
            168
           ],
           "yaxis": "y"
          },
          {
           "hovertemplate": "<b>%{hovertext}</b><br><br>Platform=N64<br>Year=1998<br>Games per Genre=%{x}<br>Games per Platform=%{marker.size}<extra></extra>",
           "hovertext": [
            "Action",
            "Adventure",
            "Fighting",
            "Misc",
            "Platform",
            "Puzzle",
            "Racing",
            "Role-Playing",
            "Shooter",
            "Simulation",
            "Sports",
            "Strategy"
           ],
           "ids": [
            "Action",
            "Adventure",
            "Fighting",
            "Misc",
            "Platform",
            "Puzzle",
            "Racing",
            "Role-Playing",
            "Shooter",
            "Simulation",
            "Sports",
            "Strategy"
           ],
           "legendgroup": "N64",
           "marker": {
            "color": "#B6E880",
            "size": [
             63,
             63,
             63,
             63,
             63,
             63,
             63,
             63,
             63,
             63,
             63,
             63
            ],
            "sizemode": "area",
            "sizeref": 0.42,
            "symbol": "circle"
           },
           "mode": "markers",
           "name": "N64",
           "orientation": "v",
           "showlegend": true,
           "type": "scatter",
           "x": [
            34,
            3,
            28,
            13,
            19,
            9,
            35,
            12,
            16,
            5,
            47,
            10
           ],
           "xaxis": "x",
           "y": [
            63,
            63,
            63,
            63,
            63,
            63,
            63,
            63,
            63,
            63,
            63,
            63
           ],
           "yaxis": "y"
          }
         ],
         "name": "1998"
        },
        {
         "data": [
          {
           "hovertemplate": "<b>%{hovertext}</b><br><br>Platform=PS<br>Year=1999<br>Games per Genre=%{x}<br>Games per Platform=%{marker.size}<extra></extra>",
           "hovertext": [
            "Action",
            "Adventure",
            "Fighting",
            "Misc",
            "Platform",
            "Puzzle",
            "Racing",
            "Role-Playing",
            "Shooter",
            "Simulation",
            "Sports",
            "Strategy"
           ],
           "ids": [
            "Action",
            "Adventure",
            "Fighting",
            "Misc",
            "Platform",
            "Puzzle",
            "Racing",
            "Role-Playing",
            "Shooter",
            "Simulation",
            "Sports",
            "Strategy"
           ],
           "legendgroup": "PS",
           "marker": {
            "color": "#19d3f3",
            "size": [
             136,
             136,
             136,
             136,
             136,
             136,
             136,
             136,
             136,
             136,
             136,
             136
            ],
            "sizemode": "area",
            "sizeref": 0.42,
            "symbol": "circle"
           },
           "mode": "markers",
           "name": "PS",
           "orientation": "v",
           "showlegend": true,
           "type": "scatter",
           "x": [
            30,
            6,
            11,
            10,
            13,
            5,
            40,
            17,
            14,
            6,
            39,
            13
           ],
           "xaxis": "x",
           "y": [
            136,
            136,
            136,
            136,
            136,
            136,
            136,
            136,
            136,
            136,
            136,
            136
           ],
           "yaxis": "y"
          },
          {
           "hovertemplate": "<b>%{hovertext}</b><br><br>Platform=N64<br>Year=1999<br>Games per Genre=%{x}<br>Games per Platform=%{marker.size}<extra></extra>",
           "hovertext": [
            "Action",
            "Adventure",
            "Fighting",
            "Misc",
            "Platform",
            "Puzzle",
            "Racing",
            "Role-Playing",
            "Shooter",
            "Simulation",
            "Sports",
            "Strategy"
           ],
           "ids": [
            "Action",
            "Adventure",
            "Fighting",
            "Misc",
            "Platform",
            "Puzzle",
            "Racing",
            "Role-Playing",
            "Shooter",
            "Simulation",
            "Sports",
            "Strategy"
           ],
           "legendgroup": "N64",
           "marker": {
            "color": "#B6E880",
            "size": [
             68,
             68,
             68,
             68,
             68,
             68,
             68,
             68,
             68,
             68,
             68,
             68
            ],
            "sizemode": "area",
            "sizeref": 0.42,
            "symbol": "circle"
           },
           "mode": "markers",
           "name": "N64",
           "orientation": "v",
           "showlegend": true,
           "type": "scatter",
           "x": [
            30,
            6,
            11,
            10,
            13,
            5,
            40,
            17,
            14,
            6,
            39,
            13
           ],
           "xaxis": "x",
           "y": [
            68,
            68,
            68,
            68,
            68,
            68,
            68,
            68,
            68,
            68,
            68,
            68
           ],
           "yaxis": "y"
          }
         ],
         "name": "1999"
        },
        {
         "data": [
          {
           "hovertemplate": "<b>%{hovertext}</b><br><br>Platform=PS<br>Year=2000<br>Games per Genre=%{x}<br>Games per Platform=%{marker.size}<extra></extra>",
           "hovertext": [
            "Action",
            "Adventure",
            "Fighting",
            "Misc",
            "Platform",
            "Puzzle",
            "Racing",
            "Role-Playing",
            "Shooter",
            "Simulation",
            "Sports",
            "Strategy"
           ],
           "ids": [
            "Action",
            "Adventure",
            "Fighting",
            "Misc",
            "Platform",
            "Puzzle",
            "Racing",
            "Role-Playing",
            "Shooter",
            "Simulation",
            "Sports",
            "Strategy"
           ],
           "legendgroup": "PS",
           "marker": {
            "color": "#19d3f3",
            "size": [
             117,
             117,
             117,
             117,
             117,
             117,
             117,
             117,
             117,
             117,
             117,
             117
            ],
            "sizemode": "area",
            "sizeref": 0.42,
            "symbol": "circle"
           },
           "mode": "markers",
           "name": "PS",
           "orientation": "v",
           "showlegend": true,
           "type": "scatter",
           "x": [
            27,
            6,
            13,
            7,
            12,
            4,
            28,
            5,
            11,
            4,
            36,
            1
           ],
           "xaxis": "x",
           "y": [
            117,
            117,
            117,
            117,
            117,
            117,
            117,
            117,
            117,
            117,
            117,
            117
           ],
           "yaxis": "y"
          },
          {
           "hovertemplate": "<b>%{hovertext}</b><br><br>Platform=N64<br>Year=2000<br>Games per Genre=%{x}<br>Games per Platform=%{marker.size}<extra></extra>",
           "hovertext": [
            "Action",
            "Adventure",
            "Fighting",
            "Misc",
            "Platform",
            "Puzzle",
            "Racing",
            "Role-Playing",
            "Shooter",
            "Simulation",
            "Sports",
            "Strategy"
           ],
           "ids": [
            "Action",
            "Adventure",
            "Fighting",
            "Misc",
            "Platform",
            "Puzzle",
            "Racing",
            "Role-Playing",
            "Shooter",
            "Simulation",
            "Sports",
            "Strategy"
           ],
           "legendgroup": "N64",
           "marker": {
            "color": "#B6E880",
            "size": [
             37,
             37,
             37,
             37,
             37,
             37,
             37,
             37,
             37,
             37,
             37,
             37
            ],
            "sizemode": "area",
            "sizeref": 0.42,
            "symbol": "circle"
           },
           "mode": "markers",
           "name": "N64",
           "orientation": "v",
           "showlegend": true,
           "type": "scatter",
           "x": [
            27,
            6,
            13,
            7,
            12,
            4,
            28,
            5,
            11,
            4,
            36,
            1
           ],
           "xaxis": "x",
           "y": [
            37,
            37,
            37,
            37,
            37,
            37,
            37,
            37,
            37,
            37,
            37,
            37
           ],
           "yaxis": "y"
          }
         ],
         "name": "2000"
        },
        {
         "data": [
          {
           "hovertemplate": "<b>%{hovertext}</b><br><br>Platform=PS<br>Year=2001<br>Games per Genre=%{x}<br>Games per Platform=%{marker.size}<extra></extra>",
           "hovertext": [
            "Action",
            "Adventure",
            "Fighting",
            "Misc",
            "Platform",
            "Puzzle",
            "Racing",
            "Role-Playing",
            "Shooter",
            "Sports",
            "Strategy"
           ],
           "ids": [
            "Action",
            "Adventure",
            "Fighting",
            "Misc",
            "Platform",
            "Puzzle",
            "Racing",
            "Role-Playing",
            "Shooter",
            "Sports",
            "Strategy"
           ],
           "legendgroup": "PS",
           "marker": {
            "color": "#19d3f3",
            "size": [
             63,
             63,
             63,
             63,
             63,
             63,
             63,
             63,
             63,
             63,
             63
            ],
            "sizemode": "area",
            "sizeref": 0.42,
            "symbol": "circle"
           },
           "mode": "markers",
           "name": "PS",
           "orientation": "v",
           "showlegend": true,
           "type": "scatter",
           "x": [
            16,
            5,
            2,
            1,
            3,
            3,
            8,
            3,
            7,
            18,
            1
           ],
           "xaxis": "x",
           "y": [
            63,
            63,
            63,
            63,
            63,
            63,
            63,
            63,
            63,
            63,
            63
           ],
           "yaxis": "y"
          },
          {
           "hovertemplate": "<b>%{hovertext}</b><br><br>Platform=N64<br>Year=2001<br>Games per Genre=%{x}<br>Games per Platform=%{marker.size}<extra></extra>",
           "hovertext": [
            "Action",
            "Adventure",
            "Fighting",
            "Misc",
            "Platform",
            "Puzzle",
            "Racing",
            "Role-Playing",
            "Shooter",
            "Sports",
            "Strategy"
           ],
           "ids": [
            "Action",
            "Adventure",
            "Fighting",
            "Misc",
            "Platform",
            "Puzzle",
            "Racing",
            "Role-Playing",
            "Shooter",
            "Sports",
            "Strategy"
           ],
           "legendgroup": "N64",
           "marker": {
            "color": "#B6E880",
            "size": [
             4,
             4,
             4,
             4,
             4,
             4,
             4,
             4,
             4,
             4,
             4
            ],
            "sizemode": "area",
            "sizeref": 0.42,
            "symbol": "circle"
           },
           "mode": "markers",
           "name": "N64",
           "orientation": "v",
           "showlegend": true,
           "type": "scatter",
           "x": [
            16,
            5,
            2,
            1,
            3,
            3,
            8,
            3,
            7,
            18,
            1
           ],
           "xaxis": "x",
           "y": [
            4,
            4,
            4,
            4,
            4,
            4,
            4,
            4,
            4,
            4,
            4
           ],
           "yaxis": "y"
          }
         ],
         "name": "2001"
        },
        {
         "data": [
          {
           "hovertemplate": "<b>%{hovertext}</b><br><br>Platform=PS<br>Year=2002<br>Games per Genre=%{x}<br>Games per Platform=%{marker.size}<extra></extra>",
           "hovertext": [
            "Action",
            "Fighting",
            "Racing",
            "Shooter",
            "Sports"
           ],
           "ids": [
            "Action",
            "Fighting",
            "Racing",
            "Shooter",
            "Sports"
           ],
           "legendgroup": "PS",
           "marker": {
            "color": "#19d3f3",
            "size": [
             5,
             5,
             5,
             5,
             5
            ],
            "sizemode": "area",
            "sizeref": 0.42,
            "symbol": "circle"
           },
           "mode": "markers",
           "name": "PS",
           "orientation": "v",
           "showlegend": true,
           "type": "scatter",
           "x": [
            2,
            1,
            1,
            1,
            1
           ],
           "xaxis": "x",
           "y": [
            5,
            5,
            5,
            5,
            5
           ],
           "yaxis": "y"
          },
          {
           "hovertemplate": "<b>%{hovertext}</b><br><br>Platform=N64<br>Year=2002<br>Games per Genre=%{x}<br>Games per Platform=%{marker.size}<extra></extra>",
           "hovertext": [
            "Action",
            "Fighting",
            "Racing",
            "Shooter",
            "Sports"
           ],
           "ids": [
            "Action",
            "Fighting",
            "Racing",
            "Shooter",
            "Sports"
           ],
           "legendgroup": "N64",
           "marker": {
            "color": "#B6E880",
            "size": [
             1,
             1,
             1,
             1,
             1
            ],
            "sizemode": "area",
            "sizeref": 0.42,
            "symbol": "circle"
           },
           "mode": "markers",
           "name": "N64",
           "orientation": "v",
           "showlegend": true,
           "type": "scatter",
           "x": [
            2,
            1,
            1,
            1,
            1
           ],
           "xaxis": "x",
           "y": [
            1,
            1,
            1,
            1,
            1
           ],
           "yaxis": "y"
          }
         ],
         "name": "2002"
        },
        {
         "data": [
          {
           "hovertemplate": "<b>%{hovertext}</b><br><br>Platform=SNES<br>Year=1995<br>Games per Genre=%{x}<br>Games per Platform=%{marker.size}<extra></extra>",
           "hovertext": [
            "Action",
            "Adventure",
            "Fighting",
            "Misc",
            "Platform",
            "Puzzle",
            "Racing",
            "Role-Playing",
            "Shooter",
            "Simulation",
            "Sports",
            "Strategy"
           ],
           "ids": [
            "Action",
            "Adventure",
            "Fighting",
            "Misc",
            "Platform",
            "Puzzle",
            "Racing",
            "Role-Playing",
            "Shooter",
            "Simulation",
            "Sports",
            "Strategy"
           ],
           "legendgroup": "SNES",
           "marker": {
            "color": "#ab63fa",
            "size": [
             6,
             6,
             6,
             6,
             6,
             6,
             6,
             6,
             6,
             6,
             6,
             6
            ],
            "sizemode": "area",
            "sizeref": 0.42,
            "symbol": "circle"
           },
           "mode": "markers",
           "name": "SNES",
           "orientation": "v",
           "showlegend": true,
           "type": "scatter",
           "x": [
            5,
            2,
            14,
            2,
            6,
            4,
            9,
            6,
            15,
            8,
            9,
            4
           ],
           "xaxis": "x",
           "y": [
            6,
            6,
            6,
            6,
            6,
            6,
            6,
            6,
            6,
            6,
            6,
            6
           ],
           "yaxis": "y"
          },
          {
           "hovertemplate": "<b>%{hovertext}</b><br><br>Platform=PS<br>Year=1995<br>Games per Genre=%{x}<br>Games per Platform=%{marker.size}<extra></extra>",
           "hovertext": [
            "Action",
            "Adventure",
            "Fighting",
            "Misc",
            "Platform",
            "Puzzle",
            "Racing",
            "Role-Playing",
            "Shooter",
            "Simulation",
            "Sports",
            "Strategy"
           ],
           "ids": [
            "Action",
            "Adventure",
            "Fighting",
            "Misc",
            "Platform",
            "Puzzle",
            "Racing",
            "Role-Playing",
            "Shooter",
            "Simulation",
            "Sports",
            "Strategy"
           ],
           "legendgroup": "PS",
           "marker": {
            "color": "#19d3f3",
            "size": [
             59,
             59,
             59,
             59,
             59,
             59,
             59,
             59,
             59,
             59,
             59,
             59
            ],
            "sizemode": "area",
            "sizeref": 0.42,
            "symbol": "circle"
           },
           "mode": "markers",
           "name": "PS",
           "orientation": "v",
           "showlegend": true,
           "type": "scatter",
           "x": [
            5,
            2,
            14,
            2,
            6,
            4,
            9,
            6,
            15,
            8,
            9,
            4
           ],
           "xaxis": "x",
           "y": [
            59,
            59,
            59,
            59,
            59,
            59,
            59,
            59,
            59,
            59,
            59,
            59
           ],
           "yaxis": "y"
          },
          {
           "hovertemplate": "<b>%{hovertext}</b><br><br>Platform=SAT<br>Year=1995<br>Games per Genre=%{x}<br>Games per Platform=%{marker.size}<extra></extra>",
           "hovertext": [
            "Action",
            "Adventure",
            "Fighting",
            "Misc",
            "Platform",
            "Puzzle",
            "Racing",
            "Role-Playing",
            "Shooter",
            "Simulation",
            "Sports",
            "Strategy"
           ],
           "ids": [
            "Action",
            "Adventure",
            "Fighting",
            "Misc",
            "Platform",
            "Puzzle",
            "Racing",
            "Role-Playing",
            "Shooter",
            "Simulation",
            "Sports",
            "Strategy"
           ],
           "legendgroup": "SAT",
           "marker": {
            "color": "#FF6692",
            "size": [
             19,
             19,
             19,
             19,
             19,
             19,
             19,
             19,
             19,
             19,
             19,
             19
            ],
            "sizemode": "area",
            "sizeref": 0.42,
            "symbol": "circle"
           },
           "mode": "markers",
           "name": "SAT",
           "orientation": "v",
           "showlegend": true,
           "type": "scatter",
           "x": [
            5,
            2,
            14,
            2,
            6,
            4,
            9,
            6,
            15,
            8,
            9,
            4
           ],
           "xaxis": "x",
           "y": [
            19,
            19,
            19,
            19,
            19,
            19,
            19,
            19,
            19,
            19,
            19,
            19
           ],
           "yaxis": "y"
          }
         ],
         "name": "1995"
        },
        {
         "data": [
          {
           "hovertemplate": "<b>%{hovertext}</b><br><br>Platform=PS<br>Year=2003<br>Games per Genre=%{x}<br>Games per Platform=%{marker.size}<extra></extra>",
           "hovertext": [
            "Sports"
           ],
           "ids": [
            "Sports"
           ],
           "legendgroup": "PS",
           "marker": {
            "color": "#19d3f3",
            "size": [
             1
            ],
            "sizemode": "area",
            "sizeref": 0.42,
            "symbol": "circle"
           },
           "mode": "markers",
           "name": "PS",
           "orientation": "v",
           "showlegend": true,
           "type": "scatter",
           "x": [
            1
           ],
           "xaxis": "x",
           "y": [
            1
           ],
           "yaxis": "y"
          }
         ],
         "name": "2003"
        }
       ],
       "layout": {
        "legend": {
         "itemsizing": "constant",
         "title": {
          "text": "Platform"
         },
         "tracegroupgap": 0
        },
        "margin": {
         "t": 60
        },
        "sliders": [
         {
          "active": 0,
          "currentvalue": {
           "prefix": "Year="
          },
          "len": 0.9,
          "pad": {
           "b": 10,
           "t": 60
          },
          "steps": [
           {
            "args": [
             [
              "1980"
             ],
             {
              "frame": {
               "duration": 0,
               "redraw": false
              },
              "fromcurrent": true,
              "mode": "immediate",
              "transition": {
               "duration": 0,
               "easing": "linear"
              }
             }
            ],
            "label": "1980",
            "method": "animate"
           },
           {
            "args": [
             [
              "1981"
             ],
             {
              "frame": {
               "duration": 0,
               "redraw": false
              },
              "fromcurrent": true,
              "mode": "immediate",
              "transition": {
               "duration": 0,
               "easing": "linear"
              }
             }
            ],
            "label": "1981",
            "method": "animate"
           },
           {
            "args": [
             [
              "1982"
             ],
             {
              "frame": {
               "duration": 0,
               "redraw": false
              },
              "fromcurrent": true,
              "mode": "immediate",
              "transition": {
               "duration": 0,
               "easing": "linear"
              }
             }
            ],
            "label": "1982",
            "method": "animate"
           },
           {
            "args": [
             [
              "1983"
             ],
             {
              "frame": {
               "duration": 0,
               "redraw": false
              },
              "fromcurrent": true,
              "mode": "immediate",
              "transition": {
               "duration": 0,
               "easing": "linear"
              }
             }
            ],
            "label": "1983",
            "method": "animate"
           },
           {
            "args": [
             [
              "1984"
             ],
             {
              "frame": {
               "duration": 0,
               "redraw": false
              },
              "fromcurrent": true,
              "mode": "immediate",
              "transition": {
               "duration": 0,
               "easing": "linear"
              }
             }
            ],
            "label": "1984",
            "method": "animate"
           },
           {
            "args": [
             [
              "1985"
             ],
             {
              "frame": {
               "duration": 0,
               "redraw": false
              },
              "fromcurrent": true,
              "mode": "immediate",
              "transition": {
               "duration": 0,
               "easing": "linear"
              }
             }
            ],
            "label": "1985",
            "method": "animate"
           },
           {
            "args": [
             [
              "1986"
             ],
             {
              "frame": {
               "duration": 0,
               "redraw": false
              },
              "fromcurrent": true,
              "mode": "immediate",
              "transition": {
               "duration": 0,
               "easing": "linear"
              }
             }
            ],
            "label": "1986",
            "method": "animate"
           },
           {
            "args": [
             [
              "1987"
             ],
             {
              "frame": {
               "duration": 0,
               "redraw": false
              },
              "fromcurrent": true,
              "mode": "immediate",
              "transition": {
               "duration": 0,
               "easing": "linear"
              }
             }
            ],
            "label": "1987",
            "method": "animate"
           },
           {
            "args": [
             [
              "1988"
             ],
             {
              "frame": {
               "duration": 0,
               "redraw": false
              },
              "fromcurrent": true,
              "mode": "immediate",
              "transition": {
               "duration": 0,
               "easing": "linear"
              }
             }
            ],
            "label": "1988",
            "method": "animate"
           },
           {
            "args": [
             [
              "1989"
             ],
             {
              "frame": {
               "duration": 0,
               "redraw": false
              },
              "fromcurrent": true,
              "mode": "immediate",
              "transition": {
               "duration": 0,
               "easing": "linear"
              }
             }
            ],
            "label": "1989",
            "method": "animate"
           },
           {
            "args": [
             [
              "1990"
             ],
             {
              "frame": {
               "duration": 0,
               "redraw": false
              },
              "fromcurrent": true,
              "mode": "immediate",
              "transition": {
               "duration": 0,
               "easing": "linear"
              }
             }
            ],
            "label": "1990",
            "method": "animate"
           },
           {
            "args": [
             [
              "1991"
             ],
             {
              "frame": {
               "duration": 0,
               "redraw": false
              },
              "fromcurrent": true,
              "mode": "immediate",
              "transition": {
               "duration": 0,
               "easing": "linear"
              }
             }
            ],
            "label": "1991",
            "method": "animate"
           },
           {
            "args": [
             [
              "1992"
             ],
             {
              "frame": {
               "duration": 0,
               "redraw": false
              },
              "fromcurrent": true,
              "mode": "immediate",
              "transition": {
               "duration": 0,
               "easing": "linear"
              }
             }
            ],
            "label": "1992",
            "method": "animate"
           },
           {
            "args": [
             [
              "1993"
             ],
             {
              "frame": {
               "duration": 0,
               "redraw": false
              },
              "fromcurrent": true,
              "mode": "immediate",
              "transition": {
               "duration": 0,
               "easing": "linear"
              }
             }
            ],
            "label": "1993",
            "method": "animate"
           },
           {
            "args": [
             [
              "1994"
             ],
             {
              "frame": {
               "duration": 0,
               "redraw": false
              },
              "fromcurrent": true,
              "mode": "immediate",
              "transition": {
               "duration": 0,
               "easing": "linear"
              }
             }
            ],
            "label": "1994",
            "method": "animate"
           },
           {
            "args": [
             [
              "1996"
             ],
             {
              "frame": {
               "duration": 0,
               "redraw": false
              },
              "fromcurrent": true,
              "mode": "immediate",
              "transition": {
               "duration": 0,
               "easing": "linear"
              }
             }
            ],
            "label": "1996",
            "method": "animate"
           },
           {
            "args": [
             [
              "1997"
             ],
             {
              "frame": {
               "duration": 0,
               "redraw": false
              },
              "fromcurrent": true,
              "mode": "immediate",
              "transition": {
               "duration": 0,
               "easing": "linear"
              }
             }
            ],
            "label": "1997",
            "method": "animate"
           },
           {
            "args": [
             [
              "1998"
             ],
             {
              "frame": {
               "duration": 0,
               "redraw": false
              },
              "fromcurrent": true,
              "mode": "immediate",
              "transition": {
               "duration": 0,
               "easing": "linear"
              }
             }
            ],
            "label": "1998",
            "method": "animate"
           },
           {
            "args": [
             [
              "1999"
             ],
             {
              "frame": {
               "duration": 0,
               "redraw": false
              },
              "fromcurrent": true,
              "mode": "immediate",
              "transition": {
               "duration": 0,
               "easing": "linear"
              }
             }
            ],
            "label": "1999",
            "method": "animate"
           },
           {
            "args": [
             [
              "2000"
             ],
             {
              "frame": {
               "duration": 0,
               "redraw": false
              },
              "fromcurrent": true,
              "mode": "immediate",
              "transition": {
               "duration": 0,
               "easing": "linear"
              }
             }
            ],
            "label": "2000",
            "method": "animate"
           },
           {
            "args": [
             [
              "2001"
             ],
             {
              "frame": {
               "duration": 0,
               "redraw": false
              },
              "fromcurrent": true,
              "mode": "immediate",
              "transition": {
               "duration": 0,
               "easing": "linear"
              }
             }
            ],
            "label": "2001",
            "method": "animate"
           },
           {
            "args": [
             [
              "2002"
             ],
             {
              "frame": {
               "duration": 0,
               "redraw": false
              },
              "fromcurrent": true,
              "mode": "immediate",
              "transition": {
               "duration": 0,
               "easing": "linear"
              }
             }
            ],
            "label": "2002",
            "method": "animate"
           },
           {
            "args": [
             [
              "1995"
             ],
             {
              "frame": {
               "duration": 0,
               "redraw": false
              },
              "fromcurrent": true,
              "mode": "immediate",
              "transition": {
               "duration": 0,
               "easing": "linear"
              }
             }
            ],
            "label": "1995",
            "method": "animate"
           },
           {
            "args": [
             [
              "2003"
             ],
             {
              "frame": {
               "duration": 0,
               "redraw": false
              },
              "fromcurrent": true,
              "mode": "immediate",
              "transition": {
               "duration": 0,
               "easing": "linear"
              }
             }
            ],
            "label": "2003",
            "method": "animate"
           }
          ],
          "x": 0.1,
          "xanchor": "left",
          "y": 0,
          "yanchor": "top"
         }
        ],
        "template": {
         "data": {
          "bar": [
           {
            "error_x": {
             "color": "#2a3f5f"
            },
            "error_y": {
             "color": "#2a3f5f"
            },
            "marker": {
             "line": {
              "color": "#E5ECF6",
              "width": 0.5
             }
            },
            "type": "bar"
           }
          ],
          "barpolar": [
           {
            "marker": {
             "line": {
              "color": "#E5ECF6",
              "width": 0.5
             }
            },
            "type": "barpolar"
           }
          ],
          "carpet": [
           {
            "aaxis": {
             "endlinecolor": "#2a3f5f",
             "gridcolor": "white",
             "linecolor": "white",
             "minorgridcolor": "white",
             "startlinecolor": "#2a3f5f"
            },
            "baxis": {
             "endlinecolor": "#2a3f5f",
             "gridcolor": "white",
             "linecolor": "white",
             "minorgridcolor": "white",
             "startlinecolor": "#2a3f5f"
            },
            "type": "carpet"
           }
          ],
          "choropleth": [
           {
            "colorbar": {
             "outlinewidth": 0,
             "ticks": ""
            },
            "type": "choropleth"
           }
          ],
          "contour": [
           {
            "colorbar": {
             "outlinewidth": 0,
             "ticks": ""
            },
            "colorscale": [
             [
              0,
              "#0d0887"
             ],
             [
              0.1111111111111111,
              "#46039f"
             ],
             [
              0.2222222222222222,
              "#7201a8"
             ],
             [
              0.3333333333333333,
              "#9c179e"
             ],
             [
              0.4444444444444444,
              "#bd3786"
             ],
             [
              0.5555555555555556,
              "#d8576b"
             ],
             [
              0.6666666666666666,
              "#ed7953"
             ],
             [
              0.7777777777777778,
              "#fb9f3a"
             ],
             [
              0.8888888888888888,
              "#fdca26"
             ],
             [
              1,
              "#f0f921"
             ]
            ],
            "type": "contour"
           }
          ],
          "contourcarpet": [
           {
            "colorbar": {
             "outlinewidth": 0,
             "ticks": ""
            },
            "type": "contourcarpet"
           }
          ],
          "heatmap": [
           {
            "colorbar": {
             "outlinewidth": 0,
             "ticks": ""
            },
            "colorscale": [
             [
              0,
              "#0d0887"
             ],
             [
              0.1111111111111111,
              "#46039f"
             ],
             [
              0.2222222222222222,
              "#7201a8"
             ],
             [
              0.3333333333333333,
              "#9c179e"
             ],
             [
              0.4444444444444444,
              "#bd3786"
             ],
             [
              0.5555555555555556,
              "#d8576b"
             ],
             [
              0.6666666666666666,
              "#ed7953"
             ],
             [
              0.7777777777777778,
              "#fb9f3a"
             ],
             [
              0.8888888888888888,
              "#fdca26"
             ],
             [
              1,
              "#f0f921"
             ]
            ],
            "type": "heatmap"
           }
          ],
          "heatmapgl": [
           {
            "colorbar": {
             "outlinewidth": 0,
             "ticks": ""
            },
            "colorscale": [
             [
              0,
              "#0d0887"
             ],
             [
              0.1111111111111111,
              "#46039f"
             ],
             [
              0.2222222222222222,
              "#7201a8"
             ],
             [
              0.3333333333333333,
              "#9c179e"
             ],
             [
              0.4444444444444444,
              "#bd3786"
             ],
             [
              0.5555555555555556,
              "#d8576b"
             ],
             [
              0.6666666666666666,
              "#ed7953"
             ],
             [
              0.7777777777777778,
              "#fb9f3a"
             ],
             [
              0.8888888888888888,
              "#fdca26"
             ],
             [
              1,
              "#f0f921"
             ]
            ],
            "type": "heatmapgl"
           }
          ],
          "histogram": [
           {
            "marker": {
             "colorbar": {
              "outlinewidth": 0,
              "ticks": ""
             }
            },
            "type": "histogram"
           }
          ],
          "histogram2d": [
           {
            "colorbar": {
             "outlinewidth": 0,
             "ticks": ""
            },
            "colorscale": [
             [
              0,
              "#0d0887"
             ],
             [
              0.1111111111111111,
              "#46039f"
             ],
             [
              0.2222222222222222,
              "#7201a8"
             ],
             [
              0.3333333333333333,
              "#9c179e"
             ],
             [
              0.4444444444444444,
              "#bd3786"
             ],
             [
              0.5555555555555556,
              "#d8576b"
             ],
             [
              0.6666666666666666,
              "#ed7953"
             ],
             [
              0.7777777777777778,
              "#fb9f3a"
             ],
             [
              0.8888888888888888,
              "#fdca26"
             ],
             [
              1,
              "#f0f921"
             ]
            ],
            "type": "histogram2d"
           }
          ],
          "histogram2dcontour": [
           {
            "colorbar": {
             "outlinewidth": 0,
             "ticks": ""
            },
            "colorscale": [
             [
              0,
              "#0d0887"
             ],
             [
              0.1111111111111111,
              "#46039f"
             ],
             [
              0.2222222222222222,
              "#7201a8"
             ],
             [
              0.3333333333333333,
              "#9c179e"
             ],
             [
              0.4444444444444444,
              "#bd3786"
             ],
             [
              0.5555555555555556,
              "#d8576b"
             ],
             [
              0.6666666666666666,
              "#ed7953"
             ],
             [
              0.7777777777777778,
              "#fb9f3a"
             ],
             [
              0.8888888888888888,
              "#fdca26"
             ],
             [
              1,
              "#f0f921"
             ]
            ],
            "type": "histogram2dcontour"
           }
          ],
          "mesh3d": [
           {
            "colorbar": {
             "outlinewidth": 0,
             "ticks": ""
            },
            "type": "mesh3d"
           }
          ],
          "parcoords": [
           {
            "line": {
             "colorbar": {
              "outlinewidth": 0,
              "ticks": ""
             }
            },
            "type": "parcoords"
           }
          ],
          "pie": [
           {
            "automargin": true,
            "type": "pie"
           }
          ],
          "scatter": [
           {
            "marker": {
             "colorbar": {
              "outlinewidth": 0,
              "ticks": ""
             }
            },
            "type": "scatter"
           }
          ],
          "scatter3d": [
           {
            "line": {
             "colorbar": {
              "outlinewidth": 0,
              "ticks": ""
             }
            },
            "marker": {
             "colorbar": {
              "outlinewidth": 0,
              "ticks": ""
             }
            },
            "type": "scatter3d"
           }
          ],
          "scattercarpet": [
           {
            "marker": {
             "colorbar": {
              "outlinewidth": 0,
              "ticks": ""
             }
            },
            "type": "scattercarpet"
           }
          ],
          "scattergeo": [
           {
            "marker": {
             "colorbar": {
              "outlinewidth": 0,
              "ticks": ""
             }
            },
            "type": "scattergeo"
           }
          ],
          "scattergl": [
           {
            "marker": {
             "colorbar": {
              "outlinewidth": 0,
              "ticks": ""
             }
            },
            "type": "scattergl"
           }
          ],
          "scattermapbox": [
           {
            "marker": {
             "colorbar": {
              "outlinewidth": 0,
              "ticks": ""
             }
            },
            "type": "scattermapbox"
           }
          ],
          "scatterpolar": [
           {
            "marker": {
             "colorbar": {
              "outlinewidth": 0,
              "ticks": ""
             }
            },
            "type": "scatterpolar"
           }
          ],
          "scatterpolargl": [
           {
            "marker": {
             "colorbar": {
              "outlinewidth": 0,
              "ticks": ""
             }
            },
            "type": "scatterpolargl"
           }
          ],
          "scatterternary": [
           {
            "marker": {
             "colorbar": {
              "outlinewidth": 0,
              "ticks": ""
             }
            },
            "type": "scatterternary"
           }
          ],
          "surface": [
           {
            "colorbar": {
             "outlinewidth": 0,
             "ticks": ""
            },
            "colorscale": [
             [
              0,
              "#0d0887"
             ],
             [
              0.1111111111111111,
              "#46039f"
             ],
             [
              0.2222222222222222,
              "#7201a8"
             ],
             [
              0.3333333333333333,
              "#9c179e"
             ],
             [
              0.4444444444444444,
              "#bd3786"
             ],
             [
              0.5555555555555556,
              "#d8576b"
             ],
             [
              0.6666666666666666,
              "#ed7953"
             ],
             [
              0.7777777777777778,
              "#fb9f3a"
             ],
             [
              0.8888888888888888,
              "#fdca26"
             ],
             [
              1,
              "#f0f921"
             ]
            ],
            "type": "surface"
           }
          ],
          "table": [
           {
            "cells": {
             "fill": {
              "color": "#EBF0F8"
             },
             "line": {
              "color": "white"
             }
            },
            "header": {
             "fill": {
              "color": "#C8D4E3"
             },
             "line": {
              "color": "white"
             }
            },
            "type": "table"
           }
          ]
         },
         "layout": {
          "annotationdefaults": {
           "arrowcolor": "#2a3f5f",
           "arrowhead": 0,
           "arrowwidth": 1
          },
          "coloraxis": {
           "colorbar": {
            "outlinewidth": 0,
            "ticks": ""
           }
          },
          "colorscale": {
           "diverging": [
            [
             0,
             "#8e0152"
            ],
            [
             0.1,
             "#c51b7d"
            ],
            [
             0.2,
             "#de77ae"
            ],
            [
             0.3,
             "#f1b6da"
            ],
            [
             0.4,
             "#fde0ef"
            ],
            [
             0.5,
             "#f7f7f7"
            ],
            [
             0.6,
             "#e6f5d0"
            ],
            [
             0.7,
             "#b8e186"
            ],
            [
             0.8,
             "#7fbc41"
            ],
            [
             0.9,
             "#4d9221"
            ],
            [
             1,
             "#276419"
            ]
           ],
           "sequential": [
            [
             0,
             "#0d0887"
            ],
            [
             0.1111111111111111,
             "#46039f"
            ],
            [
             0.2222222222222222,
             "#7201a8"
            ],
            [
             0.3333333333333333,
             "#9c179e"
            ],
            [
             0.4444444444444444,
             "#bd3786"
            ],
            [
             0.5555555555555556,
             "#d8576b"
            ],
            [
             0.6666666666666666,
             "#ed7953"
            ],
            [
             0.7777777777777778,
             "#fb9f3a"
            ],
            [
             0.8888888888888888,
             "#fdca26"
            ],
            [
             1,
             "#f0f921"
            ]
           ],
           "sequentialminus": [
            [
             0,
             "#0d0887"
            ],
            [
             0.1111111111111111,
             "#46039f"
            ],
            [
             0.2222222222222222,
             "#7201a8"
            ],
            [
             0.3333333333333333,
             "#9c179e"
            ],
            [
             0.4444444444444444,
             "#bd3786"
            ],
            [
             0.5555555555555556,
             "#d8576b"
            ],
            [
             0.6666666666666666,
             "#ed7953"
            ],
            [
             0.7777777777777778,
             "#fb9f3a"
            ],
            [
             0.8888888888888888,
             "#fdca26"
            ],
            [
             1,
             "#f0f921"
            ]
           ]
          },
          "colorway": [
           "#636efa",
           "#EF553B",
           "#00cc96",
           "#ab63fa",
           "#FFA15A",
           "#19d3f3",
           "#FF6692",
           "#B6E880",
           "#FF97FF",
           "#FECB52"
          ],
          "font": {
           "color": "#2a3f5f"
          },
          "geo": {
           "bgcolor": "white",
           "lakecolor": "white",
           "landcolor": "#E5ECF6",
           "showlakes": true,
           "showland": true,
           "subunitcolor": "white"
          },
          "hoverlabel": {
           "align": "left"
          },
          "hovermode": "closest",
          "mapbox": {
           "style": "light"
          },
          "paper_bgcolor": "white",
          "plot_bgcolor": "#E5ECF6",
          "polar": {
           "angularaxis": {
            "gridcolor": "white",
            "linecolor": "white",
            "ticks": ""
           },
           "bgcolor": "#E5ECF6",
           "radialaxis": {
            "gridcolor": "white",
            "linecolor": "white",
            "ticks": ""
           }
          },
          "scene": {
           "xaxis": {
            "backgroundcolor": "#E5ECF6",
            "gridcolor": "white",
            "gridwidth": 2,
            "linecolor": "white",
            "showbackground": true,
            "ticks": "",
            "zerolinecolor": "white"
           },
           "yaxis": {
            "backgroundcolor": "#E5ECF6",
            "gridcolor": "white",
            "gridwidth": 2,
            "linecolor": "white",
            "showbackground": true,
            "ticks": "",
            "zerolinecolor": "white"
           },
           "zaxis": {
            "backgroundcolor": "#E5ECF6",
            "gridcolor": "white",
            "gridwidth": 2,
            "linecolor": "white",
            "showbackground": true,
            "ticks": "",
            "zerolinecolor": "white"
           }
          },
          "shapedefaults": {
           "line": {
            "color": "#2a3f5f"
           }
          },
          "ternary": {
           "aaxis": {
            "gridcolor": "white",
            "linecolor": "white",
            "ticks": ""
           },
           "baxis": {
            "gridcolor": "white",
            "linecolor": "white",
            "ticks": ""
           },
           "bgcolor": "#E5ECF6",
           "caxis": {
            "gridcolor": "white",
            "linecolor": "white",
            "ticks": ""
           }
          },
          "title": {
           "x": 0.05
          },
          "xaxis": {
           "automargin": true,
           "gridcolor": "white",
           "linecolor": "white",
           "ticks": "",
           "title": {
            "standoff": 15
           },
           "zerolinecolor": "white",
           "zerolinewidth": 2
          },
          "yaxis": {
           "automargin": true,
           "gridcolor": "white",
           "linecolor": "white",
           "ticks": "",
           "title": {
            "standoff": 15
           },
           "zerolinecolor": "white",
           "zerolinewidth": 2
          }
         }
        },
        "updatemenus": [
         {
          "buttons": [
           {
            "args": [
             null,
             {
              "frame": {
               "duration": 1000,
               "redraw": false
              },
              "fromcurrent": true,
              "mode": "immediate",
              "transition": {
               "duration": 500,
               "easing": "linear"
              }
             }
            ],
            "label": "&#9654;",
            "method": "animate"
           },
           {
            "args": [
             [
              null
             ],
             {
              "frame": {
               "duration": 0,
               "redraw": false
              },
              "fromcurrent": true,
              "mode": "immediate",
              "transition": {
               "duration": 0,
               "easing": "linear"
              }
             }
            ],
            "label": "&#9724;",
            "method": "animate"
           }
          ],
          "direction": "left",
          "pad": {
           "r": 10,
           "t": 70
          },
          "showactive": false,
          "type": "buttons",
          "x": 0.1,
          "xanchor": "right",
          "y": 0,
          "yanchor": "top"
         }
        ],
        "xaxis": {
         "anchor": "y",
         "domain": [
          0,
          1
         ],
         "range": [
          1,
          60
         ],
         "title": {
          "text": "Games per Genre"
         }
        },
        "yaxis": {
         "anchor": "x",
         "domain": [
          0,
          1
         ],
         "range": [
          1,
          200
         ],
         "title": {
          "text": "Games per Platform"
         }
        }
       }
      },
      "text/html": [
       "<div>                            <div id=\"46883a33-4e54-440a-9f48-b0dbca40322f\" class=\"plotly-graph-div\" style=\"height:525px; width:100%;\"></div>            <script type=\"text/javascript\">                require([\"plotly\"], function(Plotly) {                    window.PLOTLYENV=window.PLOTLYENV || {};                                    if (document.getElementById(\"46883a33-4e54-440a-9f48-b0dbca40322f\")) {                    Plotly.newPlot(                        \"46883a33-4e54-440a-9f48-b0dbca40322f\",                        [{\"hovertemplate\": \"<b>%{hovertext}</b><br><br>Platform=2600<br>Year=1980<br>Games per Genre=%{x}<br>Games per Platform=%{marker.size}<extra></extra>\", \"hovertext\": [\"Fighting\", \"Misc\", \"Shooter\", \"Sports\"], \"ids\": [\"Fighting\", \"Misc\", \"Shooter\", \"Sports\"], \"legendgroup\": \"2600\", \"marker\": {\"color\": \"#636efa\", \"size\": [5, 5, 5, 5], \"sizemode\": \"area\", \"sizeref\": 0.42, \"symbol\": \"circle\"}, \"mode\": \"markers\", \"name\": \"2600\", \"orientation\": \"v\", \"showlegend\": true, \"type\": \"scatter\", \"x\": [1, 2, 1, 1], \"xaxis\": \"x\", \"y\": [5, 5, 5, 5], \"yaxis\": \"y\"}],                        {\"legend\": {\"itemsizing\": \"constant\", \"title\": {\"text\": \"Platform\"}, \"tracegroupgap\": 0}, \"margin\": {\"t\": 60}, \"sliders\": [{\"active\": 0, \"currentvalue\": {\"prefix\": \"Year=\"}, \"len\": 0.9, \"pad\": {\"b\": 10, \"t\": 60}, \"steps\": [{\"args\": [[\"1980\"], {\"frame\": {\"duration\": 0, \"redraw\": false}, \"fromcurrent\": true, \"mode\": \"immediate\", \"transition\": {\"duration\": 0, \"easing\": \"linear\"}}], \"label\": \"1980\", \"method\": \"animate\"}, {\"args\": [[\"1981\"], {\"frame\": {\"duration\": 0, \"redraw\": false}, \"fromcurrent\": true, \"mode\": \"immediate\", \"transition\": {\"duration\": 0, \"easing\": \"linear\"}}], \"label\": \"1981\", \"method\": \"animate\"}, {\"args\": [[\"1982\"], {\"frame\": {\"duration\": 0, \"redraw\": false}, \"fromcurrent\": true, \"mode\": \"immediate\", \"transition\": {\"duration\": 0, \"easing\": \"linear\"}}], \"label\": \"1982\", \"method\": \"animate\"}, {\"args\": [[\"1983\"], {\"frame\": {\"duration\": 0, \"redraw\": false}, \"fromcurrent\": true, \"mode\": \"immediate\", \"transition\": {\"duration\": 0, \"easing\": \"linear\"}}], \"label\": \"1983\", \"method\": \"animate\"}, {\"args\": [[\"1984\"], {\"frame\": {\"duration\": 0, \"redraw\": false}, \"fromcurrent\": true, \"mode\": \"immediate\", \"transition\": {\"duration\": 0, \"easing\": \"linear\"}}], \"label\": \"1984\", \"method\": \"animate\"}, {\"args\": [[\"1985\"], {\"frame\": {\"duration\": 0, \"redraw\": false}, \"fromcurrent\": true, \"mode\": \"immediate\", \"transition\": {\"duration\": 0, \"easing\": \"linear\"}}], \"label\": \"1985\", \"method\": \"animate\"}, {\"args\": [[\"1986\"], {\"frame\": {\"duration\": 0, \"redraw\": false}, \"fromcurrent\": true, \"mode\": \"immediate\", \"transition\": {\"duration\": 0, \"easing\": \"linear\"}}], \"label\": \"1986\", \"method\": \"animate\"}, {\"args\": [[\"1987\"], {\"frame\": {\"duration\": 0, \"redraw\": false}, \"fromcurrent\": true, \"mode\": \"immediate\", \"transition\": {\"duration\": 0, \"easing\": \"linear\"}}], \"label\": \"1987\", \"method\": \"animate\"}, {\"args\": [[\"1988\"], {\"frame\": {\"duration\": 0, \"redraw\": false}, \"fromcurrent\": true, \"mode\": \"immediate\", \"transition\": {\"duration\": 0, \"easing\": \"linear\"}}], \"label\": \"1988\", \"method\": \"animate\"}, {\"args\": [[\"1989\"], {\"frame\": {\"duration\": 0, \"redraw\": false}, \"fromcurrent\": true, \"mode\": \"immediate\", \"transition\": {\"duration\": 0, \"easing\": \"linear\"}}], \"label\": \"1989\", \"method\": \"animate\"}, {\"args\": [[\"1990\"], {\"frame\": {\"duration\": 0, \"redraw\": false}, \"fromcurrent\": true, \"mode\": \"immediate\", \"transition\": {\"duration\": 0, \"easing\": \"linear\"}}], \"label\": \"1990\", \"method\": \"animate\"}, {\"args\": [[\"1991\"], {\"frame\": {\"duration\": 0, \"redraw\": false}, \"fromcurrent\": true, \"mode\": \"immediate\", \"transition\": {\"duration\": 0, \"easing\": \"linear\"}}], \"label\": \"1991\", \"method\": \"animate\"}, {\"args\": [[\"1992\"], {\"frame\": {\"duration\": 0, \"redraw\": false}, \"fromcurrent\": true, \"mode\": \"immediate\", \"transition\": {\"duration\": 0, \"easing\": \"linear\"}}], \"label\": \"1992\", \"method\": \"animate\"}, {\"args\": [[\"1993\"], {\"frame\": {\"duration\": 0, \"redraw\": false}, \"fromcurrent\": true, \"mode\": \"immediate\", \"transition\": {\"duration\": 0, \"easing\": \"linear\"}}], \"label\": \"1993\", \"method\": \"animate\"}, {\"args\": [[\"1994\"], {\"frame\": {\"duration\": 0, \"redraw\": false}, \"fromcurrent\": true, \"mode\": \"immediate\", \"transition\": {\"duration\": 0, \"easing\": \"linear\"}}], \"label\": \"1994\", \"method\": \"animate\"}, {\"args\": [[\"1996\"], {\"frame\": {\"duration\": 0, \"redraw\": false}, \"fromcurrent\": true, \"mode\": \"immediate\", \"transition\": {\"duration\": 0, \"easing\": \"linear\"}}], \"label\": \"1996\", \"method\": \"animate\"}, {\"args\": [[\"1997\"], {\"frame\": {\"duration\": 0, \"redraw\": false}, \"fromcurrent\": true, \"mode\": \"immediate\", \"transition\": {\"duration\": 0, \"easing\": \"linear\"}}], \"label\": \"1997\", \"method\": \"animate\"}, {\"args\": [[\"1998\"], {\"frame\": {\"duration\": 0, \"redraw\": false}, \"fromcurrent\": true, \"mode\": \"immediate\", \"transition\": {\"duration\": 0, \"easing\": \"linear\"}}], \"label\": \"1998\", \"method\": \"animate\"}, {\"args\": [[\"1999\"], {\"frame\": {\"duration\": 0, \"redraw\": false}, \"fromcurrent\": true, \"mode\": \"immediate\", \"transition\": {\"duration\": 0, \"easing\": \"linear\"}}], \"label\": \"1999\", \"method\": \"animate\"}, {\"args\": [[\"2000\"], {\"frame\": {\"duration\": 0, \"redraw\": false}, \"fromcurrent\": true, \"mode\": \"immediate\", \"transition\": {\"duration\": 0, \"easing\": \"linear\"}}], \"label\": \"2000\", \"method\": \"animate\"}, {\"args\": [[\"2001\"], {\"frame\": {\"duration\": 0, \"redraw\": false}, \"fromcurrent\": true, \"mode\": \"immediate\", \"transition\": {\"duration\": 0, \"easing\": \"linear\"}}], \"label\": \"2001\", \"method\": \"animate\"}, {\"args\": [[\"2002\"], {\"frame\": {\"duration\": 0, \"redraw\": false}, \"fromcurrent\": true, \"mode\": \"immediate\", \"transition\": {\"duration\": 0, \"easing\": \"linear\"}}], \"label\": \"2002\", \"method\": \"animate\"}, {\"args\": [[\"1995\"], {\"frame\": {\"duration\": 0, \"redraw\": false}, \"fromcurrent\": true, \"mode\": \"immediate\", \"transition\": {\"duration\": 0, \"easing\": \"linear\"}}], \"label\": \"1995\", \"method\": \"animate\"}, {\"args\": [[\"2003\"], {\"frame\": {\"duration\": 0, \"redraw\": false}, \"fromcurrent\": true, \"mode\": \"immediate\", \"transition\": {\"duration\": 0, \"easing\": \"linear\"}}], \"label\": \"2003\", \"method\": \"animate\"}], \"x\": 0.1, \"xanchor\": \"left\", \"y\": 0, \"yanchor\": \"top\"}], \"template\": {\"data\": {\"bar\": [{\"error_x\": {\"color\": \"#2a3f5f\"}, \"error_y\": {\"color\": \"#2a3f5f\"}, \"marker\": {\"line\": {\"color\": \"#E5ECF6\", \"width\": 0.5}}, \"type\": \"bar\"}], \"barpolar\": [{\"marker\": {\"line\": {\"color\": \"#E5ECF6\", \"width\": 0.5}}, \"type\": \"barpolar\"}], \"carpet\": [{\"aaxis\": {\"endlinecolor\": \"#2a3f5f\", \"gridcolor\": \"white\", \"linecolor\": \"white\", \"minorgridcolor\": \"white\", \"startlinecolor\": \"#2a3f5f\"}, \"baxis\": {\"endlinecolor\": \"#2a3f5f\", \"gridcolor\": \"white\", \"linecolor\": \"white\", \"minorgridcolor\": \"white\", \"startlinecolor\": \"#2a3f5f\"}, \"type\": \"carpet\"}], \"choropleth\": [{\"colorbar\": {\"outlinewidth\": 0, \"ticks\": \"\"}, \"type\": \"choropleth\"}], \"contour\": [{\"colorbar\": {\"outlinewidth\": 0, \"ticks\": \"\"}, \"colorscale\": [[0.0, \"#0d0887\"], [0.1111111111111111, \"#46039f\"], [0.2222222222222222, \"#7201a8\"], [0.3333333333333333, \"#9c179e\"], [0.4444444444444444, \"#bd3786\"], [0.5555555555555556, \"#d8576b\"], [0.6666666666666666, \"#ed7953\"], [0.7777777777777778, \"#fb9f3a\"], [0.8888888888888888, \"#fdca26\"], [1.0, \"#f0f921\"]], \"type\": \"contour\"}], \"contourcarpet\": [{\"colorbar\": {\"outlinewidth\": 0, \"ticks\": \"\"}, \"type\": \"contourcarpet\"}], \"heatmap\": [{\"colorbar\": {\"outlinewidth\": 0, \"ticks\": \"\"}, \"colorscale\": [[0.0, \"#0d0887\"], [0.1111111111111111, \"#46039f\"], [0.2222222222222222, \"#7201a8\"], [0.3333333333333333, \"#9c179e\"], [0.4444444444444444, \"#bd3786\"], [0.5555555555555556, \"#d8576b\"], [0.6666666666666666, \"#ed7953\"], [0.7777777777777778, \"#fb9f3a\"], [0.8888888888888888, \"#fdca26\"], [1.0, \"#f0f921\"]], \"type\": \"heatmap\"}], \"heatmapgl\": [{\"colorbar\": {\"outlinewidth\": 0, \"ticks\": \"\"}, \"colorscale\": [[0.0, \"#0d0887\"], [0.1111111111111111, \"#46039f\"], [0.2222222222222222, \"#7201a8\"], [0.3333333333333333, \"#9c179e\"], [0.4444444444444444, \"#bd3786\"], [0.5555555555555556, \"#d8576b\"], [0.6666666666666666, \"#ed7953\"], [0.7777777777777778, \"#fb9f3a\"], [0.8888888888888888, \"#fdca26\"], [1.0, \"#f0f921\"]], \"type\": \"heatmapgl\"}], \"histogram\": [{\"marker\": {\"colorbar\": {\"outlinewidth\": 0, \"ticks\": \"\"}}, \"type\": \"histogram\"}], \"histogram2d\": [{\"colorbar\": {\"outlinewidth\": 0, \"ticks\": \"\"}, \"colorscale\": [[0.0, \"#0d0887\"], [0.1111111111111111, \"#46039f\"], [0.2222222222222222, \"#7201a8\"], [0.3333333333333333, \"#9c179e\"], [0.4444444444444444, \"#bd3786\"], [0.5555555555555556, \"#d8576b\"], [0.6666666666666666, \"#ed7953\"], [0.7777777777777778, \"#fb9f3a\"], [0.8888888888888888, \"#fdca26\"], [1.0, \"#f0f921\"]], \"type\": \"histogram2d\"}], \"histogram2dcontour\": [{\"colorbar\": {\"outlinewidth\": 0, \"ticks\": \"\"}, \"colorscale\": [[0.0, \"#0d0887\"], [0.1111111111111111, \"#46039f\"], [0.2222222222222222, \"#7201a8\"], [0.3333333333333333, \"#9c179e\"], [0.4444444444444444, \"#bd3786\"], [0.5555555555555556, \"#d8576b\"], [0.6666666666666666, \"#ed7953\"], [0.7777777777777778, \"#fb9f3a\"], [0.8888888888888888, \"#fdca26\"], [1.0, \"#f0f921\"]], \"type\": \"histogram2dcontour\"}], \"mesh3d\": [{\"colorbar\": {\"outlinewidth\": 0, \"ticks\": \"\"}, \"type\": \"mesh3d\"}], \"parcoords\": [{\"line\": {\"colorbar\": {\"outlinewidth\": 0, \"ticks\": \"\"}}, \"type\": \"parcoords\"}], \"pie\": [{\"automargin\": true, \"type\": \"pie\"}], \"scatter\": [{\"marker\": {\"colorbar\": {\"outlinewidth\": 0, \"ticks\": \"\"}}, \"type\": \"scatter\"}], \"scatter3d\": [{\"line\": {\"colorbar\": {\"outlinewidth\": 0, \"ticks\": \"\"}}, \"marker\": {\"colorbar\": {\"outlinewidth\": 0, \"ticks\": \"\"}}, \"type\": \"scatter3d\"}], \"scattercarpet\": [{\"marker\": {\"colorbar\": {\"outlinewidth\": 0, \"ticks\": \"\"}}, \"type\": \"scattercarpet\"}], \"scattergeo\": [{\"marker\": {\"colorbar\": {\"outlinewidth\": 0, \"ticks\": \"\"}}, \"type\": \"scattergeo\"}], \"scattergl\": [{\"marker\": {\"colorbar\": {\"outlinewidth\": 0, \"ticks\": \"\"}}, \"type\": \"scattergl\"}], \"scattermapbox\": [{\"marker\": {\"colorbar\": {\"outlinewidth\": 0, \"ticks\": \"\"}}, \"type\": \"scattermapbox\"}], \"scatterpolar\": [{\"marker\": {\"colorbar\": {\"outlinewidth\": 0, \"ticks\": \"\"}}, \"type\": \"scatterpolar\"}], \"scatterpolargl\": [{\"marker\": {\"colorbar\": {\"outlinewidth\": 0, \"ticks\": \"\"}}, \"type\": \"scatterpolargl\"}], \"scatterternary\": [{\"marker\": {\"colorbar\": {\"outlinewidth\": 0, \"ticks\": \"\"}}, \"type\": \"scatterternary\"}], \"surface\": [{\"colorbar\": {\"outlinewidth\": 0, \"ticks\": \"\"}, \"colorscale\": [[0.0, \"#0d0887\"], [0.1111111111111111, \"#46039f\"], [0.2222222222222222, \"#7201a8\"], [0.3333333333333333, \"#9c179e\"], [0.4444444444444444, \"#bd3786\"], [0.5555555555555556, \"#d8576b\"], [0.6666666666666666, \"#ed7953\"], [0.7777777777777778, \"#fb9f3a\"], [0.8888888888888888, \"#fdca26\"], [1.0, \"#f0f921\"]], \"type\": \"surface\"}], \"table\": [{\"cells\": {\"fill\": {\"color\": \"#EBF0F8\"}, \"line\": {\"color\": \"white\"}}, \"header\": {\"fill\": {\"color\": \"#C8D4E3\"}, \"line\": {\"color\": \"white\"}}, \"type\": \"table\"}]}, \"layout\": {\"annotationdefaults\": {\"arrowcolor\": \"#2a3f5f\", \"arrowhead\": 0, \"arrowwidth\": 1}, \"coloraxis\": {\"colorbar\": {\"outlinewidth\": 0, \"ticks\": \"\"}}, \"colorscale\": {\"diverging\": [[0, \"#8e0152\"], [0.1, \"#c51b7d\"], [0.2, \"#de77ae\"], [0.3, \"#f1b6da\"], [0.4, \"#fde0ef\"], [0.5, \"#f7f7f7\"], [0.6, \"#e6f5d0\"], [0.7, \"#b8e186\"], [0.8, \"#7fbc41\"], [0.9, \"#4d9221\"], [1, \"#276419\"]], \"sequential\": [[0.0, \"#0d0887\"], [0.1111111111111111, \"#46039f\"], [0.2222222222222222, \"#7201a8\"], [0.3333333333333333, \"#9c179e\"], [0.4444444444444444, \"#bd3786\"], [0.5555555555555556, \"#d8576b\"], [0.6666666666666666, \"#ed7953\"], [0.7777777777777778, \"#fb9f3a\"], [0.8888888888888888, \"#fdca26\"], [1.0, \"#f0f921\"]], \"sequentialminus\": [[0.0, \"#0d0887\"], [0.1111111111111111, \"#46039f\"], [0.2222222222222222, \"#7201a8\"], [0.3333333333333333, \"#9c179e\"], [0.4444444444444444, \"#bd3786\"], [0.5555555555555556, \"#d8576b\"], [0.6666666666666666, \"#ed7953\"], [0.7777777777777778, \"#fb9f3a\"], [0.8888888888888888, \"#fdca26\"], [1.0, \"#f0f921\"]]}, \"colorway\": [\"#636efa\", \"#EF553B\", \"#00cc96\", \"#ab63fa\", \"#FFA15A\", \"#19d3f3\", \"#FF6692\", \"#B6E880\", \"#FF97FF\", \"#FECB52\"], \"font\": {\"color\": \"#2a3f5f\"}, \"geo\": {\"bgcolor\": \"white\", \"lakecolor\": \"white\", \"landcolor\": \"#E5ECF6\", \"showlakes\": true, \"showland\": true, \"subunitcolor\": \"white\"}, \"hoverlabel\": {\"align\": \"left\"}, \"hovermode\": \"closest\", \"mapbox\": {\"style\": \"light\"}, \"paper_bgcolor\": \"white\", \"plot_bgcolor\": \"#E5ECF6\", \"polar\": {\"angularaxis\": {\"gridcolor\": \"white\", \"linecolor\": \"white\", \"ticks\": \"\"}, \"bgcolor\": \"#E5ECF6\", \"radialaxis\": {\"gridcolor\": \"white\", \"linecolor\": \"white\", \"ticks\": \"\"}}, \"scene\": {\"xaxis\": {\"backgroundcolor\": \"#E5ECF6\", \"gridcolor\": \"white\", \"gridwidth\": 2, \"linecolor\": \"white\", \"showbackground\": true, \"ticks\": \"\", \"zerolinecolor\": \"white\"}, \"yaxis\": {\"backgroundcolor\": \"#E5ECF6\", \"gridcolor\": \"white\", \"gridwidth\": 2, \"linecolor\": \"white\", \"showbackground\": true, \"ticks\": \"\", \"zerolinecolor\": \"white\"}, \"zaxis\": {\"backgroundcolor\": \"#E5ECF6\", \"gridcolor\": \"white\", \"gridwidth\": 2, \"linecolor\": \"white\", \"showbackground\": true, \"ticks\": \"\", \"zerolinecolor\": \"white\"}}, \"shapedefaults\": {\"line\": {\"color\": \"#2a3f5f\"}}, \"ternary\": {\"aaxis\": {\"gridcolor\": \"white\", \"linecolor\": \"white\", \"ticks\": \"\"}, \"baxis\": {\"gridcolor\": \"white\", \"linecolor\": \"white\", \"ticks\": \"\"}, \"bgcolor\": \"#E5ECF6\", \"caxis\": {\"gridcolor\": \"white\", \"linecolor\": \"white\", \"ticks\": \"\"}}, \"title\": {\"x\": 0.05}, \"xaxis\": {\"automargin\": true, \"gridcolor\": \"white\", \"linecolor\": \"white\", \"ticks\": \"\", \"title\": {\"standoff\": 15}, \"zerolinecolor\": \"white\", \"zerolinewidth\": 2}, \"yaxis\": {\"automargin\": true, \"gridcolor\": \"white\", \"linecolor\": \"white\", \"ticks\": \"\", \"title\": {\"standoff\": 15}, \"zerolinecolor\": \"white\", \"zerolinewidth\": 2}}}, \"updatemenus\": [{\"buttons\": [{\"args\": [null, {\"frame\": {\"duration\": 1000, \"redraw\": false}, \"fromcurrent\": true, \"mode\": \"immediate\", \"transition\": {\"duration\": 500, \"easing\": \"linear\"}}], \"label\": \"&#9654;\", \"method\": \"animate\"}, {\"args\": [[null], {\"frame\": {\"duration\": 0, \"redraw\": false}, \"fromcurrent\": true, \"mode\": \"immediate\", \"transition\": {\"duration\": 0, \"easing\": \"linear\"}}], \"label\": \"&#9724;\", \"method\": \"animate\"}], \"direction\": \"left\", \"pad\": {\"r\": 10, \"t\": 70}, \"showactive\": false, \"type\": \"buttons\", \"x\": 0.1, \"xanchor\": \"right\", \"y\": 0, \"yanchor\": \"top\"}], \"xaxis\": {\"anchor\": \"y\", \"domain\": [0.0, 1.0], \"range\": [1, 60], \"title\": {\"text\": \"Games per Genre\"}}, \"yaxis\": {\"anchor\": \"x\", \"domain\": [0.0, 1.0], \"range\": [1, 200], \"title\": {\"text\": \"Games per Platform\"}}},                        {\"responsive\": true}                    ).then(function(){\n",
       "                            Plotly.addFrames('46883a33-4e54-440a-9f48-b0dbca40322f', [{\"data\": [{\"hovertemplate\": \"<b>%{hovertext}</b><br><br>Platform=2600<br>Year=1980<br>Games per Genre=%{x}<br>Games per Platform=%{marker.size}<extra></extra>\", \"hovertext\": [\"Fighting\", \"Misc\", \"Shooter\", \"Sports\"], \"ids\": [\"Fighting\", \"Misc\", \"Shooter\", \"Sports\"], \"legendgroup\": \"2600\", \"marker\": {\"color\": \"#636efa\", \"size\": [5, 5, 5, 5], \"sizemode\": \"area\", \"sizeref\": 0.42, \"symbol\": \"circle\"}, \"mode\": \"markers\", \"name\": \"2600\", \"orientation\": \"v\", \"showlegend\": true, \"x\": [1, 2, 1, 1], \"xaxis\": \"x\", \"y\": [5, 5, 5, 5], \"yaxis\": \"y\", \"type\": \"scatter\"}], \"name\": \"1980\"}, {\"data\": [{\"hovertemplate\": \"<b>%{hovertext}</b><br><br>Platform=2600<br>Year=1981<br>Games per Genre=%{x}<br>Games per Platform=%{marker.size}<extra></extra>\", \"hovertext\": [\"Action\", \"Platform\", \"Puzzle\", \"Racing\", \"Shooter\", \"Simulation\", \"Sports\"], \"ids\": [\"Action\", \"Platform\", \"Puzzle\", \"Racing\", \"Shooter\", \"Simulation\", \"Sports\"], \"legendgroup\": \"2600\", \"marker\": {\"color\": \"#636efa\", \"size\": [36, 36, 36, 36, 36, 36, 36], \"sizemode\": \"area\", \"sizeref\": 0.42, \"symbol\": \"circle\"}, \"mode\": \"markers\", \"name\": \"2600\", \"orientation\": \"v\", \"showlegend\": true, \"x\": [20, 1, 2, 1, 8, 1, 3], \"xaxis\": \"x\", \"y\": [36, 36, 36, 36, 36, 36, 36], \"yaxis\": \"y\", \"type\": \"scatter\"}], \"name\": \"1981\"}, {\"data\": [{\"hovertemplate\": \"<b>%{hovertext}</b><br><br>Platform=2600<br>Year=1982<br>Games per Genre=%{x}<br>Games per Platform=%{marker.size}<extra></extra>\", \"hovertext\": [\"Action\", \"Misc\", \"Platform\", \"Puzzle\", \"Racing\", \"Shooter\", \"Sports\"], \"ids\": [\"Action\", \"Misc\", \"Platform\", \"Puzzle\", \"Racing\", \"Shooter\", \"Sports\"], \"legendgroup\": \"2600\", \"marker\": {\"color\": \"#636efa\", \"size\": [26, 26, 26, 26, 26, 26, 26], \"sizemode\": \"area\", \"sizeref\": 0.42, \"symbol\": \"circle\"}, \"mode\": \"markers\", \"name\": \"2600\", \"orientation\": \"v\", \"showlegend\": true, \"x\": [10, 1, 5, 2, 2, 4, 2], \"xaxis\": \"x\", \"y\": [26, 26, 26, 26, 26, 26, 26], \"yaxis\": \"y\", \"type\": \"scatter\"}], \"name\": \"1982\"}, {\"data\": [{\"hovertemplate\": \"<b>%{hovertext}</b><br><br>Platform=2600<br>Year=1983<br>Games per Genre=%{x}<br>Games per Platform=%{marker.size}<extra></extra>\", \"hovertext\": [\"Action\", \"Platform\", \"Puzzle\", \"Shooter\", \"Sports\"], \"ids\": [\"Action\", \"Platform\", \"Puzzle\", \"Shooter\", \"Sports\"], \"legendgroup\": \"2600\", \"marker\": {\"color\": \"#636efa\", \"size\": [8, 8, 8, 8, 8], \"sizemode\": \"area\", \"sizeref\": 0.42, \"symbol\": \"circle\"}, \"mode\": \"markers\", \"name\": \"2600\", \"orientation\": \"v\", \"showlegend\": true, \"x\": [5, 2, 1, 1, 1], \"xaxis\": \"x\", \"y\": [8, 8, 8, 8, 8], \"yaxis\": \"y\", \"type\": \"scatter\"}, {\"hovertemplate\": \"<b>%{hovertext}</b><br><br>Platform=NES<br>Year=1983<br>Games per Genre=%{x}<br>Games per Platform=%{marker.size}<extra></extra>\", \"hovertext\": [\"Action\", \"Platform\", \"Puzzle\", \"Shooter\", \"Sports\"], \"ids\": [\"Action\", \"Platform\", \"Puzzle\", \"Shooter\", \"Sports\"], \"legendgroup\": \"NES\", \"marker\": {\"color\": \"#EF553B\", \"size\": [2, 2, 2, 2, 2], \"sizemode\": \"area\", \"sizeref\": 0.42, \"symbol\": \"circle\"}, \"mode\": \"markers\", \"name\": \"NES\", \"orientation\": \"v\", \"showlegend\": true, \"x\": [5, 2, 1, 1, 1], \"xaxis\": \"x\", \"y\": [2, 2, 2, 2, 2], \"yaxis\": \"y\", \"type\": \"scatter\"}], \"name\": \"1983\"}, {\"data\": [{\"hovertemplate\": \"<b>%{hovertext}</b><br><br>Platform=2600<br>Year=1984<br>Games per Genre=%{x}<br>Games per Platform=%{marker.size}<extra></extra>\", \"hovertext\": [\"Action\", \"Puzzle\", \"Racing\", \"Shooter\", \"Sports\"], \"ids\": [\"Action\", \"Puzzle\", \"Racing\", \"Shooter\", \"Sports\"], \"legendgroup\": \"2600\", \"marker\": {\"color\": \"#636efa\", \"size\": [1, 1, 1, 1, 1], \"sizemode\": \"area\", \"sizeref\": 0.42, \"symbol\": \"circle\"}, \"mode\": \"markers\", \"name\": \"2600\", \"orientation\": \"v\", \"showlegend\": true, \"x\": [1, 1, 2, 2, 2], \"xaxis\": \"x\", \"y\": [1, 1, 1, 1, 1], \"yaxis\": \"y\", \"type\": \"scatter\"}, {\"hovertemplate\": \"<b>%{hovertext}</b><br><br>Platform=NES<br>Year=1984<br>Games per Genre=%{x}<br>Games per Platform=%{marker.size}<extra></extra>\", \"hovertext\": [\"Action\", \"Puzzle\", \"Racing\", \"Shooter\", \"Sports\"], \"ids\": [\"Action\", \"Puzzle\", \"Racing\", \"Shooter\", \"Sports\"], \"legendgroup\": \"NES\", \"marker\": {\"color\": \"#EF553B\", \"size\": [7, 7, 7, 7, 7], \"sizemode\": \"area\", \"sizeref\": 0.42, \"symbol\": \"circle\"}, \"mode\": \"markers\", \"name\": \"NES\", \"orientation\": \"v\", \"showlegend\": true, \"x\": [1, 1, 2, 2, 2], \"xaxis\": \"x\", \"y\": [7, 7, 7, 7, 7], \"yaxis\": \"y\", \"type\": \"scatter\"}], \"name\": \"1984\"}, {\"data\": [{\"hovertemplate\": \"<b>%{hovertext}</b><br><br>Platform=2600<br>Year=1985<br>Games per Genre=%{x}<br>Games per Platform=%{marker.size}<extra></extra>\", \"hovertext\": [\"Action\", \"Platform\", \"Puzzle\", \"Shooter\", \"Sports\"], \"ids\": [\"Action\", \"Platform\", \"Puzzle\", \"Shooter\", \"Sports\"], \"legendgroup\": \"2600\", \"marker\": {\"color\": \"#636efa\", \"size\": [1, 1, 1, 1, 1], \"sizemode\": \"area\", \"sizeref\": 0.42, \"symbol\": \"circle\"}, \"mode\": \"markers\", \"name\": \"2600\", \"orientation\": \"v\", \"showlegend\": true, \"x\": [1, 4, 3, 1, 1], \"xaxis\": \"x\", \"y\": [1, 1, 1, 1, 1], \"yaxis\": \"y\", \"type\": \"scatter\"}, {\"hovertemplate\": \"<b>%{hovertext}</b><br><br>Platform=NES<br>Year=1985<br>Games per Genre=%{x}<br>Games per Platform=%{marker.size}<extra></extra>\", \"hovertext\": [\"Action\", \"Platform\", \"Puzzle\", \"Shooter\", \"Sports\"], \"ids\": [\"Action\", \"Platform\", \"Puzzle\", \"Shooter\", \"Sports\"], \"legendgroup\": \"NES\", \"marker\": {\"color\": \"#EF553B\", \"size\": [9, 9, 9, 9, 9], \"sizemode\": \"area\", \"sizeref\": 0.42, \"symbol\": \"circle\"}, \"mode\": \"markers\", \"name\": \"NES\", \"orientation\": \"v\", \"showlegend\": true, \"x\": [1, 4, 3, 1, 1], \"xaxis\": \"x\", \"y\": [9, 9, 9, 9, 9], \"yaxis\": \"y\", \"type\": \"scatter\"}], \"name\": \"1985\"}, {\"data\": [{\"hovertemplate\": \"<b>%{hovertext}</b><br><br>Platform=2600<br>Year=1986<br>Games per Genre=%{x}<br>Games per Platform=%{marker.size}<extra></extra>\", \"hovertext\": [\"Action\", \"Platform\", \"Racing\", \"Role-Playing\", \"Shooter\", \"Sports\"], \"ids\": [\"Action\", \"Platform\", \"Racing\", \"Role-Playing\", \"Shooter\", \"Sports\"], \"legendgroup\": \"2600\", \"marker\": {\"color\": \"#636efa\", \"size\": [2, 2, 2, 2, 2, 2], \"sizemode\": \"area\", \"sizeref\": 0.42, \"symbol\": \"circle\"}, \"mode\": \"markers\", \"name\": \"2600\", \"orientation\": \"v\", \"showlegend\": true, \"x\": [3, 2, 1, 1, 3, 2], \"xaxis\": \"x\", \"y\": [2, 2, 2, 2, 2, 2], \"yaxis\": \"y\", \"type\": \"scatter\"}, {\"hovertemplate\": \"<b>%{hovertext}</b><br><br>Platform=NES<br>Year=1986<br>Games per Genre=%{x}<br>Games per Platform=%{marker.size}<extra></extra>\", \"hovertext\": [\"Action\", \"Platform\", \"Racing\", \"Role-Playing\", \"Shooter\", \"Sports\"], \"ids\": [\"Action\", \"Platform\", \"Racing\", \"Role-Playing\", \"Shooter\", \"Sports\"], \"legendgroup\": \"NES\", \"marker\": {\"color\": \"#EF553B\", \"size\": [10, 10, 10, 10, 10, 10], \"sizemode\": \"area\", \"sizeref\": 0.42, \"symbol\": \"circle\"}, \"mode\": \"markers\", \"name\": \"NES\", \"orientation\": \"v\", \"showlegend\": true, \"x\": [3, 2, 1, 1, 3, 2], \"xaxis\": \"x\", \"y\": [10, 10, 10, 10, 10, 10], \"yaxis\": \"y\", \"type\": \"scatter\"}], \"name\": \"1986\"}, {\"data\": [{\"hovertemplate\": \"<b>%{hovertext}</b><br><br>Platform=2600<br>Year=1987<br>Games per Genre=%{x}<br>Games per Platform=%{marker.size}<extra></extra>\", \"hovertext\": [\"Action\", \"Adventure\", \"Fighting\", \"Platform\", \"Role-Playing\", \"Shooter\", \"Sports\"], \"ids\": [\"Action\", \"Adventure\", \"Fighting\", \"Platform\", \"Role-Playing\", \"Shooter\", \"Sports\"], \"legendgroup\": \"2600\", \"marker\": {\"color\": \"#636efa\", \"size\": [6, 6, 6, 6, 6, 6, 6], \"sizemode\": \"area\", \"sizeref\": 0.42, \"symbol\": \"circle\"}, \"mode\": \"markers\", \"name\": \"2600\", \"orientation\": \"v\", \"showlegend\": true, \"x\": [2, 1, 2, 1, 2, 2, 2], \"xaxis\": \"x\", \"y\": [6, 6, 6, 6, 6, 6, 6], \"yaxis\": \"y\", \"type\": \"scatter\"}, {\"hovertemplate\": \"<b>%{hovertext}</b><br><br>Platform=NES<br>Year=1987<br>Games per Genre=%{x}<br>Games per Platform=%{marker.size}<extra></extra>\", \"hovertext\": [\"Action\", \"Adventure\", \"Fighting\", \"Platform\", \"Role-Playing\", \"Shooter\", \"Sports\"], \"ids\": [\"Action\", \"Adventure\", \"Fighting\", \"Platform\", \"Role-Playing\", \"Shooter\", \"Sports\"], \"legendgroup\": \"NES\", \"marker\": {\"color\": \"#EF553B\", \"size\": [6, 6, 6, 6, 6, 6, 6], \"sizemode\": \"area\", \"sizeref\": 0.42, \"symbol\": \"circle\"}, \"mode\": \"markers\", \"name\": \"NES\", \"orientation\": \"v\", \"showlegend\": true, \"x\": [2, 1, 2, 1, 2, 2, 2], \"xaxis\": \"x\", \"y\": [6, 6, 6, 6, 6, 6, 6], \"yaxis\": \"y\", \"type\": \"scatter\"}], \"name\": \"1987\"}, {\"data\": [{\"hovertemplate\": \"<b>%{hovertext}</b><br><br>Platform=2600<br>Year=1988<br>Games per Genre=%{x}<br>Games per Platform=%{marker.size}<extra></extra>\", \"hovertext\": [\"Action\", \"Platform\", \"Puzzle\", \"Racing\", \"Shooter\", \"Sports\"], \"ids\": [\"Action\", \"Platform\", \"Puzzle\", \"Racing\", \"Shooter\", \"Sports\"], \"legendgroup\": \"2600\", \"marker\": {\"color\": \"#636efa\", \"size\": [2, 2, 2, 2, 2, 2], \"sizemode\": \"area\", \"sizeref\": 0.42, \"symbol\": \"circle\"}, \"mode\": \"markers\", \"name\": \"2600\", \"orientation\": \"v\", \"showlegend\": true, \"x\": [1, 3, 1, 1, 1, 1], \"xaxis\": \"x\", \"y\": [2, 2, 2, 2, 2, 2], \"yaxis\": \"y\", \"type\": \"scatter\"}, {\"hovertemplate\": \"<b>%{hovertext}</b><br><br>Platform=NES<br>Year=1988<br>Games per Genre=%{x}<br>Games per Platform=%{marker.size}<extra></extra>\", \"hovertext\": [\"Action\", \"Platform\", \"Puzzle\", \"Racing\", \"Shooter\", \"Sports\"], \"ids\": [\"Action\", \"Platform\", \"Puzzle\", \"Racing\", \"Shooter\", \"Sports\"], \"legendgroup\": \"NES\", \"marker\": {\"color\": \"#EF553B\", \"size\": [6, 6, 6, 6, 6, 6], \"sizemode\": \"area\", \"sizeref\": 0.42, \"symbol\": \"circle\"}, \"mode\": \"markers\", \"name\": \"NES\", \"orientation\": \"v\", \"showlegend\": true, \"x\": [1, 3, 1, 1, 1, 1], \"xaxis\": \"x\", \"y\": [6, 6, 6, 6, 6, 6], \"yaxis\": \"y\", \"type\": \"scatter\"}], \"name\": \"1988\"}, {\"data\": [{\"hovertemplate\": \"<b>%{hovertext}</b><br><br>Platform=2600<br>Year=1989<br>Games per Genre=%{x}<br>Games per Platform=%{marker.size}<extra></extra>\", \"hovertext\": [\"Action\", \"Puzzle\"], \"ids\": [\"Action\", \"Puzzle\"], \"legendgroup\": \"2600\", \"marker\": {\"color\": \"#636efa\", \"size\": [1, 1], \"sizemode\": \"area\", \"sizeref\": 0.42, \"symbol\": \"circle\"}, \"mode\": \"markers\", \"name\": \"2600\", \"orientation\": \"v\", \"showlegend\": true, \"x\": [2, 1], \"xaxis\": \"x\", \"y\": [1, 1], \"yaxis\": \"y\", \"type\": \"scatter\"}, {\"hovertemplate\": \"<b>%{hovertext}</b><br><br>Platform=NES<br>Year=1989<br>Games per Genre=%{x}<br>Games per Platform=%{marker.size}<extra></extra>\", \"hovertext\": [\"Action\", \"Puzzle\"], \"ids\": [\"Action\", \"Puzzle\"], \"legendgroup\": \"NES\", \"marker\": {\"color\": \"#EF553B\", \"size\": [2, 2], \"sizemode\": \"area\", \"sizeref\": 0.42, \"symbol\": \"circle\"}, \"mode\": \"markers\", \"name\": \"NES\", \"orientation\": \"v\", \"showlegend\": true, \"x\": [2, 1], \"xaxis\": \"x\", \"y\": [2, 2], \"yaxis\": \"y\", \"type\": \"scatter\"}], \"name\": \"1989\"}, {\"data\": [{\"hovertemplate\": \"<b>%{hovertext}</b><br><br>Platform=NES<br>Year=1990<br>Games per Genre=%{x}<br>Games per Platform=%{marker.size}<extra></extra>\", \"hovertext\": [\"Action\", \"Platform\", \"Puzzle\", \"Racing\", \"Simulation\", \"Sports\"], \"ids\": [\"Action\", \"Platform\", \"Puzzle\", \"Racing\", \"Simulation\", \"Sports\"], \"legendgroup\": \"NES\", \"marker\": {\"color\": \"#EF553B\", \"size\": [4, 4, 4, 4, 4, 4], \"sizemode\": \"area\", \"sizeref\": 0.42, \"symbol\": \"circle\"}, \"mode\": \"markers\", \"name\": \"NES\", \"orientation\": \"v\", \"showlegend\": true, \"x\": [3, 1, 1, 1, 1, 1], \"xaxis\": \"x\", \"y\": [4, 4, 4, 4, 4, 4], \"yaxis\": \"y\", \"type\": \"scatter\"}, {\"hovertemplate\": \"<b>%{hovertext}</b><br><br>Platform=GEN<br>Year=1990<br>Games per Genre=%{x}<br>Games per Platform=%{marker.size}<extra></extra>\", \"hovertext\": [\"Action\", \"Platform\", \"Puzzle\", \"Racing\", \"Simulation\", \"Sports\"], \"ids\": [\"Action\", \"Platform\", \"Puzzle\", \"Racing\", \"Simulation\", \"Sports\"], \"legendgroup\": \"GEN\", \"marker\": {\"color\": \"#00cc96\", \"size\": [1, 1, 1, 1, 1, 1], \"sizemode\": \"area\", \"sizeref\": 0.42, \"symbol\": \"circle\"}, \"mode\": \"markers\", \"name\": \"GEN\", \"orientation\": \"v\", \"showlegend\": true, \"x\": [3, 1, 1, 1, 1, 1], \"xaxis\": \"x\", \"y\": [1, 1, 1, 1, 1, 1], \"yaxis\": \"y\", \"type\": \"scatter\"}, {\"hovertemplate\": \"<b>%{hovertext}</b><br><br>Platform=SNES<br>Year=1990<br>Games per Genre=%{x}<br>Games per Platform=%{marker.size}<extra></extra>\", \"hovertext\": [\"Action\", \"Platform\", \"Puzzle\", \"Racing\", \"Simulation\", \"Sports\"], \"ids\": [\"Action\", \"Platform\", \"Puzzle\", \"Racing\", \"Simulation\", \"Sports\"], \"legendgroup\": \"SNES\", \"marker\": {\"color\": \"#ab63fa\", \"size\": [3, 3, 3, 3, 3, 3], \"sizemode\": \"area\", \"sizeref\": 0.42, \"symbol\": \"circle\"}, \"mode\": \"markers\", \"name\": \"SNES\", \"orientation\": \"v\", \"showlegend\": true, \"x\": [3, 1, 1, 1, 1, 1], \"xaxis\": \"x\", \"y\": [3, 3, 3, 3, 3, 3], \"yaxis\": \"y\", \"type\": \"scatter\"}], \"name\": \"1990\"}, {\"data\": [{\"hovertemplate\": \"<b>%{hovertext}</b><br><br>Platform=NES<br>Year=1991<br>Games per Genre=%{x}<br>Games per Platform=%{marker.size}<extra></extra>\", \"hovertext\": [\"Platform\", \"Puzzle\", \"Role-Playing\", \"Shooter\", \"Simulation\", \"Sports\", \"Strategy\"], \"ids\": [\"Platform\", \"Puzzle\", \"Role-Playing\", \"Shooter\", \"Simulation\", \"Sports\", \"Strategy\"], \"legendgroup\": \"NES\", \"marker\": {\"color\": \"#EF553B\", \"size\": [3, 3, 3, 3, 3, 3, 3], \"sizemode\": \"area\", \"sizeref\": 0.42, \"symbol\": \"circle\"}, \"mode\": \"markers\", \"name\": \"NES\", \"orientation\": \"v\", \"showlegend\": true, \"x\": [4, 1, 1, 3, 2, 5, 1], \"xaxis\": \"x\", \"y\": [3, 3, 3, 3, 3, 3, 3], \"yaxis\": \"y\", \"type\": \"scatter\"}, {\"hovertemplate\": \"<b>%{hovertext}</b><br><br>Platform=GEN<br>Year=1991<br>Games per Genre=%{x}<br>Games per Platform=%{marker.size}<extra></extra>\", \"hovertext\": [\"Platform\", \"Puzzle\", \"Role-Playing\", \"Shooter\", \"Simulation\", \"Sports\", \"Strategy\"], \"ids\": [\"Platform\", \"Puzzle\", \"Role-Playing\", \"Shooter\", \"Simulation\", \"Sports\", \"Strategy\"], \"legendgroup\": \"GEN\", \"marker\": {\"color\": \"#00cc96\", \"size\": [1, 1, 1, 1, 1, 1, 1], \"sizemode\": \"area\", \"sizeref\": 0.42, \"symbol\": \"circle\"}, \"mode\": \"markers\", \"name\": \"GEN\", \"orientation\": \"v\", \"showlegend\": true, \"x\": [4, 1, 1, 3, 2, 5, 1], \"xaxis\": \"x\", \"y\": [1, 1, 1, 1, 1, 1, 1], \"yaxis\": \"y\", \"type\": \"scatter\"}, {\"hovertemplate\": \"<b>%{hovertext}</b><br><br>Platform=SNES<br>Year=1991<br>Games per Genre=%{x}<br>Games per Platform=%{marker.size}<extra></extra>\", \"hovertext\": [\"Platform\", \"Puzzle\", \"Role-Playing\", \"Shooter\", \"Simulation\", \"Sports\", \"Strategy\"], \"ids\": [\"Platform\", \"Puzzle\", \"Role-Playing\", \"Shooter\", \"Simulation\", \"Sports\", \"Strategy\"], \"legendgroup\": \"SNES\", \"marker\": {\"color\": \"#ab63fa\", \"size\": [13, 13, 13, 13, 13, 13, 13], \"sizemode\": \"area\", \"sizeref\": 0.42, \"symbol\": \"circle\"}, \"mode\": \"markers\", \"name\": \"SNES\", \"orientation\": \"v\", \"showlegend\": true, \"x\": [4, 1, 1, 3, 2, 5, 1], \"xaxis\": \"x\", \"y\": [13, 13, 13, 13, 13, 13, 13], \"yaxis\": \"y\", \"type\": \"scatter\"}], \"name\": \"1991\"}, {\"data\": [{\"hovertemplate\": \"<b>%{hovertext}</b><br><br>Platform=NES<br>Year=1992<br>Games per Genre=%{x}<br>Games per Platform=%{marker.size}<extra></extra>\", \"hovertext\": [\"Adventure\", \"Fighting\", \"Misc\", \"Platform\", \"Puzzle\", \"Racing\", \"Shooter\", \"Sports\", \"Strategy\"], \"ids\": [\"Adventure\", \"Fighting\", \"Misc\", \"Platform\", \"Puzzle\", \"Racing\", \"Shooter\", \"Sports\", \"Strategy\"], \"legendgroup\": \"NES\", \"marker\": {\"color\": \"#EF553B\", \"size\": [1, 1, 1, 1, 1, 1, 1, 1, 1], \"sizemode\": \"area\", \"sizeref\": 0.42, \"symbol\": \"circle\"}, \"mode\": \"markers\", \"name\": \"NES\", \"orientation\": \"v\", \"showlegend\": true, \"x\": [1, 5, 1, 2, 1, 1, 1, 2, 1], \"xaxis\": \"x\", \"y\": [1, 1, 1, 1, 1, 1, 1, 1, 1], \"yaxis\": \"y\", \"type\": \"scatter\"}, {\"hovertemplate\": \"<b>%{hovertext}</b><br><br>Platform=GEN<br>Year=1992<br>Games per Genre=%{x}<br>Games per Platform=%{marker.size}<extra></extra>\", \"hovertext\": [\"Adventure\", \"Fighting\", \"Misc\", \"Platform\", \"Puzzle\", \"Racing\", \"Shooter\", \"Sports\", \"Strategy\"], \"ids\": [\"Adventure\", \"Fighting\", \"Misc\", \"Platform\", \"Puzzle\", \"Racing\", \"Shooter\", \"Sports\", \"Strategy\"], \"legendgroup\": \"GEN\", \"marker\": {\"color\": \"#00cc96\", \"size\": [6, 6, 6, 6, 6, 6, 6, 6, 6], \"sizemode\": \"area\", \"sizeref\": 0.42, \"symbol\": \"circle\"}, \"mode\": \"markers\", \"name\": \"GEN\", \"orientation\": \"v\", \"showlegend\": true, \"x\": [1, 5, 1, 2, 1, 1, 1, 2, 1], \"xaxis\": \"x\", \"y\": [6, 6, 6, 6, 6, 6, 6, 6, 6], \"yaxis\": \"y\", \"type\": \"scatter\"}, {\"hovertemplate\": \"<b>%{hovertext}</b><br><br>Platform=SNES<br>Year=1992<br>Games per Genre=%{x}<br>Games per Platform=%{marker.size}<extra></extra>\", \"hovertext\": [\"Adventure\", \"Fighting\", \"Misc\", \"Platform\", \"Puzzle\", \"Racing\", \"Shooter\", \"Sports\", \"Strategy\"], \"ids\": [\"Adventure\", \"Fighting\", \"Misc\", \"Platform\", \"Puzzle\", \"Racing\", \"Shooter\", \"Sports\", \"Strategy\"], \"legendgroup\": \"SNES\", \"marker\": {\"color\": \"#ab63fa\", \"size\": [8, 8, 8, 8, 8, 8, 8, 8, 8], \"sizemode\": \"area\", \"sizeref\": 0.42, \"symbol\": \"circle\"}, \"mode\": \"markers\", \"name\": \"SNES\", \"orientation\": \"v\", \"showlegend\": true, \"x\": [1, 5, 1, 2, 1, 1, 1, 2, 1], \"xaxis\": \"x\", \"y\": [8, 8, 8, 8, 8, 8, 8, 8, 8], \"yaxis\": \"y\", \"type\": \"scatter\"}], \"name\": \"1992\"}, {\"data\": [{\"hovertemplate\": \"<b>%{hovertext}</b><br><br>Platform=NES<br>Year=1993<br>Games per Genre=%{x}<br>Games per Platform=%{marker.size}<extra></extra>\", \"hovertext\": [\"Action\", \"Adventure\", \"Fighting\", \"Platform\", \"Puzzle\", \"Racing\", \"Role-Playing\", \"Shooter\", \"Strategy\"], \"ids\": [\"Action\", \"Adventure\", \"Fighting\", \"Platform\", \"Puzzle\", \"Racing\", \"Role-Playing\", \"Shooter\", \"Strategy\"], \"legendgroup\": \"NES\", \"marker\": {\"color\": \"#EF553B\", \"size\": [3, 3, 3, 3, 3, 3, 3, 3, 3], \"sizemode\": \"area\", \"sizeref\": 0.42, \"symbol\": \"circle\"}, \"mode\": \"markers\", \"name\": \"NES\", \"orientation\": \"v\", \"showlegend\": true, \"x\": [1, 1, 3, 5, 1, 2, 2, 2, 1], \"xaxis\": \"x\", \"y\": [3, 3, 3, 3, 3, 3, 3, 3, 3], \"yaxis\": \"y\", \"type\": \"scatter\"}, {\"hovertemplate\": \"<b>%{hovertext}</b><br><br>Platform=GEN<br>Year=1993<br>Games per Genre=%{x}<br>Games per Platform=%{marker.size}<extra></extra>\", \"hovertext\": [\"Action\", \"Adventure\", \"Fighting\", \"Platform\", \"Puzzle\", \"Racing\", \"Role-Playing\", \"Shooter\", \"Strategy\"], \"ids\": [\"Action\", \"Adventure\", \"Fighting\", \"Platform\", \"Puzzle\", \"Racing\", \"Role-Playing\", \"Shooter\", \"Strategy\"], \"legendgroup\": \"GEN\", \"marker\": {\"color\": \"#00cc96\", \"size\": [4, 4, 4, 4, 4, 4, 4, 4, 4], \"sizemode\": \"area\", \"sizeref\": 0.42, \"symbol\": \"circle\"}, \"mode\": \"markers\", \"name\": \"GEN\", \"orientation\": \"v\", \"showlegend\": true, \"x\": [1, 1, 3, 5, 1, 2, 2, 2, 1], \"xaxis\": \"x\", \"y\": [4, 4, 4, 4, 4, 4, 4, 4, 4], \"yaxis\": \"y\", \"type\": \"scatter\"}, {\"hovertemplate\": \"<b>%{hovertext}</b><br><br>Platform=SNES<br>Year=1993<br>Games per Genre=%{x}<br>Games per Platform=%{marker.size}<extra></extra>\", \"hovertext\": [\"Action\", \"Adventure\", \"Fighting\", \"Platform\", \"Puzzle\", \"Racing\", \"Role-Playing\", \"Shooter\", \"Strategy\"], \"ids\": [\"Action\", \"Adventure\", \"Fighting\", \"Platform\", \"Puzzle\", \"Racing\", \"Role-Playing\", \"Shooter\", \"Strategy\"], \"legendgroup\": \"SNES\", \"marker\": {\"color\": \"#ab63fa\", \"size\": [10, 10, 10, 10, 10, 10, 10, 10, 10], \"sizemode\": \"area\", \"sizeref\": 0.42, \"symbol\": \"circle\"}, \"mode\": \"markers\", \"name\": \"SNES\", \"orientation\": \"v\", \"showlegend\": true, \"x\": [1, 1, 3, 5, 1, 2, 2, 2, 1], \"xaxis\": \"x\", \"y\": [10, 10, 10, 10, 10, 10, 10, 10, 10], \"yaxis\": \"y\", \"type\": \"scatter\"}, {\"hovertemplate\": \"<b>%{hovertext}</b><br><br>Platform=SCD<br>Year=1993<br>Games per Genre=%{x}<br>Games per Platform=%{marker.size}<extra></extra>\", \"hovertext\": [\"Action\", \"Adventure\", \"Fighting\", \"Platform\", \"Puzzle\", \"Racing\", \"Role-Playing\", \"Shooter\", \"Strategy\"], \"ids\": [\"Action\", \"Adventure\", \"Fighting\", \"Platform\", \"Puzzle\", \"Racing\", \"Role-Playing\", \"Shooter\", \"Strategy\"], \"legendgroup\": \"SCD\", \"marker\": {\"color\": \"#FFA15A\", \"size\": [1, 1, 1, 1, 1, 1, 1, 1, 1], \"sizemode\": \"area\", \"sizeref\": 0.42, \"symbol\": \"circle\"}, \"mode\": \"markers\", \"name\": \"SCD\", \"orientation\": \"v\", \"showlegend\": true, \"x\": [1, 1, 3, 5, 1, 2, 2, 2, 1], \"xaxis\": \"x\", \"y\": [1, 1, 1, 1, 1, 1, 1, 1, 1], \"yaxis\": \"y\", \"type\": \"scatter\"}], \"name\": \"1993\"}, {\"data\": [{\"hovertemplate\": \"<b>%{hovertext}</b><br><br>Platform=GEN<br>Year=1994<br>Games per Genre=%{x}<br>Games per Platform=%{marker.size}<extra></extra>\", \"hovertext\": [\"Adventure\", \"Fighting\", \"Platform\", \"Puzzle\", \"Racing\", \"Shooter\", \"Simulation\", \"Sports\", \"Strategy\"], \"ids\": [\"Adventure\", \"Fighting\", \"Platform\", \"Puzzle\", \"Racing\", \"Shooter\", \"Simulation\", \"Sports\", \"Strategy\"], \"legendgroup\": \"GEN\", \"marker\": {\"color\": \"#00cc96\", \"size\": [5, 5, 5, 5, 5, 5, 5, 5, 5], \"sizemode\": \"area\", \"sizeref\": 0.42, \"symbol\": \"circle\"}, \"mode\": \"markers\", \"name\": \"GEN\", \"orientation\": \"v\", \"showlegend\": true, \"x\": [2, 12, 4, 1, 4, 6, 4, 9, 1], \"xaxis\": \"x\", \"y\": [5, 5, 5, 5, 5, 5, 5, 5, 5], \"yaxis\": \"y\", \"type\": \"scatter\"}, {\"hovertemplate\": \"<b>%{hovertext}</b><br><br>Platform=SNES<br>Year=1994<br>Games per Genre=%{x}<br>Games per Platform=%{marker.size}<extra></extra>\", \"hovertext\": [\"Adventure\", \"Fighting\", \"Platform\", \"Puzzle\", \"Racing\", \"Shooter\", \"Simulation\", \"Sports\", \"Strategy\"], \"ids\": [\"Adventure\", \"Fighting\", \"Platform\", \"Puzzle\", \"Racing\", \"Shooter\", \"Simulation\", \"Sports\", \"Strategy\"], \"legendgroup\": \"SNES\", \"marker\": {\"color\": \"#ab63fa\", \"size\": [10, 10, 10, 10, 10, 10, 10, 10, 10], \"sizemode\": \"area\", \"sizeref\": 0.42, \"symbol\": \"circle\"}, \"mode\": \"markers\", \"name\": \"SNES\", \"orientation\": \"v\", \"showlegend\": true, \"x\": [2, 12, 4, 1, 4, 6, 4, 9, 1], \"xaxis\": \"x\", \"y\": [10, 10, 10, 10, 10, 10, 10, 10, 10], \"yaxis\": \"y\", \"type\": \"scatter\"}, {\"hovertemplate\": \"<b>%{hovertext}</b><br><br>Platform=SCD<br>Year=1994<br>Games per Genre=%{x}<br>Games per Platform=%{marker.size}<extra></extra>\", \"hovertext\": [\"Adventure\", \"Fighting\", \"Platform\", \"Puzzle\", \"Racing\", \"Shooter\", \"Simulation\", \"Sports\", \"Strategy\"], \"ids\": [\"Adventure\", \"Fighting\", \"Platform\", \"Puzzle\", \"Racing\", \"Shooter\", \"Simulation\", \"Sports\", \"Strategy\"], \"legendgroup\": \"SCD\", \"marker\": {\"color\": \"#FFA15A\", \"size\": [1, 1, 1, 1, 1, 1, 1, 1, 1], \"sizemode\": \"area\", \"sizeref\": 0.42, \"symbol\": \"circle\"}, \"mode\": \"markers\", \"name\": \"SCD\", \"orientation\": \"v\", \"showlegend\": true, \"x\": [2, 12, 4, 1, 4, 6, 4, 9, 1], \"xaxis\": \"x\", \"y\": [1, 1, 1, 1, 1, 1, 1, 1, 1], \"yaxis\": \"y\", \"type\": \"scatter\"}, {\"hovertemplate\": \"<b>%{hovertext}</b><br><br>Platform=PS<br>Year=1994<br>Games per Genre=%{x}<br>Games per Platform=%{marker.size}<extra></extra>\", \"hovertext\": [\"Adventure\", \"Fighting\", \"Platform\", \"Puzzle\", \"Racing\", \"Shooter\", \"Simulation\", \"Sports\", \"Strategy\"], \"ids\": [\"Adventure\", \"Fighting\", \"Platform\", \"Puzzle\", \"Racing\", \"Shooter\", \"Simulation\", \"Sports\", \"Strategy\"], \"legendgroup\": \"PS\", \"marker\": {\"color\": \"#19d3f3\", \"size\": [9, 9, 9, 9, 9, 9, 9, 9, 9], \"sizemode\": \"area\", \"sizeref\": 0.42, \"symbol\": \"circle\"}, \"mode\": \"markers\", \"name\": \"PS\", \"orientation\": \"v\", \"showlegend\": true, \"x\": [2, 12, 4, 1, 4, 6, 4, 9, 1], \"xaxis\": \"x\", \"y\": [9, 9, 9, 9, 9, 9, 9, 9, 9], \"yaxis\": \"y\", \"type\": \"scatter\"}, {\"hovertemplate\": \"<b>%{hovertext}</b><br><br>Platform=SAT<br>Year=1994<br>Games per Genre=%{x}<br>Games per Platform=%{marker.size}<extra></extra>\", \"hovertext\": [\"Adventure\", \"Fighting\", \"Platform\", \"Puzzle\", \"Racing\", \"Shooter\", \"Simulation\", \"Sports\", \"Strategy\"], \"ids\": [\"Adventure\", \"Fighting\", \"Platform\", \"Puzzle\", \"Racing\", \"Shooter\", \"Simulation\", \"Sports\", \"Strategy\"], \"legendgroup\": \"SAT\", \"marker\": {\"color\": \"#FF6692\", \"size\": [18, 18, 18, 18, 18, 18, 18, 18, 18], \"sizemode\": \"area\", \"sizeref\": 0.42, \"symbol\": \"circle\"}, \"mode\": \"markers\", \"name\": \"SAT\", \"orientation\": \"v\", \"showlegend\": true, \"x\": [2, 12, 4, 1, 4, 6, 4, 9, 1], \"xaxis\": \"x\", \"y\": [18, 18, 18, 18, 18, 18, 18, 18, 18], \"yaxis\": \"y\", \"type\": \"scatter\"}], \"name\": \"1994\"}, {\"data\": [{\"hovertemplate\": \"<b>%{hovertext}</b><br><br>Platform=SNES<br>Year=1996<br>Games per Genre=%{x}<br>Games per Platform=%{marker.size}<extra></extra>\", \"hovertext\": [\"Action\", \"Adventure\", \"Fighting\", \"Misc\", \"Platform\", \"Puzzle\", \"Racing\", \"Role-Playing\", \"Shooter\", \"Simulation\", \"Sports\", \"Strategy\"], \"ids\": [\"Action\", \"Adventure\", \"Fighting\", \"Misc\", \"Platform\", \"Puzzle\", \"Racing\", \"Role-Playing\", \"Shooter\", \"Simulation\", \"Sports\", \"Strategy\"], \"legendgroup\": \"SNES\", \"marker\": {\"color\": \"#ab63fa\", \"size\": [1, 1, 1, 1, 1, 1, 1, 1, 1, 1, 1, 1], \"sizemode\": \"area\", \"sizeref\": 0.42, \"symbol\": \"circle\"}, \"mode\": \"markers\", \"name\": \"SNES\", \"orientation\": \"v\", \"showlegend\": true, \"x\": [16, 6, 15, 7, 8, 2, 19, 5, 15, 7, 33, 4], \"xaxis\": \"x\", \"y\": [1, 1, 1, 1, 1, 1, 1, 1, 1, 1, 1, 1], \"yaxis\": \"y\", \"type\": \"scatter\"}, {\"hovertemplate\": \"<b>%{hovertext}</b><br><br>Platform=PS<br>Year=1996<br>Games per Genre=%{x}<br>Games per Platform=%{marker.size}<extra></extra>\", \"hovertext\": [\"Action\", \"Adventure\", \"Fighting\", \"Misc\", \"Platform\", \"Puzzle\", \"Racing\", \"Role-Playing\", \"Shooter\", \"Simulation\", \"Sports\", \"Strategy\"], \"ids\": [\"Action\", \"Adventure\", \"Fighting\", \"Misc\", \"Platform\", \"Puzzle\", \"Racing\", \"Role-Playing\", \"Shooter\", \"Simulation\", \"Sports\", \"Strategy\"], \"legendgroup\": \"PS\", \"marker\": {\"color\": \"#19d3f3\", \"size\": [118, 118, 118, 118, 118, 118, 118, 118, 118, 118, 118, 118], \"sizemode\": \"area\", \"sizeref\": 0.42, \"symbol\": \"circle\"}, \"mode\": \"markers\", \"name\": \"PS\", \"orientation\": \"v\", \"showlegend\": true, \"x\": [16, 6, 15, 7, 8, 2, 19, 5, 15, 7, 33, 4], \"xaxis\": \"x\", \"y\": [118, 118, 118, 118, 118, 118, 118, 118, 118, 118, 118, 118], \"yaxis\": \"y\", \"type\": \"scatter\"}, {\"hovertemplate\": \"<b>%{hovertext}</b><br><br>Platform=SAT<br>Year=1996<br>Games per Genre=%{x}<br>Games per Platform=%{marker.size}<extra></extra>\", \"hovertext\": [\"Action\", \"Adventure\", \"Fighting\", \"Misc\", \"Platform\", \"Puzzle\", \"Racing\", \"Role-Playing\", \"Shooter\", \"Simulation\", \"Sports\", \"Strategy\"], \"ids\": [\"Action\", \"Adventure\", \"Fighting\", \"Misc\", \"Platform\", \"Puzzle\", \"Racing\", \"Role-Playing\", \"Shooter\", \"Simulation\", \"Sports\", \"Strategy\"], \"legendgroup\": \"SAT\", \"marker\": {\"color\": \"#FF6692\", \"size\": [7, 7, 7, 7, 7, 7, 7, 7, 7, 7, 7, 7], \"sizemode\": \"area\", \"sizeref\": 0.42, \"symbol\": \"circle\"}, \"mode\": \"markers\", \"name\": \"SAT\", \"orientation\": \"v\", \"showlegend\": true, \"x\": [16, 6, 15, 7, 8, 2, 19, 5, 15, 7, 33, 4], \"xaxis\": \"x\", \"y\": [7, 7, 7, 7, 7, 7, 7, 7, 7, 7, 7, 7], \"yaxis\": \"y\", \"type\": \"scatter\"}, {\"hovertemplate\": \"<b>%{hovertext}</b><br><br>Platform=N64<br>Year=1996<br>Games per Genre=%{x}<br>Games per Platform=%{marker.size}<extra></extra>\", \"hovertext\": [\"Action\", \"Adventure\", \"Fighting\", \"Misc\", \"Platform\", \"Puzzle\", \"Racing\", \"Role-Playing\", \"Shooter\", \"Simulation\", \"Sports\", \"Strategy\"], \"ids\": [\"Action\", \"Adventure\", \"Fighting\", \"Misc\", \"Platform\", \"Puzzle\", \"Racing\", \"Role-Playing\", \"Shooter\", \"Simulation\", \"Sports\", \"Strategy\"], \"legendgroup\": \"N64\", \"marker\": {\"color\": \"#B6E880\", \"size\": [11, 11, 11, 11, 11, 11, 11, 11, 11, 11, 11, 11], \"sizemode\": \"area\", \"sizeref\": 0.42, \"symbol\": \"circle\"}, \"mode\": \"markers\", \"name\": \"N64\", \"orientation\": \"v\", \"showlegend\": true, \"x\": [16, 6, 15, 7, 8, 2, 19, 5, 15, 7, 33, 4], \"xaxis\": \"x\", \"y\": [11, 11, 11, 11, 11, 11, 11, 11, 11, 11, 11, 11], \"yaxis\": \"y\", \"type\": \"scatter\"}], \"name\": \"1996\"}, {\"data\": [{\"hovertemplate\": \"<b>%{hovertext}</b><br><br>Platform=PS<br>Year=1997<br>Games per Genre=%{x}<br>Games per Platform=%{marker.size}<extra></extra>\", \"hovertext\": [\"Action\", \"Adventure\", \"Fighting\", \"Misc\", \"Platform\", \"Puzzle\", \"Racing\", \"Role-Playing\", \"Shooter\", \"Simulation\", \"Sports\", \"Strategy\"], \"ids\": [\"Action\", \"Adventure\", \"Fighting\", \"Misc\", \"Platform\", \"Puzzle\", \"Racing\", \"Role-Playing\", \"Shooter\", \"Simulation\", \"Sports\", \"Strategy\"], \"legendgroup\": \"PS\", \"marker\": {\"color\": \"#19d3f3\", \"size\": [134, 134, 134, 134, 134, 134, 134, 134, 134, 134, 134, 134], \"sizemode\": \"area\", \"sizeref\": 0.42, \"symbol\": \"circle\"}, \"mode\": \"markers\", \"name\": \"PS\", \"orientation\": \"v\", \"showlegend\": true, \"x\": [21, 5, 17, 5, 12, 8, 28, 8, 18, 11, 30, 5], \"xaxis\": \"x\", \"y\": [134, 134, 134, 134, 134, 134, 134, 134, 134, 134, 134, 134], \"yaxis\": \"y\", \"type\": \"scatter\"}, {\"hovertemplate\": \"<b>%{hovertext}</b><br><br>Platform=N64<br>Year=1997<br>Games per Genre=%{x}<br>Games per Platform=%{marker.size}<extra></extra>\", \"hovertext\": [\"Action\", \"Adventure\", \"Fighting\", \"Misc\", \"Platform\", \"Puzzle\", \"Racing\", \"Role-Playing\", \"Shooter\", \"Simulation\", \"Sports\", \"Strategy\"], \"ids\": [\"Action\", \"Adventure\", \"Fighting\", \"Misc\", \"Platform\", \"Puzzle\", \"Racing\", \"Role-Playing\", \"Shooter\", \"Simulation\", \"Sports\", \"Strategy\"], \"legendgroup\": \"N64\", \"marker\": {\"color\": \"#B6E880\", \"size\": [34, 34, 34, 34, 34, 34, 34, 34, 34, 34, 34, 34], \"sizemode\": \"area\", \"sizeref\": 0.42, \"symbol\": \"circle\"}, \"mode\": \"markers\", \"name\": \"N64\", \"orientation\": \"v\", \"showlegend\": true, \"x\": [21, 5, 17, 5, 12, 8, 28, 8, 18, 11, 30, 5], \"xaxis\": \"x\", \"y\": [34, 34, 34, 34, 34, 34, 34, 34, 34, 34, 34, 34], \"yaxis\": \"y\", \"type\": \"scatter\"}], \"name\": \"1997\"}, {\"data\": [{\"hovertemplate\": \"<b>%{hovertext}</b><br><br>Platform=PS<br>Year=1998<br>Games per Genre=%{x}<br>Games per Platform=%{marker.size}<extra></extra>\", \"hovertext\": [\"Action\", \"Adventure\", \"Fighting\", \"Misc\", \"Platform\", \"Puzzle\", \"Racing\", \"Role-Playing\", \"Shooter\", \"Simulation\", \"Sports\", \"Strategy\"], \"ids\": [\"Action\", \"Adventure\", \"Fighting\", \"Misc\", \"Platform\", \"Puzzle\", \"Racing\", \"Role-Playing\", \"Shooter\", \"Simulation\", \"Sports\", \"Strategy\"], \"legendgroup\": \"PS\", \"marker\": {\"color\": \"#19d3f3\", \"size\": [168, 168, 168, 168, 168, 168, 168, 168, 168, 168, 168, 168], \"sizemode\": \"area\", \"sizeref\": 0.42, \"symbol\": \"circle\"}, \"mode\": \"markers\", \"name\": \"PS\", \"orientation\": \"v\", \"showlegend\": true, \"x\": [34, 3, 28, 13, 19, 9, 35, 12, 16, 5, 47, 10], \"xaxis\": \"x\", \"y\": [168, 168, 168, 168, 168, 168, 168, 168, 168, 168, 168, 168], \"yaxis\": \"y\", \"type\": \"scatter\"}, {\"hovertemplate\": \"<b>%{hovertext}</b><br><br>Platform=N64<br>Year=1998<br>Games per Genre=%{x}<br>Games per Platform=%{marker.size}<extra></extra>\", \"hovertext\": [\"Action\", \"Adventure\", \"Fighting\", \"Misc\", \"Platform\", \"Puzzle\", \"Racing\", \"Role-Playing\", \"Shooter\", \"Simulation\", \"Sports\", \"Strategy\"], \"ids\": [\"Action\", \"Adventure\", \"Fighting\", \"Misc\", \"Platform\", \"Puzzle\", \"Racing\", \"Role-Playing\", \"Shooter\", \"Simulation\", \"Sports\", \"Strategy\"], \"legendgroup\": \"N64\", \"marker\": {\"color\": \"#B6E880\", \"size\": [63, 63, 63, 63, 63, 63, 63, 63, 63, 63, 63, 63], \"sizemode\": \"area\", \"sizeref\": 0.42, \"symbol\": \"circle\"}, \"mode\": \"markers\", \"name\": \"N64\", \"orientation\": \"v\", \"showlegend\": true, \"x\": [34, 3, 28, 13, 19, 9, 35, 12, 16, 5, 47, 10], \"xaxis\": \"x\", \"y\": [63, 63, 63, 63, 63, 63, 63, 63, 63, 63, 63, 63], \"yaxis\": \"y\", \"type\": \"scatter\"}], \"name\": \"1998\"}, {\"data\": [{\"hovertemplate\": \"<b>%{hovertext}</b><br><br>Platform=PS<br>Year=1999<br>Games per Genre=%{x}<br>Games per Platform=%{marker.size}<extra></extra>\", \"hovertext\": [\"Action\", \"Adventure\", \"Fighting\", \"Misc\", \"Platform\", \"Puzzle\", \"Racing\", \"Role-Playing\", \"Shooter\", \"Simulation\", \"Sports\", \"Strategy\"], \"ids\": [\"Action\", \"Adventure\", \"Fighting\", \"Misc\", \"Platform\", \"Puzzle\", \"Racing\", \"Role-Playing\", \"Shooter\", \"Simulation\", \"Sports\", \"Strategy\"], \"legendgroup\": \"PS\", \"marker\": {\"color\": \"#19d3f3\", \"size\": [136, 136, 136, 136, 136, 136, 136, 136, 136, 136, 136, 136], \"sizemode\": \"area\", \"sizeref\": 0.42, \"symbol\": \"circle\"}, \"mode\": \"markers\", \"name\": \"PS\", \"orientation\": \"v\", \"showlegend\": true, \"x\": [30, 6, 11, 10, 13, 5, 40, 17, 14, 6, 39, 13], \"xaxis\": \"x\", \"y\": [136, 136, 136, 136, 136, 136, 136, 136, 136, 136, 136, 136], \"yaxis\": \"y\", \"type\": \"scatter\"}, {\"hovertemplate\": \"<b>%{hovertext}</b><br><br>Platform=N64<br>Year=1999<br>Games per Genre=%{x}<br>Games per Platform=%{marker.size}<extra></extra>\", \"hovertext\": [\"Action\", \"Adventure\", \"Fighting\", \"Misc\", \"Platform\", \"Puzzle\", \"Racing\", \"Role-Playing\", \"Shooter\", \"Simulation\", \"Sports\", \"Strategy\"], \"ids\": [\"Action\", \"Adventure\", \"Fighting\", \"Misc\", \"Platform\", \"Puzzle\", \"Racing\", \"Role-Playing\", \"Shooter\", \"Simulation\", \"Sports\", \"Strategy\"], \"legendgroup\": \"N64\", \"marker\": {\"color\": \"#B6E880\", \"size\": [68, 68, 68, 68, 68, 68, 68, 68, 68, 68, 68, 68], \"sizemode\": \"area\", \"sizeref\": 0.42, \"symbol\": \"circle\"}, \"mode\": \"markers\", \"name\": \"N64\", \"orientation\": \"v\", \"showlegend\": true, \"x\": [30, 6, 11, 10, 13, 5, 40, 17, 14, 6, 39, 13], \"xaxis\": \"x\", \"y\": [68, 68, 68, 68, 68, 68, 68, 68, 68, 68, 68, 68], \"yaxis\": \"y\", \"type\": \"scatter\"}], \"name\": \"1999\"}, {\"data\": [{\"hovertemplate\": \"<b>%{hovertext}</b><br><br>Platform=PS<br>Year=2000<br>Games per Genre=%{x}<br>Games per Platform=%{marker.size}<extra></extra>\", \"hovertext\": [\"Action\", \"Adventure\", \"Fighting\", \"Misc\", \"Platform\", \"Puzzle\", \"Racing\", \"Role-Playing\", \"Shooter\", \"Simulation\", \"Sports\", \"Strategy\"], \"ids\": [\"Action\", \"Adventure\", \"Fighting\", \"Misc\", \"Platform\", \"Puzzle\", \"Racing\", \"Role-Playing\", \"Shooter\", \"Simulation\", \"Sports\", \"Strategy\"], \"legendgroup\": \"PS\", \"marker\": {\"color\": \"#19d3f3\", \"size\": [117, 117, 117, 117, 117, 117, 117, 117, 117, 117, 117, 117], \"sizemode\": \"area\", \"sizeref\": 0.42, \"symbol\": \"circle\"}, \"mode\": \"markers\", \"name\": \"PS\", \"orientation\": \"v\", \"showlegend\": true, \"x\": [27, 6, 13, 7, 12, 4, 28, 5, 11, 4, 36, 1], \"xaxis\": \"x\", \"y\": [117, 117, 117, 117, 117, 117, 117, 117, 117, 117, 117, 117], \"yaxis\": \"y\", \"type\": \"scatter\"}, {\"hovertemplate\": \"<b>%{hovertext}</b><br><br>Platform=N64<br>Year=2000<br>Games per Genre=%{x}<br>Games per Platform=%{marker.size}<extra></extra>\", \"hovertext\": [\"Action\", \"Adventure\", \"Fighting\", \"Misc\", \"Platform\", \"Puzzle\", \"Racing\", \"Role-Playing\", \"Shooter\", \"Simulation\", \"Sports\", \"Strategy\"], \"ids\": [\"Action\", \"Adventure\", \"Fighting\", \"Misc\", \"Platform\", \"Puzzle\", \"Racing\", \"Role-Playing\", \"Shooter\", \"Simulation\", \"Sports\", \"Strategy\"], \"legendgroup\": \"N64\", \"marker\": {\"color\": \"#B6E880\", \"size\": [37, 37, 37, 37, 37, 37, 37, 37, 37, 37, 37, 37], \"sizemode\": \"area\", \"sizeref\": 0.42, \"symbol\": \"circle\"}, \"mode\": \"markers\", \"name\": \"N64\", \"orientation\": \"v\", \"showlegend\": true, \"x\": [27, 6, 13, 7, 12, 4, 28, 5, 11, 4, 36, 1], \"xaxis\": \"x\", \"y\": [37, 37, 37, 37, 37, 37, 37, 37, 37, 37, 37, 37], \"yaxis\": \"y\", \"type\": \"scatter\"}], \"name\": \"2000\"}, {\"data\": [{\"hovertemplate\": \"<b>%{hovertext}</b><br><br>Platform=PS<br>Year=2001<br>Games per Genre=%{x}<br>Games per Platform=%{marker.size}<extra></extra>\", \"hovertext\": [\"Action\", \"Adventure\", \"Fighting\", \"Misc\", \"Platform\", \"Puzzle\", \"Racing\", \"Role-Playing\", \"Shooter\", \"Sports\", \"Strategy\"], \"ids\": [\"Action\", \"Adventure\", \"Fighting\", \"Misc\", \"Platform\", \"Puzzle\", \"Racing\", \"Role-Playing\", \"Shooter\", \"Sports\", \"Strategy\"], \"legendgroup\": \"PS\", \"marker\": {\"color\": \"#19d3f3\", \"size\": [63, 63, 63, 63, 63, 63, 63, 63, 63, 63, 63], \"sizemode\": \"area\", \"sizeref\": 0.42, \"symbol\": \"circle\"}, \"mode\": \"markers\", \"name\": \"PS\", \"orientation\": \"v\", \"showlegend\": true, \"x\": [16, 5, 2, 1, 3, 3, 8, 3, 7, 18, 1], \"xaxis\": \"x\", \"y\": [63, 63, 63, 63, 63, 63, 63, 63, 63, 63, 63], \"yaxis\": \"y\", \"type\": \"scatter\"}, {\"hovertemplate\": \"<b>%{hovertext}</b><br><br>Platform=N64<br>Year=2001<br>Games per Genre=%{x}<br>Games per Platform=%{marker.size}<extra></extra>\", \"hovertext\": [\"Action\", \"Adventure\", \"Fighting\", \"Misc\", \"Platform\", \"Puzzle\", \"Racing\", \"Role-Playing\", \"Shooter\", \"Sports\", \"Strategy\"], \"ids\": [\"Action\", \"Adventure\", \"Fighting\", \"Misc\", \"Platform\", \"Puzzle\", \"Racing\", \"Role-Playing\", \"Shooter\", \"Sports\", \"Strategy\"], \"legendgroup\": \"N64\", \"marker\": {\"color\": \"#B6E880\", \"size\": [4, 4, 4, 4, 4, 4, 4, 4, 4, 4, 4], \"sizemode\": \"area\", \"sizeref\": 0.42, \"symbol\": \"circle\"}, \"mode\": \"markers\", \"name\": \"N64\", \"orientation\": \"v\", \"showlegend\": true, \"x\": [16, 5, 2, 1, 3, 3, 8, 3, 7, 18, 1], \"xaxis\": \"x\", \"y\": [4, 4, 4, 4, 4, 4, 4, 4, 4, 4, 4], \"yaxis\": \"y\", \"type\": \"scatter\"}], \"name\": \"2001\"}, {\"data\": [{\"hovertemplate\": \"<b>%{hovertext}</b><br><br>Platform=PS<br>Year=2002<br>Games per Genre=%{x}<br>Games per Platform=%{marker.size}<extra></extra>\", \"hovertext\": [\"Action\", \"Fighting\", \"Racing\", \"Shooter\", \"Sports\"], \"ids\": [\"Action\", \"Fighting\", \"Racing\", \"Shooter\", \"Sports\"], \"legendgroup\": \"PS\", \"marker\": {\"color\": \"#19d3f3\", \"size\": [5, 5, 5, 5, 5], \"sizemode\": \"area\", \"sizeref\": 0.42, \"symbol\": \"circle\"}, \"mode\": \"markers\", \"name\": \"PS\", \"orientation\": \"v\", \"showlegend\": true, \"x\": [2, 1, 1, 1, 1], \"xaxis\": \"x\", \"y\": [5, 5, 5, 5, 5], \"yaxis\": \"y\", \"type\": \"scatter\"}, {\"hovertemplate\": \"<b>%{hovertext}</b><br><br>Platform=N64<br>Year=2002<br>Games per Genre=%{x}<br>Games per Platform=%{marker.size}<extra></extra>\", \"hovertext\": [\"Action\", \"Fighting\", \"Racing\", \"Shooter\", \"Sports\"], \"ids\": [\"Action\", \"Fighting\", \"Racing\", \"Shooter\", \"Sports\"], \"legendgroup\": \"N64\", \"marker\": {\"color\": \"#B6E880\", \"size\": [1, 1, 1, 1, 1], \"sizemode\": \"area\", \"sizeref\": 0.42, \"symbol\": \"circle\"}, \"mode\": \"markers\", \"name\": \"N64\", \"orientation\": \"v\", \"showlegend\": true, \"x\": [2, 1, 1, 1, 1], \"xaxis\": \"x\", \"y\": [1, 1, 1, 1, 1], \"yaxis\": \"y\", \"type\": \"scatter\"}], \"name\": \"2002\"}, {\"data\": [{\"hovertemplate\": \"<b>%{hovertext}</b><br><br>Platform=SNES<br>Year=1995<br>Games per Genre=%{x}<br>Games per Platform=%{marker.size}<extra></extra>\", \"hovertext\": [\"Action\", \"Adventure\", \"Fighting\", \"Misc\", \"Platform\", \"Puzzle\", \"Racing\", \"Role-Playing\", \"Shooter\", \"Simulation\", \"Sports\", \"Strategy\"], \"ids\": [\"Action\", \"Adventure\", \"Fighting\", \"Misc\", \"Platform\", \"Puzzle\", \"Racing\", \"Role-Playing\", \"Shooter\", \"Simulation\", \"Sports\", \"Strategy\"], \"legendgroup\": \"SNES\", \"marker\": {\"color\": \"#ab63fa\", \"size\": [6, 6, 6, 6, 6, 6, 6, 6, 6, 6, 6, 6], \"sizemode\": \"area\", \"sizeref\": 0.42, \"symbol\": \"circle\"}, \"mode\": \"markers\", \"name\": \"SNES\", \"orientation\": \"v\", \"showlegend\": true, \"x\": [5, 2, 14, 2, 6, 4, 9, 6, 15, 8, 9, 4], \"xaxis\": \"x\", \"y\": [6, 6, 6, 6, 6, 6, 6, 6, 6, 6, 6, 6], \"yaxis\": \"y\", \"type\": \"scatter\"}, {\"hovertemplate\": \"<b>%{hovertext}</b><br><br>Platform=PS<br>Year=1995<br>Games per Genre=%{x}<br>Games per Platform=%{marker.size}<extra></extra>\", \"hovertext\": [\"Action\", \"Adventure\", \"Fighting\", \"Misc\", \"Platform\", \"Puzzle\", \"Racing\", \"Role-Playing\", \"Shooter\", \"Simulation\", \"Sports\", \"Strategy\"], \"ids\": [\"Action\", \"Adventure\", \"Fighting\", \"Misc\", \"Platform\", \"Puzzle\", \"Racing\", \"Role-Playing\", \"Shooter\", \"Simulation\", \"Sports\", \"Strategy\"], \"legendgroup\": \"PS\", \"marker\": {\"color\": \"#19d3f3\", \"size\": [59, 59, 59, 59, 59, 59, 59, 59, 59, 59, 59, 59], \"sizemode\": \"area\", \"sizeref\": 0.42, \"symbol\": \"circle\"}, \"mode\": \"markers\", \"name\": \"PS\", \"orientation\": \"v\", \"showlegend\": true, \"x\": [5, 2, 14, 2, 6, 4, 9, 6, 15, 8, 9, 4], \"xaxis\": \"x\", \"y\": [59, 59, 59, 59, 59, 59, 59, 59, 59, 59, 59, 59], \"yaxis\": \"y\", \"type\": \"scatter\"}, {\"hovertemplate\": \"<b>%{hovertext}</b><br><br>Platform=SAT<br>Year=1995<br>Games per Genre=%{x}<br>Games per Platform=%{marker.size}<extra></extra>\", \"hovertext\": [\"Action\", \"Adventure\", \"Fighting\", \"Misc\", \"Platform\", \"Puzzle\", \"Racing\", \"Role-Playing\", \"Shooter\", \"Simulation\", \"Sports\", \"Strategy\"], \"ids\": [\"Action\", \"Adventure\", \"Fighting\", \"Misc\", \"Platform\", \"Puzzle\", \"Racing\", \"Role-Playing\", \"Shooter\", \"Simulation\", \"Sports\", \"Strategy\"], \"legendgroup\": \"SAT\", \"marker\": {\"color\": \"#FF6692\", \"size\": [19, 19, 19, 19, 19, 19, 19, 19, 19, 19, 19, 19], \"sizemode\": \"area\", \"sizeref\": 0.42, \"symbol\": \"circle\"}, \"mode\": \"markers\", \"name\": \"SAT\", \"orientation\": \"v\", \"showlegend\": true, \"x\": [5, 2, 14, 2, 6, 4, 9, 6, 15, 8, 9, 4], \"xaxis\": \"x\", \"y\": [19, 19, 19, 19, 19, 19, 19, 19, 19, 19, 19, 19], \"yaxis\": \"y\", \"type\": \"scatter\"}], \"name\": \"1995\"}, {\"data\": [{\"hovertemplate\": \"<b>%{hovertext}</b><br><br>Platform=PS<br>Year=2003<br>Games per Genre=%{x}<br>Games per Platform=%{marker.size}<extra></extra>\", \"hovertext\": [\"Sports\"], \"ids\": [\"Sports\"], \"legendgroup\": \"PS\", \"marker\": {\"color\": \"#19d3f3\", \"size\": [1], \"sizemode\": \"area\", \"sizeref\": 0.42, \"symbol\": \"circle\"}, \"mode\": \"markers\", \"name\": \"PS\", \"orientation\": \"v\", \"showlegend\": true, \"x\": [1], \"xaxis\": \"x\", \"y\": [1], \"yaxis\": \"y\", \"type\": \"scatter\"}], \"name\": \"2003\"}]);\n",
       "                        }).then(function(){\n",
       "                            \n",
       "var gd = document.getElementById('46883a33-4e54-440a-9f48-b0dbca40322f');\n",
       "var x = new MutationObserver(function (mutations, observer) {{\n",
       "        var display = window.getComputedStyle(gd).display;\n",
       "        if (!display || display === 'none') {{\n",
       "            console.log([gd, 'removed!']);\n",
       "            Plotly.purge(gd);\n",
       "            observer.disconnect();\n",
       "        }}\n",
       "}});\n",
       "\n",
       "// Listen for the removal of the full notebook cells\n",
       "var notebookContainer = gd.closest('#notebook-container');\n",
       "if (notebookContainer) {{\n",
       "    x.observe(notebookContainer, {childList: true});\n",
       "}}\n",
       "\n",
       "// Listen for the clearing of the current output cell\n",
       "var outputEl = gd.closest('.output');\n",
       "if (outputEl) {{\n",
       "    x.observe(outputEl, {childList: true});\n",
       "}}\n",
       "\n",
       "                        })                };                });            </script>        </div>"
      ]
     },
     "metadata": {},
     "output_type": "display_data"
    }
   ],
   "source": [
    "figure = px.scatter(genre_platform, x = \"Games per Genre\", y = \"Games per Platform\", \n",
    "                    animation_frame= \"Year\", animation_group = \"Genre\",\n",
    "                    hover_name=\"Genre\", color = \"Platform\",\n",
    "                    size = \"Games per Platform\",\n",
    "                    range_x=[1,60], range_y=[1,200])\n",
    "\n",
    "figure.layout.updatemenus[0].buttons[0].args[1][\"frame\"][\"duration\"] = 1000\n",
    "figure.show()"
   ]
  },
  {
   "cell_type": "code",
   "execution_count": 30,
   "metadata": {},
   "outputs": [],
   "source": [
    "# Site where the bubble animation came from\n",
    "# https://medium.com/python-in-plain-english/animated-bubble-chart-with-plotly-in-python-inspired-by-professor-hans-rosling-b7262298dd03"
   ]
  },
  {
   "cell_type": "code",
   "execution_count": null,
   "metadata": {},
   "outputs": [],
   "source": []
  }
 ],
 "metadata": {
  "kernelspec": {
   "display_name": "Python 3",
   "language": "python",
   "name": "python3"
  },
  "language_info": {
   "codemirror_mode": {
    "name": "ipython",
    "version": 3
   },
   "file_extension": ".py",
   "mimetype": "text/x-python",
   "name": "python",
   "nbconvert_exporter": "python",
   "pygments_lexer": "ipython3",
   "version": "3.7.9"
  }
 },
 "nbformat": 4,
 "nbformat_minor": 4
}
