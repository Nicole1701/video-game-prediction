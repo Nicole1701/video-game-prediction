{
 "cells": [
  {
   "cell_type": "markdown",
   "metadata": {},
   "source": [
    "# Comparison Plots"
   ]
  },
  {
   "cell_type": "code",
   "execution_count": 147,
   "metadata": {},
   "outputs": [],
   "source": [
    "import pandas as pd\n",
    "import seaborn as sns\n",
    "import matplotlib.pyplot as plt\n",
    "import numpy as np\n",
    "%matplotlib inline\n",
    "import plotly.express as px"
   ]
  },
  {
   "cell_type": "code",
   "execution_count": 2,
   "metadata": {},
   "outputs": [],
   "source": [
    "game_data = pd.read_csv(\"../data/games_df.csv\")"
   ]
  },
  {
   "cell_type": "code",
   "execution_count": 3,
   "metadata": {
    "scrolled": false
   },
   "outputs": [
    {
     "data": {
      "text/html": [
       "<div>\n",
       "<style scoped>\n",
       "    .dataframe tbody tr th:only-of-type {\n",
       "        vertical-align: middle;\n",
       "    }\n",
       "\n",
       "    .dataframe tbody tr th {\n",
       "        vertical-align: top;\n",
       "    }\n",
       "\n",
       "    .dataframe thead th {\n",
       "        text-align: right;\n",
       "    }\n",
       "</style>\n",
       "<table border=\"1\" class=\"dataframe\">\n",
       "  <thead>\n",
       "    <tr style=\"text-align: right;\">\n",
       "      <th></th>\n",
       "      <th>Unnamed: 0</th>\n",
       "      <th>Name</th>\n",
       "      <th>Platform</th>\n",
       "      <th>Year</th>\n",
       "      <th>Genre</th>\n",
       "      <th>Publisher</th>\n",
       "      <th>NA_Sales</th>\n",
       "      <th>EU_Sales</th>\n",
       "      <th>JP_Sales</th>\n",
       "      <th>Other_Sales</th>\n",
       "      <th>Global_Sales</th>\n",
       "    </tr>\n",
       "  </thead>\n",
       "  <tbody>\n",
       "    <tr>\n",
       "      <th>0</th>\n",
       "      <td>0</td>\n",
       "      <td>Action Force</td>\n",
       "      <td>2600</td>\n",
       "      <td>1982</td>\n",
       "      <td>Action</td>\n",
       "      <td>CPG Products</td>\n",
       "      <td>$500,000</td>\n",
       "      <td>$30,000</td>\n",
       "      <td>$0</td>\n",
       "      <td>$10,000</td>\n",
       "      <td>$540,000</td>\n",
       "    </tr>\n",
       "    <tr>\n",
       "      <th>1</th>\n",
       "      <td>2</td>\n",
       "      <td>Adventures of Tron</td>\n",
       "      <td>2600</td>\n",
       "      <td>1981</td>\n",
       "      <td>Action</td>\n",
       "      <td>Mattel Interactive</td>\n",
       "      <td>$630,000</td>\n",
       "      <td>$30,000</td>\n",
       "      <td>$0</td>\n",
       "      <td>$10,000</td>\n",
       "      <td>$670,000</td>\n",
       "    </tr>\n",
       "    <tr>\n",
       "      <th>2</th>\n",
       "      <td>3</td>\n",
       "      <td>Air Raid</td>\n",
       "      <td>2600</td>\n",
       "      <td>1981</td>\n",
       "      <td>Action</td>\n",
       "      <td>Men-A-Vision</td>\n",
       "      <td>$720,000</td>\n",
       "      <td>$40,000</td>\n",
       "      <td>$0</td>\n",
       "      <td>$10,000</td>\n",
       "      <td>$770,000</td>\n",
       "    </tr>\n",
       "    <tr>\n",
       "      <th>3</th>\n",
       "      <td>5</td>\n",
       "      <td>Airlock</td>\n",
       "      <td>2600</td>\n",
       "      <td>1981</td>\n",
       "      <td>Action</td>\n",
       "      <td>Data Age</td>\n",
       "      <td>$360,000</td>\n",
       "      <td>$20,000</td>\n",
       "      <td>$0</td>\n",
       "      <td>$0</td>\n",
       "      <td>$390,000</td>\n",
       "    </tr>\n",
       "    <tr>\n",
       "      <th>4</th>\n",
       "      <td>6</td>\n",
       "      <td>Alien</td>\n",
       "      <td>2600</td>\n",
       "      <td>1981</td>\n",
       "      <td>Action</td>\n",
       "      <td>20th Century Fox Video Games</td>\n",
       "      <td>$740,000</td>\n",
       "      <td>$40,000</td>\n",
       "      <td>$0</td>\n",
       "      <td>$10,000</td>\n",
       "      <td>$790,000</td>\n",
       "    </tr>\n",
       "  </tbody>\n",
       "</table>\n",
       "</div>"
      ],
      "text/plain": [
       "   Unnamed: 0                Name Platform  Year   Genre  \\\n",
       "0           0        Action Force     2600  1982  Action   \n",
       "1           2  Adventures of Tron     2600  1981  Action   \n",
       "2           3            Air Raid     2600  1981  Action   \n",
       "3           5             Airlock     2600  1981  Action   \n",
       "4           6               Alien     2600  1981  Action   \n",
       "\n",
       "                      Publisher   NA_Sales  EU_Sales JP_Sales Other_Sales  \\\n",
       "0                  CPG Products  $500,000   $30,000       $0     $10,000    \n",
       "1            Mattel Interactive  $630,000   $30,000       $0     $10,000    \n",
       "2                  Men-A-Vision  $720,000   $40,000       $0     $10,000    \n",
       "3                      Data Age  $360,000   $20,000       $0          $0    \n",
       "4  20th Century Fox Video Games  $740,000   $40,000       $0     $10,000    \n",
       "\n",
       "  Global_Sales  \n",
       "0    $540,000   \n",
       "1    $670,000   \n",
       "2    $770,000   \n",
       "3    $390,000   \n",
       "4    $790,000   "
      ]
     },
     "execution_count": 3,
     "metadata": {},
     "output_type": "execute_result"
    }
   ],
   "source": [
    "game_data.head()"
   ]
  },
  {
   "cell_type": "markdown",
   "metadata": {},
   "source": [
    "## Games per Year by Platform "
   ]
  },
  {
   "cell_type": "code",
   "execution_count": 188,
   "metadata": {
    "scrolled": false
   },
   "outputs": [
    {
     "data": {
      "text/html": [
       "<div>\n",
       "<style scoped>\n",
       "    .dataframe tbody tr th:only-of-type {\n",
       "        vertical-align: middle;\n",
       "    }\n",
       "\n",
       "    .dataframe tbody tr th {\n",
       "        vertical-align: top;\n",
       "    }\n",
       "\n",
       "    .dataframe thead th {\n",
       "        text-align: right;\n",
       "    }\n",
       "</style>\n",
       "<table border=\"1\" class=\"dataframe\">\n",
       "  <thead>\n",
       "    <tr style=\"text-align: right;\">\n",
       "      <th></th>\n",
       "      <th>Platform</th>\n",
       "      <th>Year</th>\n",
       "      <th>Games per Platform</th>\n",
       "    </tr>\n",
       "  </thead>\n",
       "  <tbody>\n",
       "    <tr>\n",
       "      <th>0</th>\n",
       "      <td>2600</td>\n",
       "      <td>1980</td>\n",
       "      <td>9</td>\n",
       "    </tr>\n",
       "    <tr>\n",
       "      <th>1</th>\n",
       "      <td>2600</td>\n",
       "      <td>1981</td>\n",
       "      <td>46</td>\n",
       "    </tr>\n",
       "    <tr>\n",
       "      <th>2</th>\n",
       "      <td>2600</td>\n",
       "      <td>1982</td>\n",
       "      <td>36</td>\n",
       "    </tr>\n",
       "    <tr>\n",
       "      <th>3</th>\n",
       "      <td>2600</td>\n",
       "      <td>1983</td>\n",
       "      <td>11</td>\n",
       "    </tr>\n",
       "    <tr>\n",
       "      <th>4</th>\n",
       "      <td>2600</td>\n",
       "      <td>1984</td>\n",
       "      <td>1</td>\n",
       "    </tr>\n",
       "    <tr>\n",
       "      <th>...</th>\n",
       "      <td>...</td>\n",
       "      <td>...</td>\n",
       "      <td>...</td>\n",
       "    </tr>\n",
       "    <tr>\n",
       "      <th>57</th>\n",
       "      <td>SNES</td>\n",
       "      <td>1995</td>\n",
       "      <td>54</td>\n",
       "    </tr>\n",
       "    <tr>\n",
       "      <th>58</th>\n",
       "      <td>SNES</td>\n",
       "      <td>1996</td>\n",
       "      <td>30</td>\n",
       "    </tr>\n",
       "    <tr>\n",
       "      <th>59</th>\n",
       "      <td>SNES</td>\n",
       "      <td>1997</td>\n",
       "      <td>4</td>\n",
       "    </tr>\n",
       "    <tr>\n",
       "      <th>60</th>\n",
       "      <td>SNES</td>\n",
       "      <td>1998</td>\n",
       "      <td>2</td>\n",
       "    </tr>\n",
       "    <tr>\n",
       "      <th>61</th>\n",
       "      <td>SNES</td>\n",
       "      <td>1999</td>\n",
       "      <td>1</td>\n",
       "    </tr>\n",
       "  </tbody>\n",
       "</table>\n",
       "<p>62 rows × 3 columns</p>\n",
       "</div>"
      ],
      "text/plain": [
       "   Platform  Year  Games per Platform\n",
       "0      2600  1980                   9\n",
       "1      2600  1981                  46\n",
       "2      2600  1982                  36\n",
       "3      2600  1983                  11\n",
       "4      2600  1984                   1\n",
       "..      ...   ...                 ...\n",
       "57     SNES  1995                  54\n",
       "58     SNES  1996                  30\n",
       "59     SNES  1997                   4\n",
       "60     SNES  1998                   2\n",
       "61     SNES  1999                   1\n",
       "\n",
       "[62 rows x 3 columns]"
      ]
     },
     "execution_count": 188,
     "metadata": {},
     "output_type": "execute_result"
    }
   ],
   "source": [
    "platform_and_year = game_data.groupby([\"Platform\",\"Year\"], as_index=False).count()\n",
    "games_by_year = platform_and_year[[\"Platform\", \"Year\", \"Name\"]].rename(columns={\"Name\": \"Games per Platform\"})\n",
    "games_by_year"
   ]
  },
  {
   "cell_type": "code",
   "execution_count": 99,
   "metadata": {
    "scrolled": true
   },
   "outputs": [
    {
     "data": {
      "image/png": "[encoded data removed]",
      "text/plain": [
       "<Figure size 432x1080 with 1 Axes>"
      ]
     },
     "metadata": {},
     "output_type": "display_data"
    }
   ],
   "source": [
    "sns.set_theme(style=\"whitegrid\")\n",
    "\n",
    "# Initialize the matplotlib figure\n",
    "f, ax = plt.subplots(figsize=(6, 15))\n",
    "\n",
    "# Plot the games per year\n",
    "sns.set_color_codes(\"pastel\")\n",
    "sns.barplot(x=\"Year\", y=\"Game Count\", data=games_by_year,\n",
    "            label=\"Game Count\", color=\"blue\")\n",
    "\n",
    "# Add a legend and informative axis label\n",
    "ax.legend(ncol=2, loc=\"lower right\", frameon=True)\n",
    "ax.set(xlim=(0, 24), ylabel=\"Game Count\",\n",
    "       xlabel=\"Year\", xticks=[0,5,10,15,20,25])\n",
    "sns.despine(left=True, bottom=True)"
   ]
  },
  {
   "cell_type": "code",
   "execution_count": 65,
   "metadata": {
    "scrolled": true
   },
   "outputs": [
    {
     "data": {
      "text/plain": [
       "<AxesSubplot:xlabel='Year', ylabel='Platform'>"
      ]
     },
     "execution_count": 65,
     "metadata": {},
     "output_type": "execute_result"
    },
    {
     "data": {
      "image/png": "[encoded data removed]",
      "text/plain": [
       "<Figure size 432x288 with 1 Axes>"
      ]
     },
     "metadata": {},
     "output_type": "display_data"
    }
   ],
   "source": [
    "sns.stripplot(data=games_by_year, x=\"Year\", y=\"Platform\")"
   ]
  },
  {
   "cell_type": "code",
   "execution_count": 66,
   "metadata": {
    "scrolled": true
   },
   "outputs": [
    {
     "data": {
      "text/plain": [
       "<seaborn.axisgrid.FacetGrid at 0x7fb12ff167d0>"
      ]
     },
     "execution_count": 66,
     "metadata": {},
     "output_type": "execute_result"
    },
    {
     "data": {
      "image/png": "[encoded data removed]",
      "text/plain": [
       "<Figure size 436.925x360 with 1 Axes>"
      ]
     },
     "metadata": {},
     "output_type": "display_data"
    }
   ],
   "source": [
    "sns.relplot(\n",
    "    data=games_by_year, x=\"Year\", y=\"Platform\",size=\"Game Count\",\n",
    "    palette=[\"b\", \"r\"], sizes=(10, 200)\n",
    ")"
   ]
  },
  {
   "cell_type": "markdown",
   "metadata": {},
   "source": [
    "## Game Count By Genre"
   ]
  },
  {
   "cell_type": "code",
   "execution_count": 78,
   "metadata": {
    "scrolled": false
   },
   "outputs": [
    {
     "data": {
      "text/html": [
       "<div>\n",
       "<style scoped>\n",
       "    .dataframe tbody tr th:only-of-type {\n",
       "        vertical-align: middle;\n",
       "    }\n",
       "\n",
       "    .dataframe tbody tr th {\n",
       "        vertical-align: top;\n",
       "    }\n",
       "\n",
       "    .dataframe thead th {\n",
       "        text-align: right;\n",
       "    }\n",
       "</style>\n",
       "<table border=\"1\" class=\"dataframe\">\n",
       "  <thead>\n",
       "    <tr style=\"text-align: right;\">\n",
       "      <th></th>\n",
       "      <th>Genre</th>\n",
       "      <th>Game Count</th>\n",
       "    </tr>\n",
       "  </thead>\n",
       "  <tbody>\n",
       "    <tr>\n",
       "      <th>0</th>\n",
       "      <td>Action</td>\n",
       "      <td>277</td>\n",
       "    </tr>\n",
       "    <tr>\n",
       "      <th>1</th>\n",
       "      <td>Adventure</td>\n",
       "      <td>105</td>\n",
       "    </tr>\n",
       "    <tr>\n",
       "      <th>2</th>\n",
       "      <td>Fighting</td>\n",
       "      <td>203</td>\n",
       "    </tr>\n",
       "    <tr>\n",
       "      <th>3</th>\n",
       "      <td>Misc</td>\n",
       "      <td>136</td>\n",
       "    </tr>\n",
       "    <tr>\n",
       "      <th>4</th>\n",
       "      <td>Platform</td>\n",
       "      <td>170</td>\n",
       "    </tr>\n",
       "    <tr>\n",
       "      <th>5</th>\n",
       "      <td>Puzzle</td>\n",
       "      <td>84</td>\n",
       "    </tr>\n",
       "    <tr>\n",
       "      <th>6</th>\n",
       "      <td>Racing</td>\n",
       "      <td>228</td>\n",
       "    </tr>\n",
       "    <tr>\n",
       "      <th>7</th>\n",
       "      <td>Role-Playing</td>\n",
       "      <td>186</td>\n",
       "    </tr>\n",
       "    <tr>\n",
       "      <th>8</th>\n",
       "      <td>Shooter</td>\n",
       "      <td>182</td>\n",
       "    </tr>\n",
       "    <tr>\n",
       "      <th>9</th>\n",
       "      <td>Simulation</td>\n",
       "      <td>87</td>\n",
       "    </tr>\n",
       "    <tr>\n",
       "      <th>10</th>\n",
       "      <td>Sports</td>\n",
       "      <td>392</td>\n",
       "    </tr>\n",
       "    <tr>\n",
       "      <th>11</th>\n",
       "      <td>Strategy</td>\n",
       "      <td>114</td>\n",
       "    </tr>\n",
       "  </tbody>\n",
       "</table>\n",
       "</div>"
      ],
      "text/plain": [
       "           Genre  Game Count\n",
       "0         Action         277\n",
       "1      Adventure         105\n",
       "2       Fighting         203\n",
       "3           Misc         136\n",
       "4       Platform         170\n",
       "5         Puzzle          84\n",
       "6         Racing         228\n",
       "7   Role-Playing         186\n",
       "8        Shooter         182\n",
       "9     Simulation          87\n",
       "10        Sports         392\n",
       "11      Strategy         114"
      ]
     },
     "execution_count": 78,
     "metadata": {},
     "output_type": "execute_result"
    }
   ],
   "source": [
    "genres = game_data.groupby(\"Genre\", as_index=False).count()\n",
    "genre_count = genres[[\"Genre\", \"Name\"]].rename(columns={\"Name\": \"Game Count\"})\n",
    "genre_count"
   ]
  },
  {
   "cell_type": "code",
   "execution_count": 110,
   "metadata": {},
   "outputs": [
    {
     "data": {
      "image/png": "[encoded data removed]",
      "text/plain": [
       "<Figure size 432x1080 with 1 Axes>"
      ]
     },
     "metadata": {},
     "output_type": "display_data"
    }
   ],
   "source": [
    "sns.set_theme(style=\"darkgrid\")\n",
    "\n",
    "# Initialize the matplotlib figure\n",
    "f, ax = plt.subplots(figsize=(6, 15))\n",
    "\n",
    "# Plot the games per year\n",
    "sns.barplot(x=\"Genre\", y=\"Game Count\", data=genre_count,\n",
    "            label=\"Game Count\", color=\"g\")\n",
    "\n",
    "# Add a legend and informative axis label\n",
    "ax.legend(ncol=2, loc=\"lower right\", frameon=True)\n",
    "ax.set(ylabel=\"Game Count\", xlabel=\"Genre\")\n",
    "plt.xticks(rotation=45, ha='right')\n",
    "sns.despine(left=True, bottom=True)"
   ]
  },
  {
   "cell_type": "code",
   "execution_count": 187,
   "metadata": {},
   "outputs": [
    {
     "data": {
      "text/html": [
       "<div>\n",
       "<style scoped>\n",
       "    .dataframe tbody tr th:only-of-type {\n",
       "        vertical-align: middle;\n",
       "    }\n",
       "\n",
       "    .dataframe tbody tr th {\n",
       "        vertical-align: top;\n",
       "    }\n",
       "\n",
       "    .dataframe thead th {\n",
       "        text-align: right;\n",
       "    }\n",
       "</style>\n",
       "<table border=\"1\" class=\"dataframe\">\n",
       "  <thead>\n",
       "    <tr style=\"text-align: right;\">\n",
       "      <th></th>\n",
       "      <th>Genre</th>\n",
       "      <th>Year</th>\n",
       "      <th>Number of Genres</th>\n",
       "    </tr>\n",
       "  </thead>\n",
       "  <tbody>\n",
       "    <tr>\n",
       "      <th>0</th>\n",
       "      <td>Action</td>\n",
       "      <td>1980</td>\n",
       "      <td>1</td>\n",
       "    </tr>\n",
       "    <tr>\n",
       "      <th>1</th>\n",
       "      <td>Action</td>\n",
       "      <td>1981</td>\n",
       "      <td>25</td>\n",
       "    </tr>\n",
       "    <tr>\n",
       "      <th>2</th>\n",
       "      <td>Action</td>\n",
       "      <td>1982</td>\n",
       "      <td>18</td>\n",
       "    </tr>\n",
       "    <tr>\n",
       "      <th>3</th>\n",
       "      <td>Action</td>\n",
       "      <td>1983</td>\n",
       "      <td>7</td>\n",
       "    </tr>\n",
       "    <tr>\n",
       "      <th>4</th>\n",
       "      <td>Action</td>\n",
       "      <td>1984</td>\n",
       "      <td>1</td>\n",
       "    </tr>\n",
       "    <tr>\n",
       "      <th>...</th>\n",
       "      <td>...</td>\n",
       "      <td>...</td>\n",
       "      <td>...</td>\n",
       "    </tr>\n",
       "    <tr>\n",
       "      <th>205</th>\n",
       "      <td>Strategy</td>\n",
       "      <td>1997</td>\n",
       "      <td>18</td>\n",
       "    </tr>\n",
       "    <tr>\n",
       "      <th>206</th>\n",
       "      <td>Strategy</td>\n",
       "      <td>1998</td>\n",
       "      <td>28</td>\n",
       "    </tr>\n",
       "    <tr>\n",
       "      <th>207</th>\n",
       "      <td>Strategy</td>\n",
       "      <td>1999</td>\n",
       "      <td>23</td>\n",
       "    </tr>\n",
       "    <tr>\n",
       "      <th>208</th>\n",
       "      <td>Strategy</td>\n",
       "      <td>2000</td>\n",
       "      <td>7</td>\n",
       "    </tr>\n",
       "    <tr>\n",
       "      <th>209</th>\n",
       "      <td>Strategy</td>\n",
       "      <td>2001</td>\n",
       "      <td>3</td>\n",
       "    </tr>\n",
       "  </tbody>\n",
       "</table>\n",
       "<p>210 rows × 3 columns</p>\n",
       "</div>"
      ],
      "text/plain": [
       "        Genre  Year  Number of Genres\n",
       "0      Action  1980                 1\n",
       "1      Action  1981                25\n",
       "2      Action  1982                18\n",
       "3      Action  1983                 7\n",
       "4      Action  1984                 1\n",
       "..        ...   ...               ...\n",
       "205  Strategy  1997                18\n",
       "206  Strategy  1998                28\n",
       "207  Strategy  1999                23\n",
       "208  Strategy  2000                 7\n",
       "209  Strategy  2001                 3\n",
       "\n",
       "[210 rows x 3 columns]"
      ]
     },
     "execution_count": 187,
     "metadata": {},
     "output_type": "execute_result"
    }
   ],
   "source": [
    "genre_year = game_data.groupby([\"Genre\", \"Year\"], as_index=False).count()\n",
    "genre_by_year = genre_year[[\"Genre\", \"Year\", \"Platform\"]].rename(columns={\"Platform\": \"Number of Genres\"})\n",
    "genre_by_year"
   ]
  },
  {
   "cell_type": "code",
   "execution_count": 117,
   "metadata": {},
   "outputs": [
    {
     "data": {
      "text/plain": [
       "<AxesSubplot:xlabel='Year', ylabel='Genre'>"
      ]
     },
     "execution_count": 117,
     "metadata": {},
     "output_type": "execute_result"
    },
    {
     "data": {
      "image/png": "[encoded data removed]",
      "text/plain": [
       "<Figure size 432x288 with 1 Axes>"
      ]
     },
     "metadata": {},
     "output_type": "display_data"
    }
   ],
   "source": [
    "sns.stripplot(data=genre_by_year, x=\"Year\", y=\"Genre\")"
   ]
  },
  {
   "cell_type": "code",
   "execution_count": 118,
   "metadata": {
    "scrolled": true
   },
   "outputs": [
    {
     "data": {
      "text/plain": [
       "<seaborn.axisgrid.FacetGrid at 0x7fb1318f29d0>"
      ]
     },
     "execution_count": 118,
     "metadata": {},
     "output_type": "execute_result"
    },
    {
     "data": {
      "image/png": "[encoded data removed]",
      "text/plain": [
       "<Figure size 436.925x360 with 1 Axes>"
      ]
     },
     "metadata": {},
     "output_type": "display_data"
    }
   ],
   "source": [
    "sns.relplot(\n",
    "    data=genre_by_year, x=\"Year\", y=\"Genre\",size=\"Game Count\",\n",
    "    palette=[\"b\", \"r\"], sizes=(10, 50)\n",
    ")"
   ]
  },
  {
   "cell_type": "markdown",
   "metadata": {},
   "source": [
    "## Animated Bubble Chart"
   ]
  },
  {
   "cell_type": "code",
   "execution_count": 190,
   "metadata": {
    "scrolled": true
   },
   "outputs": [
    {
     "data": {
      "text/html": [
       "<div>\n",
       "<style scoped>\n",
       "    .dataframe tbody tr th:only-of-type {\n",
       "        vertical-align: middle;\n",
       "    }\n",
       "\n",
       "    .dataframe tbody tr th {\n",
       "        vertical-align: top;\n",
       "    }\n",
       "\n",
       "    .dataframe thead th {\n",
       "        text-align: right;\n",
       "    }\n",
       "</style>\n",
       "<table border=\"1\" class=\"dataframe\">\n",
       "  <thead>\n",
       "    <tr style=\"text-align: right;\">\n",
       "      <th></th>\n",
       "      <th>Platform</th>\n",
       "      <th>Year</th>\n",
       "      <th>Games per Platform</th>\n",
       "      <th>Genre</th>\n",
       "      <th>Number of Genres</th>\n",
       "    </tr>\n",
       "  </thead>\n",
       "  <tbody>\n",
       "    <tr>\n",
       "      <th>0</th>\n",
       "      <td>2600</td>\n",
       "      <td>1980</td>\n",
       "      <td>9</td>\n",
       "      <td>Action</td>\n",
       "      <td>1</td>\n",
       "    </tr>\n",
       "    <tr>\n",
       "      <th>1</th>\n",
       "      <td>2600</td>\n",
       "      <td>1980</td>\n",
       "      <td>9</td>\n",
       "      <td>Fighting</td>\n",
       "      <td>1</td>\n",
       "    </tr>\n",
       "    <tr>\n",
       "      <th>2</th>\n",
       "      <td>2600</td>\n",
       "      <td>1980</td>\n",
       "      <td>9</td>\n",
       "      <td>Misc</td>\n",
       "      <td>4</td>\n",
       "    </tr>\n",
       "    <tr>\n",
       "      <th>3</th>\n",
       "      <td>2600</td>\n",
       "      <td>1980</td>\n",
       "      <td>9</td>\n",
       "      <td>Shooter</td>\n",
       "      <td>2</td>\n",
       "    </tr>\n",
       "    <tr>\n",
       "      <th>4</th>\n",
       "      <td>2600</td>\n",
       "      <td>1980</td>\n",
       "      <td>9</td>\n",
       "      <td>Sports</td>\n",
       "      <td>1</td>\n",
       "    </tr>\n",
       "    <tr>\n",
       "      <th>...</th>\n",
       "      <td>...</td>\n",
       "      <td>...</td>\n",
       "      <td>...</td>\n",
       "      <td>...</td>\n",
       "      <td>...</td>\n",
       "    </tr>\n",
       "    <tr>\n",
       "      <th>602</th>\n",
       "      <td>SNES</td>\n",
       "      <td>1995</td>\n",
       "      <td>54</td>\n",
       "      <td>Simulation</td>\n",
       "      <td>13</td>\n",
       "    </tr>\n",
       "    <tr>\n",
       "      <th>603</th>\n",
       "      <td>SNES</td>\n",
       "      <td>1995</td>\n",
       "      <td>54</td>\n",
       "      <td>Sports</td>\n",
       "      <td>28</td>\n",
       "    </tr>\n",
       "    <tr>\n",
       "      <th>604</th>\n",
       "      <td>SNES</td>\n",
       "      <td>1995</td>\n",
       "      <td>54</td>\n",
       "      <td>Strategy</td>\n",
       "      <td>13</td>\n",
       "    </tr>\n",
       "    <tr>\n",
       "      <th>605</th>\n",
       "      <td>PS</td>\n",
       "      <td>2003</td>\n",
       "      <td>3</td>\n",
       "      <td>Misc</td>\n",
       "      <td>2</td>\n",
       "    </tr>\n",
       "    <tr>\n",
       "      <th>606</th>\n",
       "      <td>PS</td>\n",
       "      <td>2003</td>\n",
       "      <td>3</td>\n",
       "      <td>Sports</td>\n",
       "      <td>1</td>\n",
       "    </tr>\n",
       "  </tbody>\n",
       "</table>\n",
       "<p>607 rows × 5 columns</p>\n",
       "</div>"
      ],
      "text/plain": [
       "    Platform  Year  Games per Platform       Genre  Number of Genres\n",
       "0       2600  1980                   9      Action                 1\n",
       "1       2600  1980                   9    Fighting                 1\n",
       "2       2600  1980                   9        Misc                 4\n",
       "3       2600  1980                   9     Shooter                 2\n",
       "4       2600  1980                   9      Sports                 1\n",
       "..       ...   ...                 ...         ...               ...\n",
       "602     SNES  1995                  54  Simulation                13\n",
       "603     SNES  1995                  54      Sports                28\n",
       "604     SNES  1995                  54    Strategy                13\n",
       "605       PS  2003                   3        Misc                 2\n",
       "606       PS  2003                   3      Sports                 1\n",
       "\n",
       "[607 rows x 5 columns]"
      ]
     },
     "execution_count": 190,
     "metadata": {},
     "output_type": "execute_result"
    }
   ],
   "source": [
    "genre_platform = games_by_year.merge(genre_by_year, how='inner', on=\"Year\")\n",
    "genre_platform"
   ]
  },
  {
   "cell_type": "code",
   "execution_count": 191,
   "metadata": {
    "scrolled": true
   },
   "outputs": [],
   "source": [
    "from bubbly.bubbly import bubbleplot"
   ]
  },
  {
   "cell_type": "code",
   "execution_count": 192,
   "metadata": {
    "scrolled": true
   },
   "outputs": [
    {
     "ename": "KeyError",
     "evalue": "'Genre Count'",
     "output_type": "error",
     "traceback": [
      "\u001b[0;31m---------------------------------------------------------------------------\u001b[0m",
      "\u001b[0;31mKeyError\u001b[0m                                  Traceback (most recent call last)",
      "\u001b[0;32m~/opt/anaconda3/lib/python3.7/site-packages/pandas/core/indexes/base.py\u001b[0m in \u001b[0;36mget_loc\u001b[0;34m(self, key, method, tolerance)\u001b[0m\n\u001b[1;32m   2894\u001b[0m             \u001b[0;32mtry\u001b[0m\u001b[0;34m:\u001b[0m\u001b[0;34m\u001b[0m\u001b[0;34m\u001b[0m\u001b[0m\n\u001b[0;32m-> 2895\u001b[0;31m                 \u001b[0;32mreturn\u001b[0m \u001b[0mself\u001b[0m\u001b[0;34m.\u001b[0m\u001b[0m_engine\u001b[0m\u001b[0;34m.\u001b[0m\u001b[0mget_loc\u001b[0m\u001b[0;34m(\u001b[0m\u001b[0mcasted_key\u001b[0m\u001b[0;34m)\u001b[0m\u001b[0;34m\u001b[0m\u001b[0;34m\u001b[0m\u001b[0m\n\u001b[0m\u001b[1;32m   2896\u001b[0m             \u001b[0;32mexcept\u001b[0m \u001b[0mKeyError\u001b[0m \u001b[0;32mas\u001b[0m \u001b[0merr\u001b[0m\u001b[0;34m:\u001b[0m\u001b[0;34m\u001b[0m\u001b[0;34m\u001b[0m\u001b[0m\n",
      "\u001b[0;32mpandas/_libs/index.pyx\u001b[0m in \u001b[0;36mpandas._libs.index.IndexEngine.get_loc\u001b[0;34m()\u001b[0m\n",
      "\u001b[0;32mpandas/_libs/index.pyx\u001b[0m in \u001b[0;36mpandas._libs.index.IndexEngine.get_loc\u001b[0;34m()\u001b[0m\n",
      "\u001b[0;32mpandas/_libs/hashtable_class_helper.pxi\u001b[0m in \u001b[0;36mpandas._libs.hashtable.PyObjectHashTable.get_item\u001b[0;34m()\u001b[0m\n",
      "\u001b[0;32mpandas/_libs/hashtable_class_helper.pxi\u001b[0m in \u001b[0;36mpandas._libs.hashtable.PyObjectHashTable.get_item\u001b[0;34m()\u001b[0m\n",
      "\u001b[0;31mKeyError\u001b[0m: 'Genre Count'",
      "\nThe above exception was the direct cause of the following exception:\n",
      "\u001b[0;31mKeyError\u001b[0m                                  Traceback (most recent call last)",
      "\u001b[0;32m<ipython-input-192-7747cf4eef59>\u001b[0m in \u001b[0;36m<module>\u001b[0;34m\u001b[0m\n\u001b[1;32m      1\u001b[0m figure = bubbleplot(dataset=genre_platform, x_column=\"Genre Count\", y_column=\"Platform Count\", \n\u001b[1;32m      2\u001b[0m     \u001b[0mbubble_column\u001b[0m\u001b[0;34m=\u001b[0m\u001b[0;34m\"Genre\"\u001b[0m\u001b[0;34m,\u001b[0m \u001b[0mtime_column\u001b[0m\u001b[0;34m=\u001b[0m\u001b[0;34m\"Year\"\u001b[0m\u001b[0;34m,\u001b[0m \u001b[0msize_column\u001b[0m\u001b[0;34m=\u001b[0m\u001b[0;34m\"Platform Count\"\u001b[0m\u001b[0;34m,\u001b[0m \u001b[0mcolor_column\u001b[0m\u001b[0;34m=\u001b[0m\u001b[0;34m\"Platform\"\u001b[0m\u001b[0;34m,\u001b[0m\u001b[0;34m\u001b[0m\u001b[0;34m\u001b[0m\u001b[0m\n\u001b[0;32m----> 3\u001b[0;31m     x_title=\"Genre Count\", y_title=\"Platform Count\", title='Video Game Popularity Over Time', x_logscale=True, scale_bubble=3, height=650)\n\u001b[0m\u001b[1;32m      4\u001b[0m \u001b[0;34m\u001b[0m\u001b[0m\n\u001b[1;32m      5\u001b[0m \u001b[0miplot\u001b[0m\u001b[0;34m(\u001b[0m\u001b[0mfigure\u001b[0m\u001b[0;34m,\u001b[0m \u001b[0mconfig\u001b[0m\u001b[0;34m=\u001b[0m\u001b[0;34m{\u001b[0m\u001b[0;34m'scrollzoom'\u001b[0m\u001b[0;34m:\u001b[0m \u001b[0;32mTrue\u001b[0m\u001b[0;34m}\u001b[0m\u001b[0;34m)\u001b[0m\u001b[0;34m\u001b[0m\u001b[0;34m\u001b[0m\u001b[0m\n",
      "\u001b[0;32m~/opt/anaconda3/lib/python3.7/site-packages/bubbly/bubbly.py\u001b[0m in \u001b[0;36mbubbleplot\u001b[0;34m(dataset, x_column, y_column, bubble_column, z_column, time_column, size_column, color_column, x_logscale, y_logscale, z_logscale, x_range, y_range, z_range, x_title, y_title, z_title, title, colorbar_title, scale_bubble, colorscale, marker_opacity, marker_border_width, show_slider, show_button, show_colorbar, show_legend, width, height)\u001b[0m\n\u001b[1;32m     48\u001b[0m         \u001b[0mcategories\u001b[0m \u001b[0;34m=\u001b[0m \u001b[0mdataset\u001b[0m\u001b[0;34m[\u001b[0m\u001b[0mcategory_column\u001b[0m\u001b[0;34m]\u001b[0m\u001b[0;34m.\u001b[0m\u001b[0munique\u001b[0m\u001b[0;34m(\u001b[0m\u001b[0;34m)\u001b[0m\u001b[0;34m\u001b[0m\u001b[0;34m\u001b[0m\u001b[0m\n\u001b[1;32m     49\u001b[0m         \u001b[0mcol_name_template\u001b[0m \u001b[0;34m=\u001b[0m \u001b[0;34m'{}+{}+{}_grid'\u001b[0m\u001b[0;34m\u001b[0m\u001b[0;34m\u001b[0m\u001b[0m\n\u001b[0;32m---> 50\u001b[0;31m         \u001b[0mgrid\u001b[0m \u001b[0;34m=\u001b[0m \u001b[0mmake_grid_with_categories\u001b[0m\u001b[0;34m(\u001b[0m\u001b[0mdataset\u001b[0m\u001b[0;34m,\u001b[0m \u001b[0mcolumn_names\u001b[0m\u001b[0;34m,\u001b[0m \u001b[0mtime_column\u001b[0m\u001b[0;34m,\u001b[0m \u001b[0mcategory_column\u001b[0m\u001b[0;34m,\u001b[0m \u001b[0myears\u001b[0m\u001b[0;34m,\u001b[0m \u001b[0mcategories\u001b[0m\u001b[0;34m)\u001b[0m\u001b[0;34m\u001b[0m\u001b[0;34m\u001b[0m\u001b[0m\n\u001b[0m\u001b[1;32m     51\u001b[0m         \u001b[0;32mif\u001b[0m \u001b[0mshow_legend\u001b[0m \u001b[0;32mis\u001b[0m \u001b[0;32mNone\u001b[0m\u001b[0;34m:\u001b[0m\u001b[0;34m\u001b[0m\u001b[0;34m\u001b[0m\u001b[0m\n\u001b[1;32m     52\u001b[0m             \u001b[0mshowlegend\u001b[0m \u001b[0;34m=\u001b[0m \u001b[0;32mTrue\u001b[0m\u001b[0;34m\u001b[0m\u001b[0;34m\u001b[0m\u001b[0m\n",
      "\u001b[0;32m~/opt/anaconda3/lib/python3.7/site-packages/bubbly/bubbly.py\u001b[0m in \u001b[0;36mmake_grid_with_categories\u001b[0;34m(dataset, column_names, time_column, category_column, years, categories)\u001b[0m\n\u001b[1;32m    210\u001b[0m                     \u001b[0;31m# Each column name is unique\u001b[0m\u001b[0;34m\u001b[0m\u001b[0;34m\u001b[0m\u001b[0;34m\u001b[0m\u001b[0m\n\u001b[1;32m    211\u001b[0m                     \u001b[0mtemp\u001b[0m \u001b[0;34m=\u001b[0m \u001b[0mcol_name_template\u001b[0m\u001b[0;34m.\u001b[0m\u001b[0mformat\u001b[0m\u001b[0;34m(\u001b[0m\u001b[0myear\u001b[0m\u001b[0;34m,\u001b[0m \u001b[0mcol_name\u001b[0m\u001b[0;34m,\u001b[0m \u001b[0mcategory\u001b[0m\u001b[0;34m)\u001b[0m\u001b[0;34m\u001b[0m\u001b[0;34m\u001b[0m\u001b[0m\n\u001b[0;32m--> 212\u001b[0;31m                     \u001b[0;32mif\u001b[0m \u001b[0mdataset_by_year_and_cat\u001b[0m\u001b[0;34m[\u001b[0m\u001b[0mcol_name\u001b[0m\u001b[0;34m]\u001b[0m\u001b[0;34m.\u001b[0m\u001b[0msize\u001b[0m \u001b[0;34m!=\u001b[0m \u001b[0;36m0\u001b[0m\u001b[0;34m:\u001b[0m\u001b[0;34m\u001b[0m\u001b[0;34m\u001b[0m\u001b[0m\n\u001b[0m\u001b[1;32m    213\u001b[0m                         \u001b[0mgrid\u001b[0m \u001b[0;34m=\u001b[0m \u001b[0mgrid\u001b[0m\u001b[0;34m.\u001b[0m\u001b[0mappend\u001b[0m\u001b[0;34m(\u001b[0m\u001b[0;34m{\u001b[0m\u001b[0;34m'value'\u001b[0m\u001b[0;34m:\u001b[0m \u001b[0mlist\u001b[0m\u001b[0;34m(\u001b[0m\u001b[0mdataset_by_year_and_cat\u001b[0m\u001b[0;34m[\u001b[0m\u001b[0mcol_name\u001b[0m\u001b[0;34m]\u001b[0m\u001b[0;34m)\u001b[0m\u001b[0;34m,\u001b[0m \u001b[0;34m'key'\u001b[0m\u001b[0;34m:\u001b[0m \u001b[0mtemp\u001b[0m\u001b[0;34m}\u001b[0m\u001b[0;34m,\u001b[0m \u001b[0mignore_index\u001b[0m\u001b[0;34m=\u001b[0m\u001b[0;32mTrue\u001b[0m\u001b[0;34m)\u001b[0m\u001b[0;34m\u001b[0m\u001b[0;34m\u001b[0m\u001b[0m\n\u001b[1;32m    214\u001b[0m     \u001b[0;32melse\u001b[0m\u001b[0;34m:\u001b[0m\u001b[0;34m\u001b[0m\u001b[0;34m\u001b[0m\u001b[0m\n",
      "\u001b[0;32m~/opt/anaconda3/lib/python3.7/site-packages/pandas/core/frame.py\u001b[0m in \u001b[0;36m__getitem__\u001b[0;34m(self, key)\u001b[0m\n\u001b[1;32m   2900\u001b[0m             \u001b[0;32mif\u001b[0m \u001b[0mself\u001b[0m\u001b[0;34m.\u001b[0m\u001b[0mcolumns\u001b[0m\u001b[0;34m.\u001b[0m\u001b[0mnlevels\u001b[0m \u001b[0;34m>\u001b[0m \u001b[0;36m1\u001b[0m\u001b[0;34m:\u001b[0m\u001b[0;34m\u001b[0m\u001b[0;34m\u001b[0m\u001b[0m\n\u001b[1;32m   2901\u001b[0m                 \u001b[0;32mreturn\u001b[0m \u001b[0mself\u001b[0m\u001b[0;34m.\u001b[0m\u001b[0m_getitem_multilevel\u001b[0m\u001b[0;34m(\u001b[0m\u001b[0mkey\u001b[0m\u001b[0;34m)\u001b[0m\u001b[0;34m\u001b[0m\u001b[0;34m\u001b[0m\u001b[0m\n\u001b[0;32m-> 2902\u001b[0;31m             \u001b[0mindexer\u001b[0m \u001b[0;34m=\u001b[0m \u001b[0mself\u001b[0m\u001b[0;34m.\u001b[0m\u001b[0mcolumns\u001b[0m\u001b[0;34m.\u001b[0m\u001b[0mget_loc\u001b[0m\u001b[0;34m(\u001b[0m\u001b[0mkey\u001b[0m\u001b[0;34m)\u001b[0m\u001b[0;34m\u001b[0m\u001b[0;34m\u001b[0m\u001b[0m\n\u001b[0m\u001b[1;32m   2903\u001b[0m             \u001b[0;32mif\u001b[0m \u001b[0mis_integer\u001b[0m\u001b[0;34m(\u001b[0m\u001b[0mindexer\u001b[0m\u001b[0;34m)\u001b[0m\u001b[0;34m:\u001b[0m\u001b[0;34m\u001b[0m\u001b[0;34m\u001b[0m\u001b[0m\n\u001b[1;32m   2904\u001b[0m                 \u001b[0mindexer\u001b[0m \u001b[0;34m=\u001b[0m \u001b[0;34m[\u001b[0m\u001b[0mindexer\u001b[0m\u001b[0;34m]\u001b[0m\u001b[0;34m\u001b[0m\u001b[0;34m\u001b[0m\u001b[0m\n",
      "\u001b[0;32m~/opt/anaconda3/lib/python3.7/site-packages/pandas/core/indexes/base.py\u001b[0m in \u001b[0;36mget_loc\u001b[0;34m(self, key, method, tolerance)\u001b[0m\n\u001b[1;32m   2895\u001b[0m                 \u001b[0;32mreturn\u001b[0m \u001b[0mself\u001b[0m\u001b[0;34m.\u001b[0m\u001b[0m_engine\u001b[0m\u001b[0;34m.\u001b[0m\u001b[0mget_loc\u001b[0m\u001b[0;34m(\u001b[0m\u001b[0mcasted_key\u001b[0m\u001b[0;34m)\u001b[0m\u001b[0;34m\u001b[0m\u001b[0;34m\u001b[0m\u001b[0m\n\u001b[1;32m   2896\u001b[0m             \u001b[0;32mexcept\u001b[0m \u001b[0mKeyError\u001b[0m \u001b[0;32mas\u001b[0m \u001b[0merr\u001b[0m\u001b[0;34m:\u001b[0m\u001b[0;34m\u001b[0m\u001b[0;34m\u001b[0m\u001b[0m\n\u001b[0;32m-> 2897\u001b[0;31m                 \u001b[0;32mraise\u001b[0m \u001b[0mKeyError\u001b[0m\u001b[0;34m(\u001b[0m\u001b[0mkey\u001b[0m\u001b[0;34m)\u001b[0m \u001b[0;32mfrom\u001b[0m \u001b[0merr\u001b[0m\u001b[0;34m\u001b[0m\u001b[0;34m\u001b[0m\u001b[0m\n\u001b[0m\u001b[1;32m   2898\u001b[0m \u001b[0;34m\u001b[0m\u001b[0m\n\u001b[1;32m   2899\u001b[0m         \u001b[0;32mif\u001b[0m \u001b[0mtolerance\u001b[0m \u001b[0;32mis\u001b[0m \u001b[0;32mnot\u001b[0m \u001b[0;32mNone\u001b[0m\u001b[0;34m:\u001b[0m\u001b[0;34m\u001b[0m\u001b[0;34m\u001b[0m\u001b[0m\n",
      "\u001b[0;31mKeyError\u001b[0m: 'Genre Count'"
     ]
    }
   ],
   "source": [
    "figure = bubbleplot(dataset=genre_platform, x_column=\"Genre Count\", y_column=\"Platform Count\", \n",
    "    bubble_column=\"Genre\", time_column=\"Year\", size_column=\"Platform Count\", color_column=\"Platform\",\n",
    "    x_title=\"Genre Count\", y_title=\"Platform Count\", title='Video Game Popularity Over Time', x_logscale=True, scale_bubble=3, height=650)\n",
    "\n",
    "iplot(figure, config={'scrollzoom': True})"
   ]
  },
  {
   "cell_type": "raw",
   "metadata": {},
   "source": [
    "fig = px.scatter(genre,x=”GDPperCap”, y=”LifeExp”,animation_frame=”Year”, \n",
    " animation_group=”Country”,size=”Population”, \n",
    " color=”Continent_Name”,\n",
    " hover_name=”Country”, log_x=True, \n",
    " size_max=45,range_x=[200,150000], range_y=[10,100]\n",
    " )\n",
    "fig.layout.updatemenus[0].buttons[0].args[1][“frame”][“duration”] = 700\n",
    "fig.show()"
   ]
  },
  {
   "cell_type": "code",
   "execution_count": 195,
   "metadata": {
    "scrolled": false
   },
   "outputs": [
    {
     "data": {
      "application/vnd.plotly.v1+json": {
       "config": {
        "plotlyServerURL": "https://plot.ly"
       },
       "data": [
        {
         "hovertemplate": "<b>%{hovertext}</b><br><br>Platform=2600<br>Year=1980<br>Number of Genres=%{x}<br>Games per Platform=%{marker.size}<extra></extra>",
         "hovertext": [
          "Action",
          "Fighting",
          "Misc",
          "Shooter",
          "Sports"
         ],
         "ids": [
          "Action",
          "Fighting",
          "Misc",
          "Shooter",
          "Sports"
         ],
         "legendgroup": "2600",
         "marker": {
          "color": "#636efa",
          "size": [
           9,
           9,
           9,
           9,
           9
          ],
          "sizemode": "area",
          "sizeref": 0.62,
          "symbol": "circle"
         },
         "mode": "markers",
         "name": "2600",
         "orientation": "v",
         "showlegend": true,
         "type": "scatter",
         "x": [
          1,
          1,
          4,
          2,
          1
         ],
         "xaxis": "x",
         "y": [
          9,
          9,
          9,
          9,
          9
         ],
         "yaxis": "y"
        }
       ],
       "frames": [
        {
         "data": [
          {
           "hovertemplate": "<b>%{hovertext}</b><br><br>Platform=2600<br>Year=1980<br>Number of Genres=%{x}<br>Games per Platform=%{marker.size}<extra></extra>",
           "hovertext": [
            "Action",
            "Fighting",
            "Misc",
            "Shooter",
            "Sports"
           ],
           "ids": [
            "Action",
            "Fighting",
            "Misc",
            "Shooter",
            "Sports"
           ],
           "legendgroup": "2600",
           "marker": {
            "color": "#636efa",
            "size": [
             9,
             9,
             9,
             9,
             9
            ],
            "sizemode": "area",
            "sizeref": 0.62,
            "symbol": "circle"
           },
           "mode": "markers",
           "name": "2600",
           "orientation": "v",
           "showlegend": true,
           "type": "scatter",
           "x": [
            1,
            1,
            4,
            2,
            1
           ],
           "xaxis": "x",
           "y": [
            9,
            9,
            9,
            9,
            9
           ],
           "yaxis": "y"
          }
         ],
         "name": "1980"
        },
        {
         "data": [
          {
           "hovertemplate": "<b>%{hovertext}</b><br><br>Platform=2600<br>Year=1981<br>Number of Genres=%{x}<br>Games per Platform=%{marker.size}<extra></extra>",
           "hovertext": [
            "Action",
            "Platform",
            "Puzzle",
            "Racing",
            "Shooter",
            "Simulation",
            "Sports"
           ],
           "ids": [
            "Action",
            "Platform",
            "Puzzle",
            "Racing",
            "Shooter",
            "Simulation",
            "Sports"
           ],
           "legendgroup": "2600",
           "marker": {
            "color": "#636efa",
            "size": [
             46,
             46,
             46,
             46,
             46,
             46,
             46
            ],
            "sizemode": "area",
            "sizeref": 0.62,
            "symbol": "circle"
           },
           "mode": "markers",
           "name": "2600",
           "orientation": "v",
           "showlegend": true,
           "type": "scatter",
           "x": [
            25,
            3,
            2,
            1,
            10,
            1,
            4
           ],
           "xaxis": "x",
           "y": [
            46,
            46,
            46,
            46,
            46,
            46,
            46
           ],
           "yaxis": "y"
          }
         ],
         "name": "1981"
        },
        {
         "data": [
          {
           "hovertemplate": "<b>%{hovertext}</b><br><br>Platform=2600<br>Year=1982<br>Number of Genres=%{x}<br>Games per Platform=%{marker.size}<extra></extra>",
           "hovertext": [
            "Action",
            "Misc",
            "Platform",
            "Puzzle",
            "Racing",
            "Shooter",
            "Sports"
           ],
           "ids": [
            "Action",
            "Misc",
            "Platform",
            "Puzzle",
            "Racing",
            "Shooter",
            "Sports"
           ],
           "legendgroup": "2600",
           "marker": {
            "color": "#636efa",
            "size": [
             36,
             36,
             36,
             36,
             36,
             36,
             36
            ],
            "sizemode": "area",
            "sizeref": 0.62,
            "symbol": "circle"
           },
           "mode": "markers",
           "name": "2600",
           "orientation": "v",
           "showlegend": true,
           "type": "scatter",
           "x": [
            18,
            1,
            5,
            3,
            2,
            5,
            2
           ],
           "xaxis": "x",
           "y": [
            36,
            36,
            36,
            36,
            36,
            36,
            36
           ],
           "yaxis": "y"
          }
         ],
         "name": "1982"
        },
        {
         "data": [
          {
           "hovertemplate": "<b>%{hovertext}</b><br><br>Platform=2600<br>Year=1983<br>Number of Genres=%{x}<br>Games per Platform=%{marker.size}<extra></extra>",
           "hovertext": [
            "Action",
            "Adventure",
            "Misc",
            "Platform",
            "Puzzle",
            "Shooter",
            "Sports"
           ],
           "ids": [
            "Action",
            "Adventure",
            "Misc",
            "Platform",
            "Puzzle",
            "Shooter",
            "Sports"
           ],
           "legendgroup": "2600",
           "marker": {
            "color": "#636efa",
            "size": [
             11,
             11,
             11,
             11,
             11,
             11,
             11
            ],
            "sizemode": "area",
            "sizeref": 0.62,
            "symbol": "circle"
           },
           "mode": "markers",
           "name": "2600",
           "orientation": "v",
           "showlegend": true,
           "type": "scatter",
           "x": [
            7,
            1,
            1,
            5,
            1,
            1,
            1
           ],
           "xaxis": "x",
           "y": [
            11,
            11,
            11,
            11,
            11,
            11,
            11
           ],
           "yaxis": "y"
          },
          {
           "hovertemplate": "<b>%{hovertext}</b><br><br>Platform=NES<br>Year=1983<br>Number of Genres=%{x}<br>Games per Platform=%{marker.size}<extra></extra>",
           "hovertext": [
            "Action",
            "Adventure",
            "Misc",
            "Platform",
            "Puzzle",
            "Shooter",
            "Sports"
           ],
           "ids": [
            "Action",
            "Adventure",
            "Misc",
            "Platform",
            "Puzzle",
            "Shooter",
            "Sports"
           ],
           "legendgroup": "NES",
           "marker": {
            "color": "#EF553B",
            "size": [
             6,
             6,
             6,
             6,
             6,
             6,
             6
            ],
            "sizemode": "area",
            "sizeref": 0.62,
            "symbol": "circle"
           },
           "mode": "markers",
           "name": "NES",
           "orientation": "v",
           "showlegend": true,
           "type": "scatter",
           "x": [
            7,
            1,
            1,
            5,
            1,
            1,
            1
           ],
           "xaxis": "x",
           "y": [
            6,
            6,
            6,
            6,
            6,
            6,
            6
           ],
           "yaxis": "y"
          }
         ],
         "name": "1983"
        },
        {
         "data": [
          {
           "hovertemplate": "<b>%{hovertext}</b><br><br>Platform=2600<br>Year=1984<br>Number of Genres=%{x}<br>Games per Platform=%{marker.size}<extra></extra>",
           "hovertext": [
            "Action",
            "Misc",
            "Platform",
            "Puzzle",
            "Racing",
            "Shooter",
            "Sports"
           ],
           "ids": [
            "Action",
            "Misc",
            "Platform",
            "Puzzle",
            "Racing",
            "Shooter",
            "Sports"
           ],
           "legendgroup": "2600",
           "marker": {
            "color": "#636efa",
            "size": [
             1,
             1,
             1,
             1,
             1,
             1,
             1
            ],
            "sizemode": "area",
            "sizeref": 0.62,
            "symbol": "circle"
           },
           "mode": "markers",
           "name": "2600",
           "orientation": "v",
           "showlegend": true,
           "type": "scatter",
           "x": [
            1,
            1,
            1,
            3,
            3,
            3,
            2
           ],
           "xaxis": "x",
           "y": [
            1,
            1,
            1,
            1,
            1,
            1,
            1
           ],
           "yaxis": "y"
          },
          {
           "hovertemplate": "<b>%{hovertext}</b><br><br>Platform=NES<br>Year=1984<br>Number of Genres=%{x}<br>Games per Platform=%{marker.size}<extra></extra>",
           "hovertext": [
            "Action",
            "Misc",
            "Platform",
            "Puzzle",
            "Racing",
            "Shooter",
            "Sports"
           ],
           "ids": [
            "Action",
            "Misc",
            "Platform",
            "Puzzle",
            "Racing",
            "Shooter",
            "Sports"
           ],
           "legendgroup": "NES",
           "marker": {
            "color": "#EF553B",
            "size": [
             13,
             13,
             13,
             13,
             13,
             13,
             13
            ],
            "sizemode": "area",
            "sizeref": 0.62,
            "symbol": "circle"
           },
           "mode": "markers",
           "name": "NES",
           "orientation": "v",
           "showlegend": true,
           "type": "scatter",
           "x": [
            1,
            1,
            1,
            3,
            3,
            3,
            2
           ],
           "xaxis": "x",
           "y": [
            13,
            13,
            13,
            13,
            13,
            13,
            13
           ],
           "yaxis": "y"
          }
         ],
         "name": "1984"
        },
        {
         "data": [
          {
           "hovertemplate": "<b>%{hovertext}</b><br><br>Platform=2600<br>Year=1985<br>Number of Genres=%{x}<br>Games per Platform=%{marker.size}<extra></extra>",
           "hovertext": [
            "Action",
            "Fighting",
            "Platform",
            "Puzzle",
            "Shooter",
            "Sports"
           ],
           "ids": [
            "Action",
            "Fighting",
            "Platform",
            "Puzzle",
            "Shooter",
            "Sports"
           ],
           "legendgroup": "2600",
           "marker": {
            "color": "#636efa",
            "size": [
             1,
             1,
             1,
             1,
             1,
             1
            ],
            "sizemode": "area",
            "sizeref": 0.62,
            "symbol": "circle"
           },
           "mode": "markers",
           "name": "2600",
           "orientation": "v",
           "showlegend": true,
           "type": "scatter",
           "x": [
            1,
            1,
            4,
            4,
            1,
            1
           ],
           "xaxis": "x",
           "y": [
            1,
            1,
            1,
            1,
            1,
            1
           ],
           "yaxis": "y"
          },
          {
           "hovertemplate": "<b>%{hovertext}</b><br><br>Platform=NES<br>Year=1985<br>Number of Genres=%{x}<br>Games per Platform=%{marker.size}<extra></extra>",
           "hovertext": [
            "Action",
            "Fighting",
            "Platform",
            "Puzzle",
            "Shooter",
            "Sports"
           ],
           "ids": [
            "Action",
            "Fighting",
            "Platform",
            "Puzzle",
            "Shooter",
            "Sports"
           ],
           "legendgroup": "NES",
           "marker": {
            "color": "#EF553B",
            "size": [
             11,
             11,
             11,
             11,
             11,
             11
            ],
            "sizemode": "area",
            "sizeref": 0.62,
            "symbol": "circle"
           },
           "mode": "markers",
           "name": "NES",
           "orientation": "v",
           "showlegend": true,
           "type": "scatter",
           "x": [
            1,
            1,
            4,
            4,
            1,
            1
           ],
           "xaxis": "x",
           "y": [
            11,
            11,
            11,
            11,
            11,
            11
           ],
           "yaxis": "y"
          }
         ],
         "name": "1985"
        },
        {
         "data": [
          {
           "hovertemplate": "<b>%{hovertext}</b><br><br>Platform=2600<br>Year=1986<br>Number of Genres=%{x}<br>Games per Platform=%{marker.size}<extra></extra>",
           "hovertext": [
            "Action",
            "Platform",
            "Racing",
            "Role-Playing",
            "Shooter",
            "Sports"
           ],
           "ids": [
            "Action",
            "Platform",
            "Racing",
            "Role-Playing",
            "Shooter",
            "Sports"
           ],
           "legendgroup": "2600",
           "marker": {
            "color": "#636efa",
            "size": [
             2,
             2,
             2,
             2,
             2,
             2
            ],
            "sizemode": "area",
            "sizeref": 0.62,
            "symbol": "circle"
           },
           "mode": "markers",
           "name": "2600",
           "orientation": "v",
           "showlegend": true,
           "type": "scatter",
           "x": [
            6,
            6,
            1,
            1,
            4,
            3
           ],
           "xaxis": "x",
           "y": [
            2,
            2,
            2,
            2,
            2,
            2
           ],
           "yaxis": "y"
          },
          {
           "hovertemplate": "<b>%{hovertext}</b><br><br>Platform=NES<br>Year=1986<br>Number of Genres=%{x}<br>Games per Platform=%{marker.size}<extra></extra>",
           "hovertext": [
            "Action",
            "Platform",
            "Racing",
            "Role-Playing",
            "Shooter",
            "Sports"
           ],
           "ids": [
            "Action",
            "Platform",
            "Racing",
            "Role-Playing",
            "Shooter",
            "Sports"
           ],
           "legendgroup": "NES",
           "marker": {
            "color": "#EF553B",
            "size": [
             19,
             19,
             19,
             19,
             19,
             19
            ],
            "sizemode": "area",
            "sizeref": 0.62,
            "symbol": "circle"
           },
           "mode": "markers",
           "name": "NES",
           "orientation": "v",
           "showlegend": true,
           "type": "scatter",
           "x": [
            6,
            6,
            1,
            1,
            4,
            3
           ],
           "xaxis": "x",
           "y": [
            19,
            19,
            19,
            19,
            19,
            19
           ],
           "yaxis": "y"
          }
         ],
         "name": "1986"
        },
        {
         "data": [
          {
           "hovertemplate": "<b>%{hovertext}</b><br><br>Platform=2600<br>Year=1987<br>Number of Genres=%{x}<br>Games per Platform=%{marker.size}<extra></extra>",
           "hovertext": [
            "Action",
            "Adventure",
            "Fighting",
            "Platform",
            "Role-Playing",
            "Shooter",
            "Sports"
           ],
           "ids": [
            "Action",
            "Adventure",
            "Fighting",
            "Platform",
            "Role-Playing",
            "Shooter",
            "Sports"
           ],
           "legendgroup": "2600",
           "marker": {
            "color": "#636efa",
            "size": [
             6,
             6,
             6,
             6,
             6,
             6,
             6
            ],
            "sizemode": "area",
            "sizeref": 0.62,
            "symbol": "circle"
           },
           "mode": "markers",
           "name": "2600",
           "orientation": "v",
           "showlegend": true,
           "type": "scatter",
           "x": [
            2,
            1,
            2,
            2,
            3,
            2,
            4
           ],
           "xaxis": "x",
           "y": [
            6,
            6,
            6,
            6,
            6,
            6,
            6
           ],
           "yaxis": "y"
          },
          {
           "hovertemplate": "<b>%{hovertext}</b><br><br>Platform=NES<br>Year=1987<br>Number of Genres=%{x}<br>Games per Platform=%{marker.size}<extra></extra>",
           "hovertext": [
            "Action",
            "Adventure",
            "Fighting",
            "Platform",
            "Role-Playing",
            "Shooter",
            "Sports"
           ],
           "ids": [
            "Action",
            "Adventure",
            "Fighting",
            "Platform",
            "Role-Playing",
            "Shooter",
            "Sports"
           ],
           "legendgroup": "NES",
           "marker": {
            "color": "#EF553B",
            "size": [
             10,
             10,
             10,
             10,
             10,
             10,
             10
            ],
            "sizemode": "area",
            "sizeref": 0.62,
            "symbol": "circle"
           },
           "mode": "markers",
           "name": "NES",
           "orientation": "v",
           "showlegend": true,
           "type": "scatter",
           "x": [
            2,
            1,
            2,
            2,
            3,
            2,
            4
           ],
           "xaxis": "x",
           "y": [
            10,
            10,
            10,
            10,
            10,
            10,
            10
           ],
           "yaxis": "y"
          }
         ],
         "name": "1987"
        },
        {
         "data": [
          {
           "hovertemplate": "<b>%{hovertext}</b><br><br>Platform=2600<br>Year=1988<br>Number of Genres=%{x}<br>Games per Platform=%{marker.size}<extra></extra>",
           "hovertext": [
            "Action",
            "Platform",
            "Puzzle",
            "Racing",
            "Role-Playing",
            "Shooter",
            "Sports"
           ],
           "ids": [
            "Action",
            "Platform",
            "Puzzle",
            "Racing",
            "Role-Playing",
            "Shooter",
            "Sports"
           ],
           "legendgroup": "2600",
           "marker": {
            "color": "#636efa",
            "size": [
             2,
             2,
             2,
             2,
             2,
             2,
             2
            ],
            "sizemode": "area",
            "sizeref": 0.62,
            "symbol": "circle"
           },
           "mode": "markers",
           "name": "2600",
           "orientation": "v",
           "showlegend": true,
           "type": "scatter",
           "x": [
            2,
            3,
            1,
            1,
            3,
            1,
            2
           ],
           "xaxis": "x",
           "y": [
            2,
            2,
            2,
            2,
            2,
            2,
            2
           ],
           "yaxis": "y"
          },
          {
           "hovertemplate": "<b>%{hovertext}</b><br><br>Platform=NES<br>Year=1988<br>Number of Genres=%{x}<br>Games per Platform=%{marker.size}<extra></extra>",
           "hovertext": [
            "Action",
            "Platform",
            "Puzzle",
            "Racing",
            "Role-Playing",
            "Shooter",
            "Sports"
           ],
           "ids": [
            "Action",
            "Platform",
            "Puzzle",
            "Racing",
            "Role-Playing",
            "Shooter",
            "Sports"
           ],
           "legendgroup": "NES",
           "marker": {
            "color": "#EF553B",
            "size": [
             11,
             11,
             11,
             11,
             11,
             11,
             11
            ],
            "sizemode": "area",
            "sizeref": 0.62,
            "symbol": "circle"
           },
           "mode": "markers",
           "name": "NES",
           "orientation": "v",
           "showlegend": true,
           "type": "scatter",
           "x": [
            2,
            3,
            1,
            1,
            3,
            1,
            2
           ],
           "xaxis": "x",
           "y": [
            11,
            11,
            11,
            11,
            11,
            11,
            11
           ],
           "yaxis": "y"
          }
         ],
         "name": "1988"
        },
        {
         "data": [
          {
           "hovertemplate": "<b>%{hovertext}</b><br><br>Platform=2600<br>Year=1989<br>Number of Genres=%{x}<br>Games per Platform=%{marker.size}<extra></extra>",
           "hovertext": [
            "Action",
            "Platform",
            "Puzzle",
            "Role-Playing"
           ],
           "ids": [
            "Action",
            "Platform",
            "Puzzle",
            "Role-Playing"
           ],
           "legendgroup": "2600",
           "marker": {
            "color": "#636efa",
            "size": [
             2,
             2,
             2,
             2
            ],
            "sizemode": "area",
            "sizeref": 0.62,
            "symbol": "circle"
           },
           "mode": "markers",
           "name": "2600",
           "orientation": "v",
           "showlegend": true,
           "type": "scatter",
           "x": [
            2,
            2,
            2,
            1
           ],
           "xaxis": "x",
           "y": [
            2,
            2,
            2,
            2
           ],
           "yaxis": "y"
          },
          {
           "hovertemplate": "<b>%{hovertext}</b><br><br>Platform=NES<br>Year=1989<br>Number of Genres=%{x}<br>Games per Platform=%{marker.size}<extra></extra>",
           "hovertext": [
            "Action",
            "Platform",
            "Puzzle",
            "Role-Playing"
           ],
           "ids": [
            "Action",
            "Platform",
            "Puzzle",
            "Role-Playing"
           ],
           "legendgroup": "NES",
           "marker": {
            "color": "#EF553B",
            "size": [
             5,
             5,
             5,
             5
            ],
            "sizemode": "area",
            "sizeref": 0.62,
            "symbol": "circle"
           },
           "mode": "markers",
           "name": "NES",
           "orientation": "v",
           "showlegend": true,
           "type": "scatter",
           "x": [
            2,
            2,
            2,
            1
           ],
           "xaxis": "x",
           "y": [
            5,
            5,
            5,
            5
           ],
           "yaxis": "y"
          }
         ],
         "name": "1989"
        },
        {
         "data": [
          {
           "hovertemplate": "<b>%{hovertext}</b><br><br>Platform=NES<br>Year=1990<br>Number of Genres=%{x}<br>Games per Platform=%{marker.size}<extra></extra>",
           "hovertext": [
            "Action",
            "Platform",
            "Puzzle",
            "Racing",
            "Role-Playing",
            "Simulation",
            "Sports"
           ],
           "ids": [
            "Action",
            "Platform",
            "Puzzle",
            "Racing",
            "Role-Playing",
            "Simulation",
            "Sports"
           ],
           "legendgroup": "NES",
           "marker": {
            "color": "#EF553B",
            "size": [
             8,
             8,
             8,
             8,
             8,
             8,
             8
            ],
            "sizemode": "area",
            "sizeref": 0.62,
            "symbol": "circle"
           },
           "mode": "markers",
           "name": "NES",
           "orientation": "v",
           "showlegend": true,
           "type": "scatter",
           "x": [
            3,
            3,
            1,
            1,
            2,
            1,
            2
           ],
           "xaxis": "x",
           "y": [
            8,
            8,
            8,
            8,
            8,
            8,
            8
           ],
           "yaxis": "y"
          },
          {
           "hovertemplate": "<b>%{hovertext}</b><br><br>Platform=GEN<br>Year=1990<br>Number of Genres=%{x}<br>Games per Platform=%{marker.size}<extra></extra>",
           "hovertext": [
            "Action",
            "Platform",
            "Puzzle",
            "Racing",
            "Role-Playing",
            "Simulation",
            "Sports"
           ],
           "ids": [
            "Action",
            "Platform",
            "Puzzle",
            "Racing",
            "Role-Playing",
            "Simulation",
            "Sports"
           ],
           "legendgroup": "GEN",
           "marker": {
            "color": "#00cc96",
            "size": [
             1,
             1,
             1,
             1,
             1,
             1,
             1
            ],
            "sizemode": "area",
            "sizeref": 0.62,
            "symbol": "circle"
           },
           "mode": "markers",
           "name": "GEN",
           "orientation": "v",
           "showlegend": true,
           "type": "scatter",
           "x": [
            3,
            3,
            1,
            1,
            2,
            1,
            2
           ],
           "xaxis": "x",
           "y": [
            1,
            1,
            1,
            1,
            1,
            1,
            1
           ],
           "yaxis": "y"
          },
          {
           "hovertemplate": "<b>%{hovertext}</b><br><br>Platform=SNES<br>Year=1990<br>Number of Genres=%{x}<br>Games per Platform=%{marker.size}<extra></extra>",
           "hovertext": [
            "Action",
            "Platform",
            "Puzzle",
            "Racing",
            "Role-Playing",
            "Simulation",
            "Sports"
           ],
           "ids": [
            "Action",
            "Platform",
            "Puzzle",
            "Racing",
            "Role-Playing",
            "Simulation",
            "Sports"
           ],
           "legendgroup": "SNES",
           "marker": {
            "color": "#ab63fa",
            "size": [
             4,
             4,
             4,
             4,
             4,
             4,
             4
            ],
            "sizemode": "area",
            "sizeref": 0.62,
            "symbol": "circle"
           },
           "mode": "markers",
           "name": "SNES",
           "orientation": "v",
           "showlegend": true,
           "type": "scatter",
           "x": [
            3,
            3,
            1,
            1,
            2,
            1,
            2
           ],
           "xaxis": "x",
           "y": [
            4,
            4,
            4,
            4,
            4,
            4,
            4
           ],
           "yaxis": "y"
          }
         ],
         "name": "1990"
        },
        {
         "data": [
          {
           "hovertemplate": "<b>%{hovertext}</b><br><br>Platform=NES<br>Year=1991<br>Number of Genres=%{x}<br>Games per Platform=%{marker.size}<extra></extra>",
           "hovertext": [
            "Action",
            "Adventure",
            "Fighting",
            "Misc",
            "Platform",
            "Puzzle",
            "Role-Playing",
            "Shooter",
            "Simulation",
            "Sports",
            "Strategy"
           ],
           "ids": [
            "Action",
            "Adventure",
            "Fighting",
            "Misc",
            "Platform",
            "Puzzle",
            "Role-Playing",
            "Shooter",
            "Simulation",
            "Sports",
            "Strategy"
           ],
           "legendgroup": "NES",
           "marker": {
            "color": "#EF553B",
            "size": [
             7,
             7,
             7,
             7,
             7,
             7,
             7,
             7,
             7,
             7,
             7
            ],
            "sizemode": "area",
            "sizeref": 0.62,
            "symbol": "circle"
           },
           "mode": "markers",
           "name": "NES",
           "orientation": "v",
           "showlegend": true,
           "type": "scatter",
           "x": [
            4,
            1,
            1,
            1,
            4,
            3,
            3,
            3,
            2,
            7,
            3
           ],
           "xaxis": "x",
           "y": [
            7,
            7,
            7,
            7,
            7,
            7,
            7,
            7,
            7,
            7,
            7
           ],
           "yaxis": "y"
          },
          {
           "hovertemplate": "<b>%{hovertext}</b><br><br>Platform=GEN<br>Year=1991<br>Number of Genres=%{x}<br>Games per Platform=%{marker.size}<extra></extra>",
           "hovertext": [
            "Action",
            "Adventure",
            "Fighting",
            "Misc",
            "Platform",
            "Puzzle",
            "Role-Playing",
            "Shooter",
            "Simulation",
            "Sports",
            "Strategy"
           ],
           "ids": [
            "Action",
            "Adventure",
            "Fighting",
            "Misc",
            "Platform",
            "Puzzle",
            "Role-Playing",
            "Shooter",
            "Simulation",
            "Sports",
            "Strategy"
           ],
           "legendgroup": "GEN",
           "marker": {
            "color": "#00cc96",
            "size": [
             1,
             1,
             1,
             1,
             1,
             1,
             1,
             1,
             1,
             1,
             1
            ],
            "sizemode": "area",
            "sizeref": 0.62,
            "symbol": "circle"
           },
           "mode": "markers",
           "name": "GEN",
           "orientation": "v",
           "showlegend": true,
           "type": "scatter",
           "x": [
            4,
            1,
            1,
            1,
            4,
            3,
            3,
            3,
            2,
            7,
            3
           ],
           "xaxis": "x",
           "y": [
            1,
            1,
            1,
            1,
            1,
            1,
            1,
            1,
            1,
            1,
            1
           ],
           "yaxis": "y"
          },
          {
           "hovertemplate": "<b>%{hovertext}</b><br><br>Platform=SNES<br>Year=1991<br>Number of Genres=%{x}<br>Games per Platform=%{marker.size}<extra></extra>",
           "hovertext": [
            "Action",
            "Adventure",
            "Fighting",
            "Misc",
            "Platform",
            "Puzzle",
            "Role-Playing",
            "Shooter",
            "Simulation",
            "Sports",
            "Strategy"
           ],
           "ids": [
            "Action",
            "Adventure",
            "Fighting",
            "Misc",
            "Platform",
            "Puzzle",
            "Role-Playing",
            "Shooter",
            "Simulation",
            "Sports",
            "Strategy"
           ],
           "legendgroup": "SNES",
           "marker": {
            "color": "#ab63fa",
            "size": [
             24,
             24,
             24,
             24,
             24,
             24,
             24,
             24,
             24,
             24,
             24
            ],
            "sizemode": "area",
            "sizeref": 0.62,
            "symbol": "circle"
           },
           "mode": "markers",
           "name": "SNES",
           "orientation": "v",
           "showlegend": true,
           "type": "scatter",
           "x": [
            4,
            1,
            1,
            1,
            4,
            3,
            3,
            3,
            2,
            7,
            3
           ],
           "xaxis": "x",
           "y": [
            24,
            24,
            24,
            24,
            24,
            24,
            24,
            24,
            24,
            24,
            24
           ],
           "yaxis": "y"
          }
         ],
         "name": "1991"
        },
        {
         "data": [
          {
           "hovertemplate": "<b>%{hovertext}</b><br><br>Platform=NES<br>Year=1992<br>Number of Genres=%{x}<br>Games per Platform=%{marker.size}<extra></extra>",
           "hovertext": [
            "Adventure",
            "Fighting",
            "Misc",
            "Platform",
            "Puzzle",
            "Racing",
            "Role-Playing",
            "Shooter",
            "Sports",
            "Strategy"
           ],
           "ids": [
            "Adventure",
            "Fighting",
            "Misc",
            "Platform",
            "Puzzle",
            "Racing",
            "Role-Playing",
            "Shooter",
            "Sports",
            "Strategy"
           ],
           "legendgroup": "NES",
           "marker": {
            "color": "#EF553B",
            "size": [
             3,
             3,
             3,
             3,
             3,
             3,
             3,
             3,
             3,
             3
            ],
            "sizemode": "area",
            "sizeref": 0.62,
            "symbol": "circle"
           },
           "mode": "markers",
           "name": "NES",
           "orientation": "v",
           "showlegend": true,
           "type": "scatter",
           "x": [
            2,
            7,
            1,
            4,
            2,
            2,
            5,
            2,
            4,
            1
           ],
           "xaxis": "x",
           "y": [
            3,
            3,
            3,
            3,
            3,
            3,
            3,
            3,
            3,
            3
           ],
           "yaxis": "y"
          },
          {
           "hovertemplate": "<b>%{hovertext}</b><br><br>Platform=GEN<br>Year=1992<br>Number of Genres=%{x}<br>Games per Platform=%{marker.size}<extra></extra>",
           "hovertext": [
            "Adventure",
            "Fighting",
            "Misc",
            "Platform",
            "Puzzle",
            "Racing",
            "Role-Playing",
            "Shooter",
            "Sports",
            "Strategy"
           ],
           "ids": [
            "Adventure",
            "Fighting",
            "Misc",
            "Platform",
            "Puzzle",
            "Racing",
            "Role-Playing",
            "Shooter",
            "Sports",
            "Strategy"
           ],
           "legendgroup": "GEN",
           "marker": {
            "color": "#00cc96",
            "size": [
             6,
             6,
             6,
             6,
             6,
             6,
             6,
             6,
             6,
             6
            ],
            "sizemode": "area",
            "sizeref": 0.62,
            "symbol": "circle"
           },
           "mode": "markers",
           "name": "GEN",
           "orientation": "v",
           "showlegend": true,
           "type": "scatter",
           "x": [
            2,
            7,
            1,
            4,
            2,
            2,
            5,
            2,
            4,
            1
           ],
           "xaxis": "x",
           "y": [
            6,
            6,
            6,
            6,
            6,
            6,
            6,
            6,
            6,
            6
           ],
           "yaxis": "y"
          },
          {
           "hovertemplate": "<b>%{hovertext}</b><br><br>Platform=SNES<br>Year=1992<br>Number of Genres=%{x}<br>Games per Platform=%{marker.size}<extra></extra>",
           "hovertext": [
            "Adventure",
            "Fighting",
            "Misc",
            "Platform",
            "Puzzle",
            "Racing",
            "Role-Playing",
            "Shooter",
            "Sports",
            "Strategy"
           ],
           "ids": [
            "Adventure",
            "Fighting",
            "Misc",
            "Platform",
            "Puzzle",
            "Racing",
            "Role-Playing",
            "Shooter",
            "Sports",
            "Strategy"
           ],
           "legendgroup": "SNES",
           "marker": {
            "color": "#ab63fa",
            "size": [
             21,
             21,
             21,
             21,
             21,
             21,
             21,
             21,
             21,
             21
            ],
            "sizemode": "area",
            "sizeref": 0.62,
            "symbol": "circle"
           },
           "mode": "markers",
           "name": "SNES",
           "orientation": "v",
           "showlegend": true,
           "type": "scatter",
           "x": [
            2,
            7,
            1,
            4,
            2,
            2,
            5,
            2,
            4,
            1
           ],
           "xaxis": "x",
           "y": [
            21,
            21,
            21,
            21,
            21,
            21,
            21,
            21,
            21,
            21
           ],
           "yaxis": "y"
          }
         ],
         "name": "1992"
        },
        {
         "data": [
          {
           "hovertemplate": "<b>%{hovertext}</b><br><br>Platform=NES<br>Year=1993<br>Number of Genres=%{x}<br>Games per Platform=%{marker.size}<extra></extra>",
           "hovertext": [
            "Action",
            "Adventure",
            "Fighting",
            "Misc",
            "Platform",
            "Puzzle",
            "Racing",
            "Role-Playing",
            "Shooter",
            "Simulation",
            "Sports",
            "Strategy"
           ],
           "ids": [
            "Action",
            "Adventure",
            "Fighting",
            "Misc",
            "Platform",
            "Puzzle",
            "Racing",
            "Role-Playing",
            "Shooter",
            "Simulation",
            "Sports",
            "Strategy"
           ],
           "legendgroup": "NES",
           "marker": {
            "color": "#EF553B",
            "size": [
             4,
             4,
             4,
             4,
             4,
             4,
             4,
             4,
             4,
             4,
             4,
             4
            ],
            "sizemode": "area",
            "sizeref": 0.62,
            "symbol": "circle"
           },
           "mode": "markers",
           "name": "NES",
           "orientation": "v",
           "showlegend": true,
           "type": "scatter",
           "x": [
            6,
            1,
            9,
            3,
            11,
            3,
            2,
            9,
            2,
            1,
            9,
            2
           ],
           "xaxis": "x",
           "y": [
            4,
            4,
            4,
            4,
            4,
            4,
            4,
            4,
            4,
            4,
            4,
            4
           ],
           "yaxis": "y"
          },
          {
           "hovertemplate": "<b>%{hovertext}</b><br><br>Platform=GEN<br>Year=1993<br>Number of Genres=%{x}<br>Games per Platform=%{marker.size}<extra></extra>",
           "hovertext": [
            "Action",
            "Adventure",
            "Fighting",
            "Misc",
            "Platform",
            "Puzzle",
            "Racing",
            "Role-Playing",
            "Shooter",
            "Simulation",
            "Sports",
            "Strategy"
           ],
           "ids": [
            "Action",
            "Adventure",
            "Fighting",
            "Misc",
            "Platform",
            "Puzzle",
            "Racing",
            "Role-Playing",
            "Shooter",
            "Simulation",
            "Sports",
            "Strategy"
           ],
           "legendgroup": "GEN",
           "marker": {
            "color": "#00cc96",
            "size": [
             7,
             7,
             7,
             7,
             7,
             7,
             7,
             7,
             7,
             7,
             7,
             7
            ],
            "sizemode": "area",
            "sizeref": 0.62,
            "symbol": "circle"
           },
           "mode": "markers",
           "name": "GEN",
           "orientation": "v",
           "showlegend": true,
           "type": "scatter",
           "x": [
            6,
            1,
            9,
            3,
            11,
            3,
            2,
            9,
            2,
            1,
            9,
            2
           ],
           "xaxis": "x",
           "y": [
            7,
            7,
            7,
            7,
            7,
            7,
            7,
            7,
            7,
            7,
            7,
            7
           ],
           "yaxis": "y"
          },
          {
           "hovertemplate": "<b>%{hovertext}</b><br><br>Platform=SNES<br>Year=1993<br>Number of Genres=%{x}<br>Games per Platform=%{marker.size}<extra></extra>",
           "hovertext": [
            "Action",
            "Adventure",
            "Fighting",
            "Misc",
            "Platform",
            "Puzzle",
            "Racing",
            "Role-Playing",
            "Shooter",
            "Simulation",
            "Sports",
            "Strategy"
           ],
           "ids": [
            "Action",
            "Adventure",
            "Fighting",
            "Misc",
            "Platform",
            "Puzzle",
            "Racing",
            "Role-Playing",
            "Shooter",
            "Simulation",
            "Sports",
            "Strategy"
           ],
           "legendgroup": "SNES",
           "marker": {
            "color": "#ab63fa",
            "size": [
             46,
             46,
             46,
             46,
             46,
             46,
             46,
             46,
             46,
             46,
             46,
             46
            ],
            "sizemode": "area",
            "sizeref": 0.62,
            "symbol": "circle"
           },
           "mode": "markers",
           "name": "SNES",
           "orientation": "v",
           "showlegend": true,
           "type": "scatter",
           "x": [
            6,
            1,
            9,
            3,
            11,
            3,
            2,
            9,
            2,
            1,
            9,
            2
           ],
           "xaxis": "x",
           "y": [
            46,
            46,
            46,
            46,
            46,
            46,
            46,
            46,
            46,
            46,
            46,
            46
           ],
           "yaxis": "y"
          },
          {
           "hovertemplate": "<b>%{hovertext}</b><br><br>Platform=SCD<br>Year=1993<br>Number of Genres=%{x}<br>Games per Platform=%{marker.size}<extra></extra>",
           "hovertext": [
            "Action",
            "Adventure",
            "Fighting",
            "Misc",
            "Platform",
            "Puzzle",
            "Racing",
            "Role-Playing",
            "Shooter",
            "Simulation",
            "Sports",
            "Strategy"
           ],
           "ids": [
            "Action",
            "Adventure",
            "Fighting",
            "Misc",
            "Platform",
            "Puzzle",
            "Racing",
            "Role-Playing",
            "Shooter",
            "Simulation",
            "Sports",
            "Strategy"
           ],
           "legendgroup": "SCD",
           "marker": {
            "color": "#FFA15A",
            "size": [
             1,
             1,
             1,
             1,
             1,
             1,
             1,
             1,
             1,
             1,
             1,
             1
            ],
            "sizemode": "area",
            "sizeref": 0.62,
            "symbol": "circle"
           },
           "mode": "markers",
           "name": "SCD",
           "orientation": "v",
           "showlegend": true,
           "type": "scatter",
           "x": [
            6,
            1,
            9,
            3,
            11,
            3,
            2,
            9,
            2,
            1,
            9,
            2
           ],
           "xaxis": "x",
           "y": [
            1,
            1,
            1,
            1,
            1,
            1,
            1,
            1,
            1,
            1,
            1,
            1
           ],
           "yaxis": "y"
          }
         ],
         "name": "1993"
        },
        {
         "data": [
          {
           "hovertemplate": "<b>%{hovertext}</b><br><br>Platform=NES<br>Year=1994<br>Number of Genres=%{x}<br>Games per Platform=%{marker.size}<extra></extra>",
           "hovertext": [
            "Action",
            "Adventure",
            "Fighting",
            "Misc",
            "Platform",
            "Puzzle",
            "Racing",
            "Role-Playing",
            "Shooter",
            "Simulation",
            "Sports",
            "Strategy"
           ],
           "ids": [
            "Action",
            "Adventure",
            "Fighting",
            "Misc",
            "Platform",
            "Puzzle",
            "Racing",
            "Role-Playing",
            "Shooter",
            "Simulation",
            "Sports",
            "Strategy"
           ],
           "legendgroup": "NES",
           "marker": {
            "color": "#EF553B",
            "size": [
             1,
             1,
             1,
             1,
             1,
             1,
             1,
             1,
             1,
             1,
             1,
             1
            ],
            "sizemode": "area",
            "sizeref": 0.62,
            "symbol": "circle"
           },
           "mode": "markers",
           "name": "NES",
           "orientation": "v",
           "showlegend": true,
           "type": "scatter",
           "x": [
            4,
            3,
            17,
            5,
            8,
            2,
            8,
            17,
            9,
            7,
            22,
            5
           ],
           "xaxis": "x",
           "y": [
            1,
            1,
            1,
            1,
            1,
            1,
            1,
            1,
            1,
            1,
            1,
            1
           ],
           "yaxis": "y"
          },
          {
           "hovertemplate": "<b>%{hovertext}</b><br><br>Platform=GEN<br>Year=1994<br>Number of Genres=%{x}<br>Games per Platform=%{marker.size}<extra></extra>",
           "hovertext": [
            "Action",
            "Adventure",
            "Fighting",
            "Misc",
            "Platform",
            "Puzzle",
            "Racing",
            "Role-Playing",
            "Shooter",
            "Simulation",
            "Sports",
            "Strategy"
           ],
           "ids": [
            "Action",
            "Adventure",
            "Fighting",
            "Misc",
            "Platform",
            "Puzzle",
            "Racing",
            "Role-Playing",
            "Shooter",
            "Simulation",
            "Sports",
            "Strategy"
           ],
           "legendgroup": "GEN",
           "marker": {
            "color": "#00cc96",
            "size": [
             12,
             12,
             12,
             12,
             12,
             12,
             12,
             12,
             12,
             12,
             12,
             12
            ],
            "sizemode": "area",
            "sizeref": 0.62,
            "symbol": "circle"
           },
           "mode": "markers",
           "name": "GEN",
           "orientation": "v",
           "showlegend": true,
           "type": "scatter",
           "x": [
            4,
            3,
            17,
            5,
            8,
            2,
            8,
            17,
            9,
            7,
            22,
            5
           ],
           "xaxis": "x",
           "y": [
            12,
            12,
            12,
            12,
            12,
            12,
            12,
            12,
            12,
            12,
            12,
            12
           ],
           "yaxis": "y"
          },
          {
           "hovertemplate": "<b>%{hovertext}</b><br><br>Platform=SNES<br>Year=1994<br>Number of Genres=%{x}<br>Games per Platform=%{marker.size}<extra></extra>",
           "hovertext": [
            "Action",
            "Adventure",
            "Fighting",
            "Misc",
            "Platform",
            "Puzzle",
            "Racing",
            "Role-Playing",
            "Shooter",
            "Simulation",
            "Sports",
            "Strategy"
           ],
           "ids": [
            "Action",
            "Adventure",
            "Fighting",
            "Misc",
            "Platform",
            "Puzzle",
            "Racing",
            "Role-Playing",
            "Shooter",
            "Simulation",
            "Sports",
            "Strategy"
           ],
           "legendgroup": "SNES",
           "marker": {
            "color": "#ab63fa",
            "size": [
             53,
             53,
             53,
             53,
             53,
             53,
             53,
             53,
             53,
             53,
             53,
             53
            ],
            "sizemode": "area",
            "sizeref": 0.62,
            "symbol": "circle"
           },
           "mode": "markers",
           "name": "SNES",
           "orientation": "v",
           "showlegend": true,
           "type": "scatter",
           "x": [
            4,
            3,
            17,
            5,
            8,
            2,
            8,
            17,
            9,
            7,
            22,
            5
           ],
           "xaxis": "x",
           "y": [
            53,
            53,
            53,
            53,
            53,
            53,
            53,
            53,
            53,
            53,
            53,
            53
           ],
           "yaxis": "y"
          },
          {
           "hovertemplate": "<b>%{hovertext}</b><br><br>Platform=SCD<br>Year=1994<br>Number of Genres=%{x}<br>Games per Platform=%{marker.size}<extra></extra>",
           "hovertext": [
            "Action",
            "Adventure",
            "Fighting",
            "Misc",
            "Platform",
            "Puzzle",
            "Racing",
            "Role-Playing",
            "Shooter",
            "Simulation",
            "Sports",
            "Strategy"
           ],
           "ids": [
            "Action",
            "Adventure",
            "Fighting",
            "Misc",
            "Platform",
            "Puzzle",
            "Racing",
            "Role-Playing",
            "Shooter",
            "Simulation",
            "Sports",
            "Strategy"
           ],
           "legendgroup": "SCD",
           "marker": {
            "color": "#FFA15A",
            "size": [
             5,
             5,
             5,
             5,
             5,
             5,
             5,
             5,
             5,
             5,
             5,
             5
            ],
            "sizemode": "area",
            "sizeref": 0.62,
            "symbol": "circle"
           },
           "mode": "markers",
           "name": "SCD",
           "orientation": "v",
           "showlegend": true,
           "type": "scatter",
           "x": [
            4,
            3,
            17,
            5,
            8,
            2,
            8,
            17,
            9,
            7,
            22,
            5
           ],
           "xaxis": "x",
           "y": [
            5,
            5,
            5,
            5,
            5,
            5,
            5,
            5,
            5,
            5,
            5,
            5
           ],
           "yaxis": "y"
          },
          {
           "hovertemplate": "<b>%{hovertext}</b><br><br>Platform=PS<br>Year=1994<br>Number of Genres=%{x}<br>Games per Platform=%{marker.size}<extra></extra>",
           "hovertext": [
            "Action",
            "Adventure",
            "Fighting",
            "Misc",
            "Platform",
            "Puzzle",
            "Racing",
            "Role-Playing",
            "Shooter",
            "Simulation",
            "Sports",
            "Strategy"
           ],
           "ids": [
            "Action",
            "Adventure",
            "Fighting",
            "Misc",
            "Platform",
            "Puzzle",
            "Racing",
            "Role-Playing",
            "Shooter",
            "Simulation",
            "Sports",
            "Strategy"
           ],
           "legendgroup": "PS",
           "marker": {
            "color": "#19d3f3",
            "size": [
             17,
             17,
             17,
             17,
             17,
             17,
             17,
             17,
             17,
             17,
             17,
             17
            ],
            "sizemode": "area",
            "sizeref": 0.62,
            "symbol": "circle"
           },
           "mode": "markers",
           "name": "PS",
           "orientation": "v",
           "showlegend": true,
           "type": "scatter",
           "x": [
            4,
            3,
            17,
            5,
            8,
            2,
            8,
            17,
            9,
            7,
            22,
            5
           ],
           "xaxis": "x",
           "y": [
            17,
            17,
            17,
            17,
            17,
            17,
            17,
            17,
            17,
            17,
            17,
            17
           ],
           "yaxis": "y"
          },
          {
           "hovertemplate": "<b>%{hovertext}</b><br><br>Platform=SAT<br>Year=1994<br>Number of Genres=%{x}<br>Games per Platform=%{marker.size}<extra></extra>",
           "hovertext": [
            "Action",
            "Adventure",
            "Fighting",
            "Misc",
            "Platform",
            "Puzzle",
            "Racing",
            "Role-Playing",
            "Shooter",
            "Simulation",
            "Sports",
            "Strategy"
           ],
           "ids": [
            "Action",
            "Adventure",
            "Fighting",
            "Misc",
            "Platform",
            "Puzzle",
            "Racing",
            "Role-Playing",
            "Shooter",
            "Simulation",
            "Sports",
            "Strategy"
           ],
           "legendgroup": "SAT",
           "marker": {
            "color": "#FF6692",
            "size": [
             19,
             19,
             19,
             19,
             19,
             19,
             19,
             19,
             19,
             19,
             19,
             19
            ],
            "sizemode": "area",
            "sizeref": 0.62,
            "symbol": "circle"
           },
           "mode": "markers",
           "name": "SAT",
           "orientation": "v",
           "showlegend": true,
           "type": "scatter",
           "x": [
            4,
            3,
            17,
            5,
            8,
            2,
            8,
            17,
            9,
            7,
            22,
            5
           ],
           "xaxis": "x",
           "y": [
            19,
            19,
            19,
            19,
            19,
            19,
            19,
            19,
            19,
            19,
            19,
            19
           ],
           "yaxis": "y"
          }
         ],
         "name": "1994"
        },
        {
         "data": [
          {
           "hovertemplate": "<b>%{hovertext}</b><br><br>Platform=SNES<br>Year=1996<br>Number of Genres=%{x}<br>Games per Platform=%{marker.size}<extra></extra>",
           "hovertext": [
            "Action",
            "Adventure",
            "Fighting",
            "Misc",
            "Platform",
            "Puzzle",
            "Racing",
            "Role-Playing",
            "Shooter",
            "Simulation",
            "Sports",
            "Strategy"
           ],
           "ids": [
            "Action",
            "Adventure",
            "Fighting",
            "Misc",
            "Platform",
            "Puzzle",
            "Racing",
            "Role-Playing",
            "Shooter",
            "Simulation",
            "Sports",
            "Strategy"
           ],
           "legendgroup": "SNES",
           "marker": {
            "color": "#ab63fa",
            "size": [
             30,
             30,
             30,
             30,
             30,
             30,
             30,
             30,
             30,
             30,
             30,
             30
            ],
            "sizemode": "area",
            "sizeref": 0.62,
            "symbol": "circle"
           },
           "mode": "markers",
           "name": "SNES",
           "orientation": "v",
           "showlegend": true,
           "type": "scatter",
           "x": [
            19,
            17,
            28,
            23,
            13,
            7,
            22,
            24,
            23,
            11,
            52,
            11
           ],
           "xaxis": "x",
           "y": [
            30,
            30,
            30,
            30,
            30,
            30,
            30,
            30,
            30,
            30,
            30,
            30
           ],
           "yaxis": "y"
          },
          {
           "hovertemplate": "<b>%{hovertext}</b><br><br>Platform=PS<br>Year=1996<br>Number of Genres=%{x}<br>Games per Platform=%{marker.size}<extra></extra>",
           "hovertext": [
            "Action",
            "Adventure",
            "Fighting",
            "Misc",
            "Platform",
            "Puzzle",
            "Racing",
            "Role-Playing",
            "Shooter",
            "Simulation",
            "Sports",
            "Strategy"
           ],
           "ids": [
            "Action",
            "Adventure",
            "Fighting",
            "Misc",
            "Platform",
            "Puzzle",
            "Racing",
            "Role-Playing",
            "Shooter",
            "Simulation",
            "Sports",
            "Strategy"
           ],
           "legendgroup": "PS",
           "marker": {
            "color": "#19d3f3",
            "size": [
             164,
             164,
             164,
             164,
             164,
             164,
             164,
             164,
             164,
             164,
             164,
             164
            ],
            "sizemode": "area",
            "sizeref": 0.62,
            "symbol": "circle"
           },
           "mode": "markers",
           "name": "PS",
           "orientation": "v",
           "showlegend": true,
           "type": "scatter",
           "x": [
            19,
            17,
            28,
            23,
            13,
            7,
            22,
            24,
            23,
            11,
            52,
            11
           ],
           "xaxis": "x",
           "y": [
            164,
            164,
            164,
            164,
            164,
            164,
            164,
            164,
            164,
            164,
            164,
            164
           ],
           "yaxis": "y"
          },
          {
           "hovertemplate": "<b>%{hovertext}</b><br><br>Platform=SAT<br>Year=1996<br>Number of Genres=%{x}<br>Games per Platform=%{marker.size}<extra></extra>",
           "hovertext": [
            "Action",
            "Adventure",
            "Fighting",
            "Misc",
            "Platform",
            "Puzzle",
            "Racing",
            "Role-Playing",
            "Shooter",
            "Simulation",
            "Sports",
            "Strategy"
           ],
           "ids": [
            "Action",
            "Adventure",
            "Fighting",
            "Misc",
            "Platform",
            "Puzzle",
            "Racing",
            "Role-Playing",
            "Shooter",
            "Simulation",
            "Sports",
            "Strategy"
           ],
           "legendgroup": "SAT",
           "marker": {
            "color": "#FF6692",
            "size": [
             38,
             38,
             38,
             38,
             38,
             38,
             38,
             38,
             38,
             38,
             38,
             38
            ],
            "sizemode": "area",
            "sizeref": 0.62,
            "symbol": "circle"
           },
           "mode": "markers",
           "name": "SAT",
           "orientation": "v",
           "showlegend": true,
           "type": "scatter",
           "x": [
            19,
            17,
            28,
            23,
            13,
            7,
            22,
            24,
            23,
            11,
            52,
            11
           ],
           "xaxis": "x",
           "y": [
            38,
            38,
            38,
            38,
            38,
            38,
            38,
            38,
            38,
            38,
            38,
            38
           ],
           "yaxis": "y"
          },
          {
           "hovertemplate": "<b>%{hovertext}</b><br><br>Platform=N64<br>Year=1996<br>Number of Genres=%{x}<br>Games per Platform=%{marker.size}<extra></extra>",
           "hovertext": [
            "Action",
            "Adventure",
            "Fighting",
            "Misc",
            "Platform",
            "Puzzle",
            "Racing",
            "Role-Playing",
            "Shooter",
            "Simulation",
            "Sports",
            "Strategy"
           ],
           "ids": [
            "Action",
            "Adventure",
            "Fighting",
            "Misc",
            "Platform",
            "Puzzle",
            "Racing",
            "Role-Playing",
            "Shooter",
            "Simulation",
            "Sports",
            "Strategy"
           ],
           "legendgroup": "N64",
           "marker": {
            "color": "#B6E880",
            "size": [
             18,
             18,
             18,
             18,
             18,
             18,
             18,
             18,
             18,
             18,
             18,
             18
            ],
            "sizemode": "area",
            "sizeref": 0.62,
            "symbol": "circle"
           },
           "mode": "markers",
           "name": "N64",
           "orientation": "v",
           "showlegend": true,
           "type": "scatter",
           "x": [
            19,
            17,
            28,
            23,
            13,
            7,
            22,
            24,
            23,
            11,
            52,
            11
           ],
           "xaxis": "x",
           "y": [
            18,
            18,
            18,
            18,
            18,
            18,
            18,
            18,
            18,
            18,
            18,
            18
           ],
           "yaxis": "y"
          }
         ],
         "name": "1996"
        },
        {
         "data": [
          {
           "hovertemplate": "<b>%{hovertext}</b><br><br>Platform=SNES<br>Year=1997<br>Number of Genres=%{x}<br>Games per Platform=%{marker.size}<extra></extra>",
           "hovertext": [
            "Action",
            "Adventure",
            "Fighting",
            "Misc",
            "Platform",
            "Puzzle",
            "Racing",
            "Role-Playing",
            "Shooter",
            "Simulation",
            "Sports",
            "Strategy"
           ],
           "ids": [
            "Action",
            "Adventure",
            "Fighting",
            "Misc",
            "Platform",
            "Puzzle",
            "Racing",
            "Role-Playing",
            "Shooter",
            "Simulation",
            "Sports",
            "Strategy"
           ],
           "legendgroup": "SNES",
           "marker": {
            "color": "#ab63fa",
            "size": [
             4,
             4,
             4,
             4,
             4,
             4,
             4,
             4,
             4,
             4,
             4,
             4
            ],
            "sizemode": "area",
            "sizeref": 0.62,
            "symbol": "circle"
           },
           "mode": "markers",
           "name": "SNES",
           "orientation": "v",
           "showlegend": true,
           "type": "scatter",
           "x": [
            30,
            13,
            28,
            10,
            17,
            13,
            35,
            22,
            26,
            17,
            46,
            18
           ],
           "xaxis": "x",
           "y": [
            4,
            4,
            4,
            4,
            4,
            4,
            4,
            4,
            4,
            4,
            4,
            4
           ],
           "yaxis": "y"
          },
          {
           "hovertemplate": "<b>%{hovertext}</b><br><br>Platform=PS<br>Year=1997<br>Number of Genres=%{x}<br>Games per Platform=%{marker.size}<extra></extra>",
           "hovertext": [
            "Action",
            "Adventure",
            "Fighting",
            "Misc",
            "Platform",
            "Puzzle",
            "Racing",
            "Role-Playing",
            "Shooter",
            "Simulation",
            "Sports",
            "Strategy"
           ],
           "ids": [
            "Action",
            "Adventure",
            "Fighting",
            "Misc",
            "Platform",
            "Puzzle",
            "Racing",
            "Role-Playing",
            "Shooter",
            "Simulation",
            "Sports",
            "Strategy"
           ],
           "legendgroup": "PS",
           "marker": {
            "color": "#19d3f3",
            "size": [
             188,
             188,
             188,
             188,
             188,
             188,
             188,
             188,
             188,
             188,
             188,
             188
            ],
            "sizemode": "area",
            "sizeref": 0.62,
            "symbol": "circle"
           },
           "mode": "markers",
           "name": "PS",
           "orientation": "v",
           "showlegend": true,
           "type": "scatter",
           "x": [
            30,
            13,
            28,
            10,
            17,
            13,
            35,
            22,
            26,
            17,
            46,
            18
           ],
           "xaxis": "x",
           "y": [
            188,
            188,
            188,
            188,
            188,
            188,
            188,
            188,
            188,
            188,
            188,
            188
           ],
           "yaxis": "y"
          },
          {
           "hovertemplate": "<b>%{hovertext}</b><br><br>Platform=SAT<br>Year=1997<br>Number of Genres=%{x}<br>Games per Platform=%{marker.size}<extra></extra>",
           "hovertext": [
            "Action",
            "Adventure",
            "Fighting",
            "Misc",
            "Platform",
            "Puzzle",
            "Racing",
            "Role-Playing",
            "Shooter",
            "Simulation",
            "Sports",
            "Strategy"
           ],
           "ids": [
            "Action",
            "Adventure",
            "Fighting",
            "Misc",
            "Platform",
            "Puzzle",
            "Racing",
            "Role-Playing",
            "Shooter",
            "Simulation",
            "Sports",
            "Strategy"
           ],
           "legendgroup": "SAT",
           "marker": {
            "color": "#FF6692",
            "size": [
             34,
             34,
             34,
             34,
             34,
             34,
             34,
             34,
             34,
             34,
             34,
             34
            ],
            "sizemode": "area",
            "sizeref": 0.62,
            "symbol": "circle"
           },
           "mode": "markers",
           "name": "SAT",
           "orientation": "v",
           "showlegend": true,
           "type": "scatter",
           "x": [
            30,
            13,
            28,
            10,
            17,
            13,
            35,
            22,
            26,
            17,
            46,
            18
           ],
           "xaxis": "x",
           "y": [
            34,
            34,
            34,
            34,
            34,
            34,
            34,
            34,
            34,
            34,
            34,
            34
           ],
           "yaxis": "y"
          },
          {
           "hovertemplate": "<b>%{hovertext}</b><br><br>Platform=N64<br>Year=1997<br>Number of Genres=%{x}<br>Games per Platform=%{marker.size}<extra></extra>",
           "hovertext": [
            "Action",
            "Adventure",
            "Fighting",
            "Misc",
            "Platform",
            "Puzzle",
            "Racing",
            "Role-Playing",
            "Shooter",
            "Simulation",
            "Sports",
            "Strategy"
           ],
           "ids": [
            "Action",
            "Adventure",
            "Fighting",
            "Misc",
            "Platform",
            "Puzzle",
            "Racing",
            "Role-Playing",
            "Shooter",
            "Simulation",
            "Sports",
            "Strategy"
           ],
           "legendgroup": "N64",
           "marker": {
            "color": "#B6E880",
            "size": [
             49,
             49,
             49,
             49,
             49,
             49,
             49,
             49,
             49,
             49,
             49,
             49
            ],
            "sizemode": "area",
            "sizeref": 0.62,
            "symbol": "circle"
           },
           "mode": "markers",
           "name": "N64",
           "orientation": "v",
           "showlegend": true,
           "type": "scatter",
           "x": [
            30,
            13,
            28,
            10,
            17,
            13,
            35,
            22,
            26,
            17,
            46,
            18
           ],
           "xaxis": "x",
           "y": [
            49,
            49,
            49,
            49,
            49,
            49,
            49,
            49,
            49,
            49,
            49,
            49
           ],
           "yaxis": "y"
          }
         ],
         "name": "1997"
        },
        {
         "data": [
          {
           "hovertemplate": "<b>%{hovertext}</b><br><br>Platform=SNES<br>Year=1998<br>Number of Genres=%{x}<br>Games per Platform=%{marker.size}<extra></extra>",
           "hovertext": [
            "Action",
            "Adventure",
            "Fighting",
            "Misc",
            "Platform",
            "Puzzle",
            "Racing",
            "Role-Playing",
            "Shooter",
            "Simulation",
            "Sports",
            "Strategy"
           ],
           "ids": [
            "Action",
            "Adventure",
            "Fighting",
            "Misc",
            "Platform",
            "Puzzle",
            "Racing",
            "Role-Playing",
            "Shooter",
            "Simulation",
            "Sports",
            "Strategy"
           ],
           "legendgroup": "SNES",
           "marker": {
            "color": "#ab63fa",
            "size": [
             2,
             2,
             2,
             2,
             2,
             2,
             2,
             2,
             2,
             2,
             2,
             2
            ],
            "sizemode": "area",
            "sizeref": 0.62,
            "symbol": "circle"
           },
           "mode": "markers",
           "name": "SNES",
           "orientation": "v",
           "showlegend": true,
           "type": "scatter",
           "x": [
            41,
            21,
            39,
            22,
            23,
            12,
            48,
            23,
            22,
            8,
            69,
            28
           ],
           "xaxis": "x",
           "y": [
            2,
            2,
            2,
            2,
            2,
            2,
            2,
            2,
            2,
            2,
            2,
            2
           ],
           "yaxis": "y"
          },
          {
           "hovertemplate": "<b>%{hovertext}</b><br><br>Platform=PS<br>Year=1998<br>Number of Genres=%{x}<br>Games per Platform=%{marker.size}<extra></extra>",
           "hovertext": [
            "Action",
            "Adventure",
            "Fighting",
            "Misc",
            "Platform",
            "Puzzle",
            "Racing",
            "Role-Playing",
            "Shooter",
            "Simulation",
            "Sports",
            "Strategy"
           ],
           "ids": [
            "Action",
            "Adventure",
            "Fighting",
            "Misc",
            "Platform",
            "Puzzle",
            "Racing",
            "Role-Playing",
            "Shooter",
            "Simulation",
            "Sports",
            "Strategy"
           ],
           "legendgroup": "PS",
           "marker": {
            "color": "#19d3f3",
            "size": [
             248,
             248,
             248,
             248,
             248,
             248,
             248,
             248,
             248,
             248,
             248,
             248
            ],
            "sizemode": "area",
            "sizeref": 0.62,
            "symbol": "circle"
           },
           "mode": "markers",
           "name": "PS",
           "orientation": "v",
           "showlegend": true,
           "type": "scatter",
           "x": [
            41,
            21,
            39,
            22,
            23,
            12,
            48,
            23,
            22,
            8,
            69,
            28
           ],
           "xaxis": "x",
           "y": [
            248,
            248,
            248,
            248,
            248,
            248,
            248,
            248,
            248,
            248,
            248,
            248
           ],
           "yaxis": "y"
          },
          {
           "hovertemplate": "<b>%{hovertext}</b><br><br>Platform=SAT<br>Year=1998<br>Number of Genres=%{x}<br>Games per Platform=%{marker.size}<extra></extra>",
           "hovertext": [
            "Action",
            "Adventure",
            "Fighting",
            "Misc",
            "Platform",
            "Puzzle",
            "Racing",
            "Role-Playing",
            "Shooter",
            "Simulation",
            "Sports",
            "Strategy"
           ],
           "ids": [
            "Action",
            "Adventure",
            "Fighting",
            "Misc",
            "Platform",
            "Puzzle",
            "Racing",
            "Role-Playing",
            "Shooter",
            "Simulation",
            "Sports",
            "Strategy"
           ],
           "legendgroup": "SAT",
           "marker": {
            "color": "#FF6692",
            "size": [
             29,
             29,
             29,
             29,
             29,
             29,
             29,
             29,
             29,
             29,
             29,
             29
            ],
            "sizemode": "area",
            "sizeref": 0.62,
            "symbol": "circle"
           },
           "mode": "markers",
           "name": "SAT",
           "orientation": "v",
           "showlegend": true,
           "type": "scatter",
           "x": [
            41,
            21,
            39,
            22,
            23,
            12,
            48,
            23,
            22,
            8,
            69,
            28
           ],
           "xaxis": "x",
           "y": [
            29,
            29,
            29,
            29,
            29,
            29,
            29,
            29,
            29,
            29,
            29,
            29
           ],
           "yaxis": "y"
          },
          {
           "hovertemplate": "<b>%{hovertext}</b><br><br>Platform=N64<br>Year=1998<br>Number of Genres=%{x}<br>Games per Platform=%{marker.size}<extra></extra>",
           "hovertext": [
            "Action",
            "Adventure",
            "Fighting",
            "Misc",
            "Platform",
            "Puzzle",
            "Racing",
            "Role-Playing",
            "Shooter",
            "Simulation",
            "Sports",
            "Strategy"
           ],
           "ids": [
            "Action",
            "Adventure",
            "Fighting",
            "Misc",
            "Platform",
            "Puzzle",
            "Racing",
            "Role-Playing",
            "Shooter",
            "Simulation",
            "Sports",
            "Strategy"
           ],
           "legendgroup": "N64",
           "marker": {
            "color": "#B6E880",
            "size": [
             77,
             77,
             77,
             77,
             77,
             77,
             77,
             77,
             77,
             77,
             77,
             77
            ],
            "sizemode": "area",
            "sizeref": 0.62,
            "symbol": "circle"
           },
           "mode": "markers",
           "name": "N64",
           "orientation": "v",
           "showlegend": true,
           "type": "scatter",
           "x": [
            41,
            21,
            39,
            22,
            23,
            12,
            48,
            23,
            22,
            8,
            69,
            28
           ],
           "xaxis": "x",
           "y": [
            77,
            77,
            77,
            77,
            77,
            77,
            77,
            77,
            77,
            77,
            77,
            77
           ],
           "yaxis": "y"
          }
         ],
         "name": "1998"
        },
        {
         "data": [
          {
           "hovertemplate": "<b>%{hovertext}</b><br><br>Platform=SNES<br>Year=1999<br>Number of Genres=%{x}<br>Games per Platform=%{marker.size}<extra></extra>",
           "hovertext": [
            "Action",
            "Adventure",
            "Fighting",
            "Misc",
            "Platform",
            "Puzzle",
            "Racing",
            "Role-Playing",
            "Shooter",
            "Simulation",
            "Sports",
            "Strategy"
           ],
           "ids": [
            "Action",
            "Adventure",
            "Fighting",
            "Misc",
            "Platform",
            "Puzzle",
            "Racing",
            "Role-Playing",
            "Shooter",
            "Simulation",
            "Sports",
            "Strategy"
           ],
           "legendgroup": "SNES",
           "marker": {
            "color": "#ab63fa",
            "size": [
             1,
             1,
             1,
             1,
             1,
             1,
             1,
             1,
             1,
             1,
             1,
             1
            ],
            "sizemode": "area",
            "sizeref": 0.62,
            "symbol": "circle"
           },
           "mode": "markers",
           "name": "SNES",
           "orientation": "v",
           "showlegend": true,
           "type": "scatter",
           "x": [
            37,
            16,
            21,
            22,
            17,
            6,
            47,
            28,
            16,
            17,
            54,
            23
           ],
           "xaxis": "x",
           "y": [
            1,
            1,
            1,
            1,
            1,
            1,
            1,
            1,
            1,
            1,
            1,
            1
           ],
           "yaxis": "y"
          },
          {
           "hovertemplate": "<b>%{hovertext}</b><br><br>Platform=PS<br>Year=1999<br>Number of Genres=%{x}<br>Games per Platform=%{marker.size}<extra></extra>",
           "hovertext": [
            "Action",
            "Adventure",
            "Fighting",
            "Misc",
            "Platform",
            "Puzzle",
            "Racing",
            "Role-Playing",
            "Shooter",
            "Simulation",
            "Sports",
            "Strategy"
           ],
           "ids": [
            "Action",
            "Adventure",
            "Fighting",
            "Misc",
            "Platform",
            "Puzzle",
            "Racing",
            "Role-Playing",
            "Shooter",
            "Simulation",
            "Sports",
            "Strategy"
           ],
           "legendgroup": "PS",
           "marker": {
            "color": "#19d3f3",
            "size": [
             200,
             200,
             200,
             200,
             200,
             200,
             200,
             200,
             200,
             200,
             200,
             200
            ],
            "sizemode": "area",
            "sizeref": 0.62,
            "symbol": "circle"
           },
           "mode": "markers",
           "name": "PS",
           "orientation": "v",
           "showlegend": true,
           "type": "scatter",
           "x": [
            37,
            16,
            21,
            22,
            17,
            6,
            47,
            28,
            16,
            17,
            54,
            23
           ],
           "xaxis": "x",
           "y": [
            200,
            200,
            200,
            200,
            200,
            200,
            200,
            200,
            200,
            200,
            200,
            200
           ],
           "yaxis": "y"
          },
          {
           "hovertemplate": "<b>%{hovertext}</b><br><br>Platform=SAT<br>Year=1999<br>Number of Genres=%{x}<br>Games per Platform=%{marker.size}<extra></extra>",
           "hovertext": [
            "Action",
            "Adventure",
            "Fighting",
            "Misc",
            "Platform",
            "Puzzle",
            "Racing",
            "Role-Playing",
            "Shooter",
            "Simulation",
            "Sports",
            "Strategy"
           ],
           "ids": [
            "Action",
            "Adventure",
            "Fighting",
            "Misc",
            "Platform",
            "Puzzle",
            "Racing",
            "Role-Playing",
            "Shooter",
            "Simulation",
            "Sports",
            "Strategy"
           ],
           "legendgroup": "SAT",
           "marker": {
            "color": "#FF6692",
            "size": [
             1,
             1,
             1,
             1,
             1,
             1,
             1,
             1,
             1,
             1,
             1,
             1
            ],
            "sizemode": "area",
            "sizeref": 0.62,
            "symbol": "circle"
           },
           "mode": "markers",
           "name": "SAT",
           "orientation": "v",
           "showlegend": true,
           "type": "scatter",
           "x": [
            37,
            16,
            21,
            22,
            17,
            6,
            47,
            28,
            16,
            17,
            54,
            23
           ],
           "xaxis": "x",
           "y": [
            1,
            1,
            1,
            1,
            1,
            1,
            1,
            1,
            1,
            1,
            1,
            1
           ],
           "yaxis": "y"
          },
          {
           "hovertemplate": "<b>%{hovertext}</b><br><br>Platform=N64<br>Year=1999<br>Number of Genres=%{x}<br>Games per Platform=%{marker.size}<extra></extra>",
           "hovertext": [
            "Action",
            "Adventure",
            "Fighting",
            "Misc",
            "Platform",
            "Puzzle",
            "Racing",
            "Role-Playing",
            "Shooter",
            "Simulation",
            "Sports",
            "Strategy"
           ],
           "ids": [
            "Action",
            "Adventure",
            "Fighting",
            "Misc",
            "Platform",
            "Puzzle",
            "Racing",
            "Role-Playing",
            "Shooter",
            "Simulation",
            "Sports",
            "Strategy"
           ],
           "legendgroup": "N64",
           "marker": {
            "color": "#B6E880",
            "size": [
             102,
             102,
             102,
             102,
             102,
             102,
             102,
             102,
             102,
             102,
             102,
             102
            ],
            "sizemode": "area",
            "sizeref": 0.62,
            "symbol": "circle"
           },
           "mode": "markers",
           "name": "N64",
           "orientation": "v",
           "showlegend": true,
           "type": "scatter",
           "x": [
            37,
            16,
            21,
            22,
            17,
            6,
            47,
            28,
            16,
            17,
            54,
            23
           ],
           "xaxis": "x",
           "y": [
            102,
            102,
            102,
            102,
            102,
            102,
            102,
            102,
            102,
            102,
            102,
            102
           ],
           "yaxis": "y"
          }
         ],
         "name": "1999"
        },
        {
         "data": [
          {
           "hovertemplate": "<b>%{hovertext}</b><br><br>Platform=PS<br>Year=2000<br>Number of Genres=%{x}<br>Games per Platform=%{marker.size}<extra></extra>",
           "hovertext": [
            "Action",
            "Adventure",
            "Fighting",
            "Misc",
            "Platform",
            "Puzzle",
            "Racing",
            "Role-Playing",
            "Shooter",
            "Simulation",
            "Sports",
            "Strategy"
           ],
           "ids": [
            "Action",
            "Adventure",
            "Fighting",
            "Misc",
            "Platform",
            "Puzzle",
            "Racing",
            "Role-Playing",
            "Shooter",
            "Simulation",
            "Sports",
            "Strategy"
           ],
           "legendgroup": "PS",
           "marker": {
            "color": "#19d3f3",
            "size": [
             159,
             159,
             159,
             159,
             159,
             159,
             159,
             159,
             159,
             159,
             159,
             159
            ],
            "sizemode": "area",
            "sizeref": 0.62,
            "symbol": "circle"
           },
           "mode": "markers",
           "name": "PS",
           "orientation": "v",
           "showlegend": true,
           "type": "scatter",
           "x": [
            36,
            9,
            16,
            17,
            18,
            6,
            31,
            11,
            13,
            5,
            50,
            7
           ],
           "xaxis": "x",
           "y": [
            159,
            159,
            159,
            159,
            159,
            159,
            159,
            159,
            159,
            159,
            159,
            159
           ],
           "yaxis": "y"
          },
          {
           "hovertemplate": "<b>%{hovertext}</b><br><br>Platform=N64<br>Year=2000<br>Number of Genres=%{x}<br>Games per Platform=%{marker.size}<extra></extra>",
           "hovertext": [
            "Action",
            "Adventure",
            "Fighting",
            "Misc",
            "Platform",
            "Puzzle",
            "Racing",
            "Role-Playing",
            "Shooter",
            "Simulation",
            "Sports",
            "Strategy"
           ],
           "ids": [
            "Action",
            "Adventure",
            "Fighting",
            "Misc",
            "Platform",
            "Puzzle",
            "Racing",
            "Role-Playing",
            "Shooter",
            "Simulation",
            "Sports",
            "Strategy"
           ],
           "legendgroup": "N64",
           "marker": {
            "color": "#B6E880",
            "size": [
             60,
             60,
             60,
             60,
             60,
             60,
             60,
             60,
             60,
             60,
             60,
             60
            ],
            "sizemode": "area",
            "sizeref": 0.62,
            "symbol": "circle"
           },
           "mode": "markers",
           "name": "N64",
           "orientation": "v",
           "showlegend": true,
           "type": "scatter",
           "x": [
            36,
            9,
            16,
            17,
            18,
            6,
            31,
            11,
            13,
            5,
            50,
            7
           ],
           "xaxis": "x",
           "y": [
            60,
            60,
            60,
            60,
            60,
            60,
            60,
            60,
            60,
            60,
            60,
            60
           ],
           "yaxis": "y"
          }
         ],
         "name": "2000"
        },
        {
         "data": [
          {
           "hovertemplate": "<b>%{hovertext}</b><br><br>Platform=PS<br>Year=2001<br>Number of Genres=%{x}<br>Games per Platform=%{marker.size}<extra></extra>",
           "hovertext": [
            "Action",
            "Adventure",
            "Fighting",
            "Misc",
            "Platform",
            "Puzzle",
            "Racing",
            "Role-Playing",
            "Shooter",
            "Simulation",
            "Sports",
            "Strategy"
           ],
           "ids": [
            "Action",
            "Adventure",
            "Fighting",
            "Misc",
            "Platform",
            "Puzzle",
            "Racing",
            "Role-Playing",
            "Shooter",
            "Simulation",
            "Sports",
            "Strategy"
           ],
           "legendgroup": "PS",
           "marker": {
            "color": "#19d3f3",
            "size": [
             91,
             91,
             91,
             91,
             91,
             91,
             91,
             91,
             91,
             91,
             91,
             91
            ],
            "sizemode": "area",
            "sizeref": 0.62,
            "symbol": "circle"
           },
           "mode": "markers",
           "name": "PS",
           "orientation": "v",
           "showlegend": true,
           "type": "scatter",
           "x": [
            19,
            7,
            4,
            3,
            7,
            3,
            11,
            8,
            8,
            3,
            24,
            3
           ],
           "xaxis": "x",
           "y": [
            91,
            91,
            91,
            91,
            91,
            91,
            91,
            91,
            91,
            91,
            91,
            91
           ],
           "yaxis": "y"
          },
          {
           "hovertemplate": "<b>%{hovertext}</b><br><br>Platform=N64<br>Year=2001<br>Number of Genres=%{x}<br>Games per Platform=%{marker.size}<extra></extra>",
           "hovertext": [
            "Action",
            "Adventure",
            "Fighting",
            "Misc",
            "Platform",
            "Puzzle",
            "Racing",
            "Role-Playing",
            "Shooter",
            "Simulation",
            "Sports",
            "Strategy"
           ],
           "ids": [
            "Action",
            "Adventure",
            "Fighting",
            "Misc",
            "Platform",
            "Puzzle",
            "Racing",
            "Role-Playing",
            "Shooter",
            "Simulation",
            "Sports",
            "Strategy"
           ],
           "legendgroup": "N64",
           "marker": {
            "color": "#B6E880",
            "size": [
             9,
             9,
             9,
             9,
             9,
             9,
             9,
             9,
             9,
             9,
             9,
             9
            ],
            "sizemode": "area",
            "sizeref": 0.62,
            "symbol": "circle"
           },
           "mode": "markers",
           "name": "N64",
           "orientation": "v",
           "showlegend": true,
           "type": "scatter",
           "x": [
            19,
            7,
            4,
            3,
            7,
            3,
            11,
            8,
            8,
            3,
            24,
            3
           ],
           "xaxis": "x",
           "y": [
            9,
            9,
            9,
            9,
            9,
            9,
            9,
            9,
            9,
            9,
            9,
            9
           ],
           "yaxis": "y"
          }
         ],
         "name": "2001"
        },
        {
         "data": [
          {
           "hovertemplate": "<b>%{hovertext}</b><br><br>Platform=PS<br>Year=2002<br>Number of Genres=%{x}<br>Games per Platform=%{marker.size}<extra></extra>",
           "hovertext": [
            "Action",
            "Adventure",
            "Fighting",
            "Platform",
            "Racing",
            "Role-Playing",
            "Shooter",
            "Simulation",
            "Sports"
           ],
           "ids": [
            "Action",
            "Adventure",
            "Fighting",
            "Platform",
            "Racing",
            "Role-Playing",
            "Shooter",
            "Simulation",
            "Sports"
           ],
           "legendgroup": "PS",
           "marker": {
            "color": "#19d3f3",
            "size": [
             20,
             20,
             20,
             20,
             20,
             20,
             20,
             20,
             20
            ],
            "sizemode": "area",
            "sizeref": 0.62,
            "symbol": "circle"
           },
           "mode": "markers",
           "name": "PS",
           "orientation": "v",
           "showlegend": true,
           "type": "scatter",
           "x": [
            5,
            2,
            3,
            2,
            1,
            2,
            1,
            1,
            4
           ],
           "xaxis": "x",
           "y": [
            20,
            20,
            20,
            20,
            20,
            20,
            20,
            20,
            20
           ],
           "yaxis": "y"
          },
          {
           "hovertemplate": "<b>%{hovertext}</b><br><br>Platform=N64<br>Year=2002<br>Number of Genres=%{x}<br>Games per Platform=%{marker.size}<extra></extra>",
           "hovertext": [
            "Action",
            "Adventure",
            "Fighting",
            "Platform",
            "Racing",
            "Role-Playing",
            "Shooter",
            "Simulation",
            "Sports"
           ],
           "ids": [
            "Action",
            "Adventure",
            "Fighting",
            "Platform",
            "Racing",
            "Role-Playing",
            "Shooter",
            "Simulation",
            "Sports"
           ],
           "legendgroup": "N64",
           "marker": {
            "color": "#B6E880",
            "size": [
             1,
             1,
             1,
             1,
             1,
             1,
             1,
             1,
             1
            ],
            "sizemode": "area",
            "sizeref": 0.62,
            "symbol": "circle"
           },
           "mode": "markers",
           "name": "N64",
           "orientation": "v",
           "showlegend": true,
           "type": "scatter",
           "x": [
            5,
            2,
            3,
            2,
            1,
            2,
            1,
            1,
            4
           ],
           "xaxis": "x",
           "y": [
            1,
            1,
            1,
            1,
            1,
            1,
            1,
            1,
            1
           ],
           "yaxis": "y"
          }
         ],
         "name": "2002"
        },
        {
         "data": [
          {
           "hovertemplate": "<b>%{hovertext}</b><br><br>Platform=SNES<br>Year=1995<br>Number of Genres=%{x}<br>Games per Platform=%{marker.size}<extra></extra>",
           "hovertext": [
            "Action",
            "Adventure",
            "Fighting",
            "Misc",
            "Platform",
            "Puzzle",
            "Racing",
            "Role-Playing",
            "Shooter",
            "Simulation",
            "Sports",
            "Strategy"
           ],
           "ids": [
            "Action",
            "Adventure",
            "Fighting",
            "Misc",
            "Platform",
            "Puzzle",
            "Racing",
            "Role-Playing",
            "Shooter",
            "Simulation",
            "Sports",
            "Strategy"
           ],
           "legendgroup": "SNES",
           "marker": {
            "color": "#ab63fa",
            "size": [
             54,
             54,
             54,
             54,
             54,
             54,
             54,
             54,
             54,
             54,
             54,
             54
            ],
            "sizemode": "area",
            "sizeref": 0.62,
            "symbol": "circle"
           },
           "mode": "markers",
           "name": "SNES",
           "orientation": "v",
           "showlegend": true,
           "type": "scatter",
           "x": [
            8,
            11,
            26,
            20,
            12,
            10,
            12,
            24,
            28,
            13,
            28,
            13
           ],
           "xaxis": "x",
           "y": [
            54,
            54,
            54,
            54,
            54,
            54,
            54,
            54,
            54,
            54,
            54,
            54
           ],
           "yaxis": "y"
          },
          {
           "hovertemplate": "<b>%{hovertext}</b><br><br>Platform=PS<br>Year=1995<br>Number of Genres=%{x}<br>Games per Platform=%{marker.size}<extra></extra>",
           "hovertext": [
            "Action",
            "Adventure",
            "Fighting",
            "Misc",
            "Platform",
            "Puzzle",
            "Racing",
            "Role-Playing",
            "Shooter",
            "Simulation",
            "Sports",
            "Strategy"
           ],
           "ids": [
            "Action",
            "Adventure",
            "Fighting",
            "Misc",
            "Platform",
            "Puzzle",
            "Racing",
            "Role-Playing",
            "Shooter",
            "Simulation",
            "Sports",
            "Strategy"
           ],
           "legendgroup": "PS",
           "marker": {
            "color": "#19d3f3",
            "size": [
             99,
             99,
             99,
             99,
             99,
             99,
             99,
             99,
             99,
             99,
             99,
             99
            ],
            "sizemode": "area",
            "sizeref": 0.62,
            "symbol": "circle"
           },
           "mode": "markers",
           "name": "PS",
           "orientation": "v",
           "showlegend": true,
           "type": "scatter",
           "x": [
            8,
            11,
            26,
            20,
            12,
            10,
            12,
            24,
            28,
            13,
            28,
            13
           ],
           "xaxis": "x",
           "y": [
            99,
            99,
            99,
            99,
            99,
            99,
            99,
            99,
            99,
            99,
            99,
            99
           ],
           "yaxis": "y"
          },
          {
           "hovertemplate": "<b>%{hovertext}</b><br><br>Platform=SAT<br>Year=1995<br>Number of Genres=%{x}<br>Games per Platform=%{marker.size}<extra></extra>",
           "hovertext": [
            "Action",
            "Adventure",
            "Fighting",
            "Misc",
            "Platform",
            "Puzzle",
            "Racing",
            "Role-Playing",
            "Shooter",
            "Simulation",
            "Sports",
            "Strategy"
           ],
           "ids": [
            "Action",
            "Adventure",
            "Fighting",
            "Misc",
            "Platform",
            "Puzzle",
            "Racing",
            "Role-Playing",
            "Shooter",
            "Simulation",
            "Sports",
            "Strategy"
           ],
           "legendgroup": "SAT",
           "marker": {
            "color": "#FF6692",
            "size": [
             52,
             52,
             52,
             52,
             52,
             52,
             52,
             52,
             52,
             52,
             52,
             52
            ],
            "sizemode": "area",
            "sizeref": 0.62,
            "symbol": "circle"
           },
           "mode": "markers",
           "name": "SAT",
           "orientation": "v",
           "showlegend": true,
           "type": "scatter",
           "x": [
            8,
            11,
            26,
            20,
            12,
            10,
            12,
            24,
            28,
            13,
            28,
            13
           ],
           "xaxis": "x",
           "y": [
            52,
            52,
            52,
            52,
            52,
            52,
            52,
            52,
            52,
            52,
            52,
            52
           ],
           "yaxis": "y"
          }
         ],
         "name": "1995"
        },
        {
         "data": [
          {
           "hovertemplate": "<b>%{hovertext}</b><br><br>Platform=PS<br>Year=2003<br>Number of Genres=%{x}<br>Games per Platform=%{marker.size}<extra></extra>",
           "hovertext": [
            "Misc",
            "Sports"
           ],
           "ids": [
            "Misc",
            "Sports"
           ],
           "legendgroup": "PS",
           "marker": {
            "color": "#19d3f3",
            "size": [
             3,
             3
            ],
            "sizemode": "area",
            "sizeref": 0.62,
            "symbol": "circle"
           },
           "mode": "markers",
           "name": "PS",
           "orientation": "v",
           "showlegend": true,
           "type": "scatter",
           "x": [
            2,
            1
           ],
           "xaxis": "x",
           "y": [
            3,
            3
           ],
           "yaxis": "y"
          }
         ],
         "name": "2003"
        }
       ],
       "layout": {
        "legend": {
         "itemsizing": "constant",
         "title": {
          "text": "Platform"
         },
         "tracegroupgap": 0
        },
        "margin": {
         "t": 60
        },
        "sliders": [
         {
          "active": 0,
          "currentvalue": {
           "prefix": "Year="
          },
          "len": 0.9,
          "pad": {
           "b": 10,
           "t": 60
          },
          "steps": [
           {
            "args": [
             [
              "1980"
             ],
             {
              "frame": {
               "duration": 0,
               "redraw": false
              },
              "fromcurrent": true,
              "mode": "immediate",
              "transition": {
               "duration": 0,
               "easing": "linear"
              }
             }
            ],
            "label": "1980",
            "method": "animate"
           },
           {
            "args": [
             [
              "1981"
             ],
             {
              "frame": {
               "duration": 0,
               "redraw": false
              },
              "fromcurrent": true,
              "mode": "immediate",
              "transition": {
               "duration": 0,
               "easing": "linear"
              }
             }
            ],
            "label": "1981",
            "method": "animate"
           },
           {
            "args": [
             [
              "1982"
             ],
             {
              "frame": {
               "duration": 0,
               "redraw": false
              },
              "fromcurrent": true,
              "mode": "immediate",
              "transition": {
               "duration": 0,
               "easing": "linear"
              }
             }
            ],
            "label": "1982",
            "method": "animate"
           },
           {
            "args": [
             [
              "1983"
             ],
             {
              "frame": {
               "duration": 0,
               "redraw": false
              },
              "fromcurrent": true,
              "mode": "immediate",
              "transition": {
               "duration": 0,
               "easing": "linear"
              }
             }
            ],
            "label": "1983",
            "method": "animate"
           },
           {
            "args": [
             [
              "1984"
             ],
             {
              "frame": {
               "duration": 0,
               "redraw": false
              },
              "fromcurrent": true,
              "mode": "immediate",
              "transition": {
               "duration": 0,
               "easing": "linear"
              }
             }
            ],
            "label": "1984",
            "method": "animate"
           },
           {
            "args": [
             [
              "1985"
             ],
             {
              "frame": {
               "duration": 0,
               "redraw": false
              },
              "fromcurrent": true,
              "mode": "immediate",
              "transition": {
               "duration": 0,
               "easing": "linear"
              }
             }
            ],
            "label": "1985",
            "method": "animate"
           },
           {
            "args": [
             [
              "1986"
             ],
             {
              "frame": {
               "duration": 0,
               "redraw": false
              },
              "fromcurrent": true,
              "mode": "immediate",
              "transition": {
               "duration": 0,
               "easing": "linear"
              }
             }
            ],
            "label": "1986",
            "method": "animate"
           },
           {
            "args": [
             [
              "1987"
             ],
             {
              "frame": {
               "duration": 0,
               "redraw": false
              },
              "fromcurrent": true,
              "mode": "immediate",
              "transition": {
               "duration": 0,
               "easing": "linear"
              }
             }
            ],
            "label": "1987",
            "method": "animate"
           },
           {
            "args": [
             [
              "1988"
             ],
             {
              "frame": {
               "duration": 0,
               "redraw": false
              },
              "fromcurrent": true,
              "mode": "immediate",
              "transition": {
               "duration": 0,
               "easing": "linear"
              }
             }
            ],
            "label": "1988",
            "method": "animate"
           },
           {
            "args": [
             [
              "1989"
             ],
             {
              "frame": {
               "duration": 0,
               "redraw": false
              },
              "fromcurrent": true,
              "mode": "immediate",
              "transition": {
               "duration": 0,
               "easing": "linear"
              }
             }
            ],
            "label": "1989",
            "method": "animate"
           },
           {
            "args": [
             [
              "1990"
             ],
             {
              "frame": {
               "duration": 0,
               "redraw": false
              },
              "fromcurrent": true,
              "mode": "immediate",
              "transition": {
               "duration": 0,
               "easing": "linear"
              }
             }
            ],
            "label": "1990",
            "method": "animate"
           },
           {
            "args": [
             [
              "1991"
             ],
             {
              "frame": {
               "duration": 0,
               "redraw": false
              },
              "fromcurrent": true,
              "mode": "immediate",
              "transition": {
               "duration": 0,
               "easing": "linear"
              }
             }
            ],
            "label": "1991",
            "method": "animate"
           },
           {
            "args": [
             [
              "1992"
             ],
             {
              "frame": {
               "duration": 0,
               "redraw": false
              },
              "fromcurrent": true,
              "mode": "immediate",
              "transition": {
               "duration": 0,
               "easing": "linear"
              }
             }
            ],
            "label": "1992",
            "method": "animate"
           },
           {
            "args": [
             [
              "1993"
             ],
             {
              "frame": {
               "duration": 0,
               "redraw": false
              },
              "fromcurrent": true,
              "mode": "immediate",
              "transition": {
               "duration": 0,
               "easing": "linear"
              }
             }
            ],
            "label": "1993",
            "method": "animate"
           },
           {
            "args": [
             [
              "1994"
             ],
             {
              "frame": {
               "duration": 0,
               "redraw": false
              },
              "fromcurrent": true,
              "mode": "immediate",
              "transition": {
               "duration": 0,
               "easing": "linear"
              }
             }
            ],
            "label": "1994",
            "method": "animate"
           },
           {
            "args": [
             [
              "1996"
             ],
             {
              "frame": {
               "duration": 0,
               "redraw": false
              },
              "fromcurrent": true,
              "mode": "immediate",
              "transition": {
               "duration": 0,
               "easing": "linear"
              }
             }
            ],
            "label": "1996",
            "method": "animate"
           },
           {
            "args": [
             [
              "1997"
             ],
             {
              "frame": {
               "duration": 0,
               "redraw": false
              },
              "fromcurrent": true,
              "mode": "immediate",
              "transition": {
               "duration": 0,
               "easing": "linear"
              }
             }
            ],
            "label": "1997",
            "method": "animate"
           },
           {
            "args": [
             [
              "1998"
             ],
             {
              "frame": {
               "duration": 0,
               "redraw": false
              },
              "fromcurrent": true,
              "mode": "immediate",
              "transition": {
               "duration": 0,
               "easing": "linear"
              }
             }
            ],
            "label": "1998",
            "method": "animate"
           },
           {
            "args": [
             [
              "1999"
             ],
             {
              "frame": {
               "duration": 0,
               "redraw": false
              },
              "fromcurrent": true,
              "mode": "immediate",
              "transition": {
               "duration": 0,
               "easing": "linear"
              }
             }
            ],
            "label": "1999",
            "method": "animate"
           },
           {
            "args": [
             [
              "2000"
             ],
             {
              "frame": {
               "duration": 0,
               "redraw": false
              },
              "fromcurrent": true,
              "mode": "immediate",
              "transition": {
               "duration": 0,
               "easing": "linear"
              }
             }
            ],
            "label": "2000",
            "method": "animate"
           },
           {
            "args": [
             [
              "2001"
             ],
             {
              "frame": {
               "duration": 0,
               "redraw": false
              },
              "fromcurrent": true,
              "mode": "immediate",
              "transition": {
               "duration": 0,
               "easing": "linear"
              }
             }
            ],
            "label": "2001",
            "method": "animate"
           },
           {
            "args": [
             [
              "2002"
             ],
             {
              "frame": {
               "duration": 0,
               "redraw": false
              },
              "fromcurrent": true,
              "mode": "immediate",
              "transition": {
               "duration": 0,
               "easing": "linear"
              }
             }
            ],
            "label": "2002",
            "method": "animate"
           },
           {
            "args": [
             [
              "1995"
             ],
             {
              "frame": {
               "duration": 0,
               "redraw": false
              },
              "fromcurrent": true,
              "mode": "immediate",
              "transition": {
               "duration": 0,
               "easing": "linear"
              }
             }
            ],
            "label": "1995",
            "method": "animate"
           },
           {
            "args": [
             [
              "2003"
             ],
             {
              "frame": {
               "duration": 0,
               "redraw": false
              },
              "fromcurrent": true,
              "mode": "immediate",
              "transition": {
               "duration": 0,
               "easing": "linear"
              }
             }
            ],
            "label": "2003",
            "method": "animate"
           }
          ],
          "x": 0.1,
          "xanchor": "left",
          "y": 0,
          "yanchor": "top"
         }
        ],
        "template": {
         "data": {
          "bar": [
           {
            "error_x": {
             "color": "#2a3f5f"
            },
            "error_y": {
             "color": "#2a3f5f"
            },
            "marker": {
             "line": {
              "color": "#E5ECF6",
              "width": 0.5
             }
            },
            "type": "bar"
           }
          ],
          "barpolar": [
           {
            "marker": {
             "line": {
              "color": "#E5ECF6",
              "width": 0.5
             }
            },
            "type": "barpolar"
           }
          ],
          "carpet": [
           {
            "aaxis": {
             "endlinecolor": "#2a3f5f",
             "gridcolor": "white",
             "linecolor": "white",
             "minorgridcolor": "white",
             "startlinecolor": "#2a3f5f"
            },
            "baxis": {
             "endlinecolor": "#2a3f5f",
             "gridcolor": "white",
             "linecolor": "white",
             "minorgridcolor": "white",
             "startlinecolor": "#2a3f5f"
            },
            "type": "carpet"
           }
          ],
          "choropleth": [
           {
            "colorbar": {
             "outlinewidth": 0,
             "ticks": ""
            },
            "type": "choropleth"
           }
          ],
          "contour": [
           {
            "colorbar": {
             "outlinewidth": 0,
             "ticks": ""
            },
            "colorscale": [
             [
              0,
              "#0d0887"
             ],
             [
              0.1111111111111111,
              "#46039f"
             ],
             [
              0.2222222222222222,
              "#7201a8"
             ],
             [
              0.3333333333333333,
              "#9c179e"
             ],
             [
              0.4444444444444444,
              "#bd3786"
             ],
             [
              0.5555555555555556,
              "#d8576b"
             ],
             [
              0.6666666666666666,
              "#ed7953"
             ],
             [
              0.7777777777777778,
              "#fb9f3a"
             ],
             [
              0.8888888888888888,
              "#fdca26"
             ],
             [
              1,
              "#f0f921"
             ]
            ],
            "type": "contour"
           }
          ],
          "contourcarpet": [
           {
            "colorbar": {
             "outlinewidth": 0,
             "ticks": ""
            },
            "type": "contourcarpet"
           }
          ],
          "heatmap": [
           {
            "colorbar": {
             "outlinewidth": 0,
             "ticks": ""
            },
            "colorscale": [
             [
              0,
              "#0d0887"
             ],
             [
              0.1111111111111111,
              "#46039f"
             ],
             [
              0.2222222222222222,
              "#7201a8"
             ],
             [
              0.3333333333333333,
              "#9c179e"
             ],
             [
              0.4444444444444444,
              "#bd3786"
             ],
             [
              0.5555555555555556,
              "#d8576b"
             ],
             [
              0.6666666666666666,
              "#ed7953"
             ],
             [
              0.7777777777777778,
              "#fb9f3a"
             ],
             [
              0.8888888888888888,
              "#fdca26"
             ],
             [
              1,
              "#f0f921"
             ]
            ],
            "type": "heatmap"
           }
          ],
          "heatmapgl": [
           {
            "colorbar": {
             "outlinewidth": 0,
             "ticks": ""
            },
            "colorscale": [
             [
              0,
              "#0d0887"
             ],
             [
              0.1111111111111111,
              "#46039f"
             ],
             [
              0.2222222222222222,
              "#7201a8"
             ],
             [
              0.3333333333333333,
              "#9c179e"
             ],
             [
              0.4444444444444444,
              "#bd3786"
             ],
             [
              0.5555555555555556,
              "#d8576b"
             ],
             [
              0.6666666666666666,
              "#ed7953"
             ],
             [
              0.7777777777777778,
              "#fb9f3a"
             ],
             [
              0.8888888888888888,
              "#fdca26"
             ],
             [
              1,
              "#f0f921"
             ]
            ],
            "type": "heatmapgl"
           }
          ],
          "histogram": [
           {
            "marker": {
             "colorbar": {
              "outlinewidth": 0,
              "ticks": ""
             }
            },
            "type": "histogram"
           }
          ],
          "histogram2d": [
           {
            "colorbar": {
             "outlinewidth": 0,
             "ticks": ""
            },
            "colorscale": [
             [
              0,
              "#0d0887"
             ],
             [
              0.1111111111111111,
              "#46039f"
             ],
             [
              0.2222222222222222,
              "#7201a8"
             ],
             [
              0.3333333333333333,
              "#9c179e"
             ],
             [
              0.4444444444444444,
              "#bd3786"
             ],
             [
              0.5555555555555556,
              "#d8576b"
             ],
             [
              0.6666666666666666,
              "#ed7953"
             ],
             [
              0.7777777777777778,
              "#fb9f3a"
             ],
             [
              0.8888888888888888,
              "#fdca26"
             ],
             [
              1,
              "#f0f921"
             ]
            ],
            "type": "histogram2d"
           }
          ],
          "histogram2dcontour": [
           {
            "colorbar": {
             "outlinewidth": 0,
             "ticks": ""
            },
            "colorscale": [
             [
              0,
              "#0d0887"
             ],
             [
              0.1111111111111111,
              "#46039f"
             ],
             [
              0.2222222222222222,
              "#7201a8"
             ],
             [
              0.3333333333333333,
              "#9c179e"
             ],
             [
              0.4444444444444444,
              "#bd3786"
             ],
             [
              0.5555555555555556,
              "#d8576b"
             ],
             [
              0.6666666666666666,
              "#ed7953"
             ],
             [
              0.7777777777777778,
              "#fb9f3a"
             ],
             [
              0.8888888888888888,
              "#fdca26"
             ],
             [
              1,
              "#f0f921"
             ]
            ],
            "type": "histogram2dcontour"
           }
          ],
          "mesh3d": [
           {
            "colorbar": {
             "outlinewidth": 0,
             "ticks": ""
            },
            "type": "mesh3d"
           }
          ],
          "parcoords": [
           {
            "line": {
             "colorbar": {
              "outlinewidth": 0,
              "ticks": ""
             }
            },
            "type": "parcoords"
           }
          ],
          "pie": [
           {
            "automargin": true,
            "type": "pie"
           }
          ],
          "scatter": [
           {
            "marker": {
             "colorbar": {
              "outlinewidth": 0,
              "ticks": ""
             }
            },
            "type": "scatter"
           }
          ],
          "scatter3d": [
           {
            "line": {
             "colorbar": {
              "outlinewidth": 0,
              "ticks": ""
             }
            },
            "marker": {
             "colorbar": {
              "outlinewidth": 0,
              "ticks": ""
             }
            },
            "type": "scatter3d"
           }
          ],
          "scattercarpet": [
           {
            "marker": {
             "colorbar": {
              "outlinewidth": 0,
              "ticks": ""
             }
            },
            "type": "scattercarpet"
           }
          ],
          "scattergeo": [
           {
            "marker": {
             "colorbar": {
              "outlinewidth": 0,
              "ticks": ""
             }
            },
            "type": "scattergeo"
           }
          ],
          "scattergl": [
           {
            "marker": {
             "colorbar": {
              "outlinewidth": 0,
              "ticks": ""
             }
            },
            "type": "scattergl"
           }
          ],
          "scattermapbox": [
           {
            "marker": {
             "colorbar": {
              "outlinewidth": 0,
              "ticks": ""
             }
            },
            "type": "scattermapbox"
           }
          ],
          "scatterpolar": [
           {
            "marker": {
             "colorbar": {
              "outlinewidth": 0,
              "ticks": ""
             }
            },
            "type": "scatterpolar"
           }
          ],
          "scatterpolargl": [
           {
            "marker": {
             "colorbar": {
              "outlinewidth": 0,
              "ticks": ""
             }
            },
            "type": "scatterpolargl"
           }
          ],
          "scatterternary": [
           {
            "marker": {
             "colorbar": {
              "outlinewidth": 0,
              "ticks": ""
             }
            },
            "type": "scatterternary"
           }
          ],
          "surface": [
           {
            "colorbar": {
             "outlinewidth": 0,
             "ticks": ""
            },
            "colorscale": [
             [
              0,
              "#0d0887"
             ],
             [
              0.1111111111111111,
              "#46039f"
             ],
             [
              0.2222222222222222,
              "#7201a8"
             ],
             [
              0.3333333333333333,
              "#9c179e"
             ],
             [
              0.4444444444444444,
              "#bd3786"
             ],
             [
              0.5555555555555556,
              "#d8576b"
             ],
             [
              0.6666666666666666,
              "#ed7953"
             ],
             [
              0.7777777777777778,
              "#fb9f3a"
             ],
             [
              0.8888888888888888,
              "#fdca26"
             ],
             [
              1,
              "#f0f921"
             ]
            ],
            "type": "surface"
           }
          ],
          "table": [
           {
            "cells": {
             "fill": {
              "color": "#EBF0F8"
             },
             "line": {
              "color": "white"
             }
            },
            "header": {
             "fill": {
              "color": "#C8D4E3"
             },
             "line": {
              "color": "white"
             }
            },
            "type": "table"
           }
          ]
         },
         "layout": {
          "annotationdefaults": {
           "arrowcolor": "#2a3f5f",
           "arrowhead": 0,
           "arrowwidth": 1
          },
          "coloraxis": {
           "colorbar": {
            "outlinewidth": 0,
            "ticks": ""
           }
          },
          "colorscale": {
           "diverging": [
            [
             0,
             "#8e0152"
            ],
            [
             0.1,
             "#c51b7d"
            ],
            [
             0.2,
             "#de77ae"
            ],
            [
             0.3,
             "#f1b6da"
            ],
            [
             0.4,
             "#fde0ef"
            ],
            [
             0.5,
             "#f7f7f7"
            ],
            [
             0.6,
             "#e6f5d0"
            ],
            [
             0.7,
             "#b8e186"
            ],
            [
             0.8,
             "#7fbc41"
            ],
            [
             0.9,
             "#4d9221"
            ],
            [
             1,
             "#276419"
            ]
           ],
           "sequential": [
            [
             0,
             "#0d0887"
            ],
            [
             0.1111111111111111,
             "#46039f"
            ],
            [
             0.2222222222222222,
             "#7201a8"
            ],
            [
             0.3333333333333333,
             "#9c179e"
            ],
            [
             0.4444444444444444,
             "#bd3786"
            ],
            [
             0.5555555555555556,
             "#d8576b"
            ],
            [
             0.6666666666666666,
             "#ed7953"
            ],
            [
             0.7777777777777778,
             "#fb9f3a"
            ],
            [
             0.8888888888888888,
             "#fdca26"
            ],
            [
             1,
             "#f0f921"
            ]
           ],
           "sequentialminus": [
            [
             0,
             "#0d0887"
            ],
            [
             0.1111111111111111,
             "#46039f"
            ],
            [
             0.2222222222222222,
             "#7201a8"
            ],
            [
             0.3333333333333333,
             "#9c179e"
            ],
            [
             0.4444444444444444,
             "#bd3786"
            ],
            [
             0.5555555555555556,
             "#d8576b"
            ],
            [
             0.6666666666666666,
             "#ed7953"
            ],
            [
             0.7777777777777778,
             "#fb9f3a"
            ],
            [
             0.8888888888888888,
             "#fdca26"
            ],
            [
             1,
             "#f0f921"
            ]
           ]
          },
          "colorway": [
           "#636efa",
           "#EF553B",
           "#00cc96",
           "#ab63fa",
           "#FFA15A",
           "#19d3f3",
           "#FF6692",
           "#B6E880",
           "#FF97FF",
           "#FECB52"
          ],
          "font": {
           "color": "#2a3f5f"
          },
          "geo": {
           "bgcolor": "white",
           "lakecolor": "white",
           "landcolor": "#E5ECF6",
           "showlakes": true,
           "showland": true,
           "subunitcolor": "white"
          },
          "hoverlabel": {
           "align": "left"
          },
          "hovermode": "closest",
          "mapbox": {
           "style": "light"
          },
          "paper_bgcolor": "white",
          "plot_bgcolor": "#E5ECF6",
          "polar": {
           "angularaxis": {
            "gridcolor": "white",
            "linecolor": "white",
            "ticks": ""
           },
           "bgcolor": "#E5ECF6",
           "radialaxis": {
            "gridcolor": "white",
            "linecolor": "white",
            "ticks": ""
           }
          },
          "scene": {
           "xaxis": {
            "backgroundcolor": "#E5ECF6",
            "gridcolor": "white",
            "gridwidth": 2,
            "linecolor": "white",
            "showbackground": true,
            "ticks": "",
            "zerolinecolor": "white"
           },
           "yaxis": {
            "backgroundcolor": "#E5ECF6",
            "gridcolor": "white",
            "gridwidth": 2,
            "linecolor": "white",
            "showbackground": true,
            "ticks": "",
            "zerolinecolor": "white"
           },
           "zaxis": {
            "backgroundcolor": "#E5ECF6",
            "gridcolor": "white",
            "gridwidth": 2,
            "linecolor": "white",
            "showbackground": true,
            "ticks": "",
            "zerolinecolor": "white"
           }
          },
          "shapedefaults": {
           "line": {
            "color": "#2a3f5f"
           }
          },
          "ternary": {
           "aaxis": {
            "gridcolor": "white",
            "linecolor": "white",
            "ticks": ""
           },
           "baxis": {
            "gridcolor": "white",
            "linecolor": "white",
            "ticks": ""
           },
           "bgcolor": "#E5ECF6",
           "caxis": {
            "gridcolor": "white",
            "linecolor": "white",
            "ticks": ""
           }
          },
          "title": {
           "x": 0.05
          },
          "xaxis": {
           "automargin": true,
           "gridcolor": "white",
           "linecolor": "white",
           "ticks": "",
           "title": {
            "standoff": 15
           },
           "zerolinecolor": "white",
           "zerolinewidth": 2
          },
          "yaxis": {
           "automargin": true,
           "gridcolor": "white",
           "linecolor": "white",
           "ticks": "",
           "title": {
            "standoff": 15
           },
           "zerolinecolor": "white",
           "zerolinewidth": 2
          }
         }
        },
        "updatemenus": [
         {
          "buttons": [
           {
            "args": [
             null,
             {
              "frame": {
               "duration": 1000,
               "redraw": false
              },
              "fromcurrent": true,
              "mode": "immediate",
              "transition": {
               "duration": 500,
               "easing": "linear"
              }
             }
            ],
            "label": "&#9654;",
            "method": "animate"
           },
           {
            "args": [
             [
              null
             ],
             {
              "frame": {
               "duration": 0,
               "redraw": false
              },
              "fromcurrent": true,
              "mode": "immediate",
              "transition": {
               "duration": 0,
               "easing": "linear"
              }
             }
            ],
            "label": "&#9724;",
            "method": "animate"
           }
          ],
          "direction": "left",
          "pad": {
           "r": 10,
           "t": 70
          },
          "showactive": false,
          "type": "buttons",
          "x": 0.1,
          "xanchor": "right",
          "y": 0,
          "yanchor": "top"
         }
        ],
        "xaxis": {
         "anchor": "y",
         "domain": [
          0,
          1
         ],
         "range": [
          0,
          1.7781512503836434
         ],
         "title": {
          "text": "Number of Genres"
         },
         "type": "log"
        },
        "yaxis": {
         "anchor": "x",
         "domain": [
          0,
          1
         ],
         "range": [
          1,
          200
         ],
         "title": {
          "text": "Games per Platform"
         }
        }
       }
      },
      "text/html": [
       "<div>                            <div id=\"d07e4b1b-f260-4ded-9205-23f79421f258\" class=\"plotly-graph-div\" style=\"height:525px; width:100%;\"></div>            <script type=\"text/javascript\">                require([\"plotly\"], function(Plotly) {                    window.PLOTLYENV=window.PLOTLYENV || {};                                    if (document.getElementById(\"d07e4b1b-f260-4ded-9205-23f79421f258\")) {                    Plotly.newPlot(                        \"d07e4b1b-f260-4ded-9205-23f79421f258\",                        [{\"hovertemplate\": \"<b>%{hovertext}</b><br><br>Platform=2600<br>Year=1980<br>Number of Genres=%{x}<br>Games per Platform=%{marker.size}<extra></extra>\", \"hovertext\": [\"Action\", \"Fighting\", \"Misc\", \"Shooter\", \"Sports\"], \"ids\": [\"Action\", \"Fighting\", \"Misc\", \"Shooter\", \"Sports\"], \"legendgroup\": \"2600\", \"marker\": {\"color\": \"#636efa\", \"size\": [9, 9, 9, 9, 9], \"sizemode\": \"area\", \"sizeref\": 0.62, \"symbol\": \"circle\"}, \"mode\": \"markers\", \"name\": \"2600\", \"orientation\": \"v\", \"showlegend\": true, \"type\": \"scatter\", \"x\": [1, 1, 4, 2, 1], \"xaxis\": \"x\", \"y\": [9, 9, 9, 9, 9], \"yaxis\": \"y\"}],                        {\"legend\": {\"itemsizing\": \"constant\", \"title\": {\"text\": \"Platform\"}, \"tracegroupgap\": 0}, \"margin\": {\"t\": 60}, \"sliders\": [{\"active\": 0, \"currentvalue\": {\"prefix\": \"Year=\"}, \"len\": 0.9, \"pad\": {\"b\": 10, \"t\": 60}, \"steps\": [{\"args\": [[\"1980\"], {\"frame\": {\"duration\": 0, \"redraw\": false}, \"fromcurrent\": true, \"mode\": \"immediate\", \"transition\": {\"duration\": 0, \"easing\": \"linear\"}}], \"label\": \"1980\", \"method\": \"animate\"}, {\"args\": [[\"1981\"], {\"frame\": {\"duration\": 0, \"redraw\": false}, \"fromcurrent\": true, \"mode\": \"immediate\", \"transition\": {\"duration\": 0, \"easing\": \"linear\"}}], \"label\": \"1981\", \"method\": \"animate\"}, {\"args\": [[\"1982\"], {\"frame\": {\"duration\": 0, \"redraw\": false}, \"fromcurrent\": true, \"mode\": \"immediate\", \"transition\": {\"duration\": 0, \"easing\": \"linear\"}}], \"label\": \"1982\", \"method\": \"animate\"}, {\"args\": [[\"1983\"], {\"frame\": {\"duration\": 0, \"redraw\": false}, \"fromcurrent\": true, \"mode\": \"immediate\", \"transition\": {\"duration\": 0, \"easing\": \"linear\"}}], \"label\": \"1983\", \"method\": \"animate\"}, {\"args\": [[\"1984\"], {\"frame\": {\"duration\": 0, \"redraw\": false}, \"fromcurrent\": true, \"mode\": \"immediate\", \"transition\": {\"duration\": 0, \"easing\": \"linear\"}}], \"label\": \"1984\", \"method\": \"animate\"}, {\"args\": [[\"1985\"], {\"frame\": {\"duration\": 0, \"redraw\": false}, \"fromcurrent\": true, \"mode\": \"immediate\", \"transition\": {\"duration\": 0, \"easing\": \"linear\"}}], \"label\": \"1985\", \"method\": \"animate\"}, {\"args\": [[\"1986\"], {\"frame\": {\"duration\": 0, \"redraw\": false}, \"fromcurrent\": true, \"mode\": \"immediate\", \"transition\": {\"duration\": 0, \"easing\": \"linear\"}}], \"label\": \"1986\", \"method\": \"animate\"}, {\"args\": [[\"1987\"], {\"frame\": {\"duration\": 0, \"redraw\": false}, \"fromcurrent\": true, \"mode\": \"immediate\", \"transition\": {\"duration\": 0, \"easing\": \"linear\"}}], \"label\": \"1987\", \"method\": \"animate\"}, {\"args\": [[\"1988\"], {\"frame\": {\"duration\": 0, \"redraw\": false}, \"fromcurrent\": true, \"mode\": \"immediate\", \"transition\": {\"duration\": 0, \"easing\": \"linear\"}}], \"label\": \"1988\", \"method\": \"animate\"}, {\"args\": [[\"1989\"], {\"frame\": {\"duration\": 0, \"redraw\": false}, \"fromcurrent\": true, \"mode\": \"immediate\", \"transition\": {\"duration\": 0, \"easing\": \"linear\"}}], \"label\": \"1989\", \"method\": \"animate\"}, {\"args\": [[\"1990\"], {\"frame\": {\"duration\": 0, \"redraw\": false}, \"fromcurrent\": true, \"mode\": \"immediate\", \"transition\": {\"duration\": 0, \"easing\": \"linear\"}}], \"label\": \"1990\", \"method\": \"animate\"}, {\"args\": [[\"1991\"], {\"frame\": {\"duration\": 0, \"redraw\": false}, \"fromcurrent\": true, \"mode\": \"immediate\", \"transition\": {\"duration\": 0, \"easing\": \"linear\"}}], \"label\": \"1991\", \"method\": \"animate\"}, {\"args\": [[\"1992\"], {\"frame\": {\"duration\": 0, \"redraw\": false}, \"fromcurrent\": true, \"mode\": \"immediate\", \"transition\": {\"duration\": 0, \"easing\": \"linear\"}}], \"label\": \"1992\", \"method\": \"animate\"}, {\"args\": [[\"1993\"], {\"frame\": {\"duration\": 0, \"redraw\": false}, \"fromcurrent\": true, \"mode\": \"immediate\", \"transition\": {\"duration\": 0, \"easing\": \"linear\"}}], \"label\": \"1993\", \"method\": \"animate\"}, {\"args\": [[\"1994\"], {\"frame\": {\"duration\": 0, \"redraw\": false}, \"fromcurrent\": true, \"mode\": \"immediate\", \"transition\": {\"duration\": 0, \"easing\": \"linear\"}}], \"label\": \"1994\", \"method\": \"animate\"}, {\"args\": [[\"1996\"], {\"frame\": {\"duration\": 0, \"redraw\": false}, \"fromcurrent\": true, \"mode\": \"immediate\", \"transition\": {\"duration\": 0, \"easing\": \"linear\"}}], \"label\": \"1996\", \"method\": \"animate\"}, {\"args\": [[\"1997\"], {\"frame\": {\"duration\": 0, \"redraw\": false}, \"fromcurrent\": true, \"mode\": \"immediate\", \"transition\": {\"duration\": 0, \"easing\": \"linear\"}}], \"label\": \"1997\", \"method\": \"animate\"}, {\"args\": [[\"1998\"], {\"frame\": {\"duration\": 0, \"redraw\": false}, \"fromcurrent\": true, \"mode\": \"immediate\", \"transition\": {\"duration\": 0, \"easing\": \"linear\"}}], \"label\": \"1998\", \"method\": \"animate\"}, {\"args\": [[\"1999\"], {\"frame\": {\"duration\": 0, \"redraw\": false}, \"fromcurrent\": true, \"mode\": \"immediate\", \"transition\": {\"duration\": 0, \"easing\": \"linear\"}}], \"label\": \"1999\", \"method\": \"animate\"}, {\"args\": [[\"2000\"], {\"frame\": {\"duration\": 0, \"redraw\": false}, \"fromcurrent\": true, \"mode\": \"immediate\", \"transition\": {\"duration\": 0, \"easing\": \"linear\"}}], \"label\": \"2000\", \"method\": \"animate\"}, {\"args\": [[\"2001\"], {\"frame\": {\"duration\": 0, \"redraw\": false}, \"fromcurrent\": true, \"mode\": \"immediate\", \"transition\": {\"duration\": 0, \"easing\": \"linear\"}}], \"label\": \"2001\", \"method\": \"animate\"}, {\"args\": [[\"2002\"], {\"frame\": {\"duration\": 0, \"redraw\": false}, \"fromcurrent\": true, \"mode\": \"immediate\", \"transition\": {\"duration\": 0, \"easing\": \"linear\"}}], \"label\": \"2002\", \"method\": \"animate\"}, {\"args\": [[\"1995\"], {\"frame\": {\"duration\": 0, \"redraw\": false}, \"fromcurrent\": true, \"mode\": \"immediate\", \"transition\": {\"duration\": 0, \"easing\": \"linear\"}}], \"label\": \"1995\", \"method\": \"animate\"}, {\"args\": [[\"2003\"], {\"frame\": {\"duration\": 0, \"redraw\": false}, \"fromcurrent\": true, \"mode\": \"immediate\", \"transition\": {\"duration\": 0, \"easing\": \"linear\"}}], \"label\": \"2003\", \"method\": \"animate\"}], \"x\": 0.1, \"xanchor\": \"left\", \"y\": 0, \"yanchor\": \"top\"}], \"template\": {\"data\": {\"bar\": [{\"error_x\": {\"color\": \"#2a3f5f\"}, \"error_y\": {\"color\": \"#2a3f5f\"}, \"marker\": {\"line\": {\"color\": \"#E5ECF6\", \"width\": 0.5}}, \"type\": \"bar\"}], \"barpolar\": [{\"marker\": {\"line\": {\"color\": \"#E5ECF6\", \"width\": 0.5}}, \"type\": \"barpolar\"}], \"carpet\": [{\"aaxis\": {\"endlinecolor\": \"#2a3f5f\", \"gridcolor\": \"white\", \"linecolor\": \"white\", \"minorgridcolor\": \"white\", \"startlinecolor\": \"#2a3f5f\"}, \"baxis\": {\"endlinecolor\": \"#2a3f5f\", \"gridcolor\": \"white\", \"linecolor\": \"white\", \"minorgridcolor\": \"white\", \"startlinecolor\": \"#2a3f5f\"}, \"type\": \"carpet\"}], \"choropleth\": [{\"colorbar\": {\"outlinewidth\": 0, \"ticks\": \"\"}, \"type\": \"choropleth\"}], \"contour\": [{\"colorbar\": {\"outlinewidth\": 0, \"ticks\": \"\"}, \"colorscale\": [[0.0, \"#0d0887\"], [0.1111111111111111, \"#46039f\"], [0.2222222222222222, \"#7201a8\"], [0.3333333333333333, \"#9c179e\"], [0.4444444444444444, \"#bd3786\"], [0.5555555555555556, \"#d8576b\"], [0.6666666666666666, \"#ed7953\"], [0.7777777777777778, \"#fb9f3a\"], [0.8888888888888888, \"#fdca26\"], [1.0, \"#f0f921\"]], \"type\": \"contour\"}], \"contourcarpet\": [{\"colorbar\": {\"outlinewidth\": 0, \"ticks\": \"\"}, \"type\": \"contourcarpet\"}], \"heatmap\": [{\"colorbar\": {\"outlinewidth\": 0, \"ticks\": \"\"}, \"colorscale\": [[0.0, \"#0d0887\"], [0.1111111111111111, \"#46039f\"], [0.2222222222222222, \"#7201a8\"], [0.3333333333333333, \"#9c179e\"], [0.4444444444444444, \"#bd3786\"], [0.5555555555555556, \"#d8576b\"], [0.6666666666666666, \"#ed7953\"], [0.7777777777777778, \"#fb9f3a\"], [0.8888888888888888, \"#fdca26\"], [1.0, \"#f0f921\"]], \"type\": \"heatmap\"}], \"heatmapgl\": [{\"colorbar\": {\"outlinewidth\": 0, \"ticks\": \"\"}, \"colorscale\": [[0.0, \"#0d0887\"], [0.1111111111111111, \"#46039f\"], [0.2222222222222222, \"#7201a8\"], [0.3333333333333333, \"#9c179e\"], [0.4444444444444444, \"#bd3786\"], [0.5555555555555556, \"#d8576b\"], [0.6666666666666666, \"#ed7953\"], [0.7777777777777778, \"#fb9f3a\"], [0.8888888888888888, \"#fdca26\"], [1.0, \"#f0f921\"]], \"type\": \"heatmapgl\"}], \"histogram\": [{\"marker\": {\"colorbar\": {\"outlinewidth\": 0, \"ticks\": \"\"}}, \"type\": \"histogram\"}], \"histogram2d\": [{\"colorbar\": {\"outlinewidth\": 0, \"ticks\": \"\"}, \"colorscale\": [[0.0, \"#0d0887\"], [0.1111111111111111, \"#46039f\"], [0.2222222222222222, \"#7201a8\"], [0.3333333333333333, \"#9c179e\"], [0.4444444444444444, \"#bd3786\"], [0.5555555555555556, \"#d8576b\"], [0.6666666666666666, \"#ed7953\"], [0.7777777777777778, \"#fb9f3a\"], [0.8888888888888888, \"#fdca26\"], [1.0, \"#f0f921\"]], \"type\": \"histogram2d\"}], \"histogram2dcontour\": [{\"colorbar\": {\"outlinewidth\": 0, \"ticks\": \"\"}, \"colorscale\": [[0.0, \"#0d0887\"], [0.1111111111111111, \"#46039f\"], [0.2222222222222222, \"#7201a8\"], [0.3333333333333333, \"#9c179e\"], [0.4444444444444444, \"#bd3786\"], [0.5555555555555556, \"#d8576b\"], [0.6666666666666666, \"#ed7953\"], [0.7777777777777778, \"#fb9f3a\"], [0.8888888888888888, \"#fdca26\"], [1.0, \"#f0f921\"]], \"type\": \"histogram2dcontour\"}], \"mesh3d\": [{\"colorbar\": {\"outlinewidth\": 0, \"ticks\": \"\"}, \"type\": \"mesh3d\"}], \"parcoords\": [{\"line\": {\"colorbar\": {\"outlinewidth\": 0, \"ticks\": \"\"}}, \"type\": \"parcoords\"}], \"pie\": [{\"automargin\": true, \"type\": \"pie\"}], \"scatter\": [{\"marker\": {\"colorbar\": {\"outlinewidth\": 0, \"ticks\": \"\"}}, \"type\": \"scatter\"}], \"scatter3d\": [{\"line\": {\"colorbar\": {\"outlinewidth\": 0, \"ticks\": \"\"}}, \"marker\": {\"colorbar\": {\"outlinewidth\": 0, \"ticks\": \"\"}}, \"type\": \"scatter3d\"}], \"scattercarpet\": [{\"marker\": {\"colorbar\": {\"outlinewidth\": 0, \"ticks\": \"\"}}, \"type\": \"scattercarpet\"}], \"scattergeo\": [{\"marker\": {\"colorbar\": {\"outlinewidth\": 0, \"ticks\": \"\"}}, \"type\": \"scattergeo\"}], \"scattergl\": [{\"marker\": {\"colorbar\": {\"outlinewidth\": 0, \"ticks\": \"\"}}, \"type\": \"scattergl\"}], \"scattermapbox\": [{\"marker\": {\"colorbar\": {\"outlinewidth\": 0, \"ticks\": \"\"}}, \"type\": \"scattermapbox\"}], \"scatterpolar\": [{\"marker\": {\"colorbar\": {\"outlinewidth\": 0, \"ticks\": \"\"}}, \"type\": \"scatterpolar\"}], \"scatterpolargl\": [{\"marker\": {\"colorbar\": {\"outlinewidth\": 0, \"ticks\": \"\"}}, \"type\": \"scatterpolargl\"}], \"scatterternary\": [{\"marker\": {\"colorbar\": {\"outlinewidth\": 0, \"ticks\": \"\"}}, \"type\": \"scatterternary\"}], \"surface\": [{\"colorbar\": {\"outlinewidth\": 0, \"ticks\": \"\"}, \"colorscale\": [[0.0, \"#0d0887\"], [0.1111111111111111, \"#46039f\"], [0.2222222222222222, \"#7201a8\"], [0.3333333333333333, \"#9c179e\"], [0.4444444444444444, \"#bd3786\"], [0.5555555555555556, \"#d8576b\"], [0.6666666666666666, \"#ed7953\"], [0.7777777777777778, \"#fb9f3a\"], [0.8888888888888888, \"#fdca26\"], [1.0, \"#f0f921\"]], \"type\": \"surface\"}], \"table\": [{\"cells\": {\"fill\": {\"color\": \"#EBF0F8\"}, \"line\": {\"color\": \"white\"}}, \"header\": {\"fill\": {\"color\": \"#C8D4E3\"}, \"line\": {\"color\": \"white\"}}, \"type\": \"table\"}]}, \"layout\": {\"annotationdefaults\": {\"arrowcolor\": \"#2a3f5f\", \"arrowhead\": 0, \"arrowwidth\": 1}, \"coloraxis\": {\"colorbar\": {\"outlinewidth\": 0, \"ticks\": \"\"}}, \"colorscale\": {\"diverging\": [[0, \"#8e0152\"], [0.1, \"#c51b7d\"], [0.2, \"#de77ae\"], [0.3, \"#f1b6da\"], [0.4, \"#fde0ef\"], [0.5, \"#f7f7f7\"], [0.6, \"#e6f5d0\"], [0.7, \"#b8e186\"], [0.8, \"#7fbc41\"], [0.9, \"#4d9221\"], [1, \"#276419\"]], \"sequential\": [[0.0, \"#0d0887\"], [0.1111111111111111, \"#46039f\"], [0.2222222222222222, \"#7201a8\"], [0.3333333333333333, \"#9c179e\"], [0.4444444444444444, \"#bd3786\"], [0.5555555555555556, \"#d8576b\"], [0.6666666666666666, \"#ed7953\"], [0.7777777777777778, \"#fb9f3a\"], [0.8888888888888888, \"#fdca26\"], [1.0, \"#f0f921\"]], \"sequentialminus\": [[0.0, \"#0d0887\"], [0.1111111111111111, \"#46039f\"], [0.2222222222222222, \"#7201a8\"], [0.3333333333333333, \"#9c179e\"], [0.4444444444444444, \"#bd3786\"], [0.5555555555555556, \"#d8576b\"], [0.6666666666666666, \"#ed7953\"], [0.7777777777777778, \"#fb9f3a\"], [0.8888888888888888, \"#fdca26\"], [1.0, \"#f0f921\"]]}, \"colorway\": [\"#636efa\", \"#EF553B\", \"#00cc96\", \"#ab63fa\", \"#FFA15A\", \"#19d3f3\", \"#FF6692\", \"#B6E880\", \"#FF97FF\", \"#FECB52\"], \"font\": {\"color\": \"#2a3f5f\"}, \"geo\": {\"bgcolor\": \"white\", \"lakecolor\": \"white\", \"landcolor\": \"#E5ECF6\", \"showlakes\": true, \"showland\": true, \"subunitcolor\": \"white\"}, \"hoverlabel\": {\"align\": \"left\"}, \"hovermode\": \"closest\", \"mapbox\": {\"style\": \"light\"}, \"paper_bgcolor\": \"white\", \"plot_bgcolor\": \"#E5ECF6\", \"polar\": {\"angularaxis\": {\"gridcolor\": \"white\", \"linecolor\": \"white\", \"ticks\": \"\"}, \"bgcolor\": \"#E5ECF6\", \"radialaxis\": {\"gridcolor\": \"white\", \"linecolor\": \"white\", \"ticks\": \"\"}}, \"scene\": {\"xaxis\": {\"backgroundcolor\": \"#E5ECF6\", \"gridcolor\": \"white\", \"gridwidth\": 2, \"linecolor\": \"white\", \"showbackground\": true, \"ticks\": \"\", \"zerolinecolor\": \"white\"}, \"yaxis\": {\"backgroundcolor\": \"#E5ECF6\", \"gridcolor\": \"white\", \"gridwidth\": 2, \"linecolor\": \"white\", \"showbackground\": true, \"ticks\": \"\", \"zerolinecolor\": \"white\"}, \"zaxis\": {\"backgroundcolor\": \"#E5ECF6\", \"gridcolor\": \"white\", \"gridwidth\": 2, \"linecolor\": \"white\", \"showbackground\": true, \"ticks\": \"\", \"zerolinecolor\": \"white\"}}, \"shapedefaults\": {\"line\": {\"color\": \"#2a3f5f\"}}, \"ternary\": {\"aaxis\": {\"gridcolor\": \"white\", \"linecolor\": \"white\", \"ticks\": \"\"}, \"baxis\": {\"gridcolor\": \"white\", \"linecolor\": \"white\", \"ticks\": \"\"}, \"bgcolor\": \"#E5ECF6\", \"caxis\": {\"gridcolor\": \"white\", \"linecolor\": \"white\", \"ticks\": \"\"}}, \"title\": {\"x\": 0.05}, \"xaxis\": {\"automargin\": true, \"gridcolor\": \"white\", \"linecolor\": \"white\", \"ticks\": \"\", \"title\": {\"standoff\": 15}, \"zerolinecolor\": \"white\", \"zerolinewidth\": 2}, \"yaxis\": {\"automargin\": true, \"gridcolor\": \"white\", \"linecolor\": \"white\", \"ticks\": \"\", \"title\": {\"standoff\": 15}, \"zerolinecolor\": \"white\", \"zerolinewidth\": 2}}}, \"updatemenus\": [{\"buttons\": [{\"args\": [null, {\"frame\": {\"duration\": 1000, \"redraw\": false}, \"fromcurrent\": true, \"mode\": \"immediate\", \"transition\": {\"duration\": 500, \"easing\": \"linear\"}}], \"label\": \"&#9654;\", \"method\": \"animate\"}, {\"args\": [[null], {\"frame\": {\"duration\": 0, \"redraw\": false}, \"fromcurrent\": true, \"mode\": \"immediate\", \"transition\": {\"duration\": 0, \"easing\": \"linear\"}}], \"label\": \"&#9724;\", \"method\": \"animate\"}], \"direction\": \"left\", \"pad\": {\"r\": 10, \"t\": 70}, \"showactive\": false, \"type\": \"buttons\", \"x\": 0.1, \"xanchor\": \"right\", \"y\": 0, \"yanchor\": \"top\"}], \"xaxis\": {\"anchor\": \"y\", \"domain\": [0.0, 1.0], \"range\": [0.0, 1.7781512503836434], \"title\": {\"text\": \"Number of Genres\"}, \"type\": \"log\"}, \"yaxis\": {\"anchor\": \"x\", \"domain\": [0.0, 1.0], \"range\": [1, 200], \"title\": {\"text\": \"Games per Platform\"}}},                        {\"responsive\": true}                    ).then(function(){\n",
       "                            Plotly.addFrames('d07e4b1b-f260-4ded-9205-23f79421f258', [{\"data\": [{\"hovertemplate\": \"<b>%{hovertext}</b><br><br>Platform=2600<br>Year=1980<br>Number of Genres=%{x}<br>Games per Platform=%{marker.size}<extra></extra>\", \"hovertext\": [\"Action\", \"Fighting\", \"Misc\", \"Shooter\", \"Sports\"], \"ids\": [\"Action\", \"Fighting\", \"Misc\", \"Shooter\", \"Sports\"], \"legendgroup\": \"2600\", \"marker\": {\"color\": \"#636efa\", \"size\": [9, 9, 9, 9, 9], \"sizemode\": \"area\", \"sizeref\": 0.62, \"symbol\": \"circle\"}, \"mode\": \"markers\", \"name\": \"2600\", \"orientation\": \"v\", \"showlegend\": true, \"x\": [1, 1, 4, 2, 1], \"xaxis\": \"x\", \"y\": [9, 9, 9, 9, 9], \"yaxis\": \"y\", \"type\": \"scatter\"}], \"name\": \"1980\"}, {\"data\": [{\"hovertemplate\": \"<b>%{hovertext}</b><br><br>Platform=2600<br>Year=1981<br>Number of Genres=%{x}<br>Games per Platform=%{marker.size}<extra></extra>\", \"hovertext\": [\"Action\", \"Platform\", \"Puzzle\", \"Racing\", \"Shooter\", \"Simulation\", \"Sports\"], \"ids\": [\"Action\", \"Platform\", \"Puzzle\", \"Racing\", \"Shooter\", \"Simulation\", \"Sports\"], \"legendgroup\": \"2600\", \"marker\": {\"color\": \"#636efa\", \"size\": [46, 46, 46, 46, 46, 46, 46], \"sizemode\": \"area\", \"sizeref\": 0.62, \"symbol\": \"circle\"}, \"mode\": \"markers\", \"name\": \"2600\", \"orientation\": \"v\", \"showlegend\": true, \"x\": [25, 3, 2, 1, 10, 1, 4], \"xaxis\": \"x\", \"y\": [46, 46, 46, 46, 46, 46, 46], \"yaxis\": \"y\", \"type\": \"scatter\"}], \"name\": \"1981\"}, {\"data\": [{\"hovertemplate\": \"<b>%{hovertext}</b><br><br>Platform=2600<br>Year=1982<br>Number of Genres=%{x}<br>Games per Platform=%{marker.size}<extra></extra>\", \"hovertext\": [\"Action\", \"Misc\", \"Platform\", \"Puzzle\", \"Racing\", \"Shooter\", \"Sports\"], \"ids\": [\"Action\", \"Misc\", \"Platform\", \"Puzzle\", \"Racing\", \"Shooter\", \"Sports\"], \"legendgroup\": \"2600\", \"marker\": {\"color\": \"#636efa\", \"size\": [36, 36, 36, 36, 36, 36, 36], \"sizemode\": \"area\", \"sizeref\": 0.62, \"symbol\": \"circle\"}, \"mode\": \"markers\", \"name\": \"2600\", \"orientation\": \"v\", \"showlegend\": true, \"x\": [18, 1, 5, 3, 2, 5, 2], \"xaxis\": \"x\", \"y\": [36, 36, 36, 36, 36, 36, 36], \"yaxis\": \"y\", \"type\": \"scatter\"}], \"name\": \"1982\"}, {\"data\": [{\"hovertemplate\": \"<b>%{hovertext}</b><br><br>Platform=2600<br>Year=1983<br>Number of Genres=%{x}<br>Games per Platform=%{marker.size}<extra></extra>\", \"hovertext\": [\"Action\", \"Adventure\", \"Misc\", \"Platform\", \"Puzzle\", \"Shooter\", \"Sports\"], \"ids\": [\"Action\", \"Adventure\", \"Misc\", \"Platform\", \"Puzzle\", \"Shooter\", \"Sports\"], \"legendgroup\": \"2600\", \"marker\": {\"color\": \"#636efa\", \"size\": [11, 11, 11, 11, 11, 11, 11], \"sizemode\": \"area\", \"sizeref\": 0.62, \"symbol\": \"circle\"}, \"mode\": \"markers\", \"name\": \"2600\", \"orientation\": \"v\", \"showlegend\": true, \"x\": [7, 1, 1, 5, 1, 1, 1], \"xaxis\": \"x\", \"y\": [11, 11, 11, 11, 11, 11, 11], \"yaxis\": \"y\", \"type\": \"scatter\"}, {\"hovertemplate\": \"<b>%{hovertext}</b><br><br>Platform=NES<br>Year=1983<br>Number of Genres=%{x}<br>Games per Platform=%{marker.size}<extra></extra>\", \"hovertext\": [\"Action\", \"Adventure\", \"Misc\", \"Platform\", \"Puzzle\", \"Shooter\", \"Sports\"], \"ids\": [\"Action\", \"Adventure\", \"Misc\", \"Platform\", \"Puzzle\", \"Shooter\", \"Sports\"], \"legendgroup\": \"NES\", \"marker\": {\"color\": \"#EF553B\", \"size\": [6, 6, 6, 6, 6, 6, 6], \"sizemode\": \"area\", \"sizeref\": 0.62, \"symbol\": \"circle\"}, \"mode\": \"markers\", \"name\": \"NES\", \"orientation\": \"v\", \"showlegend\": true, \"x\": [7, 1, 1, 5, 1, 1, 1], \"xaxis\": \"x\", \"y\": [6, 6, 6, 6, 6, 6, 6], \"yaxis\": \"y\", \"type\": \"scatter\"}], \"name\": \"1983\"}, {\"data\": [{\"hovertemplate\": \"<b>%{hovertext}</b><br><br>Platform=2600<br>Year=1984<br>Number of Genres=%{x}<br>Games per Platform=%{marker.size}<extra></extra>\", \"hovertext\": [\"Action\", \"Misc\", \"Platform\", \"Puzzle\", \"Racing\", \"Shooter\", \"Sports\"], \"ids\": [\"Action\", \"Misc\", \"Platform\", \"Puzzle\", \"Racing\", \"Shooter\", \"Sports\"], \"legendgroup\": \"2600\", \"marker\": {\"color\": \"#636efa\", \"size\": [1, 1, 1, 1, 1, 1, 1], \"sizemode\": \"area\", \"sizeref\": 0.62, \"symbol\": \"circle\"}, \"mode\": \"markers\", \"name\": \"2600\", \"orientation\": \"v\", \"showlegend\": true, \"x\": [1, 1, 1, 3, 3, 3, 2], \"xaxis\": \"x\", \"y\": [1, 1, 1, 1, 1, 1, 1], \"yaxis\": \"y\", \"type\": \"scatter\"}, {\"hovertemplate\": \"<b>%{hovertext}</b><br><br>Platform=NES<br>Year=1984<br>Number of Genres=%{x}<br>Games per Platform=%{marker.size}<extra></extra>\", \"hovertext\": [\"Action\", \"Misc\", \"Platform\", \"Puzzle\", \"Racing\", \"Shooter\", \"Sports\"], \"ids\": [\"Action\", \"Misc\", \"Platform\", \"Puzzle\", \"Racing\", \"Shooter\", \"Sports\"], \"legendgroup\": \"NES\", \"marker\": {\"color\": \"#EF553B\", \"size\": [13, 13, 13, 13, 13, 13, 13], \"sizemode\": \"area\", \"sizeref\": 0.62, \"symbol\": \"circle\"}, \"mode\": \"markers\", \"name\": \"NES\", \"orientation\": \"v\", \"showlegend\": true, \"x\": [1, 1, 1, 3, 3, 3, 2], \"xaxis\": \"x\", \"y\": [13, 13, 13, 13, 13, 13, 13], \"yaxis\": \"y\", \"type\": \"scatter\"}], \"name\": \"1984\"}, {\"data\": [{\"hovertemplate\": \"<b>%{hovertext}</b><br><br>Platform=2600<br>Year=1985<br>Number of Genres=%{x}<br>Games per Platform=%{marker.size}<extra></extra>\", \"hovertext\": [\"Action\", \"Fighting\", \"Platform\", \"Puzzle\", \"Shooter\", \"Sports\"], \"ids\": [\"Action\", \"Fighting\", \"Platform\", \"Puzzle\", \"Shooter\", \"Sports\"], \"legendgroup\": \"2600\", \"marker\": {\"color\": \"#636efa\", \"size\": [1, 1, 1, 1, 1, 1], \"sizemode\": \"area\", \"sizeref\": 0.62, \"symbol\": \"circle\"}, \"mode\": \"markers\", \"name\": \"2600\", \"orientation\": \"v\", \"showlegend\": true, \"x\": [1, 1, 4, 4, 1, 1], \"xaxis\": \"x\", \"y\": [1, 1, 1, 1, 1, 1], \"yaxis\": \"y\", \"type\": \"scatter\"}, {\"hovertemplate\": \"<b>%{hovertext}</b><br><br>Platform=NES<br>Year=1985<br>Number of Genres=%{x}<br>Games per Platform=%{marker.size}<extra></extra>\", \"hovertext\": [\"Action\", \"Fighting\", \"Platform\", \"Puzzle\", \"Shooter\", \"Sports\"], \"ids\": [\"Action\", \"Fighting\", \"Platform\", \"Puzzle\", \"Shooter\", \"Sports\"], \"legendgroup\": \"NES\", \"marker\": {\"color\": \"#EF553B\", \"size\": [11, 11, 11, 11, 11, 11], \"sizemode\": \"area\", \"sizeref\": 0.62, \"symbol\": \"circle\"}, \"mode\": \"markers\", \"name\": \"NES\", \"orientation\": \"v\", \"showlegend\": true, \"x\": [1, 1, 4, 4, 1, 1], \"xaxis\": \"x\", \"y\": [11, 11, 11, 11, 11, 11], \"yaxis\": \"y\", \"type\": \"scatter\"}], \"name\": \"1985\"}, {\"data\": [{\"hovertemplate\": \"<b>%{hovertext}</b><br><br>Platform=2600<br>Year=1986<br>Number of Genres=%{x}<br>Games per Platform=%{marker.size}<extra></extra>\", \"hovertext\": [\"Action\", \"Platform\", \"Racing\", \"Role-Playing\", \"Shooter\", \"Sports\"], \"ids\": [\"Action\", \"Platform\", \"Racing\", \"Role-Playing\", \"Shooter\", \"Sports\"], \"legendgroup\": \"2600\", \"marker\": {\"color\": \"#636efa\", \"size\": [2, 2, 2, 2, 2, 2], \"sizemode\": \"area\", \"sizeref\": 0.62, \"symbol\": \"circle\"}, \"mode\": \"markers\", \"name\": \"2600\", \"orientation\": \"v\", \"showlegend\": true, \"x\": [6, 6, 1, 1, 4, 3], \"xaxis\": \"x\", \"y\": [2, 2, 2, 2, 2, 2], \"yaxis\": \"y\", \"type\": \"scatter\"}, {\"hovertemplate\": \"<b>%{hovertext}</b><br><br>Platform=NES<br>Year=1986<br>Number of Genres=%{x}<br>Games per Platform=%{marker.size}<extra></extra>\", \"hovertext\": [\"Action\", \"Platform\", \"Racing\", \"Role-Playing\", \"Shooter\", \"Sports\"], \"ids\": [\"Action\", \"Platform\", \"Racing\", \"Role-Playing\", \"Shooter\", \"Sports\"], \"legendgroup\": \"NES\", \"marker\": {\"color\": \"#EF553B\", \"size\": [19, 19, 19, 19, 19, 19], \"sizemode\": \"area\", \"sizeref\": 0.62, \"symbol\": \"circle\"}, \"mode\": \"markers\", \"name\": \"NES\", \"orientation\": \"v\", \"showlegend\": true, \"x\": [6, 6, 1, 1, 4, 3], \"xaxis\": \"x\", \"y\": [19, 19, 19, 19, 19, 19], \"yaxis\": \"y\", \"type\": \"scatter\"}], \"name\": \"1986\"}, {\"data\": [{\"hovertemplate\": \"<b>%{hovertext}</b><br><br>Platform=2600<br>Year=1987<br>Number of Genres=%{x}<br>Games per Platform=%{marker.size}<extra></extra>\", \"hovertext\": [\"Action\", \"Adventure\", \"Fighting\", \"Platform\", \"Role-Playing\", \"Shooter\", \"Sports\"], \"ids\": [\"Action\", \"Adventure\", \"Fighting\", \"Platform\", \"Role-Playing\", \"Shooter\", \"Sports\"], \"legendgroup\": \"2600\", \"marker\": {\"color\": \"#636efa\", \"size\": [6, 6, 6, 6, 6, 6, 6], \"sizemode\": \"area\", \"sizeref\": 0.62, \"symbol\": \"circle\"}, \"mode\": \"markers\", \"name\": \"2600\", \"orientation\": \"v\", \"showlegend\": true, \"x\": [2, 1, 2, 2, 3, 2, 4], \"xaxis\": \"x\", \"y\": [6, 6, 6, 6, 6, 6, 6], \"yaxis\": \"y\", \"type\": \"scatter\"}, {\"hovertemplate\": \"<b>%{hovertext}</b><br><br>Platform=NES<br>Year=1987<br>Number of Genres=%{x}<br>Games per Platform=%{marker.size}<extra></extra>\", \"hovertext\": [\"Action\", \"Adventure\", \"Fighting\", \"Platform\", \"Role-Playing\", \"Shooter\", \"Sports\"], \"ids\": [\"Action\", \"Adventure\", \"Fighting\", \"Platform\", \"Role-Playing\", \"Shooter\", \"Sports\"], \"legendgroup\": \"NES\", \"marker\": {\"color\": \"#EF553B\", \"size\": [10, 10, 10, 10, 10, 10, 10], \"sizemode\": \"area\", \"sizeref\": 0.62, \"symbol\": \"circle\"}, \"mode\": \"markers\", \"name\": \"NES\", \"orientation\": \"v\", \"showlegend\": true, \"x\": [2, 1, 2, 2, 3, 2, 4], \"xaxis\": \"x\", \"y\": [10, 10, 10, 10, 10, 10, 10], \"yaxis\": \"y\", \"type\": \"scatter\"}], \"name\": \"1987\"}, {\"data\": [{\"hovertemplate\": \"<b>%{hovertext}</b><br><br>Platform=2600<br>Year=1988<br>Number of Genres=%{x}<br>Games per Platform=%{marker.size}<extra></extra>\", \"hovertext\": [\"Action\", \"Platform\", \"Puzzle\", \"Racing\", \"Role-Playing\", \"Shooter\", \"Sports\"], \"ids\": [\"Action\", \"Platform\", \"Puzzle\", \"Racing\", \"Role-Playing\", \"Shooter\", \"Sports\"], \"legendgroup\": \"2600\", \"marker\": {\"color\": \"#636efa\", \"size\": [2, 2, 2, 2, 2, 2, 2], \"sizemode\": \"area\", \"sizeref\": 0.62, \"symbol\": \"circle\"}, \"mode\": \"markers\", \"name\": \"2600\", \"orientation\": \"v\", \"showlegend\": true, \"x\": [2, 3, 1, 1, 3, 1, 2], \"xaxis\": \"x\", \"y\": [2, 2, 2, 2, 2, 2, 2], \"yaxis\": \"y\", \"type\": \"scatter\"}, {\"hovertemplate\": \"<b>%{hovertext}</b><br><br>Platform=NES<br>Year=1988<br>Number of Genres=%{x}<br>Games per Platform=%{marker.size}<extra></extra>\", \"hovertext\": [\"Action\", \"Platform\", \"Puzzle\", \"Racing\", \"Role-Playing\", \"Shooter\", \"Sports\"], \"ids\": [\"Action\", \"Platform\", \"Puzzle\", \"Racing\", \"Role-Playing\", \"Shooter\", \"Sports\"], \"legendgroup\": \"NES\", \"marker\": {\"color\": \"#EF553B\", \"size\": [11, 11, 11, 11, 11, 11, 11], \"sizemode\": \"area\", \"sizeref\": 0.62, \"symbol\": \"circle\"}, \"mode\": \"markers\", \"name\": \"NES\", \"orientation\": \"v\", \"showlegend\": true, \"x\": [2, 3, 1, 1, 3, 1, 2], \"xaxis\": \"x\", \"y\": [11, 11, 11, 11, 11, 11, 11], \"yaxis\": \"y\", \"type\": \"scatter\"}], \"name\": \"1988\"}, {\"data\": [{\"hovertemplate\": \"<b>%{hovertext}</b><br><br>Platform=2600<br>Year=1989<br>Number of Genres=%{x}<br>Games per Platform=%{marker.size}<extra></extra>\", \"hovertext\": [\"Action\", \"Platform\", \"Puzzle\", \"Role-Playing\"], \"ids\": [\"Action\", \"Platform\", \"Puzzle\", \"Role-Playing\"], \"legendgroup\": \"2600\", \"marker\": {\"color\": \"#636efa\", \"size\": [2, 2, 2, 2], \"sizemode\": \"area\", \"sizeref\": 0.62, \"symbol\": \"circle\"}, \"mode\": \"markers\", \"name\": \"2600\", \"orientation\": \"v\", \"showlegend\": true, \"x\": [2, 2, 2, 1], \"xaxis\": \"x\", \"y\": [2, 2, 2, 2], \"yaxis\": \"y\", \"type\": \"scatter\"}, {\"hovertemplate\": \"<b>%{hovertext}</b><br><br>Platform=NES<br>Year=1989<br>Number of Genres=%{x}<br>Games per Platform=%{marker.size}<extra></extra>\", \"hovertext\": [\"Action\", \"Platform\", \"Puzzle\", \"Role-Playing\"], \"ids\": [\"Action\", \"Platform\", \"Puzzle\", \"Role-Playing\"], \"legendgroup\": \"NES\", \"marker\": {\"color\": \"#EF553B\", \"size\": [5, 5, 5, 5], \"sizemode\": \"area\", \"sizeref\": 0.62, \"symbol\": \"circle\"}, \"mode\": \"markers\", \"name\": \"NES\", \"orientation\": \"v\", \"showlegend\": true, \"x\": [2, 2, 2, 1], \"xaxis\": \"x\", \"y\": [5, 5, 5, 5], \"yaxis\": \"y\", \"type\": \"scatter\"}], \"name\": \"1989\"}, {\"data\": [{\"hovertemplate\": \"<b>%{hovertext}</b><br><br>Platform=NES<br>Year=1990<br>Number of Genres=%{x}<br>Games per Platform=%{marker.size}<extra></extra>\", \"hovertext\": [\"Action\", \"Platform\", \"Puzzle\", \"Racing\", \"Role-Playing\", \"Simulation\", \"Sports\"], \"ids\": [\"Action\", \"Platform\", \"Puzzle\", \"Racing\", \"Role-Playing\", \"Simulation\", \"Sports\"], \"legendgroup\": \"NES\", \"marker\": {\"color\": \"#EF553B\", \"size\": [8, 8, 8, 8, 8, 8, 8], \"sizemode\": \"area\", \"sizeref\": 0.62, \"symbol\": \"circle\"}, \"mode\": \"markers\", \"name\": \"NES\", \"orientation\": \"v\", \"showlegend\": true, \"x\": [3, 3, 1, 1, 2, 1, 2], \"xaxis\": \"x\", \"y\": [8, 8, 8, 8, 8, 8, 8], \"yaxis\": \"y\", \"type\": \"scatter\"}, {\"hovertemplate\": \"<b>%{hovertext}</b><br><br>Platform=GEN<br>Year=1990<br>Number of Genres=%{x}<br>Games per Platform=%{marker.size}<extra></extra>\", \"hovertext\": [\"Action\", \"Platform\", \"Puzzle\", \"Racing\", \"Role-Playing\", \"Simulation\", \"Sports\"], \"ids\": [\"Action\", \"Platform\", \"Puzzle\", \"Racing\", \"Role-Playing\", \"Simulation\", \"Sports\"], \"legendgroup\": \"GEN\", \"marker\": {\"color\": \"#00cc96\", \"size\": [1, 1, 1, 1, 1, 1, 1], \"sizemode\": \"area\", \"sizeref\": 0.62, \"symbol\": \"circle\"}, \"mode\": \"markers\", \"name\": \"GEN\", \"orientation\": \"v\", \"showlegend\": true, \"x\": [3, 3, 1, 1, 2, 1, 2], \"xaxis\": \"x\", \"y\": [1, 1, 1, 1, 1, 1, 1], \"yaxis\": \"y\", \"type\": \"scatter\"}, {\"hovertemplate\": \"<b>%{hovertext}</b><br><br>Platform=SNES<br>Year=1990<br>Number of Genres=%{x}<br>Games per Platform=%{marker.size}<extra></extra>\", \"hovertext\": [\"Action\", \"Platform\", \"Puzzle\", \"Racing\", \"Role-Playing\", \"Simulation\", \"Sports\"], \"ids\": [\"Action\", \"Platform\", \"Puzzle\", \"Racing\", \"Role-Playing\", \"Simulation\", \"Sports\"], \"legendgroup\": \"SNES\", \"marker\": {\"color\": \"#ab63fa\", \"size\": [4, 4, 4, 4, 4, 4, 4], \"sizemode\": \"area\", \"sizeref\": 0.62, \"symbol\": \"circle\"}, \"mode\": \"markers\", \"name\": \"SNES\", \"orientation\": \"v\", \"showlegend\": true, \"x\": [3, 3, 1, 1, 2, 1, 2], \"xaxis\": \"x\", \"y\": [4, 4, 4, 4, 4, 4, 4], \"yaxis\": \"y\", \"type\": \"scatter\"}], \"name\": \"1990\"}, {\"data\": [{\"hovertemplate\": \"<b>%{hovertext}</b><br><br>Platform=NES<br>Year=1991<br>Number of Genres=%{x}<br>Games per Platform=%{marker.size}<extra></extra>\", \"hovertext\": [\"Action\", \"Adventure\", \"Fighting\", \"Misc\", \"Platform\", \"Puzzle\", \"Role-Playing\", \"Shooter\", \"Simulation\", \"Sports\", \"Strategy\"], \"ids\": [\"Action\", \"Adventure\", \"Fighting\", \"Misc\", \"Platform\", \"Puzzle\", \"Role-Playing\", \"Shooter\", \"Simulation\", \"Sports\", \"Strategy\"], \"legendgroup\": \"NES\", \"marker\": {\"color\": \"#EF553B\", \"size\": [7, 7, 7, 7, 7, 7, 7, 7, 7, 7, 7], \"sizemode\": \"area\", \"sizeref\": 0.62, \"symbol\": \"circle\"}, \"mode\": \"markers\", \"name\": \"NES\", \"orientation\": \"v\", \"showlegend\": true, \"x\": [4, 1, 1, 1, 4, 3, 3, 3, 2, 7, 3], \"xaxis\": \"x\", \"y\": [7, 7, 7, 7, 7, 7, 7, 7, 7, 7, 7], \"yaxis\": \"y\", \"type\": \"scatter\"}, {\"hovertemplate\": \"<b>%{hovertext}</b><br><br>Platform=GEN<br>Year=1991<br>Number of Genres=%{x}<br>Games per Platform=%{marker.size}<extra></extra>\", \"hovertext\": [\"Action\", \"Adventure\", \"Fighting\", \"Misc\", \"Platform\", \"Puzzle\", \"Role-Playing\", \"Shooter\", \"Simulation\", \"Sports\", \"Strategy\"], \"ids\": [\"Action\", \"Adventure\", \"Fighting\", \"Misc\", \"Platform\", \"Puzzle\", \"Role-Playing\", \"Shooter\", \"Simulation\", \"Sports\", \"Strategy\"], \"legendgroup\": \"GEN\", \"marker\": {\"color\": \"#00cc96\", \"size\": [1, 1, 1, 1, 1, 1, 1, 1, 1, 1, 1], \"sizemode\": \"area\", \"sizeref\": 0.62, \"symbol\": \"circle\"}, \"mode\": \"markers\", \"name\": \"GEN\", \"orientation\": \"v\", \"showlegend\": true, \"x\": [4, 1, 1, 1, 4, 3, 3, 3, 2, 7, 3], \"xaxis\": \"x\", \"y\": [1, 1, 1, 1, 1, 1, 1, 1, 1, 1, 1], \"yaxis\": \"y\", \"type\": \"scatter\"}, {\"hovertemplate\": \"<b>%{hovertext}</b><br><br>Platform=SNES<br>Year=1991<br>Number of Genres=%{x}<br>Games per Platform=%{marker.size}<extra></extra>\", \"hovertext\": [\"Action\", \"Adventure\", \"Fighting\", \"Misc\", \"Platform\", \"Puzzle\", \"Role-Playing\", \"Shooter\", \"Simulation\", \"Sports\", \"Strategy\"], \"ids\": [\"Action\", \"Adventure\", \"Fighting\", \"Misc\", \"Platform\", \"Puzzle\", \"Role-Playing\", \"Shooter\", \"Simulation\", \"Sports\", \"Strategy\"], \"legendgroup\": \"SNES\", \"marker\": {\"color\": \"#ab63fa\", \"size\": [24, 24, 24, 24, 24, 24, 24, 24, 24, 24, 24], \"sizemode\": \"area\", \"sizeref\": 0.62, \"symbol\": \"circle\"}, \"mode\": \"markers\", \"name\": \"SNES\", \"orientation\": \"v\", \"showlegend\": true, \"x\": [4, 1, 1, 1, 4, 3, 3, 3, 2, 7, 3], \"xaxis\": \"x\", \"y\": [24, 24, 24, 24, 24, 24, 24, 24, 24, 24, 24], \"yaxis\": \"y\", \"type\": \"scatter\"}], \"name\": \"1991\"}, {\"data\": [{\"hovertemplate\": \"<b>%{hovertext}</b><br><br>Platform=NES<br>Year=1992<br>Number of Genres=%{x}<br>Games per Platform=%{marker.size}<extra></extra>\", \"hovertext\": [\"Adventure\", \"Fighting\", \"Misc\", \"Platform\", \"Puzzle\", \"Racing\", \"Role-Playing\", \"Shooter\", \"Sports\", \"Strategy\"], \"ids\": [\"Adventure\", \"Fighting\", \"Misc\", \"Platform\", \"Puzzle\", \"Racing\", \"Role-Playing\", \"Shooter\", \"Sports\", \"Strategy\"], \"legendgroup\": \"NES\", \"marker\": {\"color\": \"#EF553B\", \"size\": [3, 3, 3, 3, 3, 3, 3, 3, 3, 3], \"sizemode\": \"area\", \"sizeref\": 0.62, \"symbol\": \"circle\"}, \"mode\": \"markers\", \"name\": \"NES\", \"orientation\": \"v\", \"showlegend\": true, \"x\": [2, 7, 1, 4, 2, 2, 5, 2, 4, 1], \"xaxis\": \"x\", \"y\": [3, 3, 3, 3, 3, 3, 3, 3, 3, 3], \"yaxis\": \"y\", \"type\": \"scatter\"}, {\"hovertemplate\": \"<b>%{hovertext}</b><br><br>Platform=GEN<br>Year=1992<br>Number of Genres=%{x}<br>Games per Platform=%{marker.size}<extra></extra>\", \"hovertext\": [\"Adventure\", \"Fighting\", \"Misc\", \"Platform\", \"Puzzle\", \"Racing\", \"Role-Playing\", \"Shooter\", \"Sports\", \"Strategy\"], \"ids\": [\"Adventure\", \"Fighting\", \"Misc\", \"Platform\", \"Puzzle\", \"Racing\", \"Role-Playing\", \"Shooter\", \"Sports\", \"Strategy\"], \"legendgroup\": \"GEN\", \"marker\": {\"color\": \"#00cc96\", \"size\": [6, 6, 6, 6, 6, 6, 6, 6, 6, 6], \"sizemode\": \"area\", \"sizeref\": 0.62, \"symbol\": \"circle\"}, \"mode\": \"markers\", \"name\": \"GEN\", \"orientation\": \"v\", \"showlegend\": true, \"x\": [2, 7, 1, 4, 2, 2, 5, 2, 4, 1], \"xaxis\": \"x\", \"y\": [6, 6, 6, 6, 6, 6, 6, 6, 6, 6], \"yaxis\": \"y\", \"type\": \"scatter\"}, {\"hovertemplate\": \"<b>%{hovertext}</b><br><br>Platform=SNES<br>Year=1992<br>Number of Genres=%{x}<br>Games per Platform=%{marker.size}<extra></extra>\", \"hovertext\": [\"Adventure\", \"Fighting\", \"Misc\", \"Platform\", \"Puzzle\", \"Racing\", \"Role-Playing\", \"Shooter\", \"Sports\", \"Strategy\"], \"ids\": [\"Adventure\", \"Fighting\", \"Misc\", \"Platform\", \"Puzzle\", \"Racing\", \"Role-Playing\", \"Shooter\", \"Sports\", \"Strategy\"], \"legendgroup\": \"SNES\", \"marker\": {\"color\": \"#ab63fa\", \"size\": [21, 21, 21, 21, 21, 21, 21, 21, 21, 21], \"sizemode\": \"area\", \"sizeref\": 0.62, \"symbol\": \"circle\"}, \"mode\": \"markers\", \"name\": \"SNES\", \"orientation\": \"v\", \"showlegend\": true, \"x\": [2, 7, 1, 4, 2, 2, 5, 2, 4, 1], \"xaxis\": \"x\", \"y\": [21, 21, 21, 21, 21, 21, 21, 21, 21, 21], \"yaxis\": \"y\", \"type\": \"scatter\"}], \"name\": \"1992\"}, {\"data\": [{\"hovertemplate\": \"<b>%{hovertext}</b><br><br>Platform=NES<br>Year=1993<br>Number of Genres=%{x}<br>Games per Platform=%{marker.size}<extra></extra>\", \"hovertext\": [\"Action\", \"Adventure\", \"Fighting\", \"Misc\", \"Platform\", \"Puzzle\", \"Racing\", \"Role-Playing\", \"Shooter\", \"Simulation\", \"Sports\", \"Strategy\"], \"ids\": [\"Action\", \"Adventure\", \"Fighting\", \"Misc\", \"Platform\", \"Puzzle\", \"Racing\", \"Role-Playing\", \"Shooter\", \"Simulation\", \"Sports\", \"Strategy\"], \"legendgroup\": \"NES\", \"marker\": {\"color\": \"#EF553B\", \"size\": [4, 4, 4, 4, 4, 4, 4, 4, 4, 4, 4, 4], \"sizemode\": \"area\", \"sizeref\": 0.62, \"symbol\": \"circle\"}, \"mode\": \"markers\", \"name\": \"NES\", \"orientation\": \"v\", \"showlegend\": true, \"x\": [6, 1, 9, 3, 11, 3, 2, 9, 2, 1, 9, 2], \"xaxis\": \"x\", \"y\": [4, 4, 4, 4, 4, 4, 4, 4, 4, 4, 4, 4], \"yaxis\": \"y\", \"type\": \"scatter\"}, {\"hovertemplate\": \"<b>%{hovertext}</b><br><br>Platform=GEN<br>Year=1993<br>Number of Genres=%{x}<br>Games per Platform=%{marker.size}<extra></extra>\", \"hovertext\": [\"Action\", \"Adventure\", \"Fighting\", \"Misc\", \"Platform\", \"Puzzle\", \"Racing\", \"Role-Playing\", \"Shooter\", \"Simulation\", \"Sports\", \"Strategy\"], \"ids\": [\"Action\", \"Adventure\", \"Fighting\", \"Misc\", \"Platform\", \"Puzzle\", \"Racing\", \"Role-Playing\", \"Shooter\", \"Simulation\", \"Sports\", \"Strategy\"], \"legendgroup\": \"GEN\", \"marker\": {\"color\": \"#00cc96\", \"size\": [7, 7, 7, 7, 7, 7, 7, 7, 7, 7, 7, 7], \"sizemode\": \"area\", \"sizeref\": 0.62, \"symbol\": \"circle\"}, \"mode\": \"markers\", \"name\": \"GEN\", \"orientation\": \"v\", \"showlegend\": true, \"x\": [6, 1, 9, 3, 11, 3, 2, 9, 2, 1, 9, 2], \"xaxis\": \"x\", \"y\": [7, 7, 7, 7, 7, 7, 7, 7, 7, 7, 7, 7], \"yaxis\": \"y\", \"type\": \"scatter\"}, {\"hovertemplate\": \"<b>%{hovertext}</b><br><br>Platform=SNES<br>Year=1993<br>Number of Genres=%{x}<br>Games per Platform=%{marker.size}<extra></extra>\", \"hovertext\": [\"Action\", \"Adventure\", \"Fighting\", \"Misc\", \"Platform\", \"Puzzle\", \"Racing\", \"Role-Playing\", \"Shooter\", \"Simulation\", \"Sports\", \"Strategy\"], \"ids\": [\"Action\", \"Adventure\", \"Fighting\", \"Misc\", \"Platform\", \"Puzzle\", \"Racing\", \"Role-Playing\", \"Shooter\", \"Simulation\", \"Sports\", \"Strategy\"], \"legendgroup\": \"SNES\", \"marker\": {\"color\": \"#ab63fa\", \"size\": [46, 46, 46, 46, 46, 46, 46, 46, 46, 46, 46, 46], \"sizemode\": \"area\", \"sizeref\": 0.62, \"symbol\": \"circle\"}, \"mode\": \"markers\", \"name\": \"SNES\", \"orientation\": \"v\", \"showlegend\": true, \"x\": [6, 1, 9, 3, 11, 3, 2, 9, 2, 1, 9, 2], \"xaxis\": \"x\", \"y\": [46, 46, 46, 46, 46, 46, 46, 46, 46, 46, 46, 46], \"yaxis\": \"y\", \"type\": \"scatter\"}, {\"hovertemplate\": \"<b>%{hovertext}</b><br><br>Platform=SCD<br>Year=1993<br>Number of Genres=%{x}<br>Games per Platform=%{marker.size}<extra></extra>\", \"hovertext\": [\"Action\", \"Adventure\", \"Fighting\", \"Misc\", \"Platform\", \"Puzzle\", \"Racing\", \"Role-Playing\", \"Shooter\", \"Simulation\", \"Sports\", \"Strategy\"], \"ids\": [\"Action\", \"Adventure\", \"Fighting\", \"Misc\", \"Platform\", \"Puzzle\", \"Racing\", \"Role-Playing\", \"Shooter\", \"Simulation\", \"Sports\", \"Strategy\"], \"legendgroup\": \"SCD\", \"marker\": {\"color\": \"#FFA15A\", \"size\": [1, 1, 1, 1, 1, 1, 1, 1, 1, 1, 1, 1], \"sizemode\": \"area\", \"sizeref\": 0.62, \"symbol\": \"circle\"}, \"mode\": \"markers\", \"name\": \"SCD\", \"orientation\": \"v\", \"showlegend\": true, \"x\": [6, 1, 9, 3, 11, 3, 2, 9, 2, 1, 9, 2], \"xaxis\": \"x\", \"y\": [1, 1, 1, 1, 1, 1, 1, 1, 1, 1, 1, 1], \"yaxis\": \"y\", \"type\": \"scatter\"}], \"name\": \"1993\"}, {\"data\": [{\"hovertemplate\": \"<b>%{hovertext}</b><br><br>Platform=NES<br>Year=1994<br>Number of Genres=%{x}<br>Games per Platform=%{marker.size}<extra></extra>\", \"hovertext\": [\"Action\", \"Adventure\", \"Fighting\", \"Misc\", \"Platform\", \"Puzzle\", \"Racing\", \"Role-Playing\", \"Shooter\", \"Simulation\", \"Sports\", \"Strategy\"], \"ids\": [\"Action\", \"Adventure\", \"Fighting\", \"Misc\", \"Platform\", \"Puzzle\", \"Racing\", \"Role-Playing\", \"Shooter\", \"Simulation\", \"Sports\", \"Strategy\"], \"legendgroup\": \"NES\", \"marker\": {\"color\": \"#EF553B\", \"size\": [1, 1, 1, 1, 1, 1, 1, 1, 1, 1, 1, 1], \"sizemode\": \"area\", \"sizeref\": 0.62, \"symbol\": \"circle\"}, \"mode\": \"markers\", \"name\": \"NES\", \"orientation\": \"v\", \"showlegend\": true, \"x\": [4, 3, 17, 5, 8, 2, 8, 17, 9, 7, 22, 5], \"xaxis\": \"x\", \"y\": [1, 1, 1, 1, 1, 1, 1, 1, 1, 1, 1, 1], \"yaxis\": \"y\", \"type\": \"scatter\"}, {\"hovertemplate\": \"<b>%{hovertext}</b><br><br>Platform=GEN<br>Year=1994<br>Number of Genres=%{x}<br>Games per Platform=%{marker.size}<extra></extra>\", \"hovertext\": [\"Action\", \"Adventure\", \"Fighting\", \"Misc\", \"Platform\", \"Puzzle\", \"Racing\", \"Role-Playing\", \"Shooter\", \"Simulation\", \"Sports\", \"Strategy\"], \"ids\": [\"Action\", \"Adventure\", \"Fighting\", \"Misc\", \"Platform\", \"Puzzle\", \"Racing\", \"Role-Playing\", \"Shooter\", \"Simulation\", \"Sports\", \"Strategy\"], \"legendgroup\": \"GEN\", \"marker\": {\"color\": \"#00cc96\", \"size\": [12, 12, 12, 12, 12, 12, 12, 12, 12, 12, 12, 12], \"sizemode\": \"area\", \"sizeref\": 0.62, \"symbol\": \"circle\"}, \"mode\": \"markers\", \"name\": \"GEN\", \"orientation\": \"v\", \"showlegend\": true, \"x\": [4, 3, 17, 5, 8, 2, 8, 17, 9, 7, 22, 5], \"xaxis\": \"x\", \"y\": [12, 12, 12, 12, 12, 12, 12, 12, 12, 12, 12, 12], \"yaxis\": \"y\", \"type\": \"scatter\"}, {\"hovertemplate\": \"<b>%{hovertext}</b><br><br>Platform=SNES<br>Year=1994<br>Number of Genres=%{x}<br>Games per Platform=%{marker.size}<extra></extra>\", \"hovertext\": [\"Action\", \"Adventure\", \"Fighting\", \"Misc\", \"Platform\", \"Puzzle\", \"Racing\", \"Role-Playing\", \"Shooter\", \"Simulation\", \"Sports\", \"Strategy\"], \"ids\": [\"Action\", \"Adventure\", \"Fighting\", \"Misc\", \"Platform\", \"Puzzle\", \"Racing\", \"Role-Playing\", \"Shooter\", \"Simulation\", \"Sports\", \"Strategy\"], \"legendgroup\": \"SNES\", \"marker\": {\"color\": \"#ab63fa\", \"size\": [53, 53, 53, 53, 53, 53, 53, 53, 53, 53, 53, 53], \"sizemode\": \"area\", \"sizeref\": 0.62, \"symbol\": \"circle\"}, \"mode\": \"markers\", \"name\": \"SNES\", \"orientation\": \"v\", \"showlegend\": true, \"x\": [4, 3, 17, 5, 8, 2, 8, 17, 9, 7, 22, 5], \"xaxis\": \"x\", \"y\": [53, 53, 53, 53, 53, 53, 53, 53, 53, 53, 53, 53], \"yaxis\": \"y\", \"type\": \"scatter\"}, {\"hovertemplate\": \"<b>%{hovertext}</b><br><br>Platform=SCD<br>Year=1994<br>Number of Genres=%{x}<br>Games per Platform=%{marker.size}<extra></extra>\", \"hovertext\": [\"Action\", \"Adventure\", \"Fighting\", \"Misc\", \"Platform\", \"Puzzle\", \"Racing\", \"Role-Playing\", \"Shooter\", \"Simulation\", \"Sports\", \"Strategy\"], \"ids\": [\"Action\", \"Adventure\", \"Fighting\", \"Misc\", \"Platform\", \"Puzzle\", \"Racing\", \"Role-Playing\", \"Shooter\", \"Simulation\", \"Sports\", \"Strategy\"], \"legendgroup\": \"SCD\", \"marker\": {\"color\": \"#FFA15A\", \"size\": [5, 5, 5, 5, 5, 5, 5, 5, 5, 5, 5, 5], \"sizemode\": \"area\", \"sizeref\": 0.62, \"symbol\": \"circle\"}, \"mode\": \"markers\", \"name\": \"SCD\", \"orientation\": \"v\", \"showlegend\": true, \"x\": [4, 3, 17, 5, 8, 2, 8, 17, 9, 7, 22, 5], \"xaxis\": \"x\", \"y\": [5, 5, 5, 5, 5, 5, 5, 5, 5, 5, 5, 5], \"yaxis\": \"y\", \"type\": \"scatter\"}, {\"hovertemplate\": \"<b>%{hovertext}</b><br><br>Platform=PS<br>Year=1994<br>Number of Genres=%{x}<br>Games per Platform=%{marker.size}<extra></extra>\", \"hovertext\": [\"Action\", \"Adventure\", \"Fighting\", \"Misc\", \"Platform\", \"Puzzle\", \"Racing\", \"Role-Playing\", \"Shooter\", \"Simulation\", \"Sports\", \"Strategy\"], \"ids\": [\"Action\", \"Adventure\", \"Fighting\", \"Misc\", \"Platform\", \"Puzzle\", \"Racing\", \"Role-Playing\", \"Shooter\", \"Simulation\", \"Sports\", \"Strategy\"], \"legendgroup\": \"PS\", \"marker\": {\"color\": \"#19d3f3\", \"size\": [17, 17, 17, 17, 17, 17, 17, 17, 17, 17, 17, 17], \"sizemode\": \"area\", \"sizeref\": 0.62, \"symbol\": \"circle\"}, \"mode\": \"markers\", \"name\": \"PS\", \"orientation\": \"v\", \"showlegend\": true, \"x\": [4, 3, 17, 5, 8, 2, 8, 17, 9, 7, 22, 5], \"xaxis\": \"x\", \"y\": [17, 17, 17, 17, 17, 17, 17, 17, 17, 17, 17, 17], \"yaxis\": \"y\", \"type\": \"scatter\"}, {\"hovertemplate\": \"<b>%{hovertext}</b><br><br>Platform=SAT<br>Year=1994<br>Number of Genres=%{x}<br>Games per Platform=%{marker.size}<extra></extra>\", \"hovertext\": [\"Action\", \"Adventure\", \"Fighting\", \"Misc\", \"Platform\", \"Puzzle\", \"Racing\", \"Role-Playing\", \"Shooter\", \"Simulation\", \"Sports\", \"Strategy\"], \"ids\": [\"Action\", \"Adventure\", \"Fighting\", \"Misc\", \"Platform\", \"Puzzle\", \"Racing\", \"Role-Playing\", \"Shooter\", \"Simulation\", \"Sports\", \"Strategy\"], \"legendgroup\": \"SAT\", \"marker\": {\"color\": \"#FF6692\", \"size\": [19, 19, 19, 19, 19, 19, 19, 19, 19, 19, 19, 19], \"sizemode\": \"area\", \"sizeref\": 0.62, \"symbol\": \"circle\"}, \"mode\": \"markers\", \"name\": \"SAT\", \"orientation\": \"v\", \"showlegend\": true, \"x\": [4, 3, 17, 5, 8, 2, 8, 17, 9, 7, 22, 5], \"xaxis\": \"x\", \"y\": [19, 19, 19, 19, 19, 19, 19, 19, 19, 19, 19, 19], \"yaxis\": \"y\", \"type\": \"scatter\"}], \"name\": \"1994\"}, {\"data\": [{\"hovertemplate\": \"<b>%{hovertext}</b><br><br>Platform=SNES<br>Year=1996<br>Number of Genres=%{x}<br>Games per Platform=%{marker.size}<extra></extra>\", \"hovertext\": [\"Action\", \"Adventure\", \"Fighting\", \"Misc\", \"Platform\", \"Puzzle\", \"Racing\", \"Role-Playing\", \"Shooter\", \"Simulation\", \"Sports\", \"Strategy\"], \"ids\": [\"Action\", \"Adventure\", \"Fighting\", \"Misc\", \"Platform\", \"Puzzle\", \"Racing\", \"Role-Playing\", \"Shooter\", \"Simulation\", \"Sports\", \"Strategy\"], \"legendgroup\": \"SNES\", \"marker\": {\"color\": \"#ab63fa\", \"size\": [30, 30, 30, 30, 30, 30, 30, 30, 30, 30, 30, 30], \"sizemode\": \"area\", \"sizeref\": 0.62, \"symbol\": \"circle\"}, \"mode\": \"markers\", \"name\": \"SNES\", \"orientation\": \"v\", \"showlegend\": true, \"x\": [19, 17, 28, 23, 13, 7, 22, 24, 23, 11, 52, 11], \"xaxis\": \"x\", \"y\": [30, 30, 30, 30, 30, 30, 30, 30, 30, 30, 30, 30], \"yaxis\": \"y\", \"type\": \"scatter\"}, {\"hovertemplate\": \"<b>%{hovertext}</b><br><br>Platform=PS<br>Year=1996<br>Number of Genres=%{x}<br>Games per Platform=%{marker.size}<extra></extra>\", \"hovertext\": [\"Action\", \"Adventure\", \"Fighting\", \"Misc\", \"Platform\", \"Puzzle\", \"Racing\", \"Role-Playing\", \"Shooter\", \"Simulation\", \"Sports\", \"Strategy\"], \"ids\": [\"Action\", \"Adventure\", \"Fighting\", \"Misc\", \"Platform\", \"Puzzle\", \"Racing\", \"Role-Playing\", \"Shooter\", \"Simulation\", \"Sports\", \"Strategy\"], \"legendgroup\": \"PS\", \"marker\": {\"color\": \"#19d3f3\", \"size\": [164, 164, 164, 164, 164, 164, 164, 164, 164, 164, 164, 164], \"sizemode\": \"area\", \"sizeref\": 0.62, \"symbol\": \"circle\"}, \"mode\": \"markers\", \"name\": \"PS\", \"orientation\": \"v\", \"showlegend\": true, \"x\": [19, 17, 28, 23, 13, 7, 22, 24, 23, 11, 52, 11], \"xaxis\": \"x\", \"y\": [164, 164, 164, 164, 164, 164, 164, 164, 164, 164, 164, 164], \"yaxis\": \"y\", \"type\": \"scatter\"}, {\"hovertemplate\": \"<b>%{hovertext}</b><br><br>Platform=SAT<br>Year=1996<br>Number of Genres=%{x}<br>Games per Platform=%{marker.size}<extra></extra>\", \"hovertext\": [\"Action\", \"Adventure\", \"Fighting\", \"Misc\", \"Platform\", \"Puzzle\", \"Racing\", \"Role-Playing\", \"Shooter\", \"Simulation\", \"Sports\", \"Strategy\"], \"ids\": [\"Action\", \"Adventure\", \"Fighting\", \"Misc\", \"Platform\", \"Puzzle\", \"Racing\", \"Role-Playing\", \"Shooter\", \"Simulation\", \"Sports\", \"Strategy\"], \"legendgroup\": \"SAT\", \"marker\": {\"color\": \"#FF6692\", \"size\": [38, 38, 38, 38, 38, 38, 38, 38, 38, 38, 38, 38], \"sizemode\": \"area\", \"sizeref\": 0.62, \"symbol\": \"circle\"}, \"mode\": \"markers\", \"name\": \"SAT\", \"orientation\": \"v\", \"showlegend\": true, \"x\": [19, 17, 28, 23, 13, 7, 22, 24, 23, 11, 52, 11], \"xaxis\": \"x\", \"y\": [38, 38, 38, 38, 38, 38, 38, 38, 38, 38, 38, 38], \"yaxis\": \"y\", \"type\": \"scatter\"}, {\"hovertemplate\": \"<b>%{hovertext}</b><br><br>Platform=N64<br>Year=1996<br>Number of Genres=%{x}<br>Games per Platform=%{marker.size}<extra></extra>\", \"hovertext\": [\"Action\", \"Adventure\", \"Fighting\", \"Misc\", \"Platform\", \"Puzzle\", \"Racing\", \"Role-Playing\", \"Shooter\", \"Simulation\", \"Sports\", \"Strategy\"], \"ids\": [\"Action\", \"Adventure\", \"Fighting\", \"Misc\", \"Platform\", \"Puzzle\", \"Racing\", \"Role-Playing\", \"Shooter\", \"Simulation\", \"Sports\", \"Strategy\"], \"legendgroup\": \"N64\", \"marker\": {\"color\": \"#B6E880\", \"size\": [18, 18, 18, 18, 18, 18, 18, 18, 18, 18, 18, 18], \"sizemode\": \"area\", \"sizeref\": 0.62, \"symbol\": \"circle\"}, \"mode\": \"markers\", \"name\": \"N64\", \"orientation\": \"v\", \"showlegend\": true, \"x\": [19, 17, 28, 23, 13, 7, 22, 24, 23, 11, 52, 11], \"xaxis\": \"x\", \"y\": [18, 18, 18, 18, 18, 18, 18, 18, 18, 18, 18, 18], \"yaxis\": \"y\", \"type\": \"scatter\"}], \"name\": \"1996\"}, {\"data\": [{\"hovertemplate\": \"<b>%{hovertext}</b><br><br>Platform=SNES<br>Year=1997<br>Number of Genres=%{x}<br>Games per Platform=%{marker.size}<extra></extra>\", \"hovertext\": [\"Action\", \"Adventure\", \"Fighting\", \"Misc\", \"Platform\", \"Puzzle\", \"Racing\", \"Role-Playing\", \"Shooter\", \"Simulation\", \"Sports\", \"Strategy\"], \"ids\": [\"Action\", \"Adventure\", \"Fighting\", \"Misc\", \"Platform\", \"Puzzle\", \"Racing\", \"Role-Playing\", \"Shooter\", \"Simulation\", \"Sports\", \"Strategy\"], \"legendgroup\": \"SNES\", \"marker\": {\"color\": \"#ab63fa\", \"size\": [4, 4, 4, 4, 4, 4, 4, 4, 4, 4, 4, 4], \"sizemode\": \"area\", \"sizeref\": 0.62, \"symbol\": \"circle\"}, \"mode\": \"markers\", \"name\": \"SNES\", \"orientation\": \"v\", \"showlegend\": true, \"x\": [30, 13, 28, 10, 17, 13, 35, 22, 26, 17, 46, 18], \"xaxis\": \"x\", \"y\": [4, 4, 4, 4, 4, 4, 4, 4, 4, 4, 4, 4], \"yaxis\": \"y\", \"type\": \"scatter\"}, {\"hovertemplate\": \"<b>%{hovertext}</b><br><br>Platform=PS<br>Year=1997<br>Number of Genres=%{x}<br>Games per Platform=%{marker.size}<extra></extra>\", \"hovertext\": [\"Action\", \"Adventure\", \"Fighting\", \"Misc\", \"Platform\", \"Puzzle\", \"Racing\", \"Role-Playing\", \"Shooter\", \"Simulation\", \"Sports\", \"Strategy\"], \"ids\": [\"Action\", \"Adventure\", \"Fighting\", \"Misc\", \"Platform\", \"Puzzle\", \"Racing\", \"Role-Playing\", \"Shooter\", \"Simulation\", \"Sports\", \"Strategy\"], \"legendgroup\": \"PS\", \"marker\": {\"color\": \"#19d3f3\", \"size\": [188, 188, 188, 188, 188, 188, 188, 188, 188, 188, 188, 188], \"sizemode\": \"area\", \"sizeref\": 0.62, \"symbol\": \"circle\"}, \"mode\": \"markers\", \"name\": \"PS\", \"orientation\": \"v\", \"showlegend\": true, \"x\": [30, 13, 28, 10, 17, 13, 35, 22, 26, 17, 46, 18], \"xaxis\": \"x\", \"y\": [188, 188, 188, 188, 188, 188, 188, 188, 188, 188, 188, 188], \"yaxis\": \"y\", \"type\": \"scatter\"}, {\"hovertemplate\": \"<b>%{hovertext}</b><br><br>Platform=SAT<br>Year=1997<br>Number of Genres=%{x}<br>Games per Platform=%{marker.size}<extra></extra>\", \"hovertext\": [\"Action\", \"Adventure\", \"Fighting\", \"Misc\", \"Platform\", \"Puzzle\", \"Racing\", \"Role-Playing\", \"Shooter\", \"Simulation\", \"Sports\", \"Strategy\"], \"ids\": [\"Action\", \"Adventure\", \"Fighting\", \"Misc\", \"Platform\", \"Puzzle\", \"Racing\", \"Role-Playing\", \"Shooter\", \"Simulation\", \"Sports\", \"Strategy\"], \"legendgroup\": \"SAT\", \"marker\": {\"color\": \"#FF6692\", \"size\": [34, 34, 34, 34, 34, 34, 34, 34, 34, 34, 34, 34], \"sizemode\": \"area\", \"sizeref\": 0.62, \"symbol\": \"circle\"}, \"mode\": \"markers\", \"name\": \"SAT\", \"orientation\": \"v\", \"showlegend\": true, \"x\": [30, 13, 28, 10, 17, 13, 35, 22, 26, 17, 46, 18], \"xaxis\": \"x\", \"y\": [34, 34, 34, 34, 34, 34, 34, 34, 34, 34, 34, 34], \"yaxis\": \"y\", \"type\": \"scatter\"}, {\"hovertemplate\": \"<b>%{hovertext}</b><br><br>Platform=N64<br>Year=1997<br>Number of Genres=%{x}<br>Games per Platform=%{marker.size}<extra></extra>\", \"hovertext\": [\"Action\", \"Adventure\", \"Fighting\", \"Misc\", \"Platform\", \"Puzzle\", \"Racing\", \"Role-Playing\", \"Shooter\", \"Simulation\", \"Sports\", \"Strategy\"], \"ids\": [\"Action\", \"Adventure\", \"Fighting\", \"Misc\", \"Platform\", \"Puzzle\", \"Racing\", \"Role-Playing\", \"Shooter\", \"Simulation\", \"Sports\", \"Strategy\"], \"legendgroup\": \"N64\", \"marker\": {\"color\": \"#B6E880\", \"size\": [49, 49, 49, 49, 49, 49, 49, 49, 49, 49, 49, 49], \"sizemode\": \"area\", \"sizeref\": 0.62, \"symbol\": \"circle\"}, \"mode\": \"markers\", \"name\": \"N64\", \"orientation\": \"v\", \"showlegend\": true, \"x\": [30, 13, 28, 10, 17, 13, 35, 22, 26, 17, 46, 18], \"xaxis\": \"x\", \"y\": [49, 49, 49, 49, 49, 49, 49, 49, 49, 49, 49, 49], \"yaxis\": \"y\", \"type\": \"scatter\"}], \"name\": \"1997\"}, {\"data\": [{\"hovertemplate\": \"<b>%{hovertext}</b><br><br>Platform=SNES<br>Year=1998<br>Number of Genres=%{x}<br>Games per Platform=%{marker.size}<extra></extra>\", \"hovertext\": [\"Action\", \"Adventure\", \"Fighting\", \"Misc\", \"Platform\", \"Puzzle\", \"Racing\", \"Role-Playing\", \"Shooter\", \"Simulation\", \"Sports\", \"Strategy\"], \"ids\": [\"Action\", \"Adventure\", \"Fighting\", \"Misc\", \"Platform\", \"Puzzle\", \"Racing\", \"Role-Playing\", \"Shooter\", \"Simulation\", \"Sports\", \"Strategy\"], \"legendgroup\": \"SNES\", \"marker\": {\"color\": \"#ab63fa\", \"size\": [2, 2, 2, 2, 2, 2, 2, 2, 2, 2, 2, 2], \"sizemode\": \"area\", \"sizeref\": 0.62, \"symbol\": \"circle\"}, \"mode\": \"markers\", \"name\": \"SNES\", \"orientation\": \"v\", \"showlegend\": true, \"x\": [41, 21, 39, 22, 23, 12, 48, 23, 22, 8, 69, 28], \"xaxis\": \"x\", \"y\": [2, 2, 2, 2, 2, 2, 2, 2, 2, 2, 2, 2], \"yaxis\": \"y\", \"type\": \"scatter\"}, {\"hovertemplate\": \"<b>%{hovertext}</b><br><br>Platform=PS<br>Year=1998<br>Number of Genres=%{x}<br>Games per Platform=%{marker.size}<extra></extra>\", \"hovertext\": [\"Action\", \"Adventure\", \"Fighting\", \"Misc\", \"Platform\", \"Puzzle\", \"Racing\", \"Role-Playing\", \"Shooter\", \"Simulation\", \"Sports\", \"Strategy\"], \"ids\": [\"Action\", \"Adventure\", \"Fighting\", \"Misc\", \"Platform\", \"Puzzle\", \"Racing\", \"Role-Playing\", \"Shooter\", \"Simulation\", \"Sports\", \"Strategy\"], \"legendgroup\": \"PS\", \"marker\": {\"color\": \"#19d3f3\", \"size\": [248, 248, 248, 248, 248, 248, 248, 248, 248, 248, 248, 248], \"sizemode\": \"area\", \"sizeref\": 0.62, \"symbol\": \"circle\"}, \"mode\": \"markers\", \"name\": \"PS\", \"orientation\": \"v\", \"showlegend\": true, \"x\": [41, 21, 39, 22, 23, 12, 48, 23, 22, 8, 69, 28], \"xaxis\": \"x\", \"y\": [248, 248, 248, 248, 248, 248, 248, 248, 248, 248, 248, 248], \"yaxis\": \"y\", \"type\": \"scatter\"}, {\"hovertemplate\": \"<b>%{hovertext}</b><br><br>Platform=SAT<br>Year=1998<br>Number of Genres=%{x}<br>Games per Platform=%{marker.size}<extra></extra>\", \"hovertext\": [\"Action\", \"Adventure\", \"Fighting\", \"Misc\", \"Platform\", \"Puzzle\", \"Racing\", \"Role-Playing\", \"Shooter\", \"Simulation\", \"Sports\", \"Strategy\"], \"ids\": [\"Action\", \"Adventure\", \"Fighting\", \"Misc\", \"Platform\", \"Puzzle\", \"Racing\", \"Role-Playing\", \"Shooter\", \"Simulation\", \"Sports\", \"Strategy\"], \"legendgroup\": \"SAT\", \"marker\": {\"color\": \"#FF6692\", \"size\": [29, 29, 29, 29, 29, 29, 29, 29, 29, 29, 29, 29], \"sizemode\": \"area\", \"sizeref\": 0.62, \"symbol\": \"circle\"}, \"mode\": \"markers\", \"name\": \"SAT\", \"orientation\": \"v\", \"showlegend\": true, \"x\": [41, 21, 39, 22, 23, 12, 48, 23, 22, 8, 69, 28], \"xaxis\": \"x\", \"y\": [29, 29, 29, 29, 29, 29, 29, 29, 29, 29, 29, 29], \"yaxis\": \"y\", \"type\": \"scatter\"}, {\"hovertemplate\": \"<b>%{hovertext}</b><br><br>Platform=N64<br>Year=1998<br>Number of Genres=%{x}<br>Games per Platform=%{marker.size}<extra></extra>\", \"hovertext\": [\"Action\", \"Adventure\", \"Fighting\", \"Misc\", \"Platform\", \"Puzzle\", \"Racing\", \"Role-Playing\", \"Shooter\", \"Simulation\", \"Sports\", \"Strategy\"], \"ids\": [\"Action\", \"Adventure\", \"Fighting\", \"Misc\", \"Platform\", \"Puzzle\", \"Racing\", \"Role-Playing\", \"Shooter\", \"Simulation\", \"Sports\", \"Strategy\"], \"legendgroup\": \"N64\", \"marker\": {\"color\": \"#B6E880\", \"size\": [77, 77, 77, 77, 77, 77, 77, 77, 77, 77, 77, 77], \"sizemode\": \"area\", \"sizeref\": 0.62, \"symbol\": \"circle\"}, \"mode\": \"markers\", \"name\": \"N64\", \"orientation\": \"v\", \"showlegend\": true, \"x\": [41, 21, 39, 22, 23, 12, 48, 23, 22, 8, 69, 28], \"xaxis\": \"x\", \"y\": [77, 77, 77, 77, 77, 77, 77, 77, 77, 77, 77, 77], \"yaxis\": \"y\", \"type\": \"scatter\"}], \"name\": \"1998\"}, {\"data\": [{\"hovertemplate\": \"<b>%{hovertext}</b><br><br>Platform=SNES<br>Year=1999<br>Number of Genres=%{x}<br>Games per Platform=%{marker.size}<extra></extra>\", \"hovertext\": [\"Action\", \"Adventure\", \"Fighting\", \"Misc\", \"Platform\", \"Puzzle\", \"Racing\", \"Role-Playing\", \"Shooter\", \"Simulation\", \"Sports\", \"Strategy\"], \"ids\": [\"Action\", \"Adventure\", \"Fighting\", \"Misc\", \"Platform\", \"Puzzle\", \"Racing\", \"Role-Playing\", \"Shooter\", \"Simulation\", \"Sports\", \"Strategy\"], \"legendgroup\": \"SNES\", \"marker\": {\"color\": \"#ab63fa\", \"size\": [1, 1, 1, 1, 1, 1, 1, 1, 1, 1, 1, 1], \"sizemode\": \"area\", \"sizeref\": 0.62, \"symbol\": \"circle\"}, \"mode\": \"markers\", \"name\": \"SNES\", \"orientation\": \"v\", \"showlegend\": true, \"x\": [37, 16, 21, 22, 17, 6, 47, 28, 16, 17, 54, 23], \"xaxis\": \"x\", \"y\": [1, 1, 1, 1, 1, 1, 1, 1, 1, 1, 1, 1], \"yaxis\": \"y\", \"type\": \"scatter\"}, {\"hovertemplate\": \"<b>%{hovertext}</b><br><br>Platform=PS<br>Year=1999<br>Number of Genres=%{x}<br>Games per Platform=%{marker.size}<extra></extra>\", \"hovertext\": [\"Action\", \"Adventure\", \"Fighting\", \"Misc\", \"Platform\", \"Puzzle\", \"Racing\", \"Role-Playing\", \"Shooter\", \"Simulation\", \"Sports\", \"Strategy\"], \"ids\": [\"Action\", \"Adventure\", \"Fighting\", \"Misc\", \"Platform\", \"Puzzle\", \"Racing\", \"Role-Playing\", \"Shooter\", \"Simulation\", \"Sports\", \"Strategy\"], \"legendgroup\": \"PS\", \"marker\": {\"color\": \"#19d3f3\", \"size\": [200, 200, 200, 200, 200, 200, 200, 200, 200, 200, 200, 200], \"sizemode\": \"area\", \"sizeref\": 0.62, \"symbol\": \"circle\"}, \"mode\": \"markers\", \"name\": \"PS\", \"orientation\": \"v\", \"showlegend\": true, \"x\": [37, 16, 21, 22, 17, 6, 47, 28, 16, 17, 54, 23], \"xaxis\": \"x\", \"y\": [200, 200, 200, 200, 200, 200, 200, 200, 200, 200, 200, 200], \"yaxis\": \"y\", \"type\": \"scatter\"}, {\"hovertemplate\": \"<b>%{hovertext}</b><br><br>Platform=SAT<br>Year=1999<br>Number of Genres=%{x}<br>Games per Platform=%{marker.size}<extra></extra>\", \"hovertext\": [\"Action\", \"Adventure\", \"Fighting\", \"Misc\", \"Platform\", \"Puzzle\", \"Racing\", \"Role-Playing\", \"Shooter\", \"Simulation\", \"Sports\", \"Strategy\"], \"ids\": [\"Action\", \"Adventure\", \"Fighting\", \"Misc\", \"Platform\", \"Puzzle\", \"Racing\", \"Role-Playing\", \"Shooter\", \"Simulation\", \"Sports\", \"Strategy\"], \"legendgroup\": \"SAT\", \"marker\": {\"color\": \"#FF6692\", \"size\": [1, 1, 1, 1, 1, 1, 1, 1, 1, 1, 1, 1], \"sizemode\": \"area\", \"sizeref\": 0.62, \"symbol\": \"circle\"}, \"mode\": \"markers\", \"name\": \"SAT\", \"orientation\": \"v\", \"showlegend\": true, \"x\": [37, 16, 21, 22, 17, 6, 47, 28, 16, 17, 54, 23], \"xaxis\": \"x\", \"y\": [1, 1, 1, 1, 1, 1, 1, 1, 1, 1, 1, 1], \"yaxis\": \"y\", \"type\": \"scatter\"}, {\"hovertemplate\": \"<b>%{hovertext}</b><br><br>Platform=N64<br>Year=1999<br>Number of Genres=%{x}<br>Games per Platform=%{marker.size}<extra></extra>\", \"hovertext\": [\"Action\", \"Adventure\", \"Fighting\", \"Misc\", \"Platform\", \"Puzzle\", \"Racing\", \"Role-Playing\", \"Shooter\", \"Simulation\", \"Sports\", \"Strategy\"], \"ids\": [\"Action\", \"Adventure\", \"Fighting\", \"Misc\", \"Platform\", \"Puzzle\", \"Racing\", \"Role-Playing\", \"Shooter\", \"Simulation\", \"Sports\", \"Strategy\"], \"legendgroup\": \"N64\", \"marker\": {\"color\": \"#B6E880\", \"size\": [102, 102, 102, 102, 102, 102, 102, 102, 102, 102, 102, 102], \"sizemode\": \"area\", \"sizeref\": 0.62, \"symbol\": \"circle\"}, \"mode\": \"markers\", \"name\": \"N64\", \"orientation\": \"v\", \"showlegend\": true, \"x\": [37, 16, 21, 22, 17, 6, 47, 28, 16, 17, 54, 23], \"xaxis\": \"x\", \"y\": [102, 102, 102, 102, 102, 102, 102, 102, 102, 102, 102, 102], \"yaxis\": \"y\", \"type\": \"scatter\"}], \"name\": \"1999\"}, {\"data\": [{\"hovertemplate\": \"<b>%{hovertext}</b><br><br>Platform=PS<br>Year=2000<br>Number of Genres=%{x}<br>Games per Platform=%{marker.size}<extra></extra>\", \"hovertext\": [\"Action\", \"Adventure\", \"Fighting\", \"Misc\", \"Platform\", \"Puzzle\", \"Racing\", \"Role-Playing\", \"Shooter\", \"Simulation\", \"Sports\", \"Strategy\"], \"ids\": [\"Action\", \"Adventure\", \"Fighting\", \"Misc\", \"Platform\", \"Puzzle\", \"Racing\", \"Role-Playing\", \"Shooter\", \"Simulation\", \"Sports\", \"Strategy\"], \"legendgroup\": \"PS\", \"marker\": {\"color\": \"#19d3f3\", \"size\": [159, 159, 159, 159, 159, 159, 159, 159, 159, 159, 159, 159], \"sizemode\": \"area\", \"sizeref\": 0.62, \"symbol\": \"circle\"}, \"mode\": \"markers\", \"name\": \"PS\", \"orientation\": \"v\", \"showlegend\": true, \"x\": [36, 9, 16, 17, 18, 6, 31, 11, 13, 5, 50, 7], \"xaxis\": \"x\", \"y\": [159, 159, 159, 159, 159, 159, 159, 159, 159, 159, 159, 159], \"yaxis\": \"y\", \"type\": \"scatter\"}, {\"hovertemplate\": \"<b>%{hovertext}</b><br><br>Platform=N64<br>Year=2000<br>Number of Genres=%{x}<br>Games per Platform=%{marker.size}<extra></extra>\", \"hovertext\": [\"Action\", \"Adventure\", \"Fighting\", \"Misc\", \"Platform\", \"Puzzle\", \"Racing\", \"Role-Playing\", \"Shooter\", \"Simulation\", \"Sports\", \"Strategy\"], \"ids\": [\"Action\", \"Adventure\", \"Fighting\", \"Misc\", \"Platform\", \"Puzzle\", \"Racing\", \"Role-Playing\", \"Shooter\", \"Simulation\", \"Sports\", \"Strategy\"], \"legendgroup\": \"N64\", \"marker\": {\"color\": \"#B6E880\", \"size\": [60, 60, 60, 60, 60, 60, 60, 60, 60, 60, 60, 60], \"sizemode\": \"area\", \"sizeref\": 0.62, \"symbol\": \"circle\"}, \"mode\": \"markers\", \"name\": \"N64\", \"orientation\": \"v\", \"showlegend\": true, \"x\": [36, 9, 16, 17, 18, 6, 31, 11, 13, 5, 50, 7], \"xaxis\": \"x\", \"y\": [60, 60, 60, 60, 60, 60, 60, 60, 60, 60, 60, 60], \"yaxis\": \"y\", \"type\": \"scatter\"}], \"name\": \"2000\"}, {\"data\": [{\"hovertemplate\": \"<b>%{hovertext}</b><br><br>Platform=PS<br>Year=2001<br>Number of Genres=%{x}<br>Games per Platform=%{marker.size}<extra></extra>\", \"hovertext\": [\"Action\", \"Adventure\", \"Fighting\", \"Misc\", \"Platform\", \"Puzzle\", \"Racing\", \"Role-Playing\", \"Shooter\", \"Simulation\", \"Sports\", \"Strategy\"], \"ids\": [\"Action\", \"Adventure\", \"Fighting\", \"Misc\", \"Platform\", \"Puzzle\", \"Racing\", \"Role-Playing\", \"Shooter\", \"Simulation\", \"Sports\", \"Strategy\"], \"legendgroup\": \"PS\", \"marker\": {\"color\": \"#19d3f3\", \"size\": [91, 91, 91, 91, 91, 91, 91, 91, 91, 91, 91, 91], \"sizemode\": \"area\", \"sizeref\": 0.62, \"symbol\": \"circle\"}, \"mode\": \"markers\", \"name\": \"PS\", \"orientation\": \"v\", \"showlegend\": true, \"x\": [19, 7, 4, 3, 7, 3, 11, 8, 8, 3, 24, 3], \"xaxis\": \"x\", \"y\": [91, 91, 91, 91, 91, 91, 91, 91, 91, 91, 91, 91], \"yaxis\": \"y\", \"type\": \"scatter\"}, {\"hovertemplate\": \"<b>%{hovertext}</b><br><br>Platform=N64<br>Year=2001<br>Number of Genres=%{x}<br>Games per Platform=%{marker.size}<extra></extra>\", \"hovertext\": [\"Action\", \"Adventure\", \"Fighting\", \"Misc\", \"Platform\", \"Puzzle\", \"Racing\", \"Role-Playing\", \"Shooter\", \"Simulation\", \"Sports\", \"Strategy\"], \"ids\": [\"Action\", \"Adventure\", \"Fighting\", \"Misc\", \"Platform\", \"Puzzle\", \"Racing\", \"Role-Playing\", \"Shooter\", \"Simulation\", \"Sports\", \"Strategy\"], \"legendgroup\": \"N64\", \"marker\": {\"color\": \"#B6E880\", \"size\": [9, 9, 9, 9, 9, 9, 9, 9, 9, 9, 9, 9], \"sizemode\": \"area\", \"sizeref\": 0.62, \"symbol\": \"circle\"}, \"mode\": \"markers\", \"name\": \"N64\", \"orientation\": \"v\", \"showlegend\": true, \"x\": [19, 7, 4, 3, 7, 3, 11, 8, 8, 3, 24, 3], \"xaxis\": \"x\", \"y\": [9, 9, 9, 9, 9, 9, 9, 9, 9, 9, 9, 9], \"yaxis\": \"y\", \"type\": \"scatter\"}], \"name\": \"2001\"}, {\"data\": [{\"hovertemplate\": \"<b>%{hovertext}</b><br><br>Platform=PS<br>Year=2002<br>Number of Genres=%{x}<br>Games per Platform=%{marker.size}<extra></extra>\", \"hovertext\": [\"Action\", \"Adventure\", \"Fighting\", \"Platform\", \"Racing\", \"Role-Playing\", \"Shooter\", \"Simulation\", \"Sports\"], \"ids\": [\"Action\", \"Adventure\", \"Fighting\", \"Platform\", \"Racing\", \"Role-Playing\", \"Shooter\", \"Simulation\", \"Sports\"], \"legendgroup\": \"PS\", \"marker\": {\"color\": \"#19d3f3\", \"size\": [20, 20, 20, 20, 20, 20, 20, 20, 20], \"sizemode\": \"area\", \"sizeref\": 0.62, \"symbol\": \"circle\"}, \"mode\": \"markers\", \"name\": \"PS\", \"orientation\": \"v\", \"showlegend\": true, \"x\": [5, 2, 3, 2, 1, 2, 1, 1, 4], \"xaxis\": \"x\", \"y\": [20, 20, 20, 20, 20, 20, 20, 20, 20], \"yaxis\": \"y\", \"type\": \"scatter\"}, {\"hovertemplate\": \"<b>%{hovertext}</b><br><br>Platform=N64<br>Year=2002<br>Number of Genres=%{x}<br>Games per Platform=%{marker.size}<extra></extra>\", \"hovertext\": [\"Action\", \"Adventure\", \"Fighting\", \"Platform\", \"Racing\", \"Role-Playing\", \"Shooter\", \"Simulation\", \"Sports\"], \"ids\": [\"Action\", \"Adventure\", \"Fighting\", \"Platform\", \"Racing\", \"Role-Playing\", \"Shooter\", \"Simulation\", \"Sports\"], \"legendgroup\": \"N64\", \"marker\": {\"color\": \"#B6E880\", \"size\": [1, 1, 1, 1, 1, 1, 1, 1, 1], \"sizemode\": \"area\", \"sizeref\": 0.62, \"symbol\": \"circle\"}, \"mode\": \"markers\", \"name\": \"N64\", \"orientation\": \"v\", \"showlegend\": true, \"x\": [5, 2, 3, 2, 1, 2, 1, 1, 4], \"xaxis\": \"x\", \"y\": [1, 1, 1, 1, 1, 1, 1, 1, 1], \"yaxis\": \"y\", \"type\": \"scatter\"}], \"name\": \"2002\"}, {\"data\": [{\"hovertemplate\": \"<b>%{hovertext}</b><br><br>Platform=SNES<br>Year=1995<br>Number of Genres=%{x}<br>Games per Platform=%{marker.size}<extra></extra>\", \"hovertext\": [\"Action\", \"Adventure\", \"Fighting\", \"Misc\", \"Platform\", \"Puzzle\", \"Racing\", \"Role-Playing\", \"Shooter\", \"Simulation\", \"Sports\", \"Strategy\"], \"ids\": [\"Action\", \"Adventure\", \"Fighting\", \"Misc\", \"Platform\", \"Puzzle\", \"Racing\", \"Role-Playing\", \"Shooter\", \"Simulation\", \"Sports\", \"Strategy\"], \"legendgroup\": \"SNES\", \"marker\": {\"color\": \"#ab63fa\", \"size\": [54, 54, 54, 54, 54, 54, 54, 54, 54, 54, 54, 54], \"sizemode\": \"area\", \"sizeref\": 0.62, \"symbol\": \"circle\"}, \"mode\": \"markers\", \"name\": \"SNES\", \"orientation\": \"v\", \"showlegend\": true, \"x\": [8, 11, 26, 20, 12, 10, 12, 24, 28, 13, 28, 13], \"xaxis\": \"x\", \"y\": [54, 54, 54, 54, 54, 54, 54, 54, 54, 54, 54, 54], \"yaxis\": \"y\", \"type\": \"scatter\"}, {\"hovertemplate\": \"<b>%{hovertext}</b><br><br>Platform=PS<br>Year=1995<br>Number of Genres=%{x}<br>Games per Platform=%{marker.size}<extra></extra>\", \"hovertext\": [\"Action\", \"Adventure\", \"Fighting\", \"Misc\", \"Platform\", \"Puzzle\", \"Racing\", \"Role-Playing\", \"Shooter\", \"Simulation\", \"Sports\", \"Strategy\"], \"ids\": [\"Action\", \"Adventure\", \"Fighting\", \"Misc\", \"Platform\", \"Puzzle\", \"Racing\", \"Role-Playing\", \"Shooter\", \"Simulation\", \"Sports\", \"Strategy\"], \"legendgroup\": \"PS\", \"marker\": {\"color\": \"#19d3f3\", \"size\": [99, 99, 99, 99, 99, 99, 99, 99, 99, 99, 99, 99], \"sizemode\": \"area\", \"sizeref\": 0.62, \"symbol\": \"circle\"}, \"mode\": \"markers\", \"name\": \"PS\", \"orientation\": \"v\", \"showlegend\": true, \"x\": [8, 11, 26, 20, 12, 10, 12, 24, 28, 13, 28, 13], \"xaxis\": \"x\", \"y\": [99, 99, 99, 99, 99, 99, 99, 99, 99, 99, 99, 99], \"yaxis\": \"y\", \"type\": \"scatter\"}, {\"hovertemplate\": \"<b>%{hovertext}</b><br><br>Platform=SAT<br>Year=1995<br>Number of Genres=%{x}<br>Games per Platform=%{marker.size}<extra></extra>\", \"hovertext\": [\"Action\", \"Adventure\", \"Fighting\", \"Misc\", \"Platform\", \"Puzzle\", \"Racing\", \"Role-Playing\", \"Shooter\", \"Simulation\", \"Sports\", \"Strategy\"], \"ids\": [\"Action\", \"Adventure\", \"Fighting\", \"Misc\", \"Platform\", \"Puzzle\", \"Racing\", \"Role-Playing\", \"Shooter\", \"Simulation\", \"Sports\", \"Strategy\"], \"legendgroup\": \"SAT\", \"marker\": {\"color\": \"#FF6692\", \"size\": [52, 52, 52, 52, 52, 52, 52, 52, 52, 52, 52, 52], \"sizemode\": \"area\", \"sizeref\": 0.62, \"symbol\": \"circle\"}, \"mode\": \"markers\", \"name\": \"SAT\", \"orientation\": \"v\", \"showlegend\": true, \"x\": [8, 11, 26, 20, 12, 10, 12, 24, 28, 13, 28, 13], \"xaxis\": \"x\", \"y\": [52, 52, 52, 52, 52, 52, 52, 52, 52, 52, 52, 52], \"yaxis\": \"y\", \"type\": \"scatter\"}], \"name\": \"1995\"}, {\"data\": [{\"hovertemplate\": \"<b>%{hovertext}</b><br><br>Platform=PS<br>Year=2003<br>Number of Genres=%{x}<br>Games per Platform=%{marker.size}<extra></extra>\", \"hovertext\": [\"Misc\", \"Sports\"], \"ids\": [\"Misc\", \"Sports\"], \"legendgroup\": \"PS\", \"marker\": {\"color\": \"#19d3f3\", \"size\": [3, 3], \"sizemode\": \"area\", \"sizeref\": 0.62, \"symbol\": \"circle\"}, \"mode\": \"markers\", \"name\": \"PS\", \"orientation\": \"v\", \"showlegend\": true, \"x\": [2, 1], \"xaxis\": \"x\", \"y\": [3, 3], \"yaxis\": \"y\", \"type\": \"scatter\"}], \"name\": \"2003\"}]);\n",
       "                        }).then(function(){\n",
       "                            \n",
       "var gd = document.getElementById('d07e4b1b-f260-4ded-9205-23f79421f258');\n",
       "var x = new MutationObserver(function (mutations, observer) {{\n",
       "        var display = window.getComputedStyle(gd).display;\n",
       "        if (!display || display === 'none') {{\n",
       "            console.log([gd, 'removed!']);\n",
       "            Plotly.purge(gd);\n",
       "            observer.disconnect();\n",
       "        }}\n",
       "}});\n",
       "\n",
       "// Listen for the removal of the full notebook cells\n",
       "var notebookContainer = gd.closest('#notebook-container');\n",
       "if (notebookContainer) {{\n",
       "    x.observe(notebookContainer, {childList: true});\n",
       "}}\n",
       "\n",
       "// Listen for the clearing of the current output cell\n",
       "var outputEl = gd.closest('.output');\n",
       "if (outputEl) {{\n",
       "    x.observe(outputEl, {childList: true});\n",
       "}}\n",
       "\n",
       "                        })                };                });            </script>        </div>"
      ]
     },
     "metadata": {},
     "output_type": "display_data"
    }
   ],
   "source": [
    "figure = px.scatter(genre_platform, x = \"Number of Genres\", y = \"Games per Platform\", \n",
    "                    animation_frame= \"Year\", animation_group = \"Genre\",\n",
    "                    hover_name=\"Genre\", color = \"Platform\",\n",
    "                    size = \"Games per Platform\",\n",
    "                    range_x=[1,60], range_y=[1,200])\n",
    "\n",
    "figure.layout.updatemenus[0].buttons[0].args[1][\"frame\"][\"duration\"] = 1000\n",
    "figure.show()"
   ]
  },
  {
   "cell_type": "code",
   "execution_count": null,
   "metadata": {},
   "outputs": [],
   "source": []
  },
  {
   "cell_type": "code",
   "execution_count": null,
   "metadata": {},
   "outputs": [],
   "source": []
  }
 ],
 "metadata": {
  "kernelspec": {
   "display_name": "Python 3",
   "language": "python",
   "name": "python3"
  },
  "language_info": {
   "codemirror_mode": {
    "name": "ipython",
    "version": 3
   },
   "file_extension": ".py",
   "mimetype": "text/x-python",
   "name": "python",
   "nbconvert_exporter": "python",
   "pygments_lexer": "ipython3",
   "version": "3.7.9"
  }
 },
 "nbformat": 4,
 "nbformat_minor": 4
}
