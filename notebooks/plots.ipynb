{
 "cells": [
  {
   "cell_type": "markdown",
   "metadata": {},
   "source": [
    "# Comparison Plots"
   ]
  },
  {
   "cell_type": "code",
<<<<<<< HEAD
   "execution_count": 147,
=======
   "execution_count": 12,
>>>>>>> 5e83b6f9bae3316a5a9c1bda94c007904063e79b
   "metadata": {},
   "outputs": [],
   "source": [
    "import pandas as pd\n",
    "import seaborn as sns\n",
    "import matplotlib.pyplot as plt\n",
    "import numpy as np\n",
    "%matplotlib inline\n",
    "import plotly.express as px"
   ]
  },
  {
   "cell_type": "code",
<<<<<<< HEAD
   "execution_count": 2,
   "metadata": {},
   "outputs": [],
   "source": [
    "game_data = pd.read_csv(\"../data/games_df.csv\")"
=======
   "execution_count": 13,
   "metadata": {
    "scrolled": true
   },
   "outputs": [],
   "source": [
    "game_data = pd.read_csv(\"../data/merged_games_df.csv\")"
>>>>>>> 5e83b6f9bae3316a5a9c1bda94c007904063e79b
   ]
  },
  {
   "cell_type": "code",
<<<<<<< HEAD
   "execution_count": 3,
=======
   "execution_count": 14,
>>>>>>> 5e83b6f9bae3316a5a9c1bda94c007904063e79b
   "metadata": {
    "scrolled": false
   },
   "outputs": [
    {
     "data": {
      "text/html": [
       "<div>\n",
       "<style scoped>\n",
       "    .dataframe tbody tr th:only-of-type {\n",
       "        vertical-align: middle;\n",
       "    }\n",
       "\n",
       "    .dataframe tbody tr th {\n",
       "        vertical-align: top;\n",
       "    }\n",
       "\n",
       "    .dataframe thead th {\n",
       "        text-align: right;\n",
       "    }\n",
       "</style>\n",
       "<table border=\"1\" class=\"dataframe\">\n",
       "  <thead>\n",
       "    <tr style=\"text-align: right;\">\n",
       "      <th></th>\n",
<<<<<<< HEAD
       "      <th>Unnamed: 0</th>\n",
=======
>>>>>>> 5e83b6f9bae3316a5a9c1bda94c007904063e79b
       "      <th>Name</th>\n",
       "      <th>Platform</th>\n",
       "      <th>Year</th>\n",
       "      <th>Genre</th>\n",
       "      <th>Publisher</th>\n",
       "      <th>NA_Sales</th>\n",
       "      <th>EU_Sales</th>\n",
       "      <th>JP_Sales</th>\n",
       "      <th>Other_Sales</th>\n",
       "      <th>Global_Sales</th>\n",
<<<<<<< HEAD
=======
       "      <th>Console</th>\n",
       "      <th>Game Title</th>\n",
       "      <th>Price</th>\n",
       "      <th>Mean</th>\n",
       "      <th>Median</th>\n",
>>>>>>> 5e83b6f9bae3316a5a9c1bda94c007904063e79b
       "    </tr>\n",
       "  </thead>\n",
       "  <tbody>\n",
       "    <tr>\n",
       "      <th>0</th>\n",
<<<<<<< HEAD
       "      <td>0</td>\n",
       "      <td>Action Force</td>\n",
       "      <td>2600</td>\n",
       "      <td>1982</td>\n",
       "      <td>Action</td>\n",
       "      <td>CPG Products</td>\n",
       "      <td>$500,000</td>\n",
       "      <td>$30,000</td>\n",
       "      <td>$0</td>\n",
       "      <td>$10,000</td>\n",
       "      <td>$540,000</td>\n",
       "    </tr>\n",
       "    <tr>\n",
       "      <th>1</th>\n",
       "      <td>2</td>\n",
       "      <td>Adventures of Tron</td>\n",
       "      <td>2600</td>\n",
       "      <td>1981</td>\n",
       "      <td>Action</td>\n",
       "      <td>Mattel Interactive</td>\n",
       "      <td>$630,000</td>\n",
       "      <td>$30,000</td>\n",
       "      <td>$0</td>\n",
       "      <td>$10,000</td>\n",
       "      <td>$670,000</td>\n",
       "    </tr>\n",
       "    <tr>\n",
       "      <th>2</th>\n",
       "      <td>3</td>\n",
       "      <td>Air Raid</td>\n",
       "      <td>2600</td>\n",
       "      <td>1981</td>\n",
       "      <td>Action</td>\n",
       "      <td>Men-A-Vision</td>\n",
       "      <td>$720,000</td>\n",
       "      <td>$40,000</td>\n",
       "      <td>$0</td>\n",
       "      <td>$10,000</td>\n",
       "      <td>$770,000</td>\n",
       "    </tr>\n",
       "    <tr>\n",
       "      <th>3</th>\n",
       "      <td>5</td>\n",
       "      <td>Airlock</td>\n",
       "      <td>2600</td>\n",
       "      <td>1981</td>\n",
       "      <td>Action</td>\n",
       "      <td>Data Age</td>\n",
       "      <td>$360,000</td>\n",
       "      <td>$20,000</td>\n",
       "      <td>$0</td>\n",
       "      <td>$0</td>\n",
       "      <td>$390,000</td>\n",
       "    </tr>\n",
       "    <tr>\n",
       "      <th>4</th>\n",
       "      <td>6</td>\n",
       "      <td>Alien</td>\n",
       "      <td>2600</td>\n",
       "      <td>1981</td>\n",
       "      <td>Action</td>\n",
       "      <td>20th Century Fox Video Games</td>\n",
       "      <td>$740,000</td>\n",
       "      <td>$40,000</td>\n",
       "      <td>$0</td>\n",
       "      <td>$10,000</td>\n",
       "      <td>$790,000</td>\n",
=======
       "      <td>ADVENTURES OF TRON</td>\n",
       "      <td>2600</td>\n",
       "      <td>1981</td>\n",
       "      <td>Action</td>\n",
       "      <td>Mattel Interactive</td>\n",
       "      <td>630000.0</td>\n",
       "      <td>30000.0</td>\n",
       "      <td>NaN</td>\n",
       "      <td>10000.0</td>\n",
       "      <td>670000</td>\n",
       "      <td>2600</td>\n",
       "      <td>ADVENTURES OF TRON</td>\n",
       "      <td>16.10</td>\n",
       "      <td>False</td>\n",
       "      <td>False</td>\n",
       "    </tr>\n",
       "    <tr>\n",
       "      <th>1</th>\n",
       "      <td>AIRLOCK</td>\n",
       "      <td>2600</td>\n",
       "      <td>1981</td>\n",
       "      <td>Action</td>\n",
       "      <td>Data Age</td>\n",
       "      <td>360000.0</td>\n",
       "      <td>20000.0</td>\n",
       "      <td>NaN</td>\n",
       "      <td>NaN</td>\n",
       "      <td>390000</td>\n",
       "      <td>2600</td>\n",
       "      <td>AIRLOCK</td>\n",
       "      <td>17.00</td>\n",
       "      <td>False</td>\n",
       "      <td>False</td>\n",
       "    </tr>\n",
       "    <tr>\n",
       "      <th>2</th>\n",
       "      <td>ALIEN</td>\n",
       "      <td>2600</td>\n",
       "      <td>1981</td>\n",
       "      <td>Action</td>\n",
       "      <td>20th Century Fox Video Games</td>\n",
       "      <td>740000.0</td>\n",
       "      <td>40000.0</td>\n",
       "      <td>NaN</td>\n",
       "      <td>10000.0</td>\n",
       "      <td>790000</td>\n",
       "      <td>2600</td>\n",
       "      <td>ALIEN</td>\n",
       "      <td>61.24</td>\n",
       "      <td>True</td>\n",
       "      <td>True</td>\n",
       "    </tr>\n",
       "    <tr>\n",
       "      <th>3</th>\n",
       "      <td>ARMOR AMBUSH</td>\n",
       "      <td>2600</td>\n",
       "      <td>1981</td>\n",
       "      <td>Action</td>\n",
       "      <td>Mattel Interactive</td>\n",
       "      <td>150000.0</td>\n",
       "      <td>10000.0</td>\n",
       "      <td>NaN</td>\n",
       "      <td>NaN</td>\n",
       "      <td>170000</td>\n",
       "      <td>2600</td>\n",
       "      <td>ARMOR AMBUSH</td>\n",
       "      <td>9.92</td>\n",
       "      <td>False</td>\n",
       "      <td>False</td>\n",
       "    </tr>\n",
       "    <tr>\n",
       "      <th>4</th>\n",
       "      <td>ASTEROIDS</td>\n",
       "      <td>2600</td>\n",
       "      <td>1980</td>\n",
       "      <td>Shooter</td>\n",
       "      <td>Atari</td>\n",
       "      <td>4000000.0</td>\n",
       "      <td>260000.0</td>\n",
       "      <td>NaN</td>\n",
       "      <td>50000.0</td>\n",
       "      <td>4310000</td>\n",
       "      <td>2600</td>\n",
       "      <td>ASTEROIDS</td>\n",
       "      <td>14.06</td>\n",
       "      <td>False</td>\n",
       "      <td>False</td>\n",
>>>>>>> 5e83b6f9bae3316a5a9c1bda94c007904063e79b
       "    </tr>\n",
       "  </tbody>\n",
       "</table>\n",
       "</div>"
      ],
      "text/plain": [
<<<<<<< HEAD
       "   Unnamed: 0                Name Platform  Year   Genre  \\\n",
       "0           0        Action Force     2600  1982  Action   \n",
       "1           2  Adventures of Tron     2600  1981  Action   \n",
       "2           3            Air Raid     2600  1981  Action   \n",
       "3           5             Airlock     2600  1981  Action   \n",
       "4           6               Alien     2600  1981  Action   \n",
       "\n",
       "                      Publisher   NA_Sales  EU_Sales JP_Sales Other_Sales  \\\n",
       "0                  CPG Products  $500,000   $30,000       $0     $10,000    \n",
       "1            Mattel Interactive  $630,000   $30,000       $0     $10,000    \n",
       "2                  Men-A-Vision  $720,000   $40,000       $0     $10,000    \n",
       "3                      Data Age  $360,000   $20,000       $0          $0    \n",
       "4  20th Century Fox Video Games  $740,000   $40,000       $0     $10,000    \n",
       "\n",
       "  Global_Sales  \n",
       "0    $540,000   \n",
       "1    $670,000   \n",
       "2    $770,000   \n",
       "3    $390,000   \n",
       "4    $790,000   "
      ]
     },
     "execution_count": 3,
=======
       "                 Name Platform  Year    Genre                     Publisher  \\\n",
       "0  ADVENTURES OF TRON     2600  1981   Action            Mattel Interactive   \n",
       "1             AIRLOCK     2600  1981   Action                      Data Age   \n",
       "2               ALIEN     2600  1981   Action  20th Century Fox Video Games   \n",
       "3        ARMOR AMBUSH     2600  1981   Action            Mattel Interactive   \n",
       "4           ASTEROIDS     2600  1980  Shooter                         Atari   \n",
       "\n",
       "    NA_Sales  EU_Sales  JP_Sales  Other_Sales  Global_Sales Console  \\\n",
       "0   630000.0   30000.0       NaN      10000.0        670000    2600   \n",
       "1   360000.0   20000.0       NaN          NaN        390000    2600   \n",
       "2   740000.0   40000.0       NaN      10000.0        790000    2600   \n",
       "3   150000.0   10000.0       NaN          NaN        170000    2600   \n",
       "4  4000000.0  260000.0       NaN      50000.0       4310000    2600   \n",
       "\n",
       "           Game Title  Price   Mean  Median  \n",
       "0  ADVENTURES OF TRON  16.10  False   False  \n",
       "1             AIRLOCK  17.00  False   False  \n",
       "2               ALIEN  61.24   True    True  \n",
       "3        ARMOR AMBUSH   9.92  False   False  \n",
       "4           ASTEROIDS  14.06  False   False  "
      ]
     },
     "execution_count": 14,
>>>>>>> 5e83b6f9bae3316a5a9c1bda94c007904063e79b
     "metadata": {},
     "output_type": "execute_result"
    }
   ],
   "source": [
    "game_data.head()"
   ]
  },
  {
   "cell_type": "markdown",
   "metadata": {},
   "source": [
    "## Games per Year by Platform "
   ]
  },
  {
   "cell_type": "code",
<<<<<<< HEAD
   "execution_count": 188,
=======
   "execution_count": 15,
>>>>>>> 5e83b6f9bae3316a5a9c1bda94c007904063e79b
   "metadata": {
    "scrolled": false
   },
   "outputs": [
    {
     "data": {
      "text/html": [
       "<div>\n",
       "<style scoped>\n",
       "    .dataframe tbody tr th:only-of-type {\n",
       "        vertical-align: middle;\n",
       "    }\n",
       "\n",
       "    .dataframe tbody tr th {\n",
       "        vertical-align: top;\n",
       "    }\n",
       "\n",
       "    .dataframe thead th {\n",
       "        text-align: right;\n",
       "    }\n",
       "</style>\n",
       "<table border=\"1\" class=\"dataframe\">\n",
       "  <thead>\n",
       "    <tr style=\"text-align: right;\">\n",
       "      <th></th>\n",
       "      <th>Platform</th>\n",
       "      <th>Year</th>\n",
       "      <th>Games per Platform</th>\n",
       "    </tr>\n",
       "  </thead>\n",
       "  <tbody>\n",
       "    <tr>\n",
       "      <th>0</th>\n",
       "      <td>2600</td>\n",
       "      <td>1980</td>\n",
<<<<<<< HEAD
       "      <td>9</td>\n",
=======
       "      <td>5</td>\n",
>>>>>>> 5e83b6f9bae3316a5a9c1bda94c007904063e79b
       "    </tr>\n",
       "    <tr>\n",
       "      <th>1</th>\n",
       "      <td>2600</td>\n",
       "      <td>1981</td>\n",
<<<<<<< HEAD
       "      <td>46</td>\n",
=======
       "      <td>36</td>\n",
>>>>>>> 5e83b6f9bae3316a5a9c1bda94c007904063e79b
       "    </tr>\n",
       "    <tr>\n",
       "      <th>2</th>\n",
       "      <td>2600</td>\n",
       "      <td>1982</td>\n",
<<<<<<< HEAD
       "      <td>36</td>\n",
=======
       "      <td>26</td>\n",
>>>>>>> 5e83b6f9bae3316a5a9c1bda94c007904063e79b
       "    </tr>\n",
       "    <tr>\n",
       "      <th>3</th>\n",
       "      <td>2600</td>\n",
       "      <td>1983</td>\n",
<<<<<<< HEAD
       "      <td>11</td>\n",
=======
       "      <td>8</td>\n",
>>>>>>> 5e83b6f9bae3316a5a9c1bda94c007904063e79b
       "    </tr>\n",
       "    <tr>\n",
       "      <th>4</th>\n",
       "      <td>2600</td>\n",
       "      <td>1984</td>\n",
       "      <td>1</td>\n",
       "    </tr>\n",
       "    <tr>\n",
<<<<<<< HEAD
       "      <th>...</th>\n",
       "      <td>...</td>\n",
       "      <td>...</td>\n",
       "      <td>...</td>\n",
       "    </tr>\n",
       "    <tr>\n",
       "      <th>57</th>\n",
       "      <td>SNES</td>\n",
       "      <td>1995</td>\n",
       "      <td>54</td>\n",
       "    </tr>\n",
       "    <tr>\n",
       "      <th>58</th>\n",
       "      <td>SNES</td>\n",
       "      <td>1996</td>\n",
       "      <td>30</td>\n",
       "    </tr>\n",
       "    <tr>\n",
       "      <th>59</th>\n",
       "      <td>SNES</td>\n",
       "      <td>1997</td>\n",
       "      <td>4</td>\n",
       "    </tr>\n",
       "    <tr>\n",
       "      <th>60</th>\n",
       "      <td>SNES</td>\n",
       "      <td>1998</td>\n",
       "      <td>2</td>\n",
       "    </tr>\n",
       "    <tr>\n",
       "      <th>61</th>\n",
       "      <td>SNES</td>\n",
       "      <td>1999</td>\n",
=======
       "      <th>5</th>\n",
       "      <td>2600</td>\n",
       "      <td>1985</td>\n",
       "      <td>1</td>\n",
       "    </tr>\n",
       "    <tr>\n",
       "      <th>6</th>\n",
       "      <td>2600</td>\n",
       "      <td>1986</td>\n",
       "      <td>2</td>\n",
       "    </tr>\n",
       "    <tr>\n",
       "      <th>7</th>\n",
       "      <td>2600</td>\n",
       "      <td>1987</td>\n",
       "      <td>6</td>\n",
       "    </tr>\n",
       "    <tr>\n",
       "      <th>8</th>\n",
       "      <td>2600</td>\n",
       "      <td>1988</td>\n",
       "      <td>2</td>\n",
       "    </tr>\n",
       "    <tr>\n",
       "      <th>9</th>\n",
       "      <td>2600</td>\n",
       "      <td>1989</td>\n",
       "      <td>1</td>\n",
       "    </tr>\n",
       "    <tr>\n",
       "      <th>10</th>\n",
       "      <td>GEN</td>\n",
       "      <td>1990</td>\n",
       "      <td>1</td>\n",
       "    </tr>\n",
       "    <tr>\n",
       "      <th>11</th>\n",
       "      <td>GEN</td>\n",
       "      <td>1991</td>\n",
       "      <td>1</td>\n",
       "    </tr>\n",
       "    <tr>\n",
       "      <th>12</th>\n",
       "      <td>GEN</td>\n",
       "      <td>1992</td>\n",
       "      <td>6</td>\n",
       "    </tr>\n",
       "    <tr>\n",
       "      <th>13</th>\n",
       "      <td>GEN</td>\n",
       "      <td>1993</td>\n",
       "      <td>4</td>\n",
       "    </tr>\n",
       "    <tr>\n",
       "      <th>14</th>\n",
       "      <td>GEN</td>\n",
       "      <td>1994</td>\n",
       "      <td>5</td>\n",
       "    </tr>\n",
       "    <tr>\n",
       "      <th>15</th>\n",
       "      <td>N64</td>\n",
       "      <td>1996</td>\n",
       "      <td>11</td>\n",
       "    </tr>\n",
       "    <tr>\n",
       "      <th>16</th>\n",
       "      <td>N64</td>\n",
       "      <td>1997</td>\n",
       "      <td>34</td>\n",
       "    </tr>\n",
       "    <tr>\n",
       "      <th>17</th>\n",
       "      <td>N64</td>\n",
       "      <td>1998</td>\n",
       "      <td>63</td>\n",
       "    </tr>\n",
       "    <tr>\n",
       "      <th>18</th>\n",
       "      <td>N64</td>\n",
       "      <td>1999</td>\n",
       "      <td>68</td>\n",
       "    </tr>\n",
       "    <tr>\n",
       "      <th>19</th>\n",
       "      <td>N64</td>\n",
       "      <td>2000</td>\n",
       "      <td>37</td>\n",
       "    </tr>\n",
       "    <tr>\n",
       "      <th>20</th>\n",
       "      <td>N64</td>\n",
       "      <td>2001</td>\n",
       "      <td>4</td>\n",
       "    </tr>\n",
       "    <tr>\n",
       "      <th>21</th>\n",
       "      <td>N64</td>\n",
       "      <td>2002</td>\n",
       "      <td>1</td>\n",
       "    </tr>\n",
       "    <tr>\n",
       "      <th>22</th>\n",
       "      <td>NES</td>\n",
       "      <td>1983</td>\n",
       "      <td>2</td>\n",
       "    </tr>\n",
       "    <tr>\n",
       "      <th>23</th>\n",
       "      <td>NES</td>\n",
       "      <td>1984</td>\n",
       "      <td>7</td>\n",
       "    </tr>\n",
       "    <tr>\n",
       "      <th>24</th>\n",
       "      <td>NES</td>\n",
       "      <td>1985</td>\n",
       "      <td>9</td>\n",
       "    </tr>\n",
       "    <tr>\n",
       "      <th>25</th>\n",
       "      <td>NES</td>\n",
       "      <td>1986</td>\n",
       "      <td>10</td>\n",
       "    </tr>\n",
       "    <tr>\n",
       "      <th>26</th>\n",
       "      <td>NES</td>\n",
       "      <td>1987</td>\n",
       "      <td>6</td>\n",
       "    </tr>\n",
       "    <tr>\n",
       "      <th>27</th>\n",
       "      <td>NES</td>\n",
       "      <td>1988</td>\n",
       "      <td>6</td>\n",
       "    </tr>\n",
       "    <tr>\n",
       "      <th>28</th>\n",
       "      <td>NES</td>\n",
       "      <td>1989</td>\n",
       "      <td>2</td>\n",
       "    </tr>\n",
       "    <tr>\n",
       "      <th>29</th>\n",
       "      <td>NES</td>\n",
       "      <td>1990</td>\n",
       "      <td>4</td>\n",
       "    </tr>\n",
       "    <tr>\n",
       "      <th>30</th>\n",
       "      <td>NES</td>\n",
       "      <td>1991</td>\n",
       "      <td>3</td>\n",
       "    </tr>\n",
       "    <tr>\n",
       "      <th>31</th>\n",
       "      <td>NES</td>\n",
       "      <td>1992</td>\n",
       "      <td>1</td>\n",
       "    </tr>\n",
       "    <tr>\n",
       "      <th>32</th>\n",
       "      <td>NES</td>\n",
       "      <td>1993</td>\n",
       "      <td>3</td>\n",
       "    </tr>\n",
       "    <tr>\n",
       "      <th>33</th>\n",
       "      <td>PS</td>\n",
       "      <td>1994</td>\n",
       "      <td>9</td>\n",
       "    </tr>\n",
       "    <tr>\n",
       "      <th>34</th>\n",
       "      <td>PS</td>\n",
       "      <td>1995</td>\n",
       "      <td>59</td>\n",
       "    </tr>\n",
       "    <tr>\n",
       "      <th>35</th>\n",
       "      <td>PS</td>\n",
       "      <td>1996</td>\n",
       "      <td>118</td>\n",
       "    </tr>\n",
       "    <tr>\n",
       "      <th>36</th>\n",
       "      <td>PS</td>\n",
       "      <td>1997</td>\n",
       "      <td>134</td>\n",
       "    </tr>\n",
       "    <tr>\n",
       "      <th>37</th>\n",
       "      <td>PS</td>\n",
       "      <td>1998</td>\n",
       "      <td>168</td>\n",
       "    </tr>\n",
       "    <tr>\n",
       "      <th>38</th>\n",
       "      <td>PS</td>\n",
       "      <td>1999</td>\n",
       "      <td>136</td>\n",
       "    </tr>\n",
       "    <tr>\n",
       "      <th>39</th>\n",
       "      <td>PS</td>\n",
       "      <td>2000</td>\n",
       "      <td>117</td>\n",
       "    </tr>\n",
       "    <tr>\n",
       "      <th>40</th>\n",
       "      <td>PS</td>\n",
       "      <td>2001</td>\n",
       "      <td>63</td>\n",
       "    </tr>\n",
       "    <tr>\n",
       "      <th>41</th>\n",
       "      <td>PS</td>\n",
       "      <td>2002</td>\n",
       "      <td>5</td>\n",
       "    </tr>\n",
       "    <tr>\n",
       "      <th>42</th>\n",
       "      <td>PS</td>\n",
       "      <td>2003</td>\n",
       "      <td>1</td>\n",
       "    </tr>\n",
       "    <tr>\n",
       "      <th>43</th>\n",
       "      <td>SAT</td>\n",
       "      <td>1994</td>\n",
       "      <td>18</td>\n",
       "    </tr>\n",
       "    <tr>\n",
       "      <th>44</th>\n",
       "      <td>SAT</td>\n",
       "      <td>1995</td>\n",
       "      <td>19</td>\n",
       "    </tr>\n",
       "    <tr>\n",
       "      <th>45</th>\n",
       "      <td>SAT</td>\n",
       "      <td>1996</td>\n",
       "      <td>7</td>\n",
       "    </tr>\n",
       "    <tr>\n",
       "      <th>46</th>\n",
       "      <td>SCD</td>\n",
       "      <td>1993</td>\n",
       "      <td>1</td>\n",
       "    </tr>\n",
       "    <tr>\n",
       "      <th>47</th>\n",
       "      <td>SCD</td>\n",
       "      <td>1994</td>\n",
       "      <td>1</td>\n",
       "    </tr>\n",
       "    <tr>\n",
       "      <th>48</th>\n",
       "      <td>SNES</td>\n",
       "      <td>1990</td>\n",
       "      <td>3</td>\n",
       "    </tr>\n",
       "    <tr>\n",
       "      <th>49</th>\n",
       "      <td>SNES</td>\n",
       "      <td>1991</td>\n",
       "      <td>13</td>\n",
       "    </tr>\n",
       "    <tr>\n",
       "      <th>50</th>\n",
       "      <td>SNES</td>\n",
       "      <td>1992</td>\n",
       "      <td>8</td>\n",
       "    </tr>\n",
       "    <tr>\n",
       "      <th>51</th>\n",
       "      <td>SNES</td>\n",
       "      <td>1993</td>\n",
       "      <td>10</td>\n",
       "    </tr>\n",
       "    <tr>\n",
       "      <th>52</th>\n",
       "      <td>SNES</td>\n",
       "      <td>1994</td>\n",
       "      <td>10</td>\n",
       "    </tr>\n",
       "    <tr>\n",
       "      <th>53</th>\n",
       "      <td>SNES</td>\n",
       "      <td>1995</td>\n",
       "      <td>6</td>\n",
       "    </tr>\n",
       "    <tr>\n",
       "      <th>54</th>\n",
       "      <td>SNES</td>\n",
       "      <td>1996</td>\n",
>>>>>>> 5e83b6f9bae3316a5a9c1bda94c007904063e79b
       "      <td>1</td>\n",
       "    </tr>\n",
       "  </tbody>\n",
       "</table>\n",
<<<<<<< HEAD
       "<p>62 rows × 3 columns</p>\n",
=======
>>>>>>> 5e83b6f9bae3316a5a9c1bda94c007904063e79b
       "</div>"
      ],
      "text/plain": [
       "   Platform  Year  Games per Platform\n",
<<<<<<< HEAD
       "0      2600  1980                   9\n",
       "1      2600  1981                  46\n",
       "2      2600  1982                  36\n",
       "3      2600  1983                  11\n",
       "4      2600  1984                   1\n",
       "..      ...   ...                 ...\n",
       "57     SNES  1995                  54\n",
       "58     SNES  1996                  30\n",
       "59     SNES  1997                   4\n",
       "60     SNES  1998                   2\n",
       "61     SNES  1999                   1\n",
       "\n",
       "[62 rows x 3 columns]"
      ]
     },
     "execution_count": 188,
=======
       "0      2600  1980                   5\n",
       "1      2600  1981                  36\n",
       "2      2600  1982                  26\n",
       "3      2600  1983                   8\n",
       "4      2600  1984                   1\n",
       "5      2600  1985                   1\n",
       "6      2600  1986                   2\n",
       "7      2600  1987                   6\n",
       "8      2600  1988                   2\n",
       "9      2600  1989                   1\n",
       "10      GEN  1990                   1\n",
       "11      GEN  1991                   1\n",
       "12      GEN  1992                   6\n",
       "13      GEN  1993                   4\n",
       "14      GEN  1994                   5\n",
       "15      N64  1996                  11\n",
       "16      N64  1997                  34\n",
       "17      N64  1998                  63\n",
       "18      N64  1999                  68\n",
       "19      N64  2000                  37\n",
       "20      N64  2001                   4\n",
       "21      N64  2002                   1\n",
       "22      NES  1983                   2\n",
       "23      NES  1984                   7\n",
       "24      NES  1985                   9\n",
       "25      NES  1986                  10\n",
       "26      NES  1987                   6\n",
       "27      NES  1988                   6\n",
       "28      NES  1989                   2\n",
       "29      NES  1990                   4\n",
       "30      NES  1991                   3\n",
       "31      NES  1992                   1\n",
       "32      NES  1993                   3\n",
       "33       PS  1994                   9\n",
       "34       PS  1995                  59\n",
       "35       PS  1996                 118\n",
       "36       PS  1997                 134\n",
       "37       PS  1998                 168\n",
       "38       PS  1999                 136\n",
       "39       PS  2000                 117\n",
       "40       PS  2001                  63\n",
       "41       PS  2002                   5\n",
       "42       PS  2003                   1\n",
       "43      SAT  1994                  18\n",
       "44      SAT  1995                  19\n",
       "45      SAT  1996                   7\n",
       "46      SCD  1993                   1\n",
       "47      SCD  1994                   1\n",
       "48     SNES  1990                   3\n",
       "49     SNES  1991                  13\n",
       "50     SNES  1992                   8\n",
       "51     SNES  1993                  10\n",
       "52     SNES  1994                  10\n",
       "53     SNES  1995                   6\n",
       "54     SNES  1996                   1"
      ]
     },
     "execution_count": 15,
>>>>>>> 5e83b6f9bae3316a5a9c1bda94c007904063e79b
     "metadata": {},
     "output_type": "execute_result"
    }
   ],
   "source": [
    "platform_and_year = game_data.groupby([\"Platform\",\"Year\"], as_index=False).count()\n",
    "games_by_year = platform_and_year[[\"Platform\", \"Year\", \"Name\"]].rename(columns={\"Name\": \"Games per Platform\"})\n",
    "games_by_year"
   ]
  },
  {
   "cell_type": "code",
<<<<<<< HEAD
   "execution_count": 99,
=======
   "execution_count": 31,
>>>>>>> 5e83b6f9bae3316a5a9c1bda94c007904063e79b
   "metadata": {
    "scrolled": true
   },
   "outputs": [
    {
     "data": {
<<<<<<< HEAD
      "image/png": "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\n",
=======
      "image/png": "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\n",
>>>>>>> 5e83b6f9bae3316a5a9c1bda94c007904063e79b
      "text/plain": [
       "<Figure size 432x1080 with 1 Axes>"
      ]
     },
     "metadata": {},
     "output_type": "display_data"
    }
   ],
   "source": [
    "sns.set_theme(style=\"whitegrid\")\n",
    "\n",
    "# Initialize the matplotlib figure\n",
    "f, ax = plt.subplots(figsize=(6, 15))\n",
    "\n",
    "# Plot the games per year\n",
    "sns.set_color_codes(\"pastel\")\n",
<<<<<<< HEAD
    "sns.barplot(x=\"Year\", y=\"Game Count\", data=games_by_year,\n",
    "            label=\"Game Count\", color=\"blue\")\n",
    "\n",
    "# Add a legend and informative axis label\n",
    "ax.legend(ncol=2, loc=\"lower right\", frameon=True)\n",
    "ax.set(xlim=(0, 24), ylabel=\"Game Count\",\n",
=======
    "sns.barplot(x=\"Year\", y=\"Games per Platform\", data=games_by_year,\n",
    "            label=\"Games per Platform\", color=\"blue\")\n",
    "\n",
    "# Add a legend and informative axis label\n",
    "ax.legend(ncol=2, loc=\"lower right\", frameon=True)\n",
    "ax.set(xlim=(0, 24), ylabel=\"Games per Platform\",\n",
>>>>>>> 5e83b6f9bae3316a5a9c1bda94c007904063e79b
    "       xlabel=\"Year\", xticks=[0,5,10,15,20,25])\n",
    "sns.despine(left=True, bottom=True)"
   ]
  },
  {
   "cell_type": "code",
<<<<<<< HEAD
   "execution_count": 65,
=======
   "execution_count": 17,
>>>>>>> 5e83b6f9bae3316a5a9c1bda94c007904063e79b
   "metadata": {
    "scrolled": true
   },
   "outputs": [
    {
     "data": {
      "text/plain": [
       "<AxesSubplot:xlabel='Year', ylabel='Platform'>"
      ]
     },
<<<<<<< HEAD
     "execution_count": 65,
=======
     "execution_count": 17,
>>>>>>> 5e83b6f9bae3316a5a9c1bda94c007904063e79b
     "metadata": {},
     "output_type": "execute_result"
    },
    {
     "data": {
<<<<<<< HEAD
      "image/png": "iVBORw0KGgoAAAANSUhEUgAAAZIAAAEJCAYAAAC+I6F6AAAAOXRFWHRTb2Z0d2FyZQBNYXRwbG90bGliIHZlcnNpb24zLjMuMiwgaHR0cHM6Ly9tYXRwbG90bGliLm9yZy8vihELAAAACXBIWXMAAAsTAAALEwEAmpwYAAA8GElEQVR4nO3deVyU5f7/8dcAw74ICAKCqLiAIqJoapr7gguaWraYVuY5aVrn2HKyk1Yumdp2Ktts+fbLOpmVa+aW5oqZoYmoiBsigmzKDsMs9+8PjqMozowOMAqf5+PRI++L+zP3dV/czHvu656ZW6UoioIQQghxi+xs3QEhhBB3NgkSIYQQVpEgEUIIYRUJEiGEEFaRIBFCCGEVB1t3oK4ZDAZKSkpQq9WoVCpbd0cIIe4IiqKg1Wpxc3PDzq7qOUiDC5KSkhJSUlJs3Q0hhLgjtWnTBg8PjyptDS5I1Go1UDkYjo6ON12flJREZGRkTXfrjiPjUEnGoZKMwxX1dSwqKipISUkxPodercEFyeXpLEdHR5ycnG7pMW61rr6Rcagk41BJxuGK+jwW1V0SkIvtQgghrCJBIoQQwioSJEIIIawiQSKEEMIqEiRCCCGsIkEi6pXSci17DmVw7MxFW3dFiAajwb39V9Rf53OKeXHJLgqKKwDoFxPMsw/H2LhXQtR/dX5GsmTJEoYPH87w4cNZvHgxAAcPHmTcuHEMHz6cZ599loqKyieCY8eOMWbMGIYMGcLLL7+MTqcDICMjg/HjxxMbG8vUqVMpKSmp692oF85kFPDluiP8sDWFwpIKi+s0Wj0araEWe3ZrVm0/aQwRgN8S0jl7odCi2vIKHeUVutrqmhD1Wp0GSXx8PLt372bVqlWsXr2aI0eOsGrVKp5++mnmzp3L+vXrAfjxxx8BeOGFF3jllVfYtGkTiqKwYsUKAObMmcPDDz/Mxo0biYyM5KOPPqrL3bgtKYpCZm4JFVq9ReufPJfPs//ZyartJ/n6l2P864OdaHXmw2H5luOMf2UDC3/M4P3vD6LXm68pKNbwxdok5n2xjy37zlrUv1tRXKa9rq2kmrZrffXzER6evYGHZm3gs9WHkZuGCnFz6jRI/Pz8mDlzJo6OjqjVasLCwjh//jzR0dGEh4cDMGvWLAYNGsT58+cpLy8nOjoagDFjxrBx40a0Wi379+9nyJAhVdrrgt6gYKjlJxmDQWH3ofN8s/EYR8/kWVSTnl3E1EVb+fsbv/LonE3sS8o0W7N531l0V4XA+ZwSDp3IMVmTknaJbzcmo6nQoyiw5Y80fks4Z3Zbcz7/ndU7TvHH0Qu8v+Ivft592vxO3YLB3UK5+kO3oQEehIf6mKw5kJzNT7+dRKszoNMbWLvrNPuOXKiV/glRX9XpNZLWrVsb/52amsqGDRt4/PHHcXV1ZcaMGZw+fZrOnTszc+ZMjh49ip+fn3F9Pz8/srKyuHTpEu7u7jg4OFRpr00Gg8KX646wIf4MdnYKE0pPMbJ3mNm6XQfP89X6IxSVahncLZTH49pjb2f6G4c/XpnIxr2pAHy/JYUZD3Wmf5cQkzVfrjvC+ZzK6b3iMi1LfjhETEQTHOxv/DrBydHeorarnckoqKbN9NRRRk4xJ87lV2nbfiCdEb1amqwrLKng01WJJJ3KpVWwN0+O6YC/t6vJms5t/Xl9ak92HjyPj6czw3u2wM7MeFe7T+cL6B4ZaLJOCHGFTd61deLECSZNmsS//vUv9Ho9u3fv5tlnn2XlypWUlZWxdOlSDAZDle90URQFlUpl/P/Vavvr4HceTGfNzlNU6AyUVyh8tiaJU+n5JmuyL5Xy9n8TyL5URplGx5qdp8xO65SUadl8zTqrd5w027/07OIqy/nFGorMXPMY0asljdyvfB9QdGs/Ilv6mqzp0KrxdUEY3cbvBmtX8nRzvC7QfDydTdYAfPTTIXYePM/FQg1/HL3AW98kmK0B6BDWmGn3deShwW3xdDP/pZwdW/tx7eET3cbfom0JISrVeZAkJCTw2GOP8dxzzzF69GgaN25Mx44dCQkJwd7enqFDh5KYmEhAQAA5OVemWnJzc/H398fHx4eioiL0+sprATk5Ofj71+4f/rWvqG/UVuXnafnoDVWnwcxNValUcO0LaHNnMAB3tQuostw6pBHeZp6sm/i48vHMAcx4qDOvTu7Oa3/vYTaQgxq78+LEroQFe+Hr6cCTozvQ9ZptX8vd1ZEJQyOM++Xt4cT42HCz+3Qopeo027HUixZf/7kZrUIaMeOhzoQGeBDSxINnxkUT0cL0dJgQoqo6ndrKzMxk2rRpvPvuu/To0QOAXr168cEHH5CZmUlgYCC//fYb7du3p2nTpjg5OZGQkEBMTAxr1qyhd+/eqNVqunTpwi+//EJcXByrV6+md+/etdrv9i19Wbvryry+SlXZZkrrZo2ws1NhuCpMIpqbfoJydVYzoldLVu84BVSGyn3925jt36PDI3CwV5GQnE3zQE8eHd7ObA2Au4va7LTZtXp0CKRHh8D//V5MT09dNqZfK+6JbsqFvBLahnrjqDY9hQbQsqkXiSdzjcshTdwtqrsV/WJC6Bdzc+MghLiiToPkiy++QKPRsHDhQmPbgw8+yNy5c5kyZQoajYaIiAhefPFFAN566y1mzZpFcXEx7du3Z+LEiQC8+uqrzJw5k48//pjAwEDeeeedWu333VFBTBgawfo9p8Gg57GRUYQ08TBZ4+/tyowHO/H/1h+lqEzLoLuaMbh7c7PbemJkJJ3a+nM2s5BObf1pHuhptkbtYM9jI9rz2Ij2lu5SnfPzdsHP28Xi9Z+6ryOLv/6T0xkFBDV2458Pdq7F3gkhrKFSGth7HTUajfHGM7dyz4DLZ0gNXV2NQ3GZFjdnh9v2tshyPFSScbiivo6FqedO+WS7uK25u1x/NzYhxO1FvmtLCCGEVSRIhBBCWEWCRAghhFUkSIQQQlhFgkQIIYRVJEiEEEJYRYJECCGEVSRIhBBCWEWCRAghhFUkSIQQQlhFgkQIIYRVJEiEEEJYRYJECCGEVSRIhBBCWEWCRAghhFUkSIQQQlhFbmwlxC3SXszEIS8VRReFyuH2ugGXJvMUhQc2o7J3wLPLUBwbB9u6S6Ies0mQ6HQ6PvvsM9auXYtKpUKv1zN69GiefPJJlixZwvLly2ncuHGVmk8++YS0tDSeeOIJVq1aRevWrY0/a9u2LcePH6/r3RAN2MXfviE/fhUeQFryJoImzEXtHVDj21EUA/nxqyg5the1dxO8+z6Mo29TkzUVuelkfD0LRVcBQPGRXQQ/+T4O7o1qvH9CgI2CZM6cOeTm5vL999/j6elJcXEx06ZNw8PDA4AHH3yQp59++rq6tLQ0AGbOnMmKFSuwt7ev034LAaAtyCY/frVxWV+UR/6en/AbMa3Gt1Wwbx2Xtv8XgIqsM2gunCZk6hJUdjc+9ouP7DaGCIChvITS4/vwjBliclvaSxfI37sGfWkBHh364tb2rprZCVHv1fk1kgsXLrB27VoWLlyIp6cnAO7u7rzyyivXnYVUp1OnTnh5efHZZ5/VdleFqJa+uABQqrTpii/VyrZKU/ZX3U5+NhXZZ03W2Lt6Xt/m5mWyxqCrIGPZbIoObqb0+D6yflxE6cmEm++waJDq/IwkMTGRsLAwvLyqHthhYWGEhYWRkpLC8uXL+fXXX40/Cw4O5sMPPzQuz58/nzFjxjBgwIAqU1xC1AWnoDDUvk3R5p03tnl06GO2Tl9ewqXfvqX8fArOIeH49H0YOydXkzVq36aUnztmXFY5OOLg5W+yxiOqH0WHtlGRdQYA59BIXFt3MVlTfvYI+qKLVdqKk3bh2irGZJ0QYKOpLZVKZfz3xo0b+fjjjzEYDDg6OtK3b98bTm1dFhQUxIwZM4xTXELUJZXKjsDxc8j/fTW5Z08Q3HME7hF3m63LWbeE0pQ/gMppKn1ZEU3unWGyxrv3A2gyT1GRdQaV2hnfQY9j7+JussbOyYWmkxZRfvYIKgc1TsHhVf7mquPg4XNdm301bUJUp86DJDIyklOnTlFcXIy7uzuxsbHExsaSnp7OxIkTLX6cBx54gE2bNskUl7AJBw9vGg96nLMJCbhHmH/VrigKpSf+rNJ27bRV9dvxIXjyW2gvXcDezQs7RxeL+qeys8elRZRF6wI4+ofiGRNLYcJGANS+QXh1i7O4XjRsdR4kQUFBjBw5khdffJE33ngDT09PdDod27dvx87u5i7ZXJ7iEuJ2p1KpUPsEVpkOU/sEWVxfG+8Iu1bj2L/h2XUYhtJCnJq2MXlBX4ir2eQDia+99hqdO3dm4sSJxMXFMXjwYI4cOWI8u1i+fDmjRo2q8l98fPx1jxMUFMSzzz5b190X4pY0HvYk9m6NALB396bx0L/btkPVcPRtinNIhISIuCkqRVEU86vVHxqNhqSkJCIjI3Fycrrp+oSEBGJi5AKkjEOlmx0HRa9Fm5+NulETVPb15/PAcjxcUV/HwtRzZ/05koW4A6js1WY/UCjEnUa+a0sIIYRVJEiEEEJYRYJECCGEVSRIhBBCWEWCRAghhFUkSIQQQlhFgkQIIYRVJEiEEEJYRYJECCGEVSRIhBBCWEWCRAghhFUkSIQQQlhFgkQIIYRVJEiEEEJYRYJECCGEVSRIhBBCWEVubCWEuCP8fHwrW07txNXBhfsjR9A5KNLWXRL/Y/MzkvT0dNq2bcuePXuqtPfv35/09HS2bdvGmDFjGDp0KPPnz7+u/ptvvmHChAl11V0hhA38fu4AX//1I5lF2Zy6dJa39nxKXuklW3fLJgwGA4cuHCUh4zA6vc7W3QFugyABUKvVzJ49m+Li4irtiqLw6quv8tFHH7F27VqOHj3Kjh07jD8/efIkS5curevuCiHqWOKFY1WWdQYdR7JTbNSbmqPVazl04Sipl9ItXv+VbW/z+o4PWLTrI/61eQGlFWW13EvzboupLX9/f+6++24WLVrEvHnzjO1btmxh2LBhBAQEAPDuu+8abzpfUVHBK6+8wjPPPMOaNWts0m8hxM1TFIWtp/dwIOMwwV6BjAwfhLujm8ma0EbB1bQ1Nbuti6X5bDq5gzJtOX1b9KClT7Nb7rc5GYUXSMpOQVNeQowF6+eVXuKVbW+TU5IHQN8WPXjqrokma/afTyQl77RxOb0wk+2pexnWpr81XbfabREkADNnziQuLo49e/bQs2dPAOLj42nevDlTpkwhMzOTvn378s9//hOAt99+m7FjxxIcfP0BJoS4fa07/ivfHFoJwJ8ZiaTknua1/s+arBnQsicpeafZnbYfR3tH7ms3rNpwuVq5TsPLvy4mr6xyCuzX07t5feC/aOEdYlE/dQY9Dnb2Fq37+7kDvLv3cxRFAUB7FMa0G2qy5ufjW40hArD9zF6Gte5Pc+8b71dJRalFbXXttpjaAnB3d2fevHlVprj0ej179+5lwYIFfP/99yQmJrJq1Sr27NlDZmYmY8eOtXGvhRA3a9fZP6osH805YfZ6h4O9A093f5z/G/02X9z7JqMiBpvdzsHMJGOIQOV02I4ze83WHc1O4R/rX+XhH6bz+o4PKCwvMlvz45FfjCECsOrYJrR6rcmaAs31j1ugKTRZ0y04Go+rzt6c7B25J/Qus/2rbbfNGQlAr169jFNcAI0bNyYsLAwfHx8ABg4cSGJiIhqNhhMnTjBq1ChKS0vJzc3ln//8J//5z39s2HshhCV8XLw4m3/lmoCTvSOuaheLai1dD8BN7Xp9veP1bVfTGfT8Z+8X5JdXPqEfunCUbxJXmZ1yqtBXXPM4OgxXBUt1+jTvxp6z+1GoXM/PzZf2fm1M1ng6e7Bg0ItsPrkTnUHPgJY9CfDwN1lTF26rIIErU1w5OTk88sgjvPjiixQWFuLm5sauXbsYMGAA999/v3H9ffv2sWTJEgkRIe4QD0TGcTIvlaKKEuxUdjwUNQoXtXONbyeySVuimkSQmFV5od7P1YfBYfeYrMkrvWgMkctO5aWa3VZs6758dfAH43K/Fnfj5OBosqZjQDv+3Wc6O1L34eXkwYi2A3CwN/+U3MTdjwnRt9dszG0XJJenuJ544gl8fX2ZPHkyDz/8MFqtlp49e8p0lhB3uJY+oXwUt4CUvNMEevjT2NWnVrZjp7Lj332mcyQ7hTJtOdEB7XA08+Tu5+qLn6sPOaUXjW0R/q3NbmtYm/4EuPtzOCsZ8nVM6DzOoj52DGhHx4B2Fq17O1Mpipnzr3pGo9GQlJREZGSk8R1gNyMhIYGYGEvek1G/yThUknGoVJ/G4fTFNL488D3phZl0DurA5JgHb2pKrT6NxdVMPXfedmckQghhSy19mjF/4Au27sYd5bZ515YQQog7kwSJEEIIq0iQCCGEsIoEiRBCCKtIkAghhLCKBIkQQgirSJAIIYSwigSJEEIIq0iQCCGEsIoEiRBCCKtIkAghhLCKBIkQQgirSJAIIYSwigSJEEIIq0iQCCGEsIpF9yM5ceIEy5Yto6CgoEr7e++9VyudEqK+UvR6yrNzcPb3Q2Vvb+vuCFEjLAqSf/7zn/Tq1Yu2bdvWdn/ELSrPzqYg8TCuoaF4tG5Va9spOZtGxpp1VFzIpMDRCa8OkbW2rfqm8Fgyxxe/TcXFizg2bkz4zBdq9XclRF2xKEicnZ156aWXamyj6enpDBgwgC+//JKePXsa2/v378/XX39NbGwsYWFhVWrGjRvH+PHjSU5OZsGCBeTn56PX64mOjubll1/G1dW1xvp3p7mUcIBjCxah6HQAhDz0AM0etOye0TdDW1DA4ZdeRl9SCkDSK3OIWvyGPBla6OSHH1NxsfJe4BW5uZz6eCnR7yw2W3dx/5/kxe/FqUkTgkYMx8HdzaLtGbRaUKmwc5AboYraZdERdtddd7Fjxw569eqFfQ2djqvVambPns3atWtxd3ev8jN/f3/WrFlTbd2MGTNYsGABnTp1wmAwMGfOHN57770aDbo7zbnvfzCGCMD5n1bRdFQc9i6W32faEhf3JxhDBACDgdzde26rIDFotRQkHcHRxwe30Ga27o6RoiiUnc+o0laWnm62LmfnLlLe/o9xOf/AQaIWv2F2W6lffsWFjZvBzo7g+8YQcv/YW+q3EJawKEgaN27Mk08+iUqlAioPVJVKxbFjx255w/7+/tx9990sWrSIefPmWVyXm5tLeXk5AHZ2dkyfPp3z58/fcj/qA/3/xuMyg06HotfX+HYcfbyrafOxqNag06EvKUHt5VXT3TIqz8rm8EuzqMjLAyBgaCxhU/5WK9sqy8zk3PIVaM6kkpmdQ+DQWJPrq1QqfLrEcPGP/cY27y4xZreTtWVrleWi4ymUpqXh2uzGIZkX/zsZa382Lqd981+8ItvjGRFudntC3AqLgmTFihWsWLGCkJCQGt34zJkziYuLY8+ePVWmuLKzsxk1alSVdRcvXkzbtm156aWXmDp1Kv7+/nTr1o0BAwbQt2/fGu3XnSZg6BBOf/KZcblxr544XHOWdy3FYODssm/J2vIrDu7uhE58hMZ39zBZ0yi6I749upO393cA3FuF0WTQALP9y9v7O6c+/hRtQSEe4W0Jf/GFakPpWnqNhpLTZ3ANCbFoOuf8qtXGEAG4sGEjgSOG4Rrc1GytrrgEUMyOG1SG4pFX5qDJzgHg9CefobK3J2DwIJN1rZ6Zxtn/9w1Fx4/j2S6C0ImPmN2Wg8c1/bGzw97N9FgUnzxZTdsps0GiLSziwqbNaAsK8OvT+7Y60xS3N4uCxMfHh6ioqBrfuLu7O/PmzTNOcV1mamprzJgxDB48mL179xIfH28Mo5dffrnG+3enCBwai5OfH/kHDuIa2gz/Af3N1mT9uo3zK1cDoCsqJuWtd/FY2ganxr43rFHZ2RE+8wVKUlM5+tchokaNNJ6l3oi+vJwT73+IvrRySqwo+Thnv/kvrZ+ZZrKu4MgRkhcsRldcjJ2TE21m/APfHt1M1mjzC65vK8gHE0GiKApnPvuCCxs3oygKTQb2J2zqk6jsbvzO+OKTp4whclle/O9mg0Tt4UGr6VNNrnOtkPvvo+DQYXTFxQAEjRyBk++Nf0cAXh0ijb9bAFQqvDq0N1mj6PUc/vcsys5VTrdd+GUjka/PlbMYYRGLgiQ6OppnnnmGwYMH4+joaGwfPHiw1R3o1auXcYrLnNTUVNavX8+0adMYNGgQgwYNYuLEiYwePbpBBwmAT5cYfCyYKrms8MjRKsuKXk/R8eM4Nb7bbK1b8+bY5eWZDREATU6uMUQuKz171mzdmS/+n/HJ06DRcPqzz/HpfpfJbfr162s8WwJwDgrEM9z0E+GlhANkrt9gXM7a/CuNOkWbPDtz8vMDOzswGK5sK6CJuV26JW4tmhOz9CMKEpNwauKPe8sWZmu8O3eixeTHyVi7HpWDAyHjxuLWvLnJmoKkI8YQgcrjIWvzFgkSYRGLgiQpKQmA77//3timUqlqJEjgyhRXTk6OyfV8fHz4+uuv6dy5Mz16VP6hHzt2jIiIiBrpR0Pi0bYNOdt3XGmws8O9Vc1PZbgEBeLk748mO9vY1qhTtNk6zTXHQsWlfBSdDpVafcMa325diZj9b3J27MTRx4egkXFmP6tRmnau+jZTQeLrQ+iE8aR9+x2KTodrsxCCa/FitoObm9mzsWsFxY0gKG6ExetX98aMmn6zhqi/LAqS2NhYxo8fX2uduDzF9cQTTwDVXyPp2rUrs2bNYunSpbz55pvMmjULtVpNixYteOedd2qtb/VVwJBBlKalkfXrNhzc3Wg+8RGcm/jX+HZU9va0m/0SZ/7va8ozMvDpdhchD9xvtq5xr7u58MtG47Jvt67YmQiRy272zMy7UzRnl3175exCpcK7cyezdcFj7qXJgH78tSee6KGxFp2d3c482rTG566uxjcDqL08CYwbbuNeiTuFSlEUxdxKI0aM4Oeffza32h1Bo9GQlJREZGQkTk5ON12fkJBATIzlT1S3O8VgMHk94EZqexwMWi3nV62h4HAS7q3CCL7/Phxca+cVcm78Xs6vXAOKgaBRI/Hr3cvi2vp0PCiKQsGhRLQFhXh36YyDmYv6V6tP42Ct+joWpp47LTojadGiBbNmzaJLly5VPvhXU1NbwnZuJUTqgp1aTci4+wgZd1+tb6vx3T3MvmOtIVCpVDSK7mjrbog7kEVBkp+fT35+Pmevukhak9dIhBBC3LksCpJly5YBoNPpUBQFtQVz1UIIIRoGi+Y18vLymDx5MtHR0URFRTFx4kSysrJqu29CCCHuABYFydy5c4mOjiY+Pp74+Hi6dOnCa6+9VstdE0IIcSewKEhSU1OZPn06np6eeHt788wzz5CWllbbfRNCCHEHsChIdDodGo3GuFxWVnbHv29eCCFEzbDoYvuwYcN47LHHGDNmDCqVip9++okhQ4bUdt+EEELcAUwGSUZGBkFBQUybNo2AgAB27dqFwWBgzJgx3Hdf7b+/XwghxO3PZJA8/fTT/PTTT7zwwgu8+eabjB0rN8cRQghRlckgKSwsZPbs2ezZs4f58+df9/NZs2bVWseEEELcGUwGyQcffMCvv/6KnZ0djRo1qqMuCSGEuJOYDJLw8HDC/3c/h+nTp1f5WXx8fO31SgghxB3DZJAcPXoURVFYv349/fv35/IXBet0Ol577TU2b95cJ50UQghx+zIZJN999x179uwhOzu7yhmJg4MDgwaZvq2oEEKIhsFkkMybNw+Ad999lxkzZtRJh4QQQtxZLPpA4owZMzh69CilpaUoioJeryctLY1x48bVdv+EEELc5iwKklmzZrF161Y0Gg3+/v6kpaURExMjQSKEEHeI82n55OeV0rJtY1xcHWv0sS0Kkvj4eLZu3cqcOXOYNm0amZmZfP755zXaESGE7ZWVVlBepsXb1/Lb7NaVnVtOcGDvWZycHegb25aIqEBbd+mOsXFVEn/sTgXAydmBiVN7EBjsVWOPb1GQ+Pn54erqSsuWLUlJSWHgwIHVfkCxpqSnpxMbG0tYWBgqlQqtVou/vz9vvPEGBoOBuXPncv78eRRFISwsjFdeeQVfX99a648QDcGuX0+wc/MJ9HoDzVr68OCkrji7mL+J3bkzF0lNKaFZcBF+TTxqpW9JB8+zfePxyoUC+GnZAaa/1I9GPq6mC29zp47nkJiQjpu7E937tMDTy6XGt1GYX8Yfe1KNy5pyHbu3nuT+R2vuvvIWBYlarWb//v2EhYWxc+dOunXrRmlpaY11ojr+/v6sWbPGuLxw4UIWL15MYWEh9957LyNGjADg008/5dVXX2XJkiW12h8h6rO8nGJ+23gcKt/hT9rpi/y+4zR9Y9uarNuxOYUdm1IAOJqwgzGPdKZ9dFCN9y/1ZF6VZYNBIe30RbNBoinXkphwHk25jshOQRYHT/7FUvJySghp7o2jk0VPkzft1PEcvv1sn3HMkw9nMu3Fftg7mP5S9gsZhfyx8wx6vYEud4cS0sLH5Pqacp1xG5eVl2mt6fp1LPoa+eeff57ly5fTp08fkpOT6d69OyNHjqzRjpjTrVs3Tpw4QW5uLmVlZcb28ePHM378+DrtixD1TV5OyXVPNnk5JSZrdDo98b+dMi4rSuVZjTmKQeGPXWf45tN9bFp9hNLiCrM1QSHXT8OYm5rR6fR8+f4eNqxMYtsvyXz69k7ycorNbuv3Haf5YME2vl26j//M20rGuXyzNVD5yv9wQjpFBZY9SSf+mV5lzPMvlpF6Ku/GBUBRQTlfLYnnr/3nOHzgPF9//DvZmYUma/wCPAhp7l2lLaZHM4v6aCmLojY6Opro6GgAVqxYQVFRER4etXMKWx2tVsumTZuIjo5m0KBBvPDCC3zwwQf06NGD3r17ExsbW2d9EaI+Cm3pi7OLusor1baRTUzWKAbQ6w1V2nRaww3WvmLPb6fY9ksyAKdTcjh/Lp9JT/c0WRPdNYSMcwX8tf8cjo4O9I1tg1+A6eegU8k55GRdCQ5NuY4Dv6cxKK7dDWs05Tq2bUjmf5+9prxMy/aNx3n4b91MbivlaBYrvvoTg76y0Nn+NN37tDRZ4+p+/QVvt2rarpacdIEKjc64rNcbOHIoE/9AT5N1D//tLvbvOUv+xVIiogIJa+tncv2bZTJIpkyZYrL4k08+qdHOXC07O5tRo0YBUFFRQVRUFM899xyNGjVi586d7Nu3j7179/Lmm2+yfv16Pvroo1rrixD1nZOzAxOmdGfH5hRKijV07BJCZKemJmvUjvZ07taMP+PPGtu63dPC7LaOHDxfZTk99RIFl8rw8r7x9QE7eztG3B/F0NGRqOxU2NlZcGO9am6+Z+6GfJpy7XVhWFyoucHaV2zfeNwYIlA55de1Z3OT01Tde7ck+fAFCi5VzrB07BpMQFPTZ1kenk4WtV3LyVlNrwGtzK53q0wGyZAhQygpKaGiogKNRkNAQECtdeRa114jAcjPz2fBggX8+9//pnfv3vTu3ZunnnqKXr16cfHiRXx8TM8VCiFuLDDYiwcndb2pmqGjIwlp4cOhAyn0uCfSole6nt4uZGUWGZcdnexxcTV/UR8we/3gaq3C/Qho6smF85VTPy6uamJ6hJruWyMXQsN8OXvVFFNUl2Cz2yov01VZrqjQo9cbTPbXy9uFaTP7knoyDzd3J4veRdWmXRNaRfhz8lg2AE1DGxEVY75/tc1kkBgMBt5//31CQ0NJS0vjrbfe4p577qmrvl3Hw8ODbdu20a5dO+69914ATp48ia+vL15eNfdWNiGEZVR2Kjp0bkqFcsHi6ZL+Q8PJPFdAcZEGO3sVg+La1coFbXt7Ox5/uidHD2WiKdfSrmMQ7h7mX70/8HgX4refIjermDbtmhB9V4jZmpgezdi6Ptm43KFzU4v2ycHBnlbh/mbXu8zO3o6HJ99Fxrl89HqF4NBGt8Vtz03u6bJly1i3bh1NmjTh4MGDvPvuuzYNEnt7e5YuXcrChQt57733cHZ2xt/fn08++QR7e3ub9UsIYbkmQZ48M6s/mecK8G7sZtGT+61Sq+3paMEZxdWcXdT0Hxp+UzU9+7eikbcrp0/kUKEvIG5c1E3V36ygkEa1+vg3y2xkNmlSecGtU6dOXLp0qdY7BBAcHMy2bduq/VnLli1ZunRpnfRDCFE7HBzszb5t9U7TvlMQ7TsFkZCQgL295VNw9YHJvb32lEle9QshhLjWTcXm7TAXJ4QQ4vZicmrr+PHjdO7c2bhcXl5O586dURQFlUrFgQMHar2DQgghbm8mg2TLli111Q8hhBB3KJNB0rSp6Q8kCSGEEA3rrQVCCCFqnASJEEIIq0iQCCGEsIoEiRBCCKtIkAghhLCKBIkQQgirSJAIIYSwigSJEEIIq0iQCCGEsIoEiRBCCKtIkAghhLBKzd/fUgjRYOi0Wg7/vpUTSQdxpYzwzj3ldhMNkASJEOKWbf3xC04k7qv8d1oKxQUX6dp/pI17JeqazYNk48aNLF26FJ1Oh6IojBo1ismTJxt/PmbMGON92QGmTZtGeno6paWl5Obm0qxZMwCef/55m95PXoiGpkJTzsnDf1RpO/bnbgmSBsimQZKVlcWiRYtYuXIl3t7elJSUMGHCBFq0aMGAAQNITk7G0dGR5ORkMjMzCQwM5MMPPwRg3759LFmyhGXLltlyF4RosOztHVA7OVNRXmZsc3Z1q7Xt5WSkkZywG0dnFyK79cPNs5HZGsVgIO3kEbSackLbRqF2dKq1/jVkNg2SS5cuodVqKS8vB8DNzY2FCxfi5FT5y165ciU9e/YkPz+fFStW8I9//MOW3RVCXMXewYEeg+9jx7pvQFGwd1DTffBYi2orysvISE3B2z8QLx9/s+vnZKTx48fz0Ot0ACQf2MPDM143GQyKwcCaL98m/dRRADwa+XLf1FkWBVBZcSEFF3PwCwrF3sHmEze3PZuOUHh4OAMGDGDgwIFERETQrVs34uLiCA0NRavVsm7dOpYtW0Z+fj4zZsxg2rRpOMgvVYhaUVx4icQ9WygtKSK8090Eh0WYrenQoz/N2kSyb892evWPxdXd02xN1rnTrPnyrcozGZWKu2Pvp3PvoSZrkhN2G0MEoCg/j7PHE2nVoesNa86dPGoMkcs1Sft+o9ug0Sa3deSPHexY+w0GvQ43z0aMfPw5fAOCze5XQ2bzt//OmTOHbdu28dBDD5GRkcG4cePYvHkz27dvx8/Pj1atWhETE4OdnR2//fabrbsrRL2k1+lY+ekbHNi5geSE3az+4k3OnTxqvhDw8vXHt2mYRSEC8PuWlVemwxSFP35dXWV6rDqOzi7Xtzld33a1Cs31j1mhKTdZo63QsHv9dxj0laFVUpjP75t/MlkjbHxGsn37dkpLSxk2bBhjx45l7NixrFixgh9//BE7OzsyMzPp378/AMXFxSxfvpxBgwbZsstC1EvnTydTeDHnSoOikJywm5BW7Wp8W2XFRVWWddoKKjTl1YbFZZHd+nEsYTfFBRcBCA5rZ7ZvoW2jcPfyMdbYOzgQEdPTZE15aTHaCk2VtsJLeSZrhI2DxNnZmXnz5hEVFUVwcDCKonDs2DECAwNZtWoVW7ZsoUmTJgCcO3eO2NhYzp07R0hIiC27LUS94+zmXk2bR61sK7xzT3avTzMuB4e1w93L22SNm2cjxj+7gLPHE3F0ciGkVTtUdqYnVNSOTtz/1GyS9v1GRXkZEV160Tiwmckaj0a+NAlpSda508a21lF3WbBXDZtNg6R79+5Mnz6dKVOmoNVqAbjnnnsIDAykT58+xhABCAkJoX///nz//fc8//zztuqyEPWSf9PmtI3uwfG/9gLg7uVDdK/BtbKt6F6DcXZ1JzX5L7z9g+jUa4hFdWpHJ5PXRKrj5tnI7DWRaw2f+A/2b1vLpexMmod3pOPdA2+qviGy+ZXr0aNHM3q0Zb/oDz74wPjvbt260a1bt9rqlhANzqAH/k5Uz0GUFRcSHNYOB7W61rYV3vluwjvfXWuPbw1Xd0/6jHzE1t24o9g8SIQQt48mwS1s3QVxB7L5u7aEEELc2SRIhBBCWEWCRAghhFUkSIQQQlhFgkQIIYRVJEiEEEJYRYJECCGEVSRIhBBCWEWCRAghhFUkSIQQQlhFgkQIIYRVJEiEEEJYRYJECCGEVSRIhBBCWEWCRAghhFUkSIQQQlhFgkQIIYRVbHKHxI0bN7J06VJ0Oh2KojBq1CgmT54MwOrVq1m2bBk6nQ6DwcD999/PxIkTAZgwYQIXLlzA1dUVvV6Pu7s7zzzzDHfffXveslOIO4lBZ6A4JRd9qRb3Nr6oPZ1t3SVxh6jzIMnKymLRokWsXLkSb29vSkpKmDBhAi1atCA3N5fly5fz6aef4u/vT2FhIZMmTcLFxYX7778fgPnz5xvv1X748GEmT57Mt99+S6tWrep6V4SoNxRF4fyPSZSnFwKQtyeNkIejcPJzs3HPxJ2gzqe2Ll26hFarpby8HAA3NzcWLlxIq1at+Pjjj3nhhRfw9/cHwNPTk0WLFtGmTZtqH6tDhw4MHTqUH374oc76L0R9VH6+0BgiAIpWT/7BTBv2SNxJ6vyMJDw8nAEDBjBw4EAiIiLo1q0bcXFxeHh4kJmZSbt27aqsHxYWZvLxWrduzfbt22uxx0LceXRFGgqP5qCyV+HZzh97V7XpAqW6tuoahbieTS62z5kzh23btvHQQw+RkZHBuHHj+PPPPwFwcnK6qcdSqVQ4O8tcrhCXaYs0nP36IHm7Usndfoa0b/5Cr9GZrHEO9sQ50MO4rHKwwys6sLa7KuqJOj8j2b59O6WlpQwbNoyxY8cyduxYVqxYwY8//khISAhJSUl07drVuP4ff/zBzp07ef7556t9vOPHj5s9axGiISk6ko2h7Epw6Ao1FKfk4dWhyQ1rVCoVTcdFUpScU3mxvW1jHBu51EV3RT1Q52ckzs7OvP3226SnpwOVF/mOHTtGREQETzzxBAsXLiQnJweAixcvsnDhQkJDQ6t9rMTERDZt2sR9991XZ/0X4rZnp7quSWV/fdt1ZWp7vDoE4NMtREJE3JQ6PyPp3r0706dPZ8qUKWi1WgDuuecepk2bhqOjIzqdjkmTJqFSqVAUhQceeMD4ji2AWbNm4erqapzSevfddwkODq7r3RDituXZ3p+CAxnoiisAcPRxwb2Vr417Jeozm3yOZPTo0YwePbran02YMIEJEyZU+7Nly5bVZreEqBcc3Bxp9lhnio/norJX4d6mMXaO9rbulqjHbBIkQojaZe/sgFfHAFt3QzQQ8hUpQgghrCJBIoQQwioSJEIIIawiQSKEEMIqEiRCCCGsIkEihBDCKhIkQgghrCJBIoQQwioSJEIIIawiQSKEEMIqEiRCCCGsIkEihBDCKhIkQgghrCJBIoQQwioSJEIIIawiQSKEEMIqEiRCCCGsUqt3SNy4cSNLly5Fp9OhKAqjRo1i8uTJTJgwgSZNmvDWW28Z1/3ggw8AePrpp5kwYQIXLlzA1dXV+PPGjRvzxRdfUFFRwRtvvMH+/ftRqVR4enry4osvEhUVVZu7IsQdJT8/n6SkJOzs7IiKisLd3d1szfHjx9m+fTtlZWW0b9+e/v37Y29v/ha9RUVF5OXlUV5ejrOzc010v8akpqYSHx9PRUUFHTt2pFOnTmZrFEUhNTWVvLw8WrRoga+v3O/enFoLkqysLBYtWsTKlSvx9vampKSECRMm0KJFC6AyZGJjYxk4cGC19fPnz6dbt27XtX/11VcYDAbWrVuHSqUiISGBp556it9++w21Wl1buyNEFeXl5Rw8eJAzZ87QuHFjQkNDbd0lo4KCApYtW0ZFRQUAiYmJPPbYYyaf5IuLi/nll18wGAzGGh8fH2JiYkxu6/Dhw2zZsgVFUUhOTmb06NGEhISY7WNGRganT5/G19eXtm3bYmdn2eRIaWkp9vb2ODk5mV23qKiI1atXo9frAdi2bRseHh60atXKZN3WrVs5dOgQADt37mTUqFGEhYVZ1L+Gqtamti5duoRWq6W8vBwANzc3Fi5caPwlTp06lTlz5pCfn39Tj5ubm4tWq0Wr1QIQExPDggULjH8AQtQ2RVH44YcfiI+PJzMzkx9//JGTJ0/W6jYrKiosPsaPHj1qDBGAkpISUlJSTNZkZWVd9/gZGRkma/R6PTt37kRRFAC0Wi27du0y27/k5GS+++479u3bxy+//MKmTZvM1uh0OtauXcvHH3/Mxx9/THx8vNmac+fOGUPksjNnzpisKS0tJTEx0bisKAr79+83u62GrtbOSMLDwxkwYAADBw4kIiKCbt26ERcXZ3zl1qVLF/Lz85k/f36VKa7LZs2aVWVqKzY2lqlTpzJx4kSefPJJevTowV133UWPHj0YPXq0Ra9QhKgJ2dnZZGdnV2k7fPiw2Ve6UDnldOHCBYKCgvD09DS7fllZGb/88gupqam4ubkxYMAAWrdubbKmujNzc2frAQEB2NvbV3nibdq0qckavV5vfKF4WUlJickagAMHDlRZPnr0KH369Kny936txMRETpw4Ydzu3r17CQsLo0mTJjesady4sUVt17ocjJfJi1TzavVi+5w5c9i2bRsPPfQQGRkZjBs3js2bNxt//uyzz5KYmMivv/56Xe38+fNZs2aN8b+pU6cCEBwczM8//8z//d//0bFjR1avXs2oUaMoLCyszV0Rwqi6Fy2WXBs4cuQIX375JevXr+fzzz8nOTnZbM3evXtJTU0FKp+kN2zYUOVsozrt27fHy8vLuOzv7282fNzc3Bg+fDiNGjXC0dGRTp06ER0dbbLG0dHxusdt166dyRrgumkslUqFSqUyWZOXl2dR29X8/f3p2bMnDg6Vr5fbtm1Lhw4dTNa4urpetw/mpvdELZ6RbN++ndLSUoYNG8bYsWMZO3YsK1as4McffzSu4+LiwoIFC5gxYwZDhgypcvDfyDvvvMP48eOJiooiKiqKKVOm8OCDD7Jnzx6GDh1aW7sjhFGjRo2IiooyToE4OzvTtWtXs3W7du0yvtpVFIXdu3cTHh5usiYrK6vKslar5dKlSyZfibu4uPDoo49y6tQp7O3tadmypUUXzVu3bm02cK41dOhQ/P39OX78ONHR0Ra96eWuu+5izZo1xlf6HTt2xMXFxWRNixYtqkw5OTg40KxZM7Pb6t69OzExMeh0OrPbuGzIkCG0aNGCvLw8WrZsSWBgoEV1DVmtBYmzszPz5s0jKiqK4OBgFEXh2LFjREREVDm17dKlC7GxsXz33Xc8+eSTZh83KyuLDz/8kFmzZuHo6EhOTg4XL16kTZs2tbUrQlxn0KBBdOjQgb/++ot+/fpZNLWq0WiqLF87LVSdZs2aVblW4erqatH0jFqtNhtSNUGtVtO9e3fUajUdO3a0qKZly5ZMnDiR1NRUfH19LXqjQqtWrRg4cCCHDh3CycmJHj16WPROtMt9vJk34tjZ2dXJ2NUntRYk3bt3Z/r06UyZMsV4Yfyee+5h2rRpPPHEE1XWffbZZ9mxY0eVtmuvkQAsW7aM2bNns2jRImJjY3FxcUGtVvP888/LuypEnQsICMDPz8/i63MdOnTg4MGDxmVLXr13794djUbDiRMn8PLyom/fvhadXdzufH19b/pttR07drQ4rETdUinXXlmq5zQaDUlJSURGRt7SBfqEhASZM0XG4bKbGQeDwUBSUhIZGRk0bdqUyMhIs9cG7hRyPFxRX8fC1HNnrX4gUQhxxeUPB8qHZ0V9I1+RIoQQwioSJEIIIawiQSKEEMIqEiRCCCGsIkEihBDCKhIkQgghrNLg3v57+WMz5r6vyJRrP6HcUMk4VJJxqCTjcEV9HIvLz5nVffSwwX0gsaioyOxXagshhKhemzZt8PDwqNLW4ILEYDBQUlKCWq2uN58qFkKI2qYoClqtFjc3t+u/wbmhBYkQQoiaJRfbhRBCWEWCRAghhFUkSIQQQlhFgkQIIYRVJEiEEEJYRYJECCGEVSRIhBBCWEWC5H+Ki4sZMWIE6enpAKxcuZJhw4YRFxfH/Pnz0el0ABw5coSxY8cycuRInnzySQoLCwHIyMhg/PjxxMbGMnXqVEpKSmy2L9awdhxWrVpFr169GDVqFKNGjeLdd9+12b5Yw9Jx2LFjB3FxccTFxfHcc88Zf+8N7Xi40TjUl+NhyZIlDB8+nOHDh7N48WIA4uPjiYuLY/DgwVX269ixY4wZM4YhQ4bw8ssvG8eovhwT1VKE8tdffykjRoxQ2rdvr5w7d045deqUcs899yhZWVmKoijKq6++qnz55ZeKoijKQw89pGzfvl1RFEV54403lHfeeUdRFEX5+9//rvz888+KoijKkiVLlMWLF9tgT6xTE+Mwd+5cZd26dbbZgRpi6TgUFBQo3bt3V06cOKEoiqIsXbpUmTdvnqIoDet4MDUO9eF42LNnj/LAAw8oGo1GqaioUCZOnKisW7dO6dOnj5KWlqZotVpl0qRJxr+H4cOHKwcPHlQURVFeeukl5dtvv1UUpX4cEzciZyTAihUrePXVV/H39wfg+PHjREdHG5f79evHr7/+Clz5ihWAsrIynJ2d0Wq17N+/nyFDhgAwZswYNm7caIM9sY614wBw+PBhVq1aRVxcHM8//zwFBQU22BPrWDoOqampBAUF0apVqyrtDe14uNE4QP04Hvz8/Jg5cyaOjo6o1WrCwsJITU0lNDSUkJAQHBwciIuLY+PGjZw/f57y8nKio6OBK7/7+nJM3IgECfD666/TpUsX43J4eDiHDh0iMzMTvV7Pxo0byc3NBWDmzJnMmjWLXr16ER8fz4MPPsilS5dwd3fHwaHyy5T9/PzIysqyyb5Yw9pxgMp9f+qpp1i7di2BgYHMnTvXJvtiDUvHoXnz5ly4cIHk5GQANmzYQG5uboM7Hm40DlA/jofWrVsbgyE1NZUNGzagUqnw8/MzruPv709WVhbZ2dlV2i//7uvLMXEjEiTVaNGiBc899xxTp05l/PjxtG3bFrVaTXl5OS+//DJfffUVu3fv5uGHH+bFF19EUZTrvgCyPnwh5M2OA8CHH35ITEwMKpWKyZMns2vXLhvvhfVuNA6enp4sWrSI2bNnM3bsWPz9/VGr1Q3ueLjROED9Oh5OnDjBpEmT+Ne//kVISEiV3+nl37nBYKi2vb4eE5dJkFRDo9EQFRXF6tWrWb58OU2aNCEkJISUlBScnJyIiooC4IEHHuCPP/7Ax8eHoqIi9Ho9ADk5OcbT/zvZzY5DUVERX331lbFeURTs7e1t1Puac6Nx0Ov1BAQE8MMPP/DTTz8RERFBSEhIgzsebjQO9el4SEhI4LHHHuO5555j9OjRBAQEkJOTY/z55d/xte25ubn4+/vX22PiMgmSapSWlvLYY49RXFxMRUUF33zzDcOGDSM0NJQLFy5w+vRpALZu3UqHDh1Qq9V06dKFX375BYDVq1fTu3dvW+5CjbjZcXB1deXzzz/n0KFDAHzzzTcMGjTIlrtQI240DiqVikmTJpGVlYWiKHz11VcMGzaswR0PNxqH+nI8ZGZmMm3aNN566y2GDx8OQMeOHTlz5gxnz55Fr9fz888/07t3b5o2bYqTkxMJCQkArFmzht69e9fbY8LIZpf5b0P9+vVTzp07pyiKoqxYsUIZNmyYMnjwYOX99983rrN9+3YlLi5OGTFihPLoo48qaWlpiqIoSnp6uvLII48oQ4cOVSZNmqTk5+fbZB9qgjXjsH//fuXee+9VYmNjlSlTpiiFhYU22YeaYMk4/Pbbb8qIESOUwYMHK6+++qpSUVGhKErDOx5uNA714XiYN2+eEh0drYwcOdL433//+18lPj5eiYuLUwYPHqy8/vrrisFgUBRFUY4dO6aMHTtWGTJkiPLss88qGo1GUZT6dUxcS+5HIoQQwioytSWEEMIqEiRCCCGsIkEihBDCKhIkQgghrCJBIoQQwioSJELUojlz5jBu3DjjB9EA9Ho9Dz744B37TbhCXEuCRIhaNHPmTMrKyvj000+NbZ9++in29vY888wzNuyZEDVHPkciRC07fvw4Dz30EN9++y2KovD3v/+dn376iZ07d/Ldd99hMBho1KgRs2fPJiwsjDNnzjB37lxKSkrIyckhPDyc//znPzg5OREZGcmAAQNITk7mrbfeokOHDrbePSFwsHUHhKjv2rZty4wZM3j55ZcxGAy8/vrrnD17ltWrV/Ptt9/i4uLC7t27mT59Ohs2bGDFihXce++9jBo1Cq1Wy5gxY9i+fTtDhgxBq9XSr18/3nvvPVvvlhBGEiRC1IEJEyawadMmwsLC6NOnD4sXL+bs2bPGr98HKCwsJD8/nxdeeIE9e/bw2WefkZqaSnZ2NqWlpcb1rv5qdyFuBxIkQtSR4OBgmjVrBlTeGGzUqFG88MILxuXs7Gy8vLyYMWMGer2eoUOH0rdvXzIzM7l6BtrV1dUm/RfiRuRiuxA20KtXL9avX092djYA3333HY8++igAu3fvZtq0aQwbNgyAQ4cOVXnXlxC3GzkjEcIGevXqxd/+9jcmTZqESqXC3d2dJUuWoFKpmDFjBtOmTcPV1RV3d3e6du1KWlqarbssxA3Ju7aEEEJYRaa2hBBCWEWCRAghhFUkSIQQQlhFgkQIIYRVJEiEEEJYRYJECCGEVSRIhBBCWEWCRAghhFX+P2bXINAInIFyAAAAAElFTkSuQmCC\n",
=======
      "image/png": "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\n",
>>>>>>> 5e83b6f9bae3316a5a9c1bda94c007904063e79b
      "text/plain": [
       "<Figure size 432x288 with 1 Axes>"
      ]
     },
     "metadata": {},
     "output_type": "display_data"
    }
   ],
   "source": [
    "sns.stripplot(data=games_by_year, x=\"Year\", y=\"Platform\")"
   ]
  },
  {
   "cell_type": "code",
<<<<<<< HEAD
   "execution_count": 66,
=======
   "execution_count": 28,
>>>>>>> 5e83b6f9bae3316a5a9c1bda94c007904063e79b
   "metadata": {
    "scrolled": true
   },
   "outputs": [
    {
     "data": {
      "text/plain": [
<<<<<<< HEAD
       "<seaborn.axisgrid.FacetGrid at 0x7fb12ff167d0>"
      ]
     },
     "execution_count": 66,
=======
       "<seaborn.axisgrid.FacetGrid at 0x7fa17c601210>"
      ]
     },
     "execution_count": 28,
>>>>>>> 5e83b6f9bae3316a5a9c1bda94c007904063e79b
     "metadata": {},
     "output_type": "execute_result"
    },
    {
     "data": {
<<<<<<< HEAD
      "image/png": "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\n",
      "text/plain": [
       "<Figure size 436.925x360 with 1 Axes>"
=======
      "image/png": "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\n",
      "text/plain": [
       "<Figure size 476.175x360 with 1 Axes>"
>>>>>>> 5e83b6f9bae3316a5a9c1bda94c007904063e79b
      ]
     },
     "metadata": {},
     "output_type": "display_data"
    }
   ],
   "source": [
    "sns.relplot(\n",
<<<<<<< HEAD
    "    data=games_by_year, x=\"Year\", y=\"Platform\",size=\"Game Count\",\n",
=======
    "    data=games_by_year, x=\"Year\", y=\"Platform\",size=\"Games per Platform\",\n",
>>>>>>> 5e83b6f9bae3316a5a9c1bda94c007904063e79b
    "    palette=[\"b\", \"r\"], sizes=(10, 200)\n",
    ")"
   ]
  },
  {
   "cell_type": "markdown",
   "metadata": {},
   "source": [
    "## Game Count By Genre"
   ]
  },
  {
   "cell_type": "code",
<<<<<<< HEAD
   "execution_count": 78,
=======
   "execution_count": 19,
>>>>>>> 5e83b6f9bae3316a5a9c1bda94c007904063e79b
   "metadata": {
    "scrolled": false
   },
   "outputs": [
    {
     "data": {
      "text/html": [
       "<div>\n",
       "<style scoped>\n",
       "    .dataframe tbody tr th:only-of-type {\n",
       "        vertical-align: middle;\n",
       "    }\n",
       "\n",
       "    .dataframe tbody tr th {\n",
       "        vertical-align: top;\n",
       "    }\n",
       "\n",
       "    .dataframe thead th {\n",
       "        text-align: right;\n",
       "    }\n",
       "</style>\n",
       "<table border=\"1\" class=\"dataframe\">\n",
       "  <thead>\n",
       "    <tr style=\"text-align: right;\">\n",
       "      <th></th>\n",
       "      <th>Genre</th>\n",
       "      <th>Game Count</th>\n",
       "    </tr>\n",
       "  </thead>\n",
       "  <tbody>\n",
       "    <tr>\n",
       "      <th>0</th>\n",
       "      <td>Action</td>\n",
<<<<<<< HEAD
       "      <td>277</td>\n",
=======
       "      <td>200</td>\n",
>>>>>>> 5e83b6f9bae3316a5a9c1bda94c007904063e79b
       "    </tr>\n",
       "    <tr>\n",
       "      <th>1</th>\n",
       "      <td>Adventure</td>\n",
<<<<<<< HEAD
       "      <td>105</td>\n",
=======
       "      <td>38</td>\n",
>>>>>>> 5e83b6f9bae3316a5a9c1bda94c007904063e79b
       "    </tr>\n",
       "    <tr>\n",
       "      <th>2</th>\n",
       "      <td>Fighting</td>\n",
<<<<<<< HEAD
       "      <td>203</td>\n",
=======
       "      <td>124</td>\n",
>>>>>>> 5e83b6f9bae3316a5a9c1bda94c007904063e79b
       "    </tr>\n",
       "    <tr>\n",
       "      <th>3</th>\n",
       "      <td>Misc</td>\n",
<<<<<<< HEAD
       "      <td>136</td>\n",
=======
       "      <td>49</td>\n",
>>>>>>> 5e83b6f9bae3316a5a9c1bda94c007904063e79b
       "    </tr>\n",
       "    <tr>\n",
       "      <th>4</th>\n",
       "      <td>Platform</td>\n",
<<<<<<< HEAD
       "      <td>170</td>\n",
=======
       "      <td>107</td>\n",
>>>>>>> 5e83b6f9bae3316a5a9c1bda94c007904063e79b
       "    </tr>\n",
       "    <tr>\n",
       "      <th>5</th>\n",
       "      <td>Puzzle</td>\n",
<<<<<<< HEAD
       "      <td>84</td>\n",
=======
       "      <td>51</td>\n",
>>>>>>> 5e83b6f9bae3316a5a9c1bda94c007904063e79b
       "    </tr>\n",
       "    <tr>\n",
       "      <th>6</th>\n",
       "      <td>Racing</td>\n",
<<<<<<< HEAD
       "      <td>228</td>\n",
=======
       "      <td>183</td>\n",
>>>>>>> 5e83b6f9bae3316a5a9c1bda94c007904063e79b
       "    </tr>\n",
       "    <tr>\n",
       "      <th>7</th>\n",
       "      <td>Role-Playing</td>\n",
<<<<<<< HEAD
       "      <td>186</td>\n",
=======
       "      <td>62</td>\n",
>>>>>>> 5e83b6f9bae3316a5a9c1bda94c007904063e79b
       "    </tr>\n",
       "    <tr>\n",
       "      <th>8</th>\n",
       "      <td>Shooter</td>\n",
<<<<<<< HEAD
       "      <td>182</td>\n",
=======
       "      <td>132</td>\n",
>>>>>>> 5e83b6f9bae3316a5a9c1bda94c007904063e79b
       "    </tr>\n",
       "    <tr>\n",
       "      <th>9</th>\n",
       "      <td>Simulation</td>\n",
<<<<<<< HEAD
       "      <td>87</td>\n",
=======
       "      <td>49</td>\n",
>>>>>>> 5e83b6f9bae3316a5a9c1bda94c007904063e79b
       "    </tr>\n",
       "    <tr>\n",
       "      <th>10</th>\n",
       "      <td>Sports</td>\n",
<<<<<<< HEAD
       "      <td>392</td>\n",
=======
       "      <td>246</td>\n",
>>>>>>> 5e83b6f9bae3316a5a9c1bda94c007904063e79b
       "    </tr>\n",
       "    <tr>\n",
       "      <th>11</th>\n",
       "      <td>Strategy</td>\n",
<<<<<<< HEAD
       "      <td>114</td>\n",
=======
       "      <td>42</td>\n",
>>>>>>> 5e83b6f9bae3316a5a9c1bda94c007904063e79b
       "    </tr>\n",
       "  </tbody>\n",
       "</table>\n",
       "</div>"
      ],
      "text/plain": [
       "           Genre  Game Count\n",
<<<<<<< HEAD
       "0         Action         277\n",
       "1      Adventure         105\n",
       "2       Fighting         203\n",
       "3           Misc         136\n",
       "4       Platform         170\n",
       "5         Puzzle          84\n",
       "6         Racing         228\n",
       "7   Role-Playing         186\n",
       "8        Shooter         182\n",
       "9     Simulation          87\n",
       "10        Sports         392\n",
       "11      Strategy         114"
      ]
     },
     "execution_count": 78,
=======
       "0         Action         200\n",
       "1      Adventure          38\n",
       "2       Fighting         124\n",
       "3           Misc          49\n",
       "4       Platform         107\n",
       "5         Puzzle          51\n",
       "6         Racing         183\n",
       "7   Role-Playing          62\n",
       "8        Shooter         132\n",
       "9     Simulation          49\n",
       "10        Sports         246\n",
       "11      Strategy          42"
      ]
     },
     "execution_count": 19,
>>>>>>> 5e83b6f9bae3316a5a9c1bda94c007904063e79b
     "metadata": {},
     "output_type": "execute_result"
    }
   ],
   "source": [
    "genres = game_data.groupby(\"Genre\", as_index=False).count()\n",
    "genre_count = genres[[\"Genre\", \"Name\"]].rename(columns={\"Name\": \"Game Count\"})\n",
    "genre_count"
   ]
  },
  {
   "cell_type": "code",
<<<<<<< HEAD
   "execution_count": 110,
=======
   "execution_count": 20,
>>>>>>> 5e83b6f9bae3316a5a9c1bda94c007904063e79b
   "metadata": {},
   "outputs": [
    {
     "data": {
<<<<<<< HEAD
      "image/png": "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\n",
=======
      "image/png": "iVBORw0KGgoAAAANSUhEUgAAAYcAAAOICAYAAAA91z2CAAAAOXRFWHRTb2Z0d2FyZQBNYXRwbG90bGliIHZlcnNpb24zLjMuMiwgaHR0cHM6Ly9tYXRwbG90bGliLm9yZy8vihELAAAACXBIWXMAAAsTAAALEwEAmpwYAABfwUlEQVR4nO3dd0DV1eP/8ReIUKalGWYplVpqWmpZ+UnNPSq10sxR7j1yj9wGuDX3yNS01FLUnOXAhbnJbblwLxAHCMrm/P7wx/1ip3LABbPn4y+4wD3nfbn3Pu99r+tijDECACAZ1/SeAADgwUMcAAAW4gAAsBAHAICFOAAALG7pPYHUEBoakd5TAIB/HU/PLH/7M945AAAsxAEAYCEOAAALcQAAWIgDAMBCHAAAFuIAALAQBwCAhTgAACzEAQBgIQ4AAAtxAABYiAMAwEIcAAAW4gAAsBAHAICFOAAALMQBAGAhDgAAC3EAAFiIAwDAQhwAABY3Z175xIkTtXLlSklS2bJl1bNnT/Xu3Vu7du3So48+Kkn6/PPPVblyZR06dEh9+/bVjRs39MYbb8jb21tubk6dHgDgbzjt2Xfr1q3avHmzFi9eLBcXF7Vo0UL+/v46ePCg5syZoxw5ctz2+z169NCgQYNUrFgx9enTR35+fvr000+dNT0AwD9w2molT09P9erVS+7u7sqYMaPy5cunCxcu6MKFC+rTp49q1Kih8ePHKzExUefPn1d0dLSKFSsmSapVq5ZWrVrlrKkBAO7Aae8cXnrpJcfXp06d0sqVKzV37lzt3LlTAwcOVJYsWdS6dWstXLhQL730kjw9PR2/7+npqZCQEGdNDQBwB05fqX/s2DG1bt1aPXv2VN68eTVp0iTHzxo2bKglS5YoX758cnFxcVxujLnt+zvJli2T3NwypOq8AeC/zKlx2LVrlzp27Kg+ffqoWrVqOnLkiE6dOqWqVatKuhUBNzc35cyZU6GhoY6/u3z5srVN4p9cu3Yz1ecOAA87T88sf/szp21zuHjxotq3b69Ro0apWrVqkm7FYMiQIQoPD1dcXJzmz5+vypUrK1euXPLw8NCuXbskSUuXLlWZMmWcNTUAwB24GGOMM6540KBBWrRokZ577jnHZfXq1VNiYqLmzp2r+Ph4ValSRd27d5ckHT58WP369VNkZKQKFy6soUOHyt3d/a7GCg2NcMYiAMBD7Z/eOTgtDmmJOADAvUuX1UoAgH8v4gAAsBAHAICFOAAALMQBAGAhDgAAC3EAAFj4wAQAuAuPP+Ehj7s8MPdexMTG6np4TKpfb0oRBwC4Cx7u7moys1OqX++spuMkPXhxYLUSAMBCHAAAFuIAALAQBwCAhTgAACzEAQBgIQ4AAAtxAABYiAMAwEIcAAAW4gAAsBAHAICFOAAALMQBAGAhDgAAC3EAAFiIAwDAQhwAABbiAACwEAcAgIU4AAAsxAEAYCEOAAALcQAAWIgDAMBCHAAAFuIAALAQBwCAhTgAACzEAQBgIQ4AAAtxAABYiAMAwEIcAAAW4gAAsBAHAICFOAAALMQBAGAhDgAAC3EAAFiIAwDAQhwAABbiAACwEAcAgIU4AAAsxAEAYCEOAAALcQAAWIgDAMBCHAAAFuIAALAQBwCAhTgAACzEAQBgIQ4AAAtxAABYiAMAwEIcAAAW4gAAsBAHAICFOAAALMQBAGAhDgAAC3EAAFiIAwDAQhwAABbiAACwEAcAgIU4AAAsxAEAYCEOAAALcQAAWIgDAMBCHAAAFuIAALAQBwCAhTgAACzEAQBgIQ4AAAtxAABYiAMAwEIcAAAW4gAAsBAHAICFOAAALMQBAGAhDgAAC3EAAFiIAwDAQhwAABbiAACwEAcAgIU4AAAsxAEAYCEOAAALcQAAWIgDAMBCHAAAFuIAALAQBwCAhTgAACzEAQBgIQ4AAAtxAABYiAMAwEIcAAAW4gAAsBAHAICFOAAALMQBAGAhDgAAC3EAAFiIAwDAQhwAABbiAACwEAcAgIU4AAAsxAEAYCEOAAALcQAAWIgDAMBCHAAAFuIAALAQBwCAhTgAACzEAQBgIQ4AAAtxAABYiAMAwEIcAAAW4gAAsBAHAICFOAAALMQBAGAhDgAAC3EAAFiIAwDAQhwAABbiAACwEAcAgMWpcZg4caKqVaumatWqacSIEZKkrVu3qkaNGqpSpYrGjBnj+N1Dhw6pVq1aqlq1qvr27av4+HhnTg0A8A+cFoetW7dq8+bNWrx4sZYsWaLff/9dK1asUJ8+fTR58mT98ssvOnjwoAICAiRJPXr00IABA7R69WoZY+Tn5+esqQEA7sBpcfD09FSvXr3k7u6ujBkzKl++fDp16pSef/55eXl5yc3NTTVq1NCqVat0/vx5RUdHq1ixYpKkWrVqadWqVc6aGgDgDtycdcUvvfSS4+tTp05p5cqVatCggTw9PR2X58iRQyEhIbp06dJtl3t6eiokJOSux8qWLZPc3DJIkmLj4+TuljEVluB2zrpeAPD0zJLeU7A4LQ5Jjh07ptatW6tnz57KkCGDTp065fiZMUYuLi5KTEyUi4uLdfndunbtpuNrT88sajKzU6rMPblZTccpNDQi1a8XwL+DM5/A0+u55Z+WyakbpHft2qUmTZqoW7duqlmzpnLmzKnQ0FDHz0NDQ5UjRw7r8suXLytHjhzOnBoA4B84LQ4XL15U+/btNWrUKFWrVk2SVLRoUZ08eVKnT59WQkKCVqxYoTJlyihXrlzy8PDQrl27JElLly5VmTJlnDU1AMAdOG210owZMxQTE6Nhw4Y5LqtXr56GDRumDh06KCYmRmXLltW7774rSRo1apT69eunyMhIFS5cWI0aNXLW1AAAd+C0OPTr10/9+vX7y58tW7bMuqxgwYJauHChs6YDALgHHCENALAQBwCAhTgAACzEAQBgIQ4AAAtxAABYiAMAwEIcAAAW4gAAsBAHAICFOAAALMQBAGAhDgAAC3EAAFiIAwDAQhwAABbiAACwEAcAgIU4AAAsxAEAYCEOAAALcQAAWIgDAMBCHAAAFuIAALAQBwCAhTgAACzEAQBgIQ4AAAtxAABYiAMAwEIcAAAW4gAAsBAHAICFOAAALMQBAGAhDgAAC3EAAFiIAwDAQhwAABbiAACwEAcAgIU4AAAsxAEAYCEOAAALcQAAWIgDAMBCHAAAFrf0ngDwX/H4Ex7ycHd3ynXHxMbqeniMU64b/03EAUgjHu7uajKzk1Oue1bTcZKIA1IPq5UAABbiAACwEAcAgIU4AAAsxAEAYCEOAAALcQAAWIgDAMBCHAAAFuIAALAQBwCAhTgAACzEAQBgIQ4AAAtxAABYiAMAwEIcAAAW4gAAsBAHAICFOAAALMQBAGAhDgAAC3EAAFiIAwDAQhwAABbiAACwEAcAgIU4AAAsxAEAYCEOAAALcQAAWIgDAMBCHAAAFuIAALAQBwCAhTgAACzEAQBgIQ4AAAtxAABYiAMAwEIcAAAW4gAAsBAHAICFOAAALMQBAGAhDgAAC3EAAFiIAwDAQhwAABbiAACwEAcAgIU4AAAsxAEAYCEOAAALcQAAWIgDAMBCHAAAFuIAALAQBwCAhTgAACzEAQBgIQ4AAAtxAABYiAMAwEIcAAAW4gAAsBAHAICFOAAALMQBAGAhDgAAC3EAAFiIAwDAQhwAABbiAACwEAcAgIU4AAAsxAEAYCEOAAALcQAAWIgDAMBCHAAAFuIAALAQBwCAhTgAACzEAQBgIQ4AAAtxAABYiAMAwEIcAAAW4gAAsBAHAICFOAAALMQBAGAhDgAAC3EAAFiIAwDAQhwAABbiAACwEAcAgMWpcYiMjFT16tV17tw5SVLv3r1VpUoVffjhh/rwww/l7+8vSTp06JBq1aqlqlWrqm/fvoqPj3fmtAAAd+C0OOzbt0/169fXqVOnHJcdPHhQc+bM0dKlS7V06VJVrlxZktSjRw8NGDBAq1evljFGfn5+zpoWAOAuOC0Ofn5+GjhwoHLkyCFJioqK0oULF9SnTx/VqFFD48ePV2Jios6fP6/o6GgVK1ZMklSrVi2tWrXKWdMCANwFN2dd8eDBg2/7/vLly/rf//6ngQMHKkuWLGrdurUWLlyol156SZ6eno7f8/T0VEhIyD2NlS1bJrm5ZUiVef8TT88sTh8DuF/cP/+9HsT/ndPi8GdeXl6aNGmS4/uGDRtqyZIlypcvn1xcXByXG2Nu+/5uXLt20/G1M2/k0NAIp103Hn7OfgLg/ulcD+Nzyz8tU5rtrXTkyBGtXr3a8b0xRm5ubsqZM6dCQ0Mdl1++fNmxKgoAkD7SLA7GGA0ZMkTh4eGKi4vT/PnzVblyZeXKlUseHh7atWuXJGnp0qUqU6ZMWk0LAPAX0my1UsGCBdWqVSvVr19f8fHxqlKliqpXry5JGjVqlPr166fIyEgVLlxYjRo1SqtpAQD+gtPjsH79esfXn332mT777DPrdwoWLKiFCxc6eyoAgLvEEdIAAAtxAABYiAMAwEIcAAAW4gAAsBAHAICFOAAALMQBAGAhDgAAC3EAAFiIAwDAQhwAABbiAACwEAcAgIU4AAAsxAEAYCEOAAALcQAAWIgDAMBCHAAAFuIAALAQBwCAhTgAACzEAQBgIQ4AAAtxAABYiAMAwEIcAACWO8ahRYsW1mV16tRxymQAAA8Gt7/7QceOHXXy5EmdPXtWNWrUcFweHx8vd3f3NJkcACB9/G0cevbsqfPnz6t///7q37+/4/IMGTLoxRdfTJPJAQDSx9/GIXfu3MqdO7dWrVolV1c2TQDAf8nfxiHJ+vXrNWTIEIWHh8sYI2OMXFxctHv37rSYHwAgHdwxDiNHjlSvXr1UqFAhubi4pMWcAADp7I5xePzxx1WlSpW0mAsA4AFxx40JRYsWVUBAQFrMBQDwgLjjO4eAgADNmTNHGTNmVMaMGdnmAAD/AXeMw6xZs9JgGgCAB8kd4xAWFvaXl+fKlSu15wIAeEDcMQ4dOnRwfB0XF6fQ0FC98sorWrhwoVMnBgBIP3d1nENyO3bs0PLly502IQBA+rvnQ59LlCih33//3RlzAQA8IO74ziF5CIwxOnjwoKKjo506KQBA+rqnbQ4uLi568skn9eWXXzpzTgCAdHbP2xwAAA+/O8bh5s2bGjFihDZt2qT4+HiVKlVKffv2VebMmdNifgCAdHDHDdJDhw5VbGysJk2apMmTJ8vFxUW+vr5pMTcAQDq54zuHffv2admyZY7vBw0apGrVqjl1UgCA9HXHdw4JCQlKTEx0fJ+YmKgMGTI4dVIAgPR1x3cOb7/9tjp37qz69etLkn788UeVKFHC6RMDAKSfO8ahV69emjJlikaPHq2EhAS98847ateuXVrMDQCQTu4YB+nWsQ4dOnTQpUuXlCNHDmfPCcC/0ONPeMjD3T3VrzcmNlbXw2NS/Xrxz/42DhEREWrbtq3q1aun6tWrS5L69eun6OhoTZ48mV1ZAdzGw91dTWZ2SvXrndV0nCTikNb+doP0yJEjlT9/flWuXNlx2cSJE5UnTx6NGjUqTSYHAEgff/vOYffu3Vq6dOlteya5u7urb9+++uijj9JibgCAdPK37xwyZsz4l7usuru7y8PDw6mTAgCkr7+Ng4eHh65evWpdfuXKFRljnDopAED6+ts41K1bVx07dtTZs2cdl505c0adO3fWxx9/nCaTAwCkj7/d5lCzZk2FhIToww8/1KOPPqrExETFx8erZcuWatiwYVrOEQCQxv7xOIc2bdqocePGOnHihFxdXZUvXz65O2E/ZgDAg+WOB8E9+uijKly4cFrMBQDwgLjnz5AGADz8iAMAwHJXcYiOjtaRI0dkjFFUVJSz5wQASGd3jMPevXtVqVIltW7dWiEhISpXrpx2796dFnMDAKSTO8ZhxIgRmjVrlrJmzaqcOXNqxIgRGjx4cFrMDQCQTu4Yh+joaL344ouO78uWLauEhASnTgoAkL7uGAc3NzeFh4fLxcVFknTixAmnTwoAkL7ueJxD27Zt1aBBA12+fFldu3bVli1b5OPjkxZzAwCkkzvGoXz58sqbN6+2bNmixMREtW/fXvny5UuLuQEA0sldfUxopkyZ9NZbb0mSjDEKCgq6bTsEAODhcsc4DB06VHPnzlWWLFkcp+p2cXHRtm3bnD45AED6uGMc/P399euvvypbtmxpMR8AwAPgjnsrvfDCC3r88cfTYi4AgAfEHd85NGzYUA0aNFCJEiXk5vZ/v/755587dWIAgPRzxzh88803ypw5syIiItJiPgCAB8Ad4xAVFaUff/wxLeaCu/D4Ex7ycMIHLsXExup6eEyqXy+Af6c7xiFPnjw6fPiwChYsmBbzwR14uLurycxOqX69s5qOk0QcANxyxzhcvHhRtWvXVq5cuW77iNDly5c7dWIAgPRzxzh07do1LeYBAHiA3DEOb731lsLCwhQVFSVjjBISEnTmzJm0mBsAIJ3cMQ7jxo3TN998I0nKkCGD4uLi9OKLL7JaCQAeYnc8CG7p0qXasGGDqlatqjVr1mjo0KGcVwkAHnJ3jMOTTz6pHDlyKG/evDp8+LA++ugjHT16NC3mBgBIJ3f1YT9nzpxR3rx59dtvvyk+Pl4xMezyCAAPszvGoXXr1urfv7/KlSunNWvWqFy5cvrf//6XFnMDAKSTu/qwn/Lly0u6tf3h9OnTKlCggNMnBgBIP/8Yh+DgYN28eVN58+bVmDFjdOPGDbm6uqpbt27y8PBIqzkCANLY365W2r9/v2rWrKmDBw9KklauXKmsWbMqKChIc+fOTbMJAgDS3t/GYdy4cRozZow++OADSdJjjz2mzz//XL6+vvr555/TbIIAgLT3t3E4e/bsbRuekz4iNFeuXAoPD3f+zAAA6eZv4+D+p9NCJ1+VxCfDAcDD7W/jkClTJgUHBzu+f+yxxyTdOkvrI4884vyZAQDSzd/GoU6dOurWrZuuXLniuCw8PFy9e/fWp59+miaTAwCkj7/dlbV27do6c+aMKlasqHz58snFxUUnTpxQo0aNVL169bScIwAgjf3jcQ5du3ZV48aNtWfPHklSkSJFlCNHjjSZGAAg/dzxCOns2bOrUqVKaTEXAMAD4o7nVgIA/PcQBwCAhTgAACzEAQBgIQ4AAAtxAABYiAMAwEIcAAAW4gAAsBAHAICFOAAALMQBAGAhDgAAC3EAAFiIAwDAQhwAABbiAACwEAcAgIU4AAAsxAEAYCEOAAALcQAAWIgDAMBCHAAAFuIAALAQBwCAhTgAACzEAQBgIQ4AAAtxAABYiAMAwEIcAAAW4gAAsLil9wSAJI8/4SEPd3enXHdMbKyuh8c45bqBhxFxwAPDw91dTWZ2csp1z2o6ThJxAO4Wq5UAABbiAACwEAcAgIU4AAAsxAEAYCEOAAALcQAAWIgDAMBCHAAAFuIAALAQBwCAhTgAACzEAQBgIQ4AAAtxAABYiAMAwEIcAAAWp8YhMjJS1atX17lz5yRJW7duVY0aNVSlShWNGTPG8XuHDh1SrVq1VLVqVfXt21fx8fHOnBYA4A6cFod9+/apfv36OnXqlCQpOjpaffr00eTJk/XLL7/o4MGDCggIkCT16NFDAwYM0OrVq2WMkZ+fn7OmBQC4C06Lg5+fnwYOHKgcOXJIkvbv36/nn39eXl5ecnNzU40aNbRq1SqdP39e0dHRKlasmCSpVq1aWrVqlbOmBQC4C27OuuLBgwff9v2lS5fk6enp+D5HjhwKCQmxLvf09FRISMg9jZUtWya5uWVI2YTvgqdnFqePkZ5Yvn+3h3n5HuZlkx7M5XNaHP4sMTFRLi4uju+NMXJxcfnby+/FtWs3HV8780YODY1w2nXfrYd5+Zz9AGH5nOthvm9KD+fy/dMypdneSjlz5lRoaKjj+9DQUOXIkcO6/PLly45VUQCA9JFmcShatKhOnjyp06dPKyEhQStWrFCZMmWUK1cueXh4aNeuXZKkpUuXqkyZMmk1LQDAX0iz1UoeHh4aNmyYOnTooJiYGJUtW1bvvvuuJGnUqFHq16+fIiMjVbhwYTVq1CitpgUA+AtOj8P69esdX7/99ttatmyZ9TsFCxbUwoULnT0VAMBd4ghpAICFOAAALMQBAGAhDgAAC3EAAFiIAwDAQhwAABbiAACwEAcAgIU4AAAsxAEAYCEOAAALcQAAWIgDAMBCHAAAFuIAALAQBwCAhTgAACzEAQBgIQ4AAAtxAABYiAMAwEIcAAAW4gAAsBAHAICFOAAALMQBAGAhDgAAC3EAAFiIAwDAQhwAABbiAACwEAcAgIU4AAAsxAEAYCEOAAALcQAAWIgDAMBCHAAAFuIAALAQBwCAhTgAACzEAQBgIQ4AAAtxAABYiAMAwEIcAAAW4gAAsBAHAICFOAAALMQBAGAhDgAAC3EAAFiIAwDAQhwAABbiAACwEAcAgIU4AAAsxAEAYCEOAAALcQAAWIgDAMBCHAAAFuIAALAQBwCAhTgAACzEAQBgIQ4AAAtxAABYiAMAwEIcAAAW4gAAsBAHAICFOAAALMQBAGAhDgAAC3EAAFiIAwDAQhwAABbiAACwEAcAgIU4AAAsxAEAYCEOAAALcQAAWIgDAMBCHAAAFuIAALAQBwCAhTgAACzEAQBgIQ4AAAtxAABYiAMAwEIcAAAW4gAAsBAHAICFOAAALMQBAGAhDgAAC3EAAFiIAwDAQhwAABbiAACwEAcAgIU4AAAsxAEAYCEOAAALcQAAWIgDAMBCHAAAFuIAALAQBwCAhTgAACxu6T0BAM7x+BMe8nB3T/XrjYmN1fXwmFS/XjxYiAPwkPJwd1eTmZ1S/XpnNR0niTg87FitBACwEAcAgIU4AAAsxAEAYCEOAAALcQAAWIgDAMBCHAAAFuIAALAQBwCAhTgAACzEAQBgIQ4AAAtxAABYiAMAwEIcAAAW4gAAsBAHAICFOAAALMQBAGAhDgAAC3EAAFiIAwDAQhwAABbiAACwEAcAgIU4AAAsxAEAYCEOAAALcQAAWIgDAMBCHAAAFuIAALC4pcegDRs21NWrV+Xmdmt4Hx8f3bhxQ0OHDlVMTIzee+89denSJT2mhv+Qx5/wkIe7u1OuOyY2VtfDY5xy3UBaSPM4GGN06tQpbdiwwRGH6Ohovfvuu5o9e7aeeeYZtW7dWgEBASpbtmxaTw//IR7u7moys5NTrntW03GSiAP+vdI8DidOnJAkNWvWTGFhYapTp47y58+v559/Xl5eXpKkGjVqaNWqVcQBANJJmsfh+vXrevvtt9W/f3/FxcWpUaNGatGihTw9PR2/kyNHDoWEhNz1dWbLlklubhmcMd3beHpmcfoY6YnlY7wHcaz0GC+tPYjLl+ZxeO211/Taa685vq9du7bGjx+v4sWLOy4zxsjFxeWur/PatZuOr515I4eGRjjtuu/Ww7x8zn6A/Hn5GC/1xkqP8dLaw7h8/7RMab630m+//aZt27Y5vjfGKFeuXAoNDXVcFhoaqhw5cqT11AAA/1+av3OIiIjQ+PHjNW/ePMXFxWnx4sXy9vZW586ddfr0aeXOnVsrVqzQxx9/nNZTw19w1h497M2DlOK+6VxpHofy5ctr3759+uijj5SYmKhPP/1Ur732moYNG6YOHTooJiZGZcuW1bvvvpvWU8NfcNYePezNg5Tivulc6XKcQ+fOndW5c+fbLnv77be1bNmy9JgOAOBPOEIaAGAhDgAAC3EAAFiIAwDAQhwAABbiAACwEAcAgIU4AAAsxAEAYCEOAAALcQAAWIgDAMBCHAAAFuIAALAQBwCAhTgAACzEAQBgIQ4AAAtxAABY0uUzpAEA/+zxJzzk4e6e6tcbExur6+Exd/w94gAADyAPd3c1mdkp1a93VtNxku4cB1YrAQAsxAEAYCEOAAALcQAAWIgDAMBCHAAAFuIAALAQBwCAhTgAACzEAQBgIQ4AAAvnVkqh9D45FgA4A3FIofQ+ORYAOAOrlQAAFuIAALAQBwCAhTgAACzEAQBgIQ4AAAtxAABYiAMAwEIcAAAW4gAAsBAHAICFOAAALMQBAGAhDgAAC3EAAFiIAwDAQhwAABbiAACwEAcAgIU4AAAsxAEAYCEOAAALcQAAWIgDAMBCHAAAFuIAALAQBwCAhTgAACzEAQBgIQ4AAAtxAABYiAMAwEIcAAAW4gAAsBAHAICFOAAALMQBAGAhDgAAC3EAAFiIAwDAQhwAABbiAACwEAcAgIU4AAAsxAEAYCEOAAALcQAAWIgDAMBCHAAAFuIAALAQBwCAhTgAACzEAQBgIQ4AAAtxAABYiAMAwEIcAAAW4gAAsBAHAICFOAAALMQBAGAhDgAAC3EAAFiIAwDAQhwAABbiAACwEAcAgIU4AAAsxAEAYCEOAAALcQAAWIgDAMBCHAAAFuIAALAQBwCAhTgAACzEAQBgIQ4AAAtxAABYiAMAwEIcAAAW4gAAsBAHAICFOAAALMQBAGAhDgAAC3EAAFiIAwDAQhwAABbiAACwEAcAgIU4AAAsxAEAYCEOAACLW3pPAMDD49EMj6jSc6X01KPZ5CKXVLnO33//Q4mJidblly65qlmhT1JljId1PCOjy1HXtPbMFkUlRN/T3xIHAKmm0nOl9NxTz8vV3V0uLqkTh2ef8lJ8vP3k6ebmqpjLqb/y42EazxijTI89rkqSlp9cd09/y2olAKnmqUezpWoYkDIuLi5ydXfXU49mu+e/JQ4AUo2LXAjDA8bFxeW+VvGxWgmAUxV87nll8ng01a83Ji5WupzqV4v/jzgAcKpMHo+qycxOqX69s5qOu+PvJCQkaNnCRdq8IUAuLlJiYqLKVKygDz+pnWbvcOLj4rRo3nzt2r5Trq6uyuieUXUafqZXixVL1XHWrVqjRx59RKXKlkmV6yMOAB5a307+WuFhYfIZNVyPZc6smzdvavSgocqUKZOqVK+WJnOYMna8MmbMqEFjRsnd3V1nTp3SkH4D1W+Ir3I/91yqjXP00CEVevWVVLs+4gDgoXTl8mVt3rhRk76bqccyZ5YkZcqUSU3btta5M2ckSWdPndasqd8oOjpa18PC9cEnH6tVo1aaMWOqQkKCdfbsGYWFXVOjRs20Z89v2rt/j57L84I69uwhFxcXLV2wUNs3b1FiQqKKvP6aPm3a+LZ3JMEXLipw6zZ98+Mcubu7S5Kee+EFdezZXR4eHpKkFSuWau7c2XJxcVGBAi+rS5eeypQpk/73v9f144qlkqSAtev0x4GDatulkzo0a6l3ypfT/t17FB0TrXZdO+tGZKR27dip3/fvV9Zs2VS0+Ospvv3YIA3goXT86DHl8vJS5v8fhiS5vHKrRKmSkqT1a/xVs24dDR7zlfoNHaQfZs5y/N6JE8c1YcJU9ezZV0OH+qhhwyYaMWmCTgWd0JmTp7R3126dDDquwaNHaej4Mbp25Yo2bwy4bazTJ04oZ65n9cgjj9x2eaEir8rz6ad15tQpzZo1QxMnfqPvv5+vRx55VDNnTrvjsmV+PIsGjRmlSu+9q6V+C/VqsWIqXuItffLZp6kSBol3DgAeYslfxe/YvEWL5y9QYmKiMrpn1OAxX6lh86bau3uPlvgt1NnTpxUd9X8Hir35Zgm5ubkpZ85nlD37U8qTJ69OXj6rbNmz60ZkpA7u3aego0fVp3M3SVJsbIyye3rePr6rq9wzuv/t/A4d+F2lS5fRE09klSR98EFNDR3qfcflKvr6rQB4Pf+cArduu+vb414QBwAPpbwvvqjzZ87q5s2bypQpk0qULqUSpUspNCREPr37SZLGDR+pxzI/ptffeksly7yjrQGbHH/v5vZ/T48ZMmSwrj8xMUHvffCBqtX8UJJ0IzLS+r28L76o8+fOKjYmRu7/fzWSJP2ydJmyZs0qY/588JtRQkLC/31njFxcXBQfn3Dbb7m7Z5R0a9dhY+7hRrkHrFYC8FB6KoenSpcvpymjx+pGZKSkW3sv7d75m1xdbz31HdizV7U/+1Rv/K+E9u7a5fidu1G4SBH9umGDoqOilJCQoK8GDdWOLVutObz2xhuaNfUbxcbGSpJOHj+h5Qt/ktfzz+vlV1/Vr79u0vXr4ZKkZcuW6LXX3pAkZc2aVedOn5ExRrt37LzjfDJkcL3rud8N3jkAcKqbMVF3tdvpvYqJi73j7zRr10a/LFkq3z79lJiYqOioKBV69RX18h4gSfr40/ry7tlbGd0z6rk8eeT5dA5duHD+rsYvXuItnT55Sv269ZBJTFSR119XmYoVrN9r3amjfpj1nXp37Cw3t4zy8PBQ+25d5PXC85KkRo2a6vPPWyk+Pl4FCrysHj16S5LateuoET6DlDVbVhUoVEgR16//43xeKVpU87+fo8cee0wlSpe6q2X4J8QBgFMdPnM6RX+f5x/OPXQnrq6uql6rpqrXqvmXP69W80PHaqEkXk95qXnz1o7vn3nmWS1cuNzx/YBhgx1f16pXR7Xq1fnHOXg84qGmbVr97c8//LCmqlX70Lr8gw8+0qsli1uXT/j2/zZYFyryqgYUeVWSVLJsGZVMpWMcJFYrAQD+AnEAAFiIA4BUY2RknLX7DO6LMUZG9/4/IQ4AUs3lqGtKjI0lEA8IY4wSY2N1OeraPf8tG6QBpJq1Z7aokpSqnwR3ITbxLz8pzdXVVZGRV1NljId1vOSfBHeviAOAVBOVEH3Pnzh2J7OajlNoaIR1uadnFqed7fVhHu9usVoJAGB5oOKwfPlyvf/++6pSpYrmzp2b3tMBgP+sB2a1UkhIiMaMGaOffvpJ7u7uqlevnkqUKKEXX3wxvacGAP85D8w7h61bt+p///ufsmbNqkyZMqlq1apatWpVek8LAP6TXMwDss/Z1KlTdfPmTXXp0kWStGDBAu3fv1++vr7pPDMA+O95YN45JCYm3nbu9aRT1QIA0t4DE4ecOXMqNDTU8X1oaKhy5MiRjjMCgP+uByYOJUuW1LZt23T16lVFRUVpzZo1KlMm9c4wCAC4ew/M3kpPP/20unTpokaNGikuLk61a9dWkSJF0ntaAPCf9MBskAYAPDgemNVKAIAHB3EAAFiIAwDAQhwAABbiAACwEIdUwA5fwP/h8ZC6kt+ef/WhQM7yUMbhr25AZ92oyU/zsW/fPp07d05nzpxxylh/JTo62uljpPWDPS0fAFL6PZkdO3ZMp0+fTvNxnXn7Jn88rFmzRsePH3faWNLty5L0f0zL/2da3FddXFy0fft2/f7773J1Tbun7IcuDsYYxw3466+/6ueff1ZERIRcXV2VkJCQ6uMlPRC+//57jRo1SosWLVKHDh2cGoikO/+JEyc0depUXbhwwaljJS3j4cOHdfz4ccXExDhtPEmO/19gYKCOHz+u8PBwp42VfPkCAwO1b98+pz6hJf3v/vjjD02dOlUTJ07U2bNnnTZeckeOHJF06/Z11pNa0m25aNEizZkzR1mzZnXKOEmS7is///yzZsyYoe3bt8vFxcWpLwYl6cKFC4qJiUmzJ+vDhw9r3LhxunnzZpqMJz1kcUj+QJ8/f768vb31888/q3Llyrp27ZoyZMiQaoFI/upkz549Wr16tWbNmqWIiAjlyZNHWbJk0blz51JlrD9zcXFRQECARowYIX9/f/30009Oi1HS7Tlt2jQNHDhQffv2ddqTZ/LbdMGCBerUqZMmT56sMWPG6NKlS04ZM2n5pk+frokTJ2rRokXy8fHR9u3bnTbeunXr1Lt3b3l6eiohIUFTpkzRiRMnnDJe0m36+++/q3Xr1qpTp44k5wbi7NmzmjNnjvLnz6/s2bPLGOPUV/NLlizRhAkTdP36dTVp0kT+/v5OWb6k55f169erZ8+e6tOnj65du5aqYyQfK7lq1arpmWeecbxQSot3LA9VHJIe6Lt27dLevXs1f/58TZ48WVWrVlX16tUdgUjpDZs8QmFhYYqPj9drr72muXPn6uTJkxo2bJhWr16tJUuWpHSR/tLhw4fl4+Oj9u3bq3Xr1nJ1ddXSpUud9g7ijz/+0MqVKzVv3jxNnz5dhQoVUnh4uK5cuZJqYyS/TU+fPq0rV67op59+UsuWLeXh4aEpU6akaiDCwsIUGxsrSTpw4IC2bdum7777TlmyZFH27NlVuHBhp0QwLi5O/v7+6tu3r7744gt16dJF+fPn17fffuuUFxNJLyQGDx6stm3bysXFRQ0aNJCUeoH48xNZzpw51ahRI23evFlLliyRi4uLXFxcnBKIHTt2aOfOnZo0aZK6du2q8ePHq2PHjlq7dq1cXV1TZcyk+4mLi4uOHTumMWPGaMyYMapXr56uXr2qwMBAhYSEpHic5FxcXBQYGKhBgwYpMDBQnp6eypQpkyZNmiRJafKO5aGIQ/J1jREREfrhhx905MgR7d+/X5Lk7e2tKlWqqHTp0goLC0vxDZv0JPbDDz9oxIgR8vLykr+/v/z8/DRjxgw98sgjOnz4cKqfcjzpgXzhwgUVLlxYr776qmrUqKGSJUvqjz/+0KJFixQcHJzicf78gEpajZSYmKjMmTMrJiZGo0ePVkBAQIrHShov6bb68ccf9eWXX8rf319hYWHKnz+/3n//fXl4eOirr7667cy99+vcuXPq2rWrtm3bJknKlCmTcuTIoeHDh+vIkSMaMmSI5s+fr59++inFY0m3354ZMmRQWFiY452Jl5eX8ufPr5MnT2rWrFmp/iRjjNGKFSv00UcfqW7dupo/f76eeuop1atXT1LKA5H8f7ds2TJ9/fXXWrNmjQoUKKDOnTtr0aJFWrFihSSlyuMh+WPdGKOtW7fq0KFD2rJli27cuKEqVapo3Lhx+vzzz7Vhw4YUjxkREaGlS5fq2rVrun79ui5evKjcuXPr5MmT8vPz04ABAzR06FBt2rQpxcuWXHBwsAoWLKiEhAT9+OOPateunSpWrKiLFy+m2WrIf30ckt85r1+/rkyZMsnb21tFihTR3r17tW/fPknSwIED1aBBgxS9DUz+IF+5cqXWr1+vGjVqKGfOnGrXrp28vLw0fPhwzZkzR3v27NF7772XsoX707hJG58LFCig69eva/369ZKkYsWK6dlnn1VQUJA2b96corfxf97AfvXqVXl5eemll17SvHnzdOPGDXl4eChr1qwKCwtL+cLp/5401q5dq61bt6pTp0564okntHz5coWGhqpo0aKqXLmynn766VQZL3fu3CpevLjmzJmjLVu2yN3dXbGxsdqzZ4+GDx+uRx55RNHR0UpISEiVVSIuLi7av3+/Nm3apNDQULVu3Vpnz551vLPMnDmzsmTJooiICJ06dSrFy5d8vi4uLnrqqaduW506ZMgQnT9/Xm3atJGUOq9Cf/jhB/3www968cUX5ePjo/3796tUqVL69NNPNX369FT5VMfk980zZ84oNDRUnTt3Vo0aNXT8+HHt3LlTMTExqlKliiZNmqTnnnsuxWO6urpq79696tq1q/r166c33nhDxhhNnjxZpUqV0ty5c/Xxxx/r5MmTKR4r+SrAGjVqaPz48Ro4cKBGjx6tPHny6KefftKuXbtSPUR/51994r3kd5bZs2dr/fr1unz5st5//329+eabWrJkibJly6Zy5cqpePHiqTZubGys1q1bp0mTJqlhw4aqWbOm4uPjdeLECc2dO1dPP/203n//feXPnz/FYyUtY0BAgL7//nsVKVJEpUqV0u7du3XlyhVlz55db731lnx8fFShQgUFBwdr0KBB9z1eYmKiXF1dNXfuXC1YsEBly5ZVo0aN9Ouvv+rYsWM6cuSI40Exffp0vfDCCyleNkk6f/686tevr5o1a6pLly46d+6cBg0apDx58qhx48bKmTOnYmJi5OHhkaLxpFtPmFFRUVq8eLHWrVunFi1a6NSpUzp06JAiIyPl5eWln3/+WVOnTlW+fPnue7yk23Lnzp3q27evnn32WeXOnVvFihXTo48+qunTpytfvnzat2+fpk6dqiVLlui5557TJ598ct9jJtm9e7cuX76sPHny6ObNm2rSpIm+/vprlShRQgcOHNC8efN0+vRpVa1aVQ0bNrzn6w8JCXHEOjw8XN7e3urbt69+/fVXrVixQiNHjtSuXbv0+uuva+fOnXr11VeVK1eu+1qWP3/w15w5c7R06VK5u7vr8ccf1+eff661a9fq8uXLeuedd1SuXDm5u7vf11jJJSQkKEOGDPrjjz/UuXNnPffcc5o+fbrj5/7+/vL09NTAgQPVq1cvvf322ykeMyAgQN99953efPNNzZs3TyVLltTQoUMl3bqdf/vtN40dO1bffPONnnnmmRSP94/Mv1RcXJzj6+XLl5uaNWua8+fPm+PHj5tmzZqZiRMnmpCQENOlSxczYcIEEx0dnSrj7t692zRs2NCEhYWZVatWmQYNGpgNGzaYmJiYVLn+v7J3717ToEEDs3DhQtO+fXszYcIEs2LFCuPv72+6du1qOnfubIKCgszevXtN+/btTWRk5D2PceDAAcfXO3bsMLVr1zYREREmMDDQBAYGmpkzZ5q1a9caPz8/M336dBMUFJSiZUpMTHR8PWvWLLN48WLz7bffmjfeeMMEBgYaY4y5ePGi+eyzz8zo0aNNfHx8qo03c+ZMU7p0aRMfH2+mTZtm2rZta7Zt22a2bt1qfvzxR/P111+bEydO3PdYERERJiIiwhhjzJ49e0zHjh3N8ePHTWRkpJkyZYoZOnSoWb9+vbl+/bo5cOCA+eWXX8y+fftMjRo1zKlTp+573KTHxM6dO03p0qVN3759Tbly5cz+/ftNQECAqVKliunXr5+pXLmyOXbsmFmwYIHx8/O753EiIyPN2LFjzYIFC8zBgwdNRESE+eqrr0yTJk1Ms2bNjDHGnDt3zlSrVs3cvHnzvpcnSVhYmOPrjRs3mg8//NAEBwcbY4zx9fU1nTt3NtevXzdjx441vr6+5saNGykeM8mGDRtM//79zaFDh0zHjh3Nl19+aU6dOmUSEhJM+/btTc+ePY2/v3+qjBUTE2NatGhhVqxY4bisVq1apnv37rf93hdffGHOnTuXKmP+k39lHI4ePWqGDRvmeMD/+OOP5ocffnD8PDQ01JQsWdIEBgaas2fPmpCQkPseK/mTijHGnD9/3gwdOtS0a9fOXL9+3Sxfvtw0adLErFmzJtUCdP78ebN3715jzK0nyAYNGpjp06cbY4w5c+aMGTBggBk9erTZt2+fMcaYNWvWmIkTJ5pq1aqZQ4cO3fN4wcHBpnnz5ubatWvGGGP2799vfHx8zNixY03Hjh1No0aNTLdu3czXX39tjLFvk5RYsWKFadu2reNJcc6cOaZixYpmx44djrlduHAh1cabM2eO+eCDD0zt2rUdEZ06dapp27at2bhxY4qvPzw83IwZM8ZcunTJxMXFmR9++MEUKFDA8b86d+6c+frrr80XX3xhNmzYYK5du2ZGjBhhmjVrdl//O2OMuXTpkuPrgwcPmhEjRpjt27cbY27dvuXLlzd79+41N2/eNKdOnTIbNmww69evNx999NF9RT4uLs5s2bLFVKtWzdSpU8dERESYOXPmmJo1a5pdu3YZY27dJ5s2bXpfL1SSO3v2rOnXr5/jxdemTZvM6NGjb/udevXqmdmzZ5u4uDhz5cqVFI2X3B9//GFatWplFi5caIy59bzSrl07M2rUKLNhwwYTGBjoiF9qPSb69+9/2/3w5MmTpkiRImbw4MHGGGMOHz5s3n//fXP27NlUGe+f/Cu3OXh6eqpJkybat2+fwsPD5e7urnnz5jl+/tRTT6latWqKiYlR7ty57/vjRk2yt7O7d++WJD377LNq0qSJ8uXLpx49eqh8+fKqVq2aFi1alGq7ye7atUtubm66efOmbt68qQIFCujHH3/U8ePH5eXlpVatWikkJETLli3TtWvXVLBgQT3yyCOaMGGCChYseE9jHTx4UHXq1FHlypW1bds2tWzZUq+++qoyZcqkq1evqnnz5vruu+/02muvKTIyMsXLZv7/qp2EhATFxcVp1qxZCg4O1mOPPSZjjD777DM1b95c7dq1065du/T000+n6O2zSbbWdNWqVVq4cKFmzJihfPnyOf6nrVq10ksvvaRFixaleD/yxx9/XPXr11dcXJxWrFih9957T61bt1aPHj105swZ5cqVS9WrV5eXl5dy5cqlrFmzqnPnzho9evQ9/++kW6s458yZ49izatWqVfL391dISIji4uJUrVo1de/eXa1atdLGjRuVNWtWBQUFad68eRo6dOg9rTZLui3d3Nwc/5OsWbNq06ZNqlOnjt544w1Nnz5djRo10tdff62ePXvqscceu+dlShIXF6fcuXOrS5cu2r9/v3bs2CFPT0/5+fndtm2mdOnScnNzk5ubm5588sn7Hu/Pjhw5orCwMJ0/f16XLl3SU089JR8fH125ckUTJkxQXFycHn30UUn3t7E96fY8duyYjh8/rqtXr6po0aIaOHCgY8+8yMhIVa1aVZs3b9aaNWvk5eWlWbNmKXfu3Km2nP80wX+NU6dOOV5Bh4WFGR8fH9OhQwcTExNjevXqZerWrWuCgoLM/Pnzzfvvv29Onz5932MFBQWZTZs2GWNurSaoUKGCGTp0qOPn586dMy1atDCNGze+bTVCSoSFhTleyV25csU0a9bMbNy40QQHB5sJEyaYZs2aOX5+7tw5c+TIkRSPGRwcbCpWrGg6depkFi9ebIoVK2b69u3r+PnixYvN7Nmzzccff2yOHTuWorESEhIcXye9wkt6K92rVy8TGxvr+Lmfn1+KVrEYc/urua1btxo/Pz9z/vx5Y4wxbdu2dfx//f39zdatW1P8qjP5qq/Fixeb9u3bm6VLl5rw8HAzefJkU6NGDXP8+HFjjHG8y0zp6rL4+HgTFRVlLl26ZHx9fY0xxowbN8506NDBHDp0yHGbr1ixwmzbts0YY8zNmzfvedVL8tsyODjYXLlyxURGRpr169eb7t27m8WLFxtjjDl27Jg5dOiQY7XP/QoODja+vr4mNjbWhIaGmtmzZ5s6deqYU6dOmUWLFpmSJUuaFStWmJkzZ5rq1auneDWnMf+3jKdPnzYXLlww0dHRZs2aNY7lS7p/REdHp/i+kjTWxo0bTfXq1c2ECRNMkSJFTEhIiBk6dKipVq2a8fHxMZUrVzYnTpwws2fPTrXVV3frX7VB+tKlSxo1apTCwsL08ssvq27dupoyZYqioqI0cOBATZo0SaGhoQoPD9cXX3yhl1566b7H2rdvn/r06aN8+fKpYsWKev3119WhQweVLl1a3bt3lyRNnDhRly5dUrt27ZQzZ84UL9+yZcu0f/9+FSpUSPnz51dAQID279+vxo0by8vLSytWrNCmTZs0aNCgFG0oTWKMUVxcnAYNGqQDBw6oUqVKypUrl0aOHKnXXntNEydO1KBBg+Tm5qZatWqlygZ26dYBiqtXr1bmzJnl5eWlbt26qXnz5sqdO7f69++fKhsTkzYGJ403c+ZMzZ8/X0888YQkafTo0SpdurSuX7+ukSNHasqUKcqbN+99j2f+/7vMPXv26I8//lDRokV14MAB7dq1S6VLl1b58uU1a9Ys/fLLL1qyZIk8PDxSbV/1AwcOKDIyUvPmzVPu3LnVo0cPDR8+XJcuXVKzZs308ssvO8Yyf9q4e69mzZqltWvX6urVqypTpozefvtthYeHa/PmzUpISFDBggXVsmXLFC9TdHS0pk+frnXr1qlgwYIaMGCA5s6dq4CAAA0YMECnT59WQECA4uPj1bx5c7344ospHlOSNm3apBEjRihv3rwKCgqSr6+vDh8+rH379unNN99UxYoVU/TuJD4+Xm5utz6d+ezZs+rcubPGjBmjo0ePavTo0fr222+VPXt2XbhwQWFhYYqIiJAxRqNGjdLYsWOVJ0+eVFnOu5KmKbpPyV+1jBs3zrz88stmwIABxhhjQkJCTL9+/UyvXr1MVFSUMcakaN1/8rHGjx9vChcubKZOnWqMubX+s3r16sbb29tMmDDBfPLJJyY0NPS+x/orbdq0MQUKFDC//PKLMcaYGTNmmObNm5utW7eaU6dOmfHjxzvWX9+vP7/qOX/+vOnVq5fx9vY2gwcPNosXLzbvvPOO6dChQ4rGSbJ3716zf/9+Y4wxS5cuNR988IE5cOCAOXz4sKlTp47p1auXiYuLM9WrVzeDBg1KlTGTzJs3z3z88cemQoUKZu/evY5X6mPHjjXlypUzn3zySYrfESXZsGGDqVixovH29jZz5841xhgzd+5c07t3b+Pn52euXbuWonezfyUuLs4MGzbMfPfdd+bw4cPm888/N8OHDzfG3NpY+/nnn6fKu1pjbr3DqlWrlgkPDzehoaHG19fXDB8+3AQHB5utW7eaHj16pOqOCj/99JMpXLiwad68uYmLizOJiYlm+vTppnHjxubgwYPW76fUiRMnTPXq1R07RMyZM8c0aNDAHD9+3KxYscJ07tw5Re+IwsLCzMqVK01MTIyJiYkxly9fNuPHjzdLliwxtWvXNufOnTNbt241devWNfHx8eb48eNm8uTJpn79+ubw4cOptZh37YGPQ/J/flhYmDly5Ijx9/c3PXv2NMOGDTPGGHPt2jXTq1cv0717d5OQkHDfd5jkf5eQkGD27dtnVq1aZSpVquTYq+PixYtm2LBhpl+/fve9ATH5eImJibetblm8eLHp1q2b6dWrl+NJ67vvvjOfffaZ2bx5syOA92vz5s2mfPnyZsiQISYsLMxcv37dGGPM7Nmzze7du83KlSuNj4+PmTdvnqlataq5ePFiisY7dOiQKV++vGPvim+//dYsW7bM8fOYmBhTs2ZNc/jwYRMREWHOnDmTovGS/w/9/PxMlSpVTEhIiPHx8TG//vqr42dJ0UjJXknJRUVFmV69epnNmzffdvnu3bvNjBkzTMeOHVO8qiVJ8mVMTEw08+fPN97e3saYW6t1unTp4ljFlBqrW5KsXr36to3B165dM1WqVDFLliwxxty+2vB+JF+uiIgIk5CQYIKCgszo0aNN27ZtHS9qpk2bZlq3bm1u3ryZqnE4e/as+eKLL4wx/7csvr6+pkuXLsYY41gleb/OnDljOnToYL744gszaNAgc/nyZVO9enXz+uuvO5Zj5cqVpk+fPo6/Sf4YTWsP/AbppLfAc+fOVZMmTeTn56cXXnhB9evX1/nz5zV+/HgdPXpUH3/8sXr37i1XV9f73jiU/Mjn7t27a+/evapUqZJ8fHw0ZcoUrV27VmFhYWrbtq28vb3vawNicjExMXJxcZGrq6u2bt2qBQsWyNPTU6NGjVKWLFk0fvx4XblyRXXq1NFbb72lxx9/XI888kiKxoyNjVVYWJjmzJmjmTNnasaMGQoKClL+/Pk1YcIEVapUSS+99JJOnz6tBQsWpHh12eXLl5UrVy5t2bJFa9eulTFGs2fP1tWrVyVJ7u7uyps3r65evepYzZQSSf/Ds2fPqmLFivr++++VI0cOubi4OM5Ls3r1au3du9dxcNH9MsnWyD7yyCNKSEjQ5s2bHZft2rVLEyZMULNmzdSvX79UO4jPxcVFO3bs0OLFi+Xi4qKPP/5Yx44d08KFC/Xiiy+qRYsWunTpko4fP37fqx/Nn9Y2G2OUKVMmx1Hl0q2N0e+9955jNUlKVpMlf/xNmzZNrVu3VsuWLZUtWzbVq1dPuXLlko+Pj5YsWaI8efJo1KhRevTRR1O0iixpGW/evKnY2Fhly5ZNO3bs0LJlyxzLUqJECcdqpGefffa+x5JuHQ1fuXJlrV69Wjdu3FD27Nk1YcIEZcqUScOGDdOsWbM0ZcoUVaxY0fE3TzzxhLJkyZKice/XAx8HSdqwYYN+/PFHjRo1SvXr19eLL76oXLlyqVGjRjp27Ji8vb31zDPPpGhdYNKdbN26dfL391eRIkV08OBBjRkzRq+88ooGDx6syZMnq2PHjrpx40aKHwiRkZGqUKGC9u/fr3PnzmngwIHasWOH5s+fr7lz56pPnz566qmn1LNnT3366aeqV6+eXn311fseM0n58uU1efJkvfDCC7p69apeeeUVtW/fXpGRkXJxcdGaNWtUr149tWnTJkV3yosXL0q6tSeJJA0YMEDZs2dX06ZN9cYbb2jEiBE6ceKEVq1a5dgLK7WcPXtWnTp10tq1ax1PyMYYXbt2TWvWrNHkyZPVqlWrFB1Ba5JtY/jll1909uxZvffee469lKRbT54JCQm6evWqPD09U7xcyZ+ww8PD9c0338jb21uzZ89Wy5YtHUesv/TSSxoyZEiKtkslf6Hk6+urNm3ayMvLS0899ZTq1q3rOChz1apVKly4cIqWK7kFCxbo119/1YQJE3T69Gn16NFDrq6uatmypXLlyqUZM2boxRdfVObMme97DJPsYMh169apZcuWateunX766SeNGjVKw4YN06RJk7RkyRKNHz9epUqVStEyJY0XExOjQoUKafz48QoJCdHUqVOVO3duLVq0SMYY3bhxQz169FCFChUeiM/EeCA3SMfExChjxoy3nY73jz/+UI8ePRQbG6uEhATNnDlTRYoUUYkSJRQWFpYqD74dO3aof//+GjlypIoWLart27dr7dq1ypQpkxo1aqSMGTMqISEh1XaXmzVrlr766iu9/fbbat26tYoXLy5/f3/5+/vr9ddfV7169bRjxw55eHioWLFiqTJmkoCAAPn6+srX11fPPvusYzfPpKNAU/KKLDY2Vv3799ezzz6rEiVKaNOmTQoJCdHVq1fl4+OjuLg4+fn56ffff5eHh4e6d++e4ndhyd28eVObNm2Sn5+fqlSponr16mnp0qWaPHmycuXKpd69e6doZ4Uk69ev15AhQ5QnTx5lzpxZVatWVXBwsHbs2KGEhARduHBBHTt2VJUqVVI8VlKMduzYodDQUD333HN6+eWX9dtvv2n27NmOU5tPmzYtVV5ESLc25C9atEj9+vXTqlWrdOTIEXXq1Enbt2/XpUuXFBoaqo4dO6YoQps3b1ZoaKhq1qyp2NhY9e7dW7Vr11aOHDm0cOFCnTp1SpcvX5avr68KFiyoyMjIFIUhuVOnTmnkyJGqW7eusmbNqm7duumDDz7Q+++/r2+//VaPPvqoypQpozJlytz3hvykv9u4caN+/PFHFSxYUPXq1VNERIR8fX313nvvqVixYvLw8EiVnUxSVdquxbqzbdu2mQ8++MCMHj3acaDHvn37TKlSpRwbiowxpmvXrmbdunUpGuvP6yuDg4NNrVq1TOPGjR2X7dixw/Tp08dMmDDhtqOyUyL5utl169aZAgUKOA7ii4iIMGvWrDEdOnRw7LbrLP7+/qZ8+fKOXeSuX7+eahtMr1y5YkqVKmWqVKniuKxnz56mQYMGju0YERERKT5w8PDhw+bQoUPm7NmzJjAw0DH/mzdvmnXr1pmGDRuadevWmYMHD5qSJUumaB38tWvXHNtEgoKCzKeffmquXr1qAgMDTYUKFczw4cPN1q1bTXBwsNm3b59jm1FK14snbUTfuHGjqVixohk5cqT58MMPzcqVKx2/s2XLFjNy5Ejj6+trYmJiUrz+35hbB2Rt3brV8f3MmTNNlSpVHAekJd/1+H5t3rzZFChQwPz000/GGGMmTZpk9uzZY6ZOnWoCAwPNlStXzFtvvWV69+6d4iOfL1y4YPz9/c3GjRtNYGCgqVy5smNbjTG3/r/lypUzu3fvvu3vUvr/27Rpk6lRo4ZZsGCBadOmjfn8889NUFCQOXLkiGnTpo2pVKmS+e2331I0hjM8cHHYv3+/qV27tunZs6d55513zLBhw8zatWvN4sWLTa1atYy/v79ZuHChqVmzZoo2Xv55H/itW7eaoKAgExwcbJo2bWq6du3q+HlgYGCq7ZWUNG5QUJAZNWqUiYmJMb/88ot5+eWXHUcFR0REmJUrV6Z4g/fdWL9+vSlevPhtG4nv1583KLZs2dJUq1btto2YvXr1Mu+++26qbJzduHGjeffdd02bNm1MnTp1TIECBUzjxo0d94vIyEgzdOhQU6lSJTN//nwTHh5+32MdPXrUfPDBB6ZGjRqmf//+5uzZs6ZDhw4mKCjITJgwwaxdu9a0bt3a1KtXzyxYsCDFy2bMrcAmzfncuXOmbt265syZM2b79u3ms88+Mw0aNDCLFi1y/P4ff/xh+vfvf19j/VVMOnToYL755pvbLmvXrl2q/O+S74ixc+dO8/LLLztid+XKFdOiRQtz7do1s3LlStO+ffsUHxEcFBRkqlevbr744gvTsWNHc+XKFePr62vef//92+4XI0eOvC2IKRUVFWW8vb0dpxnp2LGj+eqrr0yXLl3M4cOHTWJiYop3+nCWBy4OISEhpmHDhiYwMNDs3r3bzJ492xQuXNh07drV1K1b17Rr184MGzYs1Z44p02bZho0aGB8fX1N3bp1zZYtW0xISIhp2bKladWqVaqMkSTpwbBx40bTunVrU7VqVfPVV1+ZqKgo8/PPP5tXX33VsbdLSg+OuhcBAQGpesDZtm3bTFBQkImOjjYhISGmZs2aZsiQIY6fjxs3LsV7JW3evNl89NFHZt++fSYsLMz4+fmZbt26ma5du5ratWs7rv/HH380kyZNStGeJsePHzeffPKJWbRokTl27JgpXry42bp1q9m7d6/Zu3ev49Xn/PnzTYsWLVJlt8Po6GgzfPhw07dvXxMWFmZCQ0NN8+bNHbs/bty40YwePdqUKlXKsav1ypUrTZUqVRynQblbyc9/tGTJEuPn52f27dtngoKCzNtvv+0I0NKlS0316tVT9RQVO3fuNCEhIWb37t3m5ZdfNosWLTI3b9407777rhk8eLApW7Zsive4Cg4ONtWrV3dE+/Lly8aYW+8UWrdubdq3b2+2b99utm7daipVquQ4Bcj9SnosbNu2zezbt88MGDDA/Pzzz2bmzJlm9erVZvv27ebdd981NWvWdMzlQfTAxcEYYxYsWGCqV69ujLn1qr1kyZKmW7dupnHjxqZu3bopesuc/Ens0KFDpnnz5saYW09YHTt2NOHh4Y53EK1bt06VV0nJdz89fPiwqVixovn999/NmjVrzOTJk83o0aNNXFyc+emnn0yBAgXM1atX0zQOqWnGjBnmvffeM9WqVTPDhg1z3J41atQwdevWNT4+PikeY+vWreaNN964bTfUPXv2OHY59Pb2NrVq1TIDBw40lSpVStFJyo4dO2bq16/v2JU5Pj7eDBw40BGbRYsWmR49epiAgADzwQcfWLuy3o/kr6iHDBlihgwZYmJjY82+ffvM4cOHzciRI40xt3bV7devn+OV7qlTp+7piTQxMdGcPHnS1KpVy1y5csX8/PPPpkKFCmbIkCGmfv36xt/f3xw8eNBUqFDBdOvWzdSsWdMcPXo0RcuW9PhLTEw0ly9fNl9++aXx9vY2V65cMXv27DEvv/yy2bx5szl//rxZvnx5quxq/Ntvvzl27U1ISHDsClu+fHnTvXt3U6lSJcdZAnbu3HnbPO9n2Yy5dY6r6tWrO46Ij4iIMA0aNDA3btwwx48fN61bt06142ucxS29t3n8lQoVKmj37t2Oj8EcMmSIypYtK+nWh2CkZE+hpI1KISEhypUrl7Jnzy5vb2+dPXtWkyZNkp+fn4KCguTt7a3Jkyen+CjWs2fPat26dapVq5Yef/xxhYWF6cUXX1ShQoVUqFAhPfPMM5o4caLGjh2rbt26qWzZssqWLVuKxkxLyU+jvXbtWm3atEm//PKLpk2bpjlz5uixxx5TixYtNG3aNM2aNUsff/xxisdM+mSu06dPO3ZFXbNmjeLj4yXd2jNq6dKlunHjhho2bHjfp4qOiopSmzZtVLhwYX3yySdKSEhQ06ZNdejQIYWFhalYsWI6c+aMjDEaOXKkunXrluI9W44fP64ff/xRMTExql27tkqWLKmNGzdq9OjRatOmjfz9/bVx40ZVrVpVU6ZM0ciRI1W8eHHFx8fr+eefv6exbty4oRdeeEG5c+dWmzZt9Pzzz2v69OnKkyeP1q5dq++++04tWrTQmjVrFB4eLmOMsmfPnqLlS3r8ubi4KHv27Proo4+0evVqff3112rTpo3mzJmjTz/9VGPGjFH16tVTNFaSzJkza/HixXr66af1yy+/6Mknn9Rrr72m5s2bKzAwUG+//bbOnTunjRs3OjYK3+vG57CwMJ04cUKvv/66rl69Km9vbz333HOO2yvpU+mGDRum3bt3q2PHjql2VLezPJC7sj755JN68skn9e2336p///4qW7as4uLiJClVTlNx8uRJ9enTRydOnJCLi4sOHTokX19feXh4KDY2Vi4uLkpISEjxp0gdP35cPXr00CuvvKKoqCjt2bNHL7zwguLj47V69WpJ0iuvvKI8efLo1KlTmjdvnjJnzqzExMQHYle2Ozl9+rQaNGjg+GSq2NhYFS1aVEePHlVUVJT69++vRYsWydvbW9evX9cXX3yRKg+IsmXLasSIERo0aJD8/f319ddf6/jx4xo1apTjdz788EN9+umnKdoD5NFHH1XPnj117NgxLV68WF27dlXevHk1dOhQFS5cWL///rtWrVqloKAgffnllypXrlyK/m8nT55Ut27d9MILLygiIkJjxozRM888ow8//FDR0dGaOnWq3nzzTZUqVUqDBg1Snz59HJ9TknSswd3auHGjOnXqpMaNG6tWrVp65ZVXtH37dscnCZYqVUqNGjXSmDFjtHz5cj355JMpDkOSgIAAffrpp5KkokWL6r333pOLi4vGjh2rvHnzasGCBal2qhbp1odjffnllzpw4ICKFSumYcOGqUWLFnrzzTfl7u6uK1euqGPHjsqTJ4+6d+/ueK65F0ePHtWCBQs0bdo0HThwQK1atVJ4eLjWrFmjiIgIZcqUSZ07d1b27NnVp08fValS5cF/jKfn25a/kvTWLCYmxjRr1sysXr06Va43+aqoM2fOmF69eplDhw6ZnTt3mi+++MK0a9fODB061FSsWDFV3u4dP37c1K5d28yfP98YY4yPj4/x9vY2mzZtMtOmTTODBw82Y8eONYGBgaZmzZqO0zin5hGfznT06FFz4cIF89FHHzk2GB48eNAcPHjQLF682EybNs0YY0zv3r3N559/7pR1q+vWrTMlS5Y0lStXdlzmjM/VWLdunXnrrbfMZ599Zv0sNDQ0Ve4vQUFB5qOPPjI///yz47LmzZubr776yhhza6+5QYMGmYEDB5obN244jpq9n/vLhg0bzIcffmh27dplfvvtN3P16lVjzK2jgRs1auTY+Hvjxg2zfv36FH92wJ/nGBkZadq2bWtatGjhuCxpj54xY8Y4fZVq0ulEAgMDTZUqVW47cj756c/vxoULF8yGDRvMH3/8YTp16mQKFChgZs2aZYwxZu3ateazzz4zixcvts5s8G94nD9w7xySPojc1dVV2bJl0/79+1NU2CNHjigmJkaurq6Oozu9vLxUqFAhDRgwQEWLFlXz5s1VuXJlPfPMM46DbFIiKChI/fv3V506dVSnTh1JUt68eZWYmKjAwEA988wzKlWqlIKDgzV//nyNGDFCJUuWVFhYmG7cuJGisdNCQECA2rVrp5EjRypLliz69ddfNXjwYD3xxBMqXLiwAgMDlTVrVq1YscJxIFNqvepMrkKFChoyZIgSEhK0bt06SUqVk/b91TjDhw9XSEiIfv75Z8flcXFxeuqpp1J8f4mMjNSgQYNUqFAhvf/++47LixYtqscff1yS9Oabb6p8+fJKTEzUxYsXHQco3uu726ioKC1dulT9+/fX66+/rvz582vfvn0aOHCgcubMqRMnTmjQoEE6c+aMMmXKpPLly9/3arkkSXNcsmSJZsyYoeDgYA0ePFiPP/64mjdvLkmOk/Y1atRIGTJkSNF4fycxMVEBAQHq0KGDBg0apF69eqlnz54qXbq0Y5XkvRwvdfz4cbVq1UrLly/X119/rTfeeENNmjRRYGCgtm3bpooVK6ply5aaPXu2Vq5ceds7ktT+fHlneCAPgkty4sQJZciQ4Z7XpSa5ceOGBg8erOvXr6t///768ssvdfPmTTVu3FiFCxfW8uXL9fLLL6d4PXFyUVFRqlGjhgoXLqxx48Y5zhpZtWpVffDBBxo7dqweeeQRlS9fXsWLF9fatWv1xx9/yN/fXyNHjkzVg8GcYcuWLRo1apS8vb3l5eWltWvXavv27YqPj9f58+c1duxYLVu2TMePH9fBgwc1fvx4FShQwKlz2rBhg3r06CEfH5/bnlxT2/r16zV8+HC1bNlStWvXTtXrnjZtms6ePauSJUvq3Xff1cKFC/XDDz9o0qRJt32eRVhYmLJmzXrf40RHR6tt27b65JNPVLRoUXl7e8vV1VWRkZEqV66cTpw4oeDgYCUkJGjGjBn3vLoqOZPswLFVq1bpm2++0bPPPqtHHnlEH330kQoVKqTevXvrwoULio2N1YQJE1J1ddJfiYyMdJxB1svLS0WKFLmvA9xCQkLUokULNW7cWLVr11ZkZKQyZcqk2NhYDR06VJGRkY6juletWqX8+fOraNGiTloq53ig45ASSf/wixcvatSoUXrsscfUv39/rVixQkFBQdq4caOyZ8+u559/Xr6+vqk69po1azR27Fi1bNlSv/76q3LkyKFevXpJkq5cuaJx48bJ1dVVnTp1UlRUlNatW6fSpUun7el478O2bdvUsWNH+fn5Oea6d+9eff/99xo9erQGDhyo8+fPa+DAgXr88ceVmJiYZhvXN23apOeff/6+X0jcLX9/fw0ePFjz5893nLMpJZKfWnzmzJkKCgqSdOsd79SpU5U9e3YlJCTc9znD/srSpUs1ceJE3bhxQ++8845q1aqlEiVKKCQkRBMnTpSvr6+uXr2aojMBJH/CPX36tBYvXqyPP/5YXl5eGjNmjK5evarq1aurRIkSOnz4sJ588sn7/lCu9LBr1y6tXLlS/fr1U2Jior799lsFBgbq6NGjeu2113TmzBk99dRTOn78uL799ttUPT1MWnkg91ZKDUl3zM2bNys+Pl47d+7UkCFD1Lt3b7m7u+utt97SsmXLtG/fPl29elXZsmVLtQdflSpV5Obmpt69eyt//vwaPXq0pFt79mTPnl2dO3d2jJktW7b7+oD39HCnvYS8vb3VrVs3ffnll5o6dWqKXnXeqzJlyqTJOJUrV9brr7+eaqvJXF1dHYFo2rSpZs+erRUrVqhmzZqOMVJ7NcuHH36o4sWLKyoq6rbTiOzcuVMnT57U9evXUxz1pMfS999/r19++UUnTpyQMUZdunRR+/btNXnyZP3www8yxuh///tfisZKD3+3B1SLFi20c+dOvf3223r11VdljPlXhkHSg7dBOjX5+/ubqlWrmhMnTpiAgADj6+trunbt6tg4FBYWlmrnuv8rGzZsMJUqVbptI2NqnYIjvaxfv95UrFjRrFmzxkyZMsW0atXK2gh8rxv1cPuG9NmzZ5v+/fubJUuWpPgzmP/J9evXzcqVK83q1auNn5+fqVatWooP4Eu+4XXLli2mefPmJioqygQGBprChQs7PuciOjraTJo0KUWf757eli1bZjp06GC+/PJLc+nSJceyT58+3UyZMiWdZ5dyD1UcoqOjHXslJSYmmmXLlpkxY8YYY249+M6cOWOaNm1qOnXq5JS9Wv7KunXrTJUqVVLtlAoPgr/bSyg1zufzX5T0guHMmTOOvZG+/vpr0717d6eGNiwszMyYMcM0atTIcTqH+5WYmGiOHz9uunfvbuLj4x2foVGlShXHqWe2b99uihQpYr799tvUWoQHxp/3gErNU3Ckl4cmDn93wr533nnHcdSjMcYMGDDAtGvXLk1fsaxZs8aULVvWBAcH/yt2YbsbGzduNBUqVDBr165N76n8qyT9//ft22e2bNli9uzZY4y59W6rXr165uuvv3b8bkpPMXK384mNjU3xi6WkJ8dz586ZvXv3mtOnT5tDhw6ZXr16GR8fH8f5gzZv3mxKlChhwsLCHooXEwkJCWbjxo2mSZMmxtfX11SsWPGheUw8NBukDxw4IB8fH+XNm1fbtm1TtWrVVLx4cd24cUPfffedWrVqpbCwMK1YsUJfffVVqn3wyt26cuWKU3bnTE9ptZfQwyLp84M3bdqkYcOGqUGDBvLx8dG4ceP02GOP6dy5c6pXr156T/Oebdy4UbNnz9aNGzfUtGlTLV++XMHBwRo3bpyuXLmiFStWKCEhQc2aNVOuXLkUHR2d4g+tepCk1h5QD5qHJg6XLl1S9+7d1bFjR2XIkEG///67hg0bpvfee0/nz59XtmzZ9Oyzz+rjjz9+4HcX/TdJq72E/s0uXbrk2BMnJCREPXr00JdffqlLly5p+PDhmjx5sqKiopQ3b15J+lc9sWzcuFFjx47VgAED5Orqqjx58uiJJ56Qt7e3zpw5I29vb129elV+fn7KkiWLunXrJldX1xSflgbO99DEQZIWLlyo7777TsuXL9dvv/2mjh076u2339bVq1cVFRWlH374gTsl0lRiYqI6d+6smzdvavr06ZKkr776SlmyZNG6des0atQoJSQkqEmTJvrll1+UKVOmdJ7x3YuKilKfPn3UoEEDFS9eXBEREdq1a5c2bNig3Llz67vvvtNrr72mHj166MaNG/L09NRTTz2V3tPGXXqodmX98wn7hg4dmmon7APuh6urqwYMGKDevXurc+fOGjt2rC5fvqzZs2crICBATzzxhHbv3q2CBQum6a6/qcHFxUVhYWEKCQnR+fPnbzugzsvLS2XKlNGFCxfk7e2d5rs2I+UeqncOkjRq1ChNnz5d33zzjcqUKaO4uDhlzJgxvaeF/6Dkq4euXr2qHj166JlnntGgQYNUr1495ciRQzly5FBgYKA+//xzVa5cOZ1nfO/S4oA6pI+HJg5JD8TY2Fi1bdtWdevWTZXP7gXuR9L98ejRowoLC9OTTz6pLFmyyMfHR9mzZ5ePj49+/vlnhYeHK3/+/HrjjTf+Vdsakjt37px1QN3y5cs1f/58TZ48WVmyZPlXLtd/3UMTB+nWAzIhIUG9evVSzpw51a1bN+6USDdr1651nBvJzc1NOXLkULNmzTRkyBBlyJBB48aNS+8pppqIiAht2bJFrq6uCg8P13fffaevvvrK6efVgvM8VCsBXVxc5Obmpnbt2ilDhgyEAWkqLCxMERER8vLyUkhIiGbMmKFRo0YpX758Onz4sH744QetXr1aAwcOVNeuXfX777+rcOHC6T3tVJGYmKgLFy4oICBA2bNnJwwPgYcqDkmSdgkE0sqxY8fUvXt3GWP06quvOt61Jp0XKW/evHrppZcUFBQkT09PzZw586HaQPvEE0+oadOmatiwoYwxTjl1OtIWu+8AKXTixAn17dtXjRs31ujRo7VmzRqdOHFCr7zyinbu3KmQkBC5u7srV65cunbtmqKioh7KPedcXFyUMWNGwvCQeHheugDpICgoSAMGDNAnn3yiWrVqKSEhQdWqVZOXl5dKlSqlgIAAbd++XUWKFNF3332ngQMH6tFHH03vaQN39FBtkAbS0p8/2CkhIUFNmzbVH3/8oXLlyun1119XcHCwMmfOrNjYWP3vf//7V++VhP8W4gCkQPIPdtq4caOyZcum0qVL68SJEzp69KgCAgJUsGBBffnll8qXL196Txe4a8QBSKH169erd+/eeumllzRnzpzbfhYaGqrw8PAUf840kNYevq1iQBqrUKGChg8frpCQEP3888+Oy+Pi4uTp6UkY8K/EBmkgFZQrV06JiYkaPny4oqKiVLt2bU7bgn814gCkkgoVKighIUGDBw/WO++8oxw5crDhGf9abHMAUtnD+MFO+O8hDgAACxukAQAW4gAAsBAHAICFOAAALOzKCtyFhQsXav78+bpx44ZiY2Pl5eWlzp07q2jRouk9NcApiANwB6NHj1ZgYKDGjh2rXLlySZK2bdum1q1b66efftKzzz6bzjMEUh+7sgL/4PLly6pYsaL8/f2VI0eO2362ZMkSvfrqq8qcObN8fHx08eJFxcXFqVq1amrTpo3OnTunJk2aqGzZstq3b5+uX7+uHj16qHLlypowYYL27t2rS5cuqUCBAho1apSmTJmiNWvWKDExUbly5dLAgQP19NNPp9OS47+Odw7AP9i7d6/y5ctnhUGSPvroI0lSo0aN1KRJE1WoUEExMTFq2bKlnnvuORUpUkRnz55V6dKl1b9/f61evVpDhgxR5cqVJUnnz5/XihUr5ObmpiVLlujo0aNasGCB3NzcNH/+fPXr10/Tpk1Ly8UFHIgD8A/+/MY6MjJSn332mSTp5s2bKl++vAIDAxUeHq5x48Y5Lj98+LCKFCmijBkzqmzZspKkQoUKKSwszHFdxYoVc3xU6IYNG3TgwAF9/PHHkm59JnNUVJSzFw/4W8QB+AdFihTRyZMnde3aNWXLlk2ZM2fW0qVLJUkTJkzQhQsXZIzRvHnzHJ/wdvXqVXl4eOjatWvKmDGj4yNB/3yepUyZMjm+TkxMVIsWLfTpp59KkmJjYxUeHp4Wiwj8JXZlBf7B008/rUaNGqlTp066cOGC4/Lz589r9+7deuyxx1SsWDHNnDlTknT9+nXVr19f69atu6dxSpcurYULFyoyMlKSNG7cOPXs2TP1FgS4R7xzAO6gS5cuWrZsmbp166aoqChFREToiSee0Pvvv6/PPvtMV65cka+vr2rUqKHY2FhVr15dH3zwgc6dO3fXY3zyyScKCQlRnTp15OLiomeeeUbDhg1z4lIB/4y9lQAAFlYrAQAsxAEAYCEOAAALcQAAWIgDAMBCHAAAFuIAALD8PzMNbwPKUQWHAAAAAElFTkSuQmCC\n",
>>>>>>> 5e83b6f9bae3316a5a9c1bda94c007904063e79b
      "text/plain": [
       "<Figure size 432x1080 with 1 Axes>"
      ]
     },
     "metadata": {},
     "output_type": "display_data"
    }
   ],
   "source": [
    "sns.set_theme(style=\"darkgrid\")\n",
    "\n",
    "# Initialize the matplotlib figure\n",
    "f, ax = plt.subplots(figsize=(6, 15))\n",
    "\n",
    "# Plot the games per year\n",
    "sns.barplot(x=\"Genre\", y=\"Game Count\", data=genre_count,\n",
    "            label=\"Game Count\", color=\"g\")\n",
    "\n",
    "# Add a legend and informative axis label\n",
    "ax.legend(ncol=2, loc=\"lower right\", frameon=True)\n",
    "ax.set(ylabel=\"Game Count\", xlabel=\"Genre\")\n",
    "plt.xticks(rotation=45, ha='right')\n",
    "sns.despine(left=True, bottom=True)"
   ]
  },
  {
   "cell_type": "code",
<<<<<<< HEAD
   "execution_count": 187,
=======
   "execution_count": 34,
>>>>>>> 5e83b6f9bae3316a5a9c1bda94c007904063e79b
   "metadata": {},
   "outputs": [
    {
     "data": {
      "text/html": [
       "<div>\n",
       "<style scoped>\n",
       "    .dataframe tbody tr th:only-of-type {\n",
       "        vertical-align: middle;\n",
       "    }\n",
       "\n",
       "    .dataframe tbody tr th {\n",
       "        vertical-align: top;\n",
       "    }\n",
       "\n",
       "    .dataframe thead th {\n",
       "        text-align: right;\n",
       "    }\n",
       "</style>\n",
       "<table border=\"1\" class=\"dataframe\">\n",
       "  <thead>\n",
       "    <tr style=\"text-align: right;\">\n",
       "      <th></th>\n",
       "      <th>Genre</th>\n",
       "      <th>Year</th>\n",
<<<<<<< HEAD
       "      <th>Number of Genres</th>\n",
=======
       "      <th>Games per Genre</th>\n",
>>>>>>> 5e83b6f9bae3316a5a9c1bda94c007904063e79b
       "    </tr>\n",
       "  </thead>\n",
       "  <tbody>\n",
       "    <tr>\n",
       "      <th>0</th>\n",
       "      <td>Action</td>\n",
<<<<<<< HEAD
       "      <td>1980</td>\n",
       "      <td>1</td>\n",
=======
       "      <td>1981</td>\n",
       "      <td>20</td>\n",
>>>>>>> 5e83b6f9bae3316a5a9c1bda94c007904063e79b
       "    </tr>\n",
       "    <tr>\n",
       "      <th>1</th>\n",
       "      <td>Action</td>\n",
<<<<<<< HEAD
       "      <td>1981</td>\n",
       "      <td>25</td>\n",
=======
       "      <td>1982</td>\n",
       "      <td>10</td>\n",
>>>>>>> 5e83b6f9bae3316a5a9c1bda94c007904063e79b
       "    </tr>\n",
       "    <tr>\n",
       "      <th>2</th>\n",
       "      <td>Action</td>\n",
<<<<<<< HEAD
       "      <td>1982</td>\n",
       "      <td>18</td>\n",
=======
       "      <td>1983</td>\n",
       "      <td>5</td>\n",
>>>>>>> 5e83b6f9bae3316a5a9c1bda94c007904063e79b
       "    </tr>\n",
       "    <tr>\n",
       "      <th>3</th>\n",
       "      <td>Action</td>\n",
<<<<<<< HEAD
       "      <td>1983</td>\n",
       "      <td>7</td>\n",
=======
       "      <td>1984</td>\n",
       "      <td>1</td>\n",
>>>>>>> 5e83b6f9bae3316a5a9c1bda94c007904063e79b
       "    </tr>\n",
       "    <tr>\n",
       "      <th>4</th>\n",
       "      <td>Action</td>\n",
<<<<<<< HEAD
       "      <td>1984</td>\n",
=======
       "      <td>1985</td>\n",
>>>>>>> 5e83b6f9bae3316a5a9c1bda94c007904063e79b
       "      <td>1</td>\n",
       "    </tr>\n",
       "    <tr>\n",
       "      <th>...</th>\n",
       "      <td>...</td>\n",
       "      <td>...</td>\n",
       "      <td>...</td>\n",
       "    </tr>\n",
       "    <tr>\n",
<<<<<<< HEAD
       "      <th>205</th>\n",
       "      <td>Strategy</td>\n",
       "      <td>1997</td>\n",
       "      <td>18</td>\n",
       "    </tr>\n",
       "    <tr>\n",
       "      <th>206</th>\n",
       "      <td>Strategy</td>\n",
       "      <td>1998</td>\n",
       "      <td>28</td>\n",
       "    </tr>\n",
       "    <tr>\n",
       "      <th>207</th>\n",
       "      <td>Strategy</td>\n",
       "      <td>1999</td>\n",
       "      <td>23</td>\n",
       "    </tr>\n",
       "    <tr>\n",
       "      <th>208</th>\n",
       "      <td>Strategy</td>\n",
       "      <td>2000</td>\n",
       "      <td>7</td>\n",
       "    </tr>\n",
       "    <tr>\n",
       "      <th>209</th>\n",
       "      <td>Strategy</td>\n",
       "      <td>2001</td>\n",
       "      <td>3</td>\n",
       "    </tr>\n",
       "  </tbody>\n",
       "</table>\n",
       "<p>210 rows × 3 columns</p>\n",
       "</div>"
      ],
      "text/plain": [
       "        Genre  Year  Number of Genres\n",
       "0      Action  1980                 1\n",
       "1      Action  1981                25\n",
       "2      Action  1982                18\n",
       "3      Action  1983                 7\n",
       "4      Action  1984                 1\n",
       "..        ...   ...               ...\n",
       "205  Strategy  1997                18\n",
       "206  Strategy  1998                28\n",
       "207  Strategy  1999                23\n",
       "208  Strategy  2000                 7\n",
       "209  Strategy  2001                 3\n",
       "\n",
       "[210 rows x 3 columns]"
      ]
     },
     "execution_count": 187,
=======
       "      <th>178</th>\n",
       "      <td>Strategy</td>\n",
       "      <td>1997</td>\n",
       "      <td>5</td>\n",
       "    </tr>\n",
       "    <tr>\n",
       "      <th>179</th>\n",
       "      <td>Strategy</td>\n",
       "      <td>1998</td>\n",
       "      <td>10</td>\n",
       "    </tr>\n",
       "    <tr>\n",
       "      <th>180</th>\n",
       "      <td>Strategy</td>\n",
       "      <td>1999</td>\n",
       "      <td>13</td>\n",
       "    </tr>\n",
       "    <tr>\n",
       "      <th>181</th>\n",
       "      <td>Strategy</td>\n",
       "      <td>2000</td>\n",
       "      <td>1</td>\n",
       "    </tr>\n",
       "    <tr>\n",
       "      <th>182</th>\n",
       "      <td>Strategy</td>\n",
       "      <td>2001</td>\n",
       "      <td>1</td>\n",
       "    </tr>\n",
       "  </tbody>\n",
       "</table>\n",
       "<p>183 rows × 3 columns</p>\n",
       "</div>"
      ],
      "text/plain": [
       "        Genre  Year  Games per Genre\n",
       "0      Action  1981               20\n",
       "1      Action  1982               10\n",
       "2      Action  1983                5\n",
       "3      Action  1984                1\n",
       "4      Action  1985                1\n",
       "..        ...   ...              ...\n",
       "178  Strategy  1997                5\n",
       "179  Strategy  1998               10\n",
       "180  Strategy  1999               13\n",
       "181  Strategy  2000                1\n",
       "182  Strategy  2001                1\n",
       "\n",
       "[183 rows x 3 columns]"
      ]
     },
     "execution_count": 34,
>>>>>>> 5e83b6f9bae3316a5a9c1bda94c007904063e79b
     "metadata": {},
     "output_type": "execute_result"
    }
   ],
   "source": [
    "genre_year = game_data.groupby([\"Genre\", \"Year\"], as_index=False).count()\n",
<<<<<<< HEAD
    "genre_by_year = genre_year[[\"Genre\", \"Year\", \"Platform\"]].rename(columns={\"Platform\": \"Number of Genres\"})\n",
=======
    "genre_by_year = genre_year[[\"Genre\", \"Year\", \"Platform\"]].rename(columns={\"Platform\": \"Games per Genre\"})\n",
>>>>>>> 5e83b6f9bae3316a5a9c1bda94c007904063e79b
    "genre_by_year"
   ]
  },
  {
   "cell_type": "code",
<<<<<<< HEAD
   "execution_count": 117,
=======
   "execution_count": 35,
>>>>>>> 5e83b6f9bae3316a5a9c1bda94c007904063e79b
   "metadata": {},
   "outputs": [
    {
     "data": {
      "text/plain": [
       "<AxesSubplot:xlabel='Year', ylabel='Genre'>"
      ]
     },
<<<<<<< HEAD
     "execution_count": 117,
=======
     "execution_count": 35,
>>>>>>> 5e83b6f9bae3316a5a9c1bda94c007904063e79b
     "metadata": {},
     "output_type": "execute_result"
    },
    {
     "data": {
<<<<<<< HEAD
      "image/png": "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\n",
=======
      "image/png": "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\n",
>>>>>>> 5e83b6f9bae3316a5a9c1bda94c007904063e79b
      "text/plain": [
       "<Figure size 432x288 with 1 Axes>"
      ]
     },
     "metadata": {},
     "output_type": "display_data"
    }
   ],
   "source": [
    "sns.stripplot(data=genre_by_year, x=\"Year\", y=\"Genre\")"
   ]
  },
  {
   "cell_type": "code",
<<<<<<< HEAD
   "execution_count": 118,
=======
   "execution_count": 36,
>>>>>>> 5e83b6f9bae3316a5a9c1bda94c007904063e79b
   "metadata": {
    "scrolled": true
   },
   "outputs": [
    {
     "data": {
      "text/plain": [
<<<<<<< HEAD
       "<seaborn.axisgrid.FacetGrid at 0x7fb1318f29d0>"
      ]
     },
     "execution_count": 118,
=======
       "<seaborn.axisgrid.FacetGrid at 0x7fa17f2b2f10>"
      ]
     },
     "execution_count": 36,
>>>>>>> 5e83b6f9bae3316a5a9c1bda94c007904063e79b
     "metadata": {},
     "output_type": "execute_result"
    },
    {
     "data": {
<<<<<<< HEAD
      "image/png": "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\n",
      "text/plain": [
       "<Figure size 436.925x360 with 1 Axes>"
=======
      "image/png": "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\n",
      "text/plain": [
       "<Figure size 465.175x360 with 1 Axes>"
>>>>>>> 5e83b6f9bae3316a5a9c1bda94c007904063e79b
      ]
     },
     "metadata": {},
     "output_type": "display_data"
    }
   ],
   "source": [
    "sns.relplot(\n",
<<<<<<< HEAD
    "    data=genre_by_year, x=\"Year\", y=\"Genre\",size=\"Game Count\",\n",
=======
    "    data=genre_by_year, x=\"Year\", y=\"Genre\",size=\"Games per Genre\",\n",
>>>>>>> 5e83b6f9bae3316a5a9c1bda94c007904063e79b
    "    palette=[\"b\", \"r\"], sizes=(10, 50)\n",
    ")"
   ]
  },
  {
   "cell_type": "markdown",
   "metadata": {},
   "source": [
    "## Animated Bubble Chart"
   ]
  },
  {
   "cell_type": "code",
<<<<<<< HEAD
   "execution_count": 190,
   "metadata": {
    "scrolled": true
=======
   "execution_count": 39,
   "metadata": {
    "scrolled": false
>>>>>>> 5e83b6f9bae3316a5a9c1bda94c007904063e79b
   },
   "outputs": [
    {
     "data": {
      "text/html": [
       "<div>\n",
       "<style scoped>\n",
       "    .dataframe tbody tr th:only-of-type {\n",
       "        vertical-align: middle;\n",
       "    }\n",
       "\n",
       "    .dataframe tbody tr th {\n",
       "        vertical-align: top;\n",
       "    }\n",
       "\n",
       "    .dataframe thead th {\n",
       "        text-align: right;\n",
       "    }\n",
       "</style>\n",
       "<table border=\"1\" class=\"dataframe\">\n",
       "  <thead>\n",
       "    <tr style=\"text-align: right;\">\n",
       "      <th></th>\n",
       "      <th>Platform</th>\n",
       "      <th>Year</th>\n",
       "      <th>Games per Platform</th>\n",
       "      <th>Genre</th>\n",
<<<<<<< HEAD
       "      <th>Number of Genres</th>\n",
=======
       "      <th>Games per Genre</th>\n",
>>>>>>> 5e83b6f9bae3316a5a9c1bda94c007904063e79b
       "    </tr>\n",
       "  </thead>\n",
       "  <tbody>\n",
       "    <tr>\n",
       "      <th>0</th>\n",
       "      <td>2600</td>\n",
       "      <td>1980</td>\n",
<<<<<<< HEAD
       "      <td>9</td>\n",
       "      <td>Action</td>\n",
=======
       "      <td>5</td>\n",
       "      <td>Fighting</td>\n",
>>>>>>> 5e83b6f9bae3316a5a9c1bda94c007904063e79b
       "      <td>1</td>\n",
       "    </tr>\n",
       "    <tr>\n",
       "      <th>1</th>\n",
       "      <td>2600</td>\n",
       "      <td>1980</td>\n",
<<<<<<< HEAD
       "      <td>9</td>\n",
       "      <td>Fighting</td>\n",
       "      <td>1</td>\n",
=======
       "      <td>5</td>\n",
       "      <td>Misc</td>\n",
       "      <td>2</td>\n",
>>>>>>> 5e83b6f9bae3316a5a9c1bda94c007904063e79b
       "    </tr>\n",
       "    <tr>\n",
       "      <th>2</th>\n",
       "      <td>2600</td>\n",
       "      <td>1980</td>\n",
<<<<<<< HEAD
       "      <td>9</td>\n",
       "      <td>Misc</td>\n",
       "      <td>4</td>\n",
=======
       "      <td>5</td>\n",
       "      <td>Shooter</td>\n",
       "      <td>1</td>\n",
>>>>>>> 5e83b6f9bae3316a5a9c1bda94c007904063e79b
       "    </tr>\n",
       "    <tr>\n",
       "      <th>3</th>\n",
       "      <td>2600</td>\n",
       "      <td>1980</td>\n",
<<<<<<< HEAD
       "      <td>9</td>\n",
       "      <td>Shooter</td>\n",
       "      <td>2</td>\n",
=======
       "      <td>5</td>\n",
       "      <td>Sports</td>\n",
       "      <td>1</td>\n",
>>>>>>> 5e83b6f9bae3316a5a9c1bda94c007904063e79b
       "    </tr>\n",
       "    <tr>\n",
       "      <th>4</th>\n",
       "      <td>2600</td>\n",
<<<<<<< HEAD
       "      <td>1980</td>\n",
       "      <td>9</td>\n",
       "      <td>Sports</td>\n",
       "      <td>1</td>\n",
=======
       "      <td>1981</td>\n",
       "      <td>36</td>\n",
       "      <td>Action</td>\n",
       "      <td>20</td>\n",
>>>>>>> 5e83b6f9bae3316a5a9c1bda94c007904063e79b
       "    </tr>\n",
       "    <tr>\n",
       "      <th>...</th>\n",
       "      <td>...</td>\n",
       "      <td>...</td>\n",
       "      <td>...</td>\n",
       "      <td>...</td>\n",
       "      <td>...</td>\n",
       "    </tr>\n",
       "    <tr>\n",
<<<<<<< HEAD
       "      <th>602</th>\n",
       "      <td>SNES</td>\n",
       "      <td>1995</td>\n",
       "      <td>54</td>\n",
       "      <td>Simulation</td>\n",
       "      <td>13</td>\n",
       "    </tr>\n",
       "    <tr>\n",
       "      <th>603</th>\n",
       "      <td>SNES</td>\n",
       "      <td>1995</td>\n",
       "      <td>54</td>\n",
       "      <td>Sports</td>\n",
       "      <td>28</td>\n",
       "    </tr>\n",
       "    <tr>\n",
       "      <th>604</th>\n",
       "      <td>SNES</td>\n",
       "      <td>1995</td>\n",
       "      <td>54</td>\n",
       "      <td>Strategy</td>\n",
       "      <td>13</td>\n",
       "    </tr>\n",
       "    <tr>\n",
       "      <th>605</th>\n",
       "      <td>PS</td>\n",
       "      <td>2003</td>\n",
       "      <td>3</td>\n",
       "      <td>Misc</td>\n",
       "      <td>2</td>\n",
       "    </tr>\n",
       "    <tr>\n",
       "      <th>606</th>\n",
       "      <td>PS</td>\n",
       "      <td>2003</td>\n",
       "      <td>3</td>\n",
=======
       "      <th>445</th>\n",
       "      <td>SNES</td>\n",
       "      <td>1995</td>\n",
       "      <td>6</td>\n",
       "      <td>Shooter</td>\n",
       "      <td>15</td>\n",
       "    </tr>\n",
       "    <tr>\n",
       "      <th>446</th>\n",
       "      <td>SNES</td>\n",
       "      <td>1995</td>\n",
       "      <td>6</td>\n",
       "      <td>Simulation</td>\n",
       "      <td>8</td>\n",
       "    </tr>\n",
       "    <tr>\n",
       "      <th>447</th>\n",
       "      <td>SNES</td>\n",
       "      <td>1995</td>\n",
       "      <td>6</td>\n",
       "      <td>Sports</td>\n",
       "      <td>9</td>\n",
       "    </tr>\n",
       "    <tr>\n",
       "      <th>448</th>\n",
       "      <td>SNES</td>\n",
       "      <td>1995</td>\n",
       "      <td>6</td>\n",
       "      <td>Strategy</td>\n",
       "      <td>4</td>\n",
       "    </tr>\n",
       "    <tr>\n",
       "      <th>449</th>\n",
       "      <td>PS</td>\n",
       "      <td>2003</td>\n",
       "      <td>1</td>\n",
>>>>>>> 5e83b6f9bae3316a5a9c1bda94c007904063e79b
       "      <td>Sports</td>\n",
       "      <td>1</td>\n",
       "    </tr>\n",
       "  </tbody>\n",
       "</table>\n",
<<<<<<< HEAD
       "<p>607 rows × 5 columns</p>\n",
       "</div>"
      ],
      "text/plain": [
       "    Platform  Year  Games per Platform       Genre  Number of Genres\n",
       "0       2600  1980                   9      Action                 1\n",
       "1       2600  1980                   9    Fighting                 1\n",
       "2       2600  1980                   9        Misc                 4\n",
       "3       2600  1980                   9     Shooter                 2\n",
       "4       2600  1980                   9      Sports                 1\n",
       "..       ...   ...                 ...         ...               ...\n",
       "602     SNES  1995                  54  Simulation                13\n",
       "603     SNES  1995                  54      Sports                28\n",
       "604     SNES  1995                  54    Strategy                13\n",
       "605       PS  2003                   3        Misc                 2\n",
       "606       PS  2003                   3      Sports                 1\n",
       "\n",
       "[607 rows x 5 columns]"
      ]
     },
     "execution_count": 190,
=======
       "<p>450 rows × 5 columns</p>\n",
       "</div>"
      ],
      "text/plain": [
       "    Platform  Year  Games per Platform       Genre  Games per Genre\n",
       "0       2600  1980                   5    Fighting                1\n",
       "1       2600  1980                   5        Misc                2\n",
       "2       2600  1980                   5     Shooter                1\n",
       "3       2600  1980                   5      Sports                1\n",
       "4       2600  1981                  36      Action               20\n",
       "..       ...   ...                 ...         ...              ...\n",
       "445     SNES  1995                   6     Shooter               15\n",
       "446     SNES  1995                   6  Simulation                8\n",
       "447     SNES  1995                   6      Sports                9\n",
       "448     SNES  1995                   6    Strategy                4\n",
       "449       PS  2003                   1      Sports                1\n",
       "\n",
       "[450 rows x 5 columns]"
      ]
     },
     "execution_count": 39,
>>>>>>> 5e83b6f9bae3316a5a9c1bda94c007904063e79b
     "metadata": {},
     "output_type": "execute_result"
    }
   ],
   "source": [
    "genre_platform = games_by_year.merge(genre_by_year, how='inner', on=\"Year\")\n",
    "genre_platform"
   ]
  },
  {
   "cell_type": "code",
<<<<<<< HEAD
   "execution_count": 191,
=======
   "execution_count": 40,
>>>>>>> 5e83b6f9bae3316a5a9c1bda94c007904063e79b
   "metadata": {
    "scrolled": true
   },
   "outputs": [],
   "source": [
    "from bubbly.bubbly import bubbleplot"
   ]
  },
  {
<<<<<<< HEAD
   "cell_type": "code",
   "execution_count": 192,
   "metadata": {
    "scrolled": true
   },
   "outputs": [
    {
     "ename": "KeyError",
     "evalue": "'Genre Count'",
     "output_type": "error",
     "traceback": [
      "\u001b[0;31m---------------------------------------------------------------------------\u001b[0m",
      "\u001b[0;31mKeyError\u001b[0m                                  Traceback (most recent call last)",
      "\u001b[0;32m~/opt/anaconda3/lib/python3.7/site-packages/pandas/core/indexes/base.py\u001b[0m in \u001b[0;36mget_loc\u001b[0;34m(self, key, method, tolerance)\u001b[0m\n\u001b[1;32m   2894\u001b[0m             \u001b[0;32mtry\u001b[0m\u001b[0;34m:\u001b[0m\u001b[0;34m\u001b[0m\u001b[0;34m\u001b[0m\u001b[0m\n\u001b[0;32m-> 2895\u001b[0;31m                 \u001b[0;32mreturn\u001b[0m \u001b[0mself\u001b[0m\u001b[0;34m.\u001b[0m\u001b[0m_engine\u001b[0m\u001b[0;34m.\u001b[0m\u001b[0mget_loc\u001b[0m\u001b[0;34m(\u001b[0m\u001b[0mcasted_key\u001b[0m\u001b[0;34m)\u001b[0m\u001b[0;34m\u001b[0m\u001b[0;34m\u001b[0m\u001b[0m\n\u001b[0m\u001b[1;32m   2896\u001b[0m             \u001b[0;32mexcept\u001b[0m \u001b[0mKeyError\u001b[0m \u001b[0;32mas\u001b[0m \u001b[0merr\u001b[0m\u001b[0;34m:\u001b[0m\u001b[0;34m\u001b[0m\u001b[0;34m\u001b[0m\u001b[0m\n",
      "\u001b[0;32mpandas/_libs/index.pyx\u001b[0m in \u001b[0;36mpandas._libs.index.IndexEngine.get_loc\u001b[0;34m()\u001b[0m\n",
      "\u001b[0;32mpandas/_libs/index.pyx\u001b[0m in \u001b[0;36mpandas._libs.index.IndexEngine.get_loc\u001b[0;34m()\u001b[0m\n",
      "\u001b[0;32mpandas/_libs/hashtable_class_helper.pxi\u001b[0m in \u001b[0;36mpandas._libs.hashtable.PyObjectHashTable.get_item\u001b[0;34m()\u001b[0m\n",
      "\u001b[0;32mpandas/_libs/hashtable_class_helper.pxi\u001b[0m in \u001b[0;36mpandas._libs.hashtable.PyObjectHashTable.get_item\u001b[0;34m()\u001b[0m\n",
      "\u001b[0;31mKeyError\u001b[0m: 'Genre Count'",
      "\nThe above exception was the direct cause of the following exception:\n",
      "\u001b[0;31mKeyError\u001b[0m                                  Traceback (most recent call last)",
      "\u001b[0;32m<ipython-input-192-7747cf4eef59>\u001b[0m in \u001b[0;36m<module>\u001b[0;34m\u001b[0m\n\u001b[1;32m      1\u001b[0m figure = bubbleplot(dataset=genre_platform, x_column=\"Genre Count\", y_column=\"Platform Count\", \n\u001b[1;32m      2\u001b[0m     \u001b[0mbubble_column\u001b[0m\u001b[0;34m=\u001b[0m\u001b[0;34m\"Genre\"\u001b[0m\u001b[0;34m,\u001b[0m \u001b[0mtime_column\u001b[0m\u001b[0;34m=\u001b[0m\u001b[0;34m\"Year\"\u001b[0m\u001b[0;34m,\u001b[0m \u001b[0msize_column\u001b[0m\u001b[0;34m=\u001b[0m\u001b[0;34m\"Platform Count\"\u001b[0m\u001b[0;34m,\u001b[0m \u001b[0mcolor_column\u001b[0m\u001b[0;34m=\u001b[0m\u001b[0;34m\"Platform\"\u001b[0m\u001b[0;34m,\u001b[0m\u001b[0;34m\u001b[0m\u001b[0;34m\u001b[0m\u001b[0m\n\u001b[0;32m----> 3\u001b[0;31m     x_title=\"Genre Count\", y_title=\"Platform Count\", title='Video Game Popularity Over Time', x_logscale=True, scale_bubble=3, height=650)\n\u001b[0m\u001b[1;32m      4\u001b[0m \u001b[0;34m\u001b[0m\u001b[0m\n\u001b[1;32m      5\u001b[0m \u001b[0miplot\u001b[0m\u001b[0;34m(\u001b[0m\u001b[0mfigure\u001b[0m\u001b[0;34m,\u001b[0m \u001b[0mconfig\u001b[0m\u001b[0;34m=\u001b[0m\u001b[0;34m{\u001b[0m\u001b[0;34m'scrollzoom'\u001b[0m\u001b[0;34m:\u001b[0m \u001b[0;32mTrue\u001b[0m\u001b[0;34m}\u001b[0m\u001b[0;34m)\u001b[0m\u001b[0;34m\u001b[0m\u001b[0;34m\u001b[0m\u001b[0m\n",
      "\u001b[0;32m~/opt/anaconda3/lib/python3.7/site-packages/bubbly/bubbly.py\u001b[0m in \u001b[0;36mbubbleplot\u001b[0;34m(dataset, x_column, y_column, bubble_column, z_column, time_column, size_column, color_column, x_logscale, y_logscale, z_logscale, x_range, y_range, z_range, x_title, y_title, z_title, title, colorbar_title, scale_bubble, colorscale, marker_opacity, marker_border_width, show_slider, show_button, show_colorbar, show_legend, width, height)\u001b[0m\n\u001b[1;32m     48\u001b[0m         \u001b[0mcategories\u001b[0m \u001b[0;34m=\u001b[0m \u001b[0mdataset\u001b[0m\u001b[0;34m[\u001b[0m\u001b[0mcategory_column\u001b[0m\u001b[0;34m]\u001b[0m\u001b[0;34m.\u001b[0m\u001b[0munique\u001b[0m\u001b[0;34m(\u001b[0m\u001b[0;34m)\u001b[0m\u001b[0;34m\u001b[0m\u001b[0;34m\u001b[0m\u001b[0m\n\u001b[1;32m     49\u001b[0m         \u001b[0mcol_name_template\u001b[0m \u001b[0;34m=\u001b[0m \u001b[0;34m'{}+{}+{}_grid'\u001b[0m\u001b[0;34m\u001b[0m\u001b[0;34m\u001b[0m\u001b[0m\n\u001b[0;32m---> 50\u001b[0;31m         \u001b[0mgrid\u001b[0m \u001b[0;34m=\u001b[0m \u001b[0mmake_grid_with_categories\u001b[0m\u001b[0;34m(\u001b[0m\u001b[0mdataset\u001b[0m\u001b[0;34m,\u001b[0m \u001b[0mcolumn_names\u001b[0m\u001b[0;34m,\u001b[0m \u001b[0mtime_column\u001b[0m\u001b[0;34m,\u001b[0m \u001b[0mcategory_column\u001b[0m\u001b[0;34m,\u001b[0m \u001b[0myears\u001b[0m\u001b[0;34m,\u001b[0m \u001b[0mcategories\u001b[0m\u001b[0;34m)\u001b[0m\u001b[0;34m\u001b[0m\u001b[0;34m\u001b[0m\u001b[0m\n\u001b[0m\u001b[1;32m     51\u001b[0m         \u001b[0;32mif\u001b[0m \u001b[0mshow_legend\u001b[0m \u001b[0;32mis\u001b[0m \u001b[0;32mNone\u001b[0m\u001b[0;34m:\u001b[0m\u001b[0;34m\u001b[0m\u001b[0;34m\u001b[0m\u001b[0m\n\u001b[1;32m     52\u001b[0m             \u001b[0mshowlegend\u001b[0m \u001b[0;34m=\u001b[0m \u001b[0;32mTrue\u001b[0m\u001b[0;34m\u001b[0m\u001b[0;34m\u001b[0m\u001b[0m\n",
      "\u001b[0;32m~/opt/anaconda3/lib/python3.7/site-packages/bubbly/bubbly.py\u001b[0m in \u001b[0;36mmake_grid_with_categories\u001b[0;34m(dataset, column_names, time_column, category_column, years, categories)\u001b[0m\n\u001b[1;32m    210\u001b[0m                     \u001b[0;31m# Each column name is unique\u001b[0m\u001b[0;34m\u001b[0m\u001b[0;34m\u001b[0m\u001b[0;34m\u001b[0m\u001b[0m\n\u001b[1;32m    211\u001b[0m                     \u001b[0mtemp\u001b[0m \u001b[0;34m=\u001b[0m \u001b[0mcol_name_template\u001b[0m\u001b[0;34m.\u001b[0m\u001b[0mformat\u001b[0m\u001b[0;34m(\u001b[0m\u001b[0myear\u001b[0m\u001b[0;34m,\u001b[0m \u001b[0mcol_name\u001b[0m\u001b[0;34m,\u001b[0m \u001b[0mcategory\u001b[0m\u001b[0;34m)\u001b[0m\u001b[0;34m\u001b[0m\u001b[0;34m\u001b[0m\u001b[0m\n\u001b[0;32m--> 212\u001b[0;31m                     \u001b[0;32mif\u001b[0m \u001b[0mdataset_by_year_and_cat\u001b[0m\u001b[0;34m[\u001b[0m\u001b[0mcol_name\u001b[0m\u001b[0;34m]\u001b[0m\u001b[0;34m.\u001b[0m\u001b[0msize\u001b[0m \u001b[0;34m!=\u001b[0m \u001b[0;36m0\u001b[0m\u001b[0;34m:\u001b[0m\u001b[0;34m\u001b[0m\u001b[0;34m\u001b[0m\u001b[0m\n\u001b[0m\u001b[1;32m    213\u001b[0m                         \u001b[0mgrid\u001b[0m \u001b[0;34m=\u001b[0m \u001b[0mgrid\u001b[0m\u001b[0;34m.\u001b[0m\u001b[0mappend\u001b[0m\u001b[0;34m(\u001b[0m\u001b[0;34m{\u001b[0m\u001b[0;34m'value'\u001b[0m\u001b[0;34m:\u001b[0m \u001b[0mlist\u001b[0m\u001b[0;34m(\u001b[0m\u001b[0mdataset_by_year_and_cat\u001b[0m\u001b[0;34m[\u001b[0m\u001b[0mcol_name\u001b[0m\u001b[0;34m]\u001b[0m\u001b[0;34m)\u001b[0m\u001b[0;34m,\u001b[0m \u001b[0;34m'key'\u001b[0m\u001b[0;34m:\u001b[0m \u001b[0mtemp\u001b[0m\u001b[0;34m}\u001b[0m\u001b[0;34m,\u001b[0m \u001b[0mignore_index\u001b[0m\u001b[0;34m=\u001b[0m\u001b[0;32mTrue\u001b[0m\u001b[0;34m)\u001b[0m\u001b[0;34m\u001b[0m\u001b[0;34m\u001b[0m\u001b[0m\n\u001b[1;32m    214\u001b[0m     \u001b[0;32melse\u001b[0m\u001b[0;34m:\u001b[0m\u001b[0;34m\u001b[0m\u001b[0;34m\u001b[0m\u001b[0m\n",
      "\u001b[0;32m~/opt/anaconda3/lib/python3.7/site-packages/pandas/core/frame.py\u001b[0m in \u001b[0;36m__getitem__\u001b[0;34m(self, key)\u001b[0m\n\u001b[1;32m   2900\u001b[0m             \u001b[0;32mif\u001b[0m \u001b[0mself\u001b[0m\u001b[0;34m.\u001b[0m\u001b[0mcolumns\u001b[0m\u001b[0;34m.\u001b[0m\u001b[0mnlevels\u001b[0m \u001b[0;34m>\u001b[0m \u001b[0;36m1\u001b[0m\u001b[0;34m:\u001b[0m\u001b[0;34m\u001b[0m\u001b[0;34m\u001b[0m\u001b[0m\n\u001b[1;32m   2901\u001b[0m                 \u001b[0;32mreturn\u001b[0m \u001b[0mself\u001b[0m\u001b[0;34m.\u001b[0m\u001b[0m_getitem_multilevel\u001b[0m\u001b[0;34m(\u001b[0m\u001b[0mkey\u001b[0m\u001b[0;34m)\u001b[0m\u001b[0;34m\u001b[0m\u001b[0;34m\u001b[0m\u001b[0m\n\u001b[0;32m-> 2902\u001b[0;31m             \u001b[0mindexer\u001b[0m \u001b[0;34m=\u001b[0m \u001b[0mself\u001b[0m\u001b[0;34m.\u001b[0m\u001b[0mcolumns\u001b[0m\u001b[0;34m.\u001b[0m\u001b[0mget_loc\u001b[0m\u001b[0;34m(\u001b[0m\u001b[0mkey\u001b[0m\u001b[0;34m)\u001b[0m\u001b[0;34m\u001b[0m\u001b[0;34m\u001b[0m\u001b[0m\n\u001b[0m\u001b[1;32m   2903\u001b[0m             \u001b[0;32mif\u001b[0m \u001b[0mis_integer\u001b[0m\u001b[0;34m(\u001b[0m\u001b[0mindexer\u001b[0m\u001b[0;34m)\u001b[0m\u001b[0;34m:\u001b[0m\u001b[0;34m\u001b[0m\u001b[0;34m\u001b[0m\u001b[0m\n\u001b[1;32m   2904\u001b[0m                 \u001b[0mindexer\u001b[0m \u001b[0;34m=\u001b[0m \u001b[0;34m[\u001b[0m\u001b[0mindexer\u001b[0m\u001b[0;34m]\u001b[0m\u001b[0;34m\u001b[0m\u001b[0;34m\u001b[0m\u001b[0m\n",
      "\u001b[0;32m~/opt/anaconda3/lib/python3.7/site-packages/pandas/core/indexes/base.py\u001b[0m in \u001b[0;36mget_loc\u001b[0;34m(self, key, method, tolerance)\u001b[0m\n\u001b[1;32m   2895\u001b[0m                 \u001b[0;32mreturn\u001b[0m \u001b[0mself\u001b[0m\u001b[0;34m.\u001b[0m\u001b[0m_engine\u001b[0m\u001b[0;34m.\u001b[0m\u001b[0mget_loc\u001b[0m\u001b[0;34m(\u001b[0m\u001b[0mcasted_key\u001b[0m\u001b[0;34m)\u001b[0m\u001b[0;34m\u001b[0m\u001b[0;34m\u001b[0m\u001b[0m\n\u001b[1;32m   2896\u001b[0m             \u001b[0;32mexcept\u001b[0m \u001b[0mKeyError\u001b[0m \u001b[0;32mas\u001b[0m \u001b[0merr\u001b[0m\u001b[0;34m:\u001b[0m\u001b[0;34m\u001b[0m\u001b[0;34m\u001b[0m\u001b[0m\n\u001b[0;32m-> 2897\u001b[0;31m                 \u001b[0;32mraise\u001b[0m \u001b[0mKeyError\u001b[0m\u001b[0;34m(\u001b[0m\u001b[0mkey\u001b[0m\u001b[0;34m)\u001b[0m \u001b[0;32mfrom\u001b[0m \u001b[0merr\u001b[0m\u001b[0;34m\u001b[0m\u001b[0;34m\u001b[0m\u001b[0m\n\u001b[0m\u001b[1;32m   2898\u001b[0m \u001b[0;34m\u001b[0m\u001b[0m\n\u001b[1;32m   2899\u001b[0m         \u001b[0;32mif\u001b[0m \u001b[0mtolerance\u001b[0m \u001b[0;32mis\u001b[0m \u001b[0;32mnot\u001b[0m \u001b[0;32mNone\u001b[0m\u001b[0;34m:\u001b[0m\u001b[0;34m\u001b[0m\u001b[0;34m\u001b[0m\u001b[0m\n",
      "\u001b[0;31mKeyError\u001b[0m: 'Genre Count'"
     ]
    }
   ],
   "source": [
    "figure = bubbleplot(dataset=genre_platform, x_column=\"Genre Count\", y_column=\"Platform Count\", \n",
    "    bubble_column=\"Genre\", time_column=\"Year\", size_column=\"Platform Count\", color_column=\"Platform\",\n",
    "    x_title=\"Genre Count\", y_title=\"Platform Count\", title='Video Game Popularity Over Time', x_logscale=True, scale_bubble=3, height=650)\n",
    "\n",
    "iplot(figure, config={'scrollzoom': True})"
   ]
  },
  {
=======
>>>>>>> 5e83b6f9bae3316a5a9c1bda94c007904063e79b
   "cell_type": "raw",
   "metadata": {},
   "source": [
    "fig = px.scatter(genre,x=”GDPperCap”, y=”LifeExp”,animation_frame=”Year”, \n",
    " animation_group=”Country”,size=”Population”, \n",
    " color=”Continent_Name”,\n",
    " hover_name=”Country”, log_x=True, \n",
    " size_max=45,range_x=[200,150000], range_y=[10,100]\n",
    " )\n",
    "fig.layout.updatemenus[0].buttons[0].args[1][“frame”][“duration”] = 700\n",
    "fig.show()"
   ]
  },
  {
   "cell_type": "code",
<<<<<<< HEAD
   "execution_count": 195,
   "metadata": {
    "scrolled": false
=======
   "execution_count": 41,
   "metadata": {
    "scrolled": true
>>>>>>> 5e83b6f9bae3316a5a9c1bda94c007904063e79b
   },
   "outputs": [
    {
     "data": {
      "application/vnd.plotly.v1+json": {
       "config": {
        "plotlyServerURL": "https://plot.ly"
       },
       "data": [
        {
<<<<<<< HEAD
         "hovertemplate": "<b>%{hovertext}</b><br><br>Platform=2600<br>Year=1980<br>Number of Genres=%{x}<br>Games per Platform=%{marker.size}<extra></extra>",
         "hovertext": [
          "Action",
=======
         "hovertemplate": "<b>%{hovertext}</b><br><br>Platform=2600<br>Year=1980<br>Games per Genre=%{x}<br>Games per Platform=%{marker.size}<extra></extra>",
         "hovertext": [
>>>>>>> 5e83b6f9bae3316a5a9c1bda94c007904063e79b
          "Fighting",
          "Misc",
          "Shooter",
          "Sports"
         ],
         "ids": [
<<<<<<< HEAD
          "Action",
=======
>>>>>>> 5e83b6f9bae3316a5a9c1bda94c007904063e79b
          "Fighting",
          "Misc",
          "Shooter",
          "Sports"
         ],
         "legendgroup": "2600",
         "marker": {
          "color": "#636efa",
          "size": [
<<<<<<< HEAD
           9,
           9,
           9,
           9,
           9
          ],
          "sizemode": "area",
          "sizeref": 0.62,
=======
           5,
           5,
           5,
           5
          ],
          "sizemode": "area",
          "sizeref": 0.42,
>>>>>>> 5e83b6f9bae3316a5a9c1bda94c007904063e79b
          "symbol": "circle"
         },
         "mode": "markers",
         "name": "2600",
         "orientation": "v",
         "showlegend": true,
         "type": "scatter",
         "x": [
          1,
<<<<<<< HEAD
          1,
          4,
          2,
=======
          2,
          1,
>>>>>>> 5e83b6f9bae3316a5a9c1bda94c007904063e79b
          1
         ],
         "xaxis": "x",
         "y": [
<<<<<<< HEAD
          9,
          9,
          9,
          9,
          9
=======
          5,
          5,
          5,
          5
>>>>>>> 5e83b6f9bae3316a5a9c1bda94c007904063e79b
         ],
         "yaxis": "y"
        }
       ],
       "frames": [
        {
         "data": [
          {
<<<<<<< HEAD
           "hovertemplate": "<b>%{hovertext}</b><br><br>Platform=2600<br>Year=1980<br>Number of Genres=%{x}<br>Games per Platform=%{marker.size}<extra></extra>",
           "hovertext": [
            "Action",
=======
           "hovertemplate": "<b>%{hovertext}</b><br><br>Platform=2600<br>Year=1980<br>Games per Genre=%{x}<br>Games per Platform=%{marker.size}<extra></extra>",
           "hovertext": [
>>>>>>> 5e83b6f9bae3316a5a9c1bda94c007904063e79b
            "Fighting",
            "Misc",
            "Shooter",
            "Sports"
           ],
           "ids": [
<<<<<<< HEAD
            "Action",
=======
>>>>>>> 5e83b6f9bae3316a5a9c1bda94c007904063e79b
            "Fighting",
            "Misc",
            "Shooter",
            "Sports"
           ],
           "legendgroup": "2600",
           "marker": {
            "color": "#636efa",
            "size": [
<<<<<<< HEAD
             9,
             9,
             9,
             9,
             9
            ],
            "sizemode": "area",
            "sizeref": 0.62,
=======
             5,
             5,
             5,
             5
            ],
            "sizemode": "area",
            "sizeref": 0.42,
>>>>>>> 5e83b6f9bae3316a5a9c1bda94c007904063e79b
            "symbol": "circle"
           },
           "mode": "markers",
           "name": "2600",
           "orientation": "v",
           "showlegend": true,
           "type": "scatter",
           "x": [
            1,
<<<<<<< HEAD
            1,
            4,
            2,
=======
            2,
            1,
>>>>>>> 5e83b6f9bae3316a5a9c1bda94c007904063e79b
            1
           ],
           "xaxis": "x",
           "y": [
<<<<<<< HEAD
            9,
            9,
            9,
            9,
            9
=======
            5,
            5,
            5,
            5
>>>>>>> 5e83b6f9bae3316a5a9c1bda94c007904063e79b
           ],
           "yaxis": "y"
          }
         ],
         "name": "1980"
        },
        {
         "data": [
          {
<<<<<<< HEAD
           "hovertemplate": "<b>%{hovertext}</b><br><br>Platform=2600<br>Year=1981<br>Number of Genres=%{x}<br>Games per Platform=%{marker.size}<extra></extra>",
=======
           "hovertemplate": "<b>%{hovertext}</b><br><br>Platform=2600<br>Year=1981<br>Games per Genre=%{x}<br>Games per Platform=%{marker.size}<extra></extra>",
>>>>>>> 5e83b6f9bae3316a5a9c1bda94c007904063e79b
           "hovertext": [
            "Action",
            "Platform",
            "Puzzle",
            "Racing",
            "Shooter",
            "Simulation",
            "Sports"
           ],
           "ids": [
            "Action",
            "Platform",
            "Puzzle",
            "Racing",
            "Shooter",
            "Simulation",
            "Sports"
           ],
           "legendgroup": "2600",
           "marker": {
            "color": "#636efa",
            "size": [
<<<<<<< HEAD
             46,
             46,
             46,
             46,
             46,
             46,
             46
            ],
            "sizemode": "area",
            "sizeref": 0.62,
=======
             36,
             36,
             36,
             36,
             36,
             36,
             36
            ],
            "sizemode": "area",
            "sizeref": 0.42,
>>>>>>> 5e83b6f9bae3316a5a9c1bda94c007904063e79b
            "symbol": "circle"
           },
           "mode": "markers",
           "name": "2600",
           "orientation": "v",
           "showlegend": true,
           "type": "scatter",
           "x": [
<<<<<<< HEAD
            25,
            3,
            2,
            1,
            10,
            1,
            4
           ],
           "xaxis": "x",
           "y": [
            46,
            46,
            46,
            46,
            46,
            46,
            46
=======
            20,
            1,
            2,
            1,
            8,
            1,
            3
           ],
           "xaxis": "x",
           "y": [
            36,
            36,
            36,
            36,
            36,
            36,
            36
>>>>>>> 5e83b6f9bae3316a5a9c1bda94c007904063e79b
           ],
           "yaxis": "y"
          }
         ],
         "name": "1981"
        },
        {
         "data": [
          {
<<<<<<< HEAD
           "hovertemplate": "<b>%{hovertext}</b><br><br>Platform=2600<br>Year=1982<br>Number of Genres=%{x}<br>Games per Platform=%{marker.size}<extra></extra>",
=======
           "hovertemplate": "<b>%{hovertext}</b><br><br>Platform=2600<br>Year=1982<br>Games per Genre=%{x}<br>Games per Platform=%{marker.size}<extra></extra>",
>>>>>>> 5e83b6f9bae3316a5a9c1bda94c007904063e79b
           "hovertext": [
            "Action",
            "Misc",
            "Platform",
            "Puzzle",
            "Racing",
            "Shooter",
            "Sports"
           ],
           "ids": [
            "Action",
            "Misc",
            "Platform",
            "Puzzle",
            "Racing",
            "Shooter",
            "Sports"
           ],
           "legendgroup": "2600",
           "marker": {
            "color": "#636efa",
            "size": [
<<<<<<< HEAD
             36,
             36,
             36,
             36,
             36,
             36,
             36
            ],
            "sizemode": "area",
            "sizeref": 0.62,
=======
             26,
             26,
             26,
             26,
             26,
             26,
             26
            ],
            "sizemode": "area",
            "sizeref": 0.42,
>>>>>>> 5e83b6f9bae3316a5a9c1bda94c007904063e79b
            "symbol": "circle"
           },
           "mode": "markers",
           "name": "2600",
           "orientation": "v",
           "showlegend": true,
           "type": "scatter",
           "x": [
<<<<<<< HEAD
            18,
            1,
            5,
            3,
            2,
            5,
=======
            10,
            1,
            5,
            2,
            2,
            4,
>>>>>>> 5e83b6f9bae3316a5a9c1bda94c007904063e79b
            2
           ],
           "xaxis": "x",
           "y": [
<<<<<<< HEAD
            36,
            36,
            36,
            36,
            36,
            36,
            36
=======
            26,
            26,
            26,
            26,
            26,
            26,
            26
>>>>>>> 5e83b6f9bae3316a5a9c1bda94c007904063e79b
           ],
           "yaxis": "y"
          }
         ],
         "name": "1982"
        },
        {
         "data": [
          {
<<<<<<< HEAD
           "hovertemplate": "<b>%{hovertext}</b><br><br>Platform=2600<br>Year=1983<br>Number of Genres=%{x}<br>Games per Platform=%{marker.size}<extra></extra>",
           "hovertext": [
            "Action",
            "Adventure",
            "Misc",
=======
           "hovertemplate": "<b>%{hovertext}</b><br><br>Platform=2600<br>Year=1983<br>Games per Genre=%{x}<br>Games per Platform=%{marker.size}<extra></extra>",
           "hovertext": [
            "Action",
>>>>>>> 5e83b6f9bae3316a5a9c1bda94c007904063e79b
            "Platform",
            "Puzzle",
            "Shooter",
            "Sports"
           ],
           "ids": [
            "Action",
<<<<<<< HEAD
            "Adventure",
            "Misc",
=======
>>>>>>> 5e83b6f9bae3316a5a9c1bda94c007904063e79b
            "Platform",
            "Puzzle",
            "Shooter",
            "Sports"
           ],
           "legendgroup": "2600",
           "marker": {
            "color": "#636efa",
            "size": [
<<<<<<< HEAD
             11,
             11,
             11,
             11,
             11,
             11,
             11
            ],
            "sizemode": "area",
            "sizeref": 0.62,
=======
             8,
             8,
             8,
             8,
             8
            ],
            "sizemode": "area",
            "sizeref": 0.42,
>>>>>>> 5e83b6f9bae3316a5a9c1bda94c007904063e79b
            "symbol": "circle"
           },
           "mode": "markers",
           "name": "2600",
           "orientation": "v",
           "showlegend": true,
           "type": "scatter",
           "x": [
<<<<<<< HEAD
            7,
            1,
            1,
            5,
=======
            5,
            2,
>>>>>>> 5e83b6f9bae3316a5a9c1bda94c007904063e79b
            1,
            1,
            1
           ],
           "xaxis": "x",
           "y": [
<<<<<<< HEAD
            11,
            11,
            11,
            11,
            11,
            11,
            11
=======
            8,
            8,
            8,
            8,
            8
>>>>>>> 5e83b6f9bae3316a5a9c1bda94c007904063e79b
           ],
           "yaxis": "y"
          },
          {
<<<<<<< HEAD
           "hovertemplate": "<b>%{hovertext}</b><br><br>Platform=NES<br>Year=1983<br>Number of Genres=%{x}<br>Games per Platform=%{marker.size}<extra></extra>",
           "hovertext": [
            "Action",
            "Adventure",
            "Misc",
=======
           "hovertemplate": "<b>%{hovertext}</b><br><br>Platform=NES<br>Year=1983<br>Games per Genre=%{x}<br>Games per Platform=%{marker.size}<extra></extra>",
           "hovertext": [
            "Action",
>>>>>>> 5e83b6f9bae3316a5a9c1bda94c007904063e79b
            "Platform",
            "Puzzle",
            "Shooter",
            "Sports"
           ],
           "ids": [
            "Action",
<<<<<<< HEAD
            "Adventure",
            "Misc",
=======
>>>>>>> 5e83b6f9bae3316a5a9c1bda94c007904063e79b
            "Platform",
            "Puzzle",
            "Shooter",
            "Sports"
           ],
           "legendgroup": "NES",
           "marker": {
            "color": "#EF553B",
            "size": [
<<<<<<< HEAD
             6,
             6,
             6,
             6,
             6,
             6,
             6
            ],
            "sizemode": "area",
            "sizeref": 0.62,
=======
             2,
             2,
             2,
             2,
             2
            ],
            "sizemode": "area",
            "sizeref": 0.42,
>>>>>>> 5e83b6f9bae3316a5a9c1bda94c007904063e79b
            "symbol": "circle"
           },
           "mode": "markers",
           "name": "NES",
           "orientation": "v",
           "showlegend": true,
           "type": "scatter",
           "x": [
<<<<<<< HEAD
            7,
            1,
            1,
            5,
=======
            5,
            2,
>>>>>>> 5e83b6f9bae3316a5a9c1bda94c007904063e79b
            1,
            1,
            1
           ],
           "xaxis": "x",
           "y": [
<<<<<<< HEAD
            6,
            6,
            6,
            6,
            6,
            6,
            6
=======
            2,
            2,
            2,
            2,
            2
>>>>>>> 5e83b6f9bae3316a5a9c1bda94c007904063e79b
           ],
           "yaxis": "y"
          }
         ],
         "name": "1983"
        },
        {
         "data": [
          {
<<<<<<< HEAD
           "hovertemplate": "<b>%{hovertext}</b><br><br>Platform=2600<br>Year=1984<br>Number of Genres=%{x}<br>Games per Platform=%{marker.size}<extra></extra>",
           "hovertext": [
            "Action",
            "Misc",
            "Platform",
=======
           "hovertemplate": "<b>%{hovertext}</b><br><br>Platform=2600<br>Year=1984<br>Games per Genre=%{x}<br>Games per Platform=%{marker.size}<extra></extra>",
           "hovertext": [
            "Action",
>>>>>>> 5e83b6f9bae3316a5a9c1bda94c007904063e79b
            "Puzzle",
            "Racing",
            "Shooter",
            "Sports"
           ],
           "ids": [
            "Action",
<<<<<<< HEAD
            "Misc",
            "Platform",
=======
>>>>>>> 5e83b6f9bae3316a5a9c1bda94c007904063e79b
            "Puzzle",
            "Racing",
            "Shooter",
            "Sports"
           ],
           "legendgroup": "2600",
           "marker": {
            "color": "#636efa",
            "size": [
             1,
             1,
             1,
             1,
<<<<<<< HEAD
             1,
             1,
             1
            ],
            "sizemode": "area",
            "sizeref": 0.62,
=======
             1
            ],
            "sizemode": "area",
            "sizeref": 0.42,
>>>>>>> 5e83b6f9bae3316a5a9c1bda94c007904063e79b
            "symbol": "circle"
           },
           "mode": "markers",
           "name": "2600",
           "orientation": "v",
           "showlegend": true,
           "type": "scatter",
           "x": [
            1,
            1,
<<<<<<< HEAD
            1,
            3,
            3,
            3,
=======
            2,
            2,
>>>>>>> 5e83b6f9bae3316a5a9c1bda94c007904063e79b
            2
           ],
           "xaxis": "x",
           "y": [
            1,
            1,
            1,
            1,
<<<<<<< HEAD
            1,
            1,
=======
>>>>>>> 5e83b6f9bae3316a5a9c1bda94c007904063e79b
            1
           ],
           "yaxis": "y"
          },
          {
<<<<<<< HEAD
           "hovertemplate": "<b>%{hovertext}</b><br><br>Platform=NES<br>Year=1984<br>Number of Genres=%{x}<br>Games per Platform=%{marker.size}<extra></extra>",
           "hovertext": [
            "Action",
            "Misc",
            "Platform",
=======
           "hovertemplate": "<b>%{hovertext}</b><br><br>Platform=NES<br>Year=1984<br>Games per Genre=%{x}<br>Games per Platform=%{marker.size}<extra></extra>",
           "hovertext": [
            "Action",
>>>>>>> 5e83b6f9bae3316a5a9c1bda94c007904063e79b
            "Puzzle",
            "Racing",
            "Shooter",
            "Sports"
           ],
           "ids": [
            "Action",
<<<<<<< HEAD
            "Misc",
            "Platform",
=======
>>>>>>> 5e83b6f9bae3316a5a9c1bda94c007904063e79b
            "Puzzle",
            "Racing",
            "Shooter",
            "Sports"
           ],
           "legendgroup": "NES",
           "marker": {
            "color": "#EF553B",
            "size": [
<<<<<<< HEAD
             13,
             13,
             13,
             13,
             13,
             13,
             13
            ],
            "sizemode": "area",
            "sizeref": 0.62,
=======
             7,
             7,
             7,
             7,
             7
            ],
            "sizemode": "area",
            "sizeref": 0.42,
>>>>>>> 5e83b6f9bae3316a5a9c1bda94c007904063e79b
            "symbol": "circle"
           },
           "mode": "markers",
           "name": "NES",
           "orientation": "v",
           "showlegend": true,
           "type": "scatter",
           "x": [
            1,
            1,
<<<<<<< HEAD
            1,
            3,
            3,
            3,
=======
            2,
            2,
>>>>>>> 5e83b6f9bae3316a5a9c1bda94c007904063e79b
            2
           ],
           "xaxis": "x",
           "y": [
<<<<<<< HEAD
            13,
            13,
            13,
            13,
            13,
            13,
            13
=======
            7,
            7,
            7,
            7,
            7
>>>>>>> 5e83b6f9bae3316a5a9c1bda94c007904063e79b
           ],
           "yaxis": "y"
          }
         ],
         "name": "1984"
        },
        {
         "data": [
          {
<<<<<<< HEAD
           "hovertemplate": "<b>%{hovertext}</b><br><br>Platform=2600<br>Year=1985<br>Number of Genres=%{x}<br>Games per Platform=%{marker.size}<extra></extra>",
           "hovertext": [
            "Action",
            "Fighting",
=======
           "hovertemplate": "<b>%{hovertext}</b><br><br>Platform=2600<br>Year=1985<br>Games per Genre=%{x}<br>Games per Platform=%{marker.size}<extra></extra>",
           "hovertext": [
            "Action",
>>>>>>> 5e83b6f9bae3316a5a9c1bda94c007904063e79b
            "Platform",
            "Puzzle",
            "Shooter",
            "Sports"
           ],
           "ids": [
            "Action",
<<<<<<< HEAD
            "Fighting",
=======
>>>>>>> 5e83b6f9bae3316a5a9c1bda94c007904063e79b
            "Platform",
            "Puzzle",
            "Shooter",
            "Sports"
           ],
           "legendgroup": "2600",
           "marker": {
            "color": "#636efa",
            "size": [
             1,
             1,
             1,
             1,
<<<<<<< HEAD
             1,
             1
            ],
            "sizemode": "area",
            "sizeref": 0.62,
=======
             1
            ],
            "sizemode": "area",
            "sizeref": 0.42,
>>>>>>> 5e83b6f9bae3316a5a9c1bda94c007904063e79b
            "symbol": "circle"
           },
           "mode": "markers",
           "name": "2600",
           "orientation": "v",
           "showlegend": true,
           "type": "scatter",
           "x": [
            1,
<<<<<<< HEAD
            1,
            4,
            4,
=======
            4,
            3,
>>>>>>> 5e83b6f9bae3316a5a9c1bda94c007904063e79b
            1,
            1
           ],
           "xaxis": "x",
           "y": [
            1,
            1,
            1,
            1,
<<<<<<< HEAD
            1,
=======
>>>>>>> 5e83b6f9bae3316a5a9c1bda94c007904063e79b
            1
           ],
           "yaxis": "y"
          },
          {
<<<<<<< HEAD
           "hovertemplate": "<b>%{hovertext}</b><br><br>Platform=NES<br>Year=1985<br>Number of Genres=%{x}<br>Games per Platform=%{marker.size}<extra></extra>",
           "hovertext": [
            "Action",
            "Fighting",
=======
           "hovertemplate": "<b>%{hovertext}</b><br><br>Platform=NES<br>Year=1985<br>Games per Genre=%{x}<br>Games per Platform=%{marker.size}<extra></extra>",
           "hovertext": [
            "Action",
>>>>>>> 5e83b6f9bae3316a5a9c1bda94c007904063e79b
            "Platform",
            "Puzzle",
            "Shooter",
            "Sports"
           ],
           "ids": [
            "Action",
<<<<<<< HEAD
            "Fighting",
=======
>>>>>>> 5e83b6f9bae3316a5a9c1bda94c007904063e79b
            "Platform",
            "Puzzle",
            "Shooter",
            "Sports"
           ],
           "legendgroup": "NES",
           "marker": {
            "color": "#EF553B",
            "size": [
<<<<<<< HEAD
             11,
             11,
             11,
             11,
             11,
             11
            ],
            "sizemode": "area",
            "sizeref": 0.62,
=======
             9,
             9,
             9,
             9,
             9
            ],
            "sizemode": "area",
            "sizeref": 0.42,
>>>>>>> 5e83b6f9bae3316a5a9c1bda94c007904063e79b
            "symbol": "circle"
           },
           "mode": "markers",
           "name": "NES",
           "orientation": "v",
           "showlegend": true,
           "type": "scatter",
           "x": [
            1,
<<<<<<< HEAD
            1,
            4,
            4,
=======
            4,
            3,
>>>>>>> 5e83b6f9bae3316a5a9c1bda94c007904063e79b
            1,
            1
           ],
           "xaxis": "x",
           "y": [
<<<<<<< HEAD
            11,
            11,
            11,
            11,
            11,
            11
=======
            9,
            9,
            9,
            9,
            9
>>>>>>> 5e83b6f9bae3316a5a9c1bda94c007904063e79b
           ],
           "yaxis": "y"
          }
         ],
         "name": "1985"
        },
        {
         "data": [
          {
<<<<<<< HEAD
           "hovertemplate": "<b>%{hovertext}</b><br><br>Platform=2600<br>Year=1986<br>Number of Genres=%{x}<br>Games per Platform=%{marker.size}<extra></extra>",
=======
           "hovertemplate": "<b>%{hovertext}</b><br><br>Platform=2600<br>Year=1986<br>Games per Genre=%{x}<br>Games per Platform=%{marker.size}<extra></extra>",
>>>>>>> 5e83b6f9bae3316a5a9c1bda94c007904063e79b
           "hovertext": [
            "Action",
            "Platform",
            "Racing",
            "Role-Playing",
            "Shooter",
            "Sports"
           ],
           "ids": [
            "Action",
            "Platform",
            "Racing",
            "Role-Playing",
            "Shooter",
            "Sports"
           ],
           "legendgroup": "2600",
           "marker": {
            "color": "#636efa",
            "size": [
             2,
             2,
             2,
             2,
             2,
             2
            ],
            "sizemode": "area",
<<<<<<< HEAD
            "sizeref": 0.62,
=======
            "sizeref": 0.42,
>>>>>>> 5e83b6f9bae3316a5a9c1bda94c007904063e79b
            "symbol": "circle"
           },
           "mode": "markers",
           "name": "2600",
           "orientation": "v",
           "showlegend": true,
           "type": "scatter",
           "x": [
<<<<<<< HEAD
            6,
            6,
            1,
            1,
            4,
            3
=======
            3,
            2,
            1,
            1,
            3,
            2
>>>>>>> 5e83b6f9bae3316a5a9c1bda94c007904063e79b
           ],
           "xaxis": "x",
           "y": [
            2,
            2,
            2,
            2,
            2,
            2
           ],
           "yaxis": "y"
          },
          {
<<<<<<< HEAD
           "hovertemplate": "<b>%{hovertext}</b><br><br>Platform=NES<br>Year=1986<br>Number of Genres=%{x}<br>Games per Platform=%{marker.size}<extra></extra>",
=======
           "hovertemplate": "<b>%{hovertext}</b><br><br>Platform=NES<br>Year=1986<br>Games per Genre=%{x}<br>Games per Platform=%{marker.size}<extra></extra>",
>>>>>>> 5e83b6f9bae3316a5a9c1bda94c007904063e79b
           "hovertext": [
            "Action",
            "Platform",
            "Racing",
            "Role-Playing",
            "Shooter",
            "Sports"
           ],
           "ids": [
            "Action",
            "Platform",
            "Racing",
            "Role-Playing",
            "Shooter",
            "Sports"
           ],
           "legendgroup": "NES",
           "marker": {
            "color": "#EF553B",
            "size": [
<<<<<<< HEAD
             19,
             19,
             19,
             19,
             19,
             19
            ],
            "sizemode": "area",
            "sizeref": 0.62,
=======
             10,
             10,
             10,
             10,
             10,
             10
            ],
            "sizemode": "area",
            "sizeref": 0.42,
>>>>>>> 5e83b6f9bae3316a5a9c1bda94c007904063e79b
            "symbol": "circle"
           },
           "mode": "markers",
           "name": "NES",
           "orientation": "v",
           "showlegend": true,
           "type": "scatter",
           "x": [
<<<<<<< HEAD
            6,
            6,
            1,
            1,
            4,
            3
           ],
           "xaxis": "x",
           "y": [
            19,
            19,
            19,
            19,
            19,
            19
=======
            3,
            2,
            1,
            1,
            3,
            2
           ],
           "xaxis": "x",
           "y": [
            10,
            10,
            10,
            10,
            10,
            10
>>>>>>> 5e83b6f9bae3316a5a9c1bda94c007904063e79b
           ],
           "yaxis": "y"
          }
         ],
         "name": "1986"
        },
        {
         "data": [
          {
<<<<<<< HEAD
           "hovertemplate": "<b>%{hovertext}</b><br><br>Platform=2600<br>Year=1987<br>Number of Genres=%{x}<br>Games per Platform=%{marker.size}<extra></extra>",
=======
           "hovertemplate": "<b>%{hovertext}</b><br><br>Platform=2600<br>Year=1987<br>Games per Genre=%{x}<br>Games per Platform=%{marker.size}<extra></extra>",
>>>>>>> 5e83b6f9bae3316a5a9c1bda94c007904063e79b
           "hovertext": [
            "Action",
            "Adventure",
            "Fighting",
            "Platform",
            "Role-Playing",
            "Shooter",
            "Sports"
           ],
           "ids": [
            "Action",
            "Adventure",
            "Fighting",
            "Platform",
            "Role-Playing",
            "Shooter",
            "Sports"
           ],
           "legendgroup": "2600",
           "marker": {
            "color": "#636efa",
            "size": [
             6,
             6,
             6,
             6,
             6,
             6,
             6
            ],
            "sizemode": "area",
<<<<<<< HEAD
            "sizeref": 0.62,
=======
            "sizeref": 0.42,
>>>>>>> 5e83b6f9bae3316a5a9c1bda94c007904063e79b
            "symbol": "circle"
           },
           "mode": "markers",
           "name": "2600",
           "orientation": "v",
           "showlegend": true,
           "type": "scatter",
           "x": [
            2,
            1,
            2,
<<<<<<< HEAD
            2,
            3,
            2,
            4
=======
            1,
            2,
            2,
            2
>>>>>>> 5e83b6f9bae3316a5a9c1bda94c007904063e79b
           ],
           "xaxis": "x",
           "y": [
            6,
            6,
            6,
            6,
            6,
            6,
            6
           ],
           "yaxis": "y"
          },
          {
<<<<<<< HEAD
           "hovertemplate": "<b>%{hovertext}</b><br><br>Platform=NES<br>Year=1987<br>Number of Genres=%{x}<br>Games per Platform=%{marker.size}<extra></extra>",
=======
           "hovertemplate": "<b>%{hovertext}</b><br><br>Platform=NES<br>Year=1987<br>Games per Genre=%{x}<br>Games per Platform=%{marker.size}<extra></extra>",
>>>>>>> 5e83b6f9bae3316a5a9c1bda94c007904063e79b
           "hovertext": [
            "Action",
            "Adventure",
            "Fighting",
            "Platform",
            "Role-Playing",
            "Shooter",
            "Sports"
           ],
           "ids": [
            "Action",
            "Adventure",
            "Fighting",
            "Platform",
            "Role-Playing",
            "Shooter",
            "Sports"
           ],
           "legendgroup": "NES",
           "marker": {
            "color": "#EF553B",
            "size": [
<<<<<<< HEAD
             10,
             10,
             10,
             10,
             10,
             10,
             10
            ],
            "sizemode": "area",
            "sizeref": 0.62,
=======
             6,
             6,
             6,
             6,
             6,
             6,
             6
            ],
            "sizemode": "area",
            "sizeref": 0.42,
>>>>>>> 5e83b6f9bae3316a5a9c1bda94c007904063e79b
            "symbol": "circle"
           },
           "mode": "markers",
           "name": "NES",
           "orientation": "v",
           "showlegend": true,
           "type": "scatter",
           "x": [
            2,
            1,
            2,
<<<<<<< HEAD
            2,
            3,
            2,
            4
           ],
           "xaxis": "x",
           "y": [
            10,
            10,
            10,
            10,
            10,
            10,
            10
=======
            1,
            2,
            2,
            2
           ],
           "xaxis": "x",
           "y": [
            6,
            6,
            6,
            6,
            6,
            6,
            6
>>>>>>> 5e83b6f9bae3316a5a9c1bda94c007904063e79b
           ],
           "yaxis": "y"
          }
         ],
         "name": "1987"
        },
        {
         "data": [
          {
<<<<<<< HEAD
           "hovertemplate": "<b>%{hovertext}</b><br><br>Platform=2600<br>Year=1988<br>Number of Genres=%{x}<br>Games per Platform=%{marker.size}<extra></extra>",
=======
           "hovertemplate": "<b>%{hovertext}</b><br><br>Platform=2600<br>Year=1988<br>Games per Genre=%{x}<br>Games per Platform=%{marker.size}<extra></extra>",
>>>>>>> 5e83b6f9bae3316a5a9c1bda94c007904063e79b
           "hovertext": [
            "Action",
            "Platform",
            "Puzzle",
            "Racing",
<<<<<<< HEAD
            "Role-Playing",
=======
>>>>>>> 5e83b6f9bae3316a5a9c1bda94c007904063e79b
            "Shooter",
            "Sports"
           ],
           "ids": [
            "Action",
            "Platform",
            "Puzzle",
            "Racing",
<<<<<<< HEAD
            "Role-Playing",
=======
>>>>>>> 5e83b6f9bae3316a5a9c1bda94c007904063e79b
            "Shooter",
            "Sports"
           ],
           "legendgroup": "2600",
           "marker": {
            "color": "#636efa",
            "size": [
             2,
             2,
             2,
             2,
             2,
<<<<<<< HEAD
             2,
             2
            ],
            "sizemode": "area",
            "sizeref": 0.62,
=======
             2
            ],
            "sizemode": "area",
            "sizeref": 0.42,
>>>>>>> 5e83b6f9bae3316a5a9c1bda94c007904063e79b
            "symbol": "circle"
           },
           "mode": "markers",
           "name": "2600",
           "orientation": "v",
           "showlegend": true,
           "type": "scatter",
           "x": [
<<<<<<< HEAD
            2,
            3,
            1,
            1,
            3,
            1,
            2
=======
            1,
            3,
            1,
            1,
            1,
            1
>>>>>>> 5e83b6f9bae3316a5a9c1bda94c007904063e79b
           ],
           "xaxis": "x",
           "y": [
            2,
            2,
            2,
            2,
            2,
<<<<<<< HEAD
            2,
=======
>>>>>>> 5e83b6f9bae3316a5a9c1bda94c007904063e79b
            2
           ],
           "yaxis": "y"
          },
          {
<<<<<<< HEAD
           "hovertemplate": "<b>%{hovertext}</b><br><br>Platform=NES<br>Year=1988<br>Number of Genres=%{x}<br>Games per Platform=%{marker.size}<extra></extra>",
=======
           "hovertemplate": "<b>%{hovertext}</b><br><br>Platform=NES<br>Year=1988<br>Games per Genre=%{x}<br>Games per Platform=%{marker.size}<extra></extra>",
>>>>>>> 5e83b6f9bae3316a5a9c1bda94c007904063e79b
           "hovertext": [
            "Action",
            "Platform",
            "Puzzle",
            "Racing",
<<<<<<< HEAD
            "Role-Playing",
=======
>>>>>>> 5e83b6f9bae3316a5a9c1bda94c007904063e79b
            "Shooter",
            "Sports"
           ],
           "ids": [
            "Action",
            "Platform",
            "Puzzle",
            "Racing",
<<<<<<< HEAD
            "Role-Playing",
=======
>>>>>>> 5e83b6f9bae3316a5a9c1bda94c007904063e79b
            "Shooter",
            "Sports"
           ],
           "legendgroup": "NES",
           "marker": {
            "color": "#EF553B",
            "size": [
<<<<<<< HEAD
             11,
             11,
             11,
             11,
             11,
             11,
             11
            ],
            "sizemode": "area",
            "sizeref": 0.62,
=======
             6,
             6,
             6,
             6,
             6,
             6
            ],
            "sizemode": "area",
            "sizeref": 0.42,
>>>>>>> 5e83b6f9bae3316a5a9c1bda94c007904063e79b
            "symbol": "circle"
           },
           "mode": "markers",
           "name": "NES",
           "orientation": "v",
           "showlegend": true,
           "type": "scatter",
           "x": [
<<<<<<< HEAD
            2,
            3,
            1,
            1,
            3,
            1,
            2
           ],
           "xaxis": "x",
           "y": [
            11,
            11,
            11,
            11,
            11,
            11,
            11
=======
            1,
            3,
            1,
            1,
            1,
            1
           ],
           "xaxis": "x",
           "y": [
            6,
            6,
            6,
            6,
            6,
            6
>>>>>>> 5e83b6f9bae3316a5a9c1bda94c007904063e79b
           ],
           "yaxis": "y"
          }
         ],
         "name": "1988"
        },
        {
         "data": [
          {
<<<<<<< HEAD
           "hovertemplate": "<b>%{hovertext}</b><br><br>Platform=2600<br>Year=1989<br>Number of Genres=%{x}<br>Games per Platform=%{marker.size}<extra></extra>",
           "hovertext": [
            "Action",
            "Platform",
            "Puzzle",
            "Role-Playing"
           ],
           "ids": [
            "Action",
            "Platform",
            "Puzzle",
            "Role-Playing"
=======
           "hovertemplate": "<b>%{hovertext}</b><br><br>Platform=2600<br>Year=1989<br>Games per Genre=%{x}<br>Games per Platform=%{marker.size}<extra></extra>",
           "hovertext": [
            "Action",
            "Puzzle"
           ],
           "ids": [
            "Action",
            "Puzzle"
>>>>>>> 5e83b6f9bae3316a5a9c1bda94c007904063e79b
           ],
           "legendgroup": "2600",
           "marker": {
            "color": "#636efa",
            "size": [
<<<<<<< HEAD
             2,
             2,
             2,
             2
            ],
            "sizemode": "area",
            "sizeref": 0.62,
=======
             1,
             1
            ],
            "sizemode": "area",
            "sizeref": 0.42,
>>>>>>> 5e83b6f9bae3316a5a9c1bda94c007904063e79b
            "symbol": "circle"
           },
           "mode": "markers",
           "name": "2600",
           "orientation": "v",
           "showlegend": true,
           "type": "scatter",
           "x": [
            2,
<<<<<<< HEAD
            2,
            2,
=======
>>>>>>> 5e83b6f9bae3316a5a9c1bda94c007904063e79b
            1
           ],
           "xaxis": "x",
           "y": [
<<<<<<< HEAD
            2,
            2,
            2,
            2
=======
            1,
            1
>>>>>>> 5e83b6f9bae3316a5a9c1bda94c007904063e79b
           ],
           "yaxis": "y"
          },
          {
<<<<<<< HEAD
           "hovertemplate": "<b>%{hovertext}</b><br><br>Platform=NES<br>Year=1989<br>Number of Genres=%{x}<br>Games per Platform=%{marker.size}<extra></extra>",
           "hovertext": [
            "Action",
            "Platform",
            "Puzzle",
            "Role-Playing"
           ],
           "ids": [
            "Action",
            "Platform",
            "Puzzle",
            "Role-Playing"
=======
           "hovertemplate": "<b>%{hovertext}</b><br><br>Platform=NES<br>Year=1989<br>Games per Genre=%{x}<br>Games per Platform=%{marker.size}<extra></extra>",
           "hovertext": [
            "Action",
            "Puzzle"
           ],
           "ids": [
            "Action",
            "Puzzle"
>>>>>>> 5e83b6f9bae3316a5a9c1bda94c007904063e79b
           ],
           "legendgroup": "NES",
           "marker": {
            "color": "#EF553B",
            "size": [
<<<<<<< HEAD
             5,
             5,
             5,
             5
            ],
            "sizemode": "area",
            "sizeref": 0.62,
=======
             2,
             2
            ],
            "sizemode": "area",
            "sizeref": 0.42,
>>>>>>> 5e83b6f9bae3316a5a9c1bda94c007904063e79b
            "symbol": "circle"
           },
           "mode": "markers",
           "name": "NES",
           "orientation": "v",
           "showlegend": true,
           "type": "scatter",
           "x": [
            2,
<<<<<<< HEAD
            2,
            2,
=======
>>>>>>> 5e83b6f9bae3316a5a9c1bda94c007904063e79b
            1
           ],
           "xaxis": "x",
           "y": [
<<<<<<< HEAD
            5,
            5,
            5,
            5
=======
            2,
            2
>>>>>>> 5e83b6f9bae3316a5a9c1bda94c007904063e79b
           ],
           "yaxis": "y"
          }
         ],
         "name": "1989"
        },
        {
         "data": [
          {
<<<<<<< HEAD
           "hovertemplate": "<b>%{hovertext}</b><br><br>Platform=NES<br>Year=1990<br>Number of Genres=%{x}<br>Games per Platform=%{marker.size}<extra></extra>",
=======
           "hovertemplate": "<b>%{hovertext}</b><br><br>Platform=NES<br>Year=1990<br>Games per Genre=%{x}<br>Games per Platform=%{marker.size}<extra></extra>",
>>>>>>> 5e83b6f9bae3316a5a9c1bda94c007904063e79b
           "hovertext": [
            "Action",
            "Platform",
            "Puzzle",
            "Racing",
<<<<<<< HEAD
            "Role-Playing",
=======
>>>>>>> 5e83b6f9bae3316a5a9c1bda94c007904063e79b
            "Simulation",
            "Sports"
           ],
           "ids": [
            "Action",
            "Platform",
            "Puzzle",
            "Racing",
<<<<<<< HEAD
            "Role-Playing",
=======
>>>>>>> 5e83b6f9bae3316a5a9c1bda94c007904063e79b
            "Simulation",
            "Sports"
           ],
           "legendgroup": "NES",
           "marker": {
            "color": "#EF553B",
            "size": [
<<<<<<< HEAD
             8,
             8,
             8,
             8,
             8,
             8,
             8
            ],
            "sizemode": "area",
            "sizeref": 0.62,
=======
             4,
             4,
             4,
             4,
             4,
             4
            ],
            "sizemode": "area",
            "sizeref": 0.42,
>>>>>>> 5e83b6f9bae3316a5a9c1bda94c007904063e79b
            "symbol": "circle"
           },
           "mode": "markers",
           "name": "NES",
           "orientation": "v",
           "showlegend": true,
           "type": "scatter",
           "x": [
            3,
<<<<<<< HEAD
            3,
            1,
            1,
            2,
            1,
            2
           ],
           "xaxis": "x",
           "y": [
            8,
            8,
            8,
            8,
            8,
            8,
            8
=======
            1,
            1,
            1,
            1,
            1
           ],
           "xaxis": "x",
           "y": [
            4,
            4,
            4,
            4,
            4,
            4
>>>>>>> 5e83b6f9bae3316a5a9c1bda94c007904063e79b
           ],
           "yaxis": "y"
          },
          {
<<<<<<< HEAD
           "hovertemplate": "<b>%{hovertext}</b><br><br>Platform=GEN<br>Year=1990<br>Number of Genres=%{x}<br>Games per Platform=%{marker.size}<extra></extra>",
=======
           "hovertemplate": "<b>%{hovertext}</b><br><br>Platform=GEN<br>Year=1990<br>Games per Genre=%{x}<br>Games per Platform=%{marker.size}<extra></extra>",
>>>>>>> 5e83b6f9bae3316a5a9c1bda94c007904063e79b
           "hovertext": [
            "Action",
            "Platform",
            "Puzzle",
            "Racing",
<<<<<<< HEAD
            "Role-Playing",
=======
>>>>>>> 5e83b6f9bae3316a5a9c1bda94c007904063e79b
            "Simulation",
            "Sports"
           ],
           "ids": [
            "Action",
            "Platform",
            "Puzzle",
            "Racing",
<<<<<<< HEAD
            "Role-Playing",
=======
>>>>>>> 5e83b6f9bae3316a5a9c1bda94c007904063e79b
            "Simulation",
            "Sports"
           ],
           "legendgroup": "GEN",
           "marker": {
            "color": "#00cc96",
            "size": [
             1,
             1,
             1,
             1,
             1,
<<<<<<< HEAD
             1,
             1
            ],
            "sizemode": "area",
            "sizeref": 0.62,
=======
             1
            ],
            "sizemode": "area",
            "sizeref": 0.42,
>>>>>>> 5e83b6f9bae3316a5a9c1bda94c007904063e79b
            "symbol": "circle"
           },
           "mode": "markers",
           "name": "GEN",
           "orientation": "v",
           "showlegend": true,
           "type": "scatter",
           "x": [
            3,
<<<<<<< HEAD
            3,
            1,
            1,
            2,
            1,
            2
=======
            1,
            1,
            1,
            1,
            1
>>>>>>> 5e83b6f9bae3316a5a9c1bda94c007904063e79b
           ],
           "xaxis": "x",
           "y": [
            1,
            1,
            1,
            1,
            1,
<<<<<<< HEAD
            1,
=======
>>>>>>> 5e83b6f9bae3316a5a9c1bda94c007904063e79b
            1
           ],
           "yaxis": "y"
          },
          {
<<<<<<< HEAD
           "hovertemplate": "<b>%{hovertext}</b><br><br>Platform=SNES<br>Year=1990<br>Number of Genres=%{x}<br>Games per Platform=%{marker.size}<extra></extra>",
=======
           "hovertemplate": "<b>%{hovertext}</b><br><br>Platform=SNES<br>Year=1990<br>Games per Genre=%{x}<br>Games per Platform=%{marker.size}<extra></extra>",
>>>>>>> 5e83b6f9bae3316a5a9c1bda94c007904063e79b
           "hovertext": [
            "Action",
            "Platform",
            "Puzzle",
            "Racing",
<<<<<<< HEAD
            "Role-Playing",
=======
>>>>>>> 5e83b6f9bae3316a5a9c1bda94c007904063e79b
            "Simulation",
            "Sports"
           ],
           "ids": [
            "Action",
            "Platform",
            "Puzzle",
            "Racing",
<<<<<<< HEAD
            "Role-Playing",
=======
>>>>>>> 5e83b6f9bae3316a5a9c1bda94c007904063e79b
            "Simulation",
            "Sports"
           ],
           "legendgroup": "SNES",
           "marker": {
            "color": "#ab63fa",
            "size": [
<<<<<<< HEAD
             4,
             4,
             4,
             4,
             4,
             4,
             4
            ],
            "sizemode": "area",
            "sizeref": 0.62,
=======
             3,
             3,
             3,
             3,
             3,
             3
            ],
            "sizemode": "area",
            "sizeref": 0.42,
>>>>>>> 5e83b6f9bae3316a5a9c1bda94c007904063e79b
            "symbol": "circle"
           },
           "mode": "markers",
           "name": "SNES",
           "orientation": "v",
           "showlegend": true,
           "type": "scatter",
           "x": [
            3,
<<<<<<< HEAD
            3,
            1,
            1,
            2,
            1,
            2
           ],
           "xaxis": "x",
           "y": [
            4,
            4,
            4,
            4,
            4,
            4,
            4
=======
            1,
            1,
            1,
            1,
            1
           ],
           "xaxis": "x",
           "y": [
            3,
            3,
            3,
            3,
            3,
            3
>>>>>>> 5e83b6f9bae3316a5a9c1bda94c007904063e79b
           ],
           "yaxis": "y"
          }
         ],
         "name": "1990"
        },
        {
         "data": [
          {
<<<<<<< HEAD
           "hovertemplate": "<b>%{hovertext}</b><br><br>Platform=NES<br>Year=1991<br>Number of Genres=%{x}<br>Games per Platform=%{marker.size}<extra></extra>",
           "hovertext": [
            "Action",
            "Adventure",
            "Fighting",
            "Misc",
=======
           "hovertemplate": "<b>%{hovertext}</b><br><br>Platform=NES<br>Year=1991<br>Games per Genre=%{x}<br>Games per Platform=%{marker.size}<extra></extra>",
           "hovertext": [
>>>>>>> 5e83b6f9bae3316a5a9c1bda94c007904063e79b
            "Platform",
            "Puzzle",
            "Role-Playing",
            "Shooter",
            "Simulation",
            "Sports",
            "Strategy"
           ],
           "ids": [
<<<<<<< HEAD
            "Action",
            "Adventure",
            "Fighting",
            "Misc",
=======
>>>>>>> 5e83b6f9bae3316a5a9c1bda94c007904063e79b
            "Platform",
            "Puzzle",
            "Role-Playing",
            "Shooter",
            "Simulation",
            "Sports",
            "Strategy"
           ],
           "legendgroup": "NES",
           "marker": {
            "color": "#EF553B",
            "size": [
<<<<<<< HEAD
             7,
             7,
             7,
             7,
             7,
             7,
             7,
             7,
             7,
             7,
             7
            ],
            "sizemode": "area",
            "sizeref": 0.62,
            "symbol": "circle"
=======
             3,
             3,
             3,
             3,
             3,
             3,
             3
            ],
            "sizemode": "area",
            "sizeref": 0.42,
            "symbol": "circle"
>>>>>>> 5e83b6f9bae3316a5a9c1bda94c007904063e79b
           },
           "mode": "markers",
           "name": "NES",
           "orientation": "v",
           "showlegend": true,
           "type": "scatter",
           "x": [
            4,
            1,
            1,
<<<<<<< HEAD
            1,
            4,
            3,
            3,
            3,
            2,
            7,
            3
           ],
           "xaxis": "x",
           "y": [
            7,
            7,
            7,
            7,
            7,
            7,
            7,
            7,
            7,
            7,
            7
=======
            3,
            2,
            5,
            1
           ],
           "xaxis": "x",
           "y": [
            3,
            3,
            3,
            3,
            3,
            3,
            3
>>>>>>> 5e83b6f9bae3316a5a9c1bda94c007904063e79b
           ],
           "yaxis": "y"
          },
          {
<<<<<<< HEAD
           "hovertemplate": "<b>%{hovertext}</b><br><br>Platform=GEN<br>Year=1991<br>Number of Genres=%{x}<br>Games per Platform=%{marker.size}<extra></extra>",
           "hovertext": [
            "Action",
            "Adventure",
            "Fighting",
            "Misc",
=======
           "hovertemplate": "<b>%{hovertext}</b><br><br>Platform=GEN<br>Year=1991<br>Games per Genre=%{x}<br>Games per Platform=%{marker.size}<extra></extra>",
           "hovertext": [
>>>>>>> 5e83b6f9bae3316a5a9c1bda94c007904063e79b
            "Platform",
            "Puzzle",
            "Role-Playing",
            "Shooter",
            "Simulation",
            "Sports",
            "Strategy"
           ],
           "ids": [
<<<<<<< HEAD
            "Action",
            "Adventure",
            "Fighting",
            "Misc",
=======
>>>>>>> 5e83b6f9bae3316a5a9c1bda94c007904063e79b
            "Platform",
            "Puzzle",
            "Role-Playing",
            "Shooter",
            "Simulation",
            "Sports",
            "Strategy"
           ],
           "legendgroup": "GEN",
           "marker": {
            "color": "#00cc96",
            "size": [
             1,
             1,
             1,
             1,
             1,
             1,
<<<<<<< HEAD
             1,
             1,
             1,
             1,
             1
            ],
            "sizemode": "area",
            "sizeref": 0.62,
=======
             1
            ],
            "sizemode": "area",
            "sizeref": 0.42,
>>>>>>> 5e83b6f9bae3316a5a9c1bda94c007904063e79b
            "symbol": "circle"
           },
           "mode": "markers",
           "name": "GEN",
           "orientation": "v",
           "showlegend": true,
           "type": "scatter",
           "x": [
            4,
            1,
            1,
<<<<<<< HEAD
            1,
            4,
            3,
            3,
            3,
            2,
            7,
            3
=======
            3,
            2,
            5,
            1
>>>>>>> 5e83b6f9bae3316a5a9c1bda94c007904063e79b
           ],
           "xaxis": "x",
           "y": [
            1,
            1,
            1,
            1,
            1,
            1,
<<<<<<< HEAD
            1,
            1,
            1,
            1,
=======
>>>>>>> 5e83b6f9bae3316a5a9c1bda94c007904063e79b
            1
           ],
           "yaxis": "y"
          },
          {
<<<<<<< HEAD
           "hovertemplate": "<b>%{hovertext}</b><br><br>Platform=SNES<br>Year=1991<br>Number of Genres=%{x}<br>Games per Platform=%{marker.size}<extra></extra>",
           "hovertext": [
            "Action",
            "Adventure",
            "Fighting",
            "Misc",
=======
           "hovertemplate": "<b>%{hovertext}</b><br><br>Platform=SNES<br>Year=1991<br>Games per Genre=%{x}<br>Games per Platform=%{marker.size}<extra></extra>",
           "hovertext": [
>>>>>>> 5e83b6f9bae3316a5a9c1bda94c007904063e79b
            "Platform",
            "Puzzle",
            "Role-Playing",
            "Shooter",
            "Simulation",
            "Sports",
            "Strategy"
           ],
           "ids": [
<<<<<<< HEAD
            "Action",
            "Adventure",
            "Fighting",
            "Misc",
=======
>>>>>>> 5e83b6f9bae3316a5a9c1bda94c007904063e79b
            "Platform",
            "Puzzle",
            "Role-Playing",
            "Shooter",
            "Simulation",
            "Sports",
            "Strategy"
           ],
           "legendgroup": "SNES",
           "marker": {
            "color": "#ab63fa",
            "size": [
<<<<<<< HEAD
             24,
             24,
             24,
             24,
             24,
             24,
             24,
             24,
             24,
             24,
             24
            ],
            "sizemode": "area",
            "sizeref": 0.62,
=======
             13,
             13,
             13,
             13,
             13,
             13,
             13
            ],
            "sizemode": "area",
            "sizeref": 0.42,
>>>>>>> 5e83b6f9bae3316a5a9c1bda94c007904063e79b
            "symbol": "circle"
           },
           "mode": "markers",
           "name": "SNES",
           "orientation": "v",
           "showlegend": true,
           "type": "scatter",
           "x": [
            4,
            1,
            1,
<<<<<<< HEAD
            1,
            4,
            3,
            3,
            3,
            2,
            7,
            3
           ],
           "xaxis": "x",
           "y": [
            24,
            24,
            24,
            24,
            24,
            24,
            24,
            24,
            24,
            24,
            24
=======
            3,
            2,
            5,
            1
           ],
           "xaxis": "x",
           "y": [
            13,
            13,
            13,
            13,
            13,
            13,
            13
>>>>>>> 5e83b6f9bae3316a5a9c1bda94c007904063e79b
           ],
           "yaxis": "y"
          }
         ],
         "name": "1991"
        },
        {
         "data": [
          {
<<<<<<< HEAD
           "hovertemplate": "<b>%{hovertext}</b><br><br>Platform=NES<br>Year=1992<br>Number of Genres=%{x}<br>Games per Platform=%{marker.size}<extra></extra>",
=======
           "hovertemplate": "<b>%{hovertext}</b><br><br>Platform=NES<br>Year=1992<br>Games per Genre=%{x}<br>Games per Platform=%{marker.size}<extra></extra>",
>>>>>>> 5e83b6f9bae3316a5a9c1bda94c007904063e79b
           "hovertext": [
            "Adventure",
            "Fighting",
            "Misc",
            "Platform",
            "Puzzle",
            "Racing",
<<<<<<< HEAD
            "Role-Playing",
=======
>>>>>>> 5e83b6f9bae3316a5a9c1bda94c007904063e79b
            "Shooter",
            "Sports",
            "Strategy"
           ],
           "ids": [
            "Adventure",
            "Fighting",
            "Misc",
            "Platform",
            "Puzzle",
            "Racing",
<<<<<<< HEAD
            "Role-Playing",
=======
>>>>>>> 5e83b6f9bae3316a5a9c1bda94c007904063e79b
            "Shooter",
            "Sports",
            "Strategy"
           ],
           "legendgroup": "NES",
           "marker": {
            "color": "#EF553B",
            "size": [
<<<<<<< HEAD
             3,
             3,
             3,
             3,
             3,
             3,
             3,
             3,
             3,
             3
            ],
            "sizemode": "area",
            "sizeref": 0.62,
=======
             1,
             1,
             1,
             1,
             1,
             1,
             1,
             1,
             1
            ],
            "sizemode": "area",
            "sizeref": 0.42,
>>>>>>> 5e83b6f9bae3316a5a9c1bda94c007904063e79b
            "symbol": "circle"
           },
           "mode": "markers",
           "name": "NES",
           "orientation": "v",
           "showlegend": true,
           "type": "scatter",
           "x": [
<<<<<<< HEAD
            2,
            7,
            1,
            4,
            2,
            2,
            5,
            2,
            4,
=======
            1,
            5,
            1,
            2,
            1,
            1,
            1,
            2,
>>>>>>> 5e83b6f9bae3316a5a9c1bda94c007904063e79b
            1
           ],
           "xaxis": "x",
           "y": [
<<<<<<< HEAD
            3,
            3,
            3,
            3,
            3,
            3,
            3,
            3,
            3,
            3
=======
            1,
            1,
            1,
            1,
            1,
            1,
            1,
            1,
            1
>>>>>>> 5e83b6f9bae3316a5a9c1bda94c007904063e79b
           ],
           "yaxis": "y"
          },
          {
<<<<<<< HEAD
           "hovertemplate": "<b>%{hovertext}</b><br><br>Platform=GEN<br>Year=1992<br>Number of Genres=%{x}<br>Games per Platform=%{marker.size}<extra></extra>",
=======
           "hovertemplate": "<b>%{hovertext}</b><br><br>Platform=GEN<br>Year=1992<br>Games per Genre=%{x}<br>Games per Platform=%{marker.size}<extra></extra>",
>>>>>>> 5e83b6f9bae3316a5a9c1bda94c007904063e79b
           "hovertext": [
            "Adventure",
            "Fighting",
            "Misc",
            "Platform",
            "Puzzle",
            "Racing",
<<<<<<< HEAD
            "Role-Playing",
=======
>>>>>>> 5e83b6f9bae3316a5a9c1bda94c007904063e79b
            "Shooter",
            "Sports",
            "Strategy"
           ],
           "ids": [
            "Adventure",
            "Fighting",
            "Misc",
            "Platform",
            "Puzzle",
            "Racing",
<<<<<<< HEAD
            "Role-Playing",
=======
>>>>>>> 5e83b6f9bae3316a5a9c1bda94c007904063e79b
            "Shooter",
            "Sports",
            "Strategy"
           ],
           "legendgroup": "GEN",
           "marker": {
            "color": "#00cc96",
            "size": [
             6,
             6,
             6,
             6,
             6,
             6,
             6,
             6,
<<<<<<< HEAD
             6,
             6
            ],
            "sizemode": "area",
            "sizeref": 0.62,
=======
             6
            ],
            "sizemode": "area",
            "sizeref": 0.42,
>>>>>>> 5e83b6f9bae3316a5a9c1bda94c007904063e79b
            "symbol": "circle"
           },
           "mode": "markers",
           "name": "GEN",
           "orientation": "v",
           "showlegend": true,
           "type": "scatter",
           "x": [
<<<<<<< HEAD
            2,
            7,
            1,
            4,
            2,
            2,
            5,
            2,
            4,
=======
            1,
            5,
            1,
            2,
            1,
            1,
            1,
            2,
>>>>>>> 5e83b6f9bae3316a5a9c1bda94c007904063e79b
            1
           ],
           "xaxis": "x",
           "y": [
            6,
            6,
            6,
            6,
            6,
            6,
            6,
            6,
<<<<<<< HEAD
            6,
=======
>>>>>>> 5e83b6f9bae3316a5a9c1bda94c007904063e79b
            6
           ],
           "yaxis": "y"
          },
          {
<<<<<<< HEAD
           "hovertemplate": "<b>%{hovertext}</b><br><br>Platform=SNES<br>Year=1992<br>Number of Genres=%{x}<br>Games per Platform=%{marker.size}<extra></extra>",
=======
           "hovertemplate": "<b>%{hovertext}</b><br><br>Platform=SNES<br>Year=1992<br>Games per Genre=%{x}<br>Games per Platform=%{marker.size}<extra></extra>",
>>>>>>> 5e83b6f9bae3316a5a9c1bda94c007904063e79b
           "hovertext": [
            "Adventure",
            "Fighting",
            "Misc",
            "Platform",
            "Puzzle",
            "Racing",
<<<<<<< HEAD
            "Role-Playing",
=======
>>>>>>> 5e83b6f9bae3316a5a9c1bda94c007904063e79b
            "Shooter",
            "Sports",
            "Strategy"
           ],
           "ids": [
            "Adventure",
            "Fighting",
            "Misc",
            "Platform",
            "Puzzle",
            "Racing",
<<<<<<< HEAD
            "Role-Playing",
=======
>>>>>>> 5e83b6f9bae3316a5a9c1bda94c007904063e79b
            "Shooter",
            "Sports",
            "Strategy"
           ],
           "legendgroup": "SNES",
           "marker": {
            "color": "#ab63fa",
            "size": [
<<<<<<< HEAD
             21,
             21,
             21,
             21,
             21,
             21,
             21,
             21,
             21,
             21
            ],
            "sizemode": "area",
            "sizeref": 0.62,
=======
             8,
             8,
             8,
             8,
             8,
             8,
             8,
             8,
             8
            ],
            "sizemode": "area",
            "sizeref": 0.42,
>>>>>>> 5e83b6f9bae3316a5a9c1bda94c007904063e79b
            "symbol": "circle"
           },
           "mode": "markers",
           "name": "SNES",
           "orientation": "v",
           "showlegend": true,
           "type": "scatter",
           "x": [
<<<<<<< HEAD
            2,
            7,
            1,
            4,
            2,
            2,
            5,
            2,
            4,
=======
            1,
            5,
            1,
            2,
            1,
            1,
            1,
            2,
>>>>>>> 5e83b6f9bae3316a5a9c1bda94c007904063e79b
            1
           ],
           "xaxis": "x",
           "y": [
<<<<<<< HEAD
            21,
            21,
            21,
            21,
            21,
            21,
            21,
            21,
            21,
            21
=======
            8,
            8,
            8,
            8,
            8,
            8,
            8,
            8,
            8
>>>>>>> 5e83b6f9bae3316a5a9c1bda94c007904063e79b
           ],
           "yaxis": "y"
          }
         ],
         "name": "1992"
        },
        {
         "data": [
          {
<<<<<<< HEAD
           "hovertemplate": "<b>%{hovertext}</b><br><br>Platform=NES<br>Year=1993<br>Number of Genres=%{x}<br>Games per Platform=%{marker.size}<extra></extra>",
=======
           "hovertemplate": "<b>%{hovertext}</b><br><br>Platform=NES<br>Year=1993<br>Games per Genre=%{x}<br>Games per Platform=%{marker.size}<extra></extra>",
>>>>>>> 5e83b6f9bae3316a5a9c1bda94c007904063e79b
           "hovertext": [
            "Action",
            "Adventure",
            "Fighting",
<<<<<<< HEAD
            "Misc",
=======
>>>>>>> 5e83b6f9bae3316a5a9c1bda94c007904063e79b
            "Platform",
            "Puzzle",
            "Racing",
            "Role-Playing",
            "Shooter",
<<<<<<< HEAD
            "Simulation",
            "Sports",
=======
>>>>>>> 5e83b6f9bae3316a5a9c1bda94c007904063e79b
            "Strategy"
           ],
           "ids": [
            "Action",
            "Adventure",
            "Fighting",
<<<<<<< HEAD
            "Misc",
=======
>>>>>>> 5e83b6f9bae3316a5a9c1bda94c007904063e79b
            "Platform",
            "Puzzle",
            "Racing",
            "Role-Playing",
            "Shooter",
<<<<<<< HEAD
            "Simulation",
            "Sports",
=======
>>>>>>> 5e83b6f9bae3316a5a9c1bda94c007904063e79b
            "Strategy"
           ],
           "legendgroup": "NES",
           "marker": {
            "color": "#EF553B",
            "size": [
<<<<<<< HEAD
             4,
             4,
             4,
             4,
             4,
             4,
             4,
             4,
             4,
             4,
             4,
             4
            ],
            "sizemode": "area",
            "sizeref": 0.62,
=======
             3,
             3,
             3,
             3,
             3,
             3,
             3,
             3,
             3
            ],
            "sizemode": "area",
            "sizeref": 0.42,
>>>>>>> 5e83b6f9bae3316a5a9c1bda94c007904063e79b
            "symbol": "circle"
           },
           "mode": "markers",
           "name": "NES",
           "orientation": "v",
           "showlegend": true,
           "type": "scatter",
           "x": [
<<<<<<< HEAD
            6,
            1,
            9,
            3,
            11,
            3,
            2,
            9,
            2,
            1,
            9,
            2
           ],
           "xaxis": "x",
           "y": [
            4,
            4,
            4,
            4,
            4,
            4,
            4,
            4,
            4,
            4,
            4,
            4
           ],
           "yaxis": "y"
          },
          {
           "hovertemplate": "<b>%{hovertext}</b><br><br>Platform=GEN<br>Year=1993<br>Number of Genres=%{x}<br>Games per Platform=%{marker.size}<extra></extra>",
           "hovertext": [
            "Action",
            "Adventure",
            "Fighting",
            "Misc",
=======
            1,
            1,
            3,
            5,
            1,
            2,
            2,
            2,
            1
           ],
           "xaxis": "x",
           "y": [
            3,
            3,
            3,
            3,
            3,
            3,
            3,
            3,
            3
           ],
           "yaxis": "y"
          },
          {
           "hovertemplate": "<b>%{hovertext}</b><br><br>Platform=GEN<br>Year=1993<br>Games per Genre=%{x}<br>Games per Platform=%{marker.size}<extra></extra>",
           "hovertext": [
            "Action",
            "Adventure",
            "Fighting",
>>>>>>> 5e83b6f9bae3316a5a9c1bda94c007904063e79b
            "Platform",
            "Puzzle",
            "Racing",
            "Role-Playing",
            "Shooter",
<<<<<<< HEAD
            "Simulation",
            "Sports",
=======
>>>>>>> 5e83b6f9bae3316a5a9c1bda94c007904063e79b
            "Strategy"
           ],
           "ids": [
            "Action",
            "Adventure",
            "Fighting",
<<<<<<< HEAD
            "Misc",
=======
>>>>>>> 5e83b6f9bae3316a5a9c1bda94c007904063e79b
            "Platform",
            "Puzzle",
            "Racing",
            "Role-Playing",
            "Shooter",
<<<<<<< HEAD
            "Simulation",
            "Sports",
=======
>>>>>>> 5e83b6f9bae3316a5a9c1bda94c007904063e79b
            "Strategy"
           ],
           "legendgroup": "GEN",
           "marker": {
            "color": "#00cc96",
            "size": [
<<<<<<< HEAD
             7,
             7,
             7,
             7,
             7,
             7,
             7,
             7,
             7,
             7,
             7,
             7
            ],
            "sizemode": "area",
            "sizeref": 0.62,
=======
             4,
             4,
             4,
             4,
             4,
             4,
             4,
             4,
             4
            ],
            "sizemode": "area",
            "sizeref": 0.42,
>>>>>>> 5e83b6f9bae3316a5a9c1bda94c007904063e79b
            "symbol": "circle"
           },
           "mode": "markers",
           "name": "GEN",
           "orientation": "v",
           "showlegend": true,
           "type": "scatter",
           "x": [
<<<<<<< HEAD
            6,
            1,
            9,
            3,
            11,
            3,
            2,
            9,
            2,
            1,
            9,
            2
           ],
           "xaxis": "x",
           "y": [
            7,
            7,
            7,
            7,
            7,
            7,
            7,
            7,
            7,
            7,
            7,
            7
=======
            1,
            1,
            3,
            5,
            1,
            2,
            2,
            2,
            1
           ],
           "xaxis": "x",
           "y": [
            4,
            4,
            4,
            4,
            4,
            4,
            4,
            4,
            4
>>>>>>> 5e83b6f9bae3316a5a9c1bda94c007904063e79b
           ],
           "yaxis": "y"
          },
          {
<<<<<<< HEAD
           "hovertemplate": "<b>%{hovertext}</b><br><br>Platform=SNES<br>Year=1993<br>Number of Genres=%{x}<br>Games per Platform=%{marker.size}<extra></extra>",
=======
           "hovertemplate": "<b>%{hovertext}</b><br><br>Platform=SNES<br>Year=1993<br>Games per Genre=%{x}<br>Games per Platform=%{marker.size}<extra></extra>",
>>>>>>> 5e83b6f9bae3316a5a9c1bda94c007904063e79b
           "hovertext": [
            "Action",
            "Adventure",
            "Fighting",
<<<<<<< HEAD
            "Misc",
=======
>>>>>>> 5e83b6f9bae3316a5a9c1bda94c007904063e79b
            "Platform",
            "Puzzle",
            "Racing",
            "Role-Playing",
            "Shooter",
<<<<<<< HEAD
            "Simulation",
            "Sports",
=======
>>>>>>> 5e83b6f9bae3316a5a9c1bda94c007904063e79b
            "Strategy"
           ],
           "ids": [
            "Action",
            "Adventure",
            "Fighting",
<<<<<<< HEAD
            "Misc",
=======
>>>>>>> 5e83b6f9bae3316a5a9c1bda94c007904063e79b
            "Platform",
            "Puzzle",
            "Racing",
            "Role-Playing",
            "Shooter",
<<<<<<< HEAD
            "Simulation",
            "Sports",
=======
>>>>>>> 5e83b6f9bae3316a5a9c1bda94c007904063e79b
            "Strategy"
           ],
           "legendgroup": "SNES",
           "marker": {
            "color": "#ab63fa",
            "size": [
<<<<<<< HEAD
             46,
             46,
             46,
             46,
             46,
             46,
             46,
             46,
             46,
             46,
             46,
             46
            ],
            "sizemode": "area",
            "sizeref": 0.62,
=======
             10,
             10,
             10,
             10,
             10,
             10,
             10,
             10,
             10
            ],
            "sizemode": "area",
            "sizeref": 0.42,
>>>>>>> 5e83b6f9bae3316a5a9c1bda94c007904063e79b
            "symbol": "circle"
           },
           "mode": "markers",
           "name": "SNES",
           "orientation": "v",
           "showlegend": true,
           "type": "scatter",
           "x": [
<<<<<<< HEAD
            6,
            1,
            9,
            3,
            11,
            3,
            2,
            9,
            2,
            1,
            9,
            2
           ],
           "xaxis": "x",
           "y": [
            46,
            46,
            46,
            46,
            46,
            46,
            46,
            46,
            46,
            46,
            46,
            46
=======
            1,
            1,
            3,
            5,
            1,
            2,
            2,
            2,
            1
           ],
           "xaxis": "x",
           "y": [
            10,
            10,
            10,
            10,
            10,
            10,
            10,
            10,
            10
>>>>>>> 5e83b6f9bae3316a5a9c1bda94c007904063e79b
           ],
           "yaxis": "y"
          },
          {
<<<<<<< HEAD
           "hovertemplate": "<b>%{hovertext}</b><br><br>Platform=SCD<br>Year=1993<br>Number of Genres=%{x}<br>Games per Platform=%{marker.size}<extra></extra>",
=======
           "hovertemplate": "<b>%{hovertext}</b><br><br>Platform=SCD<br>Year=1993<br>Games per Genre=%{x}<br>Games per Platform=%{marker.size}<extra></extra>",
>>>>>>> 5e83b6f9bae3316a5a9c1bda94c007904063e79b
           "hovertext": [
            "Action",
            "Adventure",
            "Fighting",
<<<<<<< HEAD
            "Misc",
=======
>>>>>>> 5e83b6f9bae3316a5a9c1bda94c007904063e79b
            "Platform",
            "Puzzle",
            "Racing",
            "Role-Playing",
            "Shooter",
<<<<<<< HEAD
            "Simulation",
            "Sports",
=======
>>>>>>> 5e83b6f9bae3316a5a9c1bda94c007904063e79b
            "Strategy"
           ],
           "ids": [
            "Action",
            "Adventure",
            "Fighting",
<<<<<<< HEAD
            "Misc",
=======
>>>>>>> 5e83b6f9bae3316a5a9c1bda94c007904063e79b
            "Platform",
            "Puzzle",
            "Racing",
            "Role-Playing",
            "Shooter",
<<<<<<< HEAD
            "Simulation",
            "Sports",
=======
>>>>>>> 5e83b6f9bae3316a5a9c1bda94c007904063e79b
            "Strategy"
           ],
           "legendgroup": "SCD",
           "marker": {
            "color": "#FFA15A",
            "size": [
             1,
             1,
             1,
             1,
             1,
             1,
             1,
             1,
<<<<<<< HEAD
             1,
             1,
             1,
             1
            ],
            "sizemode": "area",
            "sizeref": 0.62,
=======
             1
            ],
            "sizemode": "area",
            "sizeref": 0.42,
>>>>>>> 5e83b6f9bae3316a5a9c1bda94c007904063e79b
            "symbol": "circle"
           },
           "mode": "markers",
           "name": "SCD",
           "orientation": "v",
           "showlegend": true,
           "type": "scatter",
           "x": [
<<<<<<< HEAD
            6,
            1,
            9,
            3,
            11,
            3,
            2,
            9,
            2,
            1,
            9,
            2
=======
            1,
            1,
            3,
            5,
            1,
            2,
            2,
            2,
            1
>>>>>>> 5e83b6f9bae3316a5a9c1bda94c007904063e79b
           ],
           "xaxis": "x",
           "y": [
            1,
            1,
            1,
            1,
            1,
            1,
            1,
            1,
<<<<<<< HEAD
            1,
            1,
            1,
=======
>>>>>>> 5e83b6f9bae3316a5a9c1bda94c007904063e79b
            1
           ],
           "yaxis": "y"
          }
         ],
         "name": "1993"
        },
        {
         "data": [
          {
<<<<<<< HEAD
           "hovertemplate": "<b>%{hovertext}</b><br><br>Platform=NES<br>Year=1994<br>Number of Genres=%{x}<br>Games per Platform=%{marker.size}<extra></extra>",
           "hovertext": [
            "Action",
            "Adventure",
            "Fighting",
            "Misc",
            "Platform",
            "Puzzle",
            "Racing",
            "Role-Playing",
=======
           "hovertemplate": "<b>%{hovertext}</b><br><br>Platform=GEN<br>Year=1994<br>Games per Genre=%{x}<br>Games per Platform=%{marker.size}<extra></extra>",
           "hovertext": [
            "Adventure",
            "Fighting",
            "Platform",
            "Puzzle",
            "Racing",
>>>>>>> 5e83b6f9bae3316a5a9c1bda94c007904063e79b
            "Shooter",
            "Simulation",
            "Sports",
            "Strategy"
           ],
           "ids": [
<<<<<<< HEAD
            "Action",
            "Adventure",
            "Fighting",
            "Misc",
            "Platform",
            "Puzzle",
            "Racing",
            "Role-Playing",
=======
            "Adventure",
            "Fighting",
            "Platform",
            "Puzzle",
            "Racing",
>>>>>>> 5e83b6f9bae3316a5a9c1bda94c007904063e79b
            "Shooter",
            "Simulation",
            "Sports",
            "Strategy"
           ],
<<<<<<< HEAD
           "legendgroup": "NES",
           "marker": {
            "color": "#EF553B",
            "size": [
             1,
             1,
             1,
             1,
             1,
             1,
             1,
             1,
             1,
             1,
             1,
             1
            ],
            "sizemode": "area",
            "sizeref": 0.62,
            "symbol": "circle"
           },
           "mode": "markers",
           "name": "NES",
=======
           "legendgroup": "GEN",
           "marker": {
            "color": "#00cc96",
            "size": [
             5,
             5,
             5,
             5,
             5,
             5,
             5,
             5,
             5
            ],
            "sizemode": "area",
            "sizeref": 0.42,
            "symbol": "circle"
           },
           "mode": "markers",
           "name": "GEN",
>>>>>>> 5e83b6f9bae3316a5a9c1bda94c007904063e79b
           "orientation": "v",
           "showlegend": true,
           "type": "scatter",
           "x": [
<<<<<<< HEAD
            4,
            3,
            17,
            5,
            8,
            2,
            8,
            17,
            9,
            7,
            22,
            5
           ],
           "xaxis": "x",
           "y": [
            1,
            1,
            1,
            1,
            1,
            1,
            1,
            1,
            1,
            1,
            1,
            1
=======
            2,
            12,
            4,
            1,
            4,
            6,
            4,
            9,
            1
           ],
           "xaxis": "x",
           "y": [
            5,
            5,
            5,
            5,
            5,
            5,
            5,
            5,
            5
>>>>>>> 5e83b6f9bae3316a5a9c1bda94c007904063e79b
           ],
           "yaxis": "y"
          },
          {
<<<<<<< HEAD
           "hovertemplate": "<b>%{hovertext}</b><br><br>Platform=GEN<br>Year=1994<br>Number of Genres=%{x}<br>Games per Platform=%{marker.size}<extra></extra>",
           "hovertext": [
            "Action",
            "Adventure",
            "Fighting",
            "Misc",
            "Platform",
            "Puzzle",
            "Racing",
            "Role-Playing",
=======
           "hovertemplate": "<b>%{hovertext}</b><br><br>Platform=SNES<br>Year=1994<br>Games per Genre=%{x}<br>Games per Platform=%{marker.size}<extra></extra>",
           "hovertext": [
            "Adventure",
            "Fighting",
            "Platform",
            "Puzzle",
            "Racing",
>>>>>>> 5e83b6f9bae3316a5a9c1bda94c007904063e79b
            "Shooter",
            "Simulation",
            "Sports",
            "Strategy"
           ],
           "ids": [
<<<<<<< HEAD
            "Action",
            "Adventure",
            "Fighting",
            "Misc",
            "Platform",
            "Puzzle",
            "Racing",
            "Role-Playing",
=======
            "Adventure",
            "Fighting",
            "Platform",
            "Puzzle",
            "Racing",
>>>>>>> 5e83b6f9bae3316a5a9c1bda94c007904063e79b
            "Shooter",
            "Simulation",
            "Sports",
            "Strategy"
           ],
<<<<<<< HEAD
           "legendgroup": "GEN",
           "marker": {
            "color": "#00cc96",
            "size": [
             12,
             12,
             12,
             12,
             12,
             12,
             12,
             12,
             12,
             12,
             12,
             12
            ],
            "sizemode": "area",
            "sizeref": 0.62,
            "symbol": "circle"
           },
           "mode": "markers",
           "name": "GEN",
=======
           "legendgroup": "SNES",
           "marker": {
            "color": "#ab63fa",
            "size": [
             10,
             10,
             10,
             10,
             10,
             10,
             10,
             10,
             10
            ],
            "sizemode": "area",
            "sizeref": 0.42,
            "symbol": "circle"
           },
           "mode": "markers",
           "name": "SNES",
>>>>>>> 5e83b6f9bae3316a5a9c1bda94c007904063e79b
           "orientation": "v",
           "showlegend": true,
           "type": "scatter",
           "x": [
<<<<<<< HEAD
            4,
            3,
            17,
            5,
            8,
            2,
            8,
            17,
            9,
            7,
            22,
            5
           ],
           "xaxis": "x",
           "y": [
            12,
            12,
            12,
            12,
            12,
            12,
            12,
            12,
            12,
            12,
            12,
            12
           ],
           "yaxis": "y"
          },
          {
           "hovertemplate": "<b>%{hovertext}</b><br><br>Platform=SNES<br>Year=1994<br>Number of Genres=%{x}<br>Games per Platform=%{marker.size}<extra></extra>",
           "hovertext": [
            "Action",
            "Adventure",
            "Fighting",
            "Misc",
            "Platform",
            "Puzzle",
            "Racing",
            "Role-Playing",
            "Shooter",
            "Simulation",
            "Sports",
            "Strategy"
           ],
           "ids": [
            "Action",
            "Adventure",
            "Fighting",
            "Misc",
            "Platform",
            "Puzzle",
            "Racing",
            "Role-Playing",
            "Shooter",
            "Simulation",
            "Sports",
            "Strategy"
           ],
           "legendgroup": "SNES",
           "marker": {
            "color": "#ab63fa",
            "size": [
             53,
             53,
             53,
             53,
             53,
             53,
             53,
             53,
             53,
             53,
             53,
             53
            ],
            "sizemode": "area",
            "sizeref": 0.62,
            "symbol": "circle"
           },
           "mode": "markers",
           "name": "SNES",
           "orientation": "v",
           "showlegend": true,
           "type": "scatter",
           "x": [
            4,
            3,
            17,
            5,
            8,
            2,
            8,
            17,
            9,
            7,
            22,
            5
           ],
           "xaxis": "x",
           "y": [
            53,
            53,
            53,
            53,
            53,
            53,
            53,
            53,
            53,
            53,
            53,
            53
=======
            2,
            12,
            4,
            1,
            4,
            6,
            4,
            9,
            1
           ],
           "xaxis": "x",
           "y": [
            10,
            10,
            10,
            10,
            10,
            10,
            10,
            10,
            10
>>>>>>> 5e83b6f9bae3316a5a9c1bda94c007904063e79b
           ],
           "yaxis": "y"
          },
          {
<<<<<<< HEAD
           "hovertemplate": "<b>%{hovertext}</b><br><br>Platform=SCD<br>Year=1994<br>Number of Genres=%{x}<br>Games per Platform=%{marker.size}<extra></extra>",
           "hovertext": [
            "Action",
            "Adventure",
            "Fighting",
            "Misc",
            "Platform",
            "Puzzle",
            "Racing",
            "Role-Playing",
=======
           "hovertemplate": "<b>%{hovertext}</b><br><br>Platform=SCD<br>Year=1994<br>Games per Genre=%{x}<br>Games per Platform=%{marker.size}<extra></extra>",
           "hovertext": [
            "Adventure",
            "Fighting",
            "Platform",
            "Puzzle",
            "Racing",
>>>>>>> 5e83b6f9bae3316a5a9c1bda94c007904063e79b
            "Shooter",
            "Simulation",
            "Sports",
            "Strategy"
           ],
           "ids": [
<<<<<<< HEAD
            "Action",
            "Adventure",
            "Fighting",
            "Misc",
            "Platform",
            "Puzzle",
            "Racing",
            "Role-Playing",
=======
            "Adventure",
            "Fighting",
            "Platform",
            "Puzzle",
            "Racing",
>>>>>>> 5e83b6f9bae3316a5a9c1bda94c007904063e79b
            "Shooter",
            "Simulation",
            "Sports",
            "Strategy"
           ],
           "legendgroup": "SCD",
           "marker": {
            "color": "#FFA15A",
            "size": [
<<<<<<< HEAD
             5,
             5,
             5,
             5,
             5,
             5,
             5,
             5,
             5,
             5,
             5,
             5
            ],
            "sizemode": "area",
            "sizeref": 0.62,
=======
             1,
             1,
             1,
             1,
             1,
             1,
             1,
             1,
             1
            ],
            "sizemode": "area",
            "sizeref": 0.42,
>>>>>>> 5e83b6f9bae3316a5a9c1bda94c007904063e79b
            "symbol": "circle"
           },
           "mode": "markers",
           "name": "SCD",
           "orientation": "v",
           "showlegend": true,
           "type": "scatter",
           "x": [
<<<<<<< HEAD
            4,
            3,
            17,
            5,
            8,
            2,
            8,
            17,
            9,
            7,
            22,
            5
           ],
           "xaxis": "x",
           "y": [
            5,
            5,
            5,
            5,
            5,
            5,
            5,
            5,
            5,
            5,
            5,
            5
=======
            2,
            12,
            4,
            1,
            4,
            6,
            4,
            9,
            1
           ],
           "xaxis": "x",
           "y": [
            1,
            1,
            1,
            1,
            1,
            1,
            1,
            1,
            1
>>>>>>> 5e83b6f9bae3316a5a9c1bda94c007904063e79b
           ],
           "yaxis": "y"
          },
          {
<<<<<<< HEAD
           "hovertemplate": "<b>%{hovertext}</b><br><br>Platform=PS<br>Year=1994<br>Number of Genres=%{x}<br>Games per Platform=%{marker.size}<extra></extra>",
           "hovertext": [
            "Action",
            "Adventure",
            "Fighting",
            "Misc",
            "Platform",
            "Puzzle",
            "Racing",
            "Role-Playing",
=======
           "hovertemplate": "<b>%{hovertext}</b><br><br>Platform=PS<br>Year=1994<br>Games per Genre=%{x}<br>Games per Platform=%{marker.size}<extra></extra>",
           "hovertext": [
            "Adventure",
            "Fighting",
            "Platform",
            "Puzzle",
            "Racing",
>>>>>>> 5e83b6f9bae3316a5a9c1bda94c007904063e79b
            "Shooter",
            "Simulation",
            "Sports",
            "Strategy"
           ],
           "ids": [
<<<<<<< HEAD
            "Action",
            "Adventure",
            "Fighting",
            "Misc",
            "Platform",
            "Puzzle",
            "Racing",
            "Role-Playing",
=======
            "Adventure",
            "Fighting",
            "Platform",
            "Puzzle",
            "Racing",
>>>>>>> 5e83b6f9bae3316a5a9c1bda94c007904063e79b
            "Shooter",
            "Simulation",
            "Sports",
            "Strategy"
           ],
           "legendgroup": "PS",
           "marker": {
            "color": "#19d3f3",
            "size": [
<<<<<<< HEAD
             17,
             17,
             17,
             17,
             17,
             17,
             17,
             17,
             17,
             17,
             17,
             17
            ],
            "sizemode": "area",
            "sizeref": 0.62,
=======
             9,
             9,
             9,
             9,
             9,
             9,
             9,
             9,
             9
            ],
            "sizemode": "area",
            "sizeref": 0.42,
>>>>>>> 5e83b6f9bae3316a5a9c1bda94c007904063e79b
            "symbol": "circle"
           },
           "mode": "markers",
           "name": "PS",
           "orientation": "v",
           "showlegend": true,
           "type": "scatter",
           "x": [
<<<<<<< HEAD
            4,
            3,
            17,
            5,
            8,
            2,
            8,
            17,
            9,
            7,
            22,
            5
           ],
           "xaxis": "x",
           "y": [
            17,
            17,
            17,
            17,
            17,
            17,
            17,
            17,
            17,
            17,
            17,
            17
           ],
           "yaxis": "y"
          },
          {
           "hovertemplate": "<b>%{hovertext}</b><br><br>Platform=SAT<br>Year=1994<br>Number of Genres=%{x}<br>Games per Platform=%{marker.size}<extra></extra>",
           "hovertext": [
            "Action",
            "Adventure",
            "Fighting",
            "Misc",
            "Platform",
            "Puzzle",
            "Racing",
            "Role-Playing",
            "Shooter",
            "Simulation",
            "Sports",
            "Strategy"
           ],
           "ids": [
            "Action",
            "Adventure",
            "Fighting",
            "Misc",
            "Platform",
            "Puzzle",
            "Racing",
            "Role-Playing",
            "Shooter",
            "Simulation",
            "Sports",
            "Strategy"
           ],
           "legendgroup": "SAT",
           "marker": {
            "color": "#FF6692",
            "size": [
             19,
             19,
             19,
             19,
             19,
             19,
             19,
             19,
             19,
             19,
             19,
             19
            ],
            "sizemode": "area",
            "sizeref": 0.62,
            "symbol": "circle"
           },
           "mode": "markers",
           "name": "SAT",
           "orientation": "v",
           "showlegend": true,
           "type": "scatter",
           "x": [
            4,
            3,
            17,
            5,
            8,
            2,
            8,
            17,
            9,
            7,
            22,
            5
           ],
           "xaxis": "x",
           "y": [
            19,
            19,
            19,
            19,
            19,
            19,
            19,
            19,
            19,
            19,
            19,
            19
           ],
           "yaxis": "y"
          }
         ],
         "name": "1994"
        },
        {
         "data": [
          {
           "hovertemplate": "<b>%{hovertext}</b><br><br>Platform=SNES<br>Year=1996<br>Number of Genres=%{x}<br>Games per Platform=%{marker.size}<extra></extra>",
           "hovertext": [
            "Action",
            "Adventure",
            "Fighting",
            "Misc",
            "Platform",
            "Puzzle",
            "Racing",
            "Role-Playing",
            "Shooter",
            "Simulation",
            "Sports",
            "Strategy"
           ],
           "ids": [
            "Action",
            "Adventure",
            "Fighting",
            "Misc",
            "Platform",
            "Puzzle",
            "Racing",
            "Role-Playing",
            "Shooter",
            "Simulation",
            "Sports",
            "Strategy"
           ],
           "legendgroup": "SNES",
           "marker": {
            "color": "#ab63fa",
            "size": [
             30,
             30,
             30,
             30,
             30,
             30,
             30,
             30,
             30,
             30,
             30,
             30
            ],
            "sizemode": "area",
            "sizeref": 0.62,
            "symbol": "circle"
           },
           "mode": "markers",
           "name": "SNES",
           "orientation": "v",
           "showlegend": true,
           "type": "scatter",
           "x": [
            19,
            17,
            28,
            23,
            13,
            7,
            22,
            24,
            23,
            11,
            52,
            11
           ],
           "xaxis": "x",
           "y": [
            30,
            30,
            30,
            30,
            30,
            30,
            30,
            30,
            30,
            30,
            30,
            30
           ],
           "yaxis": "y"
          },
          {
           "hovertemplate": "<b>%{hovertext}</b><br><br>Platform=PS<br>Year=1996<br>Number of Genres=%{x}<br>Games per Platform=%{marker.size}<extra></extra>",
           "hovertext": [
            "Action",
            "Adventure",
            "Fighting",
            "Misc",
            "Platform",
            "Puzzle",
            "Racing",
            "Role-Playing",
            "Shooter",
            "Simulation",
            "Sports",
            "Strategy"
           ],
           "ids": [
            "Action",
            "Adventure",
            "Fighting",
            "Misc",
            "Platform",
            "Puzzle",
            "Racing",
            "Role-Playing",
            "Shooter",
            "Simulation",
            "Sports",
            "Strategy"
           ],
           "legendgroup": "PS",
           "marker": {
            "color": "#19d3f3",
            "size": [
             164,
             164,
             164,
             164,
             164,
             164,
             164,
             164,
             164,
             164,
             164,
             164
            ],
            "sizemode": "area",
            "sizeref": 0.62,
            "symbol": "circle"
           },
           "mode": "markers",
           "name": "PS",
           "orientation": "v",
           "showlegend": true,
           "type": "scatter",
           "x": [
            19,
            17,
            28,
            23,
            13,
            7,
            22,
            24,
            23,
            11,
            52,
            11
           ],
           "xaxis": "x",
           "y": [
            164,
            164,
            164,
            164,
            164,
            164,
            164,
            164,
            164,
            164,
            164,
            164
           ],
           "yaxis": "y"
          },
          {
           "hovertemplate": "<b>%{hovertext}</b><br><br>Platform=SAT<br>Year=1996<br>Number of Genres=%{x}<br>Games per Platform=%{marker.size}<extra></extra>",
           "hovertext": [
            "Action",
            "Adventure",
            "Fighting",
            "Misc",
            "Platform",
            "Puzzle",
            "Racing",
            "Role-Playing",
            "Shooter",
            "Simulation",
            "Sports",
            "Strategy"
           ],
           "ids": [
            "Action",
            "Adventure",
            "Fighting",
            "Misc",
            "Platform",
            "Puzzle",
            "Racing",
            "Role-Playing",
            "Shooter",
            "Simulation",
            "Sports",
            "Strategy"
           ],
           "legendgroup": "SAT",
           "marker": {
            "color": "#FF6692",
            "size": [
             38,
             38,
             38,
             38,
             38,
             38,
             38,
             38,
             38,
             38,
             38,
             38
            ],
            "sizemode": "area",
            "sizeref": 0.62,
            "symbol": "circle"
           },
           "mode": "markers",
           "name": "SAT",
           "orientation": "v",
           "showlegend": true,
           "type": "scatter",
           "x": [
            19,
            17,
            28,
            23,
            13,
            7,
            22,
            24,
            23,
            11,
            52,
            11
           ],
           "xaxis": "x",
           "y": [
            38,
            38,
            38,
            38,
            38,
            38,
            38,
            38,
            38,
            38,
            38,
            38
           ],
           "yaxis": "y"
          },
          {
           "hovertemplate": "<b>%{hovertext}</b><br><br>Platform=N64<br>Year=1996<br>Number of Genres=%{x}<br>Games per Platform=%{marker.size}<extra></extra>",
           "hovertext": [
            "Action",
            "Adventure",
            "Fighting",
            "Misc",
            "Platform",
            "Puzzle",
            "Racing",
            "Role-Playing",
            "Shooter",
            "Simulation",
            "Sports",
            "Strategy"
           ],
           "ids": [
            "Action",
            "Adventure",
            "Fighting",
            "Misc",
            "Platform",
            "Puzzle",
            "Racing",
            "Role-Playing",
            "Shooter",
            "Simulation",
            "Sports",
            "Strategy"
           ],
           "legendgroup": "N64",
           "marker": {
            "color": "#B6E880",
            "size": [
             18,
             18,
             18,
             18,
             18,
             18,
             18,
             18,
             18,
             18,
             18,
             18
            ],
            "sizemode": "area",
            "sizeref": 0.62,
            "symbol": "circle"
           },
           "mode": "markers",
           "name": "N64",
           "orientation": "v",
           "showlegend": true,
           "type": "scatter",
           "x": [
            19,
            17,
            28,
            23,
            13,
            7,
            22,
            24,
            23,
            11,
            52,
            11
           ],
           "xaxis": "x",
           "y": [
            18,
            18,
            18,
            18,
            18,
            18,
            18,
            18,
            18,
            18,
            18,
            18
           ],
           "yaxis": "y"
          }
         ],
         "name": "1996"
        },
        {
         "data": [
          {
           "hovertemplate": "<b>%{hovertext}</b><br><br>Platform=SNES<br>Year=1997<br>Number of Genres=%{x}<br>Games per Platform=%{marker.size}<extra></extra>",
           "hovertext": [
            "Action",
            "Adventure",
            "Fighting",
            "Misc",
            "Platform",
            "Puzzle",
            "Racing",
            "Role-Playing",
            "Shooter",
            "Simulation",
            "Sports",
            "Strategy"
           ],
           "ids": [
            "Action",
            "Adventure",
            "Fighting",
            "Misc",
            "Platform",
            "Puzzle",
            "Racing",
            "Role-Playing",
            "Shooter",
            "Simulation",
            "Sports",
            "Strategy"
           ],
           "legendgroup": "SNES",
           "marker": {
            "color": "#ab63fa",
            "size": [
             4,
             4,
             4,
             4,
             4,
             4,
             4,
             4,
             4,
             4,
             4,
             4
            ],
            "sizemode": "area",
            "sizeref": 0.62,
            "symbol": "circle"
           },
           "mode": "markers",
           "name": "SNES",
           "orientation": "v",
           "showlegend": true,
           "type": "scatter",
           "x": [
            30,
            13,
            28,
            10,
            17,
            13,
            35,
            22,
            26,
            17,
            46,
            18
           ],
           "xaxis": "x",
           "y": [
            4,
            4,
            4,
            4,
            4,
            4,
            4,
            4,
            4,
            4,
            4,
            4
=======
            2,
            12,
            4,
            1,
            4,
            6,
            4,
            9,
            1
           ],
           "xaxis": "x",
           "y": [
            9,
            9,
            9,
            9,
            9,
            9,
            9,
            9,
            9
>>>>>>> 5e83b6f9bae3316a5a9c1bda94c007904063e79b
           ],
           "yaxis": "y"
          },
          {
<<<<<<< HEAD
           "hovertemplate": "<b>%{hovertext}</b><br><br>Platform=PS<br>Year=1997<br>Number of Genres=%{x}<br>Games per Platform=%{marker.size}<extra></extra>",
           "hovertext": [
            "Action",
            "Adventure",
            "Fighting",
            "Misc",
            "Platform",
            "Puzzle",
            "Racing",
            "Role-Playing",
=======
           "hovertemplate": "<b>%{hovertext}</b><br><br>Platform=SAT<br>Year=1994<br>Games per Genre=%{x}<br>Games per Platform=%{marker.size}<extra></extra>",
           "hovertext": [
            "Adventure",
            "Fighting",
            "Platform",
            "Puzzle",
            "Racing",
>>>>>>> 5e83b6f9bae3316a5a9c1bda94c007904063e79b
            "Shooter",
            "Simulation",
            "Sports",
            "Strategy"
           ],
           "ids": [
<<<<<<< HEAD
            "Action",
            "Adventure",
            "Fighting",
            "Misc",
            "Platform",
            "Puzzle",
            "Racing",
            "Role-Playing",
=======
            "Adventure",
            "Fighting",
            "Platform",
            "Puzzle",
            "Racing",
>>>>>>> 5e83b6f9bae3316a5a9c1bda94c007904063e79b
            "Shooter",
            "Simulation",
            "Sports",
            "Strategy"
           ],
<<<<<<< HEAD
           "legendgroup": "PS",
           "marker": {
            "color": "#19d3f3",
            "size": [
             188,
             188,
             188,
             188,
             188,
             188,
             188,
             188,
             188,
             188,
             188,
             188
            ],
            "sizemode": "area",
            "sizeref": 0.62,
            "symbol": "circle"
           },
           "mode": "markers",
           "name": "PS",
=======
           "legendgroup": "SAT",
           "marker": {
            "color": "#FF6692",
            "size": [
             18,
             18,
             18,
             18,
             18,
             18,
             18,
             18,
             18
            ],
            "sizemode": "area",
            "sizeref": 0.42,
            "symbol": "circle"
           },
           "mode": "markers",
           "name": "SAT",
>>>>>>> 5e83b6f9bae3316a5a9c1bda94c007904063e79b
           "orientation": "v",
           "showlegend": true,
           "type": "scatter",
           "x": [
<<<<<<< HEAD
            30,
            13,
            28,
            10,
            17,
            13,
            35,
            22,
            26,
            17,
            46,
            18
           ],
           "xaxis": "x",
           "y": [
            188,
            188,
            188,
            188,
            188,
            188,
            188,
            188,
            188,
            188,
            188,
            188
           ],
           "yaxis": "y"
          },
          {
           "hovertemplate": "<b>%{hovertext}</b><br><br>Platform=SAT<br>Year=1997<br>Number of Genres=%{x}<br>Games per Platform=%{marker.size}<extra></extra>",
=======
            2,
            12,
            4,
            1,
            4,
            6,
            4,
            9,
            1
           ],
           "xaxis": "x",
           "y": [
            18,
            18,
            18,
            18,
            18,
            18,
            18,
            18,
            18
           ],
           "yaxis": "y"
          }
         ],
         "name": "1994"
        },
        {
         "data": [
          {
           "hovertemplate": "<b>%{hovertext}</b><br><br>Platform=SNES<br>Year=1996<br>Games per Genre=%{x}<br>Games per Platform=%{marker.size}<extra></extra>",
>>>>>>> 5e83b6f9bae3316a5a9c1bda94c007904063e79b
           "hovertext": [
            "Action",
            "Adventure",
            "Fighting",
            "Misc",
            "Platform",
            "Puzzle",
            "Racing",
            "Role-Playing",
            "Shooter",
            "Simulation",
            "Sports",
            "Strategy"
           ],
           "ids": [
            "Action",
            "Adventure",
            "Fighting",
            "Misc",
            "Platform",
            "Puzzle",
            "Racing",
            "Role-Playing",
            "Shooter",
            "Simulation",
            "Sports",
            "Strategy"
           ],
<<<<<<< HEAD
           "legendgroup": "SAT",
           "marker": {
            "color": "#FF6692",
            "size": [
             34,
             34,
             34,
             34,
             34,
             34,
             34,
             34,
             34,
             34,
             34,
             34
            ],
            "sizemode": "area",
            "sizeref": 0.62,
            "symbol": "circle"
           },
           "mode": "markers",
           "name": "SAT",
=======
           "legendgroup": "SNES",
           "marker": {
            "color": "#ab63fa",
            "size": [
             1,
             1,
             1,
             1,
             1,
             1,
             1,
             1,
             1,
             1,
             1,
             1
            ],
            "sizemode": "area",
            "sizeref": 0.42,
            "symbol": "circle"
           },
           "mode": "markers",
           "name": "SNES",
>>>>>>> 5e83b6f9bae3316a5a9c1bda94c007904063e79b
           "orientation": "v",
           "showlegend": true,
           "type": "scatter",
           "x": [
<<<<<<< HEAD
            30,
            13,
            28,
            10,
            17,
            13,
            35,
            22,
            26,
            17,
            46,
            18
           ],
           "xaxis": "x",
           "y": [
            34,
            34,
            34,
            34,
            34,
            34,
            34,
            34,
            34,
            34,
            34,
            34
=======
            16,
            6,
            15,
            7,
            8,
            2,
            19,
            5,
            15,
            7,
            33,
            4
           ],
           "xaxis": "x",
           "y": [
            1,
            1,
            1,
            1,
            1,
            1,
            1,
            1,
            1,
            1,
            1,
            1
>>>>>>> 5e83b6f9bae3316a5a9c1bda94c007904063e79b
           ],
           "yaxis": "y"
          },
          {
<<<<<<< HEAD
           "hovertemplate": "<b>%{hovertext}</b><br><br>Platform=N64<br>Year=1997<br>Number of Genres=%{x}<br>Games per Platform=%{marker.size}<extra></extra>",
=======
           "hovertemplate": "<b>%{hovertext}</b><br><br>Platform=PS<br>Year=1996<br>Games per Genre=%{x}<br>Games per Platform=%{marker.size}<extra></extra>",
>>>>>>> 5e83b6f9bae3316a5a9c1bda94c007904063e79b
           "hovertext": [
            "Action",
            "Adventure",
            "Fighting",
            "Misc",
            "Platform",
            "Puzzle",
            "Racing",
            "Role-Playing",
            "Shooter",
            "Simulation",
            "Sports",
            "Strategy"
           ],
           "ids": [
            "Action",
            "Adventure",
            "Fighting",
            "Misc",
            "Platform",
            "Puzzle",
            "Racing",
            "Role-Playing",
            "Shooter",
            "Simulation",
            "Sports",
            "Strategy"
           ],
<<<<<<< HEAD
           "legendgroup": "N64",
           "marker": {
            "color": "#B6E880",
            "size": [
             49,
             49,
             49,
             49,
             49,
             49,
             49,
             49,
             49,
             49,
             49,
             49
            ],
            "sizemode": "area",
            "sizeref": 0.62,
            "symbol": "circle"
           },
           "mode": "markers",
           "name": "N64",
=======
           "legendgroup": "PS",
           "marker": {
            "color": "#19d3f3",
            "size": [
             118,
             118,
             118,
             118,
             118,
             118,
             118,
             118,
             118,
             118,
             118,
             118
            ],
            "sizemode": "area",
            "sizeref": 0.42,
            "symbol": "circle"
           },
           "mode": "markers",
           "name": "PS",
>>>>>>> 5e83b6f9bae3316a5a9c1bda94c007904063e79b
           "orientation": "v",
           "showlegend": true,
           "type": "scatter",
           "x": [
<<<<<<< HEAD
            30,
            13,
            28,
            10,
            17,
            13,
            35,
            22,
            26,
            17,
            46,
            18
           ],
           "xaxis": "x",
           "y": [
            49,
            49,
            49,
            49,
            49,
            49,
            49,
            49,
            49,
            49,
            49,
            49
           ],
           "yaxis": "y"
          }
         ],
         "name": "1997"
        },
        {
         "data": [
          {
           "hovertemplate": "<b>%{hovertext}</b><br><br>Platform=SNES<br>Year=1998<br>Number of Genres=%{x}<br>Games per Platform=%{marker.size}<extra></extra>",
=======
            16,
            6,
            15,
            7,
            8,
            2,
            19,
            5,
            15,
            7,
            33,
            4
           ],
           "xaxis": "x",
           "y": [
            118,
            118,
            118,
            118,
            118,
            118,
            118,
            118,
            118,
            118,
            118,
            118
           ],
           "yaxis": "y"
          },
          {
           "hovertemplate": "<b>%{hovertext}</b><br><br>Platform=SAT<br>Year=1996<br>Games per Genre=%{x}<br>Games per Platform=%{marker.size}<extra></extra>",
>>>>>>> 5e83b6f9bae3316a5a9c1bda94c007904063e79b
           "hovertext": [
            "Action",
            "Adventure",
            "Fighting",
            "Misc",
            "Platform",
            "Puzzle",
            "Racing",
            "Role-Playing",
            "Shooter",
            "Simulation",
            "Sports",
            "Strategy"
           ],
           "ids": [
            "Action",
            "Adventure",
            "Fighting",
            "Misc",
            "Platform",
            "Puzzle",
            "Racing",
            "Role-Playing",
            "Shooter",
            "Simulation",
            "Sports",
            "Strategy"
           ],
<<<<<<< HEAD
           "legendgroup": "SNES",
           "marker": {
            "color": "#ab63fa",
            "size": [
             2,
             2,
             2,
             2,
             2,
             2,
             2,
             2,
             2,
             2,
             2,
             2
            ],
            "sizemode": "area",
            "sizeref": 0.62,
            "symbol": "circle"
           },
           "mode": "markers",
           "name": "SNES",
=======
           "legendgroup": "SAT",
           "marker": {
            "color": "#FF6692",
            "size": [
             7,
             7,
             7,
             7,
             7,
             7,
             7,
             7,
             7,
             7,
             7,
             7
            ],
            "sizemode": "area",
            "sizeref": 0.42,
            "symbol": "circle"
           },
           "mode": "markers",
           "name": "SAT",
>>>>>>> 5e83b6f9bae3316a5a9c1bda94c007904063e79b
           "orientation": "v",
           "showlegend": true,
           "type": "scatter",
           "x": [
<<<<<<< HEAD
            41,
            21,
            39,
            22,
            23,
            12,
            48,
            23,
            22,
            8,
            69,
            28
           ],
           "xaxis": "x",
           "y": [
            2,
            2,
            2,
            2,
            2,
            2,
            2,
            2,
            2,
            2,
            2,
            2
=======
            16,
            6,
            15,
            7,
            8,
            2,
            19,
            5,
            15,
            7,
            33,
            4
           ],
           "xaxis": "x",
           "y": [
            7,
            7,
            7,
            7,
            7,
            7,
            7,
            7,
            7,
            7,
            7,
            7
>>>>>>> 5e83b6f9bae3316a5a9c1bda94c007904063e79b
           ],
           "yaxis": "y"
          },
          {
<<<<<<< HEAD
           "hovertemplate": "<b>%{hovertext}</b><br><br>Platform=PS<br>Year=1998<br>Number of Genres=%{x}<br>Games per Platform=%{marker.size}<extra></extra>",
=======
           "hovertemplate": "<b>%{hovertext}</b><br><br>Platform=N64<br>Year=1996<br>Games per Genre=%{x}<br>Games per Platform=%{marker.size}<extra></extra>",
>>>>>>> 5e83b6f9bae3316a5a9c1bda94c007904063e79b
           "hovertext": [
            "Action",
            "Adventure",
            "Fighting",
            "Misc",
            "Platform",
            "Puzzle",
            "Racing",
            "Role-Playing",
            "Shooter",
            "Simulation",
            "Sports",
            "Strategy"
           ],
           "ids": [
            "Action",
            "Adventure",
            "Fighting",
            "Misc",
            "Platform",
            "Puzzle",
            "Racing",
            "Role-Playing",
            "Shooter",
            "Simulation",
            "Sports",
            "Strategy"
           ],
<<<<<<< HEAD
           "legendgroup": "PS",
           "marker": {
            "color": "#19d3f3",
            "size": [
             248,
             248,
             248,
             248,
             248,
             248,
             248,
             248,
             248,
             248,
             248,
             248
            ],
            "sizemode": "area",
            "sizeref": 0.62,
            "symbol": "circle"
           },
           "mode": "markers",
           "name": "PS",
           "orientation": "v",
           "showlegend": true,
           "type": "scatter",
           "x": [
            41,
            21,
            39,
            22,
            23,
            12,
            48,
            23,
            22,
            8,
            69,
            28
           ],
           "xaxis": "x",
           "y": [
            248,
            248,
            248,
            248,
            248,
            248,
            248,
            248,
            248,
            248,
            248,
            248
           ],
           "yaxis": "y"
          },
          {
           "hovertemplate": "<b>%{hovertext}</b><br><br>Platform=SAT<br>Year=1998<br>Number of Genres=%{x}<br>Games per Platform=%{marker.size}<extra></extra>",
=======
           "legendgroup": "N64",
           "marker": {
            "color": "#B6E880",
            "size": [
             11,
             11,
             11,
             11,
             11,
             11,
             11,
             11,
             11,
             11,
             11,
             11
            ],
            "sizemode": "area",
            "sizeref": 0.42,
            "symbol": "circle"
           },
           "mode": "markers",
           "name": "N64",
           "orientation": "v",
           "showlegend": true,
           "type": "scatter",
           "x": [
            16,
            6,
            15,
            7,
            8,
            2,
            19,
            5,
            15,
            7,
            33,
            4
           ],
           "xaxis": "x",
           "y": [
            11,
            11,
            11,
            11,
            11,
            11,
            11,
            11,
            11,
            11,
            11,
            11
           ],
           "yaxis": "y"
          }
         ],
         "name": "1996"
        },
        {
         "data": [
          {
           "hovertemplate": "<b>%{hovertext}</b><br><br>Platform=PS<br>Year=1997<br>Games per Genre=%{x}<br>Games per Platform=%{marker.size}<extra></extra>",
>>>>>>> 5e83b6f9bae3316a5a9c1bda94c007904063e79b
           "hovertext": [
            "Action",
            "Adventure",
            "Fighting",
            "Misc",
            "Platform",
            "Puzzle",
            "Racing",
            "Role-Playing",
            "Shooter",
            "Simulation",
            "Sports",
            "Strategy"
           ],
           "ids": [
            "Action",
            "Adventure",
            "Fighting",
            "Misc",
            "Platform",
            "Puzzle",
            "Racing",
            "Role-Playing",
            "Shooter",
            "Simulation",
            "Sports",
            "Strategy"
           ],
<<<<<<< HEAD
           "legendgroup": "SAT",
           "marker": {
            "color": "#FF6692",
            "size": [
             29,
             29,
             29,
             29,
             29,
             29,
             29,
             29,
             29,
             29,
             29,
             29
            ],
            "sizemode": "area",
            "sizeref": 0.62,
            "symbol": "circle"
           },
           "mode": "markers",
           "name": "SAT",
=======
           "legendgroup": "PS",
           "marker": {
            "color": "#19d3f3",
            "size": [
             134,
             134,
             134,
             134,
             134,
             134,
             134,
             134,
             134,
             134,
             134,
             134
            ],
            "sizemode": "area",
            "sizeref": 0.42,
            "symbol": "circle"
           },
           "mode": "markers",
           "name": "PS",
>>>>>>> 5e83b6f9bae3316a5a9c1bda94c007904063e79b
           "orientation": "v",
           "showlegend": true,
           "type": "scatter",
           "x": [
<<<<<<< HEAD
            41,
            21,
            39,
            22,
            23,
            12,
            48,
            23,
            22,
            8,
            69,
            28
           ],
           "xaxis": "x",
           "y": [
            29,
            29,
            29,
            29,
            29,
            29,
            29,
            29,
            29,
            29,
            29,
            29
=======
            21,
            5,
            17,
            5,
            12,
            8,
            28,
            8,
            18,
            11,
            30,
            5
           ],
           "xaxis": "x",
           "y": [
            134,
            134,
            134,
            134,
            134,
            134,
            134,
            134,
            134,
            134,
            134,
            134
>>>>>>> 5e83b6f9bae3316a5a9c1bda94c007904063e79b
           ],
           "yaxis": "y"
          },
          {
<<<<<<< HEAD
           "hovertemplate": "<b>%{hovertext}</b><br><br>Platform=N64<br>Year=1998<br>Number of Genres=%{x}<br>Games per Platform=%{marker.size}<extra></extra>",
=======
           "hovertemplate": "<b>%{hovertext}</b><br><br>Platform=N64<br>Year=1997<br>Games per Genre=%{x}<br>Games per Platform=%{marker.size}<extra></extra>",
>>>>>>> 5e83b6f9bae3316a5a9c1bda94c007904063e79b
           "hovertext": [
            "Action",
            "Adventure",
            "Fighting",
            "Misc",
            "Platform",
            "Puzzle",
            "Racing",
            "Role-Playing",
            "Shooter",
            "Simulation",
            "Sports",
            "Strategy"
           ],
           "ids": [
            "Action",
            "Adventure",
            "Fighting",
            "Misc",
            "Platform",
            "Puzzle",
            "Racing",
            "Role-Playing",
            "Shooter",
            "Simulation",
            "Sports",
            "Strategy"
           ],
           "legendgroup": "N64",
           "marker": {
            "color": "#B6E880",
            "size": [
<<<<<<< HEAD
             77,
             77,
             77,
             77,
             77,
             77,
             77,
             77,
             77,
             77,
             77,
             77
            ],
            "sizemode": "area",
            "sizeref": 0.62,
=======
             34,
             34,
             34,
             34,
             34,
             34,
             34,
             34,
             34,
             34,
             34,
             34
            ],
            "sizemode": "area",
            "sizeref": 0.42,
>>>>>>> 5e83b6f9bae3316a5a9c1bda94c007904063e79b
            "symbol": "circle"
           },
           "mode": "markers",
           "name": "N64",
           "orientation": "v",
           "showlegend": true,
           "type": "scatter",
           "x": [
<<<<<<< HEAD
            41,
            21,
            39,
            22,
            23,
            12,
            48,
            23,
            22,
            8,
            69,
            28
           ],
           "xaxis": "x",
           "y": [
            77,
            77,
            77,
            77,
            77,
            77,
            77,
            77,
            77,
            77,
            77,
            77
=======
            21,
            5,
            17,
            5,
            12,
            8,
            28,
            8,
            18,
            11,
            30,
            5
           ],
           "xaxis": "x",
           "y": [
            34,
            34,
            34,
            34,
            34,
            34,
            34,
            34,
            34,
            34,
            34,
            34
>>>>>>> 5e83b6f9bae3316a5a9c1bda94c007904063e79b
           ],
           "yaxis": "y"
          }
         ],
<<<<<<< HEAD
         "name": "1998"
=======
         "name": "1997"
>>>>>>> 5e83b6f9bae3316a5a9c1bda94c007904063e79b
        },
        {
         "data": [
          {
<<<<<<< HEAD
           "hovertemplate": "<b>%{hovertext}</b><br><br>Platform=SNES<br>Year=1999<br>Number of Genres=%{x}<br>Games per Platform=%{marker.size}<extra></extra>",
=======
           "hovertemplate": "<b>%{hovertext}</b><br><br>Platform=PS<br>Year=1998<br>Games per Genre=%{x}<br>Games per Platform=%{marker.size}<extra></extra>",
>>>>>>> 5e83b6f9bae3316a5a9c1bda94c007904063e79b
           "hovertext": [
            "Action",
            "Adventure",
            "Fighting",
            "Misc",
            "Platform",
            "Puzzle",
            "Racing",
            "Role-Playing",
            "Shooter",
            "Simulation",
            "Sports",
            "Strategy"
           ],
           "ids": [
            "Action",
            "Adventure",
            "Fighting",
            "Misc",
            "Platform",
            "Puzzle",
            "Racing",
            "Role-Playing",
            "Shooter",
            "Simulation",
            "Sports",
            "Strategy"
           ],
<<<<<<< HEAD
           "legendgroup": "SNES",
           "marker": {
            "color": "#ab63fa",
            "size": [
             1,
             1,
             1,
             1,
             1,
             1,
             1,
             1,
             1,
             1,
             1,
             1
            ],
            "sizemode": "area",
            "sizeref": 0.62,
            "symbol": "circle"
           },
           "mode": "markers",
           "name": "SNES",
=======
           "legendgroup": "PS",
           "marker": {
            "color": "#19d3f3",
            "size": [
             168,
             168,
             168,
             168,
             168,
             168,
             168,
             168,
             168,
             168,
             168,
             168
            ],
            "sizemode": "area",
            "sizeref": 0.42,
            "symbol": "circle"
           },
           "mode": "markers",
           "name": "PS",
>>>>>>> 5e83b6f9bae3316a5a9c1bda94c007904063e79b
           "orientation": "v",
           "showlegend": true,
           "type": "scatter",
           "x": [
<<<<<<< HEAD
            37,
            16,
            21,
            22,
            17,
            6,
            47,
            28,
            16,
            17,
            54,
            23
           ],
           "xaxis": "x",
           "y": [
            1,
            1,
            1,
            1,
            1,
            1,
            1,
            1,
            1,
            1,
            1,
            1
=======
            34,
            3,
            28,
            13,
            19,
            9,
            35,
            12,
            16,
            5,
            47,
            10
           ],
           "xaxis": "x",
           "y": [
            168,
            168,
            168,
            168,
            168,
            168,
            168,
            168,
            168,
            168,
            168,
            168
>>>>>>> 5e83b6f9bae3316a5a9c1bda94c007904063e79b
           ],
           "yaxis": "y"
          },
          {
<<<<<<< HEAD
           "hovertemplate": "<b>%{hovertext}</b><br><br>Platform=PS<br>Year=1999<br>Number of Genres=%{x}<br>Games per Platform=%{marker.size}<extra></extra>",
=======
           "hovertemplate": "<b>%{hovertext}</b><br><br>Platform=N64<br>Year=1998<br>Games per Genre=%{x}<br>Games per Platform=%{marker.size}<extra></extra>",
>>>>>>> 5e83b6f9bae3316a5a9c1bda94c007904063e79b
           "hovertext": [
            "Action",
            "Adventure",
            "Fighting",
            "Misc",
            "Platform",
            "Puzzle",
            "Racing",
            "Role-Playing",
            "Shooter",
            "Simulation",
            "Sports",
            "Strategy"
           ],
           "ids": [
            "Action",
            "Adventure",
            "Fighting",
            "Misc",
            "Platform",
            "Puzzle",
            "Racing",
            "Role-Playing",
            "Shooter",
            "Simulation",
            "Sports",
            "Strategy"
           ],
<<<<<<< HEAD
           "legendgroup": "PS",
           "marker": {
            "color": "#19d3f3",
            "size": [
             200,
             200,
             200,
             200,
             200,
             200,
             200,
             200,
             200,
             200,
             200,
             200
            ],
            "sizemode": "area",
            "sizeref": 0.62,
            "symbol": "circle"
           },
           "mode": "markers",
           "name": "PS",
=======
           "legendgroup": "N64",
           "marker": {
            "color": "#B6E880",
            "size": [
             63,
             63,
             63,
             63,
             63,
             63,
             63,
             63,
             63,
             63,
             63,
             63
            ],
            "sizemode": "area",
            "sizeref": 0.42,
            "symbol": "circle"
           },
           "mode": "markers",
           "name": "N64",
>>>>>>> 5e83b6f9bae3316a5a9c1bda94c007904063e79b
           "orientation": "v",
           "showlegend": true,
           "type": "scatter",
           "x": [
<<<<<<< HEAD
            37,
            16,
            21,
            22,
            17,
            6,
            47,
            28,
            16,
            17,
            54,
            23
           ],
           "xaxis": "x",
           "y": [
            200,
            200,
            200,
            200,
            200,
            200,
            200,
            200,
            200,
            200,
            200,
            200
           ],
           "yaxis": "y"
          },
          {
           "hovertemplate": "<b>%{hovertext}</b><br><br>Platform=SAT<br>Year=1999<br>Number of Genres=%{x}<br>Games per Platform=%{marker.size}<extra></extra>",
=======
            34,
            3,
            28,
            13,
            19,
            9,
            35,
            12,
            16,
            5,
            47,
            10
           ],
           "xaxis": "x",
           "y": [
            63,
            63,
            63,
            63,
            63,
            63,
            63,
            63,
            63,
            63,
            63,
            63
           ],
           "yaxis": "y"
          }
         ],
         "name": "1998"
        },
        {
         "data": [
          {
           "hovertemplate": "<b>%{hovertext}</b><br><br>Platform=PS<br>Year=1999<br>Games per Genre=%{x}<br>Games per Platform=%{marker.size}<extra></extra>",
>>>>>>> 5e83b6f9bae3316a5a9c1bda94c007904063e79b
           "hovertext": [
            "Action",
            "Adventure",
            "Fighting",
            "Misc",
            "Platform",
            "Puzzle",
            "Racing",
            "Role-Playing",
            "Shooter",
            "Simulation",
            "Sports",
            "Strategy"
           ],
           "ids": [
            "Action",
            "Adventure",
            "Fighting",
            "Misc",
            "Platform",
            "Puzzle",
            "Racing",
            "Role-Playing",
            "Shooter",
            "Simulation",
            "Sports",
            "Strategy"
           ],
<<<<<<< HEAD
           "legendgroup": "SAT",
           "marker": {
            "color": "#FF6692",
            "size": [
             1,
             1,
             1,
             1,
             1,
             1,
             1,
             1,
             1,
             1,
             1,
             1
            ],
            "sizemode": "area",
            "sizeref": 0.62,
            "symbol": "circle"
           },
           "mode": "markers",
           "name": "SAT",
=======
           "legendgroup": "PS",
           "marker": {
            "color": "#19d3f3",
            "size": [
             136,
             136,
             136,
             136,
             136,
             136,
             136,
             136,
             136,
             136,
             136,
             136
            ],
            "sizemode": "area",
            "sizeref": 0.42,
            "symbol": "circle"
           },
           "mode": "markers",
           "name": "PS",
>>>>>>> 5e83b6f9bae3316a5a9c1bda94c007904063e79b
           "orientation": "v",
           "showlegend": true,
           "type": "scatter",
           "x": [
<<<<<<< HEAD
            37,
            16,
            21,
            22,
            17,
            6,
            47,
            28,
            16,
            17,
            54,
            23
           ],
           "xaxis": "x",
           "y": [
            1,
            1,
            1,
            1,
            1,
            1,
            1,
            1,
            1,
            1,
            1,
            1
=======
            30,
            6,
            11,
            10,
            13,
            5,
            40,
            17,
            14,
            6,
            39,
            13
           ],
           "xaxis": "x",
           "y": [
            136,
            136,
            136,
            136,
            136,
            136,
            136,
            136,
            136,
            136,
            136,
            136
>>>>>>> 5e83b6f9bae3316a5a9c1bda94c007904063e79b
           ],
           "yaxis": "y"
          },
          {
<<<<<<< HEAD
           "hovertemplate": "<b>%{hovertext}</b><br><br>Platform=N64<br>Year=1999<br>Number of Genres=%{x}<br>Games per Platform=%{marker.size}<extra></extra>",
=======
           "hovertemplate": "<b>%{hovertext}</b><br><br>Platform=N64<br>Year=1999<br>Games per Genre=%{x}<br>Games per Platform=%{marker.size}<extra></extra>",
>>>>>>> 5e83b6f9bae3316a5a9c1bda94c007904063e79b
           "hovertext": [
            "Action",
            "Adventure",
            "Fighting",
            "Misc",
            "Platform",
            "Puzzle",
            "Racing",
            "Role-Playing",
            "Shooter",
            "Simulation",
            "Sports",
            "Strategy"
           ],
           "ids": [
            "Action",
            "Adventure",
            "Fighting",
            "Misc",
            "Platform",
            "Puzzle",
            "Racing",
            "Role-Playing",
            "Shooter",
            "Simulation",
            "Sports",
            "Strategy"
           ],
           "legendgroup": "N64",
           "marker": {
            "color": "#B6E880",
            "size": [
<<<<<<< HEAD
             102,
             102,
             102,
             102,
             102,
             102,
             102,
             102,
             102,
             102,
             102,
             102
            ],
            "sizemode": "area",
            "sizeref": 0.62,
=======
             68,
             68,
             68,
             68,
             68,
             68,
             68,
             68,
             68,
             68,
             68,
             68
            ],
            "sizemode": "area",
            "sizeref": 0.42,
>>>>>>> 5e83b6f9bae3316a5a9c1bda94c007904063e79b
            "symbol": "circle"
           },
           "mode": "markers",
           "name": "N64",
           "orientation": "v",
           "showlegend": true,
           "type": "scatter",
           "x": [
<<<<<<< HEAD
            37,
            16,
            21,
            22,
            17,
            6,
            47,
            28,
            16,
            17,
            54,
            23
           ],
           "xaxis": "x",
           "y": [
            102,
            102,
            102,
            102,
            102,
            102,
            102,
            102,
            102,
            102,
            102,
            102
=======
            30,
            6,
            11,
            10,
            13,
            5,
            40,
            17,
            14,
            6,
            39,
            13
           ],
           "xaxis": "x",
           "y": [
            68,
            68,
            68,
            68,
            68,
            68,
            68,
            68,
            68,
            68,
            68,
            68
>>>>>>> 5e83b6f9bae3316a5a9c1bda94c007904063e79b
           ],
           "yaxis": "y"
          }
         ],
         "name": "1999"
        },
        {
         "data": [
          {
<<<<<<< HEAD
           "hovertemplate": "<b>%{hovertext}</b><br><br>Platform=PS<br>Year=2000<br>Number of Genres=%{x}<br>Games per Platform=%{marker.size}<extra></extra>",
=======
           "hovertemplate": "<b>%{hovertext}</b><br><br>Platform=PS<br>Year=2000<br>Games per Genre=%{x}<br>Games per Platform=%{marker.size}<extra></extra>",
>>>>>>> 5e83b6f9bae3316a5a9c1bda94c007904063e79b
           "hovertext": [
            "Action",
            "Adventure",
            "Fighting",
            "Misc",
            "Platform",
            "Puzzle",
            "Racing",
            "Role-Playing",
            "Shooter",
            "Simulation",
            "Sports",
            "Strategy"
           ],
           "ids": [
            "Action",
            "Adventure",
            "Fighting",
            "Misc",
            "Platform",
            "Puzzle",
            "Racing",
            "Role-Playing",
            "Shooter",
            "Simulation",
            "Sports",
            "Strategy"
           ],
           "legendgroup": "PS",
           "marker": {
            "color": "#19d3f3",
            "size": [
<<<<<<< HEAD
             159,
             159,
             159,
             159,
             159,
             159,
             159,
             159,
             159,
             159,
             159,
             159
            ],
            "sizemode": "area",
            "sizeref": 0.62,
=======
             117,
             117,
             117,
             117,
             117,
             117,
             117,
             117,
             117,
             117,
             117,
             117
            ],
            "sizemode": "area",
            "sizeref": 0.42,
>>>>>>> 5e83b6f9bae3316a5a9c1bda94c007904063e79b
            "symbol": "circle"
           },
           "mode": "markers",
           "name": "PS",
           "orientation": "v",
           "showlegend": true,
           "type": "scatter",
           "x": [
<<<<<<< HEAD
            36,
            9,
            16,
            17,
            18,
            6,
            31,
            11,
            13,
            5,
            50,
            7
           ],
           "xaxis": "x",
           "y": [
            159,
            159,
            159,
            159,
            159,
            159,
            159,
            159,
            159,
            159,
            159,
            159
=======
            27,
            6,
            13,
            7,
            12,
            4,
            28,
            5,
            11,
            4,
            36,
            1
           ],
           "xaxis": "x",
           "y": [
            117,
            117,
            117,
            117,
            117,
            117,
            117,
            117,
            117,
            117,
            117,
            117
>>>>>>> 5e83b6f9bae3316a5a9c1bda94c007904063e79b
           ],
           "yaxis": "y"
          },
          {
<<<<<<< HEAD
           "hovertemplate": "<b>%{hovertext}</b><br><br>Platform=N64<br>Year=2000<br>Number of Genres=%{x}<br>Games per Platform=%{marker.size}<extra></extra>",
=======
           "hovertemplate": "<b>%{hovertext}</b><br><br>Platform=N64<br>Year=2000<br>Games per Genre=%{x}<br>Games per Platform=%{marker.size}<extra></extra>",
>>>>>>> 5e83b6f9bae3316a5a9c1bda94c007904063e79b
           "hovertext": [
            "Action",
            "Adventure",
            "Fighting",
            "Misc",
            "Platform",
            "Puzzle",
            "Racing",
            "Role-Playing",
            "Shooter",
            "Simulation",
            "Sports",
            "Strategy"
           ],
           "ids": [
            "Action",
            "Adventure",
            "Fighting",
            "Misc",
            "Platform",
            "Puzzle",
            "Racing",
            "Role-Playing",
            "Shooter",
            "Simulation",
            "Sports",
            "Strategy"
           ],
           "legendgroup": "N64",
           "marker": {
            "color": "#B6E880",
            "size": [
<<<<<<< HEAD
             60,
             60,
             60,
             60,
             60,
             60,
             60,
             60,
             60,
             60,
             60,
             60
            ],
            "sizemode": "area",
            "sizeref": 0.62,
=======
             37,
             37,
             37,
             37,
             37,
             37,
             37,
             37,
             37,
             37,
             37,
             37
            ],
            "sizemode": "area",
            "sizeref": 0.42,
>>>>>>> 5e83b6f9bae3316a5a9c1bda94c007904063e79b
            "symbol": "circle"
           },
           "mode": "markers",
           "name": "N64",
           "orientation": "v",
           "showlegend": true,
           "type": "scatter",
           "x": [
<<<<<<< HEAD
            36,
            9,
            16,
            17,
            18,
            6,
            31,
            11,
            13,
            5,
            50,
            7
           ],
           "xaxis": "x",
           "y": [
            60,
            60,
            60,
            60,
            60,
            60,
            60,
            60,
            60,
            60,
            60,
            60
=======
            27,
            6,
            13,
            7,
            12,
            4,
            28,
            5,
            11,
            4,
            36,
            1
           ],
           "xaxis": "x",
           "y": [
            37,
            37,
            37,
            37,
            37,
            37,
            37,
            37,
            37,
            37,
            37,
            37
>>>>>>> 5e83b6f9bae3316a5a9c1bda94c007904063e79b
           ],
           "yaxis": "y"
          }
         ],
         "name": "2000"
        },
        {
         "data": [
          {
<<<<<<< HEAD
           "hovertemplate": "<b>%{hovertext}</b><br><br>Platform=PS<br>Year=2001<br>Number of Genres=%{x}<br>Games per Platform=%{marker.size}<extra></extra>",
=======
           "hovertemplate": "<b>%{hovertext}</b><br><br>Platform=PS<br>Year=2001<br>Games per Genre=%{x}<br>Games per Platform=%{marker.size}<extra></extra>",
>>>>>>> 5e83b6f9bae3316a5a9c1bda94c007904063e79b
           "hovertext": [
            "Action",
            "Adventure",
            "Fighting",
            "Misc",
            "Platform",
            "Puzzle",
            "Racing",
            "Role-Playing",
            "Shooter",
<<<<<<< HEAD
            "Simulation",
=======
>>>>>>> 5e83b6f9bae3316a5a9c1bda94c007904063e79b
            "Sports",
            "Strategy"
           ],
           "ids": [
            "Action",
            "Adventure",
            "Fighting",
            "Misc",
            "Platform",
            "Puzzle",
            "Racing",
            "Role-Playing",
            "Shooter",
<<<<<<< HEAD
            "Simulation",
=======
>>>>>>> 5e83b6f9bae3316a5a9c1bda94c007904063e79b
            "Sports",
            "Strategy"
           ],
           "legendgroup": "PS",
           "marker": {
            "color": "#19d3f3",
            "size": [
<<<<<<< HEAD
             91,
             91,
             91,
             91,
             91,
             91,
             91,
             91,
             91,
             91,
             91,
             91
            ],
            "sizemode": "area",
            "sizeref": 0.62,
=======
             63,
             63,
             63,
             63,
             63,
             63,
             63,
             63,
             63,
             63,
             63
            ],
            "sizemode": "area",
            "sizeref": 0.42,
>>>>>>> 5e83b6f9bae3316a5a9c1bda94c007904063e79b
            "symbol": "circle"
           },
           "mode": "markers",
           "name": "PS",
           "orientation": "v",
           "showlegend": true,
           "type": "scatter",
           "x": [
<<<<<<< HEAD
            19,
            7,
            4,
            3,
            7,
            3,
            11,
            8,
            8,
            3,
            24,
            3
           ],
           "xaxis": "x",
           "y": [
            91,
            91,
            91,
            91,
            91,
            91,
            91,
            91,
            91,
            91,
            91,
            91
=======
            16,
            5,
            2,
            1,
            3,
            3,
            8,
            3,
            7,
            18,
            1
           ],
           "xaxis": "x",
           "y": [
            63,
            63,
            63,
            63,
            63,
            63,
            63,
            63,
            63,
            63,
            63
>>>>>>> 5e83b6f9bae3316a5a9c1bda94c007904063e79b
           ],
           "yaxis": "y"
          },
          {
<<<<<<< HEAD
           "hovertemplate": "<b>%{hovertext}</b><br><br>Platform=N64<br>Year=2001<br>Number of Genres=%{x}<br>Games per Platform=%{marker.size}<extra></extra>",
=======
           "hovertemplate": "<b>%{hovertext}</b><br><br>Platform=N64<br>Year=2001<br>Games per Genre=%{x}<br>Games per Platform=%{marker.size}<extra></extra>",
>>>>>>> 5e83b6f9bae3316a5a9c1bda94c007904063e79b
           "hovertext": [
            "Action",
            "Adventure",
            "Fighting",
            "Misc",
            "Platform",
            "Puzzle",
            "Racing",
            "Role-Playing",
            "Shooter",
<<<<<<< HEAD
            "Simulation",
=======
>>>>>>> 5e83b6f9bae3316a5a9c1bda94c007904063e79b
            "Sports",
            "Strategy"
           ],
           "ids": [
            "Action",
            "Adventure",
            "Fighting",
            "Misc",
            "Platform",
            "Puzzle",
            "Racing",
            "Role-Playing",
            "Shooter",
<<<<<<< HEAD
            "Simulation",
=======
>>>>>>> 5e83b6f9bae3316a5a9c1bda94c007904063e79b
            "Sports",
            "Strategy"
           ],
           "legendgroup": "N64",
           "marker": {
            "color": "#B6E880",
            "size": [
<<<<<<< HEAD
             9,
             9,
             9,
             9,
             9,
             9,
             9,
             9,
             9,
             9,
             9,
             9
            ],
            "sizemode": "area",
            "sizeref": 0.62,
=======
             4,
             4,
             4,
             4,
             4,
             4,
             4,
             4,
             4,
             4,
             4
            ],
            "sizemode": "area",
            "sizeref": 0.42,
>>>>>>> 5e83b6f9bae3316a5a9c1bda94c007904063e79b
            "symbol": "circle"
           },
           "mode": "markers",
           "name": "N64",
           "orientation": "v",
           "showlegend": true,
           "type": "scatter",
           "x": [
<<<<<<< HEAD
            19,
            7,
            4,
            3,
            7,
            3,
            11,
            8,
            8,
            3,
            24,
            3
           ],
           "xaxis": "x",
           "y": [
            9,
            9,
            9,
            9,
            9,
            9,
            9,
            9,
            9,
            9,
            9,
            9
=======
            16,
            5,
            2,
            1,
            3,
            3,
            8,
            3,
            7,
            18,
            1
           ],
           "xaxis": "x",
           "y": [
            4,
            4,
            4,
            4,
            4,
            4,
            4,
            4,
            4,
            4,
            4
>>>>>>> 5e83b6f9bae3316a5a9c1bda94c007904063e79b
           ],
           "yaxis": "y"
          }
         ],
         "name": "2001"
        },
        {
         "data": [
          {
<<<<<<< HEAD
           "hovertemplate": "<b>%{hovertext}</b><br><br>Platform=PS<br>Year=2002<br>Number of Genres=%{x}<br>Games per Platform=%{marker.size}<extra></extra>",
           "hovertext": [
            "Action",
            "Adventure",
            "Fighting",
            "Platform",
            "Racing",
            "Role-Playing",
            "Shooter",
            "Simulation",
=======
           "hovertemplate": "<b>%{hovertext}</b><br><br>Platform=PS<br>Year=2002<br>Games per Genre=%{x}<br>Games per Platform=%{marker.size}<extra></extra>",
           "hovertext": [
            "Action",
            "Fighting",
            "Racing",
            "Shooter",
>>>>>>> 5e83b6f9bae3316a5a9c1bda94c007904063e79b
            "Sports"
           ],
           "ids": [
            "Action",
<<<<<<< HEAD
            "Adventure",
            "Fighting",
            "Platform",
            "Racing",
            "Role-Playing",
            "Shooter",
            "Simulation",
=======
            "Fighting",
            "Racing",
            "Shooter",
>>>>>>> 5e83b6f9bae3316a5a9c1bda94c007904063e79b
            "Sports"
           ],
           "legendgroup": "PS",
           "marker": {
            "color": "#19d3f3",
            "size": [
<<<<<<< HEAD
             20,
             20,
             20,
             20,
             20,
             20,
             20,
             20,
             20
            ],
            "sizemode": "area",
            "sizeref": 0.62,
=======
             5,
             5,
             5,
             5,
             5
            ],
            "sizemode": "area",
            "sizeref": 0.42,
>>>>>>> 5e83b6f9bae3316a5a9c1bda94c007904063e79b
            "symbol": "circle"
           },
           "mode": "markers",
           "name": "PS",
           "orientation": "v",
           "showlegend": true,
           "type": "scatter",
           "x": [
<<<<<<< HEAD
            5,
            2,
            3,
            2,
            1,
            2,
            1,
            1,
            4
           ],
           "xaxis": "x",
           "y": [
            20,
            20,
            20,
            20,
            20,
            20,
            20,
            20,
            20
=======
            2,
            1,
            1,
            1,
            1
           ],
           "xaxis": "x",
           "y": [
            5,
            5,
            5,
            5,
            5
>>>>>>> 5e83b6f9bae3316a5a9c1bda94c007904063e79b
           ],
           "yaxis": "y"
          },
          {
<<<<<<< HEAD
           "hovertemplate": "<b>%{hovertext}</b><br><br>Platform=N64<br>Year=2002<br>Number of Genres=%{x}<br>Games per Platform=%{marker.size}<extra></extra>",
           "hovertext": [
            "Action",
            "Adventure",
            "Fighting",
            "Platform",
            "Racing",
            "Role-Playing",
            "Shooter",
            "Simulation",
=======
           "hovertemplate": "<b>%{hovertext}</b><br><br>Platform=N64<br>Year=2002<br>Games per Genre=%{x}<br>Games per Platform=%{marker.size}<extra></extra>",
           "hovertext": [
            "Action",
            "Fighting",
            "Racing",
            "Shooter",
>>>>>>> 5e83b6f9bae3316a5a9c1bda94c007904063e79b
            "Sports"
           ],
           "ids": [
            "Action",
<<<<<<< HEAD
            "Adventure",
            "Fighting",
            "Platform",
            "Racing",
            "Role-Playing",
            "Shooter",
            "Simulation",
=======
            "Fighting",
            "Racing",
            "Shooter",
>>>>>>> 5e83b6f9bae3316a5a9c1bda94c007904063e79b
            "Sports"
           ],
           "legendgroup": "N64",
           "marker": {
            "color": "#B6E880",
            "size": [
             1,
             1,
             1,
             1,
<<<<<<< HEAD
             1,
             1,
             1,
             1,
             1
            ],
            "sizemode": "area",
            "sizeref": 0.62,
=======
             1
            ],
            "sizemode": "area",
            "sizeref": 0.42,
>>>>>>> 5e83b6f9bae3316a5a9c1bda94c007904063e79b
            "symbol": "circle"
           },
           "mode": "markers",
           "name": "N64",
           "orientation": "v",
           "showlegend": true,
           "type": "scatter",
           "x": [
<<<<<<< HEAD
            5,
            2,
            3,
            2,
            1,
            2,
            1,
            1,
            4
=======
            2,
            1,
            1,
            1,
            1
>>>>>>> 5e83b6f9bae3316a5a9c1bda94c007904063e79b
           ],
           "xaxis": "x",
           "y": [
            1,
            1,
            1,
            1,
<<<<<<< HEAD
            1,
            1,
            1,
            1,
=======
>>>>>>> 5e83b6f9bae3316a5a9c1bda94c007904063e79b
            1
           ],
           "yaxis": "y"
          }
         ],
         "name": "2002"
        },
        {
         "data": [
          {
<<<<<<< HEAD
           "hovertemplate": "<b>%{hovertext}</b><br><br>Platform=SNES<br>Year=1995<br>Number of Genres=%{x}<br>Games per Platform=%{marker.size}<extra></extra>",
=======
           "hovertemplate": "<b>%{hovertext}</b><br><br>Platform=SNES<br>Year=1995<br>Games per Genre=%{x}<br>Games per Platform=%{marker.size}<extra></extra>",
>>>>>>> 5e83b6f9bae3316a5a9c1bda94c007904063e79b
           "hovertext": [
            "Action",
            "Adventure",
            "Fighting",
            "Misc",
            "Platform",
            "Puzzle",
            "Racing",
            "Role-Playing",
            "Shooter",
            "Simulation",
            "Sports",
            "Strategy"
           ],
           "ids": [
            "Action",
            "Adventure",
            "Fighting",
            "Misc",
            "Platform",
            "Puzzle",
            "Racing",
            "Role-Playing",
            "Shooter",
            "Simulation",
            "Sports",
            "Strategy"
           ],
           "legendgroup": "SNES",
           "marker": {
            "color": "#ab63fa",
            "size": [
<<<<<<< HEAD
             54,
             54,
             54,
             54,
             54,
             54,
             54,
             54,
             54,
             54,
             54,
             54
            ],
            "sizemode": "area",
            "sizeref": 0.62,
=======
             6,
             6,
             6,
             6,
             6,
             6,
             6,
             6,
             6,
             6,
             6,
             6
            ],
            "sizemode": "area",
            "sizeref": 0.42,
>>>>>>> 5e83b6f9bae3316a5a9c1bda94c007904063e79b
            "symbol": "circle"
           },
           "mode": "markers",
           "name": "SNES",
           "orientation": "v",
           "showlegend": true,
           "type": "scatter",
           "x": [
<<<<<<< HEAD
            8,
            11,
            26,
            20,
            12,
            10,
            12,
            24,
            28,
            13,
            28,
            13
           ],
           "xaxis": "x",
           "y": [
            54,
            54,
            54,
            54,
            54,
            54,
            54,
            54,
            54,
            54,
            54,
            54
=======
            5,
            2,
            14,
            2,
            6,
            4,
            9,
            6,
            15,
            8,
            9,
            4
           ],
           "xaxis": "x",
           "y": [
            6,
            6,
            6,
            6,
            6,
            6,
            6,
            6,
            6,
            6,
            6,
            6
>>>>>>> 5e83b6f9bae3316a5a9c1bda94c007904063e79b
           ],
           "yaxis": "y"
          },
          {
<<<<<<< HEAD
           "hovertemplate": "<b>%{hovertext}</b><br><br>Platform=PS<br>Year=1995<br>Number of Genres=%{x}<br>Games per Platform=%{marker.size}<extra></extra>",
=======
           "hovertemplate": "<b>%{hovertext}</b><br><br>Platform=PS<br>Year=1995<br>Games per Genre=%{x}<br>Games per Platform=%{marker.size}<extra></extra>",
>>>>>>> 5e83b6f9bae3316a5a9c1bda94c007904063e79b
           "hovertext": [
            "Action",
            "Adventure",
            "Fighting",
            "Misc",
            "Platform",
            "Puzzle",
            "Racing",
            "Role-Playing",
            "Shooter",
            "Simulation",
            "Sports",
            "Strategy"
           ],
           "ids": [
            "Action",
            "Adventure",
            "Fighting",
            "Misc",
            "Platform",
            "Puzzle",
            "Racing",
            "Role-Playing",
            "Shooter",
            "Simulation",
            "Sports",
            "Strategy"
           ],
           "legendgroup": "PS",
           "marker": {
            "color": "#19d3f3",
            "size": [
<<<<<<< HEAD
             99,
             99,
             99,
             99,
             99,
             99,
             99,
             99,
             99,
             99,
             99,
             99
            ],
            "sizemode": "area",
            "sizeref": 0.62,
=======
             59,
             59,
             59,
             59,
             59,
             59,
             59,
             59,
             59,
             59,
             59,
             59
            ],
            "sizemode": "area",
            "sizeref": 0.42,
>>>>>>> 5e83b6f9bae3316a5a9c1bda94c007904063e79b
            "symbol": "circle"
           },
           "mode": "markers",
           "name": "PS",
           "orientation": "v",
           "showlegend": true,
           "type": "scatter",
           "x": [
<<<<<<< HEAD
            8,
            11,
            26,
            20,
            12,
            10,
            12,
            24,
            28,
            13,
            28,
            13
           ],
           "xaxis": "x",
           "y": [
            99,
            99,
            99,
            99,
            99,
            99,
            99,
            99,
            99,
            99,
            99,
            99
=======
            5,
            2,
            14,
            2,
            6,
            4,
            9,
            6,
            15,
            8,
            9,
            4
           ],
           "xaxis": "x",
           "y": [
            59,
            59,
            59,
            59,
            59,
            59,
            59,
            59,
            59,
            59,
            59,
            59
>>>>>>> 5e83b6f9bae3316a5a9c1bda94c007904063e79b
           ],
           "yaxis": "y"
          },
          {
<<<<<<< HEAD
           "hovertemplate": "<b>%{hovertext}</b><br><br>Platform=SAT<br>Year=1995<br>Number of Genres=%{x}<br>Games per Platform=%{marker.size}<extra></extra>",
=======
           "hovertemplate": "<b>%{hovertext}</b><br><br>Platform=SAT<br>Year=1995<br>Games per Genre=%{x}<br>Games per Platform=%{marker.size}<extra></extra>",
>>>>>>> 5e83b6f9bae3316a5a9c1bda94c007904063e79b
           "hovertext": [
            "Action",
            "Adventure",
            "Fighting",
            "Misc",
            "Platform",
            "Puzzle",
            "Racing",
            "Role-Playing",
            "Shooter",
            "Simulation",
            "Sports",
            "Strategy"
           ],
           "ids": [
            "Action",
            "Adventure",
            "Fighting",
            "Misc",
            "Platform",
            "Puzzle",
            "Racing",
            "Role-Playing",
            "Shooter",
            "Simulation",
            "Sports",
            "Strategy"
           ],
           "legendgroup": "SAT",
           "marker": {
            "color": "#FF6692",
            "size": [
<<<<<<< HEAD
             52,
             52,
             52,
             52,
             52,
             52,
             52,
             52,
             52,
             52,
             52,
             52
            ],
            "sizemode": "area",
            "sizeref": 0.62,
=======
             19,
             19,
             19,
             19,
             19,
             19,
             19,
             19,
             19,
             19,
             19,
             19
            ],
            "sizemode": "area",
            "sizeref": 0.42,
>>>>>>> 5e83b6f9bae3316a5a9c1bda94c007904063e79b
            "symbol": "circle"
           },
           "mode": "markers",
           "name": "SAT",
           "orientation": "v",
           "showlegend": true,
           "type": "scatter",
           "x": [
<<<<<<< HEAD
            8,
            11,
            26,
            20,
            12,
            10,
            12,
            24,
            28,
            13,
            28,
            13
           ],
           "xaxis": "x",
           "y": [
            52,
            52,
            52,
            52,
            52,
            52,
            52,
            52,
            52,
            52,
            52,
            52
=======
            5,
            2,
            14,
            2,
            6,
            4,
            9,
            6,
            15,
            8,
            9,
            4
           ],
           "xaxis": "x",
           "y": [
            19,
            19,
            19,
            19,
            19,
            19,
            19,
            19,
            19,
            19,
            19,
            19
>>>>>>> 5e83b6f9bae3316a5a9c1bda94c007904063e79b
           ],
           "yaxis": "y"
          }
         ],
         "name": "1995"
        },
        {
         "data": [
          {
<<<<<<< HEAD
           "hovertemplate": "<b>%{hovertext}</b><br><br>Platform=PS<br>Year=2003<br>Number of Genres=%{x}<br>Games per Platform=%{marker.size}<extra></extra>",
           "hovertext": [
            "Misc",
            "Sports"
           ],
           "ids": [
            "Misc",
=======
           "hovertemplate": "<b>%{hovertext}</b><br><br>Platform=PS<br>Year=2003<br>Games per Genre=%{x}<br>Games per Platform=%{marker.size}<extra></extra>",
           "hovertext": [
            "Sports"
           ],
           "ids": [
>>>>>>> 5e83b6f9bae3316a5a9c1bda94c007904063e79b
            "Sports"
           ],
           "legendgroup": "PS",
           "marker": {
            "color": "#19d3f3",
            "size": [
<<<<<<< HEAD
             3,
             3
            ],
            "sizemode": "area",
            "sizeref": 0.62,
=======
             1
            ],
            "sizemode": "area",
            "sizeref": 0.42,
>>>>>>> 5e83b6f9bae3316a5a9c1bda94c007904063e79b
            "symbol": "circle"
           },
           "mode": "markers",
           "name": "PS",
           "orientation": "v",
           "showlegend": true,
           "type": "scatter",
           "x": [
<<<<<<< HEAD
            2,
=======
>>>>>>> 5e83b6f9bae3316a5a9c1bda94c007904063e79b
            1
           ],
           "xaxis": "x",
           "y": [
<<<<<<< HEAD
            3,
            3
=======
            1
>>>>>>> 5e83b6f9bae3316a5a9c1bda94c007904063e79b
           ],
           "yaxis": "y"
          }
         ],
         "name": "2003"
        }
       ],
       "layout": {
        "legend": {
         "itemsizing": "constant",
         "title": {
          "text": "Platform"
         },
         "tracegroupgap": 0
        },
        "margin": {
         "t": 60
        },
        "sliders": [
         {
          "active": 0,
          "currentvalue": {
           "prefix": "Year="
          },
          "len": 0.9,
          "pad": {
           "b": 10,
           "t": 60
          },
          "steps": [
           {
            "args": [
             [
              "1980"
             ],
             {
              "frame": {
               "duration": 0,
               "redraw": false
              },
              "fromcurrent": true,
              "mode": "immediate",
              "transition": {
               "duration": 0,
               "easing": "linear"
              }
             }
            ],
            "label": "1980",
            "method": "animate"
           },
           {
            "args": [
             [
              "1981"
             ],
             {
              "frame": {
               "duration": 0,
               "redraw": false
              },
              "fromcurrent": true,
              "mode": "immediate",
              "transition": {
               "duration": 0,
               "easing": "linear"
              }
             }
            ],
            "label": "1981",
            "method": "animate"
           },
           {
            "args": [
             [
              "1982"
             ],
             {
              "frame": {
               "duration": 0,
               "redraw": false
              },
              "fromcurrent": true,
              "mode": "immediate",
              "transition": {
               "duration": 0,
               "easing": "linear"
              }
             }
            ],
            "label": "1982",
            "method": "animate"
           },
           {
            "args": [
             [
              "1983"
             ],
             {
              "frame": {
               "duration": 0,
               "redraw": false
              },
              "fromcurrent": true,
              "mode": "immediate",
              "transition": {
               "duration": 0,
               "easing": "linear"
              }
             }
            ],
            "label": "1983",
            "method": "animate"
           },
           {
            "args": [
             [
              "1984"
             ],
             {
              "frame": {
               "duration": 0,
               "redraw": false
              },
              "fromcurrent": true,
              "mode": "immediate",
              "transition": {
               "duration": 0,
               "easing": "linear"
              }
             }
            ],
            "label": "1984",
            "method": "animate"
           },
           {
            "args": [
             [
              "1985"
             ],
             {
              "frame": {
               "duration": 0,
               "redraw": false
              },
              "fromcurrent": true,
              "mode": "immediate",
              "transition": {
               "duration": 0,
               "easing": "linear"
              }
             }
            ],
            "label": "1985",
            "method": "animate"
           },
           {
            "args": [
             [
              "1986"
             ],
             {
              "frame": {
               "duration": 0,
               "redraw": false
              },
              "fromcurrent": true,
              "mode": "immediate",
              "transition": {
               "duration": 0,
               "easing": "linear"
              }
             }
            ],
            "label": "1986",
            "method": "animate"
           },
           {
            "args": [
             [
              "1987"
             ],
             {
              "frame": {
               "duration": 0,
               "redraw": false
              },
              "fromcurrent": true,
              "mode": "immediate",
              "transition": {
               "duration": 0,
               "easing": "linear"
              }
             }
            ],
            "label": "1987",
            "method": "animate"
           },
           {
            "args": [
             [
              "1988"
             ],
             {
              "frame": {
               "duration": 0,
               "redraw": false
              },
              "fromcurrent": true,
              "mode": "immediate",
              "transition": {
               "duration": 0,
               "easing": "linear"
              }
             }
            ],
            "label": "1988",
            "method": "animate"
           },
           {
            "args": [
             [
              "1989"
             ],
             {
              "frame": {
               "duration": 0,
               "redraw": false
              },
              "fromcurrent": true,
              "mode": "immediate",
              "transition": {
               "duration": 0,
               "easing": "linear"
              }
             }
            ],
            "label": "1989",
            "method": "animate"
           },
           {
            "args": [
             [
              "1990"
             ],
             {
              "frame": {
               "duration": 0,
               "redraw": false
              },
              "fromcurrent": true,
              "mode": "immediate",
              "transition": {
               "duration": 0,
               "easing": "linear"
              }
             }
            ],
            "label": "1990",
            "method": "animate"
           },
           {
            "args": [
             [
              "1991"
             ],
             {
              "frame": {
               "duration": 0,
               "redraw": false
              },
              "fromcurrent": true,
              "mode": "immediate",
              "transition": {
               "duration": 0,
               "easing": "linear"
              }
             }
            ],
            "label": "1991",
            "method": "animate"
           },
           {
            "args": [
             [
              "1992"
             ],
             {
              "frame": {
               "duration": 0,
               "redraw": false
              },
              "fromcurrent": true,
              "mode": "immediate",
              "transition": {
               "duration": 0,
               "easing": "linear"
              }
             }
            ],
            "label": "1992",
            "method": "animate"
           },
           {
            "args": [
             [
              "1993"
             ],
             {
              "frame": {
               "duration": 0,
               "redraw": false
              },
              "fromcurrent": true,
              "mode": "immediate",
              "transition": {
               "duration": 0,
               "easing": "linear"
              }
             }
            ],
            "label": "1993",
            "method": "animate"
           },
           {
            "args": [
             [
              "1994"
             ],
             {
              "frame": {
               "duration": 0,
               "redraw": false
              },
              "fromcurrent": true,
              "mode": "immediate",
              "transition": {
               "duration": 0,
               "easing": "linear"
              }
             }
            ],
            "label": "1994",
            "method": "animate"
           },
           {
            "args": [
             [
              "1996"
             ],
             {
              "frame": {
               "duration": 0,
               "redraw": false
              },
              "fromcurrent": true,
              "mode": "immediate",
              "transition": {
               "duration": 0,
               "easing": "linear"
              }
             }
            ],
            "label": "1996",
            "method": "animate"
           },
           {
            "args": [
             [
              "1997"
             ],
             {
              "frame": {
               "duration": 0,
               "redraw": false
              },
              "fromcurrent": true,
              "mode": "immediate",
              "transition": {
               "duration": 0,
               "easing": "linear"
              }
             }
            ],
            "label": "1997",
            "method": "animate"
           },
           {
            "args": [
             [
              "1998"
             ],
             {
              "frame": {
               "duration": 0,
               "redraw": false
              },
              "fromcurrent": true,
              "mode": "immediate",
              "transition": {
               "duration": 0,
               "easing": "linear"
              }
             }
            ],
            "label": "1998",
            "method": "animate"
           },
           {
            "args": [
             [
              "1999"
             ],
             {
              "frame": {
               "duration": 0,
               "redraw": false
              },
              "fromcurrent": true,
              "mode": "immediate",
              "transition": {
               "duration": 0,
               "easing": "linear"
              }
             }
            ],
            "label": "1999",
            "method": "animate"
           },
           {
            "args": [
             [
              "2000"
             ],
             {
              "frame": {
               "duration": 0,
               "redraw": false
              },
              "fromcurrent": true,
              "mode": "immediate",
              "transition": {
               "duration": 0,
               "easing": "linear"
              }
             }
            ],
            "label": "2000",
            "method": "animate"
           },
           {
            "args": [
             [
              "2001"
             ],
             {
              "frame": {
               "duration": 0,
               "redraw": false
              },
              "fromcurrent": true,
              "mode": "immediate",
              "transition": {
               "duration": 0,
               "easing": "linear"
              }
             }
            ],
            "label": "2001",
            "method": "animate"
           },
           {
            "args": [
             [
              "2002"
             ],
             {
              "frame": {
               "duration": 0,
               "redraw": false
              },
              "fromcurrent": true,
              "mode": "immediate",
              "transition": {
               "duration": 0,
               "easing": "linear"
              }
             }
            ],
            "label": "2002",
            "method": "animate"
           },
           {
            "args": [
             [
              "1995"
             ],
             {
              "frame": {
               "duration": 0,
               "redraw": false
              },
              "fromcurrent": true,
              "mode": "immediate",
              "transition": {
               "duration": 0,
               "easing": "linear"
              }
             }
            ],
            "label": "1995",
            "method": "animate"
           },
           {
            "args": [
             [
              "2003"
             ],
             {
              "frame": {
               "duration": 0,
               "redraw": false
              },
              "fromcurrent": true,
              "mode": "immediate",
              "transition": {
               "duration": 0,
               "easing": "linear"
              }
             }
            ],
            "label": "2003",
            "method": "animate"
           }
          ],
          "x": 0.1,
          "xanchor": "left",
          "y": 0,
          "yanchor": "top"
         }
        ],
        "template": {
         "data": {
          "bar": [
           {
            "error_x": {
             "color": "#2a3f5f"
            },
            "error_y": {
             "color": "#2a3f5f"
            },
            "marker": {
             "line": {
              "color": "#E5ECF6",
              "width": 0.5
             }
            },
            "type": "bar"
           }
          ],
          "barpolar": [
           {
            "marker": {
             "line": {
              "color": "#E5ECF6",
              "width": 0.5
             }
            },
            "type": "barpolar"
           }
          ],
          "carpet": [
           {
            "aaxis": {
             "endlinecolor": "#2a3f5f",
             "gridcolor": "white",
             "linecolor": "white",
             "minorgridcolor": "white",
             "startlinecolor": "#2a3f5f"
            },
            "baxis": {
             "endlinecolor": "#2a3f5f",
             "gridcolor": "white",
             "linecolor": "white",
             "minorgridcolor": "white",
             "startlinecolor": "#2a3f5f"
            },
            "type": "carpet"
           }
          ],
          "choropleth": [
           {
            "colorbar": {
             "outlinewidth": 0,
             "ticks": ""
            },
            "type": "choropleth"
           }
          ],
          "contour": [
           {
            "colorbar": {
             "outlinewidth": 0,
             "ticks": ""
            },
            "colorscale": [
             [
              0,
              "#0d0887"
             ],
             [
              0.1111111111111111,
              "#46039f"
             ],
             [
              0.2222222222222222,
              "#7201a8"
             ],
             [
              0.3333333333333333,
              "#9c179e"
             ],
             [
              0.4444444444444444,
              "#bd3786"
             ],
             [
              0.5555555555555556,
              "#d8576b"
             ],
             [
              0.6666666666666666,
              "#ed7953"
             ],
             [
              0.7777777777777778,
              "#fb9f3a"
             ],
             [
              0.8888888888888888,
              "#fdca26"
             ],
             [
              1,
              "#f0f921"
             ]
            ],
            "type": "contour"
           }
          ],
          "contourcarpet": [
           {
            "colorbar": {
             "outlinewidth": 0,
             "ticks": ""
            },
            "type": "contourcarpet"
           }
          ],
          "heatmap": [
           {
            "colorbar": {
             "outlinewidth": 0,
             "ticks": ""
            },
            "colorscale": [
             [
              0,
              "#0d0887"
             ],
             [
              0.1111111111111111,
              "#46039f"
             ],
             [
              0.2222222222222222,
              "#7201a8"
             ],
             [
              0.3333333333333333,
              "#9c179e"
             ],
             [
              0.4444444444444444,
              "#bd3786"
             ],
             [
              0.5555555555555556,
              "#d8576b"
             ],
             [
              0.6666666666666666,
              "#ed7953"
             ],
             [
              0.7777777777777778,
              "#fb9f3a"
             ],
             [
              0.8888888888888888,
              "#fdca26"
             ],
             [
              1,
              "#f0f921"
             ]
            ],
            "type": "heatmap"
           }
          ],
          "heatmapgl": [
           {
            "colorbar": {
             "outlinewidth": 0,
             "ticks": ""
            },
            "colorscale": [
             [
              0,
              "#0d0887"
             ],
             [
              0.1111111111111111,
              "#46039f"
             ],
             [
              0.2222222222222222,
              "#7201a8"
             ],
             [
              0.3333333333333333,
              "#9c179e"
             ],
             [
              0.4444444444444444,
              "#bd3786"
             ],
             [
              0.5555555555555556,
              "#d8576b"
             ],
             [
              0.6666666666666666,
              "#ed7953"
             ],
             [
              0.7777777777777778,
              "#fb9f3a"
             ],
             [
              0.8888888888888888,
              "#fdca26"
             ],
             [
              1,
              "#f0f921"
             ]
            ],
            "type": "heatmapgl"
           }
          ],
          "histogram": [
           {
            "marker": {
             "colorbar": {
              "outlinewidth": 0,
              "ticks": ""
             }
            },
            "type": "histogram"
           }
          ],
          "histogram2d": [
           {
            "colorbar": {
             "outlinewidth": 0,
             "ticks": ""
            },
            "colorscale": [
             [
              0,
              "#0d0887"
             ],
             [
              0.1111111111111111,
              "#46039f"
             ],
             [
              0.2222222222222222,
              "#7201a8"
             ],
             [
              0.3333333333333333,
              "#9c179e"
             ],
             [
              0.4444444444444444,
              "#bd3786"
             ],
             [
              0.5555555555555556,
              "#d8576b"
             ],
             [
              0.6666666666666666,
              "#ed7953"
             ],
             [
              0.7777777777777778,
              "#fb9f3a"
             ],
             [
              0.8888888888888888,
              "#fdca26"
             ],
             [
              1,
              "#f0f921"
             ]
            ],
            "type": "histogram2d"
           }
          ],
          "histogram2dcontour": [
           {
            "colorbar": {
             "outlinewidth": 0,
             "ticks": ""
            },
            "colorscale": [
             [
              0,
              "#0d0887"
             ],
             [
              0.1111111111111111,
              "#46039f"
             ],
             [
              0.2222222222222222,
              "#7201a8"
             ],
             [
              0.3333333333333333,
              "#9c179e"
             ],
             [
              0.4444444444444444,
              "#bd3786"
             ],
             [
              0.5555555555555556,
              "#d8576b"
             ],
             [
              0.6666666666666666,
              "#ed7953"
             ],
             [
              0.7777777777777778,
              "#fb9f3a"
             ],
             [
              0.8888888888888888,
              "#fdca26"
             ],
             [
              1,
              "#f0f921"
             ]
            ],
            "type": "histogram2dcontour"
           }
          ],
          "mesh3d": [
           {
            "colorbar": {
             "outlinewidth": 0,
             "ticks": ""
            },
            "type": "mesh3d"
           }
          ],
          "parcoords": [
           {
            "line": {
             "colorbar": {
              "outlinewidth": 0,
              "ticks": ""
             }
            },
            "type": "parcoords"
           }
          ],
          "pie": [
           {
            "automargin": true,
            "type": "pie"
           }
          ],
          "scatter": [
           {
            "marker": {
             "colorbar": {
              "outlinewidth": 0,
              "ticks": ""
             }
            },
            "type": "scatter"
           }
          ],
          "scatter3d": [
           {
            "line": {
             "colorbar": {
              "outlinewidth": 0,
              "ticks": ""
             }
            },
            "marker": {
             "colorbar": {
              "outlinewidth": 0,
              "ticks": ""
             }
            },
            "type": "scatter3d"
           }
          ],
          "scattercarpet": [
           {
            "marker": {
             "colorbar": {
              "outlinewidth": 0,
              "ticks": ""
             }
            },
            "type": "scattercarpet"
           }
          ],
          "scattergeo": [
           {
            "marker": {
             "colorbar": {
              "outlinewidth": 0,
              "ticks": ""
             }
            },
            "type": "scattergeo"
           }
          ],
          "scattergl": [
           {
            "marker": {
             "colorbar": {
              "outlinewidth": 0,
              "ticks": ""
             }
            },
            "type": "scattergl"
           }
          ],
          "scattermapbox": [
           {
            "marker": {
             "colorbar": {
              "outlinewidth": 0,
              "ticks": ""
             }
            },
            "type": "scattermapbox"
           }
          ],
          "scatterpolar": [
           {
            "marker": {
             "colorbar": {
              "outlinewidth": 0,
              "ticks": ""
             }
            },
            "type": "scatterpolar"
           }
          ],
          "scatterpolargl": [
           {
            "marker": {
             "colorbar": {
              "outlinewidth": 0,
              "ticks": ""
             }
            },
            "type": "scatterpolargl"
           }
          ],
          "scatterternary": [
           {
            "marker": {
             "colorbar": {
              "outlinewidth": 0,
              "ticks": ""
             }
            },
            "type": "scatterternary"
           }
          ],
          "surface": [
           {
            "colorbar": {
             "outlinewidth": 0,
             "ticks": ""
            },
            "colorscale": [
             [
              0,
              "#0d0887"
             ],
             [
              0.1111111111111111,
              "#46039f"
             ],
             [
              0.2222222222222222,
              "#7201a8"
             ],
             [
              0.3333333333333333,
              "#9c179e"
             ],
             [
              0.4444444444444444,
              "#bd3786"
             ],
             [
              0.5555555555555556,
              "#d8576b"
             ],
             [
              0.6666666666666666,
              "#ed7953"
             ],
             [
              0.7777777777777778,
              "#fb9f3a"
             ],
             [
              0.8888888888888888,
              "#fdca26"
             ],
             [
              1,
              "#f0f921"
             ]
            ],
            "type": "surface"
           }
          ],
          "table": [
           {
            "cells": {
             "fill": {
              "color": "#EBF0F8"
             },
             "line": {
              "color": "white"
             }
            },
            "header": {
             "fill": {
              "color": "#C8D4E3"
             },
             "line": {
              "color": "white"
             }
            },
            "type": "table"
           }
          ]
         },
         "layout": {
          "annotationdefaults": {
           "arrowcolor": "#2a3f5f",
           "arrowhead": 0,
           "arrowwidth": 1
          },
          "coloraxis": {
           "colorbar": {
            "outlinewidth": 0,
            "ticks": ""
           }
          },
          "colorscale": {
           "diverging": [
            [
             0,
             "#8e0152"
            ],
            [
             0.1,
             "#c51b7d"
            ],
            [
             0.2,
             "#de77ae"
            ],
            [
             0.3,
             "#f1b6da"
            ],
            [
             0.4,
             "#fde0ef"
            ],
            [
             0.5,
             "#f7f7f7"
            ],
            [
             0.6,
             "#e6f5d0"
            ],
            [
             0.7,
             "#b8e186"
            ],
            [
             0.8,
             "#7fbc41"
            ],
            [
             0.9,
             "#4d9221"
            ],
            [
             1,
             "#276419"
            ]
           ],
           "sequential": [
            [
             0,
             "#0d0887"
            ],
            [
             0.1111111111111111,
             "#46039f"
            ],
            [
             0.2222222222222222,
             "#7201a8"
            ],
            [
             0.3333333333333333,
             "#9c179e"
            ],
            [
             0.4444444444444444,
             "#bd3786"
            ],
            [
             0.5555555555555556,
             "#d8576b"
            ],
            [
             0.6666666666666666,
             "#ed7953"
            ],
            [
             0.7777777777777778,
             "#fb9f3a"
            ],
            [
             0.8888888888888888,
             "#fdca26"
            ],
            [
             1,
             "#f0f921"
            ]
           ],
           "sequentialminus": [
            [
             0,
             "#0d0887"
            ],
            [
             0.1111111111111111,
             "#46039f"
            ],
            [
             0.2222222222222222,
             "#7201a8"
            ],
            [
             0.3333333333333333,
             "#9c179e"
            ],
            [
             0.4444444444444444,
             "#bd3786"
            ],
            [
             0.5555555555555556,
             "#d8576b"
            ],
            [
             0.6666666666666666,
             "#ed7953"
            ],
            [
             0.7777777777777778,
             "#fb9f3a"
            ],
            [
             0.8888888888888888,
             "#fdca26"
            ],
            [
             1,
             "#f0f921"
            ]
           ]
          },
          "colorway": [
           "#636efa",
           "#EF553B",
           "#00cc96",
           "#ab63fa",
           "#FFA15A",
           "#19d3f3",
           "#FF6692",
           "#B6E880",
           "#FF97FF",
           "#FECB52"
          ],
          "font": {
           "color": "#2a3f5f"
          },
          "geo": {
           "bgcolor": "white",
           "lakecolor": "white",
           "landcolor": "#E5ECF6",
           "showlakes": true,
           "showland": true,
           "subunitcolor": "white"
          },
          "hoverlabel": {
           "align": "left"
          },
          "hovermode": "closest",
          "mapbox": {
           "style": "light"
          },
          "paper_bgcolor": "white",
          "plot_bgcolor": "#E5ECF6",
          "polar": {
           "angularaxis": {
            "gridcolor": "white",
            "linecolor": "white",
            "ticks": ""
           },
           "bgcolor": "#E5ECF6",
           "radialaxis": {
            "gridcolor": "white",
            "linecolor": "white",
            "ticks": ""
           }
          },
          "scene": {
           "xaxis": {
            "backgroundcolor": "#E5ECF6",
            "gridcolor": "white",
            "gridwidth": 2,
            "linecolor": "white",
            "showbackground": true,
            "ticks": "",
            "zerolinecolor": "white"
           },
           "yaxis": {
            "backgroundcolor": "#E5ECF6",
            "gridcolor": "white",
            "gridwidth": 2,
            "linecolor": "white",
            "showbackground": true,
            "ticks": "",
            "zerolinecolor": "white"
           },
           "zaxis": {
            "backgroundcolor": "#E5ECF6",
            "gridcolor": "white",
            "gridwidth": 2,
            "linecolor": "white",
            "showbackground": true,
            "ticks": "",
            "zerolinecolor": "white"
           }
          },
          "shapedefaults": {
           "line": {
            "color": "#2a3f5f"
           }
          },
          "ternary": {
           "aaxis": {
            "gridcolor": "white",
            "linecolor": "white",
            "ticks": ""
           },
           "baxis": {
            "gridcolor": "white",
            "linecolor": "white",
            "ticks": ""
           },
           "bgcolor": "#E5ECF6",
           "caxis": {
            "gridcolor": "white",
            "linecolor": "white",
            "ticks": ""
           }
          },
          "title": {
           "x": 0.05
          },
          "xaxis": {
           "automargin": true,
           "gridcolor": "white",
           "linecolor": "white",
           "ticks": "",
           "title": {
            "standoff": 15
           },
           "zerolinecolor": "white",
           "zerolinewidth": 2
          },
          "yaxis": {
           "automargin": true,
           "gridcolor": "white",
           "linecolor": "white",
           "ticks": "",
           "title": {
            "standoff": 15
           },
           "zerolinecolor": "white",
           "zerolinewidth": 2
          }
         }
        },
        "updatemenus": [
         {
          "buttons": [
           {
            "args": [
             null,
             {
              "frame": {
               "duration": 1000,
               "redraw": false
              },
              "fromcurrent": true,
              "mode": "immediate",
              "transition": {
               "duration": 500,
               "easing": "linear"
              }
             }
            ],
            "label": "&#9654;",
            "method": "animate"
           },
           {
            "args": [
             [
              null
             ],
             {
              "frame": {
               "duration": 0,
               "redraw": false
              },
              "fromcurrent": true,
              "mode": "immediate",
              "transition": {
               "duration": 0,
               "easing": "linear"
              }
             }
            ],
            "label": "&#9724;",
            "method": "animate"
           }
          ],
          "direction": "left",
          "pad": {
           "r": 10,
           "t": 70
          },
          "showactive": false,
          "type": "buttons",
          "x": 0.1,
          "xanchor": "right",
          "y": 0,
          "yanchor": "top"
         }
        ],
        "xaxis": {
         "anchor": "y",
         "domain": [
          0,
          1
         ],
         "range": [
<<<<<<< HEAD
          0,
          1.7781512503836434
         ],
         "title": {
          "text": "Number of Genres"
         },
         "type": "log"
=======
          1,
          60
         ],
         "title": {
          "text": "Games per Genre"
         }
>>>>>>> 5e83b6f9bae3316a5a9c1bda94c007904063e79b
        },
        "yaxis": {
         "anchor": "x",
         "domain": [
          0,
          1
         ],
         "range": [
          1,
          200
         ],
         "title": {
          "text": "Games per Platform"
         }
        }
       }
      },
      "text/html": [
<<<<<<< HEAD
       "<div>                            <div id=\"d07e4b1b-f260-4ded-9205-23f79421f258\" class=\"plotly-graph-div\" style=\"height:525px; width:100%;\"></div>            <script type=\"text/javascript\">                require([\"plotly\"], function(Plotly) {                    window.PLOTLYENV=window.PLOTLYENV || {};                                    if (document.getElementById(\"d07e4b1b-f260-4ded-9205-23f79421f258\")) {                    Plotly.newPlot(                        \"d07e4b1b-f260-4ded-9205-23f79421f258\",                        [{\"hovertemplate\": \"<b>%{hovertext}</b><br><br>Platform=2600<br>Year=1980<br>Number of Genres=%{x}<br>Games per Platform=%{marker.size}<extra></extra>\", \"hovertext\": [\"Action\", \"Fighting\", \"Misc\", \"Shooter\", \"Sports\"], \"ids\": [\"Action\", \"Fighting\", \"Misc\", \"Shooter\", \"Sports\"], \"legendgroup\": \"2600\", \"marker\": {\"color\": \"#636efa\", \"size\": [9, 9, 9, 9, 9], \"sizemode\": \"area\", \"sizeref\": 0.62, \"symbol\": \"circle\"}, \"mode\": \"markers\", \"name\": \"2600\", \"orientation\": \"v\", \"showlegend\": true, \"type\": \"scatter\", \"x\": [1, 1, 4, 2, 1], \"xaxis\": \"x\", \"y\": [9, 9, 9, 9, 9], \"yaxis\": \"y\"}],                        {\"legend\": {\"itemsizing\": \"constant\", \"title\": {\"text\": \"Platform\"}, \"tracegroupgap\": 0}, \"margin\": {\"t\": 60}, \"sliders\": [{\"active\": 0, \"currentvalue\": {\"prefix\": \"Year=\"}, \"len\": 0.9, \"pad\": {\"b\": 10, \"t\": 60}, \"steps\": [{\"args\": [[\"1980\"], {\"frame\": {\"duration\": 0, \"redraw\": false}, \"fromcurrent\": true, \"mode\": \"immediate\", \"transition\": {\"duration\": 0, \"easing\": \"linear\"}}], \"label\": \"1980\", \"method\": \"animate\"}, {\"args\": [[\"1981\"], {\"frame\": {\"duration\": 0, \"redraw\": false}, \"fromcurrent\": true, \"mode\": \"immediate\", \"transition\": {\"duration\": 0, \"easing\": \"linear\"}}], \"label\": \"1981\", \"method\": \"animate\"}, {\"args\": [[\"1982\"], {\"frame\": {\"duration\": 0, \"redraw\": false}, \"fromcurrent\": true, \"mode\": \"immediate\", \"transition\": {\"duration\": 0, \"easing\": \"linear\"}}], \"label\": \"1982\", \"method\": \"animate\"}, {\"args\": [[\"1983\"], {\"frame\": {\"duration\": 0, \"redraw\": false}, \"fromcurrent\": true, \"mode\": \"immediate\", \"transition\": {\"duration\": 0, \"easing\": \"linear\"}}], \"label\": \"1983\", \"method\": \"animate\"}, {\"args\": [[\"1984\"], {\"frame\": {\"duration\": 0, \"redraw\": false}, \"fromcurrent\": true, \"mode\": \"immediate\", \"transition\": {\"duration\": 0, \"easing\": \"linear\"}}], \"label\": \"1984\", \"method\": \"animate\"}, {\"args\": [[\"1985\"], {\"frame\": {\"duration\": 0, \"redraw\": false}, \"fromcurrent\": true, \"mode\": \"immediate\", \"transition\": {\"duration\": 0, \"easing\": \"linear\"}}], \"label\": \"1985\", \"method\": \"animate\"}, {\"args\": [[\"1986\"], {\"frame\": {\"duration\": 0, \"redraw\": false}, \"fromcurrent\": true, \"mode\": \"immediate\", \"transition\": {\"duration\": 0, \"easing\": \"linear\"}}], \"label\": \"1986\", \"method\": \"animate\"}, {\"args\": [[\"1987\"], {\"frame\": {\"duration\": 0, \"redraw\": false}, \"fromcurrent\": true, \"mode\": \"immediate\", \"transition\": {\"duration\": 0, \"easing\": \"linear\"}}], \"label\": \"1987\", \"method\": \"animate\"}, {\"args\": [[\"1988\"], {\"frame\": {\"duration\": 0, \"redraw\": false}, \"fromcurrent\": true, \"mode\": \"immediate\", \"transition\": {\"duration\": 0, \"easing\": \"linear\"}}], \"label\": \"1988\", \"method\": \"animate\"}, {\"args\": [[\"1989\"], {\"frame\": {\"duration\": 0, \"redraw\": false}, \"fromcurrent\": true, \"mode\": \"immediate\", \"transition\": {\"duration\": 0, \"easing\": \"linear\"}}], \"label\": \"1989\", \"method\": \"animate\"}, {\"args\": [[\"1990\"], {\"frame\": {\"duration\": 0, \"redraw\": false}, \"fromcurrent\": true, \"mode\": \"immediate\", \"transition\": {\"duration\": 0, \"easing\": \"linear\"}}], \"label\": \"1990\", \"method\": \"animate\"}, {\"args\": [[\"1991\"], {\"frame\": {\"duration\": 0, \"redraw\": false}, \"fromcurrent\": true, \"mode\": \"immediate\", \"transition\": {\"duration\": 0, \"easing\": \"linear\"}}], \"label\": \"1991\", \"method\": \"animate\"}, {\"args\": [[\"1992\"], {\"frame\": {\"duration\": 0, \"redraw\": false}, \"fromcurrent\": true, \"mode\": \"immediate\", \"transition\": {\"duration\": 0, \"easing\": \"linear\"}}], \"label\": \"1992\", \"method\": \"animate\"}, {\"args\": [[\"1993\"], {\"frame\": {\"duration\": 0, \"redraw\": false}, \"fromcurrent\": true, \"mode\": \"immediate\", \"transition\": {\"duration\": 0, \"easing\": \"linear\"}}], \"label\": \"1993\", \"method\": \"animate\"}, {\"args\": [[\"1994\"], {\"frame\": {\"duration\": 0, \"redraw\": false}, \"fromcurrent\": true, \"mode\": \"immediate\", \"transition\": {\"duration\": 0, \"easing\": \"linear\"}}], \"label\": \"1994\", \"method\": \"animate\"}, {\"args\": [[\"1996\"], {\"frame\": {\"duration\": 0, \"redraw\": false}, \"fromcurrent\": true, \"mode\": \"immediate\", \"transition\": {\"duration\": 0, \"easing\": \"linear\"}}], \"label\": \"1996\", \"method\": \"animate\"}, {\"args\": [[\"1997\"], {\"frame\": {\"duration\": 0, \"redraw\": false}, \"fromcurrent\": true, \"mode\": \"immediate\", \"transition\": {\"duration\": 0, \"easing\": \"linear\"}}], \"label\": \"1997\", \"method\": \"animate\"}, {\"args\": [[\"1998\"], {\"frame\": {\"duration\": 0, \"redraw\": false}, \"fromcurrent\": true, \"mode\": \"immediate\", \"transition\": {\"duration\": 0, \"easing\": \"linear\"}}], \"label\": \"1998\", \"method\": \"animate\"}, {\"args\": [[\"1999\"], {\"frame\": {\"duration\": 0, \"redraw\": false}, \"fromcurrent\": true, \"mode\": \"immediate\", \"transition\": {\"duration\": 0, \"easing\": \"linear\"}}], \"label\": \"1999\", \"method\": \"animate\"}, {\"args\": [[\"2000\"], {\"frame\": {\"duration\": 0, \"redraw\": false}, \"fromcurrent\": true, \"mode\": \"immediate\", \"transition\": {\"duration\": 0, \"easing\": \"linear\"}}], \"label\": \"2000\", \"method\": \"animate\"}, {\"args\": [[\"2001\"], {\"frame\": {\"duration\": 0, \"redraw\": false}, \"fromcurrent\": true, \"mode\": \"immediate\", \"transition\": {\"duration\": 0, \"easing\": \"linear\"}}], \"label\": \"2001\", \"method\": \"animate\"}, {\"args\": [[\"2002\"], {\"frame\": {\"duration\": 0, \"redraw\": false}, \"fromcurrent\": true, \"mode\": \"immediate\", \"transition\": {\"duration\": 0, \"easing\": \"linear\"}}], \"label\": \"2002\", \"method\": \"animate\"}, {\"args\": [[\"1995\"], {\"frame\": {\"duration\": 0, \"redraw\": false}, \"fromcurrent\": true, \"mode\": \"immediate\", \"transition\": {\"duration\": 0, \"easing\": \"linear\"}}], \"label\": \"1995\", \"method\": \"animate\"}, {\"args\": [[\"2003\"], {\"frame\": {\"duration\": 0, \"redraw\": false}, \"fromcurrent\": true, \"mode\": \"immediate\", \"transition\": {\"duration\": 0, \"easing\": \"linear\"}}], \"label\": \"2003\", \"method\": \"animate\"}], \"x\": 0.1, \"xanchor\": \"left\", \"y\": 0, \"yanchor\": \"top\"}], \"template\": {\"data\": {\"bar\": [{\"error_x\": {\"color\": \"#2a3f5f\"}, \"error_y\": {\"color\": \"#2a3f5f\"}, \"marker\": {\"line\": {\"color\": \"#E5ECF6\", \"width\": 0.5}}, \"type\": \"bar\"}], \"barpolar\": [{\"marker\": {\"line\": {\"color\": \"#E5ECF6\", \"width\": 0.5}}, \"type\": \"barpolar\"}], \"carpet\": [{\"aaxis\": {\"endlinecolor\": \"#2a3f5f\", \"gridcolor\": \"white\", \"linecolor\": \"white\", \"minorgridcolor\": \"white\", \"startlinecolor\": \"#2a3f5f\"}, \"baxis\": {\"endlinecolor\": \"#2a3f5f\", \"gridcolor\": \"white\", \"linecolor\": \"white\", \"minorgridcolor\": \"white\", \"startlinecolor\": \"#2a3f5f\"}, \"type\": \"carpet\"}], \"choropleth\": [{\"colorbar\": {\"outlinewidth\": 0, \"ticks\": \"\"}, \"type\": \"choropleth\"}], \"contour\": [{\"colorbar\": {\"outlinewidth\": 0, \"ticks\": \"\"}, \"colorscale\": [[0.0, \"#0d0887\"], [0.1111111111111111, \"#46039f\"], [0.2222222222222222, \"#7201a8\"], [0.3333333333333333, \"#9c179e\"], [0.4444444444444444, \"#bd3786\"], [0.5555555555555556, \"#d8576b\"], [0.6666666666666666, \"#ed7953\"], [0.7777777777777778, \"#fb9f3a\"], [0.8888888888888888, \"#fdca26\"], [1.0, \"#f0f921\"]], \"type\": \"contour\"}], \"contourcarpet\": [{\"colorbar\": {\"outlinewidth\": 0, \"ticks\": \"\"}, \"type\": \"contourcarpet\"}], \"heatmap\": [{\"colorbar\": {\"outlinewidth\": 0, \"ticks\": \"\"}, \"colorscale\": [[0.0, \"#0d0887\"], [0.1111111111111111, \"#46039f\"], [0.2222222222222222, \"#7201a8\"], [0.3333333333333333, \"#9c179e\"], [0.4444444444444444, \"#bd3786\"], [0.5555555555555556, \"#d8576b\"], [0.6666666666666666, \"#ed7953\"], [0.7777777777777778, \"#fb9f3a\"], [0.8888888888888888, \"#fdca26\"], [1.0, \"#f0f921\"]], \"type\": \"heatmap\"}], \"heatmapgl\": [{\"colorbar\": {\"outlinewidth\": 0, \"ticks\": \"\"}, \"colorscale\": [[0.0, \"#0d0887\"], [0.1111111111111111, \"#46039f\"], [0.2222222222222222, \"#7201a8\"], [0.3333333333333333, \"#9c179e\"], [0.4444444444444444, \"#bd3786\"], [0.5555555555555556, \"#d8576b\"], [0.6666666666666666, \"#ed7953\"], [0.7777777777777778, \"#fb9f3a\"], [0.8888888888888888, \"#fdca26\"], [1.0, \"#f0f921\"]], \"type\": \"heatmapgl\"}], \"histogram\": [{\"marker\": {\"colorbar\": {\"outlinewidth\": 0, \"ticks\": \"\"}}, \"type\": \"histogram\"}], \"histogram2d\": [{\"colorbar\": {\"outlinewidth\": 0, \"ticks\": \"\"}, \"colorscale\": [[0.0, \"#0d0887\"], [0.1111111111111111, \"#46039f\"], [0.2222222222222222, \"#7201a8\"], [0.3333333333333333, \"#9c179e\"], [0.4444444444444444, \"#bd3786\"], [0.5555555555555556, \"#d8576b\"], [0.6666666666666666, \"#ed7953\"], [0.7777777777777778, \"#fb9f3a\"], [0.8888888888888888, \"#fdca26\"], [1.0, \"#f0f921\"]], \"type\": \"histogram2d\"}], \"histogram2dcontour\": [{\"colorbar\": {\"outlinewidth\": 0, \"ticks\": \"\"}, \"colorscale\": [[0.0, \"#0d0887\"], [0.1111111111111111, \"#46039f\"], [0.2222222222222222, \"#7201a8\"], [0.3333333333333333, \"#9c179e\"], [0.4444444444444444, \"#bd3786\"], [0.5555555555555556, \"#d8576b\"], [0.6666666666666666, \"#ed7953\"], [0.7777777777777778, \"#fb9f3a\"], [0.8888888888888888, \"#fdca26\"], [1.0, \"#f0f921\"]], \"type\": \"histogram2dcontour\"}], \"mesh3d\": [{\"colorbar\": {\"outlinewidth\": 0, \"ticks\": \"\"}, \"type\": \"mesh3d\"}], \"parcoords\": [{\"line\": {\"colorbar\": {\"outlinewidth\": 0, \"ticks\": \"\"}}, \"type\": \"parcoords\"}], \"pie\": [{\"automargin\": true, \"type\": \"pie\"}], \"scatter\": [{\"marker\": {\"colorbar\": {\"outlinewidth\": 0, \"ticks\": \"\"}}, \"type\": \"scatter\"}], \"scatter3d\": [{\"line\": {\"colorbar\": {\"outlinewidth\": 0, \"ticks\": \"\"}}, \"marker\": {\"colorbar\": {\"outlinewidth\": 0, \"ticks\": \"\"}}, \"type\": \"scatter3d\"}], \"scattercarpet\": [{\"marker\": {\"colorbar\": {\"outlinewidth\": 0, \"ticks\": \"\"}}, \"type\": \"scattercarpet\"}], \"scattergeo\": [{\"marker\": {\"colorbar\": {\"outlinewidth\": 0, \"ticks\": \"\"}}, \"type\": \"scattergeo\"}], \"scattergl\": [{\"marker\": {\"colorbar\": {\"outlinewidth\": 0, \"ticks\": \"\"}}, \"type\": \"scattergl\"}], \"scattermapbox\": [{\"marker\": {\"colorbar\": {\"outlinewidth\": 0, \"ticks\": \"\"}}, \"type\": \"scattermapbox\"}], \"scatterpolar\": [{\"marker\": {\"colorbar\": {\"outlinewidth\": 0, \"ticks\": \"\"}}, \"type\": \"scatterpolar\"}], \"scatterpolargl\": [{\"marker\": {\"colorbar\": {\"outlinewidth\": 0, \"ticks\": \"\"}}, \"type\": \"scatterpolargl\"}], \"scatterternary\": [{\"marker\": {\"colorbar\": {\"outlinewidth\": 0, \"ticks\": \"\"}}, \"type\": \"scatterternary\"}], \"surface\": [{\"colorbar\": {\"outlinewidth\": 0, \"ticks\": \"\"}, \"colorscale\": [[0.0, \"#0d0887\"], [0.1111111111111111, \"#46039f\"], [0.2222222222222222, \"#7201a8\"], [0.3333333333333333, \"#9c179e\"], [0.4444444444444444, \"#bd3786\"], [0.5555555555555556, \"#d8576b\"], [0.6666666666666666, \"#ed7953\"], [0.7777777777777778, \"#fb9f3a\"], [0.8888888888888888, \"#fdca26\"], [1.0, \"#f0f921\"]], \"type\": \"surface\"}], \"table\": [{\"cells\": {\"fill\": {\"color\": \"#EBF0F8\"}, \"line\": {\"color\": \"white\"}}, \"header\": {\"fill\": {\"color\": \"#C8D4E3\"}, \"line\": {\"color\": \"white\"}}, \"type\": \"table\"}]}, \"layout\": {\"annotationdefaults\": {\"arrowcolor\": \"#2a3f5f\", \"arrowhead\": 0, \"arrowwidth\": 1}, \"coloraxis\": {\"colorbar\": {\"outlinewidth\": 0, \"ticks\": \"\"}}, \"colorscale\": {\"diverging\": [[0, \"#8e0152\"], [0.1, \"#c51b7d\"], [0.2, \"#de77ae\"], [0.3, \"#f1b6da\"], [0.4, \"#fde0ef\"], [0.5, \"#f7f7f7\"], [0.6, \"#e6f5d0\"], [0.7, \"#b8e186\"], [0.8, \"#7fbc41\"], [0.9, \"#4d9221\"], [1, \"#276419\"]], \"sequential\": [[0.0, \"#0d0887\"], [0.1111111111111111, \"#46039f\"], [0.2222222222222222, \"#7201a8\"], [0.3333333333333333, \"#9c179e\"], [0.4444444444444444, \"#bd3786\"], [0.5555555555555556, \"#d8576b\"], [0.6666666666666666, \"#ed7953\"], [0.7777777777777778, \"#fb9f3a\"], [0.8888888888888888, \"#fdca26\"], [1.0, \"#f0f921\"]], \"sequentialminus\": [[0.0, \"#0d0887\"], [0.1111111111111111, \"#46039f\"], [0.2222222222222222, \"#7201a8\"], [0.3333333333333333, \"#9c179e\"], [0.4444444444444444, \"#bd3786\"], [0.5555555555555556, \"#d8576b\"], [0.6666666666666666, \"#ed7953\"], [0.7777777777777778, \"#fb9f3a\"], [0.8888888888888888, \"#fdca26\"], [1.0, \"#f0f921\"]]}, \"colorway\": [\"#636efa\", \"#EF553B\", \"#00cc96\", \"#ab63fa\", \"#FFA15A\", \"#19d3f3\", \"#FF6692\", \"#B6E880\", \"#FF97FF\", \"#FECB52\"], \"font\": {\"color\": \"#2a3f5f\"}, \"geo\": {\"bgcolor\": \"white\", \"lakecolor\": \"white\", \"landcolor\": \"#E5ECF6\", \"showlakes\": true, \"showland\": true, \"subunitcolor\": \"white\"}, \"hoverlabel\": {\"align\": \"left\"}, \"hovermode\": \"closest\", \"mapbox\": {\"style\": \"light\"}, \"paper_bgcolor\": \"white\", \"plot_bgcolor\": \"#E5ECF6\", \"polar\": {\"angularaxis\": {\"gridcolor\": \"white\", \"linecolor\": \"white\", \"ticks\": \"\"}, \"bgcolor\": \"#E5ECF6\", \"radialaxis\": {\"gridcolor\": \"white\", \"linecolor\": \"white\", \"ticks\": \"\"}}, \"scene\": {\"xaxis\": {\"backgroundcolor\": \"#E5ECF6\", \"gridcolor\": \"white\", \"gridwidth\": 2, \"linecolor\": \"white\", \"showbackground\": true, \"ticks\": \"\", \"zerolinecolor\": \"white\"}, \"yaxis\": {\"backgroundcolor\": \"#E5ECF6\", \"gridcolor\": \"white\", \"gridwidth\": 2, \"linecolor\": \"white\", \"showbackground\": true, \"ticks\": \"\", \"zerolinecolor\": \"white\"}, \"zaxis\": {\"backgroundcolor\": \"#E5ECF6\", \"gridcolor\": \"white\", \"gridwidth\": 2, \"linecolor\": \"white\", \"showbackground\": true, \"ticks\": \"\", \"zerolinecolor\": \"white\"}}, \"shapedefaults\": {\"line\": {\"color\": \"#2a3f5f\"}}, \"ternary\": {\"aaxis\": {\"gridcolor\": \"white\", \"linecolor\": \"white\", \"ticks\": \"\"}, \"baxis\": {\"gridcolor\": \"white\", \"linecolor\": \"white\", \"ticks\": \"\"}, \"bgcolor\": \"#E5ECF6\", \"caxis\": {\"gridcolor\": \"white\", \"linecolor\": \"white\", \"ticks\": \"\"}}, \"title\": {\"x\": 0.05}, \"xaxis\": {\"automargin\": true, \"gridcolor\": \"white\", \"linecolor\": \"white\", \"ticks\": \"\", \"title\": {\"standoff\": 15}, \"zerolinecolor\": \"white\", \"zerolinewidth\": 2}, \"yaxis\": {\"automargin\": true, \"gridcolor\": \"white\", \"linecolor\": \"white\", \"ticks\": \"\", \"title\": {\"standoff\": 15}, \"zerolinecolor\": \"white\", \"zerolinewidth\": 2}}}, \"updatemenus\": [{\"buttons\": [{\"args\": [null, {\"frame\": {\"duration\": 1000, \"redraw\": false}, \"fromcurrent\": true, \"mode\": \"immediate\", \"transition\": {\"duration\": 500, \"easing\": \"linear\"}}], \"label\": \"&#9654;\", \"method\": \"animate\"}, {\"args\": [[null], {\"frame\": {\"duration\": 0, \"redraw\": false}, \"fromcurrent\": true, \"mode\": \"immediate\", \"transition\": {\"duration\": 0, \"easing\": \"linear\"}}], \"label\": \"&#9724;\", \"method\": \"animate\"}], \"direction\": \"left\", \"pad\": {\"r\": 10, \"t\": 70}, \"showactive\": false, \"type\": \"buttons\", \"x\": 0.1, \"xanchor\": \"right\", \"y\": 0, \"yanchor\": \"top\"}], \"xaxis\": {\"anchor\": \"y\", \"domain\": [0.0, 1.0], \"range\": [0.0, 1.7781512503836434], \"title\": {\"text\": \"Number of Genres\"}, \"type\": \"log\"}, \"yaxis\": {\"anchor\": \"x\", \"domain\": [0.0, 1.0], \"range\": [1, 200], \"title\": {\"text\": \"Games per Platform\"}}},                        {\"responsive\": true}                    ).then(function(){\n",
       "                            Plotly.addFrames('d07e4b1b-f260-4ded-9205-23f79421f258', [{\"data\": [{\"hovertemplate\": \"<b>%{hovertext}</b><br><br>Platform=2600<br>Year=1980<br>Number of Genres=%{x}<br>Games per Platform=%{marker.size}<extra></extra>\", \"hovertext\": [\"Action\", \"Fighting\", \"Misc\", \"Shooter\", \"Sports\"], \"ids\": [\"Action\", \"Fighting\", \"Misc\", \"Shooter\", \"Sports\"], \"legendgroup\": \"2600\", \"marker\": {\"color\": \"#636efa\", \"size\": [9, 9, 9, 9, 9], \"sizemode\": \"area\", \"sizeref\": 0.62, \"symbol\": \"circle\"}, \"mode\": \"markers\", \"name\": \"2600\", \"orientation\": \"v\", \"showlegend\": true, \"x\": [1, 1, 4, 2, 1], \"xaxis\": \"x\", \"y\": [9, 9, 9, 9, 9], \"yaxis\": \"y\", \"type\": \"scatter\"}], \"name\": \"1980\"}, {\"data\": [{\"hovertemplate\": \"<b>%{hovertext}</b><br><br>Platform=2600<br>Year=1981<br>Number of Genres=%{x}<br>Games per Platform=%{marker.size}<extra></extra>\", \"hovertext\": [\"Action\", \"Platform\", \"Puzzle\", \"Racing\", \"Shooter\", \"Simulation\", \"Sports\"], \"ids\": [\"Action\", \"Platform\", \"Puzzle\", \"Racing\", \"Shooter\", \"Simulation\", \"Sports\"], \"legendgroup\": \"2600\", \"marker\": {\"color\": \"#636efa\", \"size\": [46, 46, 46, 46, 46, 46, 46], \"sizemode\": \"area\", \"sizeref\": 0.62, \"symbol\": \"circle\"}, \"mode\": \"markers\", \"name\": \"2600\", \"orientation\": \"v\", \"showlegend\": true, \"x\": [25, 3, 2, 1, 10, 1, 4], \"xaxis\": \"x\", \"y\": [46, 46, 46, 46, 46, 46, 46], \"yaxis\": \"y\", \"type\": \"scatter\"}], \"name\": \"1981\"}, {\"data\": [{\"hovertemplate\": \"<b>%{hovertext}</b><br><br>Platform=2600<br>Year=1982<br>Number of Genres=%{x}<br>Games per Platform=%{marker.size}<extra></extra>\", \"hovertext\": [\"Action\", \"Misc\", \"Platform\", \"Puzzle\", \"Racing\", \"Shooter\", \"Sports\"], \"ids\": [\"Action\", \"Misc\", \"Platform\", \"Puzzle\", \"Racing\", \"Shooter\", \"Sports\"], \"legendgroup\": \"2600\", \"marker\": {\"color\": \"#636efa\", \"size\": [36, 36, 36, 36, 36, 36, 36], \"sizemode\": \"area\", \"sizeref\": 0.62, \"symbol\": \"circle\"}, \"mode\": \"markers\", \"name\": \"2600\", \"orientation\": \"v\", \"showlegend\": true, \"x\": [18, 1, 5, 3, 2, 5, 2], \"xaxis\": \"x\", \"y\": [36, 36, 36, 36, 36, 36, 36], \"yaxis\": \"y\", \"type\": \"scatter\"}], \"name\": \"1982\"}, {\"data\": [{\"hovertemplate\": \"<b>%{hovertext}</b><br><br>Platform=2600<br>Year=1983<br>Number of Genres=%{x}<br>Games per Platform=%{marker.size}<extra></extra>\", \"hovertext\": [\"Action\", \"Adventure\", \"Misc\", \"Platform\", \"Puzzle\", \"Shooter\", \"Sports\"], \"ids\": [\"Action\", \"Adventure\", \"Misc\", \"Platform\", \"Puzzle\", \"Shooter\", \"Sports\"], \"legendgroup\": \"2600\", \"marker\": {\"color\": \"#636efa\", \"size\": [11, 11, 11, 11, 11, 11, 11], \"sizemode\": \"area\", \"sizeref\": 0.62, \"symbol\": \"circle\"}, \"mode\": \"markers\", \"name\": \"2600\", \"orientation\": \"v\", \"showlegend\": true, \"x\": [7, 1, 1, 5, 1, 1, 1], \"xaxis\": \"x\", \"y\": [11, 11, 11, 11, 11, 11, 11], \"yaxis\": \"y\", \"type\": \"scatter\"}, {\"hovertemplate\": \"<b>%{hovertext}</b><br><br>Platform=NES<br>Year=1983<br>Number of Genres=%{x}<br>Games per Platform=%{marker.size}<extra></extra>\", \"hovertext\": [\"Action\", \"Adventure\", \"Misc\", \"Platform\", \"Puzzle\", \"Shooter\", \"Sports\"], \"ids\": [\"Action\", \"Adventure\", \"Misc\", \"Platform\", \"Puzzle\", \"Shooter\", \"Sports\"], \"legendgroup\": \"NES\", \"marker\": {\"color\": \"#EF553B\", \"size\": [6, 6, 6, 6, 6, 6, 6], \"sizemode\": \"area\", \"sizeref\": 0.62, \"symbol\": \"circle\"}, \"mode\": \"markers\", \"name\": \"NES\", \"orientation\": \"v\", \"showlegend\": true, \"x\": [7, 1, 1, 5, 1, 1, 1], \"xaxis\": \"x\", \"y\": [6, 6, 6, 6, 6, 6, 6], \"yaxis\": \"y\", \"type\": \"scatter\"}], \"name\": \"1983\"}, {\"data\": [{\"hovertemplate\": \"<b>%{hovertext}</b><br><br>Platform=2600<br>Year=1984<br>Number of Genres=%{x}<br>Games per Platform=%{marker.size}<extra></extra>\", \"hovertext\": [\"Action\", \"Misc\", \"Platform\", \"Puzzle\", \"Racing\", \"Shooter\", \"Sports\"], \"ids\": [\"Action\", \"Misc\", \"Platform\", \"Puzzle\", \"Racing\", \"Shooter\", \"Sports\"], \"legendgroup\": \"2600\", \"marker\": {\"color\": \"#636efa\", \"size\": [1, 1, 1, 1, 1, 1, 1], \"sizemode\": \"area\", \"sizeref\": 0.62, \"symbol\": \"circle\"}, \"mode\": \"markers\", \"name\": \"2600\", \"orientation\": \"v\", \"showlegend\": true, \"x\": [1, 1, 1, 3, 3, 3, 2], \"xaxis\": \"x\", \"y\": [1, 1, 1, 1, 1, 1, 1], \"yaxis\": \"y\", \"type\": \"scatter\"}, {\"hovertemplate\": \"<b>%{hovertext}</b><br><br>Platform=NES<br>Year=1984<br>Number of Genres=%{x}<br>Games per Platform=%{marker.size}<extra></extra>\", \"hovertext\": [\"Action\", \"Misc\", \"Platform\", \"Puzzle\", \"Racing\", \"Shooter\", \"Sports\"], \"ids\": [\"Action\", \"Misc\", \"Platform\", \"Puzzle\", \"Racing\", \"Shooter\", \"Sports\"], \"legendgroup\": \"NES\", \"marker\": {\"color\": \"#EF553B\", \"size\": [13, 13, 13, 13, 13, 13, 13], \"sizemode\": \"area\", \"sizeref\": 0.62, \"symbol\": \"circle\"}, \"mode\": \"markers\", \"name\": \"NES\", \"orientation\": \"v\", \"showlegend\": true, \"x\": [1, 1, 1, 3, 3, 3, 2], \"xaxis\": \"x\", \"y\": [13, 13, 13, 13, 13, 13, 13], \"yaxis\": \"y\", \"type\": \"scatter\"}], \"name\": \"1984\"}, {\"data\": [{\"hovertemplate\": \"<b>%{hovertext}</b><br><br>Platform=2600<br>Year=1985<br>Number of Genres=%{x}<br>Games per Platform=%{marker.size}<extra></extra>\", \"hovertext\": [\"Action\", \"Fighting\", \"Platform\", \"Puzzle\", \"Shooter\", \"Sports\"], \"ids\": [\"Action\", \"Fighting\", \"Platform\", \"Puzzle\", \"Shooter\", \"Sports\"], \"legendgroup\": \"2600\", \"marker\": {\"color\": \"#636efa\", \"size\": [1, 1, 1, 1, 1, 1], \"sizemode\": \"area\", \"sizeref\": 0.62, \"symbol\": \"circle\"}, \"mode\": \"markers\", \"name\": \"2600\", \"orientation\": \"v\", \"showlegend\": true, \"x\": [1, 1, 4, 4, 1, 1], \"xaxis\": \"x\", \"y\": [1, 1, 1, 1, 1, 1], \"yaxis\": \"y\", \"type\": \"scatter\"}, {\"hovertemplate\": \"<b>%{hovertext}</b><br><br>Platform=NES<br>Year=1985<br>Number of Genres=%{x}<br>Games per Platform=%{marker.size}<extra></extra>\", \"hovertext\": [\"Action\", \"Fighting\", \"Platform\", \"Puzzle\", \"Shooter\", \"Sports\"], \"ids\": [\"Action\", \"Fighting\", \"Platform\", \"Puzzle\", \"Shooter\", \"Sports\"], \"legendgroup\": \"NES\", \"marker\": {\"color\": \"#EF553B\", \"size\": [11, 11, 11, 11, 11, 11], \"sizemode\": \"area\", \"sizeref\": 0.62, \"symbol\": \"circle\"}, \"mode\": \"markers\", \"name\": \"NES\", \"orientation\": \"v\", \"showlegend\": true, \"x\": [1, 1, 4, 4, 1, 1], \"xaxis\": \"x\", \"y\": [11, 11, 11, 11, 11, 11], \"yaxis\": \"y\", \"type\": \"scatter\"}], \"name\": \"1985\"}, {\"data\": [{\"hovertemplate\": \"<b>%{hovertext}</b><br><br>Platform=2600<br>Year=1986<br>Number of Genres=%{x}<br>Games per Platform=%{marker.size}<extra></extra>\", \"hovertext\": [\"Action\", \"Platform\", \"Racing\", \"Role-Playing\", \"Shooter\", \"Sports\"], \"ids\": [\"Action\", \"Platform\", \"Racing\", \"Role-Playing\", \"Shooter\", \"Sports\"], \"legendgroup\": \"2600\", \"marker\": {\"color\": \"#636efa\", \"size\": [2, 2, 2, 2, 2, 2], \"sizemode\": \"area\", \"sizeref\": 0.62, \"symbol\": \"circle\"}, \"mode\": \"markers\", \"name\": \"2600\", \"orientation\": \"v\", \"showlegend\": true, \"x\": [6, 6, 1, 1, 4, 3], \"xaxis\": \"x\", \"y\": [2, 2, 2, 2, 2, 2], \"yaxis\": \"y\", \"type\": \"scatter\"}, {\"hovertemplate\": \"<b>%{hovertext}</b><br><br>Platform=NES<br>Year=1986<br>Number of Genres=%{x}<br>Games per Platform=%{marker.size}<extra></extra>\", \"hovertext\": [\"Action\", \"Platform\", \"Racing\", \"Role-Playing\", \"Shooter\", \"Sports\"], \"ids\": [\"Action\", \"Platform\", \"Racing\", \"Role-Playing\", \"Shooter\", \"Sports\"], \"legendgroup\": \"NES\", \"marker\": {\"color\": \"#EF553B\", \"size\": [19, 19, 19, 19, 19, 19], \"sizemode\": \"area\", \"sizeref\": 0.62, \"symbol\": \"circle\"}, \"mode\": \"markers\", \"name\": \"NES\", \"orientation\": \"v\", \"showlegend\": true, \"x\": [6, 6, 1, 1, 4, 3], \"xaxis\": \"x\", \"y\": [19, 19, 19, 19, 19, 19], \"yaxis\": \"y\", \"type\": \"scatter\"}], \"name\": \"1986\"}, {\"data\": [{\"hovertemplate\": \"<b>%{hovertext}</b><br><br>Platform=2600<br>Year=1987<br>Number of Genres=%{x}<br>Games per Platform=%{marker.size}<extra></extra>\", \"hovertext\": [\"Action\", \"Adventure\", \"Fighting\", \"Platform\", \"Role-Playing\", \"Shooter\", \"Sports\"], \"ids\": [\"Action\", \"Adventure\", \"Fighting\", \"Platform\", \"Role-Playing\", \"Shooter\", \"Sports\"], \"legendgroup\": \"2600\", \"marker\": {\"color\": \"#636efa\", \"size\": [6, 6, 6, 6, 6, 6, 6], \"sizemode\": \"area\", \"sizeref\": 0.62, \"symbol\": \"circle\"}, \"mode\": \"markers\", \"name\": \"2600\", \"orientation\": \"v\", \"showlegend\": true, \"x\": [2, 1, 2, 2, 3, 2, 4], \"xaxis\": \"x\", \"y\": [6, 6, 6, 6, 6, 6, 6], \"yaxis\": \"y\", \"type\": \"scatter\"}, {\"hovertemplate\": \"<b>%{hovertext}</b><br><br>Platform=NES<br>Year=1987<br>Number of Genres=%{x}<br>Games per Platform=%{marker.size}<extra></extra>\", \"hovertext\": [\"Action\", \"Adventure\", \"Fighting\", \"Platform\", \"Role-Playing\", \"Shooter\", \"Sports\"], \"ids\": [\"Action\", \"Adventure\", \"Fighting\", \"Platform\", \"Role-Playing\", \"Shooter\", \"Sports\"], \"legendgroup\": \"NES\", \"marker\": {\"color\": \"#EF553B\", \"size\": [10, 10, 10, 10, 10, 10, 10], \"sizemode\": \"area\", \"sizeref\": 0.62, \"symbol\": \"circle\"}, \"mode\": \"markers\", \"name\": \"NES\", \"orientation\": \"v\", \"showlegend\": true, \"x\": [2, 1, 2, 2, 3, 2, 4], \"xaxis\": \"x\", \"y\": [10, 10, 10, 10, 10, 10, 10], \"yaxis\": \"y\", \"type\": \"scatter\"}], \"name\": \"1987\"}, {\"data\": [{\"hovertemplate\": \"<b>%{hovertext}</b><br><br>Platform=2600<br>Year=1988<br>Number of Genres=%{x}<br>Games per Platform=%{marker.size}<extra></extra>\", \"hovertext\": [\"Action\", \"Platform\", \"Puzzle\", \"Racing\", \"Role-Playing\", \"Shooter\", \"Sports\"], \"ids\": [\"Action\", \"Platform\", \"Puzzle\", \"Racing\", \"Role-Playing\", \"Shooter\", \"Sports\"], \"legendgroup\": \"2600\", \"marker\": {\"color\": \"#636efa\", \"size\": [2, 2, 2, 2, 2, 2, 2], \"sizemode\": \"area\", \"sizeref\": 0.62, \"symbol\": \"circle\"}, \"mode\": \"markers\", \"name\": \"2600\", \"orientation\": \"v\", \"showlegend\": true, \"x\": [2, 3, 1, 1, 3, 1, 2], \"xaxis\": \"x\", \"y\": [2, 2, 2, 2, 2, 2, 2], \"yaxis\": \"y\", \"type\": \"scatter\"}, {\"hovertemplate\": \"<b>%{hovertext}</b><br><br>Platform=NES<br>Year=1988<br>Number of Genres=%{x}<br>Games per Platform=%{marker.size}<extra></extra>\", \"hovertext\": [\"Action\", \"Platform\", \"Puzzle\", \"Racing\", \"Role-Playing\", \"Shooter\", \"Sports\"], \"ids\": [\"Action\", \"Platform\", \"Puzzle\", \"Racing\", \"Role-Playing\", \"Shooter\", \"Sports\"], \"legendgroup\": \"NES\", \"marker\": {\"color\": \"#EF553B\", \"size\": [11, 11, 11, 11, 11, 11, 11], \"sizemode\": \"area\", \"sizeref\": 0.62, \"symbol\": \"circle\"}, \"mode\": \"markers\", \"name\": \"NES\", \"orientation\": \"v\", \"showlegend\": true, \"x\": [2, 3, 1, 1, 3, 1, 2], \"xaxis\": \"x\", \"y\": [11, 11, 11, 11, 11, 11, 11], \"yaxis\": \"y\", \"type\": \"scatter\"}], \"name\": \"1988\"}, {\"data\": [{\"hovertemplate\": \"<b>%{hovertext}</b><br><br>Platform=2600<br>Year=1989<br>Number of Genres=%{x}<br>Games per Platform=%{marker.size}<extra></extra>\", \"hovertext\": [\"Action\", \"Platform\", \"Puzzle\", \"Role-Playing\"], \"ids\": [\"Action\", \"Platform\", \"Puzzle\", \"Role-Playing\"], \"legendgroup\": \"2600\", \"marker\": {\"color\": \"#636efa\", \"size\": [2, 2, 2, 2], \"sizemode\": \"area\", \"sizeref\": 0.62, \"symbol\": \"circle\"}, \"mode\": \"markers\", \"name\": \"2600\", \"orientation\": \"v\", \"showlegend\": true, \"x\": [2, 2, 2, 1], \"xaxis\": \"x\", \"y\": [2, 2, 2, 2], \"yaxis\": \"y\", \"type\": \"scatter\"}, {\"hovertemplate\": \"<b>%{hovertext}</b><br><br>Platform=NES<br>Year=1989<br>Number of Genres=%{x}<br>Games per Platform=%{marker.size}<extra></extra>\", \"hovertext\": [\"Action\", \"Platform\", \"Puzzle\", \"Role-Playing\"], \"ids\": [\"Action\", \"Platform\", \"Puzzle\", \"Role-Playing\"], \"legendgroup\": \"NES\", \"marker\": {\"color\": \"#EF553B\", \"size\": [5, 5, 5, 5], \"sizemode\": \"area\", \"sizeref\": 0.62, \"symbol\": \"circle\"}, \"mode\": \"markers\", \"name\": \"NES\", \"orientation\": \"v\", \"showlegend\": true, \"x\": [2, 2, 2, 1], \"xaxis\": \"x\", \"y\": [5, 5, 5, 5], \"yaxis\": \"y\", \"type\": \"scatter\"}], \"name\": \"1989\"}, {\"data\": [{\"hovertemplate\": \"<b>%{hovertext}</b><br><br>Platform=NES<br>Year=1990<br>Number of Genres=%{x}<br>Games per Platform=%{marker.size}<extra></extra>\", \"hovertext\": [\"Action\", \"Platform\", \"Puzzle\", \"Racing\", \"Role-Playing\", \"Simulation\", \"Sports\"], \"ids\": [\"Action\", \"Platform\", \"Puzzle\", \"Racing\", \"Role-Playing\", \"Simulation\", \"Sports\"], \"legendgroup\": \"NES\", \"marker\": {\"color\": \"#EF553B\", \"size\": [8, 8, 8, 8, 8, 8, 8], \"sizemode\": \"area\", \"sizeref\": 0.62, \"symbol\": \"circle\"}, \"mode\": \"markers\", \"name\": \"NES\", \"orientation\": \"v\", \"showlegend\": true, \"x\": [3, 3, 1, 1, 2, 1, 2], \"xaxis\": \"x\", \"y\": [8, 8, 8, 8, 8, 8, 8], \"yaxis\": \"y\", \"type\": \"scatter\"}, {\"hovertemplate\": \"<b>%{hovertext}</b><br><br>Platform=GEN<br>Year=1990<br>Number of Genres=%{x}<br>Games per Platform=%{marker.size}<extra></extra>\", \"hovertext\": [\"Action\", \"Platform\", \"Puzzle\", \"Racing\", \"Role-Playing\", \"Simulation\", \"Sports\"], \"ids\": [\"Action\", \"Platform\", \"Puzzle\", \"Racing\", \"Role-Playing\", \"Simulation\", \"Sports\"], \"legendgroup\": \"GEN\", \"marker\": {\"color\": \"#00cc96\", \"size\": [1, 1, 1, 1, 1, 1, 1], \"sizemode\": \"area\", \"sizeref\": 0.62, \"symbol\": \"circle\"}, \"mode\": \"markers\", \"name\": \"GEN\", \"orientation\": \"v\", \"showlegend\": true, \"x\": [3, 3, 1, 1, 2, 1, 2], \"xaxis\": \"x\", \"y\": [1, 1, 1, 1, 1, 1, 1], \"yaxis\": \"y\", \"type\": \"scatter\"}, {\"hovertemplate\": \"<b>%{hovertext}</b><br><br>Platform=SNES<br>Year=1990<br>Number of Genres=%{x}<br>Games per Platform=%{marker.size}<extra></extra>\", \"hovertext\": [\"Action\", \"Platform\", \"Puzzle\", \"Racing\", \"Role-Playing\", \"Simulation\", \"Sports\"], \"ids\": [\"Action\", \"Platform\", \"Puzzle\", \"Racing\", \"Role-Playing\", \"Simulation\", \"Sports\"], \"legendgroup\": \"SNES\", \"marker\": {\"color\": \"#ab63fa\", \"size\": [4, 4, 4, 4, 4, 4, 4], \"sizemode\": \"area\", \"sizeref\": 0.62, \"symbol\": \"circle\"}, \"mode\": \"markers\", \"name\": \"SNES\", \"orientation\": \"v\", \"showlegend\": true, \"x\": [3, 3, 1, 1, 2, 1, 2], \"xaxis\": \"x\", \"y\": [4, 4, 4, 4, 4, 4, 4], \"yaxis\": \"y\", \"type\": \"scatter\"}], \"name\": \"1990\"}, {\"data\": [{\"hovertemplate\": \"<b>%{hovertext}</b><br><br>Platform=NES<br>Year=1991<br>Number of Genres=%{x}<br>Games per Platform=%{marker.size}<extra></extra>\", \"hovertext\": [\"Action\", \"Adventure\", \"Fighting\", \"Misc\", \"Platform\", \"Puzzle\", \"Role-Playing\", \"Shooter\", \"Simulation\", \"Sports\", \"Strategy\"], \"ids\": [\"Action\", \"Adventure\", \"Fighting\", \"Misc\", \"Platform\", \"Puzzle\", \"Role-Playing\", \"Shooter\", \"Simulation\", \"Sports\", \"Strategy\"], \"legendgroup\": \"NES\", \"marker\": {\"color\": \"#EF553B\", \"size\": [7, 7, 7, 7, 7, 7, 7, 7, 7, 7, 7], \"sizemode\": \"area\", \"sizeref\": 0.62, \"symbol\": \"circle\"}, \"mode\": \"markers\", \"name\": \"NES\", \"orientation\": \"v\", \"showlegend\": true, \"x\": [4, 1, 1, 1, 4, 3, 3, 3, 2, 7, 3], \"xaxis\": \"x\", \"y\": [7, 7, 7, 7, 7, 7, 7, 7, 7, 7, 7], \"yaxis\": \"y\", \"type\": \"scatter\"}, {\"hovertemplate\": \"<b>%{hovertext}</b><br><br>Platform=GEN<br>Year=1991<br>Number of Genres=%{x}<br>Games per Platform=%{marker.size}<extra></extra>\", \"hovertext\": [\"Action\", \"Adventure\", \"Fighting\", \"Misc\", \"Platform\", \"Puzzle\", \"Role-Playing\", \"Shooter\", \"Simulation\", \"Sports\", \"Strategy\"], \"ids\": [\"Action\", \"Adventure\", \"Fighting\", \"Misc\", \"Platform\", \"Puzzle\", \"Role-Playing\", \"Shooter\", \"Simulation\", \"Sports\", \"Strategy\"], \"legendgroup\": \"GEN\", \"marker\": {\"color\": \"#00cc96\", \"size\": [1, 1, 1, 1, 1, 1, 1, 1, 1, 1, 1], \"sizemode\": \"area\", \"sizeref\": 0.62, \"symbol\": \"circle\"}, \"mode\": \"markers\", \"name\": \"GEN\", \"orientation\": \"v\", \"showlegend\": true, \"x\": [4, 1, 1, 1, 4, 3, 3, 3, 2, 7, 3], \"xaxis\": \"x\", \"y\": [1, 1, 1, 1, 1, 1, 1, 1, 1, 1, 1], \"yaxis\": \"y\", \"type\": \"scatter\"}, {\"hovertemplate\": \"<b>%{hovertext}</b><br><br>Platform=SNES<br>Year=1991<br>Number of Genres=%{x}<br>Games per Platform=%{marker.size}<extra></extra>\", \"hovertext\": [\"Action\", \"Adventure\", \"Fighting\", \"Misc\", \"Platform\", \"Puzzle\", \"Role-Playing\", \"Shooter\", \"Simulation\", \"Sports\", \"Strategy\"], \"ids\": [\"Action\", \"Adventure\", \"Fighting\", \"Misc\", \"Platform\", \"Puzzle\", \"Role-Playing\", \"Shooter\", \"Simulation\", \"Sports\", \"Strategy\"], \"legendgroup\": \"SNES\", \"marker\": {\"color\": \"#ab63fa\", \"size\": [24, 24, 24, 24, 24, 24, 24, 24, 24, 24, 24], \"sizemode\": \"area\", \"sizeref\": 0.62, \"symbol\": \"circle\"}, \"mode\": \"markers\", \"name\": \"SNES\", \"orientation\": \"v\", \"showlegend\": true, \"x\": [4, 1, 1, 1, 4, 3, 3, 3, 2, 7, 3], \"xaxis\": \"x\", \"y\": [24, 24, 24, 24, 24, 24, 24, 24, 24, 24, 24], \"yaxis\": \"y\", \"type\": \"scatter\"}], \"name\": \"1991\"}, {\"data\": [{\"hovertemplate\": \"<b>%{hovertext}</b><br><br>Platform=NES<br>Year=1992<br>Number of Genres=%{x}<br>Games per Platform=%{marker.size}<extra></extra>\", \"hovertext\": [\"Adventure\", \"Fighting\", \"Misc\", \"Platform\", \"Puzzle\", \"Racing\", \"Role-Playing\", \"Shooter\", \"Sports\", \"Strategy\"], \"ids\": [\"Adventure\", \"Fighting\", \"Misc\", \"Platform\", \"Puzzle\", \"Racing\", \"Role-Playing\", \"Shooter\", \"Sports\", \"Strategy\"], \"legendgroup\": \"NES\", \"marker\": {\"color\": \"#EF553B\", \"size\": [3, 3, 3, 3, 3, 3, 3, 3, 3, 3], \"sizemode\": \"area\", \"sizeref\": 0.62, \"symbol\": \"circle\"}, \"mode\": \"markers\", \"name\": \"NES\", \"orientation\": \"v\", \"showlegend\": true, \"x\": [2, 7, 1, 4, 2, 2, 5, 2, 4, 1], \"xaxis\": \"x\", \"y\": [3, 3, 3, 3, 3, 3, 3, 3, 3, 3], \"yaxis\": \"y\", \"type\": \"scatter\"}, {\"hovertemplate\": \"<b>%{hovertext}</b><br><br>Platform=GEN<br>Year=1992<br>Number of Genres=%{x}<br>Games per Platform=%{marker.size}<extra></extra>\", \"hovertext\": [\"Adventure\", \"Fighting\", \"Misc\", \"Platform\", \"Puzzle\", \"Racing\", \"Role-Playing\", \"Shooter\", \"Sports\", \"Strategy\"], \"ids\": [\"Adventure\", \"Fighting\", \"Misc\", \"Platform\", \"Puzzle\", \"Racing\", \"Role-Playing\", \"Shooter\", \"Sports\", \"Strategy\"], \"legendgroup\": \"GEN\", \"marker\": {\"color\": \"#00cc96\", \"size\": [6, 6, 6, 6, 6, 6, 6, 6, 6, 6], \"sizemode\": \"area\", \"sizeref\": 0.62, \"symbol\": \"circle\"}, \"mode\": \"markers\", \"name\": \"GEN\", \"orientation\": \"v\", \"showlegend\": true, \"x\": [2, 7, 1, 4, 2, 2, 5, 2, 4, 1], \"xaxis\": \"x\", \"y\": [6, 6, 6, 6, 6, 6, 6, 6, 6, 6], \"yaxis\": \"y\", \"type\": \"scatter\"}, {\"hovertemplate\": \"<b>%{hovertext}</b><br><br>Platform=SNES<br>Year=1992<br>Number of Genres=%{x}<br>Games per Platform=%{marker.size}<extra></extra>\", \"hovertext\": [\"Adventure\", \"Fighting\", \"Misc\", \"Platform\", \"Puzzle\", \"Racing\", \"Role-Playing\", \"Shooter\", \"Sports\", \"Strategy\"], \"ids\": [\"Adventure\", \"Fighting\", \"Misc\", \"Platform\", \"Puzzle\", \"Racing\", \"Role-Playing\", \"Shooter\", \"Sports\", \"Strategy\"], \"legendgroup\": \"SNES\", \"marker\": {\"color\": \"#ab63fa\", \"size\": [21, 21, 21, 21, 21, 21, 21, 21, 21, 21], \"sizemode\": \"area\", \"sizeref\": 0.62, \"symbol\": \"circle\"}, \"mode\": \"markers\", \"name\": \"SNES\", \"orientation\": \"v\", \"showlegend\": true, \"x\": [2, 7, 1, 4, 2, 2, 5, 2, 4, 1], \"xaxis\": \"x\", \"y\": [21, 21, 21, 21, 21, 21, 21, 21, 21, 21], \"yaxis\": \"y\", \"type\": \"scatter\"}], \"name\": \"1992\"}, {\"data\": [{\"hovertemplate\": \"<b>%{hovertext}</b><br><br>Platform=NES<br>Year=1993<br>Number of Genres=%{x}<br>Games per Platform=%{marker.size}<extra></extra>\", \"hovertext\": [\"Action\", \"Adventure\", \"Fighting\", \"Misc\", \"Platform\", \"Puzzle\", \"Racing\", \"Role-Playing\", \"Shooter\", \"Simulation\", \"Sports\", \"Strategy\"], \"ids\": [\"Action\", \"Adventure\", \"Fighting\", \"Misc\", \"Platform\", \"Puzzle\", \"Racing\", \"Role-Playing\", \"Shooter\", \"Simulation\", \"Sports\", \"Strategy\"], \"legendgroup\": \"NES\", \"marker\": {\"color\": \"#EF553B\", \"size\": [4, 4, 4, 4, 4, 4, 4, 4, 4, 4, 4, 4], \"sizemode\": \"area\", \"sizeref\": 0.62, \"symbol\": \"circle\"}, \"mode\": \"markers\", \"name\": \"NES\", \"orientation\": \"v\", \"showlegend\": true, \"x\": [6, 1, 9, 3, 11, 3, 2, 9, 2, 1, 9, 2], \"xaxis\": \"x\", \"y\": [4, 4, 4, 4, 4, 4, 4, 4, 4, 4, 4, 4], \"yaxis\": \"y\", \"type\": \"scatter\"}, {\"hovertemplate\": \"<b>%{hovertext}</b><br><br>Platform=GEN<br>Year=1993<br>Number of Genres=%{x}<br>Games per Platform=%{marker.size}<extra></extra>\", \"hovertext\": [\"Action\", \"Adventure\", \"Fighting\", \"Misc\", \"Platform\", \"Puzzle\", \"Racing\", \"Role-Playing\", \"Shooter\", \"Simulation\", \"Sports\", \"Strategy\"], \"ids\": [\"Action\", \"Adventure\", \"Fighting\", \"Misc\", \"Platform\", \"Puzzle\", \"Racing\", \"Role-Playing\", \"Shooter\", \"Simulation\", \"Sports\", \"Strategy\"], \"legendgroup\": \"GEN\", \"marker\": {\"color\": \"#00cc96\", \"size\": [7, 7, 7, 7, 7, 7, 7, 7, 7, 7, 7, 7], \"sizemode\": \"area\", \"sizeref\": 0.62, \"symbol\": \"circle\"}, \"mode\": \"markers\", \"name\": \"GEN\", \"orientation\": \"v\", \"showlegend\": true, \"x\": [6, 1, 9, 3, 11, 3, 2, 9, 2, 1, 9, 2], \"xaxis\": \"x\", \"y\": [7, 7, 7, 7, 7, 7, 7, 7, 7, 7, 7, 7], \"yaxis\": \"y\", \"type\": \"scatter\"}, {\"hovertemplate\": \"<b>%{hovertext}</b><br><br>Platform=SNES<br>Year=1993<br>Number of Genres=%{x}<br>Games per Platform=%{marker.size}<extra></extra>\", \"hovertext\": [\"Action\", \"Adventure\", \"Fighting\", \"Misc\", \"Platform\", \"Puzzle\", \"Racing\", \"Role-Playing\", \"Shooter\", \"Simulation\", \"Sports\", \"Strategy\"], \"ids\": [\"Action\", \"Adventure\", \"Fighting\", \"Misc\", \"Platform\", \"Puzzle\", \"Racing\", \"Role-Playing\", \"Shooter\", \"Simulation\", \"Sports\", \"Strategy\"], \"legendgroup\": \"SNES\", \"marker\": {\"color\": \"#ab63fa\", \"size\": [46, 46, 46, 46, 46, 46, 46, 46, 46, 46, 46, 46], \"sizemode\": \"area\", \"sizeref\": 0.62, \"symbol\": \"circle\"}, \"mode\": \"markers\", \"name\": \"SNES\", \"orientation\": \"v\", \"showlegend\": true, \"x\": [6, 1, 9, 3, 11, 3, 2, 9, 2, 1, 9, 2], \"xaxis\": \"x\", \"y\": [46, 46, 46, 46, 46, 46, 46, 46, 46, 46, 46, 46], \"yaxis\": \"y\", \"type\": \"scatter\"}, {\"hovertemplate\": \"<b>%{hovertext}</b><br><br>Platform=SCD<br>Year=1993<br>Number of Genres=%{x}<br>Games per Platform=%{marker.size}<extra></extra>\", \"hovertext\": [\"Action\", \"Adventure\", \"Fighting\", \"Misc\", \"Platform\", \"Puzzle\", \"Racing\", \"Role-Playing\", \"Shooter\", \"Simulation\", \"Sports\", \"Strategy\"], \"ids\": [\"Action\", \"Adventure\", \"Fighting\", \"Misc\", \"Platform\", \"Puzzle\", \"Racing\", \"Role-Playing\", \"Shooter\", \"Simulation\", \"Sports\", \"Strategy\"], \"legendgroup\": \"SCD\", \"marker\": {\"color\": \"#FFA15A\", \"size\": [1, 1, 1, 1, 1, 1, 1, 1, 1, 1, 1, 1], \"sizemode\": \"area\", \"sizeref\": 0.62, \"symbol\": \"circle\"}, \"mode\": \"markers\", \"name\": \"SCD\", \"orientation\": \"v\", \"showlegend\": true, \"x\": [6, 1, 9, 3, 11, 3, 2, 9, 2, 1, 9, 2], \"xaxis\": \"x\", \"y\": [1, 1, 1, 1, 1, 1, 1, 1, 1, 1, 1, 1], \"yaxis\": \"y\", \"type\": \"scatter\"}], \"name\": \"1993\"}, {\"data\": [{\"hovertemplate\": \"<b>%{hovertext}</b><br><br>Platform=NES<br>Year=1994<br>Number of Genres=%{x}<br>Games per Platform=%{marker.size}<extra></extra>\", \"hovertext\": [\"Action\", \"Adventure\", \"Fighting\", \"Misc\", \"Platform\", \"Puzzle\", \"Racing\", \"Role-Playing\", \"Shooter\", \"Simulation\", \"Sports\", \"Strategy\"], \"ids\": [\"Action\", \"Adventure\", \"Fighting\", \"Misc\", \"Platform\", \"Puzzle\", \"Racing\", \"Role-Playing\", \"Shooter\", \"Simulation\", \"Sports\", \"Strategy\"], \"legendgroup\": \"NES\", \"marker\": {\"color\": \"#EF553B\", \"size\": [1, 1, 1, 1, 1, 1, 1, 1, 1, 1, 1, 1], \"sizemode\": \"area\", \"sizeref\": 0.62, \"symbol\": \"circle\"}, \"mode\": \"markers\", \"name\": \"NES\", \"orientation\": \"v\", \"showlegend\": true, \"x\": [4, 3, 17, 5, 8, 2, 8, 17, 9, 7, 22, 5], \"xaxis\": \"x\", \"y\": [1, 1, 1, 1, 1, 1, 1, 1, 1, 1, 1, 1], \"yaxis\": \"y\", \"type\": \"scatter\"}, {\"hovertemplate\": \"<b>%{hovertext}</b><br><br>Platform=GEN<br>Year=1994<br>Number of Genres=%{x}<br>Games per Platform=%{marker.size}<extra></extra>\", \"hovertext\": [\"Action\", \"Adventure\", \"Fighting\", \"Misc\", \"Platform\", \"Puzzle\", \"Racing\", \"Role-Playing\", \"Shooter\", \"Simulation\", \"Sports\", \"Strategy\"], \"ids\": [\"Action\", \"Adventure\", \"Fighting\", \"Misc\", \"Platform\", \"Puzzle\", \"Racing\", \"Role-Playing\", \"Shooter\", \"Simulation\", \"Sports\", \"Strategy\"], \"legendgroup\": \"GEN\", \"marker\": {\"color\": \"#00cc96\", \"size\": [12, 12, 12, 12, 12, 12, 12, 12, 12, 12, 12, 12], \"sizemode\": \"area\", \"sizeref\": 0.62, \"symbol\": \"circle\"}, \"mode\": \"markers\", \"name\": \"GEN\", \"orientation\": \"v\", \"showlegend\": true, \"x\": [4, 3, 17, 5, 8, 2, 8, 17, 9, 7, 22, 5], \"xaxis\": \"x\", \"y\": [12, 12, 12, 12, 12, 12, 12, 12, 12, 12, 12, 12], \"yaxis\": \"y\", \"type\": \"scatter\"}, {\"hovertemplate\": \"<b>%{hovertext}</b><br><br>Platform=SNES<br>Year=1994<br>Number of Genres=%{x}<br>Games per Platform=%{marker.size}<extra></extra>\", \"hovertext\": [\"Action\", \"Adventure\", \"Fighting\", \"Misc\", \"Platform\", \"Puzzle\", \"Racing\", \"Role-Playing\", \"Shooter\", \"Simulation\", \"Sports\", \"Strategy\"], \"ids\": [\"Action\", \"Adventure\", \"Fighting\", \"Misc\", \"Platform\", \"Puzzle\", \"Racing\", \"Role-Playing\", \"Shooter\", \"Simulation\", \"Sports\", \"Strategy\"], \"legendgroup\": \"SNES\", \"marker\": {\"color\": \"#ab63fa\", \"size\": [53, 53, 53, 53, 53, 53, 53, 53, 53, 53, 53, 53], \"sizemode\": \"area\", \"sizeref\": 0.62, \"symbol\": \"circle\"}, \"mode\": \"markers\", \"name\": \"SNES\", \"orientation\": \"v\", \"showlegend\": true, \"x\": [4, 3, 17, 5, 8, 2, 8, 17, 9, 7, 22, 5], \"xaxis\": \"x\", \"y\": [53, 53, 53, 53, 53, 53, 53, 53, 53, 53, 53, 53], \"yaxis\": \"y\", \"type\": \"scatter\"}, {\"hovertemplate\": \"<b>%{hovertext}</b><br><br>Platform=SCD<br>Year=1994<br>Number of Genres=%{x}<br>Games per Platform=%{marker.size}<extra></extra>\", \"hovertext\": [\"Action\", \"Adventure\", \"Fighting\", \"Misc\", \"Platform\", \"Puzzle\", \"Racing\", \"Role-Playing\", \"Shooter\", \"Simulation\", \"Sports\", \"Strategy\"], \"ids\": [\"Action\", \"Adventure\", \"Fighting\", \"Misc\", \"Platform\", \"Puzzle\", \"Racing\", \"Role-Playing\", \"Shooter\", \"Simulation\", \"Sports\", \"Strategy\"], \"legendgroup\": \"SCD\", \"marker\": {\"color\": \"#FFA15A\", \"size\": [5, 5, 5, 5, 5, 5, 5, 5, 5, 5, 5, 5], \"sizemode\": \"area\", \"sizeref\": 0.62, \"symbol\": \"circle\"}, \"mode\": \"markers\", \"name\": \"SCD\", \"orientation\": \"v\", \"showlegend\": true, \"x\": [4, 3, 17, 5, 8, 2, 8, 17, 9, 7, 22, 5], \"xaxis\": \"x\", \"y\": [5, 5, 5, 5, 5, 5, 5, 5, 5, 5, 5, 5], \"yaxis\": \"y\", \"type\": \"scatter\"}, {\"hovertemplate\": \"<b>%{hovertext}</b><br><br>Platform=PS<br>Year=1994<br>Number of Genres=%{x}<br>Games per Platform=%{marker.size}<extra></extra>\", \"hovertext\": [\"Action\", \"Adventure\", \"Fighting\", \"Misc\", \"Platform\", \"Puzzle\", \"Racing\", \"Role-Playing\", \"Shooter\", \"Simulation\", \"Sports\", \"Strategy\"], \"ids\": [\"Action\", \"Adventure\", \"Fighting\", \"Misc\", \"Platform\", \"Puzzle\", \"Racing\", \"Role-Playing\", \"Shooter\", \"Simulation\", \"Sports\", \"Strategy\"], \"legendgroup\": \"PS\", \"marker\": {\"color\": \"#19d3f3\", \"size\": [17, 17, 17, 17, 17, 17, 17, 17, 17, 17, 17, 17], \"sizemode\": \"area\", \"sizeref\": 0.62, \"symbol\": \"circle\"}, \"mode\": \"markers\", \"name\": \"PS\", \"orientation\": \"v\", \"showlegend\": true, \"x\": [4, 3, 17, 5, 8, 2, 8, 17, 9, 7, 22, 5], \"xaxis\": \"x\", \"y\": [17, 17, 17, 17, 17, 17, 17, 17, 17, 17, 17, 17], \"yaxis\": \"y\", \"type\": \"scatter\"}, {\"hovertemplate\": \"<b>%{hovertext}</b><br><br>Platform=SAT<br>Year=1994<br>Number of Genres=%{x}<br>Games per Platform=%{marker.size}<extra></extra>\", \"hovertext\": [\"Action\", \"Adventure\", \"Fighting\", \"Misc\", \"Platform\", \"Puzzle\", \"Racing\", \"Role-Playing\", \"Shooter\", \"Simulation\", \"Sports\", \"Strategy\"], \"ids\": [\"Action\", \"Adventure\", \"Fighting\", \"Misc\", \"Platform\", \"Puzzle\", \"Racing\", \"Role-Playing\", \"Shooter\", \"Simulation\", \"Sports\", \"Strategy\"], \"legendgroup\": \"SAT\", \"marker\": {\"color\": \"#FF6692\", \"size\": [19, 19, 19, 19, 19, 19, 19, 19, 19, 19, 19, 19], \"sizemode\": \"area\", \"sizeref\": 0.62, \"symbol\": \"circle\"}, \"mode\": \"markers\", \"name\": \"SAT\", \"orientation\": \"v\", \"showlegend\": true, \"x\": [4, 3, 17, 5, 8, 2, 8, 17, 9, 7, 22, 5], \"xaxis\": \"x\", \"y\": [19, 19, 19, 19, 19, 19, 19, 19, 19, 19, 19, 19], \"yaxis\": \"y\", \"type\": \"scatter\"}], \"name\": \"1994\"}, {\"data\": [{\"hovertemplate\": \"<b>%{hovertext}</b><br><br>Platform=SNES<br>Year=1996<br>Number of Genres=%{x}<br>Games per Platform=%{marker.size}<extra></extra>\", \"hovertext\": [\"Action\", \"Adventure\", \"Fighting\", \"Misc\", \"Platform\", \"Puzzle\", \"Racing\", \"Role-Playing\", \"Shooter\", \"Simulation\", \"Sports\", \"Strategy\"], \"ids\": [\"Action\", \"Adventure\", \"Fighting\", \"Misc\", \"Platform\", \"Puzzle\", \"Racing\", \"Role-Playing\", \"Shooter\", \"Simulation\", \"Sports\", \"Strategy\"], \"legendgroup\": \"SNES\", \"marker\": {\"color\": \"#ab63fa\", \"size\": [30, 30, 30, 30, 30, 30, 30, 30, 30, 30, 30, 30], \"sizemode\": \"area\", \"sizeref\": 0.62, \"symbol\": \"circle\"}, \"mode\": \"markers\", \"name\": \"SNES\", \"orientation\": \"v\", \"showlegend\": true, \"x\": [19, 17, 28, 23, 13, 7, 22, 24, 23, 11, 52, 11], \"xaxis\": \"x\", \"y\": [30, 30, 30, 30, 30, 30, 30, 30, 30, 30, 30, 30], \"yaxis\": \"y\", \"type\": \"scatter\"}, {\"hovertemplate\": \"<b>%{hovertext}</b><br><br>Platform=PS<br>Year=1996<br>Number of Genres=%{x}<br>Games per Platform=%{marker.size}<extra></extra>\", \"hovertext\": [\"Action\", \"Adventure\", \"Fighting\", \"Misc\", \"Platform\", \"Puzzle\", \"Racing\", \"Role-Playing\", \"Shooter\", \"Simulation\", \"Sports\", \"Strategy\"], \"ids\": [\"Action\", \"Adventure\", \"Fighting\", \"Misc\", \"Platform\", \"Puzzle\", \"Racing\", \"Role-Playing\", \"Shooter\", \"Simulation\", \"Sports\", \"Strategy\"], \"legendgroup\": \"PS\", \"marker\": {\"color\": \"#19d3f3\", \"size\": [164, 164, 164, 164, 164, 164, 164, 164, 164, 164, 164, 164], \"sizemode\": \"area\", \"sizeref\": 0.62, \"symbol\": \"circle\"}, \"mode\": \"markers\", \"name\": \"PS\", \"orientation\": \"v\", \"showlegend\": true, \"x\": [19, 17, 28, 23, 13, 7, 22, 24, 23, 11, 52, 11], \"xaxis\": \"x\", \"y\": [164, 164, 164, 164, 164, 164, 164, 164, 164, 164, 164, 164], \"yaxis\": \"y\", \"type\": \"scatter\"}, {\"hovertemplate\": \"<b>%{hovertext}</b><br><br>Platform=SAT<br>Year=1996<br>Number of Genres=%{x}<br>Games per Platform=%{marker.size}<extra></extra>\", \"hovertext\": [\"Action\", \"Adventure\", \"Fighting\", \"Misc\", \"Platform\", \"Puzzle\", \"Racing\", \"Role-Playing\", \"Shooter\", \"Simulation\", \"Sports\", \"Strategy\"], \"ids\": [\"Action\", \"Adventure\", \"Fighting\", \"Misc\", \"Platform\", \"Puzzle\", \"Racing\", \"Role-Playing\", \"Shooter\", \"Simulation\", \"Sports\", \"Strategy\"], \"legendgroup\": \"SAT\", \"marker\": {\"color\": \"#FF6692\", \"size\": [38, 38, 38, 38, 38, 38, 38, 38, 38, 38, 38, 38], \"sizemode\": \"area\", \"sizeref\": 0.62, \"symbol\": \"circle\"}, \"mode\": \"markers\", \"name\": \"SAT\", \"orientation\": \"v\", \"showlegend\": true, \"x\": [19, 17, 28, 23, 13, 7, 22, 24, 23, 11, 52, 11], \"xaxis\": \"x\", \"y\": [38, 38, 38, 38, 38, 38, 38, 38, 38, 38, 38, 38], \"yaxis\": \"y\", \"type\": \"scatter\"}, {\"hovertemplate\": \"<b>%{hovertext}</b><br><br>Platform=N64<br>Year=1996<br>Number of Genres=%{x}<br>Games per Platform=%{marker.size}<extra></extra>\", \"hovertext\": [\"Action\", \"Adventure\", \"Fighting\", \"Misc\", \"Platform\", \"Puzzle\", \"Racing\", \"Role-Playing\", \"Shooter\", \"Simulation\", \"Sports\", \"Strategy\"], \"ids\": [\"Action\", \"Adventure\", \"Fighting\", \"Misc\", \"Platform\", \"Puzzle\", \"Racing\", \"Role-Playing\", \"Shooter\", \"Simulation\", \"Sports\", \"Strategy\"], \"legendgroup\": \"N64\", \"marker\": {\"color\": \"#B6E880\", \"size\": [18, 18, 18, 18, 18, 18, 18, 18, 18, 18, 18, 18], \"sizemode\": \"area\", \"sizeref\": 0.62, \"symbol\": \"circle\"}, \"mode\": \"markers\", \"name\": \"N64\", \"orientation\": \"v\", \"showlegend\": true, \"x\": [19, 17, 28, 23, 13, 7, 22, 24, 23, 11, 52, 11], \"xaxis\": \"x\", \"y\": [18, 18, 18, 18, 18, 18, 18, 18, 18, 18, 18, 18], \"yaxis\": \"y\", \"type\": \"scatter\"}], \"name\": \"1996\"}, {\"data\": [{\"hovertemplate\": \"<b>%{hovertext}</b><br><br>Platform=SNES<br>Year=1997<br>Number of Genres=%{x}<br>Games per Platform=%{marker.size}<extra></extra>\", \"hovertext\": [\"Action\", \"Adventure\", \"Fighting\", \"Misc\", \"Platform\", \"Puzzle\", \"Racing\", \"Role-Playing\", \"Shooter\", \"Simulation\", \"Sports\", \"Strategy\"], \"ids\": [\"Action\", \"Adventure\", \"Fighting\", \"Misc\", \"Platform\", \"Puzzle\", \"Racing\", \"Role-Playing\", \"Shooter\", \"Simulation\", \"Sports\", \"Strategy\"], \"legendgroup\": \"SNES\", \"marker\": {\"color\": \"#ab63fa\", \"size\": [4, 4, 4, 4, 4, 4, 4, 4, 4, 4, 4, 4], \"sizemode\": \"area\", \"sizeref\": 0.62, \"symbol\": \"circle\"}, \"mode\": \"markers\", \"name\": \"SNES\", \"orientation\": \"v\", \"showlegend\": true, \"x\": [30, 13, 28, 10, 17, 13, 35, 22, 26, 17, 46, 18], \"xaxis\": \"x\", \"y\": [4, 4, 4, 4, 4, 4, 4, 4, 4, 4, 4, 4], \"yaxis\": \"y\", \"type\": \"scatter\"}, {\"hovertemplate\": \"<b>%{hovertext}</b><br><br>Platform=PS<br>Year=1997<br>Number of Genres=%{x}<br>Games per Platform=%{marker.size}<extra></extra>\", \"hovertext\": [\"Action\", \"Adventure\", \"Fighting\", \"Misc\", \"Platform\", \"Puzzle\", \"Racing\", \"Role-Playing\", \"Shooter\", \"Simulation\", \"Sports\", \"Strategy\"], \"ids\": [\"Action\", \"Adventure\", \"Fighting\", \"Misc\", \"Platform\", \"Puzzle\", \"Racing\", \"Role-Playing\", \"Shooter\", \"Simulation\", \"Sports\", \"Strategy\"], \"legendgroup\": \"PS\", \"marker\": {\"color\": \"#19d3f3\", \"size\": [188, 188, 188, 188, 188, 188, 188, 188, 188, 188, 188, 188], \"sizemode\": \"area\", \"sizeref\": 0.62, \"symbol\": \"circle\"}, \"mode\": \"markers\", \"name\": \"PS\", \"orientation\": \"v\", \"showlegend\": true, \"x\": [30, 13, 28, 10, 17, 13, 35, 22, 26, 17, 46, 18], \"xaxis\": \"x\", \"y\": [188, 188, 188, 188, 188, 188, 188, 188, 188, 188, 188, 188], \"yaxis\": \"y\", \"type\": \"scatter\"}, {\"hovertemplate\": \"<b>%{hovertext}</b><br><br>Platform=SAT<br>Year=1997<br>Number of Genres=%{x}<br>Games per Platform=%{marker.size}<extra></extra>\", \"hovertext\": [\"Action\", \"Adventure\", \"Fighting\", \"Misc\", \"Platform\", \"Puzzle\", \"Racing\", \"Role-Playing\", \"Shooter\", \"Simulation\", \"Sports\", \"Strategy\"], \"ids\": [\"Action\", \"Adventure\", \"Fighting\", \"Misc\", \"Platform\", \"Puzzle\", \"Racing\", \"Role-Playing\", \"Shooter\", \"Simulation\", \"Sports\", \"Strategy\"], \"legendgroup\": \"SAT\", \"marker\": {\"color\": \"#FF6692\", \"size\": [34, 34, 34, 34, 34, 34, 34, 34, 34, 34, 34, 34], \"sizemode\": \"area\", \"sizeref\": 0.62, \"symbol\": \"circle\"}, \"mode\": \"markers\", \"name\": \"SAT\", \"orientation\": \"v\", \"showlegend\": true, \"x\": [30, 13, 28, 10, 17, 13, 35, 22, 26, 17, 46, 18], \"xaxis\": \"x\", \"y\": [34, 34, 34, 34, 34, 34, 34, 34, 34, 34, 34, 34], \"yaxis\": \"y\", \"type\": \"scatter\"}, {\"hovertemplate\": \"<b>%{hovertext}</b><br><br>Platform=N64<br>Year=1997<br>Number of Genres=%{x}<br>Games per Platform=%{marker.size}<extra></extra>\", \"hovertext\": [\"Action\", \"Adventure\", \"Fighting\", \"Misc\", \"Platform\", \"Puzzle\", \"Racing\", \"Role-Playing\", \"Shooter\", \"Simulation\", \"Sports\", \"Strategy\"], \"ids\": [\"Action\", \"Adventure\", \"Fighting\", \"Misc\", \"Platform\", \"Puzzle\", \"Racing\", \"Role-Playing\", \"Shooter\", \"Simulation\", \"Sports\", \"Strategy\"], \"legendgroup\": \"N64\", \"marker\": {\"color\": \"#B6E880\", \"size\": [49, 49, 49, 49, 49, 49, 49, 49, 49, 49, 49, 49], \"sizemode\": \"area\", \"sizeref\": 0.62, \"symbol\": \"circle\"}, \"mode\": \"markers\", \"name\": \"N64\", \"orientation\": \"v\", \"showlegend\": true, \"x\": [30, 13, 28, 10, 17, 13, 35, 22, 26, 17, 46, 18], \"xaxis\": \"x\", \"y\": [49, 49, 49, 49, 49, 49, 49, 49, 49, 49, 49, 49], \"yaxis\": \"y\", \"type\": \"scatter\"}], \"name\": \"1997\"}, {\"data\": [{\"hovertemplate\": \"<b>%{hovertext}</b><br><br>Platform=SNES<br>Year=1998<br>Number of Genres=%{x}<br>Games per Platform=%{marker.size}<extra></extra>\", \"hovertext\": [\"Action\", \"Adventure\", \"Fighting\", \"Misc\", \"Platform\", \"Puzzle\", \"Racing\", \"Role-Playing\", \"Shooter\", \"Simulation\", \"Sports\", \"Strategy\"], \"ids\": [\"Action\", \"Adventure\", \"Fighting\", \"Misc\", \"Platform\", \"Puzzle\", \"Racing\", \"Role-Playing\", \"Shooter\", \"Simulation\", \"Sports\", \"Strategy\"], \"legendgroup\": \"SNES\", \"marker\": {\"color\": \"#ab63fa\", \"size\": [2, 2, 2, 2, 2, 2, 2, 2, 2, 2, 2, 2], \"sizemode\": \"area\", \"sizeref\": 0.62, \"symbol\": \"circle\"}, \"mode\": \"markers\", \"name\": \"SNES\", \"orientation\": \"v\", \"showlegend\": true, \"x\": [41, 21, 39, 22, 23, 12, 48, 23, 22, 8, 69, 28], \"xaxis\": \"x\", \"y\": [2, 2, 2, 2, 2, 2, 2, 2, 2, 2, 2, 2], \"yaxis\": \"y\", \"type\": \"scatter\"}, {\"hovertemplate\": \"<b>%{hovertext}</b><br><br>Platform=PS<br>Year=1998<br>Number of Genres=%{x}<br>Games per Platform=%{marker.size}<extra></extra>\", \"hovertext\": [\"Action\", \"Adventure\", \"Fighting\", \"Misc\", \"Platform\", \"Puzzle\", \"Racing\", \"Role-Playing\", \"Shooter\", \"Simulation\", \"Sports\", \"Strategy\"], \"ids\": [\"Action\", \"Adventure\", \"Fighting\", \"Misc\", \"Platform\", \"Puzzle\", \"Racing\", \"Role-Playing\", \"Shooter\", \"Simulation\", \"Sports\", \"Strategy\"], \"legendgroup\": \"PS\", \"marker\": {\"color\": \"#19d3f3\", \"size\": [248, 248, 248, 248, 248, 248, 248, 248, 248, 248, 248, 248], \"sizemode\": \"area\", \"sizeref\": 0.62, \"symbol\": \"circle\"}, \"mode\": \"markers\", \"name\": \"PS\", \"orientation\": \"v\", \"showlegend\": true, \"x\": [41, 21, 39, 22, 23, 12, 48, 23, 22, 8, 69, 28], \"xaxis\": \"x\", \"y\": [248, 248, 248, 248, 248, 248, 248, 248, 248, 248, 248, 248], \"yaxis\": \"y\", \"type\": \"scatter\"}, {\"hovertemplate\": \"<b>%{hovertext}</b><br><br>Platform=SAT<br>Year=1998<br>Number of Genres=%{x}<br>Games per Platform=%{marker.size}<extra></extra>\", \"hovertext\": [\"Action\", \"Adventure\", \"Fighting\", \"Misc\", \"Platform\", \"Puzzle\", \"Racing\", \"Role-Playing\", \"Shooter\", \"Simulation\", \"Sports\", \"Strategy\"], \"ids\": [\"Action\", \"Adventure\", \"Fighting\", \"Misc\", \"Platform\", \"Puzzle\", \"Racing\", \"Role-Playing\", \"Shooter\", \"Simulation\", \"Sports\", \"Strategy\"], \"legendgroup\": \"SAT\", \"marker\": {\"color\": \"#FF6692\", \"size\": [29, 29, 29, 29, 29, 29, 29, 29, 29, 29, 29, 29], \"sizemode\": \"area\", \"sizeref\": 0.62, \"symbol\": \"circle\"}, \"mode\": \"markers\", \"name\": \"SAT\", \"orientation\": \"v\", \"showlegend\": true, \"x\": [41, 21, 39, 22, 23, 12, 48, 23, 22, 8, 69, 28], \"xaxis\": \"x\", \"y\": [29, 29, 29, 29, 29, 29, 29, 29, 29, 29, 29, 29], \"yaxis\": \"y\", \"type\": \"scatter\"}, {\"hovertemplate\": \"<b>%{hovertext}</b><br><br>Platform=N64<br>Year=1998<br>Number of Genres=%{x}<br>Games per Platform=%{marker.size}<extra></extra>\", \"hovertext\": [\"Action\", \"Adventure\", \"Fighting\", \"Misc\", \"Platform\", \"Puzzle\", \"Racing\", \"Role-Playing\", \"Shooter\", \"Simulation\", \"Sports\", \"Strategy\"], \"ids\": [\"Action\", \"Adventure\", \"Fighting\", \"Misc\", \"Platform\", \"Puzzle\", \"Racing\", \"Role-Playing\", \"Shooter\", \"Simulation\", \"Sports\", \"Strategy\"], \"legendgroup\": \"N64\", \"marker\": {\"color\": \"#B6E880\", \"size\": [77, 77, 77, 77, 77, 77, 77, 77, 77, 77, 77, 77], \"sizemode\": \"area\", \"sizeref\": 0.62, \"symbol\": \"circle\"}, \"mode\": \"markers\", \"name\": \"N64\", \"orientation\": \"v\", \"showlegend\": true, \"x\": [41, 21, 39, 22, 23, 12, 48, 23, 22, 8, 69, 28], \"xaxis\": \"x\", \"y\": [77, 77, 77, 77, 77, 77, 77, 77, 77, 77, 77, 77], \"yaxis\": \"y\", \"type\": \"scatter\"}], \"name\": \"1998\"}, {\"data\": [{\"hovertemplate\": \"<b>%{hovertext}</b><br><br>Platform=SNES<br>Year=1999<br>Number of Genres=%{x}<br>Games per Platform=%{marker.size}<extra></extra>\", \"hovertext\": [\"Action\", \"Adventure\", \"Fighting\", \"Misc\", \"Platform\", \"Puzzle\", \"Racing\", \"Role-Playing\", \"Shooter\", \"Simulation\", \"Sports\", \"Strategy\"], \"ids\": [\"Action\", \"Adventure\", \"Fighting\", \"Misc\", \"Platform\", \"Puzzle\", \"Racing\", \"Role-Playing\", \"Shooter\", \"Simulation\", \"Sports\", \"Strategy\"], \"legendgroup\": \"SNES\", \"marker\": {\"color\": \"#ab63fa\", \"size\": [1, 1, 1, 1, 1, 1, 1, 1, 1, 1, 1, 1], \"sizemode\": \"area\", \"sizeref\": 0.62, \"symbol\": \"circle\"}, \"mode\": \"markers\", \"name\": \"SNES\", \"orientation\": \"v\", \"showlegend\": true, \"x\": [37, 16, 21, 22, 17, 6, 47, 28, 16, 17, 54, 23], \"xaxis\": \"x\", \"y\": [1, 1, 1, 1, 1, 1, 1, 1, 1, 1, 1, 1], \"yaxis\": \"y\", \"type\": \"scatter\"}, {\"hovertemplate\": \"<b>%{hovertext}</b><br><br>Platform=PS<br>Year=1999<br>Number of Genres=%{x}<br>Games per Platform=%{marker.size}<extra></extra>\", \"hovertext\": [\"Action\", \"Adventure\", \"Fighting\", \"Misc\", \"Platform\", \"Puzzle\", \"Racing\", \"Role-Playing\", \"Shooter\", \"Simulation\", \"Sports\", \"Strategy\"], \"ids\": [\"Action\", \"Adventure\", \"Fighting\", \"Misc\", \"Platform\", \"Puzzle\", \"Racing\", \"Role-Playing\", \"Shooter\", \"Simulation\", \"Sports\", \"Strategy\"], \"legendgroup\": \"PS\", \"marker\": {\"color\": \"#19d3f3\", \"size\": [200, 200, 200, 200, 200, 200, 200, 200, 200, 200, 200, 200], \"sizemode\": \"area\", \"sizeref\": 0.62, \"symbol\": \"circle\"}, \"mode\": \"markers\", \"name\": \"PS\", \"orientation\": \"v\", \"showlegend\": true, \"x\": [37, 16, 21, 22, 17, 6, 47, 28, 16, 17, 54, 23], \"xaxis\": \"x\", \"y\": [200, 200, 200, 200, 200, 200, 200, 200, 200, 200, 200, 200], \"yaxis\": \"y\", \"type\": \"scatter\"}, {\"hovertemplate\": \"<b>%{hovertext}</b><br><br>Platform=SAT<br>Year=1999<br>Number of Genres=%{x}<br>Games per Platform=%{marker.size}<extra></extra>\", \"hovertext\": [\"Action\", \"Adventure\", \"Fighting\", \"Misc\", \"Platform\", \"Puzzle\", \"Racing\", \"Role-Playing\", \"Shooter\", \"Simulation\", \"Sports\", \"Strategy\"], \"ids\": [\"Action\", \"Adventure\", \"Fighting\", \"Misc\", \"Platform\", \"Puzzle\", \"Racing\", \"Role-Playing\", \"Shooter\", \"Simulation\", \"Sports\", \"Strategy\"], \"legendgroup\": \"SAT\", \"marker\": {\"color\": \"#FF6692\", \"size\": [1, 1, 1, 1, 1, 1, 1, 1, 1, 1, 1, 1], \"sizemode\": \"area\", \"sizeref\": 0.62, \"symbol\": \"circle\"}, \"mode\": \"markers\", \"name\": \"SAT\", \"orientation\": \"v\", \"showlegend\": true, \"x\": [37, 16, 21, 22, 17, 6, 47, 28, 16, 17, 54, 23], \"xaxis\": \"x\", \"y\": [1, 1, 1, 1, 1, 1, 1, 1, 1, 1, 1, 1], \"yaxis\": \"y\", \"type\": \"scatter\"}, {\"hovertemplate\": \"<b>%{hovertext}</b><br><br>Platform=N64<br>Year=1999<br>Number of Genres=%{x}<br>Games per Platform=%{marker.size}<extra></extra>\", \"hovertext\": [\"Action\", \"Adventure\", \"Fighting\", \"Misc\", \"Platform\", \"Puzzle\", \"Racing\", \"Role-Playing\", \"Shooter\", \"Simulation\", \"Sports\", \"Strategy\"], \"ids\": [\"Action\", \"Adventure\", \"Fighting\", \"Misc\", \"Platform\", \"Puzzle\", \"Racing\", \"Role-Playing\", \"Shooter\", \"Simulation\", \"Sports\", \"Strategy\"], \"legendgroup\": \"N64\", \"marker\": {\"color\": \"#B6E880\", \"size\": [102, 102, 102, 102, 102, 102, 102, 102, 102, 102, 102, 102], \"sizemode\": \"area\", \"sizeref\": 0.62, \"symbol\": \"circle\"}, \"mode\": \"markers\", \"name\": \"N64\", \"orientation\": \"v\", \"showlegend\": true, \"x\": [37, 16, 21, 22, 17, 6, 47, 28, 16, 17, 54, 23], \"xaxis\": \"x\", \"y\": [102, 102, 102, 102, 102, 102, 102, 102, 102, 102, 102, 102], \"yaxis\": \"y\", \"type\": \"scatter\"}], \"name\": \"1999\"}, {\"data\": [{\"hovertemplate\": \"<b>%{hovertext}</b><br><br>Platform=PS<br>Year=2000<br>Number of Genres=%{x}<br>Games per Platform=%{marker.size}<extra></extra>\", \"hovertext\": [\"Action\", \"Adventure\", \"Fighting\", \"Misc\", \"Platform\", \"Puzzle\", \"Racing\", \"Role-Playing\", \"Shooter\", \"Simulation\", \"Sports\", \"Strategy\"], \"ids\": [\"Action\", \"Adventure\", \"Fighting\", \"Misc\", \"Platform\", \"Puzzle\", \"Racing\", \"Role-Playing\", \"Shooter\", \"Simulation\", \"Sports\", \"Strategy\"], \"legendgroup\": \"PS\", \"marker\": {\"color\": \"#19d3f3\", \"size\": [159, 159, 159, 159, 159, 159, 159, 159, 159, 159, 159, 159], \"sizemode\": \"area\", \"sizeref\": 0.62, \"symbol\": \"circle\"}, \"mode\": \"markers\", \"name\": \"PS\", \"orientation\": \"v\", \"showlegend\": true, \"x\": [36, 9, 16, 17, 18, 6, 31, 11, 13, 5, 50, 7], \"xaxis\": \"x\", \"y\": [159, 159, 159, 159, 159, 159, 159, 159, 159, 159, 159, 159], \"yaxis\": \"y\", \"type\": \"scatter\"}, {\"hovertemplate\": \"<b>%{hovertext}</b><br><br>Platform=N64<br>Year=2000<br>Number of Genres=%{x}<br>Games per Platform=%{marker.size}<extra></extra>\", \"hovertext\": [\"Action\", \"Adventure\", \"Fighting\", \"Misc\", \"Platform\", \"Puzzle\", \"Racing\", \"Role-Playing\", \"Shooter\", \"Simulation\", \"Sports\", \"Strategy\"], \"ids\": [\"Action\", \"Adventure\", \"Fighting\", \"Misc\", \"Platform\", \"Puzzle\", \"Racing\", \"Role-Playing\", \"Shooter\", \"Simulation\", \"Sports\", \"Strategy\"], \"legendgroup\": \"N64\", \"marker\": {\"color\": \"#B6E880\", \"size\": [60, 60, 60, 60, 60, 60, 60, 60, 60, 60, 60, 60], \"sizemode\": \"area\", \"sizeref\": 0.62, \"symbol\": \"circle\"}, \"mode\": \"markers\", \"name\": \"N64\", \"orientation\": \"v\", \"showlegend\": true, \"x\": [36, 9, 16, 17, 18, 6, 31, 11, 13, 5, 50, 7], \"xaxis\": \"x\", \"y\": [60, 60, 60, 60, 60, 60, 60, 60, 60, 60, 60, 60], \"yaxis\": \"y\", \"type\": \"scatter\"}], \"name\": \"2000\"}, {\"data\": [{\"hovertemplate\": \"<b>%{hovertext}</b><br><br>Platform=PS<br>Year=2001<br>Number of Genres=%{x}<br>Games per Platform=%{marker.size}<extra></extra>\", \"hovertext\": [\"Action\", \"Adventure\", \"Fighting\", \"Misc\", \"Platform\", \"Puzzle\", \"Racing\", \"Role-Playing\", \"Shooter\", \"Simulation\", \"Sports\", \"Strategy\"], \"ids\": [\"Action\", \"Adventure\", \"Fighting\", \"Misc\", \"Platform\", \"Puzzle\", \"Racing\", \"Role-Playing\", \"Shooter\", \"Simulation\", \"Sports\", \"Strategy\"], \"legendgroup\": \"PS\", \"marker\": {\"color\": \"#19d3f3\", \"size\": [91, 91, 91, 91, 91, 91, 91, 91, 91, 91, 91, 91], \"sizemode\": \"area\", \"sizeref\": 0.62, \"symbol\": \"circle\"}, \"mode\": \"markers\", \"name\": \"PS\", \"orientation\": \"v\", \"showlegend\": true, \"x\": [19, 7, 4, 3, 7, 3, 11, 8, 8, 3, 24, 3], \"xaxis\": \"x\", \"y\": [91, 91, 91, 91, 91, 91, 91, 91, 91, 91, 91, 91], \"yaxis\": \"y\", \"type\": \"scatter\"}, {\"hovertemplate\": \"<b>%{hovertext}</b><br><br>Platform=N64<br>Year=2001<br>Number of Genres=%{x}<br>Games per Platform=%{marker.size}<extra></extra>\", \"hovertext\": [\"Action\", \"Adventure\", \"Fighting\", \"Misc\", \"Platform\", \"Puzzle\", \"Racing\", \"Role-Playing\", \"Shooter\", \"Simulation\", \"Sports\", \"Strategy\"], \"ids\": [\"Action\", \"Adventure\", \"Fighting\", \"Misc\", \"Platform\", \"Puzzle\", \"Racing\", \"Role-Playing\", \"Shooter\", \"Simulation\", \"Sports\", \"Strategy\"], \"legendgroup\": \"N64\", \"marker\": {\"color\": \"#B6E880\", \"size\": [9, 9, 9, 9, 9, 9, 9, 9, 9, 9, 9, 9], \"sizemode\": \"area\", \"sizeref\": 0.62, \"symbol\": \"circle\"}, \"mode\": \"markers\", \"name\": \"N64\", \"orientation\": \"v\", \"showlegend\": true, \"x\": [19, 7, 4, 3, 7, 3, 11, 8, 8, 3, 24, 3], \"xaxis\": \"x\", \"y\": [9, 9, 9, 9, 9, 9, 9, 9, 9, 9, 9, 9], \"yaxis\": \"y\", \"type\": \"scatter\"}], \"name\": \"2001\"}, {\"data\": [{\"hovertemplate\": \"<b>%{hovertext}</b><br><br>Platform=PS<br>Year=2002<br>Number of Genres=%{x}<br>Games per Platform=%{marker.size}<extra></extra>\", \"hovertext\": [\"Action\", \"Adventure\", \"Fighting\", \"Platform\", \"Racing\", \"Role-Playing\", \"Shooter\", \"Simulation\", \"Sports\"], \"ids\": [\"Action\", \"Adventure\", \"Fighting\", \"Platform\", \"Racing\", \"Role-Playing\", \"Shooter\", \"Simulation\", \"Sports\"], \"legendgroup\": \"PS\", \"marker\": {\"color\": \"#19d3f3\", \"size\": [20, 20, 20, 20, 20, 20, 20, 20, 20], \"sizemode\": \"area\", \"sizeref\": 0.62, \"symbol\": \"circle\"}, \"mode\": \"markers\", \"name\": \"PS\", \"orientation\": \"v\", \"showlegend\": true, \"x\": [5, 2, 3, 2, 1, 2, 1, 1, 4], \"xaxis\": \"x\", \"y\": [20, 20, 20, 20, 20, 20, 20, 20, 20], \"yaxis\": \"y\", \"type\": \"scatter\"}, {\"hovertemplate\": \"<b>%{hovertext}</b><br><br>Platform=N64<br>Year=2002<br>Number of Genres=%{x}<br>Games per Platform=%{marker.size}<extra></extra>\", \"hovertext\": [\"Action\", \"Adventure\", \"Fighting\", \"Platform\", \"Racing\", \"Role-Playing\", \"Shooter\", \"Simulation\", \"Sports\"], \"ids\": [\"Action\", \"Adventure\", \"Fighting\", \"Platform\", \"Racing\", \"Role-Playing\", \"Shooter\", \"Simulation\", \"Sports\"], \"legendgroup\": \"N64\", \"marker\": {\"color\": \"#B6E880\", \"size\": [1, 1, 1, 1, 1, 1, 1, 1, 1], \"sizemode\": \"area\", \"sizeref\": 0.62, \"symbol\": \"circle\"}, \"mode\": \"markers\", \"name\": \"N64\", \"orientation\": \"v\", \"showlegend\": true, \"x\": [5, 2, 3, 2, 1, 2, 1, 1, 4], \"xaxis\": \"x\", \"y\": [1, 1, 1, 1, 1, 1, 1, 1, 1], \"yaxis\": \"y\", \"type\": \"scatter\"}], \"name\": \"2002\"}, {\"data\": [{\"hovertemplate\": \"<b>%{hovertext}</b><br><br>Platform=SNES<br>Year=1995<br>Number of Genres=%{x}<br>Games per Platform=%{marker.size}<extra></extra>\", \"hovertext\": [\"Action\", \"Adventure\", \"Fighting\", \"Misc\", \"Platform\", \"Puzzle\", \"Racing\", \"Role-Playing\", \"Shooter\", \"Simulation\", \"Sports\", \"Strategy\"], \"ids\": [\"Action\", \"Adventure\", \"Fighting\", \"Misc\", \"Platform\", \"Puzzle\", \"Racing\", \"Role-Playing\", \"Shooter\", \"Simulation\", \"Sports\", \"Strategy\"], \"legendgroup\": \"SNES\", \"marker\": {\"color\": \"#ab63fa\", \"size\": [54, 54, 54, 54, 54, 54, 54, 54, 54, 54, 54, 54], \"sizemode\": \"area\", \"sizeref\": 0.62, \"symbol\": \"circle\"}, \"mode\": \"markers\", \"name\": \"SNES\", \"orientation\": \"v\", \"showlegend\": true, \"x\": [8, 11, 26, 20, 12, 10, 12, 24, 28, 13, 28, 13], \"xaxis\": \"x\", \"y\": [54, 54, 54, 54, 54, 54, 54, 54, 54, 54, 54, 54], \"yaxis\": \"y\", \"type\": \"scatter\"}, {\"hovertemplate\": \"<b>%{hovertext}</b><br><br>Platform=PS<br>Year=1995<br>Number of Genres=%{x}<br>Games per Platform=%{marker.size}<extra></extra>\", \"hovertext\": [\"Action\", \"Adventure\", \"Fighting\", \"Misc\", \"Platform\", \"Puzzle\", \"Racing\", \"Role-Playing\", \"Shooter\", \"Simulation\", \"Sports\", \"Strategy\"], \"ids\": [\"Action\", \"Adventure\", \"Fighting\", \"Misc\", \"Platform\", \"Puzzle\", \"Racing\", \"Role-Playing\", \"Shooter\", \"Simulation\", \"Sports\", \"Strategy\"], \"legendgroup\": \"PS\", \"marker\": {\"color\": \"#19d3f3\", \"size\": [99, 99, 99, 99, 99, 99, 99, 99, 99, 99, 99, 99], \"sizemode\": \"area\", \"sizeref\": 0.62, \"symbol\": \"circle\"}, \"mode\": \"markers\", \"name\": \"PS\", \"orientation\": \"v\", \"showlegend\": true, \"x\": [8, 11, 26, 20, 12, 10, 12, 24, 28, 13, 28, 13], \"xaxis\": \"x\", \"y\": [99, 99, 99, 99, 99, 99, 99, 99, 99, 99, 99, 99], \"yaxis\": \"y\", \"type\": \"scatter\"}, {\"hovertemplate\": \"<b>%{hovertext}</b><br><br>Platform=SAT<br>Year=1995<br>Number of Genres=%{x}<br>Games per Platform=%{marker.size}<extra></extra>\", \"hovertext\": [\"Action\", \"Adventure\", \"Fighting\", \"Misc\", \"Platform\", \"Puzzle\", \"Racing\", \"Role-Playing\", \"Shooter\", \"Simulation\", \"Sports\", \"Strategy\"], \"ids\": [\"Action\", \"Adventure\", \"Fighting\", \"Misc\", \"Platform\", \"Puzzle\", \"Racing\", \"Role-Playing\", \"Shooter\", \"Simulation\", \"Sports\", \"Strategy\"], \"legendgroup\": \"SAT\", \"marker\": {\"color\": \"#FF6692\", \"size\": [52, 52, 52, 52, 52, 52, 52, 52, 52, 52, 52, 52], \"sizemode\": \"area\", \"sizeref\": 0.62, \"symbol\": \"circle\"}, \"mode\": \"markers\", \"name\": \"SAT\", \"orientation\": \"v\", \"showlegend\": true, \"x\": [8, 11, 26, 20, 12, 10, 12, 24, 28, 13, 28, 13], \"xaxis\": \"x\", \"y\": [52, 52, 52, 52, 52, 52, 52, 52, 52, 52, 52, 52], \"yaxis\": \"y\", \"type\": \"scatter\"}], \"name\": \"1995\"}, {\"data\": [{\"hovertemplate\": \"<b>%{hovertext}</b><br><br>Platform=PS<br>Year=2003<br>Number of Genres=%{x}<br>Games per Platform=%{marker.size}<extra></extra>\", \"hovertext\": [\"Misc\", \"Sports\"], \"ids\": [\"Misc\", \"Sports\"], \"legendgroup\": \"PS\", \"marker\": {\"color\": \"#19d3f3\", \"size\": [3, 3], \"sizemode\": \"area\", \"sizeref\": 0.62, \"symbol\": \"circle\"}, \"mode\": \"markers\", \"name\": \"PS\", \"orientation\": \"v\", \"showlegend\": true, \"x\": [2, 1], \"xaxis\": \"x\", \"y\": [3, 3], \"yaxis\": \"y\", \"type\": \"scatter\"}], \"name\": \"2003\"}]);\n",
       "                        }).then(function(){\n",
       "                            \n",
       "var gd = document.getElementById('d07e4b1b-f260-4ded-9205-23f79421f258');\n",
=======
       "<div>                            <div id=\"46883a33-4e54-440a-9f48-b0dbca40322f\" class=\"plotly-graph-div\" style=\"height:525px; width:100%;\"></div>            <script type=\"text/javascript\">                require([\"plotly\"], function(Plotly) {                    window.PLOTLYENV=window.PLOTLYENV || {};                                    if (document.getElementById(\"46883a33-4e54-440a-9f48-b0dbca40322f\")) {                    Plotly.newPlot(                        \"46883a33-4e54-440a-9f48-b0dbca40322f\",                        [{\"hovertemplate\": \"<b>%{hovertext}</b><br><br>Platform=2600<br>Year=1980<br>Games per Genre=%{x}<br>Games per Platform=%{marker.size}<extra></extra>\", \"hovertext\": [\"Fighting\", \"Misc\", \"Shooter\", \"Sports\"], \"ids\": [\"Fighting\", \"Misc\", \"Shooter\", \"Sports\"], \"legendgroup\": \"2600\", \"marker\": {\"color\": \"#636efa\", \"size\": [5, 5, 5, 5], \"sizemode\": \"area\", \"sizeref\": 0.42, \"symbol\": \"circle\"}, \"mode\": \"markers\", \"name\": \"2600\", \"orientation\": \"v\", \"showlegend\": true, \"type\": \"scatter\", \"x\": [1, 2, 1, 1], \"xaxis\": \"x\", \"y\": [5, 5, 5, 5], \"yaxis\": \"y\"}],                        {\"legend\": {\"itemsizing\": \"constant\", \"title\": {\"text\": \"Platform\"}, \"tracegroupgap\": 0}, \"margin\": {\"t\": 60}, \"sliders\": [{\"active\": 0, \"currentvalue\": {\"prefix\": \"Year=\"}, \"len\": 0.9, \"pad\": {\"b\": 10, \"t\": 60}, \"steps\": [{\"args\": [[\"1980\"], {\"frame\": {\"duration\": 0, \"redraw\": false}, \"fromcurrent\": true, \"mode\": \"immediate\", \"transition\": {\"duration\": 0, \"easing\": \"linear\"}}], \"label\": \"1980\", \"method\": \"animate\"}, {\"args\": [[\"1981\"], {\"frame\": {\"duration\": 0, \"redraw\": false}, \"fromcurrent\": true, \"mode\": \"immediate\", \"transition\": {\"duration\": 0, \"easing\": \"linear\"}}], \"label\": \"1981\", \"method\": \"animate\"}, {\"args\": [[\"1982\"], {\"frame\": {\"duration\": 0, \"redraw\": false}, \"fromcurrent\": true, \"mode\": \"immediate\", \"transition\": {\"duration\": 0, \"easing\": \"linear\"}}], \"label\": \"1982\", \"method\": \"animate\"}, {\"args\": [[\"1983\"], {\"frame\": {\"duration\": 0, \"redraw\": false}, \"fromcurrent\": true, \"mode\": \"immediate\", \"transition\": {\"duration\": 0, \"easing\": \"linear\"}}], \"label\": \"1983\", \"method\": \"animate\"}, {\"args\": [[\"1984\"], {\"frame\": {\"duration\": 0, \"redraw\": false}, \"fromcurrent\": true, \"mode\": \"immediate\", \"transition\": {\"duration\": 0, \"easing\": \"linear\"}}], \"label\": \"1984\", \"method\": \"animate\"}, {\"args\": [[\"1985\"], {\"frame\": {\"duration\": 0, \"redraw\": false}, \"fromcurrent\": true, \"mode\": \"immediate\", \"transition\": {\"duration\": 0, \"easing\": \"linear\"}}], \"label\": \"1985\", \"method\": \"animate\"}, {\"args\": [[\"1986\"], {\"frame\": {\"duration\": 0, \"redraw\": false}, \"fromcurrent\": true, \"mode\": \"immediate\", \"transition\": {\"duration\": 0, \"easing\": \"linear\"}}], \"label\": \"1986\", \"method\": \"animate\"}, {\"args\": [[\"1987\"], {\"frame\": {\"duration\": 0, \"redraw\": false}, \"fromcurrent\": true, \"mode\": \"immediate\", \"transition\": {\"duration\": 0, \"easing\": \"linear\"}}], \"label\": \"1987\", \"method\": \"animate\"}, {\"args\": [[\"1988\"], {\"frame\": {\"duration\": 0, \"redraw\": false}, \"fromcurrent\": true, \"mode\": \"immediate\", \"transition\": {\"duration\": 0, \"easing\": \"linear\"}}], \"label\": \"1988\", \"method\": \"animate\"}, {\"args\": [[\"1989\"], {\"frame\": {\"duration\": 0, \"redraw\": false}, \"fromcurrent\": true, \"mode\": \"immediate\", \"transition\": {\"duration\": 0, \"easing\": \"linear\"}}], \"label\": \"1989\", \"method\": \"animate\"}, {\"args\": [[\"1990\"], {\"frame\": {\"duration\": 0, \"redraw\": false}, \"fromcurrent\": true, \"mode\": \"immediate\", \"transition\": {\"duration\": 0, \"easing\": \"linear\"}}], \"label\": \"1990\", \"method\": \"animate\"}, {\"args\": [[\"1991\"], {\"frame\": {\"duration\": 0, \"redraw\": false}, \"fromcurrent\": true, \"mode\": \"immediate\", \"transition\": {\"duration\": 0, \"easing\": \"linear\"}}], \"label\": \"1991\", \"method\": \"animate\"}, {\"args\": [[\"1992\"], {\"frame\": {\"duration\": 0, \"redraw\": false}, \"fromcurrent\": true, \"mode\": \"immediate\", \"transition\": {\"duration\": 0, \"easing\": \"linear\"}}], \"label\": \"1992\", \"method\": \"animate\"}, {\"args\": [[\"1993\"], {\"frame\": {\"duration\": 0, \"redraw\": false}, \"fromcurrent\": true, \"mode\": \"immediate\", \"transition\": {\"duration\": 0, \"easing\": \"linear\"}}], \"label\": \"1993\", \"method\": \"animate\"}, {\"args\": [[\"1994\"], {\"frame\": {\"duration\": 0, \"redraw\": false}, \"fromcurrent\": true, \"mode\": \"immediate\", \"transition\": {\"duration\": 0, \"easing\": \"linear\"}}], \"label\": \"1994\", \"method\": \"animate\"}, {\"args\": [[\"1996\"], {\"frame\": {\"duration\": 0, \"redraw\": false}, \"fromcurrent\": true, \"mode\": \"immediate\", \"transition\": {\"duration\": 0, \"easing\": \"linear\"}}], \"label\": \"1996\", \"method\": \"animate\"}, {\"args\": [[\"1997\"], {\"frame\": {\"duration\": 0, \"redraw\": false}, \"fromcurrent\": true, \"mode\": \"immediate\", \"transition\": {\"duration\": 0, \"easing\": \"linear\"}}], \"label\": \"1997\", \"method\": \"animate\"}, {\"args\": [[\"1998\"], {\"frame\": {\"duration\": 0, \"redraw\": false}, \"fromcurrent\": true, \"mode\": \"immediate\", \"transition\": {\"duration\": 0, \"easing\": \"linear\"}}], \"label\": \"1998\", \"method\": \"animate\"}, {\"args\": [[\"1999\"], {\"frame\": {\"duration\": 0, \"redraw\": false}, \"fromcurrent\": true, \"mode\": \"immediate\", \"transition\": {\"duration\": 0, \"easing\": \"linear\"}}], \"label\": \"1999\", \"method\": \"animate\"}, {\"args\": [[\"2000\"], {\"frame\": {\"duration\": 0, \"redraw\": false}, \"fromcurrent\": true, \"mode\": \"immediate\", \"transition\": {\"duration\": 0, \"easing\": \"linear\"}}], \"label\": \"2000\", \"method\": \"animate\"}, {\"args\": [[\"2001\"], {\"frame\": {\"duration\": 0, \"redraw\": false}, \"fromcurrent\": true, \"mode\": \"immediate\", \"transition\": {\"duration\": 0, \"easing\": \"linear\"}}], \"label\": \"2001\", \"method\": \"animate\"}, {\"args\": [[\"2002\"], {\"frame\": {\"duration\": 0, \"redraw\": false}, \"fromcurrent\": true, \"mode\": \"immediate\", \"transition\": {\"duration\": 0, \"easing\": \"linear\"}}], \"label\": \"2002\", \"method\": \"animate\"}, {\"args\": [[\"1995\"], {\"frame\": {\"duration\": 0, \"redraw\": false}, \"fromcurrent\": true, \"mode\": \"immediate\", \"transition\": {\"duration\": 0, \"easing\": \"linear\"}}], \"label\": \"1995\", \"method\": \"animate\"}, {\"args\": [[\"2003\"], {\"frame\": {\"duration\": 0, \"redraw\": false}, \"fromcurrent\": true, \"mode\": \"immediate\", \"transition\": {\"duration\": 0, \"easing\": \"linear\"}}], \"label\": \"2003\", \"method\": \"animate\"}], \"x\": 0.1, \"xanchor\": \"left\", \"y\": 0, \"yanchor\": \"top\"}], \"template\": {\"data\": {\"bar\": [{\"error_x\": {\"color\": \"#2a3f5f\"}, \"error_y\": {\"color\": \"#2a3f5f\"}, \"marker\": {\"line\": {\"color\": \"#E5ECF6\", \"width\": 0.5}}, \"type\": \"bar\"}], \"barpolar\": [{\"marker\": {\"line\": {\"color\": \"#E5ECF6\", \"width\": 0.5}}, \"type\": \"barpolar\"}], \"carpet\": [{\"aaxis\": {\"endlinecolor\": \"#2a3f5f\", \"gridcolor\": \"white\", \"linecolor\": \"white\", \"minorgridcolor\": \"white\", \"startlinecolor\": \"#2a3f5f\"}, \"baxis\": {\"endlinecolor\": \"#2a3f5f\", \"gridcolor\": \"white\", \"linecolor\": \"white\", \"minorgridcolor\": \"white\", \"startlinecolor\": \"#2a3f5f\"}, \"type\": \"carpet\"}], \"choropleth\": [{\"colorbar\": {\"outlinewidth\": 0, \"ticks\": \"\"}, \"type\": \"choropleth\"}], \"contour\": [{\"colorbar\": {\"outlinewidth\": 0, \"ticks\": \"\"}, \"colorscale\": [[0.0, \"#0d0887\"], [0.1111111111111111, \"#46039f\"], [0.2222222222222222, \"#7201a8\"], [0.3333333333333333, \"#9c179e\"], [0.4444444444444444, \"#bd3786\"], [0.5555555555555556, \"#d8576b\"], [0.6666666666666666, \"#ed7953\"], [0.7777777777777778, \"#fb9f3a\"], [0.8888888888888888, \"#fdca26\"], [1.0, \"#f0f921\"]], \"type\": \"contour\"}], \"contourcarpet\": [{\"colorbar\": {\"outlinewidth\": 0, \"ticks\": \"\"}, \"type\": \"contourcarpet\"}], \"heatmap\": [{\"colorbar\": {\"outlinewidth\": 0, \"ticks\": \"\"}, \"colorscale\": [[0.0, \"#0d0887\"], [0.1111111111111111, \"#46039f\"], [0.2222222222222222, \"#7201a8\"], [0.3333333333333333, \"#9c179e\"], [0.4444444444444444, \"#bd3786\"], [0.5555555555555556, \"#d8576b\"], [0.6666666666666666, \"#ed7953\"], [0.7777777777777778, \"#fb9f3a\"], [0.8888888888888888, \"#fdca26\"], [1.0, \"#f0f921\"]], \"type\": \"heatmap\"}], \"heatmapgl\": [{\"colorbar\": {\"outlinewidth\": 0, \"ticks\": \"\"}, \"colorscale\": [[0.0, \"#0d0887\"], [0.1111111111111111, \"#46039f\"], [0.2222222222222222, \"#7201a8\"], [0.3333333333333333, \"#9c179e\"], [0.4444444444444444, \"#bd3786\"], [0.5555555555555556, \"#d8576b\"], [0.6666666666666666, \"#ed7953\"], [0.7777777777777778, \"#fb9f3a\"], [0.8888888888888888, \"#fdca26\"], [1.0, \"#f0f921\"]], \"type\": \"heatmapgl\"}], \"histogram\": [{\"marker\": {\"colorbar\": {\"outlinewidth\": 0, \"ticks\": \"\"}}, \"type\": \"histogram\"}], \"histogram2d\": [{\"colorbar\": {\"outlinewidth\": 0, \"ticks\": \"\"}, \"colorscale\": [[0.0, \"#0d0887\"], [0.1111111111111111, \"#46039f\"], [0.2222222222222222, \"#7201a8\"], [0.3333333333333333, \"#9c179e\"], [0.4444444444444444, \"#bd3786\"], [0.5555555555555556, \"#d8576b\"], [0.6666666666666666, \"#ed7953\"], [0.7777777777777778, \"#fb9f3a\"], [0.8888888888888888, \"#fdca26\"], [1.0, \"#f0f921\"]], \"type\": \"histogram2d\"}], \"histogram2dcontour\": [{\"colorbar\": {\"outlinewidth\": 0, \"ticks\": \"\"}, \"colorscale\": [[0.0, \"#0d0887\"], [0.1111111111111111, \"#46039f\"], [0.2222222222222222, \"#7201a8\"], [0.3333333333333333, \"#9c179e\"], [0.4444444444444444, \"#bd3786\"], [0.5555555555555556, \"#d8576b\"], [0.6666666666666666, \"#ed7953\"], [0.7777777777777778, \"#fb9f3a\"], [0.8888888888888888, \"#fdca26\"], [1.0, \"#f0f921\"]], \"type\": \"histogram2dcontour\"}], \"mesh3d\": [{\"colorbar\": {\"outlinewidth\": 0, \"ticks\": \"\"}, \"type\": \"mesh3d\"}], \"parcoords\": [{\"line\": {\"colorbar\": {\"outlinewidth\": 0, \"ticks\": \"\"}}, \"type\": \"parcoords\"}], \"pie\": [{\"automargin\": true, \"type\": \"pie\"}], \"scatter\": [{\"marker\": {\"colorbar\": {\"outlinewidth\": 0, \"ticks\": \"\"}}, \"type\": \"scatter\"}], \"scatter3d\": [{\"line\": {\"colorbar\": {\"outlinewidth\": 0, \"ticks\": \"\"}}, \"marker\": {\"colorbar\": {\"outlinewidth\": 0, \"ticks\": \"\"}}, \"type\": \"scatter3d\"}], \"scattercarpet\": [{\"marker\": {\"colorbar\": {\"outlinewidth\": 0, \"ticks\": \"\"}}, \"type\": \"scattercarpet\"}], \"scattergeo\": [{\"marker\": {\"colorbar\": {\"outlinewidth\": 0, \"ticks\": \"\"}}, \"type\": \"scattergeo\"}], \"scattergl\": [{\"marker\": {\"colorbar\": {\"outlinewidth\": 0, \"ticks\": \"\"}}, \"type\": \"scattergl\"}], \"scattermapbox\": [{\"marker\": {\"colorbar\": {\"outlinewidth\": 0, \"ticks\": \"\"}}, \"type\": \"scattermapbox\"}], \"scatterpolar\": [{\"marker\": {\"colorbar\": {\"outlinewidth\": 0, \"ticks\": \"\"}}, \"type\": \"scatterpolar\"}], \"scatterpolargl\": [{\"marker\": {\"colorbar\": {\"outlinewidth\": 0, \"ticks\": \"\"}}, \"type\": \"scatterpolargl\"}], \"scatterternary\": [{\"marker\": {\"colorbar\": {\"outlinewidth\": 0, \"ticks\": \"\"}}, \"type\": \"scatterternary\"}], \"surface\": [{\"colorbar\": {\"outlinewidth\": 0, \"ticks\": \"\"}, \"colorscale\": [[0.0, \"#0d0887\"], [0.1111111111111111, \"#46039f\"], [0.2222222222222222, \"#7201a8\"], [0.3333333333333333, \"#9c179e\"], [0.4444444444444444, \"#bd3786\"], [0.5555555555555556, \"#d8576b\"], [0.6666666666666666, \"#ed7953\"], [0.7777777777777778, \"#fb9f3a\"], [0.8888888888888888, \"#fdca26\"], [1.0, \"#f0f921\"]], \"type\": \"surface\"}], \"table\": [{\"cells\": {\"fill\": {\"color\": \"#EBF0F8\"}, \"line\": {\"color\": \"white\"}}, \"header\": {\"fill\": {\"color\": \"#C8D4E3\"}, \"line\": {\"color\": \"white\"}}, \"type\": \"table\"}]}, \"layout\": {\"annotationdefaults\": {\"arrowcolor\": \"#2a3f5f\", \"arrowhead\": 0, \"arrowwidth\": 1}, \"coloraxis\": {\"colorbar\": {\"outlinewidth\": 0, \"ticks\": \"\"}}, \"colorscale\": {\"diverging\": [[0, \"#8e0152\"], [0.1, \"#c51b7d\"], [0.2, \"#de77ae\"], [0.3, \"#f1b6da\"], [0.4, \"#fde0ef\"], [0.5, \"#f7f7f7\"], [0.6, \"#e6f5d0\"], [0.7, \"#b8e186\"], [0.8, \"#7fbc41\"], [0.9, \"#4d9221\"], [1, \"#276419\"]], \"sequential\": [[0.0, \"#0d0887\"], [0.1111111111111111, \"#46039f\"], [0.2222222222222222, \"#7201a8\"], [0.3333333333333333, \"#9c179e\"], [0.4444444444444444, \"#bd3786\"], [0.5555555555555556, \"#d8576b\"], [0.6666666666666666, \"#ed7953\"], [0.7777777777777778, \"#fb9f3a\"], [0.8888888888888888, \"#fdca26\"], [1.0, \"#f0f921\"]], \"sequentialminus\": [[0.0, \"#0d0887\"], [0.1111111111111111, \"#46039f\"], [0.2222222222222222, \"#7201a8\"], [0.3333333333333333, \"#9c179e\"], [0.4444444444444444, \"#bd3786\"], [0.5555555555555556, \"#d8576b\"], [0.6666666666666666, \"#ed7953\"], [0.7777777777777778, \"#fb9f3a\"], [0.8888888888888888, \"#fdca26\"], [1.0, \"#f0f921\"]]}, \"colorway\": [\"#636efa\", \"#EF553B\", \"#00cc96\", \"#ab63fa\", \"#FFA15A\", \"#19d3f3\", \"#FF6692\", \"#B6E880\", \"#FF97FF\", \"#FECB52\"], \"font\": {\"color\": \"#2a3f5f\"}, \"geo\": {\"bgcolor\": \"white\", \"lakecolor\": \"white\", \"landcolor\": \"#E5ECF6\", \"showlakes\": true, \"showland\": true, \"subunitcolor\": \"white\"}, \"hoverlabel\": {\"align\": \"left\"}, \"hovermode\": \"closest\", \"mapbox\": {\"style\": \"light\"}, \"paper_bgcolor\": \"white\", \"plot_bgcolor\": \"#E5ECF6\", \"polar\": {\"angularaxis\": {\"gridcolor\": \"white\", \"linecolor\": \"white\", \"ticks\": \"\"}, \"bgcolor\": \"#E5ECF6\", \"radialaxis\": {\"gridcolor\": \"white\", \"linecolor\": \"white\", \"ticks\": \"\"}}, \"scene\": {\"xaxis\": {\"backgroundcolor\": \"#E5ECF6\", \"gridcolor\": \"white\", \"gridwidth\": 2, \"linecolor\": \"white\", \"showbackground\": true, \"ticks\": \"\", \"zerolinecolor\": \"white\"}, \"yaxis\": {\"backgroundcolor\": \"#E5ECF6\", \"gridcolor\": \"white\", \"gridwidth\": 2, \"linecolor\": \"white\", \"showbackground\": true, \"ticks\": \"\", \"zerolinecolor\": \"white\"}, \"zaxis\": {\"backgroundcolor\": \"#E5ECF6\", \"gridcolor\": \"white\", \"gridwidth\": 2, \"linecolor\": \"white\", \"showbackground\": true, \"ticks\": \"\", \"zerolinecolor\": \"white\"}}, \"shapedefaults\": {\"line\": {\"color\": \"#2a3f5f\"}}, \"ternary\": {\"aaxis\": {\"gridcolor\": \"white\", \"linecolor\": \"white\", \"ticks\": \"\"}, \"baxis\": {\"gridcolor\": \"white\", \"linecolor\": \"white\", \"ticks\": \"\"}, \"bgcolor\": \"#E5ECF6\", \"caxis\": {\"gridcolor\": \"white\", \"linecolor\": \"white\", \"ticks\": \"\"}}, \"title\": {\"x\": 0.05}, \"xaxis\": {\"automargin\": true, \"gridcolor\": \"white\", \"linecolor\": \"white\", \"ticks\": \"\", \"title\": {\"standoff\": 15}, \"zerolinecolor\": \"white\", \"zerolinewidth\": 2}, \"yaxis\": {\"automargin\": true, \"gridcolor\": \"white\", \"linecolor\": \"white\", \"ticks\": \"\", \"title\": {\"standoff\": 15}, \"zerolinecolor\": \"white\", \"zerolinewidth\": 2}}}, \"updatemenus\": [{\"buttons\": [{\"args\": [null, {\"frame\": {\"duration\": 1000, \"redraw\": false}, \"fromcurrent\": true, \"mode\": \"immediate\", \"transition\": {\"duration\": 500, \"easing\": \"linear\"}}], \"label\": \"&#9654;\", \"method\": \"animate\"}, {\"args\": [[null], {\"frame\": {\"duration\": 0, \"redraw\": false}, \"fromcurrent\": true, \"mode\": \"immediate\", \"transition\": {\"duration\": 0, \"easing\": \"linear\"}}], \"label\": \"&#9724;\", \"method\": \"animate\"}], \"direction\": \"left\", \"pad\": {\"r\": 10, \"t\": 70}, \"showactive\": false, \"type\": \"buttons\", \"x\": 0.1, \"xanchor\": \"right\", \"y\": 0, \"yanchor\": \"top\"}], \"xaxis\": {\"anchor\": \"y\", \"domain\": [0.0, 1.0], \"range\": [1, 60], \"title\": {\"text\": \"Games per Genre\"}}, \"yaxis\": {\"anchor\": \"x\", \"domain\": [0.0, 1.0], \"range\": [1, 200], \"title\": {\"text\": \"Games per Platform\"}}},                        {\"responsive\": true}                    ).then(function(){\n",
       "                            Plotly.addFrames('46883a33-4e54-440a-9f48-b0dbca40322f', [{\"data\": [{\"hovertemplate\": \"<b>%{hovertext}</b><br><br>Platform=2600<br>Year=1980<br>Games per Genre=%{x}<br>Games per Platform=%{marker.size}<extra></extra>\", \"hovertext\": [\"Fighting\", \"Misc\", \"Shooter\", \"Sports\"], \"ids\": [\"Fighting\", \"Misc\", \"Shooter\", \"Sports\"], \"legendgroup\": \"2600\", \"marker\": {\"color\": \"#636efa\", \"size\": [5, 5, 5, 5], \"sizemode\": \"area\", \"sizeref\": 0.42, \"symbol\": \"circle\"}, \"mode\": \"markers\", \"name\": \"2600\", \"orientation\": \"v\", \"showlegend\": true, \"x\": [1, 2, 1, 1], \"xaxis\": \"x\", \"y\": [5, 5, 5, 5], \"yaxis\": \"y\", \"type\": \"scatter\"}], \"name\": \"1980\"}, {\"data\": [{\"hovertemplate\": \"<b>%{hovertext}</b><br><br>Platform=2600<br>Year=1981<br>Games per Genre=%{x}<br>Games per Platform=%{marker.size}<extra></extra>\", \"hovertext\": [\"Action\", \"Platform\", \"Puzzle\", \"Racing\", \"Shooter\", \"Simulation\", \"Sports\"], \"ids\": [\"Action\", \"Platform\", \"Puzzle\", \"Racing\", \"Shooter\", \"Simulation\", \"Sports\"], \"legendgroup\": \"2600\", \"marker\": {\"color\": \"#636efa\", \"size\": [36, 36, 36, 36, 36, 36, 36], \"sizemode\": \"area\", \"sizeref\": 0.42, \"symbol\": \"circle\"}, \"mode\": \"markers\", \"name\": \"2600\", \"orientation\": \"v\", \"showlegend\": true, \"x\": [20, 1, 2, 1, 8, 1, 3], \"xaxis\": \"x\", \"y\": [36, 36, 36, 36, 36, 36, 36], \"yaxis\": \"y\", \"type\": \"scatter\"}], \"name\": \"1981\"}, {\"data\": [{\"hovertemplate\": \"<b>%{hovertext}</b><br><br>Platform=2600<br>Year=1982<br>Games per Genre=%{x}<br>Games per Platform=%{marker.size}<extra></extra>\", \"hovertext\": [\"Action\", \"Misc\", \"Platform\", \"Puzzle\", \"Racing\", \"Shooter\", \"Sports\"], \"ids\": [\"Action\", \"Misc\", \"Platform\", \"Puzzle\", \"Racing\", \"Shooter\", \"Sports\"], \"legendgroup\": \"2600\", \"marker\": {\"color\": \"#636efa\", \"size\": [26, 26, 26, 26, 26, 26, 26], \"sizemode\": \"area\", \"sizeref\": 0.42, \"symbol\": \"circle\"}, \"mode\": \"markers\", \"name\": \"2600\", \"orientation\": \"v\", \"showlegend\": true, \"x\": [10, 1, 5, 2, 2, 4, 2], \"xaxis\": \"x\", \"y\": [26, 26, 26, 26, 26, 26, 26], \"yaxis\": \"y\", \"type\": \"scatter\"}], \"name\": \"1982\"}, {\"data\": [{\"hovertemplate\": \"<b>%{hovertext}</b><br><br>Platform=2600<br>Year=1983<br>Games per Genre=%{x}<br>Games per Platform=%{marker.size}<extra></extra>\", \"hovertext\": [\"Action\", \"Platform\", \"Puzzle\", \"Shooter\", \"Sports\"], \"ids\": [\"Action\", \"Platform\", \"Puzzle\", \"Shooter\", \"Sports\"], \"legendgroup\": \"2600\", \"marker\": {\"color\": \"#636efa\", \"size\": [8, 8, 8, 8, 8], \"sizemode\": \"area\", \"sizeref\": 0.42, \"symbol\": \"circle\"}, \"mode\": \"markers\", \"name\": \"2600\", \"orientation\": \"v\", \"showlegend\": true, \"x\": [5, 2, 1, 1, 1], \"xaxis\": \"x\", \"y\": [8, 8, 8, 8, 8], \"yaxis\": \"y\", \"type\": \"scatter\"}, {\"hovertemplate\": \"<b>%{hovertext}</b><br><br>Platform=NES<br>Year=1983<br>Games per Genre=%{x}<br>Games per Platform=%{marker.size}<extra></extra>\", \"hovertext\": [\"Action\", \"Platform\", \"Puzzle\", \"Shooter\", \"Sports\"], \"ids\": [\"Action\", \"Platform\", \"Puzzle\", \"Shooter\", \"Sports\"], \"legendgroup\": \"NES\", \"marker\": {\"color\": \"#EF553B\", \"size\": [2, 2, 2, 2, 2], \"sizemode\": \"area\", \"sizeref\": 0.42, \"symbol\": \"circle\"}, \"mode\": \"markers\", \"name\": \"NES\", \"orientation\": \"v\", \"showlegend\": true, \"x\": [5, 2, 1, 1, 1], \"xaxis\": \"x\", \"y\": [2, 2, 2, 2, 2], \"yaxis\": \"y\", \"type\": \"scatter\"}], \"name\": \"1983\"}, {\"data\": [{\"hovertemplate\": \"<b>%{hovertext}</b><br><br>Platform=2600<br>Year=1984<br>Games per Genre=%{x}<br>Games per Platform=%{marker.size}<extra></extra>\", \"hovertext\": [\"Action\", \"Puzzle\", \"Racing\", \"Shooter\", \"Sports\"], \"ids\": [\"Action\", \"Puzzle\", \"Racing\", \"Shooter\", \"Sports\"], \"legendgroup\": \"2600\", \"marker\": {\"color\": \"#636efa\", \"size\": [1, 1, 1, 1, 1], \"sizemode\": \"area\", \"sizeref\": 0.42, \"symbol\": \"circle\"}, \"mode\": \"markers\", \"name\": \"2600\", \"orientation\": \"v\", \"showlegend\": true, \"x\": [1, 1, 2, 2, 2], \"xaxis\": \"x\", \"y\": [1, 1, 1, 1, 1], \"yaxis\": \"y\", \"type\": \"scatter\"}, {\"hovertemplate\": \"<b>%{hovertext}</b><br><br>Platform=NES<br>Year=1984<br>Games per Genre=%{x}<br>Games per Platform=%{marker.size}<extra></extra>\", \"hovertext\": [\"Action\", \"Puzzle\", \"Racing\", \"Shooter\", \"Sports\"], \"ids\": [\"Action\", \"Puzzle\", \"Racing\", \"Shooter\", \"Sports\"], \"legendgroup\": \"NES\", \"marker\": {\"color\": \"#EF553B\", \"size\": [7, 7, 7, 7, 7], \"sizemode\": \"area\", \"sizeref\": 0.42, \"symbol\": \"circle\"}, \"mode\": \"markers\", \"name\": \"NES\", \"orientation\": \"v\", \"showlegend\": true, \"x\": [1, 1, 2, 2, 2], \"xaxis\": \"x\", \"y\": [7, 7, 7, 7, 7], \"yaxis\": \"y\", \"type\": \"scatter\"}], \"name\": \"1984\"}, {\"data\": [{\"hovertemplate\": \"<b>%{hovertext}</b><br><br>Platform=2600<br>Year=1985<br>Games per Genre=%{x}<br>Games per Platform=%{marker.size}<extra></extra>\", \"hovertext\": [\"Action\", \"Platform\", \"Puzzle\", \"Shooter\", \"Sports\"], \"ids\": [\"Action\", \"Platform\", \"Puzzle\", \"Shooter\", \"Sports\"], \"legendgroup\": \"2600\", \"marker\": {\"color\": \"#636efa\", \"size\": [1, 1, 1, 1, 1], \"sizemode\": \"area\", \"sizeref\": 0.42, \"symbol\": \"circle\"}, \"mode\": \"markers\", \"name\": \"2600\", \"orientation\": \"v\", \"showlegend\": true, \"x\": [1, 4, 3, 1, 1], \"xaxis\": \"x\", \"y\": [1, 1, 1, 1, 1], \"yaxis\": \"y\", \"type\": \"scatter\"}, {\"hovertemplate\": \"<b>%{hovertext}</b><br><br>Platform=NES<br>Year=1985<br>Games per Genre=%{x}<br>Games per Platform=%{marker.size}<extra></extra>\", \"hovertext\": [\"Action\", \"Platform\", \"Puzzle\", \"Shooter\", \"Sports\"], \"ids\": [\"Action\", \"Platform\", \"Puzzle\", \"Shooter\", \"Sports\"], \"legendgroup\": \"NES\", \"marker\": {\"color\": \"#EF553B\", \"size\": [9, 9, 9, 9, 9], \"sizemode\": \"area\", \"sizeref\": 0.42, \"symbol\": \"circle\"}, \"mode\": \"markers\", \"name\": \"NES\", \"orientation\": \"v\", \"showlegend\": true, \"x\": [1, 4, 3, 1, 1], \"xaxis\": \"x\", \"y\": [9, 9, 9, 9, 9], \"yaxis\": \"y\", \"type\": \"scatter\"}], \"name\": \"1985\"}, {\"data\": [{\"hovertemplate\": \"<b>%{hovertext}</b><br><br>Platform=2600<br>Year=1986<br>Games per Genre=%{x}<br>Games per Platform=%{marker.size}<extra></extra>\", \"hovertext\": [\"Action\", \"Platform\", \"Racing\", \"Role-Playing\", \"Shooter\", \"Sports\"], \"ids\": [\"Action\", \"Platform\", \"Racing\", \"Role-Playing\", \"Shooter\", \"Sports\"], \"legendgroup\": \"2600\", \"marker\": {\"color\": \"#636efa\", \"size\": [2, 2, 2, 2, 2, 2], \"sizemode\": \"area\", \"sizeref\": 0.42, \"symbol\": \"circle\"}, \"mode\": \"markers\", \"name\": \"2600\", \"orientation\": \"v\", \"showlegend\": true, \"x\": [3, 2, 1, 1, 3, 2], \"xaxis\": \"x\", \"y\": [2, 2, 2, 2, 2, 2], \"yaxis\": \"y\", \"type\": \"scatter\"}, {\"hovertemplate\": \"<b>%{hovertext}</b><br><br>Platform=NES<br>Year=1986<br>Games per Genre=%{x}<br>Games per Platform=%{marker.size}<extra></extra>\", \"hovertext\": [\"Action\", \"Platform\", \"Racing\", \"Role-Playing\", \"Shooter\", \"Sports\"], \"ids\": [\"Action\", \"Platform\", \"Racing\", \"Role-Playing\", \"Shooter\", \"Sports\"], \"legendgroup\": \"NES\", \"marker\": {\"color\": \"#EF553B\", \"size\": [10, 10, 10, 10, 10, 10], \"sizemode\": \"area\", \"sizeref\": 0.42, \"symbol\": \"circle\"}, \"mode\": \"markers\", \"name\": \"NES\", \"orientation\": \"v\", \"showlegend\": true, \"x\": [3, 2, 1, 1, 3, 2], \"xaxis\": \"x\", \"y\": [10, 10, 10, 10, 10, 10], \"yaxis\": \"y\", \"type\": \"scatter\"}], \"name\": \"1986\"}, {\"data\": [{\"hovertemplate\": \"<b>%{hovertext}</b><br><br>Platform=2600<br>Year=1987<br>Games per Genre=%{x}<br>Games per Platform=%{marker.size}<extra></extra>\", \"hovertext\": [\"Action\", \"Adventure\", \"Fighting\", \"Platform\", \"Role-Playing\", \"Shooter\", \"Sports\"], \"ids\": [\"Action\", \"Adventure\", \"Fighting\", \"Platform\", \"Role-Playing\", \"Shooter\", \"Sports\"], \"legendgroup\": \"2600\", \"marker\": {\"color\": \"#636efa\", \"size\": [6, 6, 6, 6, 6, 6, 6], \"sizemode\": \"area\", \"sizeref\": 0.42, \"symbol\": \"circle\"}, \"mode\": \"markers\", \"name\": \"2600\", \"orientation\": \"v\", \"showlegend\": true, \"x\": [2, 1, 2, 1, 2, 2, 2], \"xaxis\": \"x\", \"y\": [6, 6, 6, 6, 6, 6, 6], \"yaxis\": \"y\", \"type\": \"scatter\"}, {\"hovertemplate\": \"<b>%{hovertext}</b><br><br>Platform=NES<br>Year=1987<br>Games per Genre=%{x}<br>Games per Platform=%{marker.size}<extra></extra>\", \"hovertext\": [\"Action\", \"Adventure\", \"Fighting\", \"Platform\", \"Role-Playing\", \"Shooter\", \"Sports\"], \"ids\": [\"Action\", \"Adventure\", \"Fighting\", \"Platform\", \"Role-Playing\", \"Shooter\", \"Sports\"], \"legendgroup\": \"NES\", \"marker\": {\"color\": \"#EF553B\", \"size\": [6, 6, 6, 6, 6, 6, 6], \"sizemode\": \"area\", \"sizeref\": 0.42, \"symbol\": \"circle\"}, \"mode\": \"markers\", \"name\": \"NES\", \"orientation\": \"v\", \"showlegend\": true, \"x\": [2, 1, 2, 1, 2, 2, 2], \"xaxis\": \"x\", \"y\": [6, 6, 6, 6, 6, 6, 6], \"yaxis\": \"y\", \"type\": \"scatter\"}], \"name\": \"1987\"}, {\"data\": [{\"hovertemplate\": \"<b>%{hovertext}</b><br><br>Platform=2600<br>Year=1988<br>Games per Genre=%{x}<br>Games per Platform=%{marker.size}<extra></extra>\", \"hovertext\": [\"Action\", \"Platform\", \"Puzzle\", \"Racing\", \"Shooter\", \"Sports\"], \"ids\": [\"Action\", \"Platform\", \"Puzzle\", \"Racing\", \"Shooter\", \"Sports\"], \"legendgroup\": \"2600\", \"marker\": {\"color\": \"#636efa\", \"size\": [2, 2, 2, 2, 2, 2], \"sizemode\": \"area\", \"sizeref\": 0.42, \"symbol\": \"circle\"}, \"mode\": \"markers\", \"name\": \"2600\", \"orientation\": \"v\", \"showlegend\": true, \"x\": [1, 3, 1, 1, 1, 1], \"xaxis\": \"x\", \"y\": [2, 2, 2, 2, 2, 2], \"yaxis\": \"y\", \"type\": \"scatter\"}, {\"hovertemplate\": \"<b>%{hovertext}</b><br><br>Platform=NES<br>Year=1988<br>Games per Genre=%{x}<br>Games per Platform=%{marker.size}<extra></extra>\", \"hovertext\": [\"Action\", \"Platform\", \"Puzzle\", \"Racing\", \"Shooter\", \"Sports\"], \"ids\": [\"Action\", \"Platform\", \"Puzzle\", \"Racing\", \"Shooter\", \"Sports\"], \"legendgroup\": \"NES\", \"marker\": {\"color\": \"#EF553B\", \"size\": [6, 6, 6, 6, 6, 6], \"sizemode\": \"area\", \"sizeref\": 0.42, \"symbol\": \"circle\"}, \"mode\": \"markers\", \"name\": \"NES\", \"orientation\": \"v\", \"showlegend\": true, \"x\": [1, 3, 1, 1, 1, 1], \"xaxis\": \"x\", \"y\": [6, 6, 6, 6, 6, 6], \"yaxis\": \"y\", \"type\": \"scatter\"}], \"name\": \"1988\"}, {\"data\": [{\"hovertemplate\": \"<b>%{hovertext}</b><br><br>Platform=2600<br>Year=1989<br>Games per Genre=%{x}<br>Games per Platform=%{marker.size}<extra></extra>\", \"hovertext\": [\"Action\", \"Puzzle\"], \"ids\": [\"Action\", \"Puzzle\"], \"legendgroup\": \"2600\", \"marker\": {\"color\": \"#636efa\", \"size\": [1, 1], \"sizemode\": \"area\", \"sizeref\": 0.42, \"symbol\": \"circle\"}, \"mode\": \"markers\", \"name\": \"2600\", \"orientation\": \"v\", \"showlegend\": true, \"x\": [2, 1], \"xaxis\": \"x\", \"y\": [1, 1], \"yaxis\": \"y\", \"type\": \"scatter\"}, {\"hovertemplate\": \"<b>%{hovertext}</b><br><br>Platform=NES<br>Year=1989<br>Games per Genre=%{x}<br>Games per Platform=%{marker.size}<extra></extra>\", \"hovertext\": [\"Action\", \"Puzzle\"], \"ids\": [\"Action\", \"Puzzle\"], \"legendgroup\": \"NES\", \"marker\": {\"color\": \"#EF553B\", \"size\": [2, 2], \"sizemode\": \"area\", \"sizeref\": 0.42, \"symbol\": \"circle\"}, \"mode\": \"markers\", \"name\": \"NES\", \"orientation\": \"v\", \"showlegend\": true, \"x\": [2, 1], \"xaxis\": \"x\", \"y\": [2, 2], \"yaxis\": \"y\", \"type\": \"scatter\"}], \"name\": \"1989\"}, {\"data\": [{\"hovertemplate\": \"<b>%{hovertext}</b><br><br>Platform=NES<br>Year=1990<br>Games per Genre=%{x}<br>Games per Platform=%{marker.size}<extra></extra>\", \"hovertext\": [\"Action\", \"Platform\", \"Puzzle\", \"Racing\", \"Simulation\", \"Sports\"], \"ids\": [\"Action\", \"Platform\", \"Puzzle\", \"Racing\", \"Simulation\", \"Sports\"], \"legendgroup\": \"NES\", \"marker\": {\"color\": \"#EF553B\", \"size\": [4, 4, 4, 4, 4, 4], \"sizemode\": \"area\", \"sizeref\": 0.42, \"symbol\": \"circle\"}, \"mode\": \"markers\", \"name\": \"NES\", \"orientation\": \"v\", \"showlegend\": true, \"x\": [3, 1, 1, 1, 1, 1], \"xaxis\": \"x\", \"y\": [4, 4, 4, 4, 4, 4], \"yaxis\": \"y\", \"type\": \"scatter\"}, {\"hovertemplate\": \"<b>%{hovertext}</b><br><br>Platform=GEN<br>Year=1990<br>Games per Genre=%{x}<br>Games per Platform=%{marker.size}<extra></extra>\", \"hovertext\": [\"Action\", \"Platform\", \"Puzzle\", \"Racing\", \"Simulation\", \"Sports\"], \"ids\": [\"Action\", \"Platform\", \"Puzzle\", \"Racing\", \"Simulation\", \"Sports\"], \"legendgroup\": \"GEN\", \"marker\": {\"color\": \"#00cc96\", \"size\": [1, 1, 1, 1, 1, 1], \"sizemode\": \"area\", \"sizeref\": 0.42, \"symbol\": \"circle\"}, \"mode\": \"markers\", \"name\": \"GEN\", \"orientation\": \"v\", \"showlegend\": true, \"x\": [3, 1, 1, 1, 1, 1], \"xaxis\": \"x\", \"y\": [1, 1, 1, 1, 1, 1], \"yaxis\": \"y\", \"type\": \"scatter\"}, {\"hovertemplate\": \"<b>%{hovertext}</b><br><br>Platform=SNES<br>Year=1990<br>Games per Genre=%{x}<br>Games per Platform=%{marker.size}<extra></extra>\", \"hovertext\": [\"Action\", \"Platform\", \"Puzzle\", \"Racing\", \"Simulation\", \"Sports\"], \"ids\": [\"Action\", \"Platform\", \"Puzzle\", \"Racing\", \"Simulation\", \"Sports\"], \"legendgroup\": \"SNES\", \"marker\": {\"color\": \"#ab63fa\", \"size\": [3, 3, 3, 3, 3, 3], \"sizemode\": \"area\", \"sizeref\": 0.42, \"symbol\": \"circle\"}, \"mode\": \"markers\", \"name\": \"SNES\", \"orientation\": \"v\", \"showlegend\": true, \"x\": [3, 1, 1, 1, 1, 1], \"xaxis\": \"x\", \"y\": [3, 3, 3, 3, 3, 3], \"yaxis\": \"y\", \"type\": \"scatter\"}], \"name\": \"1990\"}, {\"data\": [{\"hovertemplate\": \"<b>%{hovertext}</b><br><br>Platform=NES<br>Year=1991<br>Games per Genre=%{x}<br>Games per Platform=%{marker.size}<extra></extra>\", \"hovertext\": [\"Platform\", \"Puzzle\", \"Role-Playing\", \"Shooter\", \"Simulation\", \"Sports\", \"Strategy\"], \"ids\": [\"Platform\", \"Puzzle\", \"Role-Playing\", \"Shooter\", \"Simulation\", \"Sports\", \"Strategy\"], \"legendgroup\": \"NES\", \"marker\": {\"color\": \"#EF553B\", \"size\": [3, 3, 3, 3, 3, 3, 3], \"sizemode\": \"area\", \"sizeref\": 0.42, \"symbol\": \"circle\"}, \"mode\": \"markers\", \"name\": \"NES\", \"orientation\": \"v\", \"showlegend\": true, \"x\": [4, 1, 1, 3, 2, 5, 1], \"xaxis\": \"x\", \"y\": [3, 3, 3, 3, 3, 3, 3], \"yaxis\": \"y\", \"type\": \"scatter\"}, {\"hovertemplate\": \"<b>%{hovertext}</b><br><br>Platform=GEN<br>Year=1991<br>Games per Genre=%{x}<br>Games per Platform=%{marker.size}<extra></extra>\", \"hovertext\": [\"Platform\", \"Puzzle\", \"Role-Playing\", \"Shooter\", \"Simulation\", \"Sports\", \"Strategy\"], \"ids\": [\"Platform\", \"Puzzle\", \"Role-Playing\", \"Shooter\", \"Simulation\", \"Sports\", \"Strategy\"], \"legendgroup\": \"GEN\", \"marker\": {\"color\": \"#00cc96\", \"size\": [1, 1, 1, 1, 1, 1, 1], \"sizemode\": \"area\", \"sizeref\": 0.42, \"symbol\": \"circle\"}, \"mode\": \"markers\", \"name\": \"GEN\", \"orientation\": \"v\", \"showlegend\": true, \"x\": [4, 1, 1, 3, 2, 5, 1], \"xaxis\": \"x\", \"y\": [1, 1, 1, 1, 1, 1, 1], \"yaxis\": \"y\", \"type\": \"scatter\"}, {\"hovertemplate\": \"<b>%{hovertext}</b><br><br>Platform=SNES<br>Year=1991<br>Games per Genre=%{x}<br>Games per Platform=%{marker.size}<extra></extra>\", \"hovertext\": [\"Platform\", \"Puzzle\", \"Role-Playing\", \"Shooter\", \"Simulation\", \"Sports\", \"Strategy\"], \"ids\": [\"Platform\", \"Puzzle\", \"Role-Playing\", \"Shooter\", \"Simulation\", \"Sports\", \"Strategy\"], \"legendgroup\": \"SNES\", \"marker\": {\"color\": \"#ab63fa\", \"size\": [13, 13, 13, 13, 13, 13, 13], \"sizemode\": \"area\", \"sizeref\": 0.42, \"symbol\": \"circle\"}, \"mode\": \"markers\", \"name\": \"SNES\", \"orientation\": \"v\", \"showlegend\": true, \"x\": [4, 1, 1, 3, 2, 5, 1], \"xaxis\": \"x\", \"y\": [13, 13, 13, 13, 13, 13, 13], \"yaxis\": \"y\", \"type\": \"scatter\"}], \"name\": \"1991\"}, {\"data\": [{\"hovertemplate\": \"<b>%{hovertext}</b><br><br>Platform=NES<br>Year=1992<br>Games per Genre=%{x}<br>Games per Platform=%{marker.size}<extra></extra>\", \"hovertext\": [\"Adventure\", \"Fighting\", \"Misc\", \"Platform\", \"Puzzle\", \"Racing\", \"Shooter\", \"Sports\", \"Strategy\"], \"ids\": [\"Adventure\", \"Fighting\", \"Misc\", \"Platform\", \"Puzzle\", \"Racing\", \"Shooter\", \"Sports\", \"Strategy\"], \"legendgroup\": \"NES\", \"marker\": {\"color\": \"#EF553B\", \"size\": [1, 1, 1, 1, 1, 1, 1, 1, 1], \"sizemode\": \"area\", \"sizeref\": 0.42, \"symbol\": \"circle\"}, \"mode\": \"markers\", \"name\": \"NES\", \"orientation\": \"v\", \"showlegend\": true, \"x\": [1, 5, 1, 2, 1, 1, 1, 2, 1], \"xaxis\": \"x\", \"y\": [1, 1, 1, 1, 1, 1, 1, 1, 1], \"yaxis\": \"y\", \"type\": \"scatter\"}, {\"hovertemplate\": \"<b>%{hovertext}</b><br><br>Platform=GEN<br>Year=1992<br>Games per Genre=%{x}<br>Games per Platform=%{marker.size}<extra></extra>\", \"hovertext\": [\"Adventure\", \"Fighting\", \"Misc\", \"Platform\", \"Puzzle\", \"Racing\", \"Shooter\", \"Sports\", \"Strategy\"], \"ids\": [\"Adventure\", \"Fighting\", \"Misc\", \"Platform\", \"Puzzle\", \"Racing\", \"Shooter\", \"Sports\", \"Strategy\"], \"legendgroup\": \"GEN\", \"marker\": {\"color\": \"#00cc96\", \"size\": [6, 6, 6, 6, 6, 6, 6, 6, 6], \"sizemode\": \"area\", \"sizeref\": 0.42, \"symbol\": \"circle\"}, \"mode\": \"markers\", \"name\": \"GEN\", \"orientation\": \"v\", \"showlegend\": true, \"x\": [1, 5, 1, 2, 1, 1, 1, 2, 1], \"xaxis\": \"x\", \"y\": [6, 6, 6, 6, 6, 6, 6, 6, 6], \"yaxis\": \"y\", \"type\": \"scatter\"}, {\"hovertemplate\": \"<b>%{hovertext}</b><br><br>Platform=SNES<br>Year=1992<br>Games per Genre=%{x}<br>Games per Platform=%{marker.size}<extra></extra>\", \"hovertext\": [\"Adventure\", \"Fighting\", \"Misc\", \"Platform\", \"Puzzle\", \"Racing\", \"Shooter\", \"Sports\", \"Strategy\"], \"ids\": [\"Adventure\", \"Fighting\", \"Misc\", \"Platform\", \"Puzzle\", \"Racing\", \"Shooter\", \"Sports\", \"Strategy\"], \"legendgroup\": \"SNES\", \"marker\": {\"color\": \"#ab63fa\", \"size\": [8, 8, 8, 8, 8, 8, 8, 8, 8], \"sizemode\": \"area\", \"sizeref\": 0.42, \"symbol\": \"circle\"}, \"mode\": \"markers\", \"name\": \"SNES\", \"orientation\": \"v\", \"showlegend\": true, \"x\": [1, 5, 1, 2, 1, 1, 1, 2, 1], \"xaxis\": \"x\", \"y\": [8, 8, 8, 8, 8, 8, 8, 8, 8], \"yaxis\": \"y\", \"type\": \"scatter\"}], \"name\": \"1992\"}, {\"data\": [{\"hovertemplate\": \"<b>%{hovertext}</b><br><br>Platform=NES<br>Year=1993<br>Games per Genre=%{x}<br>Games per Platform=%{marker.size}<extra></extra>\", \"hovertext\": [\"Action\", \"Adventure\", \"Fighting\", \"Platform\", \"Puzzle\", \"Racing\", \"Role-Playing\", \"Shooter\", \"Strategy\"], \"ids\": [\"Action\", \"Adventure\", \"Fighting\", \"Platform\", \"Puzzle\", \"Racing\", \"Role-Playing\", \"Shooter\", \"Strategy\"], \"legendgroup\": \"NES\", \"marker\": {\"color\": \"#EF553B\", \"size\": [3, 3, 3, 3, 3, 3, 3, 3, 3], \"sizemode\": \"area\", \"sizeref\": 0.42, \"symbol\": \"circle\"}, \"mode\": \"markers\", \"name\": \"NES\", \"orientation\": \"v\", \"showlegend\": true, \"x\": [1, 1, 3, 5, 1, 2, 2, 2, 1], \"xaxis\": \"x\", \"y\": [3, 3, 3, 3, 3, 3, 3, 3, 3], \"yaxis\": \"y\", \"type\": \"scatter\"}, {\"hovertemplate\": \"<b>%{hovertext}</b><br><br>Platform=GEN<br>Year=1993<br>Games per Genre=%{x}<br>Games per Platform=%{marker.size}<extra></extra>\", \"hovertext\": [\"Action\", \"Adventure\", \"Fighting\", \"Platform\", \"Puzzle\", \"Racing\", \"Role-Playing\", \"Shooter\", \"Strategy\"], \"ids\": [\"Action\", \"Adventure\", \"Fighting\", \"Platform\", \"Puzzle\", \"Racing\", \"Role-Playing\", \"Shooter\", \"Strategy\"], \"legendgroup\": \"GEN\", \"marker\": {\"color\": \"#00cc96\", \"size\": [4, 4, 4, 4, 4, 4, 4, 4, 4], \"sizemode\": \"area\", \"sizeref\": 0.42, \"symbol\": \"circle\"}, \"mode\": \"markers\", \"name\": \"GEN\", \"orientation\": \"v\", \"showlegend\": true, \"x\": [1, 1, 3, 5, 1, 2, 2, 2, 1], \"xaxis\": \"x\", \"y\": [4, 4, 4, 4, 4, 4, 4, 4, 4], \"yaxis\": \"y\", \"type\": \"scatter\"}, {\"hovertemplate\": \"<b>%{hovertext}</b><br><br>Platform=SNES<br>Year=1993<br>Games per Genre=%{x}<br>Games per Platform=%{marker.size}<extra></extra>\", \"hovertext\": [\"Action\", \"Adventure\", \"Fighting\", \"Platform\", \"Puzzle\", \"Racing\", \"Role-Playing\", \"Shooter\", \"Strategy\"], \"ids\": [\"Action\", \"Adventure\", \"Fighting\", \"Platform\", \"Puzzle\", \"Racing\", \"Role-Playing\", \"Shooter\", \"Strategy\"], \"legendgroup\": \"SNES\", \"marker\": {\"color\": \"#ab63fa\", \"size\": [10, 10, 10, 10, 10, 10, 10, 10, 10], \"sizemode\": \"area\", \"sizeref\": 0.42, \"symbol\": \"circle\"}, \"mode\": \"markers\", \"name\": \"SNES\", \"orientation\": \"v\", \"showlegend\": true, \"x\": [1, 1, 3, 5, 1, 2, 2, 2, 1], \"xaxis\": \"x\", \"y\": [10, 10, 10, 10, 10, 10, 10, 10, 10], \"yaxis\": \"y\", \"type\": \"scatter\"}, {\"hovertemplate\": \"<b>%{hovertext}</b><br><br>Platform=SCD<br>Year=1993<br>Games per Genre=%{x}<br>Games per Platform=%{marker.size}<extra></extra>\", \"hovertext\": [\"Action\", \"Adventure\", \"Fighting\", \"Platform\", \"Puzzle\", \"Racing\", \"Role-Playing\", \"Shooter\", \"Strategy\"], \"ids\": [\"Action\", \"Adventure\", \"Fighting\", \"Platform\", \"Puzzle\", \"Racing\", \"Role-Playing\", \"Shooter\", \"Strategy\"], \"legendgroup\": \"SCD\", \"marker\": {\"color\": \"#FFA15A\", \"size\": [1, 1, 1, 1, 1, 1, 1, 1, 1], \"sizemode\": \"area\", \"sizeref\": 0.42, \"symbol\": \"circle\"}, \"mode\": \"markers\", \"name\": \"SCD\", \"orientation\": \"v\", \"showlegend\": true, \"x\": [1, 1, 3, 5, 1, 2, 2, 2, 1], \"xaxis\": \"x\", \"y\": [1, 1, 1, 1, 1, 1, 1, 1, 1], \"yaxis\": \"y\", \"type\": \"scatter\"}], \"name\": \"1993\"}, {\"data\": [{\"hovertemplate\": \"<b>%{hovertext}</b><br><br>Platform=GEN<br>Year=1994<br>Games per Genre=%{x}<br>Games per Platform=%{marker.size}<extra></extra>\", \"hovertext\": [\"Adventure\", \"Fighting\", \"Platform\", \"Puzzle\", \"Racing\", \"Shooter\", \"Simulation\", \"Sports\", \"Strategy\"], \"ids\": [\"Adventure\", \"Fighting\", \"Platform\", \"Puzzle\", \"Racing\", \"Shooter\", \"Simulation\", \"Sports\", \"Strategy\"], \"legendgroup\": \"GEN\", \"marker\": {\"color\": \"#00cc96\", \"size\": [5, 5, 5, 5, 5, 5, 5, 5, 5], \"sizemode\": \"area\", \"sizeref\": 0.42, \"symbol\": \"circle\"}, \"mode\": \"markers\", \"name\": \"GEN\", \"orientation\": \"v\", \"showlegend\": true, \"x\": [2, 12, 4, 1, 4, 6, 4, 9, 1], \"xaxis\": \"x\", \"y\": [5, 5, 5, 5, 5, 5, 5, 5, 5], \"yaxis\": \"y\", \"type\": \"scatter\"}, {\"hovertemplate\": \"<b>%{hovertext}</b><br><br>Platform=SNES<br>Year=1994<br>Games per Genre=%{x}<br>Games per Platform=%{marker.size}<extra></extra>\", \"hovertext\": [\"Adventure\", \"Fighting\", \"Platform\", \"Puzzle\", \"Racing\", \"Shooter\", \"Simulation\", \"Sports\", \"Strategy\"], \"ids\": [\"Adventure\", \"Fighting\", \"Platform\", \"Puzzle\", \"Racing\", \"Shooter\", \"Simulation\", \"Sports\", \"Strategy\"], \"legendgroup\": \"SNES\", \"marker\": {\"color\": \"#ab63fa\", \"size\": [10, 10, 10, 10, 10, 10, 10, 10, 10], \"sizemode\": \"area\", \"sizeref\": 0.42, \"symbol\": \"circle\"}, \"mode\": \"markers\", \"name\": \"SNES\", \"orientation\": \"v\", \"showlegend\": true, \"x\": [2, 12, 4, 1, 4, 6, 4, 9, 1], \"xaxis\": \"x\", \"y\": [10, 10, 10, 10, 10, 10, 10, 10, 10], \"yaxis\": \"y\", \"type\": \"scatter\"}, {\"hovertemplate\": \"<b>%{hovertext}</b><br><br>Platform=SCD<br>Year=1994<br>Games per Genre=%{x}<br>Games per Platform=%{marker.size}<extra></extra>\", \"hovertext\": [\"Adventure\", \"Fighting\", \"Platform\", \"Puzzle\", \"Racing\", \"Shooter\", \"Simulation\", \"Sports\", \"Strategy\"], \"ids\": [\"Adventure\", \"Fighting\", \"Platform\", \"Puzzle\", \"Racing\", \"Shooter\", \"Simulation\", \"Sports\", \"Strategy\"], \"legendgroup\": \"SCD\", \"marker\": {\"color\": \"#FFA15A\", \"size\": [1, 1, 1, 1, 1, 1, 1, 1, 1], \"sizemode\": \"area\", \"sizeref\": 0.42, \"symbol\": \"circle\"}, \"mode\": \"markers\", \"name\": \"SCD\", \"orientation\": \"v\", \"showlegend\": true, \"x\": [2, 12, 4, 1, 4, 6, 4, 9, 1], \"xaxis\": \"x\", \"y\": [1, 1, 1, 1, 1, 1, 1, 1, 1], \"yaxis\": \"y\", \"type\": \"scatter\"}, {\"hovertemplate\": \"<b>%{hovertext}</b><br><br>Platform=PS<br>Year=1994<br>Games per Genre=%{x}<br>Games per Platform=%{marker.size}<extra></extra>\", \"hovertext\": [\"Adventure\", \"Fighting\", \"Platform\", \"Puzzle\", \"Racing\", \"Shooter\", \"Simulation\", \"Sports\", \"Strategy\"], \"ids\": [\"Adventure\", \"Fighting\", \"Platform\", \"Puzzle\", \"Racing\", \"Shooter\", \"Simulation\", \"Sports\", \"Strategy\"], \"legendgroup\": \"PS\", \"marker\": {\"color\": \"#19d3f3\", \"size\": [9, 9, 9, 9, 9, 9, 9, 9, 9], \"sizemode\": \"area\", \"sizeref\": 0.42, \"symbol\": \"circle\"}, \"mode\": \"markers\", \"name\": \"PS\", \"orientation\": \"v\", \"showlegend\": true, \"x\": [2, 12, 4, 1, 4, 6, 4, 9, 1], \"xaxis\": \"x\", \"y\": [9, 9, 9, 9, 9, 9, 9, 9, 9], \"yaxis\": \"y\", \"type\": \"scatter\"}, {\"hovertemplate\": \"<b>%{hovertext}</b><br><br>Platform=SAT<br>Year=1994<br>Games per Genre=%{x}<br>Games per Platform=%{marker.size}<extra></extra>\", \"hovertext\": [\"Adventure\", \"Fighting\", \"Platform\", \"Puzzle\", \"Racing\", \"Shooter\", \"Simulation\", \"Sports\", \"Strategy\"], \"ids\": [\"Adventure\", \"Fighting\", \"Platform\", \"Puzzle\", \"Racing\", \"Shooter\", \"Simulation\", \"Sports\", \"Strategy\"], \"legendgroup\": \"SAT\", \"marker\": {\"color\": \"#FF6692\", \"size\": [18, 18, 18, 18, 18, 18, 18, 18, 18], \"sizemode\": \"area\", \"sizeref\": 0.42, \"symbol\": \"circle\"}, \"mode\": \"markers\", \"name\": \"SAT\", \"orientation\": \"v\", \"showlegend\": true, \"x\": [2, 12, 4, 1, 4, 6, 4, 9, 1], \"xaxis\": \"x\", \"y\": [18, 18, 18, 18, 18, 18, 18, 18, 18], \"yaxis\": \"y\", \"type\": \"scatter\"}], \"name\": \"1994\"}, {\"data\": [{\"hovertemplate\": \"<b>%{hovertext}</b><br><br>Platform=SNES<br>Year=1996<br>Games per Genre=%{x}<br>Games per Platform=%{marker.size}<extra></extra>\", \"hovertext\": [\"Action\", \"Adventure\", \"Fighting\", \"Misc\", \"Platform\", \"Puzzle\", \"Racing\", \"Role-Playing\", \"Shooter\", \"Simulation\", \"Sports\", \"Strategy\"], \"ids\": [\"Action\", \"Adventure\", \"Fighting\", \"Misc\", \"Platform\", \"Puzzle\", \"Racing\", \"Role-Playing\", \"Shooter\", \"Simulation\", \"Sports\", \"Strategy\"], \"legendgroup\": \"SNES\", \"marker\": {\"color\": \"#ab63fa\", \"size\": [1, 1, 1, 1, 1, 1, 1, 1, 1, 1, 1, 1], \"sizemode\": \"area\", \"sizeref\": 0.42, \"symbol\": \"circle\"}, \"mode\": \"markers\", \"name\": \"SNES\", \"orientation\": \"v\", \"showlegend\": true, \"x\": [16, 6, 15, 7, 8, 2, 19, 5, 15, 7, 33, 4], \"xaxis\": \"x\", \"y\": [1, 1, 1, 1, 1, 1, 1, 1, 1, 1, 1, 1], \"yaxis\": \"y\", \"type\": \"scatter\"}, {\"hovertemplate\": \"<b>%{hovertext}</b><br><br>Platform=PS<br>Year=1996<br>Games per Genre=%{x}<br>Games per Platform=%{marker.size}<extra></extra>\", \"hovertext\": [\"Action\", \"Adventure\", \"Fighting\", \"Misc\", \"Platform\", \"Puzzle\", \"Racing\", \"Role-Playing\", \"Shooter\", \"Simulation\", \"Sports\", \"Strategy\"], \"ids\": [\"Action\", \"Adventure\", \"Fighting\", \"Misc\", \"Platform\", \"Puzzle\", \"Racing\", \"Role-Playing\", \"Shooter\", \"Simulation\", \"Sports\", \"Strategy\"], \"legendgroup\": \"PS\", \"marker\": {\"color\": \"#19d3f3\", \"size\": [118, 118, 118, 118, 118, 118, 118, 118, 118, 118, 118, 118], \"sizemode\": \"area\", \"sizeref\": 0.42, \"symbol\": \"circle\"}, \"mode\": \"markers\", \"name\": \"PS\", \"orientation\": \"v\", \"showlegend\": true, \"x\": [16, 6, 15, 7, 8, 2, 19, 5, 15, 7, 33, 4], \"xaxis\": \"x\", \"y\": [118, 118, 118, 118, 118, 118, 118, 118, 118, 118, 118, 118], \"yaxis\": \"y\", \"type\": \"scatter\"}, {\"hovertemplate\": \"<b>%{hovertext}</b><br><br>Platform=SAT<br>Year=1996<br>Games per Genre=%{x}<br>Games per Platform=%{marker.size}<extra></extra>\", \"hovertext\": [\"Action\", \"Adventure\", \"Fighting\", \"Misc\", \"Platform\", \"Puzzle\", \"Racing\", \"Role-Playing\", \"Shooter\", \"Simulation\", \"Sports\", \"Strategy\"], \"ids\": [\"Action\", \"Adventure\", \"Fighting\", \"Misc\", \"Platform\", \"Puzzle\", \"Racing\", \"Role-Playing\", \"Shooter\", \"Simulation\", \"Sports\", \"Strategy\"], \"legendgroup\": \"SAT\", \"marker\": {\"color\": \"#FF6692\", \"size\": [7, 7, 7, 7, 7, 7, 7, 7, 7, 7, 7, 7], \"sizemode\": \"area\", \"sizeref\": 0.42, \"symbol\": \"circle\"}, \"mode\": \"markers\", \"name\": \"SAT\", \"orientation\": \"v\", \"showlegend\": true, \"x\": [16, 6, 15, 7, 8, 2, 19, 5, 15, 7, 33, 4], \"xaxis\": \"x\", \"y\": [7, 7, 7, 7, 7, 7, 7, 7, 7, 7, 7, 7], \"yaxis\": \"y\", \"type\": \"scatter\"}, {\"hovertemplate\": \"<b>%{hovertext}</b><br><br>Platform=N64<br>Year=1996<br>Games per Genre=%{x}<br>Games per Platform=%{marker.size}<extra></extra>\", \"hovertext\": [\"Action\", \"Adventure\", \"Fighting\", \"Misc\", \"Platform\", \"Puzzle\", \"Racing\", \"Role-Playing\", \"Shooter\", \"Simulation\", \"Sports\", \"Strategy\"], \"ids\": [\"Action\", \"Adventure\", \"Fighting\", \"Misc\", \"Platform\", \"Puzzle\", \"Racing\", \"Role-Playing\", \"Shooter\", \"Simulation\", \"Sports\", \"Strategy\"], \"legendgroup\": \"N64\", \"marker\": {\"color\": \"#B6E880\", \"size\": [11, 11, 11, 11, 11, 11, 11, 11, 11, 11, 11, 11], \"sizemode\": \"area\", \"sizeref\": 0.42, \"symbol\": \"circle\"}, \"mode\": \"markers\", \"name\": \"N64\", \"orientation\": \"v\", \"showlegend\": true, \"x\": [16, 6, 15, 7, 8, 2, 19, 5, 15, 7, 33, 4], \"xaxis\": \"x\", \"y\": [11, 11, 11, 11, 11, 11, 11, 11, 11, 11, 11, 11], \"yaxis\": \"y\", \"type\": \"scatter\"}], \"name\": \"1996\"}, {\"data\": [{\"hovertemplate\": \"<b>%{hovertext}</b><br><br>Platform=PS<br>Year=1997<br>Games per Genre=%{x}<br>Games per Platform=%{marker.size}<extra></extra>\", \"hovertext\": [\"Action\", \"Adventure\", \"Fighting\", \"Misc\", \"Platform\", \"Puzzle\", \"Racing\", \"Role-Playing\", \"Shooter\", \"Simulation\", \"Sports\", \"Strategy\"], \"ids\": [\"Action\", \"Adventure\", \"Fighting\", \"Misc\", \"Platform\", \"Puzzle\", \"Racing\", \"Role-Playing\", \"Shooter\", \"Simulation\", \"Sports\", \"Strategy\"], \"legendgroup\": \"PS\", \"marker\": {\"color\": \"#19d3f3\", \"size\": [134, 134, 134, 134, 134, 134, 134, 134, 134, 134, 134, 134], \"sizemode\": \"area\", \"sizeref\": 0.42, \"symbol\": \"circle\"}, \"mode\": \"markers\", \"name\": \"PS\", \"orientation\": \"v\", \"showlegend\": true, \"x\": [21, 5, 17, 5, 12, 8, 28, 8, 18, 11, 30, 5], \"xaxis\": \"x\", \"y\": [134, 134, 134, 134, 134, 134, 134, 134, 134, 134, 134, 134], \"yaxis\": \"y\", \"type\": \"scatter\"}, {\"hovertemplate\": \"<b>%{hovertext}</b><br><br>Platform=N64<br>Year=1997<br>Games per Genre=%{x}<br>Games per Platform=%{marker.size}<extra></extra>\", \"hovertext\": [\"Action\", \"Adventure\", \"Fighting\", \"Misc\", \"Platform\", \"Puzzle\", \"Racing\", \"Role-Playing\", \"Shooter\", \"Simulation\", \"Sports\", \"Strategy\"], \"ids\": [\"Action\", \"Adventure\", \"Fighting\", \"Misc\", \"Platform\", \"Puzzle\", \"Racing\", \"Role-Playing\", \"Shooter\", \"Simulation\", \"Sports\", \"Strategy\"], \"legendgroup\": \"N64\", \"marker\": {\"color\": \"#B6E880\", \"size\": [34, 34, 34, 34, 34, 34, 34, 34, 34, 34, 34, 34], \"sizemode\": \"area\", \"sizeref\": 0.42, \"symbol\": \"circle\"}, \"mode\": \"markers\", \"name\": \"N64\", \"orientation\": \"v\", \"showlegend\": true, \"x\": [21, 5, 17, 5, 12, 8, 28, 8, 18, 11, 30, 5], \"xaxis\": \"x\", \"y\": [34, 34, 34, 34, 34, 34, 34, 34, 34, 34, 34, 34], \"yaxis\": \"y\", \"type\": \"scatter\"}], \"name\": \"1997\"}, {\"data\": [{\"hovertemplate\": \"<b>%{hovertext}</b><br><br>Platform=PS<br>Year=1998<br>Games per Genre=%{x}<br>Games per Platform=%{marker.size}<extra></extra>\", \"hovertext\": [\"Action\", \"Adventure\", \"Fighting\", \"Misc\", \"Platform\", \"Puzzle\", \"Racing\", \"Role-Playing\", \"Shooter\", \"Simulation\", \"Sports\", \"Strategy\"], \"ids\": [\"Action\", \"Adventure\", \"Fighting\", \"Misc\", \"Platform\", \"Puzzle\", \"Racing\", \"Role-Playing\", \"Shooter\", \"Simulation\", \"Sports\", \"Strategy\"], \"legendgroup\": \"PS\", \"marker\": {\"color\": \"#19d3f3\", \"size\": [168, 168, 168, 168, 168, 168, 168, 168, 168, 168, 168, 168], \"sizemode\": \"area\", \"sizeref\": 0.42, \"symbol\": \"circle\"}, \"mode\": \"markers\", \"name\": \"PS\", \"orientation\": \"v\", \"showlegend\": true, \"x\": [34, 3, 28, 13, 19, 9, 35, 12, 16, 5, 47, 10], \"xaxis\": \"x\", \"y\": [168, 168, 168, 168, 168, 168, 168, 168, 168, 168, 168, 168], \"yaxis\": \"y\", \"type\": \"scatter\"}, {\"hovertemplate\": \"<b>%{hovertext}</b><br><br>Platform=N64<br>Year=1998<br>Games per Genre=%{x}<br>Games per Platform=%{marker.size}<extra></extra>\", \"hovertext\": [\"Action\", \"Adventure\", \"Fighting\", \"Misc\", \"Platform\", \"Puzzle\", \"Racing\", \"Role-Playing\", \"Shooter\", \"Simulation\", \"Sports\", \"Strategy\"], \"ids\": [\"Action\", \"Adventure\", \"Fighting\", \"Misc\", \"Platform\", \"Puzzle\", \"Racing\", \"Role-Playing\", \"Shooter\", \"Simulation\", \"Sports\", \"Strategy\"], \"legendgroup\": \"N64\", \"marker\": {\"color\": \"#B6E880\", \"size\": [63, 63, 63, 63, 63, 63, 63, 63, 63, 63, 63, 63], \"sizemode\": \"area\", \"sizeref\": 0.42, \"symbol\": \"circle\"}, \"mode\": \"markers\", \"name\": \"N64\", \"orientation\": \"v\", \"showlegend\": true, \"x\": [34, 3, 28, 13, 19, 9, 35, 12, 16, 5, 47, 10], \"xaxis\": \"x\", \"y\": [63, 63, 63, 63, 63, 63, 63, 63, 63, 63, 63, 63], \"yaxis\": \"y\", \"type\": \"scatter\"}], \"name\": \"1998\"}, {\"data\": [{\"hovertemplate\": \"<b>%{hovertext}</b><br><br>Platform=PS<br>Year=1999<br>Games per Genre=%{x}<br>Games per Platform=%{marker.size}<extra></extra>\", \"hovertext\": [\"Action\", \"Adventure\", \"Fighting\", \"Misc\", \"Platform\", \"Puzzle\", \"Racing\", \"Role-Playing\", \"Shooter\", \"Simulation\", \"Sports\", \"Strategy\"], \"ids\": [\"Action\", \"Adventure\", \"Fighting\", \"Misc\", \"Platform\", \"Puzzle\", \"Racing\", \"Role-Playing\", \"Shooter\", \"Simulation\", \"Sports\", \"Strategy\"], \"legendgroup\": \"PS\", \"marker\": {\"color\": \"#19d3f3\", \"size\": [136, 136, 136, 136, 136, 136, 136, 136, 136, 136, 136, 136], \"sizemode\": \"area\", \"sizeref\": 0.42, \"symbol\": \"circle\"}, \"mode\": \"markers\", \"name\": \"PS\", \"orientation\": \"v\", \"showlegend\": true, \"x\": [30, 6, 11, 10, 13, 5, 40, 17, 14, 6, 39, 13], \"xaxis\": \"x\", \"y\": [136, 136, 136, 136, 136, 136, 136, 136, 136, 136, 136, 136], \"yaxis\": \"y\", \"type\": \"scatter\"}, {\"hovertemplate\": \"<b>%{hovertext}</b><br><br>Platform=N64<br>Year=1999<br>Games per Genre=%{x}<br>Games per Platform=%{marker.size}<extra></extra>\", \"hovertext\": [\"Action\", \"Adventure\", \"Fighting\", \"Misc\", \"Platform\", \"Puzzle\", \"Racing\", \"Role-Playing\", \"Shooter\", \"Simulation\", \"Sports\", \"Strategy\"], \"ids\": [\"Action\", \"Adventure\", \"Fighting\", \"Misc\", \"Platform\", \"Puzzle\", \"Racing\", \"Role-Playing\", \"Shooter\", \"Simulation\", \"Sports\", \"Strategy\"], \"legendgroup\": \"N64\", \"marker\": {\"color\": \"#B6E880\", \"size\": [68, 68, 68, 68, 68, 68, 68, 68, 68, 68, 68, 68], \"sizemode\": \"area\", \"sizeref\": 0.42, \"symbol\": \"circle\"}, \"mode\": \"markers\", \"name\": \"N64\", \"orientation\": \"v\", \"showlegend\": true, \"x\": [30, 6, 11, 10, 13, 5, 40, 17, 14, 6, 39, 13], \"xaxis\": \"x\", \"y\": [68, 68, 68, 68, 68, 68, 68, 68, 68, 68, 68, 68], \"yaxis\": \"y\", \"type\": \"scatter\"}], \"name\": \"1999\"}, {\"data\": [{\"hovertemplate\": \"<b>%{hovertext}</b><br><br>Platform=PS<br>Year=2000<br>Games per Genre=%{x}<br>Games per Platform=%{marker.size}<extra></extra>\", \"hovertext\": [\"Action\", \"Adventure\", \"Fighting\", \"Misc\", \"Platform\", \"Puzzle\", \"Racing\", \"Role-Playing\", \"Shooter\", \"Simulation\", \"Sports\", \"Strategy\"], \"ids\": [\"Action\", \"Adventure\", \"Fighting\", \"Misc\", \"Platform\", \"Puzzle\", \"Racing\", \"Role-Playing\", \"Shooter\", \"Simulation\", \"Sports\", \"Strategy\"], \"legendgroup\": \"PS\", \"marker\": {\"color\": \"#19d3f3\", \"size\": [117, 117, 117, 117, 117, 117, 117, 117, 117, 117, 117, 117], \"sizemode\": \"area\", \"sizeref\": 0.42, \"symbol\": \"circle\"}, \"mode\": \"markers\", \"name\": \"PS\", \"orientation\": \"v\", \"showlegend\": true, \"x\": [27, 6, 13, 7, 12, 4, 28, 5, 11, 4, 36, 1], \"xaxis\": \"x\", \"y\": [117, 117, 117, 117, 117, 117, 117, 117, 117, 117, 117, 117], \"yaxis\": \"y\", \"type\": \"scatter\"}, {\"hovertemplate\": \"<b>%{hovertext}</b><br><br>Platform=N64<br>Year=2000<br>Games per Genre=%{x}<br>Games per Platform=%{marker.size}<extra></extra>\", \"hovertext\": [\"Action\", \"Adventure\", \"Fighting\", \"Misc\", \"Platform\", \"Puzzle\", \"Racing\", \"Role-Playing\", \"Shooter\", \"Simulation\", \"Sports\", \"Strategy\"], \"ids\": [\"Action\", \"Adventure\", \"Fighting\", \"Misc\", \"Platform\", \"Puzzle\", \"Racing\", \"Role-Playing\", \"Shooter\", \"Simulation\", \"Sports\", \"Strategy\"], \"legendgroup\": \"N64\", \"marker\": {\"color\": \"#B6E880\", \"size\": [37, 37, 37, 37, 37, 37, 37, 37, 37, 37, 37, 37], \"sizemode\": \"area\", \"sizeref\": 0.42, \"symbol\": \"circle\"}, \"mode\": \"markers\", \"name\": \"N64\", \"orientation\": \"v\", \"showlegend\": true, \"x\": [27, 6, 13, 7, 12, 4, 28, 5, 11, 4, 36, 1], \"xaxis\": \"x\", \"y\": [37, 37, 37, 37, 37, 37, 37, 37, 37, 37, 37, 37], \"yaxis\": \"y\", \"type\": \"scatter\"}], \"name\": \"2000\"}, {\"data\": [{\"hovertemplate\": \"<b>%{hovertext}</b><br><br>Platform=PS<br>Year=2001<br>Games per Genre=%{x}<br>Games per Platform=%{marker.size}<extra></extra>\", \"hovertext\": [\"Action\", \"Adventure\", \"Fighting\", \"Misc\", \"Platform\", \"Puzzle\", \"Racing\", \"Role-Playing\", \"Shooter\", \"Sports\", \"Strategy\"], \"ids\": [\"Action\", \"Adventure\", \"Fighting\", \"Misc\", \"Platform\", \"Puzzle\", \"Racing\", \"Role-Playing\", \"Shooter\", \"Sports\", \"Strategy\"], \"legendgroup\": \"PS\", \"marker\": {\"color\": \"#19d3f3\", \"size\": [63, 63, 63, 63, 63, 63, 63, 63, 63, 63, 63], \"sizemode\": \"area\", \"sizeref\": 0.42, \"symbol\": \"circle\"}, \"mode\": \"markers\", \"name\": \"PS\", \"orientation\": \"v\", \"showlegend\": true, \"x\": [16, 5, 2, 1, 3, 3, 8, 3, 7, 18, 1], \"xaxis\": \"x\", \"y\": [63, 63, 63, 63, 63, 63, 63, 63, 63, 63, 63], \"yaxis\": \"y\", \"type\": \"scatter\"}, {\"hovertemplate\": \"<b>%{hovertext}</b><br><br>Platform=N64<br>Year=2001<br>Games per Genre=%{x}<br>Games per Platform=%{marker.size}<extra></extra>\", \"hovertext\": [\"Action\", \"Adventure\", \"Fighting\", \"Misc\", \"Platform\", \"Puzzle\", \"Racing\", \"Role-Playing\", \"Shooter\", \"Sports\", \"Strategy\"], \"ids\": [\"Action\", \"Adventure\", \"Fighting\", \"Misc\", \"Platform\", \"Puzzle\", \"Racing\", \"Role-Playing\", \"Shooter\", \"Sports\", \"Strategy\"], \"legendgroup\": \"N64\", \"marker\": {\"color\": \"#B6E880\", \"size\": [4, 4, 4, 4, 4, 4, 4, 4, 4, 4, 4], \"sizemode\": \"area\", \"sizeref\": 0.42, \"symbol\": \"circle\"}, \"mode\": \"markers\", \"name\": \"N64\", \"orientation\": \"v\", \"showlegend\": true, \"x\": [16, 5, 2, 1, 3, 3, 8, 3, 7, 18, 1], \"xaxis\": \"x\", \"y\": [4, 4, 4, 4, 4, 4, 4, 4, 4, 4, 4], \"yaxis\": \"y\", \"type\": \"scatter\"}], \"name\": \"2001\"}, {\"data\": [{\"hovertemplate\": \"<b>%{hovertext}</b><br><br>Platform=PS<br>Year=2002<br>Games per Genre=%{x}<br>Games per Platform=%{marker.size}<extra></extra>\", \"hovertext\": [\"Action\", \"Fighting\", \"Racing\", \"Shooter\", \"Sports\"], \"ids\": [\"Action\", \"Fighting\", \"Racing\", \"Shooter\", \"Sports\"], \"legendgroup\": \"PS\", \"marker\": {\"color\": \"#19d3f3\", \"size\": [5, 5, 5, 5, 5], \"sizemode\": \"area\", \"sizeref\": 0.42, \"symbol\": \"circle\"}, \"mode\": \"markers\", \"name\": \"PS\", \"orientation\": \"v\", \"showlegend\": true, \"x\": [2, 1, 1, 1, 1], \"xaxis\": \"x\", \"y\": [5, 5, 5, 5, 5], \"yaxis\": \"y\", \"type\": \"scatter\"}, {\"hovertemplate\": \"<b>%{hovertext}</b><br><br>Platform=N64<br>Year=2002<br>Games per Genre=%{x}<br>Games per Platform=%{marker.size}<extra></extra>\", \"hovertext\": [\"Action\", \"Fighting\", \"Racing\", \"Shooter\", \"Sports\"], \"ids\": [\"Action\", \"Fighting\", \"Racing\", \"Shooter\", \"Sports\"], \"legendgroup\": \"N64\", \"marker\": {\"color\": \"#B6E880\", \"size\": [1, 1, 1, 1, 1], \"sizemode\": \"area\", \"sizeref\": 0.42, \"symbol\": \"circle\"}, \"mode\": \"markers\", \"name\": \"N64\", \"orientation\": \"v\", \"showlegend\": true, \"x\": [2, 1, 1, 1, 1], \"xaxis\": \"x\", \"y\": [1, 1, 1, 1, 1], \"yaxis\": \"y\", \"type\": \"scatter\"}], \"name\": \"2002\"}, {\"data\": [{\"hovertemplate\": \"<b>%{hovertext}</b><br><br>Platform=SNES<br>Year=1995<br>Games per Genre=%{x}<br>Games per Platform=%{marker.size}<extra></extra>\", \"hovertext\": [\"Action\", \"Adventure\", \"Fighting\", \"Misc\", \"Platform\", \"Puzzle\", \"Racing\", \"Role-Playing\", \"Shooter\", \"Simulation\", \"Sports\", \"Strategy\"], \"ids\": [\"Action\", \"Adventure\", \"Fighting\", \"Misc\", \"Platform\", \"Puzzle\", \"Racing\", \"Role-Playing\", \"Shooter\", \"Simulation\", \"Sports\", \"Strategy\"], \"legendgroup\": \"SNES\", \"marker\": {\"color\": \"#ab63fa\", \"size\": [6, 6, 6, 6, 6, 6, 6, 6, 6, 6, 6, 6], \"sizemode\": \"area\", \"sizeref\": 0.42, \"symbol\": \"circle\"}, \"mode\": \"markers\", \"name\": \"SNES\", \"orientation\": \"v\", \"showlegend\": true, \"x\": [5, 2, 14, 2, 6, 4, 9, 6, 15, 8, 9, 4], \"xaxis\": \"x\", \"y\": [6, 6, 6, 6, 6, 6, 6, 6, 6, 6, 6, 6], \"yaxis\": \"y\", \"type\": \"scatter\"}, {\"hovertemplate\": \"<b>%{hovertext}</b><br><br>Platform=PS<br>Year=1995<br>Games per Genre=%{x}<br>Games per Platform=%{marker.size}<extra></extra>\", \"hovertext\": [\"Action\", \"Adventure\", \"Fighting\", \"Misc\", \"Platform\", \"Puzzle\", \"Racing\", \"Role-Playing\", \"Shooter\", \"Simulation\", \"Sports\", \"Strategy\"], \"ids\": [\"Action\", \"Adventure\", \"Fighting\", \"Misc\", \"Platform\", \"Puzzle\", \"Racing\", \"Role-Playing\", \"Shooter\", \"Simulation\", \"Sports\", \"Strategy\"], \"legendgroup\": \"PS\", \"marker\": {\"color\": \"#19d3f3\", \"size\": [59, 59, 59, 59, 59, 59, 59, 59, 59, 59, 59, 59], \"sizemode\": \"area\", \"sizeref\": 0.42, \"symbol\": \"circle\"}, \"mode\": \"markers\", \"name\": \"PS\", \"orientation\": \"v\", \"showlegend\": true, \"x\": [5, 2, 14, 2, 6, 4, 9, 6, 15, 8, 9, 4], \"xaxis\": \"x\", \"y\": [59, 59, 59, 59, 59, 59, 59, 59, 59, 59, 59, 59], \"yaxis\": \"y\", \"type\": \"scatter\"}, {\"hovertemplate\": \"<b>%{hovertext}</b><br><br>Platform=SAT<br>Year=1995<br>Games per Genre=%{x}<br>Games per Platform=%{marker.size}<extra></extra>\", \"hovertext\": [\"Action\", \"Adventure\", \"Fighting\", \"Misc\", \"Platform\", \"Puzzle\", \"Racing\", \"Role-Playing\", \"Shooter\", \"Simulation\", \"Sports\", \"Strategy\"], \"ids\": [\"Action\", \"Adventure\", \"Fighting\", \"Misc\", \"Platform\", \"Puzzle\", \"Racing\", \"Role-Playing\", \"Shooter\", \"Simulation\", \"Sports\", \"Strategy\"], \"legendgroup\": \"SAT\", \"marker\": {\"color\": \"#FF6692\", \"size\": [19, 19, 19, 19, 19, 19, 19, 19, 19, 19, 19, 19], \"sizemode\": \"area\", \"sizeref\": 0.42, \"symbol\": \"circle\"}, \"mode\": \"markers\", \"name\": \"SAT\", \"orientation\": \"v\", \"showlegend\": true, \"x\": [5, 2, 14, 2, 6, 4, 9, 6, 15, 8, 9, 4], \"xaxis\": \"x\", \"y\": [19, 19, 19, 19, 19, 19, 19, 19, 19, 19, 19, 19], \"yaxis\": \"y\", \"type\": \"scatter\"}], \"name\": \"1995\"}, {\"data\": [{\"hovertemplate\": \"<b>%{hovertext}</b><br><br>Platform=PS<br>Year=2003<br>Games per Genre=%{x}<br>Games per Platform=%{marker.size}<extra></extra>\", \"hovertext\": [\"Sports\"], \"ids\": [\"Sports\"], \"legendgroup\": \"PS\", \"marker\": {\"color\": \"#19d3f3\", \"size\": [1], \"sizemode\": \"area\", \"sizeref\": 0.42, \"symbol\": \"circle\"}, \"mode\": \"markers\", \"name\": \"PS\", \"orientation\": \"v\", \"showlegend\": true, \"x\": [1], \"xaxis\": \"x\", \"y\": [1], \"yaxis\": \"y\", \"type\": \"scatter\"}], \"name\": \"2003\"}]);\n",
       "                        }).then(function(){\n",
       "                            \n",
       "var gd = document.getElementById('46883a33-4e54-440a-9f48-b0dbca40322f');\n",
>>>>>>> 5e83b6f9bae3316a5a9c1bda94c007904063e79b
       "var x = new MutationObserver(function (mutations, observer) {{\n",
       "        var display = window.getComputedStyle(gd).display;\n",
       "        if (!display || display === 'none') {{\n",
       "            console.log([gd, 'removed!']);\n",
       "            Plotly.purge(gd);\n",
       "            observer.disconnect();\n",
       "        }}\n",
       "}});\n",
       "\n",
       "// Listen for the removal of the full notebook cells\n",
       "var notebookContainer = gd.closest('#notebook-container');\n",
       "if (notebookContainer) {{\n",
       "    x.observe(notebookContainer, {childList: true});\n",
       "}}\n",
       "\n",
       "// Listen for the clearing of the current output cell\n",
       "var outputEl = gd.closest('.output');\n",
       "if (outputEl) {{\n",
       "    x.observe(outputEl, {childList: true});\n",
       "}}\n",
       "\n",
       "                        })                };                });            </script>        </div>"
      ]
     },
     "metadata": {},
     "output_type": "display_data"
    }
   ],
   "source": [
<<<<<<< HEAD
    "figure = px.scatter(genre_platform, x = \"Number of Genres\", y = \"Games per Platform\", \n",
=======
    "figure = px.scatter(genre_platform, x = \"Games per Genre\", y = \"Games per Platform\", \n",
>>>>>>> 5e83b6f9bae3316a5a9c1bda94c007904063e79b
    "                    animation_frame= \"Year\", animation_group = \"Genre\",\n",
    "                    hover_name=\"Genre\", color = \"Platform\",\n",
    "                    size = \"Games per Platform\",\n",
    "                    range_x=[1,60], range_y=[1,200])\n",
    "\n",
    "figure.layout.updatemenus[0].buttons[0].args[1][\"frame\"][\"duration\"] = 1000\n",
    "figure.show()"
   ]
  },
  {
   "cell_type": "code",
<<<<<<< HEAD
   "execution_count": null,
   "metadata": {},
   "outputs": [],
   "source": []
=======
   "execution_count": 30,
   "metadata": {},
   "outputs": [],
   "source": [
    "# Site where the bubble animation came from\n",
    "# https://medium.com/python-in-plain-english/animated-bubble-chart-with-plotly-in-python-inspired-by-professor-hans-rosling-b7262298dd03"
   ]
>>>>>>> 5e83b6f9bae3316a5a9c1bda94c007904063e79b
  },
  {
   "cell_type": "code",
   "execution_count": null,
   "metadata": {},
   "outputs": [],
   "source": []
  }
 ],
 "metadata": {
  "kernelspec": {
   "display_name": "Python 3",
   "language": "python",
   "name": "python3"
  },
  "language_info": {
   "codemirror_mode": {
    "name": "ipython",
    "version": 3
   },
   "file_extension": ".py",
   "mimetype": "text/x-python",
   "name": "python",
   "nbconvert_exporter": "python",
   "pygments_lexer": "ipython3",
   "version": "3.7.9"
  }
 },
 "nbformat": 4,
 "nbformat_minor": 4
}
