{
 "cells": [
  {
   "cell_type": "code",
   "execution_count": 1,
   "metadata": {},
   "outputs": [],
   "source": [
    "# Dependencies\n",
    "import pandas as pd\n",
    "from bs4 import BeautifulSoup as bs\n",
    "import requests\n",
    "import numpy as np\n",
    "import scipy.stats as st\n",
    "import pymongo\n",
    "\n",
    "# URLs to scrape\n",
    "base_url = \"https://gamevaluenow.com/\"\n",
    "console = [\"atari-2600\",\n",
    "            \"nintendo-nes\",\n",
    "            \"sega-genesis\",\n",
    "            \"super-nintendo\",\n",
    "            \"nintendo-64\",\n",
    "            \"sega-cd\",\n",
    "            \"sega-saturn\",\n",
    "            \"playstation-1-ps1\"]\n",
    "console_col = [\"2600\",\n",
    "                \"NES\",\n",
    "                \"GEN\",\n",
    "                \"SNES\",\n",
    "                \"N64\",\n",
    "                \"SCD\",\n",
    "                \"SAT\",\n",
    "                \"PS\"]\n",
    "\n",
    "# Put the all the console complete prices data in a list\n",
    "complete_list = []\n",
    "\n",
    "for name in range(len(console)):\n",
    "    all_prices = []\n",
    "    \n",
    "    # Retrieve page with the requests module\n",
    "    response = requests.get(base_url + console[name])\n",
    "    # Create a Beautiful Soup object\n",
    "    soup = bs(response.text, 'html.parser')\n",
    "    \n",
    "    prices_table = soup.find(\"table\")\n",
    "    prices_data = prices_table.find_all(\"tr\")\n",
    "    \n",
    "    # Get all the price data\n",
    "    for item in range(len(prices_data)):\n",
    "        for td in prices_data[item].find_all(\"td\"):\n",
    "            # Remove all the markup from the text\n",
    "            all_prices.append(td.text.strip())\n",
    "        \n",
    "        all_prices.append(console_col[name])\n",
    "        # Make a list of the item names from every fifth index eg 1,6,10 et\n",
    "        game_title = all_prices[1::5]             \n",
    "        # Make a list of the complete price from starting at the fourth index\n",
    "        price_complete = all_prices[3::5]\n",
    "        # Make a list of the console types from every fifth index eg 0,5,9 etc\n",
    "        console_name = all_prices[5::5] \n",
    "        # Make the lists in to a datframe\n",
    "        game_prices_df = pd.DataFrame({'Console' : console_name, 'Game Title' : game_title, 'Price' : price_complete})\n",
    "    \n",
    "    # Create a list of data frames\n",
    "    complete_list.append(game_prices_df)\n",
    "    \n",
    "# Concatenate the list of data frames in to one\n",
    "game_price_list = pd.concat(complete_list)\n",
    "game_price_list['Price'] = game_price_list['Price'].str.replace(',','')\n",
    "game_price_list['Price'] = game_price_list['Price'].astype(float)\n"
   ]
  },
  {
   "cell_type": "code",
   "execution_count": 2,
   "metadata": {},
   "outputs": [],
   "source": [
    "# Export data to CSV\n",
    "# game_price_list.to_csv(\"data/all_console_prices.csv\")"
   ]
  },
  {
   "cell_type": "code",
   "execution_count": 3,
   "metadata": {},
   "outputs": [],
   "source": [
    "# Read in game sales data\n",
    "games_data = pd.read_csv(\"../data/vgsales.csv\", encoding='utf-8')\n",
    "# Remove extra platforms\n",
    "games_clean = (games_data[(games_data['Platform'] == '2600') | (games_data['Platform'] == 'NES')\n",
    "                                     | (games_data['Platform'] == 'GEN') | (games_data['Platform'] == 'SNES')\n",
    "                                     | (games_data['Platform'] == 'N64') | (games_data['Platform'] == 'SCD')\n",
    "                                     | (games_data['Platform'] == 'SAT') | (games_data['Platform'] == 'PS')]).reset_index(drop=True)\n",
    "# Remove Rank column and drop blank years\n",
    "games_clean_df = games_clean[['Name', 'Platform', 'Year', 'Genre', 'Publisher', 'NA_Sales', 'EU_Sales', 'JP_Sales', 'Other_Sales', 'Global_Sales']].sort_values(by=['Platform', 'Name']).reset_index(drop=True)\n",
    "games_clean_df['Year'].replace('', np.nan)\n",
    "games_clean_df = games_clean_df.dropna()\n",
    "games_clean_df['Year'] = games_clean_df['Year'].astype(int)\n",
    "# Convert sales to currency\n",
    "games_clean_df['NA_Sales']  = games_clean_df['NA_Sales'] .multiply(1000000).astype(int).replace(0, np.NaN)\n",
    "games_clean_df['EU_Sales']  = games_clean_df['EU_Sales'] .multiply(1000000).astype(int).replace(0, np.NaN)\n",
    "games_clean_df['JP_Sales']  = games_clean_df['JP_Sales'] .multiply(1000000).astype(int).replace(0, np.NaN)\n",
    "games_clean_df['Other_Sales']  = games_clean_df['Other_Sales'] .multiply(1000000).astype(int).replace(0, np.NaN)\n",
    "games_clean_df['Global_Sales']  = games_clean_df['Global_Sales'] .multiply(1000000).astype(int).replace(0, np.NaN)\n",
    "# Make game names uppercase and remove punctuation\n",
    "games_clean_df['Name'] = games_clean_df['Name'].str.upper() \n",
    "games_clean_df['Name'] = games_clean_df['Name'].str.replace(r'[^\\w\\s]+', '')\n",
    "# Grab list of Genres, Years?, Publishers? for filters"
   ]
  },
  {
   "cell_type": "code",
   "execution_count": 14,
   "metadata": {},
   "outputs": [
    {
     "data": {
      "text/plain": [
       "['Action',\n",
       " 'Shooter',\n",
       " 'Racing',\n",
       " 'Fighting',\n",
       " 'Misc',\n",
       " 'Puzzle',\n",
       " 'Sports',\n",
       " 'Platform',\n",
       " 'Simulation',\n",
       " 'Role-Playing',\n",
       " 'Adventure',\n",
       " 'Strategy']"
      ]
     },
     "execution_count": 14,
     "metadata": {},
     "output_type": "execute_result"
    }
   ],
   "source": [
    "# Sort prices dataframe\n",
    "price_data_df = game_price_list[['Console', 'Game Title', 'Price']].sort_values(by=['Console', 'Game Title']).reset_index(drop=True)\n",
    "# Make game names uppercase and remove punctuation\n",
    "price_data_df['Game Title'] = price_data_df['Game Title'].str.upper() \n",
    "price_data_df['Game Title'] = price_data_df['Game Title'].str.replace(r'[^\\w\\s]+', '')\n",
    "# Remove null prices\n",
    "price_data_df.drop(price_data_df[price_data_df['Price'] == 0].index, inplace = True)\n",
    "# Calculate quartiles and remove outliers\n",
    "quartiles = price_data_df['Price'].quantile([.25,.5,.75])\n",
    "lowerq = quartiles[0.25]\n",
    "upperq = quartiles[0.75]\n",
    "iqr = upperq-lowerq\n",
    "lower_bound = lowerq - (1.5*iqr)\n",
    "upper_bound = upperq + (1.5*iqr)\n",
    "price_data_df.drop(price_data_df[price_data_df['Price'] < lower_bound].index, inplace = True) \n",
    "price_data_df.drop(price_data_df[price_data_df['Price'] > upper_bound].index, inplace = True)\n",
    "# Find average, and median price and add binary columns\n",
    "mean = price_data_df[[\"Price\"]].mean()\n",
    "median = price_data_df[[\"Price\"]].median()\n",
    "price_data_df['Mean'] = np.where(price_data_df[['Price']] > mean, True, False)\n",
    "price_data_df['Median'] = np.where(price_data_df[['Price']] > median, True, False)\n",
    "# Merge data\n",
    "merged_df = pd.merge(games_clean_df, price_data_df,  how='inner', left_on=['Name','Platform'], right_on = ['Game Title','Console'])\n",
    "merged_df = merged_df.fillna(0)\n",
    "merged_df = merged_df.drop(columns=[\"Console\",\"Game Title\"])\n",
    "# Export data to csv\n",
    "# merged_df.to_csv(r'..\\data\\merged_games_df.csv', encoding='utf-8', index=False)\n",
    "# Combine into single dict for push to MongoDB\n",
    "# vgpredict_data = {merged_df}\n",
    "wip_dict = merged_df.to_dict(\"records\")\n",
    "genres = merged_df[\"Genre\"].unique()\n",
    "vgpredict_data = {}\n",
    "vgpredict_data[\"vg_data\"] = (wip_dict)\n",
    "genres_obj = merged_df[\"Genre\"].unique()\n",
    "genres = []\n",
    "for i in genres_obj:\n",
    "    genres.append(i)\n",
    "genres"
   ]
  },
  {
   "cell_type": "code",
   "execution_count": 30,
   "metadata": {},
   "outputs": [
    {
     "data": {
      "text/plain": [
       "<pymongo.results.InsertOneResult at 0x1f0640ef248>"
      ]
     },
     "execution_count": 30,
     "metadata": {},
     "output_type": "execute_result"
    }
   ],
   "source": [
    "# Push merged dataframe to MongoDB\n",
    "conn = \"mongodb://localhost:27017\"\n",
    "client = pymongo.MongoClient(conn)\n",
    "db = client.vgpredict\n",
    "vg_data = db.vg_data\n",
    "vg_data.drop()\n",
    "vg_data.insert_one(vgpredict_data)"
   ]
  },
  {
   "cell_type": "code",
   "execution_count": null,
   "metadata": {},
   "outputs": [],
   "source": []
  }
 ],
 "metadata": {
  "kernelspec": {
   "display_name": "Python 3",
   "language": "python",
   "name": "python3"
  },
  "language_info": {
   "codemirror_mode": {
    "name": "ipython",
    "version": 3
   },
   "file_extension": ".py",
   "mimetype": "text/x-python",
   "name": "python",
   "nbconvert_exporter": "python",
   "pygments_lexer": "ipython3",
   "version": "3.7.9"
  }
 },
 "nbformat": 4,
 "nbformat_minor": 4
}
