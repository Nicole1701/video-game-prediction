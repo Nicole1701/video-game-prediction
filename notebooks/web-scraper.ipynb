{
 "cells": [
  {
   "cell_type": "markdown",
   "metadata": {},
   "source": [
    "# Web-scraping for Video Game Prices"
   ]
  },
  {
   "cell_type": "code",
   "execution_count": 1,
   "metadata": {},
   "outputs": [],
   "source": [
    "# Dependancies\n",
    "import pandas as pd\n",
    "import lxml.html as lh\n",
    "from bs4 import BeautifulSoup as bs\n",
    "import requests"
   ]
  },
  {
   "cell_type": "code",
   "execution_count": 2,
   "metadata": {
    "scrolled": false
   },
   "outputs": [],
   "source": [
    "# URLs to scrape\n",
    "base_url = \"https://gamevaluenow.com/\"\n",
    "console = [\"atari-2600\",\n",
    "            \"nintendo-nes\",\n",
    "            \"sega-genesis\",\n",
    "            \"super-nintendo\",\n",
    "            \"nintendo-64\",\n",
    "            \"sega-cd\",\n",
    "            \"sega-saturn\",\n",
    "            \"playstation-1-ps1\"]\n",
    "console_col = [\"2600\",\n",
    "                \"NES\",\n",
    "                \"GEN\",\n",
    "                \"SNES\",\n",
    "                \"N64\",\n",
    "                \"SCD\",\n",
    "                \"SAT\",\n",
    "                \"PS\"]"
   ]
  },
  {
   "cell_type": "code",
   "execution_count": 3,
   "metadata": {
    "scrolled": true
   },
   "outputs": [],
   "source": [
    "# Put the all the console complete prices data in a list\n",
    "complete_list = []\n",
    "\n",
    "for name in range(len(console)):\n",
    "    all_prices = []\n",
    "    \n",
    "    # Retrieve page with the requests module\n",
    "    response = requests.get(base_url + console[name])\n",
    "    # Create a Beautiful Soup object\n",
    "    soup = bs(response.text, 'html.parser')\n",
    "    \n",
    "    prices_table = soup.find(\"table\")\n",
    "    prices_data = prices_table.find_all(\"tr\")\n",
    "    \n",
    "    # Get all the price data\n",
    "    for item in range(len(prices_data)):\n",
    "        for td in prices_data[item].find_all(\"td\"):\n",
    "            # Remove all the markup from the text\n",
    "            all_prices.append(td.text.strip())\n",
    "        \n",
    "        all_prices.append(console_col[name])\n",
    "        # Make a list of the item names from every fifth index eg 1,6,10 et\n",
    "        game_title = all_prices[1::5]             \n",
    "        # Make a list of the complete price from starting at the fourth index\n",
    "        price_complete = all_prices[3::5]\n",
    "        # Make a list of the console types from every fifth index eg 0,5,9 etc\n",
    "        console_name = all_prices[5::5] \n",
    "        # Make the lists in to a datframe\n",
    "        game_prices_df = pd.DataFrame({'Console' : console_name, 'Game Title' : game_title, 'Price' : price_complete})\n",
    "    \n",
    "    # Create a list of data frames\n",
    "    complete_list.append(game_prices_df)"
   ]
  },
  {
   "cell_type": "code",
   "execution_count": 4,
   "metadata": {},
   "outputs": [
    {
     "data": {
      "text/html": [
       "<div>\n",
       "<style scoped>\n",
       "    .dataframe tbody tr th:only-of-type {\n",
       "        vertical-align: middle;\n",
       "    }\n",
       "\n",
       "    .dataframe tbody tr th {\n",
       "        vertical-align: top;\n",
       "    }\n",
       "\n",
       "    .dataframe thead th {\n",
       "        text-align: right;\n",
       "    }\n",
       "</style>\n",
       "<table border=\"1\" class=\"dataframe\">\n",
       "  <thead>\n",
       "    <tr style=\"text-align: right;\">\n",
       "      <th></th>\n",
       "      <th>Console</th>\n",
       "      <th>Game Title</th>\n",
       "      <th>Price</th>\n",
       "    </tr>\n",
       "  </thead>\n",
       "  <tbody>\n",
       "    <tr>\n",
       "      <th>0</th>\n",
       "      <td>PS</td>\n",
       "      <td>007 Racing</td>\n",
       "      <td>7.15</td>\n",
       "    </tr>\n",
       "    <tr>\n",
       "      <th>1</th>\n",
       "      <td>PS</td>\n",
       "      <td>007 Racing [Collector's Edition]</td>\n",
       "      <td>2.86</td>\n",
       "    </tr>\n",
       "    <tr>\n",
       "      <th>2</th>\n",
       "      <td>PS</td>\n",
       "      <td>007: The World Is Not Enough</td>\n",
       "      <td>11.09</td>\n",
       "    </tr>\n",
       "    <tr>\n",
       "      <th>3</th>\n",
       "      <td>PS</td>\n",
       "      <td>007: The World Is Not Enough [Greatest Hits]</td>\n",
       "      <td>6.68</td>\n",
       "    </tr>\n",
       "    <tr>\n",
       "      <th>4</th>\n",
       "      <td>PS</td>\n",
       "      <td>007: Tomorrow Never Dies</td>\n",
       "      <td>11.63</td>\n",
       "    </tr>\n",
       "    <tr>\n",
       "      <th>...</th>\n",
       "      <td>...</td>\n",
       "      <td>...</td>\n",
       "      <td>...</td>\n",
       "    </tr>\n",
       "    <tr>\n",
       "      <th>1552</th>\n",
       "      <td>PS</td>\n",
       "      <td>You Don't Know Jack: Mock 2</td>\n",
       "      <td>5.24</td>\n",
       "    </tr>\n",
       "    <tr>\n",
       "      <th>1553</th>\n",
       "      <td>PS</td>\n",
       "      <td>Yu-Gi-Oh! Forbidden Memories</td>\n",
       "      <td>15.19</td>\n",
       "    </tr>\n",
       "    <tr>\n",
       "      <th>1554</th>\n",
       "      <td>PS</td>\n",
       "      <td>Zero Divide</td>\n",
       "      <td>24.64</td>\n",
       "    </tr>\n",
       "    <tr>\n",
       "      <th>1555</th>\n",
       "      <td>PS</td>\n",
       "      <td>Zoboomafoo</td>\n",
       "      <td>3.71</td>\n",
       "    </tr>\n",
       "    <tr>\n",
       "      <th>1556</th>\n",
       "      <td>PS</td>\n",
       "      <td>Zoop</td>\n",
       "      <td>18.80</td>\n",
       "    </tr>\n",
       "  </tbody>\n",
       "</table>\n",
       "<p>1557 rows × 3 columns</p>\n",
       "</div>"
      ],
      "text/plain": [
       "     Console                                    Game Title  Price\n",
       "0         PS                                    007 Racing   7.15\n",
       "1         PS              007 Racing [Collector's Edition]   2.86\n",
       "2         PS                  007: The World Is Not Enough  11.09\n",
       "3         PS  007: The World Is Not Enough [Greatest Hits]   6.68\n",
       "4         PS                      007: Tomorrow Never Dies  11.63\n",
       "...      ...                                           ...    ...\n",
       "1552      PS                   You Don't Know Jack: Mock 2   5.24\n",
       "1553      PS                  Yu-Gi-Oh! Forbidden Memories  15.19\n",
       "1554      PS                                   Zero Divide  24.64\n",
       "1555      PS                                    Zoboomafoo   3.71\n",
       "1556      PS                                          Zoop  18.80\n",
       "\n",
       "[1557 rows x 3 columns]"
      ]
     },
     "execution_count": 4,
     "metadata": {},
     "output_type": "execute_result"
    }
   ],
   "source": [
    "game_prices_df"
   ]
  },
  {
   "cell_type": "code",
   "execution_count": 5,
   "metadata": {
    "scrolled": false
   },
   "outputs": [],
   "source": [
    "# Concatinate the list of data frames in to one\n",
    "game_price_list = pd.concat(complete_list)"
   ]
  },
  {
   "cell_type": "code",
   "execution_count": 6,
   "metadata": {
    "scrolled": false
   },
   "outputs": [
    {
     "data": {
      "text/html": [
       "<div>\n",
       "<style scoped>\n",
       "    .dataframe tbody tr th:only-of-type {\n",
       "        vertical-align: middle;\n",
       "    }\n",
       "\n",
       "    .dataframe tbody tr th {\n",
       "        vertical-align: top;\n",
       "    }\n",
       "\n",
       "    .dataframe thead th {\n",
       "        text-align: right;\n",
       "    }\n",
       "</style>\n",
       "<table border=\"1\" class=\"dataframe\">\n",
       "  <thead>\n",
       "    <tr style=\"text-align: right;\">\n",
       "      <th></th>\n",
       "      <th>Console</th>\n",
       "      <th>Game Title</th>\n",
       "      <th>Price</th>\n",
       "    </tr>\n",
       "  </thead>\n",
       "  <tbody>\n",
       "    <tr>\n",
       "      <th>0</th>\n",
       "      <td>2600</td>\n",
       "      <td>3-D Tic-Tac-Toe [Atari]</td>\n",
       "      <td>23.31</td>\n",
       "    </tr>\n",
       "    <tr>\n",
       "      <th>1</th>\n",
       "      <td>2600</td>\n",
       "      <td>3-D Tic-Tac-Toe [Sears]</td>\n",
       "      <td>83.88</td>\n",
       "    </tr>\n",
       "    <tr>\n",
       "      <th>2</th>\n",
       "      <td>2600</td>\n",
       "      <td>The Activision Decathlon</td>\n",
       "      <td>23.94</td>\n",
       "    </tr>\n",
       "    <tr>\n",
       "      <th>3</th>\n",
       "      <td>2600</td>\n",
       "      <td>Adventure [Atari]</td>\n",
       "      <td>78.27</td>\n",
       "    </tr>\n",
       "    <tr>\n",
       "      <th>4</th>\n",
       "      <td>2600</td>\n",
       "      <td>Adventure [Sears]</td>\n",
       "      <td>111.35</td>\n",
       "    </tr>\n",
       "    <tr>\n",
       "      <th>...</th>\n",
       "      <td>...</td>\n",
       "      <td>...</td>\n",
       "      <td>...</td>\n",
       "    </tr>\n",
       "    <tr>\n",
       "      <th>1552</th>\n",
       "      <td>PS</td>\n",
       "      <td>You Don't Know Jack: Mock 2</td>\n",
       "      <td>5.24</td>\n",
       "    </tr>\n",
       "    <tr>\n",
       "      <th>1553</th>\n",
       "      <td>PS</td>\n",
       "      <td>Yu-Gi-Oh! Forbidden Memories</td>\n",
       "      <td>15.19</td>\n",
       "    </tr>\n",
       "    <tr>\n",
       "      <th>1554</th>\n",
       "      <td>PS</td>\n",
       "      <td>Zero Divide</td>\n",
       "      <td>24.64</td>\n",
       "    </tr>\n",
       "    <tr>\n",
       "      <th>1555</th>\n",
       "      <td>PS</td>\n",
       "      <td>Zoboomafoo</td>\n",
       "      <td>3.71</td>\n",
       "    </tr>\n",
       "    <tr>\n",
       "      <th>1556</th>\n",
       "      <td>PS</td>\n",
       "      <td>Zoop</td>\n",
       "      <td>18.80</td>\n",
       "    </tr>\n",
       "  </tbody>\n",
       "</table>\n",
       "<p>5411 rows × 3 columns</p>\n",
       "</div>"
      ],
      "text/plain": [
       "     Console                    Game Title   Price\n",
       "0       2600       3-D Tic-Tac-Toe [Atari]   23.31\n",
       "1       2600       3-D Tic-Tac-Toe [Sears]   83.88\n",
       "2       2600      The Activision Decathlon   23.94\n",
       "3       2600             Adventure [Atari]   78.27\n",
       "4       2600             Adventure [Sears]  111.35\n",
       "...      ...                           ...     ...\n",
       "1552      PS   You Don't Know Jack: Mock 2    5.24\n",
       "1553      PS  Yu-Gi-Oh! Forbidden Memories   15.19\n",
       "1554      PS                   Zero Divide   24.64\n",
       "1555      PS                    Zoboomafoo    3.71\n",
       "1556      PS                          Zoop   18.80\n",
       "\n",
       "[5411 rows x 3 columns]"
      ]
     },
     "execution_count": 6,
     "metadata": {},
     "output_type": "execute_result"
    }
   ],
   "source": [
    "game_price_list"
   ]
  },
  {
   "cell_type": "code",
   "execution_count": 154,
   "metadata": {},
   "outputs": [],
   "source": [
    "game_price_list.to_csv(\"data/all_console_prices.csv\")"
   ]
  },
  {
   "cell_type": "markdown",
   "metadata": {},
   "source": [
    "### Use Excel to remove the comma for price values over 1k and bring back in CSV"
   ]
  },
  {
   "cell_type": "code",
   "execution_count": 164,
   "metadata": {},
   "outputs": [],
   "source": [
    "rem_price_commas = pd.read_csv(\"data/all_console_prices.csv\")"
   ]
  },
  {
   "cell_type": "code",
   "execution_count": 165,
   "metadata": {},
   "outputs": [],
   "source": [
    "rem_price_commas[\"Price\"] = rem_price_commas[\"Price\"].astype(float)"
   ]
  },
  {
   "cell_type": "code",
   "execution_count": 166,
   "metadata": {
    "scrolled": false
   },
   "outputs": [
    {
     "data": {
      "text/plain": [
       "Unnamed: 0        int64\n",
       "Unnamed: 0.1      int64\n",
       "Console          object\n",
       "Game Title       object\n",
       "Price           float64\n",
       "dtype: object"
      ]
     },
     "execution_count": 166,
     "metadata": {},
     "output_type": "execute_result"
    }
   ],
   "source": [
    "rem_price_commas.dtypes"
   ]
  },
  {
   "cell_type": "code",
   "execution_count": 167,
   "metadata": {},
   "outputs": [],
   "source": [
    "rem_price_commas.to_csv(\"data/all_console_prices.csv\")"
   ]
  },
  {
   "cell_type": "code",
   "execution_count": null,
   "metadata": {},
   "outputs": [],
   "source": []
  }
 ],
 "metadata": {
  "kernelspec": {
   "display_name": "Python 3",
   "language": "python",
   "name": "python3"
  },
  "language_info": {
   "codemirror_mode": {
    "name": "ipython",
    "version": 3
   },
   "file_extension": ".py",
   "mimetype": "text/x-python",
   "name": "python",
   "nbconvert_exporter": "python",
   "pygments_lexer": "ipython3",
   "version": "3.6.10"
  }
 },
 "nbformat": 4,
 "nbformat_minor": 4
}
